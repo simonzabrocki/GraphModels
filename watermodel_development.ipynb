{
 "cells": [
  {
   "cell_type": "code",
   "execution_count": 1,
   "metadata": {
    "ExecuteTime": {
     "end_time": "2021-03-05T03:59:49.726059Z",
     "start_time": "2021-03-05T03:59:49.182075Z"
    }
   },
   "outputs": [],
   "source": [
    "import pandas as pd\n",
    "from database import select_dataset\n",
    "import numpy as np"
   ]
  },
  {
   "cell_type": "code",
   "execution_count": 2,
   "metadata": {
    "ExecuteTime": {
     "end_time": "2021-03-05T03:59:51.769858Z",
     "start_time": "2021-03-05T03:59:49.729060Z"
    },
    "code_folding": []
   },
   "outputs": [],
   "source": [
    "# FIND WAY TO WRAP THIS CLEANLY CAUSE IT's A MESS !\n",
    "\n",
    "aquastat = select_dataset('aquastat').dropna().drop(columns=['Area'])\n",
    "aquastat = aquastat[~aquastat.ISO.isin(['USA', 'CHN', 'IND', 'RUS'])] # Not parsed !\n",
    "aquastat = aquastat[aquastat.Variable != 'CI']\n",
    "aquastat['Year'] = aquastat['Year'].astype(int)\n",
    "\n",
    "evapotranspiration = select_dataset('evapotranspiration').dropna().drop_duplicates()\n",
    "cropcalendar = select_dataset('cropcalendar').drop(columns=['Year'])\n",
    "efficientwater = select_dataset('efficientwater')\n",
    "wb_data = select_dataset('worldbank')\n",
    "wb_data['Year'] = wb_data['Year'].astype(int)\n",
    "\n",
    "MWU_df = pd.concat([aquastat, evapotranspiration, cropcalendar, efficientwater, wb_data])"
   ]
  },
  {
   "cell_type": "code",
   "execution_count": 3,
   "metadata": {
    "ExecuteTime": {
     "end_time": "2021-03-05T03:59:51.780169Z",
     "start_time": "2021-03-05T03:59:51.775966Z"
    },
    "scrolled": true
   },
   "outputs": [],
   "source": [
    "from graphmodels.utils import df_to_data_dict"
   ]
  },
  {
   "cell_type": "code",
   "execution_count": 4,
   "metadata": {
    "ExecuteTime": {
     "end_time": "2021-03-05T03:59:52.330718Z",
     "start_time": "2021-03-05T03:59:51.782645Z"
    }
   },
   "outputs": [],
   "source": [
    "itemized = ['Kc', 'ICA']\n",
    "data_dict = df_to_data_dict(MWU_df, itemized)\n",
    "data_dict['LWU'] = 0"
   ]
  },
  {
   "cell_type": "markdown",
   "metadata": {},
   "source": [
    "# Model"
   ]
  },
  {
   "cell_type": "code",
   "execution_count": 5,
   "metadata": {
    "ExecuteTime": {
     "end_time": "2021-03-05T03:59:54.215279Z",
     "start_time": "2021-03-05T03:59:52.332709Z"
    }
   },
   "outputs": [],
   "source": [
    "from graphmodels.graphmodel import GraphModel, converte_to_format, concatenate_graph_specs\n",
    "import numpy as np\n",
    "from graphmodels.validation import score_model, plot_diagnostic\n",
    "from models.Sarah.model_EW import EW_models, MWU_model\n",
    "from graphmodels.utils import get_X_y_from_data"
   ]
  },
  {
   "cell_type": "code",
   "execution_count": 6,
   "metadata": {
    "ExecuteTime": {
     "end_time": "2021-03-05T03:59:54.594036Z",
     "start_time": "2021-03-05T03:59:54.217565Z"
    }
   },
   "outputs": [],
   "source": [
    "model = EW_models['IWW_model']\n",
    "X, y = get_X_y_from_data(model, data_dict)\n",
    "res = model.run(X)"
   ]
  },
  {
   "cell_type": "code",
   "execution_count": 7,
   "metadata": {
    "ExecuteTime": {
     "end_time": "2021-03-05T03:59:56.834229Z",
     "start_time": "2021-03-05T03:59:54.598196Z"
    }
   },
   "outputs": [
    {
     "name": "stdout",
     "output_type": "stream",
     "text": [
      "IWW_model : \n",
      "         r2  correlation        rmse Variable\n",
      "0  0.734552     0.859789   31.102888      IWR\n",
      "1  0.036750     0.657641  285.155347      IWW\n",
      "2  0.603102     0.821737  153.740444      AWU\n",
      "EW1_partial_model : \n",
      "         r2  correlation         rmse Variable\n",
      "0  0.987684     0.993828     4.519458      TWW\n",
      "1  0.230513     0.576169  7560.506651      EW1\n",
      "EW2_partial_model : \n",
      "         r2  correlation          rmse Variable\n",
      "0  0.989336     0.995175   4272.565052      TFA\n",
      "1 -0.404156     0.195124  57353.247805      EW2\n",
      "EW1_model : \n"
     ]
    },
    {
     "name": "stderr",
     "output_type": "stream",
     "text": [
      "/home/simon/anaconda3/lib/python3.7/site-packages/pandas/core/arraylike.py:358: RuntimeWarning: divide by zero encountered in log\n",
      "  result = getattr(ufunc, method)(*inputs, **kwargs)\n"
     ]
    },
    {
     "name": "stdout",
     "output_type": "stream",
     "text": [
      "         r2  correlation         rmse Variable\n",
      "0  0.734552     0.859789    31.102888      IWR\n",
      "1  0.036750     0.657641   285.155347      IWW\n",
      "2  0.603102     0.821737   153.740444      AWU\n",
      "3  0.813129     0.904383     1.014062      MWU\n",
      "4  0.708943     0.862557   168.975281      TWW\n",
      "5 -1.071986     0.406579  5172.641189      EW1\n",
      "EW2_model : \n"
     ]
    },
    {
     "name": "stderr",
     "output_type": "stream",
     "text": [
      "/home/simon/anaconda3/lib/python3.7/site-packages/pandas/core/arraylike.py:358: RuntimeWarning: divide by zero encountered in log\n",
      "  result = getattr(ufunc, method)(*inputs, **kwargs)\n"
     ]
    },
    {
     "name": "stdout",
     "output_type": "stream",
     "text": [
      "         r2  correlation          rmse Variable\n",
      "0  0.734552     0.859789     31.102888      IWR\n",
      "1  0.036750     0.657641    285.155347      IWW\n",
      "2  0.603102     0.821737    153.740444      AWU\n",
      "3  0.813129     0.904383      1.014062      MWU\n",
      "4  0.989336     0.995175   4272.565052      TFA\n",
      "5 -0.404156     0.195124  57353.247805      EW2\n"
     ]
    }
   ],
   "source": [
    "for model_name, model in EW_models.items():\n",
    "    print(model_name, ': ')\n",
    "    X, y = get_X_y_from_data(model, data_dict)\n",
    "    res = model.run(X)\n",
    "    print(score_model(model, X, y))"
   ]
  }
 ],
 "metadata": {
  "kernelspec": {
   "display_name": "Python 3",
   "language": "python",
   "name": "python3"
  },
  "language_info": {
   "codemirror_mode": {
    "name": "ipython",
    "version": 3
   },
   "file_extension": ".py",
   "mimetype": "text/x-python",
   "name": "python",
   "nbconvert_exporter": "python",
   "pygments_lexer": "ipython3",
   "version": "3.7.7"
  }
 },
 "nbformat": 4,
 "nbformat_minor": 4
}
