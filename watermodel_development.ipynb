{
 "cells": [
  {
   "cell_type": "code",
   "execution_count": 1,
   "metadata": {
    "ExecuteTime": {
     "end_time": "2021-02-16T07:48:46.858731Z",
     "start_time": "2021-02-16T07:48:46.358714Z"
    }
   },
   "outputs": [],
   "source": [
    "import pandas as pd\n",
    "from database import select_dataset\n",
    "import numpy as np"
   ]
  },
  {
   "cell_type": "code",
   "execution_count": 2,
   "metadata": {
    "ExecuteTime": {
     "end_time": "2021-02-16T07:48:48.556487Z",
     "start_time": "2021-02-16T07:48:46.861100Z"
    }
   },
   "outputs": [],
   "source": [
    "# FIND WAY TO WRAP THIS CLEANLY CAUSE IT's A MESS !\n",
    "\n",
    "aquastat = select_dataset('aquastat').dropna()\n",
    "evapotranspiration = select_dataset('evapotranspiration').dropna().drop_duplicates()\n",
    "cropcalendar = select_dataset('cropcalendar').drop(columns=['Year'])\n",
    "efficientwater = select_dataset('efficientwater')\n",
    "wb_data = select_dataset('worldbank')"
   ]
  },
  {
   "cell_type": "code",
   "execution_count": 3,
   "metadata": {
    "ExecuteTime": {
     "end_time": "2021-02-16T07:48:48.564531Z",
     "start_time": "2021-02-16T07:48:48.558765Z"
    }
   },
   "outputs": [],
   "source": [
    "def pivot(df):\n",
    "    return df.pivot(index=['ISO', 'Year'], columns='Variable', values='Value')\n",
    "\n",
    "def fill_missing_values(df):\n",
    "    return df.groupby(level='ISO').fillna(method='ffill')\\\n",
    "             .groupby(level='ISO').fillna(method='bfill')\n",
    "\n",
    "def df_to_dict(df):\n",
    "    X = {}\n",
    "    for code in df.columns:\n",
    "        X[code] = df[code].fillna(0)\n",
    "    return X"
   ]
  },
  {
   "cell_type": "code",
   "execution_count": 4,
   "metadata": {
    "ExecuteTime": {
     "end_time": "2021-02-16T07:48:48.578328Z",
     "start_time": "2021-02-16T07:48:48.567036Z"
    }
   },
   "outputs": [],
   "source": [
    "def process_datasets(aquastat, efficientwater, wb_data,  evapotranspiration, cropcalendar):\n",
    "    '''To cleanup !!! '''\n",
    "    \n",
    "    aquastat = aquastat[~aquastat.ISO.isin(['USA', 'CHN', 'IND', 'RUS'])] # Not parsed !\n",
    "    aquastat = aquastat[aquastat.Variable != 'CI']\n",
    "    aquastat['Year'] = aquastat['Year'].astype(int)\n",
    "    wb_data['Year'] = wb_data['Year'].astype(int)\n",
    "    \n",
    "    aquastat = fill_missing_values(pivot(aquastat))\n",
    "    evapotranspiration = pivot(evapotranspiration)\n",
    "    ETa = fill_missing_values(evapotranspiration['ETa'])\n",
    "    ETo = evapotranspiration['ETo'].reset_index('Year', drop=True).dropna()\n",
    "    cropcalendar = cropcalendar.pivot(index=['ISO', 'Item'], columns='Variable', values='Value')\n",
    "    wb_data = pivot(wb_data)\n",
    "    efficientwater = pivot(efficientwater)\n",
    "\n",
    "    X = df_to_dict(aquastat)\n",
    "    \n",
    "    gva = df_to_dict(wb_data)\n",
    "    ew = df_to_dict(efficientwater)\n",
    "    \n",
    "    X.update(gva)\n",
    "    X.update(ew)\n",
    "    \n",
    "    X['ETa'] = ETa\n",
    "    X['ETo'] = ETo\n",
    "    X['LWU'] = 0\n",
    "    X['KC'] = cropcalendar['Kc']\n",
    "    X['ICA'] = cropcalendar['ICA']\n",
    "    \n",
    "    \n",
    "    return X"
   ]
  },
  {
   "cell_type": "code",
   "execution_count": 5,
   "metadata": {
    "ExecuteTime": {
     "end_time": "2021-02-16T07:48:49.202236Z",
     "start_time": "2021-02-16T07:48:48.581171Z"
    }
   },
   "outputs": [],
   "source": [
    "data_dict = process_datasets(aquastat, efficientwater, wb_data,  evapotranspiration, cropcalendar)"
   ]
  },
  {
   "cell_type": "markdown",
   "metadata": {},
   "source": [
    "# Model"
   ]
  },
  {
   "cell_type": "code",
   "execution_count": 6,
   "metadata": {
    "ExecuteTime": {
     "end_time": "2021-02-16T07:48:50.850177Z",
     "start_time": "2021-02-16T07:48:49.204334Z"
    }
   },
   "outputs": [],
   "source": [
    "from graphmodels.graphmodel import GraphModel, converte_to_format, concatenate_graph_specs\n",
    "import numpy as np\n",
    "from graphmodels.validation import check_model, check_variable_graph\n",
    "from models.Sarah.model_EW import EW_models, MWU_model\n",
    "from graphmodels.utils import get_X_y_from_data"
   ]
  },
  {
   "cell_type": "code",
   "execution_count": 7,
   "metadata": {
    "ExecuteTime": {
     "end_time": "2021-02-16T07:48:51.965563Z",
     "start_time": "2021-02-16T07:48:50.851989Z"
    }
   },
   "outputs": [
    {
     "name": "stdout",
     "output_type": "stream",
     "text": [
      "IWW_model : \n",
      "Checking computations:\n",
      "IWR r2: -0.12665142623068482 | IWR corr: 0.9379986749670274\n",
      "IWW r2: -4.205209733188055 | IWW corr: 0.4184869553410477\n",
      "AWU r2: -0.0628858927658491 | AWU corr: 0.9135028659380573\n",
      "EW1_partial_model : \n",
      "Checking computations:\n",
      "TWW r2: 0.9899453815126853 | TWW corr: 0.9949795916522841\n",
      "EW1 r2: -1.3182233892117088 | EW1 corr: 0.49113714674572345\n",
      "EW2_partial_model : \n",
      "Checking computations:\n",
      "EW1_model : \n",
      "Checking computations:\n"
     ]
    },
    {
     "name": "stderr",
     "output_type": "stream",
     "text": [
      "/home/simon/anaconda3/lib/python3.7/site-packages/pandas/core/arraylike.py:358: RuntimeWarning: divide by zero encountered in log\n",
      "  result = getattr(ufunc, method)(*inputs, **kwargs)\n"
     ]
    },
    {
     "name": "stdout",
     "output_type": "stream",
     "text": [
      "IWR r2: -0.12665142623068482 | IWR corr: 0.9379986749670274\n",
      "IWW r2: -4.205209733188055 | IWW corr: 0.4184869553410477\n",
      "AWU r2: -0.0628858927658491 | AWU corr: 0.9135028659380573\n",
      "MWU r2: 0.8857802007650846 | MWU corr: 0.9454090865744061\n",
      "TWW r2: 0.18568915784345286 | TWW corr: 0.9041843786599282\n",
      "EW1 r2: 0.3718408837210735 | EW1 corr: 0.6705142872178541\n",
      "EW2_model : \n",
      "Checking computations:\n",
      "IWR r2: -0.12665142623068482 | IWR corr: 0.9379986749670274\n",
      "IWW r2: -4.205209733188055 | IWW corr: 0.4184869553410477\n",
      "AWU r2: -0.0628858927658491 | AWU corr: 0.9135028659380573\n"
     ]
    },
    {
     "name": "stderr",
     "output_type": "stream",
     "text": [
      "/home/simon/anaconda3/lib/python3.7/site-packages/pandas/core/arraylike.py:358: RuntimeWarning: divide by zero encountered in log\n",
      "  result = getattr(ufunc, method)(*inputs, **kwargs)\n"
     ]
    },
    {
     "name": "stdout",
     "output_type": "stream",
     "text": [
      "MWU r2: 0.8857802007650846 | MWU corr: 0.9454090865744061\n"
     ]
    }
   ],
   "source": [
    "for model_name, model in EW_models.items():\n",
    "    print(model_name, ': ')\n",
    "    X, y = get_X_y_from_data(model, data_dict)\n",
    "    check_model(model, X, y)"
   ]
  },
  {
   "cell_type": "markdown",
   "metadata": {},
   "source": [
    "# Test on model"
   ]
  },
  {
   "cell_type": "code",
   "execution_count": 47,
   "metadata": {
    "ExecuteTime": {
     "end_time": "2021-02-16T08:19:05.765528Z",
     "start_time": "2021-02-16T08:19:05.556269Z"
    }
   },
   "outputs": [],
   "source": [
    "WP = data_dict['WP']\n",
    "GDPC = data_dict['GDPC']\n",
    "Pop = data_dict['Pop']\n",
    "MWU = data_dict['MWU']\n",
    "\n",
    "scenario_df = pd.concat([WP, GDPC, Pop, MWU], axis=1).rename(columns={0: 'GDPC'}).reset_index()\n",
    "ISO_scenario_df = scenario_df.query(\"ISO == 'FRA' and Year > 2005\")\\\n",
    "                             .fillna(method='ffill')\\\n",
    "                             .fillna(method='bfill')\n",
    "\n",
    "X = df_to_dict(ISO_scenario_df.set_index(['ISO', 'Year']))"
   ]
  },
  {
   "cell_type": "code",
   "execution_count": 48,
   "metadata": {
    "ExecuteTime": {
     "end_time": "2021-02-16T08:19:05.776654Z",
     "start_time": "2021-02-16T08:19:05.768187Z"
    }
   },
   "outputs": [],
   "source": [
    "MWU_comp = MWU_model.run(X)['MWU']"
   ]
  },
  {
   "cell_type": "code",
   "execution_count": 49,
   "metadata": {
    "ExecuteTime": {
     "end_time": "2021-02-16T08:19:06.127999Z",
     "start_time": "2021-02-16T08:19:06.121397Z"
    }
   },
   "outputs": [],
   "source": [
    "ISO_scenario_df['MWU_comp'] = MWU_comp.values"
   ]
  },
  {
   "cell_type": "code",
   "execution_count": 50,
   "metadata": {
    "ExecuteTime": {
     "end_time": "2021-02-16T08:19:06.454894Z",
     "start_time": "2021-02-16T08:19:06.429819Z"
    }
   },
   "outputs": [
    {
     "data": {
      "text/html": [
       "<div>\n",
       "<style scoped>\n",
       "    .dataframe tbody tr th:only-of-type {\n",
       "        vertical-align: middle;\n",
       "    }\n",
       "\n",
       "    .dataframe tbody tr th {\n",
       "        vertical-align: top;\n",
       "    }\n",
       "\n",
       "    .dataframe thead th {\n",
       "        text-align: right;\n",
       "    }\n",
       "</style>\n",
       "<table border=\"1\" class=\"dataframe\">\n",
       "  <thead>\n",
       "    <tr style=\"text-align: right;\">\n",
       "      <th></th>\n",
       "      <th>ISO</th>\n",
       "      <th>Year</th>\n",
       "      <th>WP</th>\n",
       "      <th>GDPC</th>\n",
       "      <th>Pop</th>\n",
       "      <th>MWU</th>\n",
       "      <th>MWU_comp</th>\n",
       "    </tr>\n",
       "  </thead>\n",
       "  <tbody>\n",
       "    <tr>\n",
       "      <th>4548</th>\n",
       "      <td>FRA</td>\n",
       "      <td>2006</td>\n",
       "      <td>2.18</td>\n",
       "      <td>40850.355530</td>\n",
       "      <td>63621381.0</td>\n",
       "      <td>5.683</td>\n",
       "      <td>7.989722</td>\n",
       "    </tr>\n",
       "    <tr>\n",
       "      <th>4549</th>\n",
       "      <td>FRA</td>\n",
       "      <td>2007</td>\n",
       "      <td>2.18</td>\n",
       "      <td>41582.799705</td>\n",
       "      <td>64016225.0</td>\n",
       "      <td>5.683</td>\n",
       "      <td>8.123610</td>\n",
       "    </tr>\n",
       "    <tr>\n",
       "      <th>4550</th>\n",
       "      <td>FRA</td>\n",
       "      <td>2008</td>\n",
       "      <td>2.18</td>\n",
       "      <td>41456.483420</td>\n",
       "      <td>64374984.0</td>\n",
       "      <td>5.683</td>\n",
       "      <td>8.153801</td>\n",
       "    </tr>\n",
       "    <tr>\n",
       "      <th>4551</th>\n",
       "      <td>FRA</td>\n",
       "      <td>2009</td>\n",
       "      <td>2.18</td>\n",
       "      <td>40058.679760</td>\n",
       "      <td>64707040.0</td>\n",
       "      <td>5.683</td>\n",
       "      <td>8.030574</td>\n",
       "    </tr>\n",
       "    <tr>\n",
       "      <th>4552</th>\n",
       "      <td>FRA</td>\n",
       "      <td>2010</td>\n",
       "      <td>2.18</td>\n",
       "      <td>40638.334004</td>\n",
       "      <td>65027507.0</td>\n",
       "      <td>5.683</td>\n",
       "      <td>8.138699</td>\n",
       "    </tr>\n",
       "    <tr>\n",
       "      <th>4553</th>\n",
       "      <td>FRA</td>\n",
       "      <td>2011</td>\n",
       "      <td>2.18</td>\n",
       "      <td>41329.035361</td>\n",
       "      <td>65342780.0</td>\n",
       "      <td>5.683</td>\n",
       "      <td>8.259585</td>\n",
       "    </tr>\n",
       "    <tr>\n",
       "      <th>4554</th>\n",
       "      <td>FRA</td>\n",
       "      <td>2012</td>\n",
       "      <td>2.18</td>\n",
       "      <td>41258.274731</td>\n",
       "      <td>65659809.0</td>\n",
       "      <td>5.380</td>\n",
       "      <td>8.290683</td>\n",
       "    </tr>\n",
       "    <tr>\n",
       "      <th>4555</th>\n",
       "      <td>FRA</td>\n",
       "      <td>2013</td>\n",
       "      <td>2.18</td>\n",
       "      <td>41282.990800</td>\n",
       "      <td>65998687.0</td>\n",
       "      <td>5.380</td>\n",
       "      <td>8.335825</td>\n",
       "    </tr>\n",
       "    <tr>\n",
       "      <th>4556</th>\n",
       "      <td>FRA</td>\n",
       "      <td>2014</td>\n",
       "      <td>2.18</td>\n",
       "      <td>41480.769608</td>\n",
       "      <td>66312067.0</td>\n",
       "      <td>5.380</td>\n",
       "      <td>8.398574</td>\n",
       "    </tr>\n",
       "    <tr>\n",
       "      <th>4557</th>\n",
       "      <td>FRA</td>\n",
       "      <td>2015</td>\n",
       "      <td>2.18</td>\n",
       "      <td>41793.544712</td>\n",
       "      <td>66548272.0</td>\n",
       "      <td>5.380</td>\n",
       "      <td>8.465626</td>\n",
       "    </tr>\n",
       "    <tr>\n",
       "      <th>4558</th>\n",
       "      <td>FRA</td>\n",
       "      <td>2016</td>\n",
       "      <td>2.18</td>\n",
       "      <td>42140.036880</td>\n",
       "      <td>66724104.0</td>\n",
       "      <td>5.175</td>\n",
       "      <td>8.529259</td>\n",
       "    </tr>\n",
       "    <tr>\n",
       "      <th>4559</th>\n",
       "      <td>FRA</td>\n",
       "      <td>2017</td>\n",
       "      <td>2.18</td>\n",
       "      <td>43015.210642</td>\n",
       "      <td>66864379.0</td>\n",
       "      <td>5.175</td>\n",
       "      <td>8.651560</td>\n",
       "    </tr>\n",
       "    <tr>\n",
       "      <th>4560</th>\n",
       "      <td>FRA</td>\n",
       "      <td>2018</td>\n",
       "      <td>2.18</td>\n",
       "      <td>43720.026343</td>\n",
       "      <td>66965912.0</td>\n",
       "      <td>5.175</td>\n",
       "      <td>8.748264</td>\n",
       "    </tr>\n",
       "    <tr>\n",
       "      <th>4561</th>\n",
       "      <td>FRA</td>\n",
       "      <td>2019</td>\n",
       "      <td>2.18</td>\n",
       "      <td>44317.392305</td>\n",
       "      <td>67059887.0</td>\n",
       "      <td>5.175</td>\n",
       "      <td>8.831018</td>\n",
       "    </tr>\n",
       "  </tbody>\n",
       "</table>\n",
       "</div>"
      ],
      "text/plain": [
       "      ISO  Year    WP          GDPC         Pop    MWU  MWU_comp\n",
       "4548  FRA  2006  2.18  40850.355530  63621381.0  5.683  7.989722\n",
       "4549  FRA  2007  2.18  41582.799705  64016225.0  5.683  8.123610\n",
       "4550  FRA  2008  2.18  41456.483420  64374984.0  5.683  8.153801\n",
       "4551  FRA  2009  2.18  40058.679760  64707040.0  5.683  8.030574\n",
       "4552  FRA  2010  2.18  40638.334004  65027507.0  5.683  8.138699\n",
       "4553  FRA  2011  2.18  41329.035361  65342780.0  5.683  8.259585\n",
       "4554  FRA  2012  2.18  41258.274731  65659809.0  5.380  8.290683\n",
       "4555  FRA  2013  2.18  41282.990800  65998687.0  5.380  8.335825\n",
       "4556  FRA  2014  2.18  41480.769608  66312067.0  5.380  8.398574\n",
       "4557  FRA  2015  2.18  41793.544712  66548272.0  5.380  8.465626\n",
       "4558  FRA  2016  2.18  42140.036880  66724104.0  5.175  8.529259\n",
       "4559  FRA  2017  2.18  43015.210642  66864379.0  5.175  8.651560\n",
       "4560  FRA  2018  2.18  43720.026343  66965912.0  5.175  8.748264\n",
       "4561  FRA  2019  2.18  44317.392305  67059887.0  5.175  8.831018"
      ]
     },
     "execution_count": 50,
     "metadata": {},
     "output_type": "execute_result"
    }
   ],
   "source": [
    "ISO_scenario_df"
   ]
  },
  {
   "cell_type": "code",
   "execution_count": 13,
   "metadata": {
    "ExecuteTime": {
     "end_time": "2021-02-16T07:48:52.301678Z",
     "start_time": "2021-02-16T07:48:52.250587Z"
    }
   },
   "outputs": [
    {
     "data": {
      "image/svg+xml": [
       "<?xml version=\"1.0\" encoding=\"UTF-8\" standalone=\"no\"?>\n",
       "<!DOCTYPE svg PUBLIC \"-//W3C//DTD SVG 1.1//EN\"\n",
       " \"http://www.w3.org/Graphics/SVG/1.1/DTD/svg11.dtd\">\n",
       "<!-- Generated by graphviz version 2.40.1 (20161225.0304)\n",
       " -->\n",
       "<!-- Title: %3 Pages: 1 -->\n",
       "<svg width=\"341pt\" height=\"222pt\"\n",
       " viewBox=\"0.00 0.00 341.00 222.00\" xmlns=\"http://www.w3.org/2000/svg\" xmlns:xlink=\"http://www.w3.org/1999/xlink\">\n",
       "<g id=\"graph0\" class=\"graph\" transform=\"scale(1 1) rotate(0) translate(4 218)\">\n",
       "<title>%3</title>\n",
       "<polygon fill=\"#ffffff\" stroke=\"transparent\" points=\"-4,4 -4,-218 337,-218 337,4 -4,4\"/>\n",
       "<!-- WP -->\n",
       "<g id=\"node1\" class=\"node\">\n",
       "<title>WP</title>\n",
       "<polygon fill=\"#e76f51\" stroke=\"#eeeeee\" points=\"93,-214 0,-214 0,-161 93,-161 93,-214\"/>\n",
       "<text text-anchor=\"middle\" x=\"46.5\" y=\"-198.8\" font-family=\"roboto\" font-size=\"14.00\" fill=\"#eeeeee\">Water Price </text>\n",
       "<text text-anchor=\"middle\" x=\"46.5\" y=\"-183.8\" font-family=\"roboto\" font-size=\"14.00\" fill=\"#eeeeee\"> (WP) </text>\n",
       "<text text-anchor=\"middle\" x=\"46.5\" y=\"-168.8\" font-family=\"roboto\" font-size=\"14.00\" fill=\"#eeeeee\"> $/15m3</text>\n",
       "</g>\n",
       "<!-- MWU_comp -->\n",
       "<g id=\"node5\" class=\"node\">\n",
       "<title>MWU_comp</title>\n",
       "<polygon fill=\"none\" stroke=\"#a9a9a9\" points=\"270.5,-125 66.5,-125 66.5,-89 270.5,-89 270.5,-125\"/>\n",
       "<text text-anchor=\"middle\" x=\"168.5\" y=\"-103.3\" font-family=\"roboto\" font-size=\"14.00\" fill=\"#000000\">model_MWU(GDPC, WP, Pop)</text>\n",
       "</g>\n",
       "<!-- WP&#45;&gt;MWU_comp -->\n",
       "<g id=\"edge1\" class=\"edge\">\n",
       "<title>WP&#45;&gt;MWU_comp</title>\n",
       "<path fill=\"none\" stroke=\"#a9a9a9\" d=\"M79.75,-160.6947C79.75,-160.6947 79.75,-135.0658 79.75,-135.0658\"/>\n",
       "<polygon fill=\"#a9a9a9\" stroke=\"#a9a9a9\" points=\"83.2501,-135.0657 79.75,-125.0658 76.2501,-135.0658 83.2501,-135.0657\"/>\n",
       "</g>\n",
       "<!-- GDPC -->\n",
       "<g id=\"node2\" class=\"node\">\n",
       "<title>GDPC</title>\n",
       "<polygon fill=\"#e9c46a\" stroke=\"#eeeeee\" points=\"226,-214 111,-214 111,-161 226,-161 226,-214\"/>\n",
       "<text text-anchor=\"middle\" x=\"168.5\" y=\"-198.8\" font-family=\"roboto\" font-size=\"14.00\" fill=\"#eeeeee\">GDP per capita </text>\n",
       "<text text-anchor=\"middle\" x=\"168.5\" y=\"-183.8\" font-family=\"roboto\" font-size=\"14.00\" fill=\"#eeeeee\"> (GDPC) </text>\n",
       "<text text-anchor=\"middle\" x=\"168.5\" y=\"-168.8\" font-family=\"roboto\" font-size=\"14.00\" fill=\"#eeeeee\"> $</text>\n",
       "</g>\n",
       "<!-- GDPC&#45;&gt;MWU_comp -->\n",
       "<g id=\"edge2\" class=\"edge\">\n",
       "<title>GDPC&#45;&gt;MWU_comp</title>\n",
       "<path fill=\"none\" stroke=\"#a9a9a9\" d=\"M168.5,-160.6947C168.5,-160.6947 168.5,-135.0658 168.5,-135.0658\"/>\n",
       "<polygon fill=\"#a9a9a9\" stroke=\"#a9a9a9\" points=\"172.0001,-135.0657 168.5,-125.0658 165.0001,-135.0658 172.0001,-135.0657\"/>\n",
       "</g>\n",
       "<!-- Pop -->\n",
       "<g id=\"node3\" class=\"node\">\n",
       "<title>Pop</title>\n",
       "<polygon fill=\"#e9c46a\" stroke=\"#eeeeee\" points=\"333,-214 244,-214 244,-161 333,-161 333,-214\"/>\n",
       "<text text-anchor=\"middle\" x=\"288.5\" y=\"-198.8\" font-family=\"roboto\" font-size=\"14.00\" fill=\"#eeeeee\">Population </text>\n",
       "<text text-anchor=\"middle\" x=\"288.5\" y=\"-183.8\" font-family=\"roboto\" font-size=\"14.00\" fill=\"#eeeeee\"> (Pop) </text>\n",
       "<text text-anchor=\"middle\" x=\"288.5\" y=\"-168.8\" font-family=\"roboto\" font-size=\"14.00\" fill=\"#eeeeee\"> capita</text>\n",
       "</g>\n",
       "<!-- Pop&#45;&gt;MWU_comp -->\n",
       "<g id=\"edge3\" class=\"edge\">\n",
       "<title>Pop&#45;&gt;MWU_comp</title>\n",
       "<path fill=\"none\" stroke=\"#a9a9a9\" d=\"M257.25,-160.6947C257.25,-160.6947 257.25,-135.0658 257.25,-135.0658\"/>\n",
       "<polygon fill=\"#a9a9a9\" stroke=\"#a9a9a9\" points=\"260.7501,-135.0657 257.25,-125.0658 253.7501,-135.0658 260.7501,-135.0657\"/>\n",
       "</g>\n",
       "<!-- MWU -->\n",
       "<g id=\"node4\" class=\"node\">\n",
       "<title>MWU</title>\n",
       "<polygon fill=\"#f4a261\" stroke=\"#eeeeee\" points=\"267,-53 70,-53 70,0 267,0 267,-53\"/>\n",
       "<text text-anchor=\"middle\" x=\"168.5\" y=\"-37.8\" font-family=\"roboto\" font-size=\"14.00\" fill=\"#eeeeee\">Municipal Water Withdrawal </text>\n",
       "<text text-anchor=\"middle\" x=\"168.5\" y=\"-22.8\" font-family=\"roboto\" font-size=\"14.00\" fill=\"#eeeeee\"> (MWU) </text>\n",
       "<text text-anchor=\"middle\" x=\"168.5\" y=\"-7.8\" font-family=\"roboto\" font-size=\"14.00\" fill=\"#eeeeee\"> m3/year</text>\n",
       "</g>\n",
       "<!-- MWU_comp&#45;&gt;MWU -->\n",
       "<g id=\"edge4\" class=\"edge\">\n",
       "<title>MWU_comp&#45;&gt;MWU</title>\n",
       "<path fill=\"none\" stroke=\"#a9a9a9\" d=\"M168.5,-88.7333C168.5,-88.7333 168.5,-63.2477 168.5,-63.2477\"/>\n",
       "<polygon fill=\"#a9a9a9\" stroke=\"#a9a9a9\" points=\"172.0001,-63.2476 168.5,-53.2477 165.0001,-63.2477 172.0001,-63.2476\"/>\n",
       "</g>\n",
       "</g>\n",
       "</svg>\n"
      ],
      "text/plain": [
       "<graphviz.dot.Digraph at 0x7f67cc774e50>"
      ]
     },
     "execution_count": 13,
     "metadata": {},
     "output_type": "execute_result"
    }
   ],
   "source": [
    "MWU_model.draw()"
   ]
  },
  {
   "cell_type": "code",
   "execution_count": 14,
   "metadata": {
    "ExecuteTime": {
     "end_time": "2021-02-16T07:48:52.343164Z",
     "start_time": "2021-02-16T07:48:52.304599Z"
    }
   },
   "outputs": [
    {
     "data": {
      "text/html": [
       "<div>\n",
       "<style scoped>\n",
       "    .dataframe tbody tr th:only-of-type {\n",
       "        vertical-align: middle;\n",
       "    }\n",
       "\n",
       "    .dataframe tbody tr th {\n",
       "        vertical-align: top;\n",
       "    }\n",
       "\n",
       "    .dataframe thead th {\n",
       "        text-align: right;\n",
       "    }\n",
       "</style>\n",
       "<table border=\"1\" class=\"dataframe\">\n",
       "  <thead>\n",
       "    <tr style=\"text-align: right;\">\n",
       "      <th></th>\n",
       "      <th>Area</th>\n",
       "      <th>Year</th>\n",
       "      <th>Value</th>\n",
       "      <th>ISO</th>\n",
       "      <th>Variable</th>\n",
       "      <th>Description</th>\n",
       "      <th>Unit</th>\n",
       "    </tr>\n",
       "  </thead>\n",
       "  <tbody>\n",
       "    <tr>\n",
       "      <th>8606</th>\n",
       "      <td>Afghanistan</td>\n",
       "      <td>2000.0</td>\n",
       "      <td>0.1542</td>\n",
       "      <td>AFG</td>\n",
       "      <td>MWU</td>\n",
       "      <td>Municipal water withdrawal</td>\n",
       "      <td>10^9 m3/yr</td>\n",
       "    </tr>\n",
       "    <tr>\n",
       "      <th>8607</th>\n",
       "      <td>Afghanistan</td>\n",
       "      <td>2005.0</td>\n",
       "      <td>0.2034</td>\n",
       "      <td>AFG</td>\n",
       "      <td>MWU</td>\n",
       "      <td>Municipal water withdrawal</td>\n",
       "      <td>10^9 m3/yr</td>\n",
       "    </tr>\n",
       "    <tr>\n",
       "      <th>8608</th>\n",
       "      <td>Albania</td>\n",
       "      <td>1990.0</td>\n",
       "      <td>0.1000</td>\n",
       "      <td>ALB</td>\n",
       "      <td>MWU</td>\n",
       "      <td>Municipal water withdrawal</td>\n",
       "      <td>10^9 m3/yr</td>\n",
       "    </tr>\n",
       "    <tr>\n",
       "      <th>8609</th>\n",
       "      <td>Albania</td>\n",
       "      <td>2000.0</td>\n",
       "      <td>0.5504</td>\n",
       "      <td>ALB</td>\n",
       "      <td>MWU</td>\n",
       "      <td>Municipal water withdrawal</td>\n",
       "      <td>10^9 m3/yr</td>\n",
       "    </tr>\n",
       "    <tr>\n",
       "      <th>8610</th>\n",
       "      <td>Albania</td>\n",
       "      <td>2005.0</td>\n",
       "      <td>0.5613</td>\n",
       "      <td>ALB</td>\n",
       "      <td>MWU</td>\n",
       "      <td>Municipal water withdrawal</td>\n",
       "      <td>10^9 m3/yr</td>\n",
       "    </tr>\n",
       "    <tr>\n",
       "      <th>...</th>\n",
       "      <td>...</td>\n",
       "      <td>...</td>\n",
       "      <td>...</td>\n",
       "      <td>...</td>\n",
       "      <td>...</td>\n",
       "      <td>...</td>\n",
       "      <td>...</td>\n",
       "    </tr>\n",
       "    <tr>\n",
       "      <th>9193</th>\n",
       "      <td>Zambia</td>\n",
       "      <td>1994.0</td>\n",
       "      <td>0.2700</td>\n",
       "      <td>ZMB</td>\n",
       "      <td>MWU</td>\n",
       "      <td>Municipal water withdrawal</td>\n",
       "      <td>10^9 m3/yr</td>\n",
       "    </tr>\n",
       "    <tr>\n",
       "      <th>9194</th>\n",
       "      <td>Zambia</td>\n",
       "      <td>2000.0</td>\n",
       "      <td>0.2900</td>\n",
       "      <td>ZMB</td>\n",
       "      <td>MWU</td>\n",
       "      <td>Municipal water withdrawal</td>\n",
       "      <td>10^9 m3/yr</td>\n",
       "    </tr>\n",
       "    <tr>\n",
       "      <th>9195</th>\n",
       "      <td>Zimbabwe</td>\n",
       "      <td>2002.0</td>\n",
       "      <td>0.5890</td>\n",
       "      <td>ZWE</td>\n",
       "      <td>MWU</td>\n",
       "      <td>Municipal water withdrawal</td>\n",
       "      <td>10^9 m3/yr</td>\n",
       "    </tr>\n",
       "    <tr>\n",
       "      <th>9196</th>\n",
       "      <td>Zimbabwe</td>\n",
       "      <td>2007.0</td>\n",
       "      <td>0.4250</td>\n",
       "      <td>ZWE</td>\n",
       "      <td>MWU</td>\n",
       "      <td>Municipal water withdrawal</td>\n",
       "      <td>10^9 m3/yr</td>\n",
       "    </tr>\n",
       "    <tr>\n",
       "      <th>9197</th>\n",
       "      <td>Zimbabwe</td>\n",
       "      <td>2017.0</td>\n",
       "      <td>0.4877</td>\n",
       "      <td>ZWE</td>\n",
       "      <td>MWU</td>\n",
       "      <td>Municipal water withdrawal</td>\n",
       "      <td>10^9 m3/yr</td>\n",
       "    </tr>\n",
       "  </tbody>\n",
       "</table>\n",
       "<p>592 rows × 7 columns</p>\n",
       "</div>"
      ],
      "text/plain": [
       "             Area    Year   Value  ISO Variable                 Description  \\\n",
       "8606  Afghanistan  2000.0  0.1542  AFG      MWU  Municipal water withdrawal   \n",
       "8607  Afghanistan  2005.0  0.2034  AFG      MWU  Municipal water withdrawal   \n",
       "8608      Albania  1990.0  0.1000  ALB      MWU  Municipal water withdrawal   \n",
       "8609      Albania  2000.0  0.5504  ALB      MWU  Municipal water withdrawal   \n",
       "8610      Albania  2005.0  0.5613  ALB      MWU  Municipal water withdrawal   \n",
       "...           ...     ...     ...  ...      ...                         ...   \n",
       "9193       Zambia  1994.0  0.2700  ZMB      MWU  Municipal water withdrawal   \n",
       "9194       Zambia  2000.0  0.2900  ZMB      MWU  Municipal water withdrawal   \n",
       "9195     Zimbabwe  2002.0  0.5890  ZWE      MWU  Municipal water withdrawal   \n",
       "9196     Zimbabwe  2007.0  0.4250  ZWE      MWU  Municipal water withdrawal   \n",
       "9197     Zimbabwe  2017.0  0.4877  ZWE      MWU  Municipal water withdrawal   \n",
       "\n",
       "            Unit  \n",
       "8606  10^9 m3/yr  \n",
       "8607  10^9 m3/yr  \n",
       "8608  10^9 m3/yr  \n",
       "8609  10^9 m3/yr  \n",
       "8610  10^9 m3/yr  \n",
       "...          ...  \n",
       "9193  10^9 m3/yr  \n",
       "9194  10^9 m3/yr  \n",
       "9195  10^9 m3/yr  \n",
       "9196  10^9 m3/yr  \n",
       "9197  10^9 m3/yr  \n",
       "\n",
       "[592 rows x 7 columns]"
      ]
     },
     "execution_count": 14,
     "metadata": {},
     "output_type": "execute_result"
    }
   ],
   "source": [
    "aquastat.query(\"Variable == 'MWU'\")"
   ]
  }
 ],
 "metadata": {
  "kernelspec": {
   "display_name": "Python 3",
   "language": "python",
   "name": "python3"
  },
  "language_info": {
   "codemirror_mode": {
    "name": "ipython",
    "version": 3
   },
   "file_extension": ".py",
   "mimetype": "text/x-python",
   "name": "python",
   "nbconvert_exporter": "python",
   "pygments_lexer": "ipython3",
   "version": "3.7.7"
  }
 },
 "nbformat": 4,
 "nbformat_minor": 4
}
