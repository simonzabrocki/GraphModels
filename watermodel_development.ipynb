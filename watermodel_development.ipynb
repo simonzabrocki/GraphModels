{
 "cells": [
  {
   "cell_type": "code",
   "execution_count": 1,
   "metadata": {
    "ExecuteTime": {
     "end_time": "2021-02-16T04:02:06.045353Z",
     "start_time": "2021-02-16T04:02:05.569462Z"
    }
   },
   "outputs": [],
   "source": [
    "import pandas as pd\n",
    "from database import select_dataset\n",
    "import numpy as np"
   ]
  },
  {
   "cell_type": "code",
   "execution_count": 2,
   "metadata": {
    "ExecuteTime": {
     "end_time": "2021-02-16T04:02:07.786464Z",
     "start_time": "2021-02-16T04:02:06.047340Z"
    }
   },
   "outputs": [],
   "source": [
    "# FIND WAY TO WRAP THIS CLEANLY CAUSE IT's A MESS !\n",
    "\n",
    "aquastat = select_dataset('aquastat').dropna()\n",
    "evapotranspiration = select_dataset('evapotranspiration').dropna().drop_duplicates()\n",
    "cropcalendar = select_dataset('cropcalendar').drop(columns=['Year'])\n",
    "efficientwater = select_dataset('efficientwater')\n",
    "wb_data = select_dataset('worldbank')"
   ]
  },
  {
   "cell_type": "code",
   "execution_count": 9,
   "metadata": {
    "ExecuteTime": {
     "end_time": "2021-02-16T04:14:22.560617Z",
     "start_time": "2021-02-16T04:14:22.553027Z"
    }
   },
   "outputs": [],
   "source": [
    "def pivot(df):\n",
    "    return df.pivot(index=['ISO', 'Year'], columns='Variable', values='Value')\n",
    "\n",
    "def fill_missing_values(df):\n",
    "    return df.groupby(level='ISO').fillna(method='ffill')\\\n",
    "             .groupby(level='ISO').fillna(method='bfill')\n",
    "\n",
    "def df_to_dict(df):\n",
    "    X = {}\n",
    "    for code in df.columns:\n",
    "        X[code] = df[code].fillna(0)\n",
    "    return X"
   ]
  },
  {
   "cell_type": "code",
   "execution_count": 4,
   "metadata": {
    "ExecuteTime": {
     "end_time": "2021-02-16T04:02:07.808507Z",
     "start_time": "2021-02-16T04:02:07.797047Z"
    }
   },
   "outputs": [],
   "source": [
    "def process_datasets(aquastat, efficientwater, wb_data,  evapotranspiration, cropcalendar):\n",
    "    '''To cleanup !!! '''\n",
    "    \n",
    "    aquastat = aquastat[~aquastat.ISO.isin(['USA', 'CHN', 'IND', 'RUS'])] # Not parsed !\n",
    "    aquastat = aquastat[aquastat.Variable != 'CI']\n",
    "    aquastat['Year'] = aquastat['Year'].astype(int)\n",
    "    wb_data['Year'] = wb_data['Year'].astype(int)\n",
    "    \n",
    "    aquastat = fill_missing_values(pivot(aquastat))\n",
    "    evapotranspiration = pivot(evapotranspiration)\n",
    "    ETa = fill_missing_values(evapotranspiration['ETa'])\n",
    "    ETo = evapotranspiration['ETo'].reset_index('Year', drop=True).dropna()\n",
    "    cropcalendar = cropcalendar.pivot(index=['ISO', 'Item'], columns='Variable', values='Value')\n",
    "    wb_data = pivot(wb_data)\n",
    "    efficientwater = pivot(efficientwater)\n",
    "\n",
    "    X = df_to_dict(aquastat)\n",
    "    \n",
    "    gva = df_to_dict(wb_data)\n",
    "    ew = df_to_dict(efficientwater)\n",
    "    \n",
    "    X.update(gva)\n",
    "    X.update(ew)\n",
    "    \n",
    "    X['ETa'] = ETa\n",
    "    X['ETo'] = ETo\n",
    "    X['LWU'] = 0\n",
    "    X['KC'] = cropcalendar['Kc']\n",
    "    X['ICA'] = cropcalendar['ICA']\n",
    "    \n",
    "    X['GDPC'] = X['GDP'] / X['Pop']\n",
    "    \n",
    "    return X"
   ]
  },
  {
   "cell_type": "code",
   "execution_count": 5,
   "metadata": {
    "ExecuteTime": {
     "end_time": "2021-02-16T04:02:08.435188Z",
     "start_time": "2021-02-16T04:02:07.810762Z"
    }
   },
   "outputs": [],
   "source": [
    "data_dict = process_datasets(aquastat, efficientwater, wb_data,  evapotranspiration, cropcalendar)"
   ]
  },
  {
   "cell_type": "markdown",
   "metadata": {},
   "source": [
    "# Model"
   ]
  },
  {
   "cell_type": "code",
   "execution_count": 10,
   "metadata": {
    "ExecuteTime": {
     "end_time": "2021-02-16T04:18:45.978917Z",
     "start_time": "2021-02-16T04:18:45.973290Z"
    }
   },
   "outputs": [],
   "source": [
    "from graphmodels.graphmodel_exp import GraphModel, converte_to_format, concatenate_graph_specs\n",
    "import numpy as np\n",
    "from graphmodels.validation import check_model, check_variable_graph\n",
    "from models.Sarah.model_EW import EW_models, MWU_model\n",
    "from graphmodels.utils import get_X_y_from_data"
   ]
  },
  {
   "cell_type": "code",
   "execution_count": 8,
   "metadata": {
    "ExecuteTime": {
     "end_time": "2021-02-16T04:02:11.324671Z",
     "start_time": "2021-02-16T04:02:10.200110Z"
    }
   },
   "outputs": [
    {
     "name": "stdout",
     "output_type": "stream",
     "text": [
      "IWW_model : \n",
      "Checking computations:\n",
      "IWR r2: -0.12665142623068482 | IWR corr: 0.9379986749670274\n",
      "IWW r2: -4.205209733188055 | IWW corr: 0.4184869553410477\n",
      "AWU r2: -0.0628858927658491 | AWU corr: 0.9135028659380573\n",
      "EW1_partial_model : \n",
      "Checking computations:\n",
      "TWW r2: 0.9899453815126853 | TWW corr: 0.9949795916522841\n",
      "EW1 r2: -1.3182233892117088 | EW1 corr: 0.49113714674572345\n",
      "EW2_partial_model : \n",
      "Checking computations:\n",
      "EW1_model : \n"
     ]
    },
    {
     "name": "stderr",
     "output_type": "stream",
     "text": [
      "/home/simon/anaconda3/lib/python3.7/site-packages/pandas/core/arraylike.py:358: RuntimeWarning: divide by zero encountered in log\n",
      "  result = getattr(ufunc, method)(*inputs, **kwargs)\n"
     ]
    },
    {
     "name": "stdout",
     "output_type": "stream",
     "text": [
      "Checking computations:\n",
      "IWR r2: -0.12665142623068482 | IWR corr: 0.9379986749670274\n",
      "IWW r2: -4.205209733188055 | IWW corr: 0.4184869553410477\n",
      "AWU r2: -0.0628858927658491 | AWU corr: 0.9135028659380573\n",
      "MWU r2: 0.6893387462633556 | MWU corr: 0.9253824745744593\n",
      "TWW r2: 0.19825242635480045 | TWW corr: 0.9091621087829711\n",
      "EW1 r2: -0.32604077592304637 | EW1 corr: 0.412509754305518\n",
      "EW2_model : \n"
     ]
    },
    {
     "name": "stderr",
     "output_type": "stream",
     "text": [
      "/home/simon/anaconda3/lib/python3.7/site-packages/pandas/core/arraylike.py:358: RuntimeWarning: divide by zero encountered in log\n",
      "  result = getattr(ufunc, method)(*inputs, **kwargs)\n"
     ]
    },
    {
     "name": "stdout",
     "output_type": "stream",
     "text": [
      "Checking computations:\n",
      "IWR r2: -0.12665142623068482 | IWR corr: 0.9379986749670274\n",
      "IWW r2: -4.205209733188055 | IWW corr: 0.4184869553410477\n",
      "AWU r2: -0.0628858927658491 | AWU corr: 0.9135028659380573\n",
      "MWU r2: 0.6893387462633556 | MWU corr: 0.9253824745744593\n"
     ]
    }
   ],
   "source": [
    "for model_name, model in EW_models.items():\n",
    "    print(model_name, ': ')\n",
    "    X, y = get_X_y_from_data(model, data_dict)\n",
    "    check_model(model, X, y)"
   ]
  },
  {
   "cell_type": "code",
   "execution_count": 11,
   "metadata": {
    "ExecuteTime": {
     "end_time": "2021-02-16T04:18:51.462971Z",
     "start_time": "2021-02-16T04:18:51.362354Z"
    }
   },
   "outputs": [
    {
     "data": {
      "image/svg+xml": [
       "<?xml version=\"1.0\" encoding=\"UTF-8\" standalone=\"no\"?>\n",
       "<!DOCTYPE svg PUBLIC \"-//W3C//DTD SVG 1.1//EN\"\n",
       " \"http://www.w3.org/Graphics/SVG/1.1/DTD/svg11.dtd\">\n",
       "<!-- Generated by graphviz version 2.40.1 (20161225.0304)\n",
       " -->\n",
       "<!-- Title: %3 Pages: 1 -->\n",
       "<svg width=\"341pt\" height=\"222pt\"\n",
       " viewBox=\"0.00 0.00 341.00 222.00\" xmlns=\"http://www.w3.org/2000/svg\" xmlns:xlink=\"http://www.w3.org/1999/xlink\">\n",
       "<g id=\"graph0\" class=\"graph\" transform=\"scale(1 1) rotate(0) translate(4 218)\">\n",
       "<title>%3</title>\n",
       "<polygon fill=\"#ffffff\" stroke=\"transparent\" points=\"-4,4 -4,-218 337,-218 337,4 -4,4\"/>\n",
       "<!-- WP -->\n",
       "<g id=\"node1\" class=\"node\">\n",
       "<title>WP</title>\n",
       "<polygon fill=\"#e76f51\" stroke=\"#eeeeee\" points=\"93,-214 0,-214 0,-161 93,-161 93,-214\"/>\n",
       "<text text-anchor=\"middle\" x=\"46.5\" y=\"-198.8\" font-family=\"roboto\" font-size=\"14.00\" fill=\"#eeeeee\">Water Price </text>\n",
       "<text text-anchor=\"middle\" x=\"46.5\" y=\"-183.8\" font-family=\"roboto\" font-size=\"14.00\" fill=\"#eeeeee\"> (WP) </text>\n",
       "<text text-anchor=\"middle\" x=\"46.5\" y=\"-168.8\" font-family=\"roboto\" font-size=\"14.00\" fill=\"#eeeeee\"> $/15m3</text>\n",
       "</g>\n",
       "<!-- MWU_comp -->\n",
       "<g id=\"node5\" class=\"node\">\n",
       "<title>MWU_comp</title>\n",
       "<polygon fill=\"none\" stroke=\"#a9a9a9\" points=\"270.5,-125 66.5,-125 66.5,-89 270.5,-89 270.5,-125\"/>\n",
       "<text text-anchor=\"middle\" x=\"168.5\" y=\"-103.3\" font-family=\"roboto\" font-size=\"14.00\" fill=\"#000000\">model_MWU(GDPC, WP, Pop)</text>\n",
       "</g>\n",
       "<!-- WP&#45;&gt;MWU_comp -->\n",
       "<g id=\"edge1\" class=\"edge\">\n",
       "<title>WP&#45;&gt;MWU_comp</title>\n",
       "<path fill=\"none\" stroke=\"#a9a9a9\" d=\"M79.75,-160.6947C79.75,-160.6947 79.75,-135.0658 79.75,-135.0658\"/>\n",
       "<polygon fill=\"#a9a9a9\" stroke=\"#a9a9a9\" points=\"83.2501,-135.0657 79.75,-125.0658 76.2501,-135.0658 83.2501,-135.0657\"/>\n",
       "</g>\n",
       "<!-- GDPC -->\n",
       "<g id=\"node2\" class=\"node\">\n",
       "<title>GDPC</title>\n",
       "<polygon fill=\"#e9c46a\" stroke=\"#eeeeee\" points=\"226,-214 111,-214 111,-161 226,-161 226,-214\"/>\n",
       "<text text-anchor=\"middle\" x=\"168.5\" y=\"-198.8\" font-family=\"roboto\" font-size=\"14.00\" fill=\"#eeeeee\">GDP per capita </text>\n",
       "<text text-anchor=\"middle\" x=\"168.5\" y=\"-183.8\" font-family=\"roboto\" font-size=\"14.00\" fill=\"#eeeeee\"> (GDPC) </text>\n",
       "<text text-anchor=\"middle\" x=\"168.5\" y=\"-168.8\" font-family=\"roboto\" font-size=\"14.00\" fill=\"#eeeeee\"> $</text>\n",
       "</g>\n",
       "<!-- GDPC&#45;&gt;MWU_comp -->\n",
       "<g id=\"edge2\" class=\"edge\">\n",
       "<title>GDPC&#45;&gt;MWU_comp</title>\n",
       "<path fill=\"none\" stroke=\"#a9a9a9\" d=\"M168.5,-160.6947C168.5,-160.6947 168.5,-135.0658 168.5,-135.0658\"/>\n",
       "<polygon fill=\"#a9a9a9\" stroke=\"#a9a9a9\" points=\"172.0001,-135.0657 168.5,-125.0658 165.0001,-135.0658 172.0001,-135.0657\"/>\n",
       "</g>\n",
       "<!-- Pop -->\n",
       "<g id=\"node3\" class=\"node\">\n",
       "<title>Pop</title>\n",
       "<polygon fill=\"#e9c46a\" stroke=\"#eeeeee\" points=\"333,-214 244,-214 244,-161 333,-161 333,-214\"/>\n",
       "<text text-anchor=\"middle\" x=\"288.5\" y=\"-198.8\" font-family=\"roboto\" font-size=\"14.00\" fill=\"#eeeeee\">Population </text>\n",
       "<text text-anchor=\"middle\" x=\"288.5\" y=\"-183.8\" font-family=\"roboto\" font-size=\"14.00\" fill=\"#eeeeee\"> (Pop) </text>\n",
       "<text text-anchor=\"middle\" x=\"288.5\" y=\"-168.8\" font-family=\"roboto\" font-size=\"14.00\" fill=\"#eeeeee\"> capita</text>\n",
       "</g>\n",
       "<!-- Pop&#45;&gt;MWU_comp -->\n",
       "<g id=\"edge3\" class=\"edge\">\n",
       "<title>Pop&#45;&gt;MWU_comp</title>\n",
       "<path fill=\"none\" stroke=\"#a9a9a9\" d=\"M257.25,-160.6947C257.25,-160.6947 257.25,-135.0658 257.25,-135.0658\"/>\n",
       "<polygon fill=\"#a9a9a9\" stroke=\"#a9a9a9\" points=\"260.7501,-135.0657 257.25,-125.0658 253.7501,-135.0658 260.7501,-135.0657\"/>\n",
       "</g>\n",
       "<!-- MWU -->\n",
       "<g id=\"node4\" class=\"node\">\n",
       "<title>MWU</title>\n",
       "<polygon fill=\"#f4a261\" stroke=\"#eeeeee\" points=\"267,-53 70,-53 70,0 267,0 267,-53\"/>\n",
       "<text text-anchor=\"middle\" x=\"168.5\" y=\"-37.8\" font-family=\"roboto\" font-size=\"14.00\" fill=\"#eeeeee\">Municipal Water Withdrawal </text>\n",
       "<text text-anchor=\"middle\" x=\"168.5\" y=\"-22.8\" font-family=\"roboto\" font-size=\"14.00\" fill=\"#eeeeee\"> (MWU) </text>\n",
       "<text text-anchor=\"middle\" x=\"168.5\" y=\"-7.8\" font-family=\"roboto\" font-size=\"14.00\" fill=\"#eeeeee\"> m3/year</text>\n",
       "</g>\n",
       "<!-- MWU_comp&#45;&gt;MWU -->\n",
       "<g id=\"edge4\" class=\"edge\">\n",
       "<title>MWU_comp&#45;&gt;MWU</title>\n",
       "<path fill=\"none\" stroke=\"#a9a9a9\" d=\"M168.5,-88.7333C168.5,-88.7333 168.5,-63.2477 168.5,-63.2477\"/>\n",
       "<polygon fill=\"#a9a9a9\" stroke=\"#a9a9a9\" points=\"172.0001,-63.2476 168.5,-53.2477 165.0001,-63.2477 172.0001,-63.2476\"/>\n",
       "</g>\n",
       "</g>\n",
       "</svg>\n"
      ],
      "text/plain": [
       "<graphviz.dot.Digraph at 0x7f370d31d310>"
      ]
     },
     "execution_count": 11,
     "metadata": {},
     "output_type": "execute_result"
    }
   ],
   "source": [
    "MWU_model.draw()"
   ]
  }
 ],
 "metadata": {
  "kernelspec": {
   "display_name": "Python 3",
   "language": "python",
   "name": "python3"
  },
  "language_info": {
   "codemirror_mode": {
    "name": "ipython",
    "version": 3
   },
   "file_extension": ".py",
   "mimetype": "text/x-python",
   "name": "python",
   "nbconvert_exporter": "python",
   "pygments_lexer": "ipython3",
   "version": "3.7.7"
  }
 },
 "nbformat": 4,
 "nbformat_minor": 4
}
