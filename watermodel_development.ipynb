{
 "cells": [
  {
   "cell_type": "code",
   "execution_count": 6,
   "metadata": {
    "ExecuteTime": {
     "end_time": "2021-02-17T04:12:07.124182Z",
     "start_time": "2021-02-17T04:12:07.021699Z"
    }
   },
   "outputs": [],
   "source": [
    "import pandas as pd\n",
    "from database import select_dataset\n",
    "import numpy as np"
   ]
  },
  {
   "cell_type": "code",
   "execution_count": 7,
   "metadata": {
    "ExecuteTime": {
     "end_time": "2021-02-17T04:12:08.921176Z",
     "start_time": "2021-02-17T04:12:07.161059Z"
    }
   },
   "outputs": [],
   "source": [
    "# FIND WAY TO WRAP THIS CLEANLY CAUSE IT's A MESS !\n",
    "\n",
    "aquastat = select_dataset('aquastat').dropna()\n",
    "evapotranspiration = select_dataset('evapotranspiration').dropna().drop_duplicates()\n",
    "cropcalendar = select_dataset('cropcalendar').drop(columns=['Year'])\n",
    "efficientwater = select_dataset('efficientwater')\n",
    "wb_data = select_dataset('worldbank')"
   ]
  },
  {
   "cell_type": "code",
   "execution_count": 8,
   "metadata": {
    "ExecuteTime": {
     "end_time": "2021-02-17T04:12:08.926505Z",
     "start_time": "2021-02-17T04:12:08.922538Z"
    }
   },
   "outputs": [],
   "source": [
    "def pivot(df):\n",
    "    return df.pivot(index=['ISO', 'Year'], columns='Variable', values='Value')\n",
    "\n",
    "def fill_missing_values(df):\n",
    "    return df.groupby(level='ISO').fillna(method='ffill')\\\n",
    "             .groupby(level='ISO').fillna(method='bfill')\n",
    "\n",
    "def df_to_dict(df):\n",
    "    X = {}\n",
    "    for code in df.columns:\n",
    "        X[code] = df[code].fillna(0)\n",
    "    return X"
   ]
  },
  {
   "cell_type": "code",
   "execution_count": 9,
   "metadata": {
    "ExecuteTime": {
     "end_time": "2021-02-17T04:12:08.940396Z",
     "start_time": "2021-02-17T04:12:08.928417Z"
    }
   },
   "outputs": [],
   "source": [
    "def process_datasets(aquastat, efficientwater, wb_data,  evapotranspiration, cropcalendar):\n",
    "    '''To cleanup !!! '''\n",
    "    \n",
    "    aquastat = aquastat[~aquastat.ISO.isin(['USA', 'CHN', 'IND', 'RUS'])] # Not parsed !\n",
    "    aquastat = aquastat[aquastat.Variable != 'CI']\n",
    "    aquastat['Year'] = aquastat['Year'].astype(int)\n",
    "    wb_data['Year'] = wb_data['Year'].astype(int)\n",
    "    \n",
    "    aquastat = fill_missing_values(pivot(aquastat))\n",
    "    evapotranspiration = pivot(evapotranspiration)\n",
    "    ETa = fill_missing_values(evapotranspiration['ETa'])\n",
    "    ETo = evapotranspiration['ETo'].reset_index('Year', drop=True).dropna()\n",
    "    cropcalendar = cropcalendar.pivot(index=['ISO', 'Item'], columns='Variable', values='Value')\n",
    "    wb_data = pivot(wb_data)\n",
    "    efficientwater = pivot(efficientwater)\n",
    "\n",
    "    X = df_to_dict(aquastat)\n",
    "    \n",
    "    gva = df_to_dict(wb_data)\n",
    "    ew = df_to_dict(efficientwater)\n",
    "    \n",
    "    X.update(gva)\n",
    "    X.update(ew)\n",
    "    \n",
    "    X['ETa'] = ETa\n",
    "    X['ETo'] = ETo\n",
    "    X['LWU'] = 0\n",
    "    X['KC'] = cropcalendar['Kc']\n",
    "    X['ICA'] = cropcalendar['ICA']\n",
    "    \n",
    "    \n",
    "    return X"
   ]
  },
  {
   "cell_type": "code",
   "execution_count": 10,
   "metadata": {
    "ExecuteTime": {
     "end_time": "2021-02-17T04:12:09.323519Z",
     "start_time": "2021-02-17T04:12:08.943236Z"
    }
   },
   "outputs": [],
   "source": [
    "data_dict = process_datasets(aquastat, efficientwater, wb_data,  evapotranspiration, cropcalendar)"
   ]
  },
  {
   "cell_type": "markdown",
   "metadata": {},
   "source": [
    "# Model"
   ]
  },
  {
   "cell_type": "code",
   "execution_count": 11,
   "metadata": {
    "ExecuteTime": {
     "end_time": "2021-02-17T04:12:09.328084Z",
     "start_time": "2021-02-17T04:12:09.324962Z"
    }
   },
   "outputs": [],
   "source": [
    "from graphmodels.graphmodel import GraphModel, converte_to_format, concatenate_graph_specs\n",
    "import numpy as np\n",
    "from graphmodels.validation import score_model\n",
    "from models.Sarah.model_EW import EW_models, MWU_model\n",
    "from graphmodels.utils import get_X_y_from_data"
   ]
  },
  {
   "cell_type": "code",
   "execution_count": 12,
   "metadata": {
    "ExecuteTime": {
     "end_time": "2021-02-17T04:12:10.305810Z",
     "start_time": "2021-02-17T04:12:09.330500Z"
    }
   },
   "outputs": [
    {
     "name": "stdout",
     "output_type": "stream",
     "text": [
      "IWW_model : \n",
      "         r2  correlation         rmse Variable\n",
      "0 -0.126651     0.937999   179.193726      IWR\n",
      "1 -4.205210     0.418487  1603.099040      IWW\n",
      "2 -0.062886     0.913503   575.215642      AWU\n",
      "EW1_partial_model : \n",
      "         r2  correlation         rmse Variable\n",
      "0  0.989945     0.994980     5.560493      TWW\n",
      "1 -1.318223     0.491137  8018.101538      EW1\n",
      "EW2_partial_model : \n",
      "         r2  correlation          rmse Variable\n",
      "0  0.976665     0.990610  13890.813076      TFA\n",
      "1 -0.111783     0.251153  54394.503560      EW2\n",
      "EW1_model : \n"
     ]
    },
    {
     "name": "stderr",
     "output_type": "stream",
     "text": [
      "/home/simon/anaconda3/lib/python3.7/site-packages/pandas/core/arraylike.py:358: RuntimeWarning: divide by zero encountered in log\n",
      "  result = getattr(ufunc, method)(*inputs, **kwargs)\n"
     ]
    },
    {
     "name": "stdout",
     "output_type": "stream",
     "text": [
      "         r2  correlation         rmse Variable\n",
      "0 -0.126651     0.937999   179.193726      IWR\n",
      "1 -4.205210     0.418487  1603.099040      IWW\n",
      "2 -0.062886     0.913503   575.215642      AWU\n",
      "3  0.885780     0.945409     0.928600      MWU\n",
      "4  0.185689     0.904184   648.592989      TWW\n",
      "5  0.371841     0.670514  2356.053564      EW1\n",
      "EW2_model : \n",
      "         r2  correlation          rmse Variable\n",
      "0 -0.126651     0.937999    179.193726      IWR\n",
      "1 -4.205210     0.418487   1603.099040      IWW\n",
      "2 -0.062886     0.913503    575.215642      AWU\n",
      "3  0.885780     0.945409      0.928600      MWU\n",
      "4  0.976665     0.990610  13890.813076      TFA\n",
      "5 -0.111783     0.251153  54394.503560      EW2\n"
     ]
    },
    {
     "name": "stderr",
     "output_type": "stream",
     "text": [
      "/home/simon/anaconda3/lib/python3.7/site-packages/pandas/core/arraylike.py:358: RuntimeWarning: divide by zero encountered in log\n",
      "  result = getattr(ufunc, method)(*inputs, **kwargs)\n"
     ]
    }
   ],
   "source": [
    "for model_name, model in EW_models.items():\n",
    "    print(model_name, ': ')\n",
    "    X, y = get_X_y_from_data(model, data_dict)\n",
    "    print(score_model(model, X, y))"
   ]
  },
  {
   "cell_type": "markdown",
   "metadata": {},
   "source": [
    "# Test on model"
   ]
  },
  {
   "cell_type": "code",
   "execution_count": null,
   "metadata": {
    "ExecuteTime": {
     "end_time": "2021-02-16T08:19:05.765528Z",
     "start_time": "2021-02-16T08:19:05.556269Z"
    }
   },
   "outputs": [],
   "source": [
    "WP = data_dict['WP']\n",
    "GDPC = data_dict['GDPC']\n",
    "Pop = data_dict['Pop']\n",
    "MWU = data_dict['MWU']\n",
    "\n",
    "scenario_df = pd.concat([WP, GDPC, Pop, MWU], axis=1).rename(columns={0: 'GDPC'}).reset_index()\n",
    "ISO_scenario_df = scenario_df.query(\"ISO == 'FRA' and Year > 2005\")\\\n",
    "                             .fillna(method='ffill')\\\n",
    "                             .fillna(method='bfill')\n",
    "\n",
    "X = df_to_dict(ISO_scenario_df.set_index(['ISO', 'Year']))"
   ]
  },
  {
   "cell_type": "code",
   "execution_count": null,
   "metadata": {
    "ExecuteTime": {
     "end_time": "2021-02-16T08:19:05.776654Z",
     "start_time": "2021-02-16T08:19:05.768187Z"
    }
   },
   "outputs": [],
   "source": [
    "MWU_comp = MWU_model.run(X)['MWU']"
   ]
  },
  {
   "cell_type": "code",
   "execution_count": null,
   "metadata": {
    "ExecuteTime": {
     "end_time": "2021-02-16T08:19:06.127999Z",
     "start_time": "2021-02-16T08:19:06.121397Z"
    }
   },
   "outputs": [],
   "source": [
    "ISO_scenario_df['MWU_comp'] = MWU_comp.values"
   ]
  },
  {
   "cell_type": "code",
   "execution_count": null,
   "metadata": {
    "ExecuteTime": {
     "end_time": "2021-02-16T08:19:06.454894Z",
     "start_time": "2021-02-16T08:19:06.429819Z"
    }
   },
   "outputs": [],
   "source": [
    "ISO_scenario_df"
   ]
  },
  {
   "cell_type": "code",
   "execution_count": null,
   "metadata": {
    "ExecuteTime": {
     "end_time": "2021-02-16T07:48:52.301678Z",
     "start_time": "2021-02-16T07:48:52.250587Z"
    }
   },
   "outputs": [],
   "source": [
    "MWU_model.draw()"
   ]
  },
  {
   "cell_type": "code",
   "execution_count": null,
   "metadata": {
    "ExecuteTime": {
     "end_time": "2021-02-16T07:48:52.343164Z",
     "start_time": "2021-02-16T07:48:52.304599Z"
    }
   },
   "outputs": [],
   "source": [
    "aquastat.query(\"Variable == 'MWU'\")"
   ]
  }
 ],
 "metadata": {
  "kernelspec": {
   "display_name": "Python 3",
   "language": "python",
   "name": "python3"
  },
  "language_info": {
   "codemirror_mode": {
    "name": "ipython",
    "version": 3
   },
   "file_extension": ".py",
   "mimetype": "text/x-python",
   "name": "python",
   "nbconvert_exporter": "python",
   "pygments_lexer": "ipython3",
   "version": "3.7.7"
  }
 },
 "nbformat": 4,
 "nbformat_minor": 4
}
