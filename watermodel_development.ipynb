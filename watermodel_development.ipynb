{
 "cells": [
  {
   "cell_type": "code",
   "execution_count": 43,
   "metadata": {
    "ExecuteTime": {
     "end_time": "2021-02-03T06:32:38.295269Z",
     "start_time": "2021-02-03T06:32:38.292590Z"
    }
   },
   "outputs": [],
   "source": [
    "import pandas as pd\n",
    "from database import select_dataset"
   ]
  },
  {
   "cell_type": "code",
   "execution_count": 52,
   "metadata": {
    "ExecuteTime": {
     "end_time": "2021-02-03T06:33:41.236463Z",
     "start_time": "2021-02-03T06:33:40.845088Z"
    }
   },
   "outputs": [],
   "source": [
    "aquastat = select_dataset('aquastat')\n",
    "evapotranspiration = select_dataset('evapotranspiration').dropna().drop_duplicates()\n",
    "cropcalendar = select_dataset('cropcalendar').drop(columns=['Year'])"
   ]
  },
  {
   "cell_type": "code",
   "execution_count": 45,
   "metadata": {
    "ExecuteTime": {
     "end_time": "2021-02-03T06:32:38.850471Z",
     "start_time": "2021-02-03T06:32:38.845368Z"
    }
   },
   "outputs": [],
   "source": [
    "def pivot(df):\n",
    "    return df.pivot(index=['ISO', 'Year'], columns='Variable', values='Value')\n",
    "\n",
    "def fill_missing_values(df):\n",
    "    return df.groupby(level='ISO').fillna(method='ffill')\\\n",
    "             .groupby(level='ISO').fillna(method='bfill')"
   ]
  },
  {
   "cell_type": "code",
   "execution_count": 55,
   "metadata": {
    "ExecuteTime": {
     "end_time": "2021-02-03T06:34:08.744905Z",
     "start_time": "2021-02-03T06:34:08.332126Z"
    }
   },
   "outputs": [],
   "source": [
    "aquastat = fill_missing_values(pivot(aquastat))\n",
    "\n",
    "evapotranspiration = pivot(evapotranspiration)\n",
    "ETa = fill_missing_values(evapotranspiration['ETa'])\n",
    "ETo = evapotranspiration['ETo'].reset_index('Year', drop=True).dropna()\n",
    "\n",
    "cropcalendar = cropcalendar.pivot(index=['ISO', 'Item'], columns='Variable', values='Value')"
   ]
  },
  {
   "cell_type": "code",
   "execution_count": null,
   "metadata": {
    "ExecuteTime": {
     "end_time": "2021-02-03T02:00:15.083439Z",
     "start_time": "2021-02-03T02:00:15.072900Z"
    }
   },
   "outputs": [],
   "source": [
    "def df_to_dict(df):\n",
    "    X = {}\n",
    "    for code in df.columns:\n",
    "        X[code] = df[code].fillna(0)\n",
    "    return X"
   ]
  },
  {
   "cell_type": "code",
   "execution_count": null,
   "metadata": {
    "ExecuteTime": {
     "end_time": "2021-02-03T02:00:15.179564Z",
     "start_time": "2021-02-03T02:00:15.170400Z"
    }
   },
   "outputs": [],
   "source": [
    "X = df_to_dict(aquastat)"
   ]
  },
  {
   "cell_type": "code",
   "execution_count": null,
   "metadata": {
    "ExecuteTime": {
     "end_time": "2021-02-03T02:00:15.496153Z",
     "start_time": "2021-02-03T02:00:15.330292Z"
    }
   },
   "outputs": [],
   "source": [
    "X['KC'] = cropcalendar.pivot(index=['ISO', 'Item'], columns='Variable', values='Value')['Kc']\n",
    "X['ETa'] = pivot(evapotranspiration)['ETa'].groupby(level='ISO').fillna(method='ffill').fillna(method='bfill')\n",
    "X['ETo'] = pivot(evapotranspiration)['ETo'].reset_index('Year', drop=True).dropna()\n",
    "X['LWU'] = 0"
   ]
  },
  {
   "cell_type": "markdown",
   "metadata": {},
   "source": [
    "# Model"
   ]
  },
  {
   "cell_type": "code",
   "execution_count": null,
   "metadata": {
    "ExecuteTime": {
     "end_time": "2021-02-03T02:00:18.455369Z",
     "start_time": "2021-02-03T02:00:17.990762Z"
    }
   },
   "outputs": [],
   "source": [
    "from graphmodels.graphmodel_exp import GraphModel, converte_to_format, concatenate_graph_specs\n",
    "import numpy as np"
   ]
  },
  {
   "cell_type": "code",
   "execution_count": null,
   "metadata": {
    "ExecuteTime": {
     "end_time": "2021-02-01T08:06:02.739941Z",
     "start_time": "2021-02-01T08:06:02.659301Z"
    }
   },
   "outputs": [],
   "source": [
    "height_rice = 0.2  # meter height of rice\n",
    "ha_to_m2 = 1e3 #* 1e3\n",
    "mm_to_m = 1 # 1e-3\n",
    "\n",
    "IWW_nodes = {'KC': {'type': 'parameter', 'unit': '1', 'name': 'Crop Factor Vector'},\n",
    "             'CI': {'type': 'parameter', 'unit': '%', 'name': 'Cropping Intensity'},\n",
    "             'ETo': {'type': 'input', 'unit': 'mm/year', 'name': 'Evapotranspiration'},\n",
    "             'ETc': {'type': 'variable',\n",
    "                     'name': 'Potential Crop Evaporation Vector',\n",
    "                     'unit': 'mm/year',\n",
    "                     'computation': lambda KC, CI, ETo, **kwargs: KC * ETo\n",
    "                     },\n",
    "             'ETa': {'type': 'input',\n",
    "                     'unit': 'mm/year',\n",
    "                     'name': 'Actual Evapotranspiration'},\n",
    "             'ICU': {'type': 'variable',\n",
    "                     'name': 'Irrigation Consumptive Use',\n",
    "                     'unit': 'mm/year',\n",
    "                     'computation': lambda ETc, ETa, **kwargs: ETc - ETa\n",
    "                     },\n",
    "             'AIR': {'type': 'parameter',\n",
    "                     'unit': '1000 ha',\n",
    "                     'name': 'Area Actually Irrigated'},\n",
    "             'Arice': {'type': 'parameter',\n",
    "                       'unit': '1000 ha',\n",
    "                       'name': 'Area of Rice Paddy Irrigation'},\n",
    "             'WRR': {'type': 'parameter', 'name': 'Water Requirement Ratio', 'unit': '1'},\n",
    "#              'PSIR': {'type': 'input',\n",
    "#                       'unit': '1',\n",
    "#                       'name': 'Proportion of Surface Irrigation'},\n",
    "#              'PSPIR': {'type': 'input',\n",
    "#                        'unit': '1',\n",
    "#                        'name': 'Proportion of Sprinker Irrigation'},\n",
    "#              'PLIR': {'type': 'input',\n",
    "#                       'unit': '1',\n",
    "#                       'name': 'Proportion of Localised Irrigation'},\n",
    "#              'ESIR': {'type': 'parameter',\n",
    "#                       'unit': '1',\n",
    "#                       'name': 'Efficiency of Surface Irrigation'},\n",
    "#              'ESPIR': {'type': 'parameter',\n",
    "#                        'unit': '1',\n",
    "#                        'name': 'Efficiency of Sprinker Irrigation'},\n",
    "#              'ELIR': {'type': 'parameter',\n",
    "#                       'unit': '1',\n",
    "#                       'name': 'Efficiency of Localised Irrigation'},\n",
    "#              'WRR_policy': {'type': 'variable',\n",
    "#                             'name': 'Water Requirement Ratio',\n",
    "#                             'unit': '1',\n",
    "#                             'computation': lambda PSIR, ESIR, PSPIR, ESPIR, PLIR, ELIR, **kwargs: PSIR/ESIR + PSPIR / ESPIR + PLIR / ELIR\n",
    "#                             },\n",
    "             'IWR': {'type': 'variable',\n",
    "                     'name': ' Irrigation Water Requirement',\n",
    "                     'unit': 'm3/year',\n",
    "                     'computation': lambda ICU, AIR, Arice, **kwargs: ha_to_m2 * ((mm_to_m * ICU * AIR).groupby(level='ISO').sum() + Arice * height_rice)\n",
    "                     },\n",
    "             'IWW': {'type': 'variable',\n",
    "                     'name': ' Irrigation Water Withdrawal',\n",
    "                     'unit': 'm3/year',\n",
    "                     'computation': lambda IWR, WRR, **kwargs: IWR / WRR * 1e2\n",
    "                     },\n",
    "             'LWU': {'type': 'input', 'name': 'Livestock Water Use', 'unit': 'm3/year'},\n",
    "             'AWU': {'type': 'variable', 'unit': 'm3/year',\n",
    "                     'name': 'Agricultural Water Withdrawal',\n",
    "                     'computation': lambda LWU, IWW, **kwargs: LWU + IWW\n",
    "                     },\n",
    "             }\n",
    "\n",
    "IWW_model = GraphModel(IWW_nodes)\n",
    "\n",
    "IWW_model.draw()"
   ]
  },
  {
   "cell_type": "code",
   "execution_count": null,
   "metadata": {
    "ExecuteTime": {
     "end_time": "2021-02-01T08:06:03.357724Z",
     "start_time": "2021-02-01T08:06:03.320628Z"
    }
   },
   "outputs": [],
   "source": [
    "res = IWW_model.run(X)"
   ]
  },
  {
   "cell_type": "code",
   "execution_count": null,
   "metadata": {
    "ExecuteTime": {
     "end_time": "2021-02-01T02:52:36.514011Z",
     "start_time": "2021-02-01T02:52:36.502991Z"
    }
   },
   "outputs": [],
   "source": [
    "res['ETo'].loc['MEX', :, 2007]#.sum()"
   ]
  },
  {
   "cell_type": "code",
   "execution_count": null,
   "metadata": {
    "ExecuteTime": {
     "end_time": "2021-02-01T01:41:37.871294Z",
     "start_time": "2021-02-01T01:41:37.861472Z"
    }
   },
   "outputs": [],
   "source": [
    "res['AIR'].loc['HUN',2007] * 1e3"
   ]
  },
  {
   "cell_type": "code",
   "execution_count": null,
   "metadata": {
    "ExecuteTime": {
     "end_time": "2021-02-01T01:41:38.061337Z",
     "start_time": "2021-02-01T01:41:38.052592Z"
    }
   },
   "outputs": [],
   "source": [
    "res['ICU'].loc['HUN', :, 2007].sum()"
   ]
  },
  {
   "cell_type": "code",
   "execution_count": null,
   "metadata": {
    "ExecuteTime": {
     "end_time": "2021-02-01T08:06:07.472825Z",
     "start_time": "2021-02-01T08:06:07.460883Z"
    }
   },
   "outputs": [],
   "source": [
    "res['IWW'].loc['HUN',]"
   ]
  },
  {
   "cell_type": "code",
   "execution_count": null,
   "metadata": {
    "ExecuteTime": {
     "end_time": "2021-02-01T01:49:49.840544Z",
     "start_time": "2021-02-01T01:49:49.828841Z"
    }
   },
   "outputs": [],
   "source": [
    "res['ICU'].loc['MEX', :, 2007].sum()"
   ]
  },
  {
   "cell_type": "code",
   "execution_count": null,
   "metadata": {
    "ExecuteTime": {
     "end_time": "2021-02-01T01:48:28.110016Z",
     "start_time": "2021-02-01T01:48:28.102805Z"
    }
   },
   "outputs": [],
   "source": [
    "X['ETo'].loc['MEX'] #* 1e9"
   ]
  },
  {
   "cell_type": "code",
   "execution_count": null,
   "metadata": {
    "ExecuteTime": {
     "end_time": "2021-02-01T01:49:05.852871Z",
     "start_time": "2021-02-01T01:49:05.838603Z"
    }
   },
   "outputs": [],
   "source": [
    "X['KC'].loc['MEX'] #* 1e9"
   ]
  },
  {
   "cell_type": "markdown",
   "metadata": {},
   "source": [
    "# cleanup"
   ]
  },
  {
   "cell_type": "code",
   "execution_count": null,
   "metadata": {
    "ExecuteTime": {
     "end_time": "2021-02-03T02:00:55.550135Z",
     "start_time": "2021-02-03T02:00:55.431696Z"
    }
   },
   "outputs": [],
   "source": [
    "height_rice = 0.2  # meter height of rice\n",
    "ha_to_m2 = 1e3 #* 1e3\n",
    "mm_to_m = 1 # 1e-3\n",
    "\n",
    "IWW_nodes = {'KC': {'type': 'parameter', 'unit': '1', 'name': 'Crop Factor Vector'},\n",
    "             'CI': {'type': 'parameter', 'unit': '%', 'name': 'Cropping Intensity'},\n",
    "             'ETo': {'type': 'input', 'unit': 'mm/year', 'name': 'Evapotranspiration'},\n",
    "             'ETc': {'type': 'variable',\n",
    "                     'name': 'Potential Crop Evaporation Vector',\n",
    "                     'unit': 'mm/year',\n",
    "                     'computation': lambda KC, CI, ETo, **kwargs: KC * ETo\n",
    "                     },\n",
    "             'ETa': {'type': 'input',\n",
    "                     'unit': 'mm/year',\n",
    "                     'name': 'Actual Evapotranspiration'},\n",
    "             'ICU': {'type': 'variable',\n",
    "                     'name': 'Irrigation Consumptive Use',\n",
    "                     'unit': 'mm/year',\n",
    "                     'computation': lambda ETc, ETa, **kwargs: ETc - ETa\n",
    "                     },\n",
    "             'AIR': {'type': 'parameter',\n",
    "                     'unit': '1000 ha',\n",
    "                     'name': 'Area Actually Irrigated'},\n",
    "             'Arice': {'type': 'parameter',\n",
    "                       'unit': '1000 ha',\n",
    "                       'name': 'Area of Rice Paddy Irrigation'},\n",
    "             'WRR': {'type': 'parameter', 'name': 'Water Requirement Ratio', 'unit': '1'},\n",
    "             'PSIR': {'type': 'input',\n",
    "                      'unit': '1',\n",
    "                      'name': 'Proportion of Surface Irrigation'},\n",
    "             'PSPIR': {'type': 'input',\n",
    "                       'unit': '1',\n",
    "                       'name': 'Proportion of Sprinker Irrigation'},\n",
    "             'PLIR': {'type': 'input',\n",
    "                      'unit': '1',\n",
    "                      'name': 'Proportion of Localised Irrigation'},\n",
    "             'ESIR': {'type': 'parameter',\n",
    "                      'unit': '1',\n",
    "                      'name': 'Efficiency of Surface Irrigation'},\n",
    "             'ESPIR': {'type': 'parameter',\n",
    "                       'unit': '1',\n",
    "                       'name': 'Efficiency of Sprinker Irrigation'},\n",
    "             'ELIR': {'type': 'parameter',\n",
    "                      'unit': '1',\n",
    "                      'name': 'Efficiency of Localised Irrigation'},\n",
    "             'WRR_policy': {'type': 'variable',\n",
    "                            'name': 'Water Requirement Ratio',\n",
    "                            'unit': '1',\n",
    "                            'computation': lambda PSIR, ESIR, PSPIR, ESPIR, PLIR, ELIR, **kwargs: PSIR/ESIR + PSPIR / ESPIR + PLIR / ELIR\n",
    "                            },\n",
    "             'IWR': {'type': 'variable',\n",
    "                     'name': ' Irrigation Water Requirement',\n",
    "                     'unit': 'm3/year',\n",
    "                     'computation': lambda ICU, AIR, Arice, **kwargs: ha_to_m2 * ((mm_to_m * ICU * AIR).groupby(level='ISO').sum() + Arice * height_rice)\n",
    "                     },\n",
    "             'IWW': {'type': 'variable',\n",
    "                     'name': ' Irrigation Water Withdrawal',\n",
    "                     'unit': 'm3/year',\n",
    "                     'computation': lambda IWR, WRR, **kwargs: IWR / WRR * 1e2\n",
    "                     },\n",
    "             'LWU': {'type': 'input', 'name': 'Livestock Water Use', 'unit': 'm3/year'},\n",
    "             'AWU': {'type': 'variable', 'unit': 'm3/year',\n",
    "                     'name': 'Agricultural Water Withdrawal',\n",
    "                     'computation': lambda LWU, IWW, **kwargs: LWU + IWW\n",
    "                     },\n",
    "             }\n",
    "\n",
    "IWW_model = GraphModel(IWW_nodes)\n",
    "\n",
    "IWW_model.draw()"
   ]
  },
  {
   "cell_type": "code",
   "execution_count": null,
   "metadata": {
    "ExecuteTime": {
     "end_time": "2021-02-03T02:03:51.711378Z",
     "start_time": "2021-02-03T02:03:51.694954Z"
    }
   },
   "outputs": [],
   "source": [
    "converte_to_format(EW1_nodes)"
   ]
  },
  {
   "cell_type": "code",
   "execution_count": null,
   "metadata": {},
   "outputs": [],
   "source": []
  },
  {
   "cell_type": "code",
   "execution_count": null,
   "metadata": {
    "ExecuteTime": {
     "end_time": "2021-02-03T02:03:49.934635Z",
     "start_time": "2021-02-03T02:03:49.849330Z"
    },
    "scrolled": false
   },
   "outputs": [],
   "source": [
    "EW1_nodes = {'IWU': {'type': 'parameter',\n",
    "                     'name': 'Industrial Water Withdrawal',\n",
    "                     'unit': 'm3/year'},\n",
    "             'AIR': {'type': 'parameter',\n",
    "                     'unit': '1000 ha',\n",
    "                     'name': 'Area Actually Irrigated'},\n",
    "             'MWU': {'type': 'input',\n",
    "                     'name': 'Municipal Water Withdrawal',\n",
    "                     'unit': 'm3/year'},\n",
    "             'AWU': {'type': 'input',\n",
    "                     'name': 'Agricultural Water Withdrawal',\n",
    "                     'unit': 'm3/year'},\n",
    "             'TWW': {'type': 'variable',\n",
    "                     'name': 'Total Water Withdrawal',\n",
    "                     'unit': 'm3/year',\n",
    "                     'computation': lambda AWU, IWU, MWU, **kwargs: AWU + IWU + MWU\n",
    "                     },\n",
    "             'TC': {'type': 'parameter',\n",
    "                    'unit': '1000 ha',\n",
    "                    'name': 'Total Cultivated Land'},\n",
    "             'Ai': {'type': 'variable',\n",
    "                    'name': 'Proportion of Irrigated Land',\n",
    "                    'unit': '',\n",
    "                    'computation': lambda AIR, TC, **kwargs: AIR / TC\n",
    "                    },\n",
    "             'Cr': {'type': 'variable',\n",
    "                    'name': 'Corrective coefficient',\n",
    "                    'unit': '',\n",
    "                    'computation': lambda Ai, **kwargs: 1 / (1 + (Ai/(1-Ai)*0.375))\n",
    "                    },\n",
    "             'AGVA': {'type': 'parameter',\n",
    "                      'name': 'Agricultural Gross Value Added',\n",
    "                      'unit': '$'},\n",
    "\n",
    "             'IGVA': {'type': 'parameter',\n",
    "                      'name': 'Industrial Gross Value Added',\n",
    "                      'unit': '$'},\n",
    " \n",
    "             'SGVA': {'type': 'parameter',\n",
    "                      'name': 'Service Sector Gross Value Added',\n",
    "                      'unit': '$'},\n",
    "  \n",
    "     \n",
    "             'EW1': {'type': 'output',\n",
    "                     'name': 'Water Use Efficiency',\n",
    "                     'unit': '$/(m3/year)',\n",
    "                     'computation': lambda TWW, IGVA, SGVA, AGVA, **kwargs: (IGVA + SGVA + AGVA) / TWW\n",
    "                     }}\n",
    "EW1_model = GraphModel(EW1_nodes)\n",
    "\n",
    "EW1_model.draw()\n"
   ]
  },
  {
   "cell_type": "code",
   "execution_count": null,
   "metadata": {
    "ExecuteTime": {
     "end_time": "2021-01-28T01:06:45.661243Z",
     "start_time": "2021-01-28T01:06:45.512616Z"
    }
   },
   "outputs": [],
   "source": [
    "ha_to_m2 = 1e4 \n",
    "mm_to_m = 1e-3\n",
    "\n",
    "EW2_nodes = {'P': {'type': 'input', 'unit': 'mm/year', 'name': 'Precipitation'},\n",
    "             'ETa': {'type': 'input', 'unit': 'mm/year', 'name': 'Actual Evapotranspiration'},\n",
    "             'A': {'type': 'input', 'unit': 'ha', 'name': 'Catchment Size'},\n",
    "             'S': {'type': 'variable',\n",
    "                   'name': 'Change in Surface Water Storage',\n",
    "                   'unit': 'm3/year',\n",
    "                   'computation': lambda P, ETa, A, **kwargs: (P - ETa) * A * ha_m2 * mm_to_m\n",
    "                  },\n",
    "             'SW': {'type': 'parameter', 'unit': 'm3/year', 'name': 'Surface Water'},\n",
    "             'GW': {'type': 'parameter', 'unit': 'm3/year', 'name': 'Groundwater Water'},\n",
    "             'Overlap': {'type': 'parameter',\n",
    "                         'unit': 'm3/year',\n",
    "                         'name': 'Overlap (Surface - Groundwater)'},\n",
    "             'IRWR': {'type': 'variable',\n",
    "                      'name': 'Internal Renewable Water Resources',\n",
    "                      'unit': 'm3/year',\n",
    "                      'computation': lambda GW, SW, S, Overlap, **kwargs: GW + (SW - S) - Overlap\n",
    "                     },\n",
    "             'ERWR': {'type': 'parameter',\n",
    "                      'unit': 'm3/year',\n",
    "                      'name': 'External Renewable Water Resources'},\n",
    "             'TRF': {'type': 'variable',\n",
    "                     'name': 'Total Renewable Freshwater',\n",
    "                     'unit': 'm3/year',\n",
    "                     'computation': lambda IRWR, ERWR, **kwargs: IRWR + ERWR\n",
    "                    },\n",
    "             'DW': {'type': 'parameter', 'unit': 'm3/year', 'name': 'Desalination Water'},\n",
    "             'TW': {'type': 'parameter', 'unit': 'm3/year', 'name': 'Treated Wastewater'},\n",
    "             'TNCW': {'type': 'variable',\n",
    "                      'name': 'Total Non Conventional Water',\n",
    "                      'unit': 'm3/year',\n",
    "                      'computation': lambda DW, TW, **kwargs: DW + TW\n",
    "                     },\n",
    "             'TFA': {'type': 'variable',\n",
    "                     'name': 'Total Freshwater Available',\n",
    "                     'unit': 'm3/year',\n",
    "                     'computation': lambda TRF, TNCW, **kwargs: TRF + TNCW\n",
    "                    },\n",
    "             'TWW': {'type': 'input', 'unit': 'm3/year', 'name': 'Total Water Withdrawal'},\n",
    "             'EFR': {'type': 'parameter',\n",
    "                     'unit': 'm3/year',\n",
    "                     'name': 'Environmental Flow Requirement'},\n",
    "             'EW2': {'type': 'output',\n",
    "                     'name': 'Share of Freshwater Withdrawal to Freshwater Availability',\n",
    "                     'unit': '1',\n",
    "                     'computation': lambda TWW, TFA, EFR, **kwargs: TWW / (TFA - EFR)\n",
    "                    },\n",
    "             'Natural EW2': {'type': 'output',\n",
    "                             'name': 'Share of Freshwater Withdrawal to Freshwater Availability',\n",
    "                             'unit': '1',\n",
    "                             'computation': lambda TWW, TRF, EFR, **kwargs: TWW / (TRF - EFR)\n",
    "                            }\n",
    "            }\n",
    "\n",
    "GraphModel(EW2_nodes).draw()\n"
   ]
  },
  {
   "cell_type": "code",
   "execution_count": null,
   "metadata": {
    "ExecuteTime": {
     "end_time": "2021-01-28T01:06:45.796119Z",
     "start_time": "2021-01-28T01:06:45.663694Z"
    }
   },
   "outputs": [],
   "source": [
    "#Municipal Water Use\n",
    "MWU_nodes= [{'type': 'input',\n",
    "  'name': 'Water Price', \n",
    "  'unit': '$/15m3',\n",
    "  'id': 'P'},\n",
    "  {'type': 'parameter',\n",
    "  'name': 'GDP per capita',\n",
    "  'unit': '$',\n",
    "  'id': 'GDPC'}, \n",
    "  {'type': 'variable',\n",
    "  'name': 'Municipal Water Demand',\n",
    "  'unit': 'm3/year/person',\n",
    "  'in': ['P','GDPC'],\n",
    "  'computation': {'name': '2.39 * GDPC^0.37 * Price^-0.33 ', 'formula': lambda X: 2.39 * X['GDPC']**0.37 * X['P']**-0.33},\n",
    "  'id': 'MWUD'},\n",
    "  {'type': 'parameter',\n",
    "  'name': 'Population',\n",
    "  'unit': 'millions',\n",
    "  'id': 'Pop'}, \n",
    "  {'type': 'variable',\n",
    "  'name': 'Municipal Water Withdrawal',\n",
    "  'unit': 'm3/year',\n",
    "  'in': ['Pop','MWUD'],\n",
    "  'computation': {'name': 'MWUD * Pop ', 'formula': lambda X: X['MWUD'] * X['Pop']},\n",
    "  'id': 'MWU'},\n",
    "    ]\n",
    "\n",
    "GraphModel(MWU_nodes).draw()\n"
   ]
  },
  {
   "cell_type": "code",
   "execution_count": null,
   "metadata": {
    "ExecuteTime": {
     "end_time": "2021-01-18T04:16:10.259252Z",
     "start_time": "2021-01-18T04:16:10.135397Z"
    },
    "scrolled": false
   },
   "outputs": [],
   "source": [
    "EW1_nodes =[ \n",
    " #Industrial Water Use\n",
    "{'type': 'parameter',  \n",
    "  'name': 'Industrial Water Withdrawal',\n",
    "  'unit': 'm3/year',\n",
    "  'id': 'IWU'},\n",
    "  {'type': 'parameter',\n",
    "  'unit': 'ha (1000)',\n",
    "  'name': 'Area Actually Irrigated',\n",
    "  'id': 'AIR'},\n",
    "  {'type': 'input',\n",
    "  'name': 'Municipal Water Withdrawal',\n",
    "  'unit': 'm3/year',\n",
    "  'id': 'MWU'},    \n",
    "{'type': 'input',\n",
    "  'name': 'Agricultural Water Withdrawal',\n",
    "  'unit': 'm3/year',\n",
    "  'id': 'AWU'},\n",
    "\n",
    "#Total Water Withdrawal\n",
    " {'type': 'variable',\n",
    "  'name': 'Total Water Withdrawal',\n",
    "  'unit': 'm3/year',\n",
    "  'in': ['MWU','AWU', 'IWU'],\n",
    "  'computation': {'name': 'AWU + IWU + MWU', 'formula': lambda X: X['AWU'] + X['IWU'] + X['MWU']},\n",
    "  'id': 'TWW'},\n",
    "\n",
    " #Agricultural Water Use Efficiency\n",
    " {'type': 'parameter',\n",
    "  'unit': 'ha (1000)',\n",
    "  'name': 'Total Cultivated Land',\n",
    "  'id': 'TC'},\n",
    " {'type': 'variable',\n",
    "  'name': 'Proportion of Irrigated Land',\n",
    "  'unit': '',\n",
    "  'in': ['AIR', 'TC'],\n",
    "  'computation': {'name': 'AIR/TC', 'formula': lambda X: X['AIR'] / X['TC']},\n",
    "  'id': 'Ai'},\n",
    "{'type': 'variable',\n",
    "  'name': 'Corrective coefficient',\n",
    "  'unit': '',\n",
    "  'in': ['Ai'],\n",
    "  'computation': {'name': '1/(1+(Ai/(1-Ai)*0.375)', 'formula': lambda X: 1/(1 + (X['Ai']/(1-X['Ai'])*0.375))},\n",
    "  'id': 'Cr'},\n",
    "{'type': 'parameter',\n",
    "  'name': 'Agricultural Gross Value Added',\n",
    "  'unit': '$',\n",
    "  'id': 'AGVA'},\n",
    "{'type': 'variable',\n",
    "  'name': 'Agricultural Water Use Efficiency',\n",
    "  'unit': '$/m3',\n",
    "  'in': ['AGVA', 'Cr', \"AWU\"],\n",
    "  'computation': {'name': 'AGVA * (1-Cr)/AWU', 'formula': lambda X: X['AGVA'] * (1-X['Cr'])/X['AWU']},\n",
    "  'id': 'WUEa'},  \n",
    "\n",
    "#Industrial Water Use Efficiency\n",
    "{'type': 'parameter',\n",
    "  'name': 'Industrial Gross Value Added',\n",
    "  'unit': '$',\n",
    "  'id': 'IGVA'},\n",
    "\n",
    "{'type': 'variable', #won't calculate this variable, have to define a value in X directory for model to run\n",
    "  'name': 'Industrial Water Use Efficiency',\n",
    "  'unit': '$/m3',\n",
    "  'in': ['IGVA','IWU'],\n",
    "  'computation': {'name': 'IGVA/IWU', 'formula': lambda X: X['IGVA']/ X['IWU']},\n",
    "  'id': 'WUEi'},\n",
    "\n",
    "#Municipal/Service sector water use efficiency\n",
    "  {'type': 'parameter',\n",
    "  'name': 'Service Sector Gross Value Added',\n",
    "  'unit': '$',\n",
    "  'id': 'SGVA'},\n",
    "{'type': 'variable',\n",
    "  'name': 'Service Sector Water Use Efficiency',\n",
    "  'unit': '$/m3',\n",
    "  'in': ['SGVA','MWU'],\n",
    "  'computation': {'name': 'SGVA/MWU', 'formula': lambda X: X['SGVA']/ X['MWU']},\n",
    "  'id': 'WUEs'},\n",
    "\n",
    "#EW1 calculation\n",
    "{'type': 'variable',\n",
    "  'name': 'Proportion of Agricultural Water Use',\n",
    "  'unit': '',\n",
    "  'in': ['AWU','TWW'],\n",
    "  'computation': {'name': 'AWU/TWW', 'formula': lambda X: X['AWU'] / X['TWW']},\n",
    "  'id': 'Pa'},  \n",
    "\n",
    "  {'type': 'variable', \n",
    "  'name': 'Proportion of Industrial Water Use',\n",
    "  'unit': '',\n",
    "  'in': ['IWU','TWW'],\n",
    "  'computation': {'name': 'IWU/TWW', 'formula': lambda X: X['IWU'] / X['TWW']},\n",
    "  'id': 'Pi'},  \n",
    "\n",
    "  {'type': 'variable',\n",
    "  'name': 'Proportion of Municipal Water Use',\n",
    "  'unit': '%',\n",
    "  'in': ['MWU','TWW'],\n",
    "  'computation': {'name': 'MWU/TWW', 'formula': lambda X: X['MWU'] / X['TWW']},\n",
    "  'id': 'Ps'},  \n",
    "{'type': 'output',\n",
    "  'name': 'Total Water Use Efficiency',\n",
    "  'unit': '$/m3',\n",
    "  'in': ['WUEa','Pa','WUEi','Pi', 'WUEs', 'Ps'],\n",
    "  'computation': {'name': 'WUEa*Pa + WUEi*Pi + WUEs*Ps', 'formula': lambda X: X['WUEa'] * X['Pa'] + X['WUEi'] * X['Pi'] + X['WUEs'] * X['Ps']},\n",
    "  'id': 'EW1'}\n",
    "\n",
    "]\n",
    "GraphModel(EW1_nodes).draw()"
   ]
  },
  {
   "cell_type": "code",
   "execution_count": null,
   "metadata": {
    "ExecuteTime": {
     "end_time": "2021-01-18T04:16:10.381948Z",
     "start_time": "2021-01-18T04:16:10.262022Z"
    },
    "scrolled": false
   },
   "outputs": [],
   "source": [
    "EW2_nodes = [ \n",
    "\n",
    "#Renewable freshwater\n",
    "\n",
    "#Climate scenario impacting the change in surface water, should be used for future climate predictions. Otherwise S = 0 in BAU scenario.\n",
    "#Use of simplified water balance equation which only considers precipitation and evapotranspiration as main water fluxes.\n",
    "#Potential to improve equation by incorporation of other process such as runoff, groundwater seepage and soil-water interactions if data and equations are available. \n",
    "{'type':'input', \n",
    "        'unit': 'mm/year',  \n",
    "        'name': 'Precipitation', \n",
    "       'id': 'P'}, \n",
    "{'type':'input', \n",
    "        'unit': 'mm/year', \n",
    "        'name': 'Evapotranspiration', \n",
    "       'id': 'ET'}, \n",
    "{'type':'input', \n",
    "        'unit': 'ha', \n",
    "        'name': 'Catchment Size', \n",
    "       'id': 'A'}, \n",
    " {'type': 'variable',\n",
    "  'name': 'Change in Surface Water Storage',\n",
    "  'unit': 'mm/year', #need to look into conversion of units think it would be m3/year\n",
    "  'in': ['P', 'ET','A'],\n",
    "  'computation': {'name': '(P - ET)*A', 'formula': lambda X: (X['P'] - X['ET']) * X['A']},\n",
    "  'id': 'S'},\n",
    "\n",
    "#Renewable Water Resources\n",
    "{'type':'parameter', \n",
    "        'unit': 'm3/year', \n",
    "        'name': 'Surface Water', \n",
    "       'id': 'SW'}, \n",
    "{'type':'parameter', \n",
    "        'unit': 'm3/year', \n",
    "        'name': 'Groundwater Water', \n",
    "       'id': 'GW'}, \n",
    "{'type':'parameter', \n",
    "        'unit': 'm3/year', \n",
    "        'name': 'Overlap (Surface - Groundwater)', \n",
    "       'id': 'Overlap'}, \n",
    "\n",
    " {'type': 'variable',\n",
    "  'name': 'Internal Renewable Water Resources',\n",
    "  'unit': 'm3/year',\n",
    "  'in': ['SW', 'GW','Overlap', 'S'],\n",
    "  'computation': {'name': 'GW + (SW + S) - Overlap', 'formula': lambda X: X['GW'] + (X['SW'] - X['S']) - X['Overlap']},\n",
    "  'id': 'IRWR'},\n",
    "\n",
    "{'type':'parameter', \n",
    "        'unit': 'm3/year', \n",
    "        'name': 'External Renewable Water Resources', \n",
    "       'id': 'ERWR'},       \n",
    "\n",
    " {'type': 'variable',\n",
    "  'name': 'Total Renewable Freshwater',\n",
    "  'unit': 'm3/year',\n",
    "  'in': ['IRWR', 'ERWR'],\n",
    "  'computation': {'name': 'IRWR + ERWR', 'formula': lambda X: X['IRWR'] + X['ERWR']},'id': 'TRF'},\n",
    "  \n",
    "  #Non conventional water \n",
    "  {'type':'parameter', \n",
    "        'unit': 'm3/year', \n",
    "        'name': 'Desalination Water', \n",
    "       'id': 'DW'},  \n",
    "  {'type':'parameter', \n",
    "        'unit': 'm3/year', \n",
    "        'name': 'Treated Wastewater', \n",
    "       'id': 'TW'}, \n",
    "   {'type': 'variable',\n",
    "  'name': 'Total Non Conventional Water',\n",
    "  'unit': 'm3/year',\n",
    "  'in': ['DW', 'TW'],\n",
    "  'computation': {'name': 'DW + TW', 'formula': lambda X: X['DW'] + X['TW']},'id': 'TNCW'},\n",
    "  {'type': 'variable',\n",
    "  'name': 'Total Freshwater Available',\n",
    "  'unit': 'm3/year',\n",
    "  'in': ['TRF', 'TNCW'],\n",
    "  'computation': {'name': 'TRF + TNCW', 'formula': lambda X: X['TRF'] + X['TNCW']},'id': 'TFA'},\n",
    "\n",
    "#calculation of EW 2\n",
    "#input from water use model\n",
    "{'type':'input', \n",
    "        'unit': 'm3/year', \n",
    "        'name': 'Total Water Withdrawal', \n",
    "       'id': 'TWW'}, \n",
    "  {'type':'parameter', \n",
    "        'unit': 'm3/year', \n",
    "        'name': 'Environmental Flow Requirement', \n",
    "       'id': 'EFR'}, \n",
    "       \n",
    "#inclusion of both natural and non-conventional water sources\n",
    "{'type': 'output',\n",
    "  'name': 'Share of Freshwater Withdrawal to Freshwater Availability',\n",
    "  'unit': '%',\n",
    "  'in': ['TFA', 'TWW', 'EFR'],\n",
    "  'computation': {'name': 'TWW/(TFA-EFR)*100', 'formula': lambda X: X['TWW'] / (X['TFA'] - X['EFR']) * 100},'id': 'EW2'},\n",
    "\n",
    "#only natural water sources\n",
    "{'type': 'output',\n",
    "  'name': 'Share of Freshwater Withdrawal to Freshwater Availability',\n",
    "  'unit': '%',\n",
    "  'in': ['TRF', 'TWW', 'EFR'],\n",
    "  'computation': {'name': 'TWW/(TRF-EFR)*100', 'formula': lambda X: X['TWW'] / (X['TRF'] - X['EFR']) * 100},'id': 'Natural EW2'},\n",
    "\n",
    "  ]\n",
    "\n",
    "GraphModel(EW2_nodes).draw()"
   ]
  },
  {
   "cell_type": "code",
   "execution_count": null,
   "metadata": {
    "ExecuteTime": {
     "end_time": "2021-01-18T04:16:10.436749Z",
     "start_time": "2021-01-18T04:16:10.385558Z"
    }
   },
   "outputs": [],
   "source": [
    "MWC_nodes =[\n",
    " {'type': 'input',\n",
    "  'name': 'Municipal Water Withdrawal', #should be connecting to MWU variable from first water use model\n",
    "  'unit': 'm3/year',\n",
    "  'id': 'MWU'},\n",
    "\n",
    "  {'type': 'input',\n",
    "  'name': 'Water Supply Efficiency', #can also be a parameter if we want to keep constant\n",
    "  'unit': '',\n",
    "  'id': 'WSE'},\n",
    "\n",
    "  {'type': 'output',\n",
    "  'name': 'Municipal Water Consumption',\n",
    "  'unit': 'm3/year',\n",
    "  'in': ['MWU', 'WSE'],\n",
    "  'id': 'MWC',\n",
    "  'computation': {'name': 'MWU * WSE', 'formula': lambda X: X['MWU'] * X['WSE']}},\n",
    "]\n",
    "\n",
    "GraphModel(MWC_nodes).draw()"
   ]
  },
  {
   "cell_type": "code",
   "execution_count": null,
   "metadata": {
    "ExecuteTime": {
     "end_time": "2021-01-18T04:16:10.512752Z",
     "start_time": "2021-01-18T04:16:10.440089Z"
    }
   },
   "outputs": [],
   "source": [
    "#Wastewater treatment scenario\n",
    "PIC_nodes = [{'type': 'input',\n",
    "  'name': 'Vector of Number of Treatment Facilities',\n",
    "  'unit': '',\n",
    "  'id': 'Facilities'},\n",
    " {'type': 'parameter',\n",
    "  'name': 'Wastewater Technology Treatment Capacity Vector',\n",
    "  'unit': 'kilotons',\n",
    "  'id': 'STC'},\n",
    "{'type': 'parameter',\n",
    "  'name': 'Sewage Efficiency Vector',\n",
    "  'unit': '',\n",
    "  'id': 'SE'},\n",
    "{'type': 'variable',\n",
    "  'name': 'Treated Wastewater Vector',\n",
    "  'unit': 'kilotons',\n",
    "  'in': ['Facilities', 'STC', 'SE'],\n",
    "  'computation': {'name': 'Facilities * STC * Sewage Efficiency ', 'formula': lambda X: X['Facilities'] * X['STC'] * X['SE']},'id': 'STW'},\n",
    "\n",
    "  #amount of investment required per technology\n",
    "{'type': 'parameter',\n",
    "  'name': 'Construction Cost Vector',\n",
    "  'unit': '$', \n",
    " 'id': 'CAPEX'},\n",
    " \n",
    "{'type': 'parameter',\n",
    "  'name': 'Operational Cost Vector',\n",
    "  'unit': '$/ton',\n",
    "  'id': 'OPEX'},\n",
    " \n",
    " {'type': 'output',\n",
    "  'name': 'Total Potential Investment Cost',\n",
    "  'unit': '$',\n",
    "  'in': ['CAPEX', 'OPEX', 'STW'],\n",
    "  'computation': {'name': 'CAPEX + (OPEX*1000)*STW', 'formula': lambda X: sum(X['CAPEX'] + X['OPEX']*1000*X['STW'])},'id': 'PIC'},\n",
    "  ]\n",
    "\n",
    "GraphModel(PIC_nodes).draw()"
   ]
  },
  {
   "cell_type": "code",
   "execution_count": null,
   "metadata": {
    "ExecuteTime": {
     "end_time": "2021-01-18T04:16:10.593752Z",
     "start_time": "2021-01-18T04:16:10.515704Z"
    }
   },
   "outputs": [],
   "source": [
    "\n",
    "#Waste Generation Component\n",
    "Waste_nodes = [{'type': 'parameter',\n",
    "  'name': 'Total Physical Capital Stock',\n",
    "  'unit': 'US$',\n",
    "  'id': 'PCS'},\n",
    "\n",
    "{'type': 'parameter',\n",
    "  'name': 'Durable Consumption Good Stock',\n",
    "  'unit': 'US$',\n",
    "  'id': 'DCGS'},\n",
    "\n",
    "{'type': 'parameter',\n",
    "  'name': 'Rate of Capital Depreciation',\n",
    "  'unit': '%',\n",
    "  'id': 'RC'},\n",
    "\n",
    "{'type': 'parameter',\n",
    "  'name': 'Proportion of Durable Consumption Goods Discarded per year',\n",
    "  'unit': '',\n",
    "  'id': 'PDCG'},\n",
    "\n",
    "{'type': 'variable',\n",
    "  'name': 'Discarded Socio-Economic Stock',\n",
    "  'unit': 'tonnes',\n",
    "  'in': ['ME1','PCS', 'DCGS', 'RC', 'PDCG'],\n",
    "  'computation': {'name': '(ME1 / 1000) * (RC*PCS + PDCG*DCGS)', 'formula': lambda X: (X['ME1'] / 1000)*(X['RC']*X['PCS'] + X['PDCG']*X['DCGS'])},'id': 'DSES'},\n",
    "\n",
    "{'type': 'input',\n",
    "  'name': 'Recycling Ratio',\n",
    "  'unit': '',\n",
    "  'id': 'RR'},\n",
    "{'type': 'variable',\n",
    "  'name': 'Recycled Socio-Economic Stock',\n",
    "  'unit': 'tonnes',\n",
    "  'in': ['DSES','RR'],\n",
    "  'id': 'RSES',\n",
    "  'computation': {'name': 'RR * DSES', 'formula': lambda X: X['DSES'] * X['RR']},},\n",
    "{'type': 'output',\n",
    "  'name': 'Total Waste Generated',\n",
    "  'unit': 'tonnes',\n",
    "  'in': ['DSES','RSES'],\n",
    "  'id': 'Waste',\n",
    "  'computation': {'name': 'DSES - RSES', 'formula': lambda X: X['DSES'] - X['RSES']}},\n",
    "{'type': 'input',\n",
    "  'name': 'Total DMC per GDP',\n",
    "  'unit': 'tonnes/$',\n",
    "  'id': 'ME1',},              \n",
    "]\n",
    "GraphModel(Waste_nodes).draw()"
   ]
  },
  {
   "cell_type": "code",
   "execution_count": null,
   "metadata": {
    "ExecuteTime": {
     "end_time": "2021-01-18T04:16:10.659376Z",
     "start_time": "2021-01-18T04:16:10.597677Z"
    }
   },
   "outputs": [],
   "source": [
    "VDMC = [{'type': 'input',\n",
    "  'name': 'Vector of Total Domestic Extraction',\n",
    "  'unit': 'tonnes',\n",
    " 'id': 'DE'},\n",
    "\n",
    "{'type': 'input',\n",
    "  'name': 'Vector of Total Imports',\n",
    "  'unit': 'tonnes',\n",
    "  'id': 'I'},\n",
    "\n",
    "{'type': 'input',\n",
    "  'name': 'Vector of Total Exports',\n",
    "  'unit': 'tonnes',\n",
    "  'id': 'E'},\n",
    "#Calculation of ME 1\n",
    "{'type': 'variable',\n",
    "  'name': 'Vector of DMC',\n",
    "  'unit': 'tonnes',\n",
    "  'in': ['DE','I','E'],\n",
    "  'computation': {'name': '(DE + I) - E', 'formula': lambda X: (X['DE'] + X['I']) - X['E']},'id': 'VDMC'},\n",
    "        \n",
    "]\n",
    "\n",
    "GraphModel(VDMC).draw()"
   ]
  },
  {
   "cell_type": "code",
   "execution_count": null,
   "metadata": {
    "ExecuteTime": {
     "end_time": "2021-01-18T04:16:10.728640Z",
     "start_time": "2021-01-18T04:16:10.663221Z"
    }
   },
   "outputs": [],
   "source": [
    "ME2_nodes = [  {'type': 'variable', #Hungary \n",
    "  'name': 'Total MF',\n",
    "  'unit': 'tonnes',\n",
    " 'id': 'MF'},\n",
    "{'type': 'parameter',\n",
    "  'name': 'Population',\n",
    "  'unit': '',\n",
    "  'id': 'Pop'},\n",
    "{'type': 'output',\n",
    "  'name': 'MF per capita',\n",
    "  'unit': 'tonnes/per person',\n",
    "  'in': ['Pop','MF'],\n",
    "  'id': 'ME2',\n",
    "  'computation': {'name': 'MF/Pop', 'formula': lambda X: X['MF'] / X['Pop']},}\n",
    "]\n",
    "\n",
    "GraphModel(ME2_nodes).draw()"
   ]
  },
  {
   "cell_type": "code",
   "execution_count": null,
   "metadata": {
    "ExecuteTime": {
     "end_time": "2021-01-18T04:16:10.793301Z",
     "start_time": "2021-01-18T04:16:10.731733Z"
    }
   },
   "outputs": [],
   "source": [
    "ME2_nodes = [\n",
    "        {'type': 'variable',\n",
    "      'name': 'Total DMC',\n",
    "      'unit': 'tonnes',\n",
    "        'id': 'DMC'},\n",
    "{'type': 'parameter',\n",
    "  'name': 'GDP',\n",
    "  'unit': '$',\n",
    "  'id': 'GDP'},\n",
    "\n",
    "{'type': 'output',\n",
    "  'name': 'Total DMC per GDP',\n",
    "  'unit': 'tonnes/$',\n",
    "  'in': ['DMC','GDP'],\n",
    "  'id': 'ME1',\n",
    "  'computation': {'name': 'DMC/GDP', 'formula': lambda X: X['DMC'] / X['GDP']*1000},},\n",
    "]\n",
    "GraphModel(ME2_nodes).draw()\n"
   ]
  },
  {
   "cell_type": "code",
   "execution_count": null,
   "metadata": {
    "ExecuteTime": {
     "end_time": "2021-01-18T04:16:10.896793Z",
     "start_time": "2021-01-18T04:16:10.796545Z"
    }
   },
   "outputs": [],
   "source": [
    "JE_nodes = [\n",
    "    {'type': 'variable',\n",
    "  'name': 'Vector of DMC',\n",
    "  'unit': 'tonnes',\n",
    "    'id': 'VDMC'},\n",
    "    {'type': 'variable',\n",
    "      'name': 'Total DMC',\n",
    "      'unit': 'tonnes',\n",
    "      'in': ['VDMC'],\n",
    "      'computation': {'name': '(DE + I) - E', 'formula': lambda X: sum(X['VDMC'])},'id': 'DMC'},\n",
    "\n",
    "#Calculation of ME 2\n",
    "#Resource Efficiency Improvement Scenario\n",
    " {'type': 'input',\n",
    "  'name': 'Material Efficiency Improvement',\n",
    "  'unit': '%',\n",
    "  'id': 'MI'},\n",
    "{'type': 'variable',\n",
    "  'name': 'Resources Saved',\n",
    "  'unit': 'tonnes',\n",
    "  'in': ['MI', 'DMC'],\n",
    "  'id': 'RS',\n",
    "  'computation': {'name': 'MI*DMC', 'formula': lambda X: X['MI'] * X['DMC 1'] ,}},\n",
    "\n",
    "#Calculate share of each material in DMC\n",
    "{'type': 'variable',\n",
    "  'name': 'Share of Materials',\n",
    "  'unit': '',\n",
    "  'in': ['VDMC','DMC'],\n",
    "  'computation': {'name': 'VDMC / DMC', 'formula': lambda X: X['VDMC'] / X['DMC']},'id': 'MS'},\n",
    "\n",
    "{'type': 'parameter',\n",
    "  'name': 'Vector of Lastest Average Prices of Commodities',\n",
    "  'unit': '$',\n",
    "  'id': 'AP'},\n",
    "\n",
    "{'type': 'parameter',\n",
    "  'name': 'Vector of Export Weights (to Total Commodities)',\n",
    "  'unit': '',\n",
    "  'id': 'EX'},\n",
    "\n",
    "  {'type': 'variable',\n",
    "  'name': 'Cost per unit of Materials',\n",
    "  'unit': '$',\n",
    "  'in': ['AP','EX'],\n",
    "  'computation': {'name': 'AP * EX', 'formula': lambda X: X['AP'] * X['EX']},'id': 'CM'},\n",
    "\n",
    " {'type': 'variable',\n",
    "  'name': 'Total Price per unit of Materials',\n",
    "  'unit': '$',\n",
    "  'in': ['CM','MS'],\n",
    "  'computation': {'name': 'MS * CM', 'formula': lambda X: X['MS']* X['CM']},'id': 'PM'},\n",
    "\n",
    "{'type': 'variable',\n",
    "  'name': 'Monetary Savings',\n",
    "  'unit': '$',\n",
    "  'in': ['PM','RS'],\n",
    "  'computation': {'name': 'PM * RS', 'formula': lambda X: X['PM'].sum() * X['RS']},'id': 'TMS'},\n",
    "\n",
    " {'type': 'parameter',\n",
    "  'name': 'Average Wage',\n",
    "  'unit': '$',\n",
    "  'id': 'AW'},\n",
    "\n",
    "{'type': 'output',\n",
    "  'name': 'Job Equivalents',\n",
    "  'unit': '',\n",
    "  'in': ['AW','TMS'],\n",
    "  'computation': {'name': 'TMS/AW', 'formula': lambda X: X['TMS'] / X['AW']},'id': 'JE'},\n",
    "\n",
    "{'type': 'variable',\n",
    "  'name': 'Total DMC',\n",
    "  'unit': 'tonnes',\n",
    "  'in': ['VDMC'],\n",
    "  'computation': {'name': '(DE + I) - E', 'formula': lambda X: sum(X['VDMC'])},'id': 'DMC'},\n",
    "]\n",
    "\n",
    "GraphModel(JE_nodes).draw()"
   ]
  }
 ],
 "metadata": {
  "kernelspec": {
   "display_name": "Python 3",
   "language": "python",
   "name": "python3"
  },
  "language_info": {
   "codemirror_mode": {
    "name": "ipython",
    "version": 3
   },
   "file_extension": ".py",
   "mimetype": "text/x-python",
   "name": "python",
   "nbconvert_exporter": "python",
   "pygments_lexer": "ipython3",
   "version": "3.7.7"
  }
 },
 "nbformat": 4,
 "nbformat_minor": 4
}
