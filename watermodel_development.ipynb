{
 "cells": [
  {
   "cell_type": "code",
   "execution_count": 16,
   "metadata": {
    "ExecuteTime": {
     "end_time": "2021-02-22T01:53:19.132629Z",
     "start_time": "2021-02-22T01:53:19.128374Z"
    }
   },
   "outputs": [],
   "source": [
    "import pandas as pd\n",
    "from database import select_dataset\n",
    "import numpy as np"
   ]
  },
  {
   "cell_type": "code",
   "execution_count": 17,
   "metadata": {
    "ExecuteTime": {
     "end_time": "2021-02-22T01:53:24.316507Z",
     "start_time": "2021-02-22T01:53:22.504490Z"
    }
   },
   "outputs": [],
   "source": [
    "# FIND WAY TO WRAP THIS CLEANLY CAUSE IT's A MESS !\n",
    "\n",
    "aquastat = select_dataset('aquastat').dropna().drop(columns=['Area'])\n",
    "aquastat = aquastat[~aquastat.ISO.isin(['USA', 'CHN', 'IND', 'RUS'])] # Not parsed !\n",
    "aquastat = aquastat[aquastat.Variable != 'CI']\n",
    "aquastat['Year'] = aquastat['Year'].astype(int)\n",
    "\n",
    "evapotranspiration = select_dataset('evapotranspiration').dropna().drop_duplicates()\n",
    "cropcalendar = select_dataset('cropcalendar').drop(columns=['Year'])\n",
    "efficientwater = select_dataset('efficientwater')\n",
    "wb_data = select_dataset('worldbank')\n",
    "wb_data['Year'] = wb_data['Year'].astype(int)\n",
    "\n",
    "MWU_df = pd.concat([aquastat, evapotranspiration, cropcalendar, efficientwater, wb_data])"
   ]
  },
  {
   "cell_type": "code",
   "execution_count": 18,
   "metadata": {
    "ExecuteTime": {
     "end_time": "2021-02-22T01:53:24.348132Z",
     "start_time": "2021-02-22T01:53:24.337216Z"
    }
   },
   "outputs": [],
   "source": [
    "def df_to_dict(df):\n",
    "    X = {}\n",
    "    for code in df.columns:\n",
    "        X[code] = df[code].fillna(0)\n",
    "    return X\n",
    "\n",
    "\n",
    "def fill_missing_values(df):\n",
    "    return df.groupby(level='ISO').fillna(method='ffill')\\\n",
    "             .groupby(level='ISO').fillna(method='bfill')\n",
    "\n",
    "\n",
    "def df_to_data_dict(df, itemized):\n",
    "    data_dict = {}\n",
    "    \n",
    "    non_item_df = df[~df.Variable.isin(itemized)].pivot(index=['ISO', 'Year'], columns='Variable', values='Value')\n",
    "    non_item_df = fill_missing_values(non_item_df)\n",
    "    item_df = df[df.Variable.isin(itemized)].pivot(index=['ISO', 'Year', 'Item'], columns='Variable', values='Value')\n",
    "    \n",
    "    data_dict.update(df_to_dict(non_item_df))\n",
    "    data_dict.update(df_to_dict(item_df))\n",
    "\n",
    "    \n",
    "    return data_dict"
   ]
  },
  {
   "cell_type": "code",
   "execution_count": 19,
   "metadata": {
    "ExecuteTime": {
     "end_time": "2021-02-22T01:53:27.028126Z",
     "start_time": "2021-02-22T01:53:26.541623Z"
    }
   },
   "outputs": [],
   "source": [
    "itemized = ['Kc', 'ICA']\n",
    "data_dict = df_to_data_dict(MWU_df, itemized)\n",
    "data_dict['LWU'] = 0"
   ]
  },
  {
   "cell_type": "markdown",
   "metadata": {},
   "source": [
    "# Model"
   ]
  },
  {
   "cell_type": "code",
   "execution_count": 20,
   "metadata": {
    "ExecuteTime": {
     "end_time": "2021-02-22T01:53:28.372450Z",
     "start_time": "2021-02-22T01:53:28.364993Z"
    }
   },
   "outputs": [],
   "source": [
    "from graphmodels.graphmodel import GraphModel, converte_to_format, concatenate_graph_specs\n",
    "import numpy as np\n",
    "from graphmodels.validation import score_model, plot_diagnostic\n",
    "from models.Sarah.model_EW import EW_models, MWU_model\n",
    "from graphmodels.utils import get_X_y_from_data"
   ]
  },
  {
   "cell_type": "code",
   "execution_count": 21,
   "metadata": {
    "ExecuteTime": {
     "end_time": "2021-02-22T01:53:28.893442Z",
     "start_time": "2021-02-22T01:53:28.529113Z"
    }
   },
   "outputs": [],
   "source": [
    "model = EW_models['IWW_model']\n",
    "X, y = get_X_y_from_data(model, data_dict)\n",
    "res = model.run(X)"
   ]
  },
  {
   "cell_type": "code",
   "execution_count": 22,
   "metadata": {
    "ExecuteTime": {
     "end_time": "2021-02-22T01:53:31.526938Z",
     "start_time": "2021-02-22T01:53:28.896583Z"
    }
   },
   "outputs": [
    {
     "name": "stdout",
     "output_type": "stream",
     "text": [
      "IWW_model : \n",
      "         r2  correlation        rmse Variable\n",
      "0  0.734552     0.859789   31.102888      IWR\n",
      "1  0.036750     0.657641  285.155347      IWW\n",
      "2  0.603102     0.821737  153.740444      AWU\n",
      "EW1_partial_model : \n",
      "         r2  correlation          rmse Variable\n",
      "0  0.987684     0.993828      4.519458      TWW\n",
      "1 -0.279845     0.443659  12512.483489      EW1\n",
      "EW2_partial_model : \n",
      "         r2  correlation          rmse Variable\n",
      "0  0.989336     0.995175   4272.565052      TFA\n",
      "1 -0.404156     0.195124  57353.247805      EW2\n",
      "EW1_model : \n"
     ]
    },
    {
     "name": "stderr",
     "output_type": "stream",
     "text": [
      "/home/simon/anaconda3/lib/python3.7/site-packages/pandas/core/arraylike.py:358: RuntimeWarning:\n",
      "\n",
      "divide by zero encountered in log\n",
      "\n"
     ]
    },
    {
     "name": "stdout",
     "output_type": "stream",
     "text": [
      "         r2  correlation         rmse Variable\n",
      "0  0.734552     0.859789    31.102888      IWR\n",
      "1  0.036750     0.657641   285.155347      IWW\n",
      "2  0.603102     0.821737   153.740444      AWU\n",
      "3  0.813129     0.904383     1.014062      MWU\n",
      "4  0.708943     0.862557   168.975281      TWW\n",
      "5 -1.091887     0.405643  5222.323376      EW1\n",
      "EW2_model : \n"
     ]
    },
    {
     "name": "stderr",
     "output_type": "stream",
     "text": [
      "/home/simon/anaconda3/lib/python3.7/site-packages/pandas/core/arraylike.py:358: RuntimeWarning:\n",
      "\n",
      "divide by zero encountered in log\n",
      "\n"
     ]
    },
    {
     "name": "stdout",
     "output_type": "stream",
     "text": [
      "         r2  correlation          rmse Variable\n",
      "0  0.734552     0.859789     31.102888      IWR\n",
      "1  0.036750     0.657641    285.155347      IWW\n",
      "2  0.603102     0.821737    153.740444      AWU\n",
      "3  0.813129     0.904383      1.014062      MWU\n",
      "4  0.989336     0.995175   4272.565052      TFA\n",
      "5 -0.404156     0.195124  57353.247805      EW2\n"
     ]
    }
   ],
   "source": [
    "for model_name, model in EW_models.items():\n",
    "    print(model_name, ': ')\n",
    "    X, y = get_X_y_from_data(model, data_dict)\n",
    "    res = model.run(X)\n",
    "    print(score_model(model, X, y))"
   ]
  },
  {
   "cell_type": "markdown",
   "metadata": {},
   "source": [
    "# Interface draft"
   ]
  },
  {
   "cell_type": "markdown",
   "metadata": {},
   "source": [
    "## Model display"
   ]
  },
  {
   "cell_type": "code",
   "execution_count": 116,
   "metadata": {
    "ExecuteTime": {
     "end_time": "2021-02-22T02:18:16.666478Z",
     "start_time": "2021-02-22T02:18:16.595035Z"
    }
   },
   "outputs": [],
   "source": [
    "from models.Sarah.model_EW import MWU_nodes, EW1_nodes, concatenate_graph_specs\n",
    "model = GraphModel(concatenate_graph_specs([MWU_nodes, EW1_nodes]))"
   ]
  },
  {
   "cell_type": "code",
   "execution_count": 123,
   "metadata": {
    "ExecuteTime": {
     "end_time": "2021-02-22T02:18:43.674840Z",
     "start_time": "2021-02-22T02:18:43.614678Z"
    },
    "scrolled": false
   },
   "outputs": [
    {
     "data": {
      "image/svg+xml": [
       "<?xml version=\"1.0\" encoding=\"UTF-8\" standalone=\"no\"?>\n",
       "<!DOCTYPE svg PUBLIC \"-//W3C//DTD SVG 1.1//EN\"\n",
       " \"http://www.w3.org/Graphics/SVG/1.1/DTD/svg11.dtd\">\n",
       "<!-- Generated by graphviz version 2.40.1 (20161225.0304)\n",
       " -->\n",
       "<!-- Title: %3 Pages: 1 -->\n",
       "<svg width=\"1187pt\" height=\"544pt\"\n",
       " viewBox=\"0.00 0.00 1186.50 544.00\" xmlns=\"http://www.w3.org/2000/svg\" xmlns:xlink=\"http://www.w3.org/1999/xlink\">\n",
       "<g id=\"graph0\" class=\"graph\" transform=\"scale(1 1) rotate(0) translate(4 540)\">\n",
       "<title>%3</title>\n",
       "<polygon fill=\"#ffffff\" stroke=\"transparent\" points=\"-4,4 -4,-540 1182.5,-540 1182.5,4 -4,4\"/>\n",
       "<!-- WP -->\n",
       "<g id=\"node1\" class=\"node\">\n",
       "<title>WP</title>\n",
       "<polygon fill=\"#e76f51\" stroke=\"#eeeeee\" points=\"93,-536 0,-536 0,-483 93,-483 93,-536\"/>\n",
       "<text text-anchor=\"middle\" x=\"46.5\" y=\"-520.8\" font-family=\"roboto\" font-size=\"14.00\" fill=\"#eeeeee\">Water Price </text>\n",
       "<text text-anchor=\"middle\" x=\"46.5\" y=\"-505.8\" font-family=\"roboto\" font-size=\"14.00\" fill=\"#eeeeee\"> (WP) </text>\n",
       "<text text-anchor=\"middle\" x=\"46.5\" y=\"-490.8\" font-family=\"roboto\" font-size=\"14.00\" fill=\"#eeeeee\"> $/15m3</text>\n",
       "</g>\n",
       "<!-- MWU_comp -->\n",
       "<g id=\"node5\" class=\"node\">\n",
       "<title>MWU_comp</title>\n",
       "<polygon fill=\"none\" stroke=\"#a9a9a9\" points=\"270.5,-447 66.5,-447 66.5,-411 270.5,-411 270.5,-447\"/>\n",
       "<text text-anchor=\"middle\" x=\"168.5\" y=\"-425.3\" font-family=\"roboto\" font-size=\"14.00\" fill=\"#000000\">model_MWU(GDPC, WP, Pop)</text>\n",
       "</g>\n",
       "<!-- WP&#45;&gt;MWU_comp -->\n",
       "<g id=\"edge1\" class=\"edge\">\n",
       "<title>WP&#45;&gt;MWU_comp</title>\n",
       "<path fill=\"none\" stroke=\"#a9a9a9\" d=\"M79.75,-482.6947C79.75,-482.6947 79.75,-457.0658 79.75,-457.0658\"/>\n",
       "<polygon fill=\"#a9a9a9\" stroke=\"#a9a9a9\" points=\"83.2501,-457.0657 79.75,-447.0658 76.2501,-457.0658 83.2501,-457.0657\"/>\n",
       "</g>\n",
       "<!-- GDPC -->\n",
       "<g id=\"node2\" class=\"node\">\n",
       "<title>GDPC</title>\n",
       "<polygon fill=\"#e9c46a\" stroke=\"#eeeeee\" points=\"226,-536 111,-536 111,-483 226,-483 226,-536\"/>\n",
       "<text text-anchor=\"middle\" x=\"168.5\" y=\"-520.8\" font-family=\"roboto\" font-size=\"14.00\" fill=\"#eeeeee\">GDP per capita </text>\n",
       "<text text-anchor=\"middle\" x=\"168.5\" y=\"-505.8\" font-family=\"roboto\" font-size=\"14.00\" fill=\"#eeeeee\"> (GDPC) </text>\n",
       "<text text-anchor=\"middle\" x=\"168.5\" y=\"-490.8\" font-family=\"roboto\" font-size=\"14.00\" fill=\"#eeeeee\"> $</text>\n",
       "</g>\n",
       "<!-- GDPC&#45;&gt;MWU_comp -->\n",
       "<g id=\"edge2\" class=\"edge\">\n",
       "<title>GDPC&#45;&gt;MWU_comp</title>\n",
       "<path fill=\"none\" stroke=\"#a9a9a9\" d=\"M168.5,-482.6947C168.5,-482.6947 168.5,-457.0658 168.5,-457.0658\"/>\n",
       "<polygon fill=\"#a9a9a9\" stroke=\"#a9a9a9\" points=\"172.0001,-457.0657 168.5,-447.0658 165.0001,-457.0658 172.0001,-457.0657\"/>\n",
       "</g>\n",
       "<!-- Pop -->\n",
       "<g id=\"node3\" class=\"node\">\n",
       "<title>Pop</title>\n",
       "<polygon fill=\"#e9c46a\" stroke=\"#eeeeee\" points=\"333,-536 244,-536 244,-483 333,-483 333,-536\"/>\n",
       "<text text-anchor=\"middle\" x=\"288.5\" y=\"-520.8\" font-family=\"roboto\" font-size=\"14.00\" fill=\"#eeeeee\">Population </text>\n",
       "<text text-anchor=\"middle\" x=\"288.5\" y=\"-505.8\" font-family=\"roboto\" font-size=\"14.00\" fill=\"#eeeeee\"> (Pop) </text>\n",
       "<text text-anchor=\"middle\" x=\"288.5\" y=\"-490.8\" font-family=\"roboto\" font-size=\"14.00\" fill=\"#eeeeee\"> capita</text>\n",
       "</g>\n",
       "<!-- Pop&#45;&gt;MWU_comp -->\n",
       "<g id=\"edge3\" class=\"edge\">\n",
       "<title>Pop&#45;&gt;MWU_comp</title>\n",
       "<path fill=\"none\" stroke=\"#a9a9a9\" d=\"M257.25,-482.6947C257.25,-482.6947 257.25,-457.0658 257.25,-457.0658\"/>\n",
       "<polygon fill=\"#a9a9a9\" stroke=\"#a9a9a9\" points=\"260.7501,-457.0657 257.25,-447.0658 253.7501,-457.0658 260.7501,-457.0657\"/>\n",
       "</g>\n",
       "<!-- MWU -->\n",
       "<g id=\"node4\" class=\"node\">\n",
       "<title>MWU</title>\n",
       "<polygon fill=\"#f4a261\" stroke=\"#eeeeee\" points=\"267,-375 70,-375 70,-322 267,-322 267,-375\"/>\n",
       "<text text-anchor=\"middle\" x=\"168.5\" y=\"-359.8\" font-family=\"roboto\" font-size=\"14.00\" fill=\"#eeeeee\">Municipal Water Withdrawal </text>\n",
       "<text text-anchor=\"middle\" x=\"168.5\" y=\"-344.8\" font-family=\"roboto\" font-size=\"14.00\" fill=\"#eeeeee\"> (MWU) </text>\n",
       "<text text-anchor=\"middle\" x=\"168.5\" y=\"-329.8\" font-family=\"roboto\" font-size=\"14.00\" fill=\"#eeeeee\"> m3/year</text>\n",
       "</g>\n",
       "<!-- TWW_comp -->\n",
       "<g id=\"node9\" class=\"node\">\n",
       "<title>TWW_comp</title>\n",
       "<polygon fill=\"none\" stroke=\"#a9a9a9\" points=\"451.5,-286 313.5,-286 313.5,-250 451.5,-250 451.5,-286\"/>\n",
       "<text text-anchor=\"middle\" x=\"382.5\" y=\"-264.3\" font-family=\"roboto\" font-size=\"14.00\" fill=\"#000000\">AWU + IWU + MWU</text>\n",
       "</g>\n",
       "<!-- MWU&#45;&gt;TWW_comp -->\n",
       "<g id=\"edge4\" class=\"edge\">\n",
       "<title>MWU&#45;&gt;TWW_comp</title>\n",
       "<path fill=\"none\" stroke=\"#a9a9a9\" d=\"M168.5,-321.6947C168.5,-298.2772 168.5,-268 168.5,-268 168.5,-268 303.3159,-268 303.3159,-268\"/>\n",
       "<polygon fill=\"#a9a9a9\" stroke=\"#a9a9a9\" points=\"303.3159,-271.5001 313.3159,-268 303.3158,-264.5001 303.3159,-271.5001\"/>\n",
       "</g>\n",
       "<!-- MWU_comp&#45;&gt;MWU -->\n",
       "<g id=\"edge5\" class=\"edge\">\n",
       "<title>MWU_comp&#45;&gt;MWU</title>\n",
       "<path fill=\"none\" stroke=\"#a9a9a9\" d=\"M168.5,-410.7333C168.5,-410.7333 168.5,-385.2477 168.5,-385.2477\"/>\n",
       "<polygon fill=\"#a9a9a9\" stroke=\"#a9a9a9\" points=\"172.0001,-385.2476 168.5,-375.2477 165.0001,-385.2477 172.0001,-385.2476\"/>\n",
       "</g>\n",
       "<!-- IWU -->\n",
       "<g id=\"node6\" class=\"node\">\n",
       "<title>IWU</title>\n",
       "<polygon fill=\"#e76f51\" stroke=\"#eeeeee\" points=\"479.5,-375 285.5,-375 285.5,-322 479.5,-322 479.5,-375\"/>\n",
       "<text text-anchor=\"middle\" x=\"382.5\" y=\"-359.8\" font-family=\"roboto\" font-size=\"14.00\" fill=\"#eeeeee\">Industrial Water Withdrawal </text>\n",
       "<text text-anchor=\"middle\" x=\"382.5\" y=\"-344.8\" font-family=\"roboto\" font-size=\"14.00\" fill=\"#eeeeee\"> (IWU) </text>\n",
       "<text text-anchor=\"middle\" x=\"382.5\" y=\"-329.8\" font-family=\"roboto\" font-size=\"14.00\" fill=\"#eeeeee\"> m3/year</text>\n",
       "</g>\n",
       "<!-- IWU&#45;&gt;TWW_comp -->\n",
       "<g id=\"edge6\" class=\"edge\">\n",
       "<title>IWU&#45;&gt;TWW_comp</title>\n",
       "<path fill=\"none\" stroke=\"#a9a9a9\" d=\"M382.5,-321.6947C382.5,-321.6947 382.5,-296.0658 382.5,-296.0658\"/>\n",
       "<polygon fill=\"#a9a9a9\" stroke=\"#a9a9a9\" points=\"386.0001,-296.0657 382.5,-286.0658 379.0001,-296.0658 386.0001,-296.0657\"/>\n",
       "</g>\n",
       "<!-- AWU -->\n",
       "<g id=\"node7\" class=\"node\">\n",
       "<title>AWU</title>\n",
       "<polygon fill=\"#e76f51\" stroke=\"#eeeeee\" points=\"705,-375 498,-375 498,-322 705,-322 705,-375\"/>\n",
       "<text text-anchor=\"middle\" x=\"601.5\" y=\"-359.8\" font-family=\"roboto\" font-size=\"14.00\" fill=\"#eeeeee\">Agricultural Water Withdrawal </text>\n",
       "<text text-anchor=\"middle\" x=\"601.5\" y=\"-344.8\" font-family=\"roboto\" font-size=\"14.00\" fill=\"#eeeeee\"> (AWU) </text>\n",
       "<text text-anchor=\"middle\" x=\"601.5\" y=\"-329.8\" font-family=\"roboto\" font-size=\"14.00\" fill=\"#eeeeee\"> m3/year</text>\n",
       "</g>\n",
       "<!-- AWU&#45;&gt;TWW_comp -->\n",
       "<g id=\"edge7\" class=\"edge\">\n",
       "<title>AWU&#45;&gt;TWW_comp</title>\n",
       "<path fill=\"none\" stroke=\"#a9a9a9\" d=\"M600.25,-321.6947C600.25,-298.2772 600.25,-268 600.25,-268 600.25,-268 461.6967,-268 461.6967,-268\"/>\n",
       "<polygon fill=\"#a9a9a9\" stroke=\"#a9a9a9\" points=\"461.6967,-264.5001 451.6967,-268 461.6966,-271.5001 461.6967,-264.5001\"/>\n",
       "</g>\n",
       "<!-- TWW -->\n",
       "<g id=\"node8\" class=\"node\">\n",
       "<title>TWW</title>\n",
       "<polygon fill=\"#f4a261\" stroke=\"#eeeeee\" points=\"466,-214 299,-214 299,-161 466,-161 466,-214\"/>\n",
       "<text text-anchor=\"middle\" x=\"382.5\" y=\"-198.8\" font-family=\"roboto\" font-size=\"14.00\" fill=\"#eeeeee\">Total Water Withdrawal </text>\n",
       "<text text-anchor=\"middle\" x=\"382.5\" y=\"-183.8\" font-family=\"roboto\" font-size=\"14.00\" fill=\"#eeeeee\"> (TWW) </text>\n",
       "<text text-anchor=\"middle\" x=\"382.5\" y=\"-168.8\" font-family=\"roboto\" font-size=\"14.00\" fill=\"#eeeeee\"> m3/year</text>\n",
       "</g>\n",
       "<!-- EW1_comp -->\n",
       "<g id=\"node14\" class=\"node\">\n",
       "<title>EW1_comp</title>\n",
       "<polygon fill=\"none\" stroke=\"#a9a9a9\" points=\"832,-125 583,-125 583,-89 832,-89 832,-125\"/>\n",
       "<text text-anchor=\"middle\" x=\"707.5\" y=\"-103.3\" font-family=\"roboto\" font-size=\"14.00\" fill=\"#000000\">1e&#45;9 * (IGVA + SGVA + AGVA) / TWW</text>\n",
       "</g>\n",
       "<!-- TWW&#45;&gt;EW1_comp -->\n",
       "<g id=\"edge8\" class=\"edge\">\n",
       "<title>TWW&#45;&gt;EW1_comp</title>\n",
       "<path fill=\"none\" stroke=\"#a9a9a9\" d=\"M382.5,-160.6947C382.5,-137.2772 382.5,-107 382.5,-107 382.5,-107 572.776,-107 572.776,-107\"/>\n",
       "<polygon fill=\"#a9a9a9\" stroke=\"#a9a9a9\" points=\"572.776,-110.5001 582.776,-107 572.776,-103.5001 572.776,-110.5001\"/>\n",
       "</g>\n",
       "<!-- TWW_comp&#45;&gt;TWW -->\n",
       "<g id=\"edge9\" class=\"edge\">\n",
       "<title>TWW_comp&#45;&gt;TWW</title>\n",
       "<path fill=\"none\" stroke=\"#a9a9a9\" d=\"M382.5,-249.7333C382.5,-249.7333 382.5,-224.2477 382.5,-224.2477\"/>\n",
       "<polygon fill=\"#a9a9a9\" stroke=\"#a9a9a9\" points=\"386.0001,-224.2476 382.5,-214.2477 379.0001,-224.2477 386.0001,-224.2476\"/>\n",
       "</g>\n",
       "<!-- AGVA -->\n",
       "<g id=\"node10\" class=\"node\">\n",
       "<title>AGVA</title>\n",
       "<polygon fill=\"#e9c46a\" stroke=\"#eeeeee\" points=\"702.5,-214 484.5,-214 484.5,-161 702.5,-161 702.5,-214\"/>\n",
       "<text text-anchor=\"middle\" x=\"593.5\" y=\"-198.8\" font-family=\"roboto\" font-size=\"14.00\" fill=\"#eeeeee\">Agricultural Gross Value Added </text>\n",
       "<text text-anchor=\"middle\" x=\"593.5\" y=\"-183.8\" font-family=\"roboto\" font-size=\"14.00\" fill=\"#eeeeee\"> (AGVA) </text>\n",
       "<text text-anchor=\"middle\" x=\"593.5\" y=\"-168.8\" font-family=\"roboto\" font-size=\"14.00\" fill=\"#eeeeee\"> $</text>\n",
       "</g>\n",
       "<!-- AGVA&#45;&gt;EW1_comp -->\n",
       "<g id=\"edge10\" class=\"edge\">\n",
       "<title>AGVA&#45;&gt;EW1_comp</title>\n",
       "<path fill=\"none\" stroke=\"#a9a9a9\" d=\"M642.75,-160.6947C642.75,-160.6947 642.75,-135.0658 642.75,-135.0658\"/>\n",
       "<polygon fill=\"#a9a9a9\" stroke=\"#a9a9a9\" points=\"646.2501,-135.0657 642.75,-125.0658 639.2501,-135.0658 646.2501,-135.0657\"/>\n",
       "</g>\n",
       "<!-- IGVA -->\n",
       "<g id=\"node11\" class=\"node\">\n",
       "<title>IGVA</title>\n",
       "<polygon fill=\"#e9c46a\" stroke=\"#eeeeee\" points=\"924.5,-214 720.5,-214 720.5,-161 924.5,-161 924.5,-214\"/>\n",
       "<text text-anchor=\"middle\" x=\"822.5\" y=\"-198.8\" font-family=\"roboto\" font-size=\"14.00\" fill=\"#eeeeee\">Industrial Gross Value Added </text>\n",
       "<text text-anchor=\"middle\" x=\"822.5\" y=\"-183.8\" font-family=\"roboto\" font-size=\"14.00\" fill=\"#eeeeee\"> (IGVA) </text>\n",
       "<text text-anchor=\"middle\" x=\"822.5\" y=\"-168.8\" font-family=\"roboto\" font-size=\"14.00\" fill=\"#eeeeee\"> $</text>\n",
       "</g>\n",
       "<!-- IGVA&#45;&gt;EW1_comp -->\n",
       "<g id=\"edge11\" class=\"edge\">\n",
       "<title>IGVA&#45;&gt;EW1_comp</title>\n",
       "<path fill=\"none\" stroke=\"#a9a9a9\" d=\"M776.25,-160.6947C776.25,-160.6947 776.25,-135.0658 776.25,-135.0658\"/>\n",
       "<polygon fill=\"#a9a9a9\" stroke=\"#a9a9a9\" points=\"779.7501,-135.0657 776.25,-125.0658 772.7501,-135.0658 779.7501,-135.0657\"/>\n",
       "</g>\n",
       "<!-- SGVA -->\n",
       "<g id=\"node12\" class=\"node\">\n",
       "<title>SGVA</title>\n",
       "<polygon fill=\"#e9c46a\" stroke=\"#eeeeee\" points=\"1178.5,-214 942.5,-214 942.5,-161 1178.5,-161 1178.5,-214\"/>\n",
       "<text text-anchor=\"middle\" x=\"1060.5\" y=\"-198.8\" font-family=\"roboto\" font-size=\"14.00\" fill=\"#eeeeee\">Service Sector Gross Value Added </text>\n",
       "<text text-anchor=\"middle\" x=\"1060.5\" y=\"-183.8\" font-family=\"roboto\" font-size=\"14.00\" fill=\"#eeeeee\"> (SGVA) </text>\n",
       "<text text-anchor=\"middle\" x=\"1060.5\" y=\"-168.8\" font-family=\"roboto\" font-size=\"14.00\" fill=\"#eeeeee\"> $</text>\n",
       "</g>\n",
       "<!-- SGVA&#45;&gt;EW1_comp -->\n",
       "<g id=\"edge12\" class=\"edge\">\n",
       "<title>SGVA&#45;&gt;EW1_comp</title>\n",
       "<path fill=\"none\" stroke=\"#a9a9a9\" d=\"M1060.5,-160.6947C1060.5,-137.2772 1060.5,-107 1060.5,-107 1060.5,-107 842.4514,-107 842.4514,-107\"/>\n",
       "<polygon fill=\"#a9a9a9\" stroke=\"#a9a9a9\" points=\"842.4514,-103.5001 832.4514,-107 842.4513,-110.5001 842.4514,-103.5001\"/>\n",
       "</g>\n",
       "<!-- EW1 -->\n",
       "<g id=\"node13\" class=\"node\">\n",
       "<title>EW1</title>\n",
       "<polygon fill=\"#2a9d8f\" stroke=\"#eeeeee\" points=\"783,-53 632,-53 632,0 783,0 783,-53\"/>\n",
       "<text text-anchor=\"middle\" x=\"707.5\" y=\"-37.8\" font-family=\"roboto\" font-size=\"14.00\" fill=\"#eeeeee\">Water Use Efficiency </text>\n",
       "<text text-anchor=\"middle\" x=\"707.5\" y=\"-22.8\" font-family=\"roboto\" font-size=\"14.00\" fill=\"#eeeeee\"> (EW1) </text>\n",
       "<text text-anchor=\"middle\" x=\"707.5\" y=\"-7.8\" font-family=\"roboto\" font-size=\"14.00\" fill=\"#eeeeee\"> $/(m3/year)</text>\n",
       "</g>\n",
       "<!-- EW1_comp&#45;&gt;EW1 -->\n",
       "<g id=\"edge13\" class=\"edge\">\n",
       "<title>EW1_comp&#45;&gt;EW1</title>\n",
       "<path fill=\"none\" stroke=\"#a9a9a9\" d=\"M707.5,-88.7333C707.5,-88.7333 707.5,-63.2477 707.5,-63.2477\"/>\n",
       "<polygon fill=\"#a9a9a9\" stroke=\"#a9a9a9\" points=\"711.0001,-63.2476 707.5,-53.2477 704.0001,-63.2477 711.0001,-63.2476\"/>\n",
       "</g>\n",
       "</g>\n",
       "</svg>\n"
      ],
      "text/plain": [
       "<graphviz.dot.Digraph at 0x7f2788809d90>"
      ]
     },
     "execution_count": 123,
     "metadata": {},
     "output_type": "execute_result"
    }
   ],
   "source": [
    "model.draw()"
   ]
  },
  {
   "cell_type": "markdown",
   "metadata": {},
   "source": [
    "## Available data"
   ]
  },
  {
   "cell_type": "code",
   "execution_count": 118,
   "metadata": {
    "ExecuteTime": {
     "end_time": "2021-02-22T02:18:28.791979Z",
     "start_time": "2021-02-22T02:18:28.783507Z"
    }
   },
   "outputs": [],
   "source": [
    "def query_model_data(model, MWU_df):\n",
    "    return MWU_df[MWU_df.Variable.isin(model.summary_df.index)]\n",
    "\n",
    "\n",
    "def make_ISO_data_summary(ISO, model, data_dict):\n",
    "    model_data_df = retrieve_model_data(model, data_dict)\n",
    "    ISO_df = model_data_df[model_data_df.ISO == ISO]\n",
    "    return pd.merge(ISO_df, model.summary_df, left_on='Variable', right_index=True)"
   ]
  },
  {
   "cell_type": "code",
   "execution_count": 119,
   "metadata": {
    "ExecuteTime": {
     "end_time": "2021-02-22T02:18:29.061729Z",
     "start_time": "2021-02-22T02:18:29.050777Z"
    }
   },
   "outputs": [],
   "source": [
    "from plotly.subplots import make_subplots\n",
    "import plotly.graph_objects as go\n",
    "import plotly.express as px\n",
    "\n",
    "def plot_WU_data(df):\n",
    "        \n",
    "    fig = px.pie(df, values='Value', names='Variable', color='Variable', hole=0.5, hover_data=['Description', 'Unit'],\n",
    "                color_discrete_map={'IWU':'#EF553B',\n",
    "                                    'MWU':'#00CC96',\n",
    "                                    'AWU': '#636EFA'})\n",
    "    fig.update_layout(annotations=[dict(text='Water Use', x=0.5, y=0.5, font_size=20, showarrow=False)])\n",
    "\n",
    "    return fig\n",
    "\n",
    "def plot_GVA_data(df):\n",
    "    fig = px.bar(df,\n",
    "                 y='Value',\n",
    "                 x='Variable')\n",
    "    return fig"
   ]
  },
  {
   "cell_type": "code",
   "execution_count": 120,
   "metadata": {
    "ExecuteTime": {
     "end_time": "2021-02-22T02:18:29.597940Z",
     "start_time": "2021-02-22T02:18:29.588461Z"
    }
   },
   "outputs": [],
   "source": [
    "def MWU_subplot(data_summary_df):\n",
    "    subplot = make_subplots(rows=1, cols=2,\n",
    "                            specs=[[{\"type\": \"scatter\"}, {\"type\": \"pie\"}]],\n",
    "                            subplot_titles=('Gross added values', 'Water Use'))\n",
    "    \n",
    "    WU_plot = plot_WU_data(data_summary_df[data_summary_df.Variable.isin(['AWU', 'IWU', 'MWU'])])\n",
    "    GVA_plot = plot_GVA_data(data_summary_df[(data_summary_df.Variable.isin(['AGVA', 'IGVA', 'SGVA'])) & (data_summary_df.Year == 2019)])\n",
    "    \n",
    "    subplot.add_trace(GVA_plot['data'][0], row=1, col=1)\n",
    "    subplot.add_trace(WU_plot['data'][0], row=1, col=2)\n",
    "    subplot.update_layout(title_text=\"Water Model latest values\")\n",
    "   \n",
    "    return subplot"
   ]
  },
  {
   "cell_type": "code",
   "execution_count": 121,
   "metadata": {
    "ExecuteTime": {
     "end_time": "2021-02-22T02:18:30.416235Z",
     "start_time": "2021-02-22T02:18:30.211870Z"
    }
   },
   "outputs": [
    {
     "data": {
      "application/vnd.plotly.v1+json": {
       "config": {
        "plotlyServerURL": "https://plot.ly"
       },
       "data": [
        {
         "alignmentgroup": "True",
         "hovertemplate": "Variable=%{x}<br>Value=%{y}<extra></extra>",
         "legendgroup": "",
         "marker": {
          "color": "#636efa"
         },
         "name": "",
         "offsetgroup": "",
         "orientation": "v",
         "showlegend": false,
         "textposition": "auto",
         "type": "bar",
         "x": [
          "AGVA",
          "IGVA",
          "SGVA"
         ],
         "xaxis": "x",
         "y": [
          5266748294.00742,
          42281524967.7274,
          100287955651.273
         ],
         "yaxis": "y"
        },
        {
         "customdata": [
          [
           "Agricultural water withdrawal",
           "10^9 m3/year",
           "AWU"
          ],
          [
           "Agricultural water withdrawal",
           "10^9 m3/year",
           "AWU"
          ],
          [
           "Agricultural water withdrawal",
           "10^9 m3/year",
           "AWU"
          ],
          [
           "Agricultural water withdrawal",
           "10^9 m3/year",
           "AWU"
          ],
          [
           "Agricultural water withdrawal",
           "10^9 m3/year",
           "AWU"
          ],
          [
           "Agricultural water withdrawal",
           "10^9 m3/year",
           "AWU"
          ],
          [
           "Industrial water withdrawal",
           "10^9 m3/yr",
           "IWU"
          ],
          [
           "Industrial water withdrawal",
           "10^9 m3/yr",
           "IWU"
          ],
          [
           "Industrial water withdrawal",
           "10^9 m3/yr",
           "IWU"
          ],
          [
           "Industrial water withdrawal",
           "10^9 m3/yr",
           "IWU"
          ],
          [
           "Industrial water withdrawal",
           "10^9 m3/yr",
           "IWU"
          ],
          [
           "Industrial water withdrawal",
           "10^9 m3/yr",
           "IWU"
          ],
          [
           "Municipal water withdrawal",
           "10^9 m3/yr",
           "MWU"
          ],
          [
           "Municipal water withdrawal",
           "10^9 m3/yr",
           "MWU"
          ],
          [
           "Municipal water withdrawal",
           "10^9 m3/yr",
           "MWU"
          ],
          [
           "Municipal water withdrawal",
           "10^9 m3/yr",
           "MWU"
          ],
          [
           "Municipal water withdrawal",
           "10^9 m3/yr",
           "MWU"
          ],
          [
           "Municipal water withdrawal",
           "10^9 m3/yr",
           "MWU"
          ]
         ],
         "domain": {
          "x": [
           0.55,
           1
          ],
          "y": [
           0,
           1
          ]
         },
         "hole": 0.5,
         "hovertemplate": "Variable=%{customdata[2]}<br>Value=%{value}<br>Description=%{customdata[0]}<br>Unit=%{customdata[1]}<extra></extra>",
         "labels": [
          "AWU",
          "AWU",
          "AWU",
          "AWU",
          "AWU",
          "AWU",
          "IWU",
          "IWU",
          "IWU",
          "IWU",
          "IWU",
          "IWU",
          "MWU",
          "MWU",
          "MWU",
          "MWU",
          "MWU",
          "MWU"
         ],
         "legendgroup": "",
         "marker": {
          "colors": [
           "#636EFA",
           "#636EFA",
           "#636EFA",
           "#636EFA",
           "#636EFA",
           "#636EFA",
           "#EF553B",
           "#EF553B",
           "#EF553B",
           "#EF553B",
           "#EF553B",
           "#EF553B",
           "#00CC96",
           "#00CC96",
           "#00CC96",
           "#00CC96",
           "#00CC96",
           "#00CC96"
          ]
         },
         "name": "",
         "showlegend": true,
         "type": "pie",
         "values": [
          0.949,
          0.4556,
          0.6796,
          0.3054,
          0.322,
          0.5186,
          5.204,
          4.726,
          4.209,
          4.486,
          4.013,
          3.358,
          0.9841,
          0.8288,
          0.8311,
          0.793,
          0.716,
          0.6245
         ]
        }
       ],
       "layout": {
        "annotations": [
         {
          "font": {
           "size": 16
          },
          "showarrow": false,
          "text": "Gross added values",
          "x": 0.225,
          "xanchor": "center",
          "xref": "paper",
          "y": 1,
          "yanchor": "bottom",
          "yref": "paper"
         },
         {
          "font": {
           "size": 16
          },
          "showarrow": false,
          "text": "Water Use",
          "x": 0.775,
          "xanchor": "center",
          "xref": "paper",
          "y": 1,
          "yanchor": "bottom",
          "yref": "paper"
         }
        ],
        "template": {
         "data": {
          "bar": [
           {
            "error_x": {
             "color": "#2a3f5f"
            },
            "error_y": {
             "color": "#2a3f5f"
            },
            "marker": {
             "line": {
              "color": "#E5ECF6",
              "width": 0.5
             }
            },
            "type": "bar"
           }
          ],
          "barpolar": [
           {
            "marker": {
             "line": {
              "color": "#E5ECF6",
              "width": 0.5
             }
            },
            "type": "barpolar"
           }
          ],
          "carpet": [
           {
            "aaxis": {
             "endlinecolor": "#2a3f5f",
             "gridcolor": "white",
             "linecolor": "white",
             "minorgridcolor": "white",
             "startlinecolor": "#2a3f5f"
            },
            "baxis": {
             "endlinecolor": "#2a3f5f",
             "gridcolor": "white",
             "linecolor": "white",
             "minorgridcolor": "white",
             "startlinecolor": "#2a3f5f"
            },
            "type": "carpet"
           }
          ],
          "choropleth": [
           {
            "colorbar": {
             "outlinewidth": 0,
             "ticks": ""
            },
            "type": "choropleth"
           }
          ],
          "contour": [
           {
            "colorbar": {
             "outlinewidth": 0,
             "ticks": ""
            },
            "colorscale": [
             [
              0,
              "#0d0887"
             ],
             [
              0.1111111111111111,
              "#46039f"
             ],
             [
              0.2222222222222222,
              "#7201a8"
             ],
             [
              0.3333333333333333,
              "#9c179e"
             ],
             [
              0.4444444444444444,
              "#bd3786"
             ],
             [
              0.5555555555555556,
              "#d8576b"
             ],
             [
              0.6666666666666666,
              "#ed7953"
             ],
             [
              0.7777777777777778,
              "#fb9f3a"
             ],
             [
              0.8888888888888888,
              "#fdca26"
             ],
             [
              1,
              "#f0f921"
             ]
            ],
            "type": "contour"
           }
          ],
          "contourcarpet": [
           {
            "colorbar": {
             "outlinewidth": 0,
             "ticks": ""
            },
            "type": "contourcarpet"
           }
          ],
          "heatmap": [
           {
            "colorbar": {
             "outlinewidth": 0,
             "ticks": ""
            },
            "colorscale": [
             [
              0,
              "#0d0887"
             ],
             [
              0.1111111111111111,
              "#46039f"
             ],
             [
              0.2222222222222222,
              "#7201a8"
             ],
             [
              0.3333333333333333,
              "#9c179e"
             ],
             [
              0.4444444444444444,
              "#bd3786"
             ],
             [
              0.5555555555555556,
              "#d8576b"
             ],
             [
              0.6666666666666666,
              "#ed7953"
             ],
             [
              0.7777777777777778,
              "#fb9f3a"
             ],
             [
              0.8888888888888888,
              "#fdca26"
             ],
             [
              1,
              "#f0f921"
             ]
            ],
            "type": "heatmap"
           }
          ],
          "heatmapgl": [
           {
            "colorbar": {
             "outlinewidth": 0,
             "ticks": ""
            },
            "colorscale": [
             [
              0,
              "#0d0887"
             ],
             [
              0.1111111111111111,
              "#46039f"
             ],
             [
              0.2222222222222222,
              "#7201a8"
             ],
             [
              0.3333333333333333,
              "#9c179e"
             ],
             [
              0.4444444444444444,
              "#bd3786"
             ],
             [
              0.5555555555555556,
              "#d8576b"
             ],
             [
              0.6666666666666666,
              "#ed7953"
             ],
             [
              0.7777777777777778,
              "#fb9f3a"
             ],
             [
              0.8888888888888888,
              "#fdca26"
             ],
             [
              1,
              "#f0f921"
             ]
            ],
            "type": "heatmapgl"
           }
          ],
          "histogram": [
           {
            "marker": {
             "colorbar": {
              "outlinewidth": 0,
              "ticks": ""
             }
            },
            "type": "histogram"
           }
          ],
          "histogram2d": [
           {
            "colorbar": {
             "outlinewidth": 0,
             "ticks": ""
            },
            "colorscale": [
             [
              0,
              "#0d0887"
             ],
             [
              0.1111111111111111,
              "#46039f"
             ],
             [
              0.2222222222222222,
              "#7201a8"
             ],
             [
              0.3333333333333333,
              "#9c179e"
             ],
             [
              0.4444444444444444,
              "#bd3786"
             ],
             [
              0.5555555555555556,
              "#d8576b"
             ],
             [
              0.6666666666666666,
              "#ed7953"
             ],
             [
              0.7777777777777778,
              "#fb9f3a"
             ],
             [
              0.8888888888888888,
              "#fdca26"
             ],
             [
              1,
              "#f0f921"
             ]
            ],
            "type": "histogram2d"
           }
          ],
          "histogram2dcontour": [
           {
            "colorbar": {
             "outlinewidth": 0,
             "ticks": ""
            },
            "colorscale": [
             [
              0,
              "#0d0887"
             ],
             [
              0.1111111111111111,
              "#46039f"
             ],
             [
              0.2222222222222222,
              "#7201a8"
             ],
             [
              0.3333333333333333,
              "#9c179e"
             ],
             [
              0.4444444444444444,
              "#bd3786"
             ],
             [
              0.5555555555555556,
              "#d8576b"
             ],
             [
              0.6666666666666666,
              "#ed7953"
             ],
             [
              0.7777777777777778,
              "#fb9f3a"
             ],
             [
              0.8888888888888888,
              "#fdca26"
             ],
             [
              1,
              "#f0f921"
             ]
            ],
            "type": "histogram2dcontour"
           }
          ],
          "mesh3d": [
           {
            "colorbar": {
             "outlinewidth": 0,
             "ticks": ""
            },
            "type": "mesh3d"
           }
          ],
          "parcoords": [
           {
            "line": {
             "colorbar": {
              "outlinewidth": 0,
              "ticks": ""
             }
            },
            "type": "parcoords"
           }
          ],
          "pie": [
           {
            "automargin": true,
            "type": "pie"
           }
          ],
          "scatter": [
           {
            "marker": {
             "colorbar": {
              "outlinewidth": 0,
              "ticks": ""
             }
            },
            "type": "scatter"
           }
          ],
          "scatter3d": [
           {
            "line": {
             "colorbar": {
              "outlinewidth": 0,
              "ticks": ""
             }
            },
            "marker": {
             "colorbar": {
              "outlinewidth": 0,
              "ticks": ""
             }
            },
            "type": "scatter3d"
           }
          ],
          "scattercarpet": [
           {
            "marker": {
             "colorbar": {
              "outlinewidth": 0,
              "ticks": ""
             }
            },
            "type": "scattercarpet"
           }
          ],
          "scattergeo": [
           {
            "marker": {
             "colorbar": {
              "outlinewidth": 0,
              "ticks": ""
             }
            },
            "type": "scattergeo"
           }
          ],
          "scattergl": [
           {
            "marker": {
             "colorbar": {
              "outlinewidth": 0,
              "ticks": ""
             }
            },
            "type": "scattergl"
           }
          ],
          "scattermapbox": [
           {
            "marker": {
             "colorbar": {
              "outlinewidth": 0,
              "ticks": ""
             }
            },
            "type": "scattermapbox"
           }
          ],
          "scatterpolar": [
           {
            "marker": {
             "colorbar": {
              "outlinewidth": 0,
              "ticks": ""
             }
            },
            "type": "scatterpolar"
           }
          ],
          "scatterpolargl": [
           {
            "marker": {
             "colorbar": {
              "outlinewidth": 0,
              "ticks": ""
             }
            },
            "type": "scatterpolargl"
           }
          ],
          "scatterternary": [
           {
            "marker": {
             "colorbar": {
              "outlinewidth": 0,
              "ticks": ""
             }
            },
            "type": "scatterternary"
           }
          ],
          "surface": [
           {
            "colorbar": {
             "outlinewidth": 0,
             "ticks": ""
            },
            "colorscale": [
             [
              0,
              "#0d0887"
             ],
             [
              0.1111111111111111,
              "#46039f"
             ],
             [
              0.2222222222222222,
              "#7201a8"
             ],
             [
              0.3333333333333333,
              "#9c179e"
             ],
             [
              0.4444444444444444,
              "#bd3786"
             ],
             [
              0.5555555555555556,
              "#d8576b"
             ],
             [
              0.6666666666666666,
              "#ed7953"
             ],
             [
              0.7777777777777778,
              "#fb9f3a"
             ],
             [
              0.8888888888888888,
              "#fdca26"
             ],
             [
              1,
              "#f0f921"
             ]
            ],
            "type": "surface"
           }
          ],
          "table": [
           {
            "cells": {
             "fill": {
              "color": "#EBF0F8"
             },
             "line": {
              "color": "white"
             }
            },
            "header": {
             "fill": {
              "color": "#C8D4E3"
             },
             "line": {
              "color": "white"
             }
            },
            "type": "table"
           }
          ]
         },
         "layout": {
          "annotationdefaults": {
           "arrowcolor": "#2a3f5f",
           "arrowhead": 0,
           "arrowwidth": 1
          },
          "autotypenumbers": "strict",
          "coloraxis": {
           "colorbar": {
            "outlinewidth": 0,
            "ticks": ""
           }
          },
          "colorscale": {
           "diverging": [
            [
             0,
             "#8e0152"
            ],
            [
             0.1,
             "#c51b7d"
            ],
            [
             0.2,
             "#de77ae"
            ],
            [
             0.3,
             "#f1b6da"
            ],
            [
             0.4,
             "#fde0ef"
            ],
            [
             0.5,
             "#f7f7f7"
            ],
            [
             0.6,
             "#e6f5d0"
            ],
            [
             0.7,
             "#b8e186"
            ],
            [
             0.8,
             "#7fbc41"
            ],
            [
             0.9,
             "#4d9221"
            ],
            [
             1,
             "#276419"
            ]
           ],
           "sequential": [
            [
             0,
             "#0d0887"
            ],
            [
             0.1111111111111111,
             "#46039f"
            ],
            [
             0.2222222222222222,
             "#7201a8"
            ],
            [
             0.3333333333333333,
             "#9c179e"
            ],
            [
             0.4444444444444444,
             "#bd3786"
            ],
            [
             0.5555555555555556,
             "#d8576b"
            ],
            [
             0.6666666666666666,
             "#ed7953"
            ],
            [
             0.7777777777777778,
             "#fb9f3a"
            ],
            [
             0.8888888888888888,
             "#fdca26"
            ],
            [
             1,
             "#f0f921"
            ]
           ],
           "sequentialminus": [
            [
             0,
             "#0d0887"
            ],
            [
             0.1111111111111111,
             "#46039f"
            ],
            [
             0.2222222222222222,
             "#7201a8"
            ],
            [
             0.3333333333333333,
             "#9c179e"
            ],
            [
             0.4444444444444444,
             "#bd3786"
            ],
            [
             0.5555555555555556,
             "#d8576b"
            ],
            [
             0.6666666666666666,
             "#ed7953"
            ],
            [
             0.7777777777777778,
             "#fb9f3a"
            ],
            [
             0.8888888888888888,
             "#fdca26"
            ],
            [
             1,
             "#f0f921"
            ]
           ]
          },
          "colorway": [
           "#636efa",
           "#EF553B",
           "#00cc96",
           "#ab63fa",
           "#FFA15A",
           "#19d3f3",
           "#FF6692",
           "#B6E880",
           "#FF97FF",
           "#FECB52"
          ],
          "font": {
           "color": "#2a3f5f"
          },
          "geo": {
           "bgcolor": "white",
           "lakecolor": "white",
           "landcolor": "#E5ECF6",
           "showlakes": true,
           "showland": true,
           "subunitcolor": "white"
          },
          "hoverlabel": {
           "align": "left"
          },
          "hovermode": "closest",
          "mapbox": {
           "style": "light"
          },
          "paper_bgcolor": "white",
          "plot_bgcolor": "#E5ECF6",
          "polar": {
           "angularaxis": {
            "gridcolor": "white",
            "linecolor": "white",
            "ticks": ""
           },
           "bgcolor": "#E5ECF6",
           "radialaxis": {
            "gridcolor": "white",
            "linecolor": "white",
            "ticks": ""
           }
          },
          "scene": {
           "xaxis": {
            "backgroundcolor": "#E5ECF6",
            "gridcolor": "white",
            "gridwidth": 2,
            "linecolor": "white",
            "showbackground": true,
            "ticks": "",
            "zerolinecolor": "white"
           },
           "yaxis": {
            "backgroundcolor": "#E5ECF6",
            "gridcolor": "white",
            "gridwidth": 2,
            "linecolor": "white",
            "showbackground": true,
            "ticks": "",
            "zerolinecolor": "white"
           },
           "zaxis": {
            "backgroundcolor": "#E5ECF6",
            "gridcolor": "white",
            "gridwidth": 2,
            "linecolor": "white",
            "showbackground": true,
            "ticks": "",
            "zerolinecolor": "white"
           }
          },
          "shapedefaults": {
           "line": {
            "color": "#2a3f5f"
           }
          },
          "ternary": {
           "aaxis": {
            "gridcolor": "white",
            "linecolor": "white",
            "ticks": ""
           },
           "baxis": {
            "gridcolor": "white",
            "linecolor": "white",
            "ticks": ""
           },
           "bgcolor": "#E5ECF6",
           "caxis": {
            "gridcolor": "white",
            "linecolor": "white",
            "ticks": ""
           }
          },
          "title": {
           "x": 0.05
          },
          "xaxis": {
           "automargin": true,
           "gridcolor": "white",
           "linecolor": "white",
           "ticks": "",
           "title": {
            "standoff": 15
           },
           "zerolinecolor": "white",
           "zerolinewidth": 2
          },
          "yaxis": {
           "automargin": true,
           "gridcolor": "white",
           "linecolor": "white",
           "ticks": "",
           "title": {
            "standoff": 15
           },
           "zerolinecolor": "white",
           "zerolinewidth": 2
          }
         }
        },
        "title": {
         "text": "Water Model latest values"
        },
        "xaxis": {
         "anchor": "y",
         "domain": [
          0,
          0.45
         ]
        },
        "yaxis": {
         "anchor": "x",
         "domain": [
          0,
          1
         ]
        }
       }
      },
      "text/html": [
       "<div>                            <div id=\"f99e73ed-39b7-4645-8357-5df2d1e7f71c\" class=\"plotly-graph-div\" style=\"height:525px; width:100%;\"></div>            <script type=\"text/javascript\">                require([\"plotly\"], function(Plotly) {                    window.PLOTLYENV=window.PLOTLYENV || {};                                    if (document.getElementById(\"f99e73ed-39b7-4645-8357-5df2d1e7f71c\")) {                    Plotly.newPlot(                        \"f99e73ed-39b7-4645-8357-5df2d1e7f71c\",                        [{\"alignmentgroup\": \"True\", \"hovertemplate\": \"Variable=%{x}<br>Value=%{y}<extra></extra>\", \"legendgroup\": \"\", \"marker\": {\"color\": \"#636efa\"}, \"name\": \"\", \"offsetgroup\": \"\", \"orientation\": \"v\", \"showlegend\": false, \"textposition\": \"auto\", \"type\": \"bar\", \"x\": [\"AGVA\", \"IGVA\", \"SGVA\"], \"xaxis\": \"x\", \"y\": [5266748294.00742, 42281524967.7274, 100287955651.273], \"yaxis\": \"y\"}, {\"customdata\": [[\"Agricultural water withdrawal\", \"10^9 m3/year\", \"AWU\"], [\"Agricultural water withdrawal\", \"10^9 m3/year\", \"AWU\"], [\"Agricultural water withdrawal\", \"10^9 m3/year\", \"AWU\"], [\"Agricultural water withdrawal\", \"10^9 m3/year\", \"AWU\"], [\"Agricultural water withdrawal\", \"10^9 m3/year\", \"AWU\"], [\"Agricultural water withdrawal\", \"10^9 m3/year\", \"AWU\"], [\"Industrial water withdrawal\", \"10^9 m3/yr\", \"IWU\"], [\"Industrial water withdrawal\", \"10^9 m3/yr\", \"IWU\"], [\"Industrial water withdrawal\", \"10^9 m3/yr\", \"IWU\"], [\"Industrial water withdrawal\", \"10^9 m3/yr\", \"IWU\"], [\"Industrial water withdrawal\", \"10^9 m3/yr\", \"IWU\"], [\"Industrial water withdrawal\", \"10^9 m3/yr\", \"IWU\"], [\"Municipal water withdrawal\", \"10^9 m3/yr\", \"MWU\"], [\"Municipal water withdrawal\", \"10^9 m3/yr\", \"MWU\"], [\"Municipal water withdrawal\", \"10^9 m3/yr\", \"MWU\"], [\"Municipal water withdrawal\", \"10^9 m3/yr\", \"MWU\"], [\"Municipal water withdrawal\", \"10^9 m3/yr\", \"MWU\"], [\"Municipal water withdrawal\", \"10^9 m3/yr\", \"MWU\"]], \"domain\": {\"x\": [0.55, 1.0], \"y\": [0.0, 1.0]}, \"hole\": 0.5, \"hovertemplate\": \"Variable=%{customdata[2]}<br>Value=%{value}<br>Description=%{customdata[0]}<br>Unit=%{customdata[1]}<extra></extra>\", \"labels\": [\"AWU\", \"AWU\", \"AWU\", \"AWU\", \"AWU\", \"AWU\", \"IWU\", \"IWU\", \"IWU\", \"IWU\", \"IWU\", \"IWU\", \"MWU\", \"MWU\", \"MWU\", \"MWU\", \"MWU\", \"MWU\"], \"legendgroup\": \"\", \"marker\": {\"colors\": [\"#636EFA\", \"#636EFA\", \"#636EFA\", \"#636EFA\", \"#636EFA\", \"#636EFA\", \"#EF553B\", \"#EF553B\", \"#EF553B\", \"#EF553B\", \"#EF553B\", \"#EF553B\", \"#00CC96\", \"#00CC96\", \"#00CC96\", \"#00CC96\", \"#00CC96\", \"#00CC96\"]}, \"name\": \"\", \"showlegend\": true, \"type\": \"pie\", \"values\": [0.949, 0.4556, 0.6796, 0.3054, 0.322, 0.5186, 5.204, 4.726, 4.209, 4.486, 4.013, 3.358, 0.9841, 0.8288, 0.8311, 0.793, 0.716, 0.6245]}],                        {\"annotations\": [{\"font\": {\"size\": 16}, \"showarrow\": false, \"text\": \"Gross added values\", \"x\": 0.225, \"xanchor\": \"center\", \"xref\": \"paper\", \"y\": 1.0, \"yanchor\": \"bottom\", \"yref\": \"paper\"}, {\"font\": {\"size\": 16}, \"showarrow\": false, \"text\": \"Water Use\", \"x\": 0.775, \"xanchor\": \"center\", \"xref\": \"paper\", \"y\": 1.0, \"yanchor\": \"bottom\", \"yref\": \"paper\"}], \"template\": {\"data\": {\"bar\": [{\"error_x\": {\"color\": \"#2a3f5f\"}, \"error_y\": {\"color\": \"#2a3f5f\"}, \"marker\": {\"line\": {\"color\": \"#E5ECF6\", \"width\": 0.5}}, \"type\": \"bar\"}], \"barpolar\": [{\"marker\": {\"line\": {\"color\": \"#E5ECF6\", \"width\": 0.5}}, \"type\": \"barpolar\"}], \"carpet\": [{\"aaxis\": {\"endlinecolor\": \"#2a3f5f\", \"gridcolor\": \"white\", \"linecolor\": \"white\", \"minorgridcolor\": \"white\", \"startlinecolor\": \"#2a3f5f\"}, \"baxis\": {\"endlinecolor\": \"#2a3f5f\", \"gridcolor\": \"white\", \"linecolor\": \"white\", \"minorgridcolor\": \"white\", \"startlinecolor\": \"#2a3f5f\"}, \"type\": \"carpet\"}], \"choropleth\": [{\"colorbar\": {\"outlinewidth\": 0, \"ticks\": \"\"}, \"type\": \"choropleth\"}], \"contour\": [{\"colorbar\": {\"outlinewidth\": 0, \"ticks\": \"\"}, \"colorscale\": [[0.0, \"#0d0887\"], [0.1111111111111111, \"#46039f\"], [0.2222222222222222, \"#7201a8\"], [0.3333333333333333, \"#9c179e\"], [0.4444444444444444, \"#bd3786\"], [0.5555555555555556, \"#d8576b\"], [0.6666666666666666, \"#ed7953\"], [0.7777777777777778, \"#fb9f3a\"], [0.8888888888888888, \"#fdca26\"], [1.0, \"#f0f921\"]], \"type\": \"contour\"}], \"contourcarpet\": [{\"colorbar\": {\"outlinewidth\": 0, \"ticks\": \"\"}, \"type\": \"contourcarpet\"}], \"heatmap\": [{\"colorbar\": {\"outlinewidth\": 0, \"ticks\": \"\"}, \"colorscale\": [[0.0, \"#0d0887\"], [0.1111111111111111, \"#46039f\"], [0.2222222222222222, \"#7201a8\"], [0.3333333333333333, \"#9c179e\"], [0.4444444444444444, \"#bd3786\"], [0.5555555555555556, \"#d8576b\"], [0.6666666666666666, \"#ed7953\"], [0.7777777777777778, \"#fb9f3a\"], [0.8888888888888888, \"#fdca26\"], [1.0, \"#f0f921\"]], \"type\": \"heatmap\"}], \"heatmapgl\": [{\"colorbar\": {\"outlinewidth\": 0, \"ticks\": \"\"}, \"colorscale\": [[0.0, \"#0d0887\"], [0.1111111111111111, \"#46039f\"], [0.2222222222222222, \"#7201a8\"], [0.3333333333333333, \"#9c179e\"], [0.4444444444444444, \"#bd3786\"], [0.5555555555555556, \"#d8576b\"], [0.6666666666666666, \"#ed7953\"], [0.7777777777777778, \"#fb9f3a\"], [0.8888888888888888, \"#fdca26\"], [1.0, \"#f0f921\"]], \"type\": \"heatmapgl\"}], \"histogram\": [{\"marker\": {\"colorbar\": {\"outlinewidth\": 0, \"ticks\": \"\"}}, \"type\": \"histogram\"}], \"histogram2d\": [{\"colorbar\": {\"outlinewidth\": 0, \"ticks\": \"\"}, \"colorscale\": [[0.0, \"#0d0887\"], [0.1111111111111111, \"#46039f\"], [0.2222222222222222, \"#7201a8\"], [0.3333333333333333, \"#9c179e\"], [0.4444444444444444, \"#bd3786\"], [0.5555555555555556, \"#d8576b\"], [0.6666666666666666, \"#ed7953\"], [0.7777777777777778, \"#fb9f3a\"], [0.8888888888888888, \"#fdca26\"], [1.0, \"#f0f921\"]], \"type\": \"histogram2d\"}], \"histogram2dcontour\": [{\"colorbar\": {\"outlinewidth\": 0, \"ticks\": \"\"}, \"colorscale\": [[0.0, \"#0d0887\"], [0.1111111111111111, \"#46039f\"], [0.2222222222222222, \"#7201a8\"], [0.3333333333333333, \"#9c179e\"], [0.4444444444444444, \"#bd3786\"], [0.5555555555555556, \"#d8576b\"], [0.6666666666666666, \"#ed7953\"], [0.7777777777777778, \"#fb9f3a\"], [0.8888888888888888, \"#fdca26\"], [1.0, \"#f0f921\"]], \"type\": \"histogram2dcontour\"}], \"mesh3d\": [{\"colorbar\": {\"outlinewidth\": 0, \"ticks\": \"\"}, \"type\": \"mesh3d\"}], \"parcoords\": [{\"line\": {\"colorbar\": {\"outlinewidth\": 0, \"ticks\": \"\"}}, \"type\": \"parcoords\"}], \"pie\": [{\"automargin\": true, \"type\": \"pie\"}], \"scatter\": [{\"marker\": {\"colorbar\": {\"outlinewidth\": 0, \"ticks\": \"\"}}, \"type\": \"scatter\"}], \"scatter3d\": [{\"line\": {\"colorbar\": {\"outlinewidth\": 0, \"ticks\": \"\"}}, \"marker\": {\"colorbar\": {\"outlinewidth\": 0, \"ticks\": \"\"}}, \"type\": \"scatter3d\"}], \"scattercarpet\": [{\"marker\": {\"colorbar\": {\"outlinewidth\": 0, \"ticks\": \"\"}}, \"type\": \"scattercarpet\"}], \"scattergeo\": [{\"marker\": {\"colorbar\": {\"outlinewidth\": 0, \"ticks\": \"\"}}, \"type\": \"scattergeo\"}], \"scattergl\": [{\"marker\": {\"colorbar\": {\"outlinewidth\": 0, \"ticks\": \"\"}}, \"type\": \"scattergl\"}], \"scattermapbox\": [{\"marker\": {\"colorbar\": {\"outlinewidth\": 0, \"ticks\": \"\"}}, \"type\": \"scattermapbox\"}], \"scatterpolar\": [{\"marker\": {\"colorbar\": {\"outlinewidth\": 0, \"ticks\": \"\"}}, \"type\": \"scatterpolar\"}], \"scatterpolargl\": [{\"marker\": {\"colorbar\": {\"outlinewidth\": 0, \"ticks\": \"\"}}, \"type\": \"scatterpolargl\"}], \"scatterternary\": [{\"marker\": {\"colorbar\": {\"outlinewidth\": 0, \"ticks\": \"\"}}, \"type\": \"scatterternary\"}], \"surface\": [{\"colorbar\": {\"outlinewidth\": 0, \"ticks\": \"\"}, \"colorscale\": [[0.0, \"#0d0887\"], [0.1111111111111111, \"#46039f\"], [0.2222222222222222, \"#7201a8\"], [0.3333333333333333, \"#9c179e\"], [0.4444444444444444, \"#bd3786\"], [0.5555555555555556, \"#d8576b\"], [0.6666666666666666, \"#ed7953\"], [0.7777777777777778, \"#fb9f3a\"], [0.8888888888888888, \"#fdca26\"], [1.0, \"#f0f921\"]], \"type\": \"surface\"}], \"table\": [{\"cells\": {\"fill\": {\"color\": \"#EBF0F8\"}, \"line\": {\"color\": \"white\"}}, \"header\": {\"fill\": {\"color\": \"#C8D4E3\"}, \"line\": {\"color\": \"white\"}}, \"type\": \"table\"}]}, \"layout\": {\"annotationdefaults\": {\"arrowcolor\": \"#2a3f5f\", \"arrowhead\": 0, \"arrowwidth\": 1}, \"autotypenumbers\": \"strict\", \"coloraxis\": {\"colorbar\": {\"outlinewidth\": 0, \"ticks\": \"\"}}, \"colorscale\": {\"diverging\": [[0, \"#8e0152\"], [0.1, \"#c51b7d\"], [0.2, \"#de77ae\"], [0.3, \"#f1b6da\"], [0.4, \"#fde0ef\"], [0.5, \"#f7f7f7\"], [0.6, \"#e6f5d0\"], [0.7, \"#b8e186\"], [0.8, \"#7fbc41\"], [0.9, \"#4d9221\"], [1, \"#276419\"]], \"sequential\": [[0.0, \"#0d0887\"], [0.1111111111111111, \"#46039f\"], [0.2222222222222222, \"#7201a8\"], [0.3333333333333333, \"#9c179e\"], [0.4444444444444444, \"#bd3786\"], [0.5555555555555556, \"#d8576b\"], [0.6666666666666666, \"#ed7953\"], [0.7777777777777778, \"#fb9f3a\"], [0.8888888888888888, \"#fdca26\"], [1.0, \"#f0f921\"]], \"sequentialminus\": [[0.0, \"#0d0887\"], [0.1111111111111111, \"#46039f\"], [0.2222222222222222, \"#7201a8\"], [0.3333333333333333, \"#9c179e\"], [0.4444444444444444, \"#bd3786\"], [0.5555555555555556, \"#d8576b\"], [0.6666666666666666, \"#ed7953\"], [0.7777777777777778, \"#fb9f3a\"], [0.8888888888888888, \"#fdca26\"], [1.0, \"#f0f921\"]]}, \"colorway\": [\"#636efa\", \"#EF553B\", \"#00cc96\", \"#ab63fa\", \"#FFA15A\", \"#19d3f3\", \"#FF6692\", \"#B6E880\", \"#FF97FF\", \"#FECB52\"], \"font\": {\"color\": \"#2a3f5f\"}, \"geo\": {\"bgcolor\": \"white\", \"lakecolor\": \"white\", \"landcolor\": \"#E5ECF6\", \"showlakes\": true, \"showland\": true, \"subunitcolor\": \"white\"}, \"hoverlabel\": {\"align\": \"left\"}, \"hovermode\": \"closest\", \"mapbox\": {\"style\": \"light\"}, \"paper_bgcolor\": \"white\", \"plot_bgcolor\": \"#E5ECF6\", \"polar\": {\"angularaxis\": {\"gridcolor\": \"white\", \"linecolor\": \"white\", \"ticks\": \"\"}, \"bgcolor\": \"#E5ECF6\", \"radialaxis\": {\"gridcolor\": \"white\", \"linecolor\": \"white\", \"ticks\": \"\"}}, \"scene\": {\"xaxis\": {\"backgroundcolor\": \"#E5ECF6\", \"gridcolor\": \"white\", \"gridwidth\": 2, \"linecolor\": \"white\", \"showbackground\": true, \"ticks\": \"\", \"zerolinecolor\": \"white\"}, \"yaxis\": {\"backgroundcolor\": \"#E5ECF6\", \"gridcolor\": \"white\", \"gridwidth\": 2, \"linecolor\": \"white\", \"showbackground\": true, \"ticks\": \"\", \"zerolinecolor\": \"white\"}, \"zaxis\": {\"backgroundcolor\": \"#E5ECF6\", \"gridcolor\": \"white\", \"gridwidth\": 2, \"linecolor\": \"white\", \"showbackground\": true, \"ticks\": \"\", \"zerolinecolor\": \"white\"}}, \"shapedefaults\": {\"line\": {\"color\": \"#2a3f5f\"}}, \"ternary\": {\"aaxis\": {\"gridcolor\": \"white\", \"linecolor\": \"white\", \"ticks\": \"\"}, \"baxis\": {\"gridcolor\": \"white\", \"linecolor\": \"white\", \"ticks\": \"\"}, \"bgcolor\": \"#E5ECF6\", \"caxis\": {\"gridcolor\": \"white\", \"linecolor\": \"white\", \"ticks\": \"\"}}, \"title\": {\"x\": 0.05}, \"xaxis\": {\"automargin\": true, \"gridcolor\": \"white\", \"linecolor\": \"white\", \"ticks\": \"\", \"title\": {\"standoff\": 15}, \"zerolinecolor\": \"white\", \"zerolinewidth\": 2}, \"yaxis\": {\"automargin\": true, \"gridcolor\": \"white\", \"linecolor\": \"white\", \"ticks\": \"\", \"title\": {\"standoff\": 15}, \"zerolinecolor\": \"white\", \"zerolinewidth\": 2}}}, \"title\": {\"text\": \"Water Model latest values\"}, \"xaxis\": {\"anchor\": \"y\", \"domain\": [0.0, 0.45]}, \"yaxis\": {\"anchor\": \"x\", \"domain\": [0.0, 1.0]}},                        {\"responsive\": true}                    ).then(function(){\n",
       "                            \n",
       "var gd = document.getElementById('f99e73ed-39b7-4645-8357-5df2d1e7f71c');\n",
       "var x = new MutationObserver(function (mutations, observer) {{\n",
       "        var display = window.getComputedStyle(gd).display;\n",
       "        if (!display || display === 'none') {{\n",
       "            console.log([gd, 'removed!']);\n",
       "            Plotly.purge(gd);\n",
       "            observer.disconnect();\n",
       "        }}\n",
       "}});\n",
       "\n",
       "// Listen for the removal of the full notebook cells\n",
       "var notebookContainer = gd.closest('#notebook-container');\n",
       "if (notebookContainer) {{\n",
       "    x.observe(notebookContainer, {childList: true});\n",
       "}}\n",
       "\n",
       "// Listen for the clearing of the current output cell\n",
       "var outputEl = gd.closest('.output');\n",
       "if (outputEl) {{\n",
       "    x.observe(outputEl, {childList: true});\n",
       "}}\n",
       "\n",
       "                        })                };                });            </script>        </div>"
      ]
     },
     "metadata": {},
     "output_type": "display_data"
    }
   ],
   "source": [
    "data_summary_df = make_ISO_data_summary('HUN', model, MWU_df)\n",
    "MWU_subplot(data_summary_df)"
   ]
  },
  {
   "cell_type": "code",
   "execution_count": null,
   "metadata": {},
   "outputs": [],
   "source": []
  }
 ],
 "metadata": {
  "kernelspec": {
   "display_name": "Python 3",
   "language": "python",
   "name": "python3"
  },
  "language_info": {
   "codemirror_mode": {
    "name": "ipython",
    "version": 3
   },
   "file_extension": ".py",
   "mimetype": "text/x-python",
   "name": "python",
   "nbconvert_exporter": "python",
   "pygments_lexer": "ipython3",
   "version": "3.7.7"
  }
 },
 "nbformat": 4,
 "nbformat_minor": 4
}
