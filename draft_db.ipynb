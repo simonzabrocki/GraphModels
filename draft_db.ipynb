{
 "cells": [
  {
   "cell_type": "code",
   "execution_count": 1,
   "metadata": {
    "ExecuteTime": {
     "end_time": "2021-05-18T06:39:52.789013Z",
     "start_time": "2021-05-18T06:39:52.033899Z"
    }
   },
   "outputs": [],
   "source": [
    "import os\n",
    "os.environ[\"GGGI_db_username\"] = 'postgres'\n",
    "os.environ[\"GGGI_db_password\"] = 'lHeJnnRINyWCzfkDOzKl'\n",
    "os.environ['GGGI_db_endpoint'] ='database-gggi-1.cg4tog4qy0py.ap-northeast-2.rds.amazonaws.com'\n",
    "os.environ['GGGI_db_port'] = '5432'\n",
    "\n",
    "from ggmodel_dev.database import get_variables_df"
   ]
  },
  {
   "cell_type": "code",
   "execution_count": 2,
   "metadata": {
    "ExecuteTime": {
     "end_time": "2021-05-18T06:39:53.901377Z",
     "start_time": "2021-05-18T06:39:52.838982Z"
    },
    "scrolled": true
   },
   "outputs": [
    {
     "name": "stdout",
     "output_type": "stream",
     "text": [
      "foodbalancesheet FPi: Done\n",
      "foodbalancesheet_new FPi: Excluded\n",
      "livestock FPi: Excluded\n",
      "worldbank GDPC: Done\n"
     ]
    }
   ],
   "source": [
    "df_dictionnary = get_variables_df(['GDPC', 'FPi'], exclude_tables=['foodbalancesheet_new', 'livestock'], ISO=['FRA'])"
   ]
  },
  {
   "cell_type": "code",
   "execution_count": 3,
   "metadata": {
    "ExecuteTime": {
     "end_time": "2021-05-18T06:39:54.569032Z",
     "start_time": "2021-05-18T06:39:53.903797Z"
    }
   },
   "outputs": [],
   "source": [
    "from ggmodel_dev.models.landuse import BE2"
   ]
  },
  {
   "cell_type": "code",
   "execution_count": 4,
   "metadata": {
    "ExecuteTime": {
     "end_time": "2021-05-18T06:39:55.989887Z",
     "start_time": "2021-05-18T06:39:54.571264Z"
    },
    "scrolled": false
   },
   "outputs": [
    {
     "name": "stdout",
     "output_type": "stream",
     "text": [
      "crops TCLDi, CYi: Done\n",
      "foodbalancesheet FPi, SVi, FDi, SDi, FLOi, PDi, RDi, FDKGi, NFDi, SSRi: Excluded\n",
      "foodbalancesheet_new FPi, SDi, FLOi, RDi, SVi, FDi, PDi, FDKGi, NFDi, SSRi: Done\n",
      "landuse TLA, CL, IL, FL: Done\n",
      "livestock FPi: Excluded\n",
      "population Pop: Done\n",
      "sarahcrops CL: Excluded\n",
      "worldbank Pop: Done\n"
     ]
    }
   ],
   "source": [
    "to_query =  BE2.model_dictionnary['BE2_model'].summary_df.index.to_list()\n",
    "\n",
    "df_dictionnary = get_variables_df(to_query,\n",
    "                                  exclude_tables=['foodbalancesheet', 'livestock', 'sarahcrops'],\n",
    "                                  ISO=['FRA'])"
   ]
  },
  {
   "cell_type": "code",
   "execution_count": 6,
   "metadata": {
    "ExecuteTime": {
     "end_time": "2021-05-18T06:48:55.186574Z",
     "start_time": "2021-05-18T06:48:55.150390Z"
    }
   },
   "outputs": [
    {
     "data": {
      "text/html": [
       "<div>\n",
       "<style scoped>\n",
       "    .dataframe tbody tr th:only-of-type {\n",
       "        vertical-align: middle;\n",
       "    }\n",
       "\n",
       "    .dataframe tbody tr th {\n",
       "        vertical-align: top;\n",
       "    }\n",
       "\n",
       "    .dataframe thead th {\n",
       "        text-align: right;\n",
       "    }\n",
       "</style>\n",
       "<table border=\"1\" class=\"dataframe\">\n",
       "  <thead>\n",
       "    <tr style=\"text-align: right;\">\n",
       "      <th></th>\n",
       "      <th>ISO</th>\n",
       "      <th>Year</th>\n",
       "      <th>Variable</th>\n",
       "      <th>Item</th>\n",
       "      <th>group</th>\n",
       "      <th>Value</th>\n",
       "      <th>Description</th>\n",
       "      <th>Unit</th>\n",
       "      <th>table</th>\n",
       "    </tr>\n",
       "  </thead>\n",
       "  <tbody>\n",
       "    <tr>\n",
       "      <th>0</th>\n",
       "      <td>FRA</td>\n",
       "      <td>2014</td>\n",
       "      <td>FPi</td>\n",
       "      <td>Almonds, with shell</td>\n",
       "      <td>crop</td>\n",
       "      <td>1.067000</td>\n",
       "      <td>Production</td>\n",
       "      <td>1000 tonnes</td>\n",
       "      <td>foodbalancesheet_new</td>\n",
       "    </tr>\n",
       "    <tr>\n",
       "      <th>1</th>\n",
       "      <td>FRA</td>\n",
       "      <td>2014</td>\n",
       "      <td>FPi</td>\n",
       "      <td>Apples</td>\n",
       "      <td>crop</td>\n",
       "      <td>1847.551000</td>\n",
       "      <td>Production</td>\n",
       "      <td>1000 tonnes</td>\n",
       "      <td>foodbalancesheet_new</td>\n",
       "    </tr>\n",
       "    <tr>\n",
       "      <th>2</th>\n",
       "      <td>FRA</td>\n",
       "      <td>2015</td>\n",
       "      <td>FPi</td>\n",
       "      <td>Apples</td>\n",
       "      <td>crop</td>\n",
       "      <td>1968.628000</td>\n",
       "      <td>Production</td>\n",
       "      <td>1000 tonnes</td>\n",
       "      <td>foodbalancesheet_new</td>\n",
       "    </tr>\n",
       "    <tr>\n",
       "      <th>3</th>\n",
       "      <td>FRA</td>\n",
       "      <td>2016</td>\n",
       "      <td>FPi</td>\n",
       "      <td>Apples</td>\n",
       "      <td>crop</td>\n",
       "      <td>1823.123000</td>\n",
       "      <td>Production</td>\n",
       "      <td>1000 tonnes</td>\n",
       "      <td>foodbalancesheet_new</td>\n",
       "    </tr>\n",
       "    <tr>\n",
       "      <th>4</th>\n",
       "      <td>FRA</td>\n",
       "      <td>2017</td>\n",
       "      <td>FPi</td>\n",
       "      <td>Apples</td>\n",
       "      <td>crop</td>\n",
       "      <td>1695.949000</td>\n",
       "      <td>Production</td>\n",
       "      <td>1000 tonnes</td>\n",
       "      <td>foodbalancesheet_new</td>\n",
       "    </tr>\n",
       "    <tr>\n",
       "      <th>...</th>\n",
       "      <td>...</td>\n",
       "      <td>...</td>\n",
       "      <td>...</td>\n",
       "      <td>...</td>\n",
       "      <td>...</td>\n",
       "      <td>...</td>\n",
       "      <td>...</td>\n",
       "      <td>...</td>\n",
       "      <td>...</td>\n",
       "    </tr>\n",
       "    <tr>\n",
       "      <th>4135</th>\n",
       "      <td>FRA</td>\n",
       "      <td>2014</td>\n",
       "      <td>SSRi</td>\n",
       "      <td>Wheat</td>\n",
       "      <td>crop</td>\n",
       "      <td>2.043008</td>\n",
       "      <td>Self-sufficiency ratio</td>\n",
       "      <td>1</td>\n",
       "      <td>foodbalancesheet_new</td>\n",
       "    </tr>\n",
       "    <tr>\n",
       "      <th>4136</th>\n",
       "      <td>FRA</td>\n",
       "      <td>2015</td>\n",
       "      <td>SSRi</td>\n",
       "      <td>Wheat</td>\n",
       "      <td>crop</td>\n",
       "      <td>1.814243</td>\n",
       "      <td>Self-sufficiency ratio</td>\n",
       "      <td>1</td>\n",
       "      <td>foodbalancesheet_new</td>\n",
       "    </tr>\n",
       "    <tr>\n",
       "      <th>4137</th>\n",
       "      <td>FRA</td>\n",
       "      <td>2016</td>\n",
       "      <td>SSRi</td>\n",
       "      <td>Wheat</td>\n",
       "      <td>crop</td>\n",
       "      <td>2.461579</td>\n",
       "      <td>Self-sufficiency ratio</td>\n",
       "      <td>1</td>\n",
       "      <td>foodbalancesheet_new</td>\n",
       "    </tr>\n",
       "    <tr>\n",
       "      <th>4138</th>\n",
       "      <td>FRA</td>\n",
       "      <td>2017</td>\n",
       "      <td>SSRi</td>\n",
       "      <td>Wheat</td>\n",
       "      <td>crop</td>\n",
       "      <td>1.603599</td>\n",
       "      <td>Self-sufficiency ratio</td>\n",
       "      <td>1</td>\n",
       "      <td>foodbalancesheet_new</td>\n",
       "    </tr>\n",
       "    <tr>\n",
       "      <th>4139</th>\n",
       "      <td>FRA</td>\n",
       "      <td>2018</td>\n",
       "      <td>SSRi</td>\n",
       "      <td>Wheat</td>\n",
       "      <td>crop</td>\n",
       "      <td>2.076714</td>\n",
       "      <td>Self-sufficiency ratio</td>\n",
       "      <td>1</td>\n",
       "      <td>foodbalancesheet_new</td>\n",
       "    </tr>\n",
       "  </tbody>\n",
       "</table>\n",
       "<p>4140 rows × 9 columns</p>\n",
       "</div>"
      ],
      "text/plain": [
       "      ISO  Year Variable                 Item group        Value  \\\n",
       "0     FRA  2014      FPi  Almonds, with shell  crop     1.067000   \n",
       "1     FRA  2014      FPi               Apples  crop  1847.551000   \n",
       "2     FRA  2015      FPi               Apples  crop  1968.628000   \n",
       "3     FRA  2016      FPi               Apples  crop  1823.123000   \n",
       "4     FRA  2017      FPi               Apples  crop  1695.949000   \n",
       "...   ...   ...      ...                  ...   ...          ...   \n",
       "4135  FRA  2014     SSRi                Wheat  crop     2.043008   \n",
       "4136  FRA  2015     SSRi                Wheat  crop     1.814243   \n",
       "4137  FRA  2016     SSRi                Wheat  crop     2.461579   \n",
       "4138  FRA  2017     SSRi                Wheat  crop     1.603599   \n",
       "4139  FRA  2018     SSRi                Wheat  crop     2.076714   \n",
       "\n",
       "                 Description         Unit                 table  \n",
       "0                 Production  1000 tonnes  foodbalancesheet_new  \n",
       "1                 Production  1000 tonnes  foodbalancesheet_new  \n",
       "2                 Production  1000 tonnes  foodbalancesheet_new  \n",
       "3                 Production  1000 tonnes  foodbalancesheet_new  \n",
       "4                 Production  1000 tonnes  foodbalancesheet_new  \n",
       "...                      ...          ...                   ...  \n",
       "4135  Self-sufficiency ratio            1  foodbalancesheet_new  \n",
       "4136  Self-sufficiency ratio            1  foodbalancesheet_new  \n",
       "4137  Self-sufficiency ratio            1  foodbalancesheet_new  \n",
       "4138  Self-sufficiency ratio            1  foodbalancesheet_new  \n",
       "4139  Self-sufficiency ratio            1  foodbalancesheet_new  \n",
       "\n",
       "[4140 rows x 9 columns]"
      ]
     },
     "execution_count": 6,
     "metadata": {},
     "output_type": "execute_result"
    }
   ],
   "source": [
    "df_dictionnary['foodbalancesheet_new']"
   ]
  },
  {
   "cell_type": "code",
   "execution_count": null,
   "metadata": {},
   "outputs": [],
   "source": []
  }
 ],
 "metadata": {
  "kernelspec": {
   "display_name": "Python 3",
   "language": "python",
   "name": "python3"
  },
  "language_info": {
   "codemirror_mode": {
    "name": "ipython",
    "version": 3
   },
   "file_extension": ".py",
   "mimetype": "text/x-python",
   "name": "python",
   "nbconvert_exporter": "python",
   "pygments_lexer": "ipython3",
   "version": "3.7.7"
  }
 },
 "nbformat": 4,
 "nbformat_minor": 4
}
