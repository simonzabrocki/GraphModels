{
 "cells": [
  {
   "cell_type": "code",
   "execution_count": 7,
   "metadata": {
    "ExecuteTime": {
     "end_time": "2021-04-20T08:54:53.701854Z",
     "start_time": "2021-04-20T08:54:53.696668Z"
    }
   },
   "outputs": [],
   "source": [
    "import os\n",
    "os.environ[\"GGGI_db_username\"] = 'postgres'\n",
    "os.environ[\"GGGI_db_password\"] = 'lHeJnnRINyWCzfkDOzKl'\n",
    "os.environ['GGGI_db_endpoint'] ='database-gggi-1.cg4tog4qy0py.ap-northeast-2.rds.amazonaws.com'\n",
    "os.environ['GGGI_db_port'] = '5432'"
   ]
  },
  {
   "cell_type": "code",
   "execution_count": 8,
   "metadata": {
    "ExecuteTime": {
     "end_time": "2021-04-20T08:54:54.639275Z",
     "start_time": "2021-04-20T08:54:54.144380Z"
    }
   },
   "outputs": [],
   "source": [
    "import pandas as pd\n",
    "from sqlalchemy import create_engine\n",
    "\n",
    "# TO BE HIDDEN in environnement var\n",
    "username = os.environ.get(\"GGGI_db_username\")\n",
    "password = os.environ.get(\"GGGI_db_password\")\n",
    "endpoint = os.environ.get(\"GGGI_db_endpoint\")\n",
    "port = int(os.environ.get(\"GGGI_db_port\"))\n",
    "# username = 'postgres'\n",
    "# password = 'lHeJnnRINyWCzfkDOzKl'\n",
    "# endpoint = 'database-gggi-1.cg4tog4qy0py.ap-northeast-2.rds.amazonaws.com'\n",
    "# port = 5432\n",
    "\n",
    "\n",
    "db_connection_url = f\"postgresql://{username}:{password}@{endpoint}:{port}\"\n",
    "engine = create_engine(db_connection_url)"
   ]
  },
  {
   "cell_type": "code",
   "execution_count": 9,
   "metadata": {
    "ExecuteTime": {
     "end_time": "2021-04-20T08:54:57.470067Z",
     "start_time": "2021-04-20T08:54:57.457945Z"
    }
   },
   "outputs": [],
   "source": [
    "def select_table(tablename, engine=engine):\n",
    "    sql = f'SELECT * FROM {tablename}'\n",
    "    with engine.connect() as conn:\n",
    "        df = pd.read_sql(sql, conn)\n",
    "    return df\n",
    "\n",
    "\n",
    "def select_dataset(dataset, engine=engine):\n",
    "    '''Merge is done localy because otherwise data is too big to be pulled (Unless )\n",
    "    '''\n",
    "    df = select_table(dataset)\n",
    "    meta_df = select_table(f'meta{dataset}')\n",
    "    return pd.merge(df, meta_df, on='Variable')\n",
    "\n",
    "\n",
    "def select_all_metadata(engine=engine):\n",
    "    '''Merge is done localy because otherwise data is too big to be pulled (Unless )\n",
    "    '''\n",
    "\n",
    "    metatables = [table for table in engine.table_names() if 'meta' in table]\n",
    "    dfs = [select_table(table).assign(table=table.replace('meta', '')) for table in metatables]\n",
    "    \n",
    "    df = pd.concat(dfs)\n",
    "    return df"
   ]
  },
  {
   "cell_type": "code",
   "execution_count": 10,
   "metadata": {
    "ExecuteTime": {
     "end_time": "2021-04-20T08:54:58.851942Z",
     "start_time": "2021-04-20T08:54:57.852078Z"
    }
   },
   "outputs": [],
   "source": [
    "metadf = select_all_metadata().dropna(subset=['Variable']).dropna(axis=1)"
   ]
  },
  {
   "cell_type": "code",
   "execution_count": 11,
   "metadata": {
    "ExecuteTime": {
     "end_time": "2021-04-20T08:54:58.862054Z",
     "start_time": "2021-04-20T08:54:58.855474Z"
    }
   },
   "outputs": [
    {
     "data": {
      "text/plain": [
       "array(['worldbank', 'livestock', 'eia', 'foodbalancesheet_new', 'landuse',\n",
       "       'MaterialFlow', 'efficientwater', 'crops', 'aquastat',\n",
       "       'variabledata', 'population', 'cropcalendar', 'evapotranspiration',\n",
       "       'grossaddedvalue', 'sarahcrops', 'EIA', 'emissions',\n",
       "       'foodbalancesheet', 'materialflow', 'imfindexcommodity',\n",
       "       'imfpricecommodity', 'pennworldtable', 'oecdwage'], dtype=object)"
      ]
     },
     "execution_count": 11,
     "metadata": {},
     "output_type": "execute_result"
    }
   ],
   "source": [
    "metadf.table.unique()"
   ]
  },
  {
   "cell_type": "code",
   "execution_count": 12,
   "metadata": {
    "ExecuteTime": {
     "end_time": "2021-04-20T08:54:59.019315Z",
     "start_time": "2021-04-20T08:54:58.997695Z"
    }
   },
   "outputs": [
    {
     "data": {
      "text/html": [
       "<div>\n",
       "<style scoped>\n",
       "    .dataframe tbody tr th:only-of-type {\n",
       "        vertical-align: middle;\n",
       "    }\n",
       "\n",
       "    .dataframe tbody tr th {\n",
       "        vertical-align: top;\n",
       "    }\n",
       "\n",
       "    .dataframe thead th {\n",
       "        text-align: right;\n",
       "    }\n",
       "</style>\n",
       "<table border=\"1\" class=\"dataframe\">\n",
       "  <thead>\n",
       "    <tr style=\"text-align: right;\">\n",
       "      <th></th>\n",
       "      <th>Description</th>\n",
       "      <th>Variable</th>\n",
       "      <th>Unit</th>\n",
       "      <th>table</th>\n",
       "    </tr>\n",
       "  </thead>\n",
       "  <tbody>\n",
       "    <tr>\n",
       "      <th>0</th>\n",
       "      <td>Agriculture, forestry, and fishing, value adde...</td>\n",
       "      <td>AGVA</td>\n",
       "      <td>constant 2010 US$</td>\n",
       "      <td>worldbank</td>\n",
       "    </tr>\n",
       "    <tr>\n",
       "      <th>1</th>\n",
       "      <td>Industry (including construction), value added...</td>\n",
       "      <td>IGVA</td>\n",
       "      <td>constant 2010 US$</td>\n",
       "      <td>worldbank</td>\n",
       "    </tr>\n",
       "    <tr>\n",
       "      <th>2</th>\n",
       "      <td>Services, value added (constant 2010 US$)</td>\n",
       "      <td>SGVA</td>\n",
       "      <td>constant 2010 US$</td>\n",
       "      <td>worldbank</td>\n",
       "    </tr>\n",
       "    <tr>\n",
       "      <th>3</th>\n",
       "      <td>GDP per capita (constant 2010 US$)</td>\n",
       "      <td>GDPC</td>\n",
       "      <td>constant 2010 US$</td>\n",
       "      <td>worldbank</td>\n",
       "    </tr>\n",
       "    <tr>\n",
       "      <th>4</th>\n",
       "      <td>Population, total</td>\n",
       "      <td>Pop</td>\n",
       "      <td>capita</td>\n",
       "      <td>worldbank</td>\n",
       "    </tr>\n",
       "    <tr>\n",
       "      <th>...</th>\n",
       "      <td>...</td>\n",
       "      <td>...</td>\n",
       "      <td>...</td>\n",
       "      <td>...</td>\n",
       "    </tr>\n",
       "    <tr>\n",
       "      <th>0</th>\n",
       "      <td>Commodity Export Price Index, Individual Commo...</td>\n",
       "      <td>EPI</td>\n",
       "      <td>1</td>\n",
       "      <td>imfindexcommodity</td>\n",
       "    </tr>\n",
       "    <tr>\n",
       "      <th>0</th>\n",
       "      <td>Primary Commodity Price System (PCPS)</td>\n",
       "      <td>APCi</td>\n",
       "      <td>$/tonnes</td>\n",
       "      <td>imfpricecommodity</td>\n",
       "    </tr>\n",
       "    <tr>\n",
       "      <th>0</th>\n",
       "      <td>Capital stock at current PPPs</td>\n",
       "      <td>PCS</td>\n",
       "      <td>1e6 2017US$</td>\n",
       "      <td>pennworldtable</td>\n",
       "    </tr>\n",
       "    <tr>\n",
       "      <th>1</th>\n",
       "      <td>Average depreciation rate of the capital stock</td>\n",
       "      <td>RC</td>\n",
       "      <td>1</td>\n",
       "      <td>pennworldtable</td>\n",
       "    </tr>\n",
       "    <tr>\n",
       "      <th>0</th>\n",
       "      <td>Average annual wage</td>\n",
       "      <td>AW</td>\n",
       "      <td>USD</td>\n",
       "      <td>oecdwage</td>\n",
       "    </tr>\n",
       "  </tbody>\n",
       "</table>\n",
       "<p>996 rows × 4 columns</p>\n",
       "</div>"
      ],
      "text/plain": [
       "                                          Description Variable  \\\n",
       "0   Agriculture, forestry, and fishing, value adde...     AGVA   \n",
       "1   Industry (including construction), value added...     IGVA   \n",
       "2           Services, value added (constant 2010 US$)     SGVA   \n",
       "3                  GDP per capita (constant 2010 US$)     GDPC   \n",
       "4                                   Population, total      Pop   \n",
       "..                                                ...      ...   \n",
       "0   Commodity Export Price Index, Individual Commo...      EPI   \n",
       "0               Primary Commodity Price System (PCPS)     APCi   \n",
       "0                       Capital stock at current PPPs      PCS   \n",
       "1      Average depreciation rate of the capital stock       RC   \n",
       "0                                 Average annual wage       AW   \n",
       "\n",
       "                 Unit              table  \n",
       "0   constant 2010 US$          worldbank  \n",
       "1   constant 2010 US$          worldbank  \n",
       "2   constant 2010 US$          worldbank  \n",
       "3   constant 2010 US$          worldbank  \n",
       "4              capita          worldbank  \n",
       "..                ...                ...  \n",
       "0                   1  imfindexcommodity  \n",
       "0            $/tonnes  imfpricecommodity  \n",
       "0         1e6 2017US$     pennworldtable  \n",
       "1                   1     pennworldtable  \n",
       "0                 USD           oecdwage  \n",
       "\n",
       "[996 rows x 4 columns]"
      ]
     },
     "execution_count": 12,
     "metadata": {},
     "output_type": "execute_result"
    }
   ],
   "source": [
    "metadf"
   ]
  },
  {
   "cell_type": "code",
   "execution_count": null,
   "metadata": {},
   "outputs": [],
   "source": []
  }
 ],
 "metadata": {
  "kernelspec": {
   "display_name": "Python 3",
   "language": "python",
   "name": "python3"
  },
  "language_info": {
   "codemirror_mode": {
    "name": "ipython",
    "version": 3
   },
   "file_extension": ".py",
   "mimetype": "text/x-python",
   "name": "python",
   "nbconvert_exporter": "python",
   "pygments_lexer": "ipython3",
   "version": "3.7.7"
  }
 },
 "nbformat": 4,
 "nbformat_minor": 4
}
