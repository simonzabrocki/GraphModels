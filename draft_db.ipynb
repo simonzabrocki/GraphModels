{
 "cells": [
  {
   "cell_type": "code",
   "execution_count": 1,
   "metadata": {
    "ExecuteTime": {
     "end_time": "2021-05-06T02:50:38.031341Z",
     "start_time": "2021-05-06T02:50:37.566389Z"
    }
   },
   "outputs": [],
   "source": [
    "import os\n",
    "os.environ[\"GGGI_db_username\"] = 'postgres'\n",
    "os.environ[\"GGGI_db_password\"] = 'lHeJnnRINyWCzfkDOzKl'\n",
    "os.environ['GGGI_db_endpoint'] ='database-gggi-1.cg4tog4qy0py.ap-northeast-2.rds.amazonaws.com'\n",
    "os.environ['GGGI_db_port'] = '5432'\n",
    "\n",
    "from ggmodel_dev.database import get_variables_df"
   ]
  },
  {
   "cell_type": "code",
   "execution_count": 11,
   "metadata": {
    "ExecuteTime": {
     "end_time": "2021-05-06T04:57:49.931113Z",
     "start_time": "2021-05-06T04:57:48.416642Z"
    }
   },
   "outputs": [
    {
     "name": "stdout",
     "output_type": "stream",
     "text": [
      "worldbank GDPC: Done\n"
     ]
    }
   ],
   "source": [
    "df_dictionnary = get_variables_df(['GDPC'])"
   ]
  },
  {
   "cell_type": "code",
   "execution_count": 12,
   "metadata": {
    "ExecuteTime": {
     "end_time": "2021-05-06T04:57:52.682890Z",
     "start_time": "2021-05-06T04:57:52.651962Z"
    }
   },
   "outputs": [
    {
     "data": {
      "text/plain": [
       "{'worldbank':        ISO  Year        Value Variable                         Description  \\\n",
       " 0      ARB  2019  6428.593383     GDPC  GDP per capita (constant 2010 US$)   \n",
       " 1      ARB  2018  6456.278325     GDPC  GDP per capita (constant 2010 US$)   \n",
       " 2      ARB  2017  6445.933776     GDPC  GDP per capita (constant 2010 US$)   \n",
       " 3      ARB  2016  6518.063258     GDPC  GDP per capita (constant 2010 US$)   \n",
       " 4      ARB  2015  6424.358207     GDPC  GDP per capita (constant 2010 US$)   \n",
       " ...    ...   ...          ...      ...                                 ...   \n",
       " 11712  ZWE  1964   984.668540     GDPC  GDP per capita (constant 2010 US$)   \n",
       " 11713  ZWE  1963  1030.026148     GDPC  GDP per capita (constant 2010 US$)   \n",
       " 11714  ZWE  1962  1002.976733     GDPC  GDP per capita (constant 2010 US$)   \n",
       " 11715  ZWE  1961  1022.765185     GDPC  GDP per capita (constant 2010 US$)   \n",
       " 11716  ZWE  1960   994.697855     GDPC  GDP per capita (constant 2010 US$)   \n",
       " \n",
       "                     Unit      table  \n",
       " 0      constant 2010 US$  worldbank  \n",
       " 1      constant 2010 US$  worldbank  \n",
       " 2      constant 2010 US$  worldbank  \n",
       " 3      constant 2010 US$  worldbank  \n",
       " 4      constant 2010 US$  worldbank  \n",
       " ...                  ...        ...  \n",
       " 11712  constant 2010 US$  worldbank  \n",
       " 11713  constant 2010 US$  worldbank  \n",
       " 11714  constant 2010 US$  worldbank  \n",
       " 11715  constant 2010 US$  worldbank  \n",
       " 11716  constant 2010 US$  worldbank  \n",
       " \n",
       " [11717 rows x 7 columns]}"
      ]
     },
     "execution_count": 12,
     "metadata": {},
     "output_type": "execute_result"
    }
   ],
   "source": [
    "df_dictionnary"
   ]
  },
  {
   "cell_type": "code",
   "execution_count": 3,
   "metadata": {
    "ExecuteTime": {
     "end_time": "2021-05-06T02:50:40.314978Z",
     "start_time": "2021-05-06T02:50:39.880079Z"
    }
   },
   "outputs": [],
   "source": [
    "from ggmodel_dev.models.landuse import BE2"
   ]
  },
  {
   "cell_type": "code",
   "execution_count": 9,
   "metadata": {
    "ExecuteTime": {
     "end_time": "2021-05-06T02:56:02.926218Z",
     "start_time": "2021-05-06T02:54:17.589530Z"
    },
    "scrolled": false
   },
   "outputs": [
    {
     "name": "stdout",
     "output_type": "stream",
     "text": [
      "crops TCLDi, CYi: Done\n",
      "foodbalancesheet FPi, SVi, FDi, SDi, FLOi, PDi, RDi, FDKGi, NFDi, SSRi: Excluded\n",
      "foodbalancesheet_new FPi, SDi, FLOi, RDi, SVi, FDi, PDi, FDKGi, NFDi, SSRi: Done\n",
      "landuse TLA, CL, IL, FL: Done\n",
      "livestock FPi: Done\n",
      "population Pop: Done\n",
      "sarahcrops CL: Done\n",
      "worldbank Pop: Done\n"
     ]
    }
   ],
   "source": [
    "to_query =  BE2.model_dictionnary['BE2_model'].summary_df.index.to_list()\n",
    "\n",
    "df_dictionnary = get_variables_df(to_query, exclude_tables=['foodbalancesheet'])"
   ]
  },
  {
   "cell_type": "code",
   "execution_count": 10,
   "metadata": {
    "ExecuteTime": {
     "end_time": "2021-05-06T02:56:02.953135Z",
     "start_time": "2021-05-06T02:56:02.928571Z"
    }
   },
   "outputs": [
    {
     "data": {
      "text/html": [
       "<div>\n",
       "<style scoped>\n",
       "    .dataframe tbody tr th:only-of-type {\n",
       "        vertical-align: middle;\n",
       "    }\n",
       "\n",
       "    .dataframe tbody tr th {\n",
       "        vertical-align: top;\n",
       "    }\n",
       "\n",
       "    .dataframe thead th {\n",
       "        text-align: right;\n",
       "    }\n",
       "</style>\n",
       "<table border=\"1\" class=\"dataframe\">\n",
       "  <thead>\n",
       "    <tr style=\"text-align: right;\">\n",
       "      <th></th>\n",
       "      <th>ISO</th>\n",
       "      <th>Year</th>\n",
       "      <th>Variable</th>\n",
       "      <th>Item</th>\n",
       "      <th>group</th>\n",
       "      <th>Value</th>\n",
       "      <th>Description</th>\n",
       "      <th>Unit</th>\n",
       "      <th>table</th>\n",
       "    </tr>\n",
       "  </thead>\n",
       "  <tbody>\n",
       "    <tr>\n",
       "      <th>0</th>\n",
       "      <td>ZAF</td>\n",
       "      <td>2016</td>\n",
       "      <td>RDi</td>\n",
       "      <td>Offals, liver geese</td>\n",
       "      <td>animal</td>\n",
       "      <td>0.000000</td>\n",
       "      <td>Residuals</td>\n",
       "      <td>1000 tonnes</td>\n",
       "      <td>foodbalancesheet_new</td>\n",
       "    </tr>\n",
       "    <tr>\n",
       "      <th>1</th>\n",
       "      <td>ZAF</td>\n",
       "      <td>2017</td>\n",
       "      <td>RDi</td>\n",
       "      <td>Offals, liver geese</td>\n",
       "      <td>animal</td>\n",
       "      <td>0.000000</td>\n",
       "      <td>Residuals</td>\n",
       "      <td>1000 tonnes</td>\n",
       "      <td>foodbalancesheet_new</td>\n",
       "    </tr>\n",
       "    <tr>\n",
       "      <th>2</th>\n",
       "      <td>ZAF</td>\n",
       "      <td>2018</td>\n",
       "      <td>RDi</td>\n",
       "      <td>Offals, liver geese</td>\n",
       "      <td>animal</td>\n",
       "      <td>0.000000</td>\n",
       "      <td>Residuals</td>\n",
       "      <td>1000 tonnes</td>\n",
       "      <td>foodbalancesheet_new</td>\n",
       "    </tr>\n",
       "    <tr>\n",
       "      <th>3</th>\n",
       "      <td>ZAF</td>\n",
       "      <td>2014</td>\n",
       "      <td>RDi</td>\n",
       "      <td>Offals, pigs, edible</td>\n",
       "      <td>animal</td>\n",
       "      <td>0.000000</td>\n",
       "      <td>Residuals</td>\n",
       "      <td>1000 tonnes</td>\n",
       "      <td>foodbalancesheet_new</td>\n",
       "    </tr>\n",
       "    <tr>\n",
       "      <th>4</th>\n",
       "      <td>ZAF</td>\n",
       "      <td>2015</td>\n",
       "      <td>RDi</td>\n",
       "      <td>Offals, pigs, edible</td>\n",
       "      <td>animal</td>\n",
       "      <td>0.000000</td>\n",
       "      <td>Residuals</td>\n",
       "      <td>1000 tonnes</td>\n",
       "      <td>foodbalancesheet_new</td>\n",
       "    </tr>\n",
       "    <tr>\n",
       "      <th>...</th>\n",
       "      <td>...</td>\n",
       "      <td>...</td>\n",
       "      <td>...</td>\n",
       "      <td>...</td>\n",
       "      <td>...</td>\n",
       "      <td>...</td>\n",
       "      <td>...</td>\n",
       "      <td>...</td>\n",
       "      <td>...</td>\n",
       "    </tr>\n",
       "    <tr>\n",
       "      <th>453676</th>\n",
       "      <td>ZWE</td>\n",
       "      <td>2014</td>\n",
       "      <td>SSRi</td>\n",
       "      <td>Wheat</td>\n",
       "      <td>crop</td>\n",
       "      <td>0.165969</td>\n",
       "      <td>Self-sufficiency ratio</td>\n",
       "      <td>1</td>\n",
       "      <td>foodbalancesheet_new</td>\n",
       "    </tr>\n",
       "    <tr>\n",
       "      <th>453677</th>\n",
       "      <td>ZWE</td>\n",
       "      <td>2015</td>\n",
       "      <td>SSRi</td>\n",
       "      <td>Wheat</td>\n",
       "      <td>crop</td>\n",
       "      <td>0.164684</td>\n",
       "      <td>Self-sufficiency ratio</td>\n",
       "      <td>1</td>\n",
       "      <td>foodbalancesheet_new</td>\n",
       "    </tr>\n",
       "    <tr>\n",
       "      <th>453678</th>\n",
       "      <td>ZWE</td>\n",
       "      <td>2016</td>\n",
       "      <td>SSRi</td>\n",
       "      <td>Wheat</td>\n",
       "      <td>crop</td>\n",
       "      <td>0.135118</td>\n",
       "      <td>Self-sufficiency ratio</td>\n",
       "      <td>1</td>\n",
       "      <td>foodbalancesheet_new</td>\n",
       "    </tr>\n",
       "    <tr>\n",
       "      <th>453679</th>\n",
       "      <td>ZWE</td>\n",
       "      <td>2017</td>\n",
       "      <td>SSRi</td>\n",
       "      <td>Wheat</td>\n",
       "      <td>crop</td>\n",
       "      <td>0.169821</td>\n",
       "      <td>Self-sufficiency ratio</td>\n",
       "      <td>1</td>\n",
       "      <td>foodbalancesheet_new</td>\n",
       "    </tr>\n",
       "    <tr>\n",
       "      <th>453680</th>\n",
       "      <td>ZWE</td>\n",
       "      <td>2018</td>\n",
       "      <td>SSRi</td>\n",
       "      <td>Wheat</td>\n",
       "      <td>crop</td>\n",
       "      <td>0.139852</td>\n",
       "      <td>Self-sufficiency ratio</td>\n",
       "      <td>1</td>\n",
       "      <td>foodbalancesheet_new</td>\n",
       "    </tr>\n",
       "  </tbody>\n",
       "</table>\n",
       "<p>453681 rows × 9 columns</p>\n",
       "</div>"
      ],
      "text/plain": [
       "        ISO  Year Variable                  Item   group     Value  \\\n",
       "0       ZAF  2016      RDi   Offals, liver geese  animal  0.000000   \n",
       "1       ZAF  2017      RDi   Offals, liver geese  animal  0.000000   \n",
       "2       ZAF  2018      RDi   Offals, liver geese  animal  0.000000   \n",
       "3       ZAF  2014      RDi  Offals, pigs, edible  animal  0.000000   \n",
       "4       ZAF  2015      RDi  Offals, pigs, edible  animal  0.000000   \n",
       "...     ...   ...      ...                   ...     ...       ...   \n",
       "453676  ZWE  2014     SSRi                 Wheat    crop  0.165969   \n",
       "453677  ZWE  2015     SSRi                 Wheat    crop  0.164684   \n",
       "453678  ZWE  2016     SSRi                 Wheat    crop  0.135118   \n",
       "453679  ZWE  2017     SSRi                 Wheat    crop  0.169821   \n",
       "453680  ZWE  2018     SSRi                 Wheat    crop  0.139852   \n",
       "\n",
       "                   Description         Unit                 table  \n",
       "0                    Residuals  1000 tonnes  foodbalancesheet_new  \n",
       "1                    Residuals  1000 tonnes  foodbalancesheet_new  \n",
       "2                    Residuals  1000 tonnes  foodbalancesheet_new  \n",
       "3                    Residuals  1000 tonnes  foodbalancesheet_new  \n",
       "4                    Residuals  1000 tonnes  foodbalancesheet_new  \n",
       "...                        ...          ...                   ...  \n",
       "453676  Self-sufficiency ratio            1  foodbalancesheet_new  \n",
       "453677  Self-sufficiency ratio            1  foodbalancesheet_new  \n",
       "453678  Self-sufficiency ratio            1  foodbalancesheet_new  \n",
       "453679  Self-sufficiency ratio            1  foodbalancesheet_new  \n",
       "453680  Self-sufficiency ratio            1  foodbalancesheet_new  \n",
       "\n",
       "[453681 rows x 9 columns]"
      ]
     },
     "execution_count": 10,
     "metadata": {},
     "output_type": "execute_result"
    }
   ],
   "source": [
    "df_dictionnary['foodbalancesheet_new']"
   ]
  },
  {
   "cell_type": "code",
   "execution_count": null,
   "metadata": {},
   "outputs": [],
   "source": []
  }
 ],
 "metadata": {
  "kernelspec": {
   "display_name": "Python 3",
   "language": "python",
   "name": "python3"
  },
  "language_info": {
   "codemirror_mode": {
    "name": "ipython",
    "version": 3
   },
   "file_extension": ".py",
   "mimetype": "text/x-python",
   "name": "python",
   "nbconvert_exporter": "python",
   "pygments_lexer": "ipython3",
   "version": "3.7.7"
  }
 },
 "nbformat": 4,
 "nbformat_minor": 4
}
