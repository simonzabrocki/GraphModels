{
 "cells": [
  {
   "cell_type": "markdown",
   "metadata": {
    "id": "dAlAVXcA2-Fb"
   },
   "source": [
    "# Graph Model Template\n",
    "---\n",
    "\n",
    "A notebook to create the graph models in python\n",
    " \n",
    " It is organized as follow:\n",
    " 1. Code to create the graph\n",
    " 2. Example 1\n",
    " 3. Example 2\n",
    " 4. Your Model\n",
    "\n",
    "## Quick Start\n",
    "----\n",
    "When you first open the notebook run the cell under \"Code to create the graph\" section.\n",
    "\n",
    "Then **under the Your Model section**\n",
    "1. Fill the list Graph_Properties with your model\n",
    "2. Once it is filled, run the cell and check if it works\n",
    "\n",
    "## HOW TO \n",
    "----\n",
    "<font color='red'>THE FORMATTING IS ESSENTIAL</font>\n",
    "\n",
    "The code reads the Graph_Properties list. It is a **list** of **nodes** that fully defines the graph.\n",
    "\n",
    "\n",
    "The list is as follow:\n",
    "```python\n",
    "Graph_Properties = [node_1, node_2, node_3]\n",
    "```\n",
    "The nodes are defined by a **dictionnary** of properties:\n",
    "\n",
    "Two types of nodes are possible:\n",
    "\n",
    "1. For a non computationnal node (input, parameter):\n",
    "\n",
    "```python\n",
    "node_1 = {'type': 'input',\n",
    "          'unit': '$',\n",
    "          'code': 'Var 1',\n",
    "          'name': 'Variable 1'\n",
    "          }\n",
    "```      \n",
    "\n",
    "2. For computationnal nodes (variables, outputs)\n",
    "\n",
    "```python\n",
    "node_2 = {'type': 'variable', \n",
    "          'code': 'Var 2',\n",
    "          'name': 'Variable 2',\n",
    "          'unit': '$/capita',\n",
    "          'in': ['Par 1', 'Var 1'],\n",
    "          'compuration': {'name': 'Par 1 * Var 1',\n",
    "                          'formula': None}\n",
    "          }\n",
    "```\n",
    "\n",
    "\n",
    "See examples for more details !\n"
   ]
  },
  {
   "cell_type": "markdown",
   "metadata": {
    "id": "ukDt2Bav3EjS"
   },
   "source": [
    "## Imports"
   ]
  },
  {
   "cell_type": "code",
   "execution_count": 2,
   "metadata": {
    "ExecuteTime": {
     "end_time": "2020-12-22T02:46:34.529147Z",
     "start_time": "2020-12-22T02:46:34.068717Z"
    }
   },
   "outputs": [],
   "source": [
    "from graphmodels.graphmodel import GraphModel"
   ]
  },
  {
   "cell_type": "markdown",
   "metadata": {
    "id": "5_4j47wd3Yx5"
   },
   "source": [
    "## Example"
   ]
  },
  {
   "cell_type": "code",
   "execution_count": 8,
   "metadata": {
    "ExecuteTime": {
     "end_time": "2020-12-22T02:48:37.868718Z",
     "start_time": "2020-12-22T02:48:37.851767Z"
    },
    "colab": {
     "base_uri": "https://localhost:8080/",
     "height": 634
    },
    "id": "_cKL_YYv3KJ6",
    "outputId": "8442be71-e9d3-4622-a33a-dbe7219370c7"
   },
   "outputs": [],
   "source": [
    "\n",
    "X = {\n",
    "    'In 1': 5,\n",
    "    'In 2': 4,\n",
    "    'Par 1': 3,\n",
    "    'Par 2': 5,\n",
    "    'Par 3': 5\n",
    "}\n",
    "\n",
    "\n",
    "\n",
    "graph_specifications = [\n",
    "    {'type': 'input',\n",
    "     'unit': '',\n",
    "     'id': 'In 1',\n",
    "     'name': 'Input 1',\n",
    "     },\n",
    "    {'type': 'parameter',\n",
    "     'unit': '',\n",
    "     'id': 'Par 1',\n",
    "     'name': 'Parameter 1',\n",
    "     },\n",
    "    {'type': 'variable',\n",
    "     'id': 'Var 1',\n",
    "     'name': 'Variable 1',\n",
    "     'unit': '',\n",
    "     'in': ['Par 1', 'In 1'],\n",
    "     'computation': {'name': 'Par 1 * In 1',\n",
    "                     'formula': lambda X: X['Par 1'] * X['In 1']}\n",
    "     },\n",
    "    {'type': 'parameter',\n",
    "     'unit': '',\n",
    "     'id': 'Par 3',\n",
    "     'name': 'Parameter 3',\n",
    "     },\n",
    "    {'type': 'output',\n",
    "     'id': 'Out 1',\n",
    "     'name': 'Output 1',\n",
    "     'unit': '',\n",
    "     'in': ['Var 1', 'Var 2', 'Par 3'],\n",
    "     'computation': {'name': 'Var 1 + Var 2 + Par 3',\n",
    "                     'formula': lambda X: X['Var 1'] + X['Var 2'] + X['Par 3']}\n",
    "     },\n",
    "    {'type': 'input',\n",
    "     'unit': '',\n",
    "     'id': 'In 2',\n",
    "     'name': 'Input 2',\n",
    "     },\n",
    "    {'type': 'parameter',\n",
    "     'unit': '',\n",
    "     'id': 'Par 2',\n",
    "     'name': 'Parameter 2',\n",
    "     },\n",
    "    {'type': 'variable',\n",
    "     'id': 'Var 2',\n",
    "     'name': 'Variable 2',\n",
    "     'unit': '',\n",
    "     'in': ['Par 2', 'In 2'],\n",
    "     'computation': {'name': 'Par 2 / In 2',\n",
    "                     'formula': lambda X: X['Par 2'] / X['In 2']}\n",
    "     },\n",
    "]\n",
    "\n",
    "Model = GraphModel(graph_specifications)\n",
    "\n",
    "results = Model.run(X)\n"
   ]
  },
  {
   "cell_type": "code",
   "execution_count": null,
   "metadata": {},
   "outputs": [],
   "source": []
  }
 ],
 "metadata": {
  "colab": {
   "collapsed_sections": [],
   "name": "Model_Template.ipynb",
   "provenance": []
  },
  "kernelspec": {
   "display_name": "Python 3",
   "language": "python",
   "name": "python3"
  },
  "language_info": {
   "codemirror_mode": {
    "name": "ipython",
    "version": 3
   },
   "file_extension": ".py",
   "mimetype": "text/x-python",
   "name": "python",
   "nbconvert_exporter": "python",
   "pygments_lexer": "ipython3",
   "version": "3.7.7"
  }
 },
 "nbformat": 4,
 "nbformat_minor": 1
}
