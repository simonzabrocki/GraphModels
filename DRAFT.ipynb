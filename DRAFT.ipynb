{
 "cells": [
  {
   "cell_type": "code",
   "execution_count": 1,
   "metadata": {
    "ExecuteTime": {
     "end_time": "2020-11-30T04:32:16.682149Z",
     "start_time": "2020-11-30T04:32:16.274419Z"
    }
   },
   "outputs": [],
   "source": [
    "from graphmodels.graphmodel import *\n",
    "import numpy as np\n",
    "import json\n",
    "from graphmodels.utils import parse_model_data\n",
    "from models.Hermen.model_H_1 import model_H_1 "
   ]
  },
  {
   "cell_type": "code",
   "execution_count": 2,
   "metadata": {
    "ExecuteTime": {
     "end_time": "2020-11-30T04:32:16.802926Z",
     "start_time": "2020-11-30T04:32:16.689627Z"
    }
   },
   "outputs": [
    {
     "ename": "NameError",
     "evalue": "name 'Hermen' is not defined",
     "output_type": "error",
     "traceback": [
      "\u001b[0;31m---------------------------------------------------------------------------\u001b[0m",
      "\u001b[0;31mNameError\u001b[0m                                 Traceback (most recent call last)",
      "\u001b[0;32m<ipython-input-2-6de3c2d8bc43>\u001b[0m in \u001b[0;36m<module>\u001b[0;34m\u001b[0m\n\u001b[1;32m      1\u001b[0m \u001b[0minputs\u001b[0m\u001b[0;34m,\u001b[0m \u001b[0mparameters\u001b[0m \u001b[0;34m=\u001b[0m \u001b[0mparse_model_data\u001b[0m\u001b[0;34m(\u001b[0m\u001b[0;34m'models/Hermen/model_H_1_data.json'\u001b[0m\u001b[0;34m)\u001b[0m\u001b[0;34m\u001b[0m\u001b[0;34m\u001b[0m\u001b[0m\n\u001b[0;32m----> 2\u001b[0;31m \u001b[0mG_H\u001b[0m \u001b[0;34m=\u001b[0m \u001b[0mGraphModel\u001b[0m\u001b[0;34m(\u001b[0m\u001b[0mHermen\u001b[0m\u001b[0;34m.\u001b[0m\u001b[0mmodel_1\u001b[0m\u001b[0;34m.\u001b[0m\u001b[0mmodel_1\u001b[0m\u001b[0;34m)\u001b[0m\u001b[0;34m\u001b[0m\u001b[0;34m\u001b[0m\u001b[0m\n\u001b[0m\u001b[1;32m      3\u001b[0m \u001b[0mX\u001b[0m \u001b[0;34m=\u001b[0m \u001b[0mG_H\u001b[0m\u001b[0;34m.\u001b[0m\u001b[0mrun\u001b[0m\u001b[0;34m(\u001b[0m\u001b[0minputs\u001b[0m\u001b[0;34m,\u001b[0m \u001b[0mparameters\u001b[0m\u001b[0;34m)\u001b[0m\u001b[0;34m\u001b[0m\u001b[0;34m\u001b[0m\u001b[0m\n\u001b[1;32m      4\u001b[0m \u001b[0mG_H\u001b[0m\u001b[0;34m.\u001b[0m\u001b[0mdraw\u001b[0m\u001b[0;34m(\u001b[0m\u001b[0;34m)\u001b[0m\u001b[0;34m\u001b[0m\u001b[0;34m\u001b[0m\u001b[0m\n",
      "\u001b[0;31mNameError\u001b[0m: name 'Hermen' is not defined"
     ]
    }
   ],
   "source": [
    "inputs, parameters = parse_model_data('models/Hermen/model_H_1_data.json')\n",
    "G_H = GraphModel()\n",
    "X = G_H.run(inputs, parameters)\n",
    "G_H.draw()"
   ]
  },
  {
   "cell_type": "code",
   "execution_count": null,
   "metadata": {
    "ExecuteTime": {
     "end_time": "2020-11-12T03:04:46.773714Z",
     "start_time": "2020-11-12T03:04:46.769758Z"
    }
   },
   "outputs": [],
   "source": [
    "from models.Sarah.model_1 import model_1"
   ]
  },
  {
   "cell_type": "code",
   "execution_count": null,
   "metadata": {
    "ExecuteTime": {
     "end_time": "2020-11-12T03:05:00.258715Z",
     "start_time": "2020-11-12T03:05:00.200255Z"
    }
   },
   "outputs": [],
   "source": [
    "inputs, parameters = parse_model_data('models/Sarah/model_1_data.json')\n",
    "G_S = GraphModel(model_1)\n",
    "X = G_S.run(inputs, parameters)\n",
    "G_S.draw()"
   ]
  },
  {
   "cell_type": "code",
   "execution_count": null,
   "metadata": {
    "ExecuteTime": {
     "end_time": "2020-11-12T03:17:06.746339Z",
     "start_time": "2020-11-12T03:17:06.739828Z"
    }
   },
   "outputs": [],
   "source": [
    "X['EW 1']"
   ]
  },
  {
   "cell_type": "code",
   "execution_count": null,
   "metadata": {},
   "outputs": [],
   "source": []
  }
 ],
 "metadata": {
  "kernelspec": {
   "display_name": "Python 3",
   "language": "python",
   "name": "python3"
  },
  "language_info": {
   "codemirror_mode": {
    "name": "ipython",
    "version": 3
   },
   "file_extension": ".py",
   "mimetype": "text/x-python",
   "name": "python",
   "nbconvert_exporter": "python",
   "pygments_lexer": "ipython3",
   "version": "3.7.7"
  }
 },
 "nbformat": 4,
 "nbformat_minor": 4
}
