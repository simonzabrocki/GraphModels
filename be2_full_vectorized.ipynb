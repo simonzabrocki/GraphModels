{
 "cells": [
  {
   "cell_type": "code",
   "execution_count": 7,
   "metadata": {
    "ExecuteTime": {
     "end_time": "2021-01-15T02:28:20.911910Z",
     "start_time": "2021-01-15T02:28:18.107502Z"
    }
   },
   "outputs": [],
   "source": [
    "import pandas as pd\n",
    "from models.Hermen.model_BE2 import model_BE2\n",
    "import numpy as np\n",
    "\n",
    "FBS = pd.read_csv('models/Hermen/data/FBS.csv')\n",
    "QC = pd.read_csv('models/Hermen/data/QC.csv').drop(columns=['Item']).rename(columns={'FBS_item': 'Item'})\n",
    "RL = pd.read_csv('models/Hermen/data/RL.csv').dropna(subset=['GGI_code'])\n",
    "\n",
    "QC = QC.groupby(['Item', 'GGI_code', 'Year', 'Area']).mean().reset_index()"
   ]
  },
  {
   "cell_type": "code",
   "execution_count": 23,
   "metadata": {
    "ExecuteTime": {
     "end_time": "2021-01-15T02:47:40.068555Z",
     "start_time": "2021-01-15T02:47:40.001228Z"
    }
   },
   "outputs": [
    {
     "data": {
      "text/plain": [
       "array(['1000 persons', 'kcal/capita/day', '1000 tonnes', 'kg/capita/day'],\n",
       "      dtype=object)"
      ]
     },
     "execution_count": 23,
     "metadata": {},
     "output_type": "execute_result"
    }
   ],
   "source": [
    "FBS.Unit.unique()"
   ]
  },
  {
   "cell_type": "markdown",
   "metadata": {},
   "source": [
    "Use QC"
   ]
  },
  {
   "cell_type": "code",
   "execution_count": 8,
   "metadata": {
    "ExecuteTime": {
     "end_time": "2021-01-15T02:28:23.574533Z",
     "start_time": "2021-01-15T02:28:20.914665Z"
    },
    "code_folding": []
   },
   "outputs": [],
   "source": [
    "# Aux functions, to improve. The idea is to run the model on the full database at once rather than spliiting all the stuff. Perharps using dataframe around\n",
    "def pivot(df):\n",
    "    return df.pivot(index=['Area', 'Year','Item'], columns='GGI_code', values='Value')\n",
    "\n",
    "def df_to_dict(df):\n",
    "    X = {}\n",
    "    for code in df.columns:\n",
    "        X[code] = df[code].fillna(0)\n",
    "    return X\n",
    "\n",
    "def FBS_QC_RL_to_X(FBS, QC, RL):\n",
    "    \n",
    "    \n",
    "    X = {}\n",
    "    \n",
    "    FBS_dict = df_to_dict(pivot(FBS))\n",
    "    QC_dict = df_to_dict(pivot(QC))\n",
    "    RL_dict = RL[['Area', 'Year', 'GGI_code', 'Value']].pivot(index=['Area', 'Year'], columns='GGI_code', values='Value')\n",
    "    RL_dict = df_to_dict(RL_dict)\n",
    "    \n",
    "    for dictionnary in [FBS_dict, QC_dict, RL_dict]:\n",
    "        X.update(dictionnary)\n",
    "    \n",
    "            \n",
    "    crop_group = FBS.dropna()[FBS.dropna()['group'] == 'crop'].Item.unique()\n",
    "    animal_group = FBS.dropna()[FBS.dropna()['group'] == 'animal'].Item.unique()\n",
    "    \n",
    "    X['P'] = X['P'].dropna()\n",
    "    X['crop_group'] = crop_group\n",
    "    X['animal_group'] = animal_group\n",
    "\n",
    "    X['FWPPi'] = 100\n",
    "    X['FWCRi'] = 0\n",
    "    X['CRfd'] = 1\n",
    "    X['CD_corr'] = 1\n",
    "    X['R_rate'] = 0\n",
    "\n",
    "    \n",
    "    # To clean up\n",
    "    FDi = X['FDi'].reset_index('Item')\n",
    "\n",
    "    # to check\n",
    "    X['TCLD_baseline'] = X['TCLDi'].groupby(level=['Area', 'Year']).sum()\n",
    "    \n",
    "    X['FMi'] = X['FDi'].loc[:, :, crop_group] / X['FDi'].loc[:, :, crop_group].groupby(level=['Area', 'Year']).sum()\n",
    "    \n",
    "    X['P'] = X['P'].reset_index('Item', drop=True).drop_duplicates()\n",
    "    \n",
    "\n",
    "    return X\n",
    "\n",
    "\n",
    "X = FBS_QC_RL_to_X(FBS, QC, RL)"
   ]
  },
  {
   "cell_type": "code",
   "execution_count": 16,
   "metadata": {
    "ExecuteTime": {
     "end_time": "2021-01-15T02:30:39.592467Z",
     "start_time": "2021-01-15T02:30:39.503157Z"
    },
    "code_folding": [
     12,
     116,
     265,
     345,
     440,
     450,
     458,
     509
    ]
   },
   "outputs": [],
   "source": [
    "__author__ = 'Hermen'\n",
    "__status__ = 'Pending Validation'\n",
    "\n",
    "\"\"\"\n",
    "TO DO.\n",
    "\"\"\"\n",
    "from graphmodels.graphmodel import GraphModel\n",
    "import pandas as pd\n",
    "\n",
    "\n",
    "# FOOD DEMAND PER FOOD GROUP AGGREGATION\n",
    "\n",
    "FDTi_nodes_bis = [\n",
    "    {'type': 'input',\n",
    "     'unit': 'x 1000 t',\n",
    "     'id': 'FLOi',\n",
    "     'name': 'Food losses per food group',\n",
    "     },\n",
    "\n",
    "    {'type': 'input',\n",
    "     'unit': 'kg/capita/day',\n",
    "     'id': 'FDKGi',\n",
    "     'name': 'Kg food demand per day per food group',\n",
    "     },\n",
    "    {'type': 'input',\n",
    "     'unit': 'kcal/capita/day',\n",
    "     'id': 'FDKCi',\n",
    "     'name': 'Kcal food demand per day per food group',\n",
    "     },\n",
    "    {'type': 'variable',\n",
    "     'unit': '1',\n",
    "     'id': 'SSRi',\n",
    "     'name': 'Self-sufficiency ratio per food group',\n",
    "     'in': ['FPi', 'FEi', 'FIi'],\n",
    "     'computation': {'name': 'FPi / (FPi - FEi + FIi)',\n",
    "                     'formula': lambda X: X['FPi'] / (X['FPi'] - X['FEi'] + X['FIi'])}\n",
    "     },\n",
    "    {'type': 'input',\n",
    "     'unit': '1000 t',\n",
    "     'id': 'FPi',\n",
    "     'name': 'Food production per food group',\n",
    "     },\n",
    "    {'type': 'input',\n",
    "     'unit': '1000 t',\n",
    "     'id': 'FEi',\n",
    "     'name': 'Food exports per food group',\n",
    "     },\n",
    "\n",
    "    {'type': 'input',\n",
    "     'unit': '1000 t',\n",
    "     'id': 'FIi',\n",
    "     'name': 'Food imports per food group',\n",
    "     },\n",
    "\n",
    "    {'type': 'variable',\n",
    "     'unit': '1000 t',\n",
    "     'id': 'FDPi',\n",
    "     'name': 'Total domestic food production per food group',\n",
    "     'in': ['FDKGi', 'SSRi', 'FLOi', 'P'],\n",
    "     'computation': {'name': '(FDKGi * P *1e3 * 365 + FLOi)  * SSRi',\n",
    "                     'formula': lambda X: (X['FDKGi'] * 1e-9 * 365 * X['P'] * 1e3  + X['FLOi'] ) * X['SSRi']}  # to check\n",
    "     },\n",
    "    {'type': 'input',\n",
    "     'unit': '1000 t',\n",
    "     'id': 'FDi',\n",
    "     'name': 'Feed demand per group',\n",
    "\n",
    "     },\n",
    "    {'type': 'variable',\n",
    "     'unit': '1000 t',\n",
    "     'id': 'OFi',\n",
    "     'name': 'Other food demand',\n",
    "     'in': ['SDi', 'NFDi', 'PDi', 'RDi', 'SVi'],\n",
    "     'computation': {'name': 'SDi + NFDi + PDi + RDi + SVi',\n",
    "                     'formula': lambda X: X['SDi'] + X['NFDi'] + X['PDi'] + X['RDi'] + X['SVi']}\n",
    "     },\n",
    "    {'type': 'input',\n",
    "     'unit': '1000 t',\n",
    "     'id': 'SDi',\n",
    "     'name': 'Seed demand per food group',\n",
    "     },\n",
    "    {'type': 'input',\n",
    "     'unit': '1000 t',\n",
    "     'id': 'NFDi',\n",
    "     'name': 'Non-food demand per food group',\n",
    "     },\n",
    "    {'type': 'input',\n",
    "     'unit': '1000 t',\n",
    "     'id': 'PDi',\n",
    "     'name': 'Processed demand per food group',\n",
    "     },\n",
    "    {'type': 'input',\n",
    "     'unit': '1000 t',\n",
    "     'id': 'RDi',\n",
    "     'name': 'Residual demand per food group',\n",
    "     },\n",
    "    {'type': 'input',\n",
    "     'unit': '1000 t',\n",
    "     'id': 'SVi',\n",
    "     'name': 'Stock variation per food group',\n",
    "     },\n",
    "    {'type': 'output',\n",
    "     'id': 'FDTi',\n",
    "     'name': 'Total food demand per food group',\n",
    "     'unit': 'x 1000 tonne',\n",
    "     'in': ['FDPi', 'OFi', 'FDi', 'SSRi'],\n",
    "     'computation': {'name': 'SSRi * (OFi + FDi) + FDPi',\n",
    "                     'formula': lambda X: X['SSRi'] * (X['OFi'] + X['FDi']) + X['FDPi']}\n",
    "     },\n",
    "    {'type': 'input',\n",
    "     'unit': '1000 persons',\n",
    "     'id': 'P',\n",
    "     'name': 'Total population',\n",
    "     },\n",
    "]\n",
    "\n",
    "FDTi_nodes = [\n",
    "    {'type': 'variable',\n",
    "     'unit': 'kcal/day',\n",
    "     'id': 'TCDi',\n",
    "     'name': 'Total calorie demand per food group',\n",
    "     'in': ['P', 'FWi', 'FWCRi', 'FDKCi'],\n",
    "     'computation': {'name': 'P*(FDKCi+FWi-FWCRi)',\n",
    "                     'formula': lambda X:  X['P'] * (X['FDKCi'] + X['FWi'] - X['FWCRi']) * 1e3}\n",
    "     },\n",
    "    {'type': 'parameter',\n",
    "     'unit': 'kcal/cap/day',\n",
    "     'id': 'FWCRi',\n",
    "     'name': 'Waste reduction policy consumption per food group',\n",
    "     },\n",
    "    {'type': 'parameter',\n",
    "     'id': 'FWPPi',\n",
    "     'unit': '%',\n",
    "     'name': 'Waste reduction policy production per food group',\n",
    "     },\n",
    "    {'type': 'variable',\n",
    "     'unit': 'kcal/cap/day',\n",
    "     'id': 'FWi',\n",
    "     'name': 'Food waste per food group',\n",
    "     'in': ['FWPi_baseline', 'FWPPi'],\n",
    "     'computation': {'name': 'FWPi_baseline * FWPPi',\n",
    "                     'formula': lambda X: X['FWPi_baseline'] * X['FWPPi'] * 1e-2 / 365}\n",
    "     },\n",
    "    {'type': 'variable',\n",
    "     'unit': 'kcal/cap/day',\n",
    "     'id': 'FWPi_baseline',\n",
    "     'name': 'Food waste baseline per food group',\n",
    "     'in': ['FLOi', 'P', 'KKRi'],\n",
    "     'computation': {'name': 'FLOi * KKRi / P',\n",
    "                     'formula': lambda X: X['FLOi'] * X['KKRi'] / X['P'] * 1e-3}\n",
    "     },\n",
    "    {'type': 'input',\n",
    "     'unit': 'x 1000 t',\n",
    "     'id': 'FLOi',\n",
    "     'name': 'Food losses per food group',\n",
    "     },\n",
    "    {'type': 'variable',\n",
    "     'id': 'KKRi',\n",
    "     'name': 'Kcal/1000 tons ratio per food group',\n",
    "     'unit': 'Kcal/1000 tons',\n",
    "     'in': ['FDKGi', 'FDKCi'],\n",
    "     'computation': {'name': 'FDKGi / FDKCi',\n",
    "                     'formula': lambda X: X['FDKCi'] / (X['FDKGi'] * 1e-6) }\n",
    "     },\n",
    "    {'type': 'input',\n",
    "     'unit': 'kg/capita/day',\n",
    "     'id': 'FDKGi',\n",
    "     'name': 'Kg food demand per year per food group',\n",
    "     },\n",
    "    {'type': 'input',\n",
    "     'unit': 'kcal/capita/day',\n",
    "     'id': 'FDKCi',\n",
    "     'name': 'Kcal food demand per day per food group',\n",
    "     },\n",
    "    {'type': 'input',\n",
    "     'unit': 'capita',\n",
    "     'id': 'P',\n",
    "     'name': 'Total population',\n",
    "     },\n",
    "    {'type': 'variable',\n",
    "     'unit': '1',\n",
    "     'id': 'SSRi',\n",
    "     'name': 'Self-sufficiency ratio per food group',\n",
    "     'in': ['FPi', 'FEi', 'FIi'],\n",
    "     'computation': {'name': 'FPi / (FPi - FEi + FIi)',\n",
    "                     'formula': lambda X: X['FPi'] / (X['FPi'] - X['FEi'] + X['FIi'])}\n",
    "     },\n",
    "    {'type': 'input',\n",
    "     'unit': '1000 t',\n",
    "     'id': 'FPi',\n",
    "     'name': 'Food production per food group',\n",
    "     },\n",
    "    {'type': 'input',\n",
    "     'unit': '1000 t',\n",
    "     'id': 'FEi',\n",
    "     'name': 'Food exports per food group',\n",
    "     },\n",
    "\n",
    "    {'type': 'input',\n",
    "     'unit': '1000 t',\n",
    "     'id': 'FIi',\n",
    "     'name': 'Food imports per food group',\n",
    "     },\n",
    "\n",
    "    {'type': 'variable',\n",
    "     'unit': '1000 t',\n",
    "     'id': 'FDi',\n",
    "     'name': 'Total domestic food production per food group',\n",
    "     'in': ['KKRi', 'SSRi', 'TCDi'],\n",
    "     'computation': {'name': 'TCDi * SSRi / KKRi',\n",
    "                     'formula': lambda X: X['TCDi'] * X['SSRi'] / X['KKRi'] *365}  # to check\n",
    "     },\n",
    "    {'type': 'input',\n",
    "     'unit': '1000 t',\n",
    "     'id': 'FDi_baseline',\n",
    "     'name': 'Feed demand per group',\n",
    "\n",
    "     },\n",
    "    {'type': 'variable',\n",
    "     'unit': '1000 t',\n",
    "     'id': 'OFi',\n",
    "     'name': 'Other food demand',\n",
    "     'in': ['SDi', 'NFDi', 'PDi', 'RDi', 'SVi'],\n",
    "     'computation': {'name': 'SDi + NFDi + PDi + RDi + SVi',\n",
    "                     'formula': lambda X: X['SDi'] + X['NFDi'] + X['PDi'] + X['RDi'] + X['SVi']}\n",
    "     },\n",
    "    {'type': 'input',\n",
    "     'unit': '1000 t',\n",
    "     'id': 'SDi',\n",
    "     'name': 'Seed demand per food group',\n",
    "     },\n",
    "    {'type': 'input',\n",
    "     'unit': '1000 t',\n",
    "     'id': 'NFDi',\n",
    "     'name': 'Non-food demand per food group',\n",
    "     },\n",
    "    {'type': 'input',\n",
    "     'unit': '1000 t',\n",
    "     'id': 'PDi',\n",
    "     'name': 'Processed demand per food group',\n",
    "     },\n",
    "    {'type': 'input',\n",
    "     'unit': '1000 t',\n",
    "     'id': 'RDi',\n",
    "     'name': 'Residual demand per food group',\n",
    "     },\n",
    "    {'type': 'input',\n",
    "     'unit': '1000 t',\n",
    "     'id': 'SVi',\n",
    "     'name': 'Stock variation per food group',\n",
    "     },\n",
    "    {'type': 'output',\n",
    "     'id': 'FDTi',\n",
    "     'name': 'Total food demand per food group',\n",
    "     'unit': 'x 1000 tonne',\n",
    "     'in': ['FDi', 'OFi', 'FDi_baseline', 'SSRi'],\n",
    "     'computation': {'name': 'SSRi * (OFi + FDi_baseline) + FDi',\n",
    "                     'formula': lambda X: X['SSRi'] * (X['OFi'] + X['FDi_baseline']) + X['FDi']}\n",
    "     },\n",
    "]\n",
    "\n",
    "FDTi_model = GraphModel(FDTi_nodes)\n",
    "\n",
    "# ANIMAL FEED DEMAND PER FOOD GROUP\n",
    "\n",
    "FDi_nodes = [\n",
    "    # FDTi from the previous function\n",
    "    {'type': 'input',\n",
    "     'unit': '1000 t',\n",
    "     'id': 'FDTi_animal',\n",
    "     'name': 'Total food demand per food group',\n",
    "\n",
    "     },\n",
    "    {'type': 'output',\n",
    "     'unit': '1000 t',\n",
    "     'id': 'FDi_crops',\n",
    "     'name': 'Total animal feed demand per crop',\n",
    "     'in': ['FMi', 'FD'],\n",
    "     'computation': {'name': 'FMi * FD',\n",
    "                     'formula': lambda X: X['FMi'] * X['FD']}\n",
    "     },\n",
    "    # Note1: The vector 'FMi' might contain animal-based feed (i.e. Milk) which caused a cycle error in my previous model; so we want to select only crops from the vector FMI\n",
    "    {'type': 'parameter',\n",
    "     'unit': '',\n",
    "     'id': 'FMi',\n",
    "     'name': 'Feed mix fraction',\n",
    "     },\n",
    "    # Note2: the CRfd is calculated for the year 2017; and assumed constant. For hungary the value of CRfd is: 1.58729526339088\n",
    "    {'type': 'variable',\n",
    "     'unit': '1000 t',\n",
    "     'id': 'FD',\n",
    "     'name': 'Total crop-feed demand',\n",
    "     'in': ['TAFDi', 'CRfd'],\n",
    "     'computation': {'name': 'SUM(TAFDi)/CRfd',\n",
    "                     'formula': lambda X: X['TAFDi'].groupby(level=['Area', 'Year']).sum() / X['CRfd']}\n",
    "     },\n",
    "    # CRfd is calculated with model data from  & assumed constant for simulated years (for now)\n",
    "    {'type': 'parameter',\n",
    "     'unit': '',\n",
    "     'id': 'CRfd',\n",
    "     'name': 'Feed/forage distribution (correction)',\n",
    "     },\n",
    "\n",
    "    {'type': 'parameter',\n",
    "     'unit': 'kg DM feed/ kg EW',\n",
    "     'id': 'FCRi',\n",
    "     'name': 'Feed conversion ratio',\n",
    "     },\n",
    "    {'type': 'variable',\n",
    "     'unit': 'kg',\n",
    "     'id': 'TAFDi',\n",
    "     'name': 'Total animal feed demand per food group (animals)',\n",
    "     'in': ['FCRi', 'FDTi_animal'],\n",
    "     'computation': {'name': 'FRCi*FDTi_animal',\n",
    "                     'formula': lambda X: X['FCRi'].multiply(X['FDTi_animal'], level='Item')\n",
    "                    }\n",
    "     }\n",
    "]\n",
    "\n",
    "FDi_crops_Model = GraphModel(FDi_nodes)\n",
    "\n",
    "# FOOD DEMAND PER FOOD GROUP AGGREGATION with feed taken into account\n",
    "\n",
    "def compute_FDTi_animal(X):\n",
    "    X = X.copy()\n",
    "    X['FDi_baseline'] = X['FDi']\n",
    "    result = FDTi_model.run(X)['FDTi']\n",
    "    return result.loc[(slice(None), slice(None), X['animal_group'])]\n",
    "\n",
    "\n",
    "def compute_FDTi_crops(X):\n",
    "    X = X.copy()\n",
    "    #to fix\n",
    "    X['FDi_baseline'] = pd.concat([X['FDi_crops'], pd.Series(0, index=X['FDTi_animal'].index)]).drop_duplicates()\n",
    "    result = FDTi_model.run(X)['FDTi']\n",
    "    return result.loc[(slice(None), slice(None), X['crop_group'])]\n",
    "\n",
    "\n",
    "def compute_FDi_crops(X):\n",
    "    X = X.copy()\n",
    "    X['FDi_baseline'] = X['FDi']\n",
    "    result = FDi_crops_Model.run(X)\n",
    "    return result['FDi_crops']\n",
    "\n",
    "\n",
    "full_FDTi_nodes = [\n",
    "    {\n",
    "        'id': 'food_balance_sheet',\n",
    "        'name': 'All inputs (animals and crops)',\n",
    "        'unit': '',\n",
    "        'type': 'input',\n",
    "    },\n",
    "    {\n",
    "        'id': 'FDTi_animal',\n",
    "        'name': 'Total food demand per food group (animals)',\n",
    "        'unit': '',\n",
    "        'type': 'variable',\n",
    "        'in': ['food_balance_sheet'],\n",
    "        'computation': {'name': 'compute FDTi_animal', 'formula': lambda X: compute_FDTi_animal(X)}\n",
    "    },\n",
    "    {\n",
    "        'id': 'FDi_crops',\n",
    "        'name': 'Total domestic food production per food group (crops)',\n",
    "        'unit': '',\n",
    "        'type': 'variable',\n",
    "        'in': ['food_balance_sheet', 'FDTi_animal', 'CRfd'],\n",
    "        'computation': {'name': 'compute FDi_crops', 'formula': lambda X: compute_FDi_crops(X)}\n",
    "    },\n",
    "    {\n",
    "        'id': 'FDTi_crops',\n",
    "        'name': 'Total food demand per food group (crops)',\n",
    "        'unit': '',\n",
    "        'type': 'variable',\n",
    "        'in': ['food_balance_sheet', 'FDi_crops'],\n",
    "        'computation': {'name': 'compute FDTi_crops', 'formula': lambda X: compute_FDTi_crops(X)}\n",
    "    },\n",
    "    {\n",
    "        'id': 'FDTi',\n",
    "        'name': 'Total food demand per food group',\n",
    "        'unit': '',\n",
    "        'type': 'output',\n",
    "        'in': ['FDTi_animal', 'FDTi_crops'],\n",
    "        'computation': {'name': 'concatenate FDTi_crops and FDTi_animal', 'formula': lambda X: pd.concat([X['FDTi_animal'], X['FDTi_crops']])}\n",
    "    },\n",
    "    {\n",
    "        'id': 'CRfd',\n",
    "        'name': 'Feed/forage distribution (correction)',\n",
    "        'unit': '',\n",
    "        'type': 'parameter',\n",
    "    },\n",
    "]\n",
    "\n",
    "\n",
    "model_full_FDTi = GraphModel(full_FDTi_nodes)\n",
    "\n",
    "\n",
    "chCL_nodes = [\n",
    "    # this is the value that is computed with the addition of animal feed (so the CRfd part)\n",
    "    {'type': 'input',\n",
    "     'id': 'FDTi',\n",
    "     'name': 'Total food demand per food group',\n",
    "     'unit': '1000 tons',\n",
    "     },\n",
    "    {'type': 'input',\n",
    "     'unit': 'hg/ha',\n",
    "     'id': 'CYi',\n",
    "     'name': 'Crop yields per crop type',\n",
    "     },\n",
    "    {'type': 'input',\n",
    "     'unit': 'ha',\n",
    "     'id': 'TCLD_baseline',\n",
    "     'name': 'Total crop land demand (baseline)',\n",
    "     },\n",
    "    {'type': 'parameter',\n",
    "     'unit': '',\n",
    "     'id': 'CD_corr',\n",
    "     'name': 'Correction parameter crop demand',\n",
    "     },\n",
    "    {'type': 'variable',\n",
    "     'id': 'TCLD',\n",
    "     'name': 'Total cropland demand',\n",
    "     'unit': 'ha',\n",
    "     'in': ['FDTi', 'CYi', 'CD_corr'],\n",
    "     'computation': {'name': 'sum(FDTi_crops / CYi) * CD_corr',\n",
    "                     'formula': lambda X: (X['FDTi'].loc[(slice(None), slice(None), X['crop_group'])] / X['CYi']).groupby(level=['Area', 'Year']).sum() * X['CD_corr'] * 1e7}\n",
    "                     \n",
    "     },\n",
    "    {'type': 'output',\n",
    "     'id': 'chCL',\n",
    "     'name': 'Change in cropland',\n",
    "     'unit': '1000 ha',\n",
    "     'in': ['TCLD', 'TCLD_baseline'],\n",
    "     'computation': {'name': 'TCLD-TCLD_baseline',\n",
    "                     'formula': lambda X: (X['TCLD'] - X['TCLD_baseline']) * 1e-5} # to check !!!\n",
    "     }\n",
    "]\n",
    "\n",
    "chCL_model = GraphModel(chCL_nodes)\n",
    "\n",
    "\n",
    "def FL(chCL, FL_t_minus_1, IL_t_minus_1):\n",
    "    df = pd.concat([chCL, FL_t_minus_1, IL_t_minus_1],axis=1).dropna()\n",
    "    df.columns = ['chCL', 'FL_t_minus_1', 'IL_t_minus_1']\n",
    "    df['FL'] = df['FL_t_minus_1']\n",
    "    \n",
    "    df[(df.chCL > 0) & (df.IL_t_minus_1 - df.chCL) < 0]['FL'] += df['IL_t_minus_1'] - df['chCL']\n",
    "    \n",
    "    return df['FL']\n",
    "\n",
    "\n",
    "def IL(chCL, IL_t_minus_1):\n",
    "    df = pd.concat([chCL, IL_t_minus_1],axis=1).dropna()\n",
    "    df.columns = ['chCL', 'IL_t_minus_1']\n",
    "    df['IL'] = df['IL_t_minus_1'] - df['chCL']\n",
    "    df[(df.chCL > 0) & (df.IL_t_minus_1 - df.chCL)<0] = 0\n",
    "    return df['IL']\n",
    "\n",
    "\n",
    "CH_IL_FL_nodes = [\n",
    "    # from previous part\n",
    "    {'type': 'input',\n",
    "     'id': 'chCL',\n",
    "     'name': 'Change in cropland',\n",
    "     'unit': 'x 1000ha'\n",
    "     },\n",
    "    {'type': 'input',\n",
    "     'unit': 'x1000 ha',\n",
    "     'id': 'CL_t_minus_1',\n",
    "     'name': 'Cropland t-1',\n",
    "     },\n",
    "    {'type': 'input',\n",
    "     'unit': 'x1000 ha',\n",
    "     'id': 'IL_t_minus_1',\n",
    "     'name': 'Inactive land t-1',\n",
    "     },\n",
    "    {'type': 'input',\n",
    "     'unit': 'x1000 ha',\n",
    "     'id': 'FL_t_minus_1',\n",
    "     'name': 'Forest land t-1',\n",
    "     },\n",
    "    {'type': 'output',\n",
    "     'id': 'CL_t',\n",
    "     'name': 'Cropland stock',\n",
    "     'unit': 'x 1000ha',\n",
    "     'in': ['chCL', 'CL_t_minus_1'],\n",
    "     'computation': {'name': 'CL_t_minus_1 + chCL',\n",
    "                     'formula': lambda X: X['chCL'] + X['CL_t_minus_1']}\n",
    "     },\n",
    "    {'type': 'output',\n",
    "     'id': 'IL_t',\n",
    "     'name': 'Inactive land stock',\n",
    "     'unit': 'x 1000 ha',\n",
    "     'in': ['chCL', 'IL_t_minus_1'],\n",
    "     'computation': {'name': 'IL_computation(chCL, CL_t_minus_1) ',\n",
    "                     'formula': lambda X: IL(X['chCL'], X['IL_t_minus_1'])}\n",
    "     },\n",
    "    {'type': 'output',\n",
    "     'id': 'FL_t',\n",
    "     'name': 'Forest land stock',\n",
    "     'unit': 'x 1000ha',\n",
    "     'in': ['chCL', 'FL_t_minus_1', 'IL_t'],\n",
    "     'computation': {'name': 'FL_computation(chCL, FL_t_minus_1, IL_t)',\n",
    "                     'formula': lambda X: FL(X['chCL'], X['FL_t_minus_1'], X['IL_t'])}\n",
    "     },\n",
    "]\n",
    "\n",
    "\n",
    "model_CH_IL_FL = GraphModel(CH_IL_FL_nodes)\n",
    "\n",
    "BE2_partial_nodes = [\n",
    "    {'type': 'input',\n",
    "     'unit': '1000 ha',\n",
    "     'id': 'TLA',\n",
    "     'name': 'Total land area',\n",
    "     },\n",
    "    {'type': 'input',\n",
    "     'unit': '1000 ha',\n",
    "     'id': 'FL_t',\n",
    "     'name': 'Forest land stock',\n",
    "     },\n",
    "    {'type': 'input',\n",
    "     'unit': '1000 ha',\n",
    "     'id': 'IL_t',\n",
    "     'name': 'Inactive land stock',\n",
    "     },\n",
    "    {'type': 'parameter',\n",
    "     'unit': '%',\n",
    "     'id': 'R_rate',\n",
    "     'name': 'Rate of reforestation',\n",
    "     },\n",
    "    {'type': 'variable',\n",
    "     'id': 'RF_land',\n",
    "     'name': 'Reforestation of land',\n",
    "     'unit': 'x 1000ha',\n",
    "     'in': ['R_rate', 'IL_t'],\n",
    "     'computation': {'name': 'R_rate * IL_t',\n",
    "                     'formula': lambda X: X['R_rate'] * 1e-2 * X['IL_t']}\n",
    "     },\n",
    "    {'type': 'variable',\n",
    "     'id': 'FL_RF',\n",
    "     'name': 'Forest land stock after reforestation policy',\n",
    "     'unit': 'x 1000ha',\n",
    "     'in': ['RF_land', 'FL_t'],\n",
    "     'computation': {'name': 'FL + RF_land',\n",
    "                     'formula': lambda X: X['FL_t'] + X['RF_land']}\n",
    "     },\n",
    "    {'type': 'variable',\n",
    "     'id': 'IL_RF',\n",
    "     'name': 'Inactive land stock after reforestation policy',\n",
    "     'unit': 'x 1000ha',\n",
    "     'in': ['RF_land', 'IL_t'],\n",
    "     'computation': {'name': 'IL_t - RF_land',\n",
    "                     'formula': lambda X: X['IL_t'] - X['RF_land']}\n",
    "     },\n",
    "    {'type': 'output',\n",
    "     'id': 'BE2',\n",
    "     'name': 'Share of forest area to total land area',\n",
    "     'unit': '%',\n",
    "     'in': ['TLA', 'FL_RF'],\n",
    "     'computation': {'name': '100 * (FL_RF / TLA)',\n",
    "                     'formula': lambda X: 1e2 * X['FL_RF'] / X['TLA']}\n",
    "     },\n",
    "]\n",
    "\n",
    "\n",
    "model_BE2_partial = GraphModel(BE2_partial_nodes)\n",
    "\n",
    "\n",
    "model_BE2 = GraphModel(BE2_partial_nodes + CH_IL_FL_nodes + chCL_nodes + full_FDTi_nodes)#.run(X)"
   ]
  },
  {
   "cell_type": "code",
   "execution_count": 17,
   "metadata": {
    "ExecuteTime": {
     "end_time": "2021-01-15T02:30:40.976841Z",
     "start_time": "2021-01-15T02:30:39.876292Z"
    }
   },
   "outputs": [],
   "source": [
    "X['FDi_baseline'] = X['FDi']\n",
    "res = FDTi_model.run(X)"
   ]
  },
  {
   "cell_type": "code",
   "execution_count": 18,
   "metadata": {
    "ExecuteTime": {
     "end_time": "2021-01-15T02:30:41.362855Z",
     "start_time": "2021-01-15T02:30:41.334530Z"
    }
   },
   "outputs": [
    {
     "data": {
      "text/plain": [
       "Area     Year  Item                    \n",
       "Hungary  2017  Bovine Meat                    30.562463\n",
       "               Cereals - Excluding Beer    14019.854905\n",
       "               Meat, Other                     6.486000\n",
       "               Mutton & Goat Meat              1.362200\n",
       "               Pigmeat                       469.766947\n",
       "               Poultry Meat                  493.103660\n",
       "               Pulses                         52.565465\n",
       "               Starchy Roots                 402.041635\n",
       "               Sugar & Sweeteners            754.207772\n",
       "dtype: float64"
      ]
     },
     "execution_count": 18,
     "metadata": {},
     "output_type": "execute_result"
    }
   ],
   "source": [
    "res['FDTi'].loc['Hungary', 2017, [\"Cereals - Excluding Beer\",\n",
    "                                 'Bovine Meat',\n",
    "                                 'Mutton & Goat Meat',\n",
    "                                 \"Pigmeat\", \n",
    "                                 'Poultry Meat', \n",
    "                                 'Meat, Other',\n",
    "                                 'Starchy Roots',\n",
    "                                 'Sugar & Sweeteners',\n",
    "                                 'Pulses']]"
   ]
  },
  {
   "cell_type": "code",
   "execution_count": 19,
   "metadata": {
    "ExecuteTime": {
     "end_time": "2021-01-15T02:30:41.710787Z",
     "start_time": "2021-01-15T02:30:41.537684Z"
    }
   },
   "outputs": [
    {
     "data": {
      "text/plain": [
       "Area    Year  Item               \n",
       "France  2017  Alcoholic Beverages    1.000118\n",
       "              Animal fats            0.999949\n",
       "              Apples and products    1.000146\n",
       "              Barley and products    0.999943\n",
       "              Beans                  0.993843\n",
       "                                       ...   \n",
       "              Vegetable Oils         0.999879\n",
       "              Vegetables             1.000176\n",
       "              Vegetables, Other      1.000026\n",
       "              Wheat and products     1.000036\n",
       "              Wine                   1.000014\n",
       "Length: 70, dtype: float64"
      ]
     },
     "execution_count": 19,
     "metadata": {},
     "output_type": "execute_result"
    }
   ],
   "source": [
    "(res['FDTi'] / res['FPi']).loc['France', 2017, slice(None)].dropna()"
   ]
  },
  {
   "cell_type": "code",
   "execution_count": 20,
   "metadata": {
    "ExecuteTime": {
     "end_time": "2021-01-15T02:30:43.604615Z",
     "start_time": "2021-01-15T02:30:41.899754Z"
    }
   },
   "outputs": [],
   "source": [
    "model_BE2 = GraphModel(BE2_partial_nodes + CH_IL_FL_nodes + chCL_nodes + FDTi_nodes)#.run(X)\n",
    "res = model_BE2.run(X)"
   ]
  },
  {
   "cell_type": "code",
   "execution_count": 21,
   "metadata": {
    "ExecuteTime": {
     "end_time": "2021-01-15T02:30:44.140291Z",
     "start_time": "2021-01-15T02:30:43.967590Z"
    }
   },
   "outputs": [
    {
     "data": {
      "text/plain": [
       "Area    Year  Item               \n",
       "France  2017  Alcoholic Beverages    1.000118\n",
       "              Animal fats            0.999949\n",
       "              Apples and products    1.000146\n",
       "              Barley and products    0.999943\n",
       "              Beans                  0.993843\n",
       "                                       ...   \n",
       "              Vegetable Oils         0.999879\n",
       "              Vegetables             1.000176\n",
       "              Vegetables, Other      1.000026\n",
       "              Wheat and products     1.000036\n",
       "              Wine                   1.000014\n",
       "Length: 70, dtype: float64"
      ]
     },
     "execution_count": 21,
     "metadata": {},
     "output_type": "execute_result"
    }
   ],
   "source": [
    "(res['FDTi'] / res['FPi']).loc['France', 2017, slice(None)].dropna()"
   ]
  },
  {
   "cell_type": "code",
   "execution_count": null,
   "metadata": {
    "ExecuteTime": {
     "end_time": "2021-01-12T10:05:55.116398Z",
     "start_time": "2021-01-12T10:05:55.089934Z"
    }
   },
   "outputs": [],
   "source": [
    "res['FDTi'].reset_index().Item.unique()"
   ]
  },
  {
   "cell_type": "code",
   "execution_count": null,
   "metadata": {
    "ExecuteTime": {
     "end_time": "2021-01-12T09:42:07.705520Z",
     "start_time": "2021-01-12T09:42:07.699914Z"
    }
   },
   "outputs": [],
   "source": [
    "res['TCLD'].loc['Hungary', 2017]"
   ]
  },
  {
   "cell_type": "code",
   "execution_count": null,
   "metadata": {
    "ExecuteTime": {
     "end_time": "2021-01-12T09:54:14.399514Z",
     "start_time": "2021-01-12T09:54:14.383594Z"
    }
   },
   "outputs": [],
   "source": [
    "comparison = pd.concat([res['TCLD'], res['TCLD_baseline']], axis=1)\n",
    "comparison.columns= ['TCLD', 'TCLD_baseline']\n",
    "comparison['CD_corr'] = comparison['TCLD'] / X['TCLD_baseline']"
   ]
  },
  {
   "cell_type": "code",
   "execution_count": null,
   "metadata": {
    "ExecuteTime": {
     "end_time": "2021-01-12T09:54:14.546590Z",
     "start_time": "2021-01-12T09:54:14.536221Z"
    }
   },
   "outputs": [],
   "source": [
    "comparison['CD_corr'].loc['Hungary', 2017]"
   ]
  },
  {
   "cell_type": "code",
   "execution_count": null,
   "metadata": {
    "ExecuteTime": {
     "end_time": "2021-01-12T09:54:14.851094Z",
     "start_time": "2021-01-12T09:54:14.836945Z"
    }
   },
   "outputs": [],
   "source": [
    "comparison = comparison[comparison.TCLD > 0]\n",
    "comparison = comparison[comparison.CD_corr < 100]"
   ]
  },
  {
   "cell_type": "code",
   "execution_count": null,
   "metadata": {
    "ExecuteTime": {
     "end_time": "2021-01-12T09:54:15.346628Z",
     "start_time": "2021-01-12T09:54:15.156457Z"
    }
   },
   "outputs": [],
   "source": [
    "comparison['CD_corr'].hist()"
   ]
  },
  {
   "cell_type": "code",
   "execution_count": null,
   "metadata": {
    "ExecuteTime": {
     "end_time": "2021-01-12T09:52:40.977399Z",
     "start_time": "2021-01-12T09:52:40.956965Z"
    }
   },
   "outputs": [],
   "source": [
    "comparison"
   ]
  },
  {
   "cell_type": "code",
   "execution_count": null,
   "metadata": {
    "ExecuteTime": {
     "end_time": "2021-01-12T09:43:38.973550Z",
     "start_time": "2021-01-12T09:43:38.812586Z"
    }
   },
   "outputs": [],
   "source": [
    "comparison.plot(kind='scatter', x='TCLD', y='TCLD_baseline')"
   ]
  },
  {
   "cell_type": "code",
   "execution_count": null,
   "metadata": {
    "ExecuteTime": {
     "end_time": "2021-01-12T09:42:00.780356Z",
     "start_time": "2021-01-12T09:42:00.772788Z"
    }
   },
   "outputs": [],
   "source": [
    "res['TCLD_baseline'].loc['Hungary', 2017]"
   ]
  },
  {
   "cell_type": "code",
   "execution_count": null,
   "metadata": {
    "ExecuteTime": {
     "end_time": "2021-01-12T09:41:14.307951Z",
     "start_time": "2021-01-12T09:41:14.161550Z"
    }
   },
   "outputs": [],
   "source": [
    "RL = pd.read_csv('models/Hermen/data/RL.csv')#.dropna(subset=['GGI_code'])\n",
    "RL =  RL.pivot(index=['Area', 'Year'], columns='Item', values='Value')"
   ]
  },
  {
   "cell_type": "code",
   "execution_count": null,
   "metadata": {
    "ExecuteTime": {
     "end_time": "2021-01-12T09:41:34.000918Z",
     "start_time": "2021-01-12T09:41:33.992410Z"
    }
   },
   "outputs": [],
   "source": [
    " RL['Cropland'].loc['Hungary', 2017]"
   ]
  },
  {
   "cell_type": "code",
   "execution_count": null,
   "metadata": {
    "ExecuteTime": {
     "end_time": "2021-01-12T09:14:02.667328Z",
     "start_time": "2021-01-12T09:14:02.662135Z"
    }
   },
   "outputs": [],
   "source": [
    "TCLD_baseline = RL['Cropland']  - RL['Land under permanent crops']"
   ]
  },
  {
   "cell_type": "code",
   "execution_count": null,
   "metadata": {
    "ExecuteTime": {
     "end_time": "2021-01-12T09:18:41.224694Z",
     "start_time": "2021-01-12T09:18:41.217702Z"
    }
   },
   "outputs": [],
   "source": [
    "TCLD_baseline.loc['Hungary', 2017]"
   ]
  },
  {
   "cell_type": "code",
   "execution_count": null,
   "metadata": {
    "ExecuteTime": {
     "end_time": "2021-01-12T09:50:42.201520Z",
     "start_time": "2021-01-12T09:50:42.184668Z"
    }
   },
   "outputs": [],
   "source": [
    "(RL['Land under temporary crops'] + RL['Land under permanent crops']).dropna()"
   ]
  },
  {
   "cell_type": "code",
   "execution_count": null,
   "metadata": {
    "ExecuteTime": {
     "end_time": "2021-01-12T09:14:03.574195Z",
     "start_time": "2021-01-12T09:14:03.545897Z"
    }
   },
   "outputs": [],
   "source": [
    "(X['CL_t_minus_1'] / TCLD_baseline).loc[('Hungary', 2017)]"
   ]
  },
  {
   "cell_type": "code",
   "execution_count": null,
   "metadata": {
    "ExecuteTime": {
     "end_time": "2021-01-12T09:14:03.940050Z",
     "start_time": "2021-01-12T09:14:03.935297Z"
    }
   },
   "outputs": [],
   "source": [
    "TCLD = res['TCLD'] * 1e-3"
   ]
  },
  {
   "cell_type": "code",
   "execution_count": null,
   "metadata": {
    "ExecuteTime": {
     "end_time": "2021-01-12T09:14:04.256916Z",
     "start_time": "2021-01-12T09:14:04.245783Z"
    }
   },
   "outputs": [],
   "source": [
    "(res['TCLD'] / res['TCLD_baseline']).loc[('Hungary', 2017)]"
   ]
  },
  {
   "cell_type": "code",
   "execution_count": null,
   "metadata": {
    "ExecuteTime": {
     "end_time": "2021-01-12T09:14:04.623672Z",
     "start_time": "2021-01-12T09:14:04.603383Z"
    }
   },
   "outputs": [],
   "source": [
    "(TCLD / TCLD_baseline).loc[('Australia', 2017)]"
   ]
  },
  {
   "cell_type": "code",
   "execution_count": null,
   "metadata": {
    "ExecuteTime": {
     "end_time": "2021-01-12T09:14:05.031311Z",
     "start_time": "2021-01-12T09:14:05.013589Z"
    }
   },
   "outputs": [],
   "source": [
    "CD_corr  = (TCLD / TCLD_baseline).dropna()\n",
    "\n",
    "CD_corr = CD_corr[CD_corr > 0]\n",
    "CD_corr = CD_corr[CD_corr < 10]"
   ]
  },
  {
   "cell_type": "code",
   "execution_count": null,
   "metadata": {
    "ExecuteTime": {
     "end_time": "2021-01-12T09:14:05.505025Z",
     "start_time": "2021-01-12T09:14:05.413470Z"
    }
   },
   "outputs": [],
   "source": [
    "test = pd.concat([TCLD, TCLD_baseline], axis=1)\n",
    "test.columns = ['TCLD', 'TCLD_baseline']\n",
    "test['CD_corr'] = test['TCLD'] / test['TCLD_baseline']\n",
    "\n",
    "test = test[test['CD_corr']>0]\n",
    "test = test[test['CD_corr']<100]\n"
   ]
  },
  {
   "cell_type": "code",
   "execution_count": null,
   "metadata": {
    "ExecuteTime": {
     "end_time": "2021-01-12T09:14:10.201982Z",
     "start_time": "2021-01-12T09:14:10.188461Z"
    }
   },
   "outputs": [],
   "source": [
    "test.loc[('France', slice(None))]"
   ]
  },
  {
   "cell_type": "code",
   "execution_count": null,
   "metadata": {
    "ExecuteTime": {
     "end_time": "2021-01-12T09:14:10.840675Z",
     "start_time": "2021-01-12T09:14:10.826041Z"
    }
   },
   "outputs": [],
   "source": [
    "test.loc[('Germany', slice(None))]"
   ]
  },
  {
   "cell_type": "code",
   "execution_count": null,
   "metadata": {
    "ExecuteTime": {
     "end_time": "2021-01-12T07:24:22.673634Z",
     "start_time": "2021-01-12T07:24:22.659303Z"
    }
   },
   "outputs": [],
   "source": [
    "test.loc[('Germany', slice(None))]"
   ]
  },
  {
   "cell_type": "code",
   "execution_count": null,
   "metadata": {
    "ExecuteTime": {
     "end_time": "2021-01-12T06:06:15.605233Z",
     "start_time": "2021-01-12T06:06:15.452559Z"
    }
   },
   "outputs": [],
   "source": [
    "CD_corr.hist(bins=10)"
   ]
  },
  {
   "cell_type": "code",
   "execution_count": null,
   "metadata": {
    "ExecuteTime": {
     "end_time": "2021-01-12T05:57:40.972152Z",
     "start_time": "2021-01-12T05:57:40.907641Z"
    }
   },
   "outputs": [],
   "source": [
    "model_BE2.draw()"
   ]
  },
  {
   "cell_type": "code",
   "execution_count": null,
   "metadata": {
    "ExecuteTime": {
     "end_time": "2021-01-12T05:41:28.523307Z",
     "start_time": "2021-01-12T05:41:28.503669Z"
    }
   },
   "outputs": [],
   "source": [
    "(TCLD / TCLD_baseline).dropna().loc[('Germany', 2017)]"
   ]
  },
  {
   "cell_type": "code",
   "execution_count": null,
   "metadata": {
    "ExecuteTime": {
     "end_time": "2021-01-12T05:43:07.528305Z",
     "start_time": "2021-01-12T05:43:07.512118Z"
    }
   },
   "outputs": [],
   "source": [
    "(TCLD_baseline / X['TCLD_baseline'] * 1e3).dropna().loc[('Hungary', 2017)]"
   ]
  },
  {
   "cell_type": "markdown",
   "metadata": {
    "ExecuteTime": {
     "end_time": "2021-01-12T02:42:57.231727Z",
     "start_time": "2021-01-12T02:42:57.223225Z"
    }
   },
   "source": [
    "# crops "
   ]
  },
  {
   "cell_type": "code",
   "execution_count": null,
   "metadata": {},
   "outputs": [],
   "source": []
  },
  {
   "cell_type": "code",
   "execution_count": null,
   "metadata": {},
   "outputs": [],
   "source": []
  },
  {
   "cell_type": "code",
   "execution_count": null,
   "metadata": {
    "ExecuteTime": {
     "end_time": "2021-01-12T03:04:34.550085Z",
     "start_time": "2021-01-12T03:04:32.573145Z"
    }
   },
   "outputs": [],
   "source": [
    "model = GraphModel(BE2_partial_nodes + CH_IL_FL_nodes + chCL_nodes + full_FDTi_nodes)\n",
    "res = model.run(X)"
   ]
  },
  {
   "cell_type": "code",
   "execution_count": null,
   "metadata": {
    "ExecuteTime": {
     "end_time": "2021-01-12T03:04:34.627548Z",
     "start_time": "2021-01-12T03:04:34.552022Z"
    }
   },
   "outputs": [],
   "source": [
    "model.draw()"
   ]
  },
  {
   "cell_type": "code",
   "execution_count": null,
   "metadata": {
    "ExecuteTime": {
     "end_time": "2021-01-12T03:04:34.638497Z",
     "start_time": "2021-01-12T03:04:34.630967Z"
    }
   },
   "outputs": [],
   "source": [
    "res['TLA'].loc[('Hungary', 2017)]"
   ]
  },
  {
   "cell_type": "code",
   "execution_count": null,
   "metadata": {
    "ExecuteTime": {
     "end_time": "2021-01-12T03:04:34.646541Z",
     "start_time": "2021-01-12T03:04:34.641194Z"
    }
   },
   "outputs": [],
   "source": [
    "res['IL_RF'].loc[('Hungary', 2017)]"
   ]
  },
  {
   "cell_type": "code",
   "execution_count": null,
   "metadata": {
    "ExecuteTime": {
     "end_time": "2021-01-12T03:04:34.662331Z",
     "start_time": "2021-01-12T03:04:34.649693Z"
    }
   },
   "outputs": [],
   "source": [
    "res['FDTi'].loc[('Hungary', 2017)].loc['Poultry Meat']"
   ]
  },
  {
   "cell_type": "code",
   "execution_count": null,
   "metadata": {
    "ExecuteTime": {
     "end_time": "2021-01-12T05:21:45.503007Z",
     "start_time": "2021-01-12T05:21:45.496665Z"
    }
   },
   "outputs": [],
   "source": [
    "country = 'Hu'\n",
    "year = 2017\n",
    "def select_country_year(df, country, year):\n",
    "    return df[(df.Area==country) & (df.Year == year)].reset_index(drop=True)"
   ]
  },
  {
   "cell_type": "code",
   "execution_count": null,
   "metadata": {
    "ExecuteTime": {
     "end_time": "2021-01-12T05:21:45.827769Z",
     "start_time": "2021-01-12T05:21:45.688511Z"
    }
   },
   "outputs": [],
   "source": [
    "X = FBS_QC_RL_to_X(select_country_year(FBS, country, year),\n",
    "                   select_country_year(QC, country, year),\n",
    "                   select_country_year(RL, country, year),)"
   ]
  },
  {
   "cell_type": "code",
   "execution_count": null,
   "metadata": {
    "ExecuteTime": {
     "end_time": "2021-01-12T05:21:47.495385Z",
     "start_time": "2021-01-12T05:21:47.422643Z"
    }
   },
   "outputs": [],
   "source": [
    "res = GraphModel(BE2_partial_nodes + CH_IL_FL_nodes + chCL_nodes +  full_FDTi_nodes).run(X)"
   ]
  },
  {
   "cell_type": "code",
   "execution_count": null,
   "metadata": {
    "ExecuteTime": {
     "end_time": "2021-01-12T05:21:47.694908Z",
     "start_time": "2021-01-12T05:21:47.686138Z"
    },
    "scrolled": true
   },
   "outputs": [],
   "source": [
    "res['TCLD']"
   ]
  },
  {
   "cell_type": "code",
   "execution_count": null,
   "metadata": {
    "ExecuteTime": {
     "end_time": "2021-01-12T05:22:16.319083Z",
     "start_time": "2021-01-12T05:22:16.311469Z"
    }
   },
   "outputs": [],
   "source": [
    "X['TCLD_baseline']"
   ]
  },
  {
   "cell_type": "code",
   "execution_count": null,
   "metadata": {
    "ExecuteTime": {
     "end_time": "2021-01-12T05:22:17.143459Z",
     "start_time": "2021-01-12T05:22:17.036485Z"
    }
   },
   "outputs": [],
   "source": [
    "RL = pd.read_csv('models/Hermen/data/RL.csv')#.dropna(subset=['GGI_code'])\n"
   ]
  },
  {
   "cell_type": "code",
   "execution_count": null,
   "metadata": {
    "ExecuteTime": {
     "end_time": "2021-01-12T05:22:20.141861Z",
     "start_time": "2021-01-12T05:22:20.089114Z"
    }
   },
   "outputs": [],
   "source": [
    "RL.set_index(['Area', 'Year','Item']).loc[('France', 2017, 'Cropland')]"
   ]
  },
  {
   "cell_type": "code",
   "execution_count": null,
   "metadata": {
    "ExecuteTime": {
     "end_time": "2021-01-12T05:22:22.798934Z",
     "start_time": "2021-01-12T05:22:22.742875Z"
    }
   },
   "outputs": [],
   "source": [
    "RL.set_index(['Area', 'Year','Item']).loc[('France', 2017, 'Land under permanent crops')]"
   ]
  },
  {
   "cell_type": "code",
   "execution_count": null,
   "metadata": {
    "ExecuteTime": {
     "end_time": "2021-01-12T05:14:37.209304Z",
     "start_time": "2021-01-12T05:14:37.138801Z"
    }
   },
   "outputs": [],
   "source": [
    "#!/usr/bin/python\n",
    "# -*- coding: utf-8 -*-\n",
    "__author__ = 'Hermen'\n",
    "__status__ = 'Pending Validation'\n",
    "\n",
    "\"\"\"\n",
    "TO DO.\n",
    "\"\"\"\n",
    "from graphmodels.graphmodel import GraphModel\n",
    "\n",
    "CD_corr_nodes = [\n",
    "    {'type': 'input',\n",
    "     'unit': '1000 tons',\n",
    "     'id': 'FDTi',\n",
    "     'name': 'Total food demand per food group',\n",
    "     },\n",
    "    {'type': 'input',\n",
    "     'unit': 'hg/ha',\n",
    "     'id': 'CYi',\n",
    "     'name': 'Crop yields per crop type'},\n",
    "    # Unit conversion factor 1e4 (ha -> 1000 ha, hg -> 1000 tons)\n",
    "    {'type': 'variable',\n",
    "     'unit': '',\n",
    "     'id': 'TCLD',\n",
    "     'name': 'Total crop land demand',\n",
    "     'in': ['FDTi', 'CYi'],\n",
    "     'computation':{'name': 'FDTi * CYi', 'formula': lambda X: 1e4 * (X['FDTi'] / X['CYi']).sum()}\n",
    "     },\n",
    "    {'type': 'input',\n",
    "     'unit': '1000 ha',\n",
    "     'id': 'LUi_baseline',\n",
    "     'name': 'Land use per group'\n",
    "     },\n",
    "    {'type': 'variable',\n",
    "     'unit': 'ha',\n",
    "     'id': 'TCLD_baseline',\n",
    "     'name': 'Total crop land demand (baseline)',\n",
    "     'in': ['LUi_baseline'],\n",
    "     'computation': {'name': 'LU_Cropland - LU_Land_under_permanent_crops',\n",
    "                     'formula': lambda X: X['LUi'].loc['Cropland'] - X['LUi'].loc['Land under permanent crops']}\n",
    "     },\n",
    "    {'type': 'output',\n",
    "     'unit': '',\n",
    "     'id': 'CD_corr',\n",
    "     'name': 'Correction parameter crop demand',\n",
    "     'in': ['TCLD', 'TCLD_baseline'],\n",
    "     'computation': {'name': 'TCLD_baseline / TCLD',\n",
    "                     'formula': lambda X: X['TCLD_baseline'] / X['TCLD']}\n",
    "     },\n",
    "]\n",
    "\n",
    "GraphModel(CD_corr_nodes).draw()\n"
   ]
  }
 ],
 "metadata": {
  "kernelspec": {
   "display_name": "Python 3",
   "language": "python",
   "name": "python3"
  },
  "language_info": {
   "codemirror_mode": {
    "name": "ipython",
    "version": 3
   },
   "file_extension": ".py",
   "mimetype": "text/x-python",
   "name": "python",
   "nbconvert_exporter": "python",
   "pygments_lexer": "ipython3",
   "version": "3.7.7"
  }
 },
 "nbformat": 4,
 "nbformat_minor": 4
}
