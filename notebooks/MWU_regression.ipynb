{
 "cells": [
  {
   "cell_type": "code",
   "execution_count": 2,
   "metadata": {
    "ExecuteTime": {
     "end_time": "2021-02-09T05:48:31.677066Z",
     "start_time": "2021-02-09T05:48:27.892277Z"
    }
   },
   "outputs": [
    {
     "data": {
      "text/html": [
       "<table class=\"simpletable\">\n",
       "<caption>OLS Regression Results</caption>\n",
       "<tr>\n",
       "  <th>Dep. Variable:</th>         <td>log_MWU</td>     <th>  R-squared:         </th> <td>   0.919</td>\n",
       "</tr>\n",
       "<tr>\n",
       "  <th>Model:</th>                   <td>OLS</td>       <th>  Adj. R-squared:    </th> <td>   0.915</td>\n",
       "</tr>\n",
       "<tr>\n",
       "  <th>Method:</th>             <td>Least Squares</td>  <th>  F-statistic:       </th> <td>   201.8</td>\n",
       "</tr>\n",
       "<tr>\n",
       "  <th>Date:</th>             <td>Tue, 09 Feb 2021</td> <th>  Prob (F-statistic):</th> <td>5.72e-29</td>\n",
       "</tr>\n",
       "<tr>\n",
       "  <th>Time:</th>                 <td>14:48:31</td>     <th>  Log-Likelihood:    </th> <td> -43.622</td>\n",
       "</tr>\n",
       "<tr>\n",
       "  <th>No. Observations:</th>      <td>    57</td>      <th>  AIC:               </th> <td>   95.24</td>\n",
       "</tr>\n",
       "<tr>\n",
       "  <th>Df Residuals:</th>          <td>    53</td>      <th>  BIC:               </th> <td>   103.4</td>\n",
       "</tr>\n",
       "<tr>\n",
       "  <th>Df Model:</th>              <td>     3</td>      <th>                     </th>     <td> </td>   \n",
       "</tr>\n",
       "<tr>\n",
       "  <th>Covariance Type:</th>      <td>nonrobust</td>    <th>                     </th>     <td> </td>   \n",
       "</tr>\n",
       "</table>\n",
       "<table class=\"simpletable\">\n",
       "<tr>\n",
       "      <td></td>         <th>coef</th>     <th>std err</th>      <th>t</th>      <th>P>|t|</th>  <th>[0.025</th>    <th>0.975]</th>  \n",
       "</tr>\n",
       "<tr>\n",
       "  <th>Intercept</th> <td>  -21.9831</td> <td>    0.872</td> <td>  -25.213</td> <td> 0.000</td> <td>  -23.732</td> <td>  -20.234</td>\n",
       "</tr>\n",
       "<tr>\n",
       "  <th>log_WP</th>    <td>   -0.2099</td> <td>    0.094</td> <td>   -2.230</td> <td> 0.030</td> <td>   -0.399</td> <td>   -0.021</td>\n",
       "</tr>\n",
       "<tr>\n",
       "  <th>log_GDPc</th>  <td>    0.6379</td> <td>    0.056</td> <td>   11.378</td> <td> 0.000</td> <td>    0.525</td> <td>    0.750</td>\n",
       "</tr>\n",
       "<tr>\n",
       "  <th>log_POP</th>   <td>    1.6301</td> <td>    0.075</td> <td>   21.786</td> <td> 0.000</td> <td>    1.480</td> <td>    1.780</td>\n",
       "</tr>\n",
       "</table>\n",
       "<table class=\"simpletable\">\n",
       "<tr>\n",
       "  <th>Omnibus:</th>       <td> 0.549</td> <th>  Durbin-Watson:     </th> <td>   2.427</td>\n",
       "</tr>\n",
       "<tr>\n",
       "  <th>Prob(Omnibus):</th> <td> 0.760</td> <th>  Jarque-Bera (JB):  </th> <td>   0.214</td>\n",
       "</tr>\n",
       "<tr>\n",
       "  <th>Skew:</th>          <td> 0.142</td> <th>  Prob(JB):          </th> <td>   0.899</td>\n",
       "</tr>\n",
       "<tr>\n",
       "  <th>Kurtosis:</th>      <td> 3.097</td> <th>  Cond. No.          </th> <td>    220.</td>\n",
       "</tr>\n",
       "</table><br/><br/>Warnings:<br/>[1] Standard Errors assume that the covariance matrix of the errors is correctly specified."
      ],
      "text/plain": [
       "<class 'statsmodels.iolib.summary.Summary'>\n",
       "\"\"\"\n",
       "                            OLS Regression Results                            \n",
       "==============================================================================\n",
       "Dep. Variable:                log_MWU   R-squared:                       0.919\n",
       "Model:                            OLS   Adj. R-squared:                  0.915\n",
       "Method:                 Least Squares   F-statistic:                     201.8\n",
       "Date:                Tue, 09 Feb 2021   Prob (F-statistic):           5.72e-29\n",
       "Time:                        14:48:31   Log-Likelihood:                -43.622\n",
       "No. Observations:                  57   AIC:                             95.24\n",
       "Df Residuals:                      53   BIC:                             103.4\n",
       "Df Model:                           3                                         \n",
       "Covariance Type:            nonrobust                                         \n",
       "==============================================================================\n",
       "                 coef    std err          t      P>|t|      [0.025      0.975]\n",
       "------------------------------------------------------------------------------\n",
       "Intercept    -21.9831      0.872    -25.213      0.000     -23.732     -20.234\n",
       "log_WP        -0.2099      0.094     -2.230      0.030      -0.399      -0.021\n",
       "log_GDPc       0.6379      0.056     11.378      0.000       0.525       0.750\n",
       "log_POP        1.6301      0.075     21.786      0.000       1.480       1.780\n",
       "==============================================================================\n",
       "Omnibus:                        0.549   Durbin-Watson:                   2.427\n",
       "Prob(Omnibus):                  0.760   Jarque-Bera (JB):                0.214\n",
       "Skew:                           0.142   Prob(JB):                        0.899\n",
       "Kurtosis:                       3.097   Cond. No.                         220.\n",
       "==============================================================================\n",
       "\n",
       "Warnings:\n",
       "[1] Standard Errors assume that the covariance matrix of the errors is correctly specified.\n",
       "\"\"\""
      ]
     },
     "execution_count": 2,
     "metadata": {},
     "output_type": "execute_result"
    }
   ],
   "source": [
    "import pandas as pd\n",
    "from database import select_dataset\n",
    "import statsmodels.api as sm\n",
    "import statsmodels.formula.api as smf\n",
    "import numpy as np\n",
    "import plotly.express as px\n",
    "\n",
    "# Data import\n",
    "wb_data = select_dataset('worldbank')\n",
    "aqua_df = select_dataset('aquastat').fillna(0)\n",
    "wb_data.Year = wb_data.Year.astype(int)\n",
    "aqua_df.Year = aqua_df.Year.astype(int)\n",
    "\n",
    "# Data selection\n",
    "mwu = aqua_df.query(\"Variable == 'MWU' and Year == 2005\")[['ISO', 'Value']]\n",
    "wp  = aqua_df.query(\"Variable == 'WP' and Year == 2011\")[['ISO', 'Value']]\n",
    "pop = wb_data.query(\"Variable == 'Pop' and Year == 2005\")[['ISO', 'Value']]\n",
    "gdp = wb_data.query(\"Variable == 'GDP' and Year == 2005\")[['ISO', 'Value']]\n",
    "\n",
    "# Data processing\n",
    "dfs = [df.set_index('ISO') for df in [mwu, wp, gdp, pop]]\n",
    "df = pd.concat(dfs, axis=1).dropna()\n",
    "df.columns = ['MWU', 'WP', 'GDP', 'POP']\n",
    "\n",
    "df['GDPc'] = df['GDP'] / df['POP']\n",
    "df['log_MWU'] = np.log(df['MWU'])\n",
    "df['log_WP'] = np.log(df['WP'])\n",
    "df['log_GDP'] = np.log(df['GDP'])\n",
    "df['log_POP'] = np.log(df['POP'])\n",
    "df['log_GDPc'] =  np.log(df['GDPc'])\n",
    "\n",
    "# Regression\n",
    "model = smf.ols(formula='log_MWU ~  log_WP + log_GDPc + log_POP', data=df)\n",
    "model_fit = model.fit()\n",
    "model_fit.summary()"
   ]
  },
  {
   "cell_type": "code",
   "execution_count": 2,
   "metadata": {
    "ExecuteTime": {
     "end_time": "2021-02-09T05:02:56.238401Z",
     "start_time": "2021-02-09T05:02:56.226717Z"
    }
   },
   "outputs": [],
   "source": [
    "# Plots\n",
    "df['log_MWU_pred'] = model_fit.predict()\n",
    "df['residuals'] = model_fit.resid\n",
    "\n",
    "df['MWU_pred'] = np.exp(df['log_MWU_pred'])\n",
    "df['MWU-MWU_pred'] = df['MWU_pred'] - df['MWU']"
   ]
  },
  {
   "cell_type": "code",
   "execution_count": 3,
   "metadata": {
    "ExecuteTime": {
     "end_time": "2021-02-09T05:02:56.244429Z",
     "start_time": "2021-02-09T05:02:56.240585Z"
    }
   },
   "outputs": [],
   "source": [
    "#px.scatter(df.reset_index(), x='log_MWU', y='log_MWU_pred', hover_data=['ISO'])"
   ]
  },
  {
   "cell_type": "code",
   "execution_count": 4,
   "metadata": {
    "ExecuteTime": {
     "end_time": "2021-02-09T05:02:56.256194Z",
     "start_time": "2021-02-09T05:02:56.247002Z"
    }
   },
   "outputs": [],
   "source": [
    "#px.scatter(df.reset_index(), x='log_MWU', y='residuals', hover_data=['ISO'])"
   ]
  },
  {
   "cell_type": "code",
   "execution_count": 5,
   "metadata": {
    "ExecuteTime": {
     "end_time": "2021-02-09T05:02:56.263953Z",
     "start_time": "2021-02-09T05:02:56.259579Z"
    }
   },
   "outputs": [],
   "source": [
    "#px.scatter(df.reset_index(), x='MWU', y='MWU_pred', hover_data=['ISO'])"
   ]
  },
  {
   "cell_type": "code",
   "execution_count": 7,
   "metadata": {
    "ExecuteTime": {
     "end_time": "2021-02-09T05:02:59.871094Z",
     "start_time": "2021-02-09T05:02:59.867658Z"
    }
   },
   "outputs": [],
   "source": [
    "#px.scatter(df.reset_index(), x='MWU', y='MWU-MWU_pred', hover_data=['ISO'])"
   ]
  }
 ],
 "metadata": {
  "kernelspec": {
   "display_name": "Python 3",
   "language": "python",
   "name": "python3"
  },
  "language_info": {
   "codemirror_mode": {
    "name": "ipython",
    "version": 3
   },
   "file_extension": ".py",
   "mimetype": "text/x-python",
   "name": "python",
   "nbconvert_exporter": "python",
   "pygments_lexer": "ipython3",
   "version": "3.7.7"
  }
 },
 "nbformat": 4,
 "nbformat_minor": 4
}
