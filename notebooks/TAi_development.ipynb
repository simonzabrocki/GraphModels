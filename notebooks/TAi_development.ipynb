{
 "cells": [
  {
   "cell_type": "code",
   "execution_count": 1,
   "metadata": {
    "ExecuteTime": {
     "end_time": "2021-05-26T08:55:03.049391Z",
     "start_time": "2021-05-26T08:55:03.043859Z"
    }
   },
   "outputs": [],
   "source": [
    "import os\n",
    "path_parent = os.path.dirname(os.getcwd())\n",
    "os.chdir(path_parent)"
   ]
  },
  {
   "cell_type": "code",
   "execution_count": 2,
   "metadata": {
    "ExecuteTime": {
     "end_time": "2021-05-26T08:55:05.212838Z",
     "start_time": "2021-05-26T08:55:03.217661Z"
    }
   },
   "outputs": [],
   "source": [
    "from data_utils.utils import get_X_y_from_data, data_dict_from_df_tables\n",
    "from ggmodel_dev.models.landuse.BE2 import model_dictionnary\n",
    "\n",
    "import pandas as pd\n",
    "import numpy as np"
   ]
  },
  {
   "cell_type": "code",
   "execution_count": 3,
   "metadata": {
    "ExecuteTime": {
     "end_time": "2021-05-26T08:55:06.389961Z",
     "start_time": "2021-05-26T08:55:05.215804Z"
    }
   },
   "outputs": [],
   "source": [
    "from ggmodel_dev.graphmodel import GraphModel, concatenate_graph_specs\n",
    "from ggmodel_dev.validation import score_model, plot_diagnostic, score_model_dictionnary"
   ]
  },
  {
   "cell_type": "code",
   "execution_count": 4,
   "metadata": {
    "ExecuteTime": {
     "end_time": "2021-05-26T08:55:06.399046Z",
     "start_time": "2021-05-26T08:55:06.392500Z"
    }
   },
   "outputs": [],
   "source": [
    "import os\n",
    "os.environ[\"GGGI_db_username\"] = 'postgres'\n",
    "os.environ[\"GGGI_db_password\"] = 'lHeJnnRINyWCzfkDOzKl'\n",
    "os.environ['GGGI_db_endpoint'] ='database-gggi-1.cg4tog4qy0py.ap-northeast-2.rds.amazonaws.com'\n",
    "os.environ['GGGI_db_port'] = '5432'\n",
    "\n",
    "from ggmodel_dev.database import get_variables_df"
   ]
  },
  {
   "cell_type": "code",
   "execution_count": 24,
   "metadata": {
    "ExecuteTime": {
     "end_time": "2021-05-26T09:01:06.247364Z",
     "start_time": "2021-05-26T09:01:06.240566Z"
    }
   },
   "outputs": [],
   "source": [
    "def prepare_TAI_data():\n",
    "    data_dict = get_variables_df(['ANPi', 'AYi', 'FPi', 'PTTAi', 'TAi'], exclude_tables=['variabledata', 'foodbalancesheet'])\n",
    "    data_dict['livestock'] = data_dict['livestock'].drop(columns=['Description_y', 'Unit_y']).rename(columns={'Description_x': 'Description', 'Unit_x': 'Unit'})\n",
    "    data_dict['foodbalancesheet_new'] = data_dict['foodbalancesheet_new'].query(\"group == 'animal'\")\n",
    "    \n",
    "    return data_dict"
   ]
  },
  {
   "cell_type": "code",
   "execution_count": 25,
   "metadata": {
    "ExecuteTime": {
     "end_time": "2021-05-26T09:02:15.917765Z",
     "start_time": "2021-05-26T09:01:06.390878Z"
    }
   },
   "outputs": [
    {
     "name": "stdout",
     "output_type": "stream",
     "text": [
      "emissions TAi: Done\n",
      "foodbalancesheet FPi: Excluded\n",
      "foodbalancesheet_new FPi: Done\n",
      "livestock FPi, ANPi, AYi, PTTAi: Done\n",
      "variabledata TAi: Excluded\n"
     ]
    }
   ],
   "source": [
    "data_dict = prepare_TAI_data()"
   ]
  },
  {
   "cell_type": "code",
   "execution_count": 27,
   "metadata": {
    "ExecuteTime": {
     "end_time": "2021-05-26T09:02:21.326499Z",
     "start_time": "2021-05-26T09:02:21.297247Z"
    }
   },
   "outputs": [
    {
     "data": {
      "text/html": [
       "<div>\n",
       "<style scoped>\n",
       "    .dataframe tbody tr th:only-of-type {\n",
       "        vertical-align: middle;\n",
       "    }\n",
       "\n",
       "    .dataframe tbody tr th {\n",
       "        vertical-align: top;\n",
       "    }\n",
       "\n",
       "    .dataframe thead th {\n",
       "        text-align: right;\n",
       "    }\n",
       "</style>\n",
       "<table border=\"1\" class=\"dataframe\">\n",
       "  <thead>\n",
       "    <tr style=\"text-align: right;\">\n",
       "      <th></th>\n",
       "      <th>ISO</th>\n",
       "      <th>Year</th>\n",
       "      <th>Variable</th>\n",
       "      <th>Item</th>\n",
       "      <th>Value</th>\n",
       "      <th>Description</th>\n",
       "      <th>Unit</th>\n",
       "      <th>table</th>\n",
       "    </tr>\n",
       "  </thead>\n",
       "  <tbody>\n",
       "    <tr>\n",
       "      <th>0</th>\n",
       "      <td>AFG</td>\n",
       "      <td>2001</td>\n",
       "      <td>TAi</td>\n",
       "      <td>Asses</td>\n",
       "      <td>682000.0</td>\n",
       "      <td>Stocks</td>\n",
       "      <td>Head</td>\n",
       "      <td>emissions</td>\n",
       "    </tr>\n",
       "    <tr>\n",
       "      <th>1</th>\n",
       "      <td>AFG</td>\n",
       "      <td>2002</td>\n",
       "      <td>TAi</td>\n",
       "      <td>Asses</td>\n",
       "      <td>1588000.0</td>\n",
       "      <td>Stocks</td>\n",
       "      <td>Head</td>\n",
       "      <td>emissions</td>\n",
       "    </tr>\n",
       "    <tr>\n",
       "      <th>2</th>\n",
       "      <td>AFG</td>\n",
       "      <td>2005</td>\n",
       "      <td>TAi</td>\n",
       "      <td>Asses</td>\n",
       "      <td>1391000.0</td>\n",
       "      <td>Stocks</td>\n",
       "      <td>Head</td>\n",
       "      <td>emissions</td>\n",
       "    </tr>\n",
       "    <tr>\n",
       "      <th>3</th>\n",
       "      <td>AFG</td>\n",
       "      <td>2003</td>\n",
       "      <td>TAi</td>\n",
       "      <td>Asses</td>\n",
       "      <td>1598000.0</td>\n",
       "      <td>Stocks</td>\n",
       "      <td>Head</td>\n",
       "      <td>emissions</td>\n",
       "    </tr>\n",
       "    <tr>\n",
       "      <th>4</th>\n",
       "      <td>AFG</td>\n",
       "      <td>2006</td>\n",
       "      <td>TAi</td>\n",
       "      <td>Asses</td>\n",
       "      <td>1215000.0</td>\n",
       "      <td>Stocks</td>\n",
       "      <td>Head</td>\n",
       "      <td>emissions</td>\n",
       "    </tr>\n",
       "    <tr>\n",
       "      <th>...</th>\n",
       "      <td>...</td>\n",
       "      <td>...</td>\n",
       "      <td>...</td>\n",
       "      <td>...</td>\n",
       "      <td>...</td>\n",
       "      <td>...</td>\n",
       "      <td>...</td>\n",
       "      <td>...</td>\n",
       "    </tr>\n",
       "    <tr>\n",
       "      <th>186596</th>\n",
       "      <td>ZWE</td>\n",
       "      <td>2016</td>\n",
       "      <td>TAi</td>\n",
       "      <td>Chickens</td>\n",
       "      <td>20749000.0</td>\n",
       "      <td>Stocks</td>\n",
       "      <td>Head</td>\n",
       "      <td>emissions</td>\n",
       "    </tr>\n",
       "    <tr>\n",
       "      <th>186597</th>\n",
       "      <td>ZWE</td>\n",
       "      <td>2017</td>\n",
       "      <td>TAi</td>\n",
       "      <td>Chickens</td>\n",
       "      <td>21503000.0</td>\n",
       "      <td>Stocks</td>\n",
       "      <td>Head</td>\n",
       "      <td>emissions</td>\n",
       "    </tr>\n",
       "    <tr>\n",
       "      <th>186598</th>\n",
       "      <td>ZWE</td>\n",
       "      <td>2018</td>\n",
       "      <td>TAi</td>\n",
       "      <td>Chickens</td>\n",
       "      <td>20149000.0</td>\n",
       "      <td>Stocks</td>\n",
       "      <td>Head</td>\n",
       "      <td>emissions</td>\n",
       "    </tr>\n",
       "    <tr>\n",
       "      <th>186599</th>\n",
       "      <td>ZWE</td>\n",
       "      <td>2030</td>\n",
       "      <td>TAi</td>\n",
       "      <td>Chickens</td>\n",
       "      <td>67942996.0</td>\n",
       "      <td>Stocks</td>\n",
       "      <td>Head</td>\n",
       "      <td>emissions</td>\n",
       "    </tr>\n",
       "    <tr>\n",
       "      <th>186600</th>\n",
       "      <td>ZWE</td>\n",
       "      <td>2050</td>\n",
       "      <td>TAi</td>\n",
       "      <td>Chickens</td>\n",
       "      <td>100228670.0</td>\n",
       "      <td>Stocks</td>\n",
       "      <td>Head</td>\n",
       "      <td>emissions</td>\n",
       "    </tr>\n",
       "  </tbody>\n",
       "</table>\n",
       "<p>186601 rows × 8 columns</p>\n",
       "</div>"
      ],
      "text/plain": [
       "        ISO  Year Variable      Item        Value Description  Unit      table\n",
       "0       AFG  2001      TAi     Asses     682000.0      Stocks  Head  emissions\n",
       "1       AFG  2002      TAi     Asses    1588000.0      Stocks  Head  emissions\n",
       "2       AFG  2005      TAi     Asses    1391000.0      Stocks  Head  emissions\n",
       "3       AFG  2003      TAi     Asses    1598000.0      Stocks  Head  emissions\n",
       "4       AFG  2006      TAi     Asses    1215000.0      Stocks  Head  emissions\n",
       "...     ...   ...      ...       ...          ...         ...   ...        ...\n",
       "186596  ZWE  2016      TAi  Chickens   20749000.0      Stocks  Head  emissions\n",
       "186597  ZWE  2017      TAi  Chickens   21503000.0      Stocks  Head  emissions\n",
       "186598  ZWE  2018      TAi  Chickens   20149000.0      Stocks  Head  emissions\n",
       "186599  ZWE  2030      TAi  Chickens   67942996.0      Stocks  Head  emissions\n",
       "186600  ZWE  2050      TAi  Chickens  100228670.0      Stocks  Head  emissions\n",
       "\n",
       "[186601 rows x 8 columns]"
      ]
     },
     "execution_count": 27,
     "metadata": {},
     "output_type": "execute_result"
    }
   ],
   "source": [
    "data_dict['emissions']"
   ]
  },
  {
   "cell_type": "code",
   "execution_count": null,
   "metadata": {},
   "outputs": [],
   "source": [
    "test = data_dict_from_df_tables([data_dict['livestock']])"
   ]
  },
  {
   "cell_type": "code",
   "execution_count": 22,
   "metadata": {
    "ExecuteTime": {
     "end_time": "2021-05-26T08:59:12.578777Z",
     "start_time": "2021-05-26T08:59:12.435105Z"
    }
   },
   "outputs": [
    {
     "data": {
      "text/html": [
       "<div>\n",
       "<style scoped>\n",
       "    .dataframe tbody tr th:only-of-type {\n",
       "        vertical-align: middle;\n",
       "    }\n",
       "\n",
       "    .dataframe tbody tr th {\n",
       "        vertical-align: top;\n",
       "    }\n",
       "\n",
       "    .dataframe thead th {\n",
       "        text-align: right;\n",
       "    }\n",
       "</style>\n",
       "<table border=\"1\" class=\"dataframe\">\n",
       "  <thead>\n",
       "    <tr style=\"text-align: right;\">\n",
       "      <th></th>\n",
       "      <th>ISO</th>\n",
       "      <th>Item</th>\n",
       "      <th>Description</th>\n",
       "      <th>Year</th>\n",
       "      <th>Unit</th>\n",
       "      <th>Value</th>\n",
       "      <th>Variable</th>\n",
       "      <th>FBS_item</th>\n",
       "      <th>emi_item</th>\n",
       "      <th>table</th>\n",
       "    </tr>\n",
       "  </thead>\n",
       "  <tbody>\n",
       "    <tr>\n",
       "      <th>0</th>\n",
       "      <td>AFG</td>\n",
       "      <td>Eggs, hen, in shell</td>\n",
       "      <td>Production</td>\n",
       "      <td>1961</td>\n",
       "      <td>tonnes</td>\n",
       "      <td>10000.0</td>\n",
       "      <td>FPi</td>\n",
       "      <td>None</td>\n",
       "      <td>Chickens, layers</td>\n",
       "      <td>livestock</td>\n",
       "    </tr>\n",
       "    <tr>\n",
       "      <th>1</th>\n",
       "      <td>AFG</td>\n",
       "      <td>Eggs, hen, in shell</td>\n",
       "      <td>Production</td>\n",
       "      <td>1962</td>\n",
       "      <td>tonnes</td>\n",
       "      <td>11000.0</td>\n",
       "      <td>FPi</td>\n",
       "      <td>None</td>\n",
       "      <td>Chickens, layers</td>\n",
       "      <td>livestock</td>\n",
       "    </tr>\n",
       "    <tr>\n",
       "      <th>2</th>\n",
       "      <td>AFG</td>\n",
       "      <td>Eggs, hen, in shell</td>\n",
       "      <td>Production</td>\n",
       "      <td>1963</td>\n",
       "      <td>tonnes</td>\n",
       "      <td>11500.0</td>\n",
       "      <td>FPi</td>\n",
       "      <td>None</td>\n",
       "      <td>Chickens, layers</td>\n",
       "      <td>livestock</td>\n",
       "    </tr>\n",
       "    <tr>\n",
       "      <th>3</th>\n",
       "      <td>AFG</td>\n",
       "      <td>Eggs, hen, in shell</td>\n",
       "      <td>Production</td>\n",
       "      <td>1964</td>\n",
       "      <td>tonnes</td>\n",
       "      <td>12000.0</td>\n",
       "      <td>FPi</td>\n",
       "      <td>None</td>\n",
       "      <td>Chickens, layers</td>\n",
       "      <td>livestock</td>\n",
       "    </tr>\n",
       "    <tr>\n",
       "      <th>4</th>\n",
       "      <td>AFG</td>\n",
       "      <td>Eggs, hen, in shell</td>\n",
       "      <td>Production</td>\n",
       "      <td>1965</td>\n",
       "      <td>tonnes</td>\n",
       "      <td>12800.0</td>\n",
       "      <td>FPi</td>\n",
       "      <td>None</td>\n",
       "      <td>Chickens, layers</td>\n",
       "      <td>livestock</td>\n",
       "    </tr>\n",
       "    <tr>\n",
       "      <th>...</th>\n",
       "      <td>...</td>\n",
       "      <td>...</td>\n",
       "      <td>...</td>\n",
       "      <td>...</td>\n",
       "      <td>...</td>\n",
       "      <td>...</td>\n",
       "      <td>...</td>\n",
       "      <td>...</td>\n",
       "      <td>...</td>\n",
       "      <td>...</td>\n",
       "    </tr>\n",
       "    <tr>\n",
       "      <th>259061</th>\n",
       "      <td>TUR</td>\n",
       "      <td>Snails, not sea</td>\n",
       "      <td>Production</td>\n",
       "      <td>2015</td>\n",
       "      <td>tonnes</td>\n",
       "      <td>481.0</td>\n",
       "      <td>FPi</td>\n",
       "      <td>Meat, Other</td>\n",
       "      <td>None</td>\n",
       "      <td>livestock</td>\n",
       "    </tr>\n",
       "    <tr>\n",
       "      <th>259062</th>\n",
       "      <td>TUR</td>\n",
       "      <td>Snails, not sea</td>\n",
       "      <td>Production</td>\n",
       "      <td>2016</td>\n",
       "      <td>tonnes</td>\n",
       "      <td>491.0</td>\n",
       "      <td>FPi</td>\n",
       "      <td>Meat, Other</td>\n",
       "      <td>None</td>\n",
       "      <td>livestock</td>\n",
       "    </tr>\n",
       "    <tr>\n",
       "      <th>259063</th>\n",
       "      <td>TUR</td>\n",
       "      <td>Snails, not sea</td>\n",
       "      <td>Production</td>\n",
       "      <td>2017</td>\n",
       "      <td>tonnes</td>\n",
       "      <td>484.0</td>\n",
       "      <td>FPi</td>\n",
       "      <td>Meat, Other</td>\n",
       "      <td>None</td>\n",
       "      <td>livestock</td>\n",
       "    </tr>\n",
       "    <tr>\n",
       "      <th>259064</th>\n",
       "      <td>TUR</td>\n",
       "      <td>Snails, not sea</td>\n",
       "      <td>Production</td>\n",
       "      <td>2018</td>\n",
       "      <td>tonnes</td>\n",
       "      <td>479.0</td>\n",
       "      <td>FPi</td>\n",
       "      <td>Meat, Other</td>\n",
       "      <td>None</td>\n",
       "      <td>livestock</td>\n",
       "    </tr>\n",
       "    <tr>\n",
       "      <th>259065</th>\n",
       "      <td>TUR</td>\n",
       "      <td>Snails, not sea</td>\n",
       "      <td>Production</td>\n",
       "      <td>2019</td>\n",
       "      <td>tonnes</td>\n",
       "      <td>473.0</td>\n",
       "      <td>FPi</td>\n",
       "      <td>Meat, Other</td>\n",
       "      <td>None</td>\n",
       "      <td>livestock</td>\n",
       "    </tr>\n",
       "  </tbody>\n",
       "</table>\n",
       "<p>259066 rows × 10 columns</p>\n",
       "</div>"
      ],
      "text/plain": [
       "        ISO                 Item Description  Year    Unit    Value Variable  \\\n",
       "0       AFG  Eggs, hen, in shell  Production  1961  tonnes  10000.0      FPi   \n",
       "1       AFG  Eggs, hen, in shell  Production  1962  tonnes  11000.0      FPi   \n",
       "2       AFG  Eggs, hen, in shell  Production  1963  tonnes  11500.0      FPi   \n",
       "3       AFG  Eggs, hen, in shell  Production  1964  tonnes  12000.0      FPi   \n",
       "4       AFG  Eggs, hen, in shell  Production  1965  tonnes  12800.0      FPi   \n",
       "...     ...                  ...         ...   ...     ...      ...      ...   \n",
       "259061  TUR      Snails, not sea  Production  2015  tonnes    481.0      FPi   \n",
       "259062  TUR      Snails, not sea  Production  2016  tonnes    491.0      FPi   \n",
       "259063  TUR      Snails, not sea  Production  2017  tonnes    484.0      FPi   \n",
       "259064  TUR      Snails, not sea  Production  2018  tonnes    479.0      FPi   \n",
       "259065  TUR      Snails, not sea  Production  2019  tonnes    473.0      FPi   \n",
       "\n",
       "           FBS_item          emi_item      table  \n",
       "0              None  Chickens, layers  livestock  \n",
       "1              None  Chickens, layers  livestock  \n",
       "2              None  Chickens, layers  livestock  \n",
       "3              None  Chickens, layers  livestock  \n",
       "4              None  Chickens, layers  livestock  \n",
       "...             ...               ...        ...  \n",
       "259061  Meat, Other              None  livestock  \n",
       "259062  Meat, Other              None  livestock  \n",
       "259063  Meat, Other              None  livestock  \n",
       "259064  Meat, Other              None  livestock  \n",
       "259065  Meat, Other              None  livestock  \n",
       "\n",
       "[259066 rows x 10 columns]"
      ]
     },
     "execution_count": 22,
     "metadata": {},
     "output_type": "execute_result"
    }
   ],
   "source": [
    "data_dict['livestock'].query(\"Variable == 'FPi'\")"
   ]
  },
  {
   "cell_type": "code",
   "execution_count": 101,
   "metadata": {
    "ExecuteTime": {
     "end_time": "2021-05-26T08:46:29.321765Z",
     "start_time": "2021-05-26T08:46:28.335885Z"
    }
   },
   "outputs": [],
   "source": [
    "test = data_dict_from_df_tables([data_dict['livestock']])\n",
    "\n",
    "test['ANPi'] = test['ANPi'].droplevel(['FBS_item', 'table']).dropna()\n",
    "test['AYi'] = test['AYi'].droplevel(['FBS_item', 'table']).dropna()\n",
    "test['FPi'] = test['FPi'].droplevel(['FBS_item', 'table']).dropna()\n",
    "test['PTTAi'] = test['PTTAi'].droplevel(['FBS_item', 'table', 'Item']).rename_axis(index={\"emi_item\": 'Item'})\n",
    "\n",
    "test['TAi'] = data_dict['emissions'].set_index(['ISO', 'Year', 'Item'])['Value']"
   ]
  },
  {
   "cell_type": "code",
   "execution_count": 111,
   "metadata": {
    "ExecuteTime": {
     "end_time": "2021-05-26T08:47:48.717427Z",
     "start_time": "2021-05-26T08:47:48.689212Z"
    }
   },
   "outputs": [],
   "source": [
    "TAi_nodes = {'FPi': {'type': 'input',\n",
    "                     'unit': '1000 tonnes',\n",
    "                     'name': 'Food production per food group'},\n",
    "             'AYi': {'type': 'input',\n",
    "                     'unit': 'tonnes/head',\n",
    "                     'name': 'Vector of animal yields'},\n",
    "             'ANPi': {'type': 'variable',\n",
    "                      'unit': 'head',\n",
    "                      'name': 'Animals needed for production per animal type',\n",
    "                      'computation': lambda FPi, AYi, **kwargs: 1e3 * FPi / AYi\n",
    "                      },\n",
    "             'PTTAi': {'type': 'parameter',\n",
    "                       'unit': '1',\n",
    "                       'name': 'Production to animal population ratio',\n",
    "                       },\n",
    "             'TAi': {'type': 'output',\n",
    "                     'unit': 'head',\n",
    "                     'name': 'Animal population',\n",
    "                     'computation': lambda ANPi, PTTAi, **kwargs: PTTAi * ANPi.groupby(level=['ISO', 'Year', 'emi_item']).sum().rename_axis(index={\"emi_item\": 'Item'})\n",
    "                     },\n",
    "             }\n",
    "\n",
    "model = GraphModel(TAi_nodes)"
   ]
  },
  {
   "cell_type": "code",
   "execution_count": 112,
   "metadata": {
    "ExecuteTime": {
     "end_time": "2021-05-26T08:47:51.782711Z",
     "start_time": "2021-05-26T08:47:48.893612Z"
    }
   },
   "outputs": [],
   "source": [
    "res = model.run(test)"
   ]
  },
  {
   "cell_type": "code",
   "execution_count": 113,
   "metadata": {
    "ExecuteTime": {
     "end_time": "2021-05-26T08:47:56.735846Z",
     "start_time": "2021-05-26T08:47:51.785577Z"
    }
   },
   "outputs": [],
   "source": [
    "scores = score_model(model, test)"
   ]
  },
  {
   "cell_type": "code",
   "execution_count": 114,
   "metadata": {
    "ExecuteTime": {
     "end_time": "2021-05-26T08:47:56.754894Z",
     "start_time": "2021-05-26T08:47:56.738015Z"
    }
   },
   "outputs": [
    {
     "data": {
      "text/html": [
       "<div>\n",
       "<style scoped>\n",
       "    .dataframe tbody tr th:only-of-type {\n",
       "        vertical-align: middle;\n",
       "    }\n",
       "\n",
       "    .dataframe tbody tr th {\n",
       "        vertical-align: top;\n",
       "    }\n",
       "\n",
       "    .dataframe thead th {\n",
       "        text-align: right;\n",
       "    }\n",
       "</style>\n",
       "<table border=\"1\" class=\"dataframe\">\n",
       "  <thead>\n",
       "    <tr style=\"text-align: right;\">\n",
       "      <th></th>\n",
       "      <th>r2</th>\n",
       "      <th>correlation</th>\n",
       "      <th>rmse</th>\n",
       "    </tr>\n",
       "    <tr>\n",
       "      <th>Variable</th>\n",
       "      <th></th>\n",
       "      <th></th>\n",
       "      <th></th>\n",
       "    </tr>\n",
       "  </thead>\n",
       "  <tbody>\n",
       "    <tr>\n",
       "      <th>ANPi</th>\n",
       "      <td>1.000000</td>\n",
       "      <td>1.000000</td>\n",
       "      <td>2.056382e+08</td>\n",
       "    </tr>\n",
       "    <tr>\n",
       "      <th>TAi</th>\n",
       "      <td>0.999998</td>\n",
       "      <td>0.999999</td>\n",
       "      <td>1.098750e+09</td>\n",
       "    </tr>\n",
       "  </tbody>\n",
       "</table>\n",
       "</div>"
      ],
      "text/plain": [
       "                r2  correlation          rmse\n",
       "Variable                                     \n",
       "ANPi      1.000000     1.000000  2.056382e+08\n",
       "TAi       0.999998     0.999999  1.098750e+09"
      ]
     },
     "execution_count": 114,
     "metadata": {},
     "output_type": "execute_result"
    }
   ],
   "source": [
    "scores['score_by_Variable']"
   ]
  },
  {
   "cell_type": "code",
   "execution_count": null,
   "metadata": {},
   "outputs": [],
   "source": []
  }
 ],
 "metadata": {
  "kernelspec": {
   "display_name": "Python 3",
   "language": "python",
   "name": "python3"
  },
  "language_info": {
   "codemirror_mode": {
    "name": "ipython",
    "version": 3
   },
   "file_extension": ".py",
   "mimetype": "text/x-python",
   "name": "python",
   "nbconvert_exporter": "python",
   "pygments_lexer": "ipython3",
   "version": "3.7.7"
  }
 },
 "nbformat": 4,
 "nbformat_minor": 4
}
