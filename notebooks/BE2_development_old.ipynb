{
 "cells": [
  {
   "cell_type": "code",
   "execution_count": 1,
   "metadata": {},
   "outputs": [],
   "source": [
    "import os\n",
    "path_parent = os.path.dirname(os.getcwd())\n",
    "os.chdir(path_parent)"
   ]
  },
  {
   "cell_type": "code",
   "execution_count": 2,
   "metadata": {
    "ExecuteTime": {
     "end_time": "2021-04-14T01:09:57.101893Z",
     "start_time": "2021-04-14T01:09:54.394987Z"
    }
   },
   "outputs": [],
   "source": [
    "from graphmodels.graphmodel import converte_to_format, GraphModel, concatenate_graph_specs\n",
    "from graphmodels.database import select_dataset\n",
    "from graphmodels.utils import get_X_y_from_data\n",
    "from graphmodels.validation import score_model, plot_diagnostic\n",
    "import pandas as pd\n",
    "import numpy as np\n",
    "from models.Hermen.model_BE2 import BE2_models"
   ]
  },
  {
   "cell_type": "code",
   "execution_count": 3,
   "metadata": {
    "ExecuteTime": {
     "end_time": "2021-04-14T01:10:14.901924Z",
     "start_time": "2021-04-14T01:09:57.104907Z"
    }
   },
   "outputs": [],
   "source": [
    "#fbs_data = select_dataset('foodbalancesheet')\n",
    "fbs_data = select_dataset('foodbalancesheet_new')\n",
    "\n",
    "population_data = select_dataset('population')\n",
    "crops_data = select_dataset('crops')\n",
    "landuse = select_dataset('landuse')\n",
    "corrected_cl = pd.read_csv('outputs/cl_corr.csv')"
   ]
  },
  {
   "cell_type": "code",
   "execution_count": 4,
   "metadata": {
    "ExecuteTime": {
     "end_time": "2021-04-14T01:10:19.322347Z",
     "start_time": "2021-04-14T01:10:14.905370Z"
    }
   },
   "outputs": [],
   "source": [
    "model_df = pd.concat([fbs_data, population_data, crops_data],).dropna(subset=['Variable'])\n",
    "model_df = model_df[~model_df.Variable.isin(['Domestic supply quantity'])]"
   ]
  },
  {
   "cell_type": "code",
   "execution_count": 5,
   "metadata": {
    "ExecuteTime": {
     "end_time": "2021-04-14T01:16:05.488686Z",
     "start_time": "2021-04-14T01:16:05.119596Z"
    }
   },
   "outputs": [],
   "source": [
    "test = model_df.query('Year > 2014').drop(columns=['group', 'Description', 'Unit'])"
   ]
  },
  {
   "cell_type": "code",
   "execution_count": 6,
   "metadata": {
    "ExecuteTime": {
     "end_time": "2021-04-14T01:17:57.490763Z",
     "start_time": "2021-04-14T01:17:54.610582Z"
    }
   },
   "outputs": [],
   "source": [
    "test.to_csv('outputs/BE2_df.csv', index=False)"
   ]
  },
  {
   "cell_type": "code",
   "execution_count": 7,
   "metadata": {
    "ExecuteTime": {
     "end_time": "2021-04-14T01:16:22.840830Z",
     "start_time": "2021-04-14T01:16:21.536985Z"
    }
   },
   "outputs": [],
   "source": [
    "from graphmodels.utils import df_to_data_dict\n",
    "\n",
    "def get_X_y_from_data(model, data_dict):\n",
    "    '''TO CLEAN UP'''\n",
    "    X = {key: data_dict[key] for key in model.inputs_() + model.parameters_()}\n",
    "    y = {key: data_dict[key] for key in model.variables_() + model.outputs_() if key in data_dict}\n",
    "    return X, y\n",
    "\n",
    "\n",
    "def df_to_dict(df):\n",
    "    X = {}\n",
    "    for code in df.columns:\n",
    "        X[code] = df[code].fillna(0)\n",
    "    return X\n",
    "\n",
    "\n",
    "def fill_missing_values(df):\n",
    "    return df\n",
    "\n",
    "\n",
    "def df_to_data_dict(df, itemized):\n",
    "    data_dict = {}\n",
    "\n",
    "    non_item_df = df[~df.Variable.isin(itemized)].pivot(\n",
    "        index=['ISO', 'Year'], columns='Variable', values='Value')\n",
    "    non_item_df = fill_missing_values(non_item_df)\n",
    "    \n",
    "    if itemized != []:\n",
    "        item_df = df[df.Variable.isin(itemized)].pivot(\n",
    "            index=['ISO', 'Year', 'Item'], columns='Variable', values='Value')\n",
    "        data_dict.update(df_to_dict(item_df))\n",
    "\n",
    "\n",
    "    data_dict.update(df_to_dict(non_item_df))\n",
    "\n",
    "    return data_dict\n",
    "\n",
    "\n",
    "itemized = [\n",
    "    'FDKCi', 'FPi', 'FIi', 'SVi', 'FEi',\n",
    "    'FDi', 'SDi', 'FLOi', 'PDi', 'RDi', 'Food', 'FDKGi', 'NFDi',\n",
    "    'SSRi', 'KKRi', 'TCLDi', 'CYi'\n",
    "    ]\n",
    "\n",
    "#data_dict = df_to_data_dict(model_df, itemized)\n",
    "data_dict = df_to_data_dict(test, itemized)\n",
    "\n",
    "data_dict.update(df_to_data_dict(landuse, itemized=[]))\n",
    "\n",
    "data_dict['CL_baseline'] = data_dict['CL']\n",
    "data_dict['IL_baseline'] = data_dict['IL']\n",
    "data_dict['FL_baseline'] = data_dict['FL']\n",
    "data_dict['R_rate'] = pd.Series(data=0, index=data_dict['CL_baseline'].index)\n",
    "\n",
    "\n",
    "#data_dict['CL_corr_intercept'] = corrected_cl.query('name != \"comp\"').rename(columns={\"name\": 'ISO'}).set_index('ISO')['coef']\n",
    "#data_dict['CL_corr_coef'] = pd.Series(data=corrected_cl.query('name == \"comp\"')['coef'].values[0], index=data_dict['CL_corr_intercept'].index)\n",
    "data_dict['CL_corr_coef'] = 0.7\n",
    "\n",
    "data_dict['CYi'] = data_dict['CYi'].replace(0, np.nan)"
   ]
  },
  {
   "cell_type": "code",
   "execution_count": 8,
   "metadata": {
    "ExecuteTime": {
     "end_time": "2021-04-14T01:16:25.570846Z",
     "start_time": "2021-04-14T01:16:25.187689Z"
    }
   },
   "outputs": [],
   "source": [
    "ISO_data_dict = {k: v.loc[['FRA', 'HUN', 'DEU', 'NLD', 'BEL', 'CHE', 'BRA', 'SEN'], [2016, 2017, 2018], :] for k, v in data_dict.items() if k not in ['CL_corr_coef']}\n",
    "ISO_data_dict['CL_corr_coef'] = 1.4"
   ]
  },
  {
   "cell_type": "code",
   "execution_count": 9,
   "metadata": {
    "ExecuteTime": {
     "end_time": "2021-04-14T01:16:26.413052Z",
     "start_time": "2021-04-14T01:16:26.056047Z"
    }
   },
   "outputs": [
    {
     "output_type": "stream",
     "name": "stdout",
     "text": [
      "FPi\n"
     ]
    },
    {
     "output_type": "execute_result",
     "data": {
      "text/plain": [
       "         r2  correlation          rmse Variable\n",
       "0  0.044052     0.211686  4.089113e+08      FPi"
      ],
      "text/html": "<div>\n<style scoped>\n    .dataframe tbody tr th:only-of-type {\n        vertical-align: middle;\n    }\n\n    .dataframe tbody tr th {\n        vertical-align: top;\n    }\n\n    .dataframe thead th {\n        text-align: right;\n    }\n</style>\n<table border=\"1\" class=\"dataframe\">\n  <thead>\n    <tr style=\"text-align: right;\">\n      <th></th>\n      <th>r2</th>\n      <th>correlation</th>\n      <th>rmse</th>\n      <th>Variable</th>\n    </tr>\n  </thead>\n  <tbody>\n    <tr>\n      <th>0</th>\n      <td>0.044052</td>\n      <td>0.211686</td>\n      <td>4.089113e+08</td>\n      <td>FPi</td>\n    </tr>\n  </tbody>\n</table>\n</div>"
     },
     "metadata": {},
     "execution_count": 9
    }
   ],
   "source": [
    "from graphmodels.utils import get_X_y_from_data\n",
    "X, y_true = get_X_y_from_data(BE2_models['FPi_model'], ISO_data_dict)\n",
    "\n",
    "\n",
    "res = BE2_models['FPi_model'].run(X)\n",
    "score_model(BE2_models['FPi_model'], X, y_true)"
   ]
  },
  {
   "cell_type": "code",
   "execution_count": 10,
   "metadata": {
    "ExecuteTime": {
     "end_time": "2021-04-14T01:16:28.756011Z",
     "start_time": "2021-04-14T01:16:28.366067Z"
    }
   },
   "outputs": [
    {
     "output_type": "stream",
     "name": "stdout",
     "text": [
      "FPi\nTCLDi\n"
     ]
    },
    {
     "output_type": "execute_result",
     "data": {
      "text/plain": [
       "         r2  correlation          rmse Variable\n",
       "0  0.044052     0.211686  4.089113e+08      FPi\n",
       "1  0.221387     0.484529  8.646844e+12    TCLDi"
      ],
      "text/html": "<div>\n<style scoped>\n    .dataframe tbody tr th:only-of-type {\n        vertical-align: middle;\n    }\n\n    .dataframe tbody tr th {\n        vertical-align: top;\n    }\n\n    .dataframe thead th {\n        text-align: right;\n    }\n</style>\n<table border=\"1\" class=\"dataframe\">\n  <thead>\n    <tr style=\"text-align: right;\">\n      <th></th>\n      <th>r2</th>\n      <th>correlation</th>\n      <th>rmse</th>\n      <th>Variable</th>\n    </tr>\n  </thead>\n  <tbody>\n    <tr>\n      <th>0</th>\n      <td>0.044052</td>\n      <td>0.211686</td>\n      <td>4.089113e+08</td>\n      <td>FPi</td>\n    </tr>\n    <tr>\n      <th>1</th>\n      <td>0.221387</td>\n      <td>0.484529</td>\n      <td>8.646844e+12</td>\n      <td>TCLDi</td>\n    </tr>\n  </tbody>\n</table>\n</div>"
     },
     "metadata": {},
     "execution_count": 10
    }
   ],
   "source": [
    "from graphmodels.utils import get_X_y_from_data\n",
    "X, y_true = get_X_y_from_data(BE2_models['TCLDi_model'], ISO_data_dict)\n",
    "\n",
    "res = BE2_models['TCLDi_model'].run(X)\n",
    "\n",
    "score_model(BE2_models['TCLDi_model'], X, y_true)"
   ]
  },
  {
   "cell_type": "code",
   "execution_count": 11,
   "metadata": {
    "ExecuteTime": {
     "end_time": "2021-04-14T01:16:54.787371Z",
     "start_time": "2021-04-14T01:16:54.245428Z"
    }
   },
   "outputs": [
    {
     "output_type": "display_data",
     "data": {
      "application/vnd.plotly.v1+json": {
       "config": {
        "plotlyServerURL": "https://plot.ly"
       },
       "data": [
        {
         "customdata": [
          [
           "Almonds, with shell"
          ],
          [
           "Anise, badian, fennel, coriander"
          ],
          [
           "Apples"
          ],
          [
           "Apricots"
          ],
          [
           "Areca nuts"
          ],
          [
           "Artichokes"
          ],
          [
           "Asparagus"
          ],
          [
           "Avocados"
          ],
          [
           "Bambara beans"
          ],
          [
           "Bananas"
          ],
          [
           "Barley"
          ],
          [
           "Beans, dry"
          ],
          [
           "Beans, green"
          ],
          [
           "Berries nes"
          ],
          [
           "Blueberries"
          ],
          [
           "Brazil nuts, with shell"
          ],
          [
           "Broad beans, horse beans, dry"
          ],
          [
           "Buckwheat"
          ],
          [
           "Cabbages and other brassicas"
          ],
          [
           "Canary seed"
          ],
          [
           "Carobs"
          ],
          [
           "Carrots and turnips"
          ],
          [
           "Cashew nuts, with shell"
          ],
          [
           "Castor oil seed"
          ],
          [
           "Cauliflowers and broccoli"
          ],
          [
           "Cereals, Total"
          ],
          [
           "Cherries"
          ],
          [
           "Cherries, sour"
          ],
          [
           "Chestnut"
          ],
          [
           "Chick peas"
          ],
          [
           "Chicory roots"
          ],
          [
           "Chillies and peppers, dry"
          ],
          [
           "Chillies and peppers, green"
          ],
          [
           "Cinnamon (cannella)"
          ],
          [
           "Cloves"
          ],
          [
           "Cocoa, beans"
          ],
          [
           "Coconuts"
          ],
          [
           "Coffee, green"
          ],
          [
           "Cow peas, dry"
          ],
          [
           "Cranberries"
          ],
          [
           "Cucumbers and gherkins"
          ],
          [
           "Currants"
          ],
          [
           "Dates"
          ],
          [
           "Eggplants (aubergines)"
          ],
          [
           "Eggs, hen, in shell"
          ],
          [
           "Eggs, other bird, in shell"
          ],
          [
           "Fat, cattle"
          ],
          [
           "Fat, goats"
          ],
          [
           "Fat, pigs"
          ],
          [
           "Fat, sheep"
          ],
          [
           "Fibre Crops Primary"
          ],
          [
           "Figs"
          ],
          [
           "Flax fibre and tow"
          ],
          [
           "Fonio"
          ],
          [
           "Fruit Primary"
          ],
          [
           "Fruit, citrus nes"
          ],
          [
           "Fruit, fresh nes"
          ],
          [
           "Fruit, tropical fresh nes"
          ],
          [
           "Garlic"
          ],
          [
           "Ginger"
          ],
          [
           "Gooseberries"
          ],
          [
           "Grain, mixed"
          ],
          [
           "Grapefruit (inc. pomelos)"
          ],
          [
           "Grapes"
          ],
          [
           "Groundnuts, with shell"
          ],
          [
           "Hazelnuts, with shell"
          ],
          [
           "Hempseed"
          ],
          [
           "Honey, natural"
          ],
          [
           "Hops"
          ],
          [
           "Kiwi fruit"
          ],
          [
           "Kola nuts"
          ],
          [
           "Leeks, other alliaceous vegetables"
          ],
          [
           "Lemons and limes"
          ],
          [
           "Lentils"
          ],
          [
           "Lettuce and chicory"
          ],
          [
           "Linseed"
          ],
          [
           "Maize"
          ],
          [
           "Maize, green"
          ],
          [
           "Mangoes, mangosteens, guavas"
          ],
          [
           "Maté"
          ],
          [
           "Meat nes"
          ],
          [
           "Meat, bird nes"
          ],
          [
           "Meat, camel"
          ],
          [
           "Meat, cattle"
          ],
          [
           "Meat, chicken"
          ],
          [
           "Meat, duck"
          ],
          [
           "Meat, game"
          ],
          [
           "Meat, goat"
          ],
          [
           "Meat, goose and guinea fowl"
          ],
          [
           "Meat, horse"
          ],
          [
           "Meat, pig"
          ],
          [
           "Meat, rabbit"
          ],
          [
           "Meat, sheep"
          ],
          [
           "Meat, turkey"
          ],
          [
           "Melons, other (inc.cantaloupes)"
          ],
          [
           "Melonseed"
          ],
          [
           "Milk, whole fresh cow"
          ],
          [
           "Milk, whole fresh goat"
          ],
          [
           "Millet"
          ],
          [
           "Mushrooms and truffles"
          ],
          [
           "Mustard seed"
          ],
          [
           "Nutmeg, mace and cardamoms"
          ],
          [
           "Nuts nes"
          ],
          [
           "Oats"
          ],
          [
           "Offals, edible, buffaloes"
          ],
          [
           "Offals, edible, cattle"
          ],
          [
           "Offals, edible, goats"
          ],
          [
           "Offals, horses"
          ],
          [
           "Offals, liver chicken"
          ],
          [
           "Offals, liver duck"
          ],
          [
           "Offals, liver geese"
          ],
          [
           "Offals, liver turkeys"
          ],
          [
           "Offals, pigs, edible"
          ],
          [
           "Offals, sheep,edible"
          ],
          [
           "Oilcrops"
          ],
          [
           "Oilcrops, Cake Equivalent"
          ],
          [
           "Oilcrops, Oil Equivalent"
          ],
          [
           "Oilseeds nes"
          ],
          [
           "Olives"
          ],
          [
           "Onions, dry"
          ],
          [
           "Onions, shallots, green"
          ],
          [
           "Oranges"
          ],
          [
           "Papayas"
          ],
          [
           "Peaches and nectarines"
          ],
          [
           "Pears"
          ],
          [
           "Peas, dry"
          ],
          [
           "Peas, green"
          ],
          [
           "Pepper (piper spp.)"
          ],
          [
           "Persimmons"
          ],
          [
           "Pigeon peas"
          ],
          [
           "Pineapples"
          ],
          [
           "Pistachios"
          ],
          [
           "Plums and sloes"
          ],
          [
           "Poppy seed"
          ],
          [
           "Potatoes"
          ],
          [
           "Pulses nes"
          ],
          [
           "Pulses, Total"
          ],
          [
           "Pumpkins, squash and gourds"
          ],
          [
           "Quinces"
          ],
          [
           "Quinoa"
          ],
          [
           "Rapeseed"
          ],
          [
           "Raspberries"
          ],
          [
           "Rice, paddy"
          ],
          [
           "Roots and Tubers, Total"
          ],
          [
           "Roots and tubers nes"
          ],
          [
           "Rye"
          ],
          [
           "Safflower seed"
          ],
          [
           "Sesame seed"
          ],
          [
           "Snails, not sea"
          ],
          [
           "Sorghum"
          ],
          [
           "Soybeans"
          ],
          [
           "Spices nes"
          ],
          [
           "Spinach"
          ],
          [
           "Strawberries"
          ],
          [
           "Sugar Crops Primary"
          ],
          [
           "Sugar beet"
          ],
          [
           "Sugar cane"
          ],
          [
           "Sunflower seed"
          ],
          [
           "Sweet corn frozen"
          ],
          [
           "Sweet corn prep or preserved"
          ],
          [
           "Sweet potatoes"
          ],
          [
           "Tangerines, mandarins, clementines, satsumas"
          ],
          [
           "Taro (cocoyam)"
          ],
          [
           "Tea"
          ],
          [
           "Tobacco, unmanufactured"
          ],
          [
           "Tomatoes"
          ],
          [
           "Treenuts, Total"
          ],
          [
           "Triticale"
          ],
          [
           "Vanilla"
          ],
          [
           "Vegetables Primary"
          ],
          [
           "Vegetables, fresh nes"
          ],
          [
           "Vegetables, leguminous nes"
          ],
          [
           "Walnuts, with shell"
          ],
          [
           "Watermelons"
          ],
          [
           "Wheat"
          ],
          [
           "Yams"
          ],
          [
           "Yautia (cocoyam)"
          ],
          [
           "Almonds, with shell"
          ],
          [
           "Anise, badian, fennel, coriander"
          ],
          [
           "Apples"
          ],
          [
           "Apricots"
          ],
          [
           "Areca nuts"
          ],
          [
           "Artichokes"
          ],
          [
           "Asparagus"
          ],
          [
           "Avocados"
          ],
          [
           "Bambara beans"
          ],
          [
           "Bananas"
          ],
          [
           "Barley"
          ],
          [
           "Beans, dry"
          ],
          [
           "Beans, green"
          ],
          [
           "Berries nes"
          ],
          [
           "Blueberries"
          ],
          [
           "Brazil nuts, with shell"
          ],
          [
           "Broad beans, horse beans, dry"
          ],
          [
           "Buckwheat"
          ],
          [
           "Cabbages and other brassicas"
          ],
          [
           "Canary seed"
          ],
          [
           "Carobs"
          ],
          [
           "Carrots and turnips"
          ],
          [
           "Cashew nuts, with shell"
          ],
          [
           "Castor oil seed"
          ],
          [
           "Cauliflowers and broccoli"
          ],
          [
           "Cereals, Total"
          ],
          [
           "Cherries"
          ],
          [
           "Cherries, sour"
          ],
          [
           "Chestnut"
          ],
          [
           "Chick peas"
          ],
          [
           "Chicory roots"
          ],
          [
           "Chillies and peppers, dry"
          ],
          [
           "Chillies and peppers, green"
          ],
          [
           "Cinnamon (cannella)"
          ],
          [
           "Cloves"
          ],
          [
           "Cocoa, beans"
          ],
          [
           "Coconuts"
          ],
          [
           "Coffee, green"
          ],
          [
           "Cow peas, dry"
          ],
          [
           "Cranberries"
          ],
          [
           "Cucumbers and gherkins"
          ],
          [
           "Currants"
          ],
          [
           "Dates"
          ],
          [
           "Eggplants (aubergines)"
          ],
          [
           "Eggs, hen, in shell"
          ],
          [
           "Eggs, other bird, in shell"
          ],
          [
           "Fat, cattle"
          ],
          [
           "Fat, goats"
          ],
          [
           "Fat, pigs"
          ],
          [
           "Fat, sheep"
          ],
          [
           "Fibre Crops Primary"
          ],
          [
           "Figs"
          ],
          [
           "Flax fibre and tow"
          ],
          [
           "Fonio"
          ],
          [
           "Fruit Primary"
          ],
          [
           "Fruit, citrus nes"
          ],
          [
           "Fruit, fresh nes"
          ],
          [
           "Fruit, tropical fresh nes"
          ],
          [
           "Garlic"
          ],
          [
           "Ginger"
          ],
          [
           "Gooseberries"
          ],
          [
           "Grain, mixed"
          ],
          [
           "Grapefruit (inc. pomelos)"
          ],
          [
           "Grapes"
          ],
          [
           "Groundnuts, with shell"
          ],
          [
           "Hazelnuts, with shell"
          ],
          [
           "Hempseed"
          ],
          [
           "Honey, natural"
          ],
          [
           "Hops"
          ],
          [
           "Kiwi fruit"
          ],
          [
           "Kola nuts"
          ],
          [
           "Leeks, other alliaceous vegetables"
          ],
          [
           "Lemons and limes"
          ],
          [
           "Lentils"
          ],
          [
           "Lettuce and chicory"
          ],
          [
           "Linseed"
          ],
          [
           "Maize"
          ],
          [
           "Maize, green"
          ],
          [
           "Mangoes, mangosteens, guavas"
          ],
          [
           "Maté"
          ],
          [
           "Meat nes"
          ],
          [
           "Meat, bird nes"
          ],
          [
           "Meat, camel"
          ],
          [
           "Meat, cattle"
          ],
          [
           "Meat, chicken"
          ],
          [
           "Meat, duck"
          ],
          [
           "Meat, game"
          ],
          [
           "Meat, goat"
          ],
          [
           "Meat, goose and guinea fowl"
          ],
          [
           "Meat, horse"
          ],
          [
           "Meat, pig"
          ],
          [
           "Meat, rabbit"
          ],
          [
           "Meat, sheep"
          ],
          [
           "Meat, turkey"
          ],
          [
           "Melons, other (inc.cantaloupes)"
          ],
          [
           "Melonseed"
          ],
          [
           "Milk, whole fresh cow"
          ],
          [
           "Milk, whole fresh goat"
          ],
          [
           "Millet"
          ],
          [
           "Mushrooms and truffles"
          ],
          [
           "Mustard seed"
          ],
          [
           "Nutmeg, mace and cardamoms"
          ],
          [
           "Nuts nes"
          ],
          [
           "Oats"
          ],
          [
           "Offals nes"
          ],
          [
           "Offals, edible, buffaloes"
          ],
          [
           "Offals, edible, cattle"
          ],
          [
           "Offals, edible, goats"
          ],
          [
           "Offals, horses"
          ],
          [
           "Offals, liver chicken"
          ],
          [
           "Offals, liver duck"
          ],
          [
           "Offals, liver geese"
          ],
          [
           "Offals, liver turkeys"
          ],
          [
           "Offals, pigs, edible"
          ],
          [
           "Offals, sheep,edible"
          ],
          [
           "Oilcrops"
          ],
          [
           "Oilcrops, Cake Equivalent"
          ],
          [
           "Oilcrops, Oil Equivalent"
          ],
          [
           "Oilseeds nes"
          ],
          [
           "Olives"
          ],
          [
           "Onions, dry"
          ],
          [
           "Onions, shallots, green"
          ],
          [
           "Oranges"
          ],
          [
           "Papayas"
          ],
          [
           "Peaches and nectarines"
          ],
          [
           "Pears"
          ],
          [
           "Peas, dry"
          ],
          [
           "Peas, green"
          ],
          [
           "Pepper (piper spp.)"
          ],
          [
           "Persimmons"
          ],
          [
           "Pigeon peas"
          ],
          [
           "Pineapples"
          ],
          [
           "Pistachios"
          ],
          [
           "Plantains and others"
          ],
          [
           "Plums and sloes"
          ],
          [
           "Poppy seed"
          ],
          [
           "Potatoes"
          ],
          [
           "Pulses nes"
          ],
          [
           "Pulses, Total"
          ],
          [
           "Pumpkins, squash and gourds"
          ],
          [
           "Quinces"
          ],
          [
           "Quinoa"
          ],
          [
           "Rapeseed"
          ],
          [
           "Raspberries"
          ],
          [
           "Rice, paddy"
          ],
          [
           "Roots and Tubers, Total"
          ],
          [
           "Roots and tubers nes"
          ],
          [
           "Rye"
          ],
          [
           "Safflower seed"
          ],
          [
           "Sesame seed"
          ],
          [
           "Snails, not sea"
          ],
          [
           "Sorghum"
          ],
          [
           "Soybeans"
          ],
          [
           "Spices nes"
          ],
          [
           "Spinach"
          ],
          [
           "Strawberries"
          ],
          [
           "Sugar Crops Primary"
          ],
          [
           "Sugar beet"
          ],
          [
           "Sugar cane"
          ],
          [
           "Sunflower seed"
          ],
          [
           "Sweet corn frozen"
          ],
          [
           "Sweet corn prep or preserved"
          ],
          [
           "Sweet potatoes"
          ],
          [
           "Tangerines, mandarins, clementines, satsumas"
          ],
          [
           "Taro (cocoyam)"
          ],
          [
           "Tea"
          ],
          [
           "Tobacco, unmanufactured"
          ],
          [
           "Tomatoes"
          ],
          [
           "Treenuts, Total"
          ],
          [
           "Triticale"
          ],
          [
           "Vanilla"
          ],
          [
           "Vegetables Primary"
          ],
          [
           "Vegetables, fresh nes"
          ],
          [
           "Vegetables, leguminous nes"
          ],
          [
           "Walnuts, with shell"
          ],
          [
           "Watermelons"
          ],
          [
           "Wheat"
          ],
          [
           "Yams"
          ],
          [
           "Yautia (cocoyam)"
          ],
          [
           "Almonds, with shell"
          ],
          [
           "Anise, badian, fennel, coriander"
          ],
          [
           "Apples"
          ],
          [
           "Apricots"
          ],
          [
           "Areca nuts"
          ],
          [
           "Artichokes"
          ],
          [
           "Asparagus"
          ],
          [
           "Avocados"
          ],
          [
           "Bambara beans"
          ],
          [
           "Bananas"
          ],
          [
           "Barley"
          ],
          [
           "Beans, dry"
          ],
          [
           "Beans, green"
          ],
          [
           "Blueberries"
          ],
          [
           "Brazil nuts, with shell"
          ],
          [
           "Broad beans, horse beans, dry"
          ],
          [
           "Buckwheat"
          ],
          [
           "Cabbages and other brassicas"
          ],
          [
           "Canary seed"
          ],
          [
           "Carobs"
          ],
          [
           "Carrots and turnips"
          ],
          [
           "Cashew nuts, with shell"
          ],
          [
           "Castor oil seed"
          ],
          [
           "Cauliflowers and broccoli"
          ],
          [
           "Cereals nes"
          ],
          [
           "Cereals, Total"
          ],
          [
           "Cherries"
          ],
          [
           "Cherries, sour"
          ],
          [
           "Chestnut"
          ],
          [
           "Chick peas"
          ],
          [
           "Chicory roots"
          ],
          [
           "Chillies and peppers, dry"
          ],
          [
           "Chillies and peppers, green"
          ],
          [
           "Cinnamon (cannella)"
          ],
          [
           "Citrus Fruit, Total"
          ],
          [
           "Cloves"
          ],
          [
           "Cocoa, beans"
          ],
          [
           "Coconuts"
          ],
          [
           "Coffee, green"
          ],
          [
           "Cow peas, dry"
          ],
          [
           "Cranberries"
          ],
          [
           "Cucumbers and gherkins"
          ],
          [
           "Currants"
          ],
          [
           "Dates"
          ],
          [
           "Eggplants (aubergines)"
          ],
          [
           "Eggs, hen, in shell"
          ],
          [
           "Eggs, other bird, in shell"
          ],
          [
           "Fat, cattle"
          ],
          [
           "Fat, goats"
          ],
          [
           "Fat, pigs"
          ],
          [
           "Fat, sheep"
          ],
          [
           "Fibre Crops Primary"
          ],
          [
           "Figs"
          ],
          [
           "Flax fibre and tow"
          ],
          [
           "Fonio"
          ],
          [
           "Fruit Primary"
          ],
          [
           "Fruit, citrus nes"
          ],
          [
           "Fruit, fresh nes"
          ],
          [
           "Fruit, pome nes"
          ],
          [
           "Fruit, tropical fresh nes"
          ],
          [
           "Garlic"
          ],
          [
           "Ginger"
          ],
          [
           "Gooseberries"
          ],
          [
           "Grain, mixed"
          ],
          [
           "Grapefruit (inc. pomelos)"
          ],
          [
           "Grapes"
          ],
          [
           "Groundnuts, with shell"
          ],
          [
           "Hazelnuts, with shell"
          ],
          [
           "Hemp tow waste"
          ],
          [
           "Hempseed"
          ],
          [
           "Honey, natural"
          ],
          [
           "Hops"
          ],
          [
           "Kiwi fruit"
          ],
          [
           "Kola nuts"
          ],
          [
           "Leeks, other alliaceous vegetables"
          ],
          [
           "Lemons and limes"
          ],
          [
           "Lentils"
          ],
          [
           "Lettuce and chicory"
          ],
          [
           "Linseed"
          ],
          [
           "Maize"
          ],
          [
           "Maize, green"
          ],
          [
           "Mangoes, mangosteens, guavas"
          ],
          [
           "Maté"
          ],
          [
           "Meat nes"
          ],
          [
           "Meat, bird nes"
          ],
          [
           "Meat, camel"
          ],
          [
           "Meat, cattle"
          ],
          [
           "Meat, chicken"
          ],
          [
           "Meat, duck"
          ],
          [
           "Meat, game"
          ],
          [
           "Meat, goat"
          ],
          [
           "Meat, goose and guinea fowl"
          ],
          [
           "Meat, horse"
          ],
          [
           "Meat, pig"
          ],
          [
           "Meat, rabbit"
          ],
          [
           "Meat, sheep"
          ],
          [
           "Meat, turkey"
          ],
          [
           "Melons, other (inc.cantaloupes)"
          ],
          [
           "Melonseed"
          ],
          [
           "Milk, whole fresh cow"
          ],
          [
           "Milk, whole fresh goat"
          ],
          [
           "Millet"
          ],
          [
           "Mushrooms and truffles"
          ],
          [
           "Mustard seed"
          ],
          [
           "Nutmeg, mace and cardamoms"
          ],
          [
           "Nuts nes"
          ],
          [
           "Oats"
          ],
          [
           "Offals, edible, buffaloes"
          ],
          [
           "Offals, edible, cattle"
          ],
          [
           "Offals, edible, goats"
          ],
          [
           "Offals, liver chicken"
          ],
          [
           "Offals, liver duck"
          ],
          [
           "Offals, liver geese"
          ],
          [
           "Offals, liver turkeys"
          ],
          [
           "Offals, pigs, edible"
          ],
          [
           "Offals, sheep,edible"
          ],
          [
           "Oilcrops"
          ],
          [
           "Oilcrops, Cake Equivalent"
          ],
          [
           "Oilcrops, Oil Equivalent"
          ],
          [
           "Oilseeds nes"
          ],
          [
           "Olives"
          ],
          [
           "Onions, dry"
          ],
          [
           "Onions, shallots, green"
          ],
          [
           "Oranges"
          ],
          [
           "Papayas"
          ],
          [
           "Peaches and nectarines"
          ],
          [
           "Pears"
          ],
          [
           "Peas, dry"
          ],
          [
           "Peas, green"
          ],
          [
           "Pepper (piper spp.)"
          ],
          [
           "Persimmons"
          ],
          [
           "Pigeon peas"
          ],
          [
           "Pineapples"
          ],
          [
           "Pistachios"
          ],
          [
           "Plantains and others"
          ],
          [
           "Plums and sloes"
          ],
          [
           "Poppy seed"
          ],
          [
           "Potatoes"
          ],
          [
           "Pulses nes"
          ],
          [
           "Pulses, Total"
          ],
          [
           "Pumpkins, squash and gourds"
          ],
          [
           "Quinces"
          ],
          [
           "Quinoa"
          ],
          [
           "Rapeseed"
          ],
          [
           "Raspberries"
          ],
          [
           "Rice, paddy"
          ],
          [
           "Roots and Tubers, Total"
          ],
          [
           "Roots and tubers nes"
          ],
          [
           "Rye"
          ],
          [
           "Safflower seed"
          ],
          [
           "Sesame seed"
          ],
          [
           "Snails, not sea"
          ],
          [
           "Sorghum"
          ],
          [
           "Soybeans"
          ],
          [
           "Spices nes"
          ],
          [
           "Spinach"
          ],
          [
           "Strawberries"
          ],
          [
           "Sugar Crops Primary"
          ],
          [
           "Sugar beet"
          ],
          [
           "Sugar cane"
          ],
          [
           "Sunflower seed"
          ],
          [
           "Sweet corn frozen"
          ],
          [
           "Sweet corn prep or preserved"
          ],
          [
           "Sweet potatoes"
          ],
          [
           "Tangerines, mandarins, clementines, satsumas"
          ],
          [
           "Taro (cocoyam)"
          ],
          [
           "Tea"
          ],
          [
           "Tobacco, unmanufactured"
          ],
          [
           "Tomatoes"
          ],
          [
           "Treenuts, Total"
          ],
          [
           "Triticale"
          ],
          [
           "Vanilla"
          ],
          [
           "Vegetables Primary"
          ],
          [
           "Vegetables, fresh nes"
          ],
          [
           "Vegetables, leguminous nes"
          ],
          [
           "Walnuts, with shell"
          ],
          [
           "Watermelons"
          ],
          [
           "Wheat"
          ],
          [
           "Yams"
          ],
          [
           "Yautia (cocoyam)"
          ],
          [
           "Almonds, with shell"
          ],
          [
           "Anise, badian, fennel, coriander"
          ],
          [
           "Apples"
          ],
          [
           "Apricots"
          ],
          [
           "Artichokes"
          ],
          [
           "Asparagus"
          ],
          [
           "Avocados"
          ],
          [
           "Bananas"
          ],
          [
           "Barley"
          ],
          [
           "Bastfibres, other"
          ],
          [
           "Beans, dry"
          ],
          [
           "Beans, green"
          ],
          [
           "Berries nes"
          ],
          [
           "Brazil nuts, with shell"
          ],
          [
           "Broad beans, horse beans, dry"
          ],
          [
           "Buckwheat"
          ],
          [
           "Cabbages and other brassicas"
          ],
          [
           "Canary seed"
          ],
          [
           "Carobs"
          ],
          [
           "Carrots and turnips"
          ],
          [
           "Cashew nuts, with shell"
          ],
          [
           "Cashewapple"
          ],
          [
           "Cassava"
          ],
          [
           "Castor oil seed"
          ],
          [
           "Cauliflowers and broccoli"
          ],
          [
           "Cereals nes"
          ],
          [
           "Cereals, Total"
          ],
          [
           "Cherries"
          ],
          [
           "Cherries, sour"
          ],
          [
           "Chestnut"
          ],
          [
           "Chick peas"
          ],
          [
           "Chillies and peppers, dry"
          ],
          [
           "Chillies and peppers, green"
          ],
          [
           "Cinnamon (cannella)"
          ],
          [
           "Citrus Fruit, Total"
          ],
          [
           "Cloves"
          ],
          [
           "Cocoa, beans"
          ],
          [
           "Coconuts"
          ],
          [
           "Coffee, green"
          ],
          [
           "Cow peas, dry"
          ],
          [
           "Cucumbers and gherkins"
          ],
          [
           "Currants"
          ],
          [
           "Dates"
          ],
          [
           "Eggplants (aubergines)"
          ],
          [
           "Eggs, hen, in shell"
          ],
          [
           "Eggs, other bird, in shell"
          ],
          [
           "Fat, cattle"
          ],
          [
           "Fat, goats"
          ],
          [
           "Fat, pigs"
          ],
          [
           "Fat, sheep"
          ],
          [
           "Fibre Crops Primary"
          ],
          [
           "Figs"
          ],
          [
           "Fruit Primary"
          ],
          [
           "Fruit, citrus nes"
          ],
          [
           "Fruit, fresh nes"
          ],
          [
           "Fruit, stone nes"
          ],
          [
           "Fruit, tropical fresh nes"
          ],
          [
           "Garlic"
          ],
          [
           "Ginger"
          ],
          [
           "Grapefruit (inc. pomelos)"
          ],
          [
           "Grapes"
          ],
          [
           "Groundnuts, with shell"
          ],
          [
           "Hazelnuts, with shell"
          ],
          [
           "Honey, natural"
          ],
          [
           "Jute"
          ],
          [
           "Kiwi fruit"
          ],
          [
           "Kola nuts"
          ],
          [
           "Lemons and limes"
          ],
          [
           "Lentils"
          ],
          [
           "Lettuce and chicory"
          ],
          [
           "Linseed"
          ],
          [
           "Maize"
          ],
          [
           "Maize, green"
          ],
          [
           "Mangoes, mangosteens, guavas"
          ],
          [
           "Maté"
          ],
          [
           "Meat nes"
          ],
          [
           "Meat, cattle"
          ],
          [
           "Meat, chicken"
          ],
          [
           "Meat, duck"
          ],
          [
           "Meat, goat"
          ],
          [
           "Meat, horse"
          ],
          [
           "Meat, pig"
          ],
          [
           "Meat, rabbit"
          ],
          [
           "Meat, sheep"
          ],
          [
           "Meat, turkey"
          ],
          [
           "Melons, other (inc.cantaloupes)"
          ],
          [
           "Melonseed"
          ],
          [
           "Milk, whole fresh cow"
          ],
          [
           "Milk, whole fresh goat"
          ],
          [
           "Millet"
          ],
          [
           "Mushrooms and truffles"
          ],
          [
           "Mustard seed"
          ],
          [
           "Nutmeg, mace and cardamoms"
          ],
          [
           "Nuts nes"
          ],
          [
           "Oats"
          ],
          [
           "Offals, edible, cattle"
          ],
          [
           "Offals, edible, goats"
          ],
          [
           "Offals, horses"
          ],
          [
           "Offals, liver chicken"
          ],
          [
           "Offals, pigs, edible"
          ],
          [
           "Offals, sheep,edible"
          ],
          [
           "Oil palm fruit"
          ],
          [
           "Oilcrops"
          ],
          [
           "Oilcrops, Cake Equivalent"
          ],
          [
           "Oilcrops, Oil Equivalent"
          ],
          [
           "Oilseeds nes"
          ],
          [
           "Olives"
          ],
          [
           "Onions, dry"
          ],
          [
           "Onions, shallots, green"
          ],
          [
           "Oranges"
          ],
          [
           "Papayas"
          ],
          [
           "Peaches and nectarines"
          ],
          [
           "Pears"
          ],
          [
           "Peas, dry"
          ],
          [
           "Peas, green"
          ],
          [
           "Pepper (piper spp.)"
          ],
          [
           "Persimmons"
          ],
          [
           "Pigeon peas"
          ],
          [
           "Pineapples"
          ],
          [
           "Pistachios"
          ],
          [
           "Plantains and others"
          ],
          [
           "Plums and sloes"
          ],
          [
           "Poppy seed"
          ],
          [
           "Potatoes"
          ],
          [
           "Pulses nes"
          ],
          [
           "Pulses, Total"
          ],
          [
           "Pumpkins, squash and gourds"
          ],
          [
           "Pyrethrum, dried"
          ],
          [
           "Quinces"
          ],
          [
           "Quinoa"
          ],
          [
           "Ramie"
          ],
          [
           "Rapeseed"
          ],
          [
           "Raspberries"
          ],
          [
           "Rice, paddy"
          ],
          [
           "Roots and Tubers, Total"
          ],
          [
           "Roots and tubers nes"
          ],
          [
           "Rubber, natural"
          ],
          [
           "Rye"
          ],
          [
           "Safflower seed"
          ],
          [
           "Seed cotton"
          ],
          [
           "Sesame seed"
          ],
          [
           "Sisal"
          ],
          [
           "Snails, not sea"
          ],
          [
           "Sorghum"
          ],
          [
           "Soybeans"
          ],
          [
           "Spices nes"
          ],
          [
           "Spinach"
          ],
          [
           "Strawberries"
          ],
          [
           "Sugar Crops Primary"
          ],
          [
           "Sugar beet"
          ],
          [
           "Sugar cane"
          ],
          [
           "Sunflower seed"
          ],
          [
           "Sweet corn frozen"
          ],
          [
           "Sweet corn prep or preserved"
          ],
          [
           "Sweet potatoes"
          ],
          [
           "Tangerines, mandarins, clementines, satsumas"
          ],
          [
           "Taro (cocoyam)"
          ],
          [
           "Tea"
          ],
          [
           "Tobacco, unmanufactured"
          ],
          [
           "Tomatoes"
          ],
          [
           "Treenuts, Total"
          ],
          [
           "Triticale"
          ],
          [
           "Tung nuts"
          ],
          [
           "Vanilla"
          ],
          [
           "Vegetables Primary"
          ],
          [
           "Vegetables, fresh nes"
          ],
          [
           "Vegetables, leguminous nes"
          ],
          [
           "Walnuts, with shell"
          ],
          [
           "Watermelons"
          ],
          [
           "Wheat"
          ],
          [
           "Yams"
          ],
          [
           "Yautia (cocoyam)"
          ],
          [
           "Almonds, with shell"
          ],
          [
           "Anise, badian, fennel, coriander"
          ],
          [
           "Apples"
          ],
          [
           "Apricots"
          ],
          [
           "Artichokes"
          ],
          [
           "Asparagus"
          ],
          [
           "Avocados"
          ],
          [
           "Bananas"
          ],
          [
           "Barley"
          ],
          [
           "Bastfibres, other"
          ],
          [
           "Beans, dry"
          ],
          [
           "Beans, green"
          ],
          [
           "Berries nes"
          ],
          [
           "Brazil nuts, with shell"
          ],
          [
           "Broad beans, horse beans, dry"
          ],
          [
           "Buckwheat"
          ],
          [
           "Cabbages and other brassicas"
          ],
          [
           "Canary seed"
          ],
          [
           "Carobs"
          ],
          [
           "Carrots and turnips"
          ],
          [
           "Cashew nuts, with shell"
          ],
          [
           "Cashewapple"
          ],
          [
           "Cassava"
          ],
          [
           "Castor oil seed"
          ],
          [
           "Cauliflowers and broccoli"
          ],
          [
           "Cereals nes"
          ],
          [
           "Cereals, Total"
          ],
          [
           "Cherries"
          ],
          [
           "Cherries, sour"
          ],
          [
           "Chestnut"
          ],
          [
           "Chick peas"
          ],
          [
           "Chillies and peppers, dry"
          ],
          [
           "Chillies and peppers, green"
          ],
          [
           "Cinnamon (cannella)"
          ],
          [
           "Citrus Fruit, Total"
          ],
          [
           "Cloves"
          ],
          [
           "Cocoa, beans"
          ],
          [
           "Coconuts"
          ],
          [
           "Coffee, green"
          ],
          [
           "Cow peas, dry"
          ],
          [
           "Cucumbers and gherkins"
          ],
          [
           "Currants"
          ],
          [
           "Dates"
          ],
          [
           "Eggplants (aubergines)"
          ],
          [
           "Eggs, hen, in shell"
          ],
          [
           "Eggs, other bird, in shell"
          ],
          [
           "Fat, cattle"
          ],
          [
           "Fat, goats"
          ],
          [
           "Fat, pigs"
          ],
          [
           "Fat, sheep"
          ],
          [
           "Fibre Crops Primary"
          ],
          [
           "Figs"
          ],
          [
           "Fruit Primary"
          ],
          [
           "Fruit, citrus nes"
          ],
          [
           "Fruit, fresh nes"
          ],
          [
           "Fruit, stone nes"
          ],
          [
           "Fruit, tropical fresh nes"
          ],
          [
           "Garlic"
          ],
          [
           "Ginger"
          ],
          [
           "Grapefruit (inc. pomelos)"
          ],
          [
           "Grapes"
          ],
          [
           "Groundnuts, with shell"
          ],
          [
           "Hazelnuts, with shell"
          ],
          [
           "Honey, natural"
          ],
          [
           "Jute"
          ],
          [
           "Kiwi fruit"
          ],
          [
           "Kola nuts"
          ],
          [
           "Leeks, other alliaceous vegetables"
          ],
          [
           "Lemons and limes"
          ],
          [
           "Lentils"
          ],
          [
           "Lettuce and chicory"
          ],
          [
           "Linseed"
          ],
          [
           "Maize"
          ],
          [
           "Maize, green"
          ],
          [
           "Mangoes, mangosteens, guavas"
          ],
          [
           "Maté"
          ],
          [
           "Meat nes"
          ],
          [
           "Meat, cattle"
          ],
          [
           "Meat, chicken"
          ],
          [
           "Meat, duck"
          ],
          [
           "Meat, goat"
          ],
          [
           "Meat, goose and guinea fowl"
          ],
          [
           "Meat, horse"
          ],
          [
           "Meat, pig"
          ],
          [
           "Meat, rabbit"
          ],
          [
           "Meat, sheep"
          ],
          [
           "Meat, turkey"
          ],
          [
           "Melons, other (inc.cantaloupes)"
          ],
          [
           "Melonseed"
          ],
          [
           "Milk, whole fresh cow"
          ],
          [
           "Milk, whole fresh goat"
          ],
          [
           "Millet"
          ],
          [
           "Mustard seed"
          ],
          [
           "Nutmeg, mace and cardamoms"
          ],
          [
           "Nuts nes"
          ],
          [
           "Oats"
          ],
          [
           "Offals, edible, cattle"
          ],
          [
           "Offals, edible, goats"
          ],
          [
           "Offals, horses"
          ],
          [
           "Offals, liver chicken"
          ],
          [
           "Offals, pigs, edible"
          ],
          [
           "Offals, sheep,edible"
          ],
          [
           "Oil palm fruit"
          ],
          [
           "Oilcrops"
          ],
          [
           "Oilcrops, Cake Equivalent"
          ],
          [
           "Oilcrops, Oil Equivalent"
          ],
          [
           "Oilseeds nes"
          ],
          [
           "Olives"
          ],
          [
           "Onions, dry"
          ],
          [
           "Onions, shallots, green"
          ],
          [
           "Oranges"
          ],
          [
           "Papayas"
          ],
          [
           "Peaches and nectarines"
          ],
          [
           "Pears"
          ],
          [
           "Peas, dry"
          ],
          [
           "Peas, green"
          ],
          [
           "Pepper (piper spp.)"
          ],
          [
           "Persimmons"
          ],
          [
           "Pigeon peas"
          ],
          [
           "Pineapples"
          ],
          [
           "Pistachios"
          ],
          [
           "Plantains and others"
          ],
          [
           "Plums and sloes"
          ],
          [
           "Poppy seed"
          ],
          [
           "Potatoes"
          ],
          [
           "Pulses nes"
          ],
          [
           "Pulses, Total"
          ],
          [
           "Pumpkins, squash and gourds"
          ],
          [
           "Pyrethrum, dried"
          ],
          [
           "Quinces"
          ],
          [
           "Quinoa"
          ],
          [
           "Ramie"
          ],
          [
           "Rapeseed"
          ],
          [
           "Raspberries"
          ],
          [
           "Rice, paddy"
          ],
          [
           "Roots and Tubers, Total"
          ],
          [
           "Roots and tubers nes"
          ],
          [
           "Rubber, natural"
          ],
          [
           "Rye"
          ],
          [
           "Safflower seed"
          ],
          [
           "Seed cotton"
          ],
          [
           "Sesame seed"
          ],
          [
           "Sisal"
          ],
          [
           "Snails, not sea"
          ],
          [
           "Sorghum"
          ],
          [
           "Soybeans"
          ],
          [
           "Spices nes"
          ],
          [
           "Spinach"
          ],
          [
           "Strawberries"
          ],
          [
           "Sugar Crops Primary"
          ],
          [
           "Sugar beet"
          ],
          [
           "Sugar cane"
          ],
          [
           "Sunflower seed"
          ],
          [
           "Sweet corn frozen"
          ],
          [
           "Sweet corn prep or preserved"
          ],
          [
           "Sweet potatoes"
          ],
          [
           "Tangerines, mandarins, clementines, satsumas"
          ],
          [
           "Taro (cocoyam)"
          ],
          [
           "Tea"
          ],
          [
           "Tobacco, unmanufactured"
          ],
          [
           "Tomatoes"
          ],
          [
           "Treenuts, Total"
          ],
          [
           "Triticale"
          ],
          [
           "Tung nuts"
          ],
          [
           "Vanilla"
          ],
          [
           "Vegetables Primary"
          ],
          [
           "Vegetables, fresh nes"
          ],
          [
           "Vegetables, leguminous nes"
          ],
          [
           "Walnuts, with shell"
          ],
          [
           "Watermelons"
          ],
          [
           "Wheat"
          ],
          [
           "Yams"
          ],
          [
           "Almonds, with shell"
          ],
          [
           "Anise, badian, fennel, coriander"
          ],
          [
           "Apples"
          ],
          [
           "Apricots"
          ],
          [
           "Areca nuts"
          ],
          [
           "Artichokes"
          ],
          [
           "Asparagus"
          ],
          [
           "Avocados"
          ],
          [
           "Bananas"
          ],
          [
           "Barley"
          ],
          [
           "Bastfibres, other"
          ],
          [
           "Beans, dry"
          ],
          [
           "Beans, green"
          ],
          [
           "Berries nes"
          ],
          [
           "Brazil nuts, with shell"
          ],
          [
           "Broad beans, horse beans, dry"
          ],
          [
           "Buckwheat"
          ],
          [
           "Cabbages and other brassicas"
          ],
          [
           "Canary seed"
          ],
          [
           "Carobs"
          ],
          [
           "Cashew nuts, with shell"
          ],
          [
           "Cashewapple"
          ],
          [
           "Cassava"
          ],
          [
           "Castor oil seed"
          ],
          [
           "Cauliflowers and broccoli"
          ],
          [
           "Cereals nes"
          ],
          [
           "Cereals, Total"
          ],
          [
           "Cherries"
          ],
          [
           "Cherries, sour"
          ],
          [
           "Chestnut"
          ],
          [
           "Chick peas"
          ],
          [
           "Chicory roots"
          ],
          [
           "Chillies and peppers, dry"
          ],
          [
           "Chillies and peppers, green"
          ],
          [
           "Cinnamon (cannella)"
          ],
          [
           "Citrus Fruit, Total"
          ],
          [
           "Cloves"
          ],
          [
           "Cocoa, beans"
          ],
          [
           "Coconuts"
          ],
          [
           "Coffee, green"
          ],
          [
           "Cow peas, dry"
          ],
          [
           "Cucumbers and gherkins"
          ],
          [
           "Currants"
          ],
          [
           "Dates"
          ],
          [
           "Eggplants (aubergines)"
          ],
          [
           "Eggs, hen, in shell"
          ],
          [
           "Eggs, other bird, in shell"
          ],
          [
           "Fat, cattle"
          ],
          [
           "Fat, goats"
          ],
          [
           "Fat, pigs"
          ],
          [
           "Fat, sheep"
          ],
          [
           "Fibre Crops Primary"
          ],
          [
           "Figs"
          ],
          [
           "Fruit Primary"
          ],
          [
           "Fruit, citrus nes"
          ],
          [
           "Fruit, fresh nes"
          ],
          [
           "Fruit, stone nes"
          ],
          [
           "Fruit, tropical fresh nes"
          ],
          [
           "Garlic"
          ],
          [
           "Ginger"
          ],
          [
           "Grapefruit (inc. pomelos)"
          ],
          [
           "Grapes"
          ],
          [
           "Groundnuts, with shell"
          ],
          [
           "Hazelnuts, with shell"
          ],
          [
           "Honey, natural"
          ],
          [
           "Jute"
          ],
          [
           "Kiwi fruit"
          ],
          [
           "Kola nuts"
          ],
          [
           "Lemons and limes"
          ],
          [
           "Lentils"
          ],
          [
           "Lettuce and chicory"
          ],
          [
           "Linseed"
          ],
          [
           "Maize"
          ],
          [
           "Maize, green"
          ],
          [
           "Mangoes, mangosteens, guavas"
          ],
          [
           "Maté"
          ],
          [
           "Meat nes"
          ],
          [
           "Meat, cattle"
          ],
          [
           "Meat, chicken"
          ],
          [
           "Meat, duck"
          ],
          [
           "Meat, goat"
          ],
          [
           "Meat, horse"
          ],
          [
           "Meat, pig"
          ],
          [
           "Meat, rabbit"
          ],
          [
           "Meat, sheep"
          ],
          [
           "Meat, turkey"
          ],
          [
           "Melons, other (inc.cantaloupes)"
          ],
          [
           "Melonseed"
          ],
          [
           "Milk, whole fresh cow"
          ],
          [
           "Milk, whole fresh goat"
          ],
          [
           "Millet"
          ],
          [
           "Mustard seed"
          ],
          [
           "Nutmeg, mace and cardamoms"
          ],
          [
           "Nuts nes"
          ],
          [
           "Oats"
          ],
          [
           "Offals, edible, cattle"
          ],
          [
           "Offals, edible, goats"
          ],
          [
           "Offals, horses"
          ],
          [
           "Offals, liver chicken"
          ],
          [
           "Offals, pigs, edible"
          ],
          [
           "Offals, sheep,edible"
          ],
          [
           "Oil palm fruit"
          ],
          [
           "Oilcrops"
          ],
          [
           "Oilcrops, Cake Equivalent"
          ],
          [
           "Oilcrops, Oil Equivalent"
          ],
          [
           "Oilseeds nes"
          ],
          [
           "Olives"
          ],
          [
           "Onions, dry"
          ],
          [
           "Onions, shallots, green"
          ],
          [
           "Oranges"
          ],
          [
           "Papayas"
          ],
          [
           "Peaches and nectarines"
          ],
          [
           "Pears"
          ],
          [
           "Peas, dry"
          ],
          [
           "Peas, green"
          ],
          [
           "Pepper (piper spp.)"
          ],
          [
           "Persimmons"
          ],
          [
           "Pigeon peas"
          ],
          [
           "Pineapples"
          ],
          [
           "Pistachios"
          ],
          [
           "Plantains and others"
          ],
          [
           "Plums and sloes"
          ],
          [
           "Poppy seed"
          ],
          [
           "Potatoes"
          ],
          [
           "Pulses nes"
          ],
          [
           "Pulses, Total"
          ],
          [
           "Pumpkins, squash and gourds"
          ],
          [
           "Pyrethrum, dried"
          ],
          [
           "Quinces"
          ],
          [
           "Quinoa"
          ],
          [
           "Ramie"
          ],
          [
           "Rapeseed"
          ],
          [
           "Raspberries"
          ],
          [
           "Rice, paddy"
          ],
          [
           "Roots and Tubers, Total"
          ],
          [
           "Roots and tubers nes"
          ],
          [
           "Rubber, natural"
          ],
          [
           "Rye"
          ],
          [
           "Safflower seed"
          ],
          [
           "Seed cotton"
          ],
          [
           "Sesame seed"
          ],
          [
           "Sisal"
          ],
          [
           "Snails, not sea"
          ],
          [
           "Sorghum"
          ],
          [
           "Soybeans"
          ],
          [
           "Spices nes"
          ],
          [
           "Spinach"
          ],
          [
           "Strawberries"
          ],
          [
           "Sugar Crops Primary"
          ],
          [
           "Sugar beet"
          ],
          [
           "Sugar cane"
          ],
          [
           "Sunflower seed"
          ],
          [
           "Sweet corn frozen"
          ],
          [
           "Sweet corn prep or preserved"
          ],
          [
           "Sweet potatoes"
          ],
          [
           "Tangerines, mandarins, clementines, satsumas"
          ],
          [
           "Taro (cocoyam)"
          ],
          [
           "Tea"
          ],
          [
           "Tobacco, unmanufactured"
          ],
          [
           "Tomatoes"
          ],
          [
           "Treenuts, Total"
          ],
          [
           "Triticale"
          ],
          [
           "Tung nuts"
          ],
          [
           "Vanilla"
          ],
          [
           "Vegetables Primary"
          ],
          [
           "Vegetables, fresh nes"
          ],
          [
           "Vegetables, leguminous nes"
          ],
          [
           "Walnuts, with shell"
          ],
          [
           "Watermelons"
          ],
          [
           "Wheat"
          ],
          [
           "Yams"
          ],
          [
           "Yautia (cocoyam)"
          ],
          [
           "Almonds, with shell"
          ],
          [
           "Anise, badian, fennel, coriander"
          ],
          [
           "Apples"
          ],
          [
           "Apricots"
          ],
          [
           "Areca nuts"
          ],
          [
           "Artichokes"
          ],
          [
           "Asparagus"
          ],
          [
           "Avocados"
          ],
          [
           "Bambara beans"
          ],
          [
           "Bananas"
          ],
          [
           "Barley"
          ],
          [
           "Beans, dry"
          ],
          [
           "Beans, green"
          ],
          [
           "Berries nes"
          ],
          [
           "Blueberries"
          ],
          [
           "Brazil nuts, with shell"
          ],
          [
           "Broad beans, horse beans, dry"
          ],
          [
           "Buckwheat"
          ],
          [
           "Cabbages and other brassicas"
          ],
          [
           "Canary seed"
          ],
          [
           "Carrots and turnips"
          ],
          [
           "Cashew nuts, with shell"
          ],
          [
           "Castor oil seed"
          ],
          [
           "Cauliflowers and broccoli"
          ],
          [
           "Cereals nes"
          ],
          [
           "Cereals, Total"
          ],
          [
           "Cherries"
          ],
          [
           "Cherries, sour"
          ],
          [
           "Chestnut"
          ],
          [
           "Chick peas"
          ],
          [
           "Chicory roots"
          ],
          [
           "Chillies and peppers, dry"
          ],
          [
           "Chillies and peppers, green"
          ],
          [
           "Cinnamon (cannella)"
          ],
          [
           "Cloves"
          ],
          [
           "Cocoa, beans"
          ],
          [
           "Coconuts"
          ],
          [
           "Coffee, green"
          ],
          [
           "Cow peas, dry"
          ],
          [
           "Cranberries"
          ],
          [
           "Cucumbers and gherkins"
          ],
          [
           "Currants"
          ],
          [
           "Dates"
          ],
          [
           "Eggplants (aubergines)"
          ],
          [
           "Eggs, hen, in shell"
          ],
          [
           "Eggs, other bird, in shell"
          ],
          [
           "Fat, cattle"
          ],
          [
           "Fat, goats"
          ],
          [
           "Fat, pigs"
          ],
          [
           "Fat, sheep"
          ],
          [
           "Figs"
          ],
          [
           "Fonio"
          ],
          [
           "Fruit Primary"
          ],
          [
           "Fruit, citrus nes"
          ],
          [
           "Fruit, fresh nes"
          ],
          [
           "Fruit, tropical fresh nes"
          ],
          [
           "Garlic"
          ],
          [
           "Ginger"
          ],
          [
           "Gooseberries"
          ],
          [
           "Grain, mixed"
          ],
          [
           "Grapefruit (inc. pomelos)"
          ],
          [
           "Grapes"
          ],
          [
           "Groundnuts, with shell"
          ],
          [
           "Hazelnuts, with shell"
          ],
          [
           "Honey, natural"
          ],
          [
           "Hops"
          ],
          [
           "Kiwi fruit"
          ],
          [
           "Kola nuts"
          ],
          [
           "Leeks, other alliaceous vegetables"
          ],
          [
           "Lemons and limes"
          ],
          [
           "Lentils"
          ],
          [
           "Lettuce and chicory"
          ],
          [
           "Linseed"
          ],
          [
           "Lupins"
          ],
          [
           "Maize"
          ],
          [
           "Maize, green"
          ],
          [
           "Mangoes, mangosteens, guavas"
          ],
          [
           "Maté"
          ],
          [
           "Meat nes"
          ],
          [
           "Meat, camel"
          ],
          [
           "Meat, cattle"
          ],
          [
           "Meat, chicken"
          ],
          [
           "Meat, duck"
          ],
          [
           "Meat, game"
          ],
          [
           "Meat, goat"
          ],
          [
           "Meat, goose and guinea fowl"
          ],
          [
           "Meat, horse"
          ],
          [
           "Meat, pig"
          ],
          [
           "Meat, rabbit"
          ],
          [
           "Meat, sheep"
          ],
          [
           "Meat, turkey"
          ],
          [
           "Melons, other (inc.cantaloupes)"
          ],
          [
           "Melonseed"
          ],
          [
           "Milk, whole fresh cow"
          ],
          [
           "Milk, whole fresh goat"
          ],
          [
           "Milk, whole fresh sheep"
          ],
          [
           "Millet"
          ],
          [
           "Mushrooms and truffles"
          ],
          [
           "Mustard seed"
          ],
          [
           "Nutmeg, mace and cardamoms"
          ],
          [
           "Nuts nes"
          ],
          [
           "Oats"
          ],
          [
           "Offals nes"
          ],
          [
           "Offals, edible, cattle"
          ],
          [
           "Offals, edible, goats"
          ],
          [
           "Offals, horses"
          ],
          [
           "Offals, liver duck"
          ],
          [
           "Offals, liver geese"
          ],
          [
           "Offals, pigs, edible"
          ],
          [
           "Offals, sheep,edible"
          ],
          [
           "Oilcrops"
          ],
          [
           "Oilcrops, Cake Equivalent"
          ],
          [
           "Oilcrops, Oil Equivalent"
          ],
          [
           "Oilseeds nes"
          ],
          [
           "Olives"
          ],
          [
           "Onions, dry"
          ],
          [
           "Onions, shallots, green"
          ],
          [
           "Oranges"
          ],
          [
           "Papayas"
          ],
          [
           "Peaches and nectarines"
          ],
          [
           "Pears"
          ],
          [
           "Peas, dry"
          ],
          [
           "Peas, green"
          ],
          [
           "Pepper (piper spp.)"
          ],
          [
           "Persimmons"
          ],
          [
           "Pigeon peas"
          ],
          [
           "Pineapples"
          ],
          [
           "Pistachios"
          ],
          [
           "Plantains and others"
          ],
          [
           "Plums and sloes"
          ],
          [
           "Poppy seed"
          ],
          [
           "Potatoes"
          ],
          [
           "Pulses nes"
          ],
          [
           "Pulses, Total"
          ],
          [
           "Pumpkins, squash and gourds"
          ],
          [
           "Quinces"
          ],
          [
           "Quinoa"
          ],
          [
           "Rapeseed"
          ],
          [
           "Raspberries"
          ],
          [
           "Rice, paddy"
          ],
          [
           "Roots and Tubers, Total"
          ],
          [
           "Roots and tubers nes"
          ],
          [
           "Rye"
          ],
          [
           "Safflower seed"
          ],
          [
           "Sesame seed"
          ],
          [
           "Snails, not sea"
          ],
          [
           "Sorghum"
          ],
          [
           "Soybeans"
          ],
          [
           "Spices nes"
          ],
          [
           "Spinach"
          ],
          [
           "Strawberries"
          ],
          [
           "Sugar Crops Primary"
          ],
          [
           "Sugar beet"
          ],
          [
           "Sugar cane"
          ],
          [
           "Sunflower seed"
          ],
          [
           "Sweet corn frozen"
          ],
          [
           "Sweet corn prep or preserved"
          ],
          [
           "Sweet potatoes"
          ],
          [
           "Tangerines, mandarins, clementines, satsumas"
          ],
          [
           "Taro (cocoyam)"
          ],
          [
           "Tea"
          ],
          [
           "Tobacco, unmanufactured"
          ],
          [
           "Tomatoes"
          ],
          [
           "Treenuts, Total"
          ],
          [
           "Triticale"
          ],
          [
           "Vanilla"
          ],
          [
           "Vegetables Primary"
          ],
          [
           "Vegetables, fresh nes"
          ],
          [
           "Vegetables, leguminous nes"
          ],
          [
           "Walnuts, with shell"
          ],
          [
           "Watermelons"
          ],
          [
           "Wheat"
          ],
          [
           "Yams"
          ],
          [
           "Yautia (cocoyam)"
          ],
          [
           "Almonds, with shell"
          ],
          [
           "Anise, badian, fennel, coriander"
          ],
          [
           "Apples"
          ],
          [
           "Apricots"
          ],
          [
           "Areca nuts"
          ],
          [
           "Artichokes"
          ],
          [
           "Asparagus"
          ],
          [
           "Avocados"
          ],
          [
           "Bambara beans"
          ],
          [
           "Bananas"
          ],
          [
           "Barley"
          ],
          [
           "Beans, dry"
          ],
          [
           "Beans, green"
          ],
          [
           "Berries nes"
          ],
          [
           "Blueberries"
          ],
          [
           "Brazil nuts, with shell"
          ],
          [
           "Broad beans, horse beans, dry"
          ],
          [
           "Buckwheat"
          ],
          [
           "Cabbages and other brassicas"
          ],
          [
           "Canary seed"
          ],
          [
           "Carrots and turnips"
          ],
          [
           "Cashew nuts, with shell"
          ],
          [
           "Castor oil seed"
          ],
          [
           "Cauliflowers and broccoli"
          ],
          [
           "Cereals nes"
          ],
          [
           "Cereals, Total"
          ],
          [
           "Cherries"
          ],
          [
           "Cherries, sour"
          ],
          [
           "Chestnut"
          ],
          [
           "Chick peas"
          ],
          [
           "Chicory roots"
          ],
          [
           "Chillies and peppers, dry"
          ],
          [
           "Chillies and peppers, green"
          ],
          [
           "Cinnamon (cannella)"
          ],
          [
           "Cloves"
          ],
          [
           "Cocoa, beans"
          ],
          [
           "Coconuts"
          ],
          [
           "Coffee, green"
          ],
          [
           "Cow peas, dry"
          ],
          [
           "Cranberries"
          ],
          [
           "Cucumbers and gherkins"
          ],
          [
           "Currants"
          ],
          [
           "Dates"
          ],
          [
           "Eggplants (aubergines)"
          ],
          [
           "Eggs, hen, in shell"
          ],
          [
           "Eggs, other bird, in shell"
          ],
          [
           "Fat, cattle"
          ],
          [
           "Fat, goats"
          ],
          [
           "Fat, pigs"
          ],
          [
           "Fat, sheep"
          ],
          [
           "Figs"
          ],
          [
           "Fonio"
          ],
          [
           "Fruit Primary"
          ],
          [
           "Fruit, citrus nes"
          ],
          [
           "Fruit, fresh nes"
          ],
          [
           "Fruit, tropical fresh nes"
          ],
          [
           "Garlic"
          ],
          [
           "Ginger"
          ],
          [
           "Gooseberries"
          ],
          [
           "Grain, mixed"
          ],
          [
           "Grapefruit (inc. pomelos)"
          ],
          [
           "Grapes"
          ],
          [
           "Groundnuts, with shell"
          ],
          [
           "Hazelnuts, with shell"
          ],
          [
           "Honey, natural"
          ],
          [
           "Hops"
          ],
          [
           "Kiwi fruit"
          ],
          [
           "Kola nuts"
          ],
          [
           "Leeks, other alliaceous vegetables"
          ],
          [
           "Lemons and limes"
          ],
          [
           "Lentils"
          ],
          [
           "Lettuce and chicory"
          ],
          [
           "Linseed"
          ],
          [
           "Lupins"
          ],
          [
           "Maize"
          ],
          [
           "Maize, green"
          ],
          [
           "Mangoes, mangosteens, guavas"
          ],
          [
           "Maté"
          ],
          [
           "Meat nes"
          ],
          [
           "Meat, camel"
          ],
          [
           "Meat, cattle"
          ],
          [
           "Meat, chicken"
          ],
          [
           "Meat, duck"
          ],
          [
           "Meat, game"
          ],
          [
           "Meat, goat"
          ],
          [
           "Meat, goose and guinea fowl"
          ],
          [
           "Meat, horse"
          ],
          [
           "Meat, pig"
          ],
          [
           "Meat, rabbit"
          ],
          [
           "Meat, sheep"
          ],
          [
           "Meat, turkey"
          ],
          [
           "Melons, other (inc.cantaloupes)"
          ],
          [
           "Melonseed"
          ],
          [
           "Milk, whole fresh cow"
          ],
          [
           "Milk, whole fresh goat"
          ],
          [
           "Milk, whole fresh sheep"
          ],
          [
           "Millet"
          ],
          [
           "Mushrooms and truffles"
          ],
          [
           "Mustard seed"
          ],
          [
           "Nutmeg, mace and cardamoms"
          ],
          [
           "Nuts nes"
          ],
          [
           "Oats"
          ],
          [
           "Offals nes"
          ],
          [
           "Offals, edible, cattle"
          ],
          [
           "Offals, edible, goats"
          ],
          [
           "Offals, horses"
          ],
          [
           "Offals, liver duck"
          ],
          [
           "Offals, liver geese"
          ],
          [
           "Offals, pigs, edible"
          ],
          [
           "Offals, sheep,edible"
          ],
          [
           "Oilcrops"
          ],
          [
           "Oilcrops, Cake Equivalent"
          ],
          [
           "Oilcrops, Oil Equivalent"
          ],
          [
           "Oilseeds nes"
          ],
          [
           "Olives"
          ],
          [
           "Onions, dry"
          ],
          [
           "Onions, shallots, green"
          ],
          [
           "Oranges"
          ],
          [
           "Papayas"
          ],
          [
           "Peaches and nectarines"
          ],
          [
           "Pears"
          ],
          [
           "Peas, dry"
          ],
          [
           "Peas, green"
          ],
          [
           "Pepper (piper spp.)"
          ],
          [
           "Persimmons"
          ],
          [
           "Pigeon peas"
          ],
          [
           "Pineapples"
          ],
          [
           "Pistachios"
          ],
          [
           "Plantains and others"
          ],
          [
           "Plums and sloes"
          ],
          [
           "Poppy seed"
          ],
          [
           "Potatoes"
          ],
          [
           "Pulses nes"
          ],
          [
           "Pulses, Total"
          ],
          [
           "Pumpkins, squash and gourds"
          ],
          [
           "Quinces"
          ],
          [
           "Quinoa"
          ],
          [
           "Rapeseed"
          ],
          [
           "Raspberries"
          ],
          [
           "Rice, paddy"
          ],
          [
           "Roots and Tubers, Total"
          ],
          [
           "Roots and tubers nes"
          ],
          [
           "Rye"
          ],
          [
           "Safflower seed"
          ],
          [
           "Sesame seed"
          ],
          [
           "Snails, not sea"
          ],
          [
           "Sorghum"
          ],
          [
           "Soybeans"
          ],
          [
           "Spices nes"
          ],
          [
           "Spinach"
          ],
          [
           "Strawberries"
          ],
          [
           "Sugar Crops Primary"
          ],
          [
           "Sugar beet"
          ],
          [
           "Sugar cane"
          ],
          [
           "Sunflower seed"
          ],
          [
           "Sweet corn frozen"
          ],
          [
           "Sweet corn prep or preserved"
          ],
          [
           "Sweet potatoes"
          ],
          [
           "Tangerines, mandarins, clementines, satsumas"
          ],
          [
           "Taro (cocoyam)"
          ],
          [
           "Tea"
          ],
          [
           "Tobacco, unmanufactured"
          ],
          [
           "Tomatoes"
          ],
          [
           "Treenuts, Total"
          ],
          [
           "Triticale"
          ],
          [
           "Vanilla"
          ],
          [
           "Vegetables Primary"
          ],
          [
           "Vegetables, fresh nes"
          ],
          [
           "Vegetables, leguminous nes"
          ],
          [
           "Walnuts, with shell"
          ],
          [
           "Watermelons"
          ],
          [
           "Wheat"
          ],
          [
           "Yams"
          ],
          [
           "Yautia (cocoyam)"
          ],
          [
           "Almonds, with shell"
          ],
          [
           "Anise, badian, fennel, coriander"
          ],
          [
           "Apples"
          ],
          [
           "Apricots"
          ],
          [
           "Areca nuts"
          ],
          [
           "Artichokes"
          ],
          [
           "Asparagus"
          ],
          [
           "Avocados"
          ],
          [
           "Bambara beans"
          ],
          [
           "Bananas"
          ],
          [
           "Barley"
          ],
          [
           "Beans, dry"
          ],
          [
           "Beans, green"
          ],
          [
           "Berries nes"
          ],
          [
           "Blueberries"
          ],
          [
           "Brazil nuts, with shell"
          ],
          [
           "Broad beans, horse beans, dry"
          ],
          [
           "Buckwheat"
          ],
          [
           "Cabbages and other brassicas"
          ],
          [
           "Canary seed"
          ],
          [
           "Carrots and turnips"
          ],
          [
           "Cashew nuts, with shell"
          ],
          [
           "Castor oil seed"
          ],
          [
           "Cauliflowers and broccoli"
          ],
          [
           "Cereals nes"
          ],
          [
           "Cereals, Total"
          ],
          [
           "Cherries"
          ],
          [
           "Cherries, sour"
          ],
          [
           "Chestnut"
          ],
          [
           "Chick peas"
          ],
          [
           "Chicory roots"
          ],
          [
           "Chillies and peppers, dry"
          ],
          [
           "Chillies and peppers, green"
          ],
          [
           "Cinnamon (cannella)"
          ],
          [
           "Cloves"
          ],
          [
           "Cocoa, beans"
          ],
          [
           "Coconuts"
          ],
          [
           "Coffee, green"
          ],
          [
           "Cow peas, dry"
          ],
          [
           "Cranberries"
          ],
          [
           "Cucumbers and gherkins"
          ],
          [
           "Currants"
          ],
          [
           "Dates"
          ],
          [
           "Eggplants (aubergines)"
          ],
          [
           "Eggs, hen, in shell"
          ],
          [
           "Eggs, other bird, in shell"
          ],
          [
           "Fat, cattle"
          ],
          [
           "Fat, goats"
          ],
          [
           "Fat, pigs"
          ],
          [
           "Fat, sheep"
          ],
          [
           "Figs"
          ],
          [
           "Fonio"
          ],
          [
           "Fruit Primary"
          ],
          [
           "Fruit, citrus nes"
          ],
          [
           "Fruit, fresh nes"
          ],
          [
           "Fruit, tropical fresh nes"
          ],
          [
           "Garlic"
          ],
          [
           "Ginger"
          ],
          [
           "Gooseberries"
          ],
          [
           "Grain, mixed"
          ],
          [
           "Grapefruit (inc. pomelos)"
          ],
          [
           "Grapes"
          ],
          [
           "Groundnuts, with shell"
          ],
          [
           "Hazelnuts, with shell"
          ],
          [
           "Honey, natural"
          ],
          [
           "Hops"
          ],
          [
           "Kiwi fruit"
          ],
          [
           "Kola nuts"
          ],
          [
           "Leeks, other alliaceous vegetables"
          ],
          [
           "Lemons and limes"
          ],
          [
           "Lentils"
          ],
          [
           "Lettuce and chicory"
          ],
          [
           "Linseed"
          ],
          [
           "Lupins"
          ],
          [
           "Maize"
          ],
          [
           "Maize, green"
          ],
          [
           "Mangoes, mangosteens, guavas"
          ],
          [
           "Maté"
          ],
          [
           "Meat nes"
          ],
          [
           "Meat, camel"
          ],
          [
           "Meat, cattle"
          ],
          [
           "Meat, chicken"
          ],
          [
           "Meat, duck"
          ],
          [
           "Meat, game"
          ],
          [
           "Meat, goat"
          ],
          [
           "Meat, goose and guinea fowl"
          ],
          [
           "Meat, horse"
          ],
          [
           "Meat, pig"
          ],
          [
           "Meat, rabbit"
          ],
          [
           "Meat, sheep"
          ],
          [
           "Meat, turkey"
          ],
          [
           "Melons, other (inc.cantaloupes)"
          ],
          [
           "Melonseed"
          ],
          [
           "Milk, whole fresh cow"
          ],
          [
           "Milk, whole fresh goat"
          ],
          [
           "Milk, whole fresh sheep"
          ],
          [
           "Millet"
          ],
          [
           "Mushrooms and truffles"
          ],
          [
           "Mustard seed"
          ],
          [
           "Nutmeg, mace and cardamoms"
          ],
          [
           "Nuts nes"
          ],
          [
           "Oats"
          ],
          [
           "Offals nes"
          ],
          [
           "Offals, edible, cattle"
          ],
          [
           "Offals, edible, goats"
          ],
          [
           "Offals, horses"
          ],
          [
           "Offals, liver duck"
          ],
          [
           "Offals, liver geese"
          ],
          [
           "Offals, pigs, edible"
          ],
          [
           "Offals, sheep,edible"
          ],
          [
           "Oilcrops"
          ],
          [
           "Oilcrops, Cake Equivalent"
          ],
          [
           "Oilcrops, Oil Equivalent"
          ],
          [
           "Oilseeds nes"
          ],
          [
           "Olives"
          ],
          [
           "Onions, dry"
          ],
          [
           "Onions, shallots, green"
          ],
          [
           "Oranges"
          ],
          [
           "Papayas"
          ],
          [
           "Peaches and nectarines"
          ],
          [
           "Pears"
          ],
          [
           "Peas, dry"
          ],
          [
           "Peas, green"
          ],
          [
           "Pepper (piper spp.)"
          ],
          [
           "Persimmons"
          ],
          [
           "Pigeon peas"
          ],
          [
           "Pineapples"
          ],
          [
           "Pistachios"
          ],
          [
           "Plantains and others"
          ],
          [
           "Plums and sloes"
          ],
          [
           "Poppy seed"
          ],
          [
           "Potatoes"
          ],
          [
           "Pulses nes"
          ],
          [
           "Pulses, Total"
          ],
          [
           "Pumpkins, squash and gourds"
          ],
          [
           "Quinces"
          ],
          [
           "Quinoa"
          ],
          [
           "Rapeseed"
          ],
          [
           "Raspberries"
          ],
          [
           "Rice, paddy"
          ],
          [
           "Roots and Tubers, Total"
          ],
          [
           "Roots and tubers nes"
          ],
          [
           "Rye"
          ],
          [
           "Safflower seed"
          ],
          [
           "Sesame seed"
          ],
          [
           "Snails, not sea"
          ],
          [
           "Sorghum"
          ],
          [
           "Soybeans"
          ],
          [
           "Spices nes"
          ],
          [
           "Spinach"
          ],
          [
           "Strawberries"
          ],
          [
           "Sugar Crops Primary"
          ],
          [
           "Sugar beet"
          ],
          [
           "Sugar cane"
          ],
          [
           "Sunflower seed"
          ],
          [
           "Sweet corn frozen"
          ],
          [
           "Sweet corn prep or preserved"
          ],
          [
           "Sweet potatoes"
          ],
          [
           "Tangerines, mandarins, clementines, satsumas"
          ],
          [
           "Taro (cocoyam)"
          ],
          [
           "Tea"
          ],
          [
           "Tobacco, unmanufactured"
          ],
          [
           "Tomatoes"
          ],
          [
           "Treenuts, Total"
          ],
          [
           "Triticale"
          ],
          [
           "Vanilla"
          ],
          [
           "Vegetables Primary"
          ],
          [
           "Vegetables, fresh nes"
          ],
          [
           "Vegetables, leguminous nes"
          ],
          [
           "Walnuts, with shell"
          ],
          [
           "Watermelons"
          ],
          [
           "Wheat"
          ],
          [
           "Yams"
          ],
          [
           "Yautia (cocoyam)"
          ],
          [
           "Almonds, with shell"
          ],
          [
           "Anise, badian, fennel, coriander"
          ],
          [
           "Apples"
          ],
          [
           "Apricots"
          ],
          [
           "Areca nuts"
          ],
          [
           "Artichokes"
          ],
          [
           "Asparagus"
          ],
          [
           "Avocados"
          ],
          [
           "Bambara beans"
          ],
          [
           "Bananas"
          ],
          [
           "Barley"
          ],
          [
           "Beans, dry"
          ],
          [
           "Beans, green"
          ],
          [
           "Berries nes"
          ],
          [
           "Blueberries"
          ],
          [
           "Brazil nuts, with shell"
          ],
          [
           "Broad beans, horse beans, dry"
          ],
          [
           "Buckwheat"
          ],
          [
           "Cabbages and other brassicas"
          ],
          [
           "Canary seed"
          ],
          [
           "Carobs"
          ],
          [
           "Carrots and turnips"
          ],
          [
           "Cashew nuts, with shell"
          ],
          [
           "Castor oil seed"
          ],
          [
           "Cauliflowers and broccoli"
          ],
          [
           "Cereals, Total"
          ],
          [
           "Cherries"
          ],
          [
           "Cherries, sour"
          ],
          [
           "Chestnut"
          ],
          [
           "Chick peas"
          ],
          [
           "Chicory roots"
          ],
          [
           "Chillies and peppers, dry"
          ],
          [
           "Chillies and peppers, green"
          ],
          [
           "Cinnamon (cannella)"
          ],
          [
           "Cloves"
          ],
          [
           "Cocoa, beans"
          ],
          [
           "Coconuts"
          ],
          [
           "Coffee, green"
          ],
          [
           "Cow peas, dry"
          ],
          [
           "Cranberries"
          ],
          [
           "Cucumbers and gherkins"
          ],
          [
           "Currants"
          ],
          [
           "Dates"
          ],
          [
           "Eggplants (aubergines)"
          ],
          [
           "Eggs, hen, in shell"
          ],
          [
           "Eggs, other bird, in shell"
          ],
          [
           "Fat, buffaloes"
          ],
          [
           "Fat, cattle"
          ],
          [
           "Fat, goats"
          ],
          [
           "Fat, pigs"
          ],
          [
           "Fat, sheep"
          ],
          [
           "Fibre Crops Primary"
          ],
          [
           "Figs"
          ],
          [
           "Flax fibre and tow"
          ],
          [
           "Fonio"
          ],
          [
           "Fruit Primary"
          ],
          [
           "Fruit, citrus nes"
          ],
          [
           "Fruit, fresh nes"
          ],
          [
           "Fruit, stone nes"
          ],
          [
           "Fruit, tropical fresh nes"
          ],
          [
           "Garlic"
          ],
          [
           "Ginger"
          ],
          [
           "Gooseberries"
          ],
          [
           "Grain, mixed"
          ],
          [
           "Grapefruit (inc. pomelos)"
          ],
          [
           "Grapes"
          ],
          [
           "Groundnuts, with shell"
          ],
          [
           "Hazelnuts, with shell"
          ],
          [
           "Hemp tow waste"
          ],
          [
           "Hempseed"
          ],
          [
           "Honey, natural"
          ],
          [
           "Hops"
          ],
          [
           "Kiwi fruit"
          ],
          [
           "Kola nuts"
          ],
          [
           "Leeks, other alliaceous vegetables"
          ],
          [
           "Lemons and limes"
          ],
          [
           "Lentils"
          ],
          [
           "Lettuce and chicory"
          ],
          [
           "Linseed"
          ],
          [
           "Lupins"
          ],
          [
           "Maize"
          ],
          [
           "Maize, green"
          ],
          [
           "Mangoes, mangosteens, guavas"
          ],
          [
           "Maté"
          ],
          [
           "Meat nes"
          ],
          [
           "Meat, bird nes"
          ],
          [
           "Meat, buffalo"
          ],
          [
           "Meat, camel"
          ],
          [
           "Meat, cattle"
          ],
          [
           "Meat, chicken"
          ],
          [
           "Meat, duck"
          ],
          [
           "Meat, game"
          ],
          [
           "Meat, goat"
          ],
          [
           "Meat, goose and guinea fowl"
          ],
          [
           "Meat, horse"
          ],
          [
           "Meat, pig"
          ],
          [
           "Meat, rabbit"
          ],
          [
           "Meat, sheep"
          ],
          [
           "Meat, turkey"
          ],
          [
           "Melons, other (inc.cantaloupes)"
          ],
          [
           "Melonseed"
          ],
          [
           "Milk, whole fresh cow"
          ],
          [
           "Milk, whole fresh goat"
          ],
          [
           "Millet"
          ],
          [
           "Mushrooms and truffles"
          ],
          [
           "Mustard seed"
          ],
          [
           "Nutmeg, mace and cardamoms"
          ],
          [
           "Nuts nes"
          ],
          [
           "Oats"
          ],
          [
           "Offals nes"
          ],
          [
           "Offals, edible, buffaloes"
          ],
          [
           "Offals, edible, cattle"
          ],
          [
           "Offals, edible, goats"
          ],
          [
           "Offals, horses"
          ],
          [
           "Offals, liver chicken"
          ],
          [
           "Offals, liver duck"
          ],
          [
           "Offals, liver geese"
          ],
          [
           "Offals, liver turkeys"
          ],
          [
           "Offals, pigs, edible"
          ],
          [
           "Offals, sheep,edible"
          ],
          [
           "Oilcrops"
          ],
          [
           "Oilcrops, Cake Equivalent"
          ],
          [
           "Oilcrops, Oil Equivalent"
          ],
          [
           "Oilseeds nes"
          ],
          [
           "Olives"
          ],
          [
           "Onions, dry"
          ],
          [
           "Onions, shallots, green"
          ],
          [
           "Oranges"
          ],
          [
           "Papayas"
          ],
          [
           "Peaches and nectarines"
          ],
          [
           "Pears"
          ],
          [
           "Peas, dry"
          ],
          [
           "Peas, green"
          ],
          [
           "Pepper (piper spp.)"
          ],
          [
           "Persimmons"
          ],
          [
           "Pigeon peas"
          ],
          [
           "Pineapples"
          ],
          [
           "Pistachios"
          ],
          [
           "Plantains and others"
          ],
          [
           "Plums and sloes"
          ],
          [
           "Poppy seed"
          ],
          [
           "Potatoes"
          ],
          [
           "Pulses nes"
          ],
          [
           "Pulses, Total"
          ],
          [
           "Pumpkins, squash and gourds"
          ],
          [
           "Quinces"
          ],
          [
           "Quinoa"
          ],
          [
           "Rapeseed"
          ],
          [
           "Raspberries"
          ],
          [
           "Rice, paddy"
          ],
          [
           "Roots and Tubers, Total"
          ],
          [
           "Roots and tubers nes"
          ],
          [
           "Rye"
          ],
          [
           "Safflower seed"
          ],
          [
           "Sesame seed"
          ],
          [
           "Snails, not sea"
          ],
          [
           "Sorghum"
          ],
          [
           "Soybeans"
          ],
          [
           "Spices nes"
          ],
          [
           "Spinach"
          ],
          [
           "Strawberries"
          ],
          [
           "Sugar Crops Primary"
          ],
          [
           "Sugar beet"
          ],
          [
           "Sugar cane"
          ],
          [
           "Sunflower seed"
          ],
          [
           "Sweet corn frozen"
          ],
          [
           "Sweet corn prep or preserved"
          ],
          [
           "Sweet potatoes"
          ],
          [
           "Tangerines, mandarins, clementines, satsumas"
          ],
          [
           "Taro (cocoyam)"
          ],
          [
           "Tea"
          ],
          [
           "Tobacco, unmanufactured"
          ],
          [
           "Tomatoes"
          ],
          [
           "Treenuts, Total"
          ],
          [
           "Triticale"
          ],
          [
           "Vanilla"
          ],
          [
           "Vegetables Primary"
          ],
          [
           "Vegetables, fresh nes"
          ],
          [
           "Vegetables, leguminous nes"
          ],
          [
           "Vetches"
          ],
          [
           "Walnuts, with shell"
          ],
          [
           "Watermelons"
          ],
          [
           "Wheat"
          ],
          [
           "Yams"
          ],
          [
           "Yautia (cocoyam)"
          ],
          [
           "Almonds, with shell"
          ],
          [
           "Anise, badian, fennel, coriander"
          ],
          [
           "Apples"
          ],
          [
           "Apricots"
          ],
          [
           "Areca nuts"
          ],
          [
           "Artichokes"
          ],
          [
           "Asparagus"
          ],
          [
           "Avocados"
          ],
          [
           "Bambara beans"
          ],
          [
           "Bananas"
          ],
          [
           "Barley"
          ],
          [
           "Beans, dry"
          ],
          [
           "Beans, green"
          ],
          [
           "Berries nes"
          ],
          [
           "Blueberries"
          ],
          [
           "Brazil nuts, with shell"
          ],
          [
           "Broad beans, horse beans, dry"
          ],
          [
           "Buckwheat"
          ],
          [
           "Cabbages and other brassicas"
          ],
          [
           "Canary seed"
          ],
          [
           "Carobs"
          ],
          [
           "Carrots and turnips"
          ],
          [
           "Cashew nuts, with shell"
          ],
          [
           "Castor oil seed"
          ],
          [
           "Cauliflowers and broccoli"
          ],
          [
           "Cereals, Total"
          ],
          [
           "Cherries"
          ],
          [
           "Cherries, sour"
          ],
          [
           "Chestnut"
          ],
          [
           "Chick peas"
          ],
          [
           "Chicory roots"
          ],
          [
           "Chillies and peppers, dry"
          ],
          [
           "Chillies and peppers, green"
          ],
          [
           "Cinnamon (cannella)"
          ],
          [
           "Cloves"
          ],
          [
           "Cocoa, beans"
          ],
          [
           "Coconuts"
          ],
          [
           "Coffee, green"
          ],
          [
           "Cow peas, dry"
          ],
          [
           "Cranberries"
          ],
          [
           "Cucumbers and gherkins"
          ],
          [
           "Currants"
          ],
          [
           "Dates"
          ],
          [
           "Eggplants (aubergines)"
          ],
          [
           "Eggs, hen, in shell"
          ],
          [
           "Eggs, other bird, in shell"
          ],
          [
           "Fat, buffaloes"
          ],
          [
           "Fat, cattle"
          ],
          [
           "Fat, goats"
          ],
          [
           "Fat, pigs"
          ],
          [
           "Fat, sheep"
          ],
          [
           "Fibre Crops Primary"
          ],
          [
           "Figs"
          ],
          [
           "Flax fibre and tow"
          ],
          [
           "Fonio"
          ],
          [
           "Fruit Primary"
          ],
          [
           "Fruit, citrus nes"
          ],
          [
           "Fruit, fresh nes"
          ],
          [
           "Fruit, stone nes"
          ],
          [
           "Fruit, tropical fresh nes"
          ],
          [
           "Garlic"
          ],
          [
           "Ginger"
          ],
          [
           "Gooseberries"
          ],
          [
           "Grain, mixed"
          ],
          [
           "Grapefruit (inc. pomelos)"
          ],
          [
           "Grapes"
          ],
          [
           "Groundnuts, with shell"
          ],
          [
           "Hazelnuts, with shell"
          ],
          [
           "Hemp tow waste"
          ],
          [
           "Hempseed"
          ],
          [
           "Honey, natural"
          ],
          [
           "Hops"
          ],
          [
           "Kiwi fruit"
          ],
          [
           "Kola nuts"
          ],
          [
           "Leeks, other alliaceous vegetables"
          ],
          [
           "Lemons and limes"
          ],
          [
           "Lentils"
          ],
          [
           "Lettuce and chicory"
          ],
          [
           "Linseed"
          ],
          [
           "Lupins"
          ],
          [
           "Maize"
          ],
          [
           "Maize, green"
          ],
          [
           "Mangoes, mangosteens, guavas"
          ],
          [
           "Maté"
          ],
          [
           "Meat nes"
          ],
          [
           "Meat, bird nes"
          ],
          [
           "Meat, buffalo"
          ],
          [
           "Meat, camel"
          ],
          [
           "Meat, cattle"
          ],
          [
           "Meat, chicken"
          ],
          [
           "Meat, duck"
          ],
          [
           "Meat, game"
          ],
          [
           "Meat, goat"
          ],
          [
           "Meat, goose and guinea fowl"
          ],
          [
           "Meat, horse"
          ],
          [
           "Meat, pig"
          ],
          [
           "Meat, rabbit"
          ],
          [
           "Meat, sheep"
          ],
          [
           "Meat, turkey"
          ],
          [
           "Melons, other (inc.cantaloupes)"
          ],
          [
           "Melonseed"
          ],
          [
           "Milk, whole fresh cow"
          ],
          [
           "Milk, whole fresh goat"
          ],
          [
           "Millet"
          ],
          [
           "Mushrooms and truffles"
          ],
          [
           "Mustard seed"
          ],
          [
           "Nutmeg, mace and cardamoms"
          ],
          [
           "Nuts nes"
          ],
          [
           "Oats"
          ],
          [
           "Offals nes"
          ],
          [
           "Offals, edible, buffaloes"
          ],
          [
           "Offals, edible, cattle"
          ],
          [
           "Offals, edible, goats"
          ],
          [
           "Offals, horses"
          ],
          [
           "Offals, liver chicken"
          ],
          [
           "Offals, liver duck"
          ],
          [
           "Offals, liver geese"
          ],
          [
           "Offals, liver turkeys"
          ],
          [
           "Offals, pigs, edible"
          ],
          [
           "Offals, sheep,edible"
          ],
          [
           "Oilcrops"
          ],
          [
           "Oilcrops, Cake Equivalent"
          ],
          [
           "Oilcrops, Oil Equivalent"
          ],
          [
           "Oilseeds nes"
          ],
          [
           "Olives"
          ],
          [
           "Onions, dry"
          ],
          [
           "Onions, shallots, green"
          ],
          [
           "Oranges"
          ],
          [
           "Papayas"
          ],
          [
           "Peaches and nectarines"
          ],
          [
           "Pears"
          ],
          [
           "Peas, dry"
          ],
          [
           "Peas, green"
          ],
          [
           "Pepper (piper spp.)"
          ],
          [
           "Persimmons"
          ],
          [
           "Pigeon peas"
          ],
          [
           "Pineapples"
          ],
          [
           "Pistachios"
          ],
          [
           "Plantains and others"
          ],
          [
           "Plums and sloes"
          ],
          [
           "Poppy seed"
          ],
          [
           "Potatoes"
          ],
          [
           "Pulses nes"
          ],
          [
           "Pulses, Total"
          ],
          [
           "Pumpkins, squash and gourds"
          ],
          [
           "Quinces"
          ],
          [
           "Quinoa"
          ],
          [
           "Rapeseed"
          ],
          [
           "Raspberries"
          ],
          [
           "Rice, paddy"
          ],
          [
           "Roots and Tubers, Total"
          ],
          [
           "Roots and tubers nes"
          ],
          [
           "Rye"
          ],
          [
           "Safflower seed"
          ],
          [
           "Sesame seed"
          ],
          [
           "Snails, not sea"
          ],
          [
           "Sorghum"
          ],
          [
           "Soybeans"
          ],
          [
           "Spices nes"
          ],
          [
           "Spinach"
          ],
          [
           "Strawberries"
          ],
          [
           "Sugar Crops Primary"
          ],
          [
           "Sugar beet"
          ],
          [
           "Sugar cane"
          ],
          [
           "Sunflower seed"
          ],
          [
           "Sweet corn frozen"
          ],
          [
           "Sweet corn prep or preserved"
          ],
          [
           "Sweet potatoes"
          ],
          [
           "Tangerines, mandarins, clementines, satsumas"
          ],
          [
           "Taro (cocoyam)"
          ],
          [
           "Tea"
          ],
          [
           "Tobacco, unmanufactured"
          ],
          [
           "Tomatoes"
          ],
          [
           "Treenuts, Total"
          ],
          [
           "Triticale"
          ],
          [
           "Vanilla"
          ],
          [
           "Vegetables Primary"
          ],
          [
           "Vegetables, fresh nes"
          ],
          [
           "Vegetables, leguminous nes"
          ],
          [
           "Vetches"
          ],
          [
           "Walnuts, with shell"
          ],
          [
           "Watermelons"
          ],
          [
           "Wheat"
          ],
          [
           "Yams"
          ],
          [
           "Yautia (cocoyam)"
          ],
          [
           "Almonds, with shell"
          ],
          [
           "Anise, badian, fennel, coriander"
          ],
          [
           "Apples"
          ],
          [
           "Apricots"
          ],
          [
           "Areca nuts"
          ],
          [
           "Artichokes"
          ],
          [
           "Asparagus"
          ],
          [
           "Avocados"
          ],
          [
           "Bambara beans"
          ],
          [
           "Bananas"
          ],
          [
           "Barley"
          ],
          [
           "Beans, dry"
          ],
          [
           "Beans, green"
          ],
          [
           "Berries nes"
          ],
          [
           "Blueberries"
          ],
          [
           "Brazil nuts, with shell"
          ],
          [
           "Broad beans, horse beans, dry"
          ],
          [
           "Buckwheat"
          ],
          [
           "Cabbages and other brassicas"
          ],
          [
           "Canary seed"
          ],
          [
           "Carobs"
          ],
          [
           "Carrots and turnips"
          ],
          [
           "Cashew nuts, with shell"
          ],
          [
           "Castor oil seed"
          ],
          [
           "Cauliflowers and broccoli"
          ],
          [
           "Cereals, Total"
          ],
          [
           "Cherries"
          ],
          [
           "Cherries, sour"
          ],
          [
           "Chestnut"
          ],
          [
           "Chick peas"
          ],
          [
           "Chicory roots"
          ],
          [
           "Chillies and peppers, dry"
          ],
          [
           "Chillies and peppers, green"
          ],
          [
           "Cinnamon (cannella)"
          ],
          [
           "Citrus Fruit, Total"
          ],
          [
           "Cloves"
          ],
          [
           "Cocoa, beans"
          ],
          [
           "Coconuts"
          ],
          [
           "Coffee, green"
          ],
          [
           "Cow peas, dry"
          ],
          [
           "Cranberries"
          ],
          [
           "Cucumbers and gherkins"
          ],
          [
           "Currants"
          ],
          [
           "Dates"
          ],
          [
           "Eggplants (aubergines)"
          ],
          [
           "Eggs, hen, in shell"
          ],
          [
           "Eggs, other bird, in shell"
          ],
          [
           "Fat, buffaloes"
          ],
          [
           "Fat, cattle"
          ],
          [
           "Fat, goats"
          ],
          [
           "Fat, pigs"
          ],
          [
           "Fat, sheep"
          ],
          [
           "Figs"
          ],
          [
           "Fonio"
          ],
          [
           "Fruit Primary"
          ],
          [
           "Fruit, citrus nes"
          ],
          [
           "Fruit, fresh nes"
          ],
          [
           "Fruit, pome nes"
          ],
          [
           "Fruit, stone nes"
          ],
          [
           "Fruit, tropical fresh nes"
          ],
          [
           "Garlic"
          ],
          [
           "Ginger"
          ],
          [
           "Gooseberries"
          ],
          [
           "Grain, mixed"
          ],
          [
           "Grapefruit (inc. pomelos)"
          ],
          [
           "Grapes"
          ],
          [
           "Groundnuts, with shell"
          ],
          [
           "Hazelnuts, with shell"
          ],
          [
           "Hempseed"
          ],
          [
           "Honey, natural"
          ],
          [
           "Hops"
          ],
          [
           "Kiwi fruit"
          ],
          [
           "Kola nuts"
          ],
          [
           "Leeks, other alliaceous vegetables"
          ],
          [
           "Lemons and limes"
          ],
          [
           "Lentils"
          ],
          [
           "Lettuce and chicory"
          ],
          [
           "Linseed"
          ],
          [
           "Lupins"
          ],
          [
           "Maize"
          ],
          [
           "Maize, green"
          ],
          [
           "Mangoes, mangosteens, guavas"
          ],
          [
           "Maté"
          ],
          [
           "Meat nes"
          ],
          [
           "Meat, bird nes"
          ],
          [
           "Meat, buffalo"
          ],
          [
           "Meat, camel"
          ],
          [
           "Meat, cattle"
          ],
          [
           "Meat, chicken"
          ],
          [
           "Meat, duck"
          ],
          [
           "Meat, game"
          ],
          [
           "Meat, goat"
          ],
          [
           "Meat, goose and guinea fowl"
          ],
          [
           "Meat, horse"
          ],
          [
           "Meat, pig"
          ],
          [
           "Meat, rabbit"
          ],
          [
           "Meat, sheep"
          ],
          [
           "Meat, turkey"
          ],
          [
           "Melons, other (inc.cantaloupes)"
          ],
          [
           "Melonseed"
          ],
          [
           "Milk, whole fresh cow"
          ],
          [
           "Milk, whole fresh goat"
          ],
          [
           "Millet"
          ],
          [
           "Mushrooms and truffles"
          ],
          [
           "Mustard seed"
          ],
          [
           "Nutmeg, mace and cardamoms"
          ],
          [
           "Nuts nes"
          ],
          [
           "Oats"
          ],
          [
           "Offals nes"
          ],
          [
           "Offals, edible, buffaloes"
          ],
          [
           "Offals, edible, cattle"
          ],
          [
           "Offals, edible, goats"
          ],
          [
           "Offals, horses"
          ],
          [
           "Offals, liver chicken"
          ],
          [
           "Offals, liver duck"
          ],
          [
           "Offals, liver geese"
          ],
          [
           "Offals, liver turkeys"
          ],
          [
           "Offals, pigs, edible"
          ],
          [
           "Offals, sheep,edible"
          ],
          [
           "Oilcrops"
          ],
          [
           "Oilcrops, Cake Equivalent"
          ],
          [
           "Oilcrops, Oil Equivalent"
          ],
          [
           "Oilseeds nes"
          ],
          [
           "Olives"
          ],
          [
           "Onions, dry"
          ],
          [
           "Onions, shallots, green"
          ],
          [
           "Oranges"
          ],
          [
           "Papayas"
          ],
          [
           "Peaches and nectarines"
          ],
          [
           "Pears"
          ],
          [
           "Peas, dry"
          ],
          [
           "Peas, green"
          ],
          [
           "Pepper (piper spp.)"
          ],
          [
           "Persimmons"
          ],
          [
           "Pigeon peas"
          ],
          [
           "Pineapples"
          ],
          [
           "Pistachios"
          ],
          [
           "Plantains and others"
          ],
          [
           "Plums and sloes"
          ],
          [
           "Poppy seed"
          ],
          [
           "Potatoes"
          ],
          [
           "Pulses nes"
          ],
          [
           "Pulses, Total"
          ],
          [
           "Pumpkins, squash and gourds"
          ],
          [
           "Quinces"
          ],
          [
           "Quinoa"
          ],
          [
           "Rapeseed"
          ],
          [
           "Raspberries"
          ],
          [
           "Rice, paddy"
          ],
          [
           "Roots and Tubers, Total"
          ],
          [
           "Roots and tubers nes"
          ],
          [
           "Rye"
          ],
          [
           "Safflower seed"
          ],
          [
           "Sesame seed"
          ],
          [
           "Snails, not sea"
          ],
          [
           "Sorghum"
          ],
          [
           "Soybeans"
          ],
          [
           "Spices nes"
          ],
          [
           "Spinach"
          ],
          [
           "Strawberries"
          ],
          [
           "Sugar Crops Primary"
          ],
          [
           "Sugar beet"
          ],
          [
           "Sugar cane"
          ],
          [
           "Sunflower seed"
          ],
          [
           "Sweet corn frozen"
          ],
          [
           "Sweet corn prep or preserved"
          ],
          [
           "Sweet potatoes"
          ],
          [
           "Tangerines, mandarins, clementines, satsumas"
          ],
          [
           "Taro (cocoyam)"
          ],
          [
           "Tea"
          ],
          [
           "Tomatoes"
          ],
          [
           "Treenuts, Total"
          ],
          [
           "Triticale"
          ],
          [
           "Vanilla"
          ],
          [
           "Vegetables Primary"
          ],
          [
           "Vegetables, fresh nes"
          ],
          [
           "Vegetables, leguminous nes"
          ],
          [
           "Vetches"
          ],
          [
           "Walnuts, with shell"
          ],
          [
           "Watermelons"
          ],
          [
           "Wheat"
          ],
          [
           "Yams"
          ],
          [
           "Yautia (cocoyam)"
          ],
          [
           "Almonds, with shell"
          ],
          [
           "Anise, badian, fennel, coriander"
          ],
          [
           "Apples"
          ],
          [
           "Apricots"
          ],
          [
           "Areca nuts"
          ],
          [
           "Artichokes"
          ],
          [
           "Asparagus"
          ],
          [
           "Avocados"
          ],
          [
           "Bambara beans"
          ],
          [
           "Bananas"
          ],
          [
           "Barley"
          ],
          [
           "Beans, dry"
          ],
          [
           "Beans, green"
          ],
          [
           "Berries nes"
          ],
          [
           "Blueberries"
          ],
          [
           "Brazil nuts, with shell"
          ],
          [
           "Broad beans, horse beans, dry"
          ],
          [
           "Buckwheat"
          ],
          [
           "Cabbages and other brassicas"
          ],
          [
           "Canary seed"
          ],
          [
           "Carobs"
          ],
          [
           "Carrots and turnips"
          ],
          [
           "Cashew nuts, with shell"
          ],
          [
           "Castor oil seed"
          ],
          [
           "Cauliflowers and broccoli"
          ],
          [
           "Cereals nes"
          ],
          [
           "Cereals, Total"
          ],
          [
           "Cherries"
          ],
          [
           "Cherries, sour"
          ],
          [
           "Chestnut"
          ],
          [
           "Chick peas"
          ],
          [
           "Chicory roots"
          ],
          [
           "Chillies and peppers, dry"
          ],
          [
           "Chillies and peppers, green"
          ],
          [
           "Cinnamon (cannella)"
          ],
          [
           "Citrus Fruit, Total"
          ],
          [
           "Cloves"
          ],
          [
           "Cocoa, beans"
          ],
          [
           "Coconuts"
          ],
          [
           "Coffee, green"
          ],
          [
           "Cow peas, dry"
          ],
          [
           "Cranberries"
          ],
          [
           "Cucumbers and gherkins"
          ],
          [
           "Currants"
          ],
          [
           "Dates"
          ],
          [
           "Eggplants (aubergines)"
          ],
          [
           "Eggs, hen, in shell"
          ],
          [
           "Eggs, other bird, in shell"
          ],
          [
           "Fat, cattle"
          ],
          [
           "Fat, goats"
          ],
          [
           "Fat, pigs"
          ],
          [
           "Fat, sheep"
          ],
          [
           "Fibre Crops Primary"
          ],
          [
           "Figs"
          ],
          [
           "Flax fibre and tow"
          ],
          [
           "Fonio"
          ],
          [
           "Fruit Primary"
          ],
          [
           "Fruit, citrus nes"
          ],
          [
           "Fruit, fresh nes"
          ],
          [
           "Fruit, stone nes"
          ],
          [
           "Fruit, tropical fresh nes"
          ],
          [
           "Garlic"
          ],
          [
           "Ginger"
          ],
          [
           "Grain, mixed"
          ],
          [
           "Grapefruit (inc. pomelos)"
          ],
          [
           "Grapes"
          ],
          [
           "Groundnuts, with shell"
          ],
          [
           "Hazelnuts, with shell"
          ],
          [
           "Hemp tow waste"
          ],
          [
           "Hempseed"
          ],
          [
           "Honey, natural"
          ],
          [
           "Hops"
          ],
          [
           "Kiwi fruit"
          ],
          [
           "Kola nuts"
          ],
          [
           "Leeks, other alliaceous vegetables"
          ],
          [
           "Lemons and limes"
          ],
          [
           "Lentils"
          ],
          [
           "Lettuce and chicory"
          ],
          [
           "Linseed"
          ],
          [
           "Lupins"
          ],
          [
           "Maize"
          ],
          [
           "Maize, green"
          ],
          [
           "Mangoes, mangosteens, guavas"
          ],
          [
           "Maté"
          ],
          [
           "Meat nes"
          ],
          [
           "Meat, bird nes"
          ],
          [
           "Meat, camel"
          ],
          [
           "Meat, cattle"
          ],
          [
           "Meat, chicken"
          ],
          [
           "Meat, duck"
          ],
          [
           "Meat, game"
          ],
          [
           "Meat, goat"
          ],
          [
           "Meat, goose and guinea fowl"
          ],
          [
           "Meat, horse"
          ],
          [
           "Meat, pig"
          ],
          [
           "Meat, rabbit"
          ],
          [
           "Meat, sheep"
          ],
          [
           "Meat, turkey"
          ],
          [
           "Melons, other (inc.cantaloupes)"
          ],
          [
           "Melonseed"
          ],
          [
           "Milk, whole fresh cow"
          ],
          [
           "Milk, whole fresh goat"
          ],
          [
           "Milk, whole fresh sheep"
          ],
          [
           "Millet"
          ],
          [
           "Mushrooms and truffles"
          ],
          [
           "Mustard seed"
          ],
          [
           "Nutmeg, mace and cardamoms"
          ],
          [
           "Nuts nes"
          ],
          [
           "Oats"
          ],
          [
           "Offals nes"
          ],
          [
           "Offals, edible, cattle"
          ],
          [
           "Offals, edible, goats"
          ],
          [
           "Offals, horses"
          ],
          [
           "Offals, liver chicken"
          ],
          [
           "Offals, liver duck"
          ],
          [
           "Offals, liver geese"
          ],
          [
           "Offals, liver turkeys"
          ],
          [
           "Offals, pigs, edible"
          ],
          [
           "Offals, sheep,edible"
          ],
          [
           "Oilcrops"
          ],
          [
           "Oilcrops, Cake Equivalent"
          ],
          [
           "Oilcrops, Oil Equivalent"
          ],
          [
           "Oilseeds nes"
          ],
          [
           "Olives"
          ],
          [
           "Onions, dry"
          ],
          [
           "Onions, shallots, green"
          ],
          [
           "Oranges"
          ],
          [
           "Papayas"
          ],
          [
           "Peaches and nectarines"
          ],
          [
           "Pears"
          ],
          [
           "Peas, dry"
          ],
          [
           "Peas, green"
          ],
          [
           "Pepper (piper spp.)"
          ],
          [
           "Persimmons"
          ],
          [
           "Pigeon peas"
          ],
          [
           "Pineapples"
          ],
          [
           "Pistachios"
          ],
          [
           "Plantains and others"
          ],
          [
           "Plums and sloes"
          ],
          [
           "Poppy seed"
          ],
          [
           "Potatoes"
          ],
          [
           "Pulses nes"
          ],
          [
           "Pulses, Total"
          ],
          [
           "Pumpkins, squash and gourds"
          ],
          [
           "Quinces"
          ],
          [
           "Quinoa"
          ],
          [
           "Rapeseed"
          ],
          [
           "Raspberries"
          ],
          [
           "Rice, paddy"
          ],
          [
           "Roots and Tubers, Total"
          ],
          [
           "Roots and tubers nes"
          ],
          [
           "Rye"
          ],
          [
           "Safflower seed"
          ],
          [
           "Sesame seed"
          ],
          [
           "Snails, not sea"
          ],
          [
           "Sorghum"
          ],
          [
           "Soybeans"
          ],
          [
           "Spices nes"
          ],
          [
           "Spinach"
          ],
          [
           "Strawberries"
          ],
          [
           "String beans"
          ],
          [
           "Sugar Crops Primary"
          ],
          [
           "Sugar beet"
          ],
          [
           "Sugar cane"
          ],
          [
           "Sunflower seed"
          ],
          [
           "Sweet corn frozen"
          ],
          [
           "Sweet corn prep or preserved"
          ],
          [
           "Sweet potatoes"
          ],
          [
           "Tangerines, mandarins, clementines, satsumas"
          ],
          [
           "Taro (cocoyam)"
          ],
          [
           "Tea"
          ],
          [
           "Tobacco, unmanufactured"
          ],
          [
           "Tomatoes"
          ],
          [
           "Treenuts, Total"
          ],
          [
           "Triticale"
          ],
          [
           "Vanilla"
          ],
          [
           "Vegetables Primary"
          ],
          [
           "Vegetables, fresh nes"
          ],
          [
           "Vegetables, leguminous nes"
          ],
          [
           "Walnuts, with shell"
          ],
          [
           "Watermelons"
          ],
          [
           "Wheat"
          ],
          [
           "Yams"
          ],
          [
           "Yautia (cocoyam)"
          ],
          [
           "Almonds, with shell"
          ],
          [
           "Anise, badian, fennel, coriander"
          ],
          [
           "Apples"
          ],
          [
           "Apricots"
          ],
          [
           "Areca nuts"
          ],
          [
           "Artichokes"
          ],
          [
           "Asparagus"
          ],
          [
           "Avocados"
          ],
          [
           "Bambara beans"
          ],
          [
           "Bananas"
          ],
          [
           "Barley"
          ],
          [
           "Beans, dry"
          ],
          [
           "Beans, green"
          ],
          [
           "Berries nes"
          ],
          [
           "Blueberries"
          ],
          [
           "Brazil nuts, with shell"
          ],
          [
           "Broad beans, horse beans, dry"
          ],
          [
           "Buckwheat"
          ],
          [
           "Cabbages and other brassicas"
          ],
          [
           "Canary seed"
          ],
          [
           "Carobs"
          ],
          [
           "Carrots and turnips"
          ],
          [
           "Cashew nuts, with shell"
          ],
          [
           "Castor oil seed"
          ],
          [
           "Cauliflowers and broccoli"
          ],
          [
           "Cereals nes"
          ],
          [
           "Cereals, Total"
          ],
          [
           "Cherries"
          ],
          [
           "Cherries, sour"
          ],
          [
           "Chestnut"
          ],
          [
           "Chick peas"
          ],
          [
           "Chicory roots"
          ],
          [
           "Chillies and peppers, dry"
          ],
          [
           "Chillies and peppers, green"
          ],
          [
           "Cinnamon (cannella)"
          ],
          [
           "Citrus Fruit, Total"
          ],
          [
           "Cloves"
          ],
          [
           "Cocoa, beans"
          ],
          [
           "Coconuts"
          ],
          [
           "Coffee, green"
          ],
          [
           "Cow peas, dry"
          ],
          [
           "Cranberries"
          ],
          [
           "Cucumbers and gherkins"
          ],
          [
           "Currants"
          ],
          [
           "Dates"
          ],
          [
           "Eggplants (aubergines)"
          ],
          [
           "Eggs, hen, in shell"
          ],
          [
           "Eggs, other bird, in shell"
          ],
          [
           "Fat, cattle"
          ],
          [
           "Fat, goats"
          ],
          [
           "Fat, pigs"
          ],
          [
           "Fat, sheep"
          ],
          [
           "Fibre Crops Primary"
          ],
          [
           "Figs"
          ],
          [
           "Flax fibre and tow"
          ],
          [
           "Fonio"
          ],
          [
           "Fruit Primary"
          ],
          [
           "Fruit, citrus nes"
          ],
          [
           "Fruit, fresh nes"
          ],
          [
           "Fruit, stone nes"
          ],
          [
           "Fruit, tropical fresh nes"
          ],
          [
           "Garlic"
          ],
          [
           "Ginger"
          ],
          [
           "Grain, mixed"
          ],
          [
           "Grapefruit (inc. pomelos)"
          ],
          [
           "Grapes"
          ],
          [
           "Groundnuts, with shell"
          ],
          [
           "Hazelnuts, with shell"
          ],
          [
           "Hemp tow waste"
          ],
          [
           "Hempseed"
          ],
          [
           "Honey, natural"
          ],
          [
           "Hops"
          ],
          [
           "Kiwi fruit"
          ],
          [
           "Kola nuts"
          ],
          [
           "Leeks, other alliaceous vegetables"
          ],
          [
           "Lemons and limes"
          ],
          [
           "Lentils"
          ],
          [
           "Lettuce and chicory"
          ],
          [
           "Linseed"
          ],
          [
           "Lupins"
          ],
          [
           "Maize"
          ],
          [
           "Maize, green"
          ],
          [
           "Mangoes, mangosteens, guavas"
          ],
          [
           "Maté"
          ],
          [
           "Meat nes"
          ],
          [
           "Meat, bird nes"
          ],
          [
           "Meat, camel"
          ],
          [
           "Meat, cattle"
          ],
          [
           "Meat, chicken"
          ],
          [
           "Meat, duck"
          ],
          [
           "Meat, game"
          ],
          [
           "Meat, goat"
          ],
          [
           "Meat, goose and guinea fowl"
          ],
          [
           "Meat, horse"
          ],
          [
           "Meat, pig"
          ],
          [
           "Meat, rabbit"
          ],
          [
           "Meat, sheep"
          ],
          [
           "Meat, turkey"
          ],
          [
           "Melons, other (inc.cantaloupes)"
          ],
          [
           "Melonseed"
          ],
          [
           "Milk, whole fresh cow"
          ],
          [
           "Milk, whole fresh goat"
          ],
          [
           "Milk, whole fresh sheep"
          ],
          [
           "Millet"
          ],
          [
           "Mushrooms and truffles"
          ],
          [
           "Mustard seed"
          ],
          [
           "Nutmeg, mace and cardamoms"
          ],
          [
           "Nuts nes"
          ],
          [
           "Oats"
          ],
          [
           "Offals nes"
          ],
          [
           "Offals, edible, cattle"
          ],
          [
           "Offals, edible, goats"
          ],
          [
           "Offals, horses"
          ],
          [
           "Offals, liver chicken"
          ],
          [
           "Offals, liver duck"
          ],
          [
           "Offals, liver geese"
          ],
          [
           "Offals, liver turkeys"
          ],
          [
           "Offals, pigs, edible"
          ],
          [
           "Offals, sheep,edible"
          ],
          [
           "Oilcrops"
          ],
          [
           "Oilcrops, Cake Equivalent"
          ],
          [
           "Oilcrops, Oil Equivalent"
          ],
          [
           "Oilseeds nes"
          ],
          [
           "Olives"
          ],
          [
           "Onions, dry"
          ],
          [
           "Onions, shallots, green"
          ],
          [
           "Oranges"
          ],
          [
           "Papayas"
          ],
          [
           "Peaches and nectarines"
          ],
          [
           "Pears"
          ],
          [
           "Peas, dry"
          ],
          [
           "Peas, green"
          ],
          [
           "Pepper (piper spp.)"
          ],
          [
           "Persimmons"
          ],
          [
           "Pigeon peas"
          ],
          [
           "Pineapples"
          ],
          [
           "Pistachios"
          ],
          [
           "Plantains and others"
          ],
          [
           "Plums and sloes"
          ],
          [
           "Poppy seed"
          ],
          [
           "Potatoes"
          ],
          [
           "Pulses nes"
          ],
          [
           "Pulses, Total"
          ],
          [
           "Pumpkins, squash and gourds"
          ],
          [
           "Quinces"
          ],
          [
           "Quinoa"
          ],
          [
           "Rapeseed"
          ],
          [
           "Raspberries"
          ],
          [
           "Rice, paddy"
          ],
          [
           "Roots and Tubers, Total"
          ],
          [
           "Roots and tubers nes"
          ],
          [
           "Rye"
          ],
          [
           "Safflower seed"
          ],
          [
           "Sesame seed"
          ],
          [
           "Snails, not sea"
          ],
          [
           "Sorghum"
          ],
          [
           "Soybeans"
          ],
          [
           "Spices nes"
          ],
          [
           "Spinach"
          ],
          [
           "Strawberries"
          ],
          [
           "String beans"
          ],
          [
           "Sugar Crops Primary"
          ],
          [
           "Sugar beet"
          ],
          [
           "Sugar cane"
          ],
          [
           "Sunflower seed"
          ],
          [
           "Sweet corn frozen"
          ],
          [
           "Sweet corn prep or preserved"
          ],
          [
           "Sweet potatoes"
          ],
          [
           "Tangerines, mandarins, clementines, satsumas"
          ],
          [
           "Taro (cocoyam)"
          ],
          [
           "Tea"
          ],
          [
           "Tobacco, unmanufactured"
          ],
          [
           "Tomatoes"
          ],
          [
           "Treenuts, Total"
          ],
          [
           "Triticale"
          ],
          [
           "Vanilla"
          ],
          [
           "Vegetables Primary"
          ],
          [
           "Vegetables, fresh nes"
          ],
          [
           "Vegetables, leguminous nes"
          ],
          [
           "Walnuts, with shell"
          ],
          [
           "Watermelons"
          ],
          [
           "Wheat"
          ],
          [
           "Yams"
          ],
          [
           "Yautia (cocoyam)"
          ],
          [
           "Almonds, with shell"
          ],
          [
           "Anise, badian, fennel, coriander"
          ],
          [
           "Apples"
          ],
          [
           "Apricots"
          ],
          [
           "Areca nuts"
          ],
          [
           "Artichokes"
          ],
          [
           "Asparagus"
          ],
          [
           "Avocados"
          ],
          [
           "Bambara beans"
          ],
          [
           "Bananas"
          ],
          [
           "Barley"
          ],
          [
           "Beans, dry"
          ],
          [
           "Beans, green"
          ],
          [
           "Berries nes"
          ],
          [
           "Blueberries"
          ],
          [
           "Brazil nuts, with shell"
          ],
          [
           "Broad beans, horse beans, dry"
          ],
          [
           "Buckwheat"
          ],
          [
           "Cabbages and other brassicas"
          ],
          [
           "Canary seed"
          ],
          [
           "Carobs"
          ],
          [
           "Carrots and turnips"
          ],
          [
           "Cashew nuts, with shell"
          ],
          [
           "Castor oil seed"
          ],
          [
           "Cauliflowers and broccoli"
          ],
          [
           "Cereals nes"
          ],
          [
           "Cereals, Total"
          ],
          [
           "Cherries"
          ],
          [
           "Cherries, sour"
          ],
          [
           "Chestnut"
          ],
          [
           "Chick peas"
          ],
          [
           "Chicory roots"
          ],
          [
           "Chillies and peppers, dry"
          ],
          [
           "Chillies and peppers, green"
          ],
          [
           "Cinnamon (cannella)"
          ],
          [
           "Citrus Fruit, Total"
          ],
          [
           "Cloves"
          ],
          [
           "Cocoa, beans"
          ],
          [
           "Coconuts"
          ],
          [
           "Coffee, green"
          ],
          [
           "Cow peas, dry"
          ],
          [
           "Cranberries"
          ],
          [
           "Cucumbers and gherkins"
          ],
          [
           "Currants"
          ],
          [
           "Dates"
          ],
          [
           "Eggplants (aubergines)"
          ],
          [
           "Eggs, hen, in shell"
          ],
          [
           "Eggs, other bird, in shell"
          ],
          [
           "Fat, cattle"
          ],
          [
           "Fat, goats"
          ],
          [
           "Fat, pigs"
          ],
          [
           "Fat, sheep"
          ],
          [
           "Fibre Crops Primary"
          ],
          [
           "Figs"
          ],
          [
           "Flax fibre and tow"
          ],
          [
           "Fonio"
          ],
          [
           "Fruit Primary"
          ],
          [
           "Fruit, citrus nes"
          ],
          [
           "Fruit, fresh nes"
          ],
          [
           "Fruit, stone nes"
          ],
          [
           "Fruit, tropical fresh nes"
          ],
          [
           "Garlic"
          ],
          [
           "Ginger"
          ],
          [
           "Grain, mixed"
          ],
          [
           "Grapefruit (inc. pomelos)"
          ],
          [
           "Grapes"
          ],
          [
           "Groundnuts, with shell"
          ],
          [
           "Hazelnuts, with shell"
          ],
          [
           "Hemp tow waste"
          ],
          [
           "Hempseed"
          ],
          [
           "Honey, natural"
          ],
          [
           "Hops"
          ],
          [
           "Kiwi fruit"
          ],
          [
           "Kola nuts"
          ],
          [
           "Leeks, other alliaceous vegetables"
          ],
          [
           "Lemons and limes"
          ],
          [
           "Lentils"
          ],
          [
           "Lettuce and chicory"
          ],
          [
           "Linseed"
          ],
          [
           "Lupins"
          ],
          [
           "Maize"
          ],
          [
           "Maize, green"
          ],
          [
           "Mangoes, mangosteens, guavas"
          ],
          [
           "Maté"
          ],
          [
           "Meat nes"
          ],
          [
           "Meat, bird nes"
          ],
          [
           "Meat, camel"
          ],
          [
           "Meat, cattle"
          ],
          [
           "Meat, chicken"
          ],
          [
           "Meat, duck"
          ],
          [
           "Meat, game"
          ],
          [
           "Meat, goat"
          ],
          [
           "Meat, goose and guinea fowl"
          ],
          [
           "Meat, horse"
          ],
          [
           "Meat, pig"
          ],
          [
           "Meat, rabbit"
          ],
          [
           "Meat, sheep"
          ],
          [
           "Meat, turkey"
          ],
          [
           "Melons, other (inc.cantaloupes)"
          ],
          [
           "Melonseed"
          ],
          [
           "Milk, whole fresh cow"
          ],
          [
           "Milk, whole fresh goat"
          ],
          [
           "Milk, whole fresh sheep"
          ],
          [
           "Millet"
          ],
          [
           "Mushrooms and truffles"
          ],
          [
           "Mustard seed"
          ],
          [
           "Nutmeg, mace and cardamoms"
          ],
          [
           "Nuts nes"
          ],
          [
           "Oats"
          ],
          [
           "Offals nes"
          ],
          [
           "Offals, edible, cattle"
          ],
          [
           "Offals, edible, goats"
          ],
          [
           "Offals, horses"
          ],
          [
           "Offals, liver chicken"
          ],
          [
           "Offals, liver duck"
          ],
          [
           "Offals, liver geese"
          ],
          [
           "Offals, liver turkeys"
          ],
          [
           "Offals, pigs, edible"
          ],
          [
           "Offals, sheep,edible"
          ],
          [
           "Oilcrops"
          ],
          [
           "Oilcrops, Cake Equivalent"
          ],
          [
           "Oilcrops, Oil Equivalent"
          ],
          [
           "Oilseeds nes"
          ],
          [
           "Olives"
          ],
          [
           "Onions, dry"
          ],
          [
           "Onions, shallots, green"
          ],
          [
           "Oranges"
          ],
          [
           "Papayas"
          ],
          [
           "Peaches and nectarines"
          ],
          [
           "Pears"
          ],
          [
           "Peas, dry"
          ],
          [
           "Peas, green"
          ],
          [
           "Pepper (piper spp.)"
          ],
          [
           "Persimmons"
          ],
          [
           "Pigeon peas"
          ],
          [
           "Pineapples"
          ],
          [
           "Pistachios"
          ],
          [
           "Plantains and others"
          ],
          [
           "Plums and sloes"
          ],
          [
           "Poppy seed"
          ],
          [
           "Potatoes"
          ],
          [
           "Pulses nes"
          ],
          [
           "Pulses, Total"
          ],
          [
           "Pumpkins, squash and gourds"
          ],
          [
           "Quinces"
          ],
          [
           "Quinoa"
          ],
          [
           "Rapeseed"
          ],
          [
           "Raspberries"
          ],
          [
           "Rice, paddy"
          ],
          [
           "Roots and Tubers, Total"
          ],
          [
           "Roots and tubers nes"
          ],
          [
           "Rye"
          ],
          [
           "Safflower seed"
          ],
          [
           "Sesame seed"
          ],
          [
           "Snails, not sea"
          ],
          [
           "Sorghum"
          ],
          [
           "Soybeans"
          ],
          [
           "Spices nes"
          ],
          [
           "Spinach"
          ],
          [
           "Strawberries"
          ],
          [
           "String beans"
          ],
          [
           "Sugar Crops Primary"
          ],
          [
           "Sugar beet"
          ],
          [
           "Sugar cane"
          ],
          [
           "Sunflower seed"
          ],
          [
           "Sweet corn frozen"
          ],
          [
           "Sweet corn prep or preserved"
          ],
          [
           "Sweet potatoes"
          ],
          [
           "Tangerines, mandarins, clementines, satsumas"
          ],
          [
           "Taro (cocoyam)"
          ],
          [
           "Tea"
          ],
          [
           "Tobacco, unmanufactured"
          ],
          [
           "Tomatoes"
          ],
          [
           "Treenuts, Total"
          ],
          [
           "Triticale"
          ],
          [
           "Vanilla"
          ],
          [
           "Vegetables Primary"
          ],
          [
           "Vegetables, fresh nes"
          ],
          [
           "Vegetables, leguminous nes"
          ],
          [
           "Walnuts, with shell"
          ],
          [
           "Watermelons"
          ],
          [
           "Wheat"
          ],
          [
           "Yams"
          ],
          [
           "Yautia (cocoyam)"
          ],
          [
           "Almonds, with shell"
          ],
          [
           "Anise, badian, fennel, coriander"
          ],
          [
           "Apples"
          ],
          [
           "Apricots"
          ],
          [
           "Artichokes"
          ],
          [
           "Asparagus"
          ],
          [
           "Avocados"
          ],
          [
           "Bananas"
          ],
          [
           "Barley"
          ],
          [
           "Beans, dry"
          ],
          [
           "Beans, green"
          ],
          [
           "Berries nes"
          ],
          [
           "Blueberries"
          ],
          [
           "Broad beans, horse beans, dry"
          ],
          [
           "Buckwheat"
          ],
          [
           "Cabbages and other brassicas"
          ],
          [
           "Canary seed"
          ],
          [
           "Carobs"
          ],
          [
           "Carrots and turnips"
          ],
          [
           "Cashew nuts, with shell"
          ],
          [
           "Castor oil seed"
          ],
          [
           "Cauliflowers and broccoli"
          ],
          [
           "Cereals nes"
          ],
          [
           "Cereals, Total"
          ],
          [
           "Cherries"
          ],
          [
           "Cherries, sour"
          ],
          [
           "Chestnut"
          ],
          [
           "Chick peas"
          ],
          [
           "Chicory roots"
          ],
          [
           "Chillies and peppers, dry"
          ],
          [
           "Chillies and peppers, green"
          ],
          [
           "Cinnamon (cannella)"
          ],
          [
           "Cloves"
          ],
          [
           "Cocoa, beans"
          ],
          [
           "Coconuts"
          ],
          [
           "Coffee, green"
          ],
          [
           "Cow peas, dry"
          ],
          [
           "Cucumbers and gherkins"
          ],
          [
           "Currants"
          ],
          [
           "Dates"
          ],
          [
           "Eggplants (aubergines)"
          ],
          [
           "Eggs, hen, in shell"
          ],
          [
           "Eggs, other bird, in shell"
          ],
          [
           "Fat, cattle"
          ],
          [
           "Fat, goats"
          ],
          [
           "Fat, pigs"
          ],
          [
           "Fat, sheep"
          ],
          [
           "Fibre Crops Primary"
          ],
          [
           "Figs"
          ],
          [
           "Flax fibre and tow"
          ],
          [
           "Fonio"
          ],
          [
           "Fruit Primary"
          ],
          [
           "Fruit, citrus nes"
          ],
          [
           "Fruit, fresh nes"
          ],
          [
           "Fruit, stone nes"
          ],
          [
           "Garlic"
          ],
          [
           "Ginger"
          ],
          [
           "Gooseberries"
          ],
          [
           "Grapefruit (inc. pomelos)"
          ],
          [
           "Grapes"
          ],
          [
           "Groundnuts, with shell"
          ],
          [
           "Hazelnuts, with shell"
          ],
          [
           "Hemp tow waste"
          ],
          [
           "Hempseed"
          ],
          [
           "Honey, natural"
          ],
          [
           "Hops"
          ],
          [
           "Kiwi fruit"
          ],
          [
           "Kola nuts"
          ],
          [
           "Leeks, other alliaceous vegetables"
          ],
          [
           "Lemons and limes"
          ],
          [
           "Lentils"
          ],
          [
           "Lettuce and chicory"
          ],
          [
           "Linseed"
          ],
          [
           "Lupins"
          ],
          [
           "Maize"
          ],
          [
           "Maize, green"
          ],
          [
           "Mangoes, mangosteens, guavas"
          ],
          [
           "Maté"
          ],
          [
           "Meat nes"
          ],
          [
           "Meat, bird nes"
          ],
          [
           "Meat, cattle"
          ],
          [
           "Meat, chicken"
          ],
          [
           "Meat, duck"
          ],
          [
           "Meat, game"
          ],
          [
           "Meat, goat"
          ],
          [
           "Meat, goose and guinea fowl"
          ],
          [
           "Meat, horse"
          ],
          [
           "Meat, pig"
          ],
          [
           "Meat, rabbit"
          ],
          [
           "Meat, sheep"
          ],
          [
           "Meat, turkey"
          ],
          [
           "Melons, other (inc.cantaloupes)"
          ],
          [
           "Melonseed"
          ],
          [
           "Milk, whole fresh cow"
          ],
          [
           "Milk, whole fresh goat"
          ],
          [
           "Milk, whole fresh sheep"
          ],
          [
           "Millet"
          ],
          [
           "Mushrooms and truffles"
          ],
          [
           "Mustard seed"
          ],
          [
           "Nutmeg, mace and cardamoms"
          ],
          [
           "Nuts nes"
          ],
          [
           "Oats"
          ],
          [
           "Offals nes"
          ],
          [
           "Offals, edible, cattle"
          ],
          [
           "Offals, edible, goats"
          ],
          [
           "Offals, horses"
          ],
          [
           "Offals, liver duck"
          ],
          [
           "Offals, liver geese"
          ],
          [
           "Offals, liver turkeys"
          ],
          [
           "Offals, pigs, edible"
          ],
          [
           "Offals, sheep,edible"
          ],
          [
           "Oilcrops"
          ],
          [
           "Oilcrops, Cake Equivalent"
          ],
          [
           "Oilcrops, Oil Equivalent"
          ],
          [
           "Oilseeds nes"
          ],
          [
           "Olives"
          ],
          [
           "Onions, dry"
          ],
          [
           "Onions, shallots, green"
          ],
          [
           "Oranges"
          ],
          [
           "Papayas"
          ],
          [
           "Peaches and nectarines"
          ],
          [
           "Pears"
          ],
          [
           "Peas, dry"
          ],
          [
           "Peas, green"
          ],
          [
           "Pepper (piper spp.)"
          ],
          [
           "Persimmons"
          ],
          [
           "Pigeon peas"
          ],
          [
           "Pineapples"
          ],
          [
           "Pistachios"
          ],
          [
           "Plantains and others"
          ],
          [
           "Plums and sloes"
          ],
          [
           "Poppy seed"
          ],
          [
           "Potatoes"
          ],
          [
           "Pulses nes"
          ],
          [
           "Pulses, Total"
          ],
          [
           "Pumpkins, squash and gourds"
          ],
          [
           "Quinces"
          ],
          [
           "Quinoa"
          ],
          [
           "Rapeseed"
          ],
          [
           "Raspberries"
          ],
          [
           "Rice, paddy"
          ],
          [
           "Roots and Tubers, Total"
          ],
          [
           "Roots and tubers nes"
          ],
          [
           "Rye"
          ],
          [
           "Safflower seed"
          ],
          [
           "Sesame seed"
          ],
          [
           "Snails, not sea"
          ],
          [
           "Sorghum"
          ],
          [
           "Soybeans"
          ],
          [
           "Spices nes"
          ],
          [
           "Spinach"
          ],
          [
           "Strawberries"
          ],
          [
           "Sugar Crops Primary"
          ],
          [
           "Sugar beet"
          ],
          [
           "Sugar cane"
          ],
          [
           "Sunflower seed"
          ],
          [
           "Sweet corn frozen"
          ],
          [
           "Sweet corn prep or preserved"
          ],
          [
           "Sweet potatoes"
          ],
          [
           "Tangerines, mandarins, clementines, satsumas"
          ],
          [
           "Taro (cocoyam)"
          ],
          [
           "Tea"
          ],
          [
           "Tobacco, unmanufactured"
          ],
          [
           "Tomatoes"
          ],
          [
           "Treenuts, Total"
          ],
          [
           "Triticale"
          ],
          [
           "Vanilla"
          ],
          [
           "Vegetables Primary"
          ],
          [
           "Vegetables, fresh nes"
          ],
          [
           "Vegetables, leguminous nes"
          ],
          [
           "Vetches"
          ],
          [
           "Walnuts, with shell"
          ],
          [
           "Watermelons"
          ],
          [
           "Wheat"
          ],
          [
           "Almonds, with shell"
          ],
          [
           "Anise, badian, fennel, coriander"
          ],
          [
           "Apples"
          ],
          [
           "Apricots"
          ],
          [
           "Artichokes"
          ],
          [
           "Asparagus"
          ],
          [
           "Avocados"
          ],
          [
           "Bananas"
          ],
          [
           "Barley"
          ],
          [
           "Beans, dry"
          ],
          [
           "Beans, green"
          ],
          [
           "Berries nes"
          ],
          [
           "Blueberries"
          ],
          [
           "Broad beans, horse beans, dry"
          ],
          [
           "Buckwheat"
          ],
          [
           "Cabbages and other brassicas"
          ],
          [
           "Canary seed"
          ],
          [
           "Carobs"
          ],
          [
           "Carrots and turnips"
          ],
          [
           "Cashew nuts, with shell"
          ],
          [
           "Castor oil seed"
          ],
          [
           "Cauliflowers and broccoli"
          ],
          [
           "Cereals nes"
          ],
          [
           "Cereals, Total"
          ],
          [
           "Cherries"
          ],
          [
           "Cherries, sour"
          ],
          [
           "Chestnut"
          ],
          [
           "Chick peas"
          ],
          [
           "Chicory roots"
          ],
          [
           "Chillies and peppers, dry"
          ],
          [
           "Chillies and peppers, green"
          ],
          [
           "Cinnamon (cannella)"
          ],
          [
           "Cloves"
          ],
          [
           "Cocoa, beans"
          ],
          [
           "Coconuts"
          ],
          [
           "Coffee, green"
          ],
          [
           "Cow peas, dry"
          ],
          [
           "Cucumbers and gherkins"
          ],
          [
           "Currants"
          ],
          [
           "Dates"
          ],
          [
           "Eggplants (aubergines)"
          ],
          [
           "Eggs, hen, in shell"
          ],
          [
           "Eggs, other bird, in shell"
          ],
          [
           "Fat, cattle"
          ],
          [
           "Fat, goats"
          ],
          [
           "Fat, pigs"
          ],
          [
           "Fat, sheep"
          ],
          [
           "Fibre Crops Primary"
          ],
          [
           "Flax fibre and tow"
          ],
          [
           "Fonio"
          ],
          [
           "Fruit Primary"
          ],
          [
           "Fruit, citrus nes"
          ],
          [
           "Fruit, fresh nes"
          ],
          [
           "Fruit, stone nes"
          ],
          [
           "Garlic"
          ],
          [
           "Ginger"
          ],
          [
           "Gooseberries"
          ],
          [
           "Grapefruit (inc. pomelos)"
          ],
          [
           "Grapes"
          ],
          [
           "Groundnuts, with shell"
          ],
          [
           "Hazelnuts, with shell"
          ],
          [
           "Hemp tow waste"
          ],
          [
           "Hempseed"
          ],
          [
           "Honey, natural"
          ],
          [
           "Hops"
          ],
          [
           "Kiwi fruit"
          ],
          [
           "Kola nuts"
          ],
          [
           "Leeks, other alliaceous vegetables"
          ],
          [
           "Lemons and limes"
          ],
          [
           "Lentils"
          ],
          [
           "Lettuce and chicory"
          ],
          [
           "Linseed"
          ],
          [
           "Lupins"
          ],
          [
           "Maize"
          ],
          [
           "Maize, green"
          ],
          [
           "Mangoes, mangosteens, guavas"
          ],
          [
           "Maté"
          ],
          [
           "Meat nes"
          ],
          [
           "Meat, bird nes"
          ],
          [
           "Meat, cattle"
          ],
          [
           "Meat, chicken"
          ],
          [
           "Meat, duck"
          ],
          [
           "Meat, game"
          ],
          [
           "Meat, goat"
          ],
          [
           "Meat, goose and guinea fowl"
          ],
          [
           "Meat, horse"
          ],
          [
           "Meat, pig"
          ],
          [
           "Meat, rabbit"
          ],
          [
           "Meat, sheep"
          ],
          [
           "Meat, turkey"
          ],
          [
           "Melons, other (inc.cantaloupes)"
          ],
          [
           "Melonseed"
          ],
          [
           "Milk, whole fresh cow"
          ],
          [
           "Milk, whole fresh goat"
          ],
          [
           "Milk, whole fresh sheep"
          ],
          [
           "Millet"
          ],
          [
           "Mushrooms and truffles"
          ],
          [
           "Mustard seed"
          ],
          [
           "Nutmeg, mace and cardamoms"
          ],
          [
           "Nuts nes"
          ],
          [
           "Oats"
          ],
          [
           "Offals nes"
          ],
          [
           "Offals, edible, cattle"
          ],
          [
           "Offals, edible, goats"
          ],
          [
           "Offals, horses"
          ],
          [
           "Offals, liver duck"
          ],
          [
           "Offals, liver geese"
          ],
          [
           "Offals, liver turkeys"
          ],
          [
           "Offals, pigs, edible"
          ],
          [
           "Offals, sheep,edible"
          ],
          [
           "Oilcrops"
          ],
          [
           "Oilcrops, Cake Equivalent"
          ],
          [
           "Oilcrops, Oil Equivalent"
          ],
          [
           "Oilseeds nes"
          ],
          [
           "Olives"
          ],
          [
           "Onions, dry"
          ],
          [
           "Onions, shallots, green"
          ],
          [
           "Oranges"
          ],
          [
           "Papayas"
          ],
          [
           "Peaches and nectarines"
          ],
          [
           "Pears"
          ],
          [
           "Peas, dry"
          ],
          [
           "Peas, green"
          ],
          [
           "Pepper (piper spp.)"
          ],
          [
           "Persimmons"
          ],
          [
           "Pigeon peas"
          ],
          [
           "Pineapples"
          ],
          [
           "Pistachios"
          ],
          [
           "Plantains and others"
          ],
          [
           "Plums and sloes"
          ],
          [
           "Poppy seed"
          ],
          [
           "Potatoes"
          ],
          [
           "Pulses nes"
          ],
          [
           "Pulses, Total"
          ],
          [
           "Pumpkins, squash and gourds"
          ],
          [
           "Quinces"
          ],
          [
           "Quinoa"
          ],
          [
           "Rapeseed"
          ],
          [
           "Raspberries"
          ],
          [
           "Rice, paddy"
          ],
          [
           "Roots and Tubers, Total"
          ],
          [
           "Roots and tubers nes"
          ],
          [
           "Rye"
          ],
          [
           "Safflower seed"
          ],
          [
           "Sesame seed"
          ],
          [
           "Snails, not sea"
          ],
          [
           "Sorghum"
          ],
          [
           "Soybeans"
          ],
          [
           "Spices nes"
          ],
          [
           "Spinach"
          ],
          [
           "Strawberries"
          ],
          [
           "Sugar Crops Primary"
          ],
          [
           "Sugar beet"
          ],
          [
           "Sugar cane"
          ],
          [
           "Sunflower seed"
          ],
          [
           "Sweet corn frozen"
          ],
          [
           "Sweet corn prep or preserved"
          ],
          [
           "Sweet potatoes"
          ],
          [
           "Tangerines, mandarins, clementines, satsumas"
          ],
          [
           "Taro (cocoyam)"
          ],
          [
           "Tea"
          ],
          [
           "Tobacco, unmanufactured"
          ],
          [
           "Tomatoes"
          ],
          [
           "Treenuts, Total"
          ],
          [
           "Triticale"
          ],
          [
           "Vanilla"
          ],
          [
           "Vegetables Primary"
          ],
          [
           "Vegetables, fresh nes"
          ],
          [
           "Vegetables, leguminous nes"
          ],
          [
           "Vetches"
          ],
          [
           "Walnuts, with shell"
          ],
          [
           "Watermelons"
          ],
          [
           "Wheat"
          ],
          [
           "Almonds, with shell"
          ],
          [
           "Anise, badian, fennel, coriander"
          ],
          [
           "Apples"
          ],
          [
           "Apricots"
          ],
          [
           "Artichokes"
          ],
          [
           "Asparagus"
          ],
          [
           "Avocados"
          ],
          [
           "Bananas"
          ],
          [
           "Barley"
          ],
          [
           "Beans, dry"
          ],
          [
           "Beans, green"
          ],
          [
           "Berries nes"
          ],
          [
           "Blueberries"
          ],
          [
           "Broad beans, horse beans, dry"
          ],
          [
           "Buckwheat"
          ],
          [
           "Cabbages and other brassicas"
          ],
          [
           "Canary seed"
          ],
          [
           "Carobs"
          ],
          [
           "Carrots and turnips"
          ],
          [
           "Cashew nuts, with shell"
          ],
          [
           "Castor oil seed"
          ],
          [
           "Cauliflowers and broccoli"
          ],
          [
           "Cereals nes"
          ],
          [
           "Cereals, Total"
          ],
          [
           "Cherries"
          ],
          [
           "Cherries, sour"
          ],
          [
           "Chestnut"
          ],
          [
           "Chick peas"
          ],
          [
           "Chicory roots"
          ],
          [
           "Chillies and peppers, dry"
          ],
          [
           "Chillies and peppers, green"
          ],
          [
           "Cinnamon (cannella)"
          ],
          [
           "Citrus Fruit, Total"
          ],
          [
           "Cloves"
          ],
          [
           "Cocoa, beans"
          ],
          [
           "Coconuts"
          ],
          [
           "Coffee, green"
          ],
          [
           "Cow peas, dry"
          ],
          [
           "Cucumbers and gherkins"
          ],
          [
           "Currants"
          ],
          [
           "Dates"
          ],
          [
           "Eggplants (aubergines)"
          ],
          [
           "Eggs, hen, in shell"
          ],
          [
           "Eggs, other bird, in shell"
          ],
          [
           "Fat, cattle"
          ],
          [
           "Fat, goats"
          ],
          [
           "Fat, pigs"
          ],
          [
           "Fat, sheep"
          ],
          [
           "Fibre Crops Primary"
          ],
          [
           "Figs"
          ],
          [
           "Fonio"
          ],
          [
           "Fruit Primary"
          ],
          [
           "Fruit, citrus nes"
          ],
          [
           "Fruit, fresh nes"
          ],
          [
           "Fruit, pome nes"
          ],
          [
           "Fruit, stone nes"
          ],
          [
           "Fruit, tropical fresh nes"
          ],
          [
           "Garlic"
          ],
          [
           "Ginger"
          ],
          [
           "Gooseberries"
          ],
          [
           "Grain, mixed"
          ],
          [
           "Grapefruit (inc. pomelos)"
          ],
          [
           "Grapes"
          ],
          [
           "Groundnuts, with shell"
          ],
          [
           "Hazelnuts, with shell"
          ],
          [
           "Hemp tow waste"
          ],
          [
           "Hempseed"
          ],
          [
           "Honey, natural"
          ],
          [
           "Kiwi fruit"
          ],
          [
           "Kola nuts"
          ],
          [
           "Leeks, other alliaceous vegetables"
          ],
          [
           "Lemons and limes"
          ],
          [
           "Lentils"
          ],
          [
           "Lettuce and chicory"
          ],
          [
           "Linseed"
          ],
          [
           "Lupins"
          ],
          [
           "Maize"
          ],
          [
           "Maize, green"
          ],
          [
           "Mangoes, mangosteens, guavas"
          ],
          [
           "Maté"
          ],
          [
           "Meat nes"
          ],
          [
           "Meat, bird nes"
          ],
          [
           "Meat, cattle"
          ],
          [
           "Meat, chicken"
          ],
          [
           "Meat, duck"
          ],
          [
           "Meat, game"
          ],
          [
           "Meat, goat"
          ],
          [
           "Meat, goose and guinea fowl"
          ],
          [
           "Meat, horse"
          ],
          [
           "Meat, pig"
          ],
          [
           "Meat, rabbit"
          ],
          [
           "Meat, sheep"
          ],
          [
           "Meat, turkey"
          ],
          [
           "Melons, other (inc.cantaloupes)"
          ],
          [
           "Melonseed"
          ],
          [
           "Milk, whole fresh cow"
          ],
          [
           "Milk, whole fresh goat"
          ],
          [
           "Milk, whole fresh sheep"
          ],
          [
           "Millet"
          ],
          [
           "Mushrooms and truffles"
          ],
          [
           "Mustard seed"
          ],
          [
           "Nutmeg, mace and cardamoms"
          ],
          [
           "Nuts nes"
          ],
          [
           "Oats"
          ],
          [
           "Offals nes"
          ],
          [
           "Offals, edible, cattle"
          ],
          [
           "Offals, edible, goats"
          ],
          [
           "Offals, horses"
          ],
          [
           "Offals, liver chicken"
          ],
          [
           "Offals, liver duck"
          ],
          [
           "Offals, liver geese"
          ],
          [
           "Offals, liver turkeys"
          ],
          [
           "Offals, pigs, edible"
          ],
          [
           "Offals, sheep,edible"
          ],
          [
           "Oilcrops"
          ],
          [
           "Oilcrops, Cake Equivalent"
          ],
          [
           "Oilcrops, Oil Equivalent"
          ],
          [
           "Oilseeds nes"
          ],
          [
           "Olives"
          ],
          [
           "Onions, dry"
          ],
          [
           "Onions, shallots, green"
          ],
          [
           "Oranges"
          ],
          [
           "Papayas"
          ],
          [
           "Peaches and nectarines"
          ],
          [
           "Pears"
          ],
          [
           "Peas, dry"
          ],
          [
           "Peas, green"
          ],
          [
           "Pepper (piper spp.)"
          ],
          [
           "Persimmons"
          ],
          [
           "Pigeon peas"
          ],
          [
           "Pineapples"
          ],
          [
           "Pistachios"
          ],
          [
           "Plantains and others"
          ],
          [
           "Plums and sloes"
          ],
          [
           "Poppy seed"
          ],
          [
           "Potatoes"
          ],
          [
           "Pulses nes"
          ],
          [
           "Pulses, Total"
          ],
          [
           "Pumpkins, squash and gourds"
          ],
          [
           "Quinces"
          ],
          [
           "Quinoa"
          ],
          [
           "Rapeseed"
          ],
          [
           "Raspberries"
          ],
          [
           "Rice, paddy"
          ],
          [
           "Roots and Tubers, Total"
          ],
          [
           "Roots and tubers nes"
          ],
          [
           "Rye"
          ],
          [
           "Safflower seed"
          ],
          [
           "Sesame seed"
          ],
          [
           "Snails, not sea"
          ],
          [
           "Sorghum"
          ],
          [
           "Soybeans"
          ],
          [
           "Spices nes"
          ],
          [
           "Spinach"
          ],
          [
           "Strawberries"
          ],
          [
           "Sugar Crops Primary"
          ],
          [
           "Sugar beet"
          ],
          [
           "Sugar cane"
          ],
          [
           "Sunflower seed"
          ],
          [
           "Sweet corn frozen"
          ],
          [
           "Sweet corn prep or preserved"
          ],
          [
           "Sweet potatoes"
          ],
          [
           "Tangerines, mandarins, clementines, satsumas"
          ],
          [
           "Taro (cocoyam)"
          ],
          [
           "Tea"
          ],
          [
           "Tobacco, unmanufactured"
          ],
          [
           "Tomatoes"
          ],
          [
           "Treenuts, Total"
          ],
          [
           "Triticale"
          ],
          [
           "Vanilla"
          ],
          [
           "Vegetables Primary"
          ],
          [
           "Vegetables, fresh nes"
          ],
          [
           "Vegetables, leguminous nes"
          ],
          [
           "Vetches"
          ],
          [
           "Walnuts, with shell"
          ],
          [
           "Watermelons"
          ],
          [
           "Wheat"
          ],
          [
           "Yams"
          ],
          [
           "Almonds, with shell"
          ],
          [
           "Anise, badian, fennel, coriander"
          ],
          [
           "Apples"
          ],
          [
           "Apricots"
          ],
          [
           "Areca nuts"
          ],
          [
           "Artichokes"
          ],
          [
           "Asparagus"
          ],
          [
           "Avocados"
          ],
          [
           "Bambara beans"
          ],
          [
           "Bananas"
          ],
          [
           "Barley"
          ],
          [
           "Beans, dry"
          ],
          [
           "Beans, green"
          ],
          [
           "Berries nes"
          ],
          [
           "Blueberries"
          ],
          [
           "Brazil nuts, with shell"
          ],
          [
           "Broad beans, horse beans, dry"
          ],
          [
           "Buckwheat"
          ],
          [
           "Cabbages and other brassicas"
          ],
          [
           "Canary seed"
          ],
          [
           "Carobs"
          ],
          [
           "Carrots and turnips"
          ],
          [
           "Cashew nuts, with shell"
          ],
          [
           "Castor oil seed"
          ],
          [
           "Cauliflowers and broccoli"
          ],
          [
           "Cereals nes"
          ],
          [
           "Cereals, Total"
          ],
          [
           "Cherries"
          ],
          [
           "Cherries, sour"
          ],
          [
           "Chestnut"
          ],
          [
           "Chick peas"
          ],
          [
           "Chicory roots"
          ],
          [
           "Chillies and peppers, dry"
          ],
          [
           "Chillies and peppers, green"
          ],
          [
           "Cinnamon (cannella)"
          ],
          [
           "Cloves"
          ],
          [
           "Cocoa, beans"
          ],
          [
           "Coconuts"
          ],
          [
           "Coffee, green"
          ],
          [
           "Cow peas, dry"
          ],
          [
           "Cranberries"
          ],
          [
           "Cucumbers and gherkins"
          ],
          [
           "Currants"
          ],
          [
           "Dates"
          ],
          [
           "Eggplants (aubergines)"
          ],
          [
           "Eggs, hen, in shell"
          ],
          [
           "Eggs, other bird, in shell"
          ],
          [
           "Fat, cattle"
          ],
          [
           "Fat, goats"
          ],
          [
           "Fat, pigs"
          ],
          [
           "Fat, sheep"
          ],
          [
           "Fibre Crops Primary"
          ],
          [
           "Flax fibre and tow"
          ],
          [
           "Fonio"
          ],
          [
           "Fruit Primary"
          ],
          [
           "Fruit, citrus nes"
          ],
          [
           "Fruit, fresh nes"
          ],
          [
           "Fruit, tropical fresh nes"
          ],
          [
           "Garlic"
          ],
          [
           "Ginger"
          ],
          [
           "Gooseberries"
          ],
          [
           "Grain, mixed"
          ],
          [
           "Grapefruit (inc. pomelos)"
          ],
          [
           "Grapes"
          ],
          [
           "Groundnuts, with shell"
          ],
          [
           "Hazelnuts, with shell"
          ],
          [
           "Hemp tow waste"
          ],
          [
           "Hempseed"
          ],
          [
           "Honey, natural"
          ],
          [
           "Kiwi fruit"
          ],
          [
           "Kola nuts"
          ],
          [
           "Leeks, other alliaceous vegetables"
          ],
          [
           "Lemons and limes"
          ],
          [
           "Lentils"
          ],
          [
           "Lettuce and chicory"
          ],
          [
           "Linseed"
          ],
          [
           "Maize"
          ],
          [
           "Maize, green"
          ],
          [
           "Mangoes, mangosteens, guavas"
          ],
          [
           "Maté"
          ],
          [
           "Meat, bird nes"
          ],
          [
           "Meat, camel"
          ],
          [
           "Meat, cattle"
          ],
          [
           "Meat, chicken"
          ],
          [
           "Meat, duck"
          ],
          [
           "Meat, game"
          ],
          [
           "Meat, goat"
          ],
          [
           "Meat, goose and guinea fowl"
          ],
          [
           "Meat, horse"
          ],
          [
           "Meat, pig"
          ],
          [
           "Meat, rabbit"
          ],
          [
           "Meat, sheep"
          ],
          [
           "Meat, turkey"
          ],
          [
           "Melons, other (inc.cantaloupes)"
          ],
          [
           "Melonseed"
          ],
          [
           "Milk, whole fresh cow"
          ],
          [
           "Milk, whole fresh goat"
          ],
          [
           "Millet"
          ],
          [
           "Mushrooms and truffles"
          ],
          [
           "Mustard seed"
          ],
          [
           "Nutmeg, mace and cardamoms"
          ],
          [
           "Nuts nes"
          ],
          [
           "Oats"
          ],
          [
           "Offals nes"
          ],
          [
           "Offals, edible, cattle"
          ],
          [
           "Offals, edible, goats"
          ],
          [
           "Offals, horses"
          ],
          [
           "Offals, liver chicken"
          ],
          [
           "Offals, liver duck"
          ],
          [
           "Offals, liver geese"
          ],
          [
           "Offals, liver turkeys"
          ],
          [
           "Offals, pigs, edible"
          ],
          [
           "Offals, sheep,edible"
          ],
          [
           "Oilcrops"
          ],
          [
           "Oilcrops, Cake Equivalent"
          ],
          [
           "Oilcrops, Oil Equivalent"
          ],
          [
           "Oilseeds nes"
          ],
          [
           "Olives"
          ],
          [
           "Onions, dry"
          ],
          [
           "Onions, shallots, green"
          ],
          [
           "Oranges"
          ],
          [
           "Papayas"
          ],
          [
           "Peaches and nectarines"
          ],
          [
           "Pears"
          ],
          [
           "Peas, dry"
          ],
          [
           "Peas, green"
          ],
          [
           "Pepper (piper spp.)"
          ],
          [
           "Pigeon peas"
          ],
          [
           "Pineapples"
          ],
          [
           "Pistachios"
          ],
          [
           "Plantains and others"
          ],
          [
           "Plums and sloes"
          ],
          [
           "Poppy seed"
          ],
          [
           "Potatoes"
          ],
          [
           "Pulses nes"
          ],
          [
           "Pulses, Total"
          ],
          [
           "Pumpkins, squash and gourds"
          ],
          [
           "Quinces"
          ],
          [
           "Quinoa"
          ],
          [
           "Rapeseed"
          ],
          [
           "Raspberries"
          ],
          [
           "Rice, paddy"
          ],
          [
           "Roots and Tubers, Total"
          ],
          [
           "Roots and tubers nes"
          ],
          [
           "Rye"
          ],
          [
           "Safflower seed"
          ],
          [
           "Sesame seed"
          ],
          [
           "Snails, not sea"
          ],
          [
           "Sorghum"
          ],
          [
           "Soybeans"
          ],
          [
           "Spices nes"
          ],
          [
           "Spinach"
          ],
          [
           "Strawberries"
          ],
          [
           "Sugar Crops Primary"
          ],
          [
           "Sugar beet"
          ],
          [
           "Sugar cane"
          ],
          [
           "Sugar crops nes"
          ],
          [
           "Sunflower seed"
          ],
          [
           "Sweet corn frozen"
          ],
          [
           "Sweet corn prep or preserved"
          ],
          [
           "Sweet potatoes"
          ],
          [
           "Tangerines, mandarins, clementines, satsumas"
          ],
          [
           "Taro (cocoyam)"
          ],
          [
           "Tea"
          ],
          [
           "Tomatoes"
          ],
          [
           "Triticale"
          ],
          [
           "Vanilla"
          ],
          [
           "Vegetables Primary"
          ],
          [
           "Vegetables, fresh nes"
          ],
          [
           "Vegetables, leguminous nes"
          ],
          [
           "Walnuts, with shell"
          ],
          [
           "Watermelons"
          ],
          [
           "Wheat"
          ],
          [
           "Yams"
          ],
          [
           "Yautia (cocoyam)"
          ],
          [
           "Almonds, with shell"
          ],
          [
           "Anise, badian, fennel, coriander"
          ],
          [
           "Apples"
          ],
          [
           "Apricots"
          ],
          [
           "Areca nuts"
          ],
          [
           "Artichokes"
          ],
          [
           "Asparagus"
          ],
          [
           "Avocados"
          ],
          [
           "Bambara beans"
          ],
          [
           "Bananas"
          ],
          [
           "Barley"
          ],
          [
           "Beans, dry"
          ],
          [
           "Beans, green"
          ],
          [
           "Berries nes"
          ],
          [
           "Blueberries"
          ],
          [
           "Brazil nuts, with shell"
          ],
          [
           "Broad beans, horse beans, dry"
          ],
          [
           "Buckwheat"
          ],
          [
           "Cabbages and other brassicas"
          ],
          [
           "Canary seed"
          ],
          [
           "Carobs"
          ],
          [
           "Carrots and turnips"
          ],
          [
           "Cashew nuts, with shell"
          ],
          [
           "Castor oil seed"
          ],
          [
           "Cauliflowers and broccoli"
          ],
          [
           "Cereals nes"
          ],
          [
           "Cereals, Total"
          ],
          [
           "Cherries"
          ],
          [
           "Cherries, sour"
          ],
          [
           "Chestnut"
          ],
          [
           "Chick peas"
          ],
          [
           "Chicory roots"
          ],
          [
           "Chillies and peppers, dry"
          ],
          [
           "Chillies and peppers, green"
          ],
          [
           "Cinnamon (cannella)"
          ],
          [
           "Cloves"
          ],
          [
           "Cocoa, beans"
          ],
          [
           "Coconuts"
          ],
          [
           "Coffee, green"
          ],
          [
           "Cow peas, dry"
          ],
          [
           "Cranberries"
          ],
          [
           "Cucumbers and gherkins"
          ],
          [
           "Currants"
          ],
          [
           "Dates"
          ],
          [
           "Eggplants (aubergines)"
          ],
          [
           "Eggs, hen, in shell"
          ],
          [
           "Eggs, other bird, in shell"
          ],
          [
           "Fat, cattle"
          ],
          [
           "Fat, goats"
          ],
          [
           "Fat, pigs"
          ],
          [
           "Fat, sheep"
          ],
          [
           "Fibre Crops Primary"
          ],
          [
           "Flax fibre and tow"
          ],
          [
           "Fonio"
          ],
          [
           "Fruit Primary"
          ],
          [
           "Fruit, citrus nes"
          ],
          [
           "Fruit, fresh nes"
          ],
          [
           "Fruit, tropical fresh nes"
          ],
          [
           "Garlic"
          ],
          [
           "Ginger"
          ],
          [
           "Gooseberries"
          ],
          [
           "Grain, mixed"
          ],
          [
           "Grapefruit (inc. pomelos)"
          ],
          [
           "Grapes"
          ],
          [
           "Groundnuts, with shell"
          ],
          [
           "Hazelnuts, with shell"
          ],
          [
           "Hemp tow waste"
          ],
          [
           "Hempseed"
          ],
          [
           "Honey, natural"
          ],
          [
           "Kiwi fruit"
          ],
          [
           "Kola nuts"
          ],
          [
           "Leeks, other alliaceous vegetables"
          ],
          [
           "Lemons and limes"
          ],
          [
           "Lentils"
          ],
          [
           "Lettuce and chicory"
          ],
          [
           "Linseed"
          ],
          [
           "Maize"
          ],
          [
           "Mangoes, mangosteens, guavas"
          ],
          [
           "Maté"
          ],
          [
           "Meat nes"
          ],
          [
           "Meat, bird nes"
          ],
          [
           "Meat, camel"
          ],
          [
           "Meat, cattle"
          ],
          [
           "Meat, chicken"
          ],
          [
           "Meat, duck"
          ],
          [
           "Meat, game"
          ],
          [
           "Meat, goat"
          ],
          [
           "Meat, goose and guinea fowl"
          ],
          [
           "Meat, horse"
          ],
          [
           "Meat, pig"
          ],
          [
           "Meat, rabbit"
          ],
          [
           "Meat, sheep"
          ],
          [
           "Meat, turkey"
          ],
          [
           "Melons, other (inc.cantaloupes)"
          ],
          [
           "Melonseed"
          ],
          [
           "Milk, whole fresh cow"
          ],
          [
           "Milk, whole fresh goat"
          ],
          [
           "Millet"
          ],
          [
           "Mushrooms and truffles"
          ],
          [
           "Mustard seed"
          ],
          [
           "Nutmeg, mace and cardamoms"
          ],
          [
           "Nuts nes"
          ],
          [
           "Oats"
          ],
          [
           "Offals nes"
          ],
          [
           "Offals, edible, cattle"
          ],
          [
           "Offals, edible, goats"
          ],
          [
           "Offals, horses"
          ],
          [
           "Offals, liver duck"
          ],
          [
           "Offals, liver geese"
          ],
          [
           "Offals, liver turkeys"
          ],
          [
           "Offals, pigs, edible"
          ],
          [
           "Offals, sheep,edible"
          ],
          [
           "Oilcrops"
          ],
          [
           "Oilcrops, Cake Equivalent"
          ],
          [
           "Oilcrops, Oil Equivalent"
          ],
          [
           "Oilseeds nes"
          ],
          [
           "Olives"
          ],
          [
           "Onions, dry"
          ],
          [
           "Onions, shallots, green"
          ],
          [
           "Oranges"
          ],
          [
           "Papayas"
          ],
          [
           "Peaches and nectarines"
          ],
          [
           "Pears"
          ],
          [
           "Peas, dry"
          ],
          [
           "Peas, green"
          ],
          [
           "Pepper (piper spp.)"
          ],
          [
           "Pigeon peas"
          ],
          [
           "Pineapples"
          ],
          [
           "Pistachios"
          ],
          [
           "Plantains and others"
          ],
          [
           "Plums and sloes"
          ],
          [
           "Poppy seed"
          ],
          [
           "Potatoes"
          ],
          [
           "Pulses nes"
          ],
          [
           "Pulses, Total"
          ],
          [
           "Pumpkins, squash and gourds"
          ],
          [
           "Quinces"
          ],
          [
           "Quinoa"
          ],
          [
           "Rapeseed"
          ],
          [
           "Raspberries"
          ],
          [
           "Rice, paddy"
          ],
          [
           "Roots and Tubers, Total"
          ],
          [
           "Roots and tubers nes"
          ],
          [
           "Rye"
          ],
          [
           "Safflower seed"
          ],
          [
           "Sesame seed"
          ],
          [
           "Snails, not sea"
          ],
          [
           "Sorghum"
          ],
          [
           "Soybeans"
          ],
          [
           "Spices nes"
          ],
          [
           "Spinach"
          ],
          [
           "Strawberries"
          ],
          [
           "Sugar Crops Primary"
          ],
          [
           "Sugar beet"
          ],
          [
           "Sugar cane"
          ],
          [
           "Sugar crops nes"
          ],
          [
           "Sunflower seed"
          ],
          [
           "Sweet corn frozen"
          ],
          [
           "Sweet corn prep or preserved"
          ],
          [
           "Sweet potatoes"
          ],
          [
           "Tangerines, mandarins, clementines, satsumas"
          ],
          [
           "Taro (cocoyam)"
          ],
          [
           "Tea"
          ],
          [
           "Tomatoes"
          ],
          [
           "Triticale"
          ],
          [
           "Vanilla"
          ],
          [
           "Vegetables Primary"
          ],
          [
           "Vegetables, fresh nes"
          ],
          [
           "Vegetables, leguminous nes"
          ],
          [
           "Walnuts, with shell"
          ],
          [
           "Watermelons"
          ],
          [
           "Wheat"
          ],
          [
           "Yams"
          ],
          [
           "Yautia (cocoyam)"
          ],
          [
           "Almonds, with shell"
          ],
          [
           "Anise, badian, fennel, coriander"
          ],
          [
           "Apples"
          ],
          [
           "Apricots"
          ],
          [
           "Areca nuts"
          ],
          [
           "Artichokes"
          ],
          [
           "Asparagus"
          ],
          [
           "Avocados"
          ],
          [
           "Bambara beans"
          ],
          [
           "Bananas"
          ],
          [
           "Barley"
          ],
          [
           "Beans, dry"
          ],
          [
           "Beans, green"
          ],
          [
           "Blueberries"
          ],
          [
           "Brazil nuts, with shell"
          ],
          [
           "Broad beans, horse beans, dry"
          ],
          [
           "Buckwheat"
          ],
          [
           "Cabbages and other brassicas"
          ],
          [
           "Canary seed"
          ],
          [
           "Carobs"
          ],
          [
           "Carrots and turnips"
          ],
          [
           "Cashew nuts, with shell"
          ],
          [
           "Castor oil seed"
          ],
          [
           "Cauliflowers and broccoli"
          ],
          [
           "Cereals nes"
          ],
          [
           "Cereals, Total"
          ],
          [
           "Cherries"
          ],
          [
           "Cherries, sour"
          ],
          [
           "Chestnut"
          ],
          [
           "Chick peas"
          ],
          [
           "Chicory roots"
          ],
          [
           "Chillies and peppers, dry"
          ],
          [
           "Chillies and peppers, green"
          ],
          [
           "Cinnamon (cannella)"
          ],
          [
           "Citrus Fruit, Total"
          ],
          [
           "Cloves"
          ],
          [
           "Cocoa, beans"
          ],
          [
           "Coconuts"
          ],
          [
           "Coffee, green"
          ],
          [
           "Cow peas, dry"
          ],
          [
           "Cranberries"
          ],
          [
           "Cucumbers and gherkins"
          ],
          [
           "Currants"
          ],
          [
           "Dates"
          ],
          [
           "Eggplants (aubergines)"
          ],
          [
           "Eggs, hen, in shell"
          ],
          [
           "Eggs, other bird, in shell"
          ],
          [
           "Fat, cattle"
          ],
          [
           "Fat, goats"
          ],
          [
           "Fat, pigs"
          ],
          [
           "Fat, sheep"
          ],
          [
           "Fibre Crops Primary"
          ],
          [
           "Figs"
          ],
          [
           "Flax fibre and tow"
          ],
          [
           "Fonio"
          ],
          [
           "Fruit Primary"
          ],
          [
           "Fruit, citrus nes"
          ],
          [
           "Fruit, fresh nes"
          ],
          [
           "Fruit, tropical fresh nes"
          ],
          [
           "Garlic"
          ],
          [
           "Ginger"
          ],
          [
           "Gooseberries"
          ],
          [
           "Grain, mixed"
          ],
          [
           "Grapefruit (inc. pomelos)"
          ],
          [
           "Grapes"
          ],
          [
           "Groundnuts, with shell"
          ],
          [
           "Hazelnuts, with shell"
          ],
          [
           "Hemp tow waste"
          ],
          [
           "Hempseed"
          ],
          [
           "Honey, natural"
          ],
          [
           "Hops"
          ],
          [
           "Kiwi fruit"
          ],
          [
           "Kola nuts"
          ],
          [
           "Leeks, other alliaceous vegetables"
          ],
          [
           "Lemons and limes"
          ],
          [
           "Lentils"
          ],
          [
           "Lettuce and chicory"
          ],
          [
           "Linseed"
          ],
          [
           "Maize"
          ],
          [
           "Maize, green"
          ],
          [
           "Mangoes, mangosteens, guavas"
          ],
          [
           "Maté"
          ],
          [
           "Meat nes"
          ],
          [
           "Meat, bird nes"
          ],
          [
           "Meat, camel"
          ],
          [
           "Meat, cattle"
          ],
          [
           "Meat, chicken"
          ],
          [
           "Meat, duck"
          ],
          [
           "Meat, game"
          ],
          [
           "Meat, goat"
          ],
          [
           "Meat, goose and guinea fowl"
          ],
          [
           "Meat, horse"
          ],
          [
           "Meat, pig"
          ],
          [
           "Meat, rabbit"
          ],
          [
           "Meat, sheep"
          ],
          [
           "Meat, turkey"
          ],
          [
           "Melons, other (inc.cantaloupes)"
          ],
          [
           "Melonseed"
          ],
          [
           "Milk, whole fresh cow"
          ],
          [
           "Milk, whole fresh goat"
          ],
          [
           "Millet"
          ],
          [
           "Mushrooms and truffles"
          ],
          [
           "Mustard seed"
          ],
          [
           "Nutmeg, mace and cardamoms"
          ],
          [
           "Nuts nes"
          ],
          [
           "Oats"
          ],
          [
           "Offals nes"
          ],
          [
           "Offals, edible, cattle"
          ],
          [
           "Offals, edible, goats"
          ],
          [
           "Offals, horses"
          ],
          [
           "Offals, liver duck"
          ],
          [
           "Offals, liver geese"
          ],
          [
           "Offals, liver turkeys"
          ],
          [
           "Offals, pigs, edible"
          ],
          [
           "Offals, sheep,edible"
          ],
          [
           "Oilcrops"
          ],
          [
           "Oilcrops, Cake Equivalent"
          ],
          [
           "Oilcrops, Oil Equivalent"
          ],
          [
           "Oilseeds nes"
          ],
          [
           "Olives"
          ],
          [
           "Onions, dry"
          ],
          [
           "Onions, shallots, green"
          ],
          [
           "Oranges"
          ],
          [
           "Papayas"
          ],
          [
           "Peaches and nectarines"
          ],
          [
           "Pears"
          ],
          [
           "Peas, dry"
          ],
          [
           "Peas, green"
          ],
          [
           "Pepper (piper spp.)"
          ],
          [
           "Persimmons"
          ],
          [
           "Pigeon peas"
          ],
          [
           "Pineapples"
          ],
          [
           "Pistachios"
          ],
          [
           "Plantains and others"
          ],
          [
           "Plums and sloes"
          ],
          [
           "Poppy seed"
          ],
          [
           "Potatoes"
          ],
          [
           "Pulses nes"
          ],
          [
           "Pulses, Total"
          ],
          [
           "Pumpkins, squash and gourds"
          ],
          [
           "Quinces"
          ],
          [
           "Quinoa"
          ],
          [
           "Rapeseed"
          ],
          [
           "Raspberries"
          ],
          [
           "Rice, paddy"
          ],
          [
           "Roots and Tubers, Total"
          ],
          [
           "Roots and tubers nes"
          ],
          [
           "Rye"
          ],
          [
           "Safflower seed"
          ],
          [
           "Sesame seed"
          ],
          [
           "Snails, not sea"
          ],
          [
           "Sorghum"
          ],
          [
           "Soybeans"
          ],
          [
           "Spices nes"
          ],
          [
           "Spinach"
          ],
          [
           "Strawberries"
          ],
          [
           "Sugar Crops Primary"
          ],
          [
           "Sugar beet"
          ],
          [
           "Sugar crops nes"
          ],
          [
           "Sunflower seed"
          ],
          [
           "Sweet corn frozen"
          ],
          [
           "Sweet corn prep or preserved"
          ],
          [
           "Sweet potatoes"
          ],
          [
           "Tangerines, mandarins, clementines, satsumas"
          ],
          [
           "Taro (cocoyam)"
          ],
          [
           "Tea"
          ],
          [
           "Tobacco, unmanufactured"
          ],
          [
           "Tomatoes"
          ],
          [
           "Treenuts, Total"
          ],
          [
           "Triticale"
          ],
          [
           "Vanilla"
          ],
          [
           "Vegetables Primary"
          ],
          [
           "Vegetables, fresh nes"
          ],
          [
           "Vegetables, leguminous nes"
          ],
          [
           "Walnuts, with shell"
          ],
          [
           "Watermelons"
          ],
          [
           "Wheat"
          ],
          [
           "Yams"
          ],
          [
           "Yautia (cocoyam)"
          ],
          [
           "Almonds, with shell"
          ],
          [
           "Anise, badian, fennel, coriander"
          ],
          [
           "Apples"
          ],
          [
           "Apricots"
          ],
          [
           "Areca nuts"
          ],
          [
           "Artichokes"
          ],
          [
           "Asparagus"
          ],
          [
           "Avocados"
          ],
          [
           "Bambara beans"
          ],
          [
           "Bananas"
          ],
          [
           "Barley"
          ],
          [
           "Beans, dry"
          ],
          [
           "Beans, green"
          ],
          [
           "Berries nes"
          ],
          [
           "Brazil nuts, with shell"
          ],
          [
           "Broad beans, horse beans, dry"
          ],
          [
           "Cabbages and other brassicas"
          ],
          [
           "Carrots and turnips"
          ],
          [
           "Cashew nuts, with shell"
          ],
          [
           "Cassava"
          ],
          [
           "Cauliflowers and broccoli"
          ],
          [
           "Cereals nes"
          ],
          [
           "Cereals, Total"
          ],
          [
           "Cherries"
          ],
          [
           "Cherries, sour"
          ],
          [
           "Chestnut"
          ],
          [
           "Chick peas"
          ],
          [
           "Chillies and peppers, dry"
          ],
          [
           "Chillies and peppers, green"
          ],
          [
           "Cinnamon (cannella)"
          ],
          [
           "Citrus Fruit, Total"
          ],
          [
           "Cloves"
          ],
          [
           "Cocoa, beans"
          ],
          [
           "Coconuts"
          ],
          [
           "Coffee, green"
          ],
          [
           "Cow peas, dry"
          ],
          [
           "Cucumbers and gherkins"
          ],
          [
           "Currants"
          ],
          [
           "Dates"
          ],
          [
           "Eggplants (aubergines)"
          ],
          [
           "Eggs, hen, in shell"
          ],
          [
           "Eggs, other bird, in shell"
          ],
          [
           "Fat, camels"
          ],
          [
           "Fat, cattle"
          ],
          [
           "Fat, goats"
          ],
          [
           "Fat, pigs"
          ],
          [
           "Fat, sheep"
          ],
          [
           "Fibre Crops Primary"
          ],
          [
           "Fonio"
          ],
          [
           "Fruit Primary"
          ],
          [
           "Fruit, citrus nes"
          ],
          [
           "Fruit, fresh nes"
          ],
          [
           "Fruit, tropical fresh nes"
          ],
          [
           "Garlic"
          ],
          [
           "Ginger"
          ],
          [
           "Grapefruit (inc. pomelos)"
          ],
          [
           "Grapes"
          ],
          [
           "Groundnuts, with shell"
          ],
          [
           "Hazelnuts, with shell"
          ],
          [
           "Honey, natural"
          ],
          [
           "Kiwi fruit"
          ],
          [
           "Kola nuts"
          ],
          [
           "Leeks, other alliaceous vegetables"
          ],
          [
           "Lemons and limes"
          ],
          [
           "Lentils"
          ],
          [
           "Lettuce and chicory"
          ],
          [
           "Linseed"
          ],
          [
           "Maize"
          ],
          [
           "Mangoes, mangosteens, guavas"
          ],
          [
           "Maté"
          ],
          [
           "Meat, ass"
          ],
          [
           "Meat, camel"
          ],
          [
           "Meat, cattle"
          ],
          [
           "Meat, chicken"
          ],
          [
           "Meat, duck"
          ],
          [
           "Meat, game"
          ],
          [
           "Meat, goat"
          ],
          [
           "Meat, goose and guinea fowl"
          ],
          [
           "Meat, horse"
          ],
          [
           "Meat, pig"
          ],
          [
           "Meat, rabbit"
          ],
          [
           "Meat, sheep"
          ],
          [
           "Meat, turkey"
          ],
          [
           "Melons, other (inc.cantaloupes)"
          ],
          [
           "Melonseed"
          ],
          [
           "Milk, whole fresh camel"
          ],
          [
           "Milk, whole fresh cow"
          ],
          [
           "Milk, whole fresh goat"
          ],
          [
           "Milk, whole fresh sheep"
          ],
          [
           "Millet"
          ],
          [
           "Mushrooms and truffles"
          ],
          [
           "Mustard seed"
          ],
          [
           "Nutmeg, mace and cardamoms"
          ],
          [
           "Nuts nes"
          ],
          [
           "Oats"
          ],
          [
           "Offals nes"
          ],
          [
           "Offals, edible, camels"
          ],
          [
           "Offals, edible, cattle"
          ],
          [
           "Offals, edible, goats"
          ],
          [
           "Offals, horses"
          ],
          [
           "Offals, liver chicken"
          ],
          [
           "Offals, liver geese"
          ],
          [
           "Offals, liver turkeys"
          ],
          [
           "Offals, pigs, edible"
          ],
          [
           "Offals, sheep,edible"
          ],
          [
           "Oil palm fruit"
          ],
          [
           "Oilcrops"
          ],
          [
           "Oilcrops, Cake Equivalent"
          ],
          [
           "Oilcrops, Oil Equivalent"
          ],
          [
           "Oilseeds nes"
          ],
          [
           "Okra"
          ],
          [
           "Olives"
          ],
          [
           "Onions, dry"
          ],
          [
           "Oranges"
          ],
          [
           "Papayas"
          ],
          [
           "Peaches and nectarines"
          ],
          [
           "Pears"
          ],
          [
           "Peas, dry"
          ],
          [
           "Peas, green"
          ],
          [
           "Pepper (piper spp.)"
          ],
          [
           "Persimmons"
          ],
          [
           "Pigeon peas"
          ],
          [
           "Pineapples"
          ],
          [
           "Pistachios"
          ],
          [
           "Plantains and others"
          ],
          [
           "Plums and sloes"
          ],
          [
           "Poppy seed"
          ],
          [
           "Potatoes"
          ],
          [
           "Pulses nes"
          ],
          [
           "Pulses, Total"
          ],
          [
           "Pumpkins, squash and gourds"
          ],
          [
           "Quinces"
          ],
          [
           "Rapeseed"
          ],
          [
           "Rice, paddy"
          ],
          [
           "Roots and Tubers, Total"
          ],
          [
           "Seed cotton"
          ],
          [
           "Sesame seed"
          ],
          [
           "Snails, not sea"
          ],
          [
           "Sorghum"
          ],
          [
           "Soybeans"
          ],
          [
           "Spices nes"
          ],
          [
           "Spinach"
          ],
          [
           "Strawberries"
          ],
          [
           "Sugar Crops Primary"
          ],
          [
           "Sugar beet"
          ],
          [
           "Sugar cane"
          ],
          [
           "Sunflower seed"
          ],
          [
           "Sweet corn frozen"
          ],
          [
           "Sweet corn prep or preserved"
          ],
          [
           "Sweet potatoes"
          ],
          [
           "Tangerines, mandarins, clementines, satsumas"
          ],
          [
           "Tea"
          ],
          [
           "Tobacco, unmanufactured"
          ],
          [
           "Tomatoes"
          ],
          [
           "Treenuts, Total"
          ],
          [
           "Vanilla"
          ],
          [
           "Vegetables Primary"
          ],
          [
           "Vegetables, fresh nes"
          ],
          [
           "Walnuts, with shell"
          ],
          [
           "Watermelons"
          ],
          [
           "Wheat"
          ],
          [
           "Yams"
          ],
          [
           "Almonds, with shell"
          ],
          [
           "Anise, badian, fennel, coriander"
          ],
          [
           "Apples"
          ],
          [
           "Apricots"
          ],
          [
           "Areca nuts"
          ],
          [
           "Artichokes"
          ],
          [
           "Asparagus"
          ],
          [
           "Avocados"
          ],
          [
           "Bambara beans"
          ],
          [
           "Bananas"
          ],
          [
           "Barley"
          ],
          [
           "Beans, dry"
          ],
          [
           "Beans, green"
          ],
          [
           "Berries nes"
          ],
          [
           "Brazil nuts, with shell"
          ],
          [
           "Broad beans, horse beans, dry"
          ],
          [
           "Cabbages and other brassicas"
          ],
          [
           "Carrots and turnips"
          ],
          [
           "Cashew nuts, with shell"
          ],
          [
           "Cassava"
          ],
          [
           "Cauliflowers and broccoli"
          ],
          [
           "Cereals nes"
          ],
          [
           "Cereals, Total"
          ],
          [
           "Cherries"
          ],
          [
           "Cherries, sour"
          ],
          [
           "Chestnut"
          ],
          [
           "Chick peas"
          ],
          [
           "Chillies and peppers, dry"
          ],
          [
           "Chillies and peppers, green"
          ],
          [
           "Cinnamon (cannella)"
          ],
          [
           "Citrus Fruit, Total"
          ],
          [
           "Cloves"
          ],
          [
           "Cocoa, beans"
          ],
          [
           "Coconuts"
          ],
          [
           "Coffee, green"
          ],
          [
           "Cow peas, dry"
          ],
          [
           "Cucumbers and gherkins"
          ],
          [
           "Currants"
          ],
          [
           "Dates"
          ],
          [
           "Eggplants (aubergines)"
          ],
          [
           "Eggs, hen, in shell"
          ],
          [
           "Eggs, other bird, in shell"
          ],
          [
           "Fat, camels"
          ],
          [
           "Fat, cattle"
          ],
          [
           "Fat, goats"
          ],
          [
           "Fat, pigs"
          ],
          [
           "Fat, sheep"
          ],
          [
           "Fibre Crops Primary"
          ],
          [
           "Fonio"
          ],
          [
           "Fruit Primary"
          ],
          [
           "Fruit, citrus nes"
          ],
          [
           "Fruit, fresh nes"
          ],
          [
           "Fruit, tropical fresh nes"
          ],
          [
           "Garlic"
          ],
          [
           "Ginger"
          ],
          [
           "Grapefruit (inc. pomelos)"
          ],
          [
           "Grapes"
          ],
          [
           "Groundnuts, with shell"
          ],
          [
           "Hazelnuts, with shell"
          ],
          [
           "Honey, natural"
          ],
          [
           "Kiwi fruit"
          ],
          [
           "Kola nuts"
          ],
          [
           "Leeks, other alliaceous vegetables"
          ],
          [
           "Lemons and limes"
          ],
          [
           "Lentils"
          ],
          [
           "Lettuce and chicory"
          ],
          [
           "Linseed"
          ],
          [
           "Maize"
          ],
          [
           "Mangoes, mangosteens, guavas"
          ],
          [
           "Maté"
          ],
          [
           "Meat, ass"
          ],
          [
           "Meat, camel"
          ],
          [
           "Meat, cattle"
          ],
          [
           "Meat, chicken"
          ],
          [
           "Meat, duck"
          ],
          [
           "Meat, game"
          ],
          [
           "Meat, goat"
          ],
          [
           "Meat, goose and guinea fowl"
          ],
          [
           "Meat, horse"
          ],
          [
           "Meat, pig"
          ],
          [
           "Meat, rabbit"
          ],
          [
           "Meat, sheep"
          ],
          [
           "Meat, turkey"
          ],
          [
           "Melons, other (inc.cantaloupes)"
          ],
          [
           "Melonseed"
          ],
          [
           "Milk, whole fresh camel"
          ],
          [
           "Milk, whole fresh cow"
          ],
          [
           "Milk, whole fresh goat"
          ],
          [
           "Milk, whole fresh sheep"
          ],
          [
           "Millet"
          ],
          [
           "Mustard seed"
          ],
          [
           "Nutmeg, mace and cardamoms"
          ],
          [
           "Nuts nes"
          ],
          [
           "Oats"
          ],
          [
           "Offals nes"
          ],
          [
           "Offals, edible, camels"
          ],
          [
           "Offals, edible, cattle"
          ],
          [
           "Offals, edible, goats"
          ],
          [
           "Offals, horses"
          ],
          [
           "Offals, liver chicken"
          ],
          [
           "Offals, liver geese"
          ],
          [
           "Offals, liver turkeys"
          ],
          [
           "Offals, pigs, edible"
          ],
          [
           "Offals, sheep,edible"
          ],
          [
           "Oil palm fruit"
          ],
          [
           "Oilcrops"
          ],
          [
           "Oilcrops, Cake Equivalent"
          ],
          [
           "Oilcrops, Oil Equivalent"
          ],
          [
           "Oilseeds nes"
          ],
          [
           "Okra"
          ],
          [
           "Olives"
          ],
          [
           "Onions, dry"
          ],
          [
           "Oranges"
          ],
          [
           "Papayas"
          ],
          [
           "Peaches and nectarines"
          ],
          [
           "Pears"
          ],
          [
           "Peas, dry"
          ],
          [
           "Peas, green"
          ],
          [
           "Pepper (piper spp.)"
          ],
          [
           "Persimmons"
          ],
          [
           "Pigeon peas"
          ],
          [
           "Pineapples"
          ],
          [
           "Pistachios"
          ],
          [
           "Plantains and others"
          ],
          [
           "Plums and sloes"
          ],
          [
           "Poppy seed"
          ],
          [
           "Potatoes"
          ],
          [
           "Pulses nes"
          ],
          [
           "Pulses, Total"
          ],
          [
           "Pumpkins, squash and gourds"
          ],
          [
           "Quinces"
          ],
          [
           "Quinoa"
          ],
          [
           "Rapeseed"
          ],
          [
           "Rice, paddy"
          ],
          [
           "Roots and Tubers, Total"
          ],
          [
           "Seed cotton"
          ],
          [
           "Sesame seed"
          ],
          [
           "Snails, not sea"
          ],
          [
           "Sorghum"
          ],
          [
           "Soybeans"
          ],
          [
           "Spices nes"
          ],
          [
           "Spinach"
          ],
          [
           "Strawberries"
          ],
          [
           "Sugar Crops Primary"
          ],
          [
           "Sugar beet"
          ],
          [
           "Sugar cane"
          ],
          [
           "Sunflower seed"
          ],
          [
           "Sweet corn frozen"
          ],
          [
           "Sweet corn prep or preserved"
          ],
          [
           "Sweet potatoes"
          ],
          [
           "Tangerines, mandarins, clementines, satsumas"
          ],
          [
           "Tea"
          ],
          [
           "Tobacco, unmanufactured"
          ],
          [
           "Tomatoes"
          ],
          [
           "Treenuts, Total"
          ],
          [
           "Vanilla"
          ],
          [
           "Vegetables Primary"
          ],
          [
           "Vegetables, fresh nes"
          ],
          [
           "Walnuts, with shell"
          ],
          [
           "Watermelons"
          ],
          [
           "Wheat"
          ],
          [
           "Yams"
          ],
          [
           "Almonds, with shell"
          ],
          [
           "Anise, badian, fennel, coriander"
          ],
          [
           "Apples"
          ],
          [
           "Apricots"
          ],
          [
           "Areca nuts"
          ],
          [
           "Artichokes"
          ],
          [
           "Asparagus"
          ],
          [
           "Avocados"
          ],
          [
           "Bambara beans"
          ],
          [
           "Bananas"
          ],
          [
           "Barley"
          ],
          [
           "Beans, dry"
          ],
          [
           "Beans, green"
          ],
          [
           "Berries nes"
          ],
          [
           "Brazil nuts, with shell"
          ],
          [
           "Broad beans, horse beans, dry"
          ],
          [
           "Cabbages and other brassicas"
          ],
          [
           "Carrots and turnips"
          ],
          [
           "Cashew nuts, with shell"
          ],
          [
           "Cassava"
          ],
          [
           "Cauliflowers and broccoli"
          ],
          [
           "Cereals nes"
          ],
          [
           "Cereals, Total"
          ],
          [
           "Cherries"
          ],
          [
           "Cherries, sour"
          ],
          [
           "Chestnut"
          ],
          [
           "Chick peas"
          ],
          [
           "Chillies and peppers, dry"
          ],
          [
           "Chillies and peppers, green"
          ],
          [
           "Cinnamon (cannella)"
          ],
          [
           "Citrus Fruit, Total"
          ],
          [
           "Cloves"
          ],
          [
           "Cocoa, beans"
          ],
          [
           "Coconuts"
          ],
          [
           "Coffee, green"
          ],
          [
           "Cow peas, dry"
          ],
          [
           "Cucumbers and gherkins"
          ],
          [
           "Currants"
          ],
          [
           "Dates"
          ],
          [
           "Eggplants (aubergines)"
          ],
          [
           "Eggs, hen, in shell"
          ],
          [
           "Eggs, other bird, in shell"
          ],
          [
           "Fat, camels"
          ],
          [
           "Fat, cattle"
          ],
          [
           "Fat, goats"
          ],
          [
           "Fat, pigs"
          ],
          [
           "Fat, sheep"
          ],
          [
           "Fibre Crops Primary"
          ],
          [
           "Figs"
          ],
          [
           "Fonio"
          ],
          [
           "Fruit Primary"
          ],
          [
           "Fruit, citrus nes"
          ],
          [
           "Fruit, fresh nes"
          ],
          [
           "Fruit, tropical fresh nes"
          ],
          [
           "Garlic"
          ],
          [
           "Ginger"
          ],
          [
           "Grapefruit (inc. pomelos)"
          ],
          [
           "Grapes"
          ],
          [
           "Groundnuts, with shell"
          ],
          [
           "Hazelnuts, with shell"
          ],
          [
           "Honey, natural"
          ],
          [
           "Kiwi fruit"
          ],
          [
           "Kola nuts"
          ],
          [
           "Leeks, other alliaceous vegetables"
          ],
          [
           "Lemons and limes"
          ],
          [
           "Lentils"
          ],
          [
           "Lettuce and chicory"
          ],
          [
           "Linseed"
          ],
          [
           "Maize"
          ],
          [
           "Mangoes, mangosteens, guavas"
          ],
          [
           "Maté"
          ],
          [
           "Meat, ass"
          ],
          [
           "Meat, camel"
          ],
          [
           "Meat, cattle"
          ],
          [
           "Meat, chicken"
          ],
          [
           "Meat, duck"
          ],
          [
           "Meat, game"
          ],
          [
           "Meat, goat"
          ],
          [
           "Meat, goose and guinea fowl"
          ],
          [
           "Meat, horse"
          ],
          [
           "Meat, pig"
          ],
          [
           "Meat, rabbit"
          ],
          [
           "Meat, sheep"
          ],
          [
           "Meat, turkey"
          ],
          [
           "Melons, other (inc.cantaloupes)"
          ],
          [
           "Melonseed"
          ],
          [
           "Milk, whole fresh camel"
          ],
          [
           "Milk, whole fresh cow"
          ],
          [
           "Milk, whole fresh goat"
          ],
          [
           "Milk, whole fresh sheep"
          ],
          [
           "Millet"
          ],
          [
           "Mushrooms and truffles"
          ],
          [
           "Mustard seed"
          ],
          [
           "Nutmeg, mace and cardamoms"
          ],
          [
           "Nuts nes"
          ],
          [
           "Oats"
          ],
          [
           "Offals nes"
          ],
          [
           "Offals, edible, camels"
          ],
          [
           "Offals, edible, cattle"
          ],
          [
           "Offals, edible, goats"
          ],
          [
           "Offals, horses"
          ],
          [
           "Offals, liver chicken"
          ],
          [
           "Offals, liver geese"
          ],
          [
           "Offals, liver turkeys"
          ],
          [
           "Offals, pigs, edible"
          ],
          [
           "Offals, sheep,edible"
          ],
          [
           "Oil palm fruit"
          ],
          [
           "Oilcrops"
          ],
          [
           "Oilcrops, Cake Equivalent"
          ],
          [
           "Oilcrops, Oil Equivalent"
          ],
          [
           "Oilseeds nes"
          ],
          [
           "Okra"
          ],
          [
           "Olives"
          ],
          [
           "Onions, dry"
          ],
          [
           "Oranges"
          ],
          [
           "Papayas"
          ],
          [
           "Peaches and nectarines"
          ],
          [
           "Pears"
          ],
          [
           "Peas, dry"
          ],
          [
           "Peas, green"
          ],
          [
           "Pepper (piper spp.)"
          ],
          [
           "Persimmons"
          ],
          [
           "Pigeon peas"
          ],
          [
           "Pineapples"
          ],
          [
           "Pistachios"
          ],
          [
           "Plantains and others"
          ],
          [
           "Plums and sloes"
          ],
          [
           "Poppy seed"
          ],
          [
           "Potatoes"
          ],
          [
           "Pulses nes"
          ],
          [
           "Pulses, Total"
          ],
          [
           "Pumpkins, squash and gourds"
          ],
          [
           "Quinces"
          ],
          [
           "Rapeseed"
          ],
          [
           "Rice, paddy"
          ],
          [
           "Roots and Tubers, Total"
          ],
          [
           "Seed cotton"
          ],
          [
           "Sesame seed"
          ],
          [
           "Snails, not sea"
          ],
          [
           "Sorghum"
          ],
          [
           "Soybeans"
          ],
          [
           "Spices nes"
          ],
          [
           "Spinach"
          ],
          [
           "Strawberries"
          ],
          [
           "Sugar Crops Primary"
          ],
          [
           "Sugar beet"
          ],
          [
           "Sugar cane"
          ],
          [
           "Sunflower seed"
          ],
          [
           "Sweet corn frozen"
          ],
          [
           "Sweet corn prep or preserved"
          ],
          [
           "Sweet potatoes"
          ],
          [
           "Tangerines, mandarins, clementines, satsumas"
          ],
          [
           "Tea"
          ],
          [
           "Tobacco, unmanufactured"
          ],
          [
           "Tomatoes"
          ],
          [
           "Treenuts, Total"
          ],
          [
           "Vanilla"
          ],
          [
           "Vegetables Primary"
          ],
          [
           "Vegetables, fresh nes"
          ],
          [
           "Walnuts, with shell"
          ],
          [
           "Watermelons"
          ],
          [
           "Wheat"
          ],
          [
           "Yams"
          ]
         ],
         "hovertemplate": "baseline=%{x}<br>computation=%{y}<br>Item=%{customdata[0]}<extra></extra>",
         "legendgroup": "",
         "marker": {
          "color": "#636efa",
          "symbol": "circle"
         },
         "mode": "markers",
         "name": "",
         "showlegend": false,
         "type": "scattergl",
         "x": [
          0,
          0,
          238.244,
          0,
          0,
          0,
          4.737,
          0,
          0,
          0,
          345.559,
          0.556,
          112.47500000000001,
          0.621,
          0,
          0,
          3.442,
          0,
          108.895,
          0,
          0,
          385.40000000000003,
          0,
          0,
          112.706,
          0,
          5.647,
          0,
          0,
          0,
          300.902,
          0,
          27.048000000000002,
          0,
          0,
          0,
          0,
          0,
          0,
          0,
          23.580000000000002,
          1.125,
          0,
          8.1,
          170,
          0,
          36,
          0.009000000000000001,
          80.547,
          0.067,
          0,
          0,
          0,
          0,
          0,
          0,
          0,
          0,
          0,
          0,
          0.5700000000000001,
          11.77,
          0,
          2.24,
          0,
          0,
          0,
          0,
          0,
          0,
          0,
          158.54500000000002,
          0,
          0,
          52.568,
          9,
          480.49600000000004,
          0,
          0,
          0,
          0,
          0,
          0,
          278.362,
          453.493,
          0.135,
          0,
          0.22,
          0,
          1.893,
          1060.541,
          0,
          2.8000000000000003,
          7.5840000000000005,
          0,
          0,
          3881.626,
          25.069,
          0,
          29.45,
          0,
          0,
          0,
          16.403,
          0,
          43,
          0.042,
          0.111,
          8.179,
          0,
          0,
          0,
          68.465,
          0.157,
          0,
          0,
          0,
          0,
          0,
          130.775,
          0,
          0,
          0,
          0,
          331.55,
          2.595,
          65,
          0,
          0,
          0,
          0,
          0,
          0.012,
          0,
          3402.7870000000003,
          0,
          0,
          10.1,
          3.226,
          0,
          39.452,
          2.763,
          0,
          0,
          0,
          1.941,
          0,
          0,
          0,
          0,
          0,
          0,
          80.9,
          45,
          0,
          4021.11,
          0,
          0,
          0,
          0,
          0,
          0,
          0,
          0,
          0,
          259.535,
          0,
          31.531000000000002,
          0,
          0,
          182.73,
          0,
          0.377,
          0,
          1400.074,
          0,
          0,
          0,
          0,
          86.236,
          0,
          0,
          0,
          4.832,
          0,
          0,
          0,
          381.128,
          0.556,
          123.113,
          0.666,
          0,
          0,
          3.435,
          0,
          145.24,
          0,
          0,
          380,
          0,
          0,
          129.044,
          0,
          4.3,
          0.28,
          0,
          0,
          327.76,
          0,
          27.6,
          0,
          0,
          0,
          0,
          0,
          0,
          0,
          25.53,
          1.055,
          0,
          8.1,
          155,
          0,
          37,
          0.011,
          79.334,
          0.07100000000000001,
          0,
          0,
          0,
          0,
          0,
          0,
          0,
          0,
          0,
          0,
          0.38,
          16.949,
          0,
          2.3890000000000002,
          0,
          0,
          0,
          0,
          0,
          0,
          0,
          188.1,
          0,
          0,
          53.370000000000005,
          11,
          608.671,
          0,
          0,
          0,
          0,
          0,
          0,
          281.536,
          455.36400000000003,
          0.123,
          0,
          0.28400000000000003,
          0,
          1.772,
          1044.561,
          0,
          2.95,
          7.868,
          0,
          0,
          4025.417,
          32.865,
          0,
          28,
          0,
          0,
          0,
          18.428,
          0.058,
          0,
          47,
          0.055,
          0.1,
          25.389,
          0,
          0,
          0,
          67.434,
          0.165,
          0,
          0,
          0,
          0,
          0,
          92.85000000000001,
          0,
          0,
          0,
          0,
          301.818,
          2.887,
          64.578,
          0,
          0,
          0,
          0,
          0,
          0,
          0.017,
          0,
          4416.665,
          0,
          0,
          10.200000000000001,
          3.311,
          0,
          46.09,
          2.989,
          0,
          0,
          0,
          2.3890000000000002,
          0,
          0,
          0,
          0,
          0,
          0,
          81.35000000000001,
          47.5,
          0,
          5941.783,
          0,
          0,
          0,
          0,
          0,
          0,
          0,
          0,
          0,
          255.96,
          0,
          34.106,
          0,
          0,
          187.168,
          0,
          0.371,
          0,
          1702.721,
          0,
          0,
          0,
          0,
          273.95,
          0,
          0,
          0,
          5.34,
          0,
          0,
          0,
          320.395,
          0.555,
          98.248,
          0,
          0,
          4.595,
          0,
          122.254,
          0,
          0,
          323.5,
          0,
          0,
          122.34400000000001,
          0,
          0,
          5.5,
          0.194,
          0,
          0,
          421.27,
          0,
          26.04,
          0,
          0,
          0,
          0,
          0,
          0,
          0,
          0,
          24.490000000000002,
          0.863,
          0,
          10.120000000000001,
          205,
          11.878,
          25,
          0.015,
          81.503,
          0.065,
          0,
          0,
          0,
          0,
          0,
          0,
          0,
          0,
          0,
          0,
          0,
          0.272,
          14.716000000000001,
          0,
          2.8810000000000002,
          0,
          0,
          0,
          0,
          0,
          0,
          0,
          0,
          154.791,
          0,
          0,
          47.935,
          11,
          442.995,
          0,
          0,
          0,
          0,
          0,
          0,
          277.311,
          461.606,
          0.114,
          0,
          0.39,
          0,
          1.868,
          1073.121,
          0,
          2.7,
          7.827,
          0,
          0,
          4057.178,
          39.319,
          0,
          28,
          0,
          0,
          0,
          18.202,
          0,
          47,
          0.075,
          22.251,
          0,
          0,
          0,
          69.277,
          0.151,
          0,
          0,
          0,
          0,
          0,
          105.375,
          0,
          0,
          0,
          0,
          369.50600000000003,
          2.555,
          62.15,
          0,
          0,
          0,
          0,
          0,
          0,
          0.025,
          0,
          3045.443,
          0,
          0,
          9.200000000000001,
          3.396,
          0,
          42.834,
          2.3040000000000003,
          0,
          0,
          0,
          2.319,
          0,
          0,
          0,
          0,
          0,
          0,
          82.35000000000001,
          43,
          0,
          5192.049,
          0,
          0,
          0,
          0,
          0,
          0,
          0,
          0,
          0,
          258.68,
          0,
          32.132,
          0,
          0,
          166.485,
          0,
          0.364,
          0,
          1652.249,
          0,
          0,
          0,
          0,
          1055.383,
          0,
          0,
          0,
          196.54500000000002,
          6625.211,
          379.687,
          0,
          2621.2670000000003,
          0,
          0,
          41.907000000000004,
          3.6550000000000002,
          63.222,
          0.15,
          0,
          0,
          11.803,
          74.568,
          1415.019,
          21036.314000000002,
          24.62,
          0.001,
          0,
          0,
          0,
          0,
          0,
          0,
          0,
          0.05,
          0,
          0,
          0,
          213.871,
          2634.396,
          3024.466,
          0,
          0,
          0,
          0,
          0.019,
          2305.738,
          162.95000000000002,
          303.151,
          1.183,
          440.046,
          2.914,
          0,
          26.91,
          0,
          0,
          0,
          0,
          618.298,
          132.361,
          0,
          80.426,
          1113.345,
          560.463,
          0,
          39.677,
          0,
          0,
          0,
          1234.691,
          0,
          0.07200000000000001,
          12.973,
          64188.314,
          0.009000000000000001,
          1515.1670000000001,
          630.556,
          0,
          9284,
          13234.959,
          7.077,
          33.528,
          23.845,
          3711.235,
          1.312,
          90.851,
          535.604,
          596.4300000000001,
          0,
          33680.401,
          255.994,
          0,
          0,
          0,
          0,
          2.981,
          872.83,
          1193.657,
          7.231,
          5.038,
          26.238,
          243.881,
          17.142,
          1621.017,
          0,
          0,
          0,
          37.800000000000004,
          0.647,
          1654.546,
          0,
          16980.379,
          1296.94,
          193.48000000000002,
          14.915000000000001,
          3.619,
          0,
          54.43,
          162.184,
          0,
          2559.117,
          0,
          0.794,
          0,
          0,
          3851.396,
          0,
          0,
          11.383000000000001,
          0,
          0.741,
          0,
          0,
          60,
          0,
          10622.189,
          0,
          0,
          0,
          6.477,
          0,
          0,
          12,
          0,
          0,
          1154.4560000000001,
          96394.82,
          0,
          0,
          3.375,
          0,
          0,
          768594.154,
          80.69500000000001,
          0,
          0,
          672.866,
          1013.067,
          0,
          0.459,
          0,
          4166.789,
          0,
          46.253,
          0.228,
          0,
          0,
          3100.9590000000003,
          0,
          5.501,
          2088.0480000000002,
          6834.421,
          251.012,
          0,
          0,
          0,
          1307.642,
          0,
          0,
          0,
          212.873,
          6584.967000000001,
          302.731,
          0,
          3046.079,
          0,
          0,
          36.517,
          10.019,
          65.004,
          0.02,
          0,
          0,
          3.7600000000000002,
          133.608,
          1222.439,
          18501.645,
          13.481,
          0,
          0,
          0,
          0,
          0,
          0,
          0,
          0,
          0.001,
          0,
          0,
          0,
          235.809,
          2210.139,
          2684.5080000000003,
          0,
          0.001,
          0,
          0,
          0,
          2528.693,
          182.3,
          311.837,
          1.237,
          453.498,
          2.94,
          0,
          25.891000000000002,
          0,
          0,
          0,
          0,
          548.088,
          120.896,
          0,
          81.178,
          1743.43,
          546.929,
          0,
          41.696,
          0,
          0,
          0,
          0,
          1293.7740000000001,
          0,
          0,
          5.953,
          97910.658,
          0.056,
          1547.928,
          619.771,
          0.01,
          9550,
          13607.352,
          7.308,
          35.057,
          0,
          23.451,
          3824.6820000000002,
          1.2550000000000001,
          91.669,
          553.325,
          541.298,
          0,
          33312.149,
          264.366,
          0,
          0,
          0,
          3.013,
          625.769,
          1227.857,
          7.561,
          4.954,
          0,
          251.336,
          17.296,
          1676.421,
          0,
          0,
          0,
          40.2,
          1.25,
          1615.316,
          0,
          17492.882,
          1058.487,
          250.449,
          22.125,
          2.763,
          0,
          79.106,
          182.185,
          0,
          2309.634,
          0,
          0.464,
          0,
          0,
          3655.069,
          0,
          0,
          4.031,
          0,
          0.491,
          0,
          0,
          50,
          0,
          12464.766,
          0,
          0,
          0,
          7.577,
          0,
          0,
          13,
          0,
          0,
          2223.627,
          114732.10100000001,
          0,
          0,
          3.428,
          0,
          0,
          758646.205,
          104.144,
          0,
          0,
          780.461,
          967.139,
          0,
          0.459,
          0,
          4225.414,
          0,
          36.424,
          0.225,
          0,
          0,
          3156.035,
          0.07,
          7.907,
          2312.993,
          4342.812,
          250.788,
          0,
          0,
          1195.007,
          0,
          0,
          0,
          0,
          235.788,
          6752.171,
          330.374,
          0,
          2915.03,
          0.001,
          0,
          36.923,
          11.828,
          66.173,
          0.075,
          0,
          0,
          141.418,
          1541.01,
          17644.733,
          14.224,
          0.04,
          0,
          0,
          0,
          0,
          0,
          0,
          0,
          0,
          0.117,
          0,
          0,
          0,
          239.387,
          2346.75,
          3556.638,
          0,
          0.035,
          0,
          0,
          0.03,
          2665.613,
          178.4,
          323.265,
          1.29,
          449.108,
          3.005,
          0,
          23.674,
          0,
          0,
          0,
          0,
          602.6510000000001,
          118.837,
          0,
          81.931,
          1591.986,
          563.347,
          0,
          42.346000000000004,
          0,
          0,
          0,
          1481.3220000000001,
          0,
          0,
          5.972,
          82288.298,
          0.047,
          1897.904,
          546.618,
          0.008,
          9900,
          13355,
          7.232,
          36.546,
          24.566,
          3763,
          1.194,
          93.678,
          575.812,
          581.4780000000001,
          0,
          33839.864,
          272.611,
          0,
          0,
          0,
          3.0460000000000003,
          897.8050000000001,
          1272.857,
          7.882000000000001,
          5.19,
          0,
          248.903,
          17.675,
          1565.1970000000001,
          0,
          0,
          0,
          42.5,
          1.62,
          1549.597,
          0,
          16713.534,
          1060.392,
          219.598,
          19.813,
          2.813,
          0.002,
          101.274,
          156.935,
          0,
          2650.4790000000003,
          0,
          0.667,
          0,
          0,
          3688.029,
          0,
          0,
          6.559,
          0,
          0.521,
          0,
          0,
          45,
          0,
          11749.192000000001,
          0,
          0,
          0,
          8.297,
          0,
          0,
          14,
          0,
          0,
          2272.939,
          117887.672,
          0,
          0.007,
          3.481,
          0,
          0,
          746828.157,
          135.872,
          0,
          0,
          741.203,
          996.8720000000001,
          0,
          0.483,
          0,
          4110.242,
          0,
          32.948,
          0.312,
          0,
          0,
          3211.112,
          0.034,
          7.373,
          2240.796,
          5418.711,
          251.489,
          0,
          0,
          0,
          227.3,
          9.253,
          0,
          0.003,
          0.611,
          0,
          0,
          0,
          159.89000000000001,
          0,
          9.55,
          0.109,
          0.321,
          0,
          1.691,
          0,
          34.157000000000004,
          0,
          68.433,
          0,
          0,
          12.591000000000001,
          0.082,
          0,
          5.6850000000000005,
          0,
          0.177,
          0,
          0,
          0,
          0.725,
          0,
          0,
          0,
          0,
          0,
          0,
          0,
          14.931000000000001,
          0.066,
          0,
          0,
          56.379,
          0,
          13.108,
          0.016,
          12.24,
          0.242,
          0,
          0,
          0,
          0,
          0.027,
          0,
          0.034,
          0,
          0.506,
          0.935,
          0,
          136.352,
          0,
          0,
          2.4090000000000003,
          0,
          0.375,
          0,
          13.668000000000001,
          0,
          0,
          65.946,
          0.28600000000000003,
          0.224,
          144.406,
          0.608,
          0,
          0,
          0,
          0,
          144.456,
          89.302,
          0,
          1.8860000000000001,
          0.47500000000000003,
          0,
          0.617,
          238.68200000000002,
          0.995,
          5.073,
          1.812,
          0,
          0,
          3956.8,
          22,
          5.7,
          0.152,
          7.407,
          0,
          0,
          0,
          7.106,
          0,
          22.738,
          0.07200000000000001,
          0.063,
          0,
          0,
          9.18,
          0.507,
          0,
          0,
          0,
          0.066,
          0,
          39.451,
          2.666,
          0,
          0,
          0.244,
          34.699,
          9.021,
          4.398,
          0,
          0,
          0,
          0,
          0,
          0,
          5.766,
          0,
          372.90000000000003,
          0,
          0,
          14.419,
          0.39,
          0,
          71.9,
          3.051,
          0,
          0,
          0,
          8.411,
          0,
          0,
          0,
          0,
          4.5,
          0,
          15.483,
          9.188,
          0,
          1277.407,
          0,
          13,
          0,
          0,
          0,
          0,
          0,
          0,
          0,
          41.907000000000004,
          0,
          36.178,
          0,
          0,
          49.909,
          0.07100000000000001,
          2.547,
          0,
          386.72,
          0,
          0,
          0,
          0,
          225.555,
          9.481,
          0,
          0,
          0.722,
          0,
          0,
          0,
          207.374,
          0,
          11.076,
          0.113,
          0.34,
          0,
          3.024,
          0,
          39.295,
          0,
          76.985,
          0,
          0,
          13.558,
          0.096,
          0,
          6,
          0,
          0.18,
          0,
          0,
          0,
          0.918,
          0,
          0,
          0,
          0,
          0,
          0,
          0,
          14.394,
          0.062,
          0,
          0,
          58.659,
          0,
          12.68,
          0.017,
          12.236,
          0.242,
          0,
          0,
          0,
          0,
          0.025,
          0,
          0.042,
          0,
          0.549,
          1.293,
          0,
          100.364,
          0,
          0,
          4.569,
          0,
          0.403,
          0,
          13.526,
          0,
          0,
          69.534,
          0.404,
          0.358,
          162.454,
          0.6950000000000001,
          0,
          0,
          0,
          0,
          139.744,
          90.10300000000001,
          0,
          2.239,
          0.492,
          0,
          0.527,
          238.602,
          0.845,
          5.061,
          1.943,
          0.001,
          0,
          3892.5,
          22.5,
          6.2,
          0.788,
          7.503,
          0,
          0,
          0,
          10.21,
          0,
          21.997,
          0.075,
          0.054,
          0,
          0,
          9.177,
          0.506,
          0,
          0,
          0,
          0.088,
          0,
          36.314,
          2.8850000000000002,
          0,
          0,
          0.188,
          39.84,
          14.361,
          5.957,
          0,
          0,
          0,
          0,
          0,
          0,
          5.604,
          0,
          458.90000000000003,
          0,
          0,
          19.931,
          0.458,
          0,
          77.612,
          3.16,
          0,
          0,
          0,
          12.423,
          0,
          0,
          0,
          0,
          5.642,
          0,
          16.135,
          9.429,
          0,
          1544.781,
          0,
          16.449,
          0,
          0,
          0,
          0,
          0,
          0,
          0,
          42.533,
          0,
          51.424,
          0,
          0,
          54.812,
          0.069,
          2.528,
          0,
          530.552,
          0,
          0,
          0,
          0,
          222.431,
          9.283,
          0,
          0.004,
          0.783,
          0,
          0,
          0,
          182.12,
          0,
          10.526,
          0.114,
          0.353,
          0,
          2.062,
          0,
          42.857,
          0,
          73.493,
          0,
          0,
          14.057,
          0.08700000000000001,
          0,
          6.113,
          0,
          0.18,
          0,
          0,
          0,
          0.40800000000000003,
          0,
          0,
          0,
          0,
          0,
          0,
          0,
          14.55,
          0.114,
          0,
          0,
          60.648,
          0,
          13.427,
          0.018000000000000002,
          11.845,
          0.266,
          0,
          0,
          0,
          0,
          0.024,
          0,
          0.037,
          0,
          0.432,
          1.12,
          0,
          140.742,
          0,
          0,
          4.005,
          0,
          0.395,
          0,
          13.681000000000001,
          0,
          0,
          73.038,
          0.329,
          0.272,
          134.834,
          1.025,
          0,
          0,
          0,
          0,
          147.97,
          95.514,
          0,
          1.9100000000000001,
          0.539,
          0,
          0.51,
          230.983,
          0.774,
          5.567,
          1.932,
          0.001,
          0,
          3912.1,
          23.3,
          6.5,
          0.934,
          7.578,
          0,
          0,
          0,
          8.256,
          0,
          23.292,
          0.082,
          0.052000000000000005,
          0,
          0,
          8.884,
          0.557,
          0,
          0,
          0,
          0.042,
          0,
          37.761,
          2.846,
          0,
          0,
          0.226,
          36.643,
          16.132,
          5.547,
          0,
          0,
          0,
          0,
          0,
          0,
          6.469,
          0,
          417.156,
          0,
          0,
          13.32,
          0.466,
          0,
          78,
          3.156,
          0,
          0,
          0,
          10.112,
          0,
          0,
          0,
          0,
          4,
          0,
          16.156,
          9.323,
          0,
          1625.46,
          0,
          17,
          0,
          0,
          0,
          0,
          0,
          0,
          0,
          43.243,
          0,
          47.342,
          0,
          0,
          53.567,
          0.078,
          2.535,
          0,
          497.25,
          0,
          0,
          0,
          0,
          1032.913,
          0.229,
          0,
          0,
          120.014,
          0,
          0,
          0,
          10730.5,
          0,
          45.634,
          5.776,
          10.71,
          0,
          153.70000000000002,
          0,
          715.609,
          0,
          0,
          641.628,
          0,
          0,
          122.432,
          0,
          29.373,
          15.969000000000001,
          0,
          0,
          0,
          0,
          9.375,
          0,
          0,
          0,
          0,
          0,
          0,
          0,
          260.915,
          13.992,
          0,
          0,
          818.3000000000001,
          0,
          0,
          76.305,
          0.012,
          943.705,
          1.645,
          0,
          0,
          0,
          0,
          0,
          0,
          0,
          4.274,
          0,
          0,
          0,
          85.83500000000001,
          45.300000000000004,
          0,
          1225.57,
          0,
          0,
          0,
          0,
          21.6,
          0,
          0,
          0,
          85.861,
          0,
          0,
          333.034,
          6,
          50,
          4017.8,
          0,
          0,
          0,
          0,
          0,
          0,
          0,
          1155.483,
          999.07,
          41.245,
          60.546,
          0.41600000000000004,
          3.074,
          2.193,
          5589.639,
          33.061,
          31.587,
          483.26300000000003,
          0,
          0,
          32672.34,
          28.082,
          0,
          72.141,
          8.27,
          0,
          0,
          535.9,
          1.668,
          0,
          102.467,
          0.018000000000000002,
          0.083,
          42.550000000000004,
          0,
          0,
          15.02,
          297.63,
          1.3820000000000001,
          0,
          0,
          0,
          0,
          0,
          522.677,
          93.828,
          0,
          0,
          0.562,
          34.625,
          290.2,
          27.565,
          0,
          0,
          0,
          0,
          0,
          0,
          37.783,
          2.979,
          10772.1,
          13.676,
          0,
          130.053,
          0,
          0,
          4579.6,
          5.617,
          0,
          0,
          0,
          3173.8,
          0,
          0,
          0,
          0,
          43,
          0,
          69.049,
          143.221,
          0,
          27065.5,
          0,
          35.7,
          0,
          0,
          0,
          0,
          0,
          0,
          0,
          85.287,
          0,
          2397.3,
          0,
          0,
          406.208,
          3.492,
          0,
          18.101,
          0,
          24463.8,
          0,
          0,
          0,
          0,
          596.666,
          0.227,
          0,
          0,
          130.881,
          0,
          0,
          0,
          10853.4,
          0,
          51.469,
          7.454,
          13.805,
          0,
          188.8,
          0,
          790.191,
          0,
          0,
          733.927,
          0,
          0,
          132.561,
          0,
          16.536,
          8.267,
          0,
          0,
          0,
          0,
          12.289,
          0,
          0,
          0,
          0,
          0,
          0,
          0,
          256.689,
          12.47,
          0,
          0,
          826.2,
          0,
          0,
          75.08500000000001,
          0.012,
          929.5120000000001,
          1.623,
          0,
          0,
          0,
          0,
          0,
          0,
          0,
          2.703,
          0,
          0,
          0,
          86.16,
          43.300000000000004,
          0,
          1014.235,
          0,
          0,
          0,
          0,
          20.364,
          0,
          0,
          0,
          99.74000000000001,
          0,
          0,
          353.883,
          7,
          52.800000000000004,
          4547.6,
          0,
          0,
          0,
          0,
          0,
          0,
          0,
          1137.008,
          1009.565,
          35.998,
          58.4,
          0.418,
          2.92,
          1.964,
          5505.572,
          32.532000000000004,
          31.152,
          465.598,
          0,
          0,
          32598.198,
          28.284,
          0,
          73.45400000000001,
          8.194,
          0,
          0,
          576.5,
          1.653,
          0,
          100.82900000000001,
          0.018000000000000002,
          0.075,
          32.246,
          0,
          0,
          14.063,
          293.154,
          1.363,
          0,
          0,
          0,
          0,
          0,
          541.354,
          91.60300000000001,
          0,
          0,
          0.562,
          23.386,
          298.1,
          32.083,
          0,
          0,
          0,
          0,
          0,
          0,
          23.885,
          2.9050000000000002,
          11720,
          13.141,
          0,
          133.561,
          0,
          0,
          4268.4,
          6.354,
          0,
          0,
          0,
          2737.4,
          0,
          0,
          0,
          0,
          66,
          0,
          73.774,
          135.28300000000002,
          0,
          34059.9,
          0,
          39.6,
          0,
          0,
          0,
          0,
          0,
          0,
          0,
          96.561,
          0,
          2317,
          0,
          0,
          418.342,
          3.5220000000000002,
          0,
          18.261,
          0,
          24481.600000000002,
          0,
          0,
          0,
          0,
          1198.517,
          0.229,
          0,
          0,
          133.02,
          0,
          0,
          0,
          9583.6,
          0,
          38.116,
          7.341,
          12.764000000000001,
          0,
          160.8,
          0,
          604.331,
          0,
          0,
          625.357,
          0,
          0,
          126.09700000000001,
          0,
          44.223,
          15.902000000000001,
          0,
          0,
          0,
          0,
          14.658,
          0,
          0,
          0,
          0,
          0,
          0,
          0,
          0,
          267.589,
          16.091,
          0,
          0,
          846,
          0,
          0,
          74.19,
          0.012,
          906.614,
          1.752,
          0,
          0,
          0,
          0,
          0,
          0,
          8.892,
          0,
          0,
          0,
          86.433,
          50.2,
          0,
          1403.597,
          0,
          0,
          0,
          20.333000000000002,
          0,
          0,
          0,
          76.984,
          0,
          0,
          350.445,
          6.65,
          22.3,
          3344,
          0,
          0,
          0,
          0,
          0,
          0,
          0,
          1123.452,
          1063.251,
          37.058,
          56.879,
          0.434,
          3.1270000000000002,
          1.811,
          5369.944,
          32.115,
          33.641,
          467.208,
          0,
          0,
          33086.81,
          16.195,
          0,
          73.231,
          8.118,
          0,
          0,
          577.6,
          1.563,
          0,
          99.627,
          0.019,
          0.069,
          68.31,
          0,
          0,
          14.463000000000001,
          285.932,
          1.472,
          0,
          0,
          0,
          0,
          0,
          409.504,
          93.656,
          0,
          0,
          0.562,
          47.644,
          197.1,
          24.243000000000002,
          0,
          0,
          0,
          0,
          0,
          0,
          61.229,
          2.874,
          8920.800000000001,
          12.607000000000001,
          0,
          122.241,
          0,
          0,
          3670.6,
          6.824,
          0,
          0,
          0,
          2201.4,
          0,
          0,
          0,
          0,
          59,
          0,
          66.197,
          141.693,
          0,
          26191.4,
          0,
          31,
          0,
          0,
          0,
          0,
          0,
          0,
          103.266,
          0,
          1935.5,
          0,
          0,
          390.996,
          3.063,
          0,
          18.423000000000002,
          0,
          20263.5,
          0,
          0,
          1.139,
          0,
          1823.123,
          603.268,
          0,
          38.76,
          18.721,
          1.926,
          0,
          0,
          10439.229,
          7.785,
          27.888,
          0,
          6.706,
          0,
          197.82,
          169.489,
          174.791,
          0,
          0,
          557.84,
          0,
          0,
          312.634,
          166.358,
          0,
          34.685,
          0,
          7.982,
          0,
          49.278,
          0,
          47.441,
          0,
          0,
          0,
          0,
          4.577,
          0,
          0,
          0,
          176.379,
          1.5070000000000001,
          0,
          31.779,
          816.297,
          6.827,
          78.944,
          0.834,
          76.258,
          5.022,
          0,
          3.387,
          0,
          0,
          0,
          0,
          25.824,
          17.756,
          0,
          21.932000000000002,
          0,
          219.19400000000002,
          8.646,
          6027.506,
          0,
          12.638,
          0,
          84.191,
          11.235,
          0,
          65.482,
          0,
          152.011,
          23.354,
          23.901,
          228.556,
          43.155,
          16.804000000000002,
          11839.729,
          354.33,
          0,
          0,
          0,
          0.872,
          0,
          1466.099,
          1147.333,
          239.15800000000002,
          0,
          11.715,
          2.85,
          5.207,
          2170.418,
          48.621,
          104.625,
          393.992,
          258.445,
          0,
          25627.06,
          628.44,
          316.52500000000003,
          41.807,
          99.914,
          14.394,
          0,
          0,
          345.883,
          0.045,
          197.359,
          2.478,
          0.54,
          0,
          0,
          0,
          7.929,
          278.635,
          8.998,
          0,
          0,
          0,
          12.201,
          18.333000000000002,
          473.91,
          49.67,
          10.478,
          0,
          207.004,
          129.15,
          561.618,
          228.21200000000002,
          0,
          0,
          0,
          0,
          0,
          0,
          229.99,
          5.763,
          6954.983,
          5.4990000000000006,
          0,
          92.777,
          0,
          0,
          4742.935,
          3.922,
          80.297,
          0,
          60.994,
          97.001,
          0,
          0,
          0,
          263.184,
          338.955,
          0,
          115.172,
          59.929,
          310.117,
          0,
          34573.877,
          2613.055,
          1172.411,
          19,
          111.286,
          0,
          43.716,
          0,
          0,
          0,
          821.1030000000001,
          0,
          1420.202,
          0,
          0,
          1044.839,
          10.355,
          40.225,
          17.086000000000002,
          29316.331000000002,
          0,
          0,
          1.078,
          0,
          1695.949,
          654.938,
          0,
          47.249,
          21.693,
          2.568,
          0,
          0,
          12086.796,
          11.047,
          37.663000000000004,
          0,
          8.496,
          0,
          199.04500000000002,
          263.485,
          186.117,
          0,
          0,
          582.944,
          0,
          0,
          293.704,
          164.21,
          0,
          40.464,
          0,
          5.706,
          0,
          50.335,
          0,
          29.614,
          0,
          0,
          0,
          0,
          4.442,
          0,
          0,
          0,
          145.981,
          1.7570000000000001,
          0,
          30.089000000000002,
          877.856,
          7.604,
          77.15,
          0.786,
          75.45400000000001,
          4.854,
          0,
          3.718,
          0,
          0,
          0,
          0,
          0,
          13.476,
          0,
          20.464000000000002,
          0,
          317.649,
          9.701,
          5011.054,
          0,
          11.111,
          0,
          129.624,
          14.242,
          0,
          54.416000000000004,
          0,
          156.149,
          16.578,
          39.994,
          220.537,
          54.730000000000004,
          12.547,
          14534.897,
          420.312,
          0,
          0,
          0,
          0.886,
          0,
          1432.78,
          1161.7450000000001,
          210.786,
          0,
          11.044,
          2.374,
          5.039,
          2147.55,
          45.683,
          101.122,
          374.793,
          286.564,
          0,
          25539.489,
          648.897,
          320.67900000000003,
          40.604,
          86.165,
          16.3,
          0,
          0,
          537.34,
          0,
          192.874,
          2.336,
          0.523,
          0,
          0,
          0,
          8.125,
          275.699,
          8.696,
          0,
          0,
          0,
          21.309,
          18.333000000000002,
          459.012,
          49.476,
          10.842,
          0,
          221.853,
          130.153,
          791.664,
          247.687,
          0,
          0,
          0,
          0,
          0,
          0,
          211.142,
          5.057,
          8547.354,
          6.146,
          0,
          95.974,
          0,
          0,
          5317.377,
          4.627,
          92.544,
          0,
          62.327,
          109.715,
          0,
          0,
          0,
          325.79200000000003,
          415.202,
          0,
          120.626,
          56.909,
          393.589,
          0,
          46300.141,
          2860.41,
          1598.972,
          16.964,
          123.59700000000001,
          0,
          41.761,
          0,
          0,
          0,
          810.969,
          0,
          1579.317,
          0,
          0,
          1045.414,
          10.53,
          32.629,
          17.447,
          38677.896,
          0,
          0,
          1.133,
          0,
          1737.412,
          114.785,
          0,
          47.19,
          20.726,
          2.5180000000000002,
          0,
          0,
          11193.034,
          11.046,
          35.291000000000004,
          0,
          9.127,
          0,
          147.254,
          188.071,
          162.377,
          0,
          0,
          535.292,
          0,
          0,
          287.333,
          183,
          0,
          31.38,
          0,
          8.683,
          0,
          77.712,
          0,
          32.183,
          0,
          0,
          0,
          0,
          4.082,
          0,
          0,
          0,
          137.849,
          1.706,
          0,
          31.989,
          847.868,
          8.077,
          77.342,
          0.8200000000000001,
          76.117,
          4.896,
          0,
          3.311,
          0,
          0,
          0,
          0,
          34.369,
          13.643,
          0,
          20.12,
          0,
          361.351,
          8.126,
          6198.323,
          0,
          14.988,
          0,
          125.36200000000001,
          17.489,
          0,
          53.201,
          0,
          149.816,
          16.578,
          52.844,
          217.448,
          46.551,
          6.994,
          12667.393,
          455.595,
          0,
          0,
          0,
          0.887,
          0,
          1436.358,
          1169.945,
          246.209,
          0,
          11.529,
          2.391,
          5.033,
          2166.417,
          43.886,
          102.01,
          366.68,
          255.1,
          0,
          25541.269,
          652.327,
          323.758,
          40.914,
          83.013,
          16.708000000000002,
          0,
          0,
          427.994,
          0,
          193.356,
          2.439,
          0.522,
          0,
          0,
          0,
          10.795,
          278.121,
          8.773,
          0,
          0,
          0,
          16.293,
          22.132,
          462.637,
          49.785000000000004,
          10.692,
          0,
          184.064,
          129.504,
          615.708,
          251.082,
          0,
          0,
          0,
          0,
          0,
          0,
          181.947,
          4.514,
          7870.973,
          5.953,
          0,
          96.042,
          0,
          0,
          4945.589,
          4.997,
          73.306,
          0,
          60.054,
          110.092,
          0,
          0,
          0,
          323.14300000000003,
          400.29200000000003,
          0,
          127.785,
          54.112,
          339.40000000000003,
          0,
          39579.925,
          2273.517,
          1247.936,
          22,
          128.857,
          0,
          48.453,
          0,
          0,
          0,
          712.019,
          0,
          1381.935,
          0,
          0,
          923.3000000000001,
          10.715,
          37.347,
          17.661,
          35798.234000000004,
          0,
          0,
          0.099,
          3.935,
          497.108,
          23.528000000000002,
          0,
          5.796,
          0,
          0,
          1594.233,
          1.6,
          19.619,
          0,
          0,
          0.335,
          0.914,
          52.939,
          4.42,
          0,
          129.01500000000001,
          0,
          0,
          18.379,
          12.559000000000001,
          0,
          10.66,
          73.59100000000001,
          0.23900000000000002,
          0.126,
          0,
          19.736,
          139.07500000000002,
          0,
          0,
          0,
          0,
          0,
          0.007,
          34.418,
          4.582,
          0,
          0.897,
          140.4,
          4.45,
          0.812,
          0.006,
          24.007,
          0.036000000000000004,
          0,
          0,
          0,
          0,
          0,
          0,
          25.14,
          8.013,
          7.899,
          0,
          0.746,
          0,
          476.491,
          0.005,
          0.079,
          0,
          0.402,
          24,
          0,
          0,
          0,
          1.123,
          0,
          0.019,
          10.032,
          1.19,
          0.449,
          8729.915,
          502.305,
          0,
          0,
          0.001,
          0,
          28.939,
          328.414,
          78.769,
          0,
          0.157,
          25.856,
          0.169,
          457.808,
          5.962,
          1.072,
          81.506,
          20.16,
          0,
          1918.232,
          3.9090000000000003,
          1.655,
          3.6510000000000002,
          24.645,
          2.9170000000000003,
          0,
          0,
          103.635,
          0,
          14.013,
          0.03,
          0.019,
          0,
          1.363,
          1.431,
          16.749,
          0.17400000000000002,
          0,
          0,
          0,
          21.601,
          0,
          62.120000000000005,
          2.536,
          0,
          0,
          40.883,
          23.083000000000002,
          46.957,
          111.23100000000001,
          0,
          0,
          0,
          0,
          0,
          0,
          47.56,
          3.356,
          429.435,
          1.468,
          0,
          16.65,
          1.295,
          0,
          924.988,
          1.232,
          10.767,
          0,
          0,
          84.07000000000001,
          0.006,
          0,
          0,
          16.112000000000002,
          184.725,
          7.589,
          9.635,
          6.002,
          0,
          1121.247,
          0,
          1875.412,
          70.888,
          194.52700000000002,
          0,
          0,
          0,
          0,
          0,
          173.095,
          0,
          480.425,
          0,
          0,
          99.63,
          0.014,
          0.015,
          6.319,
          184.572,
          5603.184,
          0.101,
          4.006,
          473.66200000000003,
          24.101,
          0,
          5.6080000000000005,
          0,
          0,
          1416.376,
          1.713,
          17.258,
          0,
          0,
          0.11,
          0.909,
          49.115,
          5.734,
          0,
          125.73400000000001,
          0,
          0,
          24.467,
          13.055,
          0,
          10.551,
          69.757,
          0.157,
          0.134,
          0,
          20.094,
          134.449,
          0,
          0,
          0,
          0,
          0,
          0.005,
          33.69,
          4.319,
          0,
          0.8260000000000001,
          135.598,
          4.46,
          0.791,
          0.009000000000000001,
          24.637,
          0.052000000000000005,
          0,
          0,
          0,
          0,
          0,
          26.011,
          0.439,
          7.43,
          0,
          0.708,
          0,
          529.592,
          0.004,
          0.128,
          0,
          0.396,
          32,
          0,
          0,
          0,
          1.241,
          0,
          0.02,
          9.268,
          1.549,
          0.395,
          6739.186,
          517.779,
          0,
          0,
          0.28400000000000003,
          0,
          28.162,
          341.107,
          52.796,
          0,
          0.231,
          20.943,
          0.272,
          469.829,
          5.246,
          1.564,
          78.252,
          16.844,
          0,
          1967.496,
          3.6830000000000003,
          1.81,
          3.23,
          24.475,
          3.505,
          0,
          0,
          94.809,
          0,
          13.151,
          0.045,
          0.031,
          0,
          1.282,
          0.684,
          17.189,
          0.254,
          0,
          0,
          0,
          17.733,
          0,
          55.417,
          2.4,
          0,
          0,
          38.244,
          23.333000000000002,
          47.626,
          128.306,
          0,
          0,
          0,
          0,
          0,
          0,
          43.295,
          3.864,
          402.853,
          0.467,
          0,
          17.555,
          2.15,
          0,
          932.139,
          1.324,
          12.303,
          0,
          0,
          87.06,
          0.007,
          0,
          0,
          24.548000000000002,
          179.282,
          5.772,
          8.615,
          4.7780000000000005,
          0,
          1075.625,
          0,
          2022.332,
          74.804,
          197.103,
          0,
          0,
          0,
          0,
          0,
          184.573,
          0,
          373.812,
          0,
          0,
          94.391,
          0.025,
          0.012,
          7.8950000000000005,
          181.779,
          5246.258,
          0.114,
          4.097,
          674.525,
          14.461,
          0,
          5.72,
          0,
          0,
          1141.007,
          1.562,
          15.532,
          0,
          0,
          0.169,
          0.85,
          56.604,
          5.5,
          0,
          117.113,
          0,
          0,
          23.243000000000002,
          8.458,
          0,
          11.817,
          82.974,
          0.148,
          0.396,
          0,
          19.959,
          114.282,
          0,
          0,
          0,
          0,
          0,
          0,
          0.005,
          28.636,
          4.103,
          0,
          0.867,
          138.989,
          4.45,
          0.847,
          0.008,
          24.531,
          0.052000000000000005,
          0,
          0,
          0,
          0,
          0,
          25.885,
          0,
          0.522,
          0,
          7.8020000000000005,
          0,
          0.678,
          0,
          0,
          539.94,
          0.004,
          0.134,
          0,
          0.39,
          27.963,
          0,
          0,
          1.365,
          0,
          0.02,
          8.547,
          1.6540000000000001,
          0.396,
          7963.217000000001,
          506.37,
          0,
          0,
          0.21,
          0,
          30.178,
          332.154,
          93.622,
          0,
          0.20800000000000002,
          26.445,
          0.151,
          467.802,
          5.641,
          1.559,
          72.252,
          15.496,
          0,
          1977.386,
          3.194,
          1.604,
          3.4,
          24.965,
          3.54,
          0,
          0,
          59.166000000000004,
          0,
          3.404,
          0.04,
          0.017,
          9.648,
          0,
          1.78,
          0.467,
          17.115000000000002,
          0.253,
          0,
          0,
          0,
          19.953,
          0,
          47.109,
          2.453,
          0,
          0,
          23.354,
          25.799,
          32.022,
          89.81400000000001,
          0,
          0,
          0,
          0,
          0,
          0,
          46.526,
          3.8000000000000003,
          330.545,
          0.659,
          0,
          16.677,
          2.707,
          0,
          999.711,
          1.125,
          11.971,
          0,
          0,
          84.116,
          0.007,
          0,
          0,
          38.878,
          178.20000000000002,
          5.256,
          9.477,
          4.921,
          0,
          941.655,
          0,
          1832.212,
          73.023,
          194.649,
          0,
          0,
          0,
          0,
          0,
          204,
          0,
          330.21,
          0,
          0,
          95.304,
          0.12,
          0.016,
          5.7700000000000005,
          176.326,
          5245.89,
          0,
          0,
          0.338,
          317,
          0,
          0,
          0,
          18.6,
          0,
          0,
          0,
          236.231,
          2.63,
          33,
          1.393,
          9.081,
          0,
          1.684,
          0,
          245.5,
          0,
          0,
          541.604,
          0,
          0,
          62.300000000000004,
          0,
          0,
          0.341,
          0,
          0,
          0,
          49.1,
          0,
          365,
          0,
          0,
          0,
          0,
          0,
          0,
          0,
          370,
          1.921,
          0,
          54,
          716,
          0.733,
          19.262,
          0.14300000000000002,
          87.17,
          0.628,
          0,
          0,
          0,
          0,
          5.945,
          0.168,
          0.222,
          0,
          0,
          0,
          0,
          0,
          0.35000000000000003,
          0,
          0,
          0,
          0,
          0,
          0,
          0,
          82.2,
          0,
          0,
          118.2,
          1.7870000000000001,
          84.641,
          1.1480000000000001,
          0,
          0,
          0,
          0,
          416.06,
          1036.3,
          19.5,
          0,
          1.81,
          0,
          0.376,
          1452.84,
          0,
          12.55,
          49.802,
          2.156,
          0,
          14324.294,
          235.168,
          0,
          300,
          0,
          0,
          0,
          7.078,
          1.7570000000000001,
          64.5,
          0.28300000000000003,
          0.049,
          92.636,
          1.2550000000000001,
          0,
          0.9430000000000001,
          145,
          2.5100000000000002,
          0,
          0,
          0,
          0,
          0.311,
          1449.4,
          43.954,
          0,
          0,
          0,
          374,
          2.563,
          15.6,
          0,
          0,
          0,
          0,
          0,
          5.3660000000000005,
          2.2,
          6534.338,
          0,
          0,
          16.9,
          10.950000000000001,
          0,
          5.279,
          6.5,
          0,
          0,
          0,
          5.4030000000000005,
          0,
          0,
          0,
          0,
          0,
          0,
          44.800000000000004,
          61.2,
          0,
          5502.2,
          0.196,
          0,
          0,
          0,
          0,
          0,
          0,
          0,
          0,
          900,
          5.3870000000000005,
          0,
          0,
          308.782,
          3.5,
          0,
          0,
          1016.479,
          0,
          0,
          0,
          0.339,
          227,
          0,
          0,
          0.171,
          20.8,
          0,
          0,
          0,
          204.316,
          4.648,
          39.2,
          1.401,
          8.935,
          0,
          1.682,
          0,
          271.7,
          0,
          0,
          541.926,
          0,
          0,
          70.4,
          0,
          0,
          0.337,
          0,
          0,
          0,
          54.800000000000004,
          0,
          370,
          0,
          0,
          0,
          0,
          0,
          0,
          0,
          400,
          1.832,
          0,
          53,
          719.564,
          23.09,
          20.400000000000002,
          0.14100000000000001,
          87.34100000000001,
          0.617,
          0,
          0,
          0,
          0,
          7.296,
          0,
          0,
          0,
          0,
          0,
          0,
          0,
          0.4,
          0,
          0,
          0,
          0,
          0,
          0,
          0,
          104.3,
          0,
          0,
          107.3,
          1.496,
          116.711,
          0,
          0,
          0.466,
          0,
          0,
          440.639,
          1034.319,
          20.5,
          0,
          1.78,
          0,
          0.378,
          1455.6770000000001,
          0,
          12.336,
          44.503,
          2.1430000000000002,
          0,
          14297.361,
          246.97,
          0,
          300,
          0,
          0,
          0,
          6.728,
          3.18,
          60,
          0.278,
          0.026000000000000002,
          0,
          0,
          1.7830000000000001,
          177,
          2.467,
          0,
          0,
          0,
          0,
          0.809,
          1779.6000000000001,
          45.004,
          0,
          0,
          0,
          330,
          2.563,
          21,
          0,
          0,
          0,
          0,
          0,
          5.57,
          3,
          7391.881,
          0,
          0,
          26.2,
          8.052,
          0,
          7.894,
          6.5,
          0,
          0,
          0,
          4.385,
          0,
          0,
          0,
          0,
          0,
          0,
          60,
          66.1,
          0,
          7959.2660000000005,
          0.096,
          0.014,
          0,
          0,
          0,
          0,
          0,
          0,
          0,
          910,
          6.3950000000000005,
          0,
          0,
          360,
          3.2,
          0,
          0,
          1054.151,
          0,
          0,
          0,
          0.34,
          269,
          0,
          0,
          0,
          19,
          0,
          0,
          0,
          253.423,
          1.829,
          37.6,
          10.257,
          0,
          1.682,
          0,
          208.70000000000002,
          0,
          0,
          545.099,
          0,
          0,
          70.10000000000001,
          0,
          0,
          0.328,
          0,
          0,
          0,
          52.7,
          0,
          355,
          0,
          0,
          0,
          0,
          0,
          0,
          0,
          0,
          410,
          2.0140000000000002,
          0,
          55,
          704.659,
          33.551,
          17.864,
          0.151,
          87.681,
          0.625,
          0,
          0.132,
          0,
          0,
          0,
          4.969,
          0,
          0.211,
          0,
          0,
          0,
          0,
          0,
          0.42,
          0,
          0,
          0,
          0,
          0,
          0,
          0,
          0,
          82.2,
          0,
          0,
          101.181,
          1.508,
          84.894,
          2.478,
          0,
          0,
          0.805,
          0,
          0,
          385.859,
          1015.336,
          17.964,
          0,
          1.903,
          0,
          0.38,
          1535.93,
          0,
          12.495000000000001,
          41.127,
          2.161,
          0,
          13881,
          258.547,
          0,
          300,
          0,
          0,
          0,
          7.011,
          3.423,
          65,
          0.297,
          0.027,
          0,
          0,
          1.512,
          163,
          2.499,
          0,
          0,
          0,
          0,
          1.036,
          1264.8,
          46.103,
          0,
          0,
          0,
          402,
          2.563,
          19,
          0,
          0.98,
          0,
          0,
          0,
          0,
          5.688,
          7,
          6029.734,
          0,
          0,
          22.891000000000002,
          11.302,
          0,
          5.836,
          6.784,
          0,
          0,
          0,
          4.457,
          0,
          0,
          0,
          0,
          0,
          0,
          66.6,
          64.8,
          0,
          6508.142,
          0.017,
          0,
          0,
          0,
          0,
          0,
          0,
          0,
          0,
          910,
          0,
          5.45,
          0,
          0,
          375,
          3.8000000000000003,
          0,
          0,
          985.297,
          0,
          0,
          0,
          0,
          0,
          0,
          0,
          0,
          0,
          0,
          0,
          37,
          0,
          0,
          15,
          0,
          0,
          0,
          60,
          7.1160000000000005,
          10,
          275.299,
          0,
          0,
          0,
          0,
          0,
          0,
          0,
          4.676,
          0.389,
          0,
          0,
          0,
          0,
          3.993,
          0,
          61.625,
          0,
          0,
          0,
          3.998,
          25,
          0,
          0.001,
          1.568,
          0.526,
          1.034,
          0.71,
          0,
          2.396,
          0,
          0,
          34.333,
          15,
          0,
          0,
          0,
          0,
          719,
          0,
          3.865,
          0,
          0,
          0,
          0,
          0,
          0.014,
          0,
          309.105,
          130,
          0,
          3.1990000000000003,
          0.013000000000000001,
          78.409,
          67.736,
          0,
          0.065,
          17.544,
          0,
          7.452,
          13.606,
          0,
          27.769000000000002,
          0,
          21.5,
          1.592,
          0.506,
          123.39,
          12.875,
          10.512,
          607.851,
          0,
          0,
          0,
          3.803,
          0,
          0,
          0.002,
          15.682,
          4.561,
          0.835,
          0,
          0,
          0,
          1.56,
          6.006,
          132.14000000000001,
          0,
          0,
          0,
          0,
          15,
          0,
          393.225,
          49.163000000000004,
          0.10200000000000001,
          0,
          0,
          0,
          0,
          0,
          0,
          0,
          0,
          0,
          0,
          0,
          0,
          67.485,
          0.10300000000000001,
          0,
          17.793,
          0,
          0,
          633.841,
          0,
          0,
          12,
          0,
          154.418,
          0,
          0,
          0,
          0,
          0,
          0,
          1078.211,
          0,
          0,
          0,
          34.365,
          0,
          0,
          0,
          102,
          0,
          0,
          0,
          32.587,
          0,
          258.69100000000003,
          0,
          70,
          0,
          0,
          0,
          0,
          0,
          0,
          0,
          0,
          0,
          30,
          0,
          0,
          18.7,
          0,
          0,
          0,
          76.116,
          16,
          8.338000000000001,
          337.589,
          0,
          0,
          0,
          0,
          0,
          0,
          0,
          4.732,
          0.683,
          0,
          0,
          0,
          0,
          3.915,
          0,
          59.924,
          0,
          0,
          0,
          3.827,
          26,
          0,
          0.001,
          1.576,
          0.551,
          1.057,
          0.729,
          0,
          2.601,
          0,
          0,
          34.111000000000004,
          14.516,
          0,
          0,
          0,
          0,
          915,
          0,
          4.0280000000000005,
          0,
          0,
          0.13,
          0,
          0,
          0.043000000000000003,
          0,
          265.699,
          132,
          0,
          3.218,
          0.012,
          78.777,
          64.583,
          0,
          0.065,
          18.358,
          0,
          7.487,
          13.907,
          0,
          28.507,
          0,
          28,
          1.572,
          0.503,
          124.33200000000001,
          13.048,
          10.544,
          569.154,
          0,
          0,
          3.89,
          0,
          0,
          0.002,
          15.755,
          4.773,
          0.839,
          0,
          0,
          0,
          1.595,
          6.165,
          135.952,
          0,
          0,
          0,
          0,
          14.5,
          0,
          400,
          49.127,
          0.069,
          0,
          0,
          0,
          0,
          0,
          0,
          0,
          0,
          0,
          0,
          0,
          0,
          118.783,
          0.10400000000000001,
          0,
          17.325,
          0,
          0,
          0,
          710.794,
          0,
          0,
          13,
          0,
          143.25300000000001,
          0,
          0,
          0,
          0,
          0,
          0,
          1078.157,
          0,
          0,
          0,
          40.128,
          0,
          0,
          0,
          138,
          0,
          0,
          0,
          32.128,
          0,
          243.203,
          0,
          72,
          0,
          0,
          0,
          0,
          0,
          0,
          0,
          0,
          0,
          30.541,
          0,
          0,
          16.4,
          0,
          0,
          0,
          63.872,
          11.539,
          8.521,
          314.277,
          0,
          0,
          0,
          0,
          0,
          0,
          0,
          4.764,
          0.788,
          0,
          0,
          0,
          0,
          3.86,
          0,
          60.422000000000004,
          0.17200000000000001,
          0,
          0,
          3.6550000000000002,
          25.534,
          0,
          0.001,
          1.651,
          0.994,
          1.032,
          0.742,
          0,
          0,
          2.742,
          0,
          0,
          33.481,
          15.005,
          0,
          0,
          0,
          0,
          846.0210000000001,
          0,
          3.942,
          0,
          0,
          0.32,
          0,
          0,
          0.019,
          0,
          264.105,
          133.636,
          0,
          3.244,
          0.011,
          82.569,
          64.146,
          0,
          0.065,
          18.713,
          0,
          7.51,
          13.582,
          0,
          29.009,
          0,
          28,
          1.551,
          0.5,
          125.316,
          13.222,
          10.627,
          574,
          0,
          0,
          0,
          3.977,
          0,
          0,
          0.001,
          16.514,
          4.865,
          0.841,
          0,
          0,
          0,
          1.557,
          6.274,
          139.763,
          0,
          0,
          0,
          0,
          17.358,
          0,
          386.908,
          50.597,
          0,
          0,
          0,
          0,
          0,
          0,
          0,
          0,
          0,
          0,
          0,
          0,
          0,
          79.499,
          0.101,
          0,
          16.857,
          0,
          0,
          762.7760000000001,
          0,
          0,
          7.792,
          0,
          143.02,
          0,
          0,
          0,
          0,
          0,
          0,
          1078.1680000000001,
          0,
          0,
          0,
          39.459,
          0,
          0,
          0,
          152.756,
          0,
          0,
          0,
          31.668,
          0,
          239.89600000000002,
          0,
          70
         ],
         "xaxis": "x",
         "y": [
          0,
          0,
          239.20015105165444,
          0,
          0,
          0,
          4.850033542378875,
          0,
          0,
          0,
          345.5590000000001,
          0.44250240435176796,
          113.72376873111038,
          0.06092830188679244,
          0,
          0,
          3.4419999999999997,
          0,
          106.77491472553884,
          0,
          0,
          385.0086253723988,
          0,
          0,
          111.13320426144884,
          0,
          5.7210790548649815,
          0,
          0,
          0,
          302.61537949067343,
          0,
          27.36967872593792,
          0,
          0,
          0,
          0,
          0,
          0,
          0,
          23.66469847000172,
          0.08646770237121833,
          0,
          7.241076969092723,
          172.16999483850475,
          0,
          35.47981965343038,
          0,
          80.24699084493878,
          0,
          0,
          0,
          0,
          0,
          0,
          0,
          0,
          0,
          0,
          0,
          0,
          11.770000000000001,
          0,
          2.1863106718146716,
          0,
          0,
          0,
          0,
          0,
          0,
          0,
          156.31509011216602,
          0,
          0,
          53.30734313987219,
          9.000021900687683,
          480.4960000000001,
          0,
          0,
          0,
          0,
          0,
          0,
          278.362,
          449.7835377113578,
          0.22728603793466814,
          0,
          0.105703125,
          0,
          1.9641936730095144,
          1060.5410000000002,
          0,
          2.7656601255263364,
          7.802560407137317,
          0,
          0,
          3881.9462352977835,
          0,
          0,
          31.369181260391095,
          0,
          0,
          0,
          16.403166443429733,
          0,
          41.21125427294241,
          0,
          0,
          0,
          0,
          0,
          0,
          72.85993083000035,
          0.15700000000000003,
          0,
          0,
          0,
          0,
          0,
          129.5267154319964,
          0,
          0,
          0,
          0,
          331.82841146306316,
          2.6557369195901663,
          65.56129001129598,
          0,
          0,
          0,
          0,
          0,
          0.011129558139534883,
          0,
          3403.8084320352145,
          0,
          0,
          9.330786249732276,
          4.201900696370611,
          0,
          39.451979101732576,
          3.127296062176166,
          0,
          0,
          0,
          1.9411433001107417,
          0,
          0,
          0,
          0,
          0,
          0,
          82.30274307957653,
          47.474449629868055,
          0,
          4021.1090002923706,
          0,
          0,
          0,
          0,
          0,
          0,
          0,
          0,
          0,
          259.0807760271899,
          0,
          31.531,
          0,
          0,
          183.60051645950367,
          0,
          -0.08268407310704963,
          0,
          1400.0740000000003,
          0,
          0,
          0,
          0,
          86.4224562162162,
          0,
          0,
          0,
          5.26413399800598,
          0,
          0,
          0,
          381.1281923837579,
          0.49848166221883317,
          122.3141594148214,
          0.06958208955223881,
          0,
          0,
          3.435,
          0,
          146.23036415586688,
          0,
          0,
          379.53458201216426,
          0,
          0,
          130.2033231175834,
          0,
          4.5796462585034,
          0,
          0,
          0,
          326.80338985864597,
          0,
          26.165675675675676,
          0,
          0,
          0,
          0,
          0,
          0,
          0,
          25.97086937159822,
          0.10350055741360088,
          0,
          7.982755001639881,
          157.7225011263436,
          0,
          36.56553260651217,
          0,
          79.33275906837059,
          0,
          0,
          0,
          0,
          0,
          0,
          0,
          0,
          0,
          0,
          0,
          0,
          16.948999999999987,
          0,
          2.390674380783887,
          0,
          0,
          0,
          0,
          0,
          0,
          0,
          187.05332333449599,
          0,
          0,
          53.639187987743576,
          10.999999999999998,
          608.6707096060245,
          0,
          0,
          0,
          0,
          0,
          0,
          281.536,
          448.9768208394237,
          0.1980989971795675,
          0,
          0.1661795665634675,
          0,
          2.276187241910632,
          1044.563039389449,
          0,
          3.0950125849484014,
          7.1830880797240315,
          0,
          0,
          4026.372268788796,
          0,
          0,
          27.08774461943371,
          0,
          0,
          0,
          18.42815279505166,
          0,
          0,
          45.735247658806266,
          0,
          0,
          0,
          0,
          0,
          0,
          65.56265061337628,
          0,
          0,
          0,
          0,
          0,
          0,
          92.4102826421801,
          0,
          0,
          0,
          0,
          298.6321753388054,
          2.9335659526551767,
          64.3108144231262,
          0,
          0,
          0,
          0,
          0,
          0,
          0.01626312555742741,
          0,
          4417.089511224498,
          0,
          0,
          9.649562260484696,
          4.25509924833767,
          0,
          46.09,
          3.582544304857621,
          0,
          0,
          0,
          2.3890000000000002,
          0,
          0,
          0,
          0,
          0,
          0,
          81.37988160674679,
          47.53489556800815,
          0,
          5941.782999999999,
          0,
          0,
          0,
          0,
          0,
          0,
          0,
          0,
          0,
          255.1628920308483,
          0,
          34.10691375753516,
          0,
          0,
          187.06392086680793,
          0,
          0.017701789264413525,
          0,
          1702.7210000000002,
          0,
          0,
          0,
          0,
          273.37029033739196,
          0,
          0,
          0,
          5.77417175750153,
          0,
          0,
          0,
          320.39517344825265,
          0.6068090147159146,
          97.74801188306799,
          0,
          0,
          4.5957600066159445,
          0,
          122.11268859906355,
          0,
          0,
          324.0951928393593,
          0,
          0,
          122.72829759412927,
          0,
          0,
          6.3800404659717955,
          0,
          0,
          0,
          423.0294451230255,
          0,
          26.193676969162997,
          0,
          0,
          0,
          0,
          0,
          0,
          0,
          0,
          25.00296765088387,
          0.09648447204968946,
          0,
          9.584053273137698,
          204.83039568345325,
          0,
          24.540710946842047,
          0,
          81.503,
          0,
          0,
          0,
          0,
          0,
          0,
          0,
          0,
          0,
          0,
          0,
          0,
          0,
          14.717607778870313,
          0,
          2.8370324877971256,
          0,
          0,
          0,
          0,
          0,
          0,
          0,
          0,
          152.21118287794312,
          0,
          0,
          50.299044816502224,
          11.000032719398439,
          442.9949999999999,
          0,
          0,
          0,
          0,
          0,
          0,
          277.31237563247817,
          467.0188874284722,
          0.18034663268365816,
          0,
          0.282710843373494,
          0,
          1.366257808027923,
          1073.1209999999999,
          0,
          2.612678596167167,
          7.758374907757804,
          0,
          0,
          4056.2943340295174,
          0,
          0,
          30.038834315651602,
          0,
          0,
          0,
          18.201838123866104,
          0,
          45.287417440949284,
          0,
          0,
          0,
          0,
          0,
          70.79343981881377,
          0,
          0,
          0,
          0,
          0,
          0,
          104.66193209998193,
          0,
          0,
          0,
          0,
          374.86747266416774,
          2.5600770536945348,
          61.33798181068755,
          0,
          0,
          0,
          0,
          0,
          0,
          0.025951075565361283,
          0,
          3046.5924253083513,
          0,
          0,
          9.870451874166625,
          4.3038409175870855,
          0,
          42.834,
          2.7359752721229746,
          0,
          0,
          0,
          2.319,
          0,
          0,
          0,
          0,
          0,
          0,
          81.85040937763166,
          43.01895118913829,
          0,
          5192.050014629718,
          0,
          0,
          0,
          0,
          0,
          0,
          0,
          0,
          0,
          256.1553347893244,
          0,
          32.132,
          0,
          0,
          166.85801036230248,
          0,
          0.02452358036573628,
          0,
          1652.249,
          0,
          0,
          0,
          0,
          1084.76327238794,
          0,
          0,
          0,
          194.5386443261265,
          6625.785135458722,
          0,
          0,
          2636.948093997018,
          0,
          0,
          0,
          1.5339016393442624,
          0,
          0,
          0,
          0,
          0,
          74.568,
          0,
          0,
          24.619048906744958,
          0,
          0,
          0,
          0,
          0,
          0,
          0,
          0,
          0,
          0,
          0,
          0,
          213.871,
          2643.3766092617993,
          2987.0213317008406,
          0,
          0,
          0,
          0,
          0,
          2334.371580935598,
          174.90498199593844,
          0,
          0,
          412.0653734241853,
          0,
          0,
          0,
          0,
          0,
          0,
          0,
          0,
          137.679632188118,
          0,
          0,
          1150.3402282498296,
          560.464000044608,
          0,
          5.4513725212464585,
          0,
          0,
          0,
          1268.1673790005086,
          0,
          0,
          12.972999999999997,
          64146.53607981207,
          0,
          1510.4236290817814,
          591.280597659423,
          0,
          9267.173172579736,
          13245.45489815814,
          -0.8744915915184013,
          0,
          0,
          0,
          0,
          0,
          0,
          0,
          0,
          33673.38619409763,
          0,
          0,
          0,
          0,
          0,
          0.18135361216730037,
          872.8309992352588,
          1200.900822881697,
          0,
          0,
          0,
          247.5683419559368,
          0,
          0,
          0,
          0,
          0,
          37.8,
          0,
          0,
          0,
          16994.407394068767,
          0,
          216.92353616151692,
          0,
          5.8273364168487864,
          0,
          29.635254358328076,
          181.52578191954169,
          0,
          2531.1969263911433,
          0,
          0,
          0,
          0,
          3887.26796444183,
          0,
          0,
          0,
          0,
          0,
          0,
          0,
          60,
          0,
          10622.189000000002,
          0,
          0,
          0,
          0,
          0,
          0,
          3.771524805276823,
          0,
          0,
          1154.4549996811334,
          96394.81999999999,
          0,
          0,
          0.5059506209343584,
          0,
          0,
          0,
          72.93026758383688,
          0,
          0,
          690.076066365337,
          1046.9608891182388,
          0,
          -0.12138842975206614,
          0,
          4168.549741128469,
          0,
          0,
          0,
          0,
          0,
          3127.6905246702327,
          0,
          0.2576010124980224,
          0,
          6834.421526233318,
          0,
          0,
          0,
          0,
          1339.8272904574053,
          0,
          0,
          0,
          201.35619831079538,
          6566.251749920012,
          0,
          0,
          3049.8233193780948,
          0,
          0,
          0,
          0,
          0,
          0,
          0,
          0,
          0,
          0,
          0,
          0,
          13.480137160778288,
          0,
          0,
          0,
          0,
          0,
          0,
          0,
          0,
          0,
          0,
          0,
          0,
          235.8097964932665,
          2173.1236769190027,
          2732.2411635707854,
          0,
          0,
          0,
          0,
          0,
          2554.574900015419,
          179.041374127274,
          340.9840294490284,
          0,
          425.6434078874135,
          0,
          0,
          0,
          0,
          0,
          0,
          0,
          0,
          104.78549373921982,
          0,
          0,
          1778.3468112473554,
          0,
          0,
          6.369551726486414,
          0,
          0,
          0,
          0,
          1309.3145153417568,
          0,
          0,
          5.953000000000002,
          97944.73245228824,
          0,
          1551.80830497155,
          579.9160995046896,
          0,
          9564.073739527728,
          13628.281304849743,
          0,
          0,
          0,
          0,
          3789.5869063044875,
          0,
          74.54206578907704,
          0,
          0,
          0,
          33316.09265279903,
          0,
          0,
          0,
          0,
          0.24454208416833673,
          625.7690000000001,
          1233.145506960791,
          0,
          4.955424381828638,
          0,
          248.86854305454094,
          0,
          0,
          0,
          0,
          0,
          40.2,
          0,
          0,
          0,
          17496.17501753393,
          0,
          231.24123009472544,
          21.0379043777445,
          -0.012477434097771974,
          0,
          35.78585898848274,
          186.7258069780587,
          0,
          2292.6164254939285,
          0,
          0,
          0,
          0,
          3690.5269220511564,
          0,
          0,
          0,
          0,
          0,
          0,
          0,
          50,
          0,
          12464.766,
          0,
          0,
          0,
          0,
          0,
          0,
          4.533584556392965,
          0,
          0,
          2223.627,
          114732.09855009583,
          0,
          0,
          0.5146997084548105,
          0,
          0,
          0,
          99.33137568931637,
          0,
          0,
          797.323514376262,
          972.7870936643498,
          0,
          0.009765957446808509,
          0,
          4206.346845664583,
          0,
          0,
          0,
          0,
          0,
          3153.426409732688,
          0,
          0.3899820123012649,
          0,
          4342.811999999999,
          281.8374738551982,
          0,
          0,
          1223.2898003260984,
          0,
          0,
          0,
          0,
          206.35946914294706,
          6735.128431783139,
          330.374,
          0,
          2900.2500405409173,
          0,
          0,
          0,
          5.271771486520747,
          0,
          0,
          0,
          0,
          141.418,
          0,
          0,
          0,
          0,
          0,
          0,
          0,
          0,
          0,
          0,
          0,
          0,
          0,
          0,
          0,
          0,
          239.3877946720223,
          2352.4280091573123,
          3481.214240083837,
          0,
          0,
          0,
          0,
          0,
          2688.4074150829574,
          179.70253792809612,
          353.28937374939267,
          0,
          438.0622823166449,
          0,
          0,
          0,
          0,
          0,
          0,
          0,
          0,
          134.4092340264145,
          0,
          91.64535743858816,
          1586.4276996486342,
          563.347,
          0,
          6.9528750180193155,
          0,
          0,
          0,
          1461.3376168257644,
          0,
          0,
          5.971309355845958,
          82290.03783176892,
          0,
          1929.2361647518928,
          583.4495715874514,
          0,
          9928.659218909892,
          13327.159456529853,
          0,
          0,
          0,
          3781.1535653066417,
          0,
          76.39217350227273,
          0,
          0,
          0,
          33874.981185756005,
          0,
          0,
          0,
          0,
          0.2704623714131023,
          897.8050000000001,
          1272.7370916111513,
          0,
          5.19,
          0,
          246.57674575892702,
          0,
          0,
          0,
          0,
          0,
          42.5,
          0,
          0,
          0,
          16734.584523072474,
          0,
          228.20886099588523,
          19.014163160288522,
          0.0248105681638671,
          0,
          62.61598363033568,
          183.16545938292367,
          0,
          2667.2691337415536,
          0,
          0,
          0,
          0,
          3708.0756523946693,
          0,
          0,
          0,
          0,
          0.0431713747645951,
          0,
          0,
          45,
          0,
          11749.192000000001,
          0,
          0,
          0,
          0,
          0,
          0,
          4.326263820318476,
          0,
          0,
          2272.9379994294877,
          117887.67199999998,
          0,
          0,
          0,
          0,
          0,
          0,
          127.79025431407133,
          0,
          0,
          757.7158790783577,
          984.2651351671874,
          0,
          0.013605633802816902,
          0,
          4072.2747918862638,
          0,
          0,
          0,
          0,
          0,
          3181.663884453026,
          0,
          0.35600595962053033,
          0,
          5418.711,
          282.8289298876715,
          0,
          0,
          0,
          228.58883594427152,
          9.639078962038019,
          0,
          0.00030059327620303233,
          0.6335249719244512,
          0,
          0,
          0,
          159.8908258525046,
          0,
          9.125602852685535,
          0,
          0,
          0,
          1.691,
          0,
          34.04280655795127,
          0,
          69.27943840625602,
          0,
          0,
          13.126121949955232,
          0.082,
          0,
          6.219350718823136,
          0,
          0.19673208154506433,
          0,
          0,
          0,
          0.7055123897522051,
          0,
          0,
          0,
          0,
          0,
          0,
          0,
          14.889040654468243,
          0,
          0,
          0,
          57.02145311615732,
          0,
          0,
          0,
          12.23892988284665,
          0,
          0,
          0,
          0,
          0,
          0.03136734758013828,
          0,
          0.035485599753314834,
          0,
          0,
          0,
          0,
          137.26903418047755,
          0,
          0,
          2.075825511794659,
          0,
          0.38359824780976215,
          0,
          13.232039339949777,
          0,
          0,
          66.02968603509858,
          0.28600000000000003,
          0,
          144.406,
          0,
          0,
          0,
          0,
          0,
          144.45600000000002,
          89.55645707201344,
          0,
          0,
          0,
          0,
          0,
          239.63117846457945,
          1.4454652683806946,
          5.358595572894581,
          1.8345684321475626,
          0,
          0,
          3958.1719552840923,
          0,
          0,
          0,
          6.579469400549639,
          0,
          0,
          0,
          7.106124174326355,
          0,
          23.23825779772539,
          0,
          0,
          0,
          0,
          8.909720676639175,
          0,
          0,
          0,
          0,
          0.06599999999999999,
          0,
          40.71761751815598,
          0,
          0,
          0,
          0.24622029316581,
          34.04888487634252,
          8.478828110599078,
          3.311131902206321,
          0,
          0,
          0,
          0,
          0,
          0,
          5.281089950624455,
          0,
          373.28985510102876,
          0,
          0,
          14.922493635047456,
          0.03938423645320197,
          0,
          71.8991424652633,
          3.072591393050685,
          0,
          0,
          0,
          8.41175158609597,
          0,
          0,
          0,
          0,
          4.878509364175424,
          0,
          14.671883791256263,
          9.564339137293976,
          0,
          1277.407,
          0,
          12.999320971533036,
          0,
          0,
          0,
          0,
          0,
          0,
          0,
          42.44184729390928,
          0,
          36.178000000000004,
          0,
          0,
          49.34095790195407,
          0.007175531914893617,
          2.184119853539463,
          0,
          386.71999999999997,
          0,
          0,
          0,
          0,
          224.3257032364749,
          9.951170442825111,
          0,
          0,
          0.7535140161010901,
          0,
          0,
          0,
          207.37400000000005,
          0,
          9.921625223348864,
          0,
          0,
          0,
          3.023216580310881,
          0,
          38.353648631485584,
          0,
          77.38290643968534,
          0,
          0,
          13.895322642477552,
          0.09586066763425256,
          0,
          6.367071868583163,
          0,
          0.20077300985595148,
          0,
          0,
          0,
          0.9010997659765976,
          0,
          0,
          0,
          0,
          0,
          0,
          0,
          14.457555820634523,
          0,
          0,
          0,
          58.4490300815713,
          0,
          0,
          0,
          12.236,
          0,
          0,
          0,
          0,
          0,
          0.027885595732068762,
          0,
          0.04392294117647059,
          0,
          0,
          0,
          0,
          100.92693676972488,
          0,
          0,
          4.894724260335382,
          0,
          0.41310956002982846,
          0,
          13.41683848070495,
          0,
          0,
          68.8026459420007,
          0.40395334334218735,
          0,
          162.454,
          0,
          0,
          0,
          0,
          0,
          139.744,
          90.23002204556744,
          0,
          0,
          0,
          0,
          0,
          239.01255479377363,
          1.2801922448979592,
          5.34545333683106,
          1.9647328922359693,
          0.00103011050953052,
          0,
          3893.0413954714527,
          0,
          0,
          0.7876563453990406,
          8.404078998760841,
          0,
          0,
          0,
          10.209999999999999,
          0,
          22.77951052871948,
          0,
          0,
          0,
          0,
          3.85490071283096,
          0,
          0,
          0,
          0,
          0.088,
          0,
          36.09824054993694,
          0,
          0,
          0,
          0.18549236794548957,
          40.58384200060994,
          13.692332531092438,
          6.516503714637146,
          0,
          0,
          0,
          0,
          0,
          0,
          5.306733822894168,
          0,
          460.0746441579703,
          0,
          0,
          19.189160174775232,
          0.04584678243105209,
          0,
          77.6129128782978,
          3.03988855721393,
          0,
          0,
          0,
          12.423,
          0,
          0,
          0,
          0,
          6.043074350639104,
          0,
          14.990981741024065,
          10.004708534059947,
          0,
          1544.780048692891,
          0,
          16.449,
          0,
          0,
          0,
          0,
          0,
          0,
          0,
          42.05671914930968,
          0,
          51.424991095864016,
          0,
          0,
          55.15037115298978,
          0,
          2.1569800325203254,
          0,
          530.5520000000001,
          0,
          0,
          0,
          0,
          221.9633748636797,
          8.58472840603631,
          0,
          0.00039875389408099686,
          0.8595652997755692,
          0,
          0,
          0,
          182.11999999999998,
          0,
          9.958328098495212,
          0,
          0,
          0,
          0,
          0,
          42.51683246518225,
          0,
          72.4645961659923,
          0,
          0,
          14.32727030244211,
          0.08700000000000001,
          0,
          7.17165312305109,
          0,
          0.19947178899082563,
          0,
          0,
          0,
          0.4037858982440343,
          0,
          0,
          0,
          0,
          0,
          0,
          0,
          14.598564512636496,
          0,
          0,
          0,
          59.98931721162837,
          0,
          0,
          0,
          11.844999999999999,
          0,
          0,
          0,
          0,
          0,
          0.026632708150744956,
          0,
          0.03734578732106339,
          0,
          0,
          0,
          0,
          140.30231326163081,
          0,
          0,
          4.279008922124805,
          0,
          0.4419818980983135,
          0,
          14.060225771103896,
          0,
          0,
          74.00422016068978,
          0.32896190806993175,
          0,
          134.833494755854,
          0,
          0,
          0,
          0,
          0,
          147.97,
          95.2635753680445,
          0,
          0,
          0,
          0,
          0.5129653846153845,
          231.58369307044518,
          1.2342856991150442,
          5.846112602739725,
          1.9086183564925732,
          0.0009880509584474341,
          0,
          3913.203593317625,
          0,
          0,
          0.9340000000000002,
          8.29611465281662,
          0,
          0,
          0,
          8.255999999999998,
          0,
          22.22892648589025,
          0,
          0,
          0,
          0,
          8.883999999999993,
          0,
          0,
          0,
          0,
          0.04200000000000001,
          0,
          37.93468791190077,
          0,
          0,
          0,
          0.23825805974831804,
          37.58867086700371,
          15.36080334450088,
          6.475582562838836,
          0,
          0,
          0,
          0,
          0,
          0,
          7.2205347008843415,
          0,
          416.36100254364476,
          0,
          0,
          13.05700805152979,
          0.04631411042944786,
          0,
          78.00094094939382,
          3.156971832037325,
          0,
          0,
          0,
          10.112000000000002,
          0,
          0,
          0,
          0,
          3.879184385563189,
          0,
          15.165593696467557,
          9.503735760320422,
          0,
          1625.4609098985175,
          0,
          17,
          0,
          0,
          0,
          0,
          0,
          0,
          0,
          42.87247895783463,
          0,
          47.34299307769761,
          0,
          0,
          53.896679114772326,
          0,
          2.258564285714286,
          0,
          497.24999999999994,
          0,
          0,
          0,
          0,
          1028.5794574637146,
          0.27138642108807903,
          0,
          0,
          117.89567062219707,
          0,
          0,
          0,
          10730.500000000002,
          0,
          55.9662710671091,
          0.6074478249023704,
          14.113867901883133,
          0,
          153.70102812803103,
          0,
          720.9428445014321,
          0,
          0,
          649.6251169726906,
          0,
          0,
          121.37255119799902,
          0,
          35.08858152607702,
          12.366707704954955,
          0,
          0,
          0,
          0,
          9.626240382472078,
          0,
          0,
          0,
          0,
          0,
          0,
          0,
          260.561325939618,
          24.903683939726342,
          0,
          0,
          819.5636934497667,
          0,
          0,
          76.30595983546756,
          0,
          943.7049999999998,
          0,
          0,
          0,
          0,
          0,
          0,
          0,
          0,
          0,
          0,
          0,
          0,
          0,
          45.3,
          0,
          1225.580144835286,
          0,
          0,
          0,
          0,
          23.073465570400824,
          0,
          0,
          0,
          90.98250372857807,
          0,
          0,
          332.7318209855985,
          5.999958055157467,
          0,
          4017.8,
          0,
          0,
          0,
          0,
          0,
          0,
          0,
          1155.481969840994,
          998.6481451446352,
          40.677755897239855,
          56.25166218760195,
          0,
          3.5875166580645157,
          -0.04779860505666957,
          5586.172371123904,
          25.36259069047994,
          28.76711810967959,
          484.35175591511245,
          0,
          0,
          32686.268101507885,
          0,
          0,
          79.11277520846903,
          9.133638383552155,
          0,
          0,
          535.9005543900158,
          0,
          0,
          107.15424072684337,
          0,
          0,
          72.04732280731459,
          0,
          0,
          0,
          297.6290219223729,
          0.22464419225634177,
          0,
          0,
          0,
          0,
          0,
          514.2629491323869,
          103.51577210102512,
          0,
          0,
          0.589483879910136,
          33.005783351643835,
          288.9986495005783,
          41.156047787709,
          0,
          0,
          0,
          0,
          0,
          0,
          38.93033348253482,
          0.026236188951160932,
          10758.682952813615,
          13.67503000212781,
          0,
          135.022729035908,
          0,
          0,
          4579.599999999999,
          6.294656248569696,
          0,
          0,
          0,
          3173.8,
          0,
          0,
          0,
          0,
          43.02210042492716,
          0,
          58.46883379508319,
          145.15306810186885,
          0,
          27065.498997331797,
          0,
          35.7,
          0,
          0,
          0,
          0,
          0,
          0,
          0,
          84.60044421209273,
          0,
          2397.3009184561292,
          0,
          0,
          403.60114005002805,
          1.6993327188940088,
          0,
          20.923690252333568,
          0,
          24463.800000000007,
          0,
          0,
          0,
          0,
          603.3966056334141,
          0.21678246130145606,
          0,
          0,
          120.90902672666185,
          0,
          0,
          0,
          10853.400000000003,
          0,
          58.67012686885136,
          0.7939532978287587,
          12.482846688149413,
          0,
          188.80100286304653,
          0,
          799.2800305706925,
          0,
          0,
          743.6201825711539,
          0,
          0,
          136.93662662376235,
          0,
          20.308180960839728,
          9.825529477050704,
          0,
          0,
          0,
          0,
          12.502022886063436,
          0,
          0,
          0,
          0,
          0,
          0,
          0,
          262.04894175012606,
          21.283609249544423,
          0,
          0,
          822.9797776517833,
          0,
          0,
          75.08608984686843,
          0,
          929.5131910926133,
          0,
          0,
          0,
          0,
          0,
          0,
          0,
          0,
          0,
          0,
          0,
          0,
          0,
          43.30094779468098,
          0,
          1017.739290503605,
          0,
          0,
          0,
          0,
          21.646576663632988,
          0,
          0,
          0,
          93.84941554883261,
          0,
          0,
          351.2928381793373,
          6.999954606470523,
          0,
          4547.600688710053,
          0,
          0,
          0,
          0,
          0,
          0,
          0,
          1137.0080000000003,
          1002.1252293427535,
          35.14506290132763,
          56.365974338773206,
          0,
          3.4493464389189183,
          0,
          5502.008470204425,
          24.67452682825705,
          27.989967861578087,
          462.3965374997047,
          0,
          0,
          32594.41568832149,
          0,
          0,
          78.49392703433833,
          9.203307576945582,
          0,
          0,
          576.5005474625846,
          0,
          0,
          110.9984200256022,
          0,
          0,
          58.85464620810647,
          0,
          0,
          0,
          293.1552363524411,
          0.2216452546296296,
          0,
          0,
          0,
          0,
          0,
          535.202519627595,
          101.10925095708542,
          0,
          0,
          0.5368352041143277,
          23.27436287004826,
          296.93736754233265,
          37.41203754315168,
          0,
          0,
          0,
          0,
          0,
          0,
          27.384964594766508,
          -0.22425580362101524,
          11730.491118571781,
          13.141959897735576,
          0,
          135.79668934742827,
          0,
          0,
          4268.4,
          6.4533465442303655,
          0,
          0,
          0,
          2737.4,
          0,
          0,
          0,
          0,
          65.87187196646991,
          0,
          64.40502731575738,
          128.56902237518807,
          0,
          34059.9,
          0,
          39.59989630060255,
          0,
          0,
          0,
          0,
          0,
          0,
          0,
          95.67039082156539,
          0,
          2317,
          0,
          0,
          413.62520968057885,
          1.7714479382972412,
          0,
          21.04123896152142,
          0,
          24481.600000000006,
          0,
          0,
          0,
          0,
          1199.0997169609168,
          0.2621474509244567,
          0,
          0,
          121.43482656602792,
          0,
          0,
          0,
          9583.6,
          0,
          31.93673502648402,
          0.8033758766752309,
          10.422446818908957,
          0,
          160.79999999999998,
          0,
          615.6677291911766,
          0,
          0,
          614.9154926337895,
          0,
          0,
          118.79884926179811,
          0,
          44.92603825564483,
          11.424772542949013,
          0,
          0,
          0,
          0,
          14.678191531146217,
          0,
          0,
          0,
          0,
          0,
          0,
          0,
          0,
          267.8274808001032,
          24.66639789654159,
          0,
          0,
          840.6046413096154,
          0,
          0,
          74.19,
          0,
          906.6139999999999,
          0,
          0,
          0,
          0,
          0,
          0,
          0,
          0,
          0,
          0,
          0,
          0,
          50.19901186937779,
          0,
          1413.3099994372346,
          0,
          0,
          0,
          21.705439158814727,
          0,
          0,
          0,
          68.52270699211219,
          0,
          0,
          357.2085945008658,
          6.650043169764287,
          0,
          3344.0005149907906,
          0,
          0,
          0,
          0,
          0,
          0,
          0,
          1123.4509952887895,
          1051.4206179600394,
          36.06793427121017,
          56.69650779376883,
          0,
          3.6662685119022367,
          0,
          5366.326066543742,
          24.482375690877337,
          30.3960290152437,
          461.33790160402526,
          0,
          0,
          33088.14156389235,
          0,
          0,
          79.84939318725985,
          9.44690699609883,
          0,
          0,
          577.6000000000001,
          0,
          0,
          108.57944712094708,
          0,
          0,
          64.78823240750872,
          0,
          0,
          0,
          285.93330422010996,
          0.23937316699496605,
          0,
          0,
          0,
          0,
          0,
          411.52690266966914,
          101.72361003233256,
          0,
          0,
          0.5723652047517905,
          50.95024622739989,
          196.3407392701091,
          42.5098356945751,
          0,
          0,
          0,
          0,
          0,
          0,
          58.60587835622256,
          0.12113633809149152,
          8931.612579145316,
          12.606999999999998,
          0,
          126.81961053538672,
          0,
          0,
          3670.6003951371413,
          6.22001254569985,
          0,
          0,
          0,
          2201.4008525707827,
          0,
          0,
          0,
          0,
          58.79249534491593,
          0,
          63.08697829489249,
          134.02544175347046,
          0,
          26191.39899344851,
          0,
          30.999999999999996,
          0,
          0,
          0,
          0,
          0,
          0,
          101.73880415642532,
          0,
          1935.4991002855097,
          0,
          0,
          383.4179989497257,
          1.551506384852488,
          0,
          21.442871038806857,
          0,
          20263.5,
          0,
          0,
          1.138453978906999,
          0,
          1810.710369725901,
          601.3346987851188,
          0,
          46.70429245215032,
          18.88944711856823,
          1.95364319035754,
          0,
          0,
          10439.229000000001,
          9.54565122793466,
          27.88800000000002,
          0,
          0.2530004438526409,
          0,
          197.82000000000002,
          169.48994501812098,
          172.18161892239732,
          0,
          0,
          555.7872112353958,
          0,
          0,
          323.12163569165176,
          166.35948537907268,
          0,
          27.480099933543556,
          0,
          1.3096917772280936,
          0,
          49.27696278678173,
          0,
          49.74238616028526,
          0,
          0,
          0,
          0,
          1.7774879933756553,
          0,
          0,
          0,
          172.69659526475343,
          0.23766521739130436,
          0,
          35.218741900334216,
          822.1840808966975,
          0,
          78.94254810291872,
          0,
          76.25716461631156,
          0,
          0,
          0.5457872928176795,
          0,
          0,
          0,
          0,
          25.180851161656623,
          0,
          0,
          20.31810784213765,
          0,
          0,
          8.40406077089034,
          6024.918738020875,
          0,
          12.639286965376783,
          0,
          84.18996451676384,
          8.129269615384615,
          0,
          68.2727119845308,
          0,
          149.43343805572422,
          23.103238126800974,
          27.29389871657297,
          219.64534665847347,
          43.155753483255936,
          0,
          11839.730724455305,
          352.1730790310248,
          0,
          0,
          0,
          -0.08637735849056605,
          0,
          1466.099,
          1140.8326581591846,
          239.85144494367165,
          0,
          -0.6630477084156461,
          -0.7582029234737746,
          9.180408662942543,
          2175.125002101662,
          47.16949048106034,
          107.3062646047736,
          389.69931022115526,
          254.40434978307778,
          0,
          25636.871921395315,
          0,
          0,
          41.805672245688704,
          100.71720714819094,
          14.39435865746393,
          0,
          0,
          345.88300000000004,
          0,
          196.9343805439167,
          0,
          0,
          0,
          0,
          0,
          0,
          267.49847357084116,
          0,
          0,
          0,
          0,
          12.200277876420454,
          17.893860294812438,
          483.4426397334873,
          63.74941458962941,
          10.522637177533683,
          0,
          214.23086855502632,
          134.15704375396322,
          581.6687689690574,
          229.65058429884002,
          0,
          0,
          0,
          0,
          0,
          0,
          223.90975636965675,
          5.762999999999999,
          6969.560167469842,
          5.499,
          0,
          96.91663829141444,
          0,
          0,
          4742.9349999999995,
          5.196899009929348,
          80.29700000000001,
          0,
          65.21371914056974,
          97.00099999999999,
          0,
          0,
          0,
          263.18572137194883,
          338.9549999999999,
          0,
          113.99137779086792,
          55.22051243718573,
          0,
          0,
          34573.87599996561,
          2613.0550000000003,
          1172.410080601854,
          0,
          109.74355725450413,
          0,
          44.46087331329912,
          0,
          0,
          0,
          816.5585312630412,
          0,
          1420.2020000000002,
          0,
          0,
          1047.490571219849,
          1.8128875184094257,
          40.22849387648745,
          18.144523517499238,
          29316.32853842093,
          0,
          0,
          1.078,
          0,
          1681.2908994439279,
          648.4249837060066,
          0,
          51.87831345727505,
          20.19070770280409,
          2.447137292394357,
          0,
          0,
          12086.796,
          13.038959703385942,
          37.66509681549939,
          0,
          14.766444582751884,
          0,
          199.045,
          263.4840285336106,
          178.17346002543883,
          0,
          0,
          579.1617588247365,
          0,
          0,
          303.58568826988653,
          164.2086859100039,
          0,
          51.05985138538815,
          0,
          0.6226135057471265,
          0,
          50.334999999999994,
          0,
          29.72059055819003,
          0,
          0,
          0,
          0,
          1.8683591582974652,
          0,
          0,
          0,
          143.8204737382702,
          0.27953656845753905,
          0,
          34.55419857122582,
          872.9869482111225,
          0,
          77.14802392295478,
          0,
          75.45400000000001,
          0,
          0,
          0.5996656528990484,
          0,
          0,
          0,
          0,
          0,
          0,
          0,
          18.838121152311665,
          0,
          0,
          9.522094626927387,
          5004.1154656103745,
          0,
          11.112204575021684,
          0,
          129.6229545102594,
          10.539979297033906,
          0,
          50.518401606553375,
          0,
          148.56422442314954,
          16.00262781973075,
          42.18047661192329,
          218.67501241039514,
          54.72931516448316,
          0,
          14534.897,
          423.3160210555446,
          0,
          0,
          0,
          -0.1078733766233766,
          0,
          1432.78,
          1152.2457160916874,
          212.00768495620144,
          0,
          -1.5103303176940879,
          -0.19872192731727237,
          9.831389137378912,
          2150.283650402333,
          54.04626339741256,
          99.69081103648467,
          369.0530758138947,
          294.13782682760734,
          0,
          25548.542418250057,
          0,
          0,
          40.602542622303574,
          78.77311379776721,
          16.299579680247554,
          0,
          0,
          537.3389053648003,
          0,
          198.57857200188718,
          0,
          0,
          0,
          0,
          0,
          0,
          284.04884750949446,
          0,
          0,
          0,
          0,
          21.309,
          14.010634406580497,
          467.970749321773,
          75.21678750283017,
          10.628635729769327,
          0,
          221.90864743784687,
          133.72271527946728,
          800.8147727853859,
          240.71692718226637,
          0,
          0,
          0,
          0,
          0,
          0,
          212.5621128514188,
          5.039799319727881,
          8545.927072413586,
          6.146901305176712,
          0,
          91.02455594391861,
          0,
          0,
          5317.3769999999995,
          6.568769338739384,
          92.54304937802385,
          0,
          66.6290069485329,
          109.71378034817025,
          0,
          0,
          0,
          325.7904511540564,
          415.2024603590828,
          0,
          118.37539872634402,
          56.02342857217388,
          0,
          0,
          46300.142000006155,
          2860.41,
          1598.9730078670477,
          0,
          123.5269763146671,
          0,
          41.74939461476225,
          0,
          0,
          0,
          804.8020552452438,
          0,
          1579.315975261989,
          0,
          0,
          1052.6458526765823,
          2.631838068896153,
          32.62900000000001,
          17.33801537486178,
          38677.896,
          0,
          0,
          1.133,
          0,
          1750.8508474569448,
          124.43078011670727,
          0,
          48.662077359594385,
          19.957223774559154,
          2.6639100316373217,
          0,
          0,
          11193.03179243727,
          13.276678762410851,
          35.29100000000001,
          0,
          14.794882972841588,
          0,
          147.2552868591004,
          188.0719701532573,
          161.9473964235394,
          0,
          0,
          532.0534669696556,
          0,
          0,
          282.657362760075,
          183.00000000000003,
          0,
          25.250777687438756,
          0,
          2.0335340737693675,
          0,
          77.71300054074933,
          0,
          31.06361717825444,
          0,
          0,
          0,
          0,
          1.819342741440667,
          0,
          0,
          0,
          137.70169854362655,
          0.3043470873786408,
          0,
          35.16509264765144,
          847.5759475845081,
          0,
          77.33892538262768,
          0,
          76.11798066170219,
          0,
          0,
          0.5244120955102792,
          0,
          0,
          0,
          0,
          33.52987208758728,
          0,
          0,
          16.093472387288628,
          0,
          0,
          8.134904516155666,
          6189.937382105401,
          0,
          14.988,
          0,
          125.36200000000002,
          12.976359604456889,
          0,
          53.906028391206014,
          0,
          148.39356754988071,
          17.204195046120457,
          55.141692047013706,
          216.5691986060882,
          46.55040617665069,
          0,
          12667.391470590046,
          460.7285135950548,
          0,
          0,
          0,
          0,
          0,
          1436.3580000000002,
          1180.6301424999215,
          234.7529592278121,
          0,
          -0.46921679571173325,
          0,
          0,
          2167.611568729684,
          52.614558624429506,
          100.8645535793058,
          360.0620496449708,
          252.32807864840532,
          0,
          25533.232631876883,
          0,
          0,
          40.905840047865944,
          76.68945735962647,
          16.708000000000002,
          0,
          0,
          427.9952383619829,
          0,
          204.33656586607842,
          0,
          0,
          0,
          0,
          0,
          0,
          279.5776908101403,
          0,
          0,
          0,
          0,
          16.293000000000003,
          22.132,
          451.81447298961194,
          66.95544480664717,
          10.958480604853557,
          0,
          186.565681090613,
          134.04787955479495,
          625.4258488178717,
          244.77562391394432,
          0,
          0,
          0,
          0,
          0,
          0,
          189.28000369412712,
          4.513999999999999,
          7882.166248742738,
          5.954536654620546,
          0,
          99.55251893612484,
          0,
          0,
          4945.589,
          5.659988114368225,
          73.30600000000001,
          0,
          64.42901091762579,
          110.09086992404023,
          0,
          0,
          0,
          323.14300000000003,
          400.29200000000003,
          0,
          117.32559534498449,
          59.1357711618522,
          0,
          0,
          39579.92499999999,
          2273.5170000000003,
          1247.9359999999997,
          0,
          141.45241058909437,
          0,
          49.02179953122469,
          0,
          0,
          0,
          708.3758481528719,
          0,
          1381.9339724381873,
          0,
          0,
          916.7121039076841,
          2.0499708653005726,
          37.347,
          17.067101178994637,
          35798.231923286476,
          0,
          0,
          0,
          3.924156670822942,
          498.62407395530533,
          23.2570656929538,
          0,
          6.963757666878575,
          0,
          0,
          1594.2330000000002,
          1.7288182931808898,
          21.095925980476892,
          0,
          0,
          0,
          0.914,
          53.42094303020354,
          4.419999999999999,
          0,
          130.18579841882442,
          0,
          0,
          18.290674791869357,
          12.559,
          0,
          10.70435126789366,
          73.28026828874715,
          0.09880498084291191,
          0.126,
          0,
          19.80124784373657,
          141.05320771327024,
          0,
          0,
          0,
          0,
          0,
          0.0074375000000000005,
          35.98439822756733,
          3.383259223766171,
          0,
          1.1975033302377411,
          140.05725913816872,
          4.122807343576966,
          0.8129866342648846,
          0,
          23.67872526877572,
          0,
          0,
          0,
          0,
          0,
          0,
          0,
          26.40873981076119,
          0,
          7.388095141262643,
          0,
          0,
          0,
          477.795305468725,
          0,
          0,
          0,
          0,
          23.079383644746418,
          0,
          0,
          0,
          2.0069419320436506,
          0,
          0.029522692472198457,
          9.431325695364238,
          1.1894333333333336,
          0,
          8729.913613992525,
          502.7206084717725,
          0,
          0,
          0,
          0,
          28.94052054434637,
          328.42449925245,
          79.49880059718903,
          0,
          0,
          29.25932627120944,
          0,
          457.80799999999994,
          18.393849793014237,
          -0.21818483904465213,
          83.69936084573511,
          20.88986709166249,
          0,
          1916.9967987684286,
          0,
          0,
          3.650999999999999,
          23.371985571455347,
          2.9188427037271003,
          0,
          0,
          103.63500000000002,
          0,
          0,
          0,
          0,
          0,
          0,
          0,
          16.750040569085485,
          0,
          0,
          0,
          0,
          21.601000000000003,
          0,
          62.04119218384264,
          3.580915193512716,
          0,
          0,
          40.59677174096909,
          23.870186958598726,
          48.821608856760236,
          111.07327839736287,
          0,
          0,
          0,
          0,
          0,
          0,
          48.30879364048962,
          2.850022150768131,
          430.1278100765197,
          1.468,
          0,
          16.904243803359954,
          0.17101980924431398,
          0,
          924.9903427737787,
          1.1984761904761905,
          10.767818098928654,
          0,
          0,
          84.07000000000001,
          0.006000000000000001,
          0,
          0,
          16.111999999999995,
          184.72582130296954,
          8.641326960227273,
          8.407831202046035,
          6.339650379202921,
          0,
          1121.247,
          0,
          1875.412,
          13.68494208494213,
          206.11059025803934,
          0,
          0,
          0,
          0,
          0,
          171.98313497281262,
          0,
          480.42500000000007,
          0,
          0,
          100.65251814318266,
          0,
          0,
          6.317677756852899,
          183.6077000389986,
          5603.185717043155,
          0,
          3.950679047619047,
          474.8277985606328,
          23.61058870156014,
          0,
          9.068314261168384,
          0,
          0,
          1416.376,
          1.8523032754232602,
          15.837042599129306,
          0,
          0,
          -0.082,
          0.9078777777777779,
          47.82357382365981,
          5.734000000000001,
          0,
          127.16703272997975,
          0,
          0,
          25.06690098234341,
          13.055000000000001,
          0,
          8.069068920415226,
          69.77245712380112,
          0.025229098805646038,
          0.13411194653299915,
          0,
          19.951962737345404,
          134.0205944007867,
          0,
          0,
          0,
          0,
          0,
          0,
          33.22089586195749,
          3.224267345050879,
          0,
          0.015009378663540447,
          135.7598826845107,
          3.355229357798165,
          0,
          0,
          24.101596457193292,
          0,
          0,
          0,
          0,
          0,
          0,
          25.359765338466477,
          0,
          7.338509816103379,
          0,
          0,
          0,
          529.947543769394,
          0,
          0,
          0,
          0,
          31.0946013585985,
          0,
          0,
          0,
          1.481644475779695,
          0,
          0.027164275668073137,
          9.530255011441648,
          1.549,
          0,
          6739.1860000000015,
          516.9081078555287,
          0,
          0,
          0,
          0,
          28.16200000000001,
          339.5675445583243,
          52.93562798958456,
          0,
          0,
          25.530202633928567,
          0,
          469.829,
          -0.257727416798732,
          0.3211973154362416,
          76.96633514211887,
          17.65046097169132,
          0,
          1967.3709423722346,
          0,
          0,
          3.23,
          23.522106666666666,
          3.505000000000001,
          0,
          0,
          94.809,
          0,
          0,
          0,
          0,
          0,
          0,
          0,
          17.189960923524154,
          0.012304498269896193,
          0,
          0,
          0,
          17.733,
          0,
          54.58872533994515,
          3.7882930890924236,
          0,
          0,
          39.51169321746844,
          24.59376738701011,
          45.042836214419275,
          129.7367966986733,
          0,
          0,
          0,
          0,
          0,
          0,
          44.688807823229496,
          2.589702127659575,
          404.10510166079206,
          0.4670000000000001,
          0,
          17.273979372496658,
          3.8244688086303933,
          0,
          932.1390000000001,
          1.2807265870521685,
          12.304012176059238,
          0,
          0,
          87.06,
          0.006999999999999999,
          0,
          0,
          24.548,
          179.28199999999998,
          6.74033935111752,
          7.7043824447785365,
          5.867689851678376,
          0,
          1075.6249999999998,
          0,
          2022.332,
          69.03027420198853,
          199.44955342862548,
          0,
          0,
          0,
          0,
          0,
          183.26670030625658,
          0,
          373.81307292375254,
          0,
          0,
          92.99651804032781,
          0,
          0,
          7.8950000000000005,
          184.33663559857385,
          5246.258000000002,
          0.114,
          4.00504751031164,
          675.8938046223602,
          13.859682265904466,
          0,
          7.561769630931461,
          0,
          0,
          1141.005357906538,
          1.6697026044071352,
          14.558008984690282,
          0,
          0,
          0,
          0.85,
          56.60657161746989,
          0,
          0,
          117.07793237933774,
          0,
          0,
          22.141545223619847,
          8.458,
          0,
          10.814142515124558,
          82.99546122818147,
          0.03628846153846154,
          0.39629203539823016,
          0,
          19.531109109851073,
          112.6845029323087,
          0,
          0,
          0,
          0,
          0,
          0,
          0,
          28.87037406851532,
          3.0185504364694475,
          0,
          1.6300944716088326,
          139.69368821953242,
          5.794282449099451,
          0,
          0,
          23.804341034153055,
          0,
          0,
          0,
          0,
          0,
          0,
          26.507491346685075,
          0,
          0,
          0,
          7.513385442012335,
          0,
          0,
          0,
          0,
          541.1072615098669,
          0,
          0.134,
          0,
          0,
          0,
          0,
          0,
          1.40207145,
          0,
          0.027185289017341043,
          8.182211369224246,
          1.6546642570281125,
          0,
          7963.217000000001,
          505.8603147360937,
          0,
          0,
          0,
          0,
          30.178000000000004,
          332.5851851480585,
          92.99938489291308,
          0,
          0,
          23.327676205803233,
          0,
          467.802,
          0,
          0.1570463235294118,
          70.68032282423587,
          16.773677358816414,
          0,
          1977.6310129873377,
          0,
          0,
          3.4,
          23.043055505415165,
          3.539999999999999,
          0,
          0,
          59.16496379971629,
          0,
          0,
          0,
          0,
          0,
          0,
          0.4122105263157895,
          0.0401720430107527,
          17.115000000000002,
          0.031625,
          0,
          0,
          0,
          19.953000000000007,
          0,
          48.286172317107805,
          0,
          0,
          0,
          23.737035836203823,
          25.669407625330784,
          31.421204984641637,
          91.18998804121271,
          0,
          0,
          0,
          0,
          0,
          0,
          47.52971772923571,
          3.0826438421302904,
          331.2430978040264,
          0.6579877112135178,
          0,
          16.270249849797956,
          3.8870296859903384,
          0,
          999.7083463391457,
          1.0883649932157393,
          11.971000000000002,
          0,
          0,
          84.11490809491669,
          0.007,
          0,
          0,
          38.878,
          178.1992970469661,
          4.0022975266327006,
          8.413265265370468,
          5.83006181965983,
          0,
          941.6561249444488,
          0,
          1832.212,
          97.59506045454542,
          208.71719883040947,
          0,
          0,
          0,
          0,
          0,
          204.43038873192393,
          0,
          330.21208150529503,
          0,
          0,
          96.91725773708335,
          0,
          0,
          5.771274574773582,
          176.31901989057798,
          5245.888380391771,
          0,
          0,
          0.5661155193428723,
          317.0797983818499,
          0,
          0,
          0,
          18.1666422621964,
          0,
          0,
          0,
          236.23100000000005,
          2.6612682206093474,
          34.51114275762285,
          0.34263598543941765,
          8.68992253589625,
          0,
          1.684,
          0,
          241.38071236142062,
          0,
          0,
          545.3625803113257,
          0,
          0,
          65.08925659602917,
          0,
          0,
          0.09249737072743207,
          0,
          0,
          0,
          49.10000000000001,
          0,
          367.36298719578673,
          0,
          0,
          0,
          0,
          0,
          0,
          0,
          377.67559209081537,
          0.24282303370786515,
          0,
          45.47038802922001,
          719.0363039779514,
          0,
          19.262,
          0,
          87.17081958273396,
          0,
          0,
          0,
          0,
          0,
          0,
          0,
          0,
          0,
          0,
          0,
          0,
          0,
          0.3430324793457397,
          0,
          0,
          0,
          0,
          0,
          0,
          0,
          80.61514511285179,
          0,
          0,
          117.92619268071402,
          1.7869999999999997,
          84.64097803224271,
          0,
          0,
          0,
          0,
          0,
          414.7078912305934,
          1047.1395417644676,
          0,
          0,
          0.3634886908841672,
          0,
          0.2510905674558436,
          1452.8415325170965,
          0,
          14.549218499477172,
          48.90882646735639,
          2.1632694193453683,
          0,
          14323.848394965806,
          0,
          0,
          303.63181614930227,
          0,
          0,
          0,
          7.078000000000002,
          0,
          54.84385964912292,
          0,
          0,
          0,
          0,
          0,
          0,
          129.70588235294127,
          0,
          0,
          0,
          0,
          0,
          0,
          1437.784134283089,
          48.43746101785468,
          0,
          0,
          0,
          373.93101272629497,
          2.505046267263465,
          16.093246911827347,
          0,
          0,
          0,
          0,
          0,
          5.663772551269262,
          2.2000000000000006,
          6535.761366805616,
          0,
          0,
          17.907006915606708,
          0,
          0,
          5.278999999999999,
          6.4999999999999964,
          0,
          0,
          0,
          5.403071521232659,
          0,
          0,
          0,
          0,
          0,
          0,
          42.39631374595973,
          65.74513670149737,
          0,
          5502.200997556602,
          0,
          0,
          0,
          0,
          0,
          0,
          0,
          0,
          0,
          920.4616789462491,
          5.3870000000000005,
          0,
          0,
          311.5882963462885,
          0.3637814827953175,
          0,
          0,
          1016.4788106143136,
          0,
          0,
          0,
          -0.030800117233294247,
          224.870806611278,
          0,
          0,
          0,
          22.511876546982425,
          0,
          0,
          0,
          204.316,
          5.45000182414192,
          40.70452697354114,
          1.0768721461187214,
          9.493785150504534,
          0,
          1.6820000000000002,
          0,
          267.23608338425106,
          0,
          0,
          536.9698810759534,
          0,
          0,
          72.71124124615643,
          0,
          0,
          0.3899830434444099,
          0,
          0,
          0,
          0,
          0,
          329.3958708604684,
          0,
          0,
          0,
          0,
          0,
          0,
          0,
          406.10286350974945,
          1.7908314606741533,
          0,
          57.541356130873524,
          723.0944297610502,
          0,
          20.4,
          0,
          87.34100000000001,
          0,
          0,
          0,
          0,
          0,
          0,
          0,
          0,
          0,
          0,
          0,
          0,
          0,
          0.4019825037047018,
          0,
          0,
          0,
          0,
          0,
          0,
          0,
          107.1892163196631,
          0,
          0,
          111.80873829584584,
          1.4960000000000002,
          116.71099999999997,
          0,
          0,
          0,
          0,
          0,
          442.67091261555436,
          1047.1043572251212,
          0.8621495327102895,
          0,
          0.14012470771628993,
          0,
          0.2905281160922519,
          1455.677,
          0,
          14.702989571449903,
          43.663371098756706,
          2.228284039819096,
          0,
          14299.79407073222,
          0,
          0,
          301.8387906751469,
          0,
          0,
          0,
          6.728082965447506,
          6.299832493622449,
          51.04972375690602,
          0,
          0.025999999999999957,
          0,
          0,
          0,
          155.73556352051003,
          4.920271125200642,
          0,
          0,
          0,
          0,
          0,
          1775.6864939542356,
          42.62369701973062,
          0,
          0,
          0,
          329.16243728801584,
          2.410327886430518,
          20.24428215117973,
          0,
          0,
          0,
          0,
          0,
          3.8072013151161603,
          2.997453310696095,
          7393.19775527831,
          0,
          0,
          26.996612342149152,
          0,
          0,
          7.894042840474314,
          2.6691908264820428,
          0,
          0,
          0,
          4.385,
          0,
          0,
          0,
          0,
          0,
          0,
          59.2282749906857,
          69.4917238531583,
          0,
          7959.2660000000005,
          0,
          0,
          0,
          0,
          0,
          0,
          0,
          0,
          0,
          875.531258089258,
          6.3949302449878935,
          0,
          0,
          360.2883928571429,
          0.34058776806989677,
          0,
          0,
          1054.150819131313,
          0,
          0,
          0,
          0,
          270.8524803411805,
          0,
          0,
          0,
          19.309059334298116,
          0,
          0,
          0,
          253.42311347701607,
          1.0575107825851078,
          36.77106524706525,
          12.188800248091603,
          0,
          1.682,
          0,
          211.76202317046446,
          0,
          0,
          543.5598497837573,
          0,
          0,
          72.49336455673462,
          0,
          0,
          0.5312386809269161,
          0,
          0,
          0,
          52.7,
          0,
          296.669020715631,
          0,
          0,
          0,
          0,
          0,
          0,
          0,
          0,
          410.53296113825036,
          0,
          0,
          62.13834437086093,
          704.1736242030328,
          0,
          17.863155645885524,
          0,
          87.68100000000001,
          0,
          0,
          0,
          0,
          0,
          0,
          0,
          0,
          0,
          0,
          0,
          0,
          0,
          0,
          0.41954198135799287,
          0,
          0,
          0,
          0,
          0,
          0,
          0,
          0,
          83.27553360313564,
          0,
          0,
          104.05980752044566,
          1.5079999999999998,
          84.8940159239289,
          0,
          0,
          0,
          0,
          0,
          0,
          386.7369591729796,
          1020.5830880447553,
          17.881379763469134,
          0,
          0.2576835626357712,
          0,
          0.16883580588383204,
          1535.9300000000003,
          0,
          14.192164476227287,
          39.902180650737165,
          2.07112011148424,
          0,
          13879.784423223979,
          0,
          0,
          301.2429225757872,
          0,
          0,
          0,
          7.010947117524156,
          5.912532233009709,
          50.54930795847746,
          0,
          0,
          0,
          0,
          0,
          154.92101128410278,
          4.1232175675675675,
          0,
          0,
          0,
          0,
          0,
          1264.9754230236053,
          46.296922113460106,
          0,
          0,
          0,
          407.534383252239,
          2.4779012768434203,
          18.221586768316318,
          0,
          0,
          0,
          0,
          0,
          0,
          4.9372114930182605,
          7,
          6029.112861456525,
          0,
          0,
          23.45046913145075,
          0,
          0,
          5.835999999999999,
          7.320318025199279,
          0,
          0,
          0,
          4.457,
          0,
          0,
          0,
          0,
          0,
          0,
          68.4047141105409,
          62.988498734258336,
          0,
          6508.141003295576,
          0,
          0,
          0,
          0,
          0,
          0,
          0,
          0,
          0,
          861.7174530983507,
          0,
          5.4500580349061325,
          0,
          0,
          376.61129568106304,
          7.1140217391304335,
          0,
          0,
          985.2970000000001,
          0,
          0,
          0,
          0,
          0,
          0,
          0,
          0,
          0,
          0,
          0,
          0,
          0,
          0,
          4.63810930576071,
          0,
          0,
          0,
          0,
          0.24759974312569327,
          -18.97800776196639,
          0,
          0,
          0,
          0,
          0,
          0,
          0,
          0,
          -0.16223669646658156,
          0,
          0,
          0,
          0,
          0,
          0.09383028720626632,
          0,
          0,
          0,
          0,
          0,
          0.3398452169500127,
          2.971386647101981,
          0,
          0,
          0,
          0,
          0,
          0,
          0,
          0,
          0,
          0,
          11.276416477438136,
          14.999999999999986,
          0,
          0,
          0,
          0,
          0,
          0,
          -0.008875988772646065,
          0,
          0,
          0,
          0,
          0,
          0,
          0,
          309.105,
          0,
          0,
          0,
          0,
          0,
          0,
          0,
          0,
          0,
          0,
          0,
          -0.8609378927371035,
          0,
          -0.10433123412173043,
          0,
          0,
          0,
          0,
          22.977728618382713,
          0,
          0,
          607.851,
          0,
          0,
          0,
          0.9170839803067601,
          0,
          0,
          0,
          1.0908342219589258,
          0,
          0,
          0,
          0,
          0,
          0,
          0,
          0,
          0,
          0,
          0,
          0,
          0,
          0,
          23.751826275476514,
          3.9761918709728112,
          0,
          0,
          0,
          0,
          0,
          0,
          0,
          0,
          0,
          0,
          0,
          0,
          0,
          27.135235594277525,
          0.09492156862745099,
          0,
          0,
          0,
          0,
          0,
          0,
          0,
          2.07790973871734,
          0,
          154.4190000323807,
          0,
          0,
          0,
          0,
          0,
          0,
          0,
          0,
          0,
          0,
          0,
          0,
          0,
          0,
          9.450447421226748,
          0,
          0,
          0,
          7.180186440677964,
          0,
          0,
          0,
          0.10185158768651394,
          0,
          0,
          0,
          0,
          0,
          0,
          0,
          0,
          0,
          0,
          0,
          0,
          5.823066215947505,
          0,
          0,
          0,
          6.3751675118900595,
          0,
          0,
          0,
          0,
          0,
          0,
          0,
          0,
          0,
          0,
          -0.6201779942439671,
          0,
          0,
          0,
          0,
          0,
          0,
          0,
          0,
          0,
          0,
          0,
          0,
          3.0815695098797553,
          0,
          0,
          0,
          0,
          0,
          0,
          0,
          0,
          0,
          0,
          11.682411700816063,
          1.4629854931630457,
          0,
          0,
          0,
          0,
          0,
          0,
          -0.17235814988869652,
          0,
          0,
          0,
          0,
          0,
          0,
          0,
          265.69804229834847,
          0,
          0,
          0,
          0,
          0,
          0,
          0,
          0,
          0,
          0,
          0,
          -1.3698692582025678,
          0,
          0,
          0,
          0,
          0,
          0,
          23.07843539926022,
          0,
          0,
          0,
          0,
          0,
          -0.5368062898197099,
          0,
          0,
          0,
          1.0844390433599067,
          0,
          0,
          0,
          0,
          0,
          0,
          0,
          0,
          0,
          0,
          0,
          0,
          0,
          0,
          22.812062152807925,
          3.921542900384183,
          0,
          0,
          0,
          0,
          0,
          0,
          0,
          0,
          0,
          0,
          0,
          0,
          0,
          62.17799699299557,
          0,
          0,
          0,
          0,
          0,
          0,
          710.7939999999999,
          0,
          0,
          5.406557801969933,
          0,
          143.25400006282987,
          0,
          0,
          0,
          0,
          0,
          0,
          0,
          0,
          0,
          0,
          0,
          0,
          0,
          0,
          12.232631272147144,
          0,
          0,
          0,
          16.85440566371682,
          0,
          21.68931989999431,
          0,
          0.10883523554618704,
          0,
          0,
          0,
          0,
          0,
          0,
          0,
          0,
          0,
          2.5563259710088024,
          0,
          0,
          13.261012956419329,
          0,
          0,
          0,
          5.348162674931906,
          0.4695115622762309,
          8.521,
          0,
          0,
          0,
          0,
          0,
          0,
          0,
          0,
          -0.6543197324414715,
          0,
          0,
          0,
          0,
          0,
          0,
          0,
          0,
          0,
          0,
          0,
          0,
          3.0319735170631934,
          0,
          0,
          0,
          0,
          0,
          0,
          0,
          0,
          0,
          0,
          0,
          11.258955336548544,
          1.5189048389270792,
          0,
          0,
          0,
          0,
          772.0231367339452,
          0,
          0.20897824456114028,
          0,
          0,
          0,
          0,
          0,
          0,
          0,
          264.10499999999996,
          30.974825086056658,
          0,
          0,
          0,
          0,
          -6.1496991117344555,
          0,
          0,
          0,
          0,
          0,
          -1.9070820535322508,
          0,
          0,
          0,
          0,
          0.1917636130685458,
          0,
          23.218607956050274,
          0,
          0,
          574.0010002422189,
          0,
          0,
          0,
          -1.6226739526411658,
          0,
          0,
          0,
          1.1766829596197244,
          0,
          0,
          0,
          0,
          0,
          0,
          0,
          0,
          0,
          0,
          0,
          0,
          0,
          0,
          24.382994548485033,
          3.960895148178258,
          0,
          0,
          0,
          0,
          0,
          0,
          0,
          0,
          0,
          0,
          0,
          0,
          0,
          16.428553048404975,
          0.03569827586206896,
          0,
          0,
          0,
          0,
          762.7769992559056,
          0,
          0,
          -4.122630065359478,
          0,
          0,
          0,
          0,
          0,
          0,
          0,
          0,
          0,
          0,
          0,
          0,
          6.51577126516948,
          0,
          0,
          0,
          13.858939683845485,
          0,
          0,
          0,
          11.850689443283766,
          0,
          0,
          0,
          0
         ],
         "yaxis": "y"
        },
        {
         "hovertemplate": "<b>OLS trendline</b><br>computation = 0.0454891 * baseline + 469.351<br>R<sup>2</sup>=0.044811<br><br>baseline=%{x}<br>computation=%{y} <b>(trend)</b><extra></extra>",
         "legendgroup": "",
         "marker": {
          "color": "#636efa",
          "symbol": "circle"
         },
         "mode": "lines",
         "name": "",
         "showlegend": false,
         "type": "scattergl",
         "x": [
          0,
          0,
          0,
          0,
          0,
          0,
          0,
          0,
          0,
          0,
          0,
          0,
          0,
          0,
          0,
          0,
          0,
          0,
          0,
          0,
          0,
          0,
          0,
          0,
          0,
          0,
          0,
          0,
          0,
          0,
          0,
          0,
          0,
          0,
          0,
          0,
          0,
          0,
          0,
          0,
          0,
          0,
          0,
          0,
          0,
          0,
          0,
          0,
          0,
          0,
          0,
          0,
          0,
          0,
          0,
          0,
          0,
          0,
          0,
          0,
          0,
          0,
          0,
          0,
          0,
          0,
          0,
          0,
          0,
          0,
          0,
          0,
          0,
          0,
          0,
          0,
          0,
          0,
          0,
          0,
          0,
          0,
          0,
          0,
          0,
          0,
          0,
          0,
          0,
          0,
          0,
          0,
          0,
          0,
          0,
          0,
          0,
          0,
          0,
          0,
          0,
          0,
          0,
          0,
          0,
          0,
          0,
          0,
          0,
          0,
          0,
          0,
          0,
          0,
          0,
          0,
          0,
          0,
          0,
          0,
          0,
          0,
          0,
          0,
          0,
          0,
          0,
          0,
          0,
          0,
          0,
          0,
          0,
          0,
          0,
          0,
          0,
          0,
          0,
          0,
          0,
          0,
          0,
          0,
          0,
          0,
          0,
          0,
          0,
          0,
          0,
          0,
          0,
          0,
          0,
          0,
          0,
          0,
          0,
          0,
          0,
          0,
          0,
          0,
          0,
          0,
          0,
          0,
          0,
          0,
          0,
          0,
          0,
          0,
          0,
          0,
          0,
          0,
          0,
          0,
          0,
          0,
          0,
          0,
          0,
          0,
          0,
          0,
          0,
          0,
          0,
          0,
          0,
          0,
          0,
          0,
          0,
          0,
          0,
          0,
          0,
          0,
          0,
          0,
          0,
          0,
          0,
          0,
          0,
          0,
          0,
          0,
          0,
          0,
          0,
          0,
          0,
          0,
          0,
          0,
          0,
          0,
          0,
          0,
          0,
          0,
          0,
          0,
          0,
          0,
          0,
          0,
          0,
          0,
          0,
          0,
          0,
          0,
          0,
          0,
          0,
          0,
          0,
          0,
          0,
          0,
          0,
          0,
          0,
          0,
          0,
          0,
          0,
          0,
          0,
          0,
          0,
          0,
          0,
          0,
          0,
          0,
          0,
          0,
          0,
          0,
          0,
          0,
          0,
          0,
          0,
          0,
          0,
          0,
          0,
          0,
          0,
          0,
          0,
          0,
          0,
          0,
          0,
          0,
          0,
          0,
          0,
          0,
          0,
          0,
          0,
          0,
          0,
          0,
          0,
          0,
          0,
          0,
          0,
          0,
          0,
          0,
          0,
          0,
          0,
          0,
          0,
          0,
          0,
          0,
          0,
          0,
          0,
          0,
          0,
          0,
          0,
          0,
          0,
          0,
          0,
          0,
          0,
          0,
          0,
          0,
          0,
          0,
          0,
          0,
          0,
          0,
          0,
          0,
          0,
          0,
          0,
          0,
          0,
          0,
          0,
          0,
          0,
          0,
          0,
          0,
          0,
          0,
          0,
          0,
          0,
          0,
          0,
          0,
          0,
          0,
          0,
          0,
          0,
          0,
          0,
          0,
          0,
          0,
          0,
          0,
          0,
          0,
          0,
          0,
          0,
          0,
          0,
          0,
          0,
          0,
          0,
          0,
          0,
          0,
          0,
          0,
          0,
          0,
          0,
          0,
          0,
          0,
          0,
          0,
          0,
          0,
          0,
          0,
          0,
          0,
          0,
          0,
          0,
          0,
          0,
          0,
          0,
          0,
          0,
          0,
          0,
          0,
          0,
          0,
          0,
          0,
          0,
          0,
          0,
          0,
          0,
          0,
          0,
          0,
          0,
          0,
          0,
          0,
          0,
          0,
          0,
          0,
          0,
          0,
          0,
          0,
          0,
          0,
          0,
          0,
          0,
          0,
          0,
          0,
          0,
          0,
          0,
          0,
          0,
          0,
          0,
          0,
          0,
          0,
          0,
          0,
          0,
          0,
          0,
          0,
          0,
          0,
          0,
          0,
          0,
          0,
          0,
          0,
          0,
          0,
          0,
          0,
          0,
          0,
          0,
          0,
          0,
          0,
          0,
          0,
          0,
          0,
          0,
          0,
          0,
          0,
          0,
          0,
          0,
          0,
          0,
          0,
          0,
          0,
          0,
          0,
          0,
          0,
          0,
          0,
          0,
          0,
          0,
          0,
          0,
          0,
          0,
          0,
          0,
          0,
          0,
          0,
          0,
          0,
          0,
          0,
          0,
          0,
          0,
          0,
          0,
          0,
          0,
          0,
          0,
          0,
          0,
          0,
          0,
          0,
          0,
          0,
          0,
          0,
          0,
          0,
          0,
          0,
          0,
          0,
          0,
          0,
          0,
          0,
          0,
          0,
          0,
          0,
          0,
          0,
          0,
          0,
          0,
          0,
          0,
          0,
          0,
          0,
          0,
          0,
          0,
          0,
          0,
          0,
          0,
          0,
          0,
          0,
          0,
          0,
          0,
          0,
          0,
          0,
          0,
          0,
          0,
          0,
          0,
          0,
          0,
          0,
          0,
          0,
          0,
          0,
          0,
          0,
          0,
          0,
          0,
          0,
          0,
          0,
          0,
          0,
          0,
          0,
          0,
          0,
          0,
          0,
          0,
          0,
          0,
          0,
          0,
          0,
          0,
          0,
          0,
          0,
          0,
          0,
          0,
          0,
          0,
          0,
          0,
          0,
          0,
          0,
          0,
          0,
          0,
          0,
          0,
          0,
          0,
          0,
          0,
          0,
          0,
          0,
          0,
          0,
          0,
          0,
          0,
          0,
          0,
          0,
          0,
          0,
          0,
          0,
          0,
          0,
          0,
          0,
          0,
          0,
          0,
          0,
          0,
          0,
          0,
          0,
          0,
          0,
          0,
          0,
          0,
          0,
          0,
          0,
          0,
          0,
          0,
          0,
          0,
          0,
          0,
          0,
          0,
          0,
          0,
          0,
          0,
          0,
          0,
          0,
          0,
          0,
          0,
          0,
          0,
          0,
          0,
          0,
          0,
          0,
          0,
          0,
          0,
          0,
          0,
          0,
          0,
          0,
          0,
          0,
          0,
          0,
          0,
          0,
          0,
          0,
          0,
          0,
          0,
          0,
          0,
          0,
          0,
          0,
          0,
          0,
          0,
          0,
          0,
          0,
          0,
          0,
          0,
          0,
          0,
          0,
          0,
          0,
          0,
          0,
          0,
          0,
          0,
          0,
          0,
          0,
          0,
          0,
          0,
          0,
          0,
          0,
          0,
          0,
          0,
          0,
          0,
          0,
          0,
          0,
          0,
          0,
          0,
          0,
          0,
          0,
          0,
          0,
          0,
          0,
          0,
          0,
          0,
          0,
          0,
          0,
          0,
          0,
          0,
          0,
          0,
          0,
          0,
          0,
          0,
          0,
          0,
          0,
          0,
          0,
          0,
          0,
          0,
          0,
          0,
          0,
          0,
          0,
          0,
          0,
          0,
          0,
          0,
          0,
          0,
          0,
          0,
          0,
          0,
          0,
          0,
          0,
          0,
          0,
          0,
          0,
          0,
          0,
          0,
          0,
          0,
          0,
          0,
          0,
          0,
          0,
          0,
          0,
          0,
          0,
          0,
          0,
          0,
          0,
          0,
          0,
          0,
          0,
          0,
          0,
          0,
          0,
          0,
          0,
          0,
          0,
          0,
          0,
          0,
          0,
          0,
          0,
          0,
          0,
          0,
          0,
          0,
          0,
          0,
          0,
          0,
          0,
          0,
          0,
          0,
          0,
          0,
          0,
          0,
          0,
          0,
          0,
          0,
          0,
          0,
          0,
          0,
          0,
          0,
          0,
          0,
          0,
          0,
          0,
          0,
          0,
          0,
          0,
          0,
          0,
          0,
          0,
          0,
          0,
          0,
          0,
          0,
          0,
          0,
          0,
          0,
          0,
          0,
          0,
          0,
          0,
          0,
          0,
          0,
          0,
          0,
          0,
          0,
          0,
          0,
          0,
          0,
          0,
          0,
          0,
          0,
          0,
          0,
          0,
          0,
          0,
          0,
          0,
          0,
          0,
          0,
          0,
          0,
          0,
          0,
          0,
          0,
          0,
          0,
          0,
          0,
          0,
          0,
          0,
          0,
          0,
          0,
          0,
          0,
          0,
          0,
          0,
          0,
          0,
          0,
          0,
          0,
          0,
          0,
          0,
          0,
          0,
          0,
          0,
          0,
          0,
          0,
          0,
          0,
          0,
          0,
          0,
          0,
          0,
          0,
          0,
          0,
          0,
          0,
          0,
          0,
          0,
          0,
          0,
          0,
          0,
          0,
          0,
          0,
          0,
          0,
          0,
          0,
          0,
          0,
          0,
          0,
          0,
          0,
          0,
          0,
          0,
          0,
          0,
          0,
          0,
          0,
          0,
          0,
          0,
          0,
          0,
          0,
          0,
          0,
          0,
          0,
          0,
          0,
          0,
          0,
          0,
          0,
          0,
          0,
          0,
          0,
          0,
          0,
          0,
          0,
          0,
          0,
          0,
          0,
          0,
          0,
          0,
          0,
          0,
          0,
          0,
          0,
          0,
          0,
          0,
          0,
          0,
          0,
          0,
          0,
          0,
          0,
          0,
          0,
          0,
          0,
          0,
          0,
          0,
          0,
          0,
          0,
          0,
          0,
          0,
          0,
          0,
          0,
          0,
          0,
          0,
          0,
          0,
          0,
          0,
          0,
          0,
          0,
          0,
          0,
          0,
          0,
          0,
          0,
          0,
          0,
          0,
          0,
          0,
          0,
          0,
          0,
          0,
          0,
          0,
          0,
          0,
          0,
          0,
          0,
          0,
          0,
          0,
          0,
          0,
          0,
          0,
          0,
          0,
          0,
          0,
          0,
          0,
          0,
          0,
          0,
          0,
          0,
          0,
          0,
          0,
          0,
          0,
          0,
          0,
          0,
          0,
          0,
          0,
          0,
          0,
          0,
          0,
          0,
          0,
          0,
          0,
          0,
          0,
          0,
          0,
          0,
          0,
          0,
          0,
          0,
          0,
          0,
          0,
          0,
          0,
          0,
          0,
          0,
          0,
          0,
          0,
          0,
          0,
          0,
          0,
          0,
          0,
          0,
          0,
          0,
          0,
          0,
          0,
          0,
          0,
          0,
          0,
          0,
          0,
          0,
          0,
          0,
          0,
          0,
          0,
          0,
          0,
          0,
          0,
          0,
          0,
          0,
          0,
          0,
          0,
          0,
          0,
          0,
          0,
          0,
          0,
          0,
          0,
          0,
          0,
          0,
          0,
          0,
          0,
          0,
          0,
          0,
          0,
          0,
          0,
          0,
          0,
          0,
          0,
          0,
          0,
          0,
          0,
          0,
          0,
          0,
          0,
          0,
          0,
          0,
          0,
          0,
          0,
          0,
          0,
          0,
          0,
          0,
          0,
          0,
          0,
          0,
          0,
          0,
          0,
          0,
          0,
          0,
          0,
          0,
          0,
          0,
          0,
          0,
          0,
          0,
          0,
          0,
          0,
          0,
          0,
          0,
          0,
          0,
          0,
          0,
          0,
          0,
          0,
          0,
          0,
          0,
          0,
          0,
          0,
          0,
          0,
          0,
          0,
          0,
          0,
          0,
          0,
          0,
          0,
          0,
          0,
          0,
          0,
          0,
          0,
          0,
          0,
          0,
          0,
          0,
          0,
          0,
          0,
          0,
          0,
          0,
          0,
          0,
          0,
          0,
          0,
          0,
          0,
          0,
          0,
          0,
          0,
          0,
          0,
          0,
          0,
          0,
          0,
          0,
          0,
          0,
          0,
          0,
          0,
          0,
          0,
          0,
          0,
          0,
          0,
          0,
          0,
          0,
          0,
          0,
          0,
          0,
          0,
          0,
          0,
          0,
          0,
          0,
          0,
          0,
          0,
          0,
          0,
          0,
          0,
          0,
          0,
          0,
          0,
          0,
          0,
          0,
          0,
          0,
          0,
          0,
          0,
          0,
          0,
          0,
          0,
          0,
          0,
          0,
          0,
          0,
          0,
          0,
          0,
          0,
          0,
          0,
          0,
          0,
          0,
          0,
          0,
          0,
          0,
          0,
          0,
          0,
          0,
          0,
          0,
          0,
          0,
          0,
          0,
          0,
          0,
          0,
          0,
          0,
          0,
          0,
          0,
          0,
          0,
          0,
          0,
          0,
          0,
          0,
          0,
          0,
          0,
          0,
          0,
          0,
          0,
          0,
          0,
          0,
          0,
          0,
          0,
          0,
          0,
          0,
          0,
          0,
          0,
          0,
          0,
          0,
          0,
          0,
          0,
          0,
          0,
          0,
          0,
          0,
          0,
          0,
          0,
          0,
          0,
          0,
          0,
          0,
          0,
          0,
          0,
          0,
          0,
          0,
          0,
          0,
          0,
          0,
          0,
          0,
          0,
          0,
          0,
          0,
          0,
          0,
          0,
          0,
          0,
          0,
          0,
          0,
          0,
          0,
          0,
          0,
          0,
          0,
          0,
          0,
          0,
          0,
          0,
          0,
          0,
          0,
          0,
          0,
          0,
          0,
          0,
          0,
          0,
          0,
          0,
          0,
          0,
          0,
          0,
          0,
          0,
          0,
          0,
          0,
          0,
          0,
          0,
          0,
          0,
          0,
          0,
          0,
          0,
          0,
          0,
          0,
          0,
          0,
          0,
          0,
          0,
          0,
          0,
          0,
          0,
          0,
          0,
          0,
          0,
          0,
          0,
          0,
          0,
          0,
          0,
          0,
          0,
          0,
          0,
          0,
          0,
          0,
          0,
          0,
          0,
          0,
          0,
          0,
          0,
          0,
          0,
          0,
          0,
          0,
          0,
          0,
          0,
          0,
          0,
          0,
          0,
          0,
          0,
          0,
          0,
          0,
          0,
          0,
          0,
          0,
          0,
          0,
          0,
          0,
          0,
          0,
          0,
          0,
          0,
          0,
          0,
          0,
          0,
          0,
          0,
          0,
          0,
          0,
          0,
          0,
          0,
          0,
          0,
          0,
          0,
          0,
          0,
          0,
          0,
          0,
          0,
          0,
          0,
          0,
          0,
          0,
          0,
          0,
          0,
          0,
          0,
          0,
          0,
          0,
          0,
          0,
          0,
          0,
          0,
          0,
          0,
          0,
          0,
          0,
          0,
          0,
          0,
          0,
          0,
          0,
          0,
          0,
          0,
          0,
          0,
          0,
          0,
          0,
          0,
          0,
          0,
          0,
          0,
          0,
          0,
          0,
          0,
          0,
          0,
          0,
          0,
          0,
          0,
          0,
          0,
          0,
          0,
          0,
          0,
          0,
          0,
          0,
          0,
          0,
          0,
          0,
          0,
          0,
          0,
          0,
          0,
          0,
          0,
          0,
          0,
          0,
          0,
          0,
          0,
          0,
          0,
          0,
          0,
          0,
          0,
          0,
          0,
          0,
          0,
          0,
          0,
          0,
          0,
          0,
          0,
          0,
          0,
          0,
          0,
          0,
          0,
          0,
          0,
          0,
          0,
          0,
          0,
          0,
          0,
          0,
          0,
          0,
          0,
          0,
          0,
          0,
          0,
          0,
          0,
          0,
          0,
          0,
          0,
          0,
          0,
          0,
          0,
          0,
          0,
          0,
          0,
          0,
          0,
          0,
          0,
          0,
          0,
          0,
          0,
          0,
          0,
          0,
          0,
          0,
          0,
          0,
          0,
          0,
          0,
          0,
          0,
          0,
          0,
          0,
          0,
          0,
          0,
          0,
          0,
          0,
          0,
          0,
          0,
          0,
          0,
          0,
          0,
          0,
          0,
          0,
          0,
          0,
          0,
          0,
          0,
          0,
          0,
          0,
          0,
          0,
          0,
          0,
          0,
          0,
          0,
          0,
          0,
          0,
          0,
          0,
          0,
          0,
          0,
          0,
          0,
          0,
          0,
          0,
          0,
          0,
          0,
          0,
          0,
          0,
          0,
          0,
          0,
          0,
          0,
          0,
          0,
          0,
          0,
          0,
          0,
          0,
          0,
          0,
          0,
          0,
          0,
          0,
          0,
          0,
          0,
          0,
          0,
          0,
          0,
          0,
          0,
          0,
          0,
          0,
          0,
          0,
          0,
          0,
          0,
          0,
          0,
          0,
          0,
          0,
          0,
          0,
          0,
          0,
          0,
          0,
          0,
          0,
          0,
          0,
          0,
          0,
          0,
          0,
          0,
          0,
          0,
          0,
          0,
          0,
          0,
          0,
          0,
          0,
          0,
          0,
          0,
          0,
          0,
          0,
          0,
          0,
          0,
          0,
          0,
          0,
          0,
          0,
          0,
          0,
          0,
          0,
          0,
          0,
          0,
          0,
          0,
          0,
          0,
          0,
          0,
          0,
          0,
          0,
          0,
          0,
          0,
          0,
          0,
          0,
          0,
          0,
          0,
          0,
          0,
          0,
          0,
          0,
          0,
          0,
          0,
          0,
          0,
          0,
          0,
          0,
          0,
          0,
          0,
          0,
          0,
          0,
          0,
          0,
          0,
          0,
          0,
          0,
          0,
          0,
          0,
          0,
          0,
          0,
          0,
          0,
          0,
          0,
          0,
          0,
          0,
          0,
          0,
          0,
          0,
          0,
          0,
          0,
          0,
          0,
          0,
          0,
          0,
          0,
          0,
          0,
          0,
          0,
          0,
          0,
          0,
          0,
          0,
          0,
          0,
          0,
          0,
          0,
          0,
          0,
          0,
          0,
          0,
          0,
          0,
          0,
          0,
          0,
          0,
          0,
          0,
          0,
          0,
          0,
          0,
          0,
          0,
          0,
          0,
          0,
          0,
          0,
          0,
          0,
          0,
          0,
          0,
          0,
          0,
          0,
          0,
          0,
          0,
          0,
          0,
          0,
          0,
          0,
          0,
          0,
          0,
          0,
          0,
          0,
          0,
          0,
          0,
          0,
          0,
          0,
          0,
          0,
          0,
          0,
          0,
          0,
          0,
          0,
          0,
          0,
          0,
          0,
          0,
          0,
          0,
          0,
          0,
          0,
          0,
          0,
          0,
          0,
          0,
          0,
          0,
          0,
          0,
          0,
          0,
          0,
          0,
          0,
          0,
          0,
          0,
          0,
          0,
          0,
          0,
          0,
          0,
          0,
          0,
          0,
          0,
          0,
          0,
          0,
          0,
          0,
          0,
          0,
          0,
          0,
          0,
          0,
          0,
          0,
          0,
          0,
          0,
          0,
          0,
          0,
          0,
          0,
          0,
          0,
          0,
          0,
          0,
          0,
          0,
          0,
          0,
          0,
          0,
          0,
          0,
          0,
          0,
          0,
          0,
          0,
          0,
          0,
          0,
          0,
          0,
          0,
          0,
          0,
          0,
          0,
          0,
          0,
          0,
          0,
          0,
          0,
          0,
          0,
          0,
          0,
          0,
          0,
          0,
          0,
          0,
          0,
          0,
          0,
          0,
          0,
          0,
          0,
          0,
          0,
          0,
          0,
          0,
          0,
          0,
          0,
          0,
          0,
          0,
          0,
          0,
          0,
          0,
          0,
          0,
          0,
          0,
          0,
          0,
          0,
          0,
          0,
          0,
          0,
          0,
          0,
          0,
          0,
          0,
          0,
          0,
          0,
          0,
          0,
          0,
          0.001,
          0.001,
          0.001,
          0.001,
          0.001,
          0.001,
          0.001,
          0.001,
          0.001,
          0.001,
          0.001,
          0.002,
          0.002,
          0.002,
          0.003,
          0.004,
          0.004,
          0.004,
          0.005,
          0.005,
          0.005,
          0.006,
          0.006,
          0.007,
          0.007,
          0.007,
          0.007,
          0.008,
          0.008,
          0.009000000000000001,
          0.009000000000000001,
          0.009000000000000001,
          0.01,
          0.011,
          0.011,
          0.012,
          0.012,
          0.012,
          0.012,
          0.012,
          0.012,
          0.013000000000000001,
          0.014,
          0.014,
          0.014,
          0.015,
          0.015,
          0.016,
          0.016,
          0.017,
          0.017,
          0.017,
          0.017,
          0.018000000000000002,
          0.018000000000000002,
          0.018000000000000002,
          0.019,
          0.019,
          0.019,
          0.019,
          0.019,
          0.02,
          0.02,
          0.02,
          0.024,
          0.025,
          0.025,
          0.025,
          0.026000000000000002,
          0.027,
          0.027,
          0.03,
          0.03,
          0.031,
          0.034,
          0.034,
          0.035,
          0.036000000000000004,
          0.037,
          0.04,
          0.04,
          0.042,
          0.042,
          0.042,
          0.043000000000000003,
          0.045,
          0.045,
          0.047,
          0.049,
          0.05,
          0.052000000000000005,
          0.052000000000000005,
          0.052000000000000005,
          0.054,
          0.055,
          0.056,
          0.058,
          0.062,
          0.063,
          0.065,
          0.065,
          0.065,
          0.065,
          0.066,
          0.066,
          0.067,
          0.069,
          0.069,
          0.069,
          0.07,
          0.07100000000000001,
          0.07100000000000001,
          0.07200000000000001,
          0.07200000000000001,
          0.075,
          0.075,
          0.075,
          0.075,
          0.078,
          0.079,
          0.082,
          0.082,
          0.083,
          0.08700000000000001,
          0.088,
          0.096,
          0.096,
          0.099,
          0.1,
          0.101,
          0.101,
          0.10200000000000001,
          0.10300000000000001,
          0.10400000000000001,
          0.109,
          0.11,
          0.111,
          0.113,
          0.114,
          0.114,
          0.114,
          0.114,
          0.117,
          0.12,
          0.123,
          0.126,
          0.128,
          0.13,
          0.132,
          0.134,
          0.134,
          0.135,
          0.14100000000000001,
          0.14300000000000002,
          0.148,
          0.15,
          0.151,
          0.151,
          0.151,
          0.152,
          0.157,
          0.157,
          0.157,
          0.165,
          0.168,
          0.169,
          0.169,
          0.171,
          0.17200000000000001,
          0.17400000000000002,
          0.177,
          0.18,
          0.18,
          0.188,
          0.194,
          0.196,
          0.20800000000000002,
          0.21,
          0.211,
          0.22,
          0.222,
          0.224,
          0.225,
          0.226,
          0.227,
          0.228,
          0.229,
          0.229,
          0.231,
          0.23900000000000002,
          0.242,
          0.242,
          0.244,
          0.253,
          0.254,
          0.266,
          0.272,
          0.272,
          0.272,
          0.278,
          0.28,
          0.28300000000000003,
          0.28400000000000003,
          0.28400000000000003,
          0.28600000000000003,
          0.297,
          0.311,
          0.312,
          0.32,
          0.321,
          0.328,
          0.329,
          0.335,
          0.337,
          0.338,
          0.339,
          0.34,
          0.34,
          0.341,
          0.35000000000000003,
          0.353,
          0.358,
          0.364,
          0.371,
          0.375,
          0.376,
          0.377,
          0.378,
          0.38,
          0.38,
          0.389,
          0.39,
          0.39,
          0.39,
          0.395,
          0.395,
          0.396,
          0.396,
          0.396,
          0.4,
          0.402,
          0.403,
          0.404,
          0.40800000000000003,
          0.41600000000000004,
          0.418,
          0.42,
          0.432,
          0.434,
          0.439,
          0.449,
          0.458,
          0.459,
          0.459,
          0.464,
          0.466,
          0.466,
          0.467,
          0.467,
          0.47500000000000003,
          0.483,
          0.491,
          0.492,
          0.5,
          0.503,
          0.506,
          0.506,
          0.506,
          0.507,
          0.51,
          0.521,
          0.522,
          0.522,
          0.523,
          0.526,
          0.527,
          0.539,
          0.54,
          0.549,
          0.551,
          0.555,
          0.556,
          0.556,
          0.557,
          0.562,
          0.562,
          0.562,
          0.5700000000000001,
          0.608,
          0.611,
          0.617,
          0.617,
          0.621,
          0.625,
          0.628,
          0.647,
          0.659,
          0.666,
          0.667,
          0.678,
          0.683,
          0.684,
          0.6950000000000001,
          0.708,
          0.71,
          0.722,
          0.725,
          0.729,
          0.733,
          0.741,
          0.742,
          0.746,
          0.774,
          0.783,
          0.786,
          0.788,
          0.788,
          0.791,
          0.794,
          0.805,
          0.809,
          0.812,
          0.8200000000000001,
          0.8260000000000001,
          0.834,
          0.835,
          0.839,
          0.841,
          0.845,
          0.847,
          0.85,
          0.863,
          0.867,
          0.872,
          0.886,
          0.887,
          0.897,
          0.909,
          0.914,
          0.918,
          0.934,
          0.935,
          0.9430000000000001,
          0.98,
          0.994,
          0.995,
          1.025,
          1.032,
          1.034,
          1.036,
          1.055,
          1.057,
          1.072,
          1.078,
          1.12,
          1.123,
          1.125,
          1.125,
          1.133,
          1.139,
          1.1480000000000001,
          1.183,
          1.19,
          1.194,
          1.232,
          1.237,
          1.241,
          1.25,
          1.2550000000000001,
          1.2550000000000001,
          1.282,
          1.29,
          1.293,
          1.295,
          1.312,
          1.324,
          1.363,
          1.363,
          1.365,
          1.3820000000000001,
          1.393,
          1.401,
          1.431,
          1.468,
          1.472,
          1.496,
          1.5070000000000001,
          1.508,
          1.512,
          1.549,
          1.551,
          1.557,
          1.559,
          1.56,
          1.562,
          1.563,
          1.564,
          1.568,
          1.572,
          1.576,
          1.592,
          1.595,
          1.6,
          1.604,
          1.62,
          1.623,
          1.645,
          1.651,
          1.653,
          1.6540000000000001,
          1.655,
          1.668,
          1.682,
          1.682,
          1.684,
          1.691,
          1.706,
          1.713,
          1.752,
          1.7570000000000001,
          1.7570000000000001,
          1.772,
          1.78,
          1.78,
          1.7830000000000001,
          1.7870000000000001,
          1.81,
          1.81,
          1.811,
          1.812,
          1.829,
          1.832,
          1.868,
          1.8860000000000001,
          1.893,
          1.903,
          1.9100000000000001,
          1.921,
          1.926,
          1.932,
          1.941,
          1.943,
          1.964,
          2.0140000000000002,
          2.062,
          2.1430000000000002,
          2.15,
          2.156,
          2.161,
          2.193,
          2.2,
          2.239,
          2.24,
          2.3040000000000003,
          2.319,
          2.336,
          2.374,
          2.3890000000000002,
          2.3890000000000002,
          2.391,
          2.396,
          2.4,
          2.4090000000000003,
          2.439,
          2.453,
          2.467,
          2.478,
          2.478,
          2.499,
          2.5100000000000002,
          2.5180000000000002,
          2.528,
          2.535,
          2.536,
          2.547,
          2.555,
          2.563,
          2.563,
          2.563,
          2.568,
          2.595,
          2.601,
          2.63,
          2.666,
          2.7,
          2.703,
          2.707,
          2.742,
          2.763,
          2.763,
          2.8000000000000003,
          2.813,
          2.846,
          2.85,
          2.874,
          2.8810000000000002,
          2.8850000000000002,
          2.887,
          2.9050000000000002,
          2.914,
          2.9170000000000003,
          2.92,
          2.94,
          2.95,
          2.979,
          2.981,
          2.989,
          3,
          3.005,
          3.013,
          3.024,
          3.0460000000000003,
          3.051,
          3.063,
          3.074,
          3.1270000000000002,
          3.156,
          3.16,
          3.18,
          3.194,
          3.1990000000000003,
          3.2,
          3.218,
          3.226,
          3.23,
          3.244,
          3.311,
          3.311,
          3.356,
          3.375,
          3.387,
          3.396,
          3.4,
          3.404,
          3.423,
          3.428,
          3.435,
          3.442,
          3.481,
          3.492,
          3.5,
          3.505,
          3.5220000000000002,
          3.54,
          3.619,
          3.6510000000000002,
          3.6550000000000002,
          3.6550000000000002,
          3.6830000000000003,
          3.718,
          3.7600000000000002,
          3.8000000000000003,
          3.8000000000000003,
          3.803,
          3.827,
          3.86,
          3.864,
          3.865,
          3.89,
          3.9090000000000003,
          3.915,
          3.922,
          3.935,
          3.942,
          3.977,
          3.993,
          3.998,
          4,
          4.005,
          4.006,
          4.0280000000000005,
          4.031,
          4.082,
          4.097,
          4.103,
          4.274,
          4.3,
          4.319,
          4.385,
          4.398,
          4.42,
          4.442,
          4.45,
          4.45,
          4.457,
          4.46,
          4.5,
          4.514,
          4.561,
          4.569,
          4.577,
          4.582,
          4.595,
          4.627,
          4.648,
          4.676,
          4.732,
          4.737,
          4.764,
          4.773,
          4.7780000000000005,
          4.832,
          4.854,
          4.865,
          4.896,
          4.921,
          4.954,
          4.969,
          4.997,
          5.022,
          5.033,
          5.038,
          5.039,
          5.057,
          5.061,
          5.073,
          5.19,
          5.207,
          5.246,
          5.256,
          5.279,
          5.34,
          5.3660000000000005,
          5.3870000000000005,
          5.4030000000000005,
          5.45,
          5.4990000000000006,
          5.5,
          5.5,
          5.501,
          5.547,
          5.567,
          5.57,
          5.604,
          5.6080000000000005,
          5.617,
          5.641,
          5.642,
          5.647,
          5.6850000000000005,
          5.688,
          5.7,
          5.706,
          5.72,
          5.734,
          5.763,
          5.766,
          5.7700000000000005,
          5.772,
          5.776,
          5.796,
          5.836,
          5.945,
          5.953,
          5.953,
          5.957,
          5.962,
          5.972,
          6,
          6,
          6.002,
          6.006,
          6.113,
          6.146,
          6.165,
          6.2,
          6.274,
          6.319,
          6.354,
          6.3950000000000005,
          6.469,
          6.477,
          6.5,
          6.5,
          6.5,
          6.559,
          6.65,
          6.706,
          6.728,
          6.784,
          6.824,
          6.827,
          6.994,
          7,
          7,
          7.011,
          7.077,
          7.078,
          7.106,
          7.1160000000000005,
          7.231,
          7.232,
          7.296,
          7.308,
          7.341,
          7.373,
          7.407,
          7.43,
          7.452,
          7.454,
          7.487,
          7.503,
          7.51,
          7.561,
          7.577,
          7.578,
          7.5840000000000005,
          7.589,
          7.604,
          7.785,
          7.792,
          7.8020000000000005,
          7.827,
          7.868,
          7.882000000000001,
          7.894,
          7.8950000000000005,
          7.899,
          7.907,
          7.929,
          7.982,
          8.013,
          8.052,
          8.077,
          8.1,
          8.1,
          8.118,
          8.125,
          8.126,
          8.179,
          8.194,
          8.256,
          8.267,
          8.27,
          8.297,
          8.338000000000001,
          8.411,
          8.458,
          8.496,
          8.521,
          8.547,
          8.615,
          8.646,
          8.683,
          8.696,
          8.773,
          8.884,
          8.892,
          8.935,
          8.998,
          9,
          9.021,
          9.081,
          9.127,
          9.177,
          9.18,
          9.188,
          9.200000000000001,
          9.253,
          9.268,
          9.283,
          9.323,
          9.375,
          9.429,
          9.477,
          9.481,
          9.55,
          9.635,
          9.648,
          9.701,
          10,
          10.019,
          10.032,
          10.1,
          10.112,
          10.120000000000001,
          10.200000000000001,
          10.21,
          10.257,
          10.355,
          10.478,
          10.512,
          10.526,
          10.53,
          10.544,
          10.551,
          10.627,
          10.66,
          10.692,
          10.71,
          10.715,
          10.767,
          10.795,
          10.842,
          10.950000000000001,
          11,
          11,
          11.044,
          11.046,
          11.047,
          11.076,
          11.111,
          11.235,
          11.302,
          11.383000000000001,
          11.529,
          11.539,
          11.715,
          11.77,
          11.803,
          11.817,
          11.828,
          11.845,
          11.878,
          11.971,
          12,
          12,
          12.201,
          12.236,
          12.24,
          12.289,
          12.303,
          12.336,
          12.423,
          12.47,
          12.495000000000001,
          12.547,
          12.55,
          12.559000000000001,
          12.591000000000001,
          12.607000000000001,
          12.638,
          12.68,
          12.764000000000001,
          12.875,
          12.973,
          13,
          13,
          13,
          13.048,
          13.055,
          13.108,
          13.141,
          13.151,
          13.222,
          13.32,
          13.427,
          13.476,
          13.481,
          13.526,
          13.558,
          13.582,
          13.606,
          13.643,
          13.668000000000001,
          13.676,
          13.681000000000001,
          13.805,
          13.907,
          13.992,
          14,
          14.013,
          14.057,
          14.063,
          14.224,
          14.242,
          14.361,
          14.394,
          14.394,
          14.419,
          14.461,
          14.463000000000001,
          14.5,
          14.516,
          14.55,
          14.658,
          14.716000000000001,
          14.915000000000001,
          14.931000000000001,
          14.988,
          15,
          15,
          15,
          15.005,
          15.02,
          15.483,
          15.496,
          15.532,
          15.6,
          15.682,
          15.755,
          15.902000000000001,
          15.969000000000001,
          16,
          16.091,
          16.112000000000002,
          16.132,
          16.135,
          16.156,
          16.195,
          16.293,
          16.3,
          16.4,
          16.403,
          16.449,
          16.514,
          16.536,
          16.578,
          16.578,
          16.65,
          16.677,
          16.708000000000002,
          16.749,
          16.804000000000002,
          16.844,
          16.857,
          16.9,
          16.949,
          16.964,
          17,
          17.086000000000002,
          17.115000000000002,
          17.142,
          17.189,
          17.258,
          17.296,
          17.325,
          17.358,
          17.447,
          17.489,
          17.544,
          17.555,
          17.661,
          17.675,
          17.733,
          17.756,
          17.793,
          17.864,
          17.964,
          18.101,
          18.202,
          18.261,
          18.333000000000002,
          18.333000000000002,
          18.358,
          18.379,
          18.423000000000002,
          18.428,
          18.6,
          18.7,
          18.713,
          18.721,
          19,
          19,
          19,
          19.262,
          19.5,
          19.619,
          19.736,
          19.813,
          19.931,
          19.953,
          19.959,
          20.094,
          20.12,
          20.16,
          20.333000000000002,
          20.364,
          20.400000000000002,
          20.464000000000002,
          20.5,
          20.726,
          20.8,
          20.943,
          21,
          21.309,
          21.5,
          21.6,
          21.601,
          21.693,
          21.932000000000002,
          21.997,
          22,
          22,
          22.125,
          22.132,
          22.251,
          22.3,
          22.5,
          22.738,
          22.891000000000002,
          23.083000000000002,
          23.09,
          23.243000000000002,
          23.292,
          23.3,
          23.333000000000002,
          23.354,
          23.354,
          23.386,
          23.451,
          23.528000000000002,
          23.580000000000002,
          23.674,
          23.845,
          23.885,
          23.901,
          24,
          24.007,
          24.101,
          24.243000000000002,
          24.467,
          24.475,
          24.490000000000002,
          24.531,
          24.548000000000002,
          24.566,
          24.62,
          24.637,
          24.645,
          24.965,
          25,
          25,
          25.069,
          25.14,
          25.389,
          25.53,
          25.534,
          25.799,
          25.824,
          25.856,
          25.885,
          25.891000000000002,
          26,
          26.011,
          26.04,
          26.2,
          26.238,
          26.445,
          26.91,
          27.048000000000002,
          27.565,
          27.6,
          27.769000000000002,
          27.888,
          27.963,
          28,
          28,
          28,
          28,
          28.082,
          28.162,
          28.284,
          28.507,
          28.636,
          28.939,
          29.009,
          29.373,
          29.45,
          29.614,
          30,
          30.089000000000002,
          30.178,
          30.541,
          31,
          31.152,
          31.38,
          31.531000000000002,
          31.587,
          31.668,
          31.779,
          31.989,
          32,
          32.022,
          32.083,
          32.115,
          32.128,
          32.132,
          32.183,
          32.246,
          32.532000000000004,
          32.587,
          32.629,
          32.865,
          32.948,
          33,
          33.061,
          33.481,
          33.528,
          33.551,
          33.641,
          33.69,
          34.106,
          34.111000000000004,
          34.157000000000004,
          34.333,
          34.365,
          34.369,
          34.418,
          34.625,
          34.685,
          34.699,
          35.057,
          35.291000000000004,
          35.7,
          35.998,
          36,
          36.178,
          36.314,
          36.424,
          36.517,
          36.546,
          36.643,
          36.923,
          37,
          37,
          37.058,
          37.347,
          37.6,
          37.663000000000004,
          37.761,
          37.783,
          37.800000000000004,
          38.116,
          38.244,
          38.76,
          38.878,
          39.2,
          39.295,
          39.319,
          39.451,
          39.452,
          39.459,
          39.6,
          39.677,
          39.84,
          39.994,
          40.128,
          40.2,
          40.225,
          40.464,
          40.604,
          40.883,
          40.914,
          41.127,
          41.245,
          41.696,
          41.761,
          41.807,
          41.907000000000004,
          41.907000000000004,
          42.346000000000004,
          42.5,
          42.533,
          42.550000000000004,
          42.834,
          42.857,
          43,
          43,
          43,
          43.155,
          43.243,
          43.295,
          43.300000000000004,
          43.716,
          43.886,
          43.954,
          44.223,
          44.503,
          44.800000000000004,
          45,
          45,
          45.004,
          45.300000000000004,
          45.634,
          45.683,
          46.09,
          46.103,
          46.253,
          46.526,
          46.551,
          46.957,
          47,
          47,
          47.109,
          47.19,
          47.249,
          47.342,
          47.441,
          47.5,
          47.56,
          47.626,
          47.644,
          47.935,
          48.453,
          48.621,
          49.1,
          49.115,
          49.127,
          49.163000000000004,
          49.278,
          49.476,
          49.67,
          49.785000000000004,
          49.802,
          49.909,
          50,
          50,
          50.2,
          50.335,
          50.597,
          51.424,
          51.469,
          52.568,
          52.7,
          52.796,
          52.800000000000004,
          52.844,
          52.939,
          53,
          53.201,
          53.370000000000005,
          53.567,
          54,
          54.112,
          54.416000000000004,
          54.43,
          54.730000000000004,
          54.800000000000004,
          54.812,
          55,
          55.417,
          56.379,
          56.604,
          56.879,
          56.909,
          58.4,
          58.659,
          59,
          59.166000000000004,
          59.924,
          59.929,
          60,
          60,
          60,
          60,
          60.054,
          60.422000000000004,
          60.546,
          60.648,
          60.994,
          61.2,
          61.229,
          61.625,
          62.120000000000005,
          62.15,
          62.300000000000004,
          62.327,
          63.222,
          63.872,
          64.146,
          64.5,
          64.578,
          64.583,
          64.8,
          65,
          65,
          65.004,
          65.482,
          65.946,
          66,
          66.1,
          66.173,
          66.197,
          66.6,
          67.434,
          67.485,
          67.736,
          68.31,
          68.433,
          68.465,
          69.049,
          69.277,
          69.534,
          69.757,
          70,
          70,
          70.10000000000001,
          70.4,
          70.888,
          71.9,
          72,
          72.141,
          72.252,
          73.023,
          73.038,
          73.231,
          73.306,
          73.45400000000001,
          73.493,
          73.59100000000001,
          73.774,
          74.19,
          74.568,
          74.804,
          75.08500000000001,
          75.45400000000001,
          76.116,
          76.117,
          76.258,
          76.305,
          76.984,
          76.985,
          77.15,
          77.342,
          77.612,
          77.712,
          78,
          78.252,
          78.409,
          78.769,
          78.777,
          78.944,
          79.106,
          79.334,
          79.499,
          80.297,
          80.426,
          80.547,
          80.69500000000001,
          80.9,
          81.178,
          81.35000000000001,
          81.503,
          81.506,
          81.931,
          82.2,
          82.2,
          82.35000000000001,
          82.569,
          82.974,
          83.013,
          84.07000000000001,
          84.116,
          84.191,
          84.641,
          84.894,
          85.287,
          85.83500000000001,
          85.861,
          86.16,
          86.165,
          86.236,
          86.433,
          87.06,
          87.17,
          87.34100000000001,
          87.681,
          89.302,
          89.81400000000001,
          90.10300000000001,
          90.851,
          91.60300000000001,
          91.669,
          92.544,
          92.636,
          92.777,
          92.85000000000001,
          93.622,
          93.656,
          93.678,
          93.828,
          94.391,
          94.809,
          95.304,
          95.514,
          95.974,
          96.042,
          96.561,
          97.001,
          98.248,
          99.627,
          99.63,
          99.74000000000001,
          99.914,
          100.364,
          100.82900000000001,
          101.122,
          101.181,
          101.274,
          102,
          102.01,
          102.467,
          103.266,
          103.635,
          104.144,
          104.3,
          104.625,
          105.375,
          107.3,
          108.895,
          109.715,
          110.092,
          111.23100000000001,
          111.286,
          112.47500000000001,
          112.706,
          114.282,
          114.785,
          115.172,
          116.711,
          117.113,
          118.2,
          118.783,
          118.837,
          120.014,
          120.626,
          120.896,
          122.241,
          122.254,
          122.34400000000001,
          122.432,
          123.113,
          123.39,
          123.59700000000001,
          124.33200000000001,
          125.316,
          125.36200000000001,
          125.73400000000001,
          126.09700000000001,
          127.785,
          128.306,
          128.857,
          129.01500000000001,
          129.044,
          129.15,
          129.504,
          129.624,
          130,
          130.053,
          130.153,
          130.775,
          130.881,
          132,
          132.14000000000001,
          132.361,
          132.561,
          133.02,
          133.561,
          133.608,
          133.636,
          134.449,
          134.834,
          135.28300000000002,
          135.598,
          135.872,
          135.952,
          136.352,
          137.849,
          138,
          138.989,
          139.07500000000002,
          139.744,
          139.763,
          140.4,
          140.742,
          141.418,
          141.693,
          143.02,
          143.221,
          143.25300000000001,
          144.406,
          144.456,
          145,
          145.24,
          145.981,
          147.254,
          147.97,
          149.816,
          152.011,
          152.756,
          153.70000000000002,
          154.418,
          154.791,
          155,
          156.149,
          156.935,
          158.54500000000002,
          159.89000000000001,
          160.8,
          162.184,
          162.377,
          162.454,
          162.95000000000002,
          163,
          164.21,
          166.358,
          166.485,
          169.489,
          170,
          173.095,
          174.791,
          176.326,
          176.379,
          177,
          178.20000000000002,
          178.4,
          179.282,
          181.779,
          181.947,
          182.12,
          182.185,
          182.3,
          182.73,
          183,
          184.064,
          184.572,
          184.573,
          184.725,
          186.117,
          187.168,
          188.071,
          188.1,
          188.8,
          192.874,
          193.356,
          193.48000000000002,
          194.52700000000002,
          194.649,
          196.54500000000002,
          197.1,
          197.103,
          197.359,
          197.82,
          199.04500000000002,
          204,
          204.316,
          205,
          207.004,
          207.374,
          208.70000000000002,
          210.786,
          211.142,
          212.873,
          213.871,
          217.448,
          219.19400000000002,
          219.598,
          220.537,
          221.853,
          222.431,
          225.555,
          227,
          227.3,
          228.21200000000002,
          228.556,
          229.99,
          230.983,
          235.168,
          235.788,
          235.809,
          236.231,
          238.244,
          238.602,
          238.68200000000002,
          239.15800000000002,
          239.387,
          239.89600000000002,
          243.203,
          243.881,
          245.5,
          246.209,
          246.97,
          247.687,
          248.903,
          250.449,
          250.788,
          251.012,
          251.082,
          251.336,
          251.489,
          253.423,
          255.1,
          255.96,
          255.994,
          256.689,
          258.445,
          258.547,
          258.68,
          258.69100000000003,
          259.535,
          260.915,
          263.184,
          263.485,
          264.105,
          264.366,
          265.699,
          267.589,
          269,
          271.7,
          272.611,
          273.95,
          275.299,
          275.699,
          277.311,
          278.121,
          278.362,
          278.635,
          281.536,
          285.932,
          286.564,
          287.333,
          290.2,
          293.154,
          293.704,
          297.63,
          298.1,
          300,
          300,
          300,
          300.902,
          301.818,
          302.731,
          303.151,
          308.782,
          309.105,
          310.117,
          311.837,
          312.634,
          314.277,
          316.52500000000003,
          317,
          317.649,
          320.395,
          320.67900000000003,
          323.14300000000003,
          323.265,
          323.5,
          323.758,
          325.79200000000003,
          327.76,
          328.414,
          330,
          330.21,
          330.374,
          330.545,
          331.55,
          332.154,
          333.034,
          337.589,
          338.955,
          339.40000000000003,
          341.107,
          345.559,
          345.883,
          350.445,
          353.883,
          354.33,
          355,
          360,
          361.351,
          365,
          366.68,
          369.50600000000003,
          370,
          370,
          372.90000000000003,
          373.812,
          374,
          374.793,
          375,
          379.687,
          380,
          381.128,
          385.40000000000003,
          385.859,
          386.72,
          386.908,
          390.996,
          393.225,
          393.589,
          393.992,
          400,
          400,
          400.29200000000003,
          402,
          402.853,
          406.208,
          409.504,
          410,
          415.202,
          416.06,
          417.156,
          418.342,
          420.312,
          421.27,
          427.994,
          429.435,
          440.046,
          440.639,
          442.995,
          449.108,
          453.493,
          453.498,
          455.36400000000003,
          455.595,
          457.808,
          458.90000000000003,
          459.012,
          461.606,
          462.637,
          465.598,
          467.208,
          467.802,
          469.829,
          473.66200000000003,
          473.91,
          476.491,
          480.425,
          480.49600000000004,
          483.26300000000003,
          497.108,
          497.25,
          502.305,
          506.37,
          517.779,
          522.677,
          529.592,
          530.552,
          535.292,
          535.604,
          535.9,
          537.34,
          539.94,
          541.298,
          541.354,
          541.604,
          541.926,
          545.099,
          546.618,
          546.929,
          548.088,
          553.325,
          557.84,
          560.463,
          561.618,
          563.347,
          569.154,
          574,
          575.812,
          576.5,
          577.6,
          581.4780000000001,
          582.944,
          596.4300000000001,
          596.666,
          602.6510000000001,
          603.268,
          604.331,
          607.851,
          608.671,
          615.708,
          618.298,
          619.771,
          625.357,
          625.769,
          628.44,
          630.556,
          633.841,
          641.628,
          648.897,
          652.327,
          654.938,
          672.866,
          674.525,
          704.659,
          710.794,
          712.019,
          715.609,
          716,
          719,
          719.564,
          733.927,
          741.203,
          762.7760000000001,
          780.461,
          790.191,
          791.664,
          810.969,
          816.297,
          818.3000000000001,
          821.1030000000001,
          826.2,
          846,
          846.0210000000001,
          847.868,
          872.83,
          877.856,
          897.8050000000001,
          900,
          906.614,
          910,
          910,
          915,
          923.3000000000001,
          924.988,
          929.5120000000001,
          932.139,
          941.655,
          943.705,
          967.139,
          985.297,
          996.8720000000001,
          999.07,
          999.711,
          1009.565,
          1013.067,
          1014.235,
          1015.336,
          1016.479,
          1032.913,
          1034.319,
          1036.3,
          1044.561,
          1044.839,
          1045.414,
          1054.151,
          1055.383,
          1058.487,
          1060.392,
          1060.541,
          1063.251,
          1073.121,
          1075.625,
          1078.157,
          1078.1680000000001,
          1078.211,
          1113.345,
          1121.247,
          1123.452,
          1137.008,
          1141.007,
          1147.333,
          1154.4560000000001,
          1155.483,
          1161.7450000000001,
          1169.945,
          1172.411,
          1193.657,
          1195.007,
          1198.517,
          1222.439,
          1225.57,
          1227.857,
          1234.691,
          1247.936,
          1264.8,
          1272.857,
          1277.407,
          1293.7740000000001,
          1296.94,
          1307.642,
          1381.935,
          1400.074,
          1403.597,
          1415.019,
          1416.376,
          1420.202,
          1432.78,
          1436.358,
          1449.4,
          1452.84,
          1455.6770000000001,
          1466.099,
          1481.3220000000001,
          1515.1670000000001,
          1535.93,
          1541.01,
          1544.781,
          1547.928,
          1549.597,
          1565.1970000000001,
          1579.317,
          1591.986,
          1594.233,
          1598.972,
          1615.316,
          1621.017,
          1625.46,
          1652.249,
          1654.546,
          1676.421,
          1695.949,
          1702.721,
          1737.412,
          1743.43,
          1779.6000000000001,
          1823.123,
          1832.212,
          1875.412,
          1897.904,
          1918.232,
          1935.5,
          1967.496,
          1977.386,
          2022.332,
          2088.0480000000002,
          2147.55,
          2166.417,
          2170.418,
          2201.4,
          2210.139,
          2223.627,
          2240.796,
          2272.939,
          2273.517,
          2305.738,
          2309.634,
          2312.993,
          2317,
          2346.75,
          2397.3,
          2528.693,
          2559.117,
          2613.055,
          2621.2670000000003,
          2634.396,
          2650.4790000000003,
          2665.613,
          2684.5080000000003,
          2737.4,
          2860.41,
          2915.03,
          3024.466,
          3045.443,
          3046.079,
          3100.9590000000003,
          3156.035,
          3173.8,
          3211.112,
          3344,
          3402.7870000000003,
          3556.638,
          3655.069,
          3670.6,
          3688.029,
          3711.235,
          3763,
          3824.6820000000002,
          3851.396,
          3881.626,
          3892.5,
          3912.1,
          3956.8,
          4017.8,
          4021.11,
          4025.417,
          4057.178,
          4110.242,
          4166.789,
          4225.414,
          4268.4,
          4342.812,
          4416.665,
          4547.6,
          4579.6,
          4742.935,
          4945.589,
          5011.054,
          5192.049,
          5245.89,
          5246.258,
          5317.377,
          5369.944,
          5418.711,
          5502.2,
          5505.572,
          5589.639,
          5603.184,
          5941.783,
          6027.506,
          6029.734,
          6198.323,
          6508.142,
          6534.338,
          6584.967000000001,
          6625.211,
          6739.186,
          6752.171,
          6834.421,
          6954.983,
          7391.881,
          7870.973,
          7959.2660000000005,
          7963.217000000001,
          8547.354,
          8729.915,
          8920.800000000001,
          9284,
          9550,
          9583.6,
          9900,
          10439.229,
          10622.189,
          10730.5,
          10772.1,
          10853.4,
          11193.034,
          11720,
          11749.192000000001,
          11839.729,
          12086.796,
          12464.766,
          12667.393,
          13234.959,
          13355,
          13607.352,
          13881,
          14297.361,
          14324.294,
          14534.897,
          16713.534,
          16980.379,
          17492.882,
          17644.733,
          18501.645,
          20263.5,
          21036.314000000002,
          24463.8,
          24481.600000000002,
          25539.489,
          25541.269,
          25627.06,
          26191.4,
          27065.5,
          29316.331000000002,
          32598.198,
          32672.34,
          33086.81,
          33312.149,
          33680.401,
          33839.864,
          34059.9,
          34573.877,
          35798.234000000004,
          38677.896,
          39579.925,
          46300.141,
          64188.314,
          82288.298,
          96394.82,
          97910.658,
          114732.10100000001,
          117887.672,
          746828.157,
          758646.205,
          768594.154
         ],
         "xaxis": "x",
         "y": [
          469.3511161337906,
          469.3511161337906,
          469.3511161337906,
          469.3511161337906,
          469.3511161337906,
          469.3511161337906,
          469.3511161337906,
          469.3511161337906,
          469.3511161337906,
          469.3511161337906,
          469.3511161337906,
          469.3511161337906,
          469.3511161337906,
          469.3511161337906,
          469.3511161337906,
          469.3511161337906,
          469.3511161337906,
          469.3511161337906,
          469.3511161337906,
          469.3511161337906,
          469.3511161337906,
          469.3511161337906,
          469.3511161337906,
          469.3511161337906,
          469.3511161337906,
          469.3511161337906,
          469.3511161337906,
          469.3511161337906,
          469.3511161337906,
          469.3511161337906,
          469.3511161337906,
          469.3511161337906,
          469.3511161337906,
          469.3511161337906,
          469.3511161337906,
          469.3511161337906,
          469.3511161337906,
          469.3511161337906,
          469.3511161337906,
          469.3511161337906,
          469.3511161337906,
          469.3511161337906,
          469.3511161337906,
          469.3511161337906,
          469.3511161337906,
          469.3511161337906,
          469.3511161337906,
          469.3511161337906,
          469.3511161337906,
          469.3511161337906,
          469.3511161337906,
          469.3511161337906,
          469.3511161337906,
          469.3511161337906,
          469.3511161337906,
          469.3511161337906,
          469.3511161337906,
          469.3511161337906,
          469.3511161337906,
          469.3511161337906,
          469.3511161337906,
          469.3511161337906,
          469.3511161337906,
          469.3511161337906,
          469.3511161337906,
          469.3511161337906,
          469.3511161337906,
          469.3511161337906,
          469.3511161337906,
          469.3511161337906,
          469.3511161337906,
          469.3511161337906,
          469.3511161337906,
          469.3511161337906,
          469.3511161337906,
          469.3511161337906,
          469.3511161337906,
          469.3511161337906,
          469.3511161337906,
          469.3511161337906,
          469.3511161337906,
          469.3511161337906,
          469.3511161337906,
          469.3511161337906,
          469.3511161337906,
          469.3511161337906,
          469.3511161337906,
          469.3511161337906,
          469.3511161337906,
          469.3511161337906,
          469.3511161337906,
          469.3511161337906,
          469.3511161337906,
          469.3511161337906,
          469.3511161337906,
          469.3511161337906,
          469.3511161337906,
          469.3511161337906,
          469.3511161337906,
          469.3511161337906,
          469.3511161337906,
          469.3511161337906,
          469.3511161337906,
          469.3511161337906,
          469.3511161337906,
          469.3511161337906,
          469.3511161337906,
          469.3511161337906,
          469.3511161337906,
          469.3511161337906,
          469.3511161337906,
          469.3511161337906,
          469.3511161337906,
          469.3511161337906,
          469.3511161337906,
          469.3511161337906,
          469.3511161337906,
          469.3511161337906,
          469.3511161337906,
          469.3511161337906,
          469.3511161337906,
          469.3511161337906,
          469.3511161337906,
          469.3511161337906,
          469.3511161337906,
          469.3511161337906,
          469.3511161337906,
          469.3511161337906,
          469.3511161337906,
          469.3511161337906,
          469.3511161337906,
          469.3511161337906,
          469.3511161337906,
          469.3511161337906,
          469.3511161337906,
          469.3511161337906,
          469.3511161337906,
          469.3511161337906,
          469.3511161337906,
          469.3511161337906,
          469.3511161337906,
          469.3511161337906,
          469.3511161337906,
          469.3511161337906,
          469.3511161337906,
          469.3511161337906,
          469.3511161337906,
          469.3511161337906,
          469.3511161337906,
          469.3511161337906,
          469.3511161337906,
          469.3511161337906,
          469.3511161337906,
          469.3511161337906,
          469.3511161337906,
          469.3511161337906,
          469.3511161337906,
          469.3511161337906,
          469.3511161337906,
          469.3511161337906,
          469.3511161337906,
          469.3511161337906,
          469.3511161337906,
          469.3511161337906,
          469.3511161337906,
          469.3511161337906,
          469.3511161337906,
          469.3511161337906,
          469.3511161337906,
          469.3511161337906,
          469.3511161337906,
          469.3511161337906,
          469.3511161337906,
          469.3511161337906,
          469.3511161337906,
          469.3511161337906,
          469.3511161337906,
          469.3511161337906,
          469.3511161337906,
          469.3511161337906,
          469.3511161337906,
          469.3511161337906,
          469.3511161337906,
          469.3511161337906,
          469.3511161337906,
          469.3511161337906,
          469.3511161337906,
          469.3511161337906,
          469.3511161337906,
          469.3511161337906,
          469.3511161337906,
          469.3511161337906,
          469.3511161337906,
          469.3511161337906,
          469.3511161337906,
          469.3511161337906,
          469.3511161337906,
          469.3511161337906,
          469.3511161337906,
          469.3511161337906,
          469.3511161337906,
          469.3511161337906,
          469.3511161337906,
          469.3511161337906,
          469.3511161337906,
          469.3511161337906,
          469.3511161337906,
          469.3511161337906,
          469.3511161337906,
          469.3511161337906,
          469.3511161337906,
          469.3511161337906,
          469.3511161337906,
          469.3511161337906,
          469.3511161337906,
          469.3511161337906,
          469.3511161337906,
          469.3511161337906,
          469.3511161337906,
          469.3511161337906,
          469.3511161337906,
          469.3511161337906,
          469.3511161337906,
          469.3511161337906,
          469.3511161337906,
          469.3511161337906,
          469.3511161337906,
          469.3511161337906,
          469.3511161337906,
          469.3511161337906,
          469.3511161337906,
          469.3511161337906,
          469.3511161337906,
          469.3511161337906,
          469.3511161337906,
          469.3511161337906,
          469.3511161337906,
          469.3511161337906,
          469.3511161337906,
          469.3511161337906,
          469.3511161337906,
          469.3511161337906,
          469.3511161337906,
          469.3511161337906,
          469.3511161337906,
          469.3511161337906,
          469.3511161337906,
          469.3511161337906,
          469.3511161337906,
          469.3511161337906,
          469.3511161337906,
          469.3511161337906,
          469.3511161337906,
          469.3511161337906,
          469.3511161337906,
          469.3511161337906,
          469.3511161337906,
          469.3511161337906,
          469.3511161337906,
          469.3511161337906,
          469.3511161337906,
          469.3511161337906,
          469.3511161337906,
          469.3511161337906,
          469.3511161337906,
          469.3511161337906,
          469.3511161337906,
          469.3511161337906,
          469.3511161337906,
          469.3511161337906,
          469.3511161337906,
          469.3511161337906,
          469.3511161337906,
          469.3511161337906,
          469.3511161337906,
          469.3511161337906,
          469.3511161337906,
          469.3511161337906,
          469.3511161337906,
          469.3511161337906,
          469.3511161337906,
          469.3511161337906,
          469.3511161337906,
          469.3511161337906,
          469.3511161337906,
          469.3511161337906,
          469.3511161337906,
          469.3511161337906,
          469.3511161337906,
          469.3511161337906,
          469.3511161337906,
          469.3511161337906,
          469.3511161337906,
          469.3511161337906,
          469.3511161337906,
          469.3511161337906,
          469.3511161337906,
          469.3511161337906,
          469.3511161337906,
          469.3511161337906,
          469.3511161337906,
          469.3511161337906,
          469.3511161337906,
          469.3511161337906,
          469.3511161337906,
          469.3511161337906,
          469.3511161337906,
          469.3511161337906,
          469.3511161337906,
          469.3511161337906,
          469.3511161337906,
          469.3511161337906,
          469.3511161337906,
          469.3511161337906,
          469.3511161337906,
          469.3511161337906,
          469.3511161337906,
          469.3511161337906,
          469.3511161337906,
          469.3511161337906,
          469.3511161337906,
          469.3511161337906,
          469.3511161337906,
          469.3511161337906,
          469.3511161337906,
          469.3511161337906,
          469.3511161337906,
          469.3511161337906,
          469.3511161337906,
          469.3511161337906,
          469.3511161337906,
          469.3511161337906,
          469.3511161337906,
          469.3511161337906,
          469.3511161337906,
          469.3511161337906,
          469.3511161337906,
          469.3511161337906,
          469.3511161337906,
          469.3511161337906,
          469.3511161337906,
          469.3511161337906,
          469.3511161337906,
          469.3511161337906,
          469.3511161337906,
          469.3511161337906,
          469.3511161337906,
          469.3511161337906,
          469.3511161337906,
          469.3511161337906,
          469.3511161337906,
          469.3511161337906,
          469.3511161337906,
          469.3511161337906,
          469.3511161337906,
          469.3511161337906,
          469.3511161337906,
          469.3511161337906,
          469.3511161337906,
          469.3511161337906,
          469.3511161337906,
          469.3511161337906,
          469.3511161337906,
          469.3511161337906,
          469.3511161337906,
          469.3511161337906,
          469.3511161337906,
          469.3511161337906,
          469.3511161337906,
          469.3511161337906,
          469.3511161337906,
          469.3511161337906,
          469.3511161337906,
          469.3511161337906,
          469.3511161337906,
          469.3511161337906,
          469.3511161337906,
          469.3511161337906,
          469.3511161337906,
          469.3511161337906,
          469.3511161337906,
          469.3511161337906,
          469.3511161337906,
          469.3511161337906,
          469.3511161337906,
          469.3511161337906,
          469.3511161337906,
          469.3511161337906,
          469.3511161337906,
          469.3511161337906,
          469.3511161337906,
          469.3511161337906,
          469.3511161337906,
          469.3511161337906,
          469.3511161337906,
          469.3511161337906,
          469.3511161337906,
          469.3511161337906,
          469.3511161337906,
          469.3511161337906,
          469.3511161337906,
          469.3511161337906,
          469.3511161337906,
          469.3511161337906,
          469.3511161337906,
          469.3511161337906,
          469.3511161337906,
          469.3511161337906,
          469.3511161337906,
          469.3511161337906,
          469.3511161337906,
          469.3511161337906,
          469.3511161337906,
          469.3511161337906,
          469.3511161337906,
          469.3511161337906,
          469.3511161337906,
          469.3511161337906,
          469.3511161337906,
          469.3511161337906,
          469.3511161337906,
          469.3511161337906,
          469.3511161337906,
          469.3511161337906,
          469.3511161337906,
          469.3511161337906,
          469.3511161337906,
          469.3511161337906,
          469.3511161337906,
          469.3511161337906,
          469.3511161337906,
          469.3511161337906,
          469.3511161337906,
          469.3511161337906,
          469.3511161337906,
          469.3511161337906,
          469.3511161337906,
          469.3511161337906,
          469.3511161337906,
          469.3511161337906,
          469.3511161337906,
          469.3511161337906,
          469.3511161337906,
          469.3511161337906,
          469.3511161337906,
          469.3511161337906,
          469.3511161337906,
          469.3511161337906,
          469.3511161337906,
          469.3511161337906,
          469.3511161337906,
          469.3511161337906,
          469.3511161337906,
          469.3511161337906,
          469.3511161337906,
          469.3511161337906,
          469.3511161337906,
          469.3511161337906,
          469.3511161337906,
          469.3511161337906,
          469.3511161337906,
          469.3511161337906,
          469.3511161337906,
          469.3511161337906,
          469.3511161337906,
          469.3511161337906,
          469.3511161337906,
          469.3511161337906,
          469.3511161337906,
          469.3511161337906,
          469.3511161337906,
          469.3511161337906,
          469.3511161337906,
          469.3511161337906,
          469.3511161337906,
          469.3511161337906,
          469.3511161337906,
          469.3511161337906,
          469.3511161337906,
          469.3511161337906,
          469.3511161337906,
          469.3511161337906,
          469.3511161337906,
          469.3511161337906,
          469.3511161337906,
          469.3511161337906,
          469.3511161337906,
          469.3511161337906,
          469.3511161337906,
          469.3511161337906,
          469.3511161337906,
          469.3511161337906,
          469.3511161337906,
          469.3511161337906,
          469.3511161337906,
          469.3511161337906,
          469.3511161337906,
          469.3511161337906,
          469.3511161337906,
          469.3511161337906,
          469.3511161337906,
          469.3511161337906,
          469.3511161337906,
          469.3511161337906,
          469.3511161337906,
          469.3511161337906,
          469.3511161337906,
          469.3511161337906,
          469.3511161337906,
          469.3511161337906,
          469.3511161337906,
          469.3511161337906,
          469.3511161337906,
          469.3511161337906,
          469.3511161337906,
          469.3511161337906,
          469.3511161337906,
          469.3511161337906,
          469.3511161337906,
          469.3511161337906,
          469.3511161337906,
          469.3511161337906,
          469.3511161337906,
          469.3511161337906,
          469.3511161337906,
          469.3511161337906,
          469.3511161337906,
          469.3511161337906,
          469.3511161337906,
          469.3511161337906,
          469.3511161337906,
          469.3511161337906,
          469.3511161337906,
          469.3511161337906,
          469.3511161337906,
          469.3511161337906,
          469.3511161337906,
          469.3511161337906,
          469.3511161337906,
          469.3511161337906,
          469.3511161337906,
          469.3511161337906,
          469.3511161337906,
          469.3511161337906,
          469.3511161337906,
          469.3511161337906,
          469.3511161337906,
          469.3511161337906,
          469.3511161337906,
          469.3511161337906,
          469.3511161337906,
          469.3511161337906,
          469.3511161337906,
          469.3511161337906,
          469.3511161337906,
          469.3511161337906,
          469.3511161337906,
          469.3511161337906,
          469.3511161337906,
          469.3511161337906,
          469.3511161337906,
          469.3511161337906,
          469.3511161337906,
          469.3511161337906,
          469.3511161337906,
          469.3511161337906,
          469.3511161337906,
          469.3511161337906,
          469.3511161337906,
          469.3511161337906,
          469.3511161337906,
          469.3511161337906,
          469.3511161337906,
          469.3511161337906,
          469.3511161337906,
          469.3511161337906,
          469.3511161337906,
          469.3511161337906,
          469.3511161337906,
          469.3511161337906,
          469.3511161337906,
          469.3511161337906,
          469.3511161337906,
          469.3511161337906,
          469.3511161337906,
          469.3511161337906,
          469.3511161337906,
          469.3511161337906,
          469.3511161337906,
          469.3511161337906,
          469.3511161337906,
          469.3511161337906,
          469.3511161337906,
          469.3511161337906,
          469.3511161337906,
          469.3511161337906,
          469.3511161337906,
          469.3511161337906,
          469.3511161337906,
          469.3511161337906,
          469.3511161337906,
          469.3511161337906,
          469.3511161337906,
          469.3511161337906,
          469.3511161337906,
          469.3511161337906,
          469.3511161337906,
          469.3511161337906,
          469.3511161337906,
          469.3511161337906,
          469.3511161337906,
          469.3511161337906,
          469.3511161337906,
          469.3511161337906,
          469.3511161337906,
          469.3511161337906,
          469.3511161337906,
          469.3511161337906,
          469.3511161337906,
          469.3511161337906,
          469.3511161337906,
          469.3511161337906,
          469.3511161337906,
          469.3511161337906,
          469.3511161337906,
          469.3511161337906,
          469.3511161337906,
          469.3511161337906,
          469.3511161337906,
          469.3511161337906,
          469.3511161337906,
          469.3511161337906,
          469.3511161337906,
          469.3511161337906,
          469.3511161337906,
          469.3511161337906,
          469.3511161337906,
          469.3511161337906,
          469.3511161337906,
          469.3511161337906,
          469.3511161337906,
          469.3511161337906,
          469.3511161337906,
          469.3511161337906,
          469.3511161337906,
          469.3511161337906,
          469.3511161337906,
          469.3511161337906,
          469.3511161337906,
          469.3511161337906,
          469.3511161337906,
          469.3511161337906,
          469.3511161337906,
          469.3511161337906,
          469.3511161337906,
          469.3511161337906,
          469.3511161337906,
          469.3511161337906,
          469.3511161337906,
          469.3511161337906,
          469.3511161337906,
          469.3511161337906,
          469.3511161337906,
          469.3511161337906,
          469.3511161337906,
          469.3511161337906,
          469.3511161337906,
          469.3511161337906,
          469.3511161337906,
          469.3511161337906,
          469.3511161337906,
          469.3511161337906,
          469.3511161337906,
          469.3511161337906,
          469.3511161337906,
          469.3511161337906,
          469.3511161337906,
          469.3511161337906,
          469.3511161337906,
          469.3511161337906,
          469.3511161337906,
          469.3511161337906,
          469.3511161337906,
          469.3511161337906,
          469.3511161337906,
          469.3511161337906,
          469.3511161337906,
          469.3511161337906,
          469.3511161337906,
          469.3511161337906,
          469.3511161337906,
          469.3511161337906,
          469.3511161337906,
          469.3511161337906,
          469.3511161337906,
          469.3511161337906,
          469.3511161337906,
          469.3511161337906,
          469.3511161337906,
          469.3511161337906,
          469.3511161337906,
          469.3511161337906,
          469.3511161337906,
          469.3511161337906,
          469.3511161337906,
          469.3511161337906,
          469.3511161337906,
          469.3511161337906,
          469.3511161337906,
          469.3511161337906,
          469.3511161337906,
          469.3511161337906,
          469.3511161337906,
          469.3511161337906,
          469.3511161337906,
          469.3511161337906,
          469.3511161337906,
          469.3511161337906,
          469.3511161337906,
          469.3511161337906,
          469.3511161337906,
          469.3511161337906,
          469.3511161337906,
          469.3511161337906,
          469.3511161337906,
          469.3511161337906,
          469.3511161337906,
          469.3511161337906,
          469.3511161337906,
          469.3511161337906,
          469.3511161337906,
          469.3511161337906,
          469.3511161337906,
          469.3511161337906,
          469.3511161337906,
          469.3511161337906,
          469.3511161337906,
          469.3511161337906,
          469.3511161337906,
          469.3511161337906,
          469.3511161337906,
          469.3511161337906,
          469.3511161337906,
          469.3511161337906,
          469.3511161337906,
          469.3511161337906,
          469.3511161337906,
          469.3511161337906,
          469.3511161337906,
          469.3511161337906,
          469.3511161337906,
          469.3511161337906,
          469.3511161337906,
          469.3511161337906,
          469.3511161337906,
          469.3511161337906,
          469.3511161337906,
          469.3511161337906,
          469.3511161337906,
          469.3511161337906,
          469.3511161337906,
          469.3511161337906,
          469.3511161337906,
          469.3511161337906,
          469.3511161337906,
          469.3511161337906,
          469.3511161337906,
          469.3511161337906,
          469.3511161337906,
          469.3511161337906,
          469.3511161337906,
          469.3511161337906,
          469.3511161337906,
          469.3511161337906,
          469.3511161337906,
          469.3511161337906,
          469.3511161337906,
          469.3511161337906,
          469.3511161337906,
          469.3511161337906,
          469.3511161337906,
          469.3511161337906,
          469.3511161337906,
          469.3511161337906,
          469.3511161337906,
          469.3511161337906,
          469.3511161337906,
          469.3511161337906,
          469.3511161337906,
          469.3511161337906,
          469.3511161337906,
          469.3511161337906,
          469.3511161337906,
          469.3511161337906,
          469.3511161337906,
          469.3511161337906,
          469.3511161337906,
          469.3511161337906,
          469.3511161337906,
          469.3511161337906,
          469.3511161337906,
          469.3511161337906,
          469.3511161337906,
          469.3511161337906,
          469.3511161337906,
          469.3511161337906,
          469.3511161337906,
          469.3511161337906,
          469.3511161337906,
          469.3511161337906,
          469.3511161337906,
          469.3511161337906,
          469.3511161337906,
          469.3511161337906,
          469.3511161337906,
          469.3511161337906,
          469.3511161337906,
          469.3511161337906,
          469.3511161337906,
          469.3511161337906,
          469.3511161337906,
          469.3511161337906,
          469.3511161337906,
          469.3511161337906,
          469.3511161337906,
          469.3511161337906,
          469.3511161337906,
          469.3511161337906,
          469.3511161337906,
          469.3511161337906,
          469.3511161337906,
          469.3511161337906,
          469.3511161337906,
          469.3511161337906,
          469.3511161337906,
          469.3511161337906,
          469.3511161337906,
          469.3511161337906,
          469.3511161337906,
          469.3511161337906,
          469.3511161337906,
          469.3511161337906,
          469.3511161337906,
          469.3511161337906,
          469.3511161337906,
          469.3511161337906,
          469.3511161337906,
          469.3511161337906,
          469.3511161337906,
          469.3511161337906,
          469.3511161337906,
          469.3511161337906,
          469.3511161337906,
          469.3511161337906,
          469.3511161337906,
          469.3511161337906,
          469.3511161337906,
          469.3511161337906,
          469.3511161337906,
          469.3511161337906,
          469.3511161337906,
          469.3511161337906,
          469.3511161337906,
          469.3511161337906,
          469.3511161337906,
          469.3511161337906,
          469.3511161337906,
          469.3511161337906,
          469.3511161337906,
          469.3511161337906,
          469.3511161337906,
          469.3511161337906,
          469.3511161337906,
          469.3511161337906,
          469.3511161337906,
          469.3511161337906,
          469.3511161337906,
          469.3511161337906,
          469.3511161337906,
          469.3511161337906,
          469.3511161337906,
          469.3511161337906,
          469.3511161337906,
          469.3511161337906,
          469.3511161337906,
          469.3511161337906,
          469.3511161337906,
          469.3511161337906,
          469.3511161337906,
          469.3511161337906,
          469.3511161337906,
          469.3511161337906,
          469.3511161337906,
          469.3511161337906,
          469.3511161337906,
          469.3511161337906,
          469.3511161337906,
          469.3511161337906,
          469.3511161337906,
          469.3511161337906,
          469.3511161337906,
          469.3511161337906,
          469.3511161337906,
          469.3511161337906,
          469.3511161337906,
          469.3511161337906,
          469.3511161337906,
          469.3511161337906,
          469.3511161337906,
          469.3511161337906,
          469.3511161337906,
          469.3511161337906,
          469.3511161337906,
          469.3511161337906,
          469.3511161337906,
          469.3511161337906,
          469.3511161337906,
          469.3511161337906,
          469.3511161337906,
          469.3511161337906,
          469.3511161337906,
          469.3511161337906,
          469.3511161337906,
          469.3511161337906,
          469.3511161337906,
          469.3511161337906,
          469.3511161337906,
          469.3511161337906,
          469.3511161337906,
          469.3511161337906,
          469.3511161337906,
          469.3511161337906,
          469.3511161337906,
          469.3511161337906,
          469.3511161337906,
          469.3511161337906,
          469.3511161337906,
          469.3511161337906,
          469.3511161337906,
          469.3511161337906,
          469.3511161337906,
          469.3511161337906,
          469.3511161337906,
          469.3511161337906,
          469.3511161337906,
          469.3511161337906,
          469.3511161337906,
          469.3511161337906,
          469.3511161337906,
          469.3511161337906,
          469.3511161337906,
          469.3511161337906,
          469.3511161337906,
          469.3511161337906,
          469.3511161337906,
          469.3511161337906,
          469.3511161337906,
          469.3511161337906,
          469.3511161337906,
          469.3511161337906,
          469.3511161337906,
          469.3511161337906,
          469.3511161337906,
          469.3511161337906,
          469.3511161337906,
          469.3511161337906,
          469.3511161337906,
          469.3511161337906,
          469.3511161337906,
          469.3511161337906,
          469.3511161337906,
          469.3511161337906,
          469.3511161337906,
          469.3511161337906,
          469.3511161337906,
          469.3511161337906,
          469.3511161337906,
          469.3511161337906,
          469.3511161337906,
          469.3511161337906,
          469.3511161337906,
          469.3511161337906,
          469.3511161337906,
          469.3511161337906,
          469.3511161337906,
          469.3511161337906,
          469.3511161337906,
          469.3511161337906,
          469.3511161337906,
          469.3511161337906,
          469.3511161337906,
          469.3511161337906,
          469.3511161337906,
          469.3511161337906,
          469.3511161337906,
          469.3511161337906,
          469.3511161337906,
          469.3511161337906,
          469.3511161337906,
          469.3511161337906,
          469.3511161337906,
          469.3511161337906,
          469.3511161337906,
          469.3511161337906,
          469.3511161337906,
          469.3511161337906,
          469.3511161337906,
          469.3511161337906,
          469.3511161337906,
          469.3511161337906,
          469.3511161337906,
          469.3511161337906,
          469.3511161337906,
          469.3511161337906,
          469.3511161337906,
          469.3511161337906,
          469.3511161337906,
          469.3511161337906,
          469.3511161337906,
          469.3511161337906,
          469.3511161337906,
          469.3511161337906,
          469.3511161337906,
          469.3511161337906,
          469.3511161337906,
          469.3511161337906,
          469.3511161337906,
          469.3511161337906,
          469.3511161337906,
          469.3511161337906,
          469.3511161337906,
          469.3511161337906,
          469.3511161337906,
          469.3511161337906,
          469.3511161337906,
          469.3511161337906,
          469.3511161337906,
          469.3511161337906,
          469.3511161337906,
          469.3511161337906,
          469.3511161337906,
          469.3511161337906,
          469.3511161337906,
          469.3511161337906,
          469.3511161337906,
          469.3511161337906,
          469.3511161337906,
          469.3511161337906,
          469.3511161337906,
          469.3511161337906,
          469.3511161337906,
          469.3511161337906,
          469.3511161337906,
          469.3511161337906,
          469.3511161337906,
          469.3511161337906,
          469.3511161337906,
          469.3511161337906,
          469.3511161337906,
          469.3511161337906,
          469.3511161337906,
          469.3511161337906,
          469.3511161337906,
          469.3511161337906,
          469.3511161337906,
          469.3511161337906,
          469.3511161337906,
          469.3511161337906,
          469.3511161337906,
          469.3511161337906,
          469.3511161337906,
          469.3511161337906,
          469.3511161337906,
          469.3511161337906,
          469.3511161337906,
          469.3511161337906,
          469.3511161337906,
          469.3511161337906,
          469.3511161337906,
          469.3511161337906,
          469.3511161337906,
          469.3511161337906,
          469.3511161337906,
          469.3511161337906,
          469.3511161337906,
          469.3511161337906,
          469.3511161337906,
          469.3511161337906,
          469.3511161337906,
          469.3511161337906,
          469.3511161337906,
          469.3511161337906,
          469.3511161337906,
          469.3511161337906,
          469.3511161337906,
          469.3511161337906,
          469.3511161337906,
          469.3511161337906,
          469.3511161337906,
          469.3511161337906,
          469.3511161337906,
          469.3511161337906,
          469.3511161337906,
          469.3511161337906,
          469.3511161337906,
          469.3511161337906,
          469.3511161337906,
          469.3511161337906,
          469.3511161337906,
          469.3511161337906,
          469.3511161337906,
          469.3511161337906,
          469.3511161337906,
          469.3511161337906,
          469.3511161337906,
          469.3511161337906,
          469.3511161337906,
          469.3511161337906,
          469.3511161337906,
          469.3511161337906,
          469.3511161337906,
          469.3511161337906,
          469.3511161337906,
          469.3511161337906,
          469.3511161337906,
          469.3511161337906,
          469.3511161337906,
          469.3511161337906,
          469.3511161337906,
          469.3511161337906,
          469.3511161337906,
          469.3511161337906,
          469.3511161337906,
          469.3511161337906,
          469.3511161337906,
          469.3511161337906,
          469.3511161337906,
          469.3511161337906,
          469.3511161337906,
          469.3511161337906,
          469.3511161337906,
          469.3511161337906,
          469.3511161337906,
          469.3511161337906,
          469.3511161337906,
          469.3511161337906,
          469.3511161337906,
          469.3511161337906,
          469.3511161337906,
          469.3511161337906,
          469.3511161337906,
          469.3511161337906,
          469.3511161337906,
          469.3511161337906,
          469.3511161337906,
          469.3511161337906,
          469.3511161337906,
          469.3511161337906,
          469.3511161337906,
          469.3511161337906,
          469.3511161337906,
          469.3511161337906,
          469.3511161337906,
          469.3511161337906,
          469.3511161337906,
          469.3511161337906,
          469.3511161337906,
          469.3511161337906,
          469.3511161337906,
          469.3511161337906,
          469.3511161337906,
          469.3511161337906,
          469.3511161337906,
          469.3511161337906,
          469.3511161337906,
          469.3511161337906,
          469.3511161337906,
          469.3511161337906,
          469.3511161337906,
          469.3511161337906,
          469.3511161337906,
          469.3511161337906,
          469.3511161337906,
          469.3511161337906,
          469.3511161337906,
          469.3511161337906,
          469.3511161337906,
          469.3511161337906,
          469.3511161337906,
          469.3511161337906,
          469.3511161337906,
          469.3511161337906,
          469.3511161337906,
          469.3511161337906,
          469.3511161337906,
          469.3511161337906,
          469.3511161337906,
          469.3511161337906,
          469.3511161337906,
          469.3511161337906,
          469.3511161337906,
          469.3511161337906,
          469.3511161337906,
          469.3511161337906,
          469.3511161337906,
          469.3511161337906,
          469.3511161337906,
          469.3511161337906,
          469.3511161337906,
          469.3511161337906,
          469.3511161337906,
          469.3511161337906,
          469.3511161337906,
          469.3511161337906,
          469.3511161337906,
          469.3511161337906,
          469.3511161337906,
          469.3511161337906,
          469.3511161337906,
          469.3511161337906,
          469.3511161337906,
          469.3511161337906,
          469.3511161337906,
          469.3511161337906,
          469.3511161337906,
          469.3511161337906,
          469.3511161337906,
          469.3511161337906,
          469.3511161337906,
          469.3511161337906,
          469.3511161337906,
          469.3511161337906,
          469.3511161337906,
          469.3511161337906,
          469.3511161337906,
          469.3511161337906,
          469.3511161337906,
          469.3511161337906,
          469.3511161337906,
          469.3511161337906,
          469.3511161337906,
          469.3511161337906,
          469.3511161337906,
          469.3511161337906,
          469.3511161337906,
          469.3511161337906,
          469.3511161337906,
          469.3511161337906,
          469.3511161337906,
          469.3511161337906,
          469.3511161337906,
          469.3511161337906,
          469.3511161337906,
          469.3511161337906,
          469.3511161337906,
          469.3511161337906,
          469.3511161337906,
          469.3511161337906,
          469.3511161337906,
          469.3511161337906,
          469.3511161337906,
          469.3511161337906,
          469.3511161337906,
          469.3511161337906,
          469.3511161337906,
          469.3511161337906,
          469.3511161337906,
          469.3511161337906,
          469.3511161337906,
          469.3511161337906,
          469.3511161337906,
          469.3511161337906,
          469.3511161337906,
          469.3511161337906,
          469.3511161337906,
          469.3511161337906,
          469.3511161337906,
          469.3511161337906,
          469.3511161337906,
          469.3511161337906,
          469.3511161337906,
          469.3511161337906,
          469.3511161337906,
          469.3511161337906,
          469.3511161337906,
          469.3511161337906,
          469.3511161337906,
          469.3511161337906,
          469.3511161337906,
          469.3511161337906,
          469.3511161337906,
          469.3511161337906,
          469.3511161337906,
          469.3511161337906,
          469.3511161337906,
          469.3511161337906,
          469.3511161337906,
          469.3511161337906,
          469.3511161337906,
          469.3511161337906,
          469.3511161337906,
          469.3511161337906,
          469.3511161337906,
          469.3511161337906,
          469.3511161337906,
          469.3511161337906,
          469.3511161337906,
          469.3511161337906,
          469.3511161337906,
          469.3511161337906,
          469.3511161337906,
          469.3511161337906,
          469.3511161337906,
          469.3511161337906,
          469.3511161337906,
          469.3511161337906,
          469.3511161337906,
          469.3511161337906,
          469.3511161337906,
          469.3511161337906,
          469.3511161337906,
          469.3511161337906,
          469.3511161337906,
          469.3511161337906,
          469.3511161337906,
          469.3511161337906,
          469.3511161337906,
          469.3511161337906,
          469.3511161337906,
          469.3511161337906,
          469.3511161337906,
          469.3511161337906,
          469.3511161337906,
          469.3511161337906,
          469.3511161337906,
          469.3511161337906,
          469.3511161337906,
          469.3511161337906,
          469.3511161337906,
          469.3511161337906,
          469.3511161337906,
          469.3511161337906,
          469.3511161337906,
          469.3511161337906,
          469.3511161337906,
          469.3511161337906,
          469.3511161337906,
          469.3511161337906,
          469.3511161337906,
          469.3511161337906,
          469.3511161337906,
          469.3511161337906,
          469.3511161337906,
          469.3511161337906,
          469.3511161337906,
          469.3511161337906,
          469.3511161337906,
          469.3511161337906,
          469.3511161337906,
          469.3511161337906,
          469.3511161337906,
          469.3511161337906,
          469.3511161337906,
          469.3511161337906,
          469.3511161337906,
          469.3511161337906,
          469.3511161337906,
          469.3511161337906,
          469.3511161337906,
          469.3511161337906,
          469.3511161337906,
          469.3511161337906,
          469.3511161337906,
          469.3511161337906,
          469.3511161337906,
          469.3511161337906,
          469.3511161337906,
          469.3511161337906,
          469.3511161337906,
          469.3511161337906,
          469.3511161337906,
          469.3511161337906,
          469.3511161337906,
          469.3511161337906,
          469.3511161337906,
          469.3511161337906,
          469.3511161337906,
          469.3511161337906,
          469.3511161337906,
          469.3511161337906,
          469.3511161337906,
          469.3511161337906,
          469.3511161337906,
          469.3511161337906,
          469.3511161337906,
          469.3511161337906,
          469.3511161337906,
          469.3511161337906,
          469.3511161337906,
          469.3511161337906,
          469.3511161337906,
          469.3511161337906,
          469.3511161337906,
          469.3511161337906,
          469.3511161337906,
          469.3511161337906,
          469.3511161337906,
          469.3511161337906,
          469.3511161337906,
          469.3511161337906,
          469.3511161337906,
          469.3511161337906,
          469.3511161337906,
          469.3511161337906,
          469.3511161337906,
          469.3511161337906,
          469.3511161337906,
          469.3511161337906,
          469.3511161337906,
          469.3511161337906,
          469.3511161337906,
          469.3511161337906,
          469.3511161337906,
          469.3511161337906,
          469.3511161337906,
          469.3511161337906,
          469.3511161337906,
          469.3511161337906,
          469.3511161337906,
          469.3511161337906,
          469.3511161337906,
          469.3511161337906,
          469.3511161337906,
          469.3511161337906,
          469.3511161337906,
          469.3511161337906,
          469.3511161337906,
          469.3511161337906,
          469.3511161337906,
          469.3511161337906,
          469.3511161337906,
          469.3511161337906,
          469.3511161337906,
          469.3511161337906,
          469.3511161337906,
          469.3511161337906,
          469.3511161337906,
          469.3511161337906,
          469.3511161337906,
          469.3511161337906,
          469.3511161337906,
          469.3511161337906,
          469.3511161337906,
          469.3511161337906,
          469.3511161337906,
          469.3511161337906,
          469.3511161337906,
          469.3511161337906,
          469.3511161337906,
          469.3511161337906,
          469.3511161337906,
          469.3511161337906,
          469.3511161337906,
          469.3511161337906,
          469.3511161337906,
          469.3511161337906,
          469.3511161337906,
          469.3511161337906,
          469.3511161337906,
          469.3511161337906,
          469.3511161337906,
          469.3511161337906,
          469.3511161337906,
          469.3511161337906,
          469.3511161337906,
          469.3511161337906,
          469.3511161337906,
          469.3511161337906,
          469.3511161337906,
          469.3511161337906,
          469.3511161337906,
          469.3511161337906,
          469.3511161337906,
          469.3511161337906,
          469.3511161337906,
          469.3511161337906,
          469.3511161337906,
          469.3511161337906,
          469.3511161337906,
          469.3511161337906,
          469.3511161337906,
          469.3511161337906,
          469.3511161337906,
          469.3511161337906,
          469.3511161337906,
          469.3511161337906,
          469.3511161337906,
          469.3511161337906,
          469.3511161337906,
          469.3511161337906,
          469.3511161337906,
          469.3511161337906,
          469.3511161337906,
          469.3511161337906,
          469.3511161337906,
          469.3511161337906,
          469.3511161337906,
          469.3511161337906,
          469.3511161337906,
          469.3511161337906,
          469.3511161337906,
          469.3511161337906,
          469.3511161337906,
          469.3511161337906,
          469.3511161337906,
          469.3511161337906,
          469.3511161337906,
          469.3511161337906,
          469.3511161337906,
          469.3511161337906,
          469.3511161337906,
          469.3511161337906,
          469.3511161337906,
          469.3511161337906,
          469.3511161337906,
          469.3511161337906,
          469.3511161337906,
          469.3511161337906,
          469.3511161337906,
          469.3511161337906,
          469.3511161337906,
          469.3511161337906,
          469.3511161337906,
          469.3511161337906,
          469.3511161337906,
          469.3511161337906,
          469.3511161337906,
          469.3511161337906,
          469.3511161337906,
          469.3511161337906,
          469.3511161337906,
          469.3511161337906,
          469.3511161337906,
          469.3511161337906,
          469.3511161337906,
          469.3511161337906,
          469.3511161337906,
          469.3511161337906,
          469.3511161337906,
          469.3511161337906,
          469.3511161337906,
          469.3511161337906,
          469.3511161337906,
          469.3511161337906,
          469.3511161337906,
          469.3511161337906,
          469.3511161337906,
          469.3511161337906,
          469.3511161337906,
          469.3511161337906,
          469.3511161337906,
          469.3511161337906,
          469.3511161337906,
          469.3511161337906,
          469.3511161337906,
          469.3511161337906,
          469.3511161337906,
          469.3511161337906,
          469.3511161337906,
          469.3511161337906,
          469.3511161337906,
          469.3511161337906,
          469.3511161337906,
          469.3511161337906,
          469.3511161337906,
          469.3511161337906,
          469.3511161337906,
          469.3511161337906,
          469.3511161337906,
          469.3511161337906,
          469.3511161337906,
          469.3511161337906,
          469.3511161337906,
          469.3511161337906,
          469.3511161337906,
          469.3511161337906,
          469.3511161337906,
          469.3511161337906,
          469.3511161337906,
          469.3511161337906,
          469.3511161337906,
          469.3511161337906,
          469.3511161337906,
          469.3511161337906,
          469.3511161337906,
          469.3511161337906,
          469.3511161337906,
          469.3511161337906,
          469.3511161337906,
          469.3511161337906,
          469.3511161337906,
          469.3511161337906,
          469.3511161337906,
          469.3511161337906,
          469.3511161337906,
          469.3511161337906,
          469.3511161337906,
          469.3511161337906,
          469.3511161337906,
          469.3511161337906,
          469.3511161337906,
          469.3511161337906,
          469.3511161337906,
          469.3511161337906,
          469.3511161337906,
          469.3511161337906,
          469.3511161337906,
          469.3511161337906,
          469.3511161337906,
          469.3511161337906,
          469.3511161337906,
          469.3511161337906,
          469.3511161337906,
          469.3511161337906,
          469.3511161337906,
          469.3511161337906,
          469.3511161337906,
          469.3511161337906,
          469.3511161337906,
          469.3511161337906,
          469.3511161337906,
          469.3511161337906,
          469.3511161337906,
          469.3511161337906,
          469.3511161337906,
          469.3511161337906,
          469.3511161337906,
          469.3511161337906,
          469.3511161337906,
          469.3511161337906,
          469.3511161337906,
          469.3511161337906,
          469.3511161337906,
          469.3511161337906,
          469.3511161337906,
          469.3511161337906,
          469.3511161337906,
          469.3511161337906,
          469.3511161337906,
          469.3511161337906,
          469.3511161337906,
          469.3511161337906,
          469.3511161337906,
          469.3511161337906,
          469.3511161337906,
          469.3511161337906,
          469.3511161337906,
          469.3511161337906,
          469.3511161337906,
          469.3511161337906,
          469.3511161337906,
          469.3511161337906,
          469.3511161337906,
          469.3511161337906,
          469.3511161337906,
          469.3511161337906,
          469.3511161337906,
          469.3511161337906,
          469.3511161337906,
          469.3511161337906,
          469.3511161337906,
          469.3511161337906,
          469.3511161337906,
          469.3511161337906,
          469.3511161337906,
          469.3511161337906,
          469.3511161337906,
          469.3511161337906,
          469.3511161337906,
          469.3511161337906,
          469.3511161337906,
          469.3511161337906,
          469.3511161337906,
          469.3511161337906,
          469.3511161337906,
          469.3511161337906,
          469.3511161337906,
          469.3511161337906,
          469.3511161337906,
          469.3511161337906,
          469.3511161337906,
          469.3511161337906,
          469.3511161337906,
          469.3511161337906,
          469.3511161337906,
          469.3511161337906,
          469.3511161337906,
          469.3511161337906,
          469.3511161337906,
          469.3511161337906,
          469.3511161337906,
          469.3511161337906,
          469.3511161337906,
          469.3511161337906,
          469.3511161337906,
          469.3511161337906,
          469.3511161337906,
          469.3511161337906,
          469.3511161337906,
          469.3511161337906,
          469.3511161337906,
          469.3511161337906,
          469.3511161337906,
          469.3511161337906,
          469.3511161337906,
          469.3511161337906,
          469.3511161337906,
          469.3511161337906,
          469.3511161337906,
          469.3511161337906,
          469.3511161337906,
          469.3511161337906,
          469.3511161337906,
          469.3511161337906,
          469.3511161337906,
          469.3511161337906,
          469.3511161337906,
          469.3511161337906,
          469.3511161337906,
          469.3511161337906,
          469.3511161337906,
          469.3511161337906,
          469.3511161337906,
          469.3511161337906,
          469.3511161337906,
          469.3511161337906,
          469.3511161337906,
          469.3511161337906,
          469.3511161337906,
          469.3511161337906,
          469.3511161337906,
          469.3511161337906,
          469.3511161337906,
          469.3511161337906,
          469.3511161337906,
          469.3511161337906,
          469.3511161337906,
          469.3511161337906,
          469.3511161337906,
          469.3511161337906,
          469.3511161337906,
          469.3511161337906,
          469.3511161337906,
          469.3511161337906,
          469.3511161337906,
          469.3511161337906,
          469.3511161337906,
          469.3511161337906,
          469.3511161337906,
          469.3511161337906,
          469.3511161337906,
          469.3511161337906,
          469.3511161337906,
          469.3511161337906,
          469.3511161337906,
          469.3511161337906,
          469.3511161337906,
          469.3511161337906,
          469.3511161337906,
          469.3511161337906,
          469.3511161337906,
          469.3511161337906,
          469.3511161337906,
          469.3511161337906,
          469.3511161337906,
          469.3511161337906,
          469.3511161337906,
          469.3511161337906,
          469.3511161337906,
          469.3511161337906,
          469.3511161337906,
          469.3511161337906,
          469.3511161337906,
          469.3511161337906,
          469.3511161337906,
          469.3511161337906,
          469.3511161337906,
          469.3511161337906,
          469.3511161337906,
          469.3511161337906,
          469.3511161337906,
          469.3511161337906,
          469.3511161337906,
          469.3511161337906,
          469.3511161337906,
          469.3511161337906,
          469.3511161337906,
          469.3511161337906,
          469.3511161337906,
          469.3511161337906,
          469.3511161337906,
          469.3511161337906,
          469.3511161337906,
          469.3511161337906,
          469.3511161337906,
          469.3511161337906,
          469.3511161337906,
          469.3511161337906,
          469.3511161337906,
          469.3511161337906,
          469.3511161337906,
          469.3511161337906,
          469.3511161337906,
          469.3511161337906,
          469.3511161337906,
          469.3511161337906,
          469.3511161337906,
          469.3511161337906,
          469.3511161337906,
          469.3511161337906,
          469.3511161337906,
          469.3511161337906,
          469.3511161337906,
          469.3511161337906,
          469.3511161337906,
          469.3511161337906,
          469.3511161337906,
          469.3511161337906,
          469.3511161337906,
          469.3511161337906,
          469.3511161337906,
          469.3511161337906,
          469.3511161337906,
          469.3511161337906,
          469.3511161337906,
          469.3511161337906,
          469.3511161337906,
          469.3511161337906,
          469.3511161337906,
          469.3511161337906,
          469.3511161337906,
          469.3511161337906,
          469.3511161337906,
          469.3511161337906,
          469.3511161337906,
          469.3511161337906,
          469.3511161337906,
          469.3511161337906,
          469.3511161337906,
          469.3511161337906,
          469.3511161337906,
          469.3511161337906,
          469.3511161337906,
          469.3511161337906,
          469.3511161337906,
          469.3511161337906,
          469.3511161337906,
          469.3511161337906,
          469.3511161337906,
          469.3511161337906,
          469.3511161337906,
          469.3511161337906,
          469.3511161337906,
          469.3511161337906,
          469.3511161337906,
          469.3511161337906,
          469.3511161337906,
          469.3511161337906,
          469.3511161337906,
          469.3511161337906,
          469.3511161337906,
          469.3511161337906,
          469.3511161337906,
          469.3511161337906,
          469.3511161337906,
          469.3511161337906,
          469.3511161337906,
          469.3511161337906,
          469.3511161337906,
          469.3511161337906,
          469.3511161337906,
          469.3511161337906,
          469.3511161337906,
          469.3511161337906,
          469.3511161337906,
          469.3511161337906,
          469.3511161337906,
          469.3511161337906,
          469.3511161337906,
          469.3511161337906,
          469.3511161337906,
          469.3511161337906,
          469.3511161337906,
          469.3511161337906,
          469.3511161337906,
          469.3511161337906,
          469.3511161337906,
          469.3511161337906,
          469.3511161337906,
          469.3511161337906,
          469.3511161337906,
          469.3511161337906,
          469.3511161337906,
          469.3511161337906,
          469.3511161337906,
          469.3511161337906,
          469.3511161337906,
          469.3511161337906,
          469.3511161337906,
          469.3511161337906,
          469.3511161337906,
          469.3511161337906,
          469.3511161337906,
          469.3511161337906,
          469.3511161337906,
          469.3511161337906,
          469.3511161337906,
          469.3511161337906,
          469.3511161337906,
          469.3511161337906,
          469.3511161337906,
          469.3511161337906,
          469.3511161337906,
          469.3511161337906,
          469.3511161337906,
          469.3511161337906,
          469.3511161337906,
          469.3511161337906,
          469.3511161337906,
          469.3511161337906,
          469.3511161337906,
          469.3511161337906,
          469.3511161337906,
          469.3511161337906,
          469.3511161337906,
          469.3511161337906,
          469.3511161337906,
          469.3511161337906,
          469.3511161337906,
          469.3511161337906,
          469.3511161337906,
          469.3511161337906,
          469.3511161337906,
          469.3511161337906,
          469.3511161337906,
          469.3511161337906,
          469.3511161337906,
          469.3511161337906,
          469.3511161337906,
          469.3511161337906,
          469.3511161337906,
          469.3511161337906,
          469.3511161337906,
          469.3511161337906,
          469.3511161337906,
          469.3511161337906,
          469.3511161337906,
          469.3511161337906,
          469.3511161337906,
          469.3511161337906,
          469.3511161337906,
          469.3511161337906,
          469.3511161337906,
          469.3511161337906,
          469.3511161337906,
          469.3511161337906,
          469.3511161337906,
          469.3511161337906,
          469.3511161337906,
          469.3511161337906,
          469.3511161337906,
          469.3511161337906,
          469.3511161337906,
          469.3511161337906,
          469.3511161337906,
          469.3511161337906,
          469.3511161337906,
          469.3511161337906,
          469.3511161337906,
          469.3511161337906,
          469.3511161337906,
          469.3511161337906,
          469.3511161337906,
          469.3511161337906,
          469.3511161337906,
          469.3511161337906,
          469.3511161337906,
          469.3511161337906,
          469.3511161337906,
          469.3511161337906,
          469.3511161337906,
          469.3511161337906,
          469.3511161337906,
          469.3511161337906,
          469.3511161337906,
          469.3511161337906,
          469.3511161337906,
          469.3511161337906,
          469.3511161337906,
          469.3511161337906,
          469.3511161337906,
          469.3511161337906,
          469.3511161337906,
          469.3511161337906,
          469.3511161337906,
          469.3511161337906,
          469.3511161337906,
          469.3511161337906,
          469.3511161337906,
          469.3511161337906,
          469.3511161337906,
          469.3511161337906,
          469.3511161337906,
          469.3511161337906,
          469.3511161337906,
          469.3511161337906,
          469.3511161337906,
          469.3511161337906,
          469.3511161337906,
          469.3511161337906,
          469.3511161337906,
          469.3511161337906,
          469.3511161337906,
          469.3511161337906,
          469.3511161337906,
          469.3511161337906,
          469.3511161337906,
          469.3511161337906,
          469.3511161337906,
          469.3511161337906,
          469.3511161337906,
          469.3511161337906,
          469.3511161337906,
          469.3511161337906,
          469.3511161337906,
          469.3511161337906,
          469.3511161337906,
          469.3511161337906,
          469.3511161337906,
          469.3511161337906,
          469.3511161337906,
          469.3511161337906,
          469.3511161337906,
          469.3511161337906,
          469.3511161337906,
          469.3511161337906,
          469.3511161337906,
          469.3511161337906,
          469.3511161337906,
          469.3511161337906,
          469.3511161337906,
          469.3511161337906,
          469.3511161337906,
          469.3511161337906,
          469.3511161337906,
          469.3511161337906,
          469.3511161337906,
          469.3511161337906,
          469.3511161337906,
          469.3511161337906,
          469.3511161337906,
          469.3511161337906,
          469.3511161337906,
          469.3511161337906,
          469.3511161337906,
          469.3511161337906,
          469.3511161337906,
          469.3511161337906,
          469.3511161337906,
          469.3511161337906,
          469.3511161337906,
          469.3511161337906,
          469.3511161337906,
          469.3511161337906,
          469.3511161337906,
          469.3511161337906,
          469.3511161337906,
          469.3511161337906,
          469.3511161337906,
          469.3511161337906,
          469.3511161337906,
          469.3511161337906,
          469.3511161337906,
          469.3511161337906,
          469.3511161337906,
          469.3511161337906,
          469.3511161337906,
          469.3511161337906,
          469.3511161337906,
          469.3511161337906,
          469.3511161337906,
          469.3511161337906,
          469.3511161337906,
          469.3511161337906,
          469.3511161337906,
          469.3511161337906,
          469.3511161337906,
          469.3511161337906,
          469.3511161337906,
          469.3511161337906,
          469.3511161337906,
          469.3511161337906,
          469.3511161337906,
          469.3511161337906,
          469.3511161337906,
          469.3511161337906,
          469.3511161337906,
          469.3511161337906,
          469.3511161337906,
          469.3511161337906,
          469.3511161337906,
          469.3511161337906,
          469.3511161337906,
          469.3511161337906,
          469.3511161337906,
          469.3511161337906,
          469.3511161337906,
          469.3511161337906,
          469.3511161337906,
          469.3511161337906,
          469.3511161337906,
          469.3511161337906,
          469.3511161337906,
          469.3511161337906,
          469.3511161337906,
          469.3511161337906,
          469.3511161337906,
          469.3511161337906,
          469.3511161337906,
          469.3511161337906,
          469.3511161337906,
          469.3511161337906,
          469.3511161337906,
          469.3511161337906,
          469.3511161337906,
          469.3511161337906,
          469.3511161337906,
          469.3511161337906,
          469.3511161337906,
          469.3511161337906,
          469.3511161337906,
          469.3511161337906,
          469.3511161337906,
          469.3511161337906,
          469.3511161337906,
          469.3511161337906,
          469.3511161337906,
          469.3511161337906,
          469.3511161337906,
          469.3511161337906,
          469.3511161337906,
          469.3511161337906,
          469.3511161337906,
          469.3511161337906,
          469.3511161337906,
          469.3511161337906,
          469.3511161337906,
          469.3511161337906,
          469.3511161337906,
          469.3511161337906,
          469.3511161337906,
          469.3511161337906,
          469.35116162286323,
          469.35116162286323,
          469.35116162286323,
          469.35116162286323,
          469.35116162286323,
          469.35116162286323,
          469.35116162286323,
          469.35116162286323,
          469.35116162286323,
          469.35116162286323,
          469.35116162286323,
          469.3512071119358,
          469.3512071119358,
          469.3512071119358,
          469.35125260100847,
          469.3512980900811,
          469.3512980900811,
          469.3512980900811,
          469.3513435791537,
          469.3513435791537,
          469.3513435791537,
          469.35138906822635,
          469.35138906822635,
          469.351434557299,
          469.351434557299,
          469.351434557299,
          469.351434557299,
          469.3514800463716,
          469.3514800463716,
          469.35152553544424,
          469.35152553544424,
          469.35152553544424,
          469.35157102451683,
          469.3516165135895,
          469.3516165135895,
          469.3516620026621,
          469.3516620026621,
          469.3516620026621,
          469.3516620026621,
          469.3516620026621,
          469.3516620026621,
          469.3517074917347,
          469.35175298080736,
          469.35175298080736,
          469.35175298080736,
          469.35179846988,
          469.35179846988,
          469.3518439589526,
          469.3518439589526,
          469.35188944802525,
          469.35188944802525,
          469.35188944802525,
          469.35188944802525,
          469.3519349370979,
          469.3519349370979,
          469.3519349370979,
          469.3519804261705,
          469.3519804261705,
          469.3519804261705,
          469.3519804261705,
          469.3519804261705,
          469.35202591524313,
          469.35202591524313,
          469.35202591524313,
          469.3522078715336,
          469.35225336060626,
          469.35225336060626,
          469.35225336060626,
          469.3522988496789,
          469.3523443387515,
          469.3523443387515,
          469.3524808059694,
          469.3524808059694,
          469.352526295042,
          469.3526627622599,
          469.3526627622599,
          469.35270825133256,
          469.35275374040515,
          469.3527992294778,
          469.3529356966957,
          469.3529356966957,
          469.3530266748409,
          469.3530266748409,
          469.3530266748409,
          469.35307216391357,
          469.3531631420588,
          469.3531631420588,
          469.35325412020404,
          469.35334509834934,
          469.3533905874219,
          469.3534815655672,
          469.3534815655672,
          469.3534815655672,
          469.35357254371246,
          469.35361803278505,
          469.3536635218577,
          469.35375450000294,
          469.35393645629347,
          469.3539819453661,
          469.35407292351135,
          469.35407292351135,
          469.35407292351135,
          469.35407292351135,
          469.354118412584,
          469.354118412584,
          469.3541639016566,
          469.35425487980183,
          469.35425487980183,
          469.35425487980183,
          469.3543003688745,
          469.3543458579471,
          469.3543458579471,
          469.3543913470197,
          469.3543913470197,
          469.3545278142376,
          469.3545278142376,
          469.3545278142376,
          469.3545278142376,
          469.3546642814555,
          469.35470977052813,
          469.354846237746,
          469.354846237746,
          469.35489172681866,
          469.35507368310914,
          469.3551191721818,
          469.3554830847628,
          469.3554830847628,
          469.3556195519807,
          469.35566504105327,
          469.3557105301259,
          469.3557105301259,
          469.35575601919857,
          469.35580150827116,
          469.3558469973438,
          469.3560744427069,
          469.3561199317796,
          469.3561654208522,
          469.35625639899746,
          469.35630188807005,
          469.35630188807005,
          469.35630188807005,
          469.35630188807005,
          469.35643835528793,
          469.3565748225058,
          469.3567112897237,
          469.3568477569416,
          469.3569387350869,
          469.3570297132321,
          469.35712069137736,
          469.3572116695226,
          469.3572116695226,
          469.35725715859525,
          469.357530093031,
          469.35762107117625,
          469.3578485165394,
          469.3579394946847,
          469.35798498375726,
          469.35798498375726,
          469.35798498375726,
          469.3580304728299,
          469.35825791819303,
          469.35825791819303,
          469.35825791819303,
          469.35862183077404,
          469.3587582979919,
          469.3588037870646,
          469.3588037870646,
          469.3588947652098,
          469.35894025428246,
          469.3590312324277,
          469.3591676996456,
          469.35930416686347,
          469.35930416686347,
          469.3596680794445,
          469.35994101388025,
          469.3600319920255,
          469.360577860897,
          469.36066883904226,
          469.3607143281149,
          469.36112372976856,
          469.3612147079138,
          469.36130568605904,
          469.3613511751317,
          469.36139666420434,
          469.3614421532769,
          469.3614876423496,
          469.3615331314222,
          469.3615331314222,
          469.36162410956746,
          469.36198802214847,
          469.36212448936635,
          469.36212448936635,
          469.3622154675116,
          469.36262486916524,
          469.3626703582379,
          469.3632162271094,
          469.36348916154515,
          469.36348916154515,
          469.36348916154515,
          469.3637620959809,
          469.36385307412615,
          469.36398954134404,
          469.3640350304167,
          469.3640350304167,
          469.3641260085619,
          469.3646263883608,
          469.3652632353776,
          469.36530872445024,
          469.36567263703125,
          469.3657181261039,
          469.36603654961226,
          469.3660820386849,
          469.3663549731207,
          469.3664459512659,
          469.36649144033856,
          469.3665369294112,
          469.3665824184838,
          469.3665824184838,
          469.36662790755645,
          469.3670373092101,
          469.367173776428,
          469.3674012217911,
          469.3676741562269,
          469.36799257973524,
          469.3681745360258,
          469.36822002509837,
          469.368265514171,
          469.36831100324366,
          469.3684019813889,
          469.3684019813889,
          469.36881138304256,
          469.36885687211515,
          469.36885687211515,
          469.36885687211515,
          469.3690843174783,
          469.3690843174783,
          469.3691298065509,
          469.3691298065509,
          469.3691298065509,
          469.36931176284145,
          469.3694027409867,
          469.36944823005933,
          469.3694937191319,
          469.36967567542246,
          469.37003958800346,
          469.3701305661487,
          469.370221544294,
          469.3707674131655,
          469.3708583913108,
          469.3710858366739,
          469.37154072740014,
          469.3719501290538,
          469.37199561812645,
          469.37199561812645,
          469.37222306348957,
          469.3723140416348,
          469.3723140416348,
          469.37235953070746,
          469.37235953070746,
          469.37272344328846,
          469.3730873558695,
          469.37345126845054,
          469.3734967575231,
          469.37386067010414,
          469.373997137322,
          469.3741336045399,
          469.3741336045399,
          469.3741336045399,
          469.37417909361255,
          469.37431556083044,
          469.37481594062933,
          469.3748614297019,
          469.3748614297019,
          469.37490691877457,
          469.37504338599246,
          469.3750888750651,
          469.3756347439366,
          469.37568023300923,
          469.3760896346629,
          469.3761806128081,
          469.37636256909866,
          469.37640805817125,
          469.37640805817125,
          469.3764535472439,
          469.376680992607,
          469.376680992607,
          469.376680992607,
          469.37704490518803,
          469.3787734899479,
          469.3789099571658,
          469.37918289160154,
          469.37918289160154,
          469.379364847892,
          469.37954680418255,
          469.37968327140044,
          469.38054756378034,
          469.3810934326519,
          469.38141185616024,
          469.3814573452329,
          469.3819577250318,
          469.3821851703949,
          469.38223065946755,
          469.38273103926645,
          469.3833223972106,
          469.3834133753559,
          469.38395924422736,
          469.38409571144524,
          469.3842776677358,
          469.3844596240263,
          469.3848235366073,
          469.3848690256799,
          469.38505098197044,
          469.386324676004,
          469.38673407765765,
          469.38687054487553,
          469.3869615230208,
          469.3869615230208,
          469.38709799023866,
          469.38723445745654,
          469.38773483725544,
          469.38791679354597,
          469.3880532607638,
          469.38841717334486,
          469.3886901077806,
          469.38905402036164,
          469.38909950943423,
          469.38928146572476,
          469.38937244387,
          469.38955440016053,
          469.3896453783058,
          469.38978184552366,
          469.3903732034678,
          469.3905551597583,
          469.39078260512144,
          469.3914194521382,
          469.39146494121087,
          469.3919198319371,
          469.39246570080866,
          469.3926931461718,
          469.3928751024623,
          469.39360292762433,
          469.393648416697,
          469.394012329278,
          469.3956954249652,
          469.396332271982,
          469.39637776105457,
          469.3977424332334,
          469.3980608567418,
          469.3981518348871,
          469.3982428130323,
          469.3991071054122,
          469.39919808355745,
          469.3998804196469,
          469.40015335408265,
          469.402063895133,
          469.40220036235087,
          469.4022913404961,
          469.4022913404961,
          469.4026552530771,
          469.4029281875129,
          469.40333758916654,
          469.4049297067085,
          469.4052481302169,
          469.4054300865074,
          469.4071586712672,
          469.40738611663033,
          469.40756807292087,
          469.4079774745745,
          469.40820491993765,
          469.40820491993765,
          469.40943312489856,
          469.4097970374796,
          469.40993350469745,
          469.41002448284274,
          469.4107977970774,
          469.4113436659489,
          469.4131177397814,
          469.4131177397814,
          469.41320871792664,
          469.4139820321613,
          469.4144824119602,
          469.4148463245412,
          469.41621099672,
          469.4178940924072,
          469.41807604869774,
          469.41916778644077,
          469.41966816623966,
          469.4197136553123,
          469.41989561160284,
          469.42157870729005,
          469.4216696854353,
          469.42194261987106,
          469.4220335980163,
          469.42207908708895,
          469.4221700652342,
          469.42221555430683,
          469.4222610433794,
          469.42244299966995,
          469.42262495596043,
          469.42280691225096,
          469.423534737413,
          469.42367120463086,
          469.423898649994,
          469.4240806062845,
          469.42480843144654,
          469.4249448986644,
          469.4259456582622,
          469.426218592698,
          469.4263095708433,
          469.42635505991586,
          469.4264005489885,
          469.42699190693264,
          469.4276287539494,
          469.4276287539494,
          469.4277197320947,
          469.4280381556031,
          469.4287204916925,
          469.42903891520086,
          469.4308129890333,
          469.4310404343965,
          469.4310404343965,
          469.43172277048586,
          469.43208668306687,
          469.43208668306687,
          469.43222315028476,
          469.4324051065753,
          469.4334513552457,
          469.4334513552457,
          469.4334968443183,
          469.43354233339096,
          469.4343156476256,
          469.4344521148435,
          469.4360897214581,
          469.4369085247654,
          469.43722694827375,
          469.43768183900005,
          469.4380002625084,
          469.4385006423073,
          469.4387280876705,
          469.4390010221062,
          469.43941042375985,
          469.43950140190515,
          469.4404566724303,
          469.44273112606163,
          469.44491460154774,
          469.4485992164305,
          469.44891763993894,
          469.4491905743747,
          469.44941801973783,
          469.4508736700619,
          469.4511920935703,
          469.45296616740274,
          469.4530116564754,
          469.4559229571235,
          469.45660529321293,
          469.4573786074476,
          469.4591071922074,
          469.4597895282968,
          469.4597895282968,
          469.45988050644206,
          469.46010795180524,
          469.4602899080957,
          469.4606993097494,
          469.46206398192817,
          469.46270082894495,
          469.4633376759617,
          469.4638380557606,
          469.4638380557606,
          469.4647933262858,
          469.4652937060847,
          469.4656576186657,
          469.466112509392,
          469.4664309329004,
          469.466476421973,
          469.4669768017719,
          469.46734071435293,
          469.46770462693394,
          469.46770462693394,
          469.46770462693394,
          469.46793207229706,
          469.469160277258,
          469.4694332116938,
          469.47075239479994,
          469.47239000141457,
          469.47393662988384,
          469.4740730971017,
          469.47425505339226,
          469.47584717093423,
          469.47680244145937,
          469.47680244145937,
          469.4784855371466,
          469.4790768950907,
          469.48057803448745,
          469.4807599907779,
          469.481851728521,
          469.48217015202937,
          469.4823521083199,
          469.48244308646514,
          469.48326188977245,
          469.48367129142605,
          469.48380775864393,
          469.4839442258618,
          469.48485400731437,
          469.48530889804067,
          469.4866280811468,
          469.4867190592921,
          469.4870829718731,
          469.487583351672,
          469.48781079703514,
          469.48817470961615,
          469.48867508941504,
          469.4896758490129,
          469.489903294376,
          469.4904491632475,
          469.49094954304644,
          469.49336046389567,
          469.4946796470018,
          469.49486160329235,
          469.4957713847449,
          469.4964082317617,
          469.4966356771248,
          469.49668116619745,
          469.4974999695047,
          469.49786388208577,
          469.49804583837624,
          469.498682685393,
          469.50173045325903,
          469.50173045325903,
          469.50377746152725,
          469.5046417539072,
          469.5051876227787,
          469.50559702443235,
          469.5057789807229,
          469.50596093701336,
          469.5068252293933,
          469.50705267475644,
          469.5073710982648,
          469.5076895217732,
          469.50946359560567,
          469.50996397540456,
          469.51032788798557,
          469.5105553333487,
          469.51132864758335,
          469.51214745089067,
          469.5157410876282,
          469.5171967379523,
          469.5173786942428,
          469.5173786942428,
          469.51865238827634,
          469.5202445058183,
          469.52215504686865,
          469.52397460977375,
          469.52397460977375,
          469.52411107699163,
          469.52520281473466,
          469.52670395413134,
          469.52688591042187,
          469.52693139949446,
          469.5280686263102,
          469.5289329186901,
          469.52920585312586,
          469.5295242766342,
          469.5301156345784,
          469.53043405808677,
          469.53202617562874,
          469.53275400079076,
          469.5329814461539,
          469.5330724242991,
          469.5332998696623,
          469.5333453587349,
          469.53434611833273,
          469.53448258555056,
          469.53680252825455,
          469.537484864344,
          469.53775779877975,
          469.545536430199,
          469.5467191460873,
          469.5475834384672,
          469.5505857172606,
          469.55117707520475,
          469.55217783480254,
          469.5531785944003,
          469.5535425069814,
          469.5535425069814,
          469.55386093048975,
          469.55399739770763,
          469.55581696061273,
          469.5564538076295,
          469.55859179404297,
          469.558955706624,
          469.559319619205,
          469.55954706456816,
          469.5601384225123,
          469.5615940728364,
          469.5625493433615,
          469.5638230373951,
          469.5663704254622,
          469.5665978708254,
          469.5678260757863,
          469.56823547743994,
          469.56846292280306,
          469.57091933272494,
          469.5719200923227,
          469.5724204721216,
          469.57383063337306,
          469.57496786018874,
          469.5764689995854,
          469.57715133567484,
          469.5784250297084,
          469.57956225652407,
          469.58006263632296,
          469.58029008168614,
          469.58033557075873,
          469.58115437406605,
          469.5813363303565,
          469.58188219922806,
          469.58720442072547,
          469.58797773496013,
          469.5897518087926,
          469.59020669951883,
          469.59125294818926,
          469.5940277816195,
          469.5952104975078,
          469.596165768033,
          469.59689359319503,
          469.5990315796085,
          469.60126054416725,
          469.60130603323984,
          469.60130603323984,
          469.6013515223125,
          469.60344401965335,
          469.6043538011059,
          469.6044902683238,
          469.60603689679306,
          469.6062188530836,
          469.60662825473725,
          469.60771999248027,
          469.6077654815529,
          469.60799292691604,
          469.6097215116759,
          469.6098579788938,
          469.61040384776527,
          469.61067678220104,
          469.6113136292178,
          469.6119504762346,
          469.6132696593408,
          469.6134061265587,
          469.61358808284916,
          469.61367906099446,
          469.61386101728493,
          469.6147707987375,
          469.6165903616426,
          469.6215486705589,
          469.62191258313993,
          469.62191258313993,
          469.62209453943046,
          469.6223219847936,
          469.6227768755199,
          469.62405056955345,
          469.62405056955345,
          469.6241415476987,
          469.6243235039892,
          469.6291908347603,
          469.630691974157,
          469.6315562665369,
          469.6331483840789,
          469.63651457545325,
          469.63856158372147,
          469.64015370126344,
          469.64201875324113,
          469.64538494461556,
          469.64574885719657,
          469.646795105867,
          469.646795105867,
          469.646795105867,
          469.649478961152,
          469.6536184667611,
          469.6561658548282,
          469.657166614426,
          469.6597140024931,
          469.6615335653982,
          469.6616700326161,
          469.66926670774484,
          469.66953964218055,
          469.66953964218055,
          469.67004002197945,
          469.67304230077286,
          469.6730877898455,
          469.67436148387907,
          469.6748163746053,
          469.6800476179574,
          469.6800931070301,
          469.6830044076782,
          469.68355027654974,
          469.6850514159464,
          469.6865070662705,
          469.68805369473984,
          469.68909994341027,
          469.69010070300806,
          469.6901916811533,
          469.69169282055,
          469.69242064571205,
          469.6927390692204,
          469.6950590119244,
          469.6957868370864,
          469.69583232615906,
          469.69610526059483,
          469.69633270595796,
          469.6970150420474,
          469.70524856419286,
          469.7055669877013,
          469.7060218784275,
          469.7071591052432,
          469.70902415722094,
          469.7096610042377,
          469.71020687310926,
          469.71025236218185,
          469.7104343184724,
          469.7107982310534,
          469.7117989906512,
          469.7142099115004,
          469.71562007275185,
          469.71739414658435,
          469.7185313734,
          469.7195776220704,
          469.7195776220704,
          469.7203964253777,
          469.72071484888613,
          469.7207603379587,
          469.72317125880795,
          469.7238535948974,
          469.72667391740026,
          469.72717429719916,
          469.72731076441704,
          469.72853896937795,
          469.7304040213557,
          469.7337247236575,
          469.73586271007093,
          469.7375912948308,
          469.73872852164646,
          469.7399112375348,
          469.7430044944734,
          469.7444146557248,
          469.74609775141204,
          469.7466891093562,
          469.7501917679485,
          469.7552410550101,
          469.7556049675911,
          469.7575609977141,
          469.7604268092896,
          469.7605177874349,
          469.76147305796,
          469.76420240231766,
          469.7662948996585,
          469.7685693532899,
          469.76870582050776,
          469.76906973308877,
          469.7696156019603,
          469.77202652280954,
          469.7727088588989,
          469.77339119498833,
          469.77521075789343,
          469.77757618967,
          469.7800325995919,
          469.782216075078,
          469.78239803136853,
          469.7855367773798,
          469.7894033485531,
          469.7899947064972,
          469.7924056273465,
          469.806006860062,
          469.8068711524419,
          469.8074625103861,
          469.81055576732473,
          469.8111016361962,
          469.8114655487773,
          469.8151046745874,
          469.8155595653137,
          469.8176975517272,
          469.82215548084463,
          469.82775063677775,
          469.8292972652471,
          469.82993411226386,
          469.8301160685544,
          469.83075291557117,
          469.83107133907953,
          469.8345285085992,
          469.83602964799593,
          469.83748529831996,
          469.8383041016273,
          469.8385315469904,
          469.84089697876703,
          469.8421706728006,
          469.84430865921405,
          469.8492214790578,
          469.85149593268915,
          469.85149593268915,
          469.8534974518847,
          469.85358843003,
          469.8536339191026,
          469.8549531022088,
          469.8565452197507,
          469.8621858647565,
          469.86523363262256,
          469.86891824750535,
          469.8755596521089,
          469.87601454283515,
          469.88402061961756,
          469.886522518612,
          469.88802365800876,
          469.88866050502554,
          469.88916088482443,
          469.8899341990591,
          469.8914353384558,
          469.8956658222101,
          469.89698500531625,
          469.89698500531625,
          469.90612830891433,
          469.9077204264563,
          469.9079023827468,
          469.91013134730554,
          469.9107681943223,
          469.912269333719,
          469.91622688303755,
          469.918364869451,
          469.91950209626674,
          469.9218675280433,
          469.9220039952612,
          469.92241339691486,
          469.9238690472389,
          469.92459687240097,
          469.9260070336524,
          469.92791757470275,
          469.9317386568034,
          469.93678794386506,
          469.9412458729825,
          469.9424740779434,
          469.9424740779434,
          469.9424740779434,
          469.9446575534295,
          469.94497597693794,
          469.94738689778717,
          469.94888803718385,
          469.9493429279101,
          469.95257265206664,
          469.9570305811841,
          469.9618979119552,
          469.96412687651394,
          469.96435432187707,
          469.9664013301453,
          469.9678569804694,
          469.9689487182124,
          469.9700404559555,
          469.9717235516427,
          469.97286077845837,
          469.9732246910394,
          469.9734521364025,
          469.97909278140827,
          469.98373266681625,
          469.98759923798957,
          469.9879631505706,
          469.9885545085147,
          469.9905560277103,
          469.99082896214605,
          469.99815270283904,
          469.99897150614635,
          470.00438470578894,
          470.0058858451857,
          470.0058858451857,
          470.00702307200135,
          470.0089336130517,
          470.0090245911969,
          470.01070768688413,
          470.01143551204615,
          470.0129821405155,
          470.01789496035923,
          470.0205333265716,
          470.0295856520244,
          470.03031347718644,
          470.0329063543262,
          470.0334522231977,
          470.0334522231977,
          470.0334522231977,
          470.03367966856086,
          470.03436200465023,
          470.05542344527663,
          470.05601480322076,
          470.0576524098353,
          470.060745666774,
          470.0644757707294,
          470.0677964730312,
          470.0744833667074,
          470.0775311345734,
          470.07894129582485,
          470.08308080143394,
          470.0840360719591,
          470.0849458534116,
          470.0850823206295,
          470.0860375911547,
          470.08781166498716,
          470.0922695941046,
          470.09258801761297,
          470.0971369248757,
          470.0972733920936,
          470.0993658894344,
          470.1023226791552,
          470.103323438753,
          470.10523397980336,
          470.10523397980336,
          470.1085091930325,
          470.1097373979934,
          470.11114755924484,
          470.1130126112226,
          470.11551451021705,
          470.11733407312215,
          470.1179254310663,
          470.11988146118927,
          470.122110425748,
          470.1227927618374,
          470.124430368452,
          470.1283424286979,
          470.1296616118041,
          470.13088981676503,
          470.1330278031785,
          470.1361665491898,
          470.1378951339496,
          470.1392143170558,
          470.1407154564525,
          470.14476398391633,
          470.14667452496667,
          470.14917642396114,
          470.14967680376003,
          470.15449864545855,
          470.1551354924753,
          470.1577738586877,
          470.1588201073581,
          470.1605032030453,
          470.16373292720186,
          470.16828183446455,
          470.17451383741445,
          470.1791082337498,
          470.1817920890348,
          470.185067302264,
          470.185067302264,
          470.18620452907965,
          470.18715979960484,
          470.1891613188004,
          470.18938876416354,
          470.1972128846554,
          470.2017617919181,
          470.2023531498623,
          470.2027170624433,
          470.2154085137063,
          470.2154085137063,
          470.2154085137063,
          470.2273266507346,
          470.23815305001983,
          470.2435662496625,
          470.24888847115983,
          470.25239112975214,
          470.25775884032214,
          470.2587595999199,
          470.2590325343557,
          470.26517355916036,
          470.2663562750487,
          470.2681758379538,
          470.27604544751824,
          470.2774556087697,
          470.27909321538425,
          470.28200451603243,
          470.283642122647,
          470.2939226530607,
          470.2972888444351,
          470.3037937818208,
          470.30638665896055,
          470.3204427824023,
          470.3291311952741,
          470.33368010253685,
          470.3337255916095,
          470.3379105862912,
          470.34878247464906,
          470.3517392643698,
          470.3518757315877,
          470.3518757315877,
          470.35756186566607,
          470.3578802891745,
          470.36329348881713,
          470.36552245337583,
          470.37462026790126,
          470.3854466671865,
          470.3924064952985,
          470.4011403972429,
          470.40145882075126,
          470.40841864886323,
          470.410647613422,
          470.411011526003,
          470.4125126653997,
          470.41346793592487,
          470.41346793592487,
          470.4149235862489,
          470.4178803759697,
          470.421383034562,
          470.42374846633857,
          470.42802443916554,
          470.43580307058477,
          470.43762263348987,
          470.4383504586519,
          470.442853876842,
          470.4431723003504,
          470.4474482731773,
          470.4539077214904,
          470.46409727375885,
          470.46446118633986,
          470.4651435224293,
          470.467008574407,
          470.46778188864164,
          470.46860069194895,
          470.4710571018708,
          470.4718304161055,
          470.4721943286865,
          470.48675083192717,
          470.48834294946914,
          470.48834294946914,
          470.4914816954804,
          470.49471141963693,
          470.50603819872106,
          470.5124521579615,
          470.512634114252,
          470.5246887184982,
          470.5258259453139,
          470.52728159563793,
          470.52860077874413,
          470.5288737131799,
          470.53383202209625,
          470.53433240189514,
          470.53565158500135,
          470.5429298366217,
          470.54465842138154,
          470.55407465941533,
          470.57522707818697,
          470.5815045702095,
          470.60502242075773,
          470.6066145382997,
          470.6143021915737,
          470.6197153912163,
          470.62312707166336,
          470.6248101673505,
          470.6248101673505,
          470.6248101673505,
          470.6248101673505,
          470.62854027130595,
          470.63217939711615,
          470.6377290639767,
          470.6478731271725,
          470.6537412175414,
          470.66752440654744,
          470.67070864163134,
          470.68726666406764,
          470.6907693226599,
          470.69822953057076,
          470.71578831260484,
          470.71983684006864,
          470.72388536753243,
          470.7403979008961,
          470.76127738523195,
          470.7681917242713,
          470.77856323283027,
          470.785432082797,
          470.7879794708641,
          470.7916640857469,
          470.79671337280854,
          470.8062660780602,
          470.8067664578591,
          470.8077672174569,
          470.81054205088714,
          470.8119977012112,
          470.81258905915536,
          470.8127710154459,
          470.8150909581499,
          470.8179567697254,
          470.83096664449675,
          470.8334685434912,
          470.83537908454156,
          470.8461145056816,
          470.84989009870964,
          470.8522555304863,
          470.8550303639165,
          470.8741357744199,
          470.8762737608334,
          470.8773200095038,
          470.88141402604026,
          470.88364299059896,
          470.9025664448119,
          470.902793890175,
          470.90488638751583,
          470.91289246429824,
          470.9143481146223,
          470.9145300709128,
          470.91675903547156,
          470.92617527350535,
          470.928904617863,
          470.9295414648798,
          470.9458265528803,
          470.956470995875,
          470.97507602657953,
          470.9886317702224,
          470.98872274836765,
          470.9968198032953,
          471.0030063171726,
          471.0080101151616,
          471.0122405989159,
          471.01355978202207,
          471.01797222206693,
          471.0307091624025,
          471.0342118209948,
          471.0342118209948,
          471.03685018720716,
          471.04999652919645,
          471.0615052645711,
          471.0643710761466,
          471.0688290052641,
          471.0698297648619,
          471.07060307909654,
          471.08497762604674,
          471.090800227343,
          471.1142725888186,
          471.1196402993886,
          471.1342877807745,
          471.13860924267414,
          471.13970098041716,
          471.14570553800394,
          471.1457510270766,
          471.14606945058495,
          471.1524834098254,
          471.1559860684177,
          471.1634007872559,
          471.1704061044405,
          471.1765016401725,
          471.1797768534017,
          471.18091408021735,
          471.19178596857523,
          471.198154438743,
          471.210845890006,
          471.21225605125744,
          471.221945223727,
          471.22731293429706,
          471.24782850605186,
          471.25078529577263,
          471.2528777931135,
          471.2574267003762,
          471.2574267003762,
          471.2773964032595,
          471.2844017204441,
          471.2859028598408,
          471.28667617407547,
          471.29959507070157,
          471.300641319372,
          471.3071462567577,
          471.3071462567577,
          471.3071462567577,
          471.3141970630149,
          471.3182001014061,
          471.3205655331827,
          471.3207929785458,
          471.3397164327587,
          471.3474495751053,
          471.35054283204397,
          471.36277939258065,
          471.3755163329163,
          471.3890265874865,
          471.39812440201194,
          471.39812440201194,
          471.3983063583025,
          471.41177112380007,
          471.42696447405757,
          471.42919343861627,
          471.44770749117555,
          471.4482988491197,
          471.45512221001377,
          471.467540726841,
          471.46867795365665,
          471.4871465171433,
          471.4891025472662,
          471.4891025472662,
          471.4940608561826,
          471.4977454710654,
          471.5004293263504,
          471.5046598101047,
          471.5091632282948,
          471.5118470835798,
          471.5145764279374,
          471.51757870673083,
          471.5183975100381,
          471.5316348301726,
          471.55519816979347,
          471.5628403339948,
          471.5846295997832,
          471.58531193587265,
          471.58585780474414,
          471.58749541135876,
          471.5927266547109,
          471.601733491091,
          471.6105583711807,
          471.61578961453284,
          471.6165629287675,
          471.6214302595386,
          471.62556976514765,
          471.62556976514765,
          471.6346675796731,
          471.64080860447774,
          471.65272674150606,
          471.6903462045687,
          471.6923932128369,
          471.7423857036542,
          471.74839026124096,
          471.75275721221317,
          471.75293916850364,
          471.7549406876993,
          471.75926214959884,
          471.7620369830291,
          471.77118028662716,
          471.77886793990115,
          471.7878292872087,
          471.80752605565624,
          471.81262083179047,
          471.8264495098691,
          471.8270863568859,
          471.840733078674,
          471.8439173137579,
          471.84446318262945,
          471.85301512828335,
          471.8719840715689,
          471.9157445594362,
          471.9259796007773,
          471.9384890957498,
          471.9398537679286,
          472.00767797521564,
          472.0194596450261,
          472.03497141879194,
          472.04252260484805,
          472.0770033218994,
          472.07723076726256,
          472.08046049141905,
          472.08046049141905,
          472.08046049141905,
          472.08046049141905,
          472.0829169013409,
          472.09965688006776,
          472.10529752507347,
          472.10993741048145,
          472.12567662961044,
          472.13504737857164,
          472.13636656167785,
          472.1543802344382,
          472.1768973253886,
          472.1782619975674,
          472.1850853584615,
          472.18631356342246,
          472.2270262834237,
          472.25659418063134,
          472.2690581865312,
          472.2851613182412,
          472.28870946590615,
          472.2889369112693,
          472.29880804002937,
          472.3079058545548,
          472.3079058545548,
          472.3080878108453,
          472.32983158756105,
          472.35093851726003,
          472.3533949271819,
          472.35794383444465,
          472.36126453674643,
          472.36235627448946,
          472.3806883707582,
          472.41862625732927,
          472.4209462000332,
          472.4323639572626,
          472.4584746849506,
          472.4640698408838,
          472.4655254912078,
          472.4920911096221,
          472.5024626181811,
          472.5141533098462,
          472.5242973730421,
          472.5353512176905,
          472.5353512176905,
          472.5399001249532,
          472.55354684674137,
          472.5757455141834,
          472.6217804556821,
          472.6263293629448,
          472.6327433221852,
          472.6377926092468,
          472.6728646842423,
          472.67354702033174,
          472.68232641134875,
          472.6857380917958,
          472.6924704745446,
          472.69424454837707,
          472.6987024774946,
          472.70702697778535,
          472.7259504319982,
          472.74314530145125,
          472.75388072259125,
          472.7666631519995,
          472.78344861979895,
          472.8135623858781,
          472.8136078749507,
          472.82002183419115,
          472.8221598206046,
          472.85304690091846,
          472.85309238999105,
          472.86059808697456,
          472.869331988919,
          472.8816140385283,
          472.886162945791,
          472.89926379870764,
          472.91072704500965,
          472.9178688294121,
          472.93424489555787,
          472.93460880813893,
          472.9422054832676,
          472.94957471303326,
          472.95994622159225,
          472.9674519185757,
          473.00375219853214,
          473.0096202889011,
          473.015124466689,
          473.02185684943777,
          473.0311821093263,
          473.04382807151666,
          473.05165219200853,
          473.0586120201205,
          473.0587484873384,
          473.07808134320493,
          473.0903179037416,
          473.0903179037416,
          473.0971412646357,
          473.10710337154103,
          473.125526445955,
          473.12730051978747,
          473.1753824695544,
          473.1774749668952,
          473.1808866473423,
          473.2013567300245,
          473.21286546539915,
          473.2307426709416,
          473.25567068274125,
          473.2568533986296,
          473.2704546313451,
          473.2706820767082,
          473.27391180086477,
          473.2828731481723,
          473.3113947967095,
          473.3163985946985,
          473.32417722611774,
          473.33964351081096,
          473.41338129753956,
          473.43667170272465,
          473.44981804471394,
          473.483843871039,
          473.51805165365465,
          473.521053932448,
          473.56085687099676,
          473.56504186567844,
          473.57145582491887,
          473.57477652722065,
          473.6098940912888,
          473.61144071975815,
          473.61244147935594,
          473.61926484025,
          473.6448751881391,
          473.66388962049723,
          473.68640671144766,
          473.6959594166994,
          473.71688439010785,
          473.7199776470465,
          473.74358647574,
          473.7636016676959,
          473.820326541262,
          473.8830559724148,
          473.8831924396327,
          473.8881962376217,
          473.8961113362588,
          473.916581418941,
          473.93773383771264,
          473.9510621359924,
          473.9537459912774,
          473.9579764750317,
          473.99100154175903,
          473.9914564324853,
          474.0122449386759,
          474.048590707705,
          474.0653761755044,
          474.0885301134716,
          474.0956264088014,
          474.11041035740527,
          474.1445271618756,
          474.23209362668285,
          474.30464869752313,
          474.3419497370774,
          474.35909911745784,
          474.41091117118015,
          474.41341307017467,
          474.4674995775283,
          474.4780075533052,
          474.54969833176557,
          474.572579335297,
          474.59018360640374,
          474.6601912891769,
          474.678477896373,
          474.72792451831873,
          474.7544446476603,
          474.7569010575822,
          474.81044169606434,
          474.8382810085121,
          474.8505630581215,
          474.911745860805,
          474.91233721874914,
          474.9164312352856,
          474.9204342736768,
          474.9514123321359,
          474.96401280525356,
          474.9734290432874,
          475.0068635116683,
          475.05162475913346,
          475.0537172564743,
          475.0706391914916,
          475.08715172485523,
          475.16393727944984,
          475.1876370862886,
          475.21270156530613,
          475.21988883878123,
          475.22120802188743,
          475.2260298635859,
          475.2421329952959,
          475.2475916840112,
          475.26469557531897,
          475.2671064961682,
          475.27165540343094,
          475.299949606605,
          475.3047714483035,
          475.35567372057324,
          475.3620421907411,
          475.37209527579165,
          475.3811930903171,
          475.40207257465295,
          475.42668216294425,
          475.4288201493577,
          475.43009384339126,
          475.4670764594371,
          475.48458975239856,
          475.5050143460082,
          475.5193434038857,
          475.53180740978553,
          475.5354465355957,
          475.5536421646466,
          475.6217393063694,
          475.6286081563361,
          475.67359684916437,
          475.6775089094103,
          475.7079410989978,
          475.7088053913778,
          475.73778193064123,
          475.75333919347975,
          475.7840898065757,
          475.79659930154816,
          475.85696330092435,
          475.86610660452243,
          475.86756225484646,
          475.9200111555856,
          475.92228560921694,
          475.9470316647261,
          475.9579490421566,
          475.99165644497333,
          476.0495640344277,
          476.0821342104287,
          476.1661070384984,
          476.265955552915,
          476.2998449120222,
          476.34278659658224,
          476.37544775072854,
          476.39241517481844,
          476.4019223909975,
          476.4541893354461,
          476.489943746531,
          476.56318115346073,
          476.62436395614424,
          476.66575901223496,
          476.7287158887509,
          476.7374952797679,
          476.74099793836024,
          476.7635605183833,
          476.76583497201466,
          476.8208767498935,
          476.91858727789656,
          476.9243643901202,
          477.0610135642922,
          477.0842584804046,
          477.2250471601856,
          477.3021966273613,
          477.37202235384393,
          477.37443327469316,
          477.40268198879465,
          477.4572688759472,
          477.4663666904726,
          477.5064880525298,
          477.6200742668797,
          477.6277164310811,
          477.6355860406456,
          477.63854283036636,
          477.6437740737185,
          477.66333437494814,
          477.67561642455746,
          477.72401679783275,
          477.74712524672736,
          477.74717073579995,
          477.7540850748393,
          477.8174058639363,
          477.8652148792674,
          477.9062915118497,
          477.9076106949559,
          477.9394530457949,
          478.12477552767785,
          478.14670126068415,
          478.1523419056899,
          478.19996896473054,
          478.2055186315911,
          478.2917659132921,
          478.3170123486002,
          478.31714881581803,
          478.3287940184106,
          478.34976448089174,
          478.40548859485995,
          478.6308869497274,
          478.6452614966776,
          478.6763760223546,
          478.7675361238994,
          478.7843670807714,
          478.844685591075,
          478.93957579657524,
          478.9557699064305,
          479.03451149114807,
          479.07990958562993,
          479.24262399841723,
          479.32204791922425,
          479.3404255045656,
          479.3831397437625,
          479.4430033633398,
          479.46929604731827,
          479.61140391020547,
          479.6771356201517,
          479.69078234193984,
          479.7322683761758,
          479.74791661715955,
          479.81314794730685,
          479.8583185964256,
          480.0486903653702,
          480.07689359039904,
          480.0778488609242,
          480.09704524957283,
          480.1886147527713,
          480.2048998407718,
          480.20853896658195,
          480.2301917651525,
          480.2406087627841,
          480.26376270075133,
          480.4141950639293,
          480.4450366551705,
          480.5186834637538,
          480.55093521624644,
          480.5855524005157,
          480.6181680655894,
          480.673482777904,
          480.74380888418557,
          480.75922967980614,
          480.7694192320746,
          480.77260346715855,
          480.7841576916058,
          480.7911175197178,
          480.8790933861787,
          480.9553785609744,
          480.9944991634337,
          480.99604579190304,
          481.0276606973789,
          481.10753950891217,
          481.11217939432015,
          481.1182294409795,
          481.11872982077847,
          481.1571225980758,
          481.2198975183012,
          481.3231122240922,
          481.33680443495297,
          481.3650076599818,
          481.3768803079375,
          481.43751724174945,
          481.5234915890147,
          481.58767667049165,
          481.7104971665849,
          481.75193771174827,
          481.812847579996,
          481.87421233897,
          481.89240796802085,
          481.9657363530958,
          482.0025825019238,
          482.01354536842695,
          482.02596388525416,
          482.1579276849455,
          482.3578976482144,
          482.38664674211475,
          482.42162783896504,
          482.55204501018704,
          482.6864197307276,
          482.71143872067256,
          482.89002881980673,
          482.9114086839415,
          482.997837921933,
          482.997837921933,
          482.997837921933,
          483.0388690654427,
          483.08053705596916,
          483.12206857927777,
          483.1411739897812,
          483.39732295774456,
          483.4120159282032,
          483.4580508697018,
          483.5362920746205,
          483.57254686550436,
          483.64728541183075,
          483.74954484709656,
          483.77115215659444,
          483.80067456472943,
          483.92558755816356,
          483.9385064547897,
          484.050591529743,
          484.0561411966035,
          484.06683112867086,
          484.07856730940864,
          484.1710920831323,
          484.2606145780625,
          484.29036443156065,
          484.3625101007473,
          484.37206280599895,
          484.3795230139098,
          484.38730164532905,
          484.43301816331933,
          484.46049356318616,
          484.50052394709803,
          484.70772667291465,
          484.76986474612335,
          484.79010738344243,
          484.86775723041694,
          485.070274581753,
          485.0850130412842,
          485.29253419060916,
          485.4489256223013,
          485.46925923776564,
          485.49973691642583,
          485.72718227956153,
          485.7886380166808,
          485.95462764269723,
          486.03104928471083,
          486.15960140395515,
          486.18207300583293,
          486.18207300583293,
          486.3139913164516,
          486.3554773506876,
          486.3640292963415,
          486.40010213093484,
          486.40951836896863,
          486.6227256523721,
          486.63696373210433,
          486.68827540602774,
          486.8826047242909,
          486.90348420862676,
          486.94265030015873,
          486.9512022458126,
          487.1371615747124,
          487.23855671759827,
          487.25511474003457,
          487.2734468363033,
          487.5467451846472,
          487.5467451846472,
          487.5600279938543,
          487.63772332990146,
          487.6765255088524,
          487.8291413475165,
          487.9790733308955,
          488.0016359109186,
          488.23827006672497,
          488.27729969103905,
          488.3271557146384,
          488.38110575477424,
          488.47071922784966,
          488.5142977594265,
          488.82016628377136,
          488.8857160374271,
          489.36840058707367,
          489.3953756071416,
          489.5025478622511,
          489.78062256322085,
          489.9800921466909,
          489.980319592054,
          490.06520220157626,
          490.07571017735313,
          490.17637749507696,
          490.2260515623858,
          490.23114633852003,
          490.3491449929149,
          490.39604422679344,
          490.5307373708424,
          490.6039747777721,
          490.63099528691265,
          490.72320163712783,
          490.89756125250767,
          490.9088425425192,
          491.0262498389699,
          491.20520385068505,
          491.2084335748416,
          491.33430183880085,
          491.96409804932364,
          491.9705574976367,
          492.2005047597669,
          492.3854178399962,
          492.9044026695993,
          493.127208147327,
          493.4417650845437,
          493.48543459426577,
          493.7010527985184,
          493.7152453891781,
          493.7287101546757,
          493.7942144192588,
          493.9124860080894,
          493.974260168717,
          493.97680755678414,
          493.9881798249409,
          494.0028273063269,
          494.1471641337728,
          494.2162620350934,
          494.23040913668046,
          494.2831309718553,
          494.52135724520366,
          494.7267404081152,
          494.8460582456162,
          494.89859812450055,
          494.97724873107285,
          495.2414037758187,
          495.4618438217698,
          495.5442700213702,
          495.57556650333765,
          495.6256044832275,
          495.80201110687557,
          495.86869808734696,
          496.48216372079656,
          496.4928991419366,
          496.76515124161006,
          496.79321799942096,
          496.84157288362366,
          497.0016944192712,
          497.0389954588254,
          497.3591020629026,
          497.4769187610069,
          497.5439241649867,
          497.7980261246819,
          497.8167676226043,
          497.9382689355914,
          498.0345238132704,
          498.18395541685055,
          498.5381788253981,
          498.8688388943248,
          499.0248664134359,
          499.1436383820654,
          499.9591664761248,
          500.0346328476132,
          501.40540056215946,
          501.684476022727,
          501.74020013669525,
          501.9035059074267,
          501.9212921348239,
          502.0577593527053,
          502.08341518966705,
          502.73677473981064,
          503.06775323224576,
          504.04908899603106,
          504.85356324544205,
          505.2961719221041,
          505.3631773260839,
          506.24134387315087,
          506.4837096521083,
          506.57482426458046,
          506.70233013515434,
          506.9341879383349,
          507.83487157635227,
          507.83582684687747,
          507.91984516401976,
          509.0553433949385,
          509.28397147396254,
          510.19143298380135,
          510.2912814982179,
          510.59214622457387,
          510.7461722244893,
          510.7461722244893,
          510.97361758762503,
          511.35117689043034,
          511.42796244502495,
          511.6337550095901,
          511.75325480338165,
          512.1861288185015,
          512.2793814173872,
          513.3453723453316,
          514.1713629260952,
          514.6978989417544,
          514.7978839233888,
          514.8270424189428,
          515.2752917406107,
          515.434594472951,
          515.4877257097794,
          515.5378091787419,
          515.5898031887548,
          516.3373706083091,
          516.401328244423,
          516.4914420972973,
          516.8672273262702,
          516.8798732884604,
          516.9060295052211,
          517.3034675327644,
          517.3595100702411,
          517.5007081516757,
          517.5873648350304,
          517.5941427068518,
          517.7174180936714,
          518.1663952405013,
          518.2802998783596,
          518.3954782102516,
          518.3959785900505,
          518.3979346201735,
          519.9961476978555,
          520.3556023497551,
          520.4559057548979,
          521.0725556234315,
          521.2544664248675,
          521.5422302983068,
          521.8662489626298,
          521.9129662402179,
          522.1978188130091,
          522.5708292085517,
          522.6830052616501,
          523.6494660986864,
          523.710876346733,
          523.8705429916544,
          524.9587325870408,
          525.1011588734364,
          525.2051923825346,
          525.5160647048685,
          526.118567471815,
          526.8856951925991,
          527.252200650756,
          527.4591759312095,
          528.2036955828979,
          528.3477139868355,
          528.8345380420911,
          532.2140577147794,
          533.0391840031631,
          533.1994420060284,
          533.7190181935757,
          533.7807468651307,
          533.9547880570021,
          534.5269496125063,
          534.6897095143663,
          535.2829779995694,
          535.4394604094068,
          535.5685129084501,
          536.0426000233701,
          536.735080175973,
          538.2746578390387,
          539.219147453996,
          539.4502319429419,
          539.6217712358189,
          539.7649253473764,
          539.8408466095912,
          540.5504761425746,
          541.1927818480698,
          541.7690829091831,
          541.8712968553763,
          542.0868695705562,
          542.8303429735743,
          543.0896761766217,
          543.291784126304,
          544.5103908929125,
          544.614879292737,
          545.6099527564558,
          546.4982633667186,
          546.8063153665496,
          548.3843767850577,
          548.6581300241279,
          550.3034697810516,
          552.2832906890027,
          552.6967408701107,
          554.6618688076032,
          555.685009029133,
          556.6097108974975,
          557.3952162036229,
          558.850684571401,
          559.3005714996834,
          561.3451233579829,
          564.3344832547482,
          567.0411740542083,
          567.8994163874646,
          568.0814181670457,
          569.4907606151799,
          569.8882896208685,
          570.5018462324633,
          571.2828481203987,
          572.7450033818529,
          572.7712960658314,
          574.2369994749506,
          574.4142249019059,
          574.5670226968605,
          574.7492974108775,
          576.1025973215349,
          578.4020699428369,
          584.3790156625349,
          585.7629752081431,
          588.2165648075058,
          588.59012107192,
          589.1873471064416,
          589.918947861504,
          590.6073794866431,
          591.466895513933,
          593.8729035433278,
          599.4685143671924,
          601.9531275140869,
          606.9312696661107,
          607.8854939426103,
          607.9144249928012,
          610.4108652985786,
          612.9162214625911,
          613.7243348378123,
          615.4216231156762,
          621.4665749989517,
          624.1407411114835,
          631.1392804242419,
          635.6168153320041,
          636.3233061189761,
          637.1161351657946,
          638.17175458518,
          640.526496429724,
          643.3323534075114,
          644.5475484936728,
          645.9226831591914,
          646.4173313349388,
          647.3089171584309,
          649.342278704864,
          652.1171121351197,
          652.2676809655155,
          652.4636024013206,
          653.9083808370312,
          656.322212986918,
          658.8944835767649,
          661.561280459531,
          663.5166737354814,
          666.9016066078123,
          670.2611110885445,
          676.2172228129792,
          677.6728731370478,
          685.1028308146019,
          694.3213733387827,
          697.2993154783185,
          705.532610178468,
          707.9817873377859,
          707.9985273165127,
          711.2336646726824,
          713.6248887534733,
          715.8432543582811,
          719.6410915428485,
          719.7944806957473,
          723.6186105642931,
          724.2347600530278,
          739.6373145555053,
          743.5367743283217,
          743.6381239821351,
          751.3070812472722,
          765.4004602395405,
          766.5920919860811,
          768.8951582441207,
          770.7258204829274,
          775.9104375356058,
          776.5011131436693,
          780.2425893672516,
          785.726842941325,
          805.6009277939779,
          827.3943785770604,
          831.4107452665286,
          831.5904725924784,
          858.1623230096789,
          866.4668535975626,
          875.1500352259945,
          891.6716664041722,
          903.7717597229919,
          905.3001925632639,
          919.6929351424915,
          944.2219622861522,
          952.5446430140141,
          957.4716099593325,
          959.3639553806215,
          963.0622169852081,
          978.5118526778547,
          1002.483047323889,
          1003.8109643320205,
          1007.929408500464,
          1019.168257207234,
          1036.3617619881147,
          1045.5790763073344,
          1071.3971273020306,
          1076.8576810692653,
          1088.3369395248696,
          1100.7849332711417,
          1119.7248090392509,
          1120.9499662323178,
          1130.5301013948117,
          1229.6342781159892,
          1241.772809701179,
          1265.086095889807,
          1271.9936570573109,
          1310.9737892603798,
          1391.1189393138723,
          1426.2735314871443,
          1582.1866910696547,
          1582.9963965624179,
          1631.118786114872,
          1631.1997566641483,
          1635.1023096939034,
          1660.7736129403045,
          1700.5356113236887,
          1802.9238261541104,
          1952.2129124697292,
          1955.5855632924508,
          1974.439419224222,
          1984.6898813609494,
          2001.4413233340397,
          2008.6951473223817,
          2018.7043809069673,
          2042.0847179886475,
          2097.779582483197,
          2228.772736342816,
          2269.8051990356043,
          2575.5015927296827,
          3389.217993493554,
          4212.569480219652,
          4854.262083994023,
          4923.216148867003,
          5688.407991187325,
          5831.951989586425,
          34441.87138990102,
          34979.46343368406,
          35431.98640823616
         ],
         "yaxis": "y"
        }
       ],
       "layout": {
        "legend": {
         "tracegroupgap": 0
        },
        "margin": {
         "t": 60
        },
        "template": {
         "data": {
          "bar": [
           {
            "error_x": {
             "color": "#2a3f5f"
            },
            "error_y": {
             "color": "#2a3f5f"
            },
            "marker": {
             "line": {
              "color": "#E5ECF6",
              "width": 0.5
             }
            },
            "type": "bar"
           }
          ],
          "barpolar": [
           {
            "marker": {
             "line": {
              "color": "#E5ECF6",
              "width": 0.5
             }
            },
            "type": "barpolar"
           }
          ],
          "carpet": [
           {
            "aaxis": {
             "endlinecolor": "#2a3f5f",
             "gridcolor": "white",
             "linecolor": "white",
             "minorgridcolor": "white",
             "startlinecolor": "#2a3f5f"
            },
            "baxis": {
             "endlinecolor": "#2a3f5f",
             "gridcolor": "white",
             "linecolor": "white",
             "minorgridcolor": "white",
             "startlinecolor": "#2a3f5f"
            },
            "type": "carpet"
           }
          ],
          "choropleth": [
           {
            "colorbar": {
             "outlinewidth": 0,
             "ticks": ""
            },
            "type": "choropleth"
           }
          ],
          "contour": [
           {
            "colorbar": {
             "outlinewidth": 0,
             "ticks": ""
            },
            "colorscale": [
             [
              0,
              "#0d0887"
             ],
             [
              0.1111111111111111,
              "#46039f"
             ],
             [
              0.2222222222222222,
              "#7201a8"
             ],
             [
              0.3333333333333333,
              "#9c179e"
             ],
             [
              0.4444444444444444,
              "#bd3786"
             ],
             [
              0.5555555555555556,
              "#d8576b"
             ],
             [
              0.6666666666666666,
              "#ed7953"
             ],
             [
              0.7777777777777778,
              "#fb9f3a"
             ],
             [
              0.8888888888888888,
              "#fdca26"
             ],
             [
              1,
              "#f0f921"
             ]
            ],
            "type": "contour"
           }
          ],
          "contourcarpet": [
           {
            "colorbar": {
             "outlinewidth": 0,
             "ticks": ""
            },
            "type": "contourcarpet"
           }
          ],
          "heatmap": [
           {
            "colorbar": {
             "outlinewidth": 0,
             "ticks": ""
            },
            "colorscale": [
             [
              0,
              "#0d0887"
             ],
             [
              0.1111111111111111,
              "#46039f"
             ],
             [
              0.2222222222222222,
              "#7201a8"
             ],
             [
              0.3333333333333333,
              "#9c179e"
             ],
             [
              0.4444444444444444,
              "#bd3786"
             ],
             [
              0.5555555555555556,
              "#d8576b"
             ],
             [
              0.6666666666666666,
              "#ed7953"
             ],
             [
              0.7777777777777778,
              "#fb9f3a"
             ],
             [
              0.8888888888888888,
              "#fdca26"
             ],
             [
              1,
              "#f0f921"
             ]
            ],
            "type": "heatmap"
           }
          ],
          "heatmapgl": [
           {
            "colorbar": {
             "outlinewidth": 0,
             "ticks": ""
            },
            "colorscale": [
             [
              0,
              "#0d0887"
             ],
             [
              0.1111111111111111,
              "#46039f"
             ],
             [
              0.2222222222222222,
              "#7201a8"
             ],
             [
              0.3333333333333333,
              "#9c179e"
             ],
             [
              0.4444444444444444,
              "#bd3786"
             ],
             [
              0.5555555555555556,
              "#d8576b"
             ],
             [
              0.6666666666666666,
              "#ed7953"
             ],
             [
              0.7777777777777778,
              "#fb9f3a"
             ],
             [
              0.8888888888888888,
              "#fdca26"
             ],
             [
              1,
              "#f0f921"
             ]
            ],
            "type": "heatmapgl"
           }
          ],
          "histogram": [
           {
            "marker": {
             "colorbar": {
              "outlinewidth": 0,
              "ticks": ""
             }
            },
            "type": "histogram"
           }
          ],
          "histogram2d": [
           {
            "colorbar": {
             "outlinewidth": 0,
             "ticks": ""
            },
            "colorscale": [
             [
              0,
              "#0d0887"
             ],
             [
              0.1111111111111111,
              "#46039f"
             ],
             [
              0.2222222222222222,
              "#7201a8"
             ],
             [
              0.3333333333333333,
              "#9c179e"
             ],
             [
              0.4444444444444444,
              "#bd3786"
             ],
             [
              0.5555555555555556,
              "#d8576b"
             ],
             [
              0.6666666666666666,
              "#ed7953"
             ],
             [
              0.7777777777777778,
              "#fb9f3a"
             ],
             [
              0.8888888888888888,
              "#fdca26"
             ],
             [
              1,
              "#f0f921"
             ]
            ],
            "type": "histogram2d"
           }
          ],
          "histogram2dcontour": [
           {
            "colorbar": {
             "outlinewidth": 0,
             "ticks": ""
            },
            "colorscale": [
             [
              0,
              "#0d0887"
             ],
             [
              0.1111111111111111,
              "#46039f"
             ],
             [
              0.2222222222222222,
              "#7201a8"
             ],
             [
              0.3333333333333333,
              "#9c179e"
             ],
             [
              0.4444444444444444,
              "#bd3786"
             ],
             [
              0.5555555555555556,
              "#d8576b"
             ],
             [
              0.6666666666666666,
              "#ed7953"
             ],
             [
              0.7777777777777778,
              "#fb9f3a"
             ],
             [
              0.8888888888888888,
              "#fdca26"
             ],
             [
              1,
              "#f0f921"
             ]
            ],
            "type": "histogram2dcontour"
           }
          ],
          "mesh3d": [
           {
            "colorbar": {
             "outlinewidth": 0,
             "ticks": ""
            },
            "type": "mesh3d"
           }
          ],
          "parcoords": [
           {
            "line": {
             "colorbar": {
              "outlinewidth": 0,
              "ticks": ""
             }
            },
            "type": "parcoords"
           }
          ],
          "pie": [
           {
            "automargin": true,
            "type": "pie"
           }
          ],
          "scatter": [
           {
            "marker": {
             "colorbar": {
              "outlinewidth": 0,
              "ticks": ""
             }
            },
            "type": "scatter"
           }
          ],
          "scatter3d": [
           {
            "line": {
             "colorbar": {
              "outlinewidth": 0,
              "ticks": ""
             }
            },
            "marker": {
             "colorbar": {
              "outlinewidth": 0,
              "ticks": ""
             }
            },
            "type": "scatter3d"
           }
          ],
          "scattercarpet": [
           {
            "marker": {
             "colorbar": {
              "outlinewidth": 0,
              "ticks": ""
             }
            },
            "type": "scattercarpet"
           }
          ],
          "scattergeo": [
           {
            "marker": {
             "colorbar": {
              "outlinewidth": 0,
              "ticks": ""
             }
            },
            "type": "scattergeo"
           }
          ],
          "scattergl": [
           {
            "marker": {
             "colorbar": {
              "outlinewidth": 0,
              "ticks": ""
             }
            },
            "type": "scattergl"
           }
          ],
          "scattermapbox": [
           {
            "marker": {
             "colorbar": {
              "outlinewidth": 0,
              "ticks": ""
             }
            },
            "type": "scattermapbox"
           }
          ],
          "scatterpolar": [
           {
            "marker": {
             "colorbar": {
              "outlinewidth": 0,
              "ticks": ""
             }
            },
            "type": "scatterpolar"
           }
          ],
          "scatterpolargl": [
           {
            "marker": {
             "colorbar": {
              "outlinewidth": 0,
              "ticks": ""
             }
            },
            "type": "scatterpolargl"
           }
          ],
          "scatterternary": [
           {
            "marker": {
             "colorbar": {
              "outlinewidth": 0,
              "ticks": ""
             }
            },
            "type": "scatterternary"
           }
          ],
          "surface": [
           {
            "colorbar": {
             "outlinewidth": 0,
             "ticks": ""
            },
            "colorscale": [
             [
              0,
              "#0d0887"
             ],
             [
              0.1111111111111111,
              "#46039f"
             ],
             [
              0.2222222222222222,
              "#7201a8"
             ],
             [
              0.3333333333333333,
              "#9c179e"
             ],
             [
              0.4444444444444444,
              "#bd3786"
             ],
             [
              0.5555555555555556,
              "#d8576b"
             ],
             [
              0.6666666666666666,
              "#ed7953"
             ],
             [
              0.7777777777777778,
              "#fb9f3a"
             ],
             [
              0.8888888888888888,
              "#fdca26"
             ],
             [
              1,
              "#f0f921"
             ]
            ],
            "type": "surface"
           }
          ],
          "table": [
           {
            "cells": {
             "fill": {
              "color": "#EBF0F8"
             },
             "line": {
              "color": "white"
             }
            },
            "header": {
             "fill": {
              "color": "#C8D4E3"
             },
             "line": {
              "color": "white"
             }
            },
            "type": "table"
           }
          ]
         },
         "layout": {
          "annotationdefaults": {
           "arrowcolor": "#2a3f5f",
           "arrowhead": 0,
           "arrowwidth": 1
          },
          "autotypenumbers": "strict",
          "coloraxis": {
           "colorbar": {
            "outlinewidth": 0,
            "ticks": ""
           }
          },
          "colorscale": {
           "diverging": [
            [
             0,
             "#8e0152"
            ],
            [
             0.1,
             "#c51b7d"
            ],
            [
             0.2,
             "#de77ae"
            ],
            [
             0.3,
             "#f1b6da"
            ],
            [
             0.4,
             "#fde0ef"
            ],
            [
             0.5,
             "#f7f7f7"
            ],
            [
             0.6,
             "#e6f5d0"
            ],
            [
             0.7,
             "#b8e186"
            ],
            [
             0.8,
             "#7fbc41"
            ],
            [
             0.9,
             "#4d9221"
            ],
            [
             1,
             "#276419"
            ]
           ],
           "sequential": [
            [
             0,
             "#0d0887"
            ],
            [
             0.1111111111111111,
             "#46039f"
            ],
            [
             0.2222222222222222,
             "#7201a8"
            ],
            [
             0.3333333333333333,
             "#9c179e"
            ],
            [
             0.4444444444444444,
             "#bd3786"
            ],
            [
             0.5555555555555556,
             "#d8576b"
            ],
            [
             0.6666666666666666,
             "#ed7953"
            ],
            [
             0.7777777777777778,
             "#fb9f3a"
            ],
            [
             0.8888888888888888,
             "#fdca26"
            ],
            [
             1,
             "#f0f921"
            ]
           ],
           "sequentialminus": [
            [
             0,
             "#0d0887"
            ],
            [
             0.1111111111111111,
             "#46039f"
            ],
            [
             0.2222222222222222,
             "#7201a8"
            ],
            [
             0.3333333333333333,
             "#9c179e"
            ],
            [
             0.4444444444444444,
             "#bd3786"
            ],
            [
             0.5555555555555556,
             "#d8576b"
            ],
            [
             0.6666666666666666,
             "#ed7953"
            ],
            [
             0.7777777777777778,
             "#fb9f3a"
            ],
            [
             0.8888888888888888,
             "#fdca26"
            ],
            [
             1,
             "#f0f921"
            ]
           ]
          },
          "colorway": [
           "#636efa",
           "#EF553B",
           "#00cc96",
           "#ab63fa",
           "#FFA15A",
           "#19d3f3",
           "#FF6692",
           "#B6E880",
           "#FF97FF",
           "#FECB52"
          ],
          "font": {
           "color": "#2a3f5f"
          },
          "geo": {
           "bgcolor": "white",
           "lakecolor": "white",
           "landcolor": "#E5ECF6",
           "showlakes": true,
           "showland": true,
           "subunitcolor": "white"
          },
          "hoverlabel": {
           "align": "left"
          },
          "hovermode": "closest",
          "mapbox": {
           "style": "light"
          },
          "paper_bgcolor": "white",
          "plot_bgcolor": "#E5ECF6",
          "polar": {
           "angularaxis": {
            "gridcolor": "white",
            "linecolor": "white",
            "ticks": ""
           },
           "bgcolor": "#E5ECF6",
           "radialaxis": {
            "gridcolor": "white",
            "linecolor": "white",
            "ticks": ""
           }
          },
          "scene": {
           "xaxis": {
            "backgroundcolor": "#E5ECF6",
            "gridcolor": "white",
            "gridwidth": 2,
            "linecolor": "white",
            "showbackground": true,
            "ticks": "",
            "zerolinecolor": "white"
           },
           "yaxis": {
            "backgroundcolor": "#E5ECF6",
            "gridcolor": "white",
            "gridwidth": 2,
            "linecolor": "white",
            "showbackground": true,
            "ticks": "",
            "zerolinecolor": "white"
           },
           "zaxis": {
            "backgroundcolor": "#E5ECF6",
            "gridcolor": "white",
            "gridwidth": 2,
            "linecolor": "white",
            "showbackground": true,
            "ticks": "",
            "zerolinecolor": "white"
           }
          },
          "shapedefaults": {
           "line": {
            "color": "#2a3f5f"
           }
          },
          "ternary": {
           "aaxis": {
            "gridcolor": "white",
            "linecolor": "white",
            "ticks": ""
           },
           "baxis": {
            "gridcolor": "white",
            "linecolor": "white",
            "ticks": ""
           },
           "bgcolor": "#E5ECF6",
           "caxis": {
            "gridcolor": "white",
            "linecolor": "white",
            "ticks": ""
           }
          },
          "title": {
           "x": 0.05
          },
          "xaxis": {
           "automargin": true,
           "gridcolor": "white",
           "linecolor": "white",
           "ticks": "",
           "title": {
            "standoff": 15
           },
           "zerolinecolor": "white",
           "zerolinewidth": 2
          },
          "yaxis": {
           "automargin": true,
           "gridcolor": "white",
           "linecolor": "white",
           "ticks": "",
           "title": {
            "standoff": 15
           },
           "zerolinecolor": "white",
           "zerolinewidth": 2
          }
         }
        },
        "xaxis": {
         "anchor": "y",
         "domain": [
          0,
          1
         ],
         "title": {
          "text": "baseline"
         }
        },
        "yaxis": {
         "anchor": "x",
         "domain": [
          0,
          1
         ],
         "title": {
          "text": "computation"
         }
        }
       }
      }
     },
     "metadata": {}
    }
   ],
   "source": [
    "plot_diagnostic(BE2_models['TCLDi_model'], X, y_true, 'FPi', hover_data=['Item'])"
   ]
  },
  {
   "cell_type": "code",
   "execution_count": 12,
   "metadata": {
    "ExecuteTime": {
     "end_time": "2021-04-14T01:16:32.125353Z",
     "start_time": "2021-04-14T01:16:32.082280Z"
    }
   },
   "outputs": [
    {
     "output_type": "stream",
     "name": "stdout",
     "text": [
      "IL\nFL\n"
     ]
    },
    {
     "output_type": "execute_result",
     "data": {
      "text/plain": [
       "    r2  correlation  rmse Variable\n",
       "0  1.0          1.0   0.0       IL\n",
       "1  1.0          1.0   0.0       FL"
      ],
      "text/html": "<div>\n<style scoped>\n    .dataframe tbody tr th:only-of-type {\n        vertical-align: middle;\n    }\n\n    .dataframe tbody tr th {\n        vertical-align: top;\n    }\n\n    .dataframe thead th {\n        text-align: right;\n    }\n</style>\n<table border=\"1\" class=\"dataframe\">\n  <thead>\n    <tr style=\"text-align: right;\">\n      <th></th>\n      <th>r2</th>\n      <th>correlation</th>\n      <th>rmse</th>\n      <th>Variable</th>\n    </tr>\n  </thead>\n  <tbody>\n    <tr>\n      <th>0</th>\n      <td>1.0</td>\n      <td>1.0</td>\n      <td>0.0</td>\n      <td>IL</td>\n    </tr>\n    <tr>\n      <th>1</th>\n      <td>1.0</td>\n      <td>1.0</td>\n      <td>0.0</td>\n      <td>FL</td>\n    </tr>\n  </tbody>\n</table>\n</div>"
     },
     "metadata": {},
     "execution_count": 12
    }
   ],
   "source": [
    "X, y_true = get_X_y_from_data(BE2_models['IL_FL_model'], ISO_data_dict)\n",
    "\n",
    "score_model(BE2_models['IL_FL_model'], X, y_true)\n"
   ]
  },
  {
   "cell_type": "code",
   "execution_count": 13,
   "metadata": {
    "ExecuteTime": {
     "end_time": "2021-04-14T01:16:32.766917Z",
     "start_time": "2021-04-14T01:16:32.233653Z"
    }
   },
   "outputs": [
    {
     "output_type": "stream",
     "name": "stdout",
     "text": [
      "FL\nIL\nCL\nTCLDi\nFPi\n"
     ]
    },
    {
     "output_type": "execute_result",
     "data": {
      "text/plain": [
       "         r2  correlation          rmse Variable\n",
       "0  0.996999     0.999990  8.038138e+07       FL\n",
       "1 -5.329825     0.835806  4.779927e+05       IL\n",
       "2  0.797699     0.995561  8.088528e+07       CL\n",
       "3  0.221387     0.484529  8.646844e+12    TCLDi\n",
       "4  0.044052     0.211686  4.089113e+08      FPi"
      ],
      "text/html": "<div>\n<style scoped>\n    .dataframe tbody tr th:only-of-type {\n        vertical-align: middle;\n    }\n\n    .dataframe tbody tr th {\n        vertical-align: top;\n    }\n\n    .dataframe thead th {\n        text-align: right;\n    }\n</style>\n<table border=\"1\" class=\"dataframe\">\n  <thead>\n    <tr style=\"text-align: right;\">\n      <th></th>\n      <th>r2</th>\n      <th>correlation</th>\n      <th>rmse</th>\n      <th>Variable</th>\n    </tr>\n  </thead>\n  <tbody>\n    <tr>\n      <th>0</th>\n      <td>0.996999</td>\n      <td>0.999990</td>\n      <td>8.038138e+07</td>\n      <td>FL</td>\n    </tr>\n    <tr>\n      <th>1</th>\n      <td>-5.329825</td>\n      <td>0.835806</td>\n      <td>4.779927e+05</td>\n      <td>IL</td>\n    </tr>\n    <tr>\n      <th>2</th>\n      <td>0.797699</td>\n      <td>0.995561</td>\n      <td>8.088528e+07</td>\n      <td>CL</td>\n    </tr>\n    <tr>\n      <th>3</th>\n      <td>0.221387</td>\n      <td>0.484529</td>\n      <td>8.646844e+12</td>\n      <td>TCLDi</td>\n    </tr>\n    <tr>\n      <th>4</th>\n      <td>0.044052</td>\n      <td>0.211686</td>\n      <td>4.089113e+08</td>\n      <td>FPi</td>\n    </tr>\n  </tbody>\n</table>\n</div>"
     },
     "metadata": {},
     "execution_count": 13
    }
   ],
   "source": [
    "X, y_true = get_X_y_from_data(BE2_models['BE2_model'], ISO_data_dict)\n",
    "res = BE2_models['BE2_model'].run(X)\n",
    "score_model(BE2_models['BE2_model'], X, y_true)"
   ]
  },
  {
   "cell_type": "code",
   "execution_count": 14,
   "metadata": {
    "ExecuteTime": {
     "end_time": "2021-04-14T01:16:33.155291Z",
     "start_time": "2021-04-14T01:16:32.893532Z"
    }
   },
   "outputs": [
    {
     "output_type": "display_data",
     "data": {
      "application/vnd.plotly.v1+json": {
       "config": {
        "plotlyServerURL": "https://plot.ly"
       },
       "data": [
        {
         "customdata": [
          [
           "BEL"
          ],
          [
           "BEL"
          ],
          [
           "BEL"
          ],
          [
           "BRA"
          ],
          [
           "BRA"
          ],
          [
           "BRA"
          ],
          [
           "CHE"
          ],
          [
           "CHE"
          ],
          [
           "CHE"
          ],
          [
           "DEU"
          ],
          [
           "DEU"
          ],
          [
           "DEU"
          ],
          [
           "FRA"
          ],
          [
           "FRA"
          ],
          [
           "FRA"
          ],
          [
           "HUN"
          ],
          [
           "HUN"
          ],
          [
           "HUN"
          ],
          [
           "NLD"
          ],
          [
           "NLD"
          ],
          [
           "NLD"
          ],
          [
           "SEN"
          ],
          [
           "SEN"
          ],
          [
           "SEN"
          ]
         ],
         "hovertemplate": "baseline=%{x}<br>computation=%{y}<br>ISO=%{customdata[0]}<extra></extra>",
         "legendgroup": "",
         "marker": {
          "color": "#636efa",
          "symbol": "circle"
         },
         "mode": "markers",
         "name": "",
         "orientation": "v",
         "showlegend": false,
         "type": "scatter",
         "x": [
          872.4,
          859,
          874,
          63253,
          63517.8,
          63518,
          423.7433,
          423.0885,
          423.3604,
          11962,
          11971,
          11930,
          19348.036,
          19463.775,
          19132.2,
          4499,
          4499,
          4497,
          1066,
          1075,
          1059,
          3278,
          3278,
          3278
         ],
         "xaxis": "x",
         "y": [
          814.1624467398876,
          803.4126614080535,
          771.4337496122422,
          86326.16692014138,
          89741.55697215631,
          90124.63361123927,
          344.16544612412446,
          349.0037010159379,
          350.54071238239374,
          12202.583551421349,
          12200.43045085052,
          11922.329703947195,
          19488.962566920705,
          19238.998226295782,
          18881.388597160072,
          5404.247651505924,
          5340.744896870038,
          5102.302822376637,
          730.3028799667352,
          744.3589947486067,
          789.1122815026428,
          1491.8201169577194,
          750.7317950815957,
          2167.8474823258825
         ],
         "yaxis": "y"
        },
        {
         "hovertemplate": "<b>OLS trendline</b><br>computation = 1.40306 * baseline + -2299.28<br>R<sup>2</sup>=0.991142<br><br>baseline=%{x}<br>computation=%{y} <b>(trend)</b><extra></extra>",
         "legendgroup": "",
         "marker": {
          "color": "#636efa",
          "symbol": "circle"
         },
         "mode": "lines",
         "name": "",
         "showlegend": false,
         "type": "scatter",
         "x": [
          423.0885,
          423.3604,
          423.7433,
          859,
          872.4,
          874,
          1059,
          1066,
          1075,
          3278,
          3278,
          3278,
          4497,
          4499,
          4499,
          11930,
          11962,
          11971,
          19132.2,
          19348.036,
          19463.775,
          63253,
          63517.8,
          63518
         ],
         "xaxis": "x",
         "y": [
          -1705.6577890301396,
          -1705.2762961811045,
          -1704.7390633311766,
          -1094.0464611076566,
          -1075.2454159547729,
          -1073.0005150409957,
          -813.4338468855112,
          -803.6124053877363,
          -790.9848377477397,
          2299.963107909189,
          2299.963107909189,
          2299.963107909189,
          4010.296991593165,
          4013.1031177353857,
          4013.1031177353857,
          14439.26479915919,
          14484.162817434733,
          14496.79038507473,
          24544.405649912864,
          24847.23717092912,
          25009.626287716404,
          86448.67079777498,
          86820.2018990051,
          86820.48251161931
         ],
         "yaxis": "y"
        }
       ],
       "layout": {
        "legend": {
         "tracegroupgap": 0
        },
        "margin": {
         "t": 60
        },
        "template": {
         "data": {
          "bar": [
           {
            "error_x": {
             "color": "#2a3f5f"
            },
            "error_y": {
             "color": "#2a3f5f"
            },
            "marker": {
             "line": {
              "color": "#E5ECF6",
              "width": 0.5
             }
            },
            "type": "bar"
           }
          ],
          "barpolar": [
           {
            "marker": {
             "line": {
              "color": "#E5ECF6",
              "width": 0.5
             }
            },
            "type": "barpolar"
           }
          ],
          "carpet": [
           {
            "aaxis": {
             "endlinecolor": "#2a3f5f",
             "gridcolor": "white",
             "linecolor": "white",
             "minorgridcolor": "white",
             "startlinecolor": "#2a3f5f"
            },
            "baxis": {
             "endlinecolor": "#2a3f5f",
             "gridcolor": "white",
             "linecolor": "white",
             "minorgridcolor": "white",
             "startlinecolor": "#2a3f5f"
            },
            "type": "carpet"
           }
          ],
          "choropleth": [
           {
            "colorbar": {
             "outlinewidth": 0,
             "ticks": ""
            },
            "type": "choropleth"
           }
          ],
          "contour": [
           {
            "colorbar": {
             "outlinewidth": 0,
             "ticks": ""
            },
            "colorscale": [
             [
              0,
              "#0d0887"
             ],
             [
              0.1111111111111111,
              "#46039f"
             ],
             [
              0.2222222222222222,
              "#7201a8"
             ],
             [
              0.3333333333333333,
              "#9c179e"
             ],
             [
              0.4444444444444444,
              "#bd3786"
             ],
             [
              0.5555555555555556,
              "#d8576b"
             ],
             [
              0.6666666666666666,
              "#ed7953"
             ],
             [
              0.7777777777777778,
              "#fb9f3a"
             ],
             [
              0.8888888888888888,
              "#fdca26"
             ],
             [
              1,
              "#f0f921"
             ]
            ],
            "type": "contour"
           }
          ],
          "contourcarpet": [
           {
            "colorbar": {
             "outlinewidth": 0,
             "ticks": ""
            },
            "type": "contourcarpet"
           }
          ],
          "heatmap": [
           {
            "colorbar": {
             "outlinewidth": 0,
             "ticks": ""
            },
            "colorscale": [
             [
              0,
              "#0d0887"
             ],
             [
              0.1111111111111111,
              "#46039f"
             ],
             [
              0.2222222222222222,
              "#7201a8"
             ],
             [
              0.3333333333333333,
              "#9c179e"
             ],
             [
              0.4444444444444444,
              "#bd3786"
             ],
             [
              0.5555555555555556,
              "#d8576b"
             ],
             [
              0.6666666666666666,
              "#ed7953"
             ],
             [
              0.7777777777777778,
              "#fb9f3a"
             ],
             [
              0.8888888888888888,
              "#fdca26"
             ],
             [
              1,
              "#f0f921"
             ]
            ],
            "type": "heatmap"
           }
          ],
          "heatmapgl": [
           {
            "colorbar": {
             "outlinewidth": 0,
             "ticks": ""
            },
            "colorscale": [
             [
              0,
              "#0d0887"
             ],
             [
              0.1111111111111111,
              "#46039f"
             ],
             [
              0.2222222222222222,
              "#7201a8"
             ],
             [
              0.3333333333333333,
              "#9c179e"
             ],
             [
              0.4444444444444444,
              "#bd3786"
             ],
             [
              0.5555555555555556,
              "#d8576b"
             ],
             [
              0.6666666666666666,
              "#ed7953"
             ],
             [
              0.7777777777777778,
              "#fb9f3a"
             ],
             [
              0.8888888888888888,
              "#fdca26"
             ],
             [
              1,
              "#f0f921"
             ]
            ],
            "type": "heatmapgl"
           }
          ],
          "histogram": [
           {
            "marker": {
             "colorbar": {
              "outlinewidth": 0,
              "ticks": ""
             }
            },
            "type": "histogram"
           }
          ],
          "histogram2d": [
           {
            "colorbar": {
             "outlinewidth": 0,
             "ticks": ""
            },
            "colorscale": [
             [
              0,
              "#0d0887"
             ],
             [
              0.1111111111111111,
              "#46039f"
             ],
             [
              0.2222222222222222,
              "#7201a8"
             ],
             [
              0.3333333333333333,
              "#9c179e"
             ],
             [
              0.4444444444444444,
              "#bd3786"
             ],
             [
              0.5555555555555556,
              "#d8576b"
             ],
             [
              0.6666666666666666,
              "#ed7953"
             ],
             [
              0.7777777777777778,
              "#fb9f3a"
             ],
             [
              0.8888888888888888,
              "#fdca26"
             ],
             [
              1,
              "#f0f921"
             ]
            ],
            "type": "histogram2d"
           }
          ],
          "histogram2dcontour": [
           {
            "colorbar": {
             "outlinewidth": 0,
             "ticks": ""
            },
            "colorscale": [
             [
              0,
              "#0d0887"
             ],
             [
              0.1111111111111111,
              "#46039f"
             ],
             [
              0.2222222222222222,
              "#7201a8"
             ],
             [
              0.3333333333333333,
              "#9c179e"
             ],
             [
              0.4444444444444444,
              "#bd3786"
             ],
             [
              0.5555555555555556,
              "#d8576b"
             ],
             [
              0.6666666666666666,
              "#ed7953"
             ],
             [
              0.7777777777777778,
              "#fb9f3a"
             ],
             [
              0.8888888888888888,
              "#fdca26"
             ],
             [
              1,
              "#f0f921"
             ]
            ],
            "type": "histogram2dcontour"
           }
          ],
          "mesh3d": [
           {
            "colorbar": {
             "outlinewidth": 0,
             "ticks": ""
            },
            "type": "mesh3d"
           }
          ],
          "parcoords": [
           {
            "line": {
             "colorbar": {
              "outlinewidth": 0,
              "ticks": ""
             }
            },
            "type": "parcoords"
           }
          ],
          "pie": [
           {
            "automargin": true,
            "type": "pie"
           }
          ],
          "scatter": [
           {
            "marker": {
             "colorbar": {
              "outlinewidth": 0,
              "ticks": ""
             }
            },
            "type": "scatter"
           }
          ],
          "scatter3d": [
           {
            "line": {
             "colorbar": {
              "outlinewidth": 0,
              "ticks": ""
             }
            },
            "marker": {
             "colorbar": {
              "outlinewidth": 0,
              "ticks": ""
             }
            },
            "type": "scatter3d"
           }
          ],
          "scattercarpet": [
           {
            "marker": {
             "colorbar": {
              "outlinewidth": 0,
              "ticks": ""
             }
            },
            "type": "scattercarpet"
           }
          ],
          "scattergeo": [
           {
            "marker": {
             "colorbar": {
              "outlinewidth": 0,
              "ticks": ""
             }
            },
            "type": "scattergeo"
           }
          ],
          "scattergl": [
           {
            "marker": {
             "colorbar": {
              "outlinewidth": 0,
              "ticks": ""
             }
            },
            "type": "scattergl"
           }
          ],
          "scattermapbox": [
           {
            "marker": {
             "colorbar": {
              "outlinewidth": 0,
              "ticks": ""
             }
            },
            "type": "scattermapbox"
           }
          ],
          "scatterpolar": [
           {
            "marker": {
             "colorbar": {
              "outlinewidth": 0,
              "ticks": ""
             }
            },
            "type": "scatterpolar"
           }
          ],
          "scatterpolargl": [
           {
            "marker": {
             "colorbar": {
              "outlinewidth": 0,
              "ticks": ""
             }
            },
            "type": "scatterpolargl"
           }
          ],
          "scatterternary": [
           {
            "marker": {
             "colorbar": {
              "outlinewidth": 0,
              "ticks": ""
             }
            },
            "type": "scatterternary"
           }
          ],
          "surface": [
           {
            "colorbar": {
             "outlinewidth": 0,
             "ticks": ""
            },
            "colorscale": [
             [
              0,
              "#0d0887"
             ],
             [
              0.1111111111111111,
              "#46039f"
             ],
             [
              0.2222222222222222,
              "#7201a8"
             ],
             [
              0.3333333333333333,
              "#9c179e"
             ],
             [
              0.4444444444444444,
              "#bd3786"
             ],
             [
              0.5555555555555556,
              "#d8576b"
             ],
             [
              0.6666666666666666,
              "#ed7953"
             ],
             [
              0.7777777777777778,
              "#fb9f3a"
             ],
             [
              0.8888888888888888,
              "#fdca26"
             ],
             [
              1,
              "#f0f921"
             ]
            ],
            "type": "surface"
           }
          ],
          "table": [
           {
            "cells": {
             "fill": {
              "color": "#EBF0F8"
             },
             "line": {
              "color": "white"
             }
            },
            "header": {
             "fill": {
              "color": "#C8D4E3"
             },
             "line": {
              "color": "white"
             }
            },
            "type": "table"
           }
          ]
         },
         "layout": {
          "annotationdefaults": {
           "arrowcolor": "#2a3f5f",
           "arrowhead": 0,
           "arrowwidth": 1
          },
          "autotypenumbers": "strict",
          "coloraxis": {
           "colorbar": {
            "outlinewidth": 0,
            "ticks": ""
           }
          },
          "colorscale": {
           "diverging": [
            [
             0,
             "#8e0152"
            ],
            [
             0.1,
             "#c51b7d"
            ],
            [
             0.2,
             "#de77ae"
            ],
            [
             0.3,
             "#f1b6da"
            ],
            [
             0.4,
             "#fde0ef"
            ],
            [
             0.5,
             "#f7f7f7"
            ],
            [
             0.6,
             "#e6f5d0"
            ],
            [
             0.7,
             "#b8e186"
            ],
            [
             0.8,
             "#7fbc41"
            ],
            [
             0.9,
             "#4d9221"
            ],
            [
             1,
             "#276419"
            ]
           ],
           "sequential": [
            [
             0,
             "#0d0887"
            ],
            [
             0.1111111111111111,
             "#46039f"
            ],
            [
             0.2222222222222222,
             "#7201a8"
            ],
            [
             0.3333333333333333,
             "#9c179e"
            ],
            [
             0.4444444444444444,
             "#bd3786"
            ],
            [
             0.5555555555555556,
             "#d8576b"
            ],
            [
             0.6666666666666666,
             "#ed7953"
            ],
            [
             0.7777777777777778,
             "#fb9f3a"
            ],
            [
             0.8888888888888888,
             "#fdca26"
            ],
            [
             1,
             "#f0f921"
            ]
           ],
           "sequentialminus": [
            [
             0,
             "#0d0887"
            ],
            [
             0.1111111111111111,
             "#46039f"
            ],
            [
             0.2222222222222222,
             "#7201a8"
            ],
            [
             0.3333333333333333,
             "#9c179e"
            ],
            [
             0.4444444444444444,
             "#bd3786"
            ],
            [
             0.5555555555555556,
             "#d8576b"
            ],
            [
             0.6666666666666666,
             "#ed7953"
            ],
            [
             0.7777777777777778,
             "#fb9f3a"
            ],
            [
             0.8888888888888888,
             "#fdca26"
            ],
            [
             1,
             "#f0f921"
            ]
           ]
          },
          "colorway": [
           "#636efa",
           "#EF553B",
           "#00cc96",
           "#ab63fa",
           "#FFA15A",
           "#19d3f3",
           "#FF6692",
           "#B6E880",
           "#FF97FF",
           "#FECB52"
          ],
          "font": {
           "color": "#2a3f5f"
          },
          "geo": {
           "bgcolor": "white",
           "lakecolor": "white",
           "landcolor": "#E5ECF6",
           "showlakes": true,
           "showland": true,
           "subunitcolor": "white"
          },
          "hoverlabel": {
           "align": "left"
          },
          "hovermode": "closest",
          "mapbox": {
           "style": "light"
          },
          "paper_bgcolor": "white",
          "plot_bgcolor": "#E5ECF6",
          "polar": {
           "angularaxis": {
            "gridcolor": "white",
            "linecolor": "white",
            "ticks": ""
           },
           "bgcolor": "#E5ECF6",
           "radialaxis": {
            "gridcolor": "white",
            "linecolor": "white",
            "ticks": ""
           }
          },
          "scene": {
           "xaxis": {
            "backgroundcolor": "#E5ECF6",
            "gridcolor": "white",
            "gridwidth": 2,
            "linecolor": "white",
            "showbackground": true,
            "ticks": "",
            "zerolinecolor": "white"
           },
           "yaxis": {
            "backgroundcolor": "#E5ECF6",
            "gridcolor": "white",
            "gridwidth": 2,
            "linecolor": "white",
            "showbackground": true,
            "ticks": "",
            "zerolinecolor": "white"
           },
           "zaxis": {
            "backgroundcolor": "#E5ECF6",
            "gridcolor": "white",
            "gridwidth": 2,
            "linecolor": "white",
            "showbackground": true,
            "ticks": "",
            "zerolinecolor": "white"
           }
          },
          "shapedefaults": {
           "line": {
            "color": "#2a3f5f"
           }
          },
          "ternary": {
           "aaxis": {
            "gridcolor": "white",
            "linecolor": "white",
            "ticks": ""
           },
           "baxis": {
            "gridcolor": "white",
            "linecolor": "white",
            "ticks": ""
           },
           "bgcolor": "#E5ECF6",
           "caxis": {
            "gridcolor": "white",
            "linecolor": "white",
            "ticks": ""
           }
          },
          "title": {
           "x": 0.05
          },
          "xaxis": {
           "automargin": true,
           "gridcolor": "white",
           "linecolor": "white",
           "ticks": "",
           "title": {
            "standoff": 15
           },
           "zerolinecolor": "white",
           "zerolinewidth": 2
          },
          "yaxis": {
           "automargin": true,
           "gridcolor": "white",
           "linecolor": "white",
           "ticks": "",
           "title": {
            "standoff": 15
           },
           "zerolinecolor": "white",
           "zerolinewidth": 2
          }
         }
        },
        "xaxis": {
         "anchor": "y",
         "domain": [
          0,
          1
         ],
         "title": {
          "text": "baseline"
         }
        },
        "yaxis": {
         "anchor": "x",
         "domain": [
          0,
          1
         ],
         "title": {
          "text": "computation"
         }
        }
       }
      }
     },
     "metadata": {}
    }
   ],
   "source": [
    "plot_diagnostic(BE2_models['BE2_model'], X, y_true, 'CL', hover_data=['ISO'])"
   ]
  },
  {
   "cell_type": "code",
   "execution_count": 15,
   "metadata": {},
   "outputs": [
    {
     "output_type": "display_data",
     "data": {
      "application/vnd.plotly.v1+json": {
       "config": {
        "plotlyServerURL": "https://plot.ly"
       },
       "data": [
        {
         "hovertemplate": "baseline=%{x}<br>computation=%{y}<extra></extra>",
         "legendgroup": "",
         "marker": {
          "color": "#636efa",
          "symbol": "circle"
         },
         "mode": "markers",
         "name": "",
         "orientation": "v",
         "showlegend": false,
         "type": "scatter",
         "x": [
          872.4,
          859,
          874,
          63253,
          63517.8,
          63518,
          423.7433,
          423.0885,
          423.3604,
          11962,
          11971,
          11930,
          19348.036,
          19463.775,
          19132.2,
          4499,
          4499,
          4497,
          1066,
          1075,
          1059,
          3278,
          3278,
          3278
         ],
         "xaxis": "x",
         "y": [
          814.1624467398876,
          803.4126614080535,
          771.4337496122422,
          86326.16692014138,
          89741.55697215631,
          90124.63361123927,
          344.16544612412446,
          349.0037010159379,
          350.54071238239374,
          12202.583551421349,
          12200.43045085052,
          11922.329703947195,
          19488.962566920705,
          19238.998226295782,
          18881.388597160072,
          5404.247651505924,
          5340.744896870038,
          5102.302822376637,
          730.3028799667352,
          744.3589947486067,
          789.1122815026428,
          1491.8201169577194,
          750.7317950815957,
          2167.8474823258825
         ],
         "yaxis": "y"
        },
        {
         "hovertemplate": "<b>OLS trendline</b><br>computation = 1.40306 * baseline + -2299.28<br>R<sup>2</sup>=0.991142<br><br>baseline=%{x}<br>computation=%{y} <b>(trend)</b><extra></extra>",
         "legendgroup": "",
         "marker": {
          "color": "#636efa",
          "symbol": "circle"
         },
         "mode": "lines",
         "name": "",
         "showlegend": false,
         "type": "scatter",
         "x": [
          423.0885,
          423.3604,
          423.7433,
          859,
          872.4,
          874,
          1059,
          1066,
          1075,
          3278,
          3278,
          3278,
          4497,
          4499,
          4499,
          11930,
          11962,
          11971,
          19132.2,
          19348.036,
          19463.775,
          63253,
          63517.8,
          63518
         ],
         "xaxis": "x",
         "y": [
          -1705.6577890301396,
          -1705.2762961811045,
          -1704.7390633311766,
          -1094.0464611076566,
          -1075.2454159547729,
          -1073.0005150409957,
          -813.4338468855112,
          -803.6124053877363,
          -790.9848377477397,
          2299.963107909189,
          2299.963107909189,
          2299.963107909189,
          4010.296991593165,
          4013.1031177353857,
          4013.1031177353857,
          14439.26479915919,
          14484.162817434733,
          14496.79038507473,
          24544.405649912864,
          24847.23717092912,
          25009.626287716404,
          86448.67079777498,
          86820.2018990051,
          86820.48251161931
         ],
         "yaxis": "y"
        }
       ],
       "layout": {
        "legend": {
         "tracegroupgap": 0
        },
        "margin": {
         "t": 60
        },
        "template": {
         "data": {
          "bar": [
           {
            "error_x": {
             "color": "#2a3f5f"
            },
            "error_y": {
             "color": "#2a3f5f"
            },
            "marker": {
             "line": {
              "color": "#E5ECF6",
              "width": 0.5
             }
            },
            "type": "bar"
           }
          ],
          "barpolar": [
           {
            "marker": {
             "line": {
              "color": "#E5ECF6",
              "width": 0.5
             }
            },
            "type": "barpolar"
           }
          ],
          "carpet": [
           {
            "aaxis": {
             "endlinecolor": "#2a3f5f",
             "gridcolor": "white",
             "linecolor": "white",
             "minorgridcolor": "white",
             "startlinecolor": "#2a3f5f"
            },
            "baxis": {
             "endlinecolor": "#2a3f5f",
             "gridcolor": "white",
             "linecolor": "white",
             "minorgridcolor": "white",
             "startlinecolor": "#2a3f5f"
            },
            "type": "carpet"
           }
          ],
          "choropleth": [
           {
            "colorbar": {
             "outlinewidth": 0,
             "ticks": ""
            },
            "type": "choropleth"
           }
          ],
          "contour": [
           {
            "colorbar": {
             "outlinewidth": 0,
             "ticks": ""
            },
            "colorscale": [
             [
              0,
              "#0d0887"
             ],
             [
              0.1111111111111111,
              "#46039f"
             ],
             [
              0.2222222222222222,
              "#7201a8"
             ],
             [
              0.3333333333333333,
              "#9c179e"
             ],
             [
              0.4444444444444444,
              "#bd3786"
             ],
             [
              0.5555555555555556,
              "#d8576b"
             ],
             [
              0.6666666666666666,
              "#ed7953"
             ],
             [
              0.7777777777777778,
              "#fb9f3a"
             ],
             [
              0.8888888888888888,
              "#fdca26"
             ],
             [
              1,
              "#f0f921"
             ]
            ],
            "type": "contour"
           }
          ],
          "contourcarpet": [
           {
            "colorbar": {
             "outlinewidth": 0,
             "ticks": ""
            },
            "type": "contourcarpet"
           }
          ],
          "heatmap": [
           {
            "colorbar": {
             "outlinewidth": 0,
             "ticks": ""
            },
            "colorscale": [
             [
              0,
              "#0d0887"
             ],
             [
              0.1111111111111111,
              "#46039f"
             ],
             [
              0.2222222222222222,
              "#7201a8"
             ],
             [
              0.3333333333333333,
              "#9c179e"
             ],
             [
              0.4444444444444444,
              "#bd3786"
             ],
             [
              0.5555555555555556,
              "#d8576b"
             ],
             [
              0.6666666666666666,
              "#ed7953"
             ],
             [
              0.7777777777777778,
              "#fb9f3a"
             ],
             [
              0.8888888888888888,
              "#fdca26"
             ],
             [
              1,
              "#f0f921"
             ]
            ],
            "type": "heatmap"
           }
          ],
          "heatmapgl": [
           {
            "colorbar": {
             "outlinewidth": 0,
             "ticks": ""
            },
            "colorscale": [
             [
              0,
              "#0d0887"
             ],
             [
              0.1111111111111111,
              "#46039f"
             ],
             [
              0.2222222222222222,
              "#7201a8"
             ],
             [
              0.3333333333333333,
              "#9c179e"
             ],
             [
              0.4444444444444444,
              "#bd3786"
             ],
             [
              0.5555555555555556,
              "#d8576b"
             ],
             [
              0.6666666666666666,
              "#ed7953"
             ],
             [
              0.7777777777777778,
              "#fb9f3a"
             ],
             [
              0.8888888888888888,
              "#fdca26"
             ],
             [
              1,
              "#f0f921"
             ]
            ],
            "type": "heatmapgl"
           }
          ],
          "histogram": [
           {
            "marker": {
             "colorbar": {
              "outlinewidth": 0,
              "ticks": ""
             }
            },
            "type": "histogram"
           }
          ],
          "histogram2d": [
           {
            "colorbar": {
             "outlinewidth": 0,
             "ticks": ""
            },
            "colorscale": [
             [
              0,
              "#0d0887"
             ],
             [
              0.1111111111111111,
              "#46039f"
             ],
             [
              0.2222222222222222,
              "#7201a8"
             ],
             [
              0.3333333333333333,
              "#9c179e"
             ],
             [
              0.4444444444444444,
              "#bd3786"
             ],
             [
              0.5555555555555556,
              "#d8576b"
             ],
             [
              0.6666666666666666,
              "#ed7953"
             ],
             [
              0.7777777777777778,
              "#fb9f3a"
             ],
             [
              0.8888888888888888,
              "#fdca26"
             ],
             [
              1,
              "#f0f921"
             ]
            ],
            "type": "histogram2d"
           }
          ],
          "histogram2dcontour": [
           {
            "colorbar": {
             "outlinewidth": 0,
             "ticks": ""
            },
            "colorscale": [
             [
              0,
              "#0d0887"
             ],
             [
              0.1111111111111111,
              "#46039f"
             ],
             [
              0.2222222222222222,
              "#7201a8"
             ],
             [
              0.3333333333333333,
              "#9c179e"
             ],
             [
              0.4444444444444444,
              "#bd3786"
             ],
             [
              0.5555555555555556,
              "#d8576b"
             ],
             [
              0.6666666666666666,
              "#ed7953"
             ],
             [
              0.7777777777777778,
              "#fb9f3a"
             ],
             [
              0.8888888888888888,
              "#fdca26"
             ],
             [
              1,
              "#f0f921"
             ]
            ],
            "type": "histogram2dcontour"
           }
          ],
          "mesh3d": [
           {
            "colorbar": {
             "outlinewidth": 0,
             "ticks": ""
            },
            "type": "mesh3d"
           }
          ],
          "parcoords": [
           {
            "line": {
             "colorbar": {
              "outlinewidth": 0,
              "ticks": ""
             }
            },
            "type": "parcoords"
           }
          ],
          "pie": [
           {
            "automargin": true,
            "type": "pie"
           }
          ],
          "scatter": [
           {
            "marker": {
             "colorbar": {
              "outlinewidth": 0,
              "ticks": ""
             }
            },
            "type": "scatter"
           }
          ],
          "scatter3d": [
           {
            "line": {
             "colorbar": {
              "outlinewidth": 0,
              "ticks": ""
             }
            },
            "marker": {
             "colorbar": {
              "outlinewidth": 0,
              "ticks": ""
             }
            },
            "type": "scatter3d"
           }
          ],
          "scattercarpet": [
           {
            "marker": {
             "colorbar": {
              "outlinewidth": 0,
              "ticks": ""
             }
            },
            "type": "scattercarpet"
           }
          ],
          "scattergeo": [
           {
            "marker": {
             "colorbar": {
              "outlinewidth": 0,
              "ticks": ""
             }
            },
            "type": "scattergeo"
           }
          ],
          "scattergl": [
           {
            "marker": {
             "colorbar": {
              "outlinewidth": 0,
              "ticks": ""
             }
            },
            "type": "scattergl"
           }
          ],
          "scattermapbox": [
           {
            "marker": {
             "colorbar": {
              "outlinewidth": 0,
              "ticks": ""
             }
            },
            "type": "scattermapbox"
           }
          ],
          "scatterpolar": [
           {
            "marker": {
             "colorbar": {
              "outlinewidth": 0,
              "ticks": ""
             }
            },
            "type": "scatterpolar"
           }
          ],
          "scatterpolargl": [
           {
            "marker": {
             "colorbar": {
              "outlinewidth": 0,
              "ticks": ""
             }
            },
            "type": "scatterpolargl"
           }
          ],
          "scatterternary": [
           {
            "marker": {
             "colorbar": {
              "outlinewidth": 0,
              "ticks": ""
             }
            },
            "type": "scatterternary"
           }
          ],
          "surface": [
           {
            "colorbar": {
             "outlinewidth": 0,
             "ticks": ""
            },
            "colorscale": [
             [
              0,
              "#0d0887"
             ],
             [
              0.1111111111111111,
              "#46039f"
             ],
             [
              0.2222222222222222,
              "#7201a8"
             ],
             [
              0.3333333333333333,
              "#9c179e"
             ],
             [
              0.4444444444444444,
              "#bd3786"
             ],
             [
              0.5555555555555556,
              "#d8576b"
             ],
             [
              0.6666666666666666,
              "#ed7953"
             ],
             [
              0.7777777777777778,
              "#fb9f3a"
             ],
             [
              0.8888888888888888,
              "#fdca26"
             ],
             [
              1,
              "#f0f921"
             ]
            ],
            "type": "surface"
           }
          ],
          "table": [
           {
            "cells": {
             "fill": {
              "color": "#EBF0F8"
             },
             "line": {
              "color": "white"
             }
            },
            "header": {
             "fill": {
              "color": "#C8D4E3"
             },
             "line": {
              "color": "white"
             }
            },
            "type": "table"
           }
          ]
         },
         "layout": {
          "annotationdefaults": {
           "arrowcolor": "#2a3f5f",
           "arrowhead": 0,
           "arrowwidth": 1
          },
          "autotypenumbers": "strict",
          "coloraxis": {
           "colorbar": {
            "outlinewidth": 0,
            "ticks": ""
           }
          },
          "colorscale": {
           "diverging": [
            [
             0,
             "#8e0152"
            ],
            [
             0.1,
             "#c51b7d"
            ],
            [
             0.2,
             "#de77ae"
            ],
            [
             0.3,
             "#f1b6da"
            ],
            [
             0.4,
             "#fde0ef"
            ],
            [
             0.5,
             "#f7f7f7"
            ],
            [
             0.6,
             "#e6f5d0"
            ],
            [
             0.7,
             "#b8e186"
            ],
            [
             0.8,
             "#7fbc41"
            ],
            [
             0.9,
             "#4d9221"
            ],
            [
             1,
             "#276419"
            ]
           ],
           "sequential": [
            [
             0,
             "#0d0887"
            ],
            [
             0.1111111111111111,
             "#46039f"
            ],
            [
             0.2222222222222222,
             "#7201a8"
            ],
            [
             0.3333333333333333,
             "#9c179e"
            ],
            [
             0.4444444444444444,
             "#bd3786"
            ],
            [
             0.5555555555555556,
             "#d8576b"
            ],
            [
             0.6666666666666666,
             "#ed7953"
            ],
            [
             0.7777777777777778,
             "#fb9f3a"
            ],
            [
             0.8888888888888888,
             "#fdca26"
            ],
            [
             1,
             "#f0f921"
            ]
           ],
           "sequentialminus": [
            [
             0,
             "#0d0887"
            ],
            [
             0.1111111111111111,
             "#46039f"
            ],
            [
             0.2222222222222222,
             "#7201a8"
            ],
            [
             0.3333333333333333,
             "#9c179e"
            ],
            [
             0.4444444444444444,
             "#bd3786"
            ],
            [
             0.5555555555555556,
             "#d8576b"
            ],
            [
             0.6666666666666666,
             "#ed7953"
            ],
            [
             0.7777777777777778,
             "#fb9f3a"
            ],
            [
             0.8888888888888888,
             "#fdca26"
            ],
            [
             1,
             "#f0f921"
            ]
           ]
          },
          "colorway": [
           "#636efa",
           "#EF553B",
           "#00cc96",
           "#ab63fa",
           "#FFA15A",
           "#19d3f3",
           "#FF6692",
           "#B6E880",
           "#FF97FF",
           "#FECB52"
          ],
          "font": {
           "color": "#2a3f5f"
          },
          "geo": {
           "bgcolor": "white",
           "lakecolor": "white",
           "landcolor": "#E5ECF6",
           "showlakes": true,
           "showland": true,
           "subunitcolor": "white"
          },
          "hoverlabel": {
           "align": "left"
          },
          "hovermode": "closest",
          "mapbox": {
           "style": "light"
          },
          "paper_bgcolor": "white",
          "plot_bgcolor": "#E5ECF6",
          "polar": {
           "angularaxis": {
            "gridcolor": "white",
            "linecolor": "white",
            "ticks": ""
           },
           "bgcolor": "#E5ECF6",
           "radialaxis": {
            "gridcolor": "white",
            "linecolor": "white",
            "ticks": ""
           }
          },
          "scene": {
           "xaxis": {
            "backgroundcolor": "#E5ECF6",
            "gridcolor": "white",
            "gridwidth": 2,
            "linecolor": "white",
            "showbackground": true,
            "ticks": "",
            "zerolinecolor": "white"
           },
           "yaxis": {
            "backgroundcolor": "#E5ECF6",
            "gridcolor": "white",
            "gridwidth": 2,
            "linecolor": "white",
            "showbackground": true,
            "ticks": "",
            "zerolinecolor": "white"
           },
           "zaxis": {
            "backgroundcolor": "#E5ECF6",
            "gridcolor": "white",
            "gridwidth": 2,
            "linecolor": "white",
            "showbackground": true,
            "ticks": "",
            "zerolinecolor": "white"
           }
          },
          "shapedefaults": {
           "line": {
            "color": "#2a3f5f"
           }
          },
          "ternary": {
           "aaxis": {
            "gridcolor": "white",
            "linecolor": "white",
            "ticks": ""
           },
           "baxis": {
            "gridcolor": "white",
            "linecolor": "white",
            "ticks": ""
           },
           "bgcolor": "#E5ECF6",
           "caxis": {
            "gridcolor": "white",
            "linecolor": "white",
            "ticks": ""
           }
          },
          "title": {
           "x": 0.05
          },
          "xaxis": {
           "automargin": true,
           "gridcolor": "white",
           "linecolor": "white",
           "ticks": "",
           "title": {
            "standoff": 15
           },
           "zerolinecolor": "white",
           "zerolinewidth": 2
          },
          "yaxis": {
           "automargin": true,
           "gridcolor": "white",
           "linecolor": "white",
           "ticks": "",
           "title": {
            "standoff": 15
           },
           "zerolinecolor": "white",
           "zerolinewidth": 2
          }
         }
        },
        "xaxis": {
         "anchor": "y",
         "domain": [
          0,
          1
         ],
         "title": {
          "text": "baseline"
         }
        },
        "yaxis": {
         "anchor": "x",
         "domain": [
          0,
          1
         ],
         "title": {
          "text": "computation"
         }
        }
       }
      }
     },
     "metadata": {}
    }
   ],
   "source": [
    "plot_diagnostic(BE2_models['BE2_model'], X, y_true, 'CL')"
   ]
  },
  {
   "cell_type": "code",
   "execution_count": null,
   "metadata": {},
   "outputs": [],
   "source": []
  },
  {
   "cell_type": "code",
   "execution_count": 16,
   "metadata": {},
   "outputs": [],
   "source": [
    "test = pd.concat([res['CL'], data_dict['CL']], axis=1)\n",
    "test.columns = ['computation', 'baseline']\n",
    "test = test[(test.computation != 0)].dropna()"
   ]
  },
  {
   "cell_type": "code",
   "execution_count": 17,
   "metadata": {},
   "outputs": [],
   "source": [
    "from sklearn.linear_model import LinearRegression\n",
    "from sklearn.preprocessing import OneHotEncoder"
   ]
  },
  {
   "cell_type": "code",
   "execution_count": 18,
   "metadata": {},
   "outputs": [],
   "source": [
    "encoder =  OneHotEncoder()\n",
    "one_hot_ISO = encoder.fit_transform(test.reset_index()[['ISO']]).todense()\n",
    "comp = test['computation'].values.reshape(-1, 1)\n",
    "\n",
    "X = np.concatenate([one_hot_ISO, comp], axis=1)"
   ]
  },
  {
   "cell_type": "code",
   "execution_count": 19,
   "metadata": {},
   "outputs": [
    {
     "output_type": "execute_result",
     "data": {
      "text/plain": [
       "0.9999944360354677"
      ]
     },
     "metadata": {},
     "execution_count": 19
    }
   ],
   "source": [
    "lr = LinearRegression(fit_intercept=False).fit(X, test['baseline'])\n",
    "lr.score(X, test['baseline'])"
   ]
  },
  {
   "cell_type": "code",
   "execution_count": 20,
   "metadata": {},
   "outputs": [],
   "source": [
    "correction_cl = pd.DataFrame({'coef': lr.coef_, 'name': list(encoder.categories_[0]) + ['comp']})\n",
    "correction_cl.to_csv('outputs/cl_corr.csv')"
   ]
  },
  {
   "cell_type": "code",
   "execution_count": 21,
   "metadata": {},
   "outputs": [],
   "source": [
    "data_dict['CL_corr_coef'] = correction_cl.query('name == \"comp\"')['coef'].values\n",
    "data_dict['CL_corr_intercept'] = correction_cl.query('name != \"comp\"').rename(columns={\"name\": 'ISO'}).set_index('ISO')['coef']"
   ]
  },
  {
   "cell_type": "code",
   "execution_count": 22,
   "metadata": {},
   "outputs": [],
   "source": [
    "corrected_cl = res['CL'] * data_dict['CL_corr_coef']  +  data_dict['CL_corr_intercept']"
   ]
  },
  {
   "cell_type": "code",
   "execution_count": 23,
   "metadata": {},
   "outputs": [],
   "source": [
    "test['corr'] = lr.predict(X)"
   ]
  },
  {
   "cell_type": "code",
   "execution_count": 24,
   "metadata": {},
   "outputs": [
    {
     "output_type": "execute_result",
     "data": {
      "text/plain": [
       "       computation  baseline          corr\n",
       "Year                                      \n",
       "2016  12202.583551   11962.0  11961.056318\n",
       "2017  12200.430451   11971.0  11960.902548\n",
       "2018  11922.329704   11930.0  11941.041134"
      ],
      "text/html": "<div>\n<style scoped>\n    .dataframe tbody tr th:only-of-type {\n        vertical-align: middle;\n    }\n\n    .dataframe tbody tr th {\n        vertical-align: top;\n    }\n\n    .dataframe thead th {\n        text-align: right;\n    }\n</style>\n<table border=\"1\" class=\"dataframe\">\n  <thead>\n    <tr style=\"text-align: right;\">\n      <th></th>\n      <th>computation</th>\n      <th>baseline</th>\n      <th>corr</th>\n    </tr>\n    <tr>\n      <th>Year</th>\n      <th></th>\n      <th></th>\n      <th></th>\n    </tr>\n  </thead>\n  <tbody>\n    <tr>\n      <th>2016</th>\n      <td>12202.583551</td>\n      <td>11962.0</td>\n      <td>11961.056318</td>\n    </tr>\n    <tr>\n      <th>2017</th>\n      <td>12200.430451</td>\n      <td>11971.0</td>\n      <td>11960.902548</td>\n    </tr>\n    <tr>\n      <th>2018</th>\n      <td>11922.329704</td>\n      <td>11930.0</td>\n      <td>11941.041134</td>\n    </tr>\n  </tbody>\n</table>\n</div>"
     },
     "metadata": {},
     "execution_count": 24
    }
   ],
   "source": [
    "test.loc['DEU']"
   ]
  },
  {
   "cell_type": "code",
   "execution_count": 25,
   "metadata": {},
   "outputs": [
    {
     "output_type": "display_data",
     "data": {
      "application/vnd.plotly.v1+json": {
       "config": {
        "plotlyServerURL": "https://plot.ly"
       },
       "data": [
        {
         "customdata": [
          [
           "FRA",
           2016
          ],
          [
           "FRA",
           2017
          ],
          [
           "FRA",
           2018
          ]
         ],
         "hovertemplate": "baseline=%{x}<br>computation=%{y}<br>ISO=%{customdata[0]}<br>Year=%{customdata[1]}<extra></extra>",
         "legendgroup": "",
         "marker": {
          "color": "#636efa",
          "symbol": "circle"
         },
         "mode": "markers",
         "name": "",
         "orientation": "v",
         "showlegend": false,
         "type": "scatter",
         "x": [
          19348.036,
          19463.775,
          19132.2
         ],
         "xaxis": "x",
         "y": [
          19488.962566920705,
          19238.998226295782,
          18881.388597160072
         ],
         "yaxis": "y"
        }
       ],
       "layout": {
        "legend": {
         "tracegroupgap": 0
        },
        "margin": {
         "t": 60
        },
        "template": {
         "data": {
          "bar": [
           {
            "error_x": {
             "color": "#2a3f5f"
            },
            "error_y": {
             "color": "#2a3f5f"
            },
            "marker": {
             "line": {
              "color": "#E5ECF6",
              "width": 0.5
             }
            },
            "type": "bar"
           }
          ],
          "barpolar": [
           {
            "marker": {
             "line": {
              "color": "#E5ECF6",
              "width": 0.5
             }
            },
            "type": "barpolar"
           }
          ],
          "carpet": [
           {
            "aaxis": {
             "endlinecolor": "#2a3f5f",
             "gridcolor": "white",
             "linecolor": "white",
             "minorgridcolor": "white",
             "startlinecolor": "#2a3f5f"
            },
            "baxis": {
             "endlinecolor": "#2a3f5f",
             "gridcolor": "white",
             "linecolor": "white",
             "minorgridcolor": "white",
             "startlinecolor": "#2a3f5f"
            },
            "type": "carpet"
           }
          ],
          "choropleth": [
           {
            "colorbar": {
             "outlinewidth": 0,
             "ticks": ""
            },
            "type": "choropleth"
           }
          ],
          "contour": [
           {
            "colorbar": {
             "outlinewidth": 0,
             "ticks": ""
            },
            "colorscale": [
             [
              0,
              "#0d0887"
             ],
             [
              0.1111111111111111,
              "#46039f"
             ],
             [
              0.2222222222222222,
              "#7201a8"
             ],
             [
              0.3333333333333333,
              "#9c179e"
             ],
             [
              0.4444444444444444,
              "#bd3786"
             ],
             [
              0.5555555555555556,
              "#d8576b"
             ],
             [
              0.6666666666666666,
              "#ed7953"
             ],
             [
              0.7777777777777778,
              "#fb9f3a"
             ],
             [
              0.8888888888888888,
              "#fdca26"
             ],
             [
              1,
              "#f0f921"
             ]
            ],
            "type": "contour"
           }
          ],
          "contourcarpet": [
           {
            "colorbar": {
             "outlinewidth": 0,
             "ticks": ""
            },
            "type": "contourcarpet"
           }
          ],
          "heatmap": [
           {
            "colorbar": {
             "outlinewidth": 0,
             "ticks": ""
            },
            "colorscale": [
             [
              0,
              "#0d0887"
             ],
             [
              0.1111111111111111,
              "#46039f"
             ],
             [
              0.2222222222222222,
              "#7201a8"
             ],
             [
              0.3333333333333333,
              "#9c179e"
             ],
             [
              0.4444444444444444,
              "#bd3786"
             ],
             [
              0.5555555555555556,
              "#d8576b"
             ],
             [
              0.6666666666666666,
              "#ed7953"
             ],
             [
              0.7777777777777778,
              "#fb9f3a"
             ],
             [
              0.8888888888888888,
              "#fdca26"
             ],
             [
              1,
              "#f0f921"
             ]
            ],
            "type": "heatmap"
           }
          ],
          "heatmapgl": [
           {
            "colorbar": {
             "outlinewidth": 0,
             "ticks": ""
            },
            "colorscale": [
             [
              0,
              "#0d0887"
             ],
             [
              0.1111111111111111,
              "#46039f"
             ],
             [
              0.2222222222222222,
              "#7201a8"
             ],
             [
              0.3333333333333333,
              "#9c179e"
             ],
             [
              0.4444444444444444,
              "#bd3786"
             ],
             [
              0.5555555555555556,
              "#d8576b"
             ],
             [
              0.6666666666666666,
              "#ed7953"
             ],
             [
              0.7777777777777778,
              "#fb9f3a"
             ],
             [
              0.8888888888888888,
              "#fdca26"
             ],
             [
              1,
              "#f0f921"
             ]
            ],
            "type": "heatmapgl"
           }
          ],
          "histogram": [
           {
            "marker": {
             "colorbar": {
              "outlinewidth": 0,
              "ticks": ""
             }
            },
            "type": "histogram"
           }
          ],
          "histogram2d": [
           {
            "colorbar": {
             "outlinewidth": 0,
             "ticks": ""
            },
            "colorscale": [
             [
              0,
              "#0d0887"
             ],
             [
              0.1111111111111111,
              "#46039f"
             ],
             [
              0.2222222222222222,
              "#7201a8"
             ],
             [
              0.3333333333333333,
              "#9c179e"
             ],
             [
              0.4444444444444444,
              "#bd3786"
             ],
             [
              0.5555555555555556,
              "#d8576b"
             ],
             [
              0.6666666666666666,
              "#ed7953"
             ],
             [
              0.7777777777777778,
              "#fb9f3a"
             ],
             [
              0.8888888888888888,
              "#fdca26"
             ],
             [
              1,
              "#f0f921"
             ]
            ],
            "type": "histogram2d"
           }
          ],
          "histogram2dcontour": [
           {
            "colorbar": {
             "outlinewidth": 0,
             "ticks": ""
            },
            "colorscale": [
             [
              0,
              "#0d0887"
             ],
             [
              0.1111111111111111,
              "#46039f"
             ],
             [
              0.2222222222222222,
              "#7201a8"
             ],
             [
              0.3333333333333333,
              "#9c179e"
             ],
             [
              0.4444444444444444,
              "#bd3786"
             ],
             [
              0.5555555555555556,
              "#d8576b"
             ],
             [
              0.6666666666666666,
              "#ed7953"
             ],
             [
              0.7777777777777778,
              "#fb9f3a"
             ],
             [
              0.8888888888888888,
              "#fdca26"
             ],
             [
              1,
              "#f0f921"
             ]
            ],
            "type": "histogram2dcontour"
           }
          ],
          "mesh3d": [
           {
            "colorbar": {
             "outlinewidth": 0,
             "ticks": ""
            },
            "type": "mesh3d"
           }
          ],
          "parcoords": [
           {
            "line": {
             "colorbar": {
              "outlinewidth": 0,
              "ticks": ""
             }
            },
            "type": "parcoords"
           }
          ],
          "pie": [
           {
            "automargin": true,
            "type": "pie"
           }
          ],
          "scatter": [
           {
            "marker": {
             "colorbar": {
              "outlinewidth": 0,
              "ticks": ""
             }
            },
            "type": "scatter"
           }
          ],
          "scatter3d": [
           {
            "line": {
             "colorbar": {
              "outlinewidth": 0,
              "ticks": ""
             }
            },
            "marker": {
             "colorbar": {
              "outlinewidth": 0,
              "ticks": ""
             }
            },
            "type": "scatter3d"
           }
          ],
          "scattercarpet": [
           {
            "marker": {
             "colorbar": {
              "outlinewidth": 0,
              "ticks": ""
             }
            },
            "type": "scattercarpet"
           }
          ],
          "scattergeo": [
           {
            "marker": {
             "colorbar": {
              "outlinewidth": 0,
              "ticks": ""
             }
            },
            "type": "scattergeo"
           }
          ],
          "scattergl": [
           {
            "marker": {
             "colorbar": {
              "outlinewidth": 0,
              "ticks": ""
             }
            },
            "type": "scattergl"
           }
          ],
          "scattermapbox": [
           {
            "marker": {
             "colorbar": {
              "outlinewidth": 0,
              "ticks": ""
             }
            },
            "type": "scattermapbox"
           }
          ],
          "scatterpolar": [
           {
            "marker": {
             "colorbar": {
              "outlinewidth": 0,
              "ticks": ""
             }
            },
            "type": "scatterpolar"
           }
          ],
          "scatterpolargl": [
           {
            "marker": {
             "colorbar": {
              "outlinewidth": 0,
              "ticks": ""
             }
            },
            "type": "scatterpolargl"
           }
          ],
          "scatterternary": [
           {
            "marker": {
             "colorbar": {
              "outlinewidth": 0,
              "ticks": ""
             }
            },
            "type": "scatterternary"
           }
          ],
          "surface": [
           {
            "colorbar": {
             "outlinewidth": 0,
             "ticks": ""
            },
            "colorscale": [
             [
              0,
              "#0d0887"
             ],
             [
              0.1111111111111111,
              "#46039f"
             ],
             [
              0.2222222222222222,
              "#7201a8"
             ],
             [
              0.3333333333333333,
              "#9c179e"
             ],
             [
              0.4444444444444444,
              "#bd3786"
             ],
             [
              0.5555555555555556,
              "#d8576b"
             ],
             [
              0.6666666666666666,
              "#ed7953"
             ],
             [
              0.7777777777777778,
              "#fb9f3a"
             ],
             [
              0.8888888888888888,
              "#fdca26"
             ],
             [
              1,
              "#f0f921"
             ]
            ],
            "type": "surface"
           }
          ],
          "table": [
           {
            "cells": {
             "fill": {
              "color": "#EBF0F8"
             },
             "line": {
              "color": "white"
             }
            },
            "header": {
             "fill": {
              "color": "#C8D4E3"
             },
             "line": {
              "color": "white"
             }
            },
            "type": "table"
           }
          ]
         },
         "layout": {
          "annotationdefaults": {
           "arrowcolor": "#2a3f5f",
           "arrowhead": 0,
           "arrowwidth": 1
          },
          "autotypenumbers": "strict",
          "coloraxis": {
           "colorbar": {
            "outlinewidth": 0,
            "ticks": ""
           }
          },
          "colorscale": {
           "diverging": [
            [
             0,
             "#8e0152"
            ],
            [
             0.1,
             "#c51b7d"
            ],
            [
             0.2,
             "#de77ae"
            ],
            [
             0.3,
             "#f1b6da"
            ],
            [
             0.4,
             "#fde0ef"
            ],
            [
             0.5,
             "#f7f7f7"
            ],
            [
             0.6,
             "#e6f5d0"
            ],
            [
             0.7,
             "#b8e186"
            ],
            [
             0.8,
             "#7fbc41"
            ],
            [
             0.9,
             "#4d9221"
            ],
            [
             1,
             "#276419"
            ]
           ],
           "sequential": [
            [
             0,
             "#0d0887"
            ],
            [
             0.1111111111111111,
             "#46039f"
            ],
            [
             0.2222222222222222,
             "#7201a8"
            ],
            [
             0.3333333333333333,
             "#9c179e"
            ],
            [
             0.4444444444444444,
             "#bd3786"
            ],
            [
             0.5555555555555556,
             "#d8576b"
            ],
            [
             0.6666666666666666,
             "#ed7953"
            ],
            [
             0.7777777777777778,
             "#fb9f3a"
            ],
            [
             0.8888888888888888,
             "#fdca26"
            ],
            [
             1,
             "#f0f921"
            ]
           ],
           "sequentialminus": [
            [
             0,
             "#0d0887"
            ],
            [
             0.1111111111111111,
             "#46039f"
            ],
            [
             0.2222222222222222,
             "#7201a8"
            ],
            [
             0.3333333333333333,
             "#9c179e"
            ],
            [
             0.4444444444444444,
             "#bd3786"
            ],
            [
             0.5555555555555556,
             "#d8576b"
            ],
            [
             0.6666666666666666,
             "#ed7953"
            ],
            [
             0.7777777777777778,
             "#fb9f3a"
            ],
            [
             0.8888888888888888,
             "#fdca26"
            ],
            [
             1,
             "#f0f921"
            ]
           ]
          },
          "colorway": [
           "#636efa",
           "#EF553B",
           "#00cc96",
           "#ab63fa",
           "#FFA15A",
           "#19d3f3",
           "#FF6692",
           "#B6E880",
           "#FF97FF",
           "#FECB52"
          ],
          "font": {
           "color": "#2a3f5f"
          },
          "geo": {
           "bgcolor": "white",
           "lakecolor": "white",
           "landcolor": "#E5ECF6",
           "showlakes": true,
           "showland": true,
           "subunitcolor": "white"
          },
          "hoverlabel": {
           "align": "left"
          },
          "hovermode": "closest",
          "mapbox": {
           "style": "light"
          },
          "paper_bgcolor": "white",
          "plot_bgcolor": "#E5ECF6",
          "polar": {
           "angularaxis": {
            "gridcolor": "white",
            "linecolor": "white",
            "ticks": ""
           },
           "bgcolor": "#E5ECF6",
           "radialaxis": {
            "gridcolor": "white",
            "linecolor": "white",
            "ticks": ""
           }
          },
          "scene": {
           "xaxis": {
            "backgroundcolor": "#E5ECF6",
            "gridcolor": "white",
            "gridwidth": 2,
            "linecolor": "white",
            "showbackground": true,
            "ticks": "",
            "zerolinecolor": "white"
           },
           "yaxis": {
            "backgroundcolor": "#E5ECF6",
            "gridcolor": "white",
            "gridwidth": 2,
            "linecolor": "white",
            "showbackground": true,
            "ticks": "",
            "zerolinecolor": "white"
           },
           "zaxis": {
            "backgroundcolor": "#E5ECF6",
            "gridcolor": "white",
            "gridwidth": 2,
            "linecolor": "white",
            "showbackground": true,
            "ticks": "",
            "zerolinecolor": "white"
           }
          },
          "shapedefaults": {
           "line": {
            "color": "#2a3f5f"
           }
          },
          "ternary": {
           "aaxis": {
            "gridcolor": "white",
            "linecolor": "white",
            "ticks": ""
           },
           "baxis": {
            "gridcolor": "white",
            "linecolor": "white",
            "ticks": ""
           },
           "bgcolor": "#E5ECF6",
           "caxis": {
            "gridcolor": "white",
            "linecolor": "white",
            "ticks": ""
           }
          },
          "title": {
           "x": 0.05
          },
          "xaxis": {
           "automargin": true,
           "gridcolor": "white",
           "linecolor": "white",
           "ticks": "",
           "title": {
            "standoff": 15
           },
           "zerolinecolor": "white",
           "zerolinewidth": 2
          },
          "yaxis": {
           "automargin": true,
           "gridcolor": "white",
           "linecolor": "white",
           "ticks": "",
           "title": {
            "standoff": 15
           },
           "zerolinecolor": "white",
           "zerolinewidth": 2
          }
         }
        },
        "xaxis": {
         "anchor": "y",
         "domain": [
          0,
          1
         ],
         "title": {
          "text": "baseline"
         }
        },
        "yaxis": {
         "anchor": "x",
         "domain": [
          0,
          1
         ],
         "title": {
          "text": "computation"
         }
        }
       }
      }
     },
     "metadata": {}
    }
   ],
   "source": [
    "import plotly.express as px\n",
    "\n",
    "px.scatter(test.loc['FRA', :, :].reset_index(), y='computation', x='baseline', hover_data=['ISO', 'Year'])"
   ]
  },
  {
   "cell_type": "code",
   "execution_count": 26,
   "metadata": {},
   "outputs": [
    {
     "output_type": "display_data",
     "data": {
      "application/vnd.plotly.v1+json": {
       "config": {
        "plotlyServerURL": "https://plot.ly"
       },
       "data": [
        {
         "customdata": [
          [
           "BEL",
           2016
          ],
          [
           "BEL",
           2017
          ],
          [
           "BEL",
           2018
          ],
          [
           "BRA",
           2016
          ],
          [
           "BRA",
           2017
          ],
          [
           "BRA",
           2018
          ],
          [
           "CHE",
           2016
          ],
          [
           "CHE",
           2017
          ],
          [
           "CHE",
           2018
          ],
          [
           "DEU",
           2016
          ],
          [
           "DEU",
           2017
          ],
          [
           "DEU",
           2018
          ],
          [
           "FRA",
           2016
          ],
          [
           "FRA",
           2017
          ],
          [
           "FRA",
           2018
          ],
          [
           "HUN",
           2016
          ],
          [
           "HUN",
           2017
          ],
          [
           "HUN",
           2018
          ],
          [
           "NLD",
           2016
          ],
          [
           "NLD",
           2017
          ],
          [
           "NLD",
           2018
          ],
          [
           "SEN",
           2016
          ],
          [
           "SEN",
           2017
          ],
          [
           "SEN",
           2018
          ]
         ],
         "hovertemplate": "baseline=%{x}<br>computation=%{y}<br>ISO=%{customdata[0]}<br>Year=%{customdata[1]}<extra></extra>",
         "legendgroup": "",
         "marker": {
          "color": "#636efa",
          "symbol": "circle"
         },
         "mode": "markers",
         "name": "",
         "orientation": "v",
         "showlegend": false,
         "type": "scatter",
         "x": [
          872.4,
          859,
          874,
          63253,
          63517.8,
          63518,
          423.7433,
          423.0885,
          423.3604,
          11962,
          11971,
          11930,
          19348.036,
          19463.775,
          19132.2,
          4499,
          4499,
          4497,
          1066,
          1075,
          1059,
          3278,
          3278,
          3278
         ],
         "xaxis": "x",
         "y": [
          814.1624467398876,
          803.4126614080535,
          771.4337496122422,
          86326.16692014138,
          89741.55697215631,
          90124.63361123927,
          344.16544612412446,
          349.0037010159379,
          350.54071238239374,
          12202.583551421349,
          12200.43045085052,
          11922.329703947195,
          19488.962566920705,
          19238.998226295782,
          18881.388597160072,
          5404.247651505924,
          5340.744896870038,
          5102.302822376637,
          730.3028799667352,
          744.3589947486067,
          789.1122815026428,
          1491.8201169577194,
          750.7317950815957,
          2167.8474823258825
         ],
         "yaxis": "y"
        }
       ],
       "layout": {
        "legend": {
         "tracegroupgap": 0
        },
        "margin": {
         "t": 60
        },
        "template": {
         "data": {
          "bar": [
           {
            "error_x": {
             "color": "#2a3f5f"
            },
            "error_y": {
             "color": "#2a3f5f"
            },
            "marker": {
             "line": {
              "color": "#E5ECF6",
              "width": 0.5
             }
            },
            "type": "bar"
           }
          ],
          "barpolar": [
           {
            "marker": {
             "line": {
              "color": "#E5ECF6",
              "width": 0.5
             }
            },
            "type": "barpolar"
           }
          ],
          "carpet": [
           {
            "aaxis": {
             "endlinecolor": "#2a3f5f",
             "gridcolor": "white",
             "linecolor": "white",
             "minorgridcolor": "white",
             "startlinecolor": "#2a3f5f"
            },
            "baxis": {
             "endlinecolor": "#2a3f5f",
             "gridcolor": "white",
             "linecolor": "white",
             "minorgridcolor": "white",
             "startlinecolor": "#2a3f5f"
            },
            "type": "carpet"
           }
          ],
          "choropleth": [
           {
            "colorbar": {
             "outlinewidth": 0,
             "ticks": ""
            },
            "type": "choropleth"
           }
          ],
          "contour": [
           {
            "colorbar": {
             "outlinewidth": 0,
             "ticks": ""
            },
            "colorscale": [
             [
              0,
              "#0d0887"
             ],
             [
              0.1111111111111111,
              "#46039f"
             ],
             [
              0.2222222222222222,
              "#7201a8"
             ],
             [
              0.3333333333333333,
              "#9c179e"
             ],
             [
              0.4444444444444444,
              "#bd3786"
             ],
             [
              0.5555555555555556,
              "#d8576b"
             ],
             [
              0.6666666666666666,
              "#ed7953"
             ],
             [
              0.7777777777777778,
              "#fb9f3a"
             ],
             [
              0.8888888888888888,
              "#fdca26"
             ],
             [
              1,
              "#f0f921"
             ]
            ],
            "type": "contour"
           }
          ],
          "contourcarpet": [
           {
            "colorbar": {
             "outlinewidth": 0,
             "ticks": ""
            },
            "type": "contourcarpet"
           }
          ],
          "heatmap": [
           {
            "colorbar": {
             "outlinewidth": 0,
             "ticks": ""
            },
            "colorscale": [
             [
              0,
              "#0d0887"
             ],
             [
              0.1111111111111111,
              "#46039f"
             ],
             [
              0.2222222222222222,
              "#7201a8"
             ],
             [
              0.3333333333333333,
              "#9c179e"
             ],
             [
              0.4444444444444444,
              "#bd3786"
             ],
             [
              0.5555555555555556,
              "#d8576b"
             ],
             [
              0.6666666666666666,
              "#ed7953"
             ],
             [
              0.7777777777777778,
              "#fb9f3a"
             ],
             [
              0.8888888888888888,
              "#fdca26"
             ],
             [
              1,
              "#f0f921"
             ]
            ],
            "type": "heatmap"
           }
          ],
          "heatmapgl": [
           {
            "colorbar": {
             "outlinewidth": 0,
             "ticks": ""
            },
            "colorscale": [
             [
              0,
              "#0d0887"
             ],
             [
              0.1111111111111111,
              "#46039f"
             ],
             [
              0.2222222222222222,
              "#7201a8"
             ],
             [
              0.3333333333333333,
              "#9c179e"
             ],
             [
              0.4444444444444444,
              "#bd3786"
             ],
             [
              0.5555555555555556,
              "#d8576b"
             ],
             [
              0.6666666666666666,
              "#ed7953"
             ],
             [
              0.7777777777777778,
              "#fb9f3a"
             ],
             [
              0.8888888888888888,
              "#fdca26"
             ],
             [
              1,
              "#f0f921"
             ]
            ],
            "type": "heatmapgl"
           }
          ],
          "histogram": [
           {
            "marker": {
             "colorbar": {
              "outlinewidth": 0,
              "ticks": ""
             }
            },
            "type": "histogram"
           }
          ],
          "histogram2d": [
           {
            "colorbar": {
             "outlinewidth": 0,
             "ticks": ""
            },
            "colorscale": [
             [
              0,
              "#0d0887"
             ],
             [
              0.1111111111111111,
              "#46039f"
             ],
             [
              0.2222222222222222,
              "#7201a8"
             ],
             [
              0.3333333333333333,
              "#9c179e"
             ],
             [
              0.4444444444444444,
              "#bd3786"
             ],
             [
              0.5555555555555556,
              "#d8576b"
             ],
             [
              0.6666666666666666,
              "#ed7953"
             ],
             [
              0.7777777777777778,
              "#fb9f3a"
             ],
             [
              0.8888888888888888,
              "#fdca26"
             ],
             [
              1,
              "#f0f921"
             ]
            ],
            "type": "histogram2d"
           }
          ],
          "histogram2dcontour": [
           {
            "colorbar": {
             "outlinewidth": 0,
             "ticks": ""
            },
            "colorscale": [
             [
              0,
              "#0d0887"
             ],
             [
              0.1111111111111111,
              "#46039f"
             ],
             [
              0.2222222222222222,
              "#7201a8"
             ],
             [
              0.3333333333333333,
              "#9c179e"
             ],
             [
              0.4444444444444444,
              "#bd3786"
             ],
             [
              0.5555555555555556,
              "#d8576b"
             ],
             [
              0.6666666666666666,
              "#ed7953"
             ],
             [
              0.7777777777777778,
              "#fb9f3a"
             ],
             [
              0.8888888888888888,
              "#fdca26"
             ],
             [
              1,
              "#f0f921"
             ]
            ],
            "type": "histogram2dcontour"
           }
          ],
          "mesh3d": [
           {
            "colorbar": {
             "outlinewidth": 0,
             "ticks": ""
            },
            "type": "mesh3d"
           }
          ],
          "parcoords": [
           {
            "line": {
             "colorbar": {
              "outlinewidth": 0,
              "ticks": ""
             }
            },
            "type": "parcoords"
           }
          ],
          "pie": [
           {
            "automargin": true,
            "type": "pie"
           }
          ],
          "scatter": [
           {
            "marker": {
             "colorbar": {
              "outlinewidth": 0,
              "ticks": ""
             }
            },
            "type": "scatter"
           }
          ],
          "scatter3d": [
           {
            "line": {
             "colorbar": {
              "outlinewidth": 0,
              "ticks": ""
             }
            },
            "marker": {
             "colorbar": {
              "outlinewidth": 0,
              "ticks": ""
             }
            },
            "type": "scatter3d"
           }
          ],
          "scattercarpet": [
           {
            "marker": {
             "colorbar": {
              "outlinewidth": 0,
              "ticks": ""
             }
            },
            "type": "scattercarpet"
           }
          ],
          "scattergeo": [
           {
            "marker": {
             "colorbar": {
              "outlinewidth": 0,
              "ticks": ""
             }
            },
            "type": "scattergeo"
           }
          ],
          "scattergl": [
           {
            "marker": {
             "colorbar": {
              "outlinewidth": 0,
              "ticks": ""
             }
            },
            "type": "scattergl"
           }
          ],
          "scattermapbox": [
           {
            "marker": {
             "colorbar": {
              "outlinewidth": 0,
              "ticks": ""
             }
            },
            "type": "scattermapbox"
           }
          ],
          "scatterpolar": [
           {
            "marker": {
             "colorbar": {
              "outlinewidth": 0,
              "ticks": ""
             }
            },
            "type": "scatterpolar"
           }
          ],
          "scatterpolargl": [
           {
            "marker": {
             "colorbar": {
              "outlinewidth": 0,
              "ticks": ""
             }
            },
            "type": "scatterpolargl"
           }
          ],
          "scatterternary": [
           {
            "marker": {
             "colorbar": {
              "outlinewidth": 0,
              "ticks": ""
             }
            },
            "type": "scatterternary"
           }
          ],
          "surface": [
           {
            "colorbar": {
             "outlinewidth": 0,
             "ticks": ""
            },
            "colorscale": [
             [
              0,
              "#0d0887"
             ],
             [
              0.1111111111111111,
              "#46039f"
             ],
             [
              0.2222222222222222,
              "#7201a8"
             ],
             [
              0.3333333333333333,
              "#9c179e"
             ],
             [
              0.4444444444444444,
              "#bd3786"
             ],
             [
              0.5555555555555556,
              "#d8576b"
             ],
             [
              0.6666666666666666,
              "#ed7953"
             ],
             [
              0.7777777777777778,
              "#fb9f3a"
             ],
             [
              0.8888888888888888,
              "#fdca26"
             ],
             [
              1,
              "#f0f921"
             ]
            ],
            "type": "surface"
           }
          ],
          "table": [
           {
            "cells": {
             "fill": {
              "color": "#EBF0F8"
             },
             "line": {
              "color": "white"
             }
            },
            "header": {
             "fill": {
              "color": "#C8D4E3"
             },
             "line": {
              "color": "white"
             }
            },
            "type": "table"
           }
          ]
         },
         "layout": {
          "annotationdefaults": {
           "arrowcolor": "#2a3f5f",
           "arrowhead": 0,
           "arrowwidth": 1
          },
          "autotypenumbers": "strict",
          "coloraxis": {
           "colorbar": {
            "outlinewidth": 0,
            "ticks": ""
           }
          },
          "colorscale": {
           "diverging": [
            [
             0,
             "#8e0152"
            ],
            [
             0.1,
             "#c51b7d"
            ],
            [
             0.2,
             "#de77ae"
            ],
            [
             0.3,
             "#f1b6da"
            ],
            [
             0.4,
             "#fde0ef"
            ],
            [
             0.5,
             "#f7f7f7"
            ],
            [
             0.6,
             "#e6f5d0"
            ],
            [
             0.7,
             "#b8e186"
            ],
            [
             0.8,
             "#7fbc41"
            ],
            [
             0.9,
             "#4d9221"
            ],
            [
             1,
             "#276419"
            ]
           ],
           "sequential": [
            [
             0,
             "#0d0887"
            ],
            [
             0.1111111111111111,
             "#46039f"
            ],
            [
             0.2222222222222222,
             "#7201a8"
            ],
            [
             0.3333333333333333,
             "#9c179e"
            ],
            [
             0.4444444444444444,
             "#bd3786"
            ],
            [
             0.5555555555555556,
             "#d8576b"
            ],
            [
             0.6666666666666666,
             "#ed7953"
            ],
            [
             0.7777777777777778,
             "#fb9f3a"
            ],
            [
             0.8888888888888888,
             "#fdca26"
            ],
            [
             1,
             "#f0f921"
            ]
           ],
           "sequentialminus": [
            [
             0,
             "#0d0887"
            ],
            [
             0.1111111111111111,
             "#46039f"
            ],
            [
             0.2222222222222222,
             "#7201a8"
            ],
            [
             0.3333333333333333,
             "#9c179e"
            ],
            [
             0.4444444444444444,
             "#bd3786"
            ],
            [
             0.5555555555555556,
             "#d8576b"
            ],
            [
             0.6666666666666666,
             "#ed7953"
            ],
            [
             0.7777777777777778,
             "#fb9f3a"
            ],
            [
             0.8888888888888888,
             "#fdca26"
            ],
            [
             1,
             "#f0f921"
            ]
           ]
          },
          "colorway": [
           "#636efa",
           "#EF553B",
           "#00cc96",
           "#ab63fa",
           "#FFA15A",
           "#19d3f3",
           "#FF6692",
           "#B6E880",
           "#FF97FF",
           "#FECB52"
          ],
          "font": {
           "color": "#2a3f5f"
          },
          "geo": {
           "bgcolor": "white",
           "lakecolor": "white",
           "landcolor": "#E5ECF6",
           "showlakes": true,
           "showland": true,
           "subunitcolor": "white"
          },
          "hoverlabel": {
           "align": "left"
          },
          "hovermode": "closest",
          "mapbox": {
           "style": "light"
          },
          "paper_bgcolor": "white",
          "plot_bgcolor": "#E5ECF6",
          "polar": {
           "angularaxis": {
            "gridcolor": "white",
            "linecolor": "white",
            "ticks": ""
           },
           "bgcolor": "#E5ECF6",
           "radialaxis": {
            "gridcolor": "white",
            "linecolor": "white",
            "ticks": ""
           }
          },
          "scene": {
           "xaxis": {
            "backgroundcolor": "#E5ECF6",
            "gridcolor": "white",
            "gridwidth": 2,
            "linecolor": "white",
            "showbackground": true,
            "ticks": "",
            "zerolinecolor": "white"
           },
           "yaxis": {
            "backgroundcolor": "#E5ECF6",
            "gridcolor": "white",
            "gridwidth": 2,
            "linecolor": "white",
            "showbackground": true,
            "ticks": "",
            "zerolinecolor": "white"
           },
           "zaxis": {
            "backgroundcolor": "#E5ECF6",
            "gridcolor": "white",
            "gridwidth": 2,
            "linecolor": "white",
            "showbackground": true,
            "ticks": "",
            "zerolinecolor": "white"
           }
          },
          "shapedefaults": {
           "line": {
            "color": "#2a3f5f"
           }
          },
          "ternary": {
           "aaxis": {
            "gridcolor": "white",
            "linecolor": "white",
            "ticks": ""
           },
           "baxis": {
            "gridcolor": "white",
            "linecolor": "white",
            "ticks": ""
           },
           "bgcolor": "#E5ECF6",
           "caxis": {
            "gridcolor": "white",
            "linecolor": "white",
            "ticks": ""
           }
          },
          "title": {
           "x": 0.05
          },
          "xaxis": {
           "automargin": true,
           "gridcolor": "white",
           "linecolor": "white",
           "ticks": "",
           "title": {
            "standoff": 15
           },
           "zerolinecolor": "white",
           "zerolinewidth": 2
          },
          "yaxis": {
           "automargin": true,
           "gridcolor": "white",
           "linecolor": "white",
           "ticks": "",
           "title": {
            "standoff": 15
           },
           "zerolinecolor": "white",
           "zerolinewidth": 2
          }
         }
        },
        "xaxis": {
         "anchor": "y",
         "domain": [
          0,
          1
         ],
         "title": {
          "text": "baseline"
         }
        },
        "yaxis": {
         "anchor": "x",
         "domain": [
          0,
          1
         ],
         "title": {
          "text": "computation"
         }
        }
       }
      }
     },
     "metadata": {}
    }
   ],
   "source": [
    "import plotly.express as px\n",
    "\n",
    "px.scatter(test.reset_index(), y='computation', x='baseline', hover_data=['ISO', 'Year'])"
   ]
  },
  {
   "cell_type": "code",
   "execution_count": 27,
   "metadata": {},
   "outputs": [
    {
     "output_type": "execute_result",
     "data": {
      "text/plain": [
       "<graphviz.dot.Digraph at 0x7f9377df7e90>"
      ],
      "image/svg+xml": "<?xml version=\"1.0\" encoding=\"UTF-8\" standalone=\"no\"?>\n<!DOCTYPE svg PUBLIC \"-//W3C//DTD SVG 1.1//EN\"\n \"http://www.w3.org/Graphics/SVG/1.1/DTD/svg11.dtd\">\n<!-- Generated by graphviz version 2.40.1 (20161225.0304)\n -->\n<!-- Title: %3 Pages: 1 -->\n<svg width=\"1853pt\" height=\"1349pt\"\n viewBox=\"0.00 0.00 1853.00 1349.00\" xmlns=\"http://www.w3.org/2000/svg\" xmlns:xlink=\"http://www.w3.org/1999/xlink\">\n<g id=\"graph0\" class=\"graph\" transform=\"scale(1 1) rotate(0) translate(4 1345)\">\n<title>%3</title>\n<polygon fill=\"#ffffff\" stroke=\"transparent\" points=\"-4,4 -4,-1345 1849,-1345 1849,4 -4,4\"/>\n<!-- TLA -->\n<g id=\"node1\" class=\"node\">\n<title>TLA</title>\n<polygon fill=\"#e76f51\" stroke=\"#eeeeee\" points=\"737,-214 624,-214 624,-161 737,-161 737,-214\"/>\n<text text-anchor=\"middle\" x=\"680.5\" y=\"-198.8\" font-family=\"roboto\" font-size=\"14.00\" fill=\"#eeeeee\">Total land area </text>\n<text text-anchor=\"middle\" x=\"680.5\" y=\"-183.8\" font-family=\"roboto\" font-size=\"14.00\" fill=\"#eeeeee\"> (TLA) </text>\n<text text-anchor=\"middle\" x=\"680.5\" y=\"-168.8\" font-family=\"roboto\" font-size=\"14.00\" fill=\"#eeeeee\"> 1000 ha</text>\n</g>\n<!-- BE2_comp -->\n<g id=\"node10\" class=\"node\">\n<title>BE2_comp</title>\n<polygon fill=\"none\" stroke=\"#a9a9a9\" points=\"856.5,-125 724.5,-125 724.5,-89 856.5,-89 856.5,-125\"/>\n<text text-anchor=\"middle\" x=\"790.5\" y=\"-103.3\" font-family=\"roboto\" font-size=\"14.00\" fill=\"#000000\">1e2 * FL_RF / TLA</text>\n</g>\n<!-- TLA&#45;&gt;BE2_comp -->\n<g id=\"edge1\" class=\"edge\">\n<title>TLA&#45;&gt;BE2_comp</title>\n<path fill=\"none\" stroke=\"#a9a9a9\" d=\"M730.75,-160.6947C730.75,-160.6947 730.75,-135.0658 730.75,-135.0658\"/>\n<polygon fill=\"#a9a9a9\" stroke=\"#a9a9a9\" points=\"734.2501,-135.0657 730.75,-125.0658 727.2501,-135.0658 734.2501,-135.0657\"/>\n</g>\n<!-- FL -->\n<g id=\"node2\" class=\"node\">\n<title>FL</title>\n<polygon fill=\"#f4a261\" stroke=\"#eeeeee\" points=\"743,-375 612,-375 612,-322 743,-322 743,-375\"/>\n<text text-anchor=\"middle\" x=\"677.5\" y=\"-359.8\" font-family=\"roboto\" font-size=\"14.00\" fill=\"#eeeeee\">Forest land stock </text>\n<text text-anchor=\"middle\" x=\"677.5\" y=\"-344.8\" font-family=\"roboto\" font-size=\"14.00\" fill=\"#eeeeee\"> (FL) </text>\n<text text-anchor=\"middle\" x=\"677.5\" y=\"-329.8\" font-family=\"roboto\" font-size=\"14.00\" fill=\"#eeeeee\"> 1000 ha</text>\n</g>\n<!-- FL_RF_comp -->\n<g id=\"node8\" class=\"node\">\n<title>FL_RF_comp</title>\n<polygon fill=\"none\" stroke=\"#a9a9a9\" points=\"977.5,-286 823.5,-286 823.5,-250 977.5,-250 977.5,-286\"/>\n<text text-anchor=\"middle\" x=\"900.5\" y=\"-264.3\" font-family=\"roboto\" font-size=\"14.00\" fill=\"#000000\">FL + 1e&#45;2 * R_rate * IL</text>\n</g>\n<!-- FL&#45;&gt;FL_RF_comp -->\n<g id=\"edge2\" class=\"edge\">\n<title>FL&#45;&gt;FL_RF_comp</title>\n<path fill=\"none\" stroke=\"#a9a9a9\" d=\"M743.1825,-348C783.4185,-348 827.25,-348 827.25,-348 827.25,-348 827.25,-296.1532 827.25,-296.1532\"/>\n<polygon fill=\"#a9a9a9\" stroke=\"#a9a9a9\" points=\"830.7501,-296.1532 827.25,-286.1532 823.7501,-296.1533 830.7501,-296.1532\"/>\n</g>\n<!-- FL_comp -->\n<g id=\"node3\" class=\"node\">\n<title>FL_comp</title>\n<polygon fill=\"none\" stroke=\"#a9a9a9\" points=\"768,-447 305,-447 305,-411 768,-411 768,-447\"/>\n<text text-anchor=\"middle\" x=\"536.5\" y=\"-425.3\" font-family=\"roboto\" font-size=\"14.00\" fill=\"#000000\">FL_baseline + (IL_baseline &#45; delta_CL).clip(upper=0) # to double check</text>\n</g>\n<!-- FL_comp&#45;&gt;FL -->\n<g id=\"edge3\" class=\"edge\">\n<title>FL_comp&#45;&gt;FL</title>\n<path fill=\"none\" stroke=\"#a9a9a9\" d=\"M677.5,-410.7333C677.5,-410.7333 677.5,-385.2477 677.5,-385.2477\"/>\n<polygon fill=\"#a9a9a9\" stroke=\"#a9a9a9\" points=\"681.0001,-385.2476 677.5,-375.2477 674.0001,-385.2477 681.0001,-385.2476\"/>\n</g>\n<!-- IL -->\n<g id=\"node4\" class=\"node\">\n<title>IL</title>\n<polygon fill=\"#f4a261\" stroke=\"#eeeeee\" points=\"970,-375 831,-375 831,-322 970,-322 970,-375\"/>\n<text text-anchor=\"middle\" x=\"900.5\" y=\"-359.8\" font-family=\"roboto\" font-size=\"14.00\" fill=\"#eeeeee\">Inactive land stock </text>\n<text text-anchor=\"middle\" x=\"900.5\" y=\"-344.8\" font-family=\"roboto\" font-size=\"14.00\" fill=\"#eeeeee\"> (IL) </text>\n<text text-anchor=\"middle\" x=\"900.5\" y=\"-329.8\" font-family=\"roboto\" font-size=\"14.00\" fill=\"#eeeeee\"> 1000 ha</text>\n</g>\n<!-- IL&#45;&gt;FL_RF_comp -->\n<g id=\"edge4\" class=\"edge\">\n<title>IL&#45;&gt;FL_RF_comp</title>\n<path fill=\"none\" stroke=\"#a9a9a9\" d=\"M900.5,-321.6947C900.5,-321.6947 900.5,-296.0658 900.5,-296.0658\"/>\n<polygon fill=\"#a9a9a9\" stroke=\"#a9a9a9\" points=\"904.0001,-296.0657 900.5,-286.0658 897.0001,-296.0658 904.0001,-296.0657\"/>\n</g>\n<!-- IL_comp -->\n<g id=\"node5\" class=\"node\">\n<title>IL_comp</title>\n<polygon fill=\"none\" stroke=\"#a9a9a9\" points=\"1156.5,-447 786.5,-447 786.5,-411 1156.5,-411 1156.5,-447\"/>\n<text text-anchor=\"middle\" x=\"971.5\" y=\"-425.3\" font-family=\"roboto\" font-size=\"14.00\" fill=\"#000000\">(IL_baseline &#45; delta_CL).clip(lower=0) # to double check</text>\n</g>\n<!-- IL_comp&#45;&gt;IL -->\n<g id=\"edge5\" class=\"edge\">\n<title>IL_comp&#45;&gt;IL</title>\n<path fill=\"none\" stroke=\"#a9a9a9\" d=\"M900.5,-410.7333C900.5,-410.7333 900.5,-385.2477 900.5,-385.2477\"/>\n<polygon fill=\"#a9a9a9\" stroke=\"#a9a9a9\" points=\"904.0001,-385.2476 900.5,-375.2477 897.0001,-385.2477 904.0001,-385.2476\"/>\n</g>\n<!-- R_rate -->\n<g id=\"node6\" class=\"node\">\n<title>R_rate</title>\n<polygon fill=\"#e9c46a\" stroke=\"#eeeeee\" points=\"1139,-375 988,-375 988,-322 1139,-322 1139,-375\"/>\n<text text-anchor=\"middle\" x=\"1063.5\" y=\"-359.8\" font-family=\"roboto\" font-size=\"14.00\" fill=\"#eeeeee\">Rate of reforestation </text>\n<text text-anchor=\"middle\" x=\"1063.5\" y=\"-344.8\" font-family=\"roboto\" font-size=\"14.00\" fill=\"#eeeeee\"> (R_rate) </text>\n<text text-anchor=\"middle\" x=\"1063.5\" y=\"-329.8\" font-family=\"roboto\" font-size=\"14.00\" fill=\"#eeeeee\"> %</text>\n</g>\n<!-- R_rate&#45;&gt;FL_RF_comp -->\n<g id=\"edge6\" class=\"edge\">\n<title>R_rate&#45;&gt;FL_RF_comp</title>\n<path fill=\"none\" stroke=\"#a9a9a9\" d=\"M987.7734,-348C979.3594,-348 973.75,-348 973.75,-348 973.75,-348 973.75,-296.1532 973.75,-296.1532\"/>\n<polygon fill=\"#a9a9a9\" stroke=\"#a9a9a9\" points=\"977.2501,-296.1532 973.75,-286.1532 970.2501,-296.1533 977.2501,-296.1532\"/>\n</g>\n<!-- FL_RF -->\n<g id=\"node7\" class=\"node\">\n<title>FL_RF</title>\n<polygon fill=\"#f4a261\" stroke=\"#eeeeee\" points=\"1045.5,-214 755.5,-214 755.5,-161 1045.5,-161 1045.5,-214\"/>\n<text text-anchor=\"middle\" x=\"900.5\" y=\"-198.8\" font-family=\"roboto\" font-size=\"14.00\" fill=\"#eeeeee\">Forest land stock after reforestation policy </text>\n<text text-anchor=\"middle\" x=\"900.5\" y=\"-183.8\" font-family=\"roboto\" font-size=\"14.00\" fill=\"#eeeeee\"> (FL_RF) </text>\n<text text-anchor=\"middle\" x=\"900.5\" y=\"-168.8\" font-family=\"roboto\" font-size=\"14.00\" fill=\"#eeeeee\"> 1000 ha</text>\n</g>\n<!-- FL_RF&#45;&gt;BE2_comp -->\n<g id=\"edge7\" class=\"edge\">\n<title>FL_RF&#45;&gt;BE2_comp</title>\n<path fill=\"none\" stroke=\"#a9a9a9\" d=\"M806,-160.6947C806,-160.6947 806,-135.0658 806,-135.0658\"/>\n<polygon fill=\"#a9a9a9\" stroke=\"#a9a9a9\" points=\"809.5001,-135.0657 806,-125.0658 802.5001,-135.0658 809.5001,-135.0657\"/>\n</g>\n<!-- FL_RF_comp&#45;&gt;FL_RF -->\n<g id=\"edge8\" class=\"edge\">\n<title>FL_RF_comp&#45;&gt;FL_RF</title>\n<path fill=\"none\" stroke=\"#a9a9a9\" d=\"M900.5,-249.7333C900.5,-249.7333 900.5,-224.2477 900.5,-224.2477\"/>\n<polygon fill=\"#a9a9a9\" stroke=\"#a9a9a9\" points=\"904.0001,-224.2476 900.5,-214.2477 897.0001,-224.2477 904.0001,-224.2476\"/>\n</g>\n<!-- BE2 -->\n<g id=\"node9\" class=\"node\">\n<title>BE2</title>\n<polygon fill=\"#2a9d8f\" stroke=\"#eeeeee\" points=\"918,-53 663,-53 663,0 918,0 918,-53\"/>\n<text text-anchor=\"middle\" x=\"790.5\" y=\"-37.8\" font-family=\"roboto\" font-size=\"14.00\" fill=\"#eeeeee\">Share of forest area to total land area </text>\n<text text-anchor=\"middle\" x=\"790.5\" y=\"-22.8\" font-family=\"roboto\" font-size=\"14.00\" fill=\"#eeeeee\"> (BE2) </text>\n<text text-anchor=\"middle\" x=\"790.5\" y=\"-7.8\" font-family=\"roboto\" font-size=\"14.00\" fill=\"#eeeeee\"> %</text>\n</g>\n<!-- BE2_comp&#45;&gt;BE2 -->\n<g id=\"edge9\" class=\"edge\">\n<title>BE2_comp&#45;&gt;BE2</title>\n<path fill=\"none\" stroke=\"#a9a9a9\" d=\"M790.5,-88.7333C790.5,-88.7333 790.5,-63.2477 790.5,-63.2477\"/>\n<polygon fill=\"#a9a9a9\" stroke=\"#a9a9a9\" points=\"794.0001,-63.2476 790.5,-53.2477 787.0001,-63.2477 794.0001,-63.2476\"/>\n</g>\n<!-- CL -->\n<g id=\"node11\" class=\"node\">\n<title>CL</title>\n<polygon fill=\"#f4a261\" stroke=\"#eeeeee\" points=\"924.5,-697 808.5,-697 808.5,-644 924.5,-644 924.5,-697\"/>\n<text text-anchor=\"middle\" x=\"866.5\" y=\"-681.8\" font-family=\"roboto\" font-size=\"14.00\" fill=\"#eeeeee\">Cropland stock </text>\n<text text-anchor=\"middle\" x=\"866.5\" y=\"-666.8\" font-family=\"roboto\" font-size=\"14.00\" fill=\"#eeeeee\"> (CL) </text>\n<text text-anchor=\"middle\" x=\"866.5\" y=\"-651.8\" font-family=\"roboto\" font-size=\"14.00\" fill=\"#eeeeee\"> 1000 ha</text>\n</g>\n<!-- delta_CL_comp -->\n<g id=\"node15\" class=\"node\">\n<title>delta_CL_comp</title>\n<polygon fill=\"none\" stroke=\"#a9a9a9\" points=\"1008,-608 887,-608 887,-572 1008,-572 1008,-608\"/>\n<text text-anchor=\"middle\" x=\"947.5\" y=\"-586.3\" font-family=\"roboto\" font-size=\"14.00\" fill=\"#000000\">CL &#45; CL_baseline</text>\n</g>\n<!-- CL&#45;&gt;delta_CL_comp -->\n<g id=\"edge10\" class=\"edge\">\n<title>CL&#45;&gt;delta_CL_comp</title>\n<path fill=\"none\" stroke=\"#a9a9a9\" d=\"M905.75,-643.6947C905.75,-643.6947 905.75,-618.0658 905.75,-618.0658\"/>\n<polygon fill=\"#a9a9a9\" stroke=\"#a9a9a9\" points=\"909.2501,-618.0657 905.75,-608.0658 902.2501,-618.0658 909.2501,-618.0657\"/>\n</g>\n<!-- CL_comp -->\n<g id=\"node12\" class=\"node\">\n<title>CL_comp</title>\n<polygon fill=\"none\" stroke=\"#a9a9a9\" points=\"1136,-769 597,-769 597,-733 1136,-733 1136,-769\"/>\n<text text-anchor=\"middle\" x=\"866.5\" y=\"-747.3\" font-family=\"roboto\" font-size=\"14.00\" fill=\"#000000\">TCLDi.groupby(level=[&#39;ISO&#39;, &#39;Year&#39;]).sum() * 1e&#45;3 * CL_corr_coef# &#160;Strange to check !</text>\n</g>\n<!-- CL_comp&#45;&gt;CL -->\n<g id=\"edge11\" class=\"edge\">\n<title>CL_comp&#45;&gt;CL</title>\n<path fill=\"none\" stroke=\"#a9a9a9\" d=\"M866.5,-732.7333C866.5,-732.7333 866.5,-707.2477 866.5,-707.2477\"/>\n<polygon fill=\"#a9a9a9\" stroke=\"#a9a9a9\" points=\"870.0001,-707.2476 866.5,-697.2477 863.0001,-707.2477 870.0001,-707.2476\"/>\n</g>\n<!-- CL_baseline -->\n<g id=\"node13\" class=\"node\">\n<title>CL_baseline</title>\n<polygon fill=\"#e76f51\" stroke=\"#eeeeee\" points=\"1116,-697 943,-697 943,-644 1116,-644 1116,-697\"/>\n<text text-anchor=\"middle\" x=\"1029.5\" y=\"-681.8\" font-family=\"roboto\" font-size=\"14.00\" fill=\"#eeeeee\">Cropland stock baseline </text>\n<text text-anchor=\"middle\" x=\"1029.5\" y=\"-666.8\" font-family=\"roboto\" font-size=\"14.00\" fill=\"#eeeeee\"> (CL_baseline) </text>\n<text text-anchor=\"middle\" x=\"1029.5\" y=\"-651.8\" font-family=\"roboto\" font-size=\"14.00\" fill=\"#eeeeee\"> 1000 ha</text>\n</g>\n<!-- CL_baseline&#45;&gt;delta_CL_comp -->\n<g id=\"edge12\" class=\"edge\">\n<title>CL_baseline&#45;&gt;delta_CL_comp</title>\n<path fill=\"none\" stroke=\"#a9a9a9\" d=\"M975.5,-643.6947C975.5,-643.6947 975.5,-618.0658 975.5,-618.0658\"/>\n<polygon fill=\"#a9a9a9\" stroke=\"#a9a9a9\" points=\"979.0001,-618.0657 975.5,-608.0658 972.0001,-618.0658 979.0001,-618.0657\"/>\n</g>\n<!-- delta_CL -->\n<g id=\"node14\" class=\"node\">\n<title>delta_CL</title>\n<polygon fill=\"#f4a261\" stroke=\"#eeeeee\" points=\"1018.5,-536 876.5,-536 876.5,-483 1018.5,-483 1018.5,-536\"/>\n<text text-anchor=\"middle\" x=\"947.5\" y=\"-520.8\" font-family=\"roboto\" font-size=\"14.00\" fill=\"#eeeeee\">Change in cropland </text>\n<text text-anchor=\"middle\" x=\"947.5\" y=\"-505.8\" font-family=\"roboto\" font-size=\"14.00\" fill=\"#eeeeee\"> (delta_CL) </text>\n<text text-anchor=\"middle\" x=\"947.5\" y=\"-490.8\" font-family=\"roboto\" font-size=\"14.00\" fill=\"#eeeeee\"> 1000 ha</text>\n</g>\n<!-- delta_CL&#45;&gt;FL_comp -->\n<g id=\"edge13\" class=\"edge\">\n<title>delta_CL&#45;&gt;FL_comp</title>\n<path fill=\"none\" stroke=\"#a9a9a9\" d=\"M923.8333,-482.8434C923.8333,-473.3662 923.8333,-465 923.8333,-465 923.8333,-465 737.6667,-465 737.6667,-465 737.6667,-465 737.6667,-457.4218 737.6667,-457.4218\"/>\n<polygon fill=\"#a9a9a9\" stroke=\"#a9a9a9\" points=\"741.1668,-457.4218 737.6667,-447.4218 734.1668,-457.4219 741.1668,-457.4218\"/>\n</g>\n<!-- delta_CL&#45;&gt;IL_comp -->\n<g id=\"edge14\" class=\"edge\">\n<title>delta_CL&#45;&gt;IL_comp</title>\n<path fill=\"none\" stroke=\"#a9a9a9\" d=\"M971.1667,-482.6947C971.1667,-482.6947 971.1667,-457.0658 971.1667,-457.0658\"/>\n<polygon fill=\"#a9a9a9\" stroke=\"#a9a9a9\" points=\"974.6668,-457.0657 971.1667,-447.0658 967.6668,-457.0658 974.6668,-457.0657\"/>\n</g>\n<!-- delta_CL_comp&#45;&gt;delta_CL -->\n<g id=\"edge15\" class=\"edge\">\n<title>delta_CL_comp&#45;&gt;delta_CL</title>\n<path fill=\"none\" stroke=\"#a9a9a9\" d=\"M947.5,-571.7333C947.5,-571.7333 947.5,-546.2477 947.5,-546.2477\"/>\n<polygon fill=\"#a9a9a9\" stroke=\"#a9a9a9\" points=\"951.0001,-546.2476 947.5,-536.2477 944.0001,-546.2477 951.0001,-546.2476\"/>\n</g>\n<!-- IL_baseline -->\n<g id=\"node16\" class=\"node\">\n<title>IL_baseline</title>\n<polygon fill=\"#e76f51\" stroke=\"#eeeeee\" points=\"834,-536 677,-536 677,-483 834,-483 834,-536\"/>\n<text text-anchor=\"middle\" x=\"755.5\" y=\"-520.8\" font-family=\"roboto\" font-size=\"14.00\" fill=\"#eeeeee\">Inactive land baseline </text>\n<text text-anchor=\"middle\" x=\"755.5\" y=\"-505.8\" font-family=\"roboto\" font-size=\"14.00\" fill=\"#eeeeee\"> (IL_baseline) </text>\n<text text-anchor=\"middle\" x=\"755.5\" y=\"-490.8\" font-family=\"roboto\" font-size=\"14.00\" fill=\"#eeeeee\"> 1000 ha</text>\n</g>\n<!-- IL_baseline&#45;&gt;FL_comp -->\n<g id=\"edge16\" class=\"edge\">\n<title>IL_baseline&#45;&gt;FL_comp</title>\n<path fill=\"none\" stroke=\"#a9a9a9\" d=\"M707.3333,-482.6947C707.3333,-482.6947 707.3333,-457.0658 707.3333,-457.0658\"/>\n<polygon fill=\"#a9a9a9\" stroke=\"#a9a9a9\" points=\"710.8334,-457.0657 707.3333,-447.0658 703.8334,-457.0658 710.8334,-457.0657\"/>\n</g>\n<!-- IL_baseline&#45;&gt;IL_comp -->\n<g id=\"edge17\" class=\"edge\">\n<title>IL_baseline&#45;&gt;IL_comp</title>\n<path fill=\"none\" stroke=\"#a9a9a9\" d=\"M810.25,-482.6947C810.25,-482.6947 810.25,-457.0658 810.25,-457.0658\"/>\n<polygon fill=\"#a9a9a9\" stroke=\"#a9a9a9\" points=\"813.7501,-457.0657 810.25,-447.0658 806.7501,-457.0658 813.7501,-457.0657\"/>\n</g>\n<!-- FL_baseline -->\n<g id=\"node17\" class=\"node\">\n<title>FL_baseline</title>\n<polygon fill=\"#e76f51\" stroke=\"#eeeeee\" points=\"611,-536 462,-536 462,-483 611,-483 611,-536\"/>\n<text text-anchor=\"middle\" x=\"536.5\" y=\"-520.8\" font-family=\"roboto\" font-size=\"14.00\" fill=\"#eeeeee\">Forest land baseline </text>\n<text text-anchor=\"middle\" x=\"536.5\" y=\"-505.8\" font-family=\"roboto\" font-size=\"14.00\" fill=\"#eeeeee\"> (FL_baseline) </text>\n<text text-anchor=\"middle\" x=\"536.5\" y=\"-490.8\" font-family=\"roboto\" font-size=\"14.00\" fill=\"#eeeeee\"> 1000 ha</text>\n</g>\n<!-- FL_baseline&#45;&gt;FL_comp -->\n<g id=\"edge18\" class=\"edge\">\n<title>FL_baseline&#45;&gt;FL_comp</title>\n<path fill=\"none\" stroke=\"#a9a9a9\" d=\"M536.5,-482.6947C536.5,-482.6947 536.5,-457.0658 536.5,-457.0658\"/>\n<polygon fill=\"#a9a9a9\" stroke=\"#a9a9a9\" points=\"540.0001,-457.0657 536.5,-447.0658 533.0001,-457.0658 540.0001,-457.0657\"/>\n</g>\n<!-- TCLDi -->\n<g id=\"node18\" class=\"node\">\n<title>TCLDi</title>\n<polygon fill=\"#f4a261\" stroke=\"#eeeeee\" points=\"852,-858 719,-858 719,-805 852,-805 852,-858\"/>\n<text text-anchor=\"middle\" x=\"785.5\" y=\"-842.8\" font-family=\"roboto\" font-size=\"14.00\" fill=\"#eeeeee\">Cropland demand </text>\n<text text-anchor=\"middle\" x=\"785.5\" y=\"-827.8\" font-family=\"roboto\" font-size=\"14.00\" fill=\"#eeeeee\"> (TCLDi) </text>\n<text text-anchor=\"middle\" x=\"785.5\" y=\"-812.8\" font-family=\"roboto\" font-size=\"14.00\" fill=\"#eeeeee\"> ha</text>\n</g>\n<!-- TCLDi&#45;&gt;CL_comp -->\n<g id=\"edge19\" class=\"edge\">\n<title>TCLDi&#45;&gt;CL_comp</title>\n<path fill=\"none\" stroke=\"#a9a9a9\" d=\"M785.5,-804.6947C785.5,-804.6947 785.5,-779.0658 785.5,-779.0658\"/>\n<polygon fill=\"#a9a9a9\" stroke=\"#a9a9a9\" points=\"789.0001,-779.0657 785.5,-769.0658 782.0001,-779.0658 789.0001,-779.0657\"/>\n</g>\n<!-- TCLDi_comp -->\n<g id=\"node19\" class=\"node\">\n<title>TCLDi_comp</title>\n<polygon fill=\"none\" stroke=\"#a9a9a9\" points=\"874.5,-930 696.5,-930 696.5,-894 874.5,-894 874.5,-930\"/>\n<text text-anchor=\"middle\" x=\"785.5\" y=\"-908.3\" font-family=\"roboto\" font-size=\"14.00\" fill=\"#000000\">ktonnes_to_hg * FPi / CYi</text>\n</g>\n<!-- TCLDi_comp&#45;&gt;TCLDi -->\n<g id=\"edge20\" class=\"edge\">\n<title>TCLDi_comp&#45;&gt;TCLDi</title>\n<path fill=\"none\" stroke=\"#a9a9a9\" d=\"M785.5,-893.7333C785.5,-893.7333 785.5,-868.2477 785.5,-868.2477\"/>\n<polygon fill=\"#a9a9a9\" stroke=\"#a9a9a9\" points=\"789.0001,-868.2476 785.5,-858.2477 782.0001,-868.2477 789.0001,-868.2476\"/>\n</g>\n<!-- CL_corr_coef -->\n<g id=\"node20\" class=\"node\">\n<title>CL_corr_coef</title>\n<polygon fill=\"#e76f51\" stroke=\"#eeeeee\" points=\"1027,-858 870,-858 870,-805 1027,-805 1027,-858\"/>\n<text text-anchor=\"middle\" x=\"948.5\" y=\"-842.8\" font-family=\"roboto\" font-size=\"14.00\" fill=\"#eeeeee\">Correction coefficient </text>\n<text text-anchor=\"middle\" x=\"948.5\" y=\"-827.8\" font-family=\"roboto\" font-size=\"14.00\" fill=\"#eeeeee\"> (CL_corr_coef) </text>\n<text text-anchor=\"middle\" x=\"948.5\" y=\"-812.8\" font-family=\"roboto\" font-size=\"14.00\" fill=\"#eeeeee\"> 1</text>\n</g>\n<!-- CL_corr_coef&#45;&gt;CL_comp -->\n<g id=\"edge21\" class=\"edge\">\n<title>CL_corr_coef&#45;&gt;CL_comp</title>\n<path fill=\"none\" stroke=\"#a9a9a9\" d=\"M948.5,-804.6947C948.5,-804.6947 948.5,-779.0658 948.5,-779.0658\"/>\n<polygon fill=\"#a9a9a9\" stroke=\"#a9a9a9\" points=\"952.0001,-779.0657 948.5,-769.0658 945.0001,-779.0658 952.0001,-779.0657\"/>\n</g>\n<!-- CYi -->\n<g id=\"node21\" class=\"node\">\n<title>CYi</title>\n<polygon fill=\"#e76f51\" stroke=\"#eeeeee\" points=\"765,-1019 586,-1019 586,-966 765,-966 765,-1019\"/>\n<text text-anchor=\"middle\" x=\"675.5\" y=\"-1003.8\" font-family=\"roboto\" font-size=\"14.00\" fill=\"#eeeeee\">Crop yields per crop type </text>\n<text text-anchor=\"middle\" x=\"675.5\" y=\"-988.8\" font-family=\"roboto\" font-size=\"14.00\" fill=\"#eeeeee\"> (CYi) </text>\n<text text-anchor=\"middle\" x=\"675.5\" y=\"-973.8\" font-family=\"roboto\" font-size=\"14.00\" fill=\"#eeeeee\"> hg/ha</text>\n</g>\n<!-- CYi&#45;&gt;TCLDi_comp -->\n<g id=\"edge22\" class=\"edge\">\n<title>CYi&#45;&gt;TCLDi_comp</title>\n<path fill=\"none\" stroke=\"#a9a9a9\" d=\"M730.75,-965.6947C730.75,-965.6947 730.75,-940.0658 730.75,-940.0658\"/>\n<polygon fill=\"#a9a9a9\" stroke=\"#a9a9a9\" points=\"734.2501,-940.0657 730.75,-930.0658 727.2501,-940.0658 734.2501,-940.0657\"/>\n</g>\n<!-- FPi -->\n<g id=\"node22\" class=\"node\">\n<title>FPi</title>\n<polygon fill=\"#f4a261\" stroke=\"#eeeeee\" points=\"1007.5,-1019 783.5,-1019 783.5,-966 1007.5,-966 1007.5,-1019\"/>\n<text text-anchor=\"middle\" x=\"895.5\" y=\"-1003.8\" font-family=\"roboto\" font-size=\"14.00\" fill=\"#eeeeee\">Food production per food group </text>\n<text text-anchor=\"middle\" x=\"895.5\" y=\"-988.8\" font-family=\"roboto\" font-size=\"14.00\" fill=\"#eeeeee\"> (FPi) </text>\n<text text-anchor=\"middle\" x=\"895.5\" y=\"-973.8\" font-family=\"roboto\" font-size=\"14.00\" fill=\"#eeeeee\"> 1000 tonnes</text>\n</g>\n<!-- FPi&#45;&gt;TCLDi_comp -->\n<g id=\"edge23\" class=\"edge\">\n<title>FPi&#45;&gt;TCLDi_comp</title>\n<path fill=\"none\" stroke=\"#a9a9a9\" d=\"M829,-965.6947C829,-965.6947 829,-940.0658 829,-940.0658\"/>\n<polygon fill=\"#a9a9a9\" stroke=\"#a9a9a9\" points=\"832.5001,-940.0657 829,-930.0658 825.5001,-940.0658 832.5001,-940.0657\"/>\n</g>\n<!-- FPi_comp -->\n<g id=\"node23\" class=\"node\">\n<title>FPi_comp</title>\n<polygon fill=\"none\" stroke=\"#a9a9a9\" points=\"982.5,-1091 808.5,-1091 808.5,-1055 982.5,-1055 982.5,-1091\"/>\n<text text-anchor=\"middle\" x=\"895.5\" y=\"-1069.3\" font-family=\"roboto\" font-size=\"14.00\" fill=\"#000000\">(OFi + FDi + FDPi) * SSRi</text>\n</g>\n<!-- FPi_comp&#45;&gt;FPi -->\n<g id=\"edge24\" class=\"edge\">\n<title>FPi_comp&#45;&gt;FPi</title>\n<path fill=\"none\" stroke=\"#a9a9a9\" d=\"M895.5,-1054.7333C895.5,-1054.7333 895.5,-1029.2477 895.5,-1029.2477\"/>\n<polygon fill=\"#a9a9a9\" stroke=\"#a9a9a9\" points=\"899.0001,-1029.2476 895.5,-1019.2477 892.0001,-1029.2477 899.0001,-1029.2476\"/>\n</g>\n<!-- FLOi -->\n<g id=\"node24\" class=\"node\">\n<title>FLOi</title>\n<polygon fill=\"#e76f51\" stroke=\"#eeeeee\" points=\"197,-1341 0,-1341 0,-1288 197,-1288 197,-1341\"/>\n<text text-anchor=\"middle\" x=\"98.5\" y=\"-1325.8\" font-family=\"roboto\" font-size=\"14.00\" fill=\"#eeeeee\">Food losses per food group </text>\n<text text-anchor=\"middle\" x=\"98.5\" y=\"-1310.8\" font-family=\"roboto\" font-size=\"14.00\" fill=\"#eeeeee\"> (FLOi) </text>\n<text text-anchor=\"middle\" x=\"98.5\" y=\"-1295.8\" font-family=\"roboto\" font-size=\"14.00\" fill=\"#eeeeee\"> 1000 tonnes</text>\n</g>\n<!-- FDPi_comp -->\n<g id=\"node28\" class=\"node\">\n<title>FDPi_comp</title>\n<polygon fill=\"none\" stroke=\"#a9a9a9\" points=\"663.5,-1252 259.5,-1252 259.5,-1216 663.5,-1216 663.5,-1252\"/>\n<text text-anchor=\"middle\" x=\"461.5\" y=\"-1230.3\" font-family=\"roboto\" font-size=\"14.00\" fill=\"#000000\">kg_to_1000tonnes * day_per_year * FDKGi * Pop * 1e3 + FLOi</text>\n</g>\n<!-- FLOi&#45;&gt;FDPi_comp -->\n<g id=\"edge25\" class=\"edge\">\n<title>FLOi&#45;&gt;FDPi_comp</title>\n<path fill=\"none\" stroke=\"#a9a9a9\" d=\"M98.5,-1287.6947C98.5,-1264.2772 98.5,-1234 98.5,-1234 98.5,-1234 249.3023,-1234 249.3023,-1234\"/>\n<polygon fill=\"#a9a9a9\" stroke=\"#a9a9a9\" points=\"249.3023,-1237.5001 259.3023,-1234 249.3023,-1230.5001 249.3023,-1237.5001\"/>\n</g>\n<!-- FDKGi -->\n<g id=\"node25\" class=\"node\">\n<title>FDKGi</title>\n<polygon fill=\"#e76f51\" stroke=\"#eeeeee\" points=\"490,-1341 215,-1341 215,-1288 490,-1288 490,-1341\"/>\n<text text-anchor=\"middle\" x=\"352.5\" y=\"-1325.8\" font-family=\"roboto\" font-size=\"14.00\" fill=\"#eeeeee\">Kg food demand per day per food group </text>\n<text text-anchor=\"middle\" x=\"352.5\" y=\"-1310.8\" font-family=\"roboto\" font-size=\"14.00\" fill=\"#eeeeee\"> (FDKGi) </text>\n<text text-anchor=\"middle\" x=\"352.5\" y=\"-1295.8\" font-family=\"roboto\" font-size=\"14.00\" fill=\"#eeeeee\"> kg/capita/day</text>\n</g>\n<!-- FDKGi&#45;&gt;FDPi_comp -->\n<g id=\"edge26\" class=\"edge\">\n<title>FDKGi&#45;&gt;FDPi_comp</title>\n<path fill=\"none\" stroke=\"#a9a9a9\" d=\"M374.75,-1287.6947C374.75,-1287.6947 374.75,-1262.0658 374.75,-1262.0658\"/>\n<polygon fill=\"#a9a9a9\" stroke=\"#a9a9a9\" points=\"378.2501,-1262.0657 374.75,-1252.0658 371.2501,-1262.0658 378.2501,-1262.0657\"/>\n</g>\n<!-- SSRi -->\n<g id=\"node26\" class=\"node\">\n<title>SSRi</title>\n<polygon fill=\"#e76f51\" stroke=\"#eeeeee\" points=\"640.5,-1180 392.5,-1180 392.5,-1127 640.5,-1127 640.5,-1180\"/>\n<text text-anchor=\"middle\" x=\"516.5\" y=\"-1164.8\" font-family=\"roboto\" font-size=\"14.00\" fill=\"#eeeeee\">Self&#45;sufficiency ratio per food group </text>\n<text text-anchor=\"middle\" x=\"516.5\" y=\"-1149.8\" font-family=\"roboto\" font-size=\"14.00\" fill=\"#eeeeee\"> (SSRi) </text>\n<text text-anchor=\"middle\" x=\"516.5\" y=\"-1134.8\" font-family=\"roboto\" font-size=\"14.00\" fill=\"#eeeeee\"> 1</text>\n</g>\n<!-- SSRi&#45;&gt;FPi_comp -->\n<g id=\"edge27\" class=\"edge\">\n<title>SSRi&#45;&gt;FPi_comp</title>\n<path fill=\"none\" stroke=\"#a9a9a9\" d=\"M613.25,-1126.6947C613.25,-1103.2772 613.25,-1073 613.25,-1073 613.25,-1073 798.1273,-1073 798.1273,-1073\"/>\n<polygon fill=\"#a9a9a9\" stroke=\"#a9a9a9\" points=\"798.1273,-1076.5001 808.1273,-1073 798.1272,-1069.5001 798.1273,-1076.5001\"/>\n</g>\n<!-- FDPi -->\n<g id=\"node27\" class=\"node\">\n<title>FDPi</title>\n<polygon fill=\"#f4a261\" stroke=\"#eeeeee\" points=\"914.5,-1180 658.5,-1180 658.5,-1127 914.5,-1127 914.5,-1180\"/>\n<text text-anchor=\"middle\" x=\"786.5\" y=\"-1164.8\" font-family=\"roboto\" font-size=\"14.00\" fill=\"#eeeeee\">Total food production per food group </text>\n<text text-anchor=\"middle\" x=\"786.5\" y=\"-1149.8\" font-family=\"roboto\" font-size=\"14.00\" fill=\"#eeeeee\"> (FDPi) </text>\n<text text-anchor=\"middle\" x=\"786.5\" y=\"-1134.8\" font-family=\"roboto\" font-size=\"14.00\" fill=\"#eeeeee\"> 1000 tonnes</text>\n</g>\n<!-- FDPi&#45;&gt;FPi_comp -->\n<g id=\"edge28\" class=\"edge\">\n<title>FDPi&#45;&gt;FPi_comp</title>\n<path fill=\"none\" stroke=\"#a9a9a9\" d=\"M861.5,-1126.6947C861.5,-1126.6947 861.5,-1101.0658 861.5,-1101.0658\"/>\n<polygon fill=\"#a9a9a9\" stroke=\"#a9a9a9\" points=\"865.0001,-1101.0657 861.5,-1091.0658 858.0001,-1101.0658 865.0001,-1101.0657\"/>\n</g>\n<!-- FDPi_comp&#45;&gt;FDPi -->\n<g id=\"edge29\" class=\"edge\">\n<title>FDPi_comp&#45;&gt;FDPi</title>\n<path fill=\"none\" stroke=\"#a9a9a9\" d=\"M649.5,-1215.6198C649.5,-1191.7215 649.5,-1153 649.5,-1153 649.5,-1153 650.3989,-1153 650.3989,-1153\"/>\n<polygon fill=\"#a9a9a9\" stroke=\"#a9a9a9\" points=\"648.489,-1156.5001 658.489,-1153 648.4889,-1149.5001 648.489,-1156.5001\"/>\n</g>\n<!-- OFi -->\n<g id=\"node29\" class=\"node\">\n<title>OFi</title>\n<polygon fill=\"#f4a261\" stroke=\"#eeeeee\" points=\"1076,-1180 933,-1180 933,-1127 1076,-1127 1076,-1180\"/>\n<text text-anchor=\"middle\" x=\"1004.5\" y=\"-1164.8\" font-family=\"roboto\" font-size=\"14.00\" fill=\"#eeeeee\">Other food demand </text>\n<text text-anchor=\"middle\" x=\"1004.5\" y=\"-1149.8\" font-family=\"roboto\" font-size=\"14.00\" fill=\"#eeeeee\"> (OFi) </text>\n<text text-anchor=\"middle\" x=\"1004.5\" y=\"-1134.8\" font-family=\"roboto\" font-size=\"14.00\" fill=\"#eeeeee\"> 1000 tonnes</text>\n</g>\n<!-- OFi&#45;&gt;FPi_comp -->\n<g id=\"edge30\" class=\"edge\">\n<title>OFi&#45;&gt;FPi_comp</title>\n<path fill=\"none\" stroke=\"#a9a9a9\" d=\"M957.75,-1126.6947C957.75,-1126.6947 957.75,-1101.0658 957.75,-1101.0658\"/>\n<polygon fill=\"#a9a9a9\" stroke=\"#a9a9a9\" points=\"961.2501,-1101.0657 957.75,-1091.0658 954.2501,-1101.0658 961.2501,-1101.0657\"/>\n</g>\n<!-- OFi_comp -->\n<g id=\"node30\" class=\"node\">\n<title>OFi_comp</title>\n<polygon fill=\"none\" stroke=\"#a9a9a9\" points=\"1200,-1252 1003,-1252 1003,-1216 1200,-1216 1200,-1252\"/>\n<text text-anchor=\"middle\" x=\"1101.5\" y=\"-1230.3\" font-family=\"roboto\" font-size=\"14.00\" fill=\"#000000\">SDi + NFDi + PDi + RDi + SVi</text>\n</g>\n<!-- OFi_comp&#45;&gt;OFi -->\n<g id=\"edge31\" class=\"edge\">\n<title>OFi_comp&#45;&gt;OFi</title>\n<path fill=\"none\" stroke=\"#a9a9a9\" d=\"M1039.5,-1215.7333C1039.5,-1215.7333 1039.5,-1190.2477 1039.5,-1190.2477\"/>\n<polygon fill=\"#a9a9a9\" stroke=\"#a9a9a9\" points=\"1043.0001,-1190.2476 1039.5,-1180.2477 1036.0001,-1190.2477 1043.0001,-1190.2476\"/>\n</g>\n<!-- SDi -->\n<g id=\"node31\" class=\"node\">\n<title>SDi</title>\n<polygon fill=\"#e76f51\" stroke=\"#eeeeee\" points=\"1085.5,-1341 879.5,-1341 879.5,-1288 1085.5,-1288 1085.5,-1341\"/>\n<text text-anchor=\"middle\" x=\"982.5\" y=\"-1325.8\" font-family=\"roboto\" font-size=\"14.00\" fill=\"#eeeeee\">Seed demand per food group </text>\n<text text-anchor=\"middle\" x=\"982.5\" y=\"-1310.8\" font-family=\"roboto\" font-size=\"14.00\" fill=\"#eeeeee\"> (SDi) </text>\n<text text-anchor=\"middle\" x=\"982.5\" y=\"-1295.8\" font-family=\"roboto\" font-size=\"14.00\" fill=\"#eeeeee\"> 1000 tonnes</text>\n</g>\n<!-- SDi&#45;&gt;OFi_comp -->\n<g id=\"edge32\" class=\"edge\">\n<title>SDi&#45;&gt;OFi_comp</title>\n<path fill=\"none\" stroke=\"#a9a9a9\" d=\"M1044.25,-1287.6947C1044.25,-1287.6947 1044.25,-1262.0658 1044.25,-1262.0658\"/>\n<polygon fill=\"#a9a9a9\" stroke=\"#a9a9a9\" points=\"1047.7501,-1262.0657 1044.25,-1252.0658 1040.7501,-1262.0658 1047.7501,-1262.0657\"/>\n</g>\n<!-- NFDi -->\n<g id=\"node32\" class=\"node\">\n<title>NFDi</title>\n<polygon fill=\"#e76f51\" stroke=\"#eeeeee\" points=\"1337.5,-1341 1103.5,-1341 1103.5,-1288 1337.5,-1288 1337.5,-1341\"/>\n<text text-anchor=\"middle\" x=\"1220.5\" y=\"-1325.8\" font-family=\"roboto\" font-size=\"14.00\" fill=\"#eeeeee\">Non&#45;food demand per food group </text>\n<text text-anchor=\"middle\" x=\"1220.5\" y=\"-1310.8\" font-family=\"roboto\" font-size=\"14.00\" fill=\"#eeeeee\"> (NFDi) </text>\n<text text-anchor=\"middle\" x=\"1220.5\" y=\"-1295.8\" font-family=\"roboto\" font-size=\"14.00\" fill=\"#eeeeee\"> 1000 tonnes</text>\n</g>\n<!-- NFDi&#45;&gt;OFi_comp -->\n<g id=\"edge33\" class=\"edge\">\n<title>NFDi&#45;&gt;OFi_comp</title>\n<path fill=\"none\" stroke=\"#a9a9a9\" d=\"M1151.75,-1287.6947C1151.75,-1287.6947 1151.75,-1262.0658 1151.75,-1262.0658\"/>\n<polygon fill=\"#a9a9a9\" stroke=\"#a9a9a9\" points=\"1155.2501,-1262.0657 1151.75,-1252.0658 1148.2501,-1262.0658 1155.2501,-1262.0657\"/>\n</g>\n<!-- PDi -->\n<g id=\"node33\" class=\"node\">\n<title>PDi</title>\n<polygon fill=\"#e76f51\" stroke=\"#eeeeee\" points=\"1597.5,-1341 1355.5,-1341 1355.5,-1288 1597.5,-1288 1597.5,-1341\"/>\n<text text-anchor=\"middle\" x=\"1476.5\" y=\"-1325.8\" font-family=\"roboto\" font-size=\"14.00\" fill=\"#eeeeee\">Processed demand per food group </text>\n<text text-anchor=\"middle\" x=\"1476.5\" y=\"-1310.8\" font-family=\"roboto\" font-size=\"14.00\" fill=\"#eeeeee\"> (PDi) </text>\n<text text-anchor=\"middle\" x=\"1476.5\" y=\"-1295.8\" font-family=\"roboto\" font-size=\"14.00\" fill=\"#eeeeee\"> 1000 tonnes</text>\n</g>\n<!-- PDi&#45;&gt;OFi_comp -->\n<g id=\"edge34\" class=\"edge\">\n<title>PDi&#45;&gt;OFi_comp</title>\n<path fill=\"none\" stroke=\"#a9a9a9\" d=\"M1476.5,-1287.6038C1476.5,-1266.2642 1476.5,-1240 1476.5,-1240 1476.5,-1240 1210.0268,-1240 1210.0268,-1240\"/>\n<polygon fill=\"#a9a9a9\" stroke=\"#a9a9a9\" points=\"1210.0269,-1236.5001 1200.0268,-1240 1210.0268,-1243.5001 1210.0269,-1236.5001\"/>\n</g>\n<!-- RDi -->\n<g id=\"node34\" class=\"node\">\n<title>RDi</title>\n<polygon fill=\"#e76f51\" stroke=\"#eeeeee\" points=\"1845,-1341 1616,-1341 1616,-1288 1845,-1288 1845,-1341\"/>\n<text text-anchor=\"middle\" x=\"1730.5\" y=\"-1325.8\" font-family=\"roboto\" font-size=\"14.00\" fill=\"#eeeeee\">Residual demand per food group </text>\n<text text-anchor=\"middle\" x=\"1730.5\" y=\"-1310.8\" font-family=\"roboto\" font-size=\"14.00\" fill=\"#eeeeee\"> (RDi) </text>\n<text text-anchor=\"middle\" x=\"1730.5\" y=\"-1295.8\" font-family=\"roboto\" font-size=\"14.00\" fill=\"#eeeeee\"> 1000 tonnes</text>\n</g>\n<!-- RDi&#45;&gt;OFi_comp -->\n<g id=\"edge35\" class=\"edge\">\n<title>RDi&#45;&gt;OFi_comp</title>\n<path fill=\"none\" stroke=\"#a9a9a9\" d=\"M1730.5,-1287.605C1730.5,-1262.2127 1730.5,-1228 1730.5,-1228 1730.5,-1228 1210.127,-1228 1210.127,-1228\"/>\n<polygon fill=\"#a9a9a9\" stroke=\"#a9a9a9\" points=\"1210.127,-1224.5001 1200.127,-1228 1210.127,-1231.5001 1210.127,-1224.5001\"/>\n</g>\n<!-- SVi -->\n<g id=\"node35\" class=\"node\">\n<title>SVi</title>\n<polygon fill=\"#e76f51\" stroke=\"#eeeeee\" points=\"861.5,-1341 649.5,-1341 649.5,-1288 861.5,-1288 861.5,-1341\"/>\n<text text-anchor=\"middle\" x=\"755.5\" y=\"-1325.8\" font-family=\"roboto\" font-size=\"14.00\" fill=\"#eeeeee\">Stock variation per food group </text>\n<text text-anchor=\"middle\" x=\"755.5\" y=\"-1310.8\" font-family=\"roboto\" font-size=\"14.00\" fill=\"#eeeeee\"> (SVi) </text>\n<text text-anchor=\"middle\" x=\"755.5\" y=\"-1295.8\" font-family=\"roboto\" font-size=\"14.00\" fill=\"#eeeeee\"> 1000 tonnes</text>\n</g>\n<!-- SVi&#45;&gt;OFi_comp -->\n<g id=\"edge36\" class=\"edge\">\n<title>SVi&#45;&gt;OFi_comp</title>\n<path fill=\"none\" stroke=\"#a9a9a9\" d=\"M762.5,-1287.6947C762.5,-1264.2772 762.5,-1234 762.5,-1234 762.5,-1234 992.9918,-1234 992.9918,-1234\"/>\n<polygon fill=\"#a9a9a9\" stroke=\"#a9a9a9\" points=\"992.9918,-1237.5001 1002.9918,-1234 992.9918,-1230.5001 992.9918,-1237.5001\"/>\n</g>\n<!-- FDi -->\n<g id=\"node36\" class=\"node\">\n<title>FDi</title>\n<polygon fill=\"#e76f51\" stroke=\"#eeeeee\" points=\"1300.5,-1180 1094.5,-1180 1094.5,-1127 1300.5,-1127 1300.5,-1180\"/>\n<text text-anchor=\"middle\" x=\"1197.5\" y=\"-1164.8\" font-family=\"roboto\" font-size=\"14.00\" fill=\"#eeeeee\">Feed demand per food group </text>\n<text text-anchor=\"middle\" x=\"1197.5\" y=\"-1149.8\" font-family=\"roboto\" font-size=\"14.00\" fill=\"#eeeeee\"> (FDi) </text>\n<text text-anchor=\"middle\" x=\"1197.5\" y=\"-1134.8\" font-family=\"roboto\" font-size=\"14.00\" fill=\"#eeeeee\"> 1000 tonnes</text>\n</g>\n<!-- FDi&#45;&gt;FPi_comp -->\n<g id=\"edge37\" class=\"edge\">\n<title>FDi&#45;&gt;FPi_comp</title>\n<path fill=\"none\" stroke=\"#a9a9a9\" d=\"M1115.25,-1126.6947C1115.25,-1103.2772 1115.25,-1073 1115.25,-1073 1115.25,-1073 992.6666,-1073 992.6666,-1073\"/>\n<polygon fill=\"#a9a9a9\" stroke=\"#a9a9a9\" points=\"992.6667,-1069.5001 982.6666,-1073 992.6666,-1076.5001 992.6667,-1069.5001\"/>\n</g>\n<!-- Pop -->\n<g id=\"node37\" class=\"node\">\n<title>Pop</title>\n<polygon fill=\"#e76f51\" stroke=\"#eeeeee\" points=\"631,-1341 508,-1341 508,-1288 631,-1288 631,-1341\"/>\n<text text-anchor=\"middle\" x=\"569.5\" y=\"-1325.8\" font-family=\"roboto\" font-size=\"14.00\" fill=\"#eeeeee\">Total population </text>\n<text text-anchor=\"middle\" x=\"569.5\" y=\"-1310.8\" font-family=\"roboto\" font-size=\"14.00\" fill=\"#eeeeee\"> (Pop) </text>\n<text text-anchor=\"middle\" x=\"569.5\" y=\"-1295.8\" font-family=\"roboto\" font-size=\"14.00\" fill=\"#eeeeee\"> 1000 persons</text>\n</g>\n<!-- Pop&#45;&gt;FDPi_comp -->\n<g id=\"edge38\" class=\"edge\">\n<title>Pop&#45;&gt;FDPi_comp</title>\n<path fill=\"none\" stroke=\"#a9a9a9\" d=\"M569.5,-1287.6947C569.5,-1287.6947 569.5,-1262.0658 569.5,-1262.0658\"/>\n<polygon fill=\"#a9a9a9\" stroke=\"#a9a9a9\" points=\"573.0001,-1262.0657 569.5,-1252.0658 566.0001,-1262.0658 573.0001,-1262.0657\"/>\n</g>\n</g>\n</svg>\n"
     },
     "metadata": {},
     "execution_count": 27
    }
   ],
   "source": [
    "BE2_models['BE2_model'].draw()"
   ]
  },
  {
   "cell_type": "markdown",
   "metadata": {},
   "source": [
    "# Assumptions \n",
    "\n",
    "- FLOi: user input, 2050 target +50 -50% baseline \n",
    "- FDKGi: user input, 1st idea a 2050 target +50 -50% baseline, interpolate in between same for everygroup. (Maybe see how to do to diet change later)\n",
    "- Pop: projection\n",
    "- OFi children: keep constant (maybe a regression later to have something more relevant)\n",
    "- FDi: for now incomplete (FCRi in complete model maybe play with it, FCRi scenario: to check for now leave alone !). \n",
    "- SSRi : could stay constant, could be projected with pop, some increase somehow, let's see case by case (Might need some sort feedbackloop with landuse)\n",
    "- CYi : user input, 2050 target ! (to look for realistic values)\n",
    "- TLA: constant\n",
    "- R_rate: User input, \n"
   ]
  },
  {
   "cell_type": "code",
   "execution_count": 28,
   "metadata": {},
   "outputs": [],
   "source": [
    "def expand_series_non_itemized(df):\n",
    "    multi_index = pd.MultiIndex.from_product([df.index.get_level_values(\n",
    "        'ISO').unique(), np.arange(2000, 2051)], names=['ISO', 'Year'])\n",
    "    return df.reindex(multi_index)\n",
    "\n",
    "\n",
    "def expand_series_itemized(df):\n",
    "    multi_index = pd.MultiIndex.from_product([df.index.get_level_values('ISO').unique(), np.arange(\n",
    "        2000, 2051), df.index.get_level_values('Item').unique()], names=['ISO', 'Year', 'Item'])\n",
    "    return df.reindex(multi_index)\n",
    "\n",
    "\n",
    "def apply_percent_target_projection(series, percent_target=0):\n",
    "    series = series.copy()\n",
    "    series = expand_series_non_itemized(series)\n",
    "    series.loc[:, 2050, :] = percent_target * series.loc[:, 2018, :].values\n",
    "    return series.interpolate()\n",
    "\n",
    "\n",
    "def apply_itemized_percent_target_projection(series, percent_target=0):\n",
    "    '''To improve: Apply item wise projection'''\n",
    "    series = series.copy()\n",
    "    series = expand_series_itemized(series)\n",
    "    series.loc[:, 2050, :] = percent_target * series.loc[:, 2018, :].values\n",
    "\n",
    "    return series.groupby(level=['ISO', 'Item']).apply(lambda group: group.interpolate())\n",
    "\n",
    "\n",
    "def apply_annual_rate_projection(series, rate=1):\n",
    "    series = series.copy()\n",
    "    series = expand_series_non_itemized(series)\n",
    "\n",
    "    year = series.loc[:, 2019:].index.get_level_values(level='Year').values\n",
    "\n",
    "    series.loc[:, 2019:] = series.loc[:, 2018].values * rate ** (year - 2019)\n",
    "\n",
    "    return series\n",
    "\n",
    "\n",
    "def apply_constant_projection(series, constant=0):\n",
    "    series = series.copy()\n",
    "    series = expand_series_non_itemized(series)\n",
    "    series.loc[:, 2018:] = constant\n",
    "\n",
    "    return series\n",
    "\n",
    "\n",
    "def apply_itemized_ffill_projection(series):\n",
    "    series = series.copy()\n",
    "    series = expand_series_itemized(series)\n",
    "\n",
    "    return series.groupby(['ISO', 'Item']).fillna(method='ffill')\n",
    "\n",
    "\n",
    "def apply_ffill_projection(series):\n",
    "    series = series.copy()\n",
    "    series = expand_series_non_itemized(series)\n",
    "\n",
    "    return series.groupby(['ISO']).fillna(method='ffill')\n",
    "\n",
    "\n",
    "def run_BE2_scenario(data_dict, FDKGi_target=1, FLOi_target=1, CYi_target=1, R_rate=1):\n",
    "\n",
    "    data_dict = data_dict.copy()\n",
    "\n",
    "    projection_dict = {\n",
    "        'CYi': lambda x: apply_itemized_percent_target_projection(x, CYi_target),\n",
    "        'FDKGi': lambda x: apply_itemized_percent_target_projection(x, FDKGi_target),\n",
    "        'FLOi': lambda x: apply_itemized_percent_target_projection(x, FLOi_target),\n",
    "        'R_rate': lambda x: apply_constant_projection(x, R_rate)\n",
    "    }\n",
    "\n",
    "    for variable, function in projection_dict.items():\n",
    "        data_dict[variable] = function(data_dict[variable])\n",
    "\n",
    "    results = BE2_models['BE2_model'].run(data_dict)\n",
    "\n",
    "    return results\n",
    "\n",
    "\n",
    "def run_BE2_projection(data_dict):\n",
    "    data_dict = data_dict.copy()\n",
    "    \n",
    "    projection_dict = {\n",
    "        'FDi': lambda x: apply_itemized_ffill_projection(x),\n",
    "        'SSRi': lambda x: apply_itemized_ffill_projection(x),\n",
    "        'SVi': lambda x: apply_itemized_ffill_projection(x),\n",
    "        'RDi': lambda x: apply_itemized_ffill_projection(x),\n",
    "        'NFDi': lambda x: apply_itemized_ffill_projection(x),\n",
    "        'FEi': lambda x: apply_itemized_ffill_projection(x),\n",
    "        'FIi': lambda x: apply_itemized_ffill_projection(x),\n",
    "        'PDi': lambda x: apply_itemized_ffill_projection(x),\n",
    "        'FDi': lambda x: apply_itemized_ffill_projection(x),\n",
    "        'SDi': lambda x: apply_itemized_ffill_projection(x),\n",
    "        'TLA': lambda x: apply_ffill_projection(x),\n",
    "        'CL_baseline': lambda x: apply_ffill_projection(x),\n",
    "        'IL_baseline': lambda x: apply_ffill_projection(x),\n",
    "        'FL_baseline': lambda x: apply_ffill_projection(x),\n",
    "        'Pop': lambda x: apply_ffill_projection(x),\n",
    "     }\n",
    "     \n",
    "    \n",
    "    for variable, function in projection_dict.items():\n",
    "        data_dict[variable] = function(data_dict[variable])\n",
    "\n",
    "    return data_dict"
   ]
  },
  {
   "cell_type": "code",
   "execution_count": 29,
   "metadata": {},
   "outputs": [
    {
     "output_type": "error",
     "ename": "AttributeError",
     "evalue": "'numpy.ndarray' object has no attribute 'loc'",
     "traceback": [
      "\u001b[0;31m---------------------------------------------------------------------------\u001b[0m",
      "\u001b[0;31mAttributeError\u001b[0m                            Traceback (most recent call last)",
      "\u001b[0;32m<timed exec>\u001b[0m in \u001b[0;36m<module>\u001b[0;34m\u001b[0m\n",
      "\u001b[0;32m<timed exec>\u001b[0m in \u001b[0;36m<dictcomp>\u001b[0;34m(.0)\u001b[0m\n",
      "\u001b[0;31mAttributeError\u001b[0m: 'numpy.ndarray' object has no attribute 'loc'"
     ]
    }
   ],
   "source": [
    "%%time\n",
    "\n",
    "ISO = 'FRA'\n",
    "data_dict_filtered = {k: v.loc[ISO, 2000:] for k, v in data_dict.items()}\n",
    "res = run_BE2_scenario(data_dict=run_BE2_projection(data_dict_filtered))\n"
   ]
  },
  {
   "cell_type": "code",
   "execution_count": null,
   "metadata": {},
   "outputs": [],
   "source": [
    "data_dict['FL'].loc['FRA', 2010:]"
   ]
  },
  {
   "cell_type": "code",
   "execution_count": null,
   "metadata": {},
   "outputs": [],
   "source": [
    "res['FL_RF'].loc['FRA', 2010:]"
   ]
  },
  {
   "cell_type": "code",
   "execution_count": null,
   "metadata": {},
   "outputs": [],
   "source": [
    "res['FL']"
   ]
  },
  {
   "cell_type": "code",
   "execution_count": null,
   "metadata": {},
   "outputs": [],
   "source": [
    "model"
   ]
  },
  {
   "cell_type": "code",
   "execution_count": null,
   "metadata": {},
   "outputs": [],
   "source": []
  },
  {
   "cell_type": "code",
   "execution_count": null,
   "metadata": {},
   "outputs": [],
   "source": []
  }
 ],
 "metadata": {
  "kernelspec": {
   "display_name": "Python 3",
   "language": "python",
   "name": "python3"
  },
  "language_info": {
   "codemirror_mode": {
    "name": "ipython",
    "version": 3
   },
   "file_extension": ".py",
   "mimetype": "text/x-python",
   "name": "python",
   "nbconvert_exporter": "python",
   "pygments_lexer": "ipython3",
   "version": "3.7.7"
  }
 },
 "nbformat": 4,
 "nbformat_minor": 4
}