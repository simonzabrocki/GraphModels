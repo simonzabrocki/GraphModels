{
 "cells": [
  {
   "cell_type": "code",
   "execution_count": null,
   "metadata": {
    "ExecuteTime": {
     "end_time": "2021-08-03T07:45:01.673023Z",
     "start_time": "2021-08-03T07:45:01.668916Z"
    }
   },
   "outputs": [],
   "source": [
    "import os\n",
    "path_parent = os.path.dirname(os.getcwd())\n",
    "os.chdir(path_parent)"
   ]
  },
  {
   "cell_type": "code",
   "execution_count": null,
   "metadata": {
    "ExecuteTime": {
     "end_time": "2021-08-03T07:45:04.587429Z",
     "start_time": "2021-08-03T07:45:01.676242Z"
    }
   },
   "outputs": [],
   "source": [
    "from ggmodel_dev.graphmodel import GraphModel, concatenate_graph_specs\n",
    "from ggmodel_dev.validation import score_model, plot_diagnostic, score_model_dictionnary, model_validation_pipeline, export_to_xls\n",
    "\n",
    "from data_utils.database import select_dataset\n",
    "from data_utils.utils import get_X_y_from_data, data_dict_from_df_tables\n",
    "from ggmodel_dev.models.landuse.BE2 import model_dictionnary\n",
    "\n",
    "import pandas as pd\n",
    "import numpy as np"
   ]
  },
  {
   "cell_type": "markdown",
   "metadata": {},
   "source": [
    "# Model developement notebook\n",
    "\n",
    "The goal of this notebook is to develop and improve the landuse model.\n",
    "\n",
    "Remarks:\n",
    "\n",
    "- comment 1\n",
    "- comment 2\n",
    "- comment 3"
   ]
  },
  {
   "cell_type": "markdown",
   "metadata": {},
   "source": [
    "## Data"
   ]
  },
  {
   "cell_type": "code",
   "execution_count": 3,
   "metadata": {
    "ExecuteTime": {
     "end_time": "2021-08-03T07:46:31.751721Z",
     "start_time": "2021-08-03T07:45:04.591509Z"
    }
   },
   "outputs": [],
   "source": [
    "def prepare_landuse_model_data():\n",
    "\n",
    "    df_tables = ['faofoodbalancesheet', 'population', 'faocrops', 'faolanduse']\n",
    "\n",
    "    df_dictionnary = {df_table: select_dataset(df_table) for df_table in df_tables}\n",
    "\n",
    "    df_dictionnary['faofoodbalancesheet'] = df_dictionnary['faofoodbalancesheet'][~df_dictionnary['faofoodbalancesheet'].Variable.isin(['Domestic supply quantity'])]\n",
    "\n",
    "    df_dictionnary['faofoodbalancesheet'] = df_dictionnary['faofoodbalancesheet'].drop(columns=['group']) # for now only crop is considered\n",
    "    \n",
    "    data_dict = data_dict_from_df_tables([df for _, df in df_dictionnary.items()])\n",
    "\n",
    "    data_dict['CL_baseline'] = data_dict['CL'].rename(\"CL_baseline\")  \n",
    "    data_dict['IL_baseline'] = data_dict['IL'].rename(\"IL_baseline\") \n",
    "    data_dict['FL_baseline'] = data_dict['FL'].rename(\"FL_baseline\") \n",
    "    data_dict['R_rate'] = pd.Series(data=0, index=data_dict['CL_baseline'].index, name='R_rate')\n",
    "    data_dict['CL_corr_coef'] = pd.Series(data=1.4, index=data_dict['CL_baseline'].index, name='CL_corr_coef')\n",
    "\n",
    "    def preprocess_dict_item(key, value):\n",
    "\n",
    "        return (\n",
    "            value.fillna(0)\n",
    "        )\n",
    "\n",
    "    \n",
    "    data_dict = {k: preprocess_dict_item(k, v) for k, v in data_dict.items()}\n",
    "    data_dict['CYi'] = data_dict['CYi'].replace(0, np.nan)\n",
    "    return data_dict\n",
    "\n",
    "data_dict = prepare_landuse_model_data()"
   ]
  },
  {
   "cell_type": "code",
   "execution_count": 4,
   "metadata": {
    "ExecuteTime": {
     "end_time": "2021-08-03T07:46:31.769777Z",
     "start_time": "2021-08-03T07:46:31.754590Z"
    }
   },
   "outputs": [
    {
     "data": {
      "text/plain": [
       "dict_keys(['FDKCi', 'FDKGi', 'FDi', 'FEi', 'FIi', 'FLOi', 'FPi', 'KKRi', 'NFDi', 'PDi', 'RDi', 'SDi', 'SSRi', 'SVi', 'Pop', 'CYi', 'TCLDi', 'CL', 'FL', 'IL', 'TLA', 'CL_baseline', 'IL_baseline', 'FL_baseline', 'R_rate', 'CL_corr_coef'])"
      ]
     },
     "execution_count": 4,
     "metadata": {},
     "output_type": "execute_result"
    }
   ],
   "source": [
    "data_dict.keys()"
   ]
  },
  {
   "cell_type": "code",
   "execution_count": 5,
   "metadata": {
    "ExecuteTime": {
     "end_time": "2021-08-03T07:46:32.167942Z",
     "start_time": "2021-08-03T07:46:31.773414Z"
    }
   },
   "outputs": [],
   "source": [
    "ISO_data_dict = {k: v.loc[['FRA', 'HUN', 'DEU', 'NLD', 'BEL', 'CHE', 'BRA', 'SEN'], [2016, 2017, 2018], :] for k, v in data_dict.items()}"
   ]
  },
  {
   "cell_type": "markdown",
   "metadata": {},
   "source": [
    "## Model"
   ]
  },
  {
   "cell_type": "code",
   "execution_count": 6,
   "metadata": {
    "ExecuteTime": {
     "end_time": "2021-08-03T07:46:33.213838Z",
     "start_time": "2021-08-03T07:46:32.169890Z"
    }
   },
   "outputs": [
    {
     "name": "stdout",
     "output_type": "stream",
     "text": [
      "TCLDi_model: Done\n",
      "TCLDi_partial_model: Done\n",
      "FPi_model: Done\n",
      "IL_FL_model: Done\n",
      "BE2_partial_model: Error: No objects to concatenate\n",
      "BE2_model: Done\n"
     ]
    }
   ],
   "source": [
    "scores = score_model_dictionnary(model_dictionnary, ISO_data_dict)"
   ]
  },
  {
   "cell_type": "code",
   "execution_count": 7,
   "metadata": {
    "ExecuteTime": {
     "end_time": "2021-08-03T07:46:33.236524Z",
     "start_time": "2021-08-03T07:46:33.216073Z"
    }
   },
   "outputs": [
    {
     "data": {
      "text/html": [
       "<div>\n",
       "<style scoped>\n",
       "    .dataframe tbody tr th:only-of-type {\n",
       "        vertical-align: middle;\n",
       "    }\n",
       "\n",
       "    .dataframe tbody tr th {\n",
       "        vertical-align: top;\n",
       "    }\n",
       "\n",
       "    .dataframe thead th {\n",
       "        text-align: right;\n",
       "    }\n",
       "</style>\n",
       "<table border=\"1\" class=\"dataframe\">\n",
       "  <thead>\n",
       "    <tr style=\"text-align: right;\">\n",
       "      <th></th>\n",
       "      <th>r2</th>\n",
       "      <th>correlation</th>\n",
       "      <th>rmse</th>\n",
       "    </tr>\n",
       "    <tr>\n",
       "      <th>Variable</th>\n",
       "      <th></th>\n",
       "      <th></th>\n",
       "      <th></th>\n",
       "    </tr>\n",
       "  </thead>\n",
       "  <tbody>\n",
       "    <tr>\n",
       "      <th>CL</th>\n",
       "      <td>-0.429486</td>\n",
       "      <td>NaN</td>\n",
       "      <td>5.715454e+08</td>\n",
       "    </tr>\n",
       "    <tr>\n",
       "      <th>FL</th>\n",
       "      <td>1.000000</td>\n",
       "      <td>1.00000</td>\n",
       "      <td>0.000000e+00</td>\n",
       "    </tr>\n",
       "    <tr>\n",
       "      <th>IL</th>\n",
       "      <td>-7567.697515</td>\n",
       "      <td>-0.14515</td>\n",
       "      <td>5.715454e+08</td>\n",
       "    </tr>\n",
       "  </tbody>\n",
       "</table>\n",
       "</div>"
      ],
      "text/plain": [
       "                   r2  correlation          rmse\n",
       "Variable                                        \n",
       "CL          -0.429486          NaN  5.715454e+08\n",
       "FL           1.000000      1.00000  0.000000e+00\n",
       "IL       -7567.697515     -0.14515  5.715454e+08"
      ]
     },
     "execution_count": 7,
     "metadata": {},
     "output_type": "execute_result"
    }
   ],
   "source": [
    "scores['BE2_model']['score_by_Variable']"
   ]
  },
  {
   "cell_type": "code",
   "execution_count": 8,
   "metadata": {
    "ExecuteTime": {
     "end_time": "2021-08-03T07:46:33.916371Z",
     "start_time": "2021-08-03T07:46:33.240283Z"
    }
   },
   "outputs": [],
   "source": [
    "results_df = model_validation_pipeline(model_dictionnary['BE2_model'], ISO_data_dict)"
   ]
  },
  {
   "cell_type": "code",
   "execution_count": null,
   "metadata": {
    "ExecuteTime": {
     "start_time": "2021-08-03T07:45:17.190Z"
    }
   },
   "outputs": [],
   "source": [
    "export_to_xls(results_df, 'data/BE2_model.xlsx')"
   ]
  },
  {
   "cell_type": "markdown",
   "metadata": {},
   "source": [
    "## Scenario"
   ]
  },
  {
   "cell_type": "code",
   "execution_count": null,
   "metadata": {
    "ExecuteTime": {
     "start_time": "2021-08-03T07:45:20.521Z"
    }
   },
   "outputs": [],
   "source": [
    "from ggmodel_dev.projection import *\n",
    "from ggmodel_dev.models.landuse import BE2_scenario"
   ]
  },
  {
   "cell_type": "code",
   "execution_count": null,
   "metadata": {
    "ExecuteTime": {
     "start_time": "2021-08-03T07:45:21.101Z"
    }
   },
   "outputs": [],
   "source": [
    "for name, series in data_dict.items():\n",
    "    series.to_csv(f'data/BE2/{name}.csv')"
   ]
  },
  {
   "cell_type": "code",
   "execution_count": null,
   "metadata": {
    "ExecuteTime": {
     "start_time": "2021-08-03T07:45:22.146Z"
    }
   },
   "outputs": [],
   "source": [
    "def get_data_dict_from_folder(folder_name):\n",
    "    files = os.listdir(folder_name)\n",
    "    data_dict = {file.split('.')[0] : pd.read_csv(f'{folder_name}/{file}') for file in files}\n",
    "    data_dict = {name: df.set_index([col for col in df.columns if col != name]).squeeze() for name, df in data_dict.items()}\n",
    "        \n",
    "    return data_dict"
   ]
  },
  {
   "cell_type": "code",
   "execution_count": null,
   "metadata": {
    "ExecuteTime": {
     "start_time": "2021-08-03T07:45:22.663Z"
    }
   },
   "outputs": [],
   "source": [
    "ISO = 'HUN'\n",
    "data_dict_filtered = {k: v.loc[ISO, 2000:] for k, v in test.items()}\n",
    "\n",
    "list_of_scenarios = [dict(FDKGi_target=0.9, FLOi_target=0.8, CYi_target=1.1, R_rate=0),\n",
    "                     dict(FDKGi_target=0.5, FLOi_target=0.5, CYi_target=1.1, R_rate=50),\n",
    "                     dict(FDKGi_target=1.5, FLOi_target=1.5, CYi_target=1.1, R_rate=100)]\n",
    "\n",
    "simulation_results = run_scenario_list(scenario_function=BE2_scenario.run_scenario,\n",
    "                                       list_of_scenarios=list_of_scenarios,\n",
    "                                       projection_dictionnary=BE2_scenario.projection_dict,\n",
    "                                       data_dict=data_dict_filtered\n",
    "                                      )"
   ]
  },
  {
   "cell_type": "code",
   "execution_count": null,
   "metadata": {
    "ExecuteTime": {
     "start_time": "2021-08-03T07:45:23.142Z"
    }
   },
   "outputs": [],
   "source": [
    "simulation_results['scenario_0']['BE2'].plot()\n",
    "simulation_results['scenario_1']['BE2'].plot()\n",
    "simulation_results['scenario_2']['BE2'].plot()"
   ]
  },
  {
   "cell_type": "code",
   "execution_count": null,
   "metadata": {
    "ExecuteTime": {
     "start_time": "2021-08-03T07:45:23.296Z"
    }
   },
   "outputs": [],
   "source": [
    "simulation_results['scenario_0']['delta_CL'].plot()\n",
    "simulation_results['scenario_1']['delta_CL'].plot()\n",
    "simulation_results['scenario_2']['delta_CL'].plot()"
   ]
  }
 ],
 "metadata": {
  "kernelspec": {
   "display_name": "Python 3",
   "language": "python",
   "name": "python3"
  },
  "language_info": {
   "codemirror_mode": {
    "name": "ipython",
    "version": 3
   },
   "file_extension": ".py",
   "mimetype": "text/x-python",
   "name": "python",
   "nbconvert_exporter": "python",
   "pygments_lexer": "ipython3",
   "version": "3.7.7"
  }
 },
 "nbformat": 4,
 "nbformat_minor": 4
}
