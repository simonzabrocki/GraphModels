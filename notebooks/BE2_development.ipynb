{
 "cells": [
  {
   "cell_type": "code",
   "execution_count": 1,
   "metadata": {},
   "outputs": [],
   "source": [
    "import os\n",
    "path_parent = os.path.dirname(os.getcwd())\n",
    "os.chdir(path_parent)"
   ]
  },
  {
   "cell_type": "code",
   "execution_count": 2,
   "metadata": {
    "ExecuteTime": {
     "end_time": "2021-04-14T01:09:57.101893Z",
     "start_time": "2021-04-14T01:09:54.394987Z"
    }
   },
   "outputs": [
    {
     "output_type": "stream",
     "name": "stderr",
     "text": [
      "/home/simon/anaconda3/lib/python3.7/site-packages/sklearn/utils/fixes.py:25: UserWarning: Module ggmodel_dev was already imported from /home/simon/anaconda3/lib/python3.7/site-packages/ggmodel_dev/__init__.py, but /home/simon/GreenGrowthInstitute/GraphModels is being added to sys.path\n  from pkg_resources import parse_version  # type: ignore\n"
     ]
    }
   ],
   "source": [
    "from ggmodel.graphmodel import GraphModel, concatenate_graph_specs\n",
    "from ggmodel.validation import score_model, plot_diagnostic\n",
    "\n",
    "from data_utils.database import select_dataset\n",
    "from data_utils.utils import get_X_y_from_data, data_dict_from_df_tables\n",
    "from models.landuse.BE2 import model_dictionnary\n",
    "\n",
    "import pandas as pd\n",
    "import numpy as np"
   ]
  },
  {
   "source": [
    "# Model developement notebook\n",
    "\n",
    "The goal of this notebook is to develop and improve the landuse model.\n",
    "\n",
    "Remarks:\n",
    "\n",
    "- comment 1\n",
    "- comment 2\n",
    "- comment 3"
   ],
   "cell_type": "markdown",
   "metadata": {}
  },
  {
   "source": [
    "## Data"
   ],
   "cell_type": "markdown",
   "metadata": {}
  },
  {
   "cell_type": "code",
   "execution_count": 3,
   "metadata": {},
   "outputs": [],
   "source": [
    "def prepare_landuse_model_data():\n",
    "\n",
    "    df_tables = ['foodbalancesheet_new', 'population', 'crops', 'landuse']\n",
    "\n",
    "    df_dictionnary = {df_table: select_dataset(df_table) for df_table in df_tables}\n",
    "\n",
    "    df_dictionnary['foodbalancesheet_new'] = df_dictionnary['foodbalancesheet_new'][~df_dictionnary['foodbalancesheet_new'].Variable.isin(['Domestic supply quantity'])]\n",
    "\n",
    "    df_dictionnary['foodbalancesheet_new'] = df_dictionnary['foodbalancesheet_new'].drop(columns=['group']) # for now only crop is considered\n",
    "    \n",
    "    data_dict = data_dict_from_df_tables([df for _, df in df_dictionnary.items()])\n",
    "\n",
    "    data_dict['CL_baseline'] = data_dict['CL']\n",
    "    data_dict['IL_baseline'] = data_dict['IL']\n",
    "    data_dict['FL_baseline'] = data_dict['FL']\n",
    "    data_dict['R_rate'] = pd.Series(data=0, index=data_dict['CL_baseline'].index)\n",
    "    data_dict['CL_corr_coef'] = pd.Series(data=1.4, index=data_dict['CL_baseline'].index)\n",
    "\n",
    "    def preprocess_dict_item(key, value):\n",
    "\n",
    "        return (\n",
    "            value.fillna(0)\n",
    "        )\n",
    "\n",
    "    \n",
    "    data_dict = {k: preprocess_dict_item(k, v) for k, v in data_dict.items()}\n",
    "\n",
    "    return data_dict\n",
    "\n",
    "data_dict = prepare_landuse_model_data()"
   ]
  },
  {
   "cell_type": "code",
   "execution_count": 4,
   "metadata": {
    "ExecuteTime": {
     "end_time": "2021-04-14T01:16:25.570846Z",
     "start_time": "2021-04-14T01:16:25.187689Z"
    }
   },
   "outputs": [],
   "source": [
    "ISO_data_dict = {k: v.loc[['FRA', 'HUN', 'DEU', 'NLD', 'BEL', 'CHE', 'BRA', 'SEN'], [2016, 2017, 2018], :] for k, v in data_dict.items()}\n"
   ]
  },
  {
   "source": [
    "## Model"
   ],
   "cell_type": "markdown",
   "metadata": {}
  },
  {
   "cell_type": "code",
   "execution_count": 5,
   "metadata": {},
   "outputs": [
    {
     "output_type": "stream",
     "name": "stdout",
     "text": [
      "\n",
      "FPi\n",
      "TCLDi\n",
      "         r2  correlation          rmse Variable\n",
      "0  0.043805     0.211274  4.472898e+08      FPi\n",
      "1  0.932502     0.965834  2.458636e+11    TCLDi\n",
      "\n",
      "FPi\n",
      "TCLDi\n",
      "         r2  correlation          rmse Variable\n",
      "0  0.043805     0.211274  4.472898e+08      FPi\n",
      "1  0.932502     0.965834  2.458636e+11    TCLDi\n",
      "\n",
      "FPi\n",
      "         r2  correlation          rmse Variable\n",
      "0  0.043805     0.211274  4.472898e+08      FPi\n",
      "\n",
      "IL\n",
      "FL\n",
      "    r2  correlation  rmse Variable\n",
      "0  1.0          1.0   0.0       IL\n",
      "1  1.0          1.0   0.0       FL\n",
      "\n",
      "Empty DataFrame\n",
      "Columns: []\n",
      "Index: []\n",
      "\n",
      "FL\n",
      "IL\n",
      "CL\n",
      "TCLDi\n",
      "FPi\n",
      "         r2  correlation          rmse Variable\n",
      "0  0.996737     0.999989  1.205721e+08       FL\n",
      "1 -5.342468     0.837874  4.789474e+05       IL\n",
      "2  0.758389     0.996279  1.213212e+08       CL\n",
      "3  0.932502     0.965834  2.458636e+11    TCLDi\n",
      "4  0.043805     0.211274  4.472898e+08      FPi\n"
     ]
    }
   ],
   "source": [
    "for model_name, model in model_dictionnary.items():\n",
    "    print(model)\n",
    "    try:\n",
    "        X, y_true = get_X_y_from_data(model, ISO_data_dict)\n",
    "        print(score_model(model, X, y_true))\n",
    "    except Exception as e:\n",
    "        print(e)\n"
   ]
  },
  {
   "source": [
    "## Scenario"
   ],
   "cell_type": "markdown",
   "metadata": {}
  },
  {
   "cell_type": "code",
   "execution_count": 14,
   "metadata": {},
   "outputs": [],
   "source": [
    "from ggmodel.projection import *\n",
    "\n",
    "\n",
    "def run_BE2_projection(data_dict):\n",
    "    data_dict = data_dict.copy()\n",
    "    \n",
    "    projection_dict = {\n",
    "        'FDi': lambda x: apply_itemized_ffill_projection(x),\n",
    "        'SSRi': lambda x: apply_itemized_ffill_projection(x),\n",
    "        'SVi': lambda x: apply_itemized_ffill_projection(x),\n",
    "        'RDi': lambda x: apply_itemized_ffill_projection(x),\n",
    "        'NFDi': lambda x: apply_itemized_ffill_projection(x),\n",
    "        'FEi': lambda x: apply_itemized_ffill_projection(x),\n",
    "        'FIi': lambda x: apply_itemized_ffill_projection(x),\n",
    "        'PDi': lambda x: apply_itemized_ffill_projection(x),\n",
    "        'FDi': lambda x: apply_itemized_ffill_projection(x),\n",
    "        'SDi': lambda x: apply_itemized_ffill_projection(x),\n",
    "        'TLA': lambda x: apply_ffill_projection(x),\n",
    "        'CL_baseline': lambda x: apply_ffill_projection(x),\n",
    "        'IL_baseline': lambda x: apply_ffill_projection(x),\n",
    "        'FL_baseline': lambda x: apply_ffill_projection(x),\n",
    "        'Pop': lambda x: apply_ffill_projection(x),\n",
    "        'CL_corr_coef': lambda x: apply_ffill_projection(x),\n",
    "     }\n",
    "     \n",
    "    \n",
    "    for variable, function in projection_dict.items():\n",
    "        data_dict[variable] = function(data_dict[variable])\n",
    "\n",
    "    return data_dict\n",
    "\n",
    "\n",
    "def run_BE2_scenario(data_dict, FDKGi_target=1, FLOi_target=1, CYi_target=1, R_rate=1):\n",
    "\n",
    "    data_dict = data_dict.copy()\n",
    "\n",
    "    projection_dict = {\n",
    "        'CYi': lambda x: apply_itemized_percent_target_projection(x, CYi_target),\n",
    "        'FDKGi': lambda x: apply_itemized_percent_target_projection(x, FDKGi_target),\n",
    "        'FLOi': lambda x: apply_itemized_percent_target_projection(x, FLOi_target),\n",
    "        'R_rate': lambda x: apply_constant_projection(x, R_rate)\n",
    "    }\n",
    "\n",
    "    for variable, function in projection_dict.items():\n",
    "        data_dict[variable] = function(data_dict[variable])\n",
    "\n",
    "    results = model_dictionnary['BE2_model'].run(data_dict)\n",
    "\n",
    "    return results"
   ]
  },
  {
   "cell_type": "code",
   "execution_count": 15,
   "metadata": {},
   "outputs": [
    {
     "output_type": "stream",
     "name": "stdout",
     "text": [
      "CPU times: user 1.47 s, sys: 940 µs, total: 1.47 s\nWall time: 1.47 s\n"
     ]
    }
   ],
   "source": [
    "%%time\n",
    "\n",
    "ISO = 'FRA'\n",
    "data_dict_filtered = {k: v.loc[ISO, 2000:] for k, v in data_dict.items()}\n",
    "\n",
    "proj_data_dict = run_BE2_projection(data_dict_filtered)\n",
    "\n",
    "res = run_BE2_scenario(proj_data_dict)"
   ]
  }
 ],
 "metadata": {
  "kernelspec": {
   "display_name": "Python 3",
   "language": "python",
   "name": "python3"
  },
  "language_info": {
   "codemirror_mode": {
    "name": "ipython",
    "version": 3
   },
   "file_extension": ".py",
   "mimetype": "text/x-python",
   "name": "python",
   "nbconvert_exporter": "python",
   "pygments_lexer": "ipython3",
   "version": "3.7.7"
  }
 },
 "nbformat": 4,
 "nbformat_minor": 4
}