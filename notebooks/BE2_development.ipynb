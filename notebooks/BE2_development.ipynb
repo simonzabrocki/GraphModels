{
 "cells": [
  {
   "cell_type": "code",
   "execution_count": 1,
   "metadata": {
    "ExecuteTime": {
     "end_time": "2021-08-03T07:53:16.256354Z",
     "start_time": "2021-08-03T07:53:16.250400Z"
    }
   },
   "outputs": [],
   "source": [
    "import os\n",
    "path_parent = os.path.dirname(os.getcwd())\n",
    "os.chdir(path_parent)"
   ]
  },
  {
   "cell_type": "code",
   "execution_count": 2,
   "metadata": {
    "ExecuteTime": {
     "end_time": "2021-08-03T07:53:19.512883Z",
     "start_time": "2021-08-03T07:53:16.490003Z"
    }
   },
   "outputs": [],
   "source": [
    "from ggmodel_dev.graphmodel import GraphModel, concatenate_graph_specs\n",
    "from ggmodel_dev.validation import score_model, plot_diagnostic, score_model_dictionnary, model_validation_pipeline, export_to_xls\n",
    "\n",
    "from data_utils.database import select_dataset\n",
    "from data_utils.utils import get_X_y_from_data, data_dict_from_df_tables\n",
    "from ggmodel_dev.models.landuse.BE2 import model_dictionnary\n",
    "\n",
    "import pandas as pd\n",
    "import numpy as np"
   ]
  },
  {
   "cell_type": "markdown",
   "metadata": {},
   "source": [
    "# Model developement notebook\n",
    "\n",
    "The goal of this notebook is to develop and improve the landuse model.\n",
    "\n",
    "Remarks:\n",
    "\n",
    "- comment 1\n",
    "- comment 2\n",
    "- comment 3"
   ]
  },
  {
   "cell_type": "markdown",
   "metadata": {},
   "source": [
    "## Data"
   ]
  },
  {
   "cell_type": "code",
   "execution_count": 3,
   "metadata": {
    "ExecuteTime": {
     "end_time": "2021-08-03T07:54:45.271970Z",
     "start_time": "2021-08-03T07:53:19.517326Z"
    }
   },
   "outputs": [],
   "source": [
    "def prepare_landuse_model_data():\n",
    "\n",
    "    df_tables = ['faofoodbalancesheet', 'population', 'faocrops', 'faolanduse']\n",
    "\n",
    "    df_dictionnary = {df_table: select_dataset(df_table) for df_table in df_tables}\n",
    "\n",
    "    df_dictionnary['faofoodbalancesheet'] = df_dictionnary['faofoodbalancesheet'][~df_dictionnary['faofoodbalancesheet'].Variable.isin(['Domestic supply quantity'])]\n",
    "\n",
    "    df_dictionnary['faofoodbalancesheet'] = df_dictionnary['faofoodbalancesheet'].drop(columns=['group']) # for now only crop is considered\n",
    "    \n",
    "    data_dict = data_dict_from_df_tables([df for _, df in df_dictionnary.items()])\n",
    "\n",
    "    data_dict['CL_baseline'] = data_dict['CL'].rename(\"CL_baseline\")  \n",
    "    data_dict['IL_baseline'] = data_dict['IL'].rename(\"IL_baseline\") \n",
    "    data_dict['FL_baseline'] = data_dict['FL'].rename(\"FL_baseline\") \n",
    "    data_dict['R_rate'] = pd.Series(data=0, index=data_dict['CL_baseline'].index, name='R_rate')\n",
    "    data_dict['CL_corr_coef'] = pd.Series(data=1.4, index=data_dict['CL_baseline'].index, name='CL_corr_coef')\n",
    "    \n",
    "    def preprocess_dict_item(key, value):\n",
    "\n",
    "        return (\n",
    "            value.fillna(0)\n",
    "        )\n",
    "\n",
    "    \n",
    "    data_dict = {k: preprocess_dict_item(k, v) for k, v in data_dict.items()}\n",
    "    data_dict['CYi'] = data_dict['CYi'].replace(0, np.nan)\n",
    "    return data_dict\n",
    "\n",
    "data_dict = prepare_landuse_model_data()"
   ]
  },
  {
   "cell_type": "code",
   "execution_count": 4,
   "metadata": {
    "ExecuteTime": {
     "end_time": "2021-08-03T07:54:45.292716Z",
     "start_time": "2021-08-03T07:54:45.274241Z"
    }
   },
   "outputs": [
    {
     "data": {
      "text/plain": [
       "ISO  Year\n",
       "AFG  2014    33371.0\n",
       "     2015    34414.0\n",
       "     2016    35383.0\n",
       "     2017    36296.0\n",
       "     2018    37172.0\n",
       "              ...   \n",
       "ZWE  2014    13587.0\n",
       "     2015    13815.0\n",
       "     2016    14030.0\n",
       "     2017    14237.0\n",
       "     2018    14439.0\n",
       "Name: Pop, Length: 860, dtype: float64"
      ]
     },
     "execution_count": 4,
     "metadata": {},
     "output_type": "execute_result"
    }
   ],
   "source": [
    "data_dict['Pop']"
   ]
  },
  {
   "cell_type": "code",
   "execution_count": 5,
   "metadata": {
    "ExecuteTime": {
     "end_time": "2021-08-03T07:55:09.077734Z",
     "start_time": "2021-08-03T07:55:08.723420Z"
    }
   },
   "outputs": [],
   "source": [
    "ISO_data_dict = {k: v.loc[['FRA', 'HUN', 'DEU', 'NLD', 'BEL', 'CHE', 'BRA', 'SEN'], [2016, 2017, 2018], :] for k, v in data_dict.items()}"
   ]
  },
  {
   "cell_type": "markdown",
   "metadata": {},
   "source": [
    "## Model"
   ]
  },
  {
   "cell_type": "code",
   "execution_count": 6,
   "metadata": {
    "ExecuteTime": {
     "end_time": "2021-08-03T07:55:11.362724Z",
     "start_time": "2021-08-03T07:55:10.179056Z"
    }
   },
   "outputs": [
    {
     "name": "stdout",
     "output_type": "stream",
     "text": [
      "TCLDi_model: Done\n",
      "TCLDi_partial_model: Done\n",
      "FPi_model: Done\n",
      "IL_FL_model: Done\n",
      "BE2_partial_model: Error: No objects to concatenate\n",
      "BE2_model: Done\n"
     ]
    }
   ],
   "source": [
    "scores = score_model_dictionnary(model_dictionnary, ISO_data_dict)"
   ]
  },
  {
   "cell_type": "code",
   "execution_count": 7,
   "metadata": {
    "ExecuteTime": {
     "end_time": "2021-08-03T07:55:11.383509Z",
     "start_time": "2021-08-03T07:55:11.364980Z"
    }
   },
   "outputs": [
    {
     "data": {
      "text/html": [
       "<div>\n",
       "<style scoped>\n",
       "    .dataframe tbody tr th:only-of-type {\n",
       "        vertical-align: middle;\n",
       "    }\n",
       "\n",
       "    .dataframe tbody tr th {\n",
       "        vertical-align: top;\n",
       "    }\n",
       "\n",
       "    .dataframe thead th {\n",
       "        text-align: right;\n",
       "    }\n",
       "</style>\n",
       "<table border=\"1\" class=\"dataframe\">\n",
       "  <thead>\n",
       "    <tr style=\"text-align: right;\">\n",
       "      <th></th>\n",
       "      <th>r2</th>\n",
       "      <th>correlation</th>\n",
       "      <th>rmse</th>\n",
       "    </tr>\n",
       "    <tr>\n",
       "      <th>Variable</th>\n",
       "      <th></th>\n",
       "      <th></th>\n",
       "      <th></th>\n",
       "    </tr>\n",
       "  </thead>\n",
       "  <tbody>\n",
       "    <tr>\n",
       "      <th>CL</th>\n",
       "      <td>0.797699</td>\n",
       "      <td>0.995561</td>\n",
       "      <td>8.088528e+07</td>\n",
       "    </tr>\n",
       "    <tr>\n",
       "      <th>FL</th>\n",
       "      <td>0.996999</td>\n",
       "      <td>0.999990</td>\n",
       "      <td>8.038138e+07</td>\n",
       "    </tr>\n",
       "    <tr>\n",
       "      <th>FPi</th>\n",
       "      <td>0.043805</td>\n",
       "      <td>0.211274</td>\n",
       "      <td>4.472898e+08</td>\n",
       "    </tr>\n",
       "    <tr>\n",
       "      <th>IL</th>\n",
       "      <td>-5.329825</td>\n",
       "      <td>0.835806</td>\n",
       "      <td>4.779927e+05</td>\n",
       "    </tr>\n",
       "    <tr>\n",
       "      <th>TCLDi</th>\n",
       "      <td>0.932502</td>\n",
       "      <td>0.965834</td>\n",
       "      <td>2.458636e+11</td>\n",
       "    </tr>\n",
       "  </tbody>\n",
       "</table>\n",
       "</div>"
      ],
      "text/plain": [
       "                r2  correlation          rmse\n",
       "Variable                                     \n",
       "CL        0.797699     0.995561  8.088528e+07\n",
       "FL        0.996999     0.999990  8.038138e+07\n",
       "FPi       0.043805     0.211274  4.472898e+08\n",
       "IL       -5.329825     0.835806  4.779927e+05\n",
       "TCLDi     0.932502     0.965834  2.458636e+11"
      ]
     },
     "execution_count": 7,
     "metadata": {},
     "output_type": "execute_result"
    }
   ],
   "source": [
    "scores['BE2_model']['score_by_Variable']"
   ]
  },
  {
   "cell_type": "code",
   "execution_count": 8,
   "metadata": {
    "ExecuteTime": {
     "end_time": "2021-08-03T07:55:16.299179Z",
     "start_time": "2021-08-03T07:55:15.738365Z"
    }
   },
   "outputs": [],
   "source": [
    "results_df = model_validation_pipeline(model_dictionnary['BE2_model'], ISO_data_dict)"
   ]
  },
  {
   "cell_type": "code",
   "execution_count": 9,
   "metadata": {
    "ExecuteTime": {
     "end_time": "2021-08-03T07:55:23.708700Z",
     "start_time": "2021-08-03T07:55:17.714060Z"
    }
   },
   "outputs": [],
   "source": [
    "export_to_xls(results_df, 'data/BE2_model.xlsx')"
   ]
  },
  {
   "cell_type": "markdown",
   "metadata": {},
   "source": [
    "## Scenario"
   ]
  },
  {
   "cell_type": "code",
   "execution_count": 10,
   "metadata": {
    "ExecuteTime": {
     "end_time": "2021-08-03T07:55:23.920219Z",
     "start_time": "2021-08-03T07:55:23.710937Z"
    }
   },
   "outputs": [],
   "source": [
    "from ggmodel_dev.projection import *\n",
    "from ggmodel_dev.models.landuse import BE2_scenario"
   ]
  },
  {
   "cell_type": "code",
   "execution_count": 11,
   "metadata": {
    "ExecuteTime": {
     "end_time": "2021-08-03T07:55:32.287210Z",
     "start_time": "2021-08-03T07:55:23.923241Z"
    }
   },
   "outputs": [],
   "source": [
    "for name, series in data_dict.items():\n",
    "    series.to_csv(f'data/BE2/{name}.csv')"
   ]
  },
  {
   "cell_type": "code",
   "execution_count": 12,
   "metadata": {
    "ExecuteTime": {
     "end_time": "2021-08-03T07:55:32.294473Z",
     "start_time": "2021-08-03T07:55:32.289282Z"
    }
   },
   "outputs": [],
   "source": [
    "def get_data_dict_from_folder(folder_name):\n",
    "    files = os.listdir(folder_name)\n",
    "    data_dict = {file.split('.')[0] : pd.read_csv(f'{folder_name}/{file}') for file in files}\n",
    "    data_dict = {name: df.set_index([col for col in df.columns if col != name]).squeeze() for name, df in data_dict.items()}\n",
    "        \n",
    "    return data_dict"
   ]
  },
  {
   "cell_type": "code",
   "execution_count": 15,
   "metadata": {
    "ExecuteTime": {
     "end_time": "2021-08-03T07:55:40.805869Z",
     "start_time": "2021-08-03T07:55:37.096652Z"
    }
   },
   "outputs": [],
   "source": [
    "ISO = 'HUN'\n",
    "data_dict_filtered = {k: v.sort_index().loc[ISO, 2000:] for k, v in ISO_data_dict.items()}\n",
    "\n",
    "list_of_scenarios = [dict(FDKGi_target=0.9, FLOi_target=0.8, CYi_target=1.1, R_rate=0),\n",
    "                     dict(FDKGi_target=0.5, FLOi_target=0.5, CYi_target=1.1, R_rate=50),\n",
    "                     dict(FDKGi_target=1.5, FLOi_target=1.5, CYi_target=1.1, R_rate=100)]\n",
    "\n",
    "simulation_results = run_scenario_list(scenario_function=BE2_scenario.run_scenario,\n",
    "                                       list_of_scenarios=list_of_scenarios,\n",
    "                                       projection_dictionnary=BE2_scenario.projection_dict,\n",
    "                                       data_dict=data_dict_filtered\n",
    "                                      )"
   ]
  },
  {
   "cell_type": "code",
   "execution_count": 16,
   "metadata": {
    "ExecuteTime": {
     "end_time": "2021-08-03T07:55:41.512328Z",
     "start_time": "2021-08-03T07:55:40.807866Z"
    }
   },
   "outputs": [
    {
     "data": {
      "text/plain": [
       "<AxesSubplot:xlabel='ISO,Year'>"
      ]
     },
     "execution_count": 16,
     "metadata": {},
     "output_type": "execute_result"
    },
    {
     "data": {
      "image/png": "[encoded data removed]",
      "text/plain": [
       "<Figure size 432x288 with 1 Axes>"
      ]
     },
     "metadata": {
      "needs_background": "light"
     },
     "output_type": "display_data"
    }
   ],
   "source": [
    "simulation_results['scenario_0']['BE2'].plot()\n",
    "simulation_results['scenario_1']['BE2'].plot()\n",
    "simulation_results['scenario_2']['BE2'].plot()"
   ]
  },
  {
   "cell_type": "code",
   "execution_count": 17,
   "metadata": {
    "ExecuteTime": {
     "end_time": "2021-08-03T07:55:41.779050Z",
     "start_time": "2021-08-03T07:55:41.514673Z"
    }
   },
   "outputs": [
    {
     "data": {
      "text/plain": [
       "<AxesSubplot:xlabel='ISO,Year'>"
      ]
     },
     "execution_count": 17,
     "metadata": {},
     "output_type": "execute_result"
    },
    {
     "data": {
      "image/png": "[encoded data removed]",
      "text/plain": [
       "<Figure size 432x288 with 1 Axes>"
      ]
     },
     "metadata": {
      "needs_background": "light"
     },
     "output_type": "display_data"
    }
   ],
   "source": [
    "simulation_results['scenario_0']['delta_CL'].plot()\n",
    "simulation_results['scenario_1']['delta_CL'].plot()\n",
    "simulation_results['scenario_2']['delta_CL'].plot()"
   ]
  }
 ],
 "metadata": {
  "kernelspec": {
   "display_name": "Python 3",
   "language": "python",
   "name": "python3"
  },
  "language_info": {
   "codemirror_mode": {
    "name": "ipython",
    "version": 3
   },
   "file_extension": ".py",
   "mimetype": "text/x-python",
   "name": "python",
   "nbconvert_exporter": "python",
   "pygments_lexer": "ipython3",
   "version": "3.7.7"
  }
 },
 "nbformat": 4,
 "nbformat_minor": 4
}
