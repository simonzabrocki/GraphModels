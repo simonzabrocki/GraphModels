{
 "cells": [
  {
   "cell_type": "code",
   "execution_count": 1,
   "metadata": {
    "ExecuteTime": {
     "end_time": "2021-05-06T07:14:26.628327Z",
     "start_time": "2021-05-06T07:14:26.622257Z"
    }
   },
   "outputs": [],
   "source": [
    "import os\n",
    "path_parent = os.path.dirname(os.getcwd())\n",
    "os.chdir(path_parent)"
   ]
  },
  {
   "cell_type": "code",
   "execution_count": 3,
   "metadata": {
    "ExecuteTime": {
     "end_time": "2021-05-06T07:14:29.537089Z",
     "start_time": "2021-05-06T07:14:29.532413Z"
    }
   },
   "outputs": [],
   "source": [
    "from ggmodel_dev.graphmodel import GraphModel, concatenate_graph_specs\n",
    "from ggmodel_dev.validation import score_model, plot_diagnostic, score_model_dictionnary\n",
    "\n",
    "from data_utils.database import select_dataset\n",
    "from data_utils.utils import get_X_y_from_data, data_dict_from_df_tables\n",
    "from ggmodel_dev.models.landuse.BE2 import model_dictionnary\n",
    "\n",
    "import pandas as pd\n",
    "import numpy as np"
   ]
  },
  {
   "cell_type": "markdown",
   "metadata": {},
   "source": [
    "# Model developement notebook\n",
    "\n",
    "The goal of this notebook is to develop and improve the landuse model.\n",
    "\n",
    "Remarks:\n",
    "\n",
    "- comment 1\n",
    "- comment 2\n",
    "- comment 3"
   ]
  },
  {
   "cell_type": "markdown",
   "metadata": {},
   "source": [
    "## Data"
   ]
  },
  {
   "cell_type": "code",
   "execution_count": 11,
   "metadata": {
    "ExecuteTime": {
     "end_time": "2021-05-06T07:20:51.763890Z",
     "start_time": "2021-05-06T07:19:13.183713Z"
    }
   },
   "outputs": [],
   "source": [
    "def prepare_landuse_model_data():\n",
    "\n",
    "    df_tables = ['foodbalancesheet_new', 'population', 'crops', 'landuse']\n",
    "\n",
    "    df_dictionnary = {df_table: select_dataset(df_table) for df_table in df_tables}\n",
    "\n",
    "    df_dictionnary['foodbalancesheet_new'] = df_dictionnary['foodbalancesheet_new'][~df_dictionnary['foodbalancesheet_new'].Variable.isin(['Domestic supply quantity'])]\n",
    "\n",
    "    df_dictionnary['foodbalancesheet_new'] = df_dictionnary['foodbalancesheet_new'].drop(columns=['group']) # for now only crop is considered\n",
    "    \n",
    "    data_dict = data_dict_from_df_tables([df for _, df in df_dictionnary.items()])\n",
    "\n",
    "    data_dict['CL_baseline'] = data_dict['CL']\n",
    "    data_dict['IL_baseline'] = data_dict['IL']\n",
    "    data_dict['FL_baseline'] = data_dict['FL']\n",
    "    data_dict['R_rate'] = pd.Series(data=0, index=data_dict['CL_baseline'].index)\n",
    "    data_dict['CL_corr_coef'] = pd.Series(data=1.4, index=data_dict['CL_baseline'].index)\n",
    "\n",
    "    def preprocess_dict_item(key, value):\n",
    "\n",
    "        return (\n",
    "            value.fillna(0)\n",
    "        )\n",
    "\n",
    "    \n",
    "    data_dict = {k: preprocess_dict_item(k, v) for k, v in data_dict.items()}\n",
    "    data_dict['CYi'] = data_dict['CYi'].replace(0, np.nan)\n",
    "    return data_dict\n",
    "\n",
    "data_dict = prepare_landuse_model_data()"
   ]
  },
  {
   "cell_type": "code",
   "execution_count": null,
   "metadata": {
    "ExecuteTime": {
     "end_time": "2021-05-04T02:10:52.614978Z",
     "start_time": "2021-05-04T02:10:52.124356Z"
    }
   },
   "outputs": [],
   "source": [
    "ISO_data_dict = {k: v.loc[['FRA', 'HUN', 'DEU', 'NLD', 'BEL', 'CHE', 'BRA', 'SEN'], [2016, 2017, 2018], :] for k, v in data_dict.items()}\n"
   ]
  },
  {
   "cell_type": "markdown",
   "metadata": {},
   "source": [
    "## Model"
   ]
  },
  {
   "cell_type": "code",
   "execution_count": null,
   "metadata": {
    "ExecuteTime": {
     "end_time": "2021-05-04T02:10:54.142886Z",
     "start_time": "2021-05-04T02:10:52.617407Z"
    }
   },
   "outputs": [],
   "source": [
    "scores = score_model_dictionnary(model_dictionnary, ISO_data_dict)"
   ]
  },
  {
   "cell_type": "code",
   "execution_count": null,
   "metadata": {
    "ExecuteTime": {
     "end_time": "2021-05-04T02:10:54.176521Z",
     "start_time": "2021-05-04T02:10:54.146631Z"
    }
   },
   "outputs": [],
   "source": [
    "scores['BE2_model']['score_by_Variable']"
   ]
  },
  {
   "cell_type": "markdown",
   "metadata": {},
   "source": [
    "## Scenario"
   ]
  },
  {
   "cell_type": "code",
   "execution_count": null,
   "metadata": {
    "ExecuteTime": {
     "end_time": "2021-05-04T02:10:54.475398Z",
     "start_time": "2021-05-04T02:10:54.179025Z"
    }
   },
   "outputs": [],
   "source": [
    "from ggmodel_dev.projection import *\n",
    "from ggmodel_dev.models.landuse import BE2_scenario\n"
   ]
  },
  {
   "cell_type": "code",
   "execution_count": null,
   "metadata": {
    "ExecuteTime": {
     "end_time": "2021-05-04T02:14:51.396606Z",
     "start_time": "2021-05-04T02:14:47.199585Z"
    }
   },
   "outputs": [],
   "source": [
    "ISO = 'FRA'\n",
    "data_dict_filtered = {k: v.loc[ISO, 2000:] for k, v in data_dict.items()}\n",
    "\n",
    "list_of_scenarios = [dict(FDKGi_target=0.9, FLOi_target=0.8, CYi_target=1.1, R_rate=120),\n",
    "                     dict(FDKGi_target=0.5, FLOi_target=0.5, CYi_target=1.1, R_rate=120),\n",
    "                     dict(FDKGi_target=1.5, FLOi_target=1.5, CYi_target=1.1, R_rate=120)]\n",
    "\n",
    "simulation_results = run_scenario_list(scenario_function=BE2_scenario.run_scenario,\n",
    "                                       list_of_scenarios=list_of_scenarios,\n",
    "                                       projection_dictionnary=BE2_scenario.projection_dict,\n",
    "                                       data_dict=data_dict_filtered\n",
    "                                      )"
   ]
  },
  {
   "cell_type": "code",
   "execution_count": null,
   "metadata": {
    "ExecuteTime": {
     "end_time": "2021-05-04T02:14:51.608353Z",
     "start_time": "2021-05-04T02:14:51.398948Z"
    }
   },
   "outputs": [],
   "source": [
    "simulation_results['scenario_0']['BE2'].plot()\n",
    "simulation_results['scenario_1']['BE2'].plot()\n",
    "simulation_results['scenario_2']['BE2'].plot()"
   ]
  },
  {
   "cell_type": "code",
   "execution_count": null,
   "metadata": {},
   "outputs": [],
   "source": []
  }
 ],
 "metadata": {
  "kernelspec": {
   "display_name": "Python 3",
   "language": "python",
   "name": "python3"
  },
  "language_info": {
   "codemirror_mode": {
    "name": "ipython",
    "version": 3
   },
   "file_extension": ".py",
   "mimetype": "text/x-python",
   "name": "python",
   "nbconvert_exporter": "python",
   "pygments_lexer": "ipython3",
   "version": "3.7.7"
  }
 },
 "nbformat": 4,
 "nbformat_minor": 4
}
