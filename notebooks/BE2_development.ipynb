{
 "cells": [
  {
   "cell_type": "code",
   "execution_count": 1,
   "metadata": {},
   "outputs": [],
   "source": [
    "import os\n",
    "path_parent = os.path.dirname(os.getcwd())\n",
    "os.chdir(path_parent)"
   ]
  },
  {
   "cell_type": "code",
   "execution_count": 2,
   "metadata": {
    "ExecuteTime": {
     "end_time": "2021-04-14T01:09:57.101893Z",
     "start_time": "2021-04-14T01:09:54.394987Z"
    }
   },
   "outputs": [
    {
     "output_type": "stream",
     "name": "stderr",
     "text": [
      "/home/simon/anaconda3/lib/python3.7/site-packages/sklearn/utils/fixes.py:25: UserWarning: Module ggmodel_dev was already imported from /home/simon/anaconda3/lib/python3.7/site-packages/ggmodel_dev/__init__.py, but /home/simon/GreenGrowthInstitute/GraphModels is being added to sys.path\n  from pkg_resources import parse_version  # type: ignore\n"
     ]
    }
   ],
   "source": [
    "from ggmodel.graphmodel import GraphModel, concatenate_graph_specs\n",
    "from ggmodel.validation import score_model, plot_diagnostic\n",
    "\n",
    "from data_utils.database import select_dataset\n",
    "from data_utils.utils import get_X_y_from_data, data_dict_from_df_tables\n",
    "from models.landuse.BE2 import model_dictionnary\n",
    "\n",
    "import pandas as pd\n",
    "import numpy as np"
   ]
  },
  {
   "source": [
    "# Model developement notebook\n",
    "\n",
    "The goal of this notebook is to develop and improve the landuse model.\n",
    "\n",
    "Remarks:\n",
    "\n",
    "- comment 1\n",
    "- comment 2\n",
    "- comment 3"
   ],
   "cell_type": "markdown",
   "metadata": {}
  },
  {
   "source": [
    "## Data"
   ],
   "cell_type": "markdown",
   "metadata": {}
  },
  {
   "cell_type": "code",
   "execution_count": 50,
   "metadata": {},
   "outputs": [],
   "source": [
    "def prepare_landuse_model_data():\n",
    "\n",
    "    df_tables = ['foodbalancesheet_new', 'population', 'crops', 'landuse']\n",
    "\n",
    "    df_dictionnary = {df_table: select_dataset(df_table) for df_table in df_tables}\n",
    "\n",
    "    df_dictionnary['foodbalancesheet_new'] = df_dictionnary['foodbalancesheet_new'][~df_dictionnary['foodbalancesheet_new'].Variable.isin(['Domestic supply quantity'])]\n",
    "\n",
    "    df_dictionnary['foodbalancesheet_new'] = df_dictionnary['foodbalancesheet_new'].drop(columns=['group']) # for now only crop is considered\n",
    "    \n",
    "    data_dict = data_dict_from_df_tables([df for _, df in df_dictionnary.items()])\n",
    "\n",
    "    data_dict['CL_baseline'] = data_dict['CL']\n",
    "    data_dict['IL_baseline'] = data_dict['IL']\n",
    "    data_dict['FL_baseline'] = data_dict['FL']\n",
    "    data_dict['R_rate'] = pd.Series(data=0, index=data_dict['CL_baseline'].index)\n",
    "    data_dict['CL_corr_coef'] = pd.Series(data=1.4, index=data_dict['CL_baseline'].index)\n",
    "\n",
    "    def preprocess_dict_item(key, value):\n",
    "\n",
    "        return (\n",
    "            value.fillna(0)\n",
    "        )\n",
    "\n",
    "    \n",
    "    data_dict = {k: preprocess_dict_item(k, v) for k, v in data_dict.items()}\n",
    "    data_dict['CYi'] = data_dict['CYi'].replace(0, np.nan)\n",
    "    return data_dict\n",
    "\n",
    "data_dict = prepare_landuse_model_data()"
   ]
  },
  {
   "cell_type": "code",
   "execution_count": 51,
   "metadata": {
    "ExecuteTime": {
     "end_time": "2021-04-14T01:16:25.570846Z",
     "start_time": "2021-04-14T01:16:25.187689Z"
    }
   },
   "outputs": [],
   "source": [
    "ISO_data_dict = {k: v.loc[['FRA', 'HUN', 'DEU', 'NLD', 'BEL', 'CHE', 'BRA', 'SEN'], [2016, 2017, 2018], :] for k, v in data_dict.items()}\n"
   ]
  },
  {
   "source": [
    "## Model"
   ],
   "cell_type": "markdown",
   "metadata": {}
  },
  {
   "cell_type": "code",
   "execution_count": 52,
   "metadata": {},
   "outputs": [
    {
     "output_type": "stream",
     "name": "stdout",
     "text": [
      "\n",
      "FPi\n",
      "TCLDi\n",
      "         r2  correlation          rmse Variable\n",
      "0  0.043805     0.211274  4.472898e+08      FPi\n",
      "1  0.932502     0.965834  2.458636e+11    TCLDi\n",
      "\n",
      "FPi\n",
      "TCLDi\n",
      "         r2  correlation          rmse Variable\n",
      "0  0.043805     0.211274  4.472898e+08      FPi\n",
      "1  0.932502     0.965834  2.458636e+11    TCLDi\n",
      "\n",
      "FPi\n",
      "         r2  correlation          rmse Variable\n",
      "0  0.043805     0.211274  4.472898e+08      FPi\n",
      "\n",
      "IL\n",
      "FL\n",
      "    r2  correlation  rmse Variable\n",
      "0  1.0          1.0   0.0       IL\n",
      "1  1.0          1.0   0.0       FL\n",
      "\n",
      "Empty DataFrame\n",
      "Columns: []\n",
      "Index: []\n",
      "\n",
      "FL\n",
      "IL\n",
      "CL\n",
      "TCLDi\n",
      "FPi\n",
      "         r2  correlation          rmse Variable\n",
      "0  0.996999     0.999990  8.038138e+07       FL\n",
      "1 -5.329825     0.835806  4.779927e+05       IL\n",
      "2  0.797699     0.995561  8.088528e+07       CL\n",
      "3  0.932502     0.965834  2.458636e+11    TCLDi\n",
      "4  0.043805     0.211274  4.472898e+08      FPi\n"
     ]
    }
   ],
   "source": [
    "for model_name, model in model_dictionnary.items():\n",
    "    print(model)\n",
    "    try:\n",
    "        X, y_true = get_X_y_from_data(model, ISO_data_dict)\n",
    "        print(score_model(model, X, y_true))\n",
    "    except Exception as e:\n",
    "        print(e)\n"
   ]
  },
  {
   "source": [
    "## Scenario"
   ],
   "cell_type": "markdown",
   "metadata": {}
  },
  {
   "cell_type": "code",
   "execution_count": 53,
   "metadata": {},
   "outputs": [],
   "source": [
    "from ggmodel.projection import *\n",
    "\n",
    "\n",
    "def run_BE2_projection(data_dict):\n",
    "    data_dict = data_dict.copy()\n",
    "    \n",
    "    projection_dict = {\n",
    "        'FDi': lambda x: apply_itemized_ffill_projection(x),\n",
    "        'SSRi': lambda x: apply_itemized_ffill_projection(x),\n",
    "        'SVi': lambda x: apply_itemized_ffill_projection(x),\n",
    "        'RDi': lambda x: apply_itemized_ffill_projection(x),\n",
    "        'NFDi': lambda x: apply_itemized_ffill_projection(x),\n",
    "        'FEi': lambda x: apply_itemized_ffill_projection(x),\n",
    "        'FIi': lambda x: apply_itemized_ffill_projection(x),\n",
    "        'PDi': lambda x: apply_itemized_ffill_projection(x),\n",
    "        'FDi': lambda x: apply_itemized_ffill_projection(x),\n",
    "        'SDi': lambda x: apply_itemized_ffill_projection(x),\n",
    "        'TLA': lambda x: apply_ffill_projection(x),\n",
    "        'CL_baseline': lambda x: apply_ffill_projection(x),\n",
    "        'IL_baseline': lambda x: apply_ffill_projection(x),\n",
    "        'FL_baseline': lambda x: apply_ffill_projection(x),\n",
    "        'Pop': lambda x: apply_ffill_projection(x),\n",
    "        'CL_corr_coef': lambda x: apply_ffill_projection(x),\n",
    "     }\n",
    "     \n",
    "    \n",
    "    for variable, function in projection_dict.items():\n",
    "        data_dict[variable] = function(data_dict[variable])\n",
    "\n",
    "    return data_dict\n",
    "\n",
    "\n",
    "def run_BE2_scenario(data_dict, FDKGi_target=1, FLOi_target=1, CYi_target=1, R_rate=1):\n",
    "\n",
    "    data_dict = data_dict.copy()\n",
    "\n",
    "    projection_dict = {\n",
    "        'CYi': lambda x: apply_itemized_percent_target_projection(x, CYi_target),\n",
    "        'FDKGi': lambda x: apply_itemized_percent_target_projection(x, FDKGi_target),\n",
    "        'FLOi': lambda x: apply_itemized_percent_target_projection(x, FLOi_target),\n",
    "        'R_rate': lambda x: apply_constant_projection(x, R_rate)\n",
    "    }\n",
    "\n",
    "    for variable, function in projection_dict.items():\n",
    "        data_dict[variable] = function(data_dict[variable])\n",
    "\n",
    "\n",
    "    results = model_dictionnary['BE2_model'].run(data_dict)\n",
    "\n",
    "    results['CL_baseline'] = pd.Series(results['CL'].loc[:, 2018].values[0], index=results['CL'].index)\n",
    "\n",
    "    \n",
    "    results = model_dictionnary['BE2_model'].run(results)\n",
    "\n",
    "    return results"
   ]
  },
  {
   "cell_type": "code",
   "execution_count": 59,
   "metadata": {},
   "outputs": [
    {
     "output_type": "stream",
     "name": "stdout",
     "text": [
      "CPU times: user 3.56 s, sys: 8.54 ms, total: 3.57 s\nWall time: 3.56 s\n"
     ]
    }
   ],
   "source": [
    "%%time\n",
    "\n",
    "ISO = 'HUN'\n",
    "data_dict_filtered = {k: v.loc[ISO, 2000:] for k, v in data_dict.items()}\n",
    "\n",
    "proj_data_dict = run_BE2_projection(data_dict_filtered)\n",
    "\n",
    "s_1 = run_BE2_scenario(proj_data_dict, FDKGi_target=0.9, FLOi_target=0.8, CYi_target=1.1, R_rate=120)\n",
    "s_2 = run_BE2_scenario(proj_data_dict, FDKGi_target=0.5, FLOi_target=0.5, CYi_target=1.1, R_rate=120)\n",
    "s_3 = run_BE2_scenario(proj_data_dict, FDKGi_target=1.5, FLOi_target=1.5, CYi_target=1.1, R_rate=120)"
   ]
  },
  {
   "cell_type": "code",
   "execution_count": 60,
   "metadata": {},
   "outputs": [
    {
     "output_type": "execute_result",
     "data": {
      "text/plain": [
       "ISO  Item                            \n",
       "HUN  Almonds, with shell                   4654.1\n",
       "     Anise, badian, fennel, coriander     16088.0\n",
       "     Apples                              234503.5\n",
       "     Apricots                             31276.3\n",
       "     Asparagus                            43544.6\n",
       "                                           ...   \n",
       "     Walnuts, with shell                  11753.5\n",
       "     Watermelons                         386469.6\n",
       "     Wheat                                56368.4\n",
       "     Berries nes                          39276.6\n",
       "     Fruit, pome nes                      85485.4\n",
       "Name: CYi, Length: 92, dtype: float64"
      ]
     },
     "metadata": {},
     "execution_count": 60
    }
   ],
   "source": [
    "s_1['CYi'].loc[:, 2050, :].dropna()"
   ]
  },
  {
   "cell_type": "code",
   "execution_count": 61,
   "metadata": {},
   "outputs": [
    {
     "output_type": "execute_result",
     "data": {
      "text/plain": [
       "<AxesSubplot:xlabel='ISO,Year'>"
      ]
     },
     "metadata": {},
     "execution_count": 61
    },
    {
     "output_type": "display_data",
     "data": {
      "text/plain": "<Figure size 432x288 with 1 Axes>",
      "image/svg+xml": "<?xml version=\"1.0\" encoding=\"utf-8\" standalone=\"no\"?>\n<!DOCTYPE svg PUBLIC \"-//W3C//DTD SVG 1.1//EN\"\n  \"http://www.w3.org/Graphics/SVG/1.1/DTD/svg11.dtd\">\n<!-- Created with matplotlib (https://matplotlib.org/) -->\n<svg height=\"262.19625pt\" version=\"1.1\" viewBox=\"0 0 397.396662 262.19625\" width=\"397.396662pt\" xmlns=\"http://www.w3.org/2000/svg\" xmlns:xlink=\"http://www.w3.org/1999/xlink\">\n <metadata>\n  <rdf:RDF xmlns:cc=\"http://creativecommons.org/ns#\" xmlns:dc=\"http://purl.org/dc/elements/1.1/\" xmlns:rdf=\"http://www.w3.org/1999/02/22-rdf-syntax-ns#\">\n   <cc:Work>\n    <dc:type rdf:resource=\"http://purl.org/dc/dcmitype/StillImage\"/>\n    <dc:date>2021-04-26T15:02:49.441818</dc:date>\n    <dc:format>image/svg+xml</dc:format>\n    <dc:creator>\n     <cc:Agent>\n      <dc:title>Matplotlib v3.3.1, https://matplotlib.org/</dc:title>\n     </cc:Agent>\n    </dc:creator>\n   </cc:Work>\n  </rdf:RDF>\n </metadata>\n <defs>\n  <style type=\"text/css\">*{stroke-linecap:butt;stroke-linejoin:round;}</style>\n </defs>\n <g id=\"figure_1\">\n  <g id=\"patch_1\">\n   <path d=\"M -0 262.19625 \nL 397.396662 262.19625 \nL 397.396662 0 \nL -0 0 \nz\n\" style=\"fill:none;\"/>\n  </g>\n  <g id=\"axes_1\">\n   <g id=\"patch_2\">\n    <path d=\"M 39.65 224.64 \nL 374.45 224.64 \nL 374.45 7.2 \nL 39.65 7.2 \nz\n\" style=\"fill:#ffffff;\"/>\n   </g>\n   <g id=\"matplotlib.axis_1\">\n    <g id=\"xtick_1\">\n     <g id=\"line2d_1\">\n      <defs>\n       <path d=\"M 0 0 \nL 0 3.5 \n\" id=\"m654d5691f6\" style=\"stroke:#000000;stroke-width:0.8;\"/>\n      </defs>\n      <g>\n       <use style=\"stroke:#000000;stroke-width:0.8;\" x=\"54.868182\" xlink:href=\"#m654d5691f6\" y=\"224.64\"/>\n      </g>\n     </g>\n     <g id=\"text_1\">\n      <!-- (HUN, 2000) -->\n      <g transform=\"translate(23.903338 239.238437)scale(0.1 -0.1)\">\n       <defs>\n        <path d=\"M 31 75.875 \nQ 24.46875 64.65625 21.28125 53.65625 \nQ 18.109375 42.671875 18.109375 31.390625 \nQ 18.109375 20.125 21.3125 9.0625 \nQ 24.515625 -2 31 -13.1875 \nL 23.1875 -13.1875 \nQ 15.875 -1.703125 12.234375 9.375 \nQ 8.59375 20.453125 8.59375 31.390625 \nQ 8.59375 42.28125 12.203125 53.3125 \nQ 15.828125 64.359375 23.1875 75.875 \nz\n\" id=\"DejaVuSans-40\"/>\n        <path d=\"M 9.8125 72.90625 \nL 19.671875 72.90625 \nL 19.671875 43.015625 \nL 55.515625 43.015625 \nL 55.515625 72.90625 \nL 65.375 72.90625 \nL 65.375 0 \nL 55.515625 0 \nL 55.515625 34.71875 \nL 19.671875 34.71875 \nL 19.671875 0 \nL 9.8125 0 \nz\n\" id=\"DejaVuSans-72\"/>\n        <path d=\"M 8.6875 72.90625 \nL 18.609375 72.90625 \nL 18.609375 28.609375 \nQ 18.609375 16.890625 22.84375 11.734375 \nQ 27.09375 6.59375 36.625 6.59375 \nQ 46.09375 6.59375 50.34375 11.734375 \nQ 54.59375 16.890625 54.59375 28.609375 \nL 54.59375 72.90625 \nL 64.5 72.90625 \nL 64.5 27.390625 \nQ 64.5 13.140625 57.4375 5.859375 \nQ 50.390625 -1.421875 36.625 -1.421875 \nQ 22.796875 -1.421875 15.734375 5.859375 \nQ 8.6875 13.140625 8.6875 27.390625 \nz\n\" id=\"DejaVuSans-85\"/>\n        <path d=\"M 9.8125 72.90625 \nL 23.09375 72.90625 \nL 55.421875 11.921875 \nL 55.421875 72.90625 \nL 64.984375 72.90625 \nL 64.984375 0 \nL 51.703125 0 \nL 19.390625 60.984375 \nL 19.390625 0 \nL 9.8125 0 \nz\n\" id=\"DejaVuSans-78\"/>\n        <path d=\"M 11.71875 12.40625 \nL 22.015625 12.40625 \nL 22.015625 4 \nL 14.015625 -11.625 \nL 7.71875 -11.625 \nL 11.71875 4 \nz\n\" id=\"DejaVuSans-44\"/>\n        <path id=\"DejaVuSans-32\"/>\n        <path d=\"M 19.1875 8.296875 \nL 53.609375 8.296875 \nL 53.609375 0 \nL 7.328125 0 \nL 7.328125 8.296875 \nQ 12.9375 14.109375 22.625 23.890625 \nQ 32.328125 33.6875 34.8125 36.53125 \nQ 39.546875 41.84375 41.421875 45.53125 \nQ 43.3125 49.21875 43.3125 52.78125 \nQ 43.3125 58.59375 39.234375 62.25 \nQ 35.15625 65.921875 28.609375 65.921875 \nQ 23.96875 65.921875 18.8125 64.3125 \nQ 13.671875 62.703125 7.8125 59.421875 \nL 7.8125 69.390625 \nQ 13.765625 71.78125 18.9375 73 \nQ 24.125 74.21875 28.421875 74.21875 \nQ 39.75 74.21875 46.484375 68.546875 \nQ 53.21875 62.890625 53.21875 53.421875 \nQ 53.21875 48.921875 51.53125 44.890625 \nQ 49.859375 40.875 45.40625 35.40625 \nQ 44.1875 33.984375 37.640625 27.21875 \nQ 31.109375 20.453125 19.1875 8.296875 \nz\n\" id=\"DejaVuSans-50\"/>\n        <path d=\"M 31.78125 66.40625 \nQ 24.171875 66.40625 20.328125 58.90625 \nQ 16.5 51.421875 16.5 36.375 \nQ 16.5 21.390625 20.328125 13.890625 \nQ 24.171875 6.390625 31.78125 6.390625 \nQ 39.453125 6.390625 43.28125 13.890625 \nQ 47.125 21.390625 47.125 36.375 \nQ 47.125 51.421875 43.28125 58.90625 \nQ 39.453125 66.40625 31.78125 66.40625 \nz\nM 31.78125 74.21875 \nQ 44.046875 74.21875 50.515625 64.515625 \nQ 56.984375 54.828125 56.984375 36.375 \nQ 56.984375 17.96875 50.515625 8.265625 \nQ 44.046875 -1.421875 31.78125 -1.421875 \nQ 19.53125 -1.421875 13.0625 8.265625 \nQ 6.59375 17.96875 6.59375 36.375 \nQ 6.59375 54.828125 13.0625 64.515625 \nQ 19.53125 74.21875 31.78125 74.21875 \nz\n\" id=\"DejaVuSans-48\"/>\n        <path d=\"M 8.015625 75.875 \nL 15.828125 75.875 \nQ 23.140625 64.359375 26.78125 53.3125 \nQ 30.421875 42.28125 30.421875 31.390625 \nQ 30.421875 20.453125 26.78125 9.375 \nQ 23.140625 -1.703125 15.828125 -13.1875 \nL 8.015625 -13.1875 \nQ 14.5 -2 17.703125 9.0625 \nQ 20.90625 20.125 20.90625 31.390625 \nQ 20.90625 42.671875 17.703125 53.65625 \nQ 14.5 64.65625 8.015625 75.875 \nz\n\" id=\"DejaVuSans-41\"/>\n       </defs>\n       <use xlink:href=\"#DejaVuSans-40\"/>\n       <use x=\"39.013672\" xlink:href=\"#DejaVuSans-72\"/>\n       <use x=\"114.208984\" xlink:href=\"#DejaVuSans-85\"/>\n       <use x=\"187.402344\" xlink:href=\"#DejaVuSans-78\"/>\n       <use x=\"262.207031\" xlink:href=\"#DejaVuSans-44\"/>\n       <use x=\"293.994141\" xlink:href=\"#DejaVuSans-32\"/>\n       <use x=\"325.78125\" xlink:href=\"#DejaVuSans-50\"/>\n       <use x=\"389.404297\" xlink:href=\"#DejaVuSans-48\"/>\n       <use x=\"453.027344\" xlink:href=\"#DejaVuSans-48\"/>\n       <use x=\"516.650391\" xlink:href=\"#DejaVuSans-48\"/>\n       <use x=\"580.273438\" xlink:href=\"#DejaVuSans-41\"/>\n      </g>\n     </g>\n    </g>\n    <g id=\"xtick_2\">\n     <g id=\"line2d_2\">\n      <g>\n       <use style=\"stroke:#000000;stroke-width:0.8;\" x=\"115.740909\" xlink:href=\"#m654d5691f6\" y=\"224.64\"/>\n      </g>\n     </g>\n     <g id=\"text_2\">\n      <!-- (HUN, 2010) -->\n      <g transform=\"translate(84.776065 239.238437)scale(0.1 -0.1)\">\n       <defs>\n        <path d=\"M 12.40625 8.296875 \nL 28.515625 8.296875 \nL 28.515625 63.921875 \nL 10.984375 60.40625 \nL 10.984375 69.390625 \nL 28.421875 72.90625 \nL 38.28125 72.90625 \nL 38.28125 8.296875 \nL 54.390625 8.296875 \nL 54.390625 0 \nL 12.40625 0 \nz\n\" id=\"DejaVuSans-49\"/>\n       </defs>\n       <use xlink:href=\"#DejaVuSans-40\"/>\n       <use x=\"39.013672\" xlink:href=\"#DejaVuSans-72\"/>\n       <use x=\"114.208984\" xlink:href=\"#DejaVuSans-85\"/>\n       <use x=\"187.402344\" xlink:href=\"#DejaVuSans-78\"/>\n       <use x=\"262.207031\" xlink:href=\"#DejaVuSans-44\"/>\n       <use x=\"293.994141\" xlink:href=\"#DejaVuSans-32\"/>\n       <use x=\"325.78125\" xlink:href=\"#DejaVuSans-50\"/>\n       <use x=\"389.404297\" xlink:href=\"#DejaVuSans-48\"/>\n       <use x=\"453.027344\" xlink:href=\"#DejaVuSans-49\"/>\n       <use x=\"516.650391\" xlink:href=\"#DejaVuSans-48\"/>\n       <use x=\"580.273438\" xlink:href=\"#DejaVuSans-41\"/>\n      </g>\n     </g>\n    </g>\n    <g id=\"xtick_3\">\n     <g id=\"line2d_3\">\n      <g>\n       <use style=\"stroke:#000000;stroke-width:0.8;\" x=\"176.613636\" xlink:href=\"#m654d5691f6\" y=\"224.64\"/>\n      </g>\n     </g>\n     <g id=\"text_3\">\n      <!-- (HUN, 2020) -->\n      <g transform=\"translate(145.648793 239.238437)scale(0.1 -0.1)\">\n       <use xlink:href=\"#DejaVuSans-40\"/>\n       <use x=\"39.013672\" xlink:href=\"#DejaVuSans-72\"/>\n       <use x=\"114.208984\" xlink:href=\"#DejaVuSans-85\"/>\n       <use x=\"187.402344\" xlink:href=\"#DejaVuSans-78\"/>\n       <use x=\"262.207031\" xlink:href=\"#DejaVuSans-44\"/>\n       <use x=\"293.994141\" xlink:href=\"#DejaVuSans-32\"/>\n       <use x=\"325.78125\" xlink:href=\"#DejaVuSans-50\"/>\n       <use x=\"389.404297\" xlink:href=\"#DejaVuSans-48\"/>\n       <use x=\"453.027344\" xlink:href=\"#DejaVuSans-50\"/>\n       <use x=\"516.650391\" xlink:href=\"#DejaVuSans-48\"/>\n       <use x=\"580.273438\" xlink:href=\"#DejaVuSans-41\"/>\n      </g>\n     </g>\n    </g>\n    <g id=\"xtick_4\">\n     <g id=\"line2d_4\">\n      <g>\n       <use style=\"stroke:#000000;stroke-width:0.8;\" x=\"237.486364\" xlink:href=\"#m654d5691f6\" y=\"224.64\"/>\n      </g>\n     </g>\n     <g id=\"text_4\">\n      <!-- (HUN, 2030) -->\n      <g transform=\"translate(206.52152 239.238437)scale(0.1 -0.1)\">\n       <defs>\n        <path d=\"M 40.578125 39.3125 \nQ 47.65625 37.796875 51.625 33 \nQ 55.609375 28.21875 55.609375 21.1875 \nQ 55.609375 10.40625 48.1875 4.484375 \nQ 40.765625 -1.421875 27.09375 -1.421875 \nQ 22.515625 -1.421875 17.65625 -0.515625 \nQ 12.796875 0.390625 7.625 2.203125 \nL 7.625 11.71875 \nQ 11.71875 9.328125 16.59375 8.109375 \nQ 21.484375 6.890625 26.8125 6.890625 \nQ 36.078125 6.890625 40.9375 10.546875 \nQ 45.796875 14.203125 45.796875 21.1875 \nQ 45.796875 27.640625 41.28125 31.265625 \nQ 36.765625 34.90625 28.71875 34.90625 \nL 20.21875 34.90625 \nL 20.21875 43.015625 \nL 29.109375 43.015625 \nQ 36.375 43.015625 40.234375 45.921875 \nQ 44.09375 48.828125 44.09375 54.296875 \nQ 44.09375 59.90625 40.109375 62.90625 \nQ 36.140625 65.921875 28.71875 65.921875 \nQ 24.65625 65.921875 20.015625 65.03125 \nQ 15.375 64.15625 9.8125 62.3125 \nL 9.8125 71.09375 \nQ 15.4375 72.65625 20.34375 73.4375 \nQ 25.25 74.21875 29.59375 74.21875 \nQ 40.828125 74.21875 47.359375 69.109375 \nQ 53.90625 64.015625 53.90625 55.328125 \nQ 53.90625 49.265625 50.4375 45.09375 \nQ 46.96875 40.921875 40.578125 39.3125 \nz\n\" id=\"DejaVuSans-51\"/>\n       </defs>\n       <use xlink:href=\"#DejaVuSans-40\"/>\n       <use x=\"39.013672\" xlink:href=\"#DejaVuSans-72\"/>\n       <use x=\"114.208984\" xlink:href=\"#DejaVuSans-85\"/>\n       <use x=\"187.402344\" xlink:href=\"#DejaVuSans-78\"/>\n       <use x=\"262.207031\" xlink:href=\"#DejaVuSans-44\"/>\n       <use x=\"293.994141\" xlink:href=\"#DejaVuSans-32\"/>\n       <use x=\"325.78125\" xlink:href=\"#DejaVuSans-50\"/>\n       <use x=\"389.404297\" xlink:href=\"#DejaVuSans-48\"/>\n       <use x=\"453.027344\" xlink:href=\"#DejaVuSans-51\"/>\n       <use x=\"516.650391\" xlink:href=\"#DejaVuSans-48\"/>\n       <use x=\"580.273438\" xlink:href=\"#DejaVuSans-41\"/>\n      </g>\n     </g>\n    </g>\n    <g id=\"xtick_5\">\n     <g id=\"line2d_5\">\n      <g>\n       <use style=\"stroke:#000000;stroke-width:0.8;\" x=\"298.359091\" xlink:href=\"#m654d5691f6\" y=\"224.64\"/>\n      </g>\n     </g>\n     <g id=\"text_5\">\n      <!-- (HUN, 2040) -->\n      <g transform=\"translate(267.394247 239.238437)scale(0.1 -0.1)\">\n       <defs>\n        <path d=\"M 37.796875 64.3125 \nL 12.890625 25.390625 \nL 37.796875 25.390625 \nz\nM 35.203125 72.90625 \nL 47.609375 72.90625 \nL 47.609375 25.390625 \nL 58.015625 25.390625 \nL 58.015625 17.1875 \nL 47.609375 17.1875 \nL 47.609375 0 \nL 37.796875 0 \nL 37.796875 17.1875 \nL 4.890625 17.1875 \nL 4.890625 26.703125 \nz\n\" id=\"DejaVuSans-52\"/>\n       </defs>\n       <use xlink:href=\"#DejaVuSans-40\"/>\n       <use x=\"39.013672\" xlink:href=\"#DejaVuSans-72\"/>\n       <use x=\"114.208984\" xlink:href=\"#DejaVuSans-85\"/>\n       <use x=\"187.402344\" xlink:href=\"#DejaVuSans-78\"/>\n       <use x=\"262.207031\" xlink:href=\"#DejaVuSans-44\"/>\n       <use x=\"293.994141\" xlink:href=\"#DejaVuSans-32\"/>\n       <use x=\"325.78125\" xlink:href=\"#DejaVuSans-50\"/>\n       <use x=\"389.404297\" xlink:href=\"#DejaVuSans-48\"/>\n       <use x=\"453.027344\" xlink:href=\"#DejaVuSans-52\"/>\n       <use x=\"516.650391\" xlink:href=\"#DejaVuSans-48\"/>\n       <use x=\"580.273438\" xlink:href=\"#DejaVuSans-41\"/>\n      </g>\n     </g>\n    </g>\n    <g id=\"xtick_6\">\n     <g id=\"line2d_6\">\n      <g>\n       <use style=\"stroke:#000000;stroke-width:0.8;\" x=\"359.231818\" xlink:href=\"#m654d5691f6\" y=\"224.64\"/>\n      </g>\n     </g>\n     <g id=\"text_6\">\n      <!-- (HUN, 2050) -->\n      <g transform=\"translate(328.266974 239.238437)scale(0.1 -0.1)\">\n       <defs>\n        <path d=\"M 10.796875 72.90625 \nL 49.515625 72.90625 \nL 49.515625 64.59375 \nL 19.828125 64.59375 \nL 19.828125 46.734375 \nQ 21.96875 47.46875 24.109375 47.828125 \nQ 26.265625 48.1875 28.421875 48.1875 \nQ 40.625 48.1875 47.75 41.5 \nQ 54.890625 34.8125 54.890625 23.390625 \nQ 54.890625 11.625 47.5625 5.09375 \nQ 40.234375 -1.421875 26.90625 -1.421875 \nQ 22.3125 -1.421875 17.546875 -0.640625 \nQ 12.796875 0.140625 7.71875 1.703125 \nL 7.71875 11.625 \nQ 12.109375 9.234375 16.796875 8.0625 \nQ 21.484375 6.890625 26.703125 6.890625 \nQ 35.15625 6.890625 40.078125 11.328125 \nQ 45.015625 15.765625 45.015625 23.390625 \nQ 45.015625 31 40.078125 35.4375 \nQ 35.15625 39.890625 26.703125 39.890625 \nQ 22.75 39.890625 18.8125 39.015625 \nQ 14.890625 38.140625 10.796875 36.28125 \nz\n\" id=\"DejaVuSans-53\"/>\n       </defs>\n       <use xlink:href=\"#DejaVuSans-40\"/>\n       <use x=\"39.013672\" xlink:href=\"#DejaVuSans-72\"/>\n       <use x=\"114.208984\" xlink:href=\"#DejaVuSans-85\"/>\n       <use x=\"187.402344\" xlink:href=\"#DejaVuSans-78\"/>\n       <use x=\"262.207031\" xlink:href=\"#DejaVuSans-44\"/>\n       <use x=\"293.994141\" xlink:href=\"#DejaVuSans-32\"/>\n       <use x=\"325.78125\" xlink:href=\"#DejaVuSans-50\"/>\n       <use x=\"389.404297\" xlink:href=\"#DejaVuSans-48\"/>\n       <use x=\"453.027344\" xlink:href=\"#DejaVuSans-53\"/>\n       <use x=\"516.650391\" xlink:href=\"#DejaVuSans-48\"/>\n       <use x=\"580.273438\" xlink:href=\"#DejaVuSans-41\"/>\n      </g>\n     </g>\n    </g>\n    <g id=\"text_7\">\n     <!-- ISO,Year -->\n     <g transform=\"translate(186.288281 252.916562)scale(0.1 -0.1)\">\n      <defs>\n       <path d=\"M 9.8125 72.90625 \nL 19.671875 72.90625 \nL 19.671875 0 \nL 9.8125 0 \nz\n\" id=\"DejaVuSans-73\"/>\n       <path d=\"M 53.515625 70.515625 \nL 53.515625 60.890625 \nQ 47.90625 63.578125 42.921875 64.890625 \nQ 37.9375 66.21875 33.296875 66.21875 \nQ 25.25 66.21875 20.875 63.09375 \nQ 16.5 59.96875 16.5 54.203125 \nQ 16.5 49.359375 19.40625 46.890625 \nQ 22.3125 44.4375 30.421875 42.921875 \nL 36.375 41.703125 \nQ 47.40625 39.59375 52.65625 34.296875 \nQ 57.90625 29 57.90625 20.125 \nQ 57.90625 9.515625 50.796875 4.046875 \nQ 43.703125 -1.421875 29.984375 -1.421875 \nQ 24.8125 -1.421875 18.96875 -0.25 \nQ 13.140625 0.921875 6.890625 3.21875 \nL 6.890625 13.375 \nQ 12.890625 10.015625 18.65625 8.296875 \nQ 24.421875 6.59375 29.984375 6.59375 \nQ 38.421875 6.59375 43.015625 9.90625 \nQ 47.609375 13.234375 47.609375 19.390625 \nQ 47.609375 24.75 44.3125 27.78125 \nQ 41.015625 30.8125 33.5 32.328125 \nL 27.484375 33.5 \nQ 16.453125 35.6875 11.515625 40.375 \nQ 6.59375 45.0625 6.59375 53.421875 \nQ 6.59375 63.09375 13.40625 68.65625 \nQ 20.21875 74.21875 32.171875 74.21875 \nQ 37.3125 74.21875 42.625 73.28125 \nQ 47.953125 72.359375 53.515625 70.515625 \nz\n\" id=\"DejaVuSans-83\"/>\n       <path d=\"M 39.40625 66.21875 \nQ 28.65625 66.21875 22.328125 58.203125 \nQ 16.015625 50.203125 16.015625 36.375 \nQ 16.015625 22.609375 22.328125 14.59375 \nQ 28.65625 6.59375 39.40625 6.59375 \nQ 50.140625 6.59375 56.421875 14.59375 \nQ 62.703125 22.609375 62.703125 36.375 \nQ 62.703125 50.203125 56.421875 58.203125 \nQ 50.140625 66.21875 39.40625 66.21875 \nz\nM 39.40625 74.21875 \nQ 54.734375 74.21875 63.90625 63.9375 \nQ 73.09375 53.65625 73.09375 36.375 \nQ 73.09375 19.140625 63.90625 8.859375 \nQ 54.734375 -1.421875 39.40625 -1.421875 \nQ 24.03125 -1.421875 14.8125 8.828125 \nQ 5.609375 19.09375 5.609375 36.375 \nQ 5.609375 53.65625 14.8125 63.9375 \nQ 24.03125 74.21875 39.40625 74.21875 \nz\n\" id=\"DejaVuSans-79\"/>\n       <path d=\"M -0.203125 72.90625 \nL 10.40625 72.90625 \nL 30.609375 42.921875 \nL 50.6875 72.90625 \nL 61.28125 72.90625 \nL 35.5 34.71875 \nL 35.5 0 \nL 25.59375 0 \nL 25.59375 34.71875 \nz\n\" id=\"DejaVuSans-89\"/>\n       <path d=\"M 56.203125 29.59375 \nL 56.203125 25.203125 \nL 14.890625 25.203125 \nQ 15.484375 15.921875 20.484375 11.0625 \nQ 25.484375 6.203125 34.421875 6.203125 \nQ 39.59375 6.203125 44.453125 7.46875 \nQ 49.3125 8.734375 54.109375 11.28125 \nL 54.109375 2.78125 \nQ 49.265625 0.734375 44.1875 -0.34375 \nQ 39.109375 -1.421875 33.890625 -1.421875 \nQ 20.796875 -1.421875 13.15625 6.1875 \nQ 5.515625 13.8125 5.515625 26.8125 \nQ 5.515625 40.234375 12.765625 48.109375 \nQ 20.015625 56 32.328125 56 \nQ 43.359375 56 49.78125 48.890625 \nQ 56.203125 41.796875 56.203125 29.59375 \nz\nM 47.21875 32.234375 \nQ 47.125 39.59375 43.09375 43.984375 \nQ 39.0625 48.390625 32.421875 48.390625 \nQ 24.90625 48.390625 20.390625 44.140625 \nQ 15.875 39.890625 15.1875 32.171875 \nz\n\" id=\"DejaVuSans-101\"/>\n       <path d=\"M 34.28125 27.484375 \nQ 23.390625 27.484375 19.1875 25 \nQ 14.984375 22.515625 14.984375 16.5 \nQ 14.984375 11.71875 18.140625 8.90625 \nQ 21.296875 6.109375 26.703125 6.109375 \nQ 34.1875 6.109375 38.703125 11.40625 \nQ 43.21875 16.703125 43.21875 25.484375 \nL 43.21875 27.484375 \nz\nM 52.203125 31.203125 \nL 52.203125 0 \nL 43.21875 0 \nL 43.21875 8.296875 \nQ 40.140625 3.328125 35.546875 0.953125 \nQ 30.953125 -1.421875 24.3125 -1.421875 \nQ 15.921875 -1.421875 10.953125 3.296875 \nQ 6 8.015625 6 15.921875 \nQ 6 25.140625 12.171875 29.828125 \nQ 18.359375 34.515625 30.609375 34.515625 \nL 43.21875 34.515625 \nL 43.21875 35.40625 \nQ 43.21875 41.609375 39.140625 45 \nQ 35.0625 48.390625 27.6875 48.390625 \nQ 23 48.390625 18.546875 47.265625 \nQ 14.109375 46.140625 10.015625 43.890625 \nL 10.015625 52.203125 \nQ 14.9375 54.109375 19.578125 55.046875 \nQ 24.21875 56 28.609375 56 \nQ 40.484375 56 46.34375 49.84375 \nQ 52.203125 43.703125 52.203125 31.203125 \nz\n\" id=\"DejaVuSans-97\"/>\n       <path d=\"M 41.109375 46.296875 \nQ 39.59375 47.171875 37.8125 47.578125 \nQ 36.03125 48 33.890625 48 \nQ 26.265625 48 22.1875 43.046875 \nQ 18.109375 38.09375 18.109375 28.8125 \nL 18.109375 0 \nL 9.078125 0 \nL 9.078125 54.6875 \nL 18.109375 54.6875 \nL 18.109375 46.1875 \nQ 20.953125 51.171875 25.484375 53.578125 \nQ 30.03125 56 36.53125 56 \nQ 37.453125 56 38.578125 55.875 \nQ 39.703125 55.765625 41.0625 55.515625 \nz\n\" id=\"DejaVuSans-114\"/>\n      </defs>\n      <use xlink:href=\"#DejaVuSans-73\"/>\n      <use x=\"29.492188\" xlink:href=\"#DejaVuSans-83\"/>\n      <use x=\"92.96875\" xlink:href=\"#DejaVuSans-79\"/>\n      <use x=\"171.679688\" xlink:href=\"#DejaVuSans-44\"/>\n      <use x=\"203.466797\" xlink:href=\"#DejaVuSans-89\"/>\n      <use x=\"251.300781\" xlink:href=\"#DejaVuSans-101\"/>\n      <use x=\"312.824219\" xlink:href=\"#DejaVuSans-97\"/>\n      <use x=\"374.103516\" xlink:href=\"#DejaVuSans-114\"/>\n     </g>\n    </g>\n   </g>\n   <g id=\"matplotlib.axis_2\">\n    <g id=\"ytick_1\">\n     <g id=\"line2d_7\">\n      <defs>\n       <path d=\"M 0 0 \nL -3.5 0 \n\" id=\"mdf6e781c02\" style=\"stroke:#000000;stroke-width:0.8;\"/>\n      </defs>\n      <g>\n       <use style=\"stroke:#000000;stroke-width:0.8;\" x=\"39.65\" xlink:href=\"#mdf6e781c02\" y=\"204.317793\"/>\n      </g>\n     </g>\n     <g id=\"text_8\">\n      <!-- 1800 -->\n      <g transform=\"translate(7.2 208.117012)scale(0.1 -0.1)\">\n       <defs>\n        <path d=\"M 31.78125 34.625 \nQ 24.75 34.625 20.71875 30.859375 \nQ 16.703125 27.09375 16.703125 20.515625 \nQ 16.703125 13.921875 20.71875 10.15625 \nQ 24.75 6.390625 31.78125 6.390625 \nQ 38.8125 6.390625 42.859375 10.171875 \nQ 46.921875 13.96875 46.921875 20.515625 \nQ 46.921875 27.09375 42.890625 30.859375 \nQ 38.875 34.625 31.78125 34.625 \nz\nM 21.921875 38.8125 \nQ 15.578125 40.375 12.03125 44.71875 \nQ 8.5 49.078125 8.5 55.328125 \nQ 8.5 64.0625 14.71875 69.140625 \nQ 20.953125 74.21875 31.78125 74.21875 \nQ 42.671875 74.21875 48.875 69.140625 \nQ 55.078125 64.0625 55.078125 55.328125 \nQ 55.078125 49.078125 51.53125 44.71875 \nQ 48 40.375 41.703125 38.8125 \nQ 48.828125 37.15625 52.796875 32.3125 \nQ 56.78125 27.484375 56.78125 20.515625 \nQ 56.78125 9.90625 50.3125 4.234375 \nQ 43.84375 -1.421875 31.78125 -1.421875 \nQ 19.734375 -1.421875 13.25 4.234375 \nQ 6.78125 9.90625 6.78125 20.515625 \nQ 6.78125 27.484375 10.78125 32.3125 \nQ 14.796875 37.15625 21.921875 38.8125 \nz\nM 18.3125 54.390625 \nQ 18.3125 48.734375 21.84375 45.5625 \nQ 25.390625 42.390625 31.78125 42.390625 \nQ 38.140625 42.390625 41.71875 45.5625 \nQ 45.3125 48.734375 45.3125 54.390625 \nQ 45.3125 60.0625 41.71875 63.234375 \nQ 38.140625 66.40625 31.78125 66.40625 \nQ 25.390625 66.40625 21.84375 63.234375 \nQ 18.3125 60.0625 18.3125 54.390625 \nz\n\" id=\"DejaVuSans-56\"/>\n       </defs>\n       <use xlink:href=\"#DejaVuSans-49\"/>\n       <use x=\"63.623047\" xlink:href=\"#DejaVuSans-56\"/>\n       <use x=\"127.246094\" xlink:href=\"#DejaVuSans-48\"/>\n       <use x=\"190.869141\" xlink:href=\"#DejaVuSans-48\"/>\n      </g>\n     </g>\n    </g>\n    <g id=\"ytick_2\">\n     <g id=\"line2d_8\">\n      <g>\n       <use style=\"stroke:#000000;stroke-width:0.8;\" x=\"39.65\" xlink:href=\"#mdf6e781c02\" y=\"173.084388\"/>\n      </g>\n     </g>\n     <g id=\"text_9\">\n      <!-- 2000 -->\n      <g transform=\"translate(7.2 176.883607)scale(0.1 -0.1)\">\n       <use xlink:href=\"#DejaVuSans-50\"/>\n       <use x=\"63.623047\" xlink:href=\"#DejaVuSans-48\"/>\n       <use x=\"127.246094\" xlink:href=\"#DejaVuSans-48\"/>\n       <use x=\"190.869141\" xlink:href=\"#DejaVuSans-48\"/>\n      </g>\n     </g>\n    </g>\n    <g id=\"ytick_3\">\n     <g id=\"line2d_9\">\n      <g>\n       <use style=\"stroke:#000000;stroke-width:0.8;\" x=\"39.65\" xlink:href=\"#mdf6e781c02\" y=\"141.850983\"/>\n      </g>\n     </g>\n     <g id=\"text_10\">\n      <!-- 2200 -->\n      <g transform=\"translate(7.2 145.650202)scale(0.1 -0.1)\">\n       <use xlink:href=\"#DejaVuSans-50\"/>\n       <use x=\"63.623047\" xlink:href=\"#DejaVuSans-50\"/>\n       <use x=\"127.246094\" xlink:href=\"#DejaVuSans-48\"/>\n       <use x=\"190.869141\" xlink:href=\"#DejaVuSans-48\"/>\n      </g>\n     </g>\n    </g>\n    <g id=\"ytick_4\">\n     <g id=\"line2d_10\">\n      <g>\n       <use style=\"stroke:#000000;stroke-width:0.8;\" x=\"39.65\" xlink:href=\"#mdf6e781c02\" y=\"110.617578\"/>\n      </g>\n     </g>\n     <g id=\"text_11\">\n      <!-- 2400 -->\n      <g transform=\"translate(7.2 114.416797)scale(0.1 -0.1)\">\n       <use xlink:href=\"#DejaVuSans-50\"/>\n       <use x=\"63.623047\" xlink:href=\"#DejaVuSans-52\"/>\n       <use x=\"127.246094\" xlink:href=\"#DejaVuSans-48\"/>\n       <use x=\"190.869141\" xlink:href=\"#DejaVuSans-48\"/>\n      </g>\n     </g>\n    </g>\n    <g id=\"ytick_5\">\n     <g id=\"line2d_11\">\n      <g>\n       <use style=\"stroke:#000000;stroke-width:0.8;\" x=\"39.65\" xlink:href=\"#mdf6e781c02\" y=\"79.384173\"/>\n      </g>\n     </g>\n     <g id=\"text_12\">\n      <!-- 2600 -->\n      <g transform=\"translate(7.2 83.183392)scale(0.1 -0.1)\">\n       <defs>\n        <path d=\"M 33.015625 40.375 \nQ 26.375 40.375 22.484375 35.828125 \nQ 18.609375 31.296875 18.609375 23.390625 \nQ 18.609375 15.53125 22.484375 10.953125 \nQ 26.375 6.390625 33.015625 6.390625 \nQ 39.65625 6.390625 43.53125 10.953125 \nQ 47.40625 15.53125 47.40625 23.390625 \nQ 47.40625 31.296875 43.53125 35.828125 \nQ 39.65625 40.375 33.015625 40.375 \nz\nM 52.59375 71.296875 \nL 52.59375 62.3125 \nQ 48.875 64.0625 45.09375 64.984375 \nQ 41.3125 65.921875 37.59375 65.921875 \nQ 27.828125 65.921875 22.671875 59.328125 \nQ 17.53125 52.734375 16.796875 39.40625 \nQ 19.671875 43.65625 24.015625 45.921875 \nQ 28.375 48.1875 33.59375 48.1875 \nQ 44.578125 48.1875 50.953125 41.515625 \nQ 57.328125 34.859375 57.328125 23.390625 \nQ 57.328125 12.15625 50.6875 5.359375 \nQ 44.046875 -1.421875 33.015625 -1.421875 \nQ 20.359375 -1.421875 13.671875 8.265625 \nQ 6.984375 17.96875 6.984375 36.375 \nQ 6.984375 53.65625 15.1875 63.9375 \nQ 23.390625 74.21875 37.203125 74.21875 \nQ 40.921875 74.21875 44.703125 73.484375 \nQ 48.484375 72.75 52.59375 71.296875 \nz\n\" id=\"DejaVuSans-54\"/>\n       </defs>\n       <use xlink:href=\"#DejaVuSans-50\"/>\n       <use x=\"63.623047\" xlink:href=\"#DejaVuSans-54\"/>\n       <use x=\"127.246094\" xlink:href=\"#DejaVuSans-48\"/>\n       <use x=\"190.869141\" xlink:href=\"#DejaVuSans-48\"/>\n      </g>\n     </g>\n    </g>\n    <g id=\"ytick_6\">\n     <g id=\"line2d_12\">\n      <g>\n       <use style=\"stroke:#000000;stroke-width:0.8;\" x=\"39.65\" xlink:href=\"#mdf6e781c02\" y=\"48.150768\"/>\n      </g>\n     </g>\n     <g id=\"text_13\">\n      <!-- 2800 -->\n      <g transform=\"translate(7.2 51.949987)scale(0.1 -0.1)\">\n       <use xlink:href=\"#DejaVuSans-50\"/>\n       <use x=\"63.623047\" xlink:href=\"#DejaVuSans-56\"/>\n       <use x=\"127.246094\" xlink:href=\"#DejaVuSans-48\"/>\n       <use x=\"190.869141\" xlink:href=\"#DejaVuSans-48\"/>\n      </g>\n     </g>\n    </g>\n    <g id=\"ytick_7\">\n     <g id=\"line2d_13\">\n      <g>\n       <use style=\"stroke:#000000;stroke-width:0.8;\" x=\"39.65\" xlink:href=\"#mdf6e781c02\" y=\"16.917364\"/>\n      </g>\n     </g>\n     <g id=\"text_14\">\n      <!-- 3000 -->\n      <g transform=\"translate(7.2 20.716582)scale(0.1 -0.1)\">\n       <use xlink:href=\"#DejaVuSans-51\"/>\n       <use x=\"63.623047\" xlink:href=\"#DejaVuSans-48\"/>\n       <use x=\"127.246094\" xlink:href=\"#DejaVuSans-48\"/>\n       <use x=\"190.869141\" xlink:href=\"#DejaVuSans-48\"/>\n      </g>\n     </g>\n    </g>\n   </g>\n   <g id=\"line2d_14\">\n    <path clip-path=\"url(#pd4b26d9cf9)\" d=\"M 54.868182 185.395035 \nL 60.955455 183.439511 \nL 67.042727 181.483988 \nL 73.13 179.528464 \nL 79.217273 177.572941 \nL 85.304545 175.617417 \nL 91.391818 173.661894 \nL 97.479091 171.70637 \nL 103.566364 169.750847 \nL 109.653636 167.795323 \nL 115.740909 165.8398 \nL 121.828182 165.389102 \nL 127.915455 164.938404 \nL 134.002727 164.487706 \nL 140.09 214.756364 \nL 146.177273 193.664874 \nL 152.264545 173.575918 \nL 158.351818 164.140703 \nL 164.439091 130.994252 \nL 170.526364 127.744655 \nL 176.613636 124.515108 \nL 182.700909 121.305426 \nL 188.788182 118.115423 \nL 194.875455 114.944919 \nL 200.962727 111.793734 \nL 207.05 108.66169 \nL 213.137273 105.548613 \nL 219.224545 102.45433 \nL 225.311818 99.37867 \nL 231.399091 96.321464 \nL 237.486364 93.282545 \nL 243.573636 90.261748 \nL 249.660909 87.258912 \nL 255.748182 84.273874 \nL 261.835455 81.306477 \nL 267.922727 78.356562 \nL 274.01 75.423976 \nL 280.097273 72.508563 \nL 286.184545 69.610174 \nL 292.271818 66.728658 \nL 298.359091 63.863867 \nL 304.446364 61.015655 \nL 310.533636 58.183877 \nL 316.620909 55.368391 \nL 322.708182 52.569055 \nL 328.795455 49.785729 \nL 334.882727 47.018276 \nL 340.97 44.266559 \nL 347.057273 41.530443 \nL 353.144545 38.809795 \nL 359.231818 36.104483 \n\" style=\"fill:none;stroke:#1f77b4;stroke-linecap:square;stroke-width:1.5;\"/>\n   </g>\n   <g id=\"line2d_15\">\n    <path clip-path=\"url(#pd4b26d9cf9)\" d=\"M 54.868182 185.395035 \nL 60.955455 183.439511 \nL 67.042727 181.483988 \nL 73.13 179.528464 \nL 79.217273 177.572941 \nL 85.304545 175.617417 \nL 91.391818 173.661894 \nL 97.479091 171.70637 \nL 103.566364 169.750847 \nL 109.653636 167.795323 \nL 115.740909 165.8398 \nL 121.828182 165.389102 \nL 127.915455 164.938404 \nL 134.002727 164.487706 \nL 140.09 214.756364 \nL 146.177273 193.664874 \nL 152.264545 173.575918 \nL 158.351818 164.140703 \nL 164.439091 130.994252 \nL 170.526364 127.099828 \nL 176.613636 123.229011 \nL 182.700909 119.381581 \nL 188.788182 115.557321 \nL 194.875455 111.756019 \nL 200.962727 107.977462 \nL 207.05 104.221443 \nL 213.137273 100.487754 \nL 219.224545 96.776192 \nL 225.311818 93.086556 \nL 231.399091 89.418648 \nL 237.486364 85.772271 \nL 243.573636 82.14723 \nL 249.660909 78.543335 \nL 255.748182 74.960396 \nL 261.835455 71.398226 \nL 267.922727 67.85664 \nL 274.01 64.335455 \nL 280.097273 60.834491 \nL 286.184545 57.35357 \nL 292.271818 53.892514 \nL 298.359091 50.45115 \nL 304.446364 47.029306 \nL 310.533636 43.626811 \nL 316.620909 40.243497 \nL 322.708182 36.879198 \nL 328.795455 33.533749 \nL 334.882727 30.206988 \nL 340.97 26.898754 \nL 347.057273 23.608888 \nL 353.144545 20.337234 \nL 359.231818 17.083636 \n\" style=\"fill:none;stroke:#ff7f0e;stroke-linecap:square;stroke-width:1.5;\"/>\n   </g>\n   <g id=\"line2d_16\">\n    <path clip-path=\"url(#pd4b26d9cf9)\" d=\"M 54.868182 185.395035 \nL 60.955455 183.439511 \nL 67.042727 181.483988 \nL 73.13 179.528464 \nL 79.217273 177.572941 \nL 85.304545 175.617417 \nL 91.391818 173.661894 \nL 97.479091 171.70637 \nL 103.566364 169.750847 \nL 109.653636 167.795323 \nL 115.740909 165.8398 \nL 121.828182 165.389102 \nL 127.915455 164.938404 \nL 134.002727 164.487706 \nL 140.09 214.756364 \nL 146.177273 193.664874 \nL 152.264545 173.575918 \nL 158.351818 164.140703 \nL 164.439091 130.994252 \nL 170.526364 128.931207 \nL 176.613636 126.881558 \nL 182.700909 124.845182 \nL 188.788182 122.821954 \nL 194.875455 120.811754 \nL 200.962727 118.814462 \nL 207.05 116.829959 \nL 213.137273 114.858128 \nL 219.224545 112.898854 \nL 225.311818 110.952023 \nL 231.399091 109.017522 \nL 237.486364 107.095239 \nL 243.573636 105.185065 \nL 249.660909 103.28689 \nL 255.748182 101.400608 \nL 261.835455 99.526111 \nL 267.922727 97.663296 \nL 274.01 95.812058 \nL 280.097273 93.972295 \nL 286.184545 92.143905 \nL 292.271818 90.326789 \nL 298.359091 88.520848 \nL 304.446364 86.725984 \nL 310.533636 84.942101 \nL 316.620909 83.169102 \nL 322.708182 81.406894 \nL 328.795455 79.655383 \nL 334.882727 77.914477 \nL 340.97 76.184085 \nL 347.057273 74.464117 \nL 353.144545 72.754483 \nL 359.231818 71.055096 \n\" style=\"fill:none;stroke:#2ca02c;stroke-linecap:square;stroke-width:1.5;\"/>\n   </g>\n   <g id=\"patch_3\">\n    <path d=\"M 39.65 224.64 \nL 39.65 7.2 \n\" style=\"fill:none;stroke:#000000;stroke-linecap:square;stroke-linejoin:miter;stroke-width:0.8;\"/>\n   </g>\n   <g id=\"patch_4\">\n    <path d=\"M 374.45 224.64 \nL 374.45 7.2 \n\" style=\"fill:none;stroke:#000000;stroke-linecap:square;stroke-linejoin:miter;stroke-width:0.8;\"/>\n   </g>\n   <g id=\"patch_5\">\n    <path d=\"M 39.65 224.64 \nL 374.45 224.64 \n\" style=\"fill:none;stroke:#000000;stroke-linecap:square;stroke-linejoin:miter;stroke-width:0.8;\"/>\n   </g>\n   <g id=\"patch_6\">\n    <path d=\"M 39.65 7.2 \nL 374.45 7.2 \n\" style=\"fill:none;stroke:#000000;stroke-linecap:square;stroke-linejoin:miter;stroke-width:0.8;\"/>\n   </g>\n  </g>\n </g>\n <defs>\n  <clipPath id=\"pd4b26d9cf9\">\n   <rect height=\"217.44\" width=\"334.8\" x=\"39.65\" y=\"7.2\"/>\n  </clipPath>\n </defs>\n</svg>\n",
      "image/png": "[encoded data removed]"
     },
     "metadata": {
      "needs_background": "light"
     }
    }
   ],
   "source": [
    "s_1['FL_RF'].plot()\n",
    "s_2['FL_RF'].plot()\n",
    "s_3['FL_RF'].plot()"
   ]
  },
  {
   "cell_type": "code",
   "execution_count": null,
   "metadata": {},
   "outputs": [],
   "source": []
  }
 ],
 "metadata": {
  "kernelspec": {
   "display_name": "Python 3",
   "language": "python",
   "name": "python3"
  },
  "language_info": {
   "codemirror_mode": {
    "name": "ipython",
    "version": 3
   },
   "file_extension": ".py",
   "mimetype": "text/x-python",
   "name": "python",
   "nbconvert_exporter": "python",
   "pygments_lexer": "ipython3",
   "version": "3.7.7"
  }
 },
 "nbformat": 4,
 "nbformat_minor": 4
}