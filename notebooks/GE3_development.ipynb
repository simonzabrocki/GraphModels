{
 "cells": [
  {
   "cell_type": "code",
   "execution_count": 1,
   "metadata": {
    "ExecuteTime": {
     "end_time": "2021-04-27T02:42:55.367849Z",
     "start_time": "2021-04-27T02:42:55.361910Z"
    }
   },
   "outputs": [],
   "source": [
    "import os\n",
    "path_parent = os.path.dirname(os.getcwd())\n",
    "os.chdir(path_parent)"
   ]
  },
  {
   "cell_type": "code",
   "execution_count": 2,
   "metadata": {
    "ExecuteTime": {
     "end_time": "2021-04-27T02:42:58.171311Z",
     "start_time": "2021-04-27T02:42:55.840101Z"
    },
    "code_folding": []
   },
   "outputs": [
    {
     "name": "stderr",
     "output_type": "stream",
     "text": [
      "/home/simon/anaconda3/lib/python3.7/site-packages/sklearn/utils/fixes.py:25: UserWarning: Module ggmodel_dev was already imported from /home/simon/anaconda3/lib/python3.7/site-packages/ggmodel_dev/__init__.py, but /home/simon/GreenGrowthInstitute/GraphModels is being added to sys.path\n",
      "  from pkg_resources import parse_version  # type: ignore\n"
     ]
    }
   ],
   "source": [
    "from ggmodel.graphmodel import GraphModel, concatenate_graph_specs\n",
    "from ggmodel.validation import score_model_dictionnary, score_model, plot_diagnostic, make_baseline_computation_df, agg_score_by\n",
    "\n",
    "from data_utils.database import select_dataset\n",
    "from data_utils.utils import get_X_y_from_data, data_dict_from_df_tables\n",
    "from models.landuse.GE3 import model_dictionnary\n",
    "\n",
    "import pandas as pd\n",
    "import numpy as np"
   ]
  },
  {
   "cell_type": "markdown",
   "metadata": {},
   "source": [
    "# Model developement notebook\n",
    "\n",
    "The goal of this notebook is to develop and improve the emission model.\n",
    "\n",
    "Remarks:\n",
    "\n",
    "- comment 1\n",
    "- comment 2\n",
    "- comment 3"
   ]
  },
  {
   "cell_type": "markdown",
   "metadata": {},
   "source": [
    "## Data"
   ]
  },
  {
   "cell_type": "code",
   "execution_count": 3,
   "metadata": {
    "ExecuteTime": {
     "end_time": "2021-04-27T02:43:05.827758Z",
     "start_time": "2021-04-27T02:42:58.450382Z"
    }
   },
   "outputs": [],
   "source": [
    "def df_dict_to_csv(df_dict, path='data/GE3'):\n",
    "    \n",
    "    for table, df in df_dict.items():\n",
    "        df.to_csv(f'{path}/{table}.csv', index=False)\n",
    "\n",
    "\n",
    "def prepare_GE3_model_data(from_cache=True):\n",
    "\n",
    "    # Get the data\n",
    "    df_tables = ['population', 'emissions']\n",
    "    \n",
    "    if from_cache:\n",
    "        df_dictionnary = {df_table: pd.read_csv(f'data/GE3/{df_table}.csv', dtype={'Unit': str}) for df_table in df_tables}\n",
    "    \n",
    "    else:\n",
    "        df_dictionnary = {df_table: select_dataset(df_table) for df_table in df_tables}\n",
    "        \n",
    "        df_dict_to_csv(df_dictionnary) # saves the result for big query\n",
    "\n",
    "    # format the data\n",
    "    df_dictionnary['emissions'] = df_dictionnary['emissions'][~df_dictionnary['emissions'].Item.isin(['All Animals'])]\n",
    "\n",
    "    \n",
    "    data_dict = data_dict_from_df_tables([df for _, df in df_dictionnary.items()])\n",
    "\n",
    "    \n",
    "    data_dict['OEi'] = data_dict['OEi'].dropna().droplevel(level='Item')\n",
    "    data_dict['IN_F'] = data_dict['IN_F'].dropna().droplevel(level='Item')\n",
    "    data_dict['EF_F'] = data_dict['EF_F'].dropna().droplevel(level='Item')\n",
    "    data_dict['FE_CO2eq'] = data_dict['FE_CO2eq'].dropna().droplevel(level='Item')\n",
    "    \n",
    "    return data_dict\n",
    "\n",
    "data_dict = prepare_GE3_model_data(from_cache=True)"
   ]
  },
  {
   "cell_type": "markdown",
   "metadata": {},
   "source": [
    "## Model"
   ]
  },
  {
   "cell_type": "code",
   "execution_count": 4,
   "metadata": {
    "ExecuteTime": {
     "end_time": "2021-04-27T02:43:28.802419Z",
     "start_time": "2021-04-27T02:43:05.829926Z"
    }
   },
   "outputs": [
    {
     "name": "stdout",
     "output_type": "stream",
     "text": [
      "TMi_model: Done\n",
      "TAi_model: Error: 'FPi'\n",
      "M_xi_model: Done\n",
      "TMP_CO2eq_model: Done\n",
      "TMT_CO2eq_model: Done\n",
      "TMA_CO2eq_model: Done\n",
      "TEE_CO2eq_model: Done\n",
      "FE_CO2eq_model: Done\n",
      "GE3_partial_model: Error: No objects to concatenate\n",
      "GE3_model: Done\n"
     ]
    }
   ],
   "source": [
    "scores = score_model_dictionnary(model_dictionnary, data_dict)"
   ]
  },
  {
   "cell_type": "code",
   "execution_count": 5,
   "metadata": {
    "ExecuteTime": {
     "end_time": "2021-04-27T02:43:28.846599Z",
     "start_time": "2021-04-27T02:43:28.805010Z"
    }
   },
   "outputs": [
    {
     "name": "stdout",
     "output_type": "stream",
     "text": [
      "TMi_model\n",
      "           r2  correlation          rmse\n",
      "Variable                                \n",
      "TMi       1.0          1.0  4.014128e-16\n",
      "\n",
      "M_xi_model\n",
      "           r2  correlation          rmse\n",
      "Variable                                \n",
      "M_ASi     1.0          1.0  2.046328e-16\n",
      "M_LPi     1.0          1.0  2.230453e-16\n",
      "M_Ti      1.0          1.0  1.757402e-16\n",
      "\n",
      "TMP_CO2eq_model\n",
      "                 r2  correlation       rmse\n",
      "Variable                                   \n",
      "TMP_CO2eq  0.999997     0.999999  17.092812\n",
      "\n",
      "TMT_CO2eq_model\n",
      "                 r2  correlation          rmse\n",
      "Variable                                      \n",
      "E_TCH4i    1.000000     1.000000  8.633311e-09\n",
      "E_Ti       0.999991     0.999997  2.239051e-05\n",
      "TMT_CO2eq  0.999998     0.999999  2.151868e+00\n",
      "\n",
      "TMA_CO2eq_model\n",
      "                 r2  correlation      rmse\n",
      "Variable                                  \n",
      "TMA_CO2eq  0.999993          1.0  1.136032\n",
      "\n",
      "TEE_CO2eq_model\n",
      "            r2  correlation          rmse\n",
      "Variable                                 \n",
      "TEE_CO2eq  1.0          1.0  4.353519e-10\n",
      "\n",
      "FE_CO2eq_model\n",
      "                r2  correlation         rmse\n",
      "Variable                                    \n",
      "FE_CO2eq  0.999987     0.999994  2382.058109\n",
      "\n",
      "GE3_model\n",
      "                 r2  correlation          rmse\n",
      "Variable                                      \n",
      "E_TCH4i    1.000000     1.000000  8.633311e-09\n",
      "E_Ti       0.999991     0.999997  2.133437e-05\n",
      "FE_CO2eq   0.999987     0.999994  2.382058e+03\n",
      "M_ASi      1.000000     1.000000  2.307408e-16\n",
      "M_LPi      1.000000     1.000000  4.638204e-16\n",
      "M_Ti       1.000000     1.000000  2.177693e-16\n",
      "TEE_CO2eq  1.000000     1.000000  4.353519e-10\n",
      "TMA_CO2eq  0.999993     1.000000  1.096315e+00\n",
      "TMP_CO2eq  0.999997     0.999999  1.676303e+01\n",
      "TMT_CO2eq  0.999998     0.999999  2.050383e+00\n",
      "TMi        1.000000     1.000000  4.014128e-16\n",
      "\n"
     ]
    }
   ],
   "source": [
    "for model_name, score in scores.items():\n",
    "    print(model_name)\n",
    "    print(score['score_by_Variable'])\n",
    "    print()"
   ]
  },
  {
   "cell_type": "markdown",
   "metadata": {},
   "source": [
    "## Scenario"
   ]
  },
  {
   "cell_type": "code",
   "execution_count": null,
   "metadata": {
    "ExecuteTime": {
     "end_time": "2021-04-27T01:43:18.461246Z",
     "start_time": "2021-04-27T01:43:18.455040Z"
    }
   },
   "outputs": [],
   "source": [
    "model_dictionnary['GE3_model'].inputs_()"
   ]
  },
  {
   "cell_type": "code",
   "execution_count": null,
   "metadata": {
    "ExecuteTime": {
     "end_time": "2021-04-27T01:43:18.501432Z",
     "start_time": "2021-04-27T01:43:18.464241Z"
    }
   },
   "outputs": [],
   "source": [
    "def run_GE3_projection(data_dict):\n",
    "    '''GE3 is large so we have to rethink the projection'''\n",
    "    data_dict = data_dict.copy()\n",
    "\n",
    "    projection_dict = {\n",
    "        'Pop': lambda x: x,\n",
    "        'OEi': lambda x: x,\n",
    "        'EF_EEi': lambda x: x,\n",
    "        'TAi': lambda x: x,\n",
    "        'IN_F': lambda x: x,\n",
    "        'MYi': lambda x: x,\n",
    "        'EF_ASi': lambda x: x,\n",
    "        'EF_Ti': lambda x: x,\n",
    "        'EF_CH4Ti': lambda x: x,\n",
    "        'EF_Li': lambda x: x,\n",
    "        'EF_F': lambda x: x,        \n",
    "    }\n",
    "    \n",
    "    for variable, function in projection_dict.items():\n",
    "        data_dict[variable] = function(data_dict[variable])\n",
    "\n",
    "    return data_dict\n",
    "\n",
    "def run_GE3_scenario(data_dict, MM_Ti=1/3, MM_ASi=1/3, MM_LPi=1/3):\n",
    "    \n",
    "    data_dict['MM_Ti'] = MM_Ti\n",
    "    data_dict['MM_ASi'] = MM_ASi\n",
    "    data_dict['MM_LPi'] = MM_LPi\n",
    "\n",
    "    results = model_dictionnary['GE3_model'].run(data_dict)\n",
    "    \n",
    "    return results"
   ]
  },
  {
   "cell_type": "code",
   "execution_count": null,
   "metadata": {
    "ExecuteTime": {
     "end_time": "2021-04-27T01:43:18.676750Z",
     "start_time": "2021-04-27T01:43:18.504495Z"
    }
   },
   "outputs": [],
   "source": [
    "filtered_data_dict = {k: v.loc['FRA', 2018, :] for k, v in data_dict.items()}"
   ]
  },
  {
   "cell_type": "code",
   "execution_count": null,
   "metadata": {
    "ExecuteTime": {
     "end_time": "2021-04-27T01:48:22.837291Z",
     "start_time": "2021-04-27T01:48:22.808096Z"
    }
   },
   "outputs": [],
   "source": [
    "result =  run_GE3_scenario(filtered_data_dict, 1/3, 1/3, 1/3)"
   ]
  },
  {
   "cell_type": "code",
   "execution_count": null,
   "metadata": {
    "ExecuteTime": {
     "end_time": "2021-04-27T01:43:52.658185Z",
     "start_time": "2021-04-27T01:43:52.596135Z"
    }
   },
   "outputs": [],
   "source": [
    "model_dictionnary['GE3_model'].draw()"
   ]
  },
  {
   "cell_type": "code",
   "execution_count": null,
   "metadata": {
    "ExecuteTime": {
     "end_time": "2021-04-27T01:43:52.898163Z",
     "start_time": "2021-04-27T01:43:52.892756Z"
    }
   },
   "outputs": [],
   "source": [
    "from sklearn.preprocessing import LabelEncoder\n",
    "import plotly.graph_objects as go\n",
    "from plotly.subplots import make_subplots"
   ]
  },
  {
   "cell_type": "code",
   "execution_count": null,
   "metadata": {
    "ExecuteTime": {
     "end_time": "2021-04-27T01:45:20.477239Z",
     "start_time": "2021-04-27T01:45:20.432951Z"
    }
   },
   "outputs": [],
   "source": [
    "emission_data_dict = {k: v for k, v in result.items() if k in ['TEE_CO2eq', 'TMA_CO2eq', 'TMT_CO2eq', 'TMP_CO2eq']}\n",
    "\n",
    "def emission_data_dict_to_df(data_dict):\n",
    "    \n",
    "    data_dict = data_dict.copy()\n",
    "    \n",
    "    data = pd.concat([v.to_frame(name='Value').assign(Variable=k) for k, v in data_dict.items()], axis=0).reset_index().dropna()\n",
    "    \n",
    "    data = pd.concat([data, data.groupby('Variable').sum().reset_index().rename(columns={\"Variable\": 'Item'}).assign(Variable='Non-CO2 agricultural emissions')])\n",
    "    \n",
    "    return data\n",
    "    \n",
    "em_df = emission_data_dict_to_df(emission_data_dict)\n",
    "\n",
    "def encode_source_target(df, source='Item', target='Variable'):\n",
    "    \n",
    "    le = LabelEncoder()\n",
    "    \n",
    "    encoded = le.fit_transform(df[[source, target]].values.flatten()).reshape(-1, 2)\n",
    "       \n",
    "    return encoded, le.classes_\n",
    "\n",
    "\n",
    "def sankeyplot(df, source, target, valueformat='.00f', valuesuffix=' Gg(CO2eq)'):\n",
    "    \n",
    "    data = df.copy()\n",
    "    \n",
    "    encoded_s_t, classe_names = encode_source_target(data, source, target)\n",
    "    \n",
    "    data[['Source', 'Target']] = encoded_s_t\n",
    "    \n",
    "    fig = go.Figure(data=[go.Sankey(\n",
    "        valueformat = valueformat,\n",
    "        valuesuffix = valuesuffix,\n",
    "        node = dict(\n",
    "            pad = 15,\n",
    "            thickness = 20,\n",
    "            line = dict(color = \"black\", width = 0.5),\n",
    "            label = classe_names,\n",
    "            #color = \"blue\"\n",
    "        ),\n",
    "        link = dict(\n",
    "            target = data['Target'],\n",
    "            source= data['Source'],\n",
    "            value = data['Value']\n",
    "    ))])\n",
    "    \n",
    "    return fig"
   ]
  },
  {
   "cell_type": "code",
   "execution_count": null,
   "metadata": {
    "ExecuteTime": {
     "end_time": "2021-04-27T01:45:20.672793Z",
     "start_time": "2021-04-27T01:45:20.641510Z"
    }
   },
   "outputs": [],
   "source": [
    "fig = sankeyplot(em_df, 'Item', 'Variable')\n",
    "fig.update_layout(title_text=f\"Agricultural Animal Emissions\", font_size=10)"
   ]
  },
  {
   "cell_type": "code",
   "execution_count": null,
   "metadata": {},
   "outputs": [],
   "source": []
  }
 ],
 "metadata": {
  "kernelspec": {
   "display_name": "Python 3",
   "language": "python",
   "name": "python3"
  },
  "language_info": {
   "codemirror_mode": {
    "name": "ipython",
    "version": 3
   },
   "file_extension": ".py",
   "mimetype": "text/x-python",
   "name": "python",
   "nbconvert_exporter": "python",
   "pygments_lexer": "ipython3",
   "version": "3.7.7"
  }
 },
 "nbformat": 4,
 "nbformat_minor": 4
}
