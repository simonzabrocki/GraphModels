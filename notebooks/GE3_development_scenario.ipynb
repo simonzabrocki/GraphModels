{
 "cells": [
  {
   "cell_type": "code",
   "execution_count": 1,
   "metadata": {},
   "outputs": [],
   "source": [
    "import os\n",
    "path_parent = os.path.dirname(os.getcwd())\n",
    "os.chdir(path_parent)"
   ]
  },
  {
   "cell_type": "code",
   "execution_count": 2,
   "metadata": {
    "ExecuteTime": {
     "end_time": "2021-04-14T00:49:12.889009Z",
     "start_time": "2021-04-14T00:49:10.485238Z"
    },
    "code_folding": []
   },
   "outputs": [],
   "source": [
    "from graphmodels.graphmodel import GraphModel, concatenate_graph_specs\n",
    "from graphmodels.validation import score_model, plot_diagnostic, plot_baseline_vs_computation\n",
    "import pandas as pd\n",
    "import plotly.express as px\n",
    "from sklearn.metrics import r2_score\n",
    "from graphmodels.database import select_dataset\n",
    "from models.Hermen.model_GE3 import GE3_models\n",
    "\n",
    "from graphmodels.utils import df_to_data_dict, get_X_y_from_data"
   ]
  },
  {
   "cell_type": "markdown",
   "metadata": {},
   "source": [
    "# Newer"
   ]
  },
  {
   "cell_type": "code",
   "execution_count": 3,
   "metadata": {
    "ExecuteTime": {
     "end_time": "2021-04-14T00:49:13.135046Z",
     "start_time": "2021-04-14T00:49:12.894038Z"
    }
   },
   "outputs": [],
   "source": [
    "pop = select_dataset('population')\n",
    "#emissions = select_dataset('emissions')"
   ]
  },
  {
   "cell_type": "code",
   "execution_count": 4,
   "metadata": {
    "ExecuteTime": {
     "end_time": "2021-04-14T00:49:17.987697Z",
     "start_time": "2021-04-14T00:49:13.139784Z"
    }
   },
   "outputs": [
    {
     "output_type": "stream",
     "name": "stderr",
     "text": [
      "/home/simon/anaconda3/lib/python3.7/site-packages/IPython/core/interactiveshell.py:3146: DtypeWarning: Columns (4,7) have mixed types.Specify dtype option on import or set low_memory=False.\n  interactivity=interactivity, compiler=compiler, result=result)\n"
     ]
    }
   ],
   "source": [
    "emissions = pd.read_csv('models/Hermen/data/GY_GE_GU_GM_GP_GT.csv')"
   ]
  },
  {
   "cell_type": "code",
   "execution_count": 5,
   "metadata": {
    "ExecuteTime": {
     "end_time": "2021-04-14T00:49:18.200879Z",
     "start_time": "2021-04-14T00:49:17.989412Z"
    }
   },
   "outputs": [
    {
     "output_type": "execute_result",
     "data": {
      "text/plain": [
       "         ISO                Item                            Description  Year  \\\n",
       "3096654  HUN               Asses  Amount excreted in manure (N content)  2017   \n",
       "3096712  HUN       Cattle, dairy  Amount excreted in manure (N content)  2017   \n",
       "3096770  HUN   Cattle, non-dairy  Amount excreted in manure (N content)  2017   \n",
       "3096828  HUN  Chickens, broilers  Amount excreted in manure (N content)  2017   \n",
       "3096886  HUN    Chickens, layers  Amount excreted in manure (N content)  2017   \n",
       "3096944  HUN               Ducks  Amount excreted in manure (N content)  2017   \n",
       "3097002  HUN               Goats  Amount excreted in manure (N content)  2017   \n",
       "3097060  HUN              Horses  Amount excreted in manure (N content)  2017   \n",
       "3097118  HUN               Mules  Amount excreted in manure (N content)  2017   \n",
       "3097176  HUN               Sheep  Amount excreted in manure (N content)  2017   \n",
       "3097234  HUN     Swine, breeding  Amount excreted in manure (N content)  2017   \n",
       "3097292  HUN       Swine, market  Amount excreted in manure (N content)  2017   \n",
       "3097350  HUN             Turkeys  Amount excreted in manure (N content)  2017   \n",
       "3097408  HUN         All Animals  Amount excreted in manure (N content)  2017   \n",
       "3097466  HUN              Cattle  Amount excreted in manure (N content)  2017   \n",
       "3097524  HUN            Chickens  Amount excreted in manure (N content)  2017   \n",
       "3097582  HUN     Mules and Asses  Amount excreted in manure (N content)  2017   \n",
       "3097640  HUN       Poultry Birds  Amount excreted in manure (N content)  2017   \n",
       "3097698  HUN     Sheep and Goats  Amount excreted in manure (N content)  2017   \n",
       "3097756  HUN               Swine  Amount excreted in manure (N content)  2017   \n",
       "\n",
       "        Unit         Value Variable                 FBS_item  \n",
       "3096654   kg  5.694000e+04      TMi              Meat, Other  \n",
       "3096712   kg  1.714405e+07      TMi  Milk - Excluding Butter  \n",
       "3096770   kg  3.036975e+07      TMi              Bovine Meat  \n",
       "3096828   kg  7.439112e+06      TMi             Poultry Meat  \n",
       "3096886   kg  6.163186e+06      TMi                     Eggs  \n",
       "3096944   kg  3.298853e+06      TMi             Poultry Meat  \n",
       "3097002   kg  1.456963e+06      TMi       Mutton & Goat Meat  \n",
       "3097060   kg  2.187920e+06      TMi              Meat, Other  \n",
       "3097118   kg  2.519595e+03      TMi              Meat, Other  \n",
       "3097176   kg  1.817870e+07      TMi       Mutton & Goat Meat  \n",
       "3097234   kg  8.785535e+06      TMi                  Pigmeat  \n",
       "3097292   kg  2.626111e+07      TMi                  Pigmeat  \n",
       "3097350   kg  5.267598e+06      TMi             Poultry Meat  \n",
       "3097408   kg  1.266122e+08      TMi                      NaN  \n",
       "3097466   kg  4.751380e+07      TMi                      NaN  \n",
       "3097524   kg  1.360230e+07      TMi                      NaN  \n",
       "3097582   kg  5.945960e+04      TMi                      NaN  \n",
       "3097640   kg  2.216875e+07      TMi             Poultry Meat  \n",
       "3097698   kg  1.963566e+07      TMi       Mutton & Goat Meat  \n",
       "3097756   kg  3.504665e+07      TMi                      NaN  "
      ],
      "text/html": "<div>\n<style scoped>\n    .dataframe tbody tr th:only-of-type {\n        vertical-align: middle;\n    }\n\n    .dataframe tbody tr th {\n        vertical-align: top;\n    }\n\n    .dataframe thead th {\n        text-align: right;\n    }\n</style>\n<table border=\"1\" class=\"dataframe\">\n  <thead>\n    <tr style=\"text-align: right;\">\n      <th></th>\n      <th>ISO</th>\n      <th>Item</th>\n      <th>Description</th>\n      <th>Year</th>\n      <th>Unit</th>\n      <th>Value</th>\n      <th>Variable</th>\n      <th>FBS_item</th>\n    </tr>\n  </thead>\n  <tbody>\n    <tr>\n      <th>3096654</th>\n      <td>HUN</td>\n      <td>Asses</td>\n      <td>Amount excreted in manure (N content)</td>\n      <td>2017</td>\n      <td>kg</td>\n      <td>5.694000e+04</td>\n      <td>TMi</td>\n      <td>Meat, Other</td>\n    </tr>\n    <tr>\n      <th>3096712</th>\n      <td>HUN</td>\n      <td>Cattle, dairy</td>\n      <td>Amount excreted in manure (N content)</td>\n      <td>2017</td>\n      <td>kg</td>\n      <td>1.714405e+07</td>\n      <td>TMi</td>\n      <td>Milk - Excluding Butter</td>\n    </tr>\n    <tr>\n      <th>3096770</th>\n      <td>HUN</td>\n      <td>Cattle, non-dairy</td>\n      <td>Amount excreted in manure (N content)</td>\n      <td>2017</td>\n      <td>kg</td>\n      <td>3.036975e+07</td>\n      <td>TMi</td>\n      <td>Bovine Meat</td>\n    </tr>\n    <tr>\n      <th>3096828</th>\n      <td>HUN</td>\n      <td>Chickens, broilers</td>\n      <td>Amount excreted in manure (N content)</td>\n      <td>2017</td>\n      <td>kg</td>\n      <td>7.439112e+06</td>\n      <td>TMi</td>\n      <td>Poultry Meat</td>\n    </tr>\n    <tr>\n      <th>3096886</th>\n      <td>HUN</td>\n      <td>Chickens, layers</td>\n      <td>Amount excreted in manure (N content)</td>\n      <td>2017</td>\n      <td>kg</td>\n      <td>6.163186e+06</td>\n      <td>TMi</td>\n      <td>Eggs</td>\n    </tr>\n    <tr>\n      <th>3096944</th>\n      <td>HUN</td>\n      <td>Ducks</td>\n      <td>Amount excreted in manure (N content)</td>\n      <td>2017</td>\n      <td>kg</td>\n      <td>3.298853e+06</td>\n      <td>TMi</td>\n      <td>Poultry Meat</td>\n    </tr>\n    <tr>\n      <th>3097002</th>\n      <td>HUN</td>\n      <td>Goats</td>\n      <td>Amount excreted in manure (N content)</td>\n      <td>2017</td>\n      <td>kg</td>\n      <td>1.456963e+06</td>\n      <td>TMi</td>\n      <td>Mutton &amp; Goat Meat</td>\n    </tr>\n    <tr>\n      <th>3097060</th>\n      <td>HUN</td>\n      <td>Horses</td>\n      <td>Amount excreted in manure (N content)</td>\n      <td>2017</td>\n      <td>kg</td>\n      <td>2.187920e+06</td>\n      <td>TMi</td>\n      <td>Meat, Other</td>\n    </tr>\n    <tr>\n      <th>3097118</th>\n      <td>HUN</td>\n      <td>Mules</td>\n      <td>Amount excreted in manure (N content)</td>\n      <td>2017</td>\n      <td>kg</td>\n      <td>2.519595e+03</td>\n      <td>TMi</td>\n      <td>Meat, Other</td>\n    </tr>\n    <tr>\n      <th>3097176</th>\n      <td>HUN</td>\n      <td>Sheep</td>\n      <td>Amount excreted in manure (N content)</td>\n      <td>2017</td>\n      <td>kg</td>\n      <td>1.817870e+07</td>\n      <td>TMi</td>\n      <td>Mutton &amp; Goat Meat</td>\n    </tr>\n    <tr>\n      <th>3097234</th>\n      <td>HUN</td>\n      <td>Swine, breeding</td>\n      <td>Amount excreted in manure (N content)</td>\n      <td>2017</td>\n      <td>kg</td>\n      <td>8.785535e+06</td>\n      <td>TMi</td>\n      <td>Pigmeat</td>\n    </tr>\n    <tr>\n      <th>3097292</th>\n      <td>HUN</td>\n      <td>Swine, market</td>\n      <td>Amount excreted in manure (N content)</td>\n      <td>2017</td>\n      <td>kg</td>\n      <td>2.626111e+07</td>\n      <td>TMi</td>\n      <td>Pigmeat</td>\n    </tr>\n    <tr>\n      <th>3097350</th>\n      <td>HUN</td>\n      <td>Turkeys</td>\n      <td>Amount excreted in manure (N content)</td>\n      <td>2017</td>\n      <td>kg</td>\n      <td>5.267598e+06</td>\n      <td>TMi</td>\n      <td>Poultry Meat</td>\n    </tr>\n    <tr>\n      <th>3097408</th>\n      <td>HUN</td>\n      <td>All Animals</td>\n      <td>Amount excreted in manure (N content)</td>\n      <td>2017</td>\n      <td>kg</td>\n      <td>1.266122e+08</td>\n      <td>TMi</td>\n      <td>NaN</td>\n    </tr>\n    <tr>\n      <th>3097466</th>\n      <td>HUN</td>\n      <td>Cattle</td>\n      <td>Amount excreted in manure (N content)</td>\n      <td>2017</td>\n      <td>kg</td>\n      <td>4.751380e+07</td>\n      <td>TMi</td>\n      <td>NaN</td>\n    </tr>\n    <tr>\n      <th>3097524</th>\n      <td>HUN</td>\n      <td>Chickens</td>\n      <td>Amount excreted in manure (N content)</td>\n      <td>2017</td>\n      <td>kg</td>\n      <td>1.360230e+07</td>\n      <td>TMi</td>\n      <td>NaN</td>\n    </tr>\n    <tr>\n      <th>3097582</th>\n      <td>HUN</td>\n      <td>Mules and Asses</td>\n      <td>Amount excreted in manure (N content)</td>\n      <td>2017</td>\n      <td>kg</td>\n      <td>5.945960e+04</td>\n      <td>TMi</td>\n      <td>NaN</td>\n    </tr>\n    <tr>\n      <th>3097640</th>\n      <td>HUN</td>\n      <td>Poultry Birds</td>\n      <td>Amount excreted in manure (N content)</td>\n      <td>2017</td>\n      <td>kg</td>\n      <td>2.216875e+07</td>\n      <td>TMi</td>\n      <td>Poultry Meat</td>\n    </tr>\n    <tr>\n      <th>3097698</th>\n      <td>HUN</td>\n      <td>Sheep and Goats</td>\n      <td>Amount excreted in manure (N content)</td>\n      <td>2017</td>\n      <td>kg</td>\n      <td>1.963566e+07</td>\n      <td>TMi</td>\n      <td>Mutton &amp; Goat Meat</td>\n    </tr>\n    <tr>\n      <th>3097756</th>\n      <td>HUN</td>\n      <td>Swine</td>\n      <td>Amount excreted in manure (N content)</td>\n      <td>2017</td>\n      <td>kg</td>\n      <td>3.504665e+07</td>\n      <td>TMi</td>\n      <td>NaN</td>\n    </tr>\n  </tbody>\n</table>\n</div>"
     },
     "metadata": {},
     "execution_count": 5
    }
   ],
   "source": [
    "emissions.query(\"Variable == 'TMi' and ISO == 'HUN' and Year == 2017\")"
   ]
  },
  {
   "cell_type": "code",
   "execution_count": 6,
   "metadata": {
    "ExecuteTime": {
     "end_time": "2021-04-14T00:49:19.911166Z",
     "start_time": "2021-04-14T00:49:18.205288Z"
    }
   },
   "outputs": [],
   "source": [
    "model_df = pd.concat([emissions, pop])\n",
    "model_df = model_df[~model_df.Item.isin(['All Animals'])]"
   ]
  },
  {
   "cell_type": "code",
   "execution_count": 7,
   "metadata": {
    "ExecuteTime": {
     "end_time": "2021-04-14T00:54:44.742174Z",
     "start_time": "2021-04-14T00:54:43.522657Z"
    }
   },
   "outputs": [],
   "source": [
    "test = model_df.query('Year > 2017').drop(columns=['Description', 'Unit', 'FBS_item'])\n",
    "test.to_csv('outputs/GE3_df.csv')"
   ]
  },
  {
   "cell_type": "code",
   "execution_count": 8,
   "metadata": {
    "ExecuteTime": {
     "end_time": "2021-04-14T00:49:19.925913Z",
     "start_time": "2021-04-14T00:49:19.915303Z"
    }
   },
   "outputs": [],
   "source": [
    "from graphmodels.utils import df_to_data_dict\n",
    "\n",
    "def get_X_y_from_data(model, data_dict):\n",
    "    '''TO CLEAN UP'''\n",
    "    X = {key: data_dict[key] for key in model.inputs_() + model.parameters_()}\n",
    "    y = {key: data_dict[key] for key in model.variables_() + model.outputs_() if key in data_dict}\n",
    "    return X, y\n",
    "\n",
    "\n",
    "def df_to_dict(df):\n",
    "    X = {}\n",
    "    for code in df.columns:\n",
    "        X[code] = df[code]#.fillna(0)\n",
    "    return X\n",
    "\n",
    "\n",
    "def fill_missing_values(df):\n",
    "    return df\n",
    "#     return df.groupby(level='ISO').fillna(method='ffill')\\\n",
    "#              .groupby(level='ISO').fillna(method='bfill')\n",
    "\n",
    "\n",
    "def df_to_data_dict(df, itemized):\n",
    "    data_dict = {}\n",
    "\n",
    "    non_item_df = df[~df.Variable.isin(itemized)].pivot(\n",
    "        index=['ISO', 'Year'], columns='Variable', values='Value')\n",
    "    non_item_df = fill_missing_values(non_item_df)\n",
    "    item_df = df[df.Variable.isin(itemized)].pivot(\n",
    "        index=['ISO', 'Year', 'Item'], columns='Variable', values='Value')\n",
    "\n",
    "    data_dict.update(df_to_dict(non_item_df))\n",
    "    data_dict.update(df_to_dict(item_df))\n",
    "\n",
    "    return data_dict\n"
   ]
  },
  {
   "cell_type": "code",
   "execution_count": 9,
   "metadata": {
    "ExecuteTime": {
     "end_time": "2021-04-14T00:54:19.236569Z",
     "start_time": "2021-04-14T00:54:18.949387Z"
    }
   },
   "outputs": [],
   "source": [
    "itemized = ['TAi', 'EF_EEi', 'EECH4', 'TEE_CO2eq',\n",
    "       'M_ASi', 'EF_ASi', 'E_ASi', 'TMA_CO2eq', 'M_Ti', 'EF_CH4Ti',\n",
    "       'EF_Ti', 'E_TCH4i', 'E_Ti', 'TMT_CO2eq', 'M_LPi', 'EF_Li', 'E_Li',\n",
    "       'TMP_CO2eq', 'TMi', 'MM_ASi', 'MM_LPi', 'MM_Ti', 'MYi',]\n",
    "\n",
    "data_dict = df_to_data_dict(test, itemized)"
   ]
  },
  {
   "cell_type": "code",
   "execution_count": 10,
   "metadata": {
    "ExecuteTime": {
     "end_time": "2021-04-14T00:54:20.217398Z",
     "start_time": "2021-04-14T00:54:19.644049Z"
    }
   },
   "outputs": [
    {
     "output_type": "stream",
     "name": "stdout",
     "text": [
      "TMi_model\n",
      "TMi\n",
      "    r2  correlation          rmse Variable\n",
      "0  1.0          1.0  4.024862e-16      TMi\n",
      "\n",
      "M_xi_model\n",
      "M_Ti\n",
      "M_LPi\n",
      "M_ASi\n",
      "    r2  correlation          rmse Variable\n",
      "0  1.0          1.0  5.281617e-16     M_Ti\n",
      "1  1.0          1.0  2.256885e-16    M_LPi\n",
      "2  1.0          1.0  3.966192e-16    M_ASi\n",
      "\n",
      "TMP_CO2eq_model\n",
      "TMP_CO2eq\n",
      "         r2  correlation       rmse   Variable\n",
      "0  0.999997     0.999999  24.610266  TMP_CO2eq\n",
      "\n",
      "TMT_CO2eq_model\n",
      "E_Ti\n",
      "E_TCH4i\n",
      "TMT_CO2eq\n",
      "         r2  correlation          rmse   Variable\n",
      "0  0.999992     0.999997  4.015280e-05       E_Ti\n",
      "1  1.000000     1.000000  2.367571e-08    E_TCH4i\n",
      "2  0.999997     0.999999  3.858853e+00  TMT_CO2eq\n",
      "\n",
      "TMA_CO2eq_model\n",
      "TMA_CO2eq\n",
      "         r2  correlation      rmse   Variable\n",
      "0  0.999993          1.0  1.897086  TMA_CO2eq\n",
      "\n",
      "TEE_CO2eq_model\n",
      "TEE_CO2eq\n",
      "    r2  correlation          rmse   Variable\n",
      "0  1.0          1.0  7.442376e-10  TEE_CO2eq\n",
      "\n",
      "FE_CO2eq_model\n",
      "FE_CO2eq\n",
      "         r2  correlation         rmse  Variable\n",
      "0  0.999991     0.999999  3817.390743  FE_CO2eq\n",
      "\n",
      "GE3_partial_model\n",
      "Empty DataFrame\n",
      "Columns: []\n",
      "Index: []\n",
      "\n",
      "GE3_model\n",
      "TEE_CO2eq\n",
      "TMT_CO2eq\n",
      "TMA_CO2eq\n",
      "TMP_CO2eq\n",
      "FE_CO2eq\n",
      "M_ASi\n",
      "M_Ti\n",
      "E_Ti\n",
      "E_TCH4i\n",
      "M_LPi\n",
      "TMi\n",
      "          r2  correlation          rmse   Variable\n",
      "0   1.000000     1.000000  7.442376e-10  TEE_CO2eq\n",
      "1   0.999998     0.999999  1.923931e+00  TMT_CO2eq\n",
      "2   0.999993     1.000000  1.323624e+00  TMA_CO2eq\n",
      "3   0.999997     0.999999  2.223379e+01  TMP_CO2eq\n",
      "4   0.999991     0.999999  3.817391e+03   FE_CO2eq\n",
      "5   1.000000     1.000000  4.167725e-16      M_ASi\n",
      "6   1.000000     1.000000  5.514076e-16       M_Ti\n",
      "7   0.999991     0.999996  2.001209e-05       E_Ti\n",
      "8   1.000000     1.000000  2.367571e-08    E_TCH4i\n",
      "9   1.000000     1.000000  4.035439e-16      M_LPi\n",
      "10  1.000000     1.000000  4.024862e-16        TMi\n",
      "\n"
     ]
    }
   ],
   "source": [
    "res = []\n",
    "for model_name, model in GE3_models.items():\n",
    "    print(model_name)\n",
    "    X, y = get_X_y_from_data(model, data_dict)\n",
    "    print(score_model(model, X, y))\n",
    "    print()"
   ]
  },
  {
   "cell_type": "code",
   "execution_count": 11,
   "metadata": {
    "ExecuteTime": {
     "end_time": "2021-04-14T00:49:27.392272Z",
     "start_time": "2021-04-14T00:49:26.794575Z"
    }
   },
   "outputs": [],
   "source": [
    "X, y = get_X_y_from_data(GE3_models['GE3_model'], data_dict)\n",
    "res = GE3_models['GE3_model'].run(X)"
   ]
  },
  {
   "cell_type": "code",
   "execution_count": 12,
   "metadata": {
    "ExecuteTime": {
     "end_time": "2021-04-14T00:52:48.335020Z",
     "start_time": "2021-04-14T00:52:48.318130Z"
    }
   },
   "outputs": [
    {
     "output_type": "execute_result",
     "data": {
      "text/plain": [
       "Item\n",
       "Asses                 1.0\n",
       "Cattle                1.0\n",
       "Cattle, dairy         1.0\n",
       "Cattle, non-dairy     1.0\n",
       "Chickens              1.0\n",
       "Chickens, broilers    1.0\n",
       "Chickens, layers      1.0\n",
       "Ducks                 1.0\n",
       "Goats                 1.0\n",
       "Horses                1.0\n",
       "Mules                 1.0\n",
       "Mules and Asses       1.0\n",
       "Poultry Birds         1.0\n",
       "Sheep                 1.0\n",
       "Sheep and Goats       1.0\n",
       "Swine                 1.0\n",
       "Swine, breeding       1.0\n",
       "Swine, market         1.0\n",
       "Turkeys               1.0\n",
       "dtype: float64"
      ]
     },
     "metadata": {},
     "execution_count": 12
    }
   ],
   "source": [
    "data_dict['MM_LPi'].loc['HUN', 2018] + data_dict['MM_Ti'].loc['HUN', 2018] #+ data_dict['MM_ASi'].loc['HUN', 2017] "
   ]
  },
  {
   "cell_type": "code",
   "execution_count": 13,
   "metadata": {
    "ExecuteTime": {
     "end_time": "2021-04-14T00:53:05.976255Z",
     "start_time": "2021-04-14T00:53:05.969197Z"
    }
   },
   "outputs": [],
   "source": [
    "def run_GE3_scenario(data_dict, MM_Ti=1/3, MM_ASi=1/3, MM_LPi=1/3):\n",
    "\n",
    "    data_dict = data_dict.copy()\n",
    "\n",
    "    data_dict['MM_Ti'] = MM_Ti\n",
    "    data_dict['MM_ASi'] = MM_ASi\n",
    "    data_dict['MM_LPi'] = MM_LPi\n",
    "\n",
    "    results = GE3_models['GE3_model'].run(data_dict)\n",
    "\n",
    "    return results"
   ]
  },
  {
   "cell_type": "code",
   "execution_count": 14,
   "metadata": {
    "ExecuteTime": {
     "end_time": "2021-04-14T00:53:06.697458Z",
     "start_time": "2021-04-14T00:53:06.525441Z"
    }
   },
   "outputs": [],
   "source": [
    "filtered_data_dict = {k: v.loc['FRA', 2018, :] for k, v in data_dict.items()}"
   ]
  },
  {
   "cell_type": "code",
   "execution_count": 15,
   "metadata": {
    "ExecuteTime": {
     "end_time": "2021-04-14T00:53:07.537406Z",
     "start_time": "2021-04-14T00:53:07.488240Z"
    }
   },
   "outputs": [],
   "source": [
    "result =  run_GE3_scenario(filtered_data_dict, 1/3, 1/3, 1/3)"
   ]
  },
  {
   "cell_type": "code",
   "execution_count": 16,
   "metadata": {
    "ExecuteTime": {
     "end_time": "2021-04-14T00:53:08.368726Z",
     "start_time": "2021-04-14T00:53:08.352749Z"
    }
   },
   "outputs": [],
   "source": [
    "from sklearn.preprocessing import LabelEncoder\n",
    "import plotly.graph_objects as go\n",
    "from plotly.subplots import make_subplots"
   ]
  },
  {
   "cell_type": "code",
   "execution_count": 17,
   "metadata": {
    "ExecuteTime": {
     "end_time": "2021-04-14T00:53:09.043871Z",
     "start_time": "2021-04-14T00:53:08.891053Z"
    }
   },
   "outputs": [],
   "source": [
    "test = {k: v for k, v in result.items() if k in ['TEE_CO2eq', 'TMA_CO2eq', 'TMT_CO2eq', 'TMP_CO2eq']}\n",
    "def format_data_dict_sankey(data_dict=test):\n",
    "    data_dict = data_dict.copy()\n",
    "\n",
    "    # grab data and format\n",
    "    data = pd.concat([v.to_frame(name='Value').assign(Variable=k) for k, v in data_dict.items()], axis=0).reset_index().dropna()\n",
    "    \n",
    "    data = pd.concat([data, data.groupby('Variable').sum().reset_index().rename(columns={\"Variable\": 'Item'}).assign(Variable='Non-CO2 agricultural emissions')])\n",
    "\n",
    "    # add encoding for Sanky\n",
    "    le = LabelEncoder() \n",
    "    encoded = le.fit_transform(data[['Item', 'Variable']].values.flatten()).reshape(-1, 2)\n",
    "\n",
    "    data[['Source', 'Target']] = encoded\n",
    "\n",
    "    return data,  le.classes_\n",
    "\n",
    "def plot_sanky_GE3(data, classes):\n",
    "    '''To improve, should write a more general wrapper for Sankey'''\n",
    "\n",
    "    fig = go.Figure(data=[go.Sankey(\n",
    "        node = dict(\n",
    "        pad = 15,\n",
    "        thickness = 20,\n",
    "        line = dict(color = \"black\", width = 0.5),\n",
    "        label = classes,\n",
    "        #color = \"blue\"\n",
    "        ),\n",
    "        link = dict(\n",
    "        target = data['Target'],\n",
    "        source= data['Source'],\n",
    "        value = data['Value']\n",
    "    ))])\n",
    "\n",
    "    fig.update_layout(title_text=f\"Agricultural Animal Emissions\", font_size=10)\n",
    "    return fig\n",
    "\n",
    "\n",
    "d, c = format_data_dict_sankey()\n",
    "\n",
    "\n",
    "fig = plot_sanky_GE3(d, c)"
   ]
  },
  {
   "cell_type": "code",
   "execution_count": 18,
   "metadata": {
    "ExecuteTime": {
     "end_time": "2021-04-14T00:53:12.529414Z",
     "start_time": "2021-04-14T00:53:12.333243Z"
    }
   },
   "outputs": [
    {
     "output_type": "display_data",
     "data": {
      "application/vnd.plotly.v1+json": {
       "config": {
        "plotlyServerURL": "https://plot.ly"
       },
       "data": [
        {
         "link": {
          "source": [
           0,
           1,
           2,
           6,
           7,
           8,
           10,
           11,
           12,
           0,
           1,
           2,
           3,
           4,
           5,
           6,
           7,
           8,
           10,
           11,
           12,
           17,
           0,
           1,
           2,
           3,
           4,
           5,
           6,
           7,
           8,
           10,
           17,
           0,
           1,
           2,
           3,
           4,
           5,
           6,
           7,
           8,
           10,
           11,
           12,
           17,
           13,
           14,
           15,
           16
          ],
          "target": [
           13,
           13,
           13,
           13,
           13,
           13,
           13,
           13,
           13,
           14,
           14,
           14,
           14,
           14,
           14,
           14,
           14,
           14,
           14,
           14,
           14,
           14,
           15,
           15,
           15,
           15,
           15,
           15,
           15,
           15,
           15,
           15,
           15,
           16,
           16,
           16,
           16,
           16,
           16,
           16,
           16,
           16,
           16,
           16,
           16,
           16,
           9,
           9,
           9,
           9
          ],
          "value": [
           6.396599999999999,
           8728.335251999999,
           17948.591261999998,
           136.35888,
           140.193018,
           5.877479999999999,
           1183.090608,
           41.972868,
           377.7559065,
           0.8717974466820667,
           866.3387570844865,
           1759.8207774701352,
           89.38303271533348,
           86.4959418509472,
           45.4975048453068,
           54.19183025636113,
           30.783519881365255,
           0.8010461896827867,
           245.8319820682293,
           93.82996748294771,
           258.94640361124175,
           80.23427744465467,
           0.8717974466820667,
           1472.1700557449662,
           2990.464677798901,
           151.26359382594896,
           146.98261447398718,
           77.31394180006679,
           54.19183025636113,
           30.783519881365255,
           0.8010461896827867,
           245.8319820682293,
           136.34216376958798,
           0.7909658820566666,
           2121.263801017574,
           2973.2530210564864,
           76.65952481455949,
           256.9022263377504,
           26.2963028469276,
           22.493523277329068,
           22.913530049987855,
           0.7267745603086666,
           134.68289766188963,
           300.6966905392555,
           1603.3751405746384,
           64.20372202571599,
           28568.571874499998,
           3613.026838347374,
           5307.017223255779,
           7604.258120644478
          ]
         },
         "node": {
          "label": [
           "Asses",
           "Cattle, dairy",
           "Cattle, non-dairy",
           "Chickens, broilers",
           "Chickens, layers",
           "Ducks",
           "Goats",
           "Horses",
           "Mules",
           "Non-CO2 agricultural emissions",
           "Sheep",
           "Swine, breeding",
           "Swine, market",
           "TEE_CO2eq",
           "TMA_CO2eq",
           "TMP_CO2eq",
           "TMT_CO2eq",
           "Turkeys"
          ],
          "line": {
           "color": "black",
           "width": 0.5
          },
          "pad": 15,
          "thickness": 20
         },
         "type": "sankey"
        }
       ],
       "layout": {
        "font": {
         "size": 10
        },
        "template": {
         "data": {
          "bar": [
           {
            "error_x": {
             "color": "#2a3f5f"
            },
            "error_y": {
             "color": "#2a3f5f"
            },
            "marker": {
             "line": {
              "color": "#E5ECF6",
              "width": 0.5
             }
            },
            "type": "bar"
           }
          ],
          "barpolar": [
           {
            "marker": {
             "line": {
              "color": "#E5ECF6",
              "width": 0.5
             }
            },
            "type": "barpolar"
           }
          ],
          "carpet": [
           {
            "aaxis": {
             "endlinecolor": "#2a3f5f",
             "gridcolor": "white",
             "linecolor": "white",
             "minorgridcolor": "white",
             "startlinecolor": "#2a3f5f"
            },
            "baxis": {
             "endlinecolor": "#2a3f5f",
             "gridcolor": "white",
             "linecolor": "white",
             "minorgridcolor": "white",
             "startlinecolor": "#2a3f5f"
            },
            "type": "carpet"
           }
          ],
          "choropleth": [
           {
            "colorbar": {
             "outlinewidth": 0,
             "ticks": ""
            },
            "type": "choropleth"
           }
          ],
          "contour": [
           {
            "colorbar": {
             "outlinewidth": 0,
             "ticks": ""
            },
            "colorscale": [
             [
              0,
              "#0d0887"
             ],
             [
              0.1111111111111111,
              "#46039f"
             ],
             [
              0.2222222222222222,
              "#7201a8"
             ],
             [
              0.3333333333333333,
              "#9c179e"
             ],
             [
              0.4444444444444444,
              "#bd3786"
             ],
             [
              0.5555555555555556,
              "#d8576b"
             ],
             [
              0.6666666666666666,
              "#ed7953"
             ],
             [
              0.7777777777777778,
              "#fb9f3a"
             ],
             [
              0.8888888888888888,
              "#fdca26"
             ],
             [
              1,
              "#f0f921"
             ]
            ],
            "type": "contour"
           }
          ],
          "contourcarpet": [
           {
            "colorbar": {
             "outlinewidth": 0,
             "ticks": ""
            },
            "type": "contourcarpet"
           }
          ],
          "heatmap": [
           {
            "colorbar": {
             "outlinewidth": 0,
             "ticks": ""
            },
            "colorscale": [
             [
              0,
              "#0d0887"
             ],
             [
              0.1111111111111111,
              "#46039f"
             ],
             [
              0.2222222222222222,
              "#7201a8"
             ],
             [
              0.3333333333333333,
              "#9c179e"
             ],
             [
              0.4444444444444444,
              "#bd3786"
             ],
             [
              0.5555555555555556,
              "#d8576b"
             ],
             [
              0.6666666666666666,
              "#ed7953"
             ],
             [
              0.7777777777777778,
              "#fb9f3a"
             ],
             [
              0.8888888888888888,
              "#fdca26"
             ],
             [
              1,
              "#f0f921"
             ]
            ],
            "type": "heatmap"
           }
          ],
          "heatmapgl": [
           {
            "colorbar": {
             "outlinewidth": 0,
             "ticks": ""
            },
            "colorscale": [
             [
              0,
              "#0d0887"
             ],
             [
              0.1111111111111111,
              "#46039f"
             ],
             [
              0.2222222222222222,
              "#7201a8"
             ],
             [
              0.3333333333333333,
              "#9c179e"
             ],
             [
              0.4444444444444444,
              "#bd3786"
             ],
             [
              0.5555555555555556,
              "#d8576b"
             ],
             [
              0.6666666666666666,
              "#ed7953"
             ],
             [
              0.7777777777777778,
              "#fb9f3a"
             ],
             [
              0.8888888888888888,
              "#fdca26"
             ],
             [
              1,
              "#f0f921"
             ]
            ],
            "type": "heatmapgl"
           }
          ],
          "histogram": [
           {
            "marker": {
             "colorbar": {
              "outlinewidth": 0,
              "ticks": ""
             }
            },
            "type": "histogram"
           }
          ],
          "histogram2d": [
           {
            "colorbar": {
             "outlinewidth": 0,
             "ticks": ""
            },
            "colorscale": [
             [
              0,
              "#0d0887"
             ],
             [
              0.1111111111111111,
              "#46039f"
             ],
             [
              0.2222222222222222,
              "#7201a8"
             ],
             [
              0.3333333333333333,
              "#9c179e"
             ],
             [
              0.4444444444444444,
              "#bd3786"
             ],
             [
              0.5555555555555556,
              "#d8576b"
             ],
             [
              0.6666666666666666,
              "#ed7953"
             ],
             [
              0.7777777777777778,
              "#fb9f3a"
             ],
             [
              0.8888888888888888,
              "#fdca26"
             ],
             [
              1,
              "#f0f921"
             ]
            ],
            "type": "histogram2d"
           }
          ],
          "histogram2dcontour": [
           {
            "colorbar": {
             "outlinewidth": 0,
             "ticks": ""
            },
            "colorscale": [
             [
              0,
              "#0d0887"
             ],
             [
              0.1111111111111111,
              "#46039f"
             ],
             [
              0.2222222222222222,
              "#7201a8"
             ],
             [
              0.3333333333333333,
              "#9c179e"
             ],
             [
              0.4444444444444444,
              "#bd3786"
             ],
             [
              0.5555555555555556,
              "#d8576b"
             ],
             [
              0.6666666666666666,
              "#ed7953"
             ],
             [
              0.7777777777777778,
              "#fb9f3a"
             ],
             [
              0.8888888888888888,
              "#fdca26"
             ],
             [
              1,
              "#f0f921"
             ]
            ],
            "type": "histogram2dcontour"
           }
          ],
          "mesh3d": [
           {
            "colorbar": {
             "outlinewidth": 0,
             "ticks": ""
            },
            "type": "mesh3d"
           }
          ],
          "parcoords": [
           {
            "line": {
             "colorbar": {
              "outlinewidth": 0,
              "ticks": ""
             }
            },
            "type": "parcoords"
           }
          ],
          "pie": [
           {
            "automargin": true,
            "type": "pie"
           }
          ],
          "scatter": [
           {
            "marker": {
             "colorbar": {
              "outlinewidth": 0,
              "ticks": ""
             }
            },
            "type": "scatter"
           }
          ],
          "scatter3d": [
           {
            "line": {
             "colorbar": {
              "outlinewidth": 0,
              "ticks": ""
             }
            },
            "marker": {
             "colorbar": {
              "outlinewidth": 0,
              "ticks": ""
             }
            },
            "type": "scatter3d"
           }
          ],
          "scattercarpet": [
           {
            "marker": {
             "colorbar": {
              "outlinewidth": 0,
              "ticks": ""
             }
            },
            "type": "scattercarpet"
           }
          ],
          "scattergeo": [
           {
            "marker": {
             "colorbar": {
              "outlinewidth": 0,
              "ticks": ""
             }
            },
            "type": "scattergeo"
           }
          ],
          "scattergl": [
           {
            "marker": {
             "colorbar": {
              "outlinewidth": 0,
              "ticks": ""
             }
            },
            "type": "scattergl"
           }
          ],
          "scattermapbox": [
           {
            "marker": {
             "colorbar": {
              "outlinewidth": 0,
              "ticks": ""
             }
            },
            "type": "scattermapbox"
           }
          ],
          "scatterpolar": [
           {
            "marker": {
             "colorbar": {
              "outlinewidth": 0,
              "ticks": ""
             }
            },
            "type": "scatterpolar"
           }
          ],
          "scatterpolargl": [
           {
            "marker": {
             "colorbar": {
              "outlinewidth": 0,
              "ticks": ""
             }
            },
            "type": "scatterpolargl"
           }
          ],
          "scatterternary": [
           {
            "marker": {
             "colorbar": {
              "outlinewidth": 0,
              "ticks": ""
             }
            },
            "type": "scatterternary"
           }
          ],
          "surface": [
           {
            "colorbar": {
             "outlinewidth": 0,
             "ticks": ""
            },
            "colorscale": [
             [
              0,
              "#0d0887"
             ],
             [
              0.1111111111111111,
              "#46039f"
             ],
             [
              0.2222222222222222,
              "#7201a8"
             ],
             [
              0.3333333333333333,
              "#9c179e"
             ],
             [
              0.4444444444444444,
              "#bd3786"
             ],
             [
              0.5555555555555556,
              "#d8576b"
             ],
             [
              0.6666666666666666,
              "#ed7953"
             ],
             [
              0.7777777777777778,
              "#fb9f3a"
             ],
             [
              0.8888888888888888,
              "#fdca26"
             ],
             [
              1,
              "#f0f921"
             ]
            ],
            "type": "surface"
           }
          ],
          "table": [
           {
            "cells": {
             "fill": {
              "color": "#EBF0F8"
             },
             "line": {
              "color": "white"
             }
            },
            "header": {
             "fill": {
              "color": "#C8D4E3"
             },
             "line": {
              "color": "white"
             }
            },
            "type": "table"
           }
          ]
         },
         "layout": {
          "annotationdefaults": {
           "arrowcolor": "#2a3f5f",
           "arrowhead": 0,
           "arrowwidth": 1
          },
          "autotypenumbers": "strict",
          "coloraxis": {
           "colorbar": {
            "outlinewidth": 0,
            "ticks": ""
           }
          },
          "colorscale": {
           "diverging": [
            [
             0,
             "#8e0152"
            ],
            [
             0.1,
             "#c51b7d"
            ],
            [
             0.2,
             "#de77ae"
            ],
            [
             0.3,
             "#f1b6da"
            ],
            [
             0.4,
             "#fde0ef"
            ],
            [
             0.5,
             "#f7f7f7"
            ],
            [
             0.6,
             "#e6f5d0"
            ],
            [
             0.7,
             "#b8e186"
            ],
            [
             0.8,
             "#7fbc41"
            ],
            [
             0.9,
             "#4d9221"
            ],
            [
             1,
             "#276419"
            ]
           ],
           "sequential": [
            [
             0,
             "#0d0887"
            ],
            [
             0.1111111111111111,
             "#46039f"
            ],
            [
             0.2222222222222222,
             "#7201a8"
            ],
            [
             0.3333333333333333,
             "#9c179e"
            ],
            [
             0.4444444444444444,
             "#bd3786"
            ],
            [
             0.5555555555555556,
             "#d8576b"
            ],
            [
             0.6666666666666666,
             "#ed7953"
            ],
            [
             0.7777777777777778,
             "#fb9f3a"
            ],
            [
             0.8888888888888888,
             "#fdca26"
            ],
            [
             1,
             "#f0f921"
            ]
           ],
           "sequentialminus": [
            [
             0,
             "#0d0887"
            ],
            [
             0.1111111111111111,
             "#46039f"
            ],
            [
             0.2222222222222222,
             "#7201a8"
            ],
            [
             0.3333333333333333,
             "#9c179e"
            ],
            [
             0.4444444444444444,
             "#bd3786"
            ],
            [
             0.5555555555555556,
             "#d8576b"
            ],
            [
             0.6666666666666666,
             "#ed7953"
            ],
            [
             0.7777777777777778,
             "#fb9f3a"
            ],
            [
             0.8888888888888888,
             "#fdca26"
            ],
            [
             1,
             "#f0f921"
            ]
           ]
          },
          "colorway": [
           "#636efa",
           "#EF553B",
           "#00cc96",
           "#ab63fa",
           "#FFA15A",
           "#19d3f3",
           "#FF6692",
           "#B6E880",
           "#FF97FF",
           "#FECB52"
          ],
          "font": {
           "color": "#2a3f5f"
          },
          "geo": {
           "bgcolor": "white",
           "lakecolor": "white",
           "landcolor": "#E5ECF6",
           "showlakes": true,
           "showland": true,
           "subunitcolor": "white"
          },
          "hoverlabel": {
           "align": "left"
          },
          "hovermode": "closest",
          "mapbox": {
           "style": "light"
          },
          "paper_bgcolor": "white",
          "plot_bgcolor": "#E5ECF6",
          "polar": {
           "angularaxis": {
            "gridcolor": "white",
            "linecolor": "white",
            "ticks": ""
           },
           "bgcolor": "#E5ECF6",
           "radialaxis": {
            "gridcolor": "white",
            "linecolor": "white",
            "ticks": ""
           }
          },
          "scene": {
           "xaxis": {
            "backgroundcolor": "#E5ECF6",
            "gridcolor": "white",
            "gridwidth": 2,
            "linecolor": "white",
            "showbackground": true,
            "ticks": "",
            "zerolinecolor": "white"
           },
           "yaxis": {
            "backgroundcolor": "#E5ECF6",
            "gridcolor": "white",
            "gridwidth": 2,
            "linecolor": "white",
            "showbackground": true,
            "ticks": "",
            "zerolinecolor": "white"
           },
           "zaxis": {
            "backgroundcolor": "#E5ECF6",
            "gridcolor": "white",
            "gridwidth": 2,
            "linecolor": "white",
            "showbackground": true,
            "ticks": "",
            "zerolinecolor": "white"
           }
          },
          "shapedefaults": {
           "line": {
            "color": "#2a3f5f"
           }
          },
          "ternary": {
           "aaxis": {
            "gridcolor": "white",
            "linecolor": "white",
            "ticks": ""
           },
           "baxis": {
            "gridcolor": "white",
            "linecolor": "white",
            "ticks": ""
           },
           "bgcolor": "#E5ECF6",
           "caxis": {
            "gridcolor": "white",
            "linecolor": "white",
            "ticks": ""
           }
          },
          "title": {
           "x": 0.05
          },
          "xaxis": {
           "automargin": true,
           "gridcolor": "white",
           "linecolor": "white",
           "ticks": "",
           "title": {
            "standoff": 15
           },
           "zerolinecolor": "white",
           "zerolinewidth": 2
          },
          "yaxis": {
           "automargin": true,
           "gridcolor": "white",
           "linecolor": "white",
           "ticks": "",
           "title": {
            "standoff": 15
           },
           "zerolinecolor": "white",
           "zerolinewidth": 2
          }
         }
        },
        "title": {
         "text": "Agricultural Animal Emissions"
        }
       }
      }
     },
     "metadata": {}
    }
   ],
   "source": [
    "fig"
   ]
  }
 ],
 "metadata": {
  "kernelspec": {
   "display_name": "Python 3",
   "language": "python",
   "name": "python3"
  },
  "language_info": {
   "codemirror_mode": {
    "name": "ipython",
    "version": 3
   },
   "file_extension": ".py",
   "mimetype": "text/x-python",
   "name": "python",
   "nbconvert_exporter": "python",
   "pygments_lexer": "ipython3",
   "version": "3.7.7"
  }
 },
 "nbformat": 4,
 "nbformat_minor": 4
}