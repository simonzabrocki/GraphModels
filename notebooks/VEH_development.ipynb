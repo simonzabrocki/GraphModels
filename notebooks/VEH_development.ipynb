{
 "cells": [
  {
   "cell_type": "code",
   "execution_count": 1,
   "metadata": {
    "ExecuteTime": {
     "end_time": "2021-05-06T06:53:53.745128Z",
     "start_time": "2021-05-06T06:53:53.739127Z"
    }
   },
   "outputs": [],
   "source": [
    "import os\n",
    "path_parent = os.path.dirname(os.getcwd())\n",
    "os.chdir(path_parent)"
   ]
  },
  {
   "cell_type": "code",
   "execution_count": 2,
   "metadata": {
    "ExecuteTime": {
     "end_time": "2021-05-06T06:54:02.452381Z",
     "start_time": "2021-05-06T06:53:59.639548Z"
    }
   },
   "outputs": [],
   "source": [
    "from ggmodel_dev.graphmodel import GraphModel, concatenate_graph_specs\n",
    "from ggmodel_dev.validation import score_model, plot_diagnostic, score_model_dictionnary\n",
    "\n",
    "from data_utils.database import select_dataset\n",
    "from data_utils.utils import get_X_y_from_data, data_dict_from_df_tables\n",
    "\n",
    "import pandas as pd\n",
    "import numpy as np"
   ]
  },
  {
   "cell_type": "markdown",
   "metadata": {},
   "source": [
    "# Data"
   ]
  },
  {
   "cell_type": "code",
   "execution_count": 121,
   "metadata": {
    "ExecuteTime": {
     "end_time": "2021-05-06T07:32:39.772073Z",
     "start_time": "2021-05-06T07:32:38.359680Z"
    }
   },
   "outputs": [],
   "source": [
    "def prepare_vehicle_data():\n",
    "\n",
    "    df_tables = ['vehicleownership']\n",
    "    \n",
    "    df_dictionnary = {df_table: select_dataset(df_table) for df_table in df_tables}\n",
    "\n",
    "    \n",
    "    #df_dictionnary['vehicleownership'] = df_dictionnary['vehicleownership'].astype({'Year': int})\n",
    "    \n",
    "    data_dict = data_dict_from_df_tables([df[['ISO', 'Year', 'Value', 'Variable']] for _, df in df_dictionnary.items()])\n",
    "\n",
    "    \n",
    "    \n",
    "    def process_series_0(series_name, series):\n",
    "        s = series.reset_index(level='Year').dropna().astype({'Year': int}).set_index('Year', append=True)[series_name]\n",
    "        return s\n",
    "    \n",
    "    def process_series_1(series_name, series):\n",
    "        s = series.dropna().droplevel(level='Year')\n",
    "        return s\n",
    "    \n",
    "    data_dict_0 = {k: process_series_0(k, v) for k, v in data_dict.items() if k not in ['MAX_sat', 'VEHC_mid', 'VEHC_rate']}\n",
    "    data_dict_1 = {k: process_series_1(k, v) for k, v in data_dict.items() if k in ['MAX_sat', 'VEHC_mid', 'VEHC_rate']}\n",
    "\n",
    "    data_dict = {}\n",
    "    data_dict.update(data_dict_0)\n",
    "    data_dict.update(data_dict_1)\n",
    "    \n",
    "    return data_dict\n",
    "\n",
    "data_dict = prepare_vehicle_data()"
   ]
  },
  {
   "cell_type": "code",
   "execution_count": 171,
   "metadata": {
    "ExecuteTime": {
     "end_time": "2021-05-06T08:55:17.312607Z",
     "start_time": "2021-05-06T08:55:17.305332Z"
    }
   },
   "outputs": [
    {
     "data": {
      "text/plain": [
       "ISO\n",
       "ARG    0.000068\n",
       "AUT    0.000057\n",
       "BEL    0.000052\n",
       "DEU    0.000068\n",
       "FRA    0.000054\n",
       "JPN    0.000046\n",
       "KOR    0.000047\n",
       "UZB    0.000021\n",
       "Name: VEHC_rate, dtype: float64"
      ]
     },
     "execution_count": 171,
     "metadata": {},
     "output_type": "execute_result"
    }
   ],
   "source": [
    "data_dict['VEHC_rate']"
   ]
  },
  {
   "cell_type": "markdown",
   "metadata": {},
   "source": [
    "# Model"
   ]
  },
  {
   "cell_type": "code",
   "execution_count": 154,
   "metadata": {
    "ExecuteTime": {
     "end_time": "2021-05-06T07:46:13.045895Z",
     "start_time": "2021-05-06T07:46:13.016879Z"
    }
   },
   "outputs": [],
   "source": [
    "graph_specifications = {\n",
    "    'VEHC': {'type': 'output',\n",
    "             'unit': 'vehicles per 1000 capita',\n",
    "             'name': 'Vehicle ownership rate',\n",
    "             'computation': lambda MAX_sat, VEHC_mid, VEHC_rate, GDPC, **kwargs:  MAX_sat * np.exp (-VEHC_mid * np.exp (-VEHC_rate * GDPC))\n",
    "             },\n",
    "    'MAX_sat': {'type': 'parameter', # Name to be changed ! \n",
    "              'unit': 'vehicles per 1000 capita',\n",
    "              'name': 'max saturation level',\n",
    "              },\n",
    "    'VEHC_mid': {'type': 'parameter',\n",
    "              'unit': '1',\n",
    "              'name': 'Vehicle ownership halfway point'},\n",
    "\n",
    "    'VEHC_rate': {'type': 'parameter',\n",
    "             'unit': 'capita / constant 2010 US dollar',\n",
    "             'name': 'Vehicle ownership growth rate'},\n",
    "\n",
    "    'GDPC': {'type': 'input',\n",
    "             'unit': 'constant 2010 US dollars per capita',\n",
    "             'name': 'gross domestic product per capita'}\n",
    "}\n",
    "\n",
    "model = GraphModel(graph_specifications)"
   ]
  },
  {
   "cell_type": "code",
   "execution_count": 155,
   "metadata": {
    "ExecuteTime": {
     "end_time": "2021-05-06T07:46:13.411378Z",
     "start_time": "2021-05-06T07:46:13.345749Z"
    }
   },
   "outputs": [
    {
     "data": {
      "image/svg+xml": [
       "<?xml version=\"1.0\" encoding=\"UTF-8\" standalone=\"no\"?>\n",
       "<!DOCTYPE svg PUBLIC \"-//W3C//DTD SVG 1.1//EN\"\n",
       " \"http://www.w3.org/Graphics/SVG/1.1/DTD/svg11.dtd\">\n",
       "<!-- Generated by graphviz version 2.40.1 (20161225.0304)\n",
       " -->\n",
       "<!-- Title: %3 Pages: 1 -->\n",
       "<svg width=\"935pt\" height=\"222pt\"\n",
       " viewBox=\"0.00 0.00 934.50 222.00\" xmlns=\"http://www.w3.org/2000/svg\" xmlns:xlink=\"http://www.w3.org/1999/xlink\">\n",
       "<g id=\"graph0\" class=\"graph\" transform=\"scale(1 1) rotate(0) translate(4 218)\">\n",
       "<title>%3</title>\n",
       "<polygon fill=\"#ffffff\" stroke=\"transparent\" points=\"-4,4 -4,-218 930.5,-218 930.5,4 -4,4\"/>\n",
       "<!-- VEHC -->\n",
       "<g id=\"node1\" class=\"node\">\n",
       "<title>VEHC</title>\n",
       "<polygon fill=\"#2a9d8f\" stroke=\"#eeeeee\" points=\"515,-53 339,-53 339,0 515,0 515,-53\"/>\n",
       "<text text-anchor=\"middle\" x=\"427\" y=\"-37.8\" font-family=\"roboto\" font-size=\"14.00\" fill=\"#eeeeee\">Vehicle ownership rate </text>\n",
       "<text text-anchor=\"middle\" x=\"427\" y=\"-22.8\" font-family=\"roboto\" font-size=\"14.00\" fill=\"#eeeeee\"> (VEHC) </text>\n",
       "<text text-anchor=\"middle\" x=\"427\" y=\"-7.8\" font-family=\"roboto\" font-size=\"14.00\" fill=\"#eeeeee\"> vehicles per 1000 capita</text>\n",
       "</g>\n",
       "<!-- VEHC_comp -->\n",
       "<g id=\"node2\" class=\"node\">\n",
       "<title>VEHC_comp</title>\n",
       "<polygon fill=\"none\" stroke=\"#a9a9a9\" points=\"630.5,-125 223.5,-125 223.5,-89 630.5,-89 630.5,-125\"/>\n",
       "<text text-anchor=\"middle\" x=\"427\" y=\"-103.3\" font-family=\"roboto\" font-size=\"14.00\" fill=\"#000000\">MAX_sat * np.exp (&#45;VEHC_mid * np.exp (&#45;VEHC_rate * GDPC))</text>\n",
       "</g>\n",
       "<!-- VEHC_comp&#45;&gt;VEHC -->\n",
       "<g id=\"edge1\" class=\"edge\">\n",
       "<title>VEHC_comp&#45;&gt;VEHC</title>\n",
       "<path fill=\"none\" stroke=\"#a9a9a9\" d=\"M427,-88.7333C427,-88.7333 427,-63.2477 427,-63.2477\"/>\n",
       "<polygon fill=\"#a9a9a9\" stroke=\"#a9a9a9\" points=\"430.5001,-63.2476 427,-53.2477 423.5001,-63.2477 430.5001,-63.2476\"/>\n",
       "</g>\n",
       "<!-- MAX_sat -->\n",
       "<g id=\"node3\" class=\"node\">\n",
       "<title>MAX_sat</title>\n",
       "<polygon fill=\"#e9c46a\" stroke=\"#eeeeee\" points=\"176,-214 0,-214 0,-161 176,-161 176,-214\"/>\n",
       "<text text-anchor=\"middle\" x=\"88\" y=\"-198.8\" font-family=\"roboto\" font-size=\"14.00\" fill=\"#eeeeee\">max saturation level </text>\n",
       "<text text-anchor=\"middle\" x=\"88\" y=\"-183.8\" font-family=\"roboto\" font-size=\"14.00\" fill=\"#eeeeee\"> (MAX_sat) </text>\n",
       "<text text-anchor=\"middle\" x=\"88\" y=\"-168.8\" font-family=\"roboto\" font-size=\"14.00\" fill=\"#eeeeee\"> vehicles per 1000 capita</text>\n",
       "</g>\n",
       "<!-- MAX_sat&#45;&gt;VEHC_comp -->\n",
       "<g id=\"edge2\" class=\"edge\">\n",
       "<title>MAX_sat&#45;&gt;VEHC_comp</title>\n",
       "<path fill=\"none\" stroke=\"#a9a9a9\" d=\"M88,-160.6947C88,-137.2772 88,-107 88,-107 88,-107 213.4433,-107 213.4433,-107\"/>\n",
       "<polygon fill=\"#a9a9a9\" stroke=\"#a9a9a9\" points=\"213.4433,-110.5001 223.4433,-107 213.4432,-103.5001 213.4433,-110.5001\"/>\n",
       "</g>\n",
       "<!-- VEHC_mid -->\n",
       "<g id=\"node4\" class=\"node\">\n",
       "<title>VEHC_mid</title>\n",
       "<polygon fill=\"#e9c46a\" stroke=\"#eeeeee\" points=\"418,-214 194,-214 194,-161 418,-161 418,-214\"/>\n",
       "<text text-anchor=\"middle\" x=\"306\" y=\"-198.8\" font-family=\"roboto\" font-size=\"14.00\" fill=\"#eeeeee\">Vehicle ownership halfway point </text>\n",
       "<text text-anchor=\"middle\" x=\"306\" y=\"-183.8\" font-family=\"roboto\" font-size=\"14.00\" fill=\"#eeeeee\"> (VEHC_mid) </text>\n",
       "<text text-anchor=\"middle\" x=\"306\" y=\"-168.8\" font-family=\"roboto\" font-size=\"14.00\" fill=\"#eeeeee\"> 1</text>\n",
       "</g>\n",
       "<!-- VEHC_mid&#45;&gt;VEHC_comp -->\n",
       "<g id=\"edge3\" class=\"edge\">\n",
       "<title>VEHC_mid&#45;&gt;VEHC_comp</title>\n",
       "<path fill=\"none\" stroke=\"#a9a9a9\" d=\"M320.75,-160.6947C320.75,-160.6947 320.75,-135.0658 320.75,-135.0658\"/>\n",
       "<polygon fill=\"#a9a9a9\" stroke=\"#a9a9a9\" points=\"324.2501,-135.0657 320.75,-125.0658 317.2501,-135.0658 324.2501,-135.0657\"/>\n",
       "</g>\n",
       "<!-- VEHC_rate -->\n",
       "<g id=\"node5\" class=\"node\">\n",
       "<title>VEHC_rate</title>\n",
       "<polygon fill=\"#e9c46a\" stroke=\"#eeeeee\" points=\"661.5,-214 436.5,-214 436.5,-161 661.5,-161 661.5,-214\"/>\n",
       "<text text-anchor=\"middle\" x=\"549\" y=\"-198.8\" font-family=\"roboto\" font-size=\"14.00\" fill=\"#eeeeee\">Vehicle ownership growth rate </text>\n",
       "<text text-anchor=\"middle\" x=\"549\" y=\"-183.8\" font-family=\"roboto\" font-size=\"14.00\" fill=\"#eeeeee\"> (VEHC_rate) </text>\n",
       "<text text-anchor=\"middle\" x=\"549\" y=\"-168.8\" font-family=\"roboto\" font-size=\"14.00\" fill=\"#eeeeee\"> capita / constant 2010 US dollar</text>\n",
       "</g>\n",
       "<!-- VEHC_rate&#45;&gt;VEHC_comp -->\n",
       "<g id=\"edge4\" class=\"edge\">\n",
       "<title>VEHC_rate&#45;&gt;VEHC_comp</title>\n",
       "<path fill=\"none\" stroke=\"#a9a9a9\" d=\"M533.5,-160.6947C533.5,-160.6947 533.5,-135.0658 533.5,-135.0658\"/>\n",
       "<polygon fill=\"#a9a9a9\" stroke=\"#a9a9a9\" points=\"537.0001,-135.0657 533.5,-125.0658 530.0001,-135.0658 537.0001,-135.0657\"/>\n",
       "</g>\n",
       "<!-- GDPC -->\n",
       "<g id=\"node6\" class=\"node\">\n",
       "<title>GDPC</title>\n",
       "<polygon fill=\"#e76f51\" stroke=\"#eeeeee\" points=\"926.5,-214 679.5,-214 679.5,-161 926.5,-161 926.5,-214\"/>\n",
       "<text text-anchor=\"middle\" x=\"803\" y=\"-198.8\" font-family=\"roboto\" font-size=\"14.00\" fill=\"#eeeeee\">gross domestic product per capita </text>\n",
       "<text text-anchor=\"middle\" x=\"803\" y=\"-183.8\" font-family=\"roboto\" font-size=\"14.00\" fill=\"#eeeeee\"> (GDPC) </text>\n",
       "<text text-anchor=\"middle\" x=\"803\" y=\"-168.8\" font-family=\"roboto\" font-size=\"14.00\" fill=\"#eeeeee\"> constant 2010 US dollars per capita</text>\n",
       "</g>\n",
       "<!-- GDPC&#45;&gt;VEHC_comp -->\n",
       "<g id=\"edge5\" class=\"edge\">\n",
       "<title>GDPC&#45;&gt;VEHC_comp</title>\n",
       "<path fill=\"none\" stroke=\"#a9a9a9\" d=\"M803,-160.6947C803,-137.2772 803,-107 803,-107 803,-107 640.6811,-107 640.6811,-107\"/>\n",
       "<polygon fill=\"#a9a9a9\" stroke=\"#a9a9a9\" points=\"640.6811,-103.5001 630.6811,-107 640.681,-110.5001 640.6811,-103.5001\"/>\n",
       "</g>\n",
       "</g>\n",
       "</svg>\n"
      ],
      "text/plain": [
       "<graphviz.dot.Digraph at 0x7f24e90c5890>"
      ]
     },
     "execution_count": 155,
     "metadata": {},
     "output_type": "execute_result"
    }
   ],
   "source": [
    "model.draw()"
   ]
  },
  {
   "cell_type": "code",
   "execution_count": 165,
   "metadata": {
    "ExecuteTime": {
     "end_time": "2021-05-06T08:40:48.560406Z",
     "start_time": "2021-05-06T08:40:48.541155Z"
    }
   },
   "outputs": [],
   "source": [
    "res = model.run(data_dict)"
   ]
  },
  {
   "cell_type": "code",
   "execution_count": 156,
   "metadata": {
    "ExecuteTime": {
     "end_time": "2021-05-06T07:46:13.834396Z",
     "start_time": "2021-05-06T07:46:13.736829Z"
    }
   },
   "outputs": [],
   "source": [
    "scores = score_model(model, data_dict)"
   ]
  },
  {
   "cell_type": "code",
   "execution_count": 157,
   "metadata": {
    "ExecuteTime": {
     "end_time": "2021-05-06T07:46:14.071997Z",
     "start_time": "2021-05-06T07:46:14.065616Z"
    }
   },
   "outputs": [
    {
     "data": {
      "text/plain": [
       "dict_keys(['score_by_Variable', 'score_by_ISO', 'score_by_ISO_Variable'])"
      ]
     },
     "execution_count": 157,
     "metadata": {},
     "output_type": "execute_result"
    }
   ],
   "source": [
    "scores.keys()"
   ]
  },
  {
   "cell_type": "code",
   "execution_count": 162,
   "metadata": {
    "ExecuteTime": {
     "end_time": "2021-05-06T07:47:11.626900Z",
     "start_time": "2021-05-06T07:47:11.610999Z"
    }
   },
   "outputs": [
    {
     "data": {
      "text/html": [
       "<div>\n",
       "<style scoped>\n",
       "    .dataframe tbody tr th:only-of-type {\n",
       "        vertical-align: middle;\n",
       "    }\n",
       "\n",
       "    .dataframe tbody tr th {\n",
       "        vertical-align: top;\n",
       "    }\n",
       "\n",
       "    .dataframe thead th {\n",
       "        text-align: right;\n",
       "    }\n",
       "</style>\n",
       "<table border=\"1\" class=\"dataframe\">\n",
       "  <thead>\n",
       "    <tr style=\"text-align: right;\">\n",
       "      <th></th>\n",
       "      <th>r2</th>\n",
       "      <th>correlation</th>\n",
       "      <th>rmse</th>\n",
       "    </tr>\n",
       "    <tr>\n",
       "      <th>ISO</th>\n",
       "      <th></th>\n",
       "      <th></th>\n",
       "      <th></th>\n",
       "    </tr>\n",
       "  </thead>\n",
       "  <tbody>\n",
       "    <tr>\n",
       "      <th>ARG</th>\n",
       "      <td>0.365971</td>\n",
       "      <td>0.796601</td>\n",
       "      <td>925.656883</td>\n",
       "    </tr>\n",
       "    <tr>\n",
       "      <th>AUT</th>\n",
       "      <td>0.860679</td>\n",
       "      <td>0.942868</td>\n",
       "      <td>181.663873</td>\n",
       "    </tr>\n",
       "    <tr>\n",
       "      <th>BEL</th>\n",
       "      <td>0.957400</td>\n",
       "      <td>0.979879</td>\n",
       "      <td>35.264028</td>\n",
       "    </tr>\n",
       "    <tr>\n",
       "      <th>DEU</th>\n",
       "      <td>0.459773</td>\n",
       "      <td>0.706073</td>\n",
       "      <td>359.891094</td>\n",
       "    </tr>\n",
       "    <tr>\n",
       "      <th>FRA</th>\n",
       "      <td>0.906773</td>\n",
       "      <td>0.952628</td>\n",
       "      <td>54.372153</td>\n",
       "    </tr>\n",
       "    <tr>\n",
       "      <th>JPN</th>\n",
       "      <td>0.506497</td>\n",
       "      <td>0.712827</td>\n",
       "      <td>59.474629</td>\n",
       "    </tr>\n",
       "    <tr>\n",
       "      <th>KOR</th>\n",
       "      <td>0.940654</td>\n",
       "      <td>0.990346</td>\n",
       "      <td>48.709117</td>\n",
       "    </tr>\n",
       "    <tr>\n",
       "      <th>UZB</th>\n",
       "      <td>0.226237</td>\n",
       "      <td>0.983198</td>\n",
       "      <td>85.600585</td>\n",
       "    </tr>\n",
       "  </tbody>\n",
       "</table>\n",
       "</div>"
      ],
      "text/plain": [
       "           r2  correlation        rmse\n",
       "ISO                                   \n",
       "ARG  0.365971     0.796601  925.656883\n",
       "AUT  0.860679     0.942868  181.663873\n",
       "BEL  0.957400     0.979879   35.264028\n",
       "DEU  0.459773     0.706073  359.891094\n",
       "FRA  0.906773     0.952628   54.372153\n",
       "JPN  0.506497     0.712827   59.474629\n",
       "KOR  0.940654     0.990346   48.709117\n",
       "UZB  0.226237     0.983198   85.600585"
      ]
     },
     "execution_count": 162,
     "metadata": {},
     "output_type": "execute_result"
    }
   ],
   "source": [
    "scores['score_by_ISO']"
   ]
  },
  {
   "cell_type": "code",
   "execution_count": 163,
   "metadata": {
    "ExecuteTime": {
     "end_time": "2021-05-06T07:50:22.420658Z",
     "start_time": "2021-05-06T07:50:22.405092Z"
    }
   },
   "outputs": [
    {
     "data": {
      "text/html": [
       "<div>\n",
       "<style scoped>\n",
       "    .dataframe tbody tr th:only-of-type {\n",
       "        vertical-align: middle;\n",
       "    }\n",
       "\n",
       "    .dataframe tbody tr th {\n",
       "        vertical-align: top;\n",
       "    }\n",
       "\n",
       "    .dataframe thead th {\n",
       "        text-align: right;\n",
       "    }\n",
       "</style>\n",
       "<table border=\"1\" class=\"dataframe\">\n",
       "  <thead>\n",
       "    <tr style=\"text-align: right;\">\n",
       "      <th></th>\n",
       "      <th>r2</th>\n",
       "      <th>correlation</th>\n",
       "      <th>rmse</th>\n",
       "    </tr>\n",
       "    <tr>\n",
       "      <th>Variable</th>\n",
       "      <th></th>\n",
       "      <th></th>\n",
       "      <th></th>\n",
       "    </tr>\n",
       "  </thead>\n",
       "  <tbody>\n",
       "    <tr>\n",
       "      <th>VEHC</th>\n",
       "      <td>0.989726</td>\n",
       "      <td>0.99487</td>\n",
       "      <td>195.572754</td>\n",
       "    </tr>\n",
       "  </tbody>\n",
       "</table>\n",
       "</div>"
      ],
      "text/plain": [
       "                r2  correlation        rmse\n",
       "Variable                                   \n",
       "VEHC      0.989726      0.99487  195.572754"
      ]
     },
     "execution_count": 163,
     "metadata": {},
     "output_type": "execute_result"
    }
   ],
   "source": [
    "scores['score_by_Variable']"
   ]
  }
 ],
 "metadata": {
  "kernelspec": {
   "display_name": "Python 3",
   "language": "python",
   "name": "python3"
  },
  "language_info": {
   "codemirror_mode": {
    "name": "ipython",
    "version": 3
   },
   "file_extension": ".py",
   "mimetype": "text/x-python",
   "name": "python",
   "nbconvert_exporter": "python",
   "pygments_lexer": "ipython3",
   "version": "3.7.7"
  }
 },
 "nbformat": 4,
 "nbformat_minor": 4
}
