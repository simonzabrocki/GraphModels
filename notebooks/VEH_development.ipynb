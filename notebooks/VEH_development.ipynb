{
 "cells": [
  {
   "cell_type": "code",
   "execution_count": 1,
   "metadata": {
    "ExecuteTime": {
     "end_time": "2021-08-03T08:13:39.484031Z",
     "start_time": "2021-08-03T08:13:39.478273Z"
    }
   },
   "outputs": [],
   "source": [
    "import os\n",
    "path_parent = os.path.dirname(os.getcwd())\n",
    "os.chdir(path_parent)"
   ]
  },
  {
   "cell_type": "code",
   "execution_count": 2,
   "metadata": {
    "ExecuteTime": {
     "end_time": "2021-08-03T08:13:41.652977Z",
     "start_time": "2021-08-03T08:13:39.490324Z"
    }
   },
   "outputs": [],
   "source": [
    "from ggmodel_dev.graphmodel import GraphModel, concatenate_graph_specs\n",
    "from ggmodel_dev.validation import score_model, plot_diagnostic, score_model_dictionnary\n",
    "\n",
    "from data_utils.database import select_dataset\n",
    "from data_utils.utils import get_X_y_from_data, data_dict_from_df_tables\n",
    "\n",
    "import pandas as pd\n",
    "import numpy as np"
   ]
  },
  {
   "cell_type": "markdown",
   "metadata": {},
   "source": [
    "# Data"
   ]
  },
  {
   "cell_type": "code",
   "execution_count": 3,
   "metadata": {
    "ExecuteTime": {
     "end_time": "2021-08-03T08:13:51.024614Z",
     "start_time": "2021-08-03T08:13:41.657271Z"
    }
   },
   "outputs": [],
   "source": [
    "def prepare_vehicle_data():\n",
    "\n",
    "    df_tables = ['vehicleownership', 'vehicleownership_gompertz_param']\n",
    "    \n",
    "    df_dictionnary = {df_table: select_dataset(df_table) for df_table in df_tables}\n",
    "\n",
    "    \n",
    "    #df_dictionnary['vehicleownership'] = df_dictionnary['vehicleownership'].astype({'Year': int})\n",
    "    \n",
    "    data_dict = data_dict_from_df_tables([df_dictionnary['vehicleownership'][['ISO', 'Year', 'Variable', 'Value']]])\n",
    "    \n",
    "    data_dict.update(data_dict_from_df_tables([df_dictionnary['vehicleownership_gompertz_param'][['ISO', 'Variable', 'Value']]]))\n",
    "    \n",
    "    def process_series_0(series_name, series):\n",
    "        s = series.reset_index(level='Year').dropna().astype({'Year': int}).set_index('Year', append=True)[series_name]\n",
    "        return s\n",
    "    \n",
    "    def process_series_1(series_name, series):\n",
    "        s = series.dropna().droplevel(level='Year')\n",
    "        return s\n",
    "    \n",
    "    data_dict_0 = {k: process_series_0(k, v) for k, v in data_dict.items() if k not in ['MAX_sat', 'VEHC_mid', 'VEHC_rate']}\n",
    "    data_dict_1 = {k:v  for k, v in data_dict.items() if k in ['MAX_sat', 'VEHC_mid', 'VEHC_rate']}\n",
    "\n",
    "    data_dict = {}\n",
    "    data_dict.update(data_dict_0)\n",
    "    data_dict.update(data_dict_1)\n",
    "    \n",
    "    # No Need for now\n",
    "    data_dict.pop('Pop', None)\n",
    "    data_dict.pop('Pop_URB', None)\n",
    "    data_dict.pop('VEH', None)\n",
    "    data_dict.pop('Pop_DEN', None)\n",
    "\n",
    "    return data_dict\n",
    "\n",
    "data_dict = prepare_vehicle_data()"
   ]
  },
  {
   "cell_type": "code",
   "execution_count": 4,
   "metadata": {
    "ExecuteTime": {
     "end_time": "2021-08-03T08:13:51.040353Z",
     "start_time": "2021-08-03T08:13:51.027016Z"
    }
   },
   "outputs": [
    {
     "data": {
      "text/plain": [
       "dict_keys(['GDPC', 'VEHC', 'MAX_sat', 'VEHC_mid', 'VEHC_rate'])"
      ]
     },
     "execution_count": 4,
     "metadata": {},
     "output_type": "execute_result"
    }
   ],
   "source": [
    "data_dict.keys()"
   ]
  },
  {
   "cell_type": "markdown",
   "metadata": {},
   "source": [
    "# Model"
   ]
  },
  {
   "cell_type": "code",
   "execution_count": 5,
   "metadata": {
    "ExecuteTime": {
     "end_time": "2021-08-03T08:13:51.076628Z",
     "start_time": "2021-08-03T08:13:51.043278Z"
    }
   },
   "outputs": [],
   "source": [
    "graph_specifications = {\n",
    "    'VEHC': {'type': 'output',\n",
    "             'unit': 'vehicles per 1000 capita',\n",
    "             'name': 'Vehicle ownership rate',\n",
    "             'computation': lambda MAX_sat, VEHC_mid, VEHC_rate, GDPC, **kwargs:  MAX_sat * np.exp (-VEHC_mid * np.exp (-VEHC_rate * GDPC))\n",
    "             },\n",
    "    'MAX_sat': {'type': 'parameter', # Name to be changed ! \n",
    "              'unit': 'vehicles per 1000 capita',\n",
    "              'name': 'max saturation level',\n",
    "              },\n",
    "    'VEHC_mid': {'type': 'parameter',\n",
    "              'unit': '1',\n",
    "              'name': 'Vehicle ownership halfway point'},\n",
    "\n",
    "    'VEHC_rate': {'type': 'parameter',\n",
    "             'unit': 'capita / constant 2010 US dollar',\n",
    "             'name': 'Vehicle ownership growth rate'},\n",
    "\n",
    "    'GDPC': {'type': 'input',\n",
    "             'unit': 'constant 2010 US dollars per capita',\n",
    "             'name': 'gross domestic product per capita'}\n",
    "}\n",
    "\n",
    "model = GraphModel(graph_specifications)"
   ]
  },
  {
   "cell_type": "code",
   "execution_count": 6,
   "metadata": {
    "ExecuteTime": {
     "end_time": "2021-08-03T08:13:51.090846Z",
     "start_time": "2021-08-03T08:13:51.078561Z"
    }
   },
   "outputs": [],
   "source": [
    "res = model.run(data_dict)"
   ]
  },
  {
   "cell_type": "code",
   "execution_count": 7,
   "metadata": {
    "ExecuteTime": {
     "end_time": "2021-08-03T08:13:51.830896Z",
     "start_time": "2021-08-03T08:13:51.092593Z"
    }
   },
   "outputs": [
    {
     "name": "stderr",
     "output_type": "stream",
     "text": [
      "/home/simon/anaconda3/lib/python3.7/site-packages/sklearn/metrics/_regression.py:594: UndefinedMetricWarning: R^2 score is not well-defined with less than two samples.\n",
      "  warnings.warn(msg, UndefinedMetricWarning)\n",
      "/home/simon/anaconda3/lib/python3.7/site-packages/numpy/lib/function_base.py:2551: RuntimeWarning: Degrees of freedom <= 0 for slice\n",
      "  c = cov(x, y, rowvar)\n",
      "/home/simon/anaconda3/lib/python3.7/site-packages/numpy/lib/function_base.py:2480: RuntimeWarning: divide by zero encountered in true_divide\n",
      "  c *= np.true_divide(1, fact)\n",
      "/home/simon/anaconda3/lib/python3.7/site-packages/sklearn/metrics/_regression.py:594: UndefinedMetricWarning: R^2 score is not well-defined with less than two samples.\n",
      "  warnings.warn(msg, UndefinedMetricWarning)\n",
      "/home/simon/anaconda3/lib/python3.7/site-packages/numpy/lib/function_base.py:2551: RuntimeWarning: Degrees of freedom <= 0 for slice\n",
      "  c = cov(x, y, rowvar)\n",
      "/home/simon/anaconda3/lib/python3.7/site-packages/numpy/lib/function_base.py:2480: RuntimeWarning: divide by zero encountered in true_divide\n",
      "  c *= np.true_divide(1, fact)\n",
      "/home/simon/anaconda3/lib/python3.7/site-packages/sklearn/metrics/_regression.py:594: UndefinedMetricWarning: R^2 score is not well-defined with less than two samples.\n",
      "  warnings.warn(msg, UndefinedMetricWarning)\n",
      "/home/simon/anaconda3/lib/python3.7/site-packages/numpy/lib/function_base.py:2551: RuntimeWarning: Degrees of freedom <= 0 for slice\n",
      "  c = cov(x, y, rowvar)\n",
      "/home/simon/anaconda3/lib/python3.7/site-packages/numpy/lib/function_base.py:2480: RuntimeWarning: divide by zero encountered in true_divide\n",
      "  c *= np.true_divide(1, fact)\n",
      "/home/simon/anaconda3/lib/python3.7/site-packages/sklearn/metrics/_regression.py:594: UndefinedMetricWarning: R^2 score is not well-defined with less than two samples.\n",
      "  warnings.warn(msg, UndefinedMetricWarning)\n",
      "/home/simon/anaconda3/lib/python3.7/site-packages/numpy/lib/function_base.py:2551: RuntimeWarning: Degrees of freedom <= 0 for slice\n",
      "  c = cov(x, y, rowvar)\n",
      "/home/simon/anaconda3/lib/python3.7/site-packages/numpy/lib/function_base.py:2480: RuntimeWarning: divide by zero encountered in true_divide\n",
      "  c *= np.true_divide(1, fact)\n"
     ]
    }
   ],
   "source": [
    "scores = score_model(model, data_dict)"
   ]
  },
  {
   "cell_type": "code",
   "execution_count": 11,
   "metadata": {
    "ExecuteTime": {
     "end_time": "2021-08-03T08:14:16.252514Z",
     "start_time": "2021-08-03T08:14:16.227424Z"
    }
   },
   "outputs": [
    {
     "data": {
      "text/html": [
       "<div>\n",
       "<style scoped>\n",
       "    .dataframe tbody tr th:only-of-type {\n",
       "        vertical-align: middle;\n",
       "    }\n",
       "\n",
       "    .dataframe tbody tr th {\n",
       "        vertical-align: top;\n",
       "    }\n",
       "\n",
       "    .dataframe thead th {\n",
       "        text-align: right;\n",
       "    }\n",
       "</style>\n",
       "<table border=\"1\" class=\"dataframe\">\n",
       "  <thead>\n",
       "    <tr style=\"text-align: right;\">\n",
       "      <th></th>\n",
       "      <th></th>\n",
       "      <th>r2</th>\n",
       "      <th>correlation</th>\n",
       "      <th>rmse</th>\n",
       "    </tr>\n",
       "    <tr>\n",
       "      <th>ISO</th>\n",
       "      <th>Variable</th>\n",
       "      <th></th>\n",
       "      <th></th>\n",
       "      <th></th>\n",
       "    </tr>\n",
       "  </thead>\n",
       "  <tbody>\n",
       "    <tr>\n",
       "      <th>AFG</th>\n",
       "      <th>VEHC</th>\n",
       "      <td>0.448135</td>\n",
       "      <td>0.911840</td>\n",
       "      <td>26.970885</td>\n",
       "    </tr>\n",
       "    <tr>\n",
       "      <th>AGO</th>\n",
       "      <th>VEHC</th>\n",
       "      <td>0.519606</td>\n",
       "      <td>0.938665</td>\n",
       "      <td>10.588718</td>\n",
       "    </tr>\n",
       "    <tr>\n",
       "      <th>ALB</th>\n",
       "      <th>VEHC</th>\n",
       "      <td>0.509207</td>\n",
       "      <td>0.986143</td>\n",
       "      <td>1126.388430</td>\n",
       "    </tr>\n",
       "    <tr>\n",
       "      <th>AND</th>\n",
       "      <th>VEHC</th>\n",
       "      <td>-0.167122</td>\n",
       "      <td>-0.293163</td>\n",
       "      <td>18921.075175</td>\n",
       "    </tr>\n",
       "    <tr>\n",
       "      <th>ARE</th>\n",
       "      <th>VEHC</th>\n",
       "      <td>-4.324886</td>\n",
       "      <td>-0.157247</td>\n",
       "      <td>1775.782200</td>\n",
       "    </tr>\n",
       "    <tr>\n",
       "      <th>...</th>\n",
       "      <th>...</th>\n",
       "      <td>...</td>\n",
       "      <td>...</td>\n",
       "      <td>...</td>\n",
       "    </tr>\n",
       "    <tr>\n",
       "      <th>VNM</th>\n",
       "      <th>VEHC</th>\n",
       "      <td>-0.052569</td>\n",
       "      <td>0.958054</td>\n",
       "      <td>29.462680</td>\n",
       "    </tr>\n",
       "    <tr>\n",
       "      <th>YEM</th>\n",
       "      <th>VEHC</th>\n",
       "      <td>-0.487974</td>\n",
       "      <td>-0.785226</td>\n",
       "      <td>3.545465</td>\n",
       "    </tr>\n",
       "    <tr>\n",
       "      <th>ZAF</th>\n",
       "      <th>VEHC</th>\n",
       "      <td>0.815969</td>\n",
       "      <td>0.904536</td>\n",
       "      <td>5.230542</td>\n",
       "    </tr>\n",
       "    <tr>\n",
       "      <th>ZMB</th>\n",
       "      <th>VEHC</th>\n",
       "      <td>-0.442651</td>\n",
       "      <td>-0.553159</td>\n",
       "      <td>24.879297</td>\n",
       "    </tr>\n",
       "    <tr>\n",
       "      <th>ZWE</th>\n",
       "      <th>VEHC</th>\n",
       "      <td>-11.223068</td>\n",
       "      <td>0.869263</td>\n",
       "      <td>168.056164</td>\n",
       "    </tr>\n",
       "  </tbody>\n",
       "</table>\n",
       "<p>147 rows × 3 columns</p>\n",
       "</div>"
      ],
      "text/plain": [
       "                     r2  correlation          rmse\n",
       "ISO Variable                                      \n",
       "AFG VEHC       0.448135     0.911840     26.970885\n",
       "AGO VEHC       0.519606     0.938665     10.588718\n",
       "ALB VEHC       0.509207     0.986143   1126.388430\n",
       "AND VEHC      -0.167122    -0.293163  18921.075175\n",
       "ARE VEHC      -4.324886    -0.157247   1775.782200\n",
       "...                 ...          ...           ...\n",
       "VNM VEHC      -0.052569     0.958054     29.462680\n",
       "YEM VEHC      -0.487974    -0.785226      3.545465\n",
       "ZAF VEHC       0.815969     0.904536      5.230542\n",
       "ZMB VEHC      -0.442651    -0.553159     24.879297\n",
       "ZWE VEHC     -11.223068     0.869263    168.056164\n",
       "\n",
       "[147 rows x 3 columns]"
      ]
     },
     "execution_count": 11,
     "metadata": {},
     "output_type": "execute_result"
    }
   ],
   "source": [
    "scores['score_by_ISO_Variable']"
   ]
  },
  {
   "cell_type": "markdown",
   "metadata": {},
   "source": [
    "# draft"
   ]
  },
  {
   "cell_type": "code",
   "execution_count": 12,
   "metadata": {
    "ExecuteTime": {
     "end_time": "2021-08-03T08:14:18.572498Z",
     "start_time": "2021-08-03T08:14:18.127519Z"
    }
   },
   "outputs": [],
   "source": [
    "import matplotlib.pyplot as plt\n",
    "import seaborn as sns\n",
    "\n",
    "plt.style.use('ggplot')"
   ]
  },
  {
   "cell_type": "code",
   "execution_count": 13,
   "metadata": {
    "ExecuteTime": {
     "end_time": "2021-08-03T08:14:18.601868Z",
     "start_time": "2021-08-03T08:14:18.574426Z"
    }
   },
   "outputs": [],
   "source": [
    "df = (\n",
    "    pd.concat([res['VEHC'].to_frame(name='Value').assign(type='model'),\n",
    "               data_dict['VEHC'].to_frame(name='Value').assign(type='measure')])\n",
    "      .reset_index()\n",
    "      .merge(scores['score_by_ISO'].reset_index(), on='ISO')\n",
    "      .astype({'Year': int})\n",
    ")"
   ]
  },
  {
   "cell_type": "code",
   "execution_count": 14,
   "metadata": {
    "ExecuteTime": {
     "end_time": "2021-08-03T08:14:19.160647Z",
     "start_time": "2021-08-03T08:14:19.144781Z"
    }
   },
   "outputs": [],
   "source": [
    "plot_df = df.pivot(index=['ISO', 'Year'], columns=['type'], values='Value').reset_index()"
   ]
  },
  {
   "cell_type": "code",
   "execution_count": 15,
   "metadata": {
    "ExecuteTime": {
     "end_time": "2021-08-03T08:14:19.699926Z",
     "start_time": "2021-08-03T08:14:19.693852Z"
    }
   },
   "outputs": [],
   "source": [
    "ISO_list = scores['score_by_ISO'].sort_values(by='r2').tail(6).index.tolist()"
   ]
  },
  {
   "cell_type": "code",
   "execution_count": 16,
   "metadata": {
    "ExecuteTime": {
     "end_time": "2021-08-03T08:14:20.168387Z",
     "start_time": "2021-08-03T08:14:20.161485Z"
    },
    "scrolled": true
   },
   "outputs": [
    {
     "data": {
      "text/plain": [
       "['TUR', 'CRI', 'HUN', 'MAR', 'LIE', 'MCO']"
      ]
     },
     "execution_count": 16,
     "metadata": {},
     "output_type": "execute_result"
    }
   ],
   "source": [
    "ISO_list"
   ]
  },
  {
   "cell_type": "code",
   "execution_count": 17,
   "metadata": {
    "ExecuteTime": {
     "end_time": "2021-08-03T08:14:22.664714Z",
     "start_time": "2021-08-03T08:14:20.331390Z"
    },
    "scrolled": false
   },
   "outputs": [
    {
     "data": {
      "image/png": "[encoded data removed]",
      "text/plain": [
       "<Figure size 1159.5x1080 with 6 Axes>"
      ]
     },
     "metadata": {},
     "output_type": "display_data"
    }
   ],
   "source": [
    "rp = sns.relplot(data=df.query(f'ISO in {ISO_list} and Year > 1990').rename(columns={'Value': 'Vehicle Ownership Rate'}),\n",
    "            x='Year',\n",
    "            y='Vehicle Ownership Rate',\n",
    "            hue='type',\n",
    "            col='ISO',\n",
    "            col_wrap=2,\n",
    "            kind='line',\n",
    "            height=5,\n",
    "            aspect=1.5,\n",
    "            facet_kws=dict(sharey=False),\n",
    "            )\n",
    "\n",
    "rp.fig.subplots_adjust(top=0.9) # adjust the Figure in rp\n",
    "rp.fig.suptitle('Vehicle Ownership Rate vs Time, modeled and measured')\n",
    "\n",
    "plt.show()"
   ]
  },
  {
   "cell_type": "code",
   "execution_count": null,
   "metadata": {
    "ExecuteTime": {
     "end_time": "2021-05-26T04:48:46.045000Z",
     "start_time": "2021-05-26T04:48:46.035059Z"
    }
   },
   "outputs": [],
   "source": [
    "from ggdata.scripts import download\n",
    "def get_WB_variables():\n",
    "    '''To clean up'''\n",
    "\n",
    "    to_download =  [\n",
    "                    ('EN.ATM.PM25.MC.M3', 'PM2.5'),\n",
    "                    ('NY.GDP.PCAP.KD', 'GDPC'),\n",
    "    ]\n",
    "\n",
    "    dfs = []\n",
    "\n",
    "    for wb_indic, ggi_code in to_download:\n",
    "        config = {'GGI_code': ggi_code, 'params': {'indicator': wb_indic}}\n",
    "        \n",
    "        df = download(API_name='WB', config=config, raw=False)\n",
    "        \n",
    "        dfs.append(df)\n",
    "\n",
    "    df = pd.concat(dfs)\n",
    "    df = df[~df.ISO.isin([''])]\n",
    "    \n",
    "    \n",
    "    df.loc[df.Variable == 'PM2.5', 'Unit'] = 'micrograms/m3'\n",
    "\n",
    "\n",
    "    return df"
   ]
  },
  {
   "cell_type": "code",
   "execution_count": null,
   "metadata": {
    "ExecuteTime": {
     "end_time": "2021-05-26T04:49:29.142739Z",
     "start_time": "2021-05-26T04:49:15.403666Z"
    }
   },
   "outputs": [],
   "source": [
    "PM2_5 = get_WB_variables()[['ISO', 'Year', 'Value', 'Variable']]"
   ]
  },
  {
   "cell_type": "code",
   "execution_count": null,
   "metadata": {
    "ExecuteTime": {
     "end_time": "2021-05-26T04:49:29.225841Z",
     "start_time": "2021-05-26T04:49:29.166990Z"
    },
    "scrolled": true
   },
   "outputs": [],
   "source": [
    "VEHC = df.query(\"type =='measure'\")[['ISO', 'Year', 'Value']].assign(Variable='VEHC')\n",
    "df_1 = pd.concat([VEHC, PM2_5]).astype({'Year': int}).pivot(index=['ISO', 'Year'], columns='Variable', values='Value').dropna().reset_index()"
   ]
  },
  {
   "cell_type": "code",
   "execution_count": null,
   "metadata": {
    "ExecuteTime": {
     "end_time": "2021-05-26T04:50:52.544931Z",
     "start_time": "2021-05-26T04:50:52.538523Z"
    }
   },
   "outputs": [],
   "source": [
    "df_1['VEH/GDP'] = df_1['VEHC'] / df_1['GDPC']"
   ]
  },
  {
   "cell_type": "code",
   "execution_count": null,
   "metadata": {
    "ExecuteTime": {
     "end_time": "2021-05-26T04:51:07.547299Z",
     "start_time": "2021-05-26T04:51:07.325335Z"
    }
   },
   "outputs": [],
   "source": [
    "df_1.groupby('ISO').mean().plot(x='VEH/GDP', y='PM2.5', kind='scatter')"
   ]
  },
  {
   "cell_type": "code",
   "execution_count": null,
   "metadata": {
    "ExecuteTime": {
     "end_time": "2021-05-26T04:50:08.823932Z",
     "start_time": "2021-05-26T04:50:08.590560Z"
    }
   },
   "outputs": [],
   "source": [
    "df_1.groupby('ISO').mean().plot(x='GDPC', y='VEHC', kind='scatter')"
   ]
  },
  {
   "cell_type": "code",
   "execution_count": null,
   "metadata": {
    "ExecuteTime": {
     "end_time": "2021-05-26T04:49:31.592500Z",
     "start_time": "2021-05-26T04:49:31.361878Z"
    }
   },
   "outputs": [],
   "source": [
    "df_1.groupby('ISO').mean().plot(y='PM2.5', x='GDPC', kind='scatter')"
   ]
  },
  {
   "cell_type": "code",
   "execution_count": null,
   "metadata": {
    "ExecuteTime": {
     "end_time": "2021-05-26T04:47:15.269665Z",
     "start_time": "2021-05-26T04:47:15.048284Z"
    },
    "scrolled": true
   },
   "outputs": [],
   "source": [
    "df_1.groupby('ISO').mean().plot(y='PM2.5', x='VEHC', kind='scatter')"
   ]
  },
  {
   "cell_type": "markdown",
   "metadata": {},
   "source": [
    "# End of draft"
   ]
  },
  {
   "cell_type": "code",
   "execution_count": null,
   "metadata": {
    "ExecuteTime": {
     "end_time": "2021-05-24T05:11:20.553977Z",
     "start_time": "2021-05-24T05:11:20.508298Z"
    }
   },
   "outputs": [],
   "source": [
    "for name, series in data_dict.items():\n",
    "    series.to_csv(f'data/VEHC/{name}.csv')"
   ]
  },
  {
   "cell_type": "code",
   "execution_count": null,
   "metadata": {
    "ExecuteTime": {
     "end_time": "2021-05-24T04:56:26.484212Z",
     "start_time": "2021-05-24T04:56:26.315620Z"
    }
   },
   "outputs": [],
   "source": [
    "from ggmodel_dev.projection import *\n",
    "import plotly.express as px"
   ]
  },
  {
   "cell_type": "code",
   "execution_count": null,
   "metadata": {
    "ExecuteTime": {
     "end_time": "2021-05-24T04:59:02.568067Z",
     "start_time": "2021-05-24T04:59:02.563927Z"
    }
   },
   "outputs": [],
   "source": [
    "\n",
    "model_dictionnary = {\n",
    "    'VEHC_model': model\n",
    "}\n"
   ]
  },
  {
   "cell_type": "code",
   "execution_count": null,
   "metadata": {
    "ExecuteTime": {
     "end_time": "2021-05-24T05:23:00.150136Z",
     "start_time": "2021-05-24T05:23:00.141450Z"
    }
   },
   "outputs": [],
   "source": [
    "def run_scenario(data_dict, MAX_sat=1000, GDPC_rate=1.05):\n",
    "    \n",
    "    data_dict = data_dict.copy()\n",
    "    \n",
    "    print(data_dict['MAX_sat'])\n",
    "\n",
    "    data_dict['MAX_sat'] = pd.Series(data=data_dict['MAX_sat'].values[0], index=data_dict['GDPC'].index, name='MAX_sat')\n",
    "    \n",
    "\n",
    "    scenario_projection_dict = {\n",
    "        'MAX_sat': lambda x: apply_target_projection(x, MAX_sat),\n",
    "        'GDPC': lambda x: apply_annual_rate_projection(x, GDPC_rate),\n",
    "    }\n",
    "    \n",
    "    data_dict = run_projection(scenario_projection_dict, data_dict)\n",
    "\n",
    "    results = model_dictionnary['VEHC_model'].run(data_dict)\n",
    "\n",
    "    return  results     \n",
    "    \n"
   ]
  },
  {
   "cell_type": "code",
   "execution_count": null,
   "metadata": {
    "ExecuteTime": {
     "end_time": "2021-05-24T05:23:00.359727Z",
     "start_time": "2021-05-24T05:23:00.352111Z"
    }
   },
   "outputs": [],
   "source": [
    "def run_all_scenarios_VEHC(data_dict, ISO, args_dict_1, args_dict_2):\n",
    "    scenarios_results = {}\n",
    "    data_dict = {k: v.loc[[ISO]] for k, v in data_dict.items()}\n",
    "    \n",
    "    \n",
    "    scenarios_results['BAU'] = run_scenario(data_dict, MAX_sat=data_dict['MAX_sat'], GDPC_rate=1.02)\n",
    "    scenarios_results['scenario_one'] = run_scenario(data_dict, **args_dict_1)\n",
    "    scenarios_results['scenario_two'] = run_scenario(data_dict,**args_dict_2)\n",
    "    \n",
    "    return scenarios_results\n"
   ]
  },
  {
   "cell_type": "code",
   "execution_count": null,
   "metadata": {
    "ExecuteTime": {
     "end_time": "2021-05-24T05:23:15.448765Z",
     "start_time": "2021-05-24T05:23:15.380381Z"
    }
   },
   "outputs": [],
   "source": [
    "run_all_scenarios_VEHC(data_dict, 'FRA', {'GDPC_rate': 1.05, 'MAX_sat':500}, {'GDPC_rate': 1.05, 'MAX_sat':700})['scenario_one']"
   ]
  },
  {
   "cell_type": "code",
   "execution_count": null,
   "metadata": {},
   "outputs": [],
   "source": []
  },
  {
   "cell_type": "code",
   "execution_count": null,
   "metadata": {},
   "outputs": [],
   "source": []
  }
 ],
 "metadata": {
  "kernelspec": {
   "display_name": "Python 3",
   "language": "python",
   "name": "python3"
  },
  "language_info": {
   "codemirror_mode": {
    "name": "ipython",
    "version": 3
   },
   "file_extension": ".py",
   "mimetype": "text/x-python",
   "name": "python",
   "nbconvert_exporter": "python",
   "pygments_lexer": "ipython3",
   "version": "3.7.7"
  }
 },
 "nbformat": 4,
 "nbformat_minor": 4
}
