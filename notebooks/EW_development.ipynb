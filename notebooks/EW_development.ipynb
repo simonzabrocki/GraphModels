{
 "cells": [
  {
   "cell_type": "code",
   "execution_count": 1,
   "metadata": {
    "ExecuteTime": {
     "end_time": "2021-08-03T07:22:49.859124Z",
     "start_time": "2021-08-03T07:22:49.853208Z"
    }
   },
   "outputs": [],
   "source": [
    "import os\n",
    "path_parent = os.path.dirname(os.getcwd())\n",
    "os.chdir(path_parent)"
   ]
  },
  {
   "cell_type": "markdown",
   "metadata": {},
   "source": [
    "# Water model development\n",
    "\n",
    "The goal of this notebook is develop and improve the water model."
   ]
  },
  {
   "cell_type": "markdown",
   "metadata": {},
   "source": [
    "## Data"
   ]
  },
  {
   "cell_type": "code",
   "execution_count": 16,
   "metadata": {
    "ExecuteTime": {
     "end_time": "2021-08-03T07:33:11.492410Z",
     "start_time": "2021-08-03T07:32:48.271776Z"
    }
   },
   "outputs": [],
   "source": [
    "from data_utils.database import select_dataset\n",
    "import pandas as pd\n",
    "import numpy as np\n",
    "import seaborn as sns\n",
    "import matplotlib.pyplot as plt \n",
    "import plotly.express as px\n",
    "\n",
    "from data_utils.utils import data_dict_from_df_tables, get_X_y_from_data\n",
    "from ggmodel_dev.validation import score_model_dictionnary, score_model, plot_diagnostic, make_baseline_computation_df, agg_score_by, model_validation_pipeline, export_to_xls\n",
    "from ggmodel_dev.models.water.EW import model_dictionnary\n",
    "\n",
    "plt.style.use('ggplot')\n",
    "\n",
    "def prepare_water_model_data():\n",
    "\n",
    "    # Select dataset\n",
    "    df_tables = [\"aquastat\", 'worldbank', 'evapotranspiration', 'cropcalendar', 'efficientwater', 'sarahcrops']\n",
    "\n",
    "    df_dictionnary = {df_table: select_dataset(df_table) for df_table in df_tables}\n",
    "\n",
    "    # Preprocess some datasets\n",
    "    df_dictionnary['cropcalendar'] = df_dictionnary['cropcalendar'].drop(columns=['Year'])\n",
    "    df_dictionnary['aquastat'] = df_dictionnary['aquastat'][~df_dictionnary['aquastat'].Variable.isin(['CI', 'TC', 'ICA', 'AIR'])]\n",
    "    df_dictionnary['sarahcrops'] = df_dictionnary['sarahcrops'][~df_dictionnary['sarahcrops'].Variable.isin(['ICA', 'CI'])]\n",
    "\n",
    "\n",
    "    # Convert to model readable datadict\n",
    "    data_dict = data_dict_from_df_tables([df for _, df in df_dictionnary.items()])\n",
    "\n",
    "    ISOs = df_dictionnary['aquastat'].ISO.unique()\n",
    "    \n",
    "    # Impute missing values\n",
    "    def preprocess_dict_item(key, value):\n",
    "        mux = pd.MultiIndex.from_product([ISOs, range(2000, 2020)],\n",
    "                                     names=['ISO', 'Year'])\n",
    "\n",
    "        if key in ['ICA', 'Kc']:\n",
    "            return value\n",
    "        else:\n",
    "            return (\n",
    "                  value.reindex(mux)\n",
    "                      .groupby(level='ISO')\n",
    "                      .fillna(method='ffill')\n",
    "                      .groupby(level='ISO')\n",
    "                      .fillna(method='bfill')\n",
    "                      .fillna(0))\n",
    "\n",
    "\n",
    "    data_dict = {k: preprocess_dict_item(k, v).sort_index() for k, v in data_dict.items()} # comment here for raw data\n",
    "\n",
    "    return data_dict\n",
    "\n",
    "data_dict = prepare_water_model_data()"
   ]
  },
  {
   "cell_type": "markdown",
   "metadata": {},
   "source": [
    "## Model"
   ]
  },
  {
   "cell_type": "code",
   "execution_count": 17,
   "metadata": {
    "ExecuteTime": {
     "end_time": "2021-08-03T07:33:23.058772Z",
     "start_time": "2021-08-03T07:33:11.494678Z"
    }
   },
   "outputs": [
    {
     "name": "stdout",
     "output_type": "stream",
     "text": [
      "IWW_model: Done\n",
      "EW1_partial_model: Done\n",
      "EW2_partial_model: Done\n",
      "EW1_model: "
     ]
    },
    {
     "name": "stderr",
     "output_type": "stream",
     "text": [
      "/home/simon/anaconda3/lib/python3.7/site-packages/pandas/core/arraylike.py:358: RuntimeWarning: divide by zero encountered in log\n",
      "  result = getattr(ufunc, method)(*inputs, **kwargs)\n"
     ]
    },
    {
     "name": "stdout",
     "output_type": "stream",
     "text": [
      "Done\n",
      "EW2_model: "
     ]
    },
    {
     "name": "stderr",
     "output_type": "stream",
     "text": [
      "/home/simon/anaconda3/lib/python3.7/site-packages/pandas/core/arraylike.py:358: RuntimeWarning: divide by zero encountered in log\n",
      "  result = getattr(ufunc, method)(*inputs, **kwargs)\n"
     ]
    },
    {
     "name": "stdout",
     "output_type": "stream",
     "text": [
      "Done\n",
      "EW_model: "
     ]
    },
    {
     "name": "stderr",
     "output_type": "stream",
     "text": [
      "/home/simon/anaconda3/lib/python3.7/site-packages/pandas/core/arraylike.py:358: RuntimeWarning: divide by zero encountered in log\n",
      "  result = getattr(ufunc, method)(*inputs, **kwargs)\n"
     ]
    },
    {
     "name": "stdout",
     "output_type": "stream",
     "text": [
      "Done\n"
     ]
    }
   ],
   "source": [
    "scores = score_model_dictionnary(model_dictionnary, data_dict)"
   ]
  },
  {
   "cell_type": "code",
   "execution_count": 18,
   "metadata": {
    "ExecuteTime": {
     "end_time": "2021-08-03T07:33:23.086499Z",
     "start_time": "2021-08-03T07:33:23.062295Z"
    }
   },
   "outputs": [
    {
     "data": {
      "text/html": [
       "<div>\n",
       "<style scoped>\n",
       "    .dataframe tbody tr th:only-of-type {\n",
       "        vertical-align: middle;\n",
       "    }\n",
       "\n",
       "    .dataframe tbody tr th {\n",
       "        vertical-align: top;\n",
       "    }\n",
       "\n",
       "    .dataframe thead th {\n",
       "        text-align: right;\n",
       "    }\n",
       "</style>\n",
       "<table border=\"1\" class=\"dataframe\">\n",
       "  <thead>\n",
       "    <tr style=\"text-align: right;\">\n",
       "      <th></th>\n",
       "      <th>r2</th>\n",
       "      <th>correlation</th>\n",
       "      <th>rmse</th>\n",
       "    </tr>\n",
       "    <tr>\n",
       "      <th>Variable</th>\n",
       "      <th></th>\n",
       "      <th></th>\n",
       "      <th></th>\n",
       "    </tr>\n",
       "  </thead>\n",
       "  <tbody>\n",
       "    <tr>\n",
       "      <th>AWU</th>\n",
       "      <td>0.625183</td>\n",
       "      <td>0.930965</td>\n",
       "      <td>193.370224</td>\n",
       "    </tr>\n",
       "    <tr>\n",
       "      <th>EW1</th>\n",
       "      <td>0.740937</td>\n",
       "      <td>0.861138</td>\n",
       "      <td>936.434440</td>\n",
       "    </tr>\n",
       "    <tr>\n",
       "      <th>IWR</th>\n",
       "      <td>0.673832</td>\n",
       "      <td>0.959427</td>\n",
       "      <td>49.031668</td>\n",
       "    </tr>\n",
       "    <tr>\n",
       "      <th>IWW</th>\n",
       "      <td>-0.137856</td>\n",
       "      <td>0.345620</td>\n",
       "      <td>194.301120</td>\n",
       "    </tr>\n",
       "    <tr>\n",
       "      <th>MWU</th>\n",
       "      <td>0.868027</td>\n",
       "      <td>0.937411</td>\n",
       "      <td>0.966363</td>\n",
       "    </tr>\n",
       "    <tr>\n",
       "      <th>TWW</th>\n",
       "      <td>0.710469</td>\n",
       "      <td>0.939063</td>\n",
       "      <td>209.341169</td>\n",
       "    </tr>\n",
       "  </tbody>\n",
       "</table>\n",
       "</div>"
      ],
      "text/plain": [
       "                r2  correlation        rmse\n",
       "Variable                                   \n",
       "AWU       0.625183     0.930965  193.370224\n",
       "EW1       0.740937     0.861138  936.434440\n",
       "IWR       0.673832     0.959427   49.031668\n",
       "IWW      -0.137856     0.345620  194.301120\n",
       "MWU       0.868027     0.937411    0.966363\n",
       "TWW       0.710469     0.939063  209.341169"
      ]
     },
     "execution_count": 18,
     "metadata": {},
     "output_type": "execute_result"
    }
   ],
   "source": [
    "scores['EW1_model']['score_by_Variable']"
   ]
  },
  {
   "cell_type": "code",
   "execution_count": 19,
   "metadata": {
    "ExecuteTime": {
     "end_time": "2021-08-03T07:33:23.105479Z",
     "start_time": "2021-08-03T07:33:23.089541Z"
    }
   },
   "outputs": [
    {
     "data": {
      "text/html": [
       "<div>\n",
       "<style scoped>\n",
       "    .dataframe tbody tr th:only-of-type {\n",
       "        vertical-align: middle;\n",
       "    }\n",
       "\n",
       "    .dataframe tbody tr th {\n",
       "        vertical-align: top;\n",
       "    }\n",
       "\n",
       "    .dataframe thead th {\n",
       "        text-align: right;\n",
       "    }\n",
       "</style>\n",
       "<table border=\"1\" class=\"dataframe\">\n",
       "  <thead>\n",
       "    <tr style=\"text-align: right;\">\n",
       "      <th></th>\n",
       "      <th>r2</th>\n",
       "      <th>correlation</th>\n",
       "      <th>rmse</th>\n",
       "    </tr>\n",
       "    <tr>\n",
       "      <th>Variable</th>\n",
       "      <th></th>\n",
       "      <th></th>\n",
       "      <th></th>\n",
       "    </tr>\n",
       "  </thead>\n",
       "  <tbody>\n",
       "    <tr>\n",
       "      <th>AWU</th>\n",
       "      <td>0.194690</td>\n",
       "      <td>0.876024</td>\n",
       "      <td>0.264556</td>\n",
       "    </tr>\n",
       "    <tr>\n",
       "      <th>EW1</th>\n",
       "      <td>0.781499</td>\n",
       "      <td>0.933875</td>\n",
       "      <td>21.235475</td>\n",
       "    </tr>\n",
       "    <tr>\n",
       "      <th>IWR</th>\n",
       "      <td>0.000000</td>\n",
       "      <td>NaN</td>\n",
       "      <td>0.041338</td>\n",
       "    </tr>\n",
       "    <tr>\n",
       "      <th>IWW</th>\n",
       "      <td>-0.525679</td>\n",
       "      <td>0.852289</td>\n",
       "      <td>1.015427</td>\n",
       "    </tr>\n",
       "    <tr>\n",
       "      <th>MWU</th>\n",
       "      <td>-71.326984</td>\n",
       "      <td>-0.932439</td>\n",
       "      <td>6.800026</td>\n",
       "    </tr>\n",
       "    <tr>\n",
       "      <th>TWW</th>\n",
       "      <td>-0.819952</td>\n",
       "      <td>0.971560</td>\n",
       "      <td>10.611801</td>\n",
       "    </tr>\n",
       "  </tbody>\n",
       "</table>\n",
       "</div>"
      ],
      "text/plain": [
       "                 r2  correlation       rmse\n",
       "Variable                                   \n",
       "AWU        0.194690     0.876024   0.264556\n",
       "EW1        0.781499     0.933875  21.235475\n",
       "IWR        0.000000          NaN   0.041338\n",
       "IWW       -0.525679     0.852289   1.015427\n",
       "MWU      -71.326984    -0.932439   6.800026\n",
       "TWW       -0.819952     0.971560  10.611801"
      ]
     },
     "execution_count": 19,
     "metadata": {},
     "output_type": "execute_result"
    }
   ],
   "source": [
    "scores['EW1_model']['score_by_ISO_Variable'].loc['FRA']"
   ]
  },
  {
   "cell_type": "code",
   "execution_count": 20,
   "metadata": {
    "ExecuteTime": {
     "end_time": "2021-08-03T07:33:39.223719Z",
     "start_time": "2021-08-03T07:33:23.108633Z"
    }
   },
   "outputs": [
    {
     "name": "stderr",
     "output_type": "stream",
     "text": [
      "/home/simon/anaconda3/lib/python3.7/site-packages/pandas/core/arraylike.py:358: RuntimeWarning: divide by zero encountered in log\n",
      "  result = getattr(ufunc, method)(*inputs, **kwargs)\n",
      "/home/simon/anaconda3/lib/python3.7/site-packages/pandas/core/arraylike.py:358: RuntimeWarning: divide by zero encountered in log\n",
      "  result = getattr(ufunc, method)(*inputs, **kwargs)\n"
     ]
    }
   ],
   "source": [
    "result_dfs = model_validation_pipeline(model_dictionnary['EW_model'], data_dict)\n",
    "export_to_xls(result_dfs, 'data/EW_model.xlsx')"
   ]
  },
  {
   "cell_type": "code",
   "execution_count": 21,
   "metadata": {
    "ExecuteTime": {
     "end_time": "2021-08-03T07:33:39.541139Z",
     "start_time": "2021-08-03T07:33:39.225632Z"
    }
   },
   "outputs": [],
   "source": [
    "for name, series in data_dict.items():\n",
    "    series.to_csv(f'data/EW/{name}.csv')"
   ]
  },
  {
   "cell_type": "markdown",
   "metadata": {},
   "source": [
    "## Scenario"
   ]
  },
  {
   "cell_type": "code",
   "execution_count": 22,
   "metadata": {
    "ExecuteTime": {
     "end_time": "2021-08-03T07:33:39.872339Z",
     "start_time": "2021-08-03T07:33:39.543379Z"
    }
   },
   "outputs": [
    {
     "name": "stderr",
     "output_type": "stream",
     "text": [
      "/home/simon/anaconda3/lib/python3.7/site-packages/statsmodels/tsa/holtwinters/model.py:429: FutureWarning: After 0.13 initialization must be handled at model creation\n",
      "  FutureWarning,\n",
      "/home/simon/anaconda3/lib/python3.7/site-packages/statsmodels/tsa/holtwinters/model.py:922: ConvergenceWarning: Optimization failed to converge. Check mle_retvals.\n",
      "  ConvergenceWarning,\n",
      "/home/simon/anaconda3/lib/python3.7/site-packages/statsmodels/tsa/holtwinters/model.py:922: ConvergenceWarning: Optimization failed to converge. Check mle_retvals.\n",
      "  ConvergenceWarning,\n",
      "/home/simon/anaconda3/lib/python3.7/site-packages/statsmodels/tsa/holtwinters/model.py:922: ConvergenceWarning: Optimization failed to converge. Check mle_retvals.\n",
      "  ConvergenceWarning,\n",
      "/home/simon/anaconda3/lib/python3.7/site-packages/statsmodels/tsa/holtwinters/model.py:922: ConvergenceWarning: Optimization failed to converge. Check mle_retvals.\n",
      "  ConvergenceWarning,\n"
     ]
    }
   ],
   "source": [
    "from ggmodel_dev.models.water import EW_scenario \n",
    "from ggmodel_dev.projection import run_scenario_list \n",
    "\n",
    "ISO_data_dict = {k: v.loc[['FRA'], :] for k, v in data_dict.items()}\n",
    "\n",
    "list_of_scenarios = [dict(WP_rate=1.05, WRR_rate=1.01),\n",
    "                     dict(WP_rate=1.1, WRR_rate=1.01),\n",
    "                     dict(WP_rate=0.9, WRR_rate=1.01)]\n",
    "\n",
    "simulation_results = run_scenario_list(scenario_function=EW_scenario.run_scenario,\n",
    "                                       list_of_scenarios=list_of_scenarios,\n",
    "                                       projection_dictionnary=EW_scenario.projection_dict,\n",
    "                                       data_dict=ISO_data_dict\n",
    "                                      )"
   ]
  },
  {
   "cell_type": "code",
   "execution_count": 23,
   "metadata": {
    "ExecuteTime": {
     "end_time": "2021-08-03T07:33:40.106807Z",
     "start_time": "2021-08-03T07:33:39.875510Z"
    }
   },
   "outputs": [
    {
     "data": {
      "text/plain": [
       "[<matplotlib.lines.Line2D at 0x7fedc6915110>]"
      ]
     },
     "execution_count": 23,
     "metadata": {},
     "output_type": "execute_result"
    },
    {
     "data": {
      "image/png": "[encoded data removed]",
      "text/plain": [
       "<Figure size 432x288 with 1 Axes>"
      ]
     },
     "metadata": {},
     "output_type": "display_data"
    }
   ],
   "source": [
    "plt.plot(simulation_results['scenario_0']['EW1'].values)\n",
    "plt.plot(simulation_results['scenario_1']['EW1'].values)\n",
    "plt.plot(simulation_results['scenario_2']['EW1'].values)"
   ]
  }
 ],
 "metadata": {
  "kernelspec": {
   "display_name": "Python 3",
   "language": "python",
   "name": "python3"
  },
  "language_info": {
   "codemirror_mode": {
    "name": "ipython",
    "version": 3
   },
   "file_extension": ".py",
   "mimetype": "text/x-python",
   "name": "python",
   "nbconvert_exporter": "python",
   "pygments_lexer": "ipython3",
   "version": "3.7.7"
  }
 },
 "nbformat": 4,
 "nbformat_minor": 4
}
