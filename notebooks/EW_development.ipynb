{
 "cells": [
  {
   "cell_type": "code",
   "execution_count": 1,
   "metadata": {
    "ExecuteTime": {
     "end_time": "2021-05-04T01:56:01.407378Z",
     "start_time": "2021-05-04T01:56:01.402753Z"
    }
   },
   "outputs": [],
   "source": [
    "import os\n",
    "path_parent = os.path.dirname(os.getcwd())\n",
    "os.chdir(path_parent)"
   ]
  },
  {
   "cell_type": "markdown",
   "metadata": {},
   "source": [
    "# Water model development\n",
    "\n",
    "The goal of this notebook is develop and improve the water model."
   ]
  },
  {
   "cell_type": "markdown",
   "metadata": {},
   "source": [
    "## Data"
   ]
  },
  {
   "cell_type": "code",
   "execution_count": 2,
   "metadata": {
    "ExecuteTime": {
     "end_time": "2021-05-04T01:56:13.125393Z",
     "start_time": "2021-05-04T01:56:03.293155Z"
    }
   },
   "outputs": [],
   "source": [
    "from data_utils.database import select_dataset\n",
    "import pandas as pd\n",
    "import numpy as np\n",
    "import seaborn as sns\n",
    "import matplotlib.pyplot as plt \n",
    "import plotly.express as px\n",
    "\n",
    "from data_utils.utils import data_dict_from_df_tables, get_X_y_from_data\n",
    "from ggmodel_dev.validation import score_model_dictionnary, score_model, plot_diagnostic, make_baseline_computation_df, agg_score_by\n",
    "from ggmodel_dev.models.water.EW import model_dictionnary\n",
    "\n",
    "plt.style.use('ggplot')\n",
    "\n",
    "def prepare_water_model_data():\n",
    "\n",
    "    # Select dataset\n",
    "    df_tables = [\"aquastat\", 'worldbank', 'evapotranspiration', 'cropcalendar', 'efficientwater', 'sarahcrops']\n",
    "\n",
    "    df_dictionnary = {df_table: select_dataset(df_table) for df_table in df_tables}\n",
    "\n",
    "    # Preprocess some datasets\n",
    "    df_dictionnary['cropcalendar'] = df_dictionnary['cropcalendar'].drop(columns=['Year'])\n",
    "    df_dictionnary['aquastat'] = df_dictionnary['aquastat'][~df_dictionnary['aquastat'].Variable.isin(['CI', 'TC', 'ICA', 'AIR'])]\n",
    "    df_dictionnary['sarahcrops'] = df_dictionnary['sarahcrops'][~df_dictionnary['sarahcrops'].Variable.isin(['ICA', 'CI'])]\n",
    "\n",
    "\n",
    "    # Convert to model readable datadict\n",
    "    data_dict = data_dict_from_df_tables([df for _, df in df_dictionnary.items()])\n",
    "\n",
    "    ISOs = df_dictionnary['aquastat'].ISO.unique()\n",
    "    \n",
    "    # Impute missing values\n",
    "    def preprocess_dict_item(key, value):\n",
    "        mux = pd.MultiIndex.from_product([ISOs, range(2000, 2020)],\n",
    "                                     names=['ISO', 'Year'])\n",
    "\n",
    "        if key in ['ICA', 'Kc']:\n",
    "            return value\n",
    "        else:\n",
    "            return (\n",
    "                  value.reindex(mux)\n",
    "                      .groupby(level='ISO')\n",
    "                      .fillna(method='ffill')\n",
    "                      .groupby(level='ISO')\n",
    "                      .fillna(method='bfill')\n",
    "                      .fillna(0))\n",
    "\n",
    "\n",
    "    data_dict = {k: preprocess_dict_item(k, v).sort_index() for k, v in data_dict.items()} # comment here for raw data\n",
    "\n",
    "    return data_dict\n",
    "\n",
    "data_dict = prepare_water_model_data()"
   ]
  },
  {
   "cell_type": "markdown",
   "metadata": {},
   "source": [
    "## Model"
   ]
  },
  {
   "cell_type": "code",
   "execution_count": 3,
   "metadata": {
    "ExecuteTime": {
     "end_time": "2021-05-04T01:56:20.357881Z",
     "start_time": "2021-05-04T01:56:13.127148Z"
    }
   },
   "outputs": [
    {
     "name": "stdout",
     "output_type": "stream",
     "text": [
      "IWW_model: Done\n",
      "EW1_partial_model: Done\n",
      "EW2_partial_model: Done\n",
      "EW1_model: "
     ]
    },
    {
     "name": "stderr",
     "output_type": "stream",
     "text": [
      "/home/simon/anaconda3/lib/python3.7/site-packages/pandas/core/arraylike.py:358: RuntimeWarning: divide by zero encountered in log\n",
      "  result = getattr(ufunc, method)(*inputs, **kwargs)\n"
     ]
    },
    {
     "name": "stdout",
     "output_type": "stream",
     "text": [
      "Done\n",
      "EW2_model: "
     ]
    },
    {
     "name": "stderr",
     "output_type": "stream",
     "text": [
      "/home/simon/anaconda3/lib/python3.7/site-packages/pandas/core/arraylike.py:358: RuntimeWarning: divide by zero encountered in log\n",
      "  result = getattr(ufunc, method)(*inputs, **kwargs)\n"
     ]
    },
    {
     "name": "stdout",
     "output_type": "stream",
     "text": [
      "Done\n",
      "EW_model: "
     ]
    },
    {
     "name": "stderr",
     "output_type": "stream",
     "text": [
      "/home/simon/anaconda3/lib/python3.7/site-packages/pandas/core/arraylike.py:358: RuntimeWarning: divide by zero encountered in log\n",
      "  result = getattr(ufunc, method)(*inputs, **kwargs)\n"
     ]
    },
    {
     "name": "stdout",
     "output_type": "stream",
     "text": [
      "Done\n"
     ]
    }
   ],
   "source": [
    "scores = score_model_dictionnary(model_dictionnary, data_dict)"
   ]
  },
  {
   "cell_type": "code",
   "execution_count": 4,
   "metadata": {
    "ExecuteTime": {
     "end_time": "2021-05-04T01:56:20.372128Z",
     "start_time": "2021-05-04T01:56:20.359574Z"
    }
   },
   "outputs": [
    {
     "data": {
      "text/html": [
       "<div>\n",
       "<style scoped>\n",
       "    .dataframe tbody tr th:only-of-type {\n",
       "        vertical-align: middle;\n",
       "    }\n",
       "\n",
       "    .dataframe tbody tr th {\n",
       "        vertical-align: top;\n",
       "    }\n",
       "\n",
       "    .dataframe thead th {\n",
       "        text-align: right;\n",
       "    }\n",
       "</style>\n",
       "<table border=\"1\" class=\"dataframe\">\n",
       "  <thead>\n",
       "    <tr style=\"text-align: right;\">\n",
       "      <th></th>\n",
       "      <th>r2</th>\n",
       "      <th>correlation</th>\n",
       "      <th>rmse</th>\n",
       "    </tr>\n",
       "    <tr>\n",
       "      <th>Variable</th>\n",
       "      <th></th>\n",
       "      <th></th>\n",
       "      <th></th>\n",
       "    </tr>\n",
       "  </thead>\n",
       "  <tbody>\n",
       "    <tr>\n",
       "      <th>AWU</th>\n",
       "      <td>0.194690</td>\n",
       "      <td>0.876024</td>\n",
       "      <td>0.264556</td>\n",
       "    </tr>\n",
       "    <tr>\n",
       "      <th>EW1</th>\n",
       "      <td>0.781368</td>\n",
       "      <td>0.933816</td>\n",
       "      <td>21.248151</td>\n",
       "    </tr>\n",
       "    <tr>\n",
       "      <th>IWR</th>\n",
       "      <td>0.000000</td>\n",
       "      <td>NaN</td>\n",
       "      <td>0.041338</td>\n",
       "    </tr>\n",
       "    <tr>\n",
       "      <th>IWW</th>\n",
       "      <td>-0.525679</td>\n",
       "      <td>0.852289</td>\n",
       "      <td>1.015427</td>\n",
       "    </tr>\n",
       "    <tr>\n",
       "      <th>MWU</th>\n",
       "      <td>-71.252074</td>\n",
       "      <td>-0.932467</td>\n",
       "      <td>6.792983</td>\n",
       "    </tr>\n",
       "    <tr>\n",
       "      <th>TWW</th>\n",
       "      <td>-0.818534</td>\n",
       "      <td>0.971496</td>\n",
       "      <td>10.603534</td>\n",
       "    </tr>\n",
       "  </tbody>\n",
       "</table>\n",
       "</div>"
      ],
      "text/plain": [
       "                 r2  correlation       rmse\n",
       "Variable                                   \n",
       "AWU        0.194690     0.876024   0.264556\n",
       "EW1        0.781368     0.933816  21.248151\n",
       "IWR        0.000000          NaN   0.041338\n",
       "IWW       -0.525679     0.852289   1.015427\n",
       "MWU      -71.252074    -0.932467   6.792983\n",
       "TWW       -0.818534     0.971496  10.603534"
      ]
     },
     "execution_count": 4,
     "metadata": {},
     "output_type": "execute_result"
    }
   ],
   "source": [
    "scores['EW1_model']['score_by_ISO_Variable'].loc['FRA']"
   ]
  },
  {
   "cell_type": "markdown",
   "metadata": {},
   "source": [
    "## Scenario"
   ]
  },
  {
   "cell_type": "code",
   "execution_count": 10,
   "metadata": {
    "ExecuteTime": {
     "end_time": "2021-05-04T01:59:46.615736Z",
     "start_time": "2021-05-04T01:59:46.407736Z"
    }
   },
   "outputs": [
    {
     "name": "stderr",
     "output_type": "stream",
     "text": [
      "/home/simon/anaconda3/lib/python3.7/site-packages/statsmodels/tsa/holtwinters/model.py:922: ConvergenceWarning: Optimization failed to converge. Check mle_retvals.\n",
      "  ConvergenceWarning,\n",
      "/home/simon/anaconda3/lib/python3.7/site-packages/statsmodels/tsa/holtwinters/model.py:922: ConvergenceWarning: Optimization failed to converge. Check mle_retvals.\n",
      "  ConvergenceWarning,\n",
      "/home/simon/anaconda3/lib/python3.7/site-packages/statsmodels/tsa/holtwinters/model.py:922: ConvergenceWarning: Optimization failed to converge. Check mle_retvals.\n",
      "  ConvergenceWarning,\n",
      "/home/simon/anaconda3/lib/python3.7/site-packages/statsmodels/tsa/holtwinters/model.py:922: ConvergenceWarning: Optimization failed to converge. Check mle_retvals.\n",
      "  ConvergenceWarning,\n"
     ]
    }
   ],
   "source": [
    "from ggmodel_dev.models.water import EW_scenario \n",
    "from ggmodel_dev.projection import run_scenario_list \n",
    "\n",
    "ISO_data_dict = {k: v.loc[['FRA'], :] for k, v in data_dict.items()}\n",
    "\n",
    "list_of_scenarios = [dict(WP_rate=1.05, WRR_rate=1.01),\n",
    "                     dict(WP_rate=1.1, WRR_rate=1.01),\n",
    "                     dict(WP_rate=0.9, WRR_rate=1.01)]\n",
    "\n",
    "simulation_results = run_scenario_list(scenario_function=EW_scenario.run_scenario,\n",
    "                                       list_of_scenarios=list_of_scenarios,\n",
    "                                       projection_dictionnary=EW_scenario.projection_dict,\n",
    "                                       data_dict=ISO_data_dict\n",
    "                                      )"
   ]
  },
  {
   "cell_type": "code",
   "execution_count": 13,
   "metadata": {
    "ExecuteTime": {
     "end_time": "2021-05-04T02:00:01.527216Z",
     "start_time": "2021-05-04T02:00:01.378075Z"
    }
   },
   "outputs": [
    {
     "data": {
      "text/plain": [
       "[<matplotlib.lines.Line2D at 0x7f5e56bb0b90>]"
      ]
     },
     "execution_count": 13,
     "metadata": {},
     "output_type": "execute_result"
    },
    {
     "data": {
      "image/png": "[encoded data removed]",
      "text/plain": [
       "<Figure size 432x288 with 1 Axes>"
      ]
     },
     "metadata": {},
     "output_type": "display_data"
    }
   ],
   "source": [
    "plt.plot(simulation_results['scenario_0']['EW1'].values)\n",
    "plt.plot(simulation_results['scenario_1']['EW1'].values)\n",
    "plt.plot(simulation_results['scenario_2']['EW1'].values)"
   ]
  },
  {
   "cell_type": "code",
   "execution_count": null,
   "metadata": {},
   "outputs": [],
   "source": []
  }
 ],
 "metadata": {
  "kernelspec": {
   "display_name": "Python 3",
   "language": "python",
   "name": "python3"
  },
  "language_info": {
   "codemirror_mode": {
    "name": "ipython",
    "version": 3
   },
   "file_extension": ".py",
   "mimetype": "text/x-python",
   "name": "python",
   "nbconvert_exporter": "python",
   "pygments_lexer": "ipython3",
   "version": "3.7.7"
  }
 },
 "nbformat": 4,
 "nbformat_minor": 4
}
