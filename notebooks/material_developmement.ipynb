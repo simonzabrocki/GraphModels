{
 "cells": [
  {
   "cell_type": "code",
   "execution_count": 1,
   "metadata": {},
   "outputs": [],
   "source": [
    "import os\n",
    "path_parent = os.path.dirname(os.getcwd())\n",
    "os.chdir(path_parent)"
   ]
  },
  {
   "cell_type": "markdown",
   "metadata": {},
   "source": [
    "# Material Model\n",
    "\n",
    "The goal of this notebook is to improve the material model"
   ]
  },
  {
   "cell_type": "code",
   "execution_count": 2,
   "metadata": {
    "ExecuteTime": {
     "end_time": "2021-04-20T08:18:29.195542Z",
     "start_time": "2021-04-20T08:18:29.190991Z"
    }
   },
   "outputs": [],
   "source": [
    "from graphmodels.graphmodel import GraphModel, converte_to_format, concatenate_graph_specs\n",
    "from graphmodels.validation import score_model, plot_diagnostic, plot_baseline_vs_computation\n",
    "from graphmodels.data_utils import data_dict_from_db, get_X_y_from_data"
   ]
  },
  {
   "cell_type": "code",
   "execution_count": 15,
   "metadata": {
    "ExecuteTime": {
     "end_time": "2021-04-20T08:18:29.425908Z",
     "start_time": "2021-04-20T08:18:29.399985Z"
    }
   },
   "outputs": [],
   "source": [
    "Waste_nodes = {'PCS': {'type': 'parameter',\n",
    "                       'name': 'Physical Capital Stock',\n",
    "                       'unit': '$'},\n",
    "               'DCGS': {'type': 'parameter',\n",
    "                        'name': 'Durable Consumption Good Stock',\n",
    "                        'unit': '$'},\n",
    "               'RC': {'type': 'parameter',\n",
    "                      'name': 'Rate of Capital Depreciation',\n",
    "                      'unit': '%'},\n",
    "               'PDCG': {'type': 'parameter',\n",
    "                        'name': 'Proportion of Durable Consumption Goods Discarded',\n",
    "                        'unit': '1'},\n",
    "               'DSES': {'type': 'variable',\n",
    "                        'name': 'Discarded Socio-Economic Stock',\n",
    "                        'unit': 'tonnes',\n",
    "                        'computation': lambda ME1, RC, PCS, PDCG, DCGS, **kwargs: ME1 * (RC * PCS + PDCG * DCGS)\n",
    "                        },\n",
    "               'RR': {'type': 'input', 'name': 'Recycling Ratio', 'unit': '1'},\n",
    "               'WASTE': {'type': 'output',\n",
    "                         'name': 'Waste Generated',\n",
    "                         'unit': 'tonnes',\n",
    "                         'computation': lambda DSES, RR, **kwargs: DSES * (1 - RR) # to be checked\n",
    "                         },\n",
    "               'ME1': {'type': 'input', 'name': 'DMC per GDP', 'unit': 'tonnes/$'}}\n",
    "\n",
    "\n",
    "VDMC_nodes = {'DEi': {'type': 'input',\n",
    "                     'name': 'Domestic Extraction per material',\n",
    "                     'unit': 'tonnes'},\n",
    "              'IMPi': {'type': 'input', 'name': 'Imports per material', 'unit': 'tonnes'},\n",
    "              'EXPi': {'type': 'input', 'name': 'Exports per material', 'unit': 'tonnes'},\n",
    "              'DMCi': {'type': 'output',\n",
    "                       'name': 'Domestic material consumption per material',\n",
    "                       'unit': 'tonnes',\n",
    "                       'computation': lambda DEi, IMPi, EXPi, **kwargs: DEi + IMPi - EXPi\n",
    "                       }\n",
    "              }\n",
    "\n",
    "ME2_nodes = {'MF': {'type': 'variable', 'name': 'Material footprint', 'unit': 'tonnes'},\n",
    "             'Pop': {'type': 'parameter', 'name': 'Population', 'unit': 'capita'},\n",
    "             'ME2': {'type': 'output',\n",
    "                     'name': 'MF per capita',\n",
    "                     'unit': 'tonnes/capita',\n",
    "                     'computation': lambda MF, Pop, **kwargs: MF / Pop\n",
    "                     }\n",
    "             }\n",
    "\n",
    "\n",
    "ME1_nodes = {'DMC': {'type': 'variable', 'name': 'Domestic material consumption', 'unit': 'tonnes'},\n",
    "             'GDP': {'type': 'parameter', 'name': 'Gross domestic product', 'unit': '$'},\n",
    "             'ME1': {'type': 'output',\n",
    "                     'name': 'DMC per GDP',\n",
    "                     'unit': 'tonnes/$',\n",
    "                     'computation': lambda DMC, GDP, **kwargs: DMC / GDP\n",
    "                    }\n",
    "            }\n",
    "\n",
    "\n",
    "JE_nodes = {'DMCi': {'type': 'variable', 'name': 'Domestic material consumption per material', 'unit': 'tonnes'},\n",
    "            'DMC': {'type': 'variable',\n",
    "                    'name': 'Domestic material consumption',\n",
    "                    'unit': 'tonnes',\n",
    "                    'computation': lambda DMCi, **kwargs: DMCi.sum() # add groupby iso year\n",
    "                   },\n",
    "            'MI': {'type': 'input',\n",
    "                   'name': 'Material Efficiency Improvement',\n",
    "                   'unit': '%'},\n",
    "            'RS': {'type': 'variable',\n",
    "                   'name': 'Resources Saved',\n",
    "                   'unit': 'tonnes',\n",
    "                   'computation': lambda MI, DMC, **kwargs: MI * DMC\n",
    "                  },\n",
    "            'MS': {'type': 'variable',\n",
    "                   'name': 'Share of Materials',\n",
    "                   'unit': '1',\n",
    "                   'computation': lambda DMCi, DMC, **kwargs: DMCi / DMC\n",
    "                  },\n",
    "            'APCi': {'type': 'parameter',\n",
    "                   'name': 'Average Price per commodity',\n",
    "                   'unit': '$/tonnes'},\n",
    "            'EPI': {'type': 'parameter',\n",
    "                   'name': 'Export Price Index',\n",
    "                   'unit': '1'},\n",
    "            'CMi': {'type': 'variable',\n",
    "                   'name': 'Cost per material',\n",
    "                   'unit': '$/tonnes',\n",
    "                   'computation': lambda APCi, EPI, **kwargs: APCi * EX\n",
    "                  },\n",
    "            'PMi': {'type': 'variable',\n",
    "                   'name': 'Price per unit of Materials',\n",
    "                   'unit': '$/tonnes',\n",
    "                   'computation': lambda MS, CMi, **kwargs: MS * CMi\n",
    "                  },\n",
    "            'TMS': {'type': 'variable',\n",
    "                    'name': 'Monetary Savings',\n",
    "                    'unit': '$',\n",
    "                    'computation': lambda PMi, RS, **kwargs: RS * PMi.sum() # to add group by year iso\n",
    "                   },\n",
    "            'AW': {'type': 'parameter', 'name': 'Average Wage', 'unit': '$'\n",
    "                  },\n",
    "            'JE': {'type': 'output',\n",
    "                   'name': 'Job Equivalents',\n",
    "                   'unit': '1',\n",
    "                   'computation': lambda TMS, AW, **kwargs: TMS / AW\n",
    "                  }\n",
    "           }\n"
   ]
  },
  {
   "cell_type": "markdown",
   "metadata": {},
   "source": [
    "# Info for database"
   ]
  },
  {
   "cell_type": "markdown",
   "metadata": {},
   "source": [
    "DEi: DE in Material flow\n",
    "IMPi: Imports in Material flow\n",
    "EXPi: Exports in Material flow\n",
    "MF: MF in Material flow\n",
    "DMCi: DMC in Material flow\n",
    "MI: Policy stuff not a data\n",
    "GDP: to get in world bank\n",
    "Pop: to get in world bank\n",
    "ME1: to check \n",
    "PCS: Capital stock at current PPPs Penn world dataset\n",
    "DCGS: To check (maybe OECD)\n",
    "RC: Average depreciation rate of the capital stock\t penn dataset\n",
    "PDCG: To check (maybe OECD)\n",
    "\n",
    "APCi: AP in IMF commodity\n",
    "EPI: EX in IMF commodity weight\n",
    "Average Wage: OECD wage"
   ]
  },
  {
   "cell_type": "markdown",
   "metadata": {},
   "source": [
    "Energy -> fossil fuels\n",
    "Agricultural raw materials + food beverages -> Biomass\n",
    "metals -> ores\n",
    "fertilizer -> non metallic minerals"
   ]
  },
  {
   "cell_type": "code",
   "execution_count": 16,
   "metadata": {
    "ExecuteTime": {
     "end_time": "2021-04-20T08:18:30.539476Z",
     "start_time": "2021-04-20T08:18:30.381236Z"
    },
    "scrolled": false
   },
   "outputs": [
    {
     "data": {
      "text/plain": [
       "'JE.pdf.pdf'"
      ]
     },
     "execution_count": 16,
     "metadata": {},
     "output_type": "execute_result"
    }
   ],
   "source": [
    "GraphModel(concatenate_graph_specs([Waste_nodes, VDMC_nodes, ME2_nodes, ME1_nodes, JE_nodes])).draw().render('JE.pdf')"
   ]
  },
  {
   "cell_type": "markdown",
   "metadata": {},
   "source": [
    "$$ TMS = RS * PMi.sum()$$\n",
    "$$ TMS = MI * DMC * PMi.sum()$$\n",
    "$$ TMS = MI * DMC * (MS*CMi).sum()$$\n",
    "$$ TMS = MI * DMC * (\\frac{DMCi}{DMC}*CMi).sum()$$\n",
    "\n",
    "\n"
   ]
  },
  {
   "cell_type": "markdown",
   "metadata": {},
   "source": [
    "$$WASTE = DSES - RSES$$\n",
    "$$WASTE = DSES - DSES\\times RR $$\n",
    "$$WASTE = DSES\\times(1 - RR)$$"
   ]
  },
  {
   "cell_type": "markdown",
   "metadata": {},
   "source": [
    "# Tests"
   ]
  },
  {
   "cell_type": "code",
   "execution_count": 17,
   "metadata": {
    "ExecuteTime": {
     "end_time": "2021-04-20T08:18:31.516748Z",
     "start_time": "2021-04-20T08:18:31.442903Z"
    },
    "scrolled": false
   },
   "outputs": [],
   "source": [
    "Waste_nodes = {'PCS': {'type': 'parameter',\n",
    "                       'name': 'Physical Capital Stock',\n",
    "                       'unit': '$'},\n",
    "               'DCGS': {'type': 'parameter',\n",
    "                        'name': 'Durable Consumption Good Stock',\n",
    "                        'unit': '$'},\n",
    "               'RC': {'type': 'parameter',\n",
    "                      'name': 'Rate of Capital Depreciation',\n",
    "                      'unit': '%'},\n",
    "               'PDCG': {'type': 'parameter',\n",
    "                        'name': 'Proportion of Durable Consumption Goods Discarded',\n",
    "                        'unit': '1'},\n",
    "               'DSES': {'type': 'variable',\n",
    "                        'name': 'Discarded Socio-Economic Stock',\n",
    "                        'unit': 'tonnes',\n",
    "                        'computation': lambda ME1, RC, PCS, PDCG, DCGS, **kwargs: ME1 * (RC * PCS + PDCG * DCGS)\n",
    "                        },\n",
    "               'RR': {'type': 'input', 'name': 'Recycling Ratio', 'unit': '1'},\n",
    "               'WASTE': {'type': 'output',\n",
    "                         'name': 'Waste Generated',\n",
    "                         'unit': 'tonnes',\n",
    "                         'computation': lambda DSES, RR, **kwargs: DSES * (1 - RR) # to be checked\n",
    "                         },\n",
    "               'ME1': {'type': 'input', 'name': 'DMC per GDP', 'unit': 'tonnes/$'}}\n",
    "\n",
    "\n",
    "VDMC_nodes = {'DEi': {'type': 'input',\n",
    "                     'name': 'Domestic Extraction per material',\n",
    "                     'unit': 'tonnes'},\n",
    "              'IMPi': {'type': 'input', 'name': 'Imports per material', 'unit': 'tonnes'},\n",
    "              'EXPi': {'type': 'input', 'name': 'Exports per material', 'unit': 'tonnes'},\n",
    "              'DMCi': {'type': 'output',\n",
    "                       'name': 'Domestic material consumption per material',\n",
    "                       'unit': 'tonnes',\n",
    "                       'computation': lambda DEi, IMPi, EXPi, **kwargs: DEi + IMPi - EXPi\n",
    "                       }\n",
    "              }\n",
    "\n",
    "\n",
    "ME1_nodes = {'DMCi': {'type': 'variable', 'name': 'Domestic material consumption per material', 'unit': 'tonnes'},\n",
    "            'DMC': {'type': 'variable',\n",
    "                    'name': 'Domestic material consumption',\n",
    "                    'unit': 'tonnes',\n",
    "                    'computation': lambda DMCi, **kwargs: DMCi.sum() # add groupby iso year\n",
    "                   },\n",
    "             'GDP': {'type': 'parameter', 'name': 'Gross domestic product', 'unit': '$'},\n",
    "             'ME1': {'type': 'output',\n",
    "                     'name': 'DMC per GDP',\n",
    "                     'unit': 'tonnes/$',\n",
    "                     'computation': lambda DMC, GDP, **kwargs: DMC / GDP\n",
    "                    }\n",
    "            }\n",
    "\n",
    "\n",
    "JE_nodes = {'DMCi': {'type': 'variable', 'name': 'Domestic material consumption per material', 'unit': 'tonnes'},\n",
    "            'MI': {'type': 'input',\n",
    "                   'name': 'Material Efficiency Improvement',\n",
    "                   'unit': '%'},\n",
    "            'APCi': {'type': 'parameter',\n",
    "                   'name': 'Average Price per commodity',\n",
    "                   'unit': '$/tonnes'},\n",
    "            'EPI': {'type': 'parameter',\n",
    "                   'name': 'Export Price Index',\n",
    "                   'unit': '1'},\n",
    "            'CMi': {'type': 'variable',\n",
    "                   'name': 'Cost per material',\n",
    "                   'unit': '$/tonnes',\n",
    "                   'computation': lambda APCi, EPI, **kwargs: APCi * EPI\n",
    "                  },\n",
    "            'TMS': {'type': 'variable',\n",
    "                    'name': 'Monetary Savings',\n",
    "                    'unit': '$',\n",
    "                    'computation': lambda MI, DMCi, CMi, **kwargs: MI * (DMCi * CMi).sum() # to add group by year iso\n",
    "                   },\n",
    "            'AW': {'type': 'parameter', 'name': 'Average Wage', 'unit': '$'\n",
    "                  },\n",
    "            'JE': {'type': 'output',\n",
    "                   'name': 'Job Equivalents',\n",
    "                   'unit': '1',\n",
    "                   'computation': lambda TMS, AW, **kwargs: TMS / AW\n",
    "                  }\n",
    "           }\n",
    "\n",
    "\n",
    "model = GraphModel(concatenate_graph_specs([VDMC_nodes, JE_nodes]))"
   ]
  },
  {
   "cell_type": "code",
   "execution_count": 18,
   "metadata": {
    "ExecuteTime": {
     "end_time": "2021-04-20T08:18:47.773444Z",
     "start_time": "2021-04-20T08:18:40.923234Z"
    }
   },
   "outputs": [],
   "source": [
    "db_table_names = ['materialflow', 'imfindexcommodity', 'imfpricecommodity', 'pennworldtable', 'oecdwage']\n",
    "\n",
    "data_dict = data_dict_from_db(db_table_names) "
   ]
  },
  {
   "cell_type": "code",
   "execution_count": 19,
   "metadata": {
    "ExecuteTime": {
     "end_time": "2021-04-20T08:18:47.806809Z",
     "start_time": "2021-04-20T08:18:47.775362Z"
    }
   },
   "outputs": [],
   "source": [
    "ISO_data_dict = {k: v.loc['HUN', :, :] for k, v in data_dict.items() if k not in ['APCi']}\n",
    "ISO_data_dict['APCi'] = data_dict['APCi']\n",
    "ISO_data_dict['MI'] = 1.5/100"
   ]
  },
  {
   "cell_type": "code",
   "execution_count": 20,
   "metadata": {
    "ExecuteTime": {
     "end_time": "2021-04-20T08:18:47.812787Z",
     "start_time": "2021-04-20T08:18:47.809161Z"
    }
   },
   "outputs": [],
   "source": [
    "X, y = get_X_y_from_data(model, ISO_data_dict)"
   ]
  },
  {
   "cell_type": "code",
   "execution_count": 21,
   "metadata": {
    "ExecuteTime": {
     "end_time": "2021-04-20T08:18:47.836651Z",
     "start_time": "2021-04-20T08:18:47.817161Z"
    }
   },
   "outputs": [],
   "source": [
    "res = model.run(X)"
   ]
  },
  {
   "cell_type": "code",
   "execution_count": 22,
   "metadata": {
    "ExecuteTime": {
     "end_time": "2021-04-20T08:18:47.846985Z",
     "start_time": "2021-04-20T08:18:47.838855Z"
    }
   },
   "outputs": [
    {
     "data": {
      "text/plain": [
       "Item\n",
       "Biomass                   488.553822\n",
       "Fossil fuels               39.309956\n",
       "Metal ores               8455.723987\n",
       "Non-metallic minerals     261.084605\n",
       "Name: APCi, dtype: float64"
      ]
     },
     "execution_count": 22,
     "metadata": {},
     "output_type": "execute_result"
    }
   ],
   "source": [
    "res['APCi'].loc[:, '2017']"
   ]
  },
  {
   "cell_type": "code",
   "execution_count": 23,
   "metadata": {
    "ExecuteTime": {
     "end_time": "2021-04-20T08:18:47.858840Z",
     "start_time": "2021-04-20T08:18:47.849856Z"
    }
   },
   "outputs": [
    {
     "data": {
      "text/plain": [
       "ISO\n",
       "HUN    84.034065\n",
       "Name: EPI, dtype: float64"
      ]
     },
     "execution_count": 23,
     "metadata": {},
     "output_type": "execute_result"
    }
   ],
   "source": [
    "res['EPI'].loc[:, '2017']"
   ]
  },
  {
   "cell_type": "code",
   "execution_count": 26,
   "metadata": {
    "ExecuteTime": {
     "end_time": "2021-04-20T08:18:47.867736Z",
     "start_time": "2021-04-20T08:18:47.861603Z"
    }
   },
   "outputs": [
    {
     "data": {
      "text/plain": [
       "Item                   Year\n",
       "Biomass                2000    270.623847\n",
       "                       2001    263.424338\n",
       "                       2002    300.483063\n",
       "                       2003    338.110755\n",
       "                       2004    372.430641\n",
       "                                  ...    \n",
       "Non-metallic minerals  2015    354.299495\n",
       "                       2016    269.451959\n",
       "                       2017    261.084605\n",
       "                       2018    299.836988\n",
       "                       2019    283.913459\n",
       "Name: APCi, Length: 80, dtype: float64"
      ]
     },
     "execution_count": 26,
     "metadata": {},
     "output_type": "execute_result"
    }
   ],
   "source": [
    "res['APCi']"
   ]
  },
  {
   "cell_type": "code",
   "execution_count": 13,
   "metadata": {
    "ExecuteTime": {
     "end_time": "2021-04-20T08:18:48.203863Z",
     "start_time": "2021-04-20T08:18:48.153168Z"
    }
   },
   "outputs": [
    {
     "data": {
      "image/svg+xml": [
       "<?xml version=\"1.0\" encoding=\"UTF-8\" standalone=\"no\"?>\n",
       "<!DOCTYPE svg PUBLIC \"-//W3C//DTD SVG 1.1//EN\"\n",
       " \"http://www.w3.org/Graphics/SVG/1.1/DTD/svg11.dtd\">\n",
       "<!-- Generated by graphviz version 2.40.1 (20161225.0304)\n",
       " -->\n",
       "<!-- Title: %3 Pages: 1 -->\n",
       "<svg width=\"1005pt\" height=\"544pt\"\n",
       " viewBox=\"0.00 0.00 1004.50 544.00\" xmlns=\"http://www.w3.org/2000/svg\" xmlns:xlink=\"http://www.w3.org/1999/xlink\">\n",
       "<g id=\"graph0\" class=\"graph\" transform=\"scale(1 1) rotate(0) translate(4 540)\">\n",
       "<title>%3</title>\n",
       "<polygon fill=\"#ffffff\" stroke=\"transparent\" points=\"-4,4 -4,-540 1000.5,-540 1000.5,4 -4,4\"/>\n",
       "<!-- DEi -->\n",
       "<g id=\"node1\" class=\"node\">\n",
       "<title>DEi</title>\n",
       "<polygon fill=\"#e76f51\" stroke=\"#eeeeee\" points=\"227,-536 0,-536 0,-483 227,-483 227,-536\"/>\n",
       "<text text-anchor=\"middle\" x=\"113.5\" y=\"-520.8\" font-family=\"roboto\" font-size=\"14.00\" fill=\"#eeeeee\">Domestic Extraction per material </text>\n",
       "<text text-anchor=\"middle\" x=\"113.5\" y=\"-505.8\" font-family=\"roboto\" font-size=\"14.00\" fill=\"#eeeeee\"> (DEi) </text>\n",
       "<text text-anchor=\"middle\" x=\"113.5\" y=\"-490.8\" font-family=\"roboto\" font-size=\"14.00\" fill=\"#eeeeee\"> tonnes</text>\n",
       "</g>\n",
       "<!-- DMCi_comp -->\n",
       "<g id=\"node5\" class=\"node\">\n",
       "<title>DMCi_comp</title>\n",
       "<polygon fill=\"none\" stroke=\"#a9a9a9\" points=\"381.5,-447 257.5,-447 257.5,-411 381.5,-411 381.5,-447\"/>\n",
       "<text text-anchor=\"middle\" x=\"319.5\" y=\"-425.3\" font-family=\"roboto\" font-size=\"14.00\" fill=\"#000000\">DEi + IMPi &#45; EXPi</text>\n",
       "</g>\n",
       "<!-- DEi&#45;&gt;DMCi_comp -->\n",
       "<g id=\"edge1\" class=\"edge\">\n",
       "<title>DEi&#45;&gt;DMCi_comp</title>\n",
       "<path fill=\"none\" stroke=\"#a9a9a9\" d=\"M197.5,-482.6947C197.5,-459.2772 197.5,-429 197.5,-429 197.5,-429 247.4278,-429 247.4278,-429\"/>\n",
       "<polygon fill=\"#a9a9a9\" stroke=\"#a9a9a9\" points=\"247.4278,-432.5001 257.4278,-429 247.4277,-425.5001 247.4278,-432.5001\"/>\n",
       "</g>\n",
       "<!-- IMPi -->\n",
       "<g id=\"node2\" class=\"node\">\n",
       "<title>IMPi</title>\n",
       "<polygon fill=\"#e76f51\" stroke=\"#eeeeee\" points=\"394,-536 245,-536 245,-483 394,-483 394,-536\"/>\n",
       "<text text-anchor=\"middle\" x=\"319.5\" y=\"-520.8\" font-family=\"roboto\" font-size=\"14.00\" fill=\"#eeeeee\">Imports per material </text>\n",
       "<text text-anchor=\"middle\" x=\"319.5\" y=\"-505.8\" font-family=\"roboto\" font-size=\"14.00\" fill=\"#eeeeee\"> (IMPi) </text>\n",
       "<text text-anchor=\"middle\" x=\"319.5\" y=\"-490.8\" font-family=\"roboto\" font-size=\"14.00\" fill=\"#eeeeee\"> tonnes</text>\n",
       "</g>\n",
       "<!-- IMPi&#45;&gt;DMCi_comp -->\n",
       "<g id=\"edge2\" class=\"edge\">\n",
       "<title>IMPi&#45;&gt;DMCi_comp</title>\n",
       "<path fill=\"none\" stroke=\"#a9a9a9\" d=\"M319.5,-482.6947C319.5,-482.6947 319.5,-457.0658 319.5,-457.0658\"/>\n",
       "<polygon fill=\"#a9a9a9\" stroke=\"#a9a9a9\" points=\"323.0001,-457.0657 319.5,-447.0658 316.0001,-457.0658 323.0001,-457.0657\"/>\n",
       "</g>\n",
       "<!-- EXPi -->\n",
       "<g id=\"node3\" class=\"node\">\n",
       "<title>EXPi</title>\n",
       "<polygon fill=\"#e76f51\" stroke=\"#eeeeee\" points=\"560.5,-536 412.5,-536 412.5,-483 560.5,-483 560.5,-536\"/>\n",
       "<text text-anchor=\"middle\" x=\"486.5\" y=\"-520.8\" font-family=\"roboto\" font-size=\"14.00\" fill=\"#eeeeee\">Exports per material </text>\n",
       "<text text-anchor=\"middle\" x=\"486.5\" y=\"-505.8\" font-family=\"roboto\" font-size=\"14.00\" fill=\"#eeeeee\"> (EXPi) </text>\n",
       "<text text-anchor=\"middle\" x=\"486.5\" y=\"-490.8\" font-family=\"roboto\" font-size=\"14.00\" fill=\"#eeeeee\"> tonnes</text>\n",
       "</g>\n",
       "<!-- EXPi&#45;&gt;DMCi_comp -->\n",
       "<g id=\"edge3\" class=\"edge\">\n",
       "<title>EXPi&#45;&gt;DMCi_comp</title>\n",
       "<path fill=\"none\" stroke=\"#a9a9a9\" d=\"M441.75,-482.6947C441.75,-459.2772 441.75,-429 441.75,-429 441.75,-429 391.6994,-429 391.6994,-429\"/>\n",
       "<polygon fill=\"#a9a9a9\" stroke=\"#a9a9a9\" points=\"391.6994,-425.5001 381.6994,-429 391.6994,-432.5001 391.6994,-425.5001\"/>\n",
       "</g>\n",
       "<!-- DMCi -->\n",
       "<g id=\"node4\" class=\"node\">\n",
       "<title>DMCi</title>\n",
       "<polygon fill=\"#f4a261\" stroke=\"#eeeeee\" points=\"471,-375 168,-375 168,-322 471,-322 471,-375\"/>\n",
       "<text text-anchor=\"middle\" x=\"319.5\" y=\"-359.8\" font-family=\"roboto\" font-size=\"14.00\" fill=\"#eeeeee\">Domestic material consumption per material </text>\n",
       "<text text-anchor=\"middle\" x=\"319.5\" y=\"-344.8\" font-family=\"roboto\" font-size=\"14.00\" fill=\"#eeeeee\"> (DMCi) </text>\n",
       "<text text-anchor=\"middle\" x=\"319.5\" y=\"-329.8\" font-family=\"roboto\" font-size=\"14.00\" fill=\"#eeeeee\"> tonnes</text>\n",
       "</g>\n",
       "<!-- TMS_comp -->\n",
       "<g id=\"node12\" class=\"node\">\n",
       "<title>TMS_comp</title>\n",
       "<polygon fill=\"none\" stroke=\"#a9a9a9\" points=\"773.5,-286 431.5,-286 431.5,-250 773.5,-250 773.5,-286\"/>\n",
       "<text text-anchor=\"middle\" x=\"602.5\" y=\"-264.3\" font-family=\"roboto\" font-size=\"14.00\" fill=\"#000000\">MI * (DMCi * CMi).sum() # to add group by year iso</text>\n",
       "</g>\n",
       "<!-- DMCi&#45;&gt;TMS_comp -->\n",
       "<g id=\"edge4\" class=\"edge\">\n",
       "<title>DMCi&#45;&gt;TMS_comp</title>\n",
       "<path fill=\"none\" stroke=\"#a9a9a9\" d=\"M451.25,-321.6947C451.25,-321.6947 451.25,-296.0658 451.25,-296.0658\"/>\n",
       "<polygon fill=\"#a9a9a9\" stroke=\"#a9a9a9\" points=\"454.7501,-296.0657 451.25,-286.0658 447.7501,-296.0658 454.7501,-296.0657\"/>\n",
       "</g>\n",
       "<!-- DMCi_comp&#45;&gt;DMCi -->\n",
       "<g id=\"edge5\" class=\"edge\">\n",
       "<title>DMCi_comp&#45;&gt;DMCi</title>\n",
       "<path fill=\"none\" stroke=\"#a9a9a9\" d=\"M319.5,-410.7333C319.5,-410.7333 319.5,-385.2477 319.5,-385.2477\"/>\n",
       "<polygon fill=\"#a9a9a9\" stroke=\"#a9a9a9\" points=\"323.0001,-385.2476 319.5,-375.2477 316.0001,-385.2477 323.0001,-385.2476\"/>\n",
       "</g>\n",
       "<!-- MI -->\n",
       "<g id=\"node6\" class=\"node\">\n",
       "<title>MI</title>\n",
       "<polygon fill=\"#e76f51\" stroke=\"#eeeeee\" points=\"715.5,-375 489.5,-375 489.5,-322 715.5,-322 715.5,-375\"/>\n",
       "<text text-anchor=\"middle\" x=\"602.5\" y=\"-359.8\" font-family=\"roboto\" font-size=\"14.00\" fill=\"#eeeeee\">Material Efficiency Improvement </text>\n",
       "<text text-anchor=\"middle\" x=\"602.5\" y=\"-344.8\" font-family=\"roboto\" font-size=\"14.00\" fill=\"#eeeeee\"> (MI) </text>\n",
       "<text text-anchor=\"middle\" x=\"602.5\" y=\"-329.8\" font-family=\"roboto\" font-size=\"14.00\" fill=\"#eeeeee\"> %</text>\n",
       "</g>\n",
       "<!-- MI&#45;&gt;TMS_comp -->\n",
       "<g id=\"edge6\" class=\"edge\">\n",
       "<title>MI&#45;&gt;TMS_comp</title>\n",
       "<path fill=\"none\" stroke=\"#a9a9a9\" d=\"M602.5,-321.6947C602.5,-321.6947 602.5,-296.0658 602.5,-296.0658\"/>\n",
       "<polygon fill=\"#a9a9a9\" stroke=\"#a9a9a9\" points=\"606.0001,-296.0657 602.5,-286.0658 599.0001,-296.0658 606.0001,-296.0657\"/>\n",
       "</g>\n",
       "<!-- APCi -->\n",
       "<g id=\"node7\" class=\"node\">\n",
       "<title>APCi</title>\n",
       "<polygon fill=\"#e9c46a\" stroke=\"#eeeeee\" points=\"844.5,-536 636.5,-536 636.5,-483 844.5,-483 844.5,-536\"/>\n",
       "<text text-anchor=\"middle\" x=\"740.5\" y=\"-520.8\" font-family=\"roboto\" font-size=\"14.00\" fill=\"#eeeeee\">Average Price per commodity </text>\n",
       "<text text-anchor=\"middle\" x=\"740.5\" y=\"-505.8\" font-family=\"roboto\" font-size=\"14.00\" fill=\"#eeeeee\"> (APCi) </text>\n",
       "<text text-anchor=\"middle\" x=\"740.5\" y=\"-490.8\" font-family=\"roboto\" font-size=\"14.00\" fill=\"#eeeeee\"> $/tonnes</text>\n",
       "</g>\n",
       "<!-- CMi_comp -->\n",
       "<g id=\"node10\" class=\"node\">\n",
       "<title>CMi_comp</title>\n",
       "<polygon fill=\"none\" stroke=\"#a9a9a9\" points=\"839.5,-447 757.5,-447 757.5,-411 839.5,-411 839.5,-447\"/>\n",
       "<text text-anchor=\"middle\" x=\"798.5\" y=\"-425.3\" font-family=\"roboto\" font-size=\"14.00\" fill=\"#000000\">APCi * EPI</text>\n",
       "</g>\n",
       "<!-- APCi&#45;&gt;CMi_comp -->\n",
       "<g id=\"edge7\" class=\"edge\">\n",
       "<title>APCi&#45;&gt;CMi_comp</title>\n",
       "<path fill=\"none\" stroke=\"#a9a9a9\" d=\"M798.5,-482.6947C798.5,-482.6947 798.5,-457.0658 798.5,-457.0658\"/>\n",
       "<polygon fill=\"#a9a9a9\" stroke=\"#a9a9a9\" points=\"802.0001,-457.0657 798.5,-447.0658 795.0001,-457.0658 802.0001,-457.0657\"/>\n",
       "</g>\n",
       "<!-- EPI -->\n",
       "<g id=\"node8\" class=\"node\">\n",
       "<title>EPI</title>\n",
       "<polygon fill=\"#e9c46a\" stroke=\"#eeeeee\" points=\"996.5,-536 862.5,-536 862.5,-483 996.5,-483 996.5,-536\"/>\n",
       "<text text-anchor=\"middle\" x=\"929.5\" y=\"-520.8\" font-family=\"roboto\" font-size=\"14.00\" fill=\"#eeeeee\">Export Price Index </text>\n",
       "<text text-anchor=\"middle\" x=\"929.5\" y=\"-505.8\" font-family=\"roboto\" font-size=\"14.00\" fill=\"#eeeeee\"> (EPI) </text>\n",
       "<text text-anchor=\"middle\" x=\"929.5\" y=\"-490.8\" font-family=\"roboto\" font-size=\"14.00\" fill=\"#eeeeee\"> 1</text>\n",
       "</g>\n",
       "<!-- EPI&#45;&gt;CMi_comp -->\n",
       "<g id=\"edge8\" class=\"edge\">\n",
       "<title>EPI&#45;&gt;CMi_comp</title>\n",
       "<path fill=\"none\" stroke=\"#a9a9a9\" d=\"M929.75,-482.6947C929.75,-459.2772 929.75,-429 929.75,-429 929.75,-429 849.6682,-429 849.6682,-429\"/>\n",
       "<polygon fill=\"#a9a9a9\" stroke=\"#a9a9a9\" points=\"849.6682,-425.5001 839.6682,-429 849.6682,-432.5001 849.6682,-425.5001\"/>\n",
       "</g>\n",
       "<!-- CMi -->\n",
       "<g id=\"node9\" class=\"node\">\n",
       "<title>CMi</title>\n",
       "<polygon fill=\"#f4a261\" stroke=\"#eeeeee\" points=\"863,-375 734,-375 734,-322 863,-322 863,-375\"/>\n",
       "<text text-anchor=\"middle\" x=\"798.5\" y=\"-359.8\" font-family=\"roboto\" font-size=\"14.00\" fill=\"#eeeeee\">Cost per material </text>\n",
       "<text text-anchor=\"middle\" x=\"798.5\" y=\"-344.8\" font-family=\"roboto\" font-size=\"14.00\" fill=\"#eeeeee\"> (CMi) </text>\n",
       "<text text-anchor=\"middle\" x=\"798.5\" y=\"-329.8\" font-family=\"roboto\" font-size=\"14.00\" fill=\"#eeeeee\"> $/tonnes</text>\n",
       "</g>\n",
       "<!-- CMi&#45;&gt;TMS_comp -->\n",
       "<g id=\"edge9\" class=\"edge\">\n",
       "<title>CMi&#45;&gt;TMS_comp</title>\n",
       "<path fill=\"none\" stroke=\"#a9a9a9\" d=\"M753.75,-321.6947C753.75,-321.6947 753.75,-296.0658 753.75,-296.0658\"/>\n",
       "<polygon fill=\"#a9a9a9\" stroke=\"#a9a9a9\" points=\"757.2501,-296.0657 753.75,-286.0658 750.2501,-296.0658 757.2501,-296.0657\"/>\n",
       "</g>\n",
       "<!-- CMi_comp&#45;&gt;CMi -->\n",
       "<g id=\"edge10\" class=\"edge\">\n",
       "<title>CMi_comp&#45;&gt;CMi</title>\n",
       "<path fill=\"none\" stroke=\"#a9a9a9\" d=\"M798.5,-410.7333C798.5,-410.7333 798.5,-385.2477 798.5,-385.2477\"/>\n",
       "<polygon fill=\"#a9a9a9\" stroke=\"#a9a9a9\" points=\"802.0001,-385.2476 798.5,-375.2477 795.0001,-385.2477 802.0001,-385.2476\"/>\n",
       "</g>\n",
       "<!-- TMS -->\n",
       "<g id=\"node11\" class=\"node\">\n",
       "<title>TMS</title>\n",
       "<polygon fill=\"#f4a261\" stroke=\"#eeeeee\" points=\"669,-214 536,-214 536,-161 669,-161 669,-214\"/>\n",
       "<text text-anchor=\"middle\" x=\"602.5\" y=\"-198.8\" font-family=\"roboto\" font-size=\"14.00\" fill=\"#eeeeee\">Monetary Savings </text>\n",
       "<text text-anchor=\"middle\" x=\"602.5\" y=\"-183.8\" font-family=\"roboto\" font-size=\"14.00\" fill=\"#eeeeee\"> (TMS) </text>\n",
       "<text text-anchor=\"middle\" x=\"602.5\" y=\"-168.8\" font-family=\"roboto\" font-size=\"14.00\" fill=\"#eeeeee\"> $</text>\n",
       "</g>\n",
       "<!-- JE_comp -->\n",
       "<g id=\"node15\" class=\"node\">\n",
       "<title>JE_comp</title>\n",
       "<polygon fill=\"none\" stroke=\"#a9a9a9\" points=\"712.5,-125 632.5,-125 632.5,-89 712.5,-89 712.5,-125\"/>\n",
       "<text text-anchor=\"middle\" x=\"672.5\" y=\"-103.3\" font-family=\"roboto\" font-size=\"14.00\" fill=\"#000000\">TMS / AW</text>\n",
       "</g>\n",
       "<!-- TMS&#45;&gt;JE_comp -->\n",
       "<g id=\"edge11\" class=\"edge\">\n",
       "<title>TMS&#45;&gt;JE_comp</title>\n",
       "<path fill=\"none\" stroke=\"#a9a9a9\" d=\"M650.75,-160.6947C650.75,-160.6947 650.75,-135.0658 650.75,-135.0658\"/>\n",
       "<polygon fill=\"#a9a9a9\" stroke=\"#a9a9a9\" points=\"654.2501,-135.0657 650.75,-125.0658 647.2501,-135.0658 654.2501,-135.0657\"/>\n",
       "</g>\n",
       "<!-- TMS_comp&#45;&gt;TMS -->\n",
       "<g id=\"edge12\" class=\"edge\">\n",
       "<title>TMS_comp&#45;&gt;TMS</title>\n",
       "<path fill=\"none\" stroke=\"#a9a9a9\" d=\"M602.5,-249.7333C602.5,-249.7333 602.5,-224.2477 602.5,-224.2477\"/>\n",
       "<polygon fill=\"#a9a9a9\" stroke=\"#a9a9a9\" points=\"606.0001,-224.2476 602.5,-214.2477 599.0001,-224.2477 606.0001,-224.2476\"/>\n",
       "</g>\n",
       "<!-- AW -->\n",
       "<g id=\"node13\" class=\"node\">\n",
       "<title>AW</title>\n",
       "<polygon fill=\"#e9c46a\" stroke=\"#eeeeee\" points=\"798,-214 687,-214 687,-161 798,-161 798,-214\"/>\n",
       "<text text-anchor=\"middle\" x=\"742.5\" y=\"-198.8\" font-family=\"roboto\" font-size=\"14.00\" fill=\"#eeeeee\">Average Wage </text>\n",
       "<text text-anchor=\"middle\" x=\"742.5\" y=\"-183.8\" font-family=\"roboto\" font-size=\"14.00\" fill=\"#eeeeee\"> (AW) </text>\n",
       "<text text-anchor=\"middle\" x=\"742.5\" y=\"-168.8\" font-family=\"roboto\" font-size=\"14.00\" fill=\"#eeeeee\"> $</text>\n",
       "</g>\n",
       "<!-- AW&#45;&gt;JE_comp -->\n",
       "<g id=\"edge13\" class=\"edge\">\n",
       "<title>AW&#45;&gt;JE_comp</title>\n",
       "<path fill=\"none\" stroke=\"#a9a9a9\" d=\"M699.75,-160.6947C699.75,-160.6947 699.75,-135.0658 699.75,-135.0658\"/>\n",
       "<polygon fill=\"#a9a9a9\" stroke=\"#a9a9a9\" points=\"703.2501,-135.0657 699.75,-125.0658 696.2501,-135.0658 703.2501,-135.0657\"/>\n",
       "</g>\n",
       "<!-- JE -->\n",
       "<g id=\"node14\" class=\"node\">\n",
       "<title>JE</title>\n",
       "<polygon fill=\"#2a9d8f\" stroke=\"#eeeeee\" points=\"733,-53 612,-53 612,0 733,0 733,-53\"/>\n",
       "<text text-anchor=\"middle\" x=\"672.5\" y=\"-37.8\" font-family=\"roboto\" font-size=\"14.00\" fill=\"#eeeeee\">Job Equivalents </text>\n",
       "<text text-anchor=\"middle\" x=\"672.5\" y=\"-22.8\" font-family=\"roboto\" font-size=\"14.00\" fill=\"#eeeeee\"> (JE) </text>\n",
       "<text text-anchor=\"middle\" x=\"672.5\" y=\"-7.8\" font-family=\"roboto\" font-size=\"14.00\" fill=\"#eeeeee\"> 1</text>\n",
       "</g>\n",
       "<!-- JE_comp&#45;&gt;JE -->\n",
       "<g id=\"edge14\" class=\"edge\">\n",
       "<title>JE_comp&#45;&gt;JE</title>\n",
       "<path fill=\"none\" stroke=\"#a9a9a9\" d=\"M672.5,-88.7333C672.5,-88.7333 672.5,-63.2477 672.5,-63.2477\"/>\n",
       "<polygon fill=\"#a9a9a9\" stroke=\"#a9a9a9\" points=\"676.0001,-63.2476 672.5,-53.2477 669.0001,-63.2477 676.0001,-63.2476\"/>\n",
       "</g>\n",
       "</g>\n",
       "</svg>\n"
      ],
      "text/plain": [
       "<graphviz.dot.Digraph at 0x7fcea32b4d10>"
      ]
     },
     "execution_count": 13,
     "metadata": {},
     "output_type": "execute_result"
    }
   ],
   "source": [
    "model.draw()"
   ]
  },
  {
   "cell_type": "code",
   "execution_count": 14,
   "metadata": {
    "ExecuteTime": {
     "end_time": "2021-04-19T07:14:28.167453Z",
     "start_time": "2021-04-19T07:14:28.160506Z"
    }
   },
   "outputs": [
    {
     "data": {
      "text/plain": [
       "2248861966.9644628"
      ]
     },
     "execution_count": 14,
     "metadata": {},
     "output_type": "execute_result"
    }
   ],
   "source": [
    "res['TMS'] * 1e-3"
   ]
  },
  {
   "cell_type": "code",
   "execution_count": null,
   "metadata": {},
   "outputs": [],
   "source": []
  }
 ],
 "metadata": {
  "kernelspec": {
   "display_name": "Python 3",
   "language": "python",
   "name": "python3"
  },
  "language_info": {
   "codemirror_mode": {
    "name": "ipython",
    "version": 3
   },
   "file_extension": ".py",
   "mimetype": "text/x-python",
   "name": "python",
   "nbconvert_exporter": "python",
   "pygments_lexer": "ipython3",
   "version": "3.7.7"
  }
 },
 "nbformat": 4,
 "nbformat_minor": 4
}
