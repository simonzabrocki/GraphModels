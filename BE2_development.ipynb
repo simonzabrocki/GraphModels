{
 "cells": [
  {
   "cell_type": "code",
   "execution_count": 1,
   "metadata": {
    "ExecuteTime": {
     "end_time": "2021-03-16T02:58:46.226078Z",
     "start_time": "2021-03-16T02:58:44.578806Z"
    }
   },
   "outputs": [],
   "source": [
    "from graphmodels.graphmodel import converte_to_format, GraphModel, concatenate_graph_specs\n",
    "from database import select_dataset\n",
    "from graphmodels.utils import get_X_y_from_data\n",
    "from graphmodels.validation import score_model, plot_diagnostic\n",
    "import pandas as pd"
   ]
  },
  {
   "cell_type": "code",
   "execution_count": 2,
   "metadata": {},
   "outputs": [],
   "source": [
    "from models.Hermen.model_BE2 import BE2_models"
   ]
  },
  {
   "cell_type": "code",
   "execution_count": 3,
   "metadata": {
    "ExecuteTime": {
     "end_time": "2021-03-09T00:58:17.187363Z",
     "start_time": "2021-03-09T00:58:14.340728Z"
    }
   },
   "outputs": [],
   "source": [
    "\n",
    "fbs_data = select_dataset('foodbalancesheet')\n",
    "population_data = select_dataset('population')\n",
    "crops_data = select_dataset('crops')\n",
    "landuse = select_dataset('landuse')"
   ]
  },
  {
   "cell_type": "code",
   "execution_count": 4,
   "metadata": {},
   "outputs": [],
   "source": [
    "model_df = pd.concat([fbs_data, population_data, crops_data],).dropna(subset=['Variable'])"
   ]
  },
  {
   "cell_type": "code",
   "execution_count": 5,
   "metadata": {
    "ExecuteTime": {
     "end_time": "2021-03-09T00:58:20.257865Z",
     "start_time": "2021-03-09T00:58:17.189230Z"
    }
   },
   "outputs": [],
   "source": [
    "from graphmodels.utils import df_to_data_dict\n",
    "\n",
    "def get_X_y_from_data(model, data_dict):\n",
    "    '''TO CLEAN UP'''\n",
    "    X = {key: data_dict[key] for key in model.inputs_() + model.parameters_()}\n",
    "    y = {key: data_dict[key] for key in model.variables_() + model.outputs_() if key in data_dict}\n",
    "    return X, y\n",
    "\n",
    "\n",
    "def df_to_dict(df):\n",
    "    X = {}\n",
    "    for code in df.columns:\n",
    "        X[code] = df[code]\n",
    "    return X\n",
    "\n",
    "\n",
    "def fill_missing_values(df):\n",
    "    return df\n",
    "\n",
    "\n",
    "def df_to_data_dict(df, itemized):\n",
    "    data_dict = {}\n",
    "\n",
    "    non_item_df = df[~df.Variable.isin(itemized)].pivot(\n",
    "        index=['ISO', 'Year'], columns='Variable', values='Value')\n",
    "    non_item_df = fill_missing_values(non_item_df)\n",
    "    \n",
    "    if itemized != []:\n",
    "        item_df = df[df.Variable.isin(itemized)].pivot(\n",
    "            index=['ISO', 'Year', 'Item'], columns='Variable', values='Value')\n",
    "        data_dict.update(df_to_dict(item_df))\n",
    "\n",
    "\n",
    "    data_dict.update(df_to_dict(non_item_df))\n",
    "\n",
    "    return data_dict\n",
    "\n",
    "\n",
    "itemized = [\n",
    "    'FDKCi', 'FPi', 'FIi', 'SVi', 'FEi', 'Domestic supply quantity',\n",
    "    'FDi', 'SDi', 'FLOi', 'PDi', 'RDi', 'Food', 'FDKGi', 'NFDi',\n",
    "    'SSRi', 'KKRi', 'TCLDi', 'CYi'\n",
    "    ]\n",
    "\n",
    "data_dict = df_to_data_dict(model_df, itemized)\n",
    "\n",
    "\n",
    "data_dict.update(df_to_data_dict(landuse, itemized=[]))\n",
    "data_dict['CL_baseline'] = data_dict['CL'] \n",
    "data_dict['IL_baseline'] = data_dict['IL'] \n",
    "data_dict['FL_baseline'] = data_dict['FL'] \n",
    "data_dict['R_rate'] = 0\n"
   ]
  },
  {
   "cell_type": "code",
   "execution_count": 6,
   "metadata": {
    "ExecuteTime": {
     "end_time": "2021-03-09T00:58:20.605294Z",
     "start_time": "2021-03-09T00:58:20.333469Z"
    }
   },
   "outputs": [
    {
     "output_type": "stream",
     "name": "stdout",
     "text": [
      "FPi\n",
      "TCLDi\n"
     ]
    },
    {
     "output_type": "execute_result",
     "data": {
      "text/plain": [
       "         r2  correlation          rmse Variable\n",
       "0  1.000000     1.000000  3.333132e+01      FPi\n",
       "1  0.993083     0.997947  3.083538e+11    TCLDi"
      ],
      "text/html": "<div>\n<style scoped>\n    .dataframe tbody tr th:only-of-type {\n        vertical-align: middle;\n    }\n\n    .dataframe tbody tr th {\n        vertical-align: top;\n    }\n\n    .dataframe thead th {\n        text-align: right;\n    }\n</style>\n<table border=\"1\" class=\"dataframe\">\n  <thead>\n    <tr style=\"text-align: right;\">\n      <th></th>\n      <th>r2</th>\n      <th>correlation</th>\n      <th>rmse</th>\n      <th>Variable</th>\n    </tr>\n  </thead>\n  <tbody>\n    <tr>\n      <th>0</th>\n      <td>1.000000</td>\n      <td>1.000000</td>\n      <td>3.333132e+01</td>\n      <td>FPi</td>\n    </tr>\n    <tr>\n      <th>1</th>\n      <td>0.993083</td>\n      <td>0.997947</td>\n      <td>3.083538e+11</td>\n      <td>TCLDi</td>\n    </tr>\n  </tbody>\n</table>\n</div>"
     },
     "metadata": {},
     "execution_count": 6
    }
   ],
   "source": [
    "from graphmodels.utils import get_X_y_from_data\n",
    "X, y_true = get_X_y_from_data(BE2_models['TCLDi_model'], data_dict)\n",
    "\n",
    "score_model(BE2_models['TCLDi_model'], X, y_true)"
   ]
  },
  {
   "cell_type": "code",
   "execution_count": 7,
   "metadata": {},
   "outputs": [
    {
     "output_type": "stream",
     "name": "stdout",
     "text": [
      "IL\nFL\n"
     ]
    },
    {
     "output_type": "execute_result",
     "data": {
      "text/plain": [
       "    r2  correlation  rmse Variable\n",
       "0  1.0          1.0   0.0       IL\n",
       "1  1.0          1.0   0.0       FL"
      ],
      "text/html": "<div>\n<style scoped>\n    .dataframe tbody tr th:only-of-type {\n        vertical-align: middle;\n    }\n\n    .dataframe tbody tr th {\n        vertical-align: top;\n    }\n\n    .dataframe thead th {\n        text-align: right;\n    }\n</style>\n<table border=\"1\" class=\"dataframe\">\n  <thead>\n    <tr style=\"text-align: right;\">\n      <th></th>\n      <th>r2</th>\n      <th>correlation</th>\n      <th>rmse</th>\n      <th>Variable</th>\n    </tr>\n  </thead>\n  <tbody>\n    <tr>\n      <th>0</th>\n      <td>1.0</td>\n      <td>1.0</td>\n      <td>0.0</td>\n      <td>IL</td>\n    </tr>\n    <tr>\n      <th>1</th>\n      <td>1.0</td>\n      <td>1.0</td>\n      <td>0.0</td>\n      <td>FL</td>\n    </tr>\n  </tbody>\n</table>\n</div>"
     },
     "metadata": {},
     "execution_count": 7
    }
   ],
   "source": [
    "X, y_true = get_X_y_from_data(BE2_models['IL_FL_model'], data_dict)\n",
    "\n",
    "score_model(BE2_models['IL_FL_model'], X, y_true)"
   ]
  },
  {
   "cell_type": "code",
   "execution_count": 8,
   "metadata": {},
   "outputs": [
    {
     "output_type": "stream",
     "name": "stdout",
     "text": [
      "FL\n",
      "IL\n",
      "CL\n",
      "TCLDi\n",
      "FPi\n"
     ]
    },
    {
     "output_type": "execute_result",
     "data": {
      "text/plain": [
       "          r2  correlation          rmse Variable\n",
       "0   0.948673     0.974597  4.045514e+08       FL\n",
       "1 -47.793481     0.720319  6.594513e+08       IL\n",
       "2  -0.228746     0.267987  5.977774e+08       CL\n",
       "3   0.993083     0.997947  3.083538e+11    TCLDi\n",
       "4   1.000000     1.000000  3.333132e+01      FPi"
      ],
      "text/html": "<div>\n<style scoped>\n    .dataframe tbody tr th:only-of-type {\n        vertical-align: middle;\n    }\n\n    .dataframe tbody tr th {\n        vertical-align: top;\n    }\n\n    .dataframe thead th {\n        text-align: right;\n    }\n</style>\n<table border=\"1\" class=\"dataframe\">\n  <thead>\n    <tr style=\"text-align: right;\">\n      <th></th>\n      <th>r2</th>\n      <th>correlation</th>\n      <th>rmse</th>\n      <th>Variable</th>\n    </tr>\n  </thead>\n  <tbody>\n    <tr>\n      <th>0</th>\n      <td>0.948673</td>\n      <td>0.974597</td>\n      <td>4.045514e+08</td>\n      <td>FL</td>\n    </tr>\n    <tr>\n      <th>1</th>\n      <td>-47.793481</td>\n      <td>0.720319</td>\n      <td>6.594513e+08</td>\n      <td>IL</td>\n    </tr>\n    <tr>\n      <th>2</th>\n      <td>-0.228746</td>\n      <td>0.267987</td>\n      <td>5.977774e+08</td>\n      <td>CL</td>\n    </tr>\n    <tr>\n      <th>3</th>\n      <td>0.993083</td>\n      <td>0.997947</td>\n      <td>3.083538e+11</td>\n      <td>TCLDi</td>\n    </tr>\n    <tr>\n      <th>4</th>\n      <td>1.000000</td>\n      <td>1.000000</td>\n      <td>3.333132e+01</td>\n      <td>FPi</td>\n    </tr>\n  </tbody>\n</table>\n</div>"
     },
     "metadata": {},
     "execution_count": 8
    }
   ],
   "source": [
    "X, y_true = get_X_y_from_data(BE2_models['BE2_model'], data_dict)\n",
    "\n",
    "score_model(BE2_models['BE2_model'], X, y_true)"
   ]
  },
  {
   "cell_type": "code",
   "execution_count": 10,
   "metadata": {},
   "outputs": [],
   "source": [
    "res = BE2_models['BE2_model'].run(X)"
   ]
  },
  {
   "cell_type": "code",
   "execution_count": 13,
   "metadata": {},
   "outputs": [
    {
     "output_type": "execute_result",
     "data": {
      "text/plain": [
       "ISO  Year\n",
       "AFG  1961         0.000000\n",
       "     1962         0.000000\n",
       "     1963         0.000000\n",
       "     1964         0.000000\n",
       "     1965         0.000000\n",
       "                 ...      \n",
       "ZWE  2015    345850.174138\n",
       "     2016    451517.423549\n",
       "     2017    316234.217933\n",
       "     2018    344889.576251\n",
       "     2019         0.000000\n",
       "Length: 10773, dtype: float64"
      ]
     },
     "metadata": {},
     "execution_count": 13
    }
   ],
   "source": [
    "res['TCLDi'].groupby(level=['ISO', 'Year']).sum()"
   ]
  },
  {
   "cell_type": "code",
   "execution_count": 16,
   "metadata": {},
   "outputs": [],
   "source": [
    "res = BE2_models['BE2_model'].run(X)"
   ]
  },
  {
   "cell_type": "code",
   "execution_count": 21,
   "metadata": {},
   "outputs": [
    {
     "output_type": "execute_result",
     "data": {
      "text/plain": [
       "<graphviz.dot.Digraph at 0x7ff3a0831ed0>"
      ],
      "image/svg+xml": "<?xml version=\"1.0\" encoding=\"UTF-8\" standalone=\"no\"?>\n<!DOCTYPE svg PUBLIC \"-//W3C//DTD SVG 1.1//EN\"\n \"http://www.w3.org/Graphics/SVG/1.1/DTD/svg11.dtd\">\n<!-- Generated by graphviz version 2.40.1 (20161225.0304)\n -->\n<!-- Title: %3 Pages: 1 -->\n<svg width=\"1853pt\" height=\"1349pt\"\n viewBox=\"0.00 0.00 1853.00 1349.00\" xmlns=\"http://www.w3.org/2000/svg\" xmlns:xlink=\"http://www.w3.org/1999/xlink\">\n<g id=\"graph0\" class=\"graph\" transform=\"scale(1 1) rotate(0) translate(4 1345)\">\n<title>%3</title>\n<polygon fill=\"#ffffff\" stroke=\"transparent\" points=\"-4,4 -4,-1345 1849,-1345 1849,4 -4,4\"/>\n<!-- TLA -->\n<g id=\"node1\" class=\"node\">\n<title>TLA</title>\n<polygon fill=\"#e76f51\" stroke=\"#eeeeee\" points=\"662,-214 549,-214 549,-161 662,-161 662,-214\"/>\n<text text-anchor=\"middle\" x=\"605.5\" y=\"-198.8\" font-family=\"roboto\" font-size=\"14.00\" fill=\"#eeeeee\">Total land area </text>\n<text text-anchor=\"middle\" x=\"605.5\" y=\"-183.8\" font-family=\"roboto\" font-size=\"14.00\" fill=\"#eeeeee\"> (TLA) </text>\n<text text-anchor=\"middle\" x=\"605.5\" y=\"-168.8\" font-family=\"roboto\" font-size=\"14.00\" fill=\"#eeeeee\"> 1000 ha</text>\n</g>\n<!-- BE2_comp -->\n<g id=\"node10\" class=\"node\">\n<title>BE2_comp</title>\n<polygon fill=\"none\" stroke=\"#a9a9a9\" points=\"781.5,-125 649.5,-125 649.5,-89 781.5,-89 781.5,-125\"/>\n<text text-anchor=\"middle\" x=\"715.5\" y=\"-103.3\" font-family=\"roboto\" font-size=\"14.00\" fill=\"#000000\">1e2 * FL_RF / TLA</text>\n</g>\n<!-- TLA&#45;&gt;BE2_comp -->\n<g id=\"edge1\" class=\"edge\">\n<title>TLA&#45;&gt;BE2_comp</title>\n<path fill=\"none\" stroke=\"#a9a9a9\" d=\"M655.75,-160.6947C655.75,-160.6947 655.75,-135.0658 655.75,-135.0658\"/>\n<polygon fill=\"#a9a9a9\" stroke=\"#a9a9a9\" points=\"659.2501,-135.0657 655.75,-125.0658 652.2501,-135.0658 659.2501,-135.0657\"/>\n</g>\n<!-- FL -->\n<g id=\"node2\" class=\"node\">\n<title>FL</title>\n<polygon fill=\"#f4a261\" stroke=\"#eeeeee\" points=\"697,-375 566,-375 566,-322 697,-322 697,-375\"/>\n<text text-anchor=\"middle\" x=\"631.5\" y=\"-359.8\" font-family=\"roboto\" font-size=\"14.00\" fill=\"#eeeeee\">Forest land stock </text>\n<text text-anchor=\"middle\" x=\"631.5\" y=\"-344.8\" font-family=\"roboto\" font-size=\"14.00\" fill=\"#eeeeee\"> (FL) </text>\n<text text-anchor=\"middle\" x=\"631.5\" y=\"-329.8\" font-family=\"roboto\" font-size=\"14.00\" fill=\"#eeeeee\"> 1000 ha</text>\n</g>\n<!-- FL_RF_comp -->\n<g id=\"node8\" class=\"node\">\n<title>FL_RF_comp</title>\n<polygon fill=\"none\" stroke=\"#a9a9a9\" points=\"902.5,-286 748.5,-286 748.5,-250 902.5,-250 902.5,-286\"/>\n<text text-anchor=\"middle\" x=\"825.5\" y=\"-264.3\" font-family=\"roboto\" font-size=\"14.00\" fill=\"#000000\">FL + 1e&#45;2 * R_rate * IL</text>\n</g>\n<!-- FL&#45;&gt;FL_RF_comp -->\n<g id=\"edge2\" class=\"edge\">\n<title>FL&#45;&gt;FL_RF_comp</title>\n<path fill=\"none\" stroke=\"#a9a9a9\" d=\"M688.75,-321.6947C688.75,-298.2772 688.75,-268 688.75,-268 688.75,-268 738.3327,-268 738.3327,-268\"/>\n<polygon fill=\"#a9a9a9\" stroke=\"#a9a9a9\" points=\"738.3328,-271.5001 748.3327,-268 738.3327,-264.5001 738.3328,-271.5001\"/>\n</g>\n<!-- FL_comp -->\n<g id=\"node3\" class=\"node\">\n<title>FL_comp</title>\n<polygon fill=\"none\" stroke=\"#a9a9a9\" points=\"722,-447 377,-447 377,-411 722,-411 722,-447\"/>\n<text text-anchor=\"middle\" x=\"549.5\" y=\"-425.3\" font-family=\"roboto\" font-size=\"14.00\" fill=\"#000000\">FL_baseline + (IL_baseline &#45; delta_CL).clip(upper=0)</text>\n</g>\n<!-- FL_comp&#45;&gt;FL -->\n<g id=\"edge3\" class=\"edge\">\n<title>FL_comp&#45;&gt;FL</title>\n<path fill=\"none\" stroke=\"#a9a9a9\" d=\"M631.5,-410.7333C631.5,-410.7333 631.5,-385.2477 631.5,-385.2477\"/>\n<polygon fill=\"#a9a9a9\" stroke=\"#a9a9a9\" points=\"635.0001,-385.2476 631.5,-375.2477 628.0001,-385.2477 635.0001,-385.2476\"/>\n</g>\n<!-- IL -->\n<g id=\"node4\" class=\"node\">\n<title>IL</title>\n<polygon fill=\"#f4a261\" stroke=\"#eeeeee\" points=\"895,-375 756,-375 756,-322 895,-322 895,-375\"/>\n<text text-anchor=\"middle\" x=\"825.5\" y=\"-359.8\" font-family=\"roboto\" font-size=\"14.00\" fill=\"#eeeeee\">Inactive land stock </text>\n<text text-anchor=\"middle\" x=\"825.5\" y=\"-344.8\" font-family=\"roboto\" font-size=\"14.00\" fill=\"#eeeeee\"> (IL) </text>\n<text text-anchor=\"middle\" x=\"825.5\" y=\"-329.8\" font-family=\"roboto\" font-size=\"14.00\" fill=\"#eeeeee\"> 1000 ha</text>\n</g>\n<!-- IL&#45;&gt;FL_RF_comp -->\n<g id=\"edge4\" class=\"edge\">\n<title>IL&#45;&gt;FL_RF_comp</title>\n<path fill=\"none\" stroke=\"#a9a9a9\" d=\"M825.5,-321.6947C825.5,-321.6947 825.5,-296.0658 825.5,-296.0658\"/>\n<polygon fill=\"#a9a9a9\" stroke=\"#a9a9a9\" points=\"829.0001,-296.0657 825.5,-286.0658 822.0001,-296.0658 829.0001,-296.0657\"/>\n</g>\n<!-- IL_comp -->\n<g id=\"node5\" class=\"node\">\n<title>IL_comp</title>\n<polygon fill=\"none\" stroke=\"#a9a9a9\" points=\"992.5,-447 740.5,-447 740.5,-411 992.5,-411 992.5,-447\"/>\n<text text-anchor=\"middle\" x=\"866.5\" y=\"-425.3\" font-family=\"roboto\" font-size=\"14.00\" fill=\"#000000\">(IL_baseline &#45; delta_CL).clip(lower=0)</text>\n</g>\n<!-- IL_comp&#45;&gt;IL -->\n<g id=\"edge5\" class=\"edge\">\n<title>IL_comp&#45;&gt;IL</title>\n<path fill=\"none\" stroke=\"#a9a9a9\" d=\"M825.5,-410.7333C825.5,-410.7333 825.5,-385.2477 825.5,-385.2477\"/>\n<polygon fill=\"#a9a9a9\" stroke=\"#a9a9a9\" points=\"829.0001,-385.2476 825.5,-375.2477 822.0001,-385.2477 829.0001,-385.2476\"/>\n</g>\n<!-- R_rate -->\n<g id=\"node6\" class=\"node\">\n<title>R_rate</title>\n<polygon fill=\"#e9c46a\" stroke=\"#eeeeee\" points=\"1064,-375 913,-375 913,-322 1064,-322 1064,-375\"/>\n<text text-anchor=\"middle\" x=\"988.5\" y=\"-359.8\" font-family=\"roboto\" font-size=\"14.00\" fill=\"#eeeeee\">Rate of reforestation </text>\n<text text-anchor=\"middle\" x=\"988.5\" y=\"-344.8\" font-family=\"roboto\" font-size=\"14.00\" fill=\"#eeeeee\"> (R_rate) </text>\n<text text-anchor=\"middle\" x=\"988.5\" y=\"-329.8\" font-family=\"roboto\" font-size=\"14.00\" fill=\"#eeeeee\"> %</text>\n</g>\n<!-- R_rate&#45;&gt;FL_RF_comp -->\n<g id=\"edge6\" class=\"edge\">\n<title>R_rate&#45;&gt;FL_RF_comp</title>\n<path fill=\"none\" stroke=\"#a9a9a9\" d=\"M912.7734,-348C904.3594,-348 898.75,-348 898.75,-348 898.75,-348 898.75,-296.1532 898.75,-296.1532\"/>\n<polygon fill=\"#a9a9a9\" stroke=\"#a9a9a9\" points=\"902.2501,-296.1532 898.75,-286.1532 895.2501,-296.1533 902.2501,-296.1532\"/>\n</g>\n<!-- FL_RF -->\n<g id=\"node7\" class=\"node\">\n<title>FL_RF</title>\n<polygon fill=\"#f4a261\" stroke=\"#eeeeee\" points=\"970.5,-214 680.5,-214 680.5,-161 970.5,-161 970.5,-214\"/>\n<text text-anchor=\"middle\" x=\"825.5\" y=\"-198.8\" font-family=\"roboto\" font-size=\"14.00\" fill=\"#eeeeee\">Forest land stock after reforestation policy </text>\n<text text-anchor=\"middle\" x=\"825.5\" y=\"-183.8\" font-family=\"roboto\" font-size=\"14.00\" fill=\"#eeeeee\"> (FL_RF) </text>\n<text text-anchor=\"middle\" x=\"825.5\" y=\"-168.8\" font-family=\"roboto\" font-size=\"14.00\" fill=\"#eeeeee\"> 1000 ha</text>\n</g>\n<!-- FL_RF&#45;&gt;BE2_comp -->\n<g id=\"edge7\" class=\"edge\">\n<title>FL_RF&#45;&gt;BE2_comp</title>\n<path fill=\"none\" stroke=\"#a9a9a9\" d=\"M731,-160.6947C731,-160.6947 731,-135.0658 731,-135.0658\"/>\n<polygon fill=\"#a9a9a9\" stroke=\"#a9a9a9\" points=\"734.5001,-135.0657 731,-125.0658 727.5001,-135.0658 734.5001,-135.0657\"/>\n</g>\n<!-- FL_RF_comp&#45;&gt;FL_RF -->\n<g id=\"edge8\" class=\"edge\">\n<title>FL_RF_comp&#45;&gt;FL_RF</title>\n<path fill=\"none\" stroke=\"#a9a9a9\" d=\"M825.5,-249.7333C825.5,-249.7333 825.5,-224.2477 825.5,-224.2477\"/>\n<polygon fill=\"#a9a9a9\" stroke=\"#a9a9a9\" points=\"829.0001,-224.2476 825.5,-214.2477 822.0001,-224.2477 829.0001,-224.2476\"/>\n</g>\n<!-- BE2 -->\n<g id=\"node9\" class=\"node\">\n<title>BE2</title>\n<polygon fill=\"#2a9d8f\" stroke=\"#eeeeee\" points=\"843,-53 588,-53 588,0 843,0 843,-53\"/>\n<text text-anchor=\"middle\" x=\"715.5\" y=\"-37.8\" font-family=\"roboto\" font-size=\"14.00\" fill=\"#eeeeee\">Share of forest area to total land area </text>\n<text text-anchor=\"middle\" x=\"715.5\" y=\"-22.8\" font-family=\"roboto\" font-size=\"14.00\" fill=\"#eeeeee\"> (BE2) </text>\n<text text-anchor=\"middle\" x=\"715.5\" y=\"-7.8\" font-family=\"roboto\" font-size=\"14.00\" fill=\"#eeeeee\"> %</text>\n</g>\n<!-- BE2_comp&#45;&gt;BE2 -->\n<g id=\"edge9\" class=\"edge\">\n<title>BE2_comp&#45;&gt;BE2</title>\n<path fill=\"none\" stroke=\"#a9a9a9\" d=\"M715.5,-88.7333C715.5,-88.7333 715.5,-63.2477 715.5,-63.2477\"/>\n<polygon fill=\"#a9a9a9\" stroke=\"#a9a9a9\" points=\"719.0001,-63.2476 715.5,-53.2477 712.0001,-63.2477 719.0001,-63.2476\"/>\n</g>\n<!-- CL -->\n<g id=\"node11\" class=\"node\">\n<title>CL</title>\n<polygon fill=\"#f4a261\" stroke=\"#eeeeee\" points=\"843.5,-697 727.5,-697 727.5,-644 843.5,-644 843.5,-697\"/>\n<text text-anchor=\"middle\" x=\"785.5\" y=\"-681.8\" font-family=\"roboto\" font-size=\"14.00\" fill=\"#eeeeee\">Cropland stock </text>\n<text text-anchor=\"middle\" x=\"785.5\" y=\"-666.8\" font-family=\"roboto\" font-size=\"14.00\" fill=\"#eeeeee\"> (CL) </text>\n<text text-anchor=\"middle\" x=\"785.5\" y=\"-651.8\" font-family=\"roboto\" font-size=\"14.00\" fill=\"#eeeeee\"> 1000 ha</text>\n</g>\n<!-- delta_CL_comp -->\n<g id=\"node15\" class=\"node\">\n<title>delta_CL_comp</title>\n<polygon fill=\"none\" stroke=\"#a9a9a9\" points=\"927,-608 806,-608 806,-572 927,-572 927,-608\"/>\n<text text-anchor=\"middle\" x=\"866.5\" y=\"-586.3\" font-family=\"roboto\" font-size=\"14.00\" fill=\"#000000\">CL &#45; CL_baseline</text>\n</g>\n<!-- CL&#45;&gt;delta_CL_comp -->\n<g id=\"edge10\" class=\"edge\">\n<title>CL&#45;&gt;delta_CL_comp</title>\n<path fill=\"none\" stroke=\"#a9a9a9\" d=\"M824.75,-643.6947C824.75,-643.6947 824.75,-618.0658 824.75,-618.0658\"/>\n<polygon fill=\"#a9a9a9\" stroke=\"#a9a9a9\" points=\"828.2501,-618.0657 824.75,-608.0658 821.2501,-618.0658 828.2501,-618.0657\"/>\n</g>\n<!-- CL_comp -->\n<g id=\"node12\" class=\"node\">\n<title>CL_comp</title>\n<polygon fill=\"none\" stroke=\"#a9a9a9\" points=\"1019,-769 552,-769 552,-733 1019,-733 1019,-769\"/>\n<text text-anchor=\"middle\" x=\"785.5\" y=\"-747.3\" font-family=\"roboto\" font-size=\"14.00\" fill=\"#000000\">TCLDi.groupby(level=[&#39;ISO&#39;, &#39;Year&#39;]).sum() * 1e&#45;2 # bug but 1e&#45;3 is wrong</text>\n</g>\n<!-- CL_comp&#45;&gt;CL -->\n<g id=\"edge11\" class=\"edge\">\n<title>CL_comp&#45;&gt;CL</title>\n<path fill=\"none\" stroke=\"#a9a9a9\" d=\"M785.5,-732.7333C785.5,-732.7333 785.5,-707.2477 785.5,-707.2477\"/>\n<polygon fill=\"#a9a9a9\" stroke=\"#a9a9a9\" points=\"789.0001,-707.2476 785.5,-697.2477 782.0001,-707.2477 789.0001,-707.2476\"/>\n</g>\n<!-- CL_baseline -->\n<g id=\"node13\" class=\"node\">\n<title>CL_baseline</title>\n<polygon fill=\"#e76f51\" stroke=\"#eeeeee\" points=\"1035,-697 862,-697 862,-644 1035,-644 1035,-697\"/>\n<text text-anchor=\"middle\" x=\"948.5\" y=\"-681.8\" font-family=\"roboto\" font-size=\"14.00\" fill=\"#eeeeee\">Cropland stock baseline </text>\n<text text-anchor=\"middle\" x=\"948.5\" y=\"-666.8\" font-family=\"roboto\" font-size=\"14.00\" fill=\"#eeeeee\"> (CL_baseline) </text>\n<text text-anchor=\"middle\" x=\"948.5\" y=\"-651.8\" font-family=\"roboto\" font-size=\"14.00\" fill=\"#eeeeee\"> 1000 ha</text>\n</g>\n<!-- CL_baseline&#45;&gt;delta_CL_comp -->\n<g id=\"edge12\" class=\"edge\">\n<title>CL_baseline&#45;&gt;delta_CL_comp</title>\n<path fill=\"none\" stroke=\"#a9a9a9\" d=\"M894.5,-643.6947C894.5,-643.6947 894.5,-618.0658 894.5,-618.0658\"/>\n<polygon fill=\"#a9a9a9\" stroke=\"#a9a9a9\" points=\"898.0001,-618.0657 894.5,-608.0658 891.0001,-618.0658 898.0001,-618.0657\"/>\n</g>\n<!-- delta_CL -->\n<g id=\"node14\" class=\"node\">\n<title>delta_CL</title>\n<polygon fill=\"#f4a261\" stroke=\"#eeeeee\" points=\"937.5,-536 795.5,-536 795.5,-483 937.5,-483 937.5,-536\"/>\n<text text-anchor=\"middle\" x=\"866.5\" y=\"-520.8\" font-family=\"roboto\" font-size=\"14.00\" fill=\"#eeeeee\">Change in cropland </text>\n<text text-anchor=\"middle\" x=\"866.5\" y=\"-505.8\" font-family=\"roboto\" font-size=\"14.00\" fill=\"#eeeeee\"> (delta_CL) </text>\n<text text-anchor=\"middle\" x=\"866.5\" y=\"-490.8\" font-family=\"roboto\" font-size=\"14.00\" fill=\"#eeeeee\"> 1000 ha</text>\n</g>\n<!-- delta_CL&#45;&gt;FL_comp -->\n<g id=\"edge13\" class=\"edge\">\n<title>delta_CL&#45;&gt;FL_comp</title>\n<path fill=\"none\" stroke=\"#a9a9a9\" d=\"M842.8333,-482.8434C842.8333,-473.3662 842.8333,-465 842.8333,-465 842.8333,-465 688,-465 688,-465 688,-465 688,-457.4218 688,-457.4218\"/>\n<polygon fill=\"#a9a9a9\" stroke=\"#a9a9a9\" points=\"691.5001,-457.4218 688,-447.4218 684.5001,-457.4219 691.5001,-457.4218\"/>\n</g>\n<!-- delta_CL&#45;&gt;IL_comp -->\n<g id=\"edge14\" class=\"edge\">\n<title>delta_CL&#45;&gt;IL_comp</title>\n<path fill=\"none\" stroke=\"#a9a9a9\" d=\"M890.1667,-482.6947C890.1667,-482.6947 890.1667,-457.0658 890.1667,-457.0658\"/>\n<polygon fill=\"#a9a9a9\" stroke=\"#a9a9a9\" points=\"893.6668,-457.0657 890.1667,-447.0658 886.6668,-457.0658 893.6668,-457.0657\"/>\n</g>\n<!-- delta_CL_comp&#45;&gt;delta_CL -->\n<g id=\"edge15\" class=\"edge\">\n<title>delta_CL_comp&#45;&gt;delta_CL</title>\n<path fill=\"none\" stroke=\"#a9a9a9\" d=\"M866.5,-571.7333C866.5,-571.7333 866.5,-546.2477 866.5,-546.2477\"/>\n<polygon fill=\"#a9a9a9\" stroke=\"#a9a9a9\" points=\"870.0001,-546.2476 866.5,-536.2477 863.0001,-546.2477 870.0001,-546.2476\"/>\n</g>\n<!-- IL_baseline -->\n<g id=\"node16\" class=\"node\">\n<title>IL_baseline</title>\n<polygon fill=\"#e76f51\" stroke=\"#eeeeee\" points=\"777,-536 620,-536 620,-483 777,-483 777,-536\"/>\n<text text-anchor=\"middle\" x=\"698.5\" y=\"-520.8\" font-family=\"roboto\" font-size=\"14.00\" fill=\"#eeeeee\">Inactive land baseline </text>\n<text text-anchor=\"middle\" x=\"698.5\" y=\"-505.8\" font-family=\"roboto\" font-size=\"14.00\" fill=\"#eeeeee\"> (IL_baseline) </text>\n<text text-anchor=\"middle\" x=\"698.5\" y=\"-490.8\" font-family=\"roboto\" font-size=\"14.00\" fill=\"#eeeeee\"> 1000 ha</text>\n</g>\n<!-- IL_baseline&#45;&gt;FL_comp -->\n<g id=\"edge16\" class=\"edge\">\n<title>IL_baseline&#45;&gt;FL_comp</title>\n<path fill=\"none\" stroke=\"#a9a9a9\" d=\"M654,-482.6947C654,-482.6947 654,-457.0658 654,-457.0658\"/>\n<polygon fill=\"#a9a9a9\" stroke=\"#a9a9a9\" points=\"657.5001,-457.0657 654,-447.0658 650.5001,-457.0658 657.5001,-457.0657\"/>\n</g>\n<!-- IL_baseline&#45;&gt;IL_comp -->\n<g id=\"edge17\" class=\"edge\">\n<title>IL_baseline&#45;&gt;IL_comp</title>\n<path fill=\"none\" stroke=\"#a9a9a9\" d=\"M758.75,-482.6947C758.75,-482.6947 758.75,-457.0658 758.75,-457.0658\"/>\n<polygon fill=\"#a9a9a9\" stroke=\"#a9a9a9\" points=\"762.2501,-457.0657 758.75,-447.0658 755.2501,-457.0658 762.2501,-457.0657\"/>\n</g>\n<!-- FL_baseline -->\n<g id=\"node17\" class=\"node\">\n<title>FL_baseline</title>\n<polygon fill=\"#e76f51\" stroke=\"#eeeeee\" points=\"602,-536 453,-536 453,-483 602,-483 602,-536\"/>\n<text text-anchor=\"middle\" x=\"527.5\" y=\"-520.8\" font-family=\"roboto\" font-size=\"14.00\" fill=\"#eeeeee\">Forest land baseline </text>\n<text text-anchor=\"middle\" x=\"527.5\" y=\"-505.8\" font-family=\"roboto\" font-size=\"14.00\" fill=\"#eeeeee\"> (FL_baseline) </text>\n<text text-anchor=\"middle\" x=\"527.5\" y=\"-490.8\" font-family=\"roboto\" font-size=\"14.00\" fill=\"#eeeeee\"> 1000 ha</text>\n</g>\n<!-- FL_baseline&#45;&gt;FL_comp -->\n<g id=\"edge18\" class=\"edge\">\n<title>FL_baseline&#45;&gt;FL_comp</title>\n<path fill=\"none\" stroke=\"#a9a9a9\" d=\"M527.5,-482.6947C527.5,-482.6947 527.5,-457.0658 527.5,-457.0658\"/>\n<polygon fill=\"#a9a9a9\" stroke=\"#a9a9a9\" points=\"531.0001,-457.0657 527.5,-447.0658 524.0001,-457.0658 531.0001,-457.0657\"/>\n</g>\n<!-- TCLDi -->\n<g id=\"node18\" class=\"node\">\n<title>TCLDi</title>\n<polygon fill=\"#f4a261\" stroke=\"#eeeeee\" points=\"852,-858 719,-858 719,-805 852,-805 852,-858\"/>\n<text text-anchor=\"middle\" x=\"785.5\" y=\"-842.8\" font-family=\"roboto\" font-size=\"14.00\" fill=\"#eeeeee\">Cropland demand </text>\n<text text-anchor=\"middle\" x=\"785.5\" y=\"-827.8\" font-family=\"roboto\" font-size=\"14.00\" fill=\"#eeeeee\"> (TCLDi) </text>\n<text text-anchor=\"middle\" x=\"785.5\" y=\"-812.8\" font-family=\"roboto\" font-size=\"14.00\" fill=\"#eeeeee\"> ha</text>\n</g>\n<!-- TCLDi&#45;&gt;CL_comp -->\n<g id=\"edge19\" class=\"edge\">\n<title>TCLDi&#45;&gt;CL_comp</title>\n<path fill=\"none\" stroke=\"#a9a9a9\" d=\"M785.5,-804.6947C785.5,-804.6947 785.5,-779.0658 785.5,-779.0658\"/>\n<polygon fill=\"#a9a9a9\" stroke=\"#a9a9a9\" points=\"789.0001,-779.0657 785.5,-769.0658 782.0001,-779.0658 789.0001,-779.0657\"/>\n</g>\n<!-- TCLDi_comp -->\n<g id=\"node19\" class=\"node\">\n<title>TCLDi_comp</title>\n<polygon fill=\"none\" stroke=\"#a9a9a9\" points=\"874.5,-930 696.5,-930 696.5,-894 874.5,-894 874.5,-930\"/>\n<text text-anchor=\"middle\" x=\"785.5\" y=\"-908.3\" font-family=\"roboto\" font-size=\"14.00\" fill=\"#000000\">ktonnes_to_hg * FPi / CYi</text>\n</g>\n<!-- TCLDi_comp&#45;&gt;TCLDi -->\n<g id=\"edge20\" class=\"edge\">\n<title>TCLDi_comp&#45;&gt;TCLDi</title>\n<path fill=\"none\" stroke=\"#a9a9a9\" d=\"M785.5,-893.7333C785.5,-893.7333 785.5,-868.2477 785.5,-868.2477\"/>\n<polygon fill=\"#a9a9a9\" stroke=\"#a9a9a9\" points=\"789.0001,-868.2476 785.5,-858.2477 782.0001,-868.2477 789.0001,-868.2476\"/>\n</g>\n<!-- CYi -->\n<g id=\"node20\" class=\"node\">\n<title>CYi</title>\n<polygon fill=\"#e76f51\" stroke=\"#eeeeee\" points=\"765,-1019 586,-1019 586,-966 765,-966 765,-1019\"/>\n<text text-anchor=\"middle\" x=\"675.5\" y=\"-1003.8\" font-family=\"roboto\" font-size=\"14.00\" fill=\"#eeeeee\">Crop yields per crop type </text>\n<text text-anchor=\"middle\" x=\"675.5\" y=\"-988.8\" font-family=\"roboto\" font-size=\"14.00\" fill=\"#eeeeee\"> (CYi) </text>\n<text text-anchor=\"middle\" x=\"675.5\" y=\"-973.8\" font-family=\"roboto\" font-size=\"14.00\" fill=\"#eeeeee\"> hg/ha</text>\n</g>\n<!-- CYi&#45;&gt;TCLDi_comp -->\n<g id=\"edge21\" class=\"edge\">\n<title>CYi&#45;&gt;TCLDi_comp</title>\n<path fill=\"none\" stroke=\"#a9a9a9\" d=\"M730.75,-965.6947C730.75,-965.6947 730.75,-940.0658 730.75,-940.0658\"/>\n<polygon fill=\"#a9a9a9\" stroke=\"#a9a9a9\" points=\"734.2501,-940.0657 730.75,-930.0658 727.2501,-940.0658 734.2501,-940.0657\"/>\n</g>\n<!-- FPi -->\n<g id=\"node21\" class=\"node\">\n<title>FPi</title>\n<polygon fill=\"#f4a261\" stroke=\"#eeeeee\" points=\"1007.5,-1019 783.5,-1019 783.5,-966 1007.5,-966 1007.5,-1019\"/>\n<text text-anchor=\"middle\" x=\"895.5\" y=\"-1003.8\" font-family=\"roboto\" font-size=\"14.00\" fill=\"#eeeeee\">Food production per food group </text>\n<text text-anchor=\"middle\" x=\"895.5\" y=\"-988.8\" font-family=\"roboto\" font-size=\"14.00\" fill=\"#eeeeee\"> (FPi) </text>\n<text text-anchor=\"middle\" x=\"895.5\" y=\"-973.8\" font-family=\"roboto\" font-size=\"14.00\" fill=\"#eeeeee\"> 1000 tonnes</text>\n</g>\n<!-- FPi&#45;&gt;TCLDi_comp -->\n<g id=\"edge22\" class=\"edge\">\n<title>FPi&#45;&gt;TCLDi_comp</title>\n<path fill=\"none\" stroke=\"#a9a9a9\" d=\"M829,-965.6947C829,-965.6947 829,-940.0658 829,-940.0658\"/>\n<polygon fill=\"#a9a9a9\" stroke=\"#a9a9a9\" points=\"832.5001,-940.0657 829,-930.0658 825.5001,-940.0658 832.5001,-940.0657\"/>\n</g>\n<!-- FPi_comp -->\n<g id=\"node22\" class=\"node\">\n<title>FPi_comp</title>\n<polygon fill=\"none\" stroke=\"#a9a9a9\" points=\"982.5,-1091 808.5,-1091 808.5,-1055 982.5,-1055 982.5,-1091\"/>\n<text text-anchor=\"middle\" x=\"895.5\" y=\"-1069.3\" font-family=\"roboto\" font-size=\"14.00\" fill=\"#000000\">(OFi + FDi + FDPi) * SSRi</text>\n</g>\n<!-- FPi_comp&#45;&gt;FPi -->\n<g id=\"edge23\" class=\"edge\">\n<title>FPi_comp&#45;&gt;FPi</title>\n<path fill=\"none\" stroke=\"#a9a9a9\" d=\"M895.5,-1054.7333C895.5,-1054.7333 895.5,-1029.2477 895.5,-1029.2477\"/>\n<polygon fill=\"#a9a9a9\" stroke=\"#a9a9a9\" points=\"899.0001,-1029.2476 895.5,-1019.2477 892.0001,-1029.2477 899.0001,-1029.2476\"/>\n</g>\n<!-- FLOi -->\n<g id=\"node23\" class=\"node\">\n<title>FLOi</title>\n<polygon fill=\"#e76f51\" stroke=\"#eeeeee\" points=\"197,-1341 0,-1341 0,-1288 197,-1288 197,-1341\"/>\n<text text-anchor=\"middle\" x=\"98.5\" y=\"-1325.8\" font-family=\"roboto\" font-size=\"14.00\" fill=\"#eeeeee\">Food losses per food group </text>\n<text text-anchor=\"middle\" x=\"98.5\" y=\"-1310.8\" font-family=\"roboto\" font-size=\"14.00\" fill=\"#eeeeee\"> (FLOi) </text>\n<text text-anchor=\"middle\" x=\"98.5\" y=\"-1295.8\" font-family=\"roboto\" font-size=\"14.00\" fill=\"#eeeeee\"> 1000 tonnes</text>\n</g>\n<!-- FDPi_comp -->\n<g id=\"node27\" class=\"node\">\n<title>FDPi_comp</title>\n<polygon fill=\"none\" stroke=\"#a9a9a9\" points=\"663.5,-1252 259.5,-1252 259.5,-1216 663.5,-1216 663.5,-1252\"/>\n<text text-anchor=\"middle\" x=\"461.5\" y=\"-1230.3\" font-family=\"roboto\" font-size=\"14.00\" fill=\"#000000\">kg_to_1000tonnes * day_per_year * FDKGi * Pop * 1e3 + FLOi</text>\n</g>\n<!-- FLOi&#45;&gt;FDPi_comp -->\n<g id=\"edge24\" class=\"edge\">\n<title>FLOi&#45;&gt;FDPi_comp</title>\n<path fill=\"none\" stroke=\"#a9a9a9\" d=\"M98.5,-1287.6947C98.5,-1264.2772 98.5,-1234 98.5,-1234 98.5,-1234 249.3023,-1234 249.3023,-1234\"/>\n<polygon fill=\"#a9a9a9\" stroke=\"#a9a9a9\" points=\"249.3023,-1237.5001 259.3023,-1234 249.3023,-1230.5001 249.3023,-1237.5001\"/>\n</g>\n<!-- FDKGi -->\n<g id=\"node24\" class=\"node\">\n<title>FDKGi</title>\n<polygon fill=\"#e76f51\" stroke=\"#eeeeee\" points=\"490,-1341 215,-1341 215,-1288 490,-1288 490,-1341\"/>\n<text text-anchor=\"middle\" x=\"352.5\" y=\"-1325.8\" font-family=\"roboto\" font-size=\"14.00\" fill=\"#eeeeee\">Kg food demand per day per food group </text>\n<text text-anchor=\"middle\" x=\"352.5\" y=\"-1310.8\" font-family=\"roboto\" font-size=\"14.00\" fill=\"#eeeeee\"> (FDKGi) </text>\n<text text-anchor=\"middle\" x=\"352.5\" y=\"-1295.8\" font-family=\"roboto\" font-size=\"14.00\" fill=\"#eeeeee\"> kg/capita/day</text>\n</g>\n<!-- FDKGi&#45;&gt;FDPi_comp -->\n<g id=\"edge25\" class=\"edge\">\n<title>FDKGi&#45;&gt;FDPi_comp</title>\n<path fill=\"none\" stroke=\"#a9a9a9\" d=\"M374.75,-1287.6947C374.75,-1287.6947 374.75,-1262.0658 374.75,-1262.0658\"/>\n<polygon fill=\"#a9a9a9\" stroke=\"#a9a9a9\" points=\"378.2501,-1262.0657 374.75,-1252.0658 371.2501,-1262.0658 378.2501,-1262.0657\"/>\n</g>\n<!-- SSRi -->\n<g id=\"node25\" class=\"node\">\n<title>SSRi</title>\n<polygon fill=\"#e76f51\" stroke=\"#eeeeee\" points=\"640.5,-1180 392.5,-1180 392.5,-1127 640.5,-1127 640.5,-1180\"/>\n<text text-anchor=\"middle\" x=\"516.5\" y=\"-1164.8\" font-family=\"roboto\" font-size=\"14.00\" fill=\"#eeeeee\">Self&#45;sufficiency ratio per food group </text>\n<text text-anchor=\"middle\" x=\"516.5\" y=\"-1149.8\" font-family=\"roboto\" font-size=\"14.00\" fill=\"#eeeeee\"> (SSRi) </text>\n<text text-anchor=\"middle\" x=\"516.5\" y=\"-1134.8\" font-family=\"roboto\" font-size=\"14.00\" fill=\"#eeeeee\"> 1</text>\n</g>\n<!-- SSRi&#45;&gt;FPi_comp -->\n<g id=\"edge26\" class=\"edge\">\n<title>SSRi&#45;&gt;FPi_comp</title>\n<path fill=\"none\" stroke=\"#a9a9a9\" d=\"M613.25,-1126.6947C613.25,-1103.2772 613.25,-1073 613.25,-1073 613.25,-1073 798.1273,-1073 798.1273,-1073\"/>\n<polygon fill=\"#a9a9a9\" stroke=\"#a9a9a9\" points=\"798.1273,-1076.5001 808.1273,-1073 798.1272,-1069.5001 798.1273,-1076.5001\"/>\n</g>\n<!-- FDPi -->\n<g id=\"node26\" class=\"node\">\n<title>FDPi</title>\n<polygon fill=\"#f4a261\" stroke=\"#eeeeee\" points=\"914.5,-1180 658.5,-1180 658.5,-1127 914.5,-1127 914.5,-1180\"/>\n<text text-anchor=\"middle\" x=\"786.5\" y=\"-1164.8\" font-family=\"roboto\" font-size=\"14.00\" fill=\"#eeeeee\">Total food production per food group </text>\n<text text-anchor=\"middle\" x=\"786.5\" y=\"-1149.8\" font-family=\"roboto\" font-size=\"14.00\" fill=\"#eeeeee\"> (FDPi) </text>\n<text text-anchor=\"middle\" x=\"786.5\" y=\"-1134.8\" font-family=\"roboto\" font-size=\"14.00\" fill=\"#eeeeee\"> 1000 tonnes</text>\n</g>\n<!-- FDPi&#45;&gt;FPi_comp -->\n<g id=\"edge27\" class=\"edge\">\n<title>FDPi&#45;&gt;FPi_comp</title>\n<path fill=\"none\" stroke=\"#a9a9a9\" d=\"M861.5,-1126.6947C861.5,-1126.6947 861.5,-1101.0658 861.5,-1101.0658\"/>\n<polygon fill=\"#a9a9a9\" stroke=\"#a9a9a9\" points=\"865.0001,-1101.0657 861.5,-1091.0658 858.0001,-1101.0658 865.0001,-1101.0657\"/>\n</g>\n<!-- FDPi_comp&#45;&gt;FDPi -->\n<g id=\"edge28\" class=\"edge\">\n<title>FDPi_comp&#45;&gt;FDPi</title>\n<path fill=\"none\" stroke=\"#a9a9a9\" d=\"M649.5,-1215.6198C649.5,-1191.7215 649.5,-1153 649.5,-1153 649.5,-1153 650.3989,-1153 650.3989,-1153\"/>\n<polygon fill=\"#a9a9a9\" stroke=\"#a9a9a9\" points=\"648.489,-1156.5001 658.489,-1153 648.4889,-1149.5001 648.489,-1156.5001\"/>\n</g>\n<!-- OFi -->\n<g id=\"node28\" class=\"node\">\n<title>OFi</title>\n<polygon fill=\"#f4a261\" stroke=\"#eeeeee\" points=\"1076,-1180 933,-1180 933,-1127 1076,-1127 1076,-1180\"/>\n<text text-anchor=\"middle\" x=\"1004.5\" y=\"-1164.8\" font-family=\"roboto\" font-size=\"14.00\" fill=\"#eeeeee\">Other food demand </text>\n<text text-anchor=\"middle\" x=\"1004.5\" y=\"-1149.8\" font-family=\"roboto\" font-size=\"14.00\" fill=\"#eeeeee\"> (OFi) </text>\n<text text-anchor=\"middle\" x=\"1004.5\" y=\"-1134.8\" font-family=\"roboto\" font-size=\"14.00\" fill=\"#eeeeee\"> 1000 tonnes</text>\n</g>\n<!-- OFi&#45;&gt;FPi_comp -->\n<g id=\"edge29\" class=\"edge\">\n<title>OFi&#45;&gt;FPi_comp</title>\n<path fill=\"none\" stroke=\"#a9a9a9\" d=\"M957.75,-1126.6947C957.75,-1126.6947 957.75,-1101.0658 957.75,-1101.0658\"/>\n<polygon fill=\"#a9a9a9\" stroke=\"#a9a9a9\" points=\"961.2501,-1101.0657 957.75,-1091.0658 954.2501,-1101.0658 961.2501,-1101.0657\"/>\n</g>\n<!-- OFi_comp -->\n<g id=\"node29\" class=\"node\">\n<title>OFi_comp</title>\n<polygon fill=\"none\" stroke=\"#a9a9a9\" points=\"1200,-1252 1003,-1252 1003,-1216 1200,-1216 1200,-1252\"/>\n<text text-anchor=\"middle\" x=\"1101.5\" y=\"-1230.3\" font-family=\"roboto\" font-size=\"14.00\" fill=\"#000000\">SDi + NFDi + PDi + RDi + SVi</text>\n</g>\n<!-- OFi_comp&#45;&gt;OFi -->\n<g id=\"edge30\" class=\"edge\">\n<title>OFi_comp&#45;&gt;OFi</title>\n<path fill=\"none\" stroke=\"#a9a9a9\" d=\"M1039.5,-1215.7333C1039.5,-1215.7333 1039.5,-1190.2477 1039.5,-1190.2477\"/>\n<polygon fill=\"#a9a9a9\" stroke=\"#a9a9a9\" points=\"1043.0001,-1190.2476 1039.5,-1180.2477 1036.0001,-1190.2477 1043.0001,-1190.2476\"/>\n</g>\n<!-- SDi -->\n<g id=\"node30\" class=\"node\">\n<title>SDi</title>\n<polygon fill=\"#e76f51\" stroke=\"#eeeeee\" points=\"1085.5,-1341 879.5,-1341 879.5,-1288 1085.5,-1288 1085.5,-1341\"/>\n<text text-anchor=\"middle\" x=\"982.5\" y=\"-1325.8\" font-family=\"roboto\" font-size=\"14.00\" fill=\"#eeeeee\">Seed demand per food group </text>\n<text text-anchor=\"middle\" x=\"982.5\" y=\"-1310.8\" font-family=\"roboto\" font-size=\"14.00\" fill=\"#eeeeee\"> (SDi) </text>\n<text text-anchor=\"middle\" x=\"982.5\" y=\"-1295.8\" font-family=\"roboto\" font-size=\"14.00\" fill=\"#eeeeee\"> 1000 tonnes</text>\n</g>\n<!-- SDi&#45;&gt;OFi_comp -->\n<g id=\"edge31\" class=\"edge\">\n<title>SDi&#45;&gt;OFi_comp</title>\n<path fill=\"none\" stroke=\"#a9a9a9\" d=\"M1044.25,-1287.6947C1044.25,-1287.6947 1044.25,-1262.0658 1044.25,-1262.0658\"/>\n<polygon fill=\"#a9a9a9\" stroke=\"#a9a9a9\" points=\"1047.7501,-1262.0657 1044.25,-1252.0658 1040.7501,-1262.0658 1047.7501,-1262.0657\"/>\n</g>\n<!-- NFDi -->\n<g id=\"node31\" class=\"node\">\n<title>NFDi</title>\n<polygon fill=\"#e76f51\" stroke=\"#eeeeee\" points=\"1337.5,-1341 1103.5,-1341 1103.5,-1288 1337.5,-1288 1337.5,-1341\"/>\n<text text-anchor=\"middle\" x=\"1220.5\" y=\"-1325.8\" font-family=\"roboto\" font-size=\"14.00\" fill=\"#eeeeee\">Non&#45;food demand per food group </text>\n<text text-anchor=\"middle\" x=\"1220.5\" y=\"-1310.8\" font-family=\"roboto\" font-size=\"14.00\" fill=\"#eeeeee\"> (NFDi) </text>\n<text text-anchor=\"middle\" x=\"1220.5\" y=\"-1295.8\" font-family=\"roboto\" font-size=\"14.00\" fill=\"#eeeeee\"> 1000 tonnes</text>\n</g>\n<!-- NFDi&#45;&gt;OFi_comp -->\n<g id=\"edge32\" class=\"edge\">\n<title>NFDi&#45;&gt;OFi_comp</title>\n<path fill=\"none\" stroke=\"#a9a9a9\" d=\"M1151.75,-1287.6947C1151.75,-1287.6947 1151.75,-1262.0658 1151.75,-1262.0658\"/>\n<polygon fill=\"#a9a9a9\" stroke=\"#a9a9a9\" points=\"1155.2501,-1262.0657 1151.75,-1252.0658 1148.2501,-1262.0658 1155.2501,-1262.0657\"/>\n</g>\n<!-- PDi -->\n<g id=\"node32\" class=\"node\">\n<title>PDi</title>\n<polygon fill=\"#e76f51\" stroke=\"#eeeeee\" points=\"1597.5,-1341 1355.5,-1341 1355.5,-1288 1597.5,-1288 1597.5,-1341\"/>\n<text text-anchor=\"middle\" x=\"1476.5\" y=\"-1325.8\" font-family=\"roboto\" font-size=\"14.00\" fill=\"#eeeeee\">Processed demand per food group </text>\n<text text-anchor=\"middle\" x=\"1476.5\" y=\"-1310.8\" font-family=\"roboto\" font-size=\"14.00\" fill=\"#eeeeee\"> (PDi) </text>\n<text text-anchor=\"middle\" x=\"1476.5\" y=\"-1295.8\" font-family=\"roboto\" font-size=\"14.00\" fill=\"#eeeeee\"> 1000 tonnes</text>\n</g>\n<!-- PDi&#45;&gt;OFi_comp -->\n<g id=\"edge33\" class=\"edge\">\n<title>PDi&#45;&gt;OFi_comp</title>\n<path fill=\"none\" stroke=\"#a9a9a9\" d=\"M1476.5,-1287.6038C1476.5,-1266.2642 1476.5,-1240 1476.5,-1240 1476.5,-1240 1210.0268,-1240 1210.0268,-1240\"/>\n<polygon fill=\"#a9a9a9\" stroke=\"#a9a9a9\" points=\"1210.0269,-1236.5001 1200.0268,-1240 1210.0268,-1243.5001 1210.0269,-1236.5001\"/>\n</g>\n<!-- RDi -->\n<g id=\"node33\" class=\"node\">\n<title>RDi</title>\n<polygon fill=\"#e76f51\" stroke=\"#eeeeee\" points=\"1845,-1341 1616,-1341 1616,-1288 1845,-1288 1845,-1341\"/>\n<text text-anchor=\"middle\" x=\"1730.5\" y=\"-1325.8\" font-family=\"roboto\" font-size=\"14.00\" fill=\"#eeeeee\">Residual demand per food group </text>\n<text text-anchor=\"middle\" x=\"1730.5\" y=\"-1310.8\" font-family=\"roboto\" font-size=\"14.00\" fill=\"#eeeeee\"> (RDi) </text>\n<text text-anchor=\"middle\" x=\"1730.5\" y=\"-1295.8\" font-family=\"roboto\" font-size=\"14.00\" fill=\"#eeeeee\"> 1000 tonnes</text>\n</g>\n<!-- RDi&#45;&gt;OFi_comp -->\n<g id=\"edge34\" class=\"edge\">\n<title>RDi&#45;&gt;OFi_comp</title>\n<path fill=\"none\" stroke=\"#a9a9a9\" d=\"M1730.5,-1287.605C1730.5,-1262.2127 1730.5,-1228 1730.5,-1228 1730.5,-1228 1210.127,-1228 1210.127,-1228\"/>\n<polygon fill=\"#a9a9a9\" stroke=\"#a9a9a9\" points=\"1210.127,-1224.5001 1200.127,-1228 1210.127,-1231.5001 1210.127,-1224.5001\"/>\n</g>\n<!-- SVi -->\n<g id=\"node34\" class=\"node\">\n<title>SVi</title>\n<polygon fill=\"#e76f51\" stroke=\"#eeeeee\" points=\"861.5,-1341 649.5,-1341 649.5,-1288 861.5,-1288 861.5,-1341\"/>\n<text text-anchor=\"middle\" x=\"755.5\" y=\"-1325.8\" font-family=\"roboto\" font-size=\"14.00\" fill=\"#eeeeee\">Stock variation per food group </text>\n<text text-anchor=\"middle\" x=\"755.5\" y=\"-1310.8\" font-family=\"roboto\" font-size=\"14.00\" fill=\"#eeeeee\"> (SVi) </text>\n<text text-anchor=\"middle\" x=\"755.5\" y=\"-1295.8\" font-family=\"roboto\" font-size=\"14.00\" fill=\"#eeeeee\"> 1000 tonnes</text>\n</g>\n<!-- SVi&#45;&gt;OFi_comp -->\n<g id=\"edge35\" class=\"edge\">\n<title>SVi&#45;&gt;OFi_comp</title>\n<path fill=\"none\" stroke=\"#a9a9a9\" d=\"M762.5,-1287.6947C762.5,-1264.2772 762.5,-1234 762.5,-1234 762.5,-1234 992.9918,-1234 992.9918,-1234\"/>\n<polygon fill=\"#a9a9a9\" stroke=\"#a9a9a9\" points=\"992.9918,-1237.5001 1002.9918,-1234 992.9918,-1230.5001 992.9918,-1237.5001\"/>\n</g>\n<!-- FDi -->\n<g id=\"node35\" class=\"node\">\n<title>FDi</title>\n<polygon fill=\"#e76f51\" stroke=\"#eeeeee\" points=\"1300.5,-1180 1094.5,-1180 1094.5,-1127 1300.5,-1127 1300.5,-1180\"/>\n<text text-anchor=\"middle\" x=\"1197.5\" y=\"-1164.8\" font-family=\"roboto\" font-size=\"14.00\" fill=\"#eeeeee\">Feed demand per food group </text>\n<text text-anchor=\"middle\" x=\"1197.5\" y=\"-1149.8\" font-family=\"roboto\" font-size=\"14.00\" fill=\"#eeeeee\"> (FDi) </text>\n<text text-anchor=\"middle\" x=\"1197.5\" y=\"-1134.8\" font-family=\"roboto\" font-size=\"14.00\" fill=\"#eeeeee\"> 1000 tonnes</text>\n</g>\n<!-- FDi&#45;&gt;FPi_comp -->\n<g id=\"edge36\" class=\"edge\">\n<title>FDi&#45;&gt;FPi_comp</title>\n<path fill=\"none\" stroke=\"#a9a9a9\" d=\"M1197.5,-1126.6947C1197.5,-1103.2772 1197.5,-1073 1197.5,-1073 1197.5,-1073 992.8509,-1073 992.8509,-1073\"/>\n<polygon fill=\"#a9a9a9\" stroke=\"#a9a9a9\" points=\"992.8509,-1069.5001 982.8509,-1073 992.8509,-1076.5001 992.8509,-1069.5001\"/>\n</g>\n<!-- Pop -->\n<g id=\"node36\" class=\"node\">\n<title>Pop</title>\n<polygon fill=\"#e76f51\" stroke=\"#eeeeee\" points=\"631,-1341 508,-1341 508,-1288 631,-1288 631,-1341\"/>\n<text text-anchor=\"middle\" x=\"569.5\" y=\"-1325.8\" font-family=\"roboto\" font-size=\"14.00\" fill=\"#eeeeee\">Total population </text>\n<text text-anchor=\"middle\" x=\"569.5\" y=\"-1310.8\" font-family=\"roboto\" font-size=\"14.00\" fill=\"#eeeeee\"> (Pop) </text>\n<text text-anchor=\"middle\" x=\"569.5\" y=\"-1295.8\" font-family=\"roboto\" font-size=\"14.00\" fill=\"#eeeeee\"> 1000 persons</text>\n</g>\n<!-- Pop&#45;&gt;FDPi_comp -->\n<g id=\"edge37\" class=\"edge\">\n<title>Pop&#45;&gt;FDPi_comp</title>\n<path fill=\"none\" stroke=\"#a9a9a9\" d=\"M569.5,-1287.6947C569.5,-1287.6947 569.5,-1262.0658 569.5,-1262.0658\"/>\n<polygon fill=\"#a9a9a9\" stroke=\"#a9a9a9\" points=\"573.0001,-1262.0657 569.5,-1252.0658 566.0001,-1262.0658 573.0001,-1262.0657\"/>\n</g>\n</g>\n</svg>\n"
     },
     "metadata": {},
     "execution_count": 21
    }
   ],
   "source": [
    "BE2_models['BE2_model'].draw()"
   ]
  },
  {
   "cell_type": "code",
   "execution_count": 23,
   "metadata": {},
   "outputs": [
    {
     "output_type": "execute_result",
     "data": {
      "text/plain": [
       "{'RDi': {'type': 'input',\n",
       "  'unit': '1000 tonnes',\n",
       "  'name': 'Residual demand per food group'}}"
      ]
     },
     "metadata": {},
     "execution_count": 23
    }
   ],
   "source": [
    "{ 'RDi': {\n",
    "                'type': 'input',\n",
    "                'unit': '1000 tonnes',\n",
    "                'name': 'Residual demand per food group'\n",
    "                },}"
   ]
  }
 ],
 "metadata": {
  "kernelspec": {
   "display_name": "Python 3",
   "language": "python",
   "name": "python3"
  },
  "language_info": {
   "codemirror_mode": {
    "name": "ipython",
    "version": 3
   },
   "file_extension": ".py",
   "mimetype": "text/x-python",
   "name": "python",
   "nbconvert_exporter": "python",
   "pygments_lexer": "ipython3",
   "version": "3.7.7-final"
  }
 },
 "nbformat": 4,
 "nbformat_minor": 4
}