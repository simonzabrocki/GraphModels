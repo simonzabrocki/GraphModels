{
 "cells": [
  {
   "cell_type": "code",
   "execution_count": 1,
   "metadata": {
    "ExecuteTime": {
     "end_time": "2021-03-16T02:58:46.226078Z",
     "start_time": "2021-03-16T02:58:44.578806Z"
    }
   },
   "outputs": [],
   "source": [
    "from graphmodels.graphmodel import converte_to_format, GraphModel, concatenate_graph_specs\n",
    "from database import select_dataset\n",
    "from graphmodels.utils import get_X_y_from_data\n",
    "from graphmodels.validation import score_model, plot_diagnostic\n",
    "import pandas as pd\n",
    "import numpy as np\n",
    "from models.Hermen.model_BE2 import BE2_models"
   ]
  },
  {
   "cell_type": "code",
   "execution_count": 2,
   "metadata": {
    "ExecuteTime": {
     "end_time": "2021-03-09T00:58:17.187363Z",
     "start_time": "2021-03-09T00:58:14.340728Z"
    }
   },
   "outputs": [],
   "source": [
    "fbs_data = select_dataset('foodbalancesheet')\n",
    "population_data = select_dataset('population')\n",
    "crops_data = select_dataset('crops')\n",
    "landuse = select_dataset('landuse')"
   ]
  },
  {
   "cell_type": "code",
   "execution_count": 3,
   "metadata": {},
   "outputs": [],
   "source": [
    "model_df = pd.concat([fbs_data, population_data, crops_data],).dropna(subset=['Variable'])\n",
    "model_df = model_df[~model_df.Variable.isin(['Domestic supply quantity'])]"
   ]
  },
  {
   "cell_type": "code",
   "execution_count": 38,
   "metadata": {
    "ExecuteTime": {
     "end_time": "2021-03-09T00:58:20.257865Z",
     "start_time": "2021-03-09T00:58:17.189230Z"
    }
   },
   "outputs": [],
   "source": [
    "from graphmodels.utils import df_to_data_dict\n",
    "\n",
    "def get_X_y_from_data(model, data_dict):\n",
    "    '''TO CLEAN UP'''\n",
    "    X = {key: data_dict[key] for key in model.inputs_() + model.parameters_()}\n",
    "    y = {key: data_dict[key] for key in model.variables_() + model.outputs_() if key in data_dict}\n",
    "    return X, y\n",
    "\n",
    "\n",
    "def df_to_dict(df):\n",
    "    X = {}\n",
    "    for code in df.columns:\n",
    "        X[code] = df[code]\n",
    "    return X\n",
    "\n",
    "\n",
    "def fill_missing_values(df):\n",
    "    return df\n",
    "\n",
    "\n",
    "def df_to_data_dict(df, itemized):\n",
    "    data_dict = {}\n",
    "\n",
    "    non_item_df = df[~df.Variable.isin(itemized)].pivot(\n",
    "        index=['ISO', 'Year'], columns='Variable', values='Value')\n",
    "    non_item_df = fill_missing_values(non_item_df)\n",
    "    \n",
    "    if itemized != []:\n",
    "        item_df = df[df.Variable.isin(itemized)].pivot(\n",
    "            index=['ISO', 'Year', 'Item'], columns='Variable', values='Value')\n",
    "        data_dict.update(df_to_dict(item_df))\n",
    "\n",
    "\n",
    "    data_dict.update(df_to_dict(non_item_df))\n",
    "\n",
    "    return data_dict\n",
    "\n",
    "\n",
    "itemized = [\n",
    "    'FDKCi', 'FPi', 'FIi', 'SVi', 'FEi',\n",
    "    'FDi', 'SDi', 'FLOi', 'PDi', 'RDi', 'Food', 'FDKGi', 'NFDi',\n",
    "    'SSRi', 'KKRi', 'TCLDi', 'CYi'\n",
    "    ]\n",
    "\n",
    "data_dict = df_to_data_dict(model_df, itemized)\n",
    "\n",
    "\n",
    "data_dict.update(df_to_data_dict(landuse, itemized=[]))\n",
    "data_dict['CL_baseline'] = data_dict['CL'] \n",
    "data_dict['IL_baseline'] = data_dict['IL'] \n",
    "data_dict['FL_baseline'] = data_dict['FL'] \n",
    "data_dict['R_rate'] = pd.Series(data=0, index=data_dict['CL_baseline'].index)\n"
   ]
  },
  {
   "cell_type": "code",
   "execution_count": 40,
   "metadata": {
    "ExecuteTime": {
     "end_time": "2021-03-09T00:58:20.605294Z",
     "start_time": "2021-03-09T00:58:20.333469Z"
    }
   },
   "outputs": [
    {
     "output_type": "stream",
     "name": "stdout",
     "text": [
      "FPi\n",
      "TCLDi\n"
     ]
    },
    {
     "output_type": "execute_result",
     "data": {
      "text/plain": [
       "         r2  correlation          rmse Variable\n",
       "0  1.000000     1.000000  3.333132e+01      FPi\n",
       "1  0.993083     0.997947  3.083538e+11    TCLDi"
      ],
      "text/html": "<div>\n<style scoped>\n    .dataframe tbody tr th:only-of-type {\n        vertical-align: middle;\n    }\n\n    .dataframe tbody tr th {\n        vertical-align: top;\n    }\n\n    .dataframe thead th {\n        text-align: right;\n    }\n</style>\n<table border=\"1\" class=\"dataframe\">\n  <thead>\n    <tr style=\"text-align: right;\">\n      <th></th>\n      <th>r2</th>\n      <th>correlation</th>\n      <th>rmse</th>\n      <th>Variable</th>\n    </tr>\n  </thead>\n  <tbody>\n    <tr>\n      <th>0</th>\n      <td>1.000000</td>\n      <td>1.000000</td>\n      <td>3.333132e+01</td>\n      <td>FPi</td>\n    </tr>\n    <tr>\n      <th>1</th>\n      <td>0.993083</td>\n      <td>0.997947</td>\n      <td>3.083538e+11</td>\n      <td>TCLDi</td>\n    </tr>\n  </tbody>\n</table>\n</div>"
     },
     "metadata": {},
     "execution_count": 40
    }
   ],
   "source": [
    "from graphmodels.utils import get_X_y_from_data\n",
    "X, y_true = get_X_y_from_data(BE2_models['TCLDi_model'], data_dict)\n",
    "\n",
    "score_model(BE2_models['TCLDi_model'], X, y_true)"
   ]
  },
  {
   "cell_type": "code",
   "execution_count": 41,
   "metadata": {},
   "outputs": [
    {
     "output_type": "stream",
     "name": "stdout",
     "text": [
      "IL\nFL\n"
     ]
    },
    {
     "output_type": "execute_result",
     "data": {
      "text/plain": [
       "    r2  correlation  rmse Variable\n",
       "0  1.0          1.0   0.0       IL\n",
       "1  1.0          1.0   0.0       FL"
      ],
      "text/html": "<div>\n<style scoped>\n    .dataframe tbody tr th:only-of-type {\n        vertical-align: middle;\n    }\n\n    .dataframe tbody tr th {\n        vertical-align: top;\n    }\n\n    .dataframe thead th {\n        text-align: right;\n    }\n</style>\n<table border=\"1\" class=\"dataframe\">\n  <thead>\n    <tr style=\"text-align: right;\">\n      <th></th>\n      <th>r2</th>\n      <th>correlation</th>\n      <th>rmse</th>\n      <th>Variable</th>\n    </tr>\n  </thead>\n  <tbody>\n    <tr>\n      <th>0</th>\n      <td>1.0</td>\n      <td>1.0</td>\n      <td>0.0</td>\n      <td>IL</td>\n    </tr>\n    <tr>\n      <th>1</th>\n      <td>1.0</td>\n      <td>1.0</td>\n      <td>0.0</td>\n      <td>FL</td>\n    </tr>\n  </tbody>\n</table>\n</div>"
     },
     "metadata": {},
     "execution_count": 41
    }
   ],
   "source": [
    "X, y_true = get_X_y_from_data(BE2_models['IL_FL_model'], data_dict)\n",
    "\n",
    "score_model(BE2_models['IL_FL_model'], X, y_true)"
   ]
  },
  {
   "cell_type": "code",
   "execution_count": 42,
   "metadata": {},
   "outputs": [
    {
     "output_type": "stream",
     "name": "stdout",
     "text": [
      "FL\n",
      "IL\n",
      "CL\n",
      "TCLDi\n",
      "FPi\n"
     ]
    },
    {
     "output_type": "execute_result",
     "data": {
      "text/plain": [
       "          r2  correlation          rmse Variable\n",
       "0   1.000000     1.000000  0.000000e+00       FL\n",
       "1 -60.376810     0.825521  8.295169e+08       IL\n",
       "2  -0.068482     0.267987  5.198099e+08       CL\n",
       "3   0.993083     0.997947  3.083538e+11    TCLDi\n",
       "4   1.000000     1.000000  3.333132e+01      FPi"
      ],
      "text/html": "<div>\n<style scoped>\n    .dataframe tbody tr th:only-of-type {\n        vertical-align: middle;\n    }\n\n    .dataframe tbody tr th {\n        vertical-align: top;\n    }\n\n    .dataframe thead th {\n        text-align: right;\n    }\n</style>\n<table border=\"1\" class=\"dataframe\">\n  <thead>\n    <tr style=\"text-align: right;\">\n      <th></th>\n      <th>r2</th>\n      <th>correlation</th>\n      <th>rmse</th>\n      <th>Variable</th>\n    </tr>\n  </thead>\n  <tbody>\n    <tr>\n      <th>0</th>\n      <td>1.000000</td>\n      <td>1.000000</td>\n      <td>0.000000e+00</td>\n      <td>FL</td>\n    </tr>\n    <tr>\n      <th>1</th>\n      <td>-60.376810</td>\n      <td>0.825521</td>\n      <td>8.295169e+08</td>\n      <td>IL</td>\n    </tr>\n    <tr>\n      <th>2</th>\n      <td>-0.068482</td>\n      <td>0.267987</td>\n      <td>5.198099e+08</td>\n      <td>CL</td>\n    </tr>\n    <tr>\n      <th>3</th>\n      <td>0.993083</td>\n      <td>0.997947</td>\n      <td>3.083538e+11</td>\n      <td>TCLDi</td>\n    </tr>\n    <tr>\n      <th>4</th>\n      <td>1.000000</td>\n      <td>1.000000</td>\n      <td>3.333132e+01</td>\n      <td>FPi</td>\n    </tr>\n  </tbody>\n</table>\n</div>"
     },
     "metadata": {},
     "execution_count": 42
    }
   ],
   "source": [
    "X, y_true = get_X_y_from_data(BE2_models['BE2_model'], data_dict)\n",
    "\n",
    "score_model(BE2_models['BE2_model'], X, y_true)"
   ]
  },
  {
   "cell_type": "code",
   "execution_count": 43,
   "metadata": {},
   "outputs": [],
   "source": [
    "res = BE2_models['BE2_model'].run(X)"
   ]
  },
  {
   "cell_type": "code",
   "execution_count": 44,
   "metadata": {},
   "outputs": [
    {
     "output_type": "execute_result",
     "data": {
      "text/plain": [
       "ISO  Year\n",
       "AFG  1961         0.000000\n",
       "     1962         0.000000\n",
       "     1963         0.000000\n",
       "     1964         0.000000\n",
       "     1965         0.000000\n",
       "                 ...      \n",
       "ZWE  2015    345850.174138\n",
       "     2016    451517.423549\n",
       "     2017    316234.217933\n",
       "     2018    344889.576251\n",
       "     2019         0.000000\n",
       "Length: 10773, dtype: float64"
      ]
     },
     "metadata": {},
     "execution_count": 44
    }
   ],
   "source": [
    "res['TCLDi'].groupby(level=['ISO', 'Year']).sum()"
   ]
  },
  {
   "cell_type": "code",
   "execution_count": 45,
   "metadata": {},
   "outputs": [
    {
     "output_type": "execute_result",
     "data": {
      "text/plain": [
       "'lalala'"
      ]
     },
     "metadata": {},
     "execution_count": 45
    }
   ],
   "source": [
    "\n",
    "'lalala_two'.rstrip('_one').rstrip('_two')"
   ]
  },
  {
   "cell_type": "code",
   "execution_count": 46,
   "metadata": {},
   "outputs": [],
   "source": [
    "res = BE2_models['BE2_model'].run(X)"
   ]
  },
  {
   "source": [
    "# Assumptions \n",
    "\n",
    "- FLOi: user input, 2050 target +50 -50% baseline \n",
    "- FDKGi: user input, 1st idea a 2050 target +50 -50% baseline, interpolate in between same for everygroup. (Maybe see how to do to diet change later)\n",
    "- Pop: projection\n",
    "- OFi children: keep constant (maybe a regression later to have something more relevant)\n",
    "- FDi: for now incomplete (FCRi in complete model maybe play with it, FCRi scenario: to check for now leave alone !). \n",
    "- SSRi : could stay constant, could be projected with pop, some increase somehow, let's see case by case (Might need some sort feedbackloop with landuse)\n",
    "- CYi : user input, 2050 target ! (to look for realistic values)\n",
    "- TLA: constant\n",
    "- R_rate: User input, \n"
   ],
   "cell_type": "markdown",
   "metadata": {}
  },
  {
   "cell_type": "code",
   "execution_count": 47,
   "metadata": {},
   "outputs": [
    {
     "output_type": "execute_result",
     "data": {
      "text/plain": [
       "<graphviz.dot.Digraph at 0x7f8221bb9a50>"
      ],
      "image/svg+xml": "<?xml version=\"1.0\" encoding=\"UTF-8\" standalone=\"no\"?>\n<!DOCTYPE svg PUBLIC \"-//W3C//DTD SVG 1.1//EN\"\n \"http://www.w3.org/Graphics/SVG/1.1/DTD/svg11.dtd\">\n<!-- Generated by graphviz version 2.40.1 (20161225.0304)\n -->\n<!-- Title: %3 Pages: 1 -->\n<svg width=\"1853pt\" height=\"1349pt\"\n viewBox=\"0.00 0.00 1853.00 1349.00\" xmlns=\"http://www.w3.org/2000/svg\" xmlns:xlink=\"http://www.w3.org/1999/xlink\">\n<g id=\"graph0\" class=\"graph\" transform=\"scale(1 1) rotate(0) translate(4 1345)\">\n<title>%3</title>\n<polygon fill=\"#ffffff\" stroke=\"transparent\" points=\"-4,4 -4,-1345 1849,-1345 1849,4 -4,4\"/>\n<!-- TLA -->\n<g id=\"node1\" class=\"node\">\n<title>TLA</title>\n<polygon fill=\"#e76f51\" stroke=\"#eeeeee\" points=\"656,-214 543,-214 543,-161 656,-161 656,-214\"/>\n<text text-anchor=\"middle\" x=\"599.5\" y=\"-198.8\" font-family=\"roboto\" font-size=\"14.00\" fill=\"#eeeeee\">Total land area </text>\n<text text-anchor=\"middle\" x=\"599.5\" y=\"-183.8\" font-family=\"roboto\" font-size=\"14.00\" fill=\"#eeeeee\"> (TLA) </text>\n<text text-anchor=\"middle\" x=\"599.5\" y=\"-168.8\" font-family=\"roboto\" font-size=\"14.00\" fill=\"#eeeeee\"> 1000 ha</text>\n</g>\n<!-- BE2_comp -->\n<g id=\"node10\" class=\"node\">\n<title>BE2_comp</title>\n<polygon fill=\"none\" stroke=\"#a9a9a9\" points=\"775.5,-125 643.5,-125 643.5,-89 775.5,-89 775.5,-125\"/>\n<text text-anchor=\"middle\" x=\"709.5\" y=\"-103.3\" font-family=\"roboto\" font-size=\"14.00\" fill=\"#000000\">1e2 * FL_RF / TLA</text>\n</g>\n<!-- TLA&#45;&gt;BE2_comp -->\n<g id=\"edge1\" class=\"edge\">\n<title>TLA&#45;&gt;BE2_comp</title>\n<path fill=\"none\" stroke=\"#a9a9a9\" d=\"M649.75,-160.6947C649.75,-160.6947 649.75,-135.0658 649.75,-135.0658\"/>\n<polygon fill=\"#a9a9a9\" stroke=\"#a9a9a9\" points=\"653.2501,-135.0657 649.75,-125.0658 646.2501,-135.0658 653.2501,-135.0657\"/>\n</g>\n<!-- FL -->\n<g id=\"node2\" class=\"node\">\n<title>FL</title>\n<polygon fill=\"#f4a261\" stroke=\"#eeeeee\" points=\"662,-375 531,-375 531,-322 662,-322 662,-375\"/>\n<text text-anchor=\"middle\" x=\"596.5\" y=\"-359.8\" font-family=\"roboto\" font-size=\"14.00\" fill=\"#eeeeee\">Forest land stock </text>\n<text text-anchor=\"middle\" x=\"596.5\" y=\"-344.8\" font-family=\"roboto\" font-size=\"14.00\" fill=\"#eeeeee\"> (FL) </text>\n<text text-anchor=\"middle\" x=\"596.5\" y=\"-329.8\" font-family=\"roboto\" font-size=\"14.00\" fill=\"#eeeeee\"> 1000 ha</text>\n</g>\n<!-- FL_RF_comp -->\n<g id=\"node8\" class=\"node\">\n<title>FL_RF_comp</title>\n<polygon fill=\"none\" stroke=\"#a9a9a9\" points=\"896.5,-286 742.5,-286 742.5,-250 896.5,-250 896.5,-286\"/>\n<text text-anchor=\"middle\" x=\"819.5\" y=\"-264.3\" font-family=\"roboto\" font-size=\"14.00\" fill=\"#000000\">FL + 1e&#45;2 * R_rate * IL</text>\n</g>\n<!-- FL&#45;&gt;FL_RF_comp -->\n<g id=\"edge2\" class=\"edge\">\n<title>FL&#45;&gt;FL_RF_comp</title>\n<path fill=\"none\" stroke=\"#a9a9a9\" d=\"M662.1825,-348C702.4185,-348 746.25,-348 746.25,-348 746.25,-348 746.25,-296.1532 746.25,-296.1532\"/>\n<polygon fill=\"#a9a9a9\" stroke=\"#a9a9a9\" points=\"749.7501,-296.1532 746.25,-286.1532 742.7501,-296.1533 749.7501,-296.1532\"/>\n</g>\n<!-- FL_comp -->\n<g id=\"node3\" class=\"node\">\n<title>FL_comp</title>\n<polygon fill=\"none\" stroke=\"#a9a9a9\" points=\"687,-447 224,-447 224,-411 687,-411 687,-447\"/>\n<text text-anchor=\"middle\" x=\"455.5\" y=\"-425.3\" font-family=\"roboto\" font-size=\"14.00\" fill=\"#000000\">FL_baseline + (IL_baseline &#45; delta_CL).clip(upper=0) # to double check</text>\n</g>\n<!-- FL_comp&#45;&gt;FL -->\n<g id=\"edge3\" class=\"edge\">\n<title>FL_comp&#45;&gt;FL</title>\n<path fill=\"none\" stroke=\"#a9a9a9\" d=\"M596.5,-410.7333C596.5,-410.7333 596.5,-385.2477 596.5,-385.2477\"/>\n<polygon fill=\"#a9a9a9\" stroke=\"#a9a9a9\" points=\"600.0001,-385.2476 596.5,-375.2477 593.0001,-385.2477 600.0001,-385.2476\"/>\n</g>\n<!-- IL -->\n<g id=\"node4\" class=\"node\">\n<title>IL</title>\n<polygon fill=\"#f4a261\" stroke=\"#eeeeee\" points=\"889,-375 750,-375 750,-322 889,-322 889,-375\"/>\n<text text-anchor=\"middle\" x=\"819.5\" y=\"-359.8\" font-family=\"roboto\" font-size=\"14.00\" fill=\"#eeeeee\">Inactive land stock </text>\n<text text-anchor=\"middle\" x=\"819.5\" y=\"-344.8\" font-family=\"roboto\" font-size=\"14.00\" fill=\"#eeeeee\"> (IL) </text>\n<text text-anchor=\"middle\" x=\"819.5\" y=\"-329.8\" font-family=\"roboto\" font-size=\"14.00\" fill=\"#eeeeee\"> 1000 ha</text>\n</g>\n<!-- IL&#45;&gt;FL_RF_comp -->\n<g id=\"edge4\" class=\"edge\">\n<title>IL&#45;&gt;FL_RF_comp</title>\n<path fill=\"none\" stroke=\"#a9a9a9\" d=\"M819.5,-321.6947C819.5,-321.6947 819.5,-296.0658 819.5,-296.0658\"/>\n<polygon fill=\"#a9a9a9\" stroke=\"#a9a9a9\" points=\"823.0001,-296.0657 819.5,-286.0658 816.0001,-296.0658 823.0001,-296.0657\"/>\n</g>\n<!-- IL_comp -->\n<g id=\"node5\" class=\"node\">\n<title>IL_comp</title>\n<polygon fill=\"none\" stroke=\"#a9a9a9\" points=\"1075.5,-447 705.5,-447 705.5,-411 1075.5,-411 1075.5,-447\"/>\n<text text-anchor=\"middle\" x=\"890.5\" y=\"-425.3\" font-family=\"roboto\" font-size=\"14.00\" fill=\"#000000\">(IL_baseline &#45; delta_CL).clip(lower=0) # to double check</text>\n</g>\n<!-- IL_comp&#45;&gt;IL -->\n<g id=\"edge5\" class=\"edge\">\n<title>IL_comp&#45;&gt;IL</title>\n<path fill=\"none\" stroke=\"#a9a9a9\" d=\"M819.5,-410.7333C819.5,-410.7333 819.5,-385.2477 819.5,-385.2477\"/>\n<polygon fill=\"#a9a9a9\" stroke=\"#a9a9a9\" points=\"823.0001,-385.2476 819.5,-375.2477 816.0001,-385.2477 823.0001,-385.2476\"/>\n</g>\n<!-- R_rate -->\n<g id=\"node6\" class=\"node\">\n<title>R_rate</title>\n<polygon fill=\"#e9c46a\" stroke=\"#eeeeee\" points=\"1058,-375 907,-375 907,-322 1058,-322 1058,-375\"/>\n<text text-anchor=\"middle\" x=\"982.5\" y=\"-359.8\" font-family=\"roboto\" font-size=\"14.00\" fill=\"#eeeeee\">Rate of reforestation </text>\n<text text-anchor=\"middle\" x=\"982.5\" y=\"-344.8\" font-family=\"roboto\" font-size=\"14.00\" fill=\"#eeeeee\"> (R_rate) </text>\n<text text-anchor=\"middle\" x=\"982.5\" y=\"-329.8\" font-family=\"roboto\" font-size=\"14.00\" fill=\"#eeeeee\"> %</text>\n</g>\n<!-- R_rate&#45;&gt;FL_RF_comp -->\n<g id=\"edge6\" class=\"edge\">\n<title>R_rate&#45;&gt;FL_RF_comp</title>\n<path fill=\"none\" stroke=\"#a9a9a9\" d=\"M906.7734,-348C898.3594,-348 892.75,-348 892.75,-348 892.75,-348 892.75,-296.1532 892.75,-296.1532\"/>\n<polygon fill=\"#a9a9a9\" stroke=\"#a9a9a9\" points=\"896.2501,-296.1532 892.75,-286.1532 889.2501,-296.1533 896.2501,-296.1532\"/>\n</g>\n<!-- FL_RF -->\n<g id=\"node7\" class=\"node\">\n<title>FL_RF</title>\n<polygon fill=\"#f4a261\" stroke=\"#eeeeee\" points=\"964.5,-214 674.5,-214 674.5,-161 964.5,-161 964.5,-214\"/>\n<text text-anchor=\"middle\" x=\"819.5\" y=\"-198.8\" font-family=\"roboto\" font-size=\"14.00\" fill=\"#eeeeee\">Forest land stock after reforestation policy </text>\n<text text-anchor=\"middle\" x=\"819.5\" y=\"-183.8\" font-family=\"roboto\" font-size=\"14.00\" fill=\"#eeeeee\"> (FL_RF) </text>\n<text text-anchor=\"middle\" x=\"819.5\" y=\"-168.8\" font-family=\"roboto\" font-size=\"14.00\" fill=\"#eeeeee\"> 1000 ha</text>\n</g>\n<!-- FL_RF&#45;&gt;BE2_comp -->\n<g id=\"edge7\" class=\"edge\">\n<title>FL_RF&#45;&gt;BE2_comp</title>\n<path fill=\"none\" stroke=\"#a9a9a9\" d=\"M725,-160.6947C725,-160.6947 725,-135.0658 725,-135.0658\"/>\n<polygon fill=\"#a9a9a9\" stroke=\"#a9a9a9\" points=\"728.5001,-135.0657 725,-125.0658 721.5001,-135.0658 728.5001,-135.0657\"/>\n</g>\n<!-- FL_RF_comp&#45;&gt;FL_RF -->\n<g id=\"edge8\" class=\"edge\">\n<title>FL_RF_comp&#45;&gt;FL_RF</title>\n<path fill=\"none\" stroke=\"#a9a9a9\" d=\"M819.5,-249.7333C819.5,-249.7333 819.5,-224.2477 819.5,-224.2477\"/>\n<polygon fill=\"#a9a9a9\" stroke=\"#a9a9a9\" points=\"823.0001,-224.2476 819.5,-214.2477 816.0001,-224.2477 823.0001,-224.2476\"/>\n</g>\n<!-- BE2 -->\n<g id=\"node9\" class=\"node\">\n<title>BE2</title>\n<polygon fill=\"#2a9d8f\" stroke=\"#eeeeee\" points=\"837,-53 582,-53 582,0 837,0 837,-53\"/>\n<text text-anchor=\"middle\" x=\"709.5\" y=\"-37.8\" font-family=\"roboto\" font-size=\"14.00\" fill=\"#eeeeee\">Share of forest area to total land area </text>\n<text text-anchor=\"middle\" x=\"709.5\" y=\"-22.8\" font-family=\"roboto\" font-size=\"14.00\" fill=\"#eeeeee\"> (BE2) </text>\n<text text-anchor=\"middle\" x=\"709.5\" y=\"-7.8\" font-family=\"roboto\" font-size=\"14.00\" fill=\"#eeeeee\"> %</text>\n</g>\n<!-- BE2_comp&#45;&gt;BE2 -->\n<g id=\"edge9\" class=\"edge\">\n<title>BE2_comp&#45;&gt;BE2</title>\n<path fill=\"none\" stroke=\"#a9a9a9\" d=\"M709.5,-88.7333C709.5,-88.7333 709.5,-63.2477 709.5,-63.2477\"/>\n<polygon fill=\"#a9a9a9\" stroke=\"#a9a9a9\" points=\"713.0001,-63.2476 709.5,-53.2477 706.0001,-63.2477 713.0001,-63.2476\"/>\n</g>\n<!-- CL -->\n<g id=\"node11\" class=\"node\">\n<title>CL</title>\n<polygon fill=\"#f4a261\" stroke=\"#eeeeee\" points=\"843.5,-697 727.5,-697 727.5,-644 843.5,-644 843.5,-697\"/>\n<text text-anchor=\"middle\" x=\"785.5\" y=\"-681.8\" font-family=\"roboto\" font-size=\"14.00\" fill=\"#eeeeee\">Cropland stock </text>\n<text text-anchor=\"middle\" x=\"785.5\" y=\"-666.8\" font-family=\"roboto\" font-size=\"14.00\" fill=\"#eeeeee\"> (CL) </text>\n<text text-anchor=\"middle\" x=\"785.5\" y=\"-651.8\" font-family=\"roboto\" font-size=\"14.00\" fill=\"#eeeeee\"> 1000 ha</text>\n</g>\n<!-- delta_CL_comp -->\n<g id=\"node15\" class=\"node\">\n<title>delta_CL_comp</title>\n<polygon fill=\"none\" stroke=\"#a9a9a9\" points=\"927,-608 806,-608 806,-572 927,-572 927,-608\"/>\n<text text-anchor=\"middle\" x=\"866.5\" y=\"-586.3\" font-family=\"roboto\" font-size=\"14.00\" fill=\"#000000\">CL &#45; CL_baseline</text>\n</g>\n<!-- CL&#45;&gt;delta_CL_comp -->\n<g id=\"edge10\" class=\"edge\">\n<title>CL&#45;&gt;delta_CL_comp</title>\n<path fill=\"none\" stroke=\"#a9a9a9\" d=\"M824.75,-643.6947C824.75,-643.6947 824.75,-618.0658 824.75,-618.0658\"/>\n<polygon fill=\"#a9a9a9\" stroke=\"#a9a9a9\" points=\"828.2501,-618.0657 824.75,-608.0658 821.2501,-618.0658 828.2501,-618.0657\"/>\n</g>\n<!-- CL_comp -->\n<g id=\"node12\" class=\"node\">\n<title>CL_comp</title>\n<polygon fill=\"none\" stroke=\"#a9a9a9\" points=\"1014,-769 557,-769 557,-733 1014,-733 1014,-769\"/>\n<text text-anchor=\"middle\" x=\"785.5\" y=\"-747.3\" font-family=\"roboto\" font-size=\"14.00\" fill=\"#000000\">TCLDi.groupby(level=[&#39;ISO&#39;, &#39;Year&#39;]).sum() * 1e&#45;3 # bug on a 1e&#45;1 factor</text>\n</g>\n<!-- CL_comp&#45;&gt;CL -->\n<g id=\"edge11\" class=\"edge\">\n<title>CL_comp&#45;&gt;CL</title>\n<path fill=\"none\" stroke=\"#a9a9a9\" d=\"M785.5,-732.7333C785.5,-732.7333 785.5,-707.2477 785.5,-707.2477\"/>\n<polygon fill=\"#a9a9a9\" stroke=\"#a9a9a9\" points=\"789.0001,-707.2476 785.5,-697.2477 782.0001,-707.2477 789.0001,-707.2476\"/>\n</g>\n<!-- CL_baseline -->\n<g id=\"node13\" class=\"node\">\n<title>CL_baseline</title>\n<polygon fill=\"#e76f51\" stroke=\"#eeeeee\" points=\"1035,-697 862,-697 862,-644 1035,-644 1035,-697\"/>\n<text text-anchor=\"middle\" x=\"948.5\" y=\"-681.8\" font-family=\"roboto\" font-size=\"14.00\" fill=\"#eeeeee\">Cropland stock baseline </text>\n<text text-anchor=\"middle\" x=\"948.5\" y=\"-666.8\" font-family=\"roboto\" font-size=\"14.00\" fill=\"#eeeeee\"> (CL_baseline) </text>\n<text text-anchor=\"middle\" x=\"948.5\" y=\"-651.8\" font-family=\"roboto\" font-size=\"14.00\" fill=\"#eeeeee\"> 1000 ha</text>\n</g>\n<!-- CL_baseline&#45;&gt;delta_CL_comp -->\n<g id=\"edge12\" class=\"edge\">\n<title>CL_baseline&#45;&gt;delta_CL_comp</title>\n<path fill=\"none\" stroke=\"#a9a9a9\" d=\"M894.5,-643.6947C894.5,-643.6947 894.5,-618.0658 894.5,-618.0658\"/>\n<polygon fill=\"#a9a9a9\" stroke=\"#a9a9a9\" points=\"898.0001,-618.0657 894.5,-608.0658 891.0001,-618.0658 898.0001,-618.0657\"/>\n</g>\n<!-- delta_CL -->\n<g id=\"node14\" class=\"node\">\n<title>delta_CL</title>\n<polygon fill=\"#f4a261\" stroke=\"#eeeeee\" points=\"937.5,-536 795.5,-536 795.5,-483 937.5,-483 937.5,-536\"/>\n<text text-anchor=\"middle\" x=\"866.5\" y=\"-520.8\" font-family=\"roboto\" font-size=\"14.00\" fill=\"#eeeeee\">Change in cropland </text>\n<text text-anchor=\"middle\" x=\"866.5\" y=\"-505.8\" font-family=\"roboto\" font-size=\"14.00\" fill=\"#eeeeee\"> (delta_CL) </text>\n<text text-anchor=\"middle\" x=\"866.5\" y=\"-490.8\" font-family=\"roboto\" font-size=\"14.00\" fill=\"#eeeeee\"> 1000 ha</text>\n</g>\n<!-- delta_CL&#45;&gt;FL_comp -->\n<g id=\"edge13\" class=\"edge\">\n<title>delta_CL&#45;&gt;FL_comp</title>\n<path fill=\"none\" stroke=\"#a9a9a9\" d=\"M842.8333,-482.8434C842.8333,-473.3662 842.8333,-465 842.8333,-465 842.8333,-465 656.6667,-465 656.6667,-465 656.6667,-465 656.6667,-457.4218 656.6667,-457.4218\"/>\n<polygon fill=\"#a9a9a9\" stroke=\"#a9a9a9\" points=\"660.1668,-457.4218 656.6667,-447.4218 653.1668,-457.4219 660.1668,-457.4218\"/>\n</g>\n<!-- delta_CL&#45;&gt;IL_comp -->\n<g id=\"edge14\" class=\"edge\">\n<title>delta_CL&#45;&gt;IL_comp</title>\n<path fill=\"none\" stroke=\"#a9a9a9\" d=\"M890.1667,-482.6947C890.1667,-482.6947 890.1667,-457.0658 890.1667,-457.0658\"/>\n<polygon fill=\"#a9a9a9\" stroke=\"#a9a9a9\" points=\"893.6668,-457.0657 890.1667,-447.0658 886.6668,-457.0658 893.6668,-457.0657\"/>\n</g>\n<!-- delta_CL_comp&#45;&gt;delta_CL -->\n<g id=\"edge15\" class=\"edge\">\n<title>delta_CL_comp&#45;&gt;delta_CL</title>\n<path fill=\"none\" stroke=\"#a9a9a9\" d=\"M866.5,-571.7333C866.5,-571.7333 866.5,-546.2477 866.5,-546.2477\"/>\n<polygon fill=\"#a9a9a9\" stroke=\"#a9a9a9\" points=\"870.0001,-546.2476 866.5,-536.2477 863.0001,-546.2477 870.0001,-546.2476\"/>\n</g>\n<!-- IL_baseline -->\n<g id=\"node16\" class=\"node\">\n<title>IL_baseline</title>\n<polygon fill=\"#e76f51\" stroke=\"#eeeeee\" points=\"753,-536 596,-536 596,-483 753,-483 753,-536\"/>\n<text text-anchor=\"middle\" x=\"674.5\" y=\"-520.8\" font-family=\"roboto\" font-size=\"14.00\" fill=\"#eeeeee\">Inactive land baseline </text>\n<text text-anchor=\"middle\" x=\"674.5\" y=\"-505.8\" font-family=\"roboto\" font-size=\"14.00\" fill=\"#eeeeee\"> (IL_baseline) </text>\n<text text-anchor=\"middle\" x=\"674.5\" y=\"-490.8\" font-family=\"roboto\" font-size=\"14.00\" fill=\"#eeeeee\"> 1000 ha</text>\n</g>\n<!-- IL_baseline&#45;&gt;FL_comp -->\n<g id=\"edge16\" class=\"edge\">\n<title>IL_baseline&#45;&gt;FL_comp</title>\n<path fill=\"none\" stroke=\"#a9a9a9\" d=\"M626.3333,-482.6947C626.3333,-482.6947 626.3333,-457.0658 626.3333,-457.0658\"/>\n<polygon fill=\"#a9a9a9\" stroke=\"#a9a9a9\" points=\"629.8334,-457.0657 626.3333,-447.0658 622.8334,-457.0658 629.8334,-457.0657\"/>\n</g>\n<!-- IL_baseline&#45;&gt;IL_comp -->\n<g id=\"edge17\" class=\"edge\">\n<title>IL_baseline&#45;&gt;IL_comp</title>\n<path fill=\"none\" stroke=\"#a9a9a9\" d=\"M729.25,-482.6947C729.25,-482.6947 729.25,-457.0658 729.25,-457.0658\"/>\n<polygon fill=\"#a9a9a9\" stroke=\"#a9a9a9\" points=\"732.7501,-457.0657 729.25,-447.0658 725.7501,-457.0658 732.7501,-457.0657\"/>\n</g>\n<!-- FL_baseline -->\n<g id=\"node17\" class=\"node\">\n<title>FL_baseline</title>\n<polygon fill=\"#e76f51\" stroke=\"#eeeeee\" points=\"530,-536 381,-536 381,-483 530,-483 530,-536\"/>\n<text text-anchor=\"middle\" x=\"455.5\" y=\"-520.8\" font-family=\"roboto\" font-size=\"14.00\" fill=\"#eeeeee\">Forest land baseline </text>\n<text text-anchor=\"middle\" x=\"455.5\" y=\"-505.8\" font-family=\"roboto\" font-size=\"14.00\" fill=\"#eeeeee\"> (FL_baseline) </text>\n<text text-anchor=\"middle\" x=\"455.5\" y=\"-490.8\" font-family=\"roboto\" font-size=\"14.00\" fill=\"#eeeeee\"> 1000 ha</text>\n</g>\n<!-- FL_baseline&#45;&gt;FL_comp -->\n<g id=\"edge18\" class=\"edge\">\n<title>FL_baseline&#45;&gt;FL_comp</title>\n<path fill=\"none\" stroke=\"#a9a9a9\" d=\"M455.5,-482.6947C455.5,-482.6947 455.5,-457.0658 455.5,-457.0658\"/>\n<polygon fill=\"#a9a9a9\" stroke=\"#a9a9a9\" points=\"459.0001,-457.0657 455.5,-447.0658 452.0001,-457.0658 459.0001,-457.0657\"/>\n</g>\n<!-- TCLDi -->\n<g id=\"node18\" class=\"node\">\n<title>TCLDi</title>\n<polygon fill=\"#f4a261\" stroke=\"#eeeeee\" points=\"852,-858 719,-858 719,-805 852,-805 852,-858\"/>\n<text text-anchor=\"middle\" x=\"785.5\" y=\"-842.8\" font-family=\"roboto\" font-size=\"14.00\" fill=\"#eeeeee\">Cropland demand </text>\n<text text-anchor=\"middle\" x=\"785.5\" y=\"-827.8\" font-family=\"roboto\" font-size=\"14.00\" fill=\"#eeeeee\"> (TCLDi) </text>\n<text text-anchor=\"middle\" x=\"785.5\" y=\"-812.8\" font-family=\"roboto\" font-size=\"14.00\" fill=\"#eeeeee\"> ha</text>\n</g>\n<!-- TCLDi&#45;&gt;CL_comp -->\n<g id=\"edge19\" class=\"edge\">\n<title>TCLDi&#45;&gt;CL_comp</title>\n<path fill=\"none\" stroke=\"#a9a9a9\" d=\"M785.5,-804.6947C785.5,-804.6947 785.5,-779.0658 785.5,-779.0658\"/>\n<polygon fill=\"#a9a9a9\" stroke=\"#a9a9a9\" points=\"789.0001,-779.0657 785.5,-769.0658 782.0001,-779.0658 789.0001,-779.0657\"/>\n</g>\n<!-- TCLDi_comp -->\n<g id=\"node19\" class=\"node\">\n<title>TCLDi_comp</title>\n<polygon fill=\"none\" stroke=\"#a9a9a9\" points=\"874.5,-930 696.5,-930 696.5,-894 874.5,-894 874.5,-930\"/>\n<text text-anchor=\"middle\" x=\"785.5\" y=\"-908.3\" font-family=\"roboto\" font-size=\"14.00\" fill=\"#000000\">ktonnes_to_hg * FPi / CYi</text>\n</g>\n<!-- TCLDi_comp&#45;&gt;TCLDi -->\n<g id=\"edge20\" class=\"edge\">\n<title>TCLDi_comp&#45;&gt;TCLDi</title>\n<path fill=\"none\" stroke=\"#a9a9a9\" d=\"M785.5,-893.7333C785.5,-893.7333 785.5,-868.2477 785.5,-868.2477\"/>\n<polygon fill=\"#a9a9a9\" stroke=\"#a9a9a9\" points=\"789.0001,-868.2476 785.5,-858.2477 782.0001,-868.2477 789.0001,-868.2476\"/>\n</g>\n<!-- CYi -->\n<g id=\"node20\" class=\"node\">\n<title>CYi</title>\n<polygon fill=\"#e76f51\" stroke=\"#eeeeee\" points=\"765,-1019 586,-1019 586,-966 765,-966 765,-1019\"/>\n<text text-anchor=\"middle\" x=\"675.5\" y=\"-1003.8\" font-family=\"roboto\" font-size=\"14.00\" fill=\"#eeeeee\">Crop yields per crop type </text>\n<text text-anchor=\"middle\" x=\"675.5\" y=\"-988.8\" font-family=\"roboto\" font-size=\"14.00\" fill=\"#eeeeee\"> (CYi) </text>\n<text text-anchor=\"middle\" x=\"675.5\" y=\"-973.8\" font-family=\"roboto\" font-size=\"14.00\" fill=\"#eeeeee\"> hg/ha</text>\n</g>\n<!-- CYi&#45;&gt;TCLDi_comp -->\n<g id=\"edge21\" class=\"edge\">\n<title>CYi&#45;&gt;TCLDi_comp</title>\n<path fill=\"none\" stroke=\"#a9a9a9\" d=\"M730.75,-965.6947C730.75,-965.6947 730.75,-940.0658 730.75,-940.0658\"/>\n<polygon fill=\"#a9a9a9\" stroke=\"#a9a9a9\" points=\"734.2501,-940.0657 730.75,-930.0658 727.2501,-940.0658 734.2501,-940.0657\"/>\n</g>\n<!-- FPi -->\n<g id=\"node21\" class=\"node\">\n<title>FPi</title>\n<polygon fill=\"#f4a261\" stroke=\"#eeeeee\" points=\"1007.5,-1019 783.5,-1019 783.5,-966 1007.5,-966 1007.5,-1019\"/>\n<text text-anchor=\"middle\" x=\"895.5\" y=\"-1003.8\" font-family=\"roboto\" font-size=\"14.00\" fill=\"#eeeeee\">Food production per food group </text>\n<text text-anchor=\"middle\" x=\"895.5\" y=\"-988.8\" font-family=\"roboto\" font-size=\"14.00\" fill=\"#eeeeee\"> (FPi) </text>\n<text text-anchor=\"middle\" x=\"895.5\" y=\"-973.8\" font-family=\"roboto\" font-size=\"14.00\" fill=\"#eeeeee\"> 1000 tonnes</text>\n</g>\n<!-- FPi&#45;&gt;TCLDi_comp -->\n<g id=\"edge22\" class=\"edge\">\n<title>FPi&#45;&gt;TCLDi_comp</title>\n<path fill=\"none\" stroke=\"#a9a9a9\" d=\"M829,-965.6947C829,-965.6947 829,-940.0658 829,-940.0658\"/>\n<polygon fill=\"#a9a9a9\" stroke=\"#a9a9a9\" points=\"832.5001,-940.0657 829,-930.0658 825.5001,-940.0658 832.5001,-940.0657\"/>\n</g>\n<!-- FPi_comp -->\n<g id=\"node22\" class=\"node\">\n<title>FPi_comp</title>\n<polygon fill=\"none\" stroke=\"#a9a9a9\" points=\"982.5,-1091 808.5,-1091 808.5,-1055 982.5,-1055 982.5,-1091\"/>\n<text text-anchor=\"middle\" x=\"895.5\" y=\"-1069.3\" font-family=\"roboto\" font-size=\"14.00\" fill=\"#000000\">(OFi + FDi + FDPi) * SSRi</text>\n</g>\n<!-- FPi_comp&#45;&gt;FPi -->\n<g id=\"edge23\" class=\"edge\">\n<title>FPi_comp&#45;&gt;FPi</title>\n<path fill=\"none\" stroke=\"#a9a9a9\" d=\"M895.5,-1054.7333C895.5,-1054.7333 895.5,-1029.2477 895.5,-1029.2477\"/>\n<polygon fill=\"#a9a9a9\" stroke=\"#a9a9a9\" points=\"899.0001,-1029.2476 895.5,-1019.2477 892.0001,-1029.2477 899.0001,-1029.2476\"/>\n</g>\n<!-- FLOi -->\n<g id=\"node23\" class=\"node\">\n<title>FLOi</title>\n<polygon fill=\"#e76f51\" stroke=\"#eeeeee\" points=\"197,-1341 0,-1341 0,-1288 197,-1288 197,-1341\"/>\n<text text-anchor=\"middle\" x=\"98.5\" y=\"-1325.8\" font-family=\"roboto\" font-size=\"14.00\" fill=\"#eeeeee\">Food losses per food group </text>\n<text text-anchor=\"middle\" x=\"98.5\" y=\"-1310.8\" font-family=\"roboto\" font-size=\"14.00\" fill=\"#eeeeee\"> (FLOi) </text>\n<text text-anchor=\"middle\" x=\"98.5\" y=\"-1295.8\" font-family=\"roboto\" font-size=\"14.00\" fill=\"#eeeeee\"> 1000 tonnes</text>\n</g>\n<!-- FDPi_comp -->\n<g id=\"node27\" class=\"node\">\n<title>FDPi_comp</title>\n<polygon fill=\"none\" stroke=\"#a9a9a9\" points=\"663.5,-1252 259.5,-1252 259.5,-1216 663.5,-1216 663.5,-1252\"/>\n<text text-anchor=\"middle\" x=\"461.5\" y=\"-1230.3\" font-family=\"roboto\" font-size=\"14.00\" fill=\"#000000\">kg_to_1000tonnes * day_per_year * FDKGi * Pop * 1e3 + FLOi</text>\n</g>\n<!-- FLOi&#45;&gt;FDPi_comp -->\n<g id=\"edge24\" class=\"edge\">\n<title>FLOi&#45;&gt;FDPi_comp</title>\n<path fill=\"none\" stroke=\"#a9a9a9\" d=\"M98.5,-1287.6947C98.5,-1264.2772 98.5,-1234 98.5,-1234 98.5,-1234 249.3023,-1234 249.3023,-1234\"/>\n<polygon fill=\"#a9a9a9\" stroke=\"#a9a9a9\" points=\"249.3023,-1237.5001 259.3023,-1234 249.3023,-1230.5001 249.3023,-1237.5001\"/>\n</g>\n<!-- FDKGi -->\n<g id=\"node24\" class=\"node\">\n<title>FDKGi</title>\n<polygon fill=\"#e76f51\" stroke=\"#eeeeee\" points=\"490,-1341 215,-1341 215,-1288 490,-1288 490,-1341\"/>\n<text text-anchor=\"middle\" x=\"352.5\" y=\"-1325.8\" font-family=\"roboto\" font-size=\"14.00\" fill=\"#eeeeee\">Kg food demand per day per food group </text>\n<text text-anchor=\"middle\" x=\"352.5\" y=\"-1310.8\" font-family=\"roboto\" font-size=\"14.00\" fill=\"#eeeeee\"> (FDKGi) </text>\n<text text-anchor=\"middle\" x=\"352.5\" y=\"-1295.8\" font-family=\"roboto\" font-size=\"14.00\" fill=\"#eeeeee\"> kg/capita/day</text>\n</g>\n<!-- FDKGi&#45;&gt;FDPi_comp -->\n<g id=\"edge25\" class=\"edge\">\n<title>FDKGi&#45;&gt;FDPi_comp</title>\n<path fill=\"none\" stroke=\"#a9a9a9\" d=\"M374.75,-1287.6947C374.75,-1287.6947 374.75,-1262.0658 374.75,-1262.0658\"/>\n<polygon fill=\"#a9a9a9\" stroke=\"#a9a9a9\" points=\"378.2501,-1262.0657 374.75,-1252.0658 371.2501,-1262.0658 378.2501,-1262.0657\"/>\n</g>\n<!-- SSRi -->\n<g id=\"node25\" class=\"node\">\n<title>SSRi</title>\n<polygon fill=\"#e76f51\" stroke=\"#eeeeee\" points=\"640.5,-1180 392.5,-1180 392.5,-1127 640.5,-1127 640.5,-1180\"/>\n<text text-anchor=\"middle\" x=\"516.5\" y=\"-1164.8\" font-family=\"roboto\" font-size=\"14.00\" fill=\"#eeeeee\">Self&#45;sufficiency ratio per food group </text>\n<text text-anchor=\"middle\" x=\"516.5\" y=\"-1149.8\" font-family=\"roboto\" font-size=\"14.00\" fill=\"#eeeeee\"> (SSRi) </text>\n<text text-anchor=\"middle\" x=\"516.5\" y=\"-1134.8\" font-family=\"roboto\" font-size=\"14.00\" fill=\"#eeeeee\"> 1</text>\n</g>\n<!-- SSRi&#45;&gt;FPi_comp -->\n<g id=\"edge26\" class=\"edge\">\n<title>SSRi&#45;&gt;FPi_comp</title>\n<path fill=\"none\" stroke=\"#a9a9a9\" d=\"M613.25,-1126.6947C613.25,-1103.2772 613.25,-1073 613.25,-1073 613.25,-1073 798.1273,-1073 798.1273,-1073\"/>\n<polygon fill=\"#a9a9a9\" stroke=\"#a9a9a9\" points=\"798.1273,-1076.5001 808.1273,-1073 798.1272,-1069.5001 798.1273,-1076.5001\"/>\n</g>\n<!-- FDPi -->\n<g id=\"node26\" class=\"node\">\n<title>FDPi</title>\n<polygon fill=\"#f4a261\" stroke=\"#eeeeee\" points=\"914.5,-1180 658.5,-1180 658.5,-1127 914.5,-1127 914.5,-1180\"/>\n<text text-anchor=\"middle\" x=\"786.5\" y=\"-1164.8\" font-family=\"roboto\" font-size=\"14.00\" fill=\"#eeeeee\">Total food production per food group </text>\n<text text-anchor=\"middle\" x=\"786.5\" y=\"-1149.8\" font-family=\"roboto\" font-size=\"14.00\" fill=\"#eeeeee\"> (FDPi) </text>\n<text text-anchor=\"middle\" x=\"786.5\" y=\"-1134.8\" font-family=\"roboto\" font-size=\"14.00\" fill=\"#eeeeee\"> 1000 tonnes</text>\n</g>\n<!-- FDPi&#45;&gt;FPi_comp -->\n<g id=\"edge27\" class=\"edge\">\n<title>FDPi&#45;&gt;FPi_comp</title>\n<path fill=\"none\" stroke=\"#a9a9a9\" d=\"M861.5,-1126.6947C861.5,-1126.6947 861.5,-1101.0658 861.5,-1101.0658\"/>\n<polygon fill=\"#a9a9a9\" stroke=\"#a9a9a9\" points=\"865.0001,-1101.0657 861.5,-1091.0658 858.0001,-1101.0658 865.0001,-1101.0657\"/>\n</g>\n<!-- FDPi_comp&#45;&gt;FDPi -->\n<g id=\"edge28\" class=\"edge\">\n<title>FDPi_comp&#45;&gt;FDPi</title>\n<path fill=\"none\" stroke=\"#a9a9a9\" d=\"M649.5,-1215.6198C649.5,-1191.7215 649.5,-1153 649.5,-1153 649.5,-1153 650.3989,-1153 650.3989,-1153\"/>\n<polygon fill=\"#a9a9a9\" stroke=\"#a9a9a9\" points=\"648.489,-1156.5001 658.489,-1153 648.4889,-1149.5001 648.489,-1156.5001\"/>\n</g>\n<!-- OFi -->\n<g id=\"node28\" class=\"node\">\n<title>OFi</title>\n<polygon fill=\"#f4a261\" stroke=\"#eeeeee\" points=\"1076,-1180 933,-1180 933,-1127 1076,-1127 1076,-1180\"/>\n<text text-anchor=\"middle\" x=\"1004.5\" y=\"-1164.8\" font-family=\"roboto\" font-size=\"14.00\" fill=\"#eeeeee\">Other food demand </text>\n<text text-anchor=\"middle\" x=\"1004.5\" y=\"-1149.8\" font-family=\"roboto\" font-size=\"14.00\" fill=\"#eeeeee\"> (OFi) </text>\n<text text-anchor=\"middle\" x=\"1004.5\" y=\"-1134.8\" font-family=\"roboto\" font-size=\"14.00\" fill=\"#eeeeee\"> 1000 tonnes</text>\n</g>\n<!-- OFi&#45;&gt;FPi_comp -->\n<g id=\"edge29\" class=\"edge\">\n<title>OFi&#45;&gt;FPi_comp</title>\n<path fill=\"none\" stroke=\"#a9a9a9\" d=\"M957.75,-1126.6947C957.75,-1126.6947 957.75,-1101.0658 957.75,-1101.0658\"/>\n<polygon fill=\"#a9a9a9\" stroke=\"#a9a9a9\" points=\"961.2501,-1101.0657 957.75,-1091.0658 954.2501,-1101.0658 961.2501,-1101.0657\"/>\n</g>\n<!-- OFi_comp -->\n<g id=\"node29\" class=\"node\">\n<title>OFi_comp</title>\n<polygon fill=\"none\" stroke=\"#a9a9a9\" points=\"1200,-1252 1003,-1252 1003,-1216 1200,-1216 1200,-1252\"/>\n<text text-anchor=\"middle\" x=\"1101.5\" y=\"-1230.3\" font-family=\"roboto\" font-size=\"14.00\" fill=\"#000000\">SDi + NFDi + PDi + RDi + SVi</text>\n</g>\n<!-- OFi_comp&#45;&gt;OFi -->\n<g id=\"edge30\" class=\"edge\">\n<title>OFi_comp&#45;&gt;OFi</title>\n<path fill=\"none\" stroke=\"#a9a9a9\" d=\"M1039.5,-1215.7333C1039.5,-1215.7333 1039.5,-1190.2477 1039.5,-1190.2477\"/>\n<polygon fill=\"#a9a9a9\" stroke=\"#a9a9a9\" points=\"1043.0001,-1190.2476 1039.5,-1180.2477 1036.0001,-1190.2477 1043.0001,-1190.2476\"/>\n</g>\n<!-- SDi -->\n<g id=\"node30\" class=\"node\">\n<title>SDi</title>\n<polygon fill=\"#e76f51\" stroke=\"#eeeeee\" points=\"1085.5,-1341 879.5,-1341 879.5,-1288 1085.5,-1288 1085.5,-1341\"/>\n<text text-anchor=\"middle\" x=\"982.5\" y=\"-1325.8\" font-family=\"roboto\" font-size=\"14.00\" fill=\"#eeeeee\">Seed demand per food group </text>\n<text text-anchor=\"middle\" x=\"982.5\" y=\"-1310.8\" font-family=\"roboto\" font-size=\"14.00\" fill=\"#eeeeee\"> (SDi) </text>\n<text text-anchor=\"middle\" x=\"982.5\" y=\"-1295.8\" font-family=\"roboto\" font-size=\"14.00\" fill=\"#eeeeee\"> 1000 tonnes</text>\n</g>\n<!-- SDi&#45;&gt;OFi_comp -->\n<g id=\"edge31\" class=\"edge\">\n<title>SDi&#45;&gt;OFi_comp</title>\n<path fill=\"none\" stroke=\"#a9a9a9\" d=\"M1044.25,-1287.6947C1044.25,-1287.6947 1044.25,-1262.0658 1044.25,-1262.0658\"/>\n<polygon fill=\"#a9a9a9\" stroke=\"#a9a9a9\" points=\"1047.7501,-1262.0657 1044.25,-1252.0658 1040.7501,-1262.0658 1047.7501,-1262.0657\"/>\n</g>\n<!-- NFDi -->\n<g id=\"node31\" class=\"node\">\n<title>NFDi</title>\n<polygon fill=\"#e76f51\" stroke=\"#eeeeee\" points=\"1337.5,-1341 1103.5,-1341 1103.5,-1288 1337.5,-1288 1337.5,-1341\"/>\n<text text-anchor=\"middle\" x=\"1220.5\" y=\"-1325.8\" font-family=\"roboto\" font-size=\"14.00\" fill=\"#eeeeee\">Non&#45;food demand per food group </text>\n<text text-anchor=\"middle\" x=\"1220.5\" y=\"-1310.8\" font-family=\"roboto\" font-size=\"14.00\" fill=\"#eeeeee\"> (NFDi) </text>\n<text text-anchor=\"middle\" x=\"1220.5\" y=\"-1295.8\" font-family=\"roboto\" font-size=\"14.00\" fill=\"#eeeeee\"> 1000 tonnes</text>\n</g>\n<!-- NFDi&#45;&gt;OFi_comp -->\n<g id=\"edge32\" class=\"edge\">\n<title>NFDi&#45;&gt;OFi_comp</title>\n<path fill=\"none\" stroke=\"#a9a9a9\" d=\"M1151.75,-1287.6947C1151.75,-1287.6947 1151.75,-1262.0658 1151.75,-1262.0658\"/>\n<polygon fill=\"#a9a9a9\" stroke=\"#a9a9a9\" points=\"1155.2501,-1262.0657 1151.75,-1252.0658 1148.2501,-1262.0658 1155.2501,-1262.0657\"/>\n</g>\n<!-- PDi -->\n<g id=\"node32\" class=\"node\">\n<title>PDi</title>\n<polygon fill=\"#e76f51\" stroke=\"#eeeeee\" points=\"1597.5,-1341 1355.5,-1341 1355.5,-1288 1597.5,-1288 1597.5,-1341\"/>\n<text text-anchor=\"middle\" x=\"1476.5\" y=\"-1325.8\" font-family=\"roboto\" font-size=\"14.00\" fill=\"#eeeeee\">Processed demand per food group </text>\n<text text-anchor=\"middle\" x=\"1476.5\" y=\"-1310.8\" font-family=\"roboto\" font-size=\"14.00\" fill=\"#eeeeee\"> (PDi) </text>\n<text text-anchor=\"middle\" x=\"1476.5\" y=\"-1295.8\" font-family=\"roboto\" font-size=\"14.00\" fill=\"#eeeeee\"> 1000 tonnes</text>\n</g>\n<!-- PDi&#45;&gt;OFi_comp -->\n<g id=\"edge33\" class=\"edge\">\n<title>PDi&#45;&gt;OFi_comp</title>\n<path fill=\"none\" stroke=\"#a9a9a9\" d=\"M1476.5,-1287.6038C1476.5,-1266.2642 1476.5,-1240 1476.5,-1240 1476.5,-1240 1210.0268,-1240 1210.0268,-1240\"/>\n<polygon fill=\"#a9a9a9\" stroke=\"#a9a9a9\" points=\"1210.0269,-1236.5001 1200.0268,-1240 1210.0268,-1243.5001 1210.0269,-1236.5001\"/>\n</g>\n<!-- RDi -->\n<g id=\"node33\" class=\"node\">\n<title>RDi</title>\n<polygon fill=\"#e76f51\" stroke=\"#eeeeee\" points=\"1845,-1341 1616,-1341 1616,-1288 1845,-1288 1845,-1341\"/>\n<text text-anchor=\"middle\" x=\"1730.5\" y=\"-1325.8\" font-family=\"roboto\" font-size=\"14.00\" fill=\"#eeeeee\">Residual demand per food group </text>\n<text text-anchor=\"middle\" x=\"1730.5\" y=\"-1310.8\" font-family=\"roboto\" font-size=\"14.00\" fill=\"#eeeeee\"> (RDi) </text>\n<text text-anchor=\"middle\" x=\"1730.5\" y=\"-1295.8\" font-family=\"roboto\" font-size=\"14.00\" fill=\"#eeeeee\"> 1000 tonnes</text>\n</g>\n<!-- RDi&#45;&gt;OFi_comp -->\n<g id=\"edge34\" class=\"edge\">\n<title>RDi&#45;&gt;OFi_comp</title>\n<path fill=\"none\" stroke=\"#a9a9a9\" d=\"M1730.5,-1287.605C1730.5,-1262.2127 1730.5,-1228 1730.5,-1228 1730.5,-1228 1210.127,-1228 1210.127,-1228\"/>\n<polygon fill=\"#a9a9a9\" stroke=\"#a9a9a9\" points=\"1210.127,-1224.5001 1200.127,-1228 1210.127,-1231.5001 1210.127,-1224.5001\"/>\n</g>\n<!-- SVi -->\n<g id=\"node34\" class=\"node\">\n<title>SVi</title>\n<polygon fill=\"#e76f51\" stroke=\"#eeeeee\" points=\"861.5,-1341 649.5,-1341 649.5,-1288 861.5,-1288 861.5,-1341\"/>\n<text text-anchor=\"middle\" x=\"755.5\" y=\"-1325.8\" font-family=\"roboto\" font-size=\"14.00\" fill=\"#eeeeee\">Stock variation per food group </text>\n<text text-anchor=\"middle\" x=\"755.5\" y=\"-1310.8\" font-family=\"roboto\" font-size=\"14.00\" fill=\"#eeeeee\"> (SVi) </text>\n<text text-anchor=\"middle\" x=\"755.5\" y=\"-1295.8\" font-family=\"roboto\" font-size=\"14.00\" fill=\"#eeeeee\"> 1000 tonnes</text>\n</g>\n<!-- SVi&#45;&gt;OFi_comp -->\n<g id=\"edge35\" class=\"edge\">\n<title>SVi&#45;&gt;OFi_comp</title>\n<path fill=\"none\" stroke=\"#a9a9a9\" d=\"M762.5,-1287.6947C762.5,-1264.2772 762.5,-1234 762.5,-1234 762.5,-1234 992.9918,-1234 992.9918,-1234\"/>\n<polygon fill=\"#a9a9a9\" stroke=\"#a9a9a9\" points=\"992.9918,-1237.5001 1002.9918,-1234 992.9918,-1230.5001 992.9918,-1237.5001\"/>\n</g>\n<!-- FDi -->\n<g id=\"node35\" class=\"node\">\n<title>FDi</title>\n<polygon fill=\"#e76f51\" stroke=\"#eeeeee\" points=\"1300.5,-1180 1094.5,-1180 1094.5,-1127 1300.5,-1127 1300.5,-1180\"/>\n<text text-anchor=\"middle\" x=\"1197.5\" y=\"-1164.8\" font-family=\"roboto\" font-size=\"14.00\" fill=\"#eeeeee\">Feed demand per food group </text>\n<text text-anchor=\"middle\" x=\"1197.5\" y=\"-1149.8\" font-family=\"roboto\" font-size=\"14.00\" fill=\"#eeeeee\"> (FDi) </text>\n<text text-anchor=\"middle\" x=\"1197.5\" y=\"-1134.8\" font-family=\"roboto\" font-size=\"14.00\" fill=\"#eeeeee\"> 1000 tonnes</text>\n</g>\n<!-- FDi&#45;&gt;FPi_comp -->\n<g id=\"edge36\" class=\"edge\">\n<title>FDi&#45;&gt;FPi_comp</title>\n<path fill=\"none\" stroke=\"#a9a9a9\" d=\"M1197.5,-1126.6947C1197.5,-1103.2772 1197.5,-1073 1197.5,-1073 1197.5,-1073 992.8509,-1073 992.8509,-1073\"/>\n<polygon fill=\"#a9a9a9\" stroke=\"#a9a9a9\" points=\"992.8509,-1069.5001 982.8509,-1073 992.8509,-1076.5001 992.8509,-1069.5001\"/>\n</g>\n<!-- Pop -->\n<g id=\"node36\" class=\"node\">\n<title>Pop</title>\n<polygon fill=\"#e76f51\" stroke=\"#eeeeee\" points=\"631,-1341 508,-1341 508,-1288 631,-1288 631,-1341\"/>\n<text text-anchor=\"middle\" x=\"569.5\" y=\"-1325.8\" font-family=\"roboto\" font-size=\"14.00\" fill=\"#eeeeee\">Total population </text>\n<text text-anchor=\"middle\" x=\"569.5\" y=\"-1310.8\" font-family=\"roboto\" font-size=\"14.00\" fill=\"#eeeeee\"> (Pop) </text>\n<text text-anchor=\"middle\" x=\"569.5\" y=\"-1295.8\" font-family=\"roboto\" font-size=\"14.00\" fill=\"#eeeeee\"> 1000 persons</text>\n</g>\n<!-- Pop&#45;&gt;FDPi_comp -->\n<g id=\"edge37\" class=\"edge\">\n<title>Pop&#45;&gt;FDPi_comp</title>\n<path fill=\"none\" stroke=\"#a9a9a9\" d=\"M569.5,-1287.6947C569.5,-1287.6947 569.5,-1262.0658 569.5,-1262.0658\"/>\n<polygon fill=\"#a9a9a9\" stroke=\"#a9a9a9\" points=\"573.0001,-1262.0657 569.5,-1252.0658 566.0001,-1262.0658 573.0001,-1262.0657\"/>\n</g>\n</g>\n</svg>\n"
     },
     "metadata": {},
     "execution_count": 47
    }
   ],
   "source": [
    "BE2_models['BE2_model'].draw()"
   ]
  },
  {
   "cell_type": "code",
   "execution_count": 48,
   "metadata": {},
   "outputs": [
    {
     "output_type": "execute_result",
     "data": {
      "text/plain": [
       "dict_keys(['CYi', 'FDKCi', 'FDKGi', 'FDi', 'FEi', 'FIi', 'FLOi', 'FPi', 'Food', 'KKRi', 'NFDi', 'PDi', 'RDi', 'SDi', 'SSRi', 'SVi', 'TCLDi', 'Pop', 'CL', 'FL', 'IL', 'TLA', 'CL_baseline', 'IL_baseline', 'FL_baseline', 'R_rate'])"
      ]
     },
     "metadata": {},
     "execution_count": 48
    }
   ],
   "source": [
    "data_dict.keys()"
   ]
  },
  {
   "cell_type": "code",
   "execution_count": 49,
   "metadata": {},
   "outputs": [],
   "source": [
    "itemized = [\n",
    "    'FDKCi', 'FPi', 'FIi', 'SVi', 'FEi',\n",
    "    'FDi', 'SDi', 'FLOi', 'PDi', 'RDi', 'Food', 'FDKGi', 'NFDi',\n",
    "    'SSRi', 'KKRi', 'TCLDi', 'CYi'\n",
    "    ]\n",
    "\n",
    "def expand_series_non_itemized(df):\n",
    "    multi_index = pd.MultiIndex.from_product([df.index.get_level_values('ISO').unique(), np.arange(2000, 2051)], names=['ISO', 'Year'])\n",
    "    return df.reindex(multi_index, method='ffill')\n",
    "\n",
    "def expand_series_itemized(df):\n",
    "    multi_index = pd.MultiIndex.from_product([df.index.get_level_values('ISO').unique(), np.arange(2000, 2051), df.index.get_level_values('Item').unique()], names=['ISO', 'Year', 'Item'])\n",
    "    return df.reindex(multi_index).groupby(level=['ISO', 'Item']).fillna(method='ffill')\n"
   ]
  },
  {
   "cell_type": "code",
   "execution_count": 50,
   "metadata": {},
   "outputs": [
    {
     "output_type": "stream",
     "name": "stdout",
     "text": [
      "CPU times: user 98.4 ms, sys: 4.15 ms, total: 103 ms\nWall time: 101 ms\n"
     ]
    }
   ],
   "source": [
    "%%time\n",
    "\n",
    "test = expand_series_itemized(data_dict['FDKCi'].loc['FRA',:,:].dropna())"
   ]
  },
  {
   "cell_type": "code",
   "execution_count": 51,
   "metadata": {},
   "outputs": [
    {
     "output_type": "stream",
     "name": "stdout",
     "text": [
      "CPU times: user 1.18 s, sys: 0 ns, total: 1.18 s\nWall time: 1.18 s\n"
     ]
    }
   ],
   "source": [
    "%%time\n",
    "\n",
    "for var in itemized:\n",
    "    test = expand_series_itemized(data_dict[var].loc['FRA',:,:].dropna())"
   ]
  },
  {
   "cell_type": "code",
   "execution_count": 52,
   "metadata": {},
   "outputs": [
    {
     "output_type": "execute_result",
     "data": {
      "text/plain": [
       "ISO  Year  Item                     \n",
       "FRA  2000  Apples                       401787.0\n",
       "           Apricots                      87238.0\n",
       "           Artichokes                    53798.0\n",
       "           Asparagus                     28483.0\n",
       "           Barley                        63300.0\n",
       "                                          ...   \n",
       "     2050  Bananas                      265900.0\n",
       "           Cherries, sour                35584.0\n",
       "           Fruit, tropical fresh nes     82287.0\n",
       "           Mushrooms and truffles       180165.0\n",
       "           Nuts nes                      30900.0\n",
       "Name: CYi, Length: 5253, dtype: float64"
      ]
     },
     "metadata": {},
     "execution_count": 52
    }
   ],
   "source": [
    "test"
   ]
  },
  {
   "source": [
    "Running the scenario for BE2 \n",
    "\n",
    "- data to big to preproject, all has to be done in the front end for now as database not ready for deploymement \n",
    "- 2 sec projection plus 2 sec for computation  \n",
    "- Run scenario function project all at once \n",
    "- TODO: Put the data in the AWS database and fetch it from there"
   ],
   "cell_type": "markdown",
   "metadata": {}
  },
  {
   "cell_type": "code",
   "execution_count": 53,
   "metadata": {},
   "outputs": [],
   "source": [
    "def expand_series_non_itemized(df):\n",
    "    multi_index = pd.MultiIndex.from_product([df.index.get_level_values('ISO').unique(), np.arange(2000, 2051)], names=['ISO', 'Year'])\n",
    "    return df.reindex(multi_index)\n",
    "\n",
    "def expand_series_itemized(df):\n",
    "    multi_index = pd.MultiIndex.from_product([df.index.get_level_values('ISO').unique(), np.arange(2000, 2051), df.index.get_level_values('Item').unique()], names=['ISO', 'Year', 'Item'])\n",
    "    return df.reindex(multi_index).groupby(level=['ISO', 'Item'])"
   ]
  },
  {
   "cell_type": "code",
   "execution_count": 187,
   "metadata": {},
   "outputs": [
    {
     "output_type": "execute_result",
     "data": {
      "text/plain": [
       "ISO  Year\n",
       "FRA  2000    19495.100000\n",
       "     2001    19480.600000\n",
       "     2002    19499.800000\n",
       "     2003    19470.800000\n",
       "     2004    19478.800000\n",
       "     2005    19488.200000\n",
       "     2006    19435.600000\n",
       "     2007    19358.300000\n",
       "     2008    19320.000000\n",
       "     2009    19283.400000\n",
       "     2010    19311.800000\n",
       "     2011    19281.600000\n",
       "     2012    19285.500000\n",
       "     2013    19302.200000\n",
       "     2014    19328.300000\n",
       "     2015    19465.000000\n",
       "     2016    19348.036000\n",
       "     2017    19463.775000\n",
       "     2018    19132.200000\n",
       "     2019    18833.259375\n",
       "     2020    18534.318750\n",
       "     2021    18235.378125\n",
       "     2022    17936.437500\n",
       "     2023    17637.496875\n",
       "     2024    17338.556250\n",
       "     2025    17039.615625\n",
       "     2026    16740.675000\n",
       "     2027    16441.734375\n",
       "     2028    16142.793750\n",
       "     2029    15843.853125\n",
       "     2030    15544.912500\n",
       "     2031    15245.971875\n",
       "     2032    14947.031250\n",
       "     2033    14648.090625\n",
       "     2034    14349.150000\n",
       "     2035    14050.209375\n",
       "     2036    13751.268750\n",
       "     2037    13452.328125\n",
       "     2038    13153.387500\n",
       "     2039    12854.446875\n",
       "     2040    12555.506250\n",
       "     2041    12256.565625\n",
       "     2042    11957.625000\n",
       "     2043    11658.684375\n",
       "     2044    11359.743750\n",
       "     2045    11060.803125\n",
       "     2046    10761.862500\n",
       "     2047    10462.921875\n",
       "     2048    10163.981250\n",
       "     2049     9865.040625\n",
       "     2050     9566.100000\n",
       "Name: CL, dtype: float64"
      ]
     },
     "metadata": {},
     "execution_count": 187
    }
   ],
   "source": [
    "def apply_percent_target_projection(series, percent_target=0):\n",
    "    series = series.copy()\n",
    "    series = expand_series_non_itemized(series)\n",
    "    series.loc[:, 2050, :] = percent_target * series.loc[:, 2018, :].values\n",
    "    return series.interpolate()\n",
    "\n",
    "apply_percent_target_projection(data_dict['CL'].loc['FRA', :, :], percent_target=0.5)"
   ]
  },
  {
   "cell_type": "code",
   "execution_count": 183,
   "metadata": {},
   "outputs": [],
   "source": [
    "def expand_series_itemized(df):\n",
    "    multi_index = pd.MultiIndex.from_product([df.index.get_level_values('ISO').unique(), np.arange(2000, 2051), df.index.get_level_values('Item').unique()], names=['ISO', 'Year', 'Item'])\n",
    "    return df.reindex(multi_index)\n",
    "\n",
    "\n",
    "def apply_itemized_percent_target_projection(series, percent_target=0):\n",
    "    '''To improve: Apply item wise projection'''\n",
    "    series = series.copy()\n",
    "    series = expand_series_itemized(series)\n",
    "    series.loc[:, 2050, :] = percent_target * series.loc[:, 2018, :].values\n",
    "\n",
    "    return series.groupby(level=['ISO', 'Item']).apply(lambda group: group.interpolate())\n",
    "\n",
    "\n",
    "test = apply_itemized_percent_target_projection(data_dict['CYi'].loc['FRA', :, :])"
   ]
  },
  {
   "cell_type": "code",
   "execution_count": 213,
   "metadata": {},
   "outputs": [
    {
     "output_type": "execute_result",
     "data": {
      "text/plain": [
       "ISO  Year\n",
       "FRA  2000    19495.100000\n",
       "     2001    19480.600000\n",
       "     2002    19499.800000\n",
       "     2003    19470.800000\n",
       "     2004    19478.800000\n",
       "     2005    19488.200000\n",
       "     2006    19435.600000\n",
       "     2007    19358.300000\n",
       "     2008    19320.000000\n",
       "     2009    19283.400000\n",
       "     2010    19311.800000\n",
       "     2011    19281.600000\n",
       "     2012    19285.500000\n",
       "     2013    19302.200000\n",
       "     2014    19328.300000\n",
       "     2015    19465.000000\n",
       "     2016    19348.036000\n",
       "     2017    19463.775000\n",
       "     2018    19132.200000\n",
       "     2019    19132.200000\n",
       "     2020    19323.522000\n",
       "     2021    19516.757220\n",
       "     2022    19711.924792\n",
       "     2023    19909.044040\n",
       "     2024    20108.134481\n",
       "     2025    20309.215825\n",
       "     2026    20512.307984\n",
       "     2027    20717.431063\n",
       "     2028    20924.605374\n",
       "     2029    21133.851428\n",
       "     2030    21345.189942\n",
       "     2031    21558.641841\n",
       "     2032    21774.228260\n",
       "     2033    21991.970543\n",
       "     2034    22211.890248\n",
       "     2035    22434.009150\n",
       "     2036    22658.349242\n",
       "     2037    22884.932734\n",
       "     2038    23113.782062\n",
       "     2039    23344.919882\n",
       "     2040    23578.369081\n",
       "     2041    23814.152772\n",
       "     2042    24052.294300\n",
       "     2043    24292.817243\n",
       "     2044    24535.745415\n",
       "     2045    24781.102869\n",
       "     2046    25028.913898\n",
       "     2047    25279.203037\n",
       "     2048    25531.995067\n",
       "     2049    25787.315018\n",
       "     2050    26045.188168\n",
       "Name: CL, dtype: float64"
      ]
     },
     "metadata": {},
     "execution_count": 213
    }
   ],
   "source": [
    "def apply_annual_rate_projection(series, rate=1):\n",
    "    series = series.copy()\n",
    "    series = expand_series_non_itemized(series)\n",
    "\n",
    "    year = series.loc[:, 2019:].index.get_level_values(level='Year').values\n",
    "    \n",
    "    series.loc[:, 2019:] = series.loc[:, 2018].values * rate ** (year - 2019)\n",
    "\n",
    "    return series\n",
    "\n",
    "apply_annual_rate_projection(data_dict['CL'].loc['FRA', :, :], rate=1.01)"
   ]
  },
  {
   "cell_type": "code",
   "execution_count": 220,
   "metadata": {},
   "outputs": [
    {
     "output_type": "execute_result",
     "data": {
      "text/plain": [
       "ISO  Year\n",
       "FRA  2000      0.0\n",
       "     2001      0.0\n",
       "     2002      0.0\n",
       "     2003      0.0\n",
       "     2004      0.0\n",
       "     2005      0.0\n",
       "     2006      0.0\n",
       "     2007      0.0\n",
       "     2008      0.0\n",
       "     2009      0.0\n",
       "     2010      0.0\n",
       "     2011      0.0\n",
       "     2012      0.0\n",
       "     2013      0.0\n",
       "     2014      0.0\n",
       "     2015      0.0\n",
       "     2016      0.0\n",
       "     2017      0.0\n",
       "     2018    100.0\n",
       "     2019    100.0\n",
       "     2020    100.0\n",
       "     2021    100.0\n",
       "     2022    100.0\n",
       "     2023    100.0\n",
       "     2024    100.0\n",
       "     2025    100.0\n",
       "     2026    100.0\n",
       "     2027    100.0\n",
       "     2028    100.0\n",
       "     2029    100.0\n",
       "     2030    100.0\n",
       "     2031    100.0\n",
       "     2032    100.0\n",
       "     2033    100.0\n",
       "     2034    100.0\n",
       "     2035    100.0\n",
       "     2036    100.0\n",
       "     2037    100.0\n",
       "     2038    100.0\n",
       "     2039    100.0\n",
       "     2040    100.0\n",
       "     2041    100.0\n",
       "     2042    100.0\n",
       "     2043    100.0\n",
       "     2044    100.0\n",
       "     2045    100.0\n",
       "     2046    100.0\n",
       "     2047    100.0\n",
       "     2048    100.0\n",
       "     2049    100.0\n",
       "     2050    100.0\n",
       "dtype: float64"
      ]
     },
     "metadata": {},
     "execution_count": 220
    }
   ],
   "source": [
    "def apply_constant_projection(series, constant=0):\n",
    "    series = series.copy()\n",
    "    series = expand_series_non_itemized(series)  \n",
    "    series.loc[:, 2018:] = constant\n",
    "\n",
    "    return series\n",
    "\n",
    "apply_constant_projection(data_dict['R_rate'].loc['FRA', :], constant=100)"
   ]
  },
  {
   "cell_type": "code",
   "execution_count": null,
   "metadata": {},
   "outputs": [],
   "source": []
  },
  {
   "cell_type": "code",
   "execution_count": 75,
   "metadata": {},
   "outputs": [
    {
     "output_type": "execute_result",
     "data": {
      "text/plain": [
       "ISO  Year\n",
       "FRA  2000    401787.0\n",
       "     2001    373316.0\n",
       "     2002    403280.0\n",
       "     2003    353873.0\n",
       "     2004    380049.0\n",
       "     2005    391492.0\n",
       "     2006    382639.0\n",
       "     2007    411992.0\n",
       "     2008    404476.0\n",
       "     2009    419799.0\n",
       "     2010    428099.0\n",
       "     2011    443711.0\n",
       "     2012    337432.0\n",
       "     2013    449062.0\n",
       "     2014    368258.0\n",
       "     2015    396397.0\n",
       "     2016    363534.0\n",
       "     2017    337106.0\n",
       "     2018    344351.0\n",
       "     2019    348124.0\n",
       "     2020    348124.0\n",
       "     2021    348124.0\n",
       "     2022    348124.0\n",
       "     2023    348124.0\n",
       "     2024    348124.0\n",
       "     2025    348124.0\n",
       "     2026    348124.0\n",
       "     2027    348124.0\n",
       "     2028    348124.0\n",
       "     2029    348124.0\n",
       "     2030    348124.0\n",
       "     2031    348124.0\n",
       "     2032    348124.0\n",
       "     2033    348124.0\n",
       "     2034    348124.0\n",
       "     2035    348124.0\n",
       "     2036    348124.0\n",
       "     2037    348124.0\n",
       "     2038    348124.0\n",
       "     2039    348124.0\n",
       "     2040    348124.0\n",
       "     2041    348124.0\n",
       "     2042    348124.0\n",
       "     2043    348124.0\n",
       "     2044    348124.0\n",
       "     2045    348124.0\n",
       "     2046    348124.0\n",
       "     2047    348124.0\n",
       "     2048    348124.0\n",
       "     2049    348124.0\n",
       "     2050    348124.0\n",
       "Name: CYi, dtype: float64"
      ]
     },
     "metadata": {},
     "execution_count": 75
    }
   ],
   "source": [
    "def apply_itemized_ffill_projection(series):\n",
    "    series = series.copy()\n",
    "    series = expand_series_itemized(series)  \n",
    "\n",
    "    return series.groupby(['ISO', 'Item']).fillna(method='ffill')\n",
    "\n",
    "def apply_ffill_projection(series):\n",
    "    series = series.copy()\n",
    "    series = expand_series_non_itemized(series)  \n",
    "\n",
    "    return series.groupby(['ISO']).fillna(method='ffill')\n",
    "\n",
    "apply_itemized_ffill_projection(data_dict['CYi'].loc['FRA', :, :]).loc[:, : ,'Apples']"
   ]
  },
  {
   "cell_type": "code",
   "execution_count": 147,
   "metadata": {},
   "outputs": [],
   "source": [
    "filtered_data_dict = {k: v for k,v in data_dict.items() if k not in ['Food', 'TCLDi', 'CL', 'FL', 'IL', 'FPi', 'FDKCi', 'FDKCi', 'KKRi']}\n",
    "\n",
    "filtered_data_dict = {k: v.loc['FRA', 2000:] for k, v in filtered_data_dict.items()}"
   ]
  },
  {
   "cell_type": "code",
   "execution_count": 148,
   "metadata": {},
   "outputs": [
    {
     "output_type": "execute_result",
     "data": {
      "text/plain": [
       "ISO  Year\n",
       "FRA  2001    28.126421\n",
       "     2002    28.332971\n",
       "     2003    28.523894\n",
       "     2004    28.746071\n",
       "     2005    28.953150\n",
       "     2006    29.159704\n",
       "     2007    29.366258\n",
       "     2008    29.572812\n",
       "     2009    29.779365\n",
       "     2010    29.985919\n",
       "     2011    30.138232\n",
       "     2012    30.290545\n",
       "     2013    30.442858\n",
       "     2014    30.595171\n",
       "     2015    30.747484\n",
       "     2016    30.899797\n",
       "     2017    31.052110\n",
       "     2018    31.204423\n",
       "dtype: float64"
      ]
     },
     "metadata": {},
     "execution_count": 148
    }
   ],
   "source": [
    "X, y_true = get_X_y_from_data(BE2_models['BE2_model'], filtered_data_dict)\n",
    "\n",
    "BE2_models['BE2_model'].run(X)['BE2'].dropna()"
   ]
  },
  {
   "cell_type": "code",
   "execution_count": 225,
   "metadata": {},
   "outputs": [
    {
     "output_type": "stream",
     "name": "stdout",
     "text": [
      "CPU times: user 4.56 s, sys: 3.75 ms, total: 4.56 s\nWall time: 4.56 s\n"
     ]
    }
   ],
   "source": [
    "%%time \n",
    "def run_BE2_scenario(data_dict, FDKGi_target=1, FLOi_target=1, CYi_target=1, R_rate=1):\n",
    "\n",
    "    data_dict = data_dict.copy()\n",
    "\n",
    "\n",
    "    projection_dict = {\n",
    "        'FDi': lambda x: apply_itemized_ffill_projection(x),\n",
    "        'SSRi': lambda x: apply_itemized_ffill_projection(x),\n",
    "        'SVi': lambda x: apply_itemized_ffill_projection(x), \n",
    "        'RDi': lambda x: apply_itemized_ffill_projection(x),\n",
    "        'NFDi': lambda x: apply_itemized_ffill_projection(x),              \n",
    "        'FEi': lambda x: apply_itemized_ffill_projection(x),\n",
    "        'FIi': lambda x: apply_itemized_ffill_projection(x),\n",
    "        'PDi': lambda x: apply_itemized_ffill_projection(x),\n",
    "        'FDi': lambda x: apply_itemized_ffill_projection(x),\n",
    "        'SDi': lambda x: apply_itemized_ffill_projection(x),\n",
    "        'TLA': lambda x: apply_ffill_projection(x),\n",
    "        'CL_baseline': lambda x: apply_ffill_projection(x),\n",
    "        'IL_baseline': lambda x: apply_ffill_projection(x),\n",
    "        'FL_baseline': lambda x: apply_ffill_projection(x),\n",
    "        'Pop': lambda x: apply_ffill_projection(x),\n",
    "        'CYi': lambda x: apply_itemized_percent_target_projection(x, CYi_target),\n",
    "        'FDKGi': lambda x: apply_itemized_percent_target_projection(x, FDKGi_target),\n",
    "        'FLOi': lambda x: apply_itemized_percent_target_projection(x, FLOi_target),\n",
    "        'R_rate': lambda x: apply_constant_projection(x, R_rate)\n",
    "    }\n",
    "\n",
    "    for variable, function in projection_dict.items():\n",
    "        data_dict[variable] = function(data_dict[variable])\n",
    "\n",
    "    results = BE2_models['BE2_model'].run(data_dict)\n",
    "\n",
    "    return results\n",
    "\n",
    "\n",
    "res = run_BE2_scenario(filtered_data_dict, FDKGi_target=0.5, FLOi_target=0.5, CYi_target=1, R_rate=20)#['CYi'].dropna()"
   ]
  },
  {
   "cell_type": "code",
   "execution_count": 227,
   "metadata": {},
   "outputs": [
    {
     "output_type": "execute_result",
     "data": {
      "text/plain": [
       "ISO  Year\n",
       "FRA  2000          NaN\n",
       "     2001    28.126421\n",
       "     2002    28.332971\n",
       "     2003    28.523894\n",
       "     2004    28.746071\n",
       "     2005    28.953150\n",
       "     2006    29.159704\n",
       "     2007    29.366258\n",
       "     2008    29.572812\n",
       "     2009    29.779365\n",
       "     2010    29.985919\n",
       "     2011    30.138232\n",
       "     2012    30.290545\n",
       "     2013    30.442858\n",
       "     2014    30.595171\n",
       "     2015    30.747484\n",
       "     2016    30.899797\n",
       "     2017    31.052110\n",
       "     2018    37.486598\n",
       "     2019    37.471837\n",
       "     2020    37.474427\n",
       "     2021    37.477013\n",
       "     2022    37.479596\n",
       "     2023    37.482176\n",
       "     2024    37.484753\n",
       "     2025    37.487327\n",
       "     2026    37.489898\n",
       "     2027    37.492465\n",
       "     2028    37.495030\n",
       "     2029    37.497591\n",
       "     2030    37.500149\n",
       "     2031    37.502704\n",
       "     2032    37.505256\n",
       "     2033    37.507805\n",
       "     2034    37.510350\n",
       "     2035    37.512893\n",
       "     2036    37.515432\n",
       "     2037    37.517969\n",
       "     2038    37.520502\n",
       "     2039    37.523032\n",
       "     2040    37.525559\n",
       "     2041    37.528084\n",
       "     2042    37.530605\n",
       "     2043    37.533123\n",
       "     2044    37.535638\n",
       "     2045    37.538150\n",
       "     2046    37.540659\n",
       "     2047    37.543164\n",
       "     2048    37.545667\n",
       "     2049    37.548167\n",
       "     2050    37.550664\n",
       "dtype: float64"
      ]
     },
     "metadata": {},
     "execution_count": 227
    }
   ],
   "source": [
    "res['BE2']"
   ]
  },
  {
   "cell_type": "code",
   "execution_count": 223,
   "metadata": {},
   "outputs": [
    {
     "output_type": "execute_result",
     "data": {
      "text/plain": [
       "ISO  Year\n",
       "FRA  2000    0\n",
       "     2001    0\n",
       "     2002    0\n",
       "     2003    0\n",
       "     2004    0\n",
       "     2005    0\n",
       "     2006    0\n",
       "     2007    0\n",
       "     2008    0\n",
       "     2009    0\n",
       "     2010    0\n",
       "     2011    0\n",
       "     2012    0\n",
       "     2013    0\n",
       "     2014    0\n",
       "     2015    0\n",
       "     2016    0\n",
       "     2017    0\n",
       "     2018    0\n",
       "dtype: int64"
      ]
     },
     "metadata": {},
     "execution_count": 223
    }
   ],
   "source": [
    "filtered_data_dict['R_rate']"
   ]
  },
  {
   "cell_type": "code",
   "execution_count": 224,
   "metadata": {},
   "outputs": [
    {
     "output_type": "execute_result",
     "data": {
      "text/plain": [
       "ISO  Year\n",
       "FRA  2000    19495.100\n",
       "     2001    19480.600\n",
       "     2002    19499.800\n",
       "     2003    19470.800\n",
       "     2004    19478.800\n",
       "     2005    19488.200\n",
       "     2006    19435.600\n",
       "     2007    19358.300\n",
       "     2008    19320.000\n",
       "     2009    19283.400\n",
       "     2010    19311.800\n",
       "     2011    19281.600\n",
       "     2012    19285.500\n",
       "     2013    19302.200\n",
       "     2014    19328.300\n",
       "     2015    19465.000\n",
       "     2016    19348.036\n",
       "     2017    19463.775\n",
       "     2018    19132.200\n",
       "     2019    19132.200\n",
       "     2020    19132.200\n",
       "     2021    19132.200\n",
       "     2022    19132.200\n",
       "     2023    19132.200\n",
       "     2024    19132.200\n",
       "     2025    19132.200\n",
       "     2026    19132.200\n",
       "     2027    19132.200\n",
       "     2028    19132.200\n",
       "     2029    19132.200\n",
       "     2030    19132.200\n",
       "     2031    19132.200\n",
       "     2032    19132.200\n",
       "     2033    19132.200\n",
       "     2034    19132.200\n",
       "     2035    19132.200\n",
       "     2036    19132.200\n",
       "     2037    19132.200\n",
       "     2038    19132.200\n",
       "     2039    19132.200\n",
       "     2040    19132.200\n",
       "     2041    19132.200\n",
       "     2042    19132.200\n",
       "     2043    19132.200\n",
       "     2044    19132.200\n",
       "     2045    19132.200\n",
       "     2046    19132.200\n",
       "     2047    19132.200\n",
       "     2048    19132.200\n",
       "     2049    19132.200\n",
       "     2050    19132.200\n",
       "Name: CL, dtype: float64"
      ]
     },
     "metadata": {},
     "execution_count": 224
    }
   ],
   "source": [
    "res['CL_baseline']"
   ]
  },
  {
   "cell_type": "code",
   "execution_count": 202,
   "metadata": {},
   "outputs": [
    {
     "output_type": "error",
     "ename": "KeyError",
     "evalue": "'RL'",
     "traceback": [
      "\u001b[0;31m---------------------------------------------------------------------------\u001b[0m",
      "\u001b[0;31mKeyError\u001b[0m                                  Traceback (most recent call last)",
      "\u001b[0;32m<ipython-input-202-91f804408823>\u001b[0m in \u001b[0;36m<module>\u001b[0;34m\u001b[0m\n\u001b[0;32m----> 1\u001b[0;31m \u001b[0mres\u001b[0m\u001b[0;34m[\u001b[0m\u001b[0;34m'RL'\u001b[0m\u001b[0;34m]\u001b[0m\u001b[0;34m\u001b[0m\u001b[0;34m\u001b[0m\u001b[0m\n\u001b[0m",
      "\u001b[0;31mKeyError\u001b[0m: 'RL'"
     ]
    }
   ],
   "source": [
    "res['RL']"
   ]
  },
  {
   "cell_type": "code",
   "execution_count": 91,
   "metadata": {},
   "outputs": [
    {
     "output_type": "execute_result",
     "data": {
      "text/plain": [
       "ISO  Year  Item                      \n",
       "FRA  1961  Almonds, with shell          NaN\n",
       "           Apples                       NaN\n",
       "           Apricots                     NaN\n",
       "           Artichokes                   NaN\n",
       "           Asparagus                    NaN\n",
       "                                         ..\n",
       "     2019  Vegetables, fresh nes        NaN\n",
       "           Vegetables, leguminous nes   NaN\n",
       "           Walnuts, with shell          NaN\n",
       "           Watermelons                  NaN\n",
       "           Wheat                        NaN\n",
       "Name: FEi, Length: 6173, dtype: float64"
      ]
     },
     "metadata": {},
     "execution_count": 91
    }
   ],
   "source": [
    "filtered_data_dict['FEi']"
   ]
  }
 ],
 "metadata": {
  "kernelspec": {
   "display_name": "Python 3",
   "language": "python",
   "name": "python3"
  },
  "language_info": {
   "codemirror_mode": {
    "name": "ipython",
    "version": 3
   },
   "file_extension": ".py",
   "mimetype": "text/x-python",
   "name": "python",
   "nbconvert_exporter": "python",
   "pygments_lexer": "ipython3",
   "version": "3.7.7-final"
  }
 },
 "nbformat": 4,
 "nbformat_minor": 4
}