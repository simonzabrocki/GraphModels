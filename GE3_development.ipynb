{
 "cells": [
  {
   "cell_type": "code",
   "execution_count": 1,
   "metadata": {
    "ExecuteTime": {
     "end_time": "2021-03-08T08:50:20.962020Z",
     "start_time": "2021-03-08T08:50:18.771181Z"
    },
    "code_folding": []
   },
   "outputs": [],
   "source": [
    "from graphmodels.graphmodel import GraphModel, concatenate_graph_specs\n",
    "from graphmodels.validation import score_model, plot_diagnostic, plot_baseline_vs_computation\n",
    "import pandas as pd\n",
    "import plotly.express as px\n",
    "from sklearn.metrics import r2_score\n",
    "from database import select_dataset\n",
    "from models.Hermen.model_GE3 import GE3_models\n",
    "\n",
    "from graphmodels.utils import df_to_data_dict, get_X_y_from_data"
   ]
  },
  {
   "cell_type": "markdown",
   "metadata": {},
   "source": [
    "# Newer"
   ]
  },
  {
   "cell_type": "code",
   "execution_count": 2,
   "metadata": {
    "ExecuteTime": {
     "end_time": "2021-03-08T08:50:21.248734Z",
     "start_time": "2021-03-08T08:50:20.963457Z"
    }
   },
   "outputs": [],
   "source": [
    "pop = select_dataset('population')\n",
    "#emissions = select_dataset('emissions')"
   ]
  },
  {
   "cell_type": "code",
   "execution_count": 3,
   "metadata": {
    "ExecuteTime": {
     "end_time": "2021-03-08T08:50:24.320658Z",
     "start_time": "2021-03-08T08:50:21.252310Z"
    }
   },
   "outputs": [
    {
     "name": "stderr",
     "output_type": "stream",
     "text": [
      "/home/simon/anaconda3/lib/python3.7/site-packages/IPython/core/interactiveshell.py:3146: DtypeWarning: Columns (4,7) have mixed types.Specify dtype option on import or set low_memory=False.\n",
      "  interactivity=interactivity, compiler=compiler, result=result)\n"
     ]
    }
   ],
   "source": [
    "emissions = pd.read_csv('models/Hermen/data/GY_GE_GU_GM_GP_GT.csv')"
   ]
  },
  {
   "cell_type": "code",
   "execution_count": 4,
   "metadata": {
    "ExecuteTime": {
     "end_time": "2021-03-08T08:50:24.730924Z",
     "start_time": "2021-03-08T08:50:24.323601Z"
    }
   },
   "outputs": [],
   "source": [
    "model_df = pd.concat([emissions, pop])"
   ]
  },
  {
   "cell_type": "code",
   "execution_count": 5,
   "metadata": {
    "ExecuteTime": {
     "end_time": "2021-03-08T08:50:25.341058Z",
     "start_time": "2021-03-08T08:50:24.733052Z"
    }
   },
   "outputs": [],
   "source": [
    "model_df = model_df[~model_df.Item.isin(['All Animals'])]"
   ]
  },
  {
   "cell_type": "code",
   "execution_count": 6,
   "metadata": {
    "ExecuteTime": {
     "end_time": "2021-03-08T08:50:25.348965Z",
     "start_time": "2021-03-08T08:50:25.342408Z"
    }
   },
   "outputs": [],
   "source": [
    "from graphmodels.utils import df_to_data_dict\n",
    "def get_X_y_from_data(model, data_dict):\n",
    "    '''TO CLEAN UP'''\n",
    "    X = {key: data_dict[key] for key in model.inputs_() + model.parameters_()}\n",
    "    y = {key: data_dict[key] for key in model.variables_() + model.outputs_() if key in data_dict}\n",
    "    return X, y\n",
    "\n",
    "\n",
    "def df_to_dict(df):\n",
    "    X = {}\n",
    "    for code in df.columns:\n",
    "        X[code] = df[code]#.fillna(0)\n",
    "    return X\n",
    "\n",
    "\n",
    "def fill_missing_values(df):\n",
    "    return df\n",
    "#     return df.groupby(level='ISO').fillna(method='ffill')\\\n",
    "#              .groupby(level='ISO').fillna(method='bfill')\n",
    "\n",
    "\n",
    "def df_to_data_dict(df, itemized):\n",
    "    data_dict = {}\n",
    "\n",
    "    non_item_df = df[~df.Variable.isin(itemized)].pivot(\n",
    "        index=['ISO', 'Year'], columns='Variable', values='Value')\n",
    "    non_item_df = fill_missing_values(non_item_df)\n",
    "    item_df = df[df.Variable.isin(itemized)].pivot(\n",
    "        index=['ISO', 'Year', 'Item'], columns='Variable', values='Value')\n",
    "\n",
    "    data_dict.update(df_to_dict(non_item_df))\n",
    "    data_dict.update(df_to_dict(item_df))\n",
    "\n",
    "    return data_dict\n"
   ]
  },
  {
   "cell_type": "code",
   "execution_count": 7,
   "metadata": {
    "ExecuteTime": {
     "end_time": "2021-03-08T08:50:27.502688Z",
     "start_time": "2021-03-08T08:50:25.351146Z"
    }
   },
   "outputs": [],
   "source": [
    "itemized = ['TAi', 'EF_EEi', 'EECH4', 'TEE_CO2eq',\n",
    "       'M_ASi', 'EF_ASi', 'E_ASi', 'TMA_CO2eq', 'M_Ti', 'EF_CH4Ti',\n",
    "       'EF_Ti', 'E_TCH4i', 'E_Ti', 'TMT_CO2eq', 'M_LPi', 'EF_Li', 'E_Li',\n",
    "       'TMP_CO2eq', 'TMi', 'MM_ASi', 'MM_LPi', 'MM_Ti', 'MYi',]\n",
    "\n",
    "data_dict = df_to_data_dict(model_df, itemized)"
   ]
  },
  {
   "cell_type": "code",
   "execution_count": 8,
   "metadata": {
    "ExecuteTime": {
     "end_time": "2021-03-08T08:50:29.414551Z",
     "start_time": "2021-03-08T08:50:27.503914Z"
    }
   },
   "outputs": [
    {
     "name": "stdout",
     "output_type": "stream",
     "text": [
      "TMi_model\n",
      "    r2  correlation          rmse Variable\n",
      "0  1.0          1.0  1.016920e-15      TMi\n",
      "\n",
      "M_xi_model\n",
      "    r2  correlation          rmse Variable\n",
      "0  1.0          1.0  3.249331e-16     M_Ti\n",
      "1  1.0          1.0  3.635216e-16    M_LPi\n",
      "2  1.0          1.0  2.520746e-16    M_ASi\n",
      "\n",
      "TMP_CO2eq_model\n",
      "         r2  correlation       rmse   Variable\n",
      "0  0.999997     0.999999  17.092812  TMP_CO2eq\n",
      "\n",
      "TMT_CO2eq_model\n",
      "         r2  correlation          rmse   Variable\n",
      "0  0.999992     0.999997  2.619308e-05       E_Ti\n",
      "1  1.000000     1.000000  1.297824e-08    E_TCH4i\n",
      "2  0.999997     0.999999  2.517425e+00  TMT_CO2eq\n",
      "\n",
      "TMA_CO2eq_model\n",
      "         r2  correlation      rmse   Variable\n",
      "0  0.999993          1.0  1.136032  TMA_CO2eq\n",
      "\n",
      "TEE_CO2eq_model\n",
      "    r2  correlation          rmse   Variable\n",
      "0  1.0          1.0  4.353519e-10  TEE_CO2eq\n",
      "\n",
      "FE_CO2eq_model\n",
      "         r2  correlation         rmse  Variable\n",
      "0  0.999987     0.999994  2382.058109  FE_CO2eq\n",
      "\n",
      "GE3_partial_model\n",
      "Empty DataFrame\n",
      "Columns: []\n",
      "Index: []\n",
      "\n",
      "GE3_model\n",
      "          r2  correlation          rmse   Variable\n",
      "0   1.000000     1.000000  4.353519e-10  TEE_CO2eq\n",
      "1   0.999997     0.999999  2.517425e+00  TMT_CO2eq\n",
      "2   0.999993     1.000000  1.136032e+00  TMA_CO2eq\n",
      "3   0.999997     0.999999  1.709281e+01  TMP_CO2eq\n",
      "4   0.999987     0.999994  2.382058e+03   FE_CO2eq\n",
      "5   1.000000     1.000000  2.719008e-16      M_ASi\n",
      "6   1.000000     1.000000  3.387310e-16       M_Ti\n",
      "7   0.999992     0.999997  2.619308e-05       E_Ti\n",
      "8   1.000000     1.000000  1.297824e-08    E_TCH4i\n",
      "9   1.000000     1.000000  5.795602e-16      M_LPi\n",
      "10  1.000000     1.000000  1.016920e-15        TMi\n",
      "\n"
     ]
    }
   ],
   "source": [
    "res = []\n",
    "for model_name, model in GE3_models.items():\n",
    "    print(model_name)\n",
    "    X, y = get_X_y_from_data(model, data_dict)\n",
    "    print(score_model(model, X, y))\n",
    "    print()"
   ]
  },
  {
   "cell_type": "markdown",
   "metadata": {},
   "source": [
    " # Livestock"
   ]
  },
  {
   "cell_type": "code",
   "execution_count": 9,
   "metadata": {
    "ExecuteTime": {
     "end_time": "2021-03-08T08:50:30.582560Z",
     "start_time": "2021-03-08T08:50:30.091179Z"
    },
    "scrolled": true
   },
   "outputs": [
    {
     "name": "stderr",
     "output_type": "stream",
     "text": [
      "/home/simon/anaconda3/lib/python3.7/site-packages/IPython/core/interactiveshell.py:3146: DtypeWarning: Columns (7,8) have mixed types.Specify dtype option on import or set low_memory=False.\n",
      "  interactivity=interactivity, compiler=compiler, result=result)\n"
     ]
    }
   ],
   "source": [
    "#livestock_df = select_dataset('livestock')\n",
    "livestock_df = pd.read_csv('models/Hermen/data/QL.csv')#.rename(columns={'Element': 'Description', 'GGI_code': 'Variable'})"
   ]
  },
  {
   "cell_type": "code",
   "execution_count": 10,
   "metadata": {
    "ExecuteTime": {
     "end_time": "2021-03-08T08:50:30.667787Z",
     "start_time": "2021-03-08T08:50:30.584618Z"
    }
   },
   "outputs": [
    {
     "data": {
      "text/plain": [
       "array(['FPi', 'ANPi', 'AYi', 'PTTAi'], dtype=object)"
      ]
     },
     "execution_count": 10,
     "metadata": {},
     "output_type": "execute_result"
    }
   ],
   "source": [
    "itemized = livestock_df.dropna(subset=['emi_item']).Variable.unique()\n",
    "itemized"
   ]
  },
  {
   "cell_type": "code",
   "execution_count": 11,
   "metadata": {
    "ExecuteTime": {
     "end_time": "2021-03-08T08:50:31.693182Z",
     "start_time": "2021-03-08T08:50:31.648356Z"
    }
   },
   "outputs": [],
   "source": [
    "a = livestock_df.query(\"Variable == 'PTTAi'\").pivot(index=['ISO', 'Year', 'emi_item'], columns='Variable', values='Value')"
   ]
  },
  {
   "cell_type": "code",
   "execution_count": 12,
   "metadata": {
    "ExecuteTime": {
     "end_time": "2021-03-08T08:50:32.276986Z",
     "start_time": "2021-03-08T08:50:32.089909Z"
    }
   },
   "outputs": [],
   "source": [
    "b = livestock_df.query(\"Variable == 'FPi'\").pivot(index=['ISO', 'Year', 'Item'], columns='Variable', values='Value')"
   ]
  },
  {
   "cell_type": "code",
   "execution_count": 13,
   "metadata": {
    "ExecuteTime": {
     "end_time": "2021-03-08T08:50:32.695163Z",
     "start_time": "2021-03-08T08:50:32.448185Z"
    },
    "scrolled": true
   },
   "outputs": [
    {
     "data": {
      "text/html": [
       "<div>\n",
       "<style scoped>\n",
       "    .dataframe tbody tr th:only-of-type {\n",
       "        vertical-align: middle;\n",
       "    }\n",
       "\n",
       "    .dataframe tbody tr th {\n",
       "        vertical-align: top;\n",
       "    }\n",
       "\n",
       "    .dataframe thead th {\n",
       "        text-align: right;\n",
       "    }\n",
       "</style>\n",
       "<table border=\"1\" class=\"dataframe\">\n",
       "  <thead>\n",
       "    <tr style=\"text-align: right;\">\n",
       "      <th></th>\n",
       "      <th></th>\n",
       "      <th></th>\n",
       "      <th>Variable</th>\n",
       "      <th>FPi</th>\n",
       "    </tr>\n",
       "    <tr>\n",
       "      <th>ISO</th>\n",
       "      <th>Year</th>\n",
       "      <th>Item</th>\n",
       "      <th>emi_item</th>\n",
       "      <th></th>\n",
       "    </tr>\n",
       "  </thead>\n",
       "  <tbody>\n",
       "    <tr>\n",
       "      <th rowspan=\"5\" valign=\"top\">AFG</th>\n",
       "      <th rowspan=\"5\" valign=\"top\">1961</th>\n",
       "      <th>Beef and Buffalo Meat</th>\n",
       "      <th>Cattle, non-dairy</th>\n",
       "      <td>43000.0</td>\n",
       "    </tr>\n",
       "    <tr>\n",
       "      <th>Eggs Primary</th>\n",
       "      <th>Chickens, layers</th>\n",
       "      <td>10000.0</td>\n",
       "    </tr>\n",
       "    <tr>\n",
       "      <th>Eggs, hen, in shell</th>\n",
       "      <th>Chickens, layers</th>\n",
       "      <td>10000.0</td>\n",
       "    </tr>\n",
       "    <tr>\n",
       "      <th>Hides, cattle, fresh</th>\n",
       "      <th>NaN</th>\n",
       "      <td>7200.0</td>\n",
       "    </tr>\n",
       "    <tr>\n",
       "      <th>Meat, Poultry</th>\n",
       "      <th>Poultry Birds</th>\n",
       "      <td>5600.0</td>\n",
       "    </tr>\n",
       "    <tr>\n",
       "      <th>...</th>\n",
       "      <th>...</th>\n",
       "      <th>...</th>\n",
       "      <th>...</th>\n",
       "      <td>...</td>\n",
       "    </tr>\n",
       "    <tr>\n",
       "      <th rowspan=\"5\" valign=\"top\">ZWE</th>\n",
       "      <th rowspan=\"5\" valign=\"top\">2019</th>\n",
       "      <th>Offals, sheep,edible</th>\n",
       "      <th>NaN</th>\n",
       "      <td>78.0</td>\n",
       "    </tr>\n",
       "    <tr>\n",
       "      <th>Sheep and Goat Meat</th>\n",
       "      <th>Sheep and Goats</th>\n",
       "      <td>25268.0</td>\n",
       "    </tr>\n",
       "    <tr>\n",
       "      <th>Skins, goat, fresh</th>\n",
       "      <th>NaN</th>\n",
       "      <td>4122.0</td>\n",
       "    </tr>\n",
       "    <tr>\n",
       "      <th>Skins, sheep, fresh</th>\n",
       "      <th>NaN</th>\n",
       "      <td>62.0</td>\n",
       "    </tr>\n",
       "    <tr>\n",
       "      <th>Wool, greasy</th>\n",
       "      <th>NaN</th>\n",
       "      <td>3287.0</td>\n",
       "    </tr>\n",
       "  </tbody>\n",
       "</table>\n",
       "<p>259066 rows × 1 columns</p>\n",
       "</div>"
      ],
      "text/plain": [
       "Variable                                              FPi\n",
       "ISO Year Item                  emi_item                  \n",
       "AFG 1961 Beef and Buffalo Meat Cattle, non-dairy  43000.0\n",
       "         Eggs Primary          Chickens, layers   10000.0\n",
       "         Eggs, hen, in shell   Chickens, layers   10000.0\n",
       "         Hides, cattle, fresh  NaN                 7200.0\n",
       "         Meat, Poultry         Poultry Birds       5600.0\n",
       "...                                                   ...\n",
       "ZWE 2019 Offals, sheep,edible  NaN                   78.0\n",
       "         Sheep and Goat Meat   Sheep and Goats    25268.0\n",
       "         Skins, goat, fresh    NaN                 4122.0\n",
       "         Skins, sheep, fresh   NaN                   62.0\n",
       "         Wool, greasy          NaN                 3287.0\n",
       "\n",
       "[259066 rows x 1 columns]"
      ]
     },
     "execution_count": 13,
     "metadata": {},
     "output_type": "execute_result"
    }
   ],
   "source": [
    "livestock_df.query(\"Variable == 'FPi'\").pivot(index=['ISO', 'Year', 'Item', 'emi_item'], columns='Variable', values='Value')"
   ]
  },
  {
   "cell_type": "code",
   "execution_count": 14,
   "metadata": {
    "ExecuteTime": {
     "end_time": "2021-03-08T08:50:33.479350Z",
     "start_time": "2021-03-08T08:50:33.377271Z"
    }
   },
   "outputs": [
    {
     "data": {
      "text/html": [
       "<div>\n",
       "<style scoped>\n",
       "    .dataframe tbody tr th:only-of-type {\n",
       "        vertical-align: middle;\n",
       "    }\n",
       "\n",
       "    .dataframe tbody tr th {\n",
       "        vertical-align: top;\n",
       "    }\n",
       "\n",
       "    .dataframe thead th {\n",
       "        text-align: right;\n",
       "    }\n",
       "</style>\n",
       "<table border=\"1\" class=\"dataframe\">\n",
       "  <thead>\n",
       "    <tr style=\"text-align: right;\">\n",
       "      <th></th>\n",
       "      <th></th>\n",
       "      <th>Variable</th>\n",
       "      <th>AYi</th>\n",
       "    </tr>\n",
       "    <tr>\n",
       "      <th>ISO</th>\n",
       "      <th>Year</th>\n",
       "      <th>Item</th>\n",
       "      <th></th>\n",
       "    </tr>\n",
       "  </thead>\n",
       "  <tbody>\n",
       "    <tr>\n",
       "      <th rowspan=\"5\" valign=\"top\">AFG</th>\n",
       "      <th rowspan=\"5\" valign=\"top\">1961</th>\n",
       "      <th>Beef and Buffalo Meat</th>\n",
       "      <td>0.119400</td>\n",
       "    </tr>\n",
       "    <tr>\n",
       "      <th>Meat, Poultry</th>\n",
       "      <td>0.000800</td>\n",
       "    </tr>\n",
       "    <tr>\n",
       "      <th>Meat, camel</th>\n",
       "      <td>0.180000</td>\n",
       "    </tr>\n",
       "    <tr>\n",
       "      <th>Meat, cattle</th>\n",
       "      <td>0.119400</td>\n",
       "    </tr>\n",
       "    <tr>\n",
       "      <th>Meat, chicken</th>\n",
       "      <td>0.000800</td>\n",
       "    </tr>\n",
       "    <tr>\n",
       "      <th>...</th>\n",
       "      <th>...</th>\n",
       "      <th>...</th>\n",
       "      <td>...</td>\n",
       "    </tr>\n",
       "    <tr>\n",
       "      <th rowspan=\"5\" valign=\"top\">ZWE</th>\n",
       "      <th rowspan=\"5\" valign=\"top\">2019</th>\n",
       "      <th>Meat, goat</th>\n",
       "      <td>0.012000</td>\n",
       "    </tr>\n",
       "    <tr>\n",
       "      <th>Meat, pig</th>\n",
       "      <td>0.054900</td>\n",
       "    </tr>\n",
       "    <tr>\n",
       "      <th>Meat, sheep</th>\n",
       "      <td>0.014000</td>\n",
       "    </tr>\n",
       "    <tr>\n",
       "      <th>Meat, turkey</th>\n",
       "      <td>0.003968</td>\n",
       "    </tr>\n",
       "    <tr>\n",
       "      <th>Sheep and Goat Meat</th>\n",
       "      <td>0.012000</td>\n",
       "    </tr>\n",
       "  </tbody>\n",
       "</table>\n",
       "<p>100779 rows × 1 columns</p>\n",
       "</div>"
      ],
      "text/plain": [
       "Variable                             AYi\n",
       "ISO Year Item                           \n",
       "AFG 1961 Beef and Buffalo Meat  0.119400\n",
       "         Meat, Poultry          0.000800\n",
       "         Meat, camel            0.180000\n",
       "         Meat, cattle           0.119400\n",
       "         Meat, chicken          0.000800\n",
       "...                                  ...\n",
       "ZWE 2019 Meat, goat             0.012000\n",
       "         Meat, pig              0.054900\n",
       "         Meat, sheep            0.014000\n",
       "         Meat, turkey           0.003968\n",
       "         Sheep and Goat Meat    0.012000\n",
       "\n",
       "[100779 rows x 1 columns]"
      ]
     },
     "execution_count": 14,
     "metadata": {},
     "output_type": "execute_result"
    }
   ],
   "source": [
    "livestock_df.query(\"Variable == 'AYi'\").pivot(index=['ISO', 'Year', 'Item'], columns='Variable', values='Value')"
   ]
  },
  {
   "cell_type": "code",
   "execution_count": null,
   "metadata": {},
   "outputs": [],
   "source": [
    "b = livestock_df.query(\"Variable == 'FPi'\").groupby(['ISO', 'Year', 'emi_item', 'Variable'])['Value'].sum().reset_index().pivot(index=['ISO', 'Year', 'emi_item'], columns='Variable', values='Value')"
   ]
  },
  {
   "cell_type": "code",
   "execution_count": null,
   "metadata": {
    "ExecuteTime": {
     "end_time": "2021-03-08T07:50:10.780420Z",
     "start_time": "2021-03-08T07:50:10.767062Z"
    }
   },
   "outputs": [],
   "source": [
    "def get_X_y_from_data(model, data_dict):\n",
    "    '''TO CLEAN UP'''\n",
    "    X = {key: data_dict[key] for key in model.inputs_() + model.parameters_()}\n",
    "    y = {key: data_dict[key] for key in model.variables_() + model.outputs_() if key in data_dict}\n",
    "    return X, y\n",
    "\n",
    "\n",
    "def df_to_dict(df):\n",
    "    X = {}\n",
    "    for code in df.columns:\n",
    "        X[code] = df[code].fillna(0)\n",
    "    return X\n",
    "\n",
    "\n",
    "def fill_missing_values(df):\n",
    "    return df\n",
    "#     return df.groupby(level='ISO').fillna(method='ffill')\\\n",
    "#              .groupby(level='ISO').fillna(method='bfill')\n",
    "\n",
    "\n",
    "def df_to_data_dict(df, itemized):\n",
    "    data_dict = {}\n",
    "\n",
    "    non_item_df = df[~df.Variable.isin(itemized)].pivot(\n",
    "        index=['ISO', 'Year'], columns='Variable', values='Value')\n",
    "    non_item_df = fill_missing_values(non_item_df)\n",
    "    item_df = df[df.Variable.isin(itemized)].pivot(\n",
    "        index=['ISO', 'Year','Item', 'emi_item'], columns='Variable', values='Value')\n",
    "\n",
    "    data_dict.update(df_to_dict(non_item_df))\n",
    "    data_dict.update(df_to_dict(item_df))\n",
    "\n",
    "    return data_dict\n"
   ]
  },
  {
   "cell_type": "code",
   "execution_count": null,
   "metadata": {
    "ExecuteTime": {
     "end_time": "2021-03-08T07:51:33.390529Z",
     "start_time": "2021-03-08T07:51:33.381875Z"
    }
   },
   "outputs": [],
   "source": [
    "TAi_nodes = {'FPi': {'type': 'input',\n",
    "                     'unit': 'tonnes',\n",
    "                     'name': 'Production'},\n",
    "             'AYi': {'type': 'input',\n",
    "                     'unit': 'tonnes/head',\n",
    "                     'name': 'Vector of animal yields'},\n",
    "             'ANPi': {'type': 'variable',\n",
    "                      'unit': 'head',\n",
    "                      'name': 'Vector animals needed for production',\n",
    "                      'computation': lambda FPi, AYi, **kwargs: FPi / AYi\n",
    "                      },\n",
    "             'PTTAi': {'type': 'parameter',\n",
    "                       'unit': '1',\n",
    "                       'name': 'vector production-to-total animals ratio',\n",
    "                       },\n",
    "             'TAi': {'type': 'output',\n",
    "                     'unit': 'head',\n",
    "                     'name': 'Vector total animal population',\n",
    "                     'computation': lambda ANPi, PTTAi, **kwargs: PTTAi * ANPi.groupby(level=['ISO', 'Year', 'emi_item']).sum().rename_axis(index={\"emi_item\": 'Item'})\n",
    "                     },\n",
    "             }\n"
   ]
  },
  {
   "cell_type": "code",
   "execution_count": null,
   "metadata": {
    "ExecuteTime": {
     "end_time": "2021-03-08T07:55:17.644574Z",
     "start_time": "2021-03-08T07:55:17.623470Z"
    }
   },
   "outputs": [],
   "source": [
    "TAi_model = GraphModel(TAi_nodes)"
   ]
  },
  {
   "cell_type": "code",
   "execution_count": null,
   "metadata": {
    "ExecuteTime": {
     "end_time": "2021-03-08T07:55:20.852178Z",
     "start_time": "2021-03-08T07:55:20.738687Z"
    }
   },
   "outputs": [],
   "source": [
    "TAi_model.draw()"
   ]
  },
  {
   "cell_type": "code",
   "execution_count": null,
   "metadata": {
    "ExecuteTime": {
     "end_time": "2021-03-08T07:51:54.107995Z",
     "start_time": "2021-03-08T07:51:53.504593Z"
    }
   },
   "outputs": [],
   "source": [
    "data_dict = df_to_data_dict(livestock_df, itemized)"
   ]
  },
  {
   "cell_type": "code",
   "execution_count": null,
   "metadata": {
    "ExecuteTime": {
     "end_time": "2021-03-08T07:51:57.799704Z",
     "start_time": "2021-03-08T07:51:54.111329Z"
    }
   },
   "outputs": [],
   "source": [
    "X, y = get_X_y_from_data(TAi_model, data_dict)\n",
    "\n",
    "res = TAi_model.run(X)\n",
    "\n",
    "print(score_model(TAi_model, X, y))\n"
   ]
  },
  {
   "cell_type": "code",
   "execution_count": null,
   "metadata": {
    "ExecuteTime": {
     "end_time": "2021-03-08T07:53:09.049966Z",
     "start_time": "2021-03-08T07:53:09.031197Z"
    }
   },
   "outputs": [],
   "source": [
    "res['ANPi'].dropna()"
   ]
  },
  {
   "cell_type": "code",
   "execution_count": null,
   "metadata": {
    "ExecuteTime": {
     "end_time": "2021-03-08T07:53:27.767762Z",
     "start_time": "2021-03-08T07:53:27.750970Z"
    }
   },
   "outputs": [],
   "source": [
    "data_dict['PTTAi']"
   ]
  },
  {
   "cell_type": "code",
   "execution_count": null,
   "metadata": {
    "ExecuteTime": {
     "end_time": "2021-03-08T07:52:28.642474Z",
     "start_time": "2021-03-08T07:52:28.595905Z"
    }
   },
   "outputs": [],
   "source": [
    "res"
   ]
  },
  {
   "cell_type": "code",
   "execution_count": null,
   "metadata": {
    "ExecuteTime": {
     "end_time": "2021-03-08T07:51:23.836073Z",
     "start_time": "2021-03-08T07:51:23.829663Z"
    }
   },
   "outputs": [],
   "source": [
    "f"
   ]
  },
  {
   "cell_type": "code",
   "execution_count": null,
   "metadata": {
    "ExecuteTime": {
     "end_time": "2021-03-08T07:26:39.084363Z",
     "start_time": "2021-03-08T07:26:37.468382Z"
    }
   },
   "outputs": [],
   "source": [
    "X, y = get_X_y_from_data(model, data_dict)\n",
    "#%time res = model.run(X)\n",
    "print(score_model(model, X, y))\n"
   ]
  },
  {
   "cell_type": "code",
   "execution_count": null,
   "metadata": {
    "ExecuteTime": {
     "end_time": "2021-03-08T07:26:39.284384Z",
     "start_time": "2021-03-08T07:26:39.088237Z"
    },
    "scrolled": false
   },
   "outputs": [],
   "source": [
    "res = []\n",
    "for model_name, model in GE3_models.items():\n",
    "    print(model_name)\n",
    "    X, y = get_X_y_from_data(model, data_dict)\n",
    "    #%time res = model.run(X)\n",
    "    print(score_model(model, X, y))\n",
    "\n",
    "    print()\n"
   ]
  },
  {
   "cell_type": "code",
   "execution_count": null,
   "metadata": {},
   "outputs": [],
   "source": []
  }
 ],
 "metadata": {
  "kernelspec": {
   "display_name": "Python 3",
   "language": "python",
   "name": "python3"
  },
  "language_info": {
   "codemirror_mode": {
    "name": "ipython",
    "version": 3
   },
   "file_extension": ".py",
   "mimetype": "text/x-python",
   "name": "python",
   "nbconvert_exporter": "python",
   "pygments_lexer": "ipython3",
   "version": "3.7.7"
  }
 },
 "nbformat": 4,
 "nbformat_minor": 4
}
