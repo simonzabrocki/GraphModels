{
 "cells": [
  {
   "cell_type": "code",
   "execution_count": 34,
   "metadata": {
    "ExecuteTime": {
     "end_time": "2021-03-03T01:28:31.137166Z",
     "start_time": "2021-03-03T01:28:31.131405Z"
    },
    "code_folding": []
   },
   "outputs": [],
   "source": [
    "from graphmodels.graphmodel import GraphModel, concatenate_graph_specs\n",
    "from graphmodels.validation import score_model, plot_diagnostic, plot_baseline_vs_computation\n",
    "import pandas as pd\n",
    "import plotly.express as px\n",
    "from sklearn.metrics import r2_score\n",
    "from database import select_dataset\n",
    "from models.Hermen.model_GE3 import GE3_models\n",
    "\n",
    "from graphmodels.utils import df_to_data_dict, get_X_y_from_data"
   ]
  },
  {
   "cell_type": "code",
   "execution_count": 39,
   "metadata": {
    "ExecuteTime": {
     "end_time": "2021-03-03T01:29:12.994677Z",
     "start_time": "2021-03-03T01:29:09.957726Z"
    },
    "scrolled": true
   },
   "outputs": [
    {
     "name": "stderr",
     "output_type": "stream",
     "text": [
      "/home/simon/anaconda3/lib/python3.7/site-packages/IPython/core/interactiveshell.py:3146: DtypeWarning: Columns (2) have mixed types.Specify dtype option on import or set low_memory=False.\n",
      "  interactivity=interactivity, compiler=compiler, result=result)\n"
     ]
    }
   ],
   "source": [
    "# to clean up\n",
    "\n",
    "df = pd.read_csv('models/Hermen/data/GY_GE_GU_GM_GP_GT.csv').rename(columns={'Element': 'Description', 'GGI_code': 'Variable'})\n",
    "pop = select_dataset('population').replace('P', 'Pop')\n",
    "# data_dict = df_to_dict(pivot(df))\n",
    "# data_dict['Pop'] = pop.set_index(['Area', 'Year'])['Value']\n",
    "# data_dict['OEi'] = data_dict['OEi'].reset_index(level='Item', drop='True').dropna()\n",
    "# data_dict['MYi'] = data_dict['MYi']#.dropna()#.reset_index(level='Item', drop='True').dropna()"
   ]
  },
  {
   "cell_type": "code",
   "execution_count": 40,
   "metadata": {
    "ExecuteTime": {
     "end_time": "2021-03-03T01:29:14.364246Z",
     "start_time": "2021-03-03T01:29:14.352415Z"
    }
   },
   "outputs": [],
   "source": [
    "def df_to_dict(df):\n",
    "    X = {}\n",
    "    for code in df.columns:\n",
    "        X[code] = df[code]#.fillna(0)\n",
    "    return X\n",
    "\n",
    "\n",
    "def fill_missing_values(df):\n",
    "    return df.groupby(level='Area').fillna(method='ffill')\\\n",
    "             .groupby(level='Area').fillna(method='bfill')\n",
    "\n",
    "\n",
    "def df_to_data_dict(df, itemized):\n",
    "    data_dict = {}\n",
    "    \n",
    "    non_item_df = df[~df.Variable.isin(itemized)].pivot(index=['Area', 'Year'], columns='Variable', values='Value')\n",
    "    non_item_df = fill_missing_values(non_item_df)\n",
    "    item_df = df[df.Variable.isin(itemized)].pivot(index=['Area', 'Year', 'Item'], columns='Variable', values='Value')\n",
    "    \n",
    "    data_dict.update(df_to_dict(non_item_df))\n",
    "    data_dict.update(df_to_dict(item_df))\n",
    "    \n",
    "    return data_dict"
   ]
  },
  {
   "cell_type": "code",
   "execution_count": 41,
   "metadata": {
    "ExecuteTime": {
     "end_time": "2021-03-03T01:29:15.058487Z",
     "start_time": "2021-03-03T01:29:14.691771Z"
    }
   },
   "outputs": [],
   "source": [
    "df = pd.concat([df, pop])"
   ]
  },
  {
   "cell_type": "code",
   "execution_count": 42,
   "metadata": {
    "ExecuteTime": {
     "end_time": "2021-03-03T01:29:18.553478Z",
     "start_time": "2021-03-03T01:29:15.151140Z"
    }
   },
   "outputs": [],
   "source": [
    "itemized = df.dropna(subset=['Item']).Variable.unique()\n",
    "data_dict = df_to_data_dict(df, itemized)"
   ]
  },
  {
   "cell_type": "code",
   "execution_count": 43,
   "metadata": {
    "ExecuteTime": {
     "end_time": "2021-03-03T01:29:20.448547Z",
     "start_time": "2021-03-03T01:29:18.554932Z"
    }
   },
   "outputs": [
    {
     "name": "stdout",
     "output_type": "stream",
     "text": [
      "TMi_model\n",
      "    r2  correlation          rmse Variable\n",
      "0  1.0          1.0  1.053919e-15      TMi\n",
      "\n",
      "M_xi_model\n",
      "    r2  correlation          rmse Variable\n",
      "0  1.0          1.0  7.382541e-16     M_Ti\n",
      "1  1.0          1.0  8.550658e-16    M_LPi\n",
      "2  1.0          1.0  5.858794e-16    M_ASi\n",
      "\n",
      "TMP_CO2eq_model\n",
      "         r2  correlation       rmse   Variable\n",
      "0  0.999997     0.999999  17.156806  TMP_CO2eq\n",
      "\n",
      "TMT_CO2eq_model\n",
      "         r2  correlation          rmse   Variable\n",
      "0  0.999992     0.999997  2.536710e-05       E_Ti\n",
      "1  1.000000     1.000000  1.259033e-08    E_TCH4i\n",
      "2  0.999997     0.999999  2.438036e+00  TMT_CO2eq\n",
      "\n",
      "TMA_CO2eq_model\n",
      "         r2  correlation      rmse   Variable\n",
      "0  0.999993          1.0  1.748403  TMA_CO2eq\n",
      "\n",
      "TEE_CO2eq_model\n",
      "    r2  correlation          rmse   Variable\n",
      "0  1.0          1.0  4.388695e-10  TEE_CO2eq\n",
      "\n",
      "FE_CO2eq_model\n",
      "         r2  correlation         rmse  Variable\n",
      "0  0.999987     0.999994  2401.629787  FE_CO2eq\n",
      "\n",
      "GE3_partial_model\n",
      "Empty DataFrame\n",
      "Columns: []\n",
      "Index: []\n",
      "\n",
      "GE3_model\n",
      "          r2  correlation          rmse   Variable\n",
      "0   1.000000     1.000000  4.388695e-10  TEE_CO2eq\n",
      "1   0.999997     0.999999  2.438036e+00  TMT_CO2eq\n",
      "2   0.999993     1.000000  1.748403e+00  TMA_CO2eq\n",
      "3   0.999997     0.999999  1.715681e+01  TMP_CO2eq\n",
      "4   0.999987     0.999994  2.401630e+03   FE_CO2eq\n",
      "5   1.000000     1.000000  3.124699e-16      M_ASi\n",
      "6   1.000000     1.000000  3.314249e-16       M_Ti\n",
      "7   0.999992     0.999997  2.536710e-05       E_Ti\n",
      "8   1.000000     1.000000  1.259033e-08    E_TCH4i\n",
      "9   1.000000     1.000000  5.881967e-16      M_LPi\n",
      "10  1.000000     1.000000  1.053919e-15        TMi\n",
      "\n"
     ]
    }
   ],
   "source": [
    "res = []\n",
    "for model_name, model in GE3_models.items():\n",
    "    print(model_name)\n",
    "    X, y = get_X_y_from_data(model, data_dict)\n",
    "    print(score_model(model, X, y))\n",
    "    print()"
   ]
  },
  {
   "cell_type": "code",
   "execution_count": 6,
   "metadata": {
    "ExecuteTime": {
     "end_time": "2021-02-18T00:39:20.955913Z",
     "start_time": "2021-02-18T00:39:20.820631Z"
    }
   },
   "outputs": [
    {
     "name": "stdout",
     "output_type": "stream",
     "text": [
      "CPU times: user 235 ms, sys: 7.07 ms, total: 242 ms\n",
      "Wall time: 120 ms\n"
     ]
    }
   ],
   "source": [
    "%time GE3 = model.run(X)#['GE3']"
   ]
  },
  {
   "cell_type": "markdown",
   "metadata": {},
   "source": [
    "# check on 1 country"
   ]
  },
  {
   "cell_type": "code",
   "execution_count": 7,
   "metadata": {
    "ExecuteTime": {
     "end_time": "2021-02-18T00:39:42.332089Z",
     "start_time": "2021-02-18T00:39:37.768509Z"
    }
   },
   "outputs": [
    {
     "name": "stderr",
     "output_type": "stream",
     "text": [
      "/home/simon/anaconda3/lib/python3.7/site-packages/IPython/core/interactiveshell.py:3146: DtypeWarning: Columns (2) have mixed types.Specify dtype option on import or set low_memory=False.\n",
      "  interactivity=interactivity, compiler=compiler, result=result)\n"
     ]
    }
   ],
   "source": [
    "df = pd.read_csv('models/Hermen/data/GY_GE_GU_GM_GP_GT.csv')\n",
    "pop = select_dataset('population')\n",
    "data_dict = df_to_dict(pivot(df.query(\"Area == 'France' and Year > 2010\")))\n",
    "data_dict['Pop'] = pop.query(\"Area == 'France'\").set_index(['Area', 'Year'])['Value']\n",
    "data_dict['OEi'] = data_dict['OEi'].reset_index(level='Item', drop='True').dropna()\n",
    "data_dict['MYi'] = data_dict['MYi']#.dropna()#.reset_index(level='Item', drop='True').dropna()"
   ]
  },
  {
   "cell_type": "code",
   "execution_count": 9,
   "metadata": {
    "ExecuteTime": {
     "end_time": "2021-02-18T00:39:46.905416Z",
     "start_time": "2021-02-18T00:39:46.880839Z"
    }
   },
   "outputs": [],
   "source": [
    "X, y = get_X_y_from_data(model, data_dict)\n",
    "\n",
    "GE3 = model.run(X)#['GE3']"
   ]
  },
  {
   "cell_type": "code",
   "execution_count": 10,
   "metadata": {
    "ExecuteTime": {
     "end_time": "2021-02-18T00:39:51.855946Z",
     "start_time": "2021-02-18T00:39:51.766105Z"
    }
   },
   "outputs": [],
   "source": [
    "df = pd.concat([GE3['TEE_CO2eq'],GE3['TMP_CO2eq'],GE3['TMT_CO2eq'],GE3['TMA_CO2eq']], axis=1)\n",
    "df.columns = [\"TEE_CO2eq\", \"TMP_CO2eq\", \"TMT_CO2eq\", \"TMA_CO2eq\"]\n",
    "df['TOTAL_CO2eq'] = df[[\"TEE_CO2eq\", \"TMP_CO2eq\", \"TMT_CO2eq\", \"TMA_CO2eq\"]].sum(axis=1)"
   ]
  },
  {
   "cell_type": "code",
   "execution_count": 18,
   "metadata": {
    "ExecuteTime": {
     "end_time": "2021-02-18T02:09:19.655418Z",
     "start_time": "2021-02-18T02:09:19.616101Z"
    }
   },
   "outputs": [
    {
     "data": {
      "text/html": [
       "<div>\n",
       "<style scoped>\n",
       "    .dataframe tbody tr th:only-of-type {\n",
       "        vertical-align: middle;\n",
       "    }\n",
       "\n",
       "    .dataframe tbody tr th {\n",
       "        vertical-align: top;\n",
       "    }\n",
       "\n",
       "    .dataframe thead th {\n",
       "        text-align: right;\n",
       "    }\n",
       "</style>\n",
       "<table border=\"1\" class=\"dataframe\">\n",
       "  <thead>\n",
       "    <tr style=\"text-align: right;\">\n",
       "      <th></th>\n",
       "      <th>TEE_CO2eq</th>\n",
       "      <th>TMP_CO2eq</th>\n",
       "      <th>TMT_CO2eq</th>\n",
       "      <th>TMA_CO2eq</th>\n",
       "      <th>TOTAL_CO2eq</th>\n",
       "    </tr>\n",
       "    <tr>\n",
       "      <th>Item</th>\n",
       "      <th></th>\n",
       "      <th></th>\n",
       "      <th></th>\n",
       "      <th></th>\n",
       "      <th></th>\n",
       "    </tr>\n",
       "  </thead>\n",
       "  <tbody>\n",
       "    <tr>\n",
       "      <th>NaN</th>\n",
       "      <td>NaN</td>\n",
       "      <td>NaN</td>\n",
       "      <td>NaN</td>\n",
       "      <td>NaN</td>\n",
       "      <td>0.000000</td>\n",
       "    </tr>\n",
       "    <tr>\n",
       "      <th>All Animals</th>\n",
       "      <td>NaN</td>\n",
       "      <td>NaN</td>\n",
       "      <td>NaN</td>\n",
       "      <td>NaN</td>\n",
       "      <td>0.000000</td>\n",
       "    </tr>\n",
       "    <tr>\n",
       "      <th>Asses</th>\n",
       "      <td>6.300000</td>\n",
       "      <td>2.472859</td>\n",
       "      <td>0.514827</td>\n",
       "      <td>0.103036</td>\n",
       "      <td>9.390722</td>\n",
       "    </tr>\n",
       "    <tr>\n",
       "      <th>Cattle</th>\n",
       "      <td>NaN</td>\n",
       "      <td>NaN</td>\n",
       "      <td>NaN</td>\n",
       "      <td>NaN</td>\n",
       "      <td>0.000000</td>\n",
       "    </tr>\n",
       "    <tr>\n",
       "      <th>Cattle, dairy</th>\n",
       "      <td>8837.428509</td>\n",
       "      <td>890.661782</td>\n",
       "      <td>2817.613488</td>\n",
       "      <td>1366.026042</td>\n",
       "      <td>13911.729821</td>\n",
       "    </tr>\n",
       "    <tr>\n",
       "      <th>Cattle, non-dairy</th>\n",
       "      <td>18382.007007</td>\n",
       "      <td>2940.170189</td>\n",
       "      <td>4015.023844</td>\n",
       "      <td>2789.102848</td>\n",
       "      <td>28126.303887</td>\n",
       "    </tr>\n",
       "    <tr>\n",
       "      <th>Chickens</th>\n",
       "      <td>NaN</td>\n",
       "      <td>NaN</td>\n",
       "      <td>NaN</td>\n",
       "      <td>NaN</td>\n",
       "      <td>0.000000</td>\n",
       "    </tr>\n",
       "    <tr>\n",
       "      <th>Chickens, broilers</th>\n",
       "      <td>NaN</td>\n",
       "      <td>9.130926</td>\n",
       "      <td>138.770175</td>\n",
       "      <td>262.622162</td>\n",
       "      <td>410.523263</td>\n",
       "    </tr>\n",
       "    <tr>\n",
       "      <th>Chickens, layers</th>\n",
       "      <td>NaN</td>\n",
       "      <td>9.162239</td>\n",
       "      <td>329.077288</td>\n",
       "      <td>263.522764</td>\n",
       "      <td>601.762291</td>\n",
       "    </tr>\n",
       "    <tr>\n",
       "      <th>Ducks</th>\n",
       "      <td>NaN</td>\n",
       "      <td>4.538228</td>\n",
       "      <td>56.522430</td>\n",
       "      <td>130.527742</td>\n",
       "      <td>191.588400</td>\n",
       "    </tr>\n",
       "    <tr>\n",
       "      <th>Goats</th>\n",
       "      <td>133.427385</td>\n",
       "      <td>152.717166</td>\n",
       "      <td>5.694012</td>\n",
       "      <td>6.363215</td>\n",
       "      <td>298.201779</td>\n",
       "    </tr>\n",
       "    <tr>\n",
       "      <th>Horses</th>\n",
       "      <td>141.850548</td>\n",
       "      <td>89.704741</td>\n",
       "      <td>13.600601</td>\n",
       "      <td>3.737698</td>\n",
       "      <td>248.893588</td>\n",
       "    </tr>\n",
       "    <tr>\n",
       "      <th>Mules</th>\n",
       "      <td>5.670210</td>\n",
       "      <td>2.225656</td>\n",
       "      <td>0.463361</td>\n",
       "      <td>0.092736</td>\n",
       "      <td>8.451963</td>\n",
       "    </tr>\n",
       "    <tr>\n",
       "      <th>Mules and Asses</th>\n",
       "      <td>NaN</td>\n",
       "      <td>NaN</td>\n",
       "      <td>NaN</td>\n",
       "      <td>NaN</td>\n",
       "      <td>0.000000</td>\n",
       "    </tr>\n",
       "    <tr>\n",
       "      <th>Nutrient nitrogen N (total)</th>\n",
       "      <td>NaN</td>\n",
       "      <td>NaN</td>\n",
       "      <td>NaN</td>\n",
       "      <td>NaN</td>\n",
       "      <td>0.000000</td>\n",
       "    </tr>\n",
       "    <tr>\n",
       "      <th>Poultry Birds</th>\n",
       "      <td>NaN</td>\n",
       "      <td>NaN</td>\n",
       "      <td>NaN</td>\n",
       "      <td>NaN</td>\n",
       "      <td>0.000000</td>\n",
       "    </tr>\n",
       "    <tr>\n",
       "      <th>Sheep</th>\n",
       "      <td>1159.444608</td>\n",
       "      <td>628.797619</td>\n",
       "      <td>68.273959</td>\n",
       "      <td>92.874131</td>\n",
       "      <td>1949.390317</td>\n",
       "    </tr>\n",
       "    <tr>\n",
       "      <th>Sheep and Goats</th>\n",
       "      <td>NaN</td>\n",
       "      <td>NaN</td>\n",
       "      <td>NaN</td>\n",
       "      <td>NaN</td>\n",
       "      <td>0.000000</td>\n",
       "    </tr>\n",
       "    <tr>\n",
       "      <th>Swine</th>\n",
       "      <td>NaN</td>\n",
       "      <td>NaN</td>\n",
       "      <td>NaN</td>\n",
       "      <td>NaN</td>\n",
       "      <td>0.000000</td>\n",
       "    </tr>\n",
       "    <tr>\n",
       "      <th>Swine, breeding</th>\n",
       "      <td>40.732209</td>\n",
       "      <td>NaN</td>\n",
       "      <td>356.757900</td>\n",
       "      <td>193.121036</td>\n",
       "      <td>590.611146</td>\n",
       "    </tr>\n",
       "    <tr>\n",
       "      <th>Swine, market</th>\n",
       "      <td>366.589787</td>\n",
       "      <td>NaN</td>\n",
       "      <td>1735.224210</td>\n",
       "      <td>523.126587</td>\n",
       "      <td>2624.940584</td>\n",
       "    </tr>\n",
       "    <tr>\n",
       "      <th>Turkeys</th>\n",
       "      <td>NaN</td>\n",
       "      <td>8.747910</td>\n",
       "      <td>128.020116</td>\n",
       "      <td>251.605916</td>\n",
       "      <td>388.373943</td>\n",
       "    </tr>\n",
       "  </tbody>\n",
       "</table>\n",
       "</div>"
      ],
      "text/plain": [
       "                                TEE_CO2eq    TMP_CO2eq    TMT_CO2eq  \\\n",
       "Item                                                                  \n",
       "NaN                                   NaN          NaN          NaN   \n",
       "All Animals                           NaN          NaN          NaN   \n",
       "Asses                            6.300000     2.472859     0.514827   \n",
       "Cattle                                NaN          NaN          NaN   \n",
       "Cattle, dairy                 8837.428509   890.661782  2817.613488   \n",
       "Cattle, non-dairy            18382.007007  2940.170189  4015.023844   \n",
       "Chickens                              NaN          NaN          NaN   \n",
       "Chickens, broilers                    NaN     9.130926   138.770175   \n",
       "Chickens, layers                      NaN     9.162239   329.077288   \n",
       "Ducks                                 NaN     4.538228    56.522430   \n",
       "Goats                          133.427385   152.717166     5.694012   \n",
       "Horses                         141.850548    89.704741    13.600601   \n",
       "Mules                            5.670210     2.225656     0.463361   \n",
       "Mules and Asses                       NaN          NaN          NaN   \n",
       "Nutrient nitrogen N (total)           NaN          NaN          NaN   \n",
       "Poultry Birds                         NaN          NaN          NaN   \n",
       "Sheep                         1159.444608   628.797619    68.273959   \n",
       "Sheep and Goats                       NaN          NaN          NaN   \n",
       "Swine                                 NaN          NaN          NaN   \n",
       "Swine, breeding                 40.732209          NaN   356.757900   \n",
       "Swine, market                  366.589787          NaN  1735.224210   \n",
       "Turkeys                               NaN     8.747910   128.020116   \n",
       "\n",
       "                               TMA_CO2eq   TOTAL_CO2eq  \n",
       "Item                                                    \n",
       "NaN                                  NaN      0.000000  \n",
       "All Animals                          NaN      0.000000  \n",
       "Asses                           0.103036      9.390722  \n",
       "Cattle                               NaN      0.000000  \n",
       "Cattle, dairy                1366.026042  13911.729821  \n",
       "Cattle, non-dairy            2789.102848  28126.303887  \n",
       "Chickens                             NaN      0.000000  \n",
       "Chickens, broilers            262.622162    410.523263  \n",
       "Chickens, layers              263.522764    601.762291  \n",
       "Ducks                         130.527742    191.588400  \n",
       "Goats                           6.363215    298.201779  \n",
       "Horses                          3.737698    248.893588  \n",
       "Mules                           0.092736      8.451963  \n",
       "Mules and Asses                      NaN      0.000000  \n",
       "Nutrient nitrogen N (total)          NaN      0.000000  \n",
       "Poultry Birds                        NaN      0.000000  \n",
       "Sheep                          92.874131   1949.390317  \n",
       "Sheep and Goats                      NaN      0.000000  \n",
       "Swine                                NaN      0.000000  \n",
       "Swine, breeding               193.121036    590.611146  \n",
       "Swine, market                 523.126587   2624.940584  \n",
       "Turkeys                       251.605916    388.373943  "
      ]
     },
     "execution_count": 18,
     "metadata": {},
     "output_type": "execute_result"
    }
   ],
   "source": [
    "df.loc['France', 2017]"
   ]
  },
  {
   "cell_type": "markdown",
   "metadata": {},
   "source": [
    "# Animal"
   ]
  },
  {
   "cell_type": "code",
   "execution_count": 64,
   "metadata": {
    "ExecuteTime": {
     "end_time": "2021-03-03T01:36:15.922495Z",
     "start_time": "2021-03-03T01:36:15.211658Z"
    },
    "scrolled": true
   },
   "outputs": [
    {
     "name": "stderr",
     "output_type": "stream",
     "text": [
      "/home/simon/anaconda3/lib/python3.7/site-packages/IPython/core/interactiveshell.py:3146: DtypeWarning: Columns (2,5,7,8) have mixed types.Specify dtype option on import or set low_memory=False.\n",
      "  interactivity=interactivity, compiler=compiler, result=result)\n"
     ]
    }
   ],
   "source": [
    "#livestock_df = select_dataset('livestock')\n",
    "livestock_df = pd.read_csv('models/Hermen/data/QL.csv', index_col=0).rename(columns={'Element': 'Description', 'GGI_code': 'Variable'})"
   ]
  },
  {
   "cell_type": "code",
   "execution_count": 65,
   "metadata": {
    "ExecuteTime": {
     "end_time": "2021-03-03T01:36:15.934934Z",
     "start_time": "2021-03-03T01:36:15.925353Z"
    }
   },
   "outputs": [],
   "source": [
    "def df_to_dict(df):\n",
    "    X = {}\n",
    "    for code in df.columns:\n",
    "        X[code] = df[code]#.fillna(0)\n",
    "    return X\n",
    "\n",
    "\n",
    "def fill_missing_values(df):\n",
    "    return df.groupby(level='Area').fillna(method='ffill')\\\n",
    "             .groupby(level='Area').fillna(method='bfill')\n",
    "\n",
    "\n",
    "def df_to_data_dict(df, itemized):\n",
    "    data_dict = {}\n",
    "    \n",
    "    non_item_df = df[~df.Variable.isin(itemized)].pivot(index=['Area', 'Year'], columns='Variable', values='Value')\n",
    "    non_item_df = fill_missing_values(non_item_df)\n",
    "    item_df = df[df.Variable.isin(itemized)].pivot(index=['Area', 'Year', 'Item'], columns='Variable', values='Value')\n",
    "    \n",
    "    data_dict.update(df_to_dict(non_item_df))\n",
    "    data_dict.update(df_to_dict(item_df))\n",
    "    \n",
    "    return data_dict"
   ]
  },
  {
   "cell_type": "code",
   "execution_count": 66,
   "metadata": {
    "ExecuteTime": {
     "end_time": "2021-03-03T01:36:16.021780Z",
     "start_time": "2021-03-03T01:36:15.938533Z"
    }
   },
   "outputs": [],
   "source": [
    "itemized = livestock_df.dropna(subset=['emi_item']).Variable.unique()\n",
    "#data_dict = df_to_data_dict(livestock_df, itemized)"
   ]
  },
  {
   "cell_type": "code",
   "execution_count": 67,
   "metadata": {
    "ExecuteTime": {
     "end_time": "2021-03-03T01:36:16.471056Z",
     "start_time": "2021-03-03T01:36:16.056032Z"
    }
   },
   "outputs": [],
   "source": [
    "test = livestock_df.copy()#.groupby(['Area', 'Year', 'Variable', 'emi_item', 'Item'])#.sum().reset_index()\n",
    "\n",
    "def pivot(df):\n",
    "    return df.pivot(index=['Area', 'Year','Item', 'emi_item'], columns='Variable', values='Value')\n",
    "\n",
    "test = df_to_dict(pivot(test))\n",
    "test['TAi'] = data_dict['TAi']\n",
    "test['PTTAi'] = test['PTTAi'].reset_index(level='Item', drop=True).rename_axis(index={'emi_item': 'Item'}).dropna()"
   ]
  },
  {
   "cell_type": "code",
   "execution_count": 75,
   "metadata": {
    "ExecuteTime": {
     "end_time": "2021-03-03T01:38:45.498512Z",
     "start_time": "2021-03-03T01:38:45.282242Z"
    }
   },
   "outputs": [],
   "source": [
    "__author__ = 'Hermen'\n",
    "__status__ = 'Pending Validation'\n",
    "\n",
    "\"\"\"\n",
    "TO DO.\n",
    "\"\"\"\n",
    "from graphmodels.graphmodel import GraphModel, concatenate_graph_specs\n",
    "\n",
    "# Conversions\n",
    "GWPN2O = 310\n",
    "GWPCH4 = 21\n",
    "N2ON_to_NO2 = 1.57\n",
    "kg_to_Gg = 1e-6\n",
    "\n",
    "TAi_nodes = {'FPi': {'type': 'input',\n",
    "                     'unit': 'tonnes',\n",
    "                     'name': 'Production'},\n",
    "             'AYi': {'type': 'input',\n",
    "                     'unit': 'tonnes/head',\n",
    "                     'name': 'Vector of animal yields'},\n",
    "             'ANPi': {'type': 'variable',\n",
    "                      'unit': 'head',\n",
    "                      'name': 'Vector animals needed for production',\n",
    "                      'computation': lambda FPi, AYi, **kwargs: FPi / AYi\n",
    "                      },\n",
    "             'PTTAi': {'type': 'parameter',\n",
    "                       'unit': '1',\n",
    "                       'name': 'vector production-to-total animals ratio',\n",
    "                       },\n",
    "             'TAi': {'type': 'output',\n",
    "                     'unit': 'head',\n",
    "                     'name': 'Total animal population',\n",
    "                     'computation': lambda ANPi, PTTAi, **kwargs: PTTAi * ANPi.groupby(level=['Area', 'Year', 'emi_item']).sum().rename_axis(index={\"emi_item\": 'Item'})\n",
    "                     },\n",
    "             }\n",
    "\n",
    "TMi_nodes = {'TAi': {'type': 'input', 'unit': 'head', 'name': 'Total animal population'},\n",
    "             'MYi': {'type': 'input', 'unit': 'kgN/head', 'name': 'Manure yields'},\n",
    "             'TMi': {'type': 'output',\n",
    "                     'unit': 'kgN',\n",
    "                     'name': 'Total Manure (N content)',\n",
    "                     'computation': lambda TAi, MYi, **kwargs: TAi * MYi\n",
    "                     }\n",
    "             }\n",
    "\n",
    "M_xi_nodes = {'TMi': {'type': 'input',\n",
    "                              'unit': 'kgN',\n",
    "                              'name': 'Total Manure (N content)'},\n",
    "              'MM_ASi': {'type': 'input',\n",
    "                         'unit': '1',\n",
    "                         'name': '% Manure applied to soils'},\n",
    "              'MM_LPi': {'type': 'input',\n",
    "                         'unit': '1',\n",
    "                         'name': '% Manure left on pasture'},\n",
    "              'MM_Ti': {'type': 'input',\n",
    "                        'unit': '1',\n",
    "                        'name': '% Manure left on treated'},\n",
    "              'M_Ti': {'type': 'output',\n",
    "                       'unit': 'kgN',\n",
    "                       'name': 'Manure treated (N content)',\n",
    "                       'computation': lambda MM_Ti, TMi, **kwargs: MM_Ti * TMi\n",
    "\n",
    "                       },\n",
    "              'M_LPi': {'type': 'output',\n",
    "                        'unit': 'kg',\n",
    "                        'name': 'Manure left on pasture (N content)',\n",
    "                        'computation': lambda MM_LPi, TMi, **kwargs: MM_LPi * TMi\n",
    "\n",
    "                        },\n",
    "              'M_ASi': {'type': 'output',\n",
    "                        'unit': 'kgN',\n",
    "                        'name': 'Manure applied to soils (N content)',\n",
    "                        'computation': lambda MM_ASi, TMi, **kwargs: MM_ASi * TMi\n",
    "\n",
    "                        }\n",
    "              }\n",
    "\n",
    "TMP_CO2eq_nodes = {'M_LPi': {'type': 'input',\n",
    "                             'unit': 'kg',\n",
    "                             'name': 'Manure left on pasture (N content)'},\n",
    "                   'EF_Li': {'type': 'parameter',\n",
    "                             'unit': 'kg N2O-N/kg N',\n",
    "                             'name': 'Implied emission factor for N2O (Manure on pasture)'\n",
    "                             },\n",
    "                   'TMP_CO2eq': {'type': 'output',\n",
    "                                 'unit': 'gigagrams (CO2eq)',\n",
    "                                 'name': 'Emissions (CO2eq) (Manure on pasture)',\n",
    "                                 'computation': lambda M_LPi, EF_Li, **kwargs: kg_to_Gg * N2ON_to_NO2 * GWPN2O * (M_LPi * EF_Li)\n",
    "                                 }\n",
    "                   }\n",
    "\n",
    "TMT_CO2eq_nodes = {'M_Ti': {'type': 'input',\n",
    "                            'unit': 'kgN',\n",
    "                            'name': 'Manure treated (N content)',\n",
    "                            },\n",
    "                   'EF_Ti': {'type': 'parameter',\n",
    "                             'unit': 'kg N2O-N/kg N',\n",
    "                             'name': 'Implied emission factor for N2O (Manure management)'},\n",
    "                   'EF_CH4Ti': {'type': 'parameter',\n",
    "                                'unit': 'kg/head',\n",
    "                                'name': 'Implied emission factor for CH4 (Manure management)'},\n",
    "                   'TAi': {'type': 'input',\n",
    "                           'unit': 'head',\n",
    "                           'name': 'Total animal population'},\n",
    "                   'E_Ti': {'type': 'variable',\n",
    "                            'unit': 'gigagrams',\n",
    "                            'name': 'Emissions (N2O) (Manure management)',\n",
    "                            'computation': lambda EF_Ti, M_Ti, **kwargs: N2ON_to_NO2 * kg_to_Gg * (EF_Ti * M_Ti)\n",
    "                            },\n",
    "                   'E_TCH4i': {'type': 'variable',\n",
    "                               'unit': 'gigagrams',\n",
    "                               'name': 'Emissions (CH4) (Manure management)',\n",
    "                               'computation': lambda EF_CH4Ti, TAi, **kwargs: kg_to_Gg * (EF_CH4Ti * TAi)\n",
    "                               },\n",
    "                   'TMT_CO2eq': {'type': 'output',\n",
    "                                 'unit': 'gigagrams (CO2eq)',\n",
    "                                 'name': 'Emissions (CO2eq) (Manure management)',\n",
    "                                 'computation': lambda E_Ti, E_TCH4i, **kwargs: E_Ti * GWPN2O + E_TCH4i * GWPCH4\n",
    "                                 }}\n",
    "\n",
    "TMA_CO2eq_nodes = {'M_ASi': {'type': 'input',\n",
    "                             'unit': 'kgN',\n",
    "                             'name': 'Manure applied to soils (N content)',\n",
    "                             },\n",
    "                   'EF_ASi': {'type': 'parameter',\n",
    "                              'unit': 'kg N2O-N/kg N',\n",
    "                              'name': 'Implied emission factor for N2O (Manure applied)'},\n",
    "                   'TMA_CO2eq': {'type': 'output',\n",
    "                                 'unit': 'gigagrams (CO2eq)',\n",
    "                                 'name': 'Emissions (CO2eq) (Manure applied)',\n",
    "                                 'computation': lambda EF_ASi, M_ASi, **kwargs: GWPN2O * N2ON_to_NO2 * kg_to_Gg * (EF_ASi * M_ASi)\n",
    "                                 }\n",
    "                   }\n",
    "\n",
    "TEE_CO2eq_nodes = {'EF_EEi': {'type': 'input',\n",
    "                              'unit': 'kg CH4 / head',\n",
    "                              'name': 'Implied emission factor for CH4 (Enteric)'},\n",
    "                   'TAi': {'type': 'input',\n",
    "                           'unit': 'head',\n",
    "                           'name': 'Total animal population'},\n",
    "                   'TEE_CO2eq': {'type': 'output',\n",
    "                                 'unit': 'gigagrams (CO2eq)',\n",
    "                                 'name': 'Emissions (CO2eq) (Enteric)',\n",
    "                                 'computation': lambda TAi, EF_EEi, **kwargs: kg_to_Gg * GWPCH4 * (TAi * EF_EEi)\n",
    "                                 }\n",
    "                   }\n",
    "\n",
    "FE_CO2eq_nodes = {\n",
    "    'IN_F': {'type': 'input',\n",
    "             'unit': 'kg',\n",
    "             'name': 'Agricultural Use in nutrients',\n",
    "             },\n",
    "    'EF_F': {'type': 'parameter',\n",
    "             'unit': 'kg N2O-N/kg N',\n",
    "             'name': 'Implied emission factor for N2O (Synthetic fertilizers)'},\n",
    "    'FE_CO2eq': {'type': 'output',\n",
    "                 'unit': 'gigagrams (CO2eq)',\n",
    "                 'name': 'Emissions (CO2eq) (Synthetic fertilizers)',\n",
    "                 'computation': lambda EF_F, IN_F, **kwargs: GWPN2O * N2ON_to_NO2 * kg_to_Gg * (EF_F * IN_F)\n",
    "                 }\n",
    "}\n",
    "\n",
    "GE3_nodes = {'Pop': {'type': 'input', 'unit': '1000 persons', 'name': 'Total population'},\n",
    "             'TEE_CO2eq': {'type': 'input',\n",
    "                           'unit': 'gigagrams (CO2eq)',\n",
    "                           'name': 'Emissions (CO2eq) (Enteric)'},\n",
    "             'TMT_CO2eq': {'type': 'input',\n",
    "                           'unit': 'gigagrams (CO2eq)',\n",
    "                           'name': 'Emissions (CO2eq) (Manure management)'},\n",
    "             'TMA_CO2eq': {'type': 'input',\n",
    "                           'unit': 'gigagrams (CO2eq)',\n",
    "                           'name': 'Emissions (CO2eq) (Manure applied)'},\n",
    "             'TMP_CO2eq': {'type': 'input',\n",
    "                           'unit': 'gigagrams (CO2eq)',\n",
    "                           'name': 'Emissions (CO2eq) (Manure on pasture)'},\n",
    "             'FE_CO2eq': {'type': 'input',\n",
    "                          'unit': 'gigagrams (CO2eq)',\n",
    "                          'name': 'Emissions (CO2eq) (Synthetic fertilizers)'},\n",
    "             'OEi': {'type': 'input',\n",
    "                     'unit': 'gigagrams (CO2eq)',\n",
    "                     'name': 'Vector of other emissions'},\n",
    "             'GE3': {'type': 'output',\n",
    "                     'unit': 'gigagrams (CO2eq) / capita',\n",
    "                     'name': 'Ratio of non-CO2 emissions in agriculture to population',\n",
    "                     'computation': lambda OEi, TEE_CO2eq, TMT_CO2eq, TMP_CO2eq, TMA_CO2eq, FE_CO2eq, Pop, **kwargs: (OEi + (TEE_CO2eq + TMT_CO2eq + TMP_CO2eq + TMA_CO2eq + FE_CO2eq).groupby(level=['Area', 'Year']).sum()) / (Pop * 1e3)}}\n",
    "\n",
    "\n",
    "nodes = concatenate_graph_specs(\n",
    "    [GE3_nodes, TEE_CO2eq_nodes, TMA_CO2eq_nodes, TMT_CO2eq_nodes, TMP_CO2eq_nodes, FE_CO2eq_nodes, M_xi_nodes, TMi_nodes, TAi_nodes])\n",
    "\n",
    "# models\n",
    "TAi_model = GraphModel(TAi_nodes)\n",
    "TMi_model = GraphModel(TMi_nodes)\n",
    "M_xi_model = GraphModel(M_xi_nodes)\n",
    "TMP_CO2eq_model = GraphModel(TMP_CO2eq_nodes)\n",
    "TMT_CO2eq_model = GraphModel(TMT_CO2eq_nodes)\n",
    "TMA_CO2eq_model = GraphModel(TMA_CO2eq_nodes)\n",
    "TEE_CO2eq_model = GraphModel(TEE_CO2eq_nodes)\n",
    "FE_CO2eq_model = GraphModel(FE_CO2eq_nodes)\n",
    "GE3_partial_model = GraphModel(GE3_nodes)\n",
    "\n",
    "GE3_model = GraphModel(nodes)\n",
    "\n",
    "GE3_models = {'TMi_model': TMi_model,\n",
    "              'TAi_model': TAi_model,\n",
    "              'M_xi_model': M_xi_model,\n",
    "              'TMP_CO2eq_model': TMP_CO2eq_model,\n",
    "              'TMT_CO2eq_model': TMT_CO2eq_model,\n",
    "              'TMA_CO2eq_model': TMA_CO2eq_model,\n",
    "              'TEE_CO2eq_model': TEE_CO2eq_model,\n",
    "              'FE_CO2eq_model': FE_CO2eq_model,\n",
    "              'GE3_partial_model': GE3_partial_model,\n",
    "              'GE3_model': GE3_model\n",
    "              }\n",
    "\n",
    "\n",
    "test_mod = GraphModel( concatenate_graph_specs([TMi_nodes, TAi_nodes]))\n"
   ]
  },
  {
   "cell_type": "code",
   "execution_count": 76,
   "metadata": {
    "ExecuteTime": {
     "end_time": "2021-03-03T01:38:47.124940Z",
     "start_time": "2021-03-03T01:38:45.500420Z"
    }
   },
   "outputs": [
    {
     "name": "stdout",
     "output_type": "stream",
     "text": [
      "    r2  correlation          rmse Variable\n",
      "0  1.0          1.0  2.075621e+08     ANPi\n",
      "1  1.0          1.0  1.660086e+09      TAi\n"
     ]
    }
   ],
   "source": [
    "X, y = get_X_y_from_data(TAi_model, data_dict)\n",
    "\n",
    "res = TAi_model.run(X)\n",
    "\n",
    "print(score_model(TAi_model, X, y))\n"
   ]
  },
  {
   "cell_type": "code",
   "execution_count": 77,
   "metadata": {
    "ExecuteTime": {
     "end_time": "2021-03-03T01:38:47.236140Z",
     "start_time": "2021-03-03T01:38:47.128083Z"
    }
   },
   "outputs": [
    {
     "data": {
      "image/svg+xml": [
       "<?xml version=\"1.0\" encoding=\"UTF-8\" standalone=\"no\"?>\n",
       "<!DOCTYPE svg PUBLIC \"-//W3C//DTD SVG 1.1//EN\"\n",
       " \"http://www.w3.org/Graphics/SVG/1.1/DTD/svg11.dtd\">\n",
       "<!-- Generated by graphviz version 2.40.1 (20161225.0304)\n",
       " -->\n",
       "<!-- Title: %3 Pages: 1 -->\n",
       "<svg width=\"654pt\" height=\"383pt\"\n",
       " viewBox=\"0.00 0.00 654.00 383.00\" xmlns=\"http://www.w3.org/2000/svg\" xmlns:xlink=\"http://www.w3.org/1999/xlink\">\n",
       "<g id=\"graph0\" class=\"graph\" transform=\"scale(1 1) rotate(0) translate(4 379)\">\n",
       "<title>%3</title>\n",
       "<polygon fill=\"#ffffff\" stroke=\"transparent\" points=\"-4,4 -4,-379 650,-379 650,4 -4,4\"/>\n",
       "<!-- FPi -->\n",
       "<g id=\"node1\" class=\"node\">\n",
       "<title>FPi</title>\n",
       "<polygon fill=\"#e76f51\" stroke=\"#eeeeee\" points=\"154.5,-375 65.5,-375 65.5,-322 154.5,-322 154.5,-375\"/>\n",
       "<text text-anchor=\"middle\" x=\"110\" y=\"-359.8\" font-family=\"roboto\" font-size=\"14.00\" fill=\"#eeeeee\">Production </text>\n",
       "<text text-anchor=\"middle\" x=\"110\" y=\"-344.8\" font-family=\"roboto\" font-size=\"14.00\" fill=\"#eeeeee\"> (FPi) </text>\n",
       "<text text-anchor=\"middle\" x=\"110\" y=\"-329.8\" font-family=\"roboto\" font-size=\"14.00\" fill=\"#eeeeee\"> tonnes</text>\n",
       "</g>\n",
       "<!-- ANPi_comp -->\n",
       "<g id=\"node4\" class=\"node\">\n",
       "<title>ANPi_comp</title>\n",
       "<polygon fill=\"none\" stroke=\"#a9a9a9\" points=\"218.5,-286 147.5,-286 147.5,-250 218.5,-250 218.5,-286\"/>\n",
       "<text text-anchor=\"middle\" x=\"183\" y=\"-264.3\" font-family=\"roboto\" font-size=\"14.00\" fill=\"#000000\">FPi / AYi</text>\n",
       "</g>\n",
       "<!-- FPi&#45;&gt;ANPi_comp -->\n",
       "<g id=\"edge1\" class=\"edge\">\n",
       "<title>FPi&#45;&gt;ANPi_comp</title>\n",
       "<path fill=\"none\" stroke=\"#a9a9a9\" d=\"M154.6656,-348C159.944,-348 163.5,-348 163.5,-348 163.5,-348 163.5,-296.1532 163.5,-296.1532\"/>\n",
       "<polygon fill=\"#a9a9a9\" stroke=\"#a9a9a9\" points=\"167.0001,-296.1532 163.5,-286.1532 160.0001,-296.1533 167.0001,-296.1532\"/>\n",
       "</g>\n",
       "<!-- AYi -->\n",
       "<g id=\"node2\" class=\"node\">\n",
       "<title>AYi</title>\n",
       "<polygon fill=\"#e76f51\" stroke=\"#eeeeee\" points=\"339.5,-375 172.5,-375 172.5,-322 339.5,-322 339.5,-375\"/>\n",
       "<text text-anchor=\"middle\" x=\"256\" y=\"-359.8\" font-family=\"roboto\" font-size=\"14.00\" fill=\"#eeeeee\">Vector of animal yields </text>\n",
       "<text text-anchor=\"middle\" x=\"256\" y=\"-344.8\" font-family=\"roboto\" font-size=\"14.00\" fill=\"#eeeeee\"> (AYi) </text>\n",
       "<text text-anchor=\"middle\" x=\"256\" y=\"-329.8\" font-family=\"roboto\" font-size=\"14.00\" fill=\"#eeeeee\"> tonnes/head</text>\n",
       "</g>\n",
       "<!-- AYi&#45;&gt;ANPi_comp -->\n",
       "<g id=\"edge2\" class=\"edge\">\n",
       "<title>AYi&#45;&gt;ANPi_comp</title>\n",
       "<path fill=\"none\" stroke=\"#a9a9a9\" d=\"M195.5,-321.6947C195.5,-321.6947 195.5,-296.0658 195.5,-296.0658\"/>\n",
       "<polygon fill=\"#a9a9a9\" stroke=\"#a9a9a9\" points=\"199.0001,-296.0657 195.5,-286.0658 192.0001,-296.0658 199.0001,-296.0657\"/>\n",
       "</g>\n",
       "<!-- ANPi -->\n",
       "<g id=\"node3\" class=\"node\">\n",
       "<title>ANPi</title>\n",
       "<polygon fill=\"#f4a261\" stroke=\"#eeeeee\" points=\"313,-214 53,-214 53,-161 313,-161 313,-214\"/>\n",
       "<text text-anchor=\"middle\" x=\"183\" y=\"-198.8\" font-family=\"roboto\" font-size=\"14.00\" fill=\"#eeeeee\">Vector animals needed for production </text>\n",
       "<text text-anchor=\"middle\" x=\"183\" y=\"-183.8\" font-family=\"roboto\" font-size=\"14.00\" fill=\"#eeeeee\"> (ANPi) </text>\n",
       "<text text-anchor=\"middle\" x=\"183\" y=\"-168.8\" font-family=\"roboto\" font-size=\"14.00\" fill=\"#eeeeee\"> head</text>\n",
       "</g>\n",
       "<!-- TAi_comp -->\n",
       "<g id=\"node7\" class=\"node\">\n",
       "<title>TAi_comp</title>\n",
       "<polygon fill=\"none\" stroke=\"#a9a9a9\" points=\"646,-125 0,-125 0,-89 646,-89 646,-125\"/>\n",
       "<text text-anchor=\"middle\" x=\"323\" y=\"-103.3\" font-family=\"roboto\" font-size=\"14.00\" fill=\"#000000\">PTTAi * ANPi.groupby(level=[&#39;Area&#39;, &#39;Year&#39;, &#39;emi_item&#39;]).sum().rename_axis(index={&quot;emi_item&quot;: &#39;Item&#39;})</text>\n",
       "</g>\n",
       "<!-- ANPi&#45;&gt;TAi_comp -->\n",
       "<g id=\"edge3\" class=\"edge\">\n",
       "<title>ANPi&#45;&gt;TAi_comp</title>\n",
       "<path fill=\"none\" stroke=\"#a9a9a9\" d=\"M183,-160.6947C183,-160.6947 183,-135.0658 183,-135.0658\"/>\n",
       "<polygon fill=\"#a9a9a9\" stroke=\"#a9a9a9\" points=\"186.5001,-135.0657 183,-125.0658 179.5001,-135.0658 186.5001,-135.0657\"/>\n",
       "</g>\n",
       "<!-- ANPi_comp&#45;&gt;ANPi -->\n",
       "<g id=\"edge4\" class=\"edge\">\n",
       "<title>ANPi_comp&#45;&gt;ANPi</title>\n",
       "<path fill=\"none\" stroke=\"#a9a9a9\" d=\"M183,-249.7333C183,-249.7333 183,-224.2477 183,-224.2477\"/>\n",
       "<polygon fill=\"#a9a9a9\" stroke=\"#a9a9a9\" points=\"186.5001,-224.2476 183,-214.2477 179.5001,-224.2477 186.5001,-224.2476\"/>\n",
       "</g>\n",
       "<!-- PTTAi -->\n",
       "<g id=\"node5\" class=\"node\">\n",
       "<title>PTTAi</title>\n",
       "<polygon fill=\"#e9c46a\" stroke=\"#eeeeee\" points=\"597,-214 331,-214 331,-161 597,-161 597,-214\"/>\n",
       "<text text-anchor=\"middle\" x=\"464\" y=\"-198.8\" font-family=\"roboto\" font-size=\"14.00\" fill=\"#eeeeee\">vector production&#45;to&#45;total animals ratio </text>\n",
       "<text text-anchor=\"middle\" x=\"464\" y=\"-183.8\" font-family=\"roboto\" font-size=\"14.00\" fill=\"#eeeeee\"> (PTTAi) </text>\n",
       "<text text-anchor=\"middle\" x=\"464\" y=\"-168.8\" font-family=\"roboto\" font-size=\"14.00\" fill=\"#eeeeee\"> 1</text>\n",
       "</g>\n",
       "<!-- PTTAi&#45;&gt;TAi_comp -->\n",
       "<g id=\"edge5\" class=\"edge\">\n",
       "<title>PTTAi&#45;&gt;TAi_comp</title>\n",
       "<path fill=\"none\" stroke=\"#a9a9a9\" d=\"M464,-160.6947C464,-160.6947 464,-135.0658 464,-135.0658\"/>\n",
       "<polygon fill=\"#a9a9a9\" stroke=\"#a9a9a9\" points=\"467.5001,-135.0657 464,-125.0658 460.5001,-135.0658 467.5001,-135.0657\"/>\n",
       "</g>\n",
       "<!-- TAi -->\n",
       "<g id=\"node6\" class=\"node\">\n",
       "<title>TAi</title>\n",
       "<polygon fill=\"#2a9d8f\" stroke=\"#eeeeee\" points=\"408,-53 238,-53 238,0 408,0 408,-53\"/>\n",
       "<text text-anchor=\"middle\" x=\"323\" y=\"-37.8\" font-family=\"roboto\" font-size=\"14.00\" fill=\"#eeeeee\">Total animal population </text>\n",
       "<text text-anchor=\"middle\" x=\"323\" y=\"-22.8\" font-family=\"roboto\" font-size=\"14.00\" fill=\"#eeeeee\"> (TAi) </text>\n",
       "<text text-anchor=\"middle\" x=\"323\" y=\"-7.8\" font-family=\"roboto\" font-size=\"14.00\" fill=\"#eeeeee\"> head</text>\n",
       "</g>\n",
       "<!-- TAi_comp&#45;&gt;TAi -->\n",
       "<g id=\"edge6\" class=\"edge\">\n",
       "<title>TAi_comp&#45;&gt;TAi</title>\n",
       "<path fill=\"none\" stroke=\"#a9a9a9\" d=\"M323,-88.7333C323,-88.7333 323,-63.2477 323,-63.2477\"/>\n",
       "<polygon fill=\"#a9a9a9\" stroke=\"#a9a9a9\" points=\"326.5001,-63.2476 323,-53.2477 319.5001,-63.2477 326.5001,-63.2476\"/>\n",
       "</g>\n",
       "</g>\n",
       "</svg>\n"
      ],
      "text/plain": [
       "<graphviz.dot.Digraph at 0x7f285540fb10>"
      ]
     },
     "execution_count": 77,
     "metadata": {},
     "output_type": "execute_result"
    }
   ],
   "source": [
    "TAi_model.draw()"
   ]
  },
  {
   "cell_type": "code",
   "execution_count": 78,
   "metadata": {
    "ExecuteTime": {
     "end_time": "2021-03-03T01:39:01.645703Z",
     "start_time": "2021-03-03T01:38:47.240651Z"
    }
   },
   "outputs": [
    {
     "name": "stdout",
     "output_type": "stream",
     "text": [
      "          r2  correlation          rmse   Variable\n",
      "0   0.999993     0.999997  1.355986e+03  TEE_CO2eq\n",
      "1   0.999994     1.000000  1.152310e+01  TMT_CO2eq\n",
      "2   0.999992     1.000000  4.884231e+00  TMA_CO2eq\n",
      "3   0.999994     0.999997  1.542225e+02  TMP_CO2eq\n",
      "4   0.999987     0.999994  2.401630e+03   FE_CO2eq\n",
      "5   1.000000     1.000000  1.660086e+09        TAi\n",
      "6   1.000000     1.000000  4.132546e+09      M_ASi\n",
      "7   1.000000     1.000000  2.853126e+09       M_Ti\n",
      "8   0.999990     1.000000  1.193198e-04       E_Ti\n",
      "9   1.000000     1.000000  7.233699e-05    E_TCH4i\n",
      "10  0.999992     0.999996  7.899820e+11      M_LPi\n",
      "11  0.999994     0.999997  9.102665e+11        TMi\n",
      "12  1.000000     1.000000  2.075621e+08       ANPi\n"
     ]
    }
   ],
   "source": [
    "X, y = get_X_y_from_data(model, data_dict)\n",
    "#%time res = model.run(X)\n",
    "print(score_model(model, X, y))\n"
   ]
  },
  {
   "cell_type": "code",
   "execution_count": 79,
   "metadata": {
    "ExecuteTime": {
     "end_time": "2021-03-03T01:39:18.024876Z",
     "start_time": "2021-03-03T01:39:01.647911Z"
    },
    "scrolled": false
   },
   "outputs": [
    {
     "name": "stdout",
     "output_type": "stream",
     "text": [
      "TMi_model\n",
      "    r2  correlation          rmse Variable\n",
      "0  1.0          1.0  1.053919e-15      TMi\n",
      "\n",
      "TAi_model\n",
      "    r2  correlation          rmse Variable\n",
      "0  1.0          1.0  2.075621e+08     ANPi\n",
      "1  1.0          1.0  1.660086e+09      TAi\n",
      "\n",
      "M_xi_model\n",
      "    r2  correlation          rmse Variable\n",
      "0  1.0          1.0  7.382541e-16     M_Ti\n",
      "1  1.0          1.0  8.550658e-16    M_LPi\n",
      "2  1.0          1.0  5.858794e-16    M_ASi\n",
      "\n",
      "TMP_CO2eq_model\n",
      "         r2  correlation       rmse   Variable\n",
      "0  0.999997     0.999999  17.156806  TMP_CO2eq\n",
      "\n",
      "TMT_CO2eq_model\n",
      "         r2  correlation          rmse   Variable\n",
      "0  0.999992     0.999997  2.536710e-05       E_Ti\n",
      "1  1.000000     1.000000  1.259033e-08    E_TCH4i\n",
      "2  0.999997     0.999999  2.438036e+00  TMT_CO2eq\n",
      "\n",
      "TMA_CO2eq_model\n",
      "         r2  correlation      rmse   Variable\n",
      "0  0.999993          1.0  1.748403  TMA_CO2eq\n",
      "\n",
      "TEE_CO2eq_model\n",
      "    r2  correlation          rmse   Variable\n",
      "0  1.0          1.0  4.388695e-10  TEE_CO2eq\n",
      "\n",
      "FE_CO2eq_model\n",
      "         r2  correlation         rmse  Variable\n",
      "0  0.999987     0.999994  2401.629787  FE_CO2eq\n",
      "\n",
      "GE3_partial_model\n",
      "Empty DataFrame\n",
      "Columns: []\n",
      "Index: []\n",
      "\n",
      "GE3_model\n",
      "          r2  correlation          rmse   Variable\n",
      "0   0.999993     0.999997  1.355986e+03  TEE_CO2eq\n",
      "1   0.999994     1.000000  1.152310e+01  TMT_CO2eq\n",
      "2   0.999992     1.000000  4.884231e+00  TMA_CO2eq\n",
      "3   0.999994     0.999997  1.542225e+02  TMP_CO2eq\n",
      "4   0.999987     0.999994  2.401630e+03   FE_CO2eq\n",
      "5   1.000000     1.000000  1.660086e+09        TAi\n",
      "6   1.000000     1.000000  4.132546e+09      M_ASi\n",
      "7   1.000000     1.000000  2.853126e+09       M_Ti\n",
      "8   0.999990     1.000000  1.193198e-04       E_Ti\n",
      "9   1.000000     1.000000  7.233699e-05    E_TCH4i\n",
      "10  0.999992     0.999996  7.899820e+11      M_LPi\n",
      "11  0.999994     0.999997  9.102665e+11        TMi\n",
      "12  1.000000     1.000000  2.075621e+08       ANPi\n",
      "\n"
     ]
    }
   ],
   "source": [
    "res = []\n",
    "for model_name, model in GE3_models.items():\n",
    "    print(model_name)\n",
    "    X, y = get_X_y_from_data(model, data_dict)\n",
    "    #%time res = model.run(X)\n",
    "    print(score_model(model, X, y))\n",
    "\n",
    "    print()\n"
   ]
  },
  {
   "cell_type": "code",
   "execution_count": null,
   "metadata": {},
   "outputs": [],
   "source": []
  }
 ],
 "metadata": {
  "kernelspec": {
   "display_name": "Python 3",
   "language": "python",
   "name": "python3"
  },
  "language_info": {
   "codemirror_mode": {
    "name": "ipython",
    "version": 3
   },
   "file_extension": ".py",
   "mimetype": "text/x-python",
   "name": "python",
   "nbconvert_exporter": "python",
   "pygments_lexer": "ipython3",
   "version": "3.7.7"
  }
 },
 "nbformat": 4,
 "nbformat_minor": 4
}
