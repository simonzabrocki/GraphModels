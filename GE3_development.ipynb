{
 "cells": [
  {
   "cell_type": "code",
   "execution_count": 1,
   "metadata": {
    "ExecuteTime": {
     "end_time": "2021-02-17T05:14:17.110301Z",
     "start_time": "2021-02-17T05:14:15.790518Z"
    },
    "code_folding": []
   },
   "outputs": [],
   "source": [
    "from graphmodels.graphmodel import GraphModel, concatenate_graph_specs\n",
    "from graphmodels.validation import score_model, plot_diagnostic, plot_baseline_vs_computation\n",
    "import pandas as pd\n",
    "import plotly.express as px\n",
    "from sklearn.metrics import r2_score\n",
    "from database import select_dataset\n",
    "\n",
    "def df_to_dict(df):\n",
    "    X = {}\n",
    "    for code in df.columns:\n",
    "        X[code] = df[code]#.fillna(0)\n",
    "    return X\n",
    "\n",
    "\n",
    "def pivot(df):\n",
    "    return df.pivot(index=['Area', 'Year','Item'], columns='GGI_code', values='Value')\n",
    "\n",
    "def get_X_y_from_data(model, data_dict):\n",
    "    '''TO CLEAN UP'''\n",
    "    X = {key: data_dict[key] for key in model.inputs_() + model.parameters_()}\n",
    "    y = {key: data_dict[key] for key in model.variables_() + model.outputs_() if key in data_dict}\n",
    "    return X, y"
   ]
  },
  {
   "cell_type": "code",
   "execution_count": 27,
   "metadata": {
    "ExecuteTime": {
     "end_time": "2021-02-17T05:37:16.425069Z",
     "start_time": "2021-02-17T05:37:08.144225Z"
    },
    "scrolled": true
   },
   "outputs": [
    {
     "name": "stderr",
     "output_type": "stream",
     "text": [
      "/home/simon/anaconda3/lib/python3.7/site-packages/IPython/core/interactiveshell.py:3146: DtypeWarning: Columns (2) have mixed types.Specify dtype option on import or set low_memory=False.\n",
      "  interactivity=interactivity, compiler=compiler, result=result)\n"
     ]
    }
   ],
   "source": [
    "df = pd.read_csv('models/Hermen/data/GY_GE_GU_GM_GP_GT.csv')\n",
    "pop = select_dataset('population')\n",
    "data_dict = df_to_dict(pivot(df))\n",
    "data_dict['Pop'] = pop.set_index(['Area', 'Year'])['Value']\n",
    "data_dict['OEi'] = data_dict['OEi'].reset_index(level='Item', drop='True').dropna()\n",
    "data_dict['MYi'] = data_dict['MYi']#.dropna()#.reset_index(level='Item', drop='True').dropna()"
   ]
  },
  {
   "cell_type": "code",
   "execution_count": 28,
   "metadata": {
    "ExecuteTime": {
     "end_time": "2021-02-17T05:37:19.317042Z",
     "start_time": "2021-02-17T05:37:16.427166Z"
    }
   },
   "outputs": [
    {
     "name": "stdout",
     "output_type": "stream",
     "text": [
      "TMi_model\n",
      "    r2  correlation          rmse Variable\n",
      "0  1.0          1.0  1.053919e-15      TMi\n",
      "M_xi_model\n",
      "    r2  correlation          rmse Variable\n",
      "0  1.0          1.0  7.382541e-16     M_Ti\n",
      "1  1.0          1.0  8.550658e-16    M_LPi\n",
      "2  1.0          1.0  5.858794e-16    M_ASi\n",
      "TMP_CO2eq_model\n",
      "         r2  correlation       rmse   Variable\n",
      "0  0.999997     0.999999  17.156806  TMP_CO2eq\n",
      "TMT_CO2eq_model\n",
      "         r2  correlation          rmse   Variable\n",
      "0  0.999992     0.999997  2.536710e-05       E_Ti\n",
      "1  1.000000     1.000000  1.259033e-08    E_TCH4i\n",
      "2  0.999997     0.999999  2.438036e+00  TMT_CO2eq\n",
      "TMA_CO2eq_model\n",
      "         r2  correlation      rmse   Variable\n",
      "0  0.999993          1.0  1.748403  TMA_CO2eq\n",
      "TEE_CO2eq_model\n",
      "    r2  correlation          rmse   Variable\n",
      "0  1.0          1.0  4.388695e-10  TEE_CO2eq\n",
      "FE_CO2eq_model\n",
      "         r2  correlation         rmse  Variable\n",
      "0  0.999987     0.999994  2401.629787  FE_CO2eq\n",
      "GE3_partial_model\n",
      "Empty DataFrame\n",
      "Columns: []\n",
      "Index: []\n",
      "GE3_model\n",
      "          r2  correlation          rmse   Variable\n",
      "0   1.000000     1.000000  4.388695e-10  TEE_CO2eq\n",
      "1   0.999997     0.999999  2.438036e+00  TMT_CO2eq\n",
      "2   0.999993     1.000000  1.748403e+00  TMA_CO2eq\n",
      "3   0.999997     0.999999  1.715681e+01  TMP_CO2eq\n",
      "4   0.999987     0.999994  2.401630e+03   FE_CO2eq\n",
      "5   1.000000     1.000000  3.124699e-16      M_ASi\n",
      "6   1.000000     1.000000  3.314249e-16       M_Ti\n",
      "7   0.999992     0.999997  2.536710e-05       E_Ti\n",
      "8   1.000000     1.000000  1.259033e-08    E_TCH4i\n",
      "9   1.000000     1.000000  5.881967e-16      M_LPi\n",
      "10  1.000000     1.000000  1.053919e-15        TMi\n"
     ]
    }
   ],
   "source": [
    "from models.Hermen.model_GE3 import GE3_models\n",
    "res = []\n",
    "for model_name, model in GE3_models.items():\n",
    "    print(model_name)\n",
    "    X, y = get_X_y_from_data(model, data_dict)\n",
    "    \n",
    "    print(score_model(model, X, y))\n"
   ]
  },
  {
   "cell_type": "code",
   "execution_count": 29,
   "metadata": {
    "ExecuteTime": {
     "end_time": "2021-02-17T05:37:21.665942Z",
     "start_time": "2021-02-17T05:37:21.405214Z"
    }
   },
   "outputs": [
    {
     "name": "stdout",
     "output_type": "stream",
     "text": [
      "CPU times: user 369 ms, sys: 11 ms, total: 380 ms\n",
      "Wall time: 254 ms\n"
     ]
    }
   ],
   "source": [
    "%time GE3 = model.run(X)#['GE3']"
   ]
  },
  {
   "cell_type": "markdown",
   "metadata": {},
   "source": [
    "# Animal"
   ]
  },
  {
   "cell_type": "code",
   "execution_count": 61,
   "metadata": {
    "ExecuteTime": {
     "end_time": "2021-02-17T05:43:37.424322Z",
     "start_time": "2021-02-17T05:43:36.464301Z"
    },
    "scrolled": true
   },
   "outputs": [
    {
     "name": "stderr",
     "output_type": "stream",
     "text": [
      "/home/simon/anaconda3/lib/python3.7/site-packages/IPython/core/interactiveshell.py:3146: DtypeWarning: Columns (2,5,7,8) have mixed types.Specify dtype option on import or set low_memory=False.\n",
      "  interactivity=interactivity, compiler=compiler, result=result)\n"
     ]
    }
   ],
   "source": [
    "#livestock_df = select_dataset('livestock')\n",
    "livestock_df = pd.read_csv('models/Hermen/data/QL.csv', index_col=0)"
   ]
  },
  {
   "cell_type": "code",
   "execution_count": 64,
   "metadata": {
    "ExecuteTime": {
     "end_time": "2021-02-17T05:43:54.317118Z",
     "start_time": "2021-02-17T05:43:53.771783Z"
    }
   },
   "outputs": [],
   "source": [
    "test = livestock_df.copy()#.groupby(['Area', 'Year', 'Variable', 'emi_item', 'Item'])#.sum().reset_index()\n",
    "\n",
    "def pivot(df):\n",
    "    return df.pivot(index=['Area', 'Year','Item', 'emi_item'], columns='GGI_code', values='Value')\n",
    "\n",
    "test = df_to_dict(pivot(test))\n",
    "test['TAi'] = data_dict['TAi']\n",
    "test['PTTAi'] = test['PTTAi'].reset_index(level='Item', drop=True).rename_axis(index={'emi_item': 'Item'}).dropna()"
   ]
  },
  {
   "cell_type": "code",
   "execution_count": 65,
   "metadata": {
    "ExecuteTime": {
     "end_time": "2021-02-17T05:44:19.967966Z",
     "start_time": "2021-02-17T05:44:19.581032Z"
    }
   },
   "outputs": [],
   "source": [
    "__author__ = 'Hermen'\n",
    "__status__ = 'Pending Validation'\n",
    "\n",
    "\"\"\"\n",
    "TO DO.\n",
    "\"\"\"\n",
    "from graphmodels.graphmodel import GraphModel, concatenate_graph_specs\n",
    "\n",
    "# Conversions\n",
    "GWPN2O = 310\n",
    "GWPCH4 = 21\n",
    "N2ON_to_NO2 = 1.57\n",
    "kg_to_Gg = 1e-6\n",
    "\n",
    "TAi_nodes = {'FPi': {'type': 'input',\n",
    "                     'unit': 'tonnes',\n",
    "                     'name': 'Production'},\n",
    "             'AYi': {'type': 'input',\n",
    "                     'unit': 'tonnes/head',\n",
    "                     'name': 'Vector of animal yields'},\n",
    "             'ANPi': {'type': 'variable',\n",
    "                      'unit': 'head',\n",
    "                      'name': 'Vector animals needed for production',\n",
    "                      'computation': lambda FPi, AYi, **kwargs: FPi / AYi\n",
    "                      },\n",
    "             'PTTAi': {'type': 'parameter',\n",
    "                       'unit': '1',\n",
    "                       'name': 'vector production-to-total animals ratio',\n",
    "                       },\n",
    "             'TAi': {'type': 'output',\n",
    "                     'unit': 'head',\n",
    "                     'name': 'Total animal population',\n",
    "                     'computation': lambda ANPi, PTTAi, **kwargs: PTTAi * ANPi.groupby(level=['Area', 'Year', 'emi_item']).sum().rename_axis(index={\"emi_item\": 'Item'})\n",
    "                     },\n",
    "             }\n",
    "\n",
    "TMi_nodes = {'TAi': {'type': 'input', 'unit': 'head', 'name': 'Total animal population'},\n",
    "             'MYi': {'type': 'input', 'unit': 'kgN/head', 'name': 'Manure yields'},\n",
    "             'TMi': {'type': 'output',\n",
    "                     'unit': 'kgN',\n",
    "                     'name': 'Total Manure (N content)',\n",
    "                     'computation': lambda TAi, MYi, **kwargs: TAi * MYi\n",
    "                     }\n",
    "             }\n",
    "\n",
    "M_xi_nodes = {'TMi': {'type': 'input',\n",
    "                              'unit': 'kgN',\n",
    "                              'name': 'Total Manure (N content)'},\n",
    "              'MM_ASi': {'type': 'input',\n",
    "                         'unit': '1',\n",
    "                         'name': '% Manure applied to soils'},\n",
    "              'MM_LPi': {'type': 'input',\n",
    "                         'unit': '1',\n",
    "                         'name': '% Manure left on pasture'},\n",
    "              'MM_Ti': {'type': 'input',\n",
    "                        'unit': '1',\n",
    "                        'name': '% Manure left on treated'},\n",
    "              'M_Ti': {'type': 'output',\n",
    "                       'unit': 'kgN',\n",
    "                       'name': 'Manure treated (N content)',\n",
    "                       'computation': lambda MM_Ti, TMi, **kwargs: MM_Ti * TMi\n",
    "\n",
    "                       },\n",
    "              'M_LPi': {'type': 'output',\n",
    "                        'unit': 'kg',\n",
    "                        'name': 'Manure left on pasture (N content)',\n",
    "                        'computation': lambda MM_LPi, TMi, **kwargs: MM_LPi * TMi\n",
    "\n",
    "                        },\n",
    "              'M_ASi': {'type': 'output',\n",
    "                        'unit': 'kgN',\n",
    "                        'name': 'Manure applied to soils (N content)',\n",
    "                        'computation': lambda MM_ASi, TMi, **kwargs: MM_ASi * TMi\n",
    "\n",
    "                        }\n",
    "              }\n",
    "\n",
    "TMP_CO2eq_nodes = {'M_LPi': {'type': 'input',\n",
    "                             'unit': 'kg',\n",
    "                             'name': 'Manure left on pasture (N content)'},\n",
    "                   'EF_Li': {'type': 'parameter',\n",
    "                             'unit': 'kg N2O-N/kg N',\n",
    "                             'name': 'Implied emission factor for N2O (Manure on pasture)'\n",
    "                             },\n",
    "                   'TMP_CO2eq': {'type': 'output',\n",
    "                                 'unit': 'gigagrams (CO2eq)',\n",
    "                                 'name': 'Emissions (CO2eq) (Manure on pasture)',\n",
    "                                 'computation': lambda M_LPi, EF_Li, **kwargs: kg_to_Gg * N2ON_to_NO2 * GWPN2O * (M_LPi * EF_Li)\n",
    "                                 }\n",
    "                   }\n",
    "\n",
    "TMT_CO2eq_nodes = {'M_Ti': {'type': 'input',\n",
    "                            'unit': 'kgN',\n",
    "                            'name': 'Manure treated (N content)',\n",
    "                            },\n",
    "                   'EF_Ti': {'type': 'parameter',\n",
    "                             'unit': 'kg N2O-N/kg N',\n",
    "                             'name': 'Implied emission factor for N2O (Manure management)'},\n",
    "                   'EF_CH4Ti': {'type': 'parameter',\n",
    "                                'unit': 'kg/head',\n",
    "                                'name': 'Implied emission factor for CH4 (Manure management)'},\n",
    "                   'TAi': {'type': 'input',\n",
    "                           'unit': 'head',\n",
    "                           'name': 'Total animal population'},\n",
    "                   'E_Ti': {'type': 'variable',\n",
    "                            'unit': 'gigagrams',\n",
    "                            'name': 'Emissions (N2O) (Manure management)',\n",
    "                            'computation': lambda EF_Ti, M_Ti, **kwargs: N2ON_to_NO2 * kg_to_Gg * (EF_Ti * M_Ti)\n",
    "                            },\n",
    "                   'E_TCH4i': {'type': 'variable',\n",
    "                               'unit': 'gigagrams',\n",
    "                               'name': 'Emissions (CH4) (Manure management)',\n",
    "                               'computation': lambda EF_CH4Ti, TAi, **kwargs: kg_to_Gg * (EF_CH4Ti * TAi)\n",
    "                               },\n",
    "                   'TMT_CO2eq': {'type': 'output',\n",
    "                                 'unit': 'gigagrams (CO2eq)',\n",
    "                                 'name': 'Emissions (CO2eq) (Manure management)',\n",
    "                                 'computation': lambda E_Ti, E_TCH4i, **kwargs: E_Ti * GWPN2O + E_TCH4i * GWPCH4\n",
    "                                 }}\n",
    "\n",
    "TMA_CO2eq_nodes = {'M_ASi': {'type': 'input',\n",
    "                             'unit': 'kgN',\n",
    "                             'name': 'Manure applied to soils (N content)',\n",
    "                             },\n",
    "                   'EF_ASi': {'type': 'parameter',\n",
    "                              'unit': 'kg N2O-N/kg N',\n",
    "                              'name': 'Implied emission factor for N2O (Manure applied)'},\n",
    "                   'TMA_CO2eq': {'type': 'output',\n",
    "                                 'unit': 'gigagrams (CO2eq)',\n",
    "                                 'name': 'Emissions (CO2eq) (Manure applied)',\n",
    "                                 'computation': lambda EF_ASi, M_ASi, **kwargs: GWPN2O * N2ON_to_NO2 * kg_to_Gg * (EF_ASi * M_ASi)\n",
    "                                 }\n",
    "                   }\n",
    "\n",
    "TEE_CO2eq_nodes = {'EF_EEi': {'type': 'input',\n",
    "                              'unit': 'kg CH4 / head',\n",
    "                              'name': 'Implied emission factor for CH4 (Enteric)'},\n",
    "                   'TAi': {'type': 'input',\n",
    "                           'unit': 'head',\n",
    "                           'name': 'Total animal population'},\n",
    "                   'TEE_CO2eq': {'type': 'output',\n",
    "                                 'unit': 'gigagrams (CO2eq)',\n",
    "                                 'name': 'Emissions (CO2eq) (Enteric)',\n",
    "                                 'computation': lambda TAi, EF_EEi, **kwargs: kg_to_Gg * GWPCH4 * (TAi * EF_EEi)\n",
    "                                 }\n",
    "                   }\n",
    "\n",
    "FE_CO2eq_nodes = {\n",
    "    'IN_F': {'type': 'input',\n",
    "             'unit': 'kg',\n",
    "             'name': 'Agricultural Use in nutrients',\n",
    "             },\n",
    "    'EF_F': {'type': 'parameter',\n",
    "             'unit': 'kg N2O-N/kg N',\n",
    "             'name': 'Implied emission factor for N2O (Synthetic fertilizers)'},\n",
    "    'FE_CO2eq': {'type': 'output',\n",
    "                 'unit': 'gigagrams (CO2eq)',\n",
    "                 'name': 'Emissions (CO2eq) (Synthetic fertilizers)',\n",
    "                 'computation': lambda EF_F, IN_F, **kwargs: GWPN2O * N2ON_to_NO2 * kg_to_Gg * (EF_F * IN_F)\n",
    "                 }\n",
    "}\n",
    "\n",
    "GE3_nodes = {'Pop': {'type': 'input', 'unit': '1000 persons', 'name': 'Total population'},\n",
    "             'TEE_CO2eq': {'type': 'input',\n",
    "                           'unit': 'gigagrams (CO2eq)',\n",
    "                           'name': 'Emissions (CO2eq) (Enteric)'},\n",
    "             'TMT_CO2eq': {'type': 'input',\n",
    "                           'unit': 'gigagrams (CO2eq)',\n",
    "                           'name': 'Emissions (CO2eq) (Manure management)'},\n",
    "             'TMA_CO2eq': {'type': 'input',\n",
    "                           'unit': 'gigagrams (CO2eq)',\n",
    "                           'name': 'Emissions (CO2eq) (Manure applied)'},\n",
    "             'TMP_CO2eq': {'type': 'input',\n",
    "                           'unit': 'gigagrams (CO2eq)',\n",
    "                           'name': 'Emissions (CO2eq) (Manure on pasture)'},\n",
    "             'FE_CO2eq': {'type': 'input',\n",
    "                          'unit': 'gigagrams (CO2eq)',\n",
    "                          'name': 'Emissions (CO2eq) (Synthetic fertilizers)'},\n",
    "             'OEi': {'type': 'input',\n",
    "                     'unit': 'gigagrams (CO2eq)',\n",
    "                     'name': 'Vector of other emissions'},\n",
    "             'GE3': {'type': 'output',\n",
    "                     'unit': 'gigagrams (CO2eq) / capita',\n",
    "                     'name': 'Ratio of non-CO2 emissions in agriculture to population',\n",
    "                     'computation': lambda OEi, TEE_CO2eq, TMT_CO2eq, TMP_CO2eq, TMA_CO2eq, FE_CO2eq, Pop, **kwargs: (OEi + (TEE_CO2eq + TMT_CO2eq + TMP_CO2eq + TMA_CO2eq + FE_CO2eq).groupby(level=['Area', 'Year']).sum()) / (Pop * 1e3)}}\n",
    "\n",
    "\n",
    "nodes = concatenate_graph_specs(\n",
    "    [GE3_nodes, TEE_CO2eq_nodes, TMA_CO2eq_nodes, TMT_CO2eq_nodes, TMP_CO2eq_nodes, FE_CO2eq_nodes, M_xi_nodes, TMi_nodes, TAi_nodes])\n",
    "\n",
    "# models\n",
    "TAi_model = GraphModel(TAi_nodes)\n",
    "TMi_model = GraphModel(TMi_nodes)\n",
    "M_xi_model = GraphModel(M_xi_nodes)\n",
    "TMP_CO2eq_model = GraphModel(TMP_CO2eq_nodes)\n",
    "TMT_CO2eq_model = GraphModel(TMT_CO2eq_nodes)\n",
    "TMA_CO2eq_model = GraphModel(TMA_CO2eq_nodes)\n",
    "TEE_CO2eq_model = GraphModel(TEE_CO2eq_nodes)\n",
    "FE_CO2eq_model = GraphModel(FE_CO2eq_nodes)\n",
    "GE3_partial_model = GraphModel(GE3_nodes)\n",
    "\n",
    "GE3_model = GraphModel(nodes)\n",
    "\n",
    "GE3_models = {'TMi_model': TMi_model,\n",
    "              'TAi_model': TAi_model,\n",
    "              'M_xi_model': M_xi_model,\n",
    "              'TMP_CO2eq_model': TMP_CO2eq_model,\n",
    "              'TMT_CO2eq_model': TMT_CO2eq_model,\n",
    "              'TMA_CO2eq_model': TMA_CO2eq_model,\n",
    "              'TEE_CO2eq_model': TEE_CO2eq_model,\n",
    "              'FE_CO2eq_model': FE_CO2eq_model,\n",
    "              'GE3_partial_model': GE3_partial_model,\n",
    "              'GE3_model': GE3_model\n",
    "              }\n",
    "\n",
    "\n",
    "test_mod = GraphModel( concatenate_graph_specs([TMi_nodes, TAi_nodes]))\n"
   ]
  },
  {
   "cell_type": "code",
   "execution_count": 66,
   "metadata": {
    "ExecuteTime": {
     "end_time": "2021-02-17T05:44:20.623677Z",
     "start_time": "2021-02-17T05:44:20.620005Z"
    }
   },
   "outputs": [],
   "source": [
    "data_dict.update(test)\n"
   ]
  },
  {
   "cell_type": "code",
   "execution_count": 67,
   "metadata": {
    "ExecuteTime": {
     "end_time": "2021-02-17T05:44:21.409349Z",
     "start_time": "2021-02-17T05:44:21.159927Z"
    }
   },
   "outputs": [],
   "source": [
    "X, y = get_X_y_from_data(TAi_model, data_dict)\n",
    "\n",
    "res = TAi_model.run(X)"
   ]
  },
  {
   "cell_type": "code",
   "execution_count": 68,
   "metadata": {
    "ExecuteTime": {
     "end_time": "2021-02-17T05:44:22.603104Z",
     "start_time": "2021-02-17T05:44:22.491562Z"
    }
   },
   "outputs": [
    {
     "data": {
      "image/svg+xml": [
       "<?xml version=\"1.0\" encoding=\"UTF-8\" standalone=\"no\"?>\n",
       "<!DOCTYPE svg PUBLIC \"-//W3C//DTD SVG 1.1//EN\"\n",
       " \"http://www.w3.org/Graphics/SVG/1.1/DTD/svg11.dtd\">\n",
       "<!-- Generated by graphviz version 2.40.1 (20161225.0304)\n",
       " -->\n",
       "<!-- Title: %3 Pages: 1 -->\n",
       "<svg width=\"654pt\" height=\"383pt\"\n",
       " viewBox=\"0.00 0.00 654.00 383.00\" xmlns=\"http://www.w3.org/2000/svg\" xmlns:xlink=\"http://www.w3.org/1999/xlink\">\n",
       "<g id=\"graph0\" class=\"graph\" transform=\"scale(1 1) rotate(0) translate(4 379)\">\n",
       "<title>%3</title>\n",
       "<polygon fill=\"#ffffff\" stroke=\"transparent\" points=\"-4,4 -4,-379 650,-379 650,4 -4,4\"/>\n",
       "<!-- FPi -->\n",
       "<g id=\"node1\" class=\"node\">\n",
       "<title>FPi</title>\n",
       "<polygon fill=\"#e76f51\" stroke=\"#eeeeee\" points=\"154.5,-375 65.5,-375 65.5,-322 154.5,-322 154.5,-375\"/>\n",
       "<text text-anchor=\"middle\" x=\"110\" y=\"-359.8\" font-family=\"roboto\" font-size=\"14.00\" fill=\"#eeeeee\">Production </text>\n",
       "<text text-anchor=\"middle\" x=\"110\" y=\"-344.8\" font-family=\"roboto\" font-size=\"14.00\" fill=\"#eeeeee\"> (FPi) </text>\n",
       "<text text-anchor=\"middle\" x=\"110\" y=\"-329.8\" font-family=\"roboto\" font-size=\"14.00\" fill=\"#eeeeee\"> tonnes</text>\n",
       "</g>\n",
       "<!-- ANPi_comp -->\n",
       "<g id=\"node4\" class=\"node\">\n",
       "<title>ANPi_comp</title>\n",
       "<polygon fill=\"none\" stroke=\"#a9a9a9\" points=\"218.5,-286 147.5,-286 147.5,-250 218.5,-250 218.5,-286\"/>\n",
       "<text text-anchor=\"middle\" x=\"183\" y=\"-264.3\" font-family=\"roboto\" font-size=\"14.00\" fill=\"#000000\">FPi / AYi</text>\n",
       "</g>\n",
       "<!-- FPi&#45;&gt;ANPi_comp -->\n",
       "<g id=\"edge1\" class=\"edge\">\n",
       "<title>FPi&#45;&gt;ANPi_comp</title>\n",
       "<path fill=\"none\" stroke=\"#a9a9a9\" d=\"M154.6656,-348C159.944,-348 163.5,-348 163.5,-348 163.5,-348 163.5,-296.1532 163.5,-296.1532\"/>\n",
       "<polygon fill=\"#a9a9a9\" stroke=\"#a9a9a9\" points=\"167.0001,-296.1532 163.5,-286.1532 160.0001,-296.1533 167.0001,-296.1532\"/>\n",
       "</g>\n",
       "<!-- AYi -->\n",
       "<g id=\"node2\" class=\"node\">\n",
       "<title>AYi</title>\n",
       "<polygon fill=\"#e76f51\" stroke=\"#eeeeee\" points=\"339.5,-375 172.5,-375 172.5,-322 339.5,-322 339.5,-375\"/>\n",
       "<text text-anchor=\"middle\" x=\"256\" y=\"-359.8\" font-family=\"roboto\" font-size=\"14.00\" fill=\"#eeeeee\">Vector of animal yields </text>\n",
       "<text text-anchor=\"middle\" x=\"256\" y=\"-344.8\" font-family=\"roboto\" font-size=\"14.00\" fill=\"#eeeeee\"> (AYi) </text>\n",
       "<text text-anchor=\"middle\" x=\"256\" y=\"-329.8\" font-family=\"roboto\" font-size=\"14.00\" fill=\"#eeeeee\"> tonnes/head</text>\n",
       "</g>\n",
       "<!-- AYi&#45;&gt;ANPi_comp -->\n",
       "<g id=\"edge2\" class=\"edge\">\n",
       "<title>AYi&#45;&gt;ANPi_comp</title>\n",
       "<path fill=\"none\" stroke=\"#a9a9a9\" d=\"M195.5,-321.6947C195.5,-321.6947 195.5,-296.0658 195.5,-296.0658\"/>\n",
       "<polygon fill=\"#a9a9a9\" stroke=\"#a9a9a9\" points=\"199.0001,-296.0657 195.5,-286.0658 192.0001,-296.0658 199.0001,-296.0657\"/>\n",
       "</g>\n",
       "<!-- ANPi -->\n",
       "<g id=\"node3\" class=\"node\">\n",
       "<title>ANPi</title>\n",
       "<polygon fill=\"#f4a261\" stroke=\"#eeeeee\" points=\"313,-214 53,-214 53,-161 313,-161 313,-214\"/>\n",
       "<text text-anchor=\"middle\" x=\"183\" y=\"-198.8\" font-family=\"roboto\" font-size=\"14.00\" fill=\"#eeeeee\">Vector animals needed for production </text>\n",
       "<text text-anchor=\"middle\" x=\"183\" y=\"-183.8\" font-family=\"roboto\" font-size=\"14.00\" fill=\"#eeeeee\"> (ANPi) </text>\n",
       "<text text-anchor=\"middle\" x=\"183\" y=\"-168.8\" font-family=\"roboto\" font-size=\"14.00\" fill=\"#eeeeee\"> head</text>\n",
       "</g>\n",
       "<!-- TAi_comp -->\n",
       "<g id=\"node7\" class=\"node\">\n",
       "<title>TAi_comp</title>\n",
       "<polygon fill=\"none\" stroke=\"#a9a9a9\" points=\"646,-125 0,-125 0,-89 646,-89 646,-125\"/>\n",
       "<text text-anchor=\"middle\" x=\"323\" y=\"-103.3\" font-family=\"roboto\" font-size=\"14.00\" fill=\"#000000\">PTTAi * ANPi.groupby(level=[&#39;Area&#39;, &#39;Year&#39;, &#39;emi_item&#39;]).sum().rename_axis(index={&quot;emi_item&quot;: &#39;Item&#39;})</text>\n",
       "</g>\n",
       "<!-- ANPi&#45;&gt;TAi_comp -->\n",
       "<g id=\"edge3\" class=\"edge\">\n",
       "<title>ANPi&#45;&gt;TAi_comp</title>\n",
       "<path fill=\"none\" stroke=\"#a9a9a9\" d=\"M183,-160.6947C183,-160.6947 183,-135.0658 183,-135.0658\"/>\n",
       "<polygon fill=\"#a9a9a9\" stroke=\"#a9a9a9\" points=\"186.5001,-135.0657 183,-125.0658 179.5001,-135.0658 186.5001,-135.0657\"/>\n",
       "</g>\n",
       "<!-- ANPi_comp&#45;&gt;ANPi -->\n",
       "<g id=\"edge4\" class=\"edge\">\n",
       "<title>ANPi_comp&#45;&gt;ANPi</title>\n",
       "<path fill=\"none\" stroke=\"#a9a9a9\" d=\"M183,-249.7333C183,-249.7333 183,-224.2477 183,-224.2477\"/>\n",
       "<polygon fill=\"#a9a9a9\" stroke=\"#a9a9a9\" points=\"186.5001,-224.2476 183,-214.2477 179.5001,-224.2477 186.5001,-224.2476\"/>\n",
       "</g>\n",
       "<!-- PTTAi -->\n",
       "<g id=\"node5\" class=\"node\">\n",
       "<title>PTTAi</title>\n",
       "<polygon fill=\"#e9c46a\" stroke=\"#eeeeee\" points=\"597,-214 331,-214 331,-161 597,-161 597,-214\"/>\n",
       "<text text-anchor=\"middle\" x=\"464\" y=\"-198.8\" font-family=\"roboto\" font-size=\"14.00\" fill=\"#eeeeee\">vector production&#45;to&#45;total animals ratio </text>\n",
       "<text text-anchor=\"middle\" x=\"464\" y=\"-183.8\" font-family=\"roboto\" font-size=\"14.00\" fill=\"#eeeeee\"> (PTTAi) </text>\n",
       "<text text-anchor=\"middle\" x=\"464\" y=\"-168.8\" font-family=\"roboto\" font-size=\"14.00\" fill=\"#eeeeee\"> 1</text>\n",
       "</g>\n",
       "<!-- PTTAi&#45;&gt;TAi_comp -->\n",
       "<g id=\"edge5\" class=\"edge\">\n",
       "<title>PTTAi&#45;&gt;TAi_comp</title>\n",
       "<path fill=\"none\" stroke=\"#a9a9a9\" d=\"M464,-160.6947C464,-160.6947 464,-135.0658 464,-135.0658\"/>\n",
       "<polygon fill=\"#a9a9a9\" stroke=\"#a9a9a9\" points=\"467.5001,-135.0657 464,-125.0658 460.5001,-135.0658 467.5001,-135.0657\"/>\n",
       "</g>\n",
       "<!-- TAi -->\n",
       "<g id=\"node6\" class=\"node\">\n",
       "<title>TAi</title>\n",
       "<polygon fill=\"#2a9d8f\" stroke=\"#eeeeee\" points=\"408,-53 238,-53 238,0 408,0 408,-53\"/>\n",
       "<text text-anchor=\"middle\" x=\"323\" y=\"-37.8\" font-family=\"roboto\" font-size=\"14.00\" fill=\"#eeeeee\">Total animal population </text>\n",
       "<text text-anchor=\"middle\" x=\"323\" y=\"-22.8\" font-family=\"roboto\" font-size=\"14.00\" fill=\"#eeeeee\"> (TAi) </text>\n",
       "<text text-anchor=\"middle\" x=\"323\" y=\"-7.8\" font-family=\"roboto\" font-size=\"14.00\" fill=\"#eeeeee\"> head</text>\n",
       "</g>\n",
       "<!-- TAi_comp&#45;&gt;TAi -->\n",
       "<g id=\"edge6\" class=\"edge\">\n",
       "<title>TAi_comp&#45;&gt;TAi</title>\n",
       "<path fill=\"none\" stroke=\"#a9a9a9\" d=\"M323,-88.7333C323,-88.7333 323,-63.2477 323,-63.2477\"/>\n",
       "<polygon fill=\"#a9a9a9\" stroke=\"#a9a9a9\" points=\"326.5001,-63.2476 323,-53.2477 319.5001,-63.2477 326.5001,-63.2476\"/>\n",
       "</g>\n",
       "</g>\n",
       "</svg>\n"
      ],
      "text/plain": [
       "<graphviz.dot.Digraph at 0x7f247c075290>"
      ]
     },
     "execution_count": 68,
     "metadata": {},
     "output_type": "execute_result"
    }
   ],
   "source": [
    "TAi_model.draw()"
   ]
  },
  {
   "cell_type": "code",
   "execution_count": null,
   "metadata": {
    "ExecuteTime": {
     "start_time": "2021-02-17T05:51:07.958Z"
    },
    "scrolled": false
   },
   "outputs": [
    {
     "name": "stdout",
     "output_type": "stream",
     "text": [
      "TMi_model\n",
      "    r2  correlation          rmse Variable\n",
      "0  1.0          1.0  1.053919e-15      TMi\n",
      "\n",
      "TAi_model\n"
     ]
    },
    {
     "name": "stderr",
     "output_type": "stream",
     "text": [
      "/home/simon/anaconda3/lib/python3.7/site-packages/pandas/core/indexes/multi.py:3585: RuntimeWarning: The values in the array are unorderable. Pass `sort=False` to suppress this warning.\n",
      "  uniq_tuples = lib.fast_unique_multiple([self._values, other._values], sort=sort)\n"
     ]
    },
    {
     "name": "stdout",
     "output_type": "stream",
     "text": [
      "    r2  correlation          rmse Variable\n",
      "0  1.0          1.0  2.075621e+08     ANPi\n",
      "1  1.0          1.0  1.660086e+09      TAi\n",
      "\n",
      "M_xi_model\n",
      "    r2  correlation          rmse Variable\n",
      "0  1.0          1.0  7.382541e-16     M_Ti\n",
      "1  1.0          1.0  8.550658e-16    M_LPi\n",
      "2  1.0          1.0  5.858794e-16    M_ASi\n",
      "\n",
      "TMP_CO2eq_model\n",
      "         r2  correlation       rmse   Variable\n",
      "0  0.999997     0.999999  17.156806  TMP_CO2eq\n",
      "\n",
      "TMT_CO2eq_model\n",
      "         r2  correlation          rmse   Variable\n",
      "0  0.999992     0.999997  2.536710e-05       E_Ti\n",
      "1  1.000000     1.000000  1.259033e-08    E_TCH4i\n",
      "2  0.999997     0.999999  2.438036e+00  TMT_CO2eq\n",
      "\n",
      "TMA_CO2eq_model\n",
      "         r2  correlation      rmse   Variable\n",
      "0  0.999993          1.0  1.748403  TMA_CO2eq\n",
      "\n",
      "TEE_CO2eq_model\n",
      "    r2  correlation          rmse   Variable\n",
      "0  1.0          1.0  4.388695e-10  TEE_CO2eq\n",
      "\n",
      "FE_CO2eq_model\n",
      "         r2  correlation         rmse  Variable\n",
      "0  0.999987     0.999994  2401.629787  FE_CO2eq\n",
      "\n",
      "GE3_partial_model\n",
      "Empty DataFrame\n",
      "Columns: []\n",
      "Index: []\n",
      "\n",
      "GE3_model\n"
     ]
    },
    {
     "name": "stderr",
     "output_type": "stream",
     "text": [
      "/home/simon/anaconda3/lib/python3.7/site-packages/pandas/core/indexes/multi.py:3585: RuntimeWarning: The values in the array are unorderable. Pass `sort=False` to suppress this warning.\n",
      "  uniq_tuples = lib.fast_unique_multiple([self._values, other._values], sort=sort)\n"
     ]
    }
   ],
   "source": [
    "res = []\n",
    "for model_name, model in GE3_models.items():\n",
    "    print(model_name)\n",
    "    X, y = get_X_y_from_data(model, data_dict)\n",
    "    #%time res = model.run(X)\n",
    "    print(score_model(model, X, y))\n",
    "\n",
    "    print()\n"
   ]
  },
  {
   "cell_type": "code",
   "execution_count": null,
   "metadata": {},
   "outputs": [],
   "source": []
  }
 ],
 "metadata": {
  "kernelspec": {
   "display_name": "Python 3",
   "language": "python",
   "name": "python3"
  },
  "language_info": {
   "codemirror_mode": {
    "name": "ipython",
    "version": 3
   },
   "file_extension": ".py",
   "mimetype": "text/x-python",
   "name": "python",
   "nbconvert_exporter": "python",
   "pygments_lexer": "ipython3",
   "version": "3.7.7"
  }
 },
 "nbformat": 4,
 "nbformat_minor": 4
}
