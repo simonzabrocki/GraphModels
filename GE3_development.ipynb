{
 "cells": [
  {
   "cell_type": "code",
   "execution_count": 47,
   "metadata": {
    "ExecuteTime": {
     "end_time": "2021-02-09T02:50:27.076602Z",
     "start_time": "2021-02-09T02:50:26.976304Z"
    },
    "code_folding": []
   },
   "outputs": [],
   "source": [
    "from graphmodels.graphmodel_exp import GraphModel, concatenate_graph_specs\n",
    "from graphmodels.validation import check_model, check_variable_graph\n",
    "import pandas as pd\n",
    "import plotly.express as px\n",
    "from sklearn.metrics import r2_score\n",
    "\n",
    "def df_to_dict(df):\n",
    "    X = {}\n",
    "    for code in df.columns:\n",
    "        X[code] = df[code].fillna(0)\n",
    "    return X\n",
    "\n",
    "\n",
    "def pivot(df):\n",
    "    return df.pivot(index=['Area', 'Year','Item'], columns='GGI_code', values='Value')\n",
    "\n",
    "def get_X_y_from_data(model, data_dict):\n",
    "    '''TO CLEAN UP'''\n",
    "    X = {key: data_dict[key] for key in model.inputs_() + model.parameters_()}\n",
    "    y = {key: data_dict[key] for key in model.variables_() + model.outputs_() if key in data_dict}\n",
    "    return X, y"
   ]
  },
  {
   "cell_type": "markdown",
   "metadata": {},
   "source": [
    "# Manure"
   ]
  },
  {
   "cell_type": "code",
   "execution_count": null,
   "metadata": {},
   "outputs": [],
   "source": []
  },
  {
   "cell_type": "markdown",
   "metadata": {},
   "source": [
    "# Emissions"
   ]
  },
  {
   "cell_type": "code",
   "execution_count": 48,
   "metadata": {
    "ExecuteTime": {
     "end_time": "2021-02-09T02:50:38.457587Z",
     "start_time": "2021-02-09T02:50:38.449564Z"
    }
   },
   "outputs": [],
   "source": [
    "# Global variables\n",
    "to_drop = ['Mules and Asses', 'Sheep and Goats', 'Cattle',\n",
    "           'Swine', 'Poultry Birds', 'All Animals',\n",
    "           'Camels and Llamas', 'Chickens']\n",
    "\n",
    "GWPN2O = 310\n",
    "GWPCH4 = 21\n",
    "N2ON_to_NO2 = 1.57\n",
    "kg_to_Gg = 1e-6"
   ]
  },
  {
   "cell_type": "code",
   "execution_count": 49,
   "metadata": {
    "ExecuteTime": {
     "end_time": "2021-02-09T02:50:42.772495Z",
     "start_time": "2021-02-09T02:50:38.848371Z"
    }
   },
   "outputs": [],
   "source": [
    "df = pd.read_csv('models/Hermen/data/GY_GE_GU_GM_GP.csv')\n",
    "data_dict = df_to_dict(pivot(df))"
   ]
  },
  {
   "cell_type": "markdown",
   "metadata": {},
   "source": [
    "# TMP"
   ]
  },
  {
   "cell_type": "code",
   "execution_count": 35,
   "metadata": {
    "ExecuteTime": {
     "end_time": "2021-02-09T02:38:18.038778Z",
     "start_time": "2021-02-09T02:38:17.916145Z"
    }
   },
   "outputs": [
    {
     "name": "stdout",
     "output_type": "stream",
     "text": [
      "Checking computations:\n",
      "TMP_CO2eq r2: 0.9999968227004328 | TMP_CO2eq corr: 0.9999986115524314\n"
     ]
    }
   ],
   "source": [
    "TMP_CO2eq_nodes = {'M_LPi': {'type': 'input',\n",
    "                              'unit': 'kg',\n",
    "                              'name': 'Manure left on pasture (N content)'},\n",
    "                   'EF_Li': {'type': 'parameter',\n",
    "                             'unit': 'kg N2O-N/kg N',\n",
    "                             'name': 'Implied emission factor for N2O (Manure on pasture)'\n",
    "                             },\n",
    "                   'TMP_CO2eq': {'type': 'output',\n",
    "                                 'unit': 'gigagrams (CO2eq)',\n",
    "                                 'name': 'Emissions (CO2eq) (Manure on pasture)',\n",
    "                                 'computation': lambda M_LPi, EF_Li, **kwargs: kg_to_Gg * N2ON_to_NO2 * GWPN2O * (M_LPi * EF_Li)\n",
    "                                }}\n",
    "\n",
    "Model = GraphModel(TMP_CO2eq_nodes)\n",
    "\n",
    "X, y = get_X_y_from_data(Model, data_dict)\n",
    "\n",
    "check_model(Model, X, y)"
   ]
  },
  {
   "cell_type": "markdown",
   "metadata": {},
   "source": [
    "# TMT"
   ]
  },
  {
   "cell_type": "code",
   "execution_count": 37,
   "metadata": {
    "ExecuteTime": {
     "end_time": "2021-02-09T02:38:26.551828Z",
     "start_time": "2021-02-09T02:38:26.218046Z"
    }
   },
   "outputs": [
    {
     "name": "stdout",
     "output_type": "stream",
     "text": [
      "Checking computations:\n",
      "E_Ti r2: 0.9999918933374128 | E_Ti corr: 0.9999972009258037\n",
      "E_TCH4i r2: 0.9999999999814085 | E_TCH4i corr: 0.9999999999907349\n",
      "TMT_CO2eq r2: 0.9999974557592491 | TMT_CO2eq corr: 0.9999989231823128\n"
     ]
    }
   ],
   "source": [
    "TMT_CO2eq_nodes = {'M_Ti': {'type': 'input',\n",
    "                            'unit': 'kgN',\n",
    "                            'name': 'Manure treated (N content)',\n",
    "                            },\n",
    "                   'EF_Ti': {'type': 'parameter',\n",
    "                             'unit': 'kg N2O-N/kg N',\n",
    "                             'name': 'Implied emission factor for N2O (Manure management)'},\n",
    "                   'EF_CH4Ti': {'type': 'parameter',\n",
    "                                'unit': 'kg/head',\n",
    "                                'name': 'Implied emission factor for CH4 (Manure management)'},\n",
    "                   'TAi': {'type': 'input',\n",
    "                           'unit': 'head',\n",
    "                           'name': 'Total animal population'},\n",
    "                   'E_Ti': {'type': 'variable',\n",
    "                                 'unit': 'gigagrams',\n",
    "                                 'name': 'Emissions (N2O) (Manure management)',\n",
    "                                 'computation': lambda EF_Ti, M_Ti, **kwargs: (EF_Ti * M_Ti) * N2ON_to_NO2 * kg_to_Gg\n",
    "                                },\n",
    "                   'E_TCH4i': {'type': 'variable',\n",
    "                                 'unit': 'gigagrams',\n",
    "                                 'name': 'Emissions (CH4) (Manure management)',\n",
    "                                 'computation': lambda EF_CH4Ti, TAi, **kwargs: (EF_CH4Ti * TAi) * kg_to_Gg\n",
    "                                },\n",
    "                   'TMT_CO2eq': {'type': 'output',\n",
    "                                 'unit': 'gigagrams (CO2eq)',\n",
    "                                 'name': 'Emissions (CO2eq) (Manure management)',\n",
    "                                 'computation': lambda E_Ti, E_TCH4i, **kwargs: (E_Ti * GWPN2O + E_TCH4i * GWPCH4)\n",
    "                                }}\n",
    "\n",
    "\n",
    "\n",
    "Model = GraphModel(TMT_CO2eq_nodes)\n",
    "X, y = get_X_y_from_data(Model, data_dict)\n",
    "\n",
    "check_model(Model, X, y)"
   ]
  },
  {
   "cell_type": "markdown",
   "metadata": {
    "ExecuteTime": {
     "end_time": "2021-01-20T02:43:01.546053Z",
     "start_time": "2021-01-20T02:42:57.640168Z"
    }
   },
   "source": [
    "# TMA"
   ]
  },
  {
   "cell_type": "code",
   "execution_count": 38,
   "metadata": {
    "ExecuteTime": {
     "end_time": "2021-02-09T02:38:30.629255Z",
     "start_time": "2021-02-09T02:38:30.514406Z"
    }
   },
   "outputs": [
    {
     "name": "stdout",
     "output_type": "stream",
     "text": [
      "Checking computations:\n",
      "TMA_CO2eq r2: 0.9999929200658959 | TMA_CO2eq corr: 0.9999996994033535\n"
     ]
    }
   ],
   "source": [
    "TMA_CO2eq_nodes = {'M_ASi': {'type': 'input',\n",
    "                            'unit': 'kgN',\n",
    "                            'name': 'Manure applied to soils (N content)',\n",
    "                            },\n",
    "                   'EF_ASi': {'type': 'parameter',\n",
    "                              'unit': 'kg N2O-N/kg N',\n",
    "                              'name': 'Implied emission factor for N2O (Manure applied)'},\n",
    "                   'TMA_CO2eq': {'type': 'output',\n",
    "                                 'unit': 'gigagrams (CO2eq)',\n",
    "                                 'name': 'Emissions (CO2eq) (Manure applied)',\n",
    "                                 'computation': lambda EF_ASi, M_ASi, **kwargs:  GWPN2O * N2ON_to_NO2 * kg_to_Gg * (EF_ASi * M_ASi) \n",
    "                                 }\n",
    "                   }\n",
    "\n",
    "Model = GraphModel(TMA_CO2eq_nodes)\n",
    "\n",
    "X, y = get_X_y_from_data(Model, data_dict)\n",
    "\n",
    "check_model(Model, X, y)"
   ]
  },
  {
   "cell_type": "markdown",
   "metadata": {},
   "source": [
    "# TEE"
   ]
  },
  {
   "cell_type": "code",
   "execution_count": 39,
   "metadata": {
    "ExecuteTime": {
     "end_time": "2021-02-09T02:38:32.713135Z",
     "start_time": "2021-02-09T02:38:32.589191Z"
    }
   },
   "outputs": [
    {
     "name": "stdout",
     "output_type": "stream",
     "text": [
      "Checking computations:\n",
      "TEE_CO2eq r2: 1.0 | TEE_CO2eq corr: 1.0\n"
     ]
    }
   ],
   "source": [
    "TEE_CO2eq_nodes = {'EF_EEi': {'type': 'input',\n",
    "                              'unit': 'kg CH4 / head',\n",
    "                              'name': 'Implied emission factor for CH4 (Enteric)'},\n",
    "                   'TAi': {'type': 'input',\n",
    "                           'unit': 'head',\n",
    "                           'name': 'Total animal population'},\n",
    "                   'TEE_CO2eq': {'type': 'output',\n",
    "                                 'unit': 'gigagrams (CO2eq)',\n",
    "                                 'name': 'Emissions (CO2eq) (Enteric)',\n",
    "                                 'computation': lambda TAi, EF_EEi, **kwargs: kg_to_Gg * GWPCH4 * (TAi * EF_EEi)\n",
    "                                 }\n",
    "                  }\n",
    "\n",
    "\n",
    "Model = GraphModel(TEE_CO2eq_nodes)\n",
    "X, y = get_X_y_from_data(Model, data_dict)\n",
    "\n",
    "check_model(Model, X, y)"
   ]
  },
  {
   "cell_type": "markdown",
   "metadata": {},
   "source": [
    "# FE"
   ]
  },
  {
   "cell_type": "code",
   "execution_count": 40,
   "metadata": {
    "ExecuteTime": {
     "end_time": "2021-02-09T02:38:35.355153Z",
     "start_time": "2021-02-09T02:38:35.241971Z"
    }
   },
   "outputs": [
    {
     "name": "stdout",
     "output_type": "stream",
     "text": [
      "Checking computations:\n",
      "FE_CO2eq r2: 0.9999878268614328 | FE_CO2eq corr: 0.9999941597487292\n"
     ]
    }
   ],
   "source": [
    "FE_CO2eq_nodes = {\n",
    "                  'IN_F': {'type': 'input',\n",
    "                           'unit': 'kg',\n",
    "                           'name': 'Agricultural Use in nutrients',\n",
    "                           },\n",
    "                  'EF_F': {'type': 'parameter',\n",
    "                           'unit': 'kg N2O-N/kg N',\n",
    "                           'name': 'Implied emission factor for N2O (Synthetic fertilizers)'},\n",
    "                  'FE_CO2eq': {'type': 'output',\n",
    "                               'unit': 'gigagrams (CO2eq)',\n",
    "                               'name': 'Emissions (CO2eq) (Synthetic fertilizers)',\n",
    "                               'computation': lambda EF_F, IN_F, **kwargs: GWPN2O * N2ON_to_NO2 * kg_to_Gg *(EF_F * IN_F)\n",
    "                              }\n",
    "                 }\n",
    "\n",
    "\n",
    "Model = GraphModel(FE_CO2eq_nodes)\n",
    "\n",
    "X, y = get_X_y_from_data(Model, data_dict)\n",
    "\n",
    "check_model(Model, X, y)"
   ]
  },
  {
   "cell_type": "markdown",
   "metadata": {},
   "source": [
    "# TOTAL GRAPH"
   ]
  },
  {
   "cell_type": "code",
   "execution_count": 41,
   "metadata": {
    "ExecuteTime": {
     "end_time": "2021-02-09T02:38:41.207340Z",
     "start_time": "2021-02-09T02:38:41.071170Z"
    }
   },
   "outputs": [
    {
     "data": {
      "image/svg+xml": [
       "<?xml version=\"1.0\" encoding=\"UTF-8\" standalone=\"no\"?>\n",
       "<!DOCTYPE svg PUBLIC \"-//W3C//DTD SVG 1.1//EN\"\n",
       " \"http://www.w3.org/Graphics/SVG/1.1/DTD/svg11.dtd\">\n",
       "<!-- Generated by graphviz version 2.40.1 (20161225.0304)\n",
       " -->\n",
       "<!-- Title: %3 Pages: 1 -->\n",
       "<svg width=\"1733pt\" height=\"222pt\"\n",
       " viewBox=\"0.00 0.00 1733.00 222.00\" xmlns=\"http://www.w3.org/2000/svg\" xmlns:xlink=\"http://www.w3.org/1999/xlink\">\n",
       "<g id=\"graph0\" class=\"graph\" transform=\"scale(1 1) rotate(0) translate(4 218)\">\n",
       "<title>%3</title>\n",
       "<polygon fill=\"#ffffff\" stroke=\"transparent\" points=\"-4,4 -4,-218 1729,-218 1729,4 -4,4\"/>\n",
       "<!-- P -->\n",
       "<g id=\"node1\" class=\"node\">\n",
       "<title>P</title>\n",
       "<polygon fill=\"#e76f51\" stroke=\"#eeeeee\" points=\"123,-214 0,-214 0,-161 123,-161 123,-214\"/>\n",
       "<text text-anchor=\"middle\" x=\"61.5\" y=\"-198.8\" font-family=\"roboto\" font-size=\"14.00\" fill=\"#eeeeee\">Total population </text>\n",
       "<text text-anchor=\"middle\" x=\"61.5\" y=\"-183.8\" font-family=\"roboto\" font-size=\"14.00\" fill=\"#eeeeee\"> (P) </text>\n",
       "<text text-anchor=\"middle\" x=\"61.5\" y=\"-168.8\" font-family=\"roboto\" font-size=\"14.00\" fill=\"#eeeeee\"> population</text>\n",
       "</g>\n",
       "<!-- GE3_comp -->\n",
       "<g id=\"node9\" class=\"node\">\n",
       "<title>GE3_comp</title>\n",
       "<polygon fill=\"none\" stroke=\"#a9a9a9\" points=\"1199,-125 404,-125 404,-89 1199,-89 1199,-125\"/>\n",
       "<text text-anchor=\"middle\" x=\"801.5\" y=\"-103.3\" font-family=\"roboto\" font-size=\"14.00\" fill=\"#000000\">(OEi + (TEE_CO2eq + TMT_CO2eq + TMP_CO2eq + TMA_CO2eq + FE_CO2eq).groupby(level=[&#39;Area&#39;, &#39;Year&#39;]).sum())/ P * 1e3</text>\n",
       "</g>\n",
       "<!-- P&#45;&gt;GE3_comp -->\n",
       "<g id=\"edge1\" class=\"edge\">\n",
       "<title>P&#45;&gt;GE3_comp</title>\n",
       "<path fill=\"none\" stroke=\"#a9a9a9\" d=\"M61.5,-160.605C61.5,-135.2127 61.5,-101 61.5,-101 61.5,-101 393.8813,-101 393.8813,-101\"/>\n",
       "<polygon fill=\"#a9a9a9\" stroke=\"#a9a9a9\" points=\"393.8813,-104.5001 403.8813,-101 393.8812,-97.5001 393.8813,-104.5001\"/>\n",
       "</g>\n",
       "<!-- TEE_CO2eq -->\n",
       "<g id=\"node2\" class=\"node\">\n",
       "<title>TEE_CO2eq</title>\n",
       "<polygon fill=\"#f4a261\" stroke=\"#eeeeee\" points=\"343.5,-214 141.5,-214 141.5,-161 343.5,-161 343.5,-214\"/>\n",
       "<text text-anchor=\"middle\" x=\"242.5\" y=\"-198.8\" font-family=\"roboto\" font-size=\"14.00\" fill=\"#eeeeee\">Emissions (CO2eq) (Enteric) </text>\n",
       "<text text-anchor=\"middle\" x=\"242.5\" y=\"-183.8\" font-family=\"roboto\" font-size=\"14.00\" fill=\"#eeeeee\"> (TEE_CO2eq) </text>\n",
       "<text text-anchor=\"middle\" x=\"242.5\" y=\"-168.8\" font-family=\"roboto\" font-size=\"14.00\" fill=\"#eeeeee\"> gigagrams (CO2eq)</text>\n",
       "</g>\n",
       "<!-- TEE_CO2eq&#45;&gt;GE3_comp -->\n",
       "<g id=\"edge2\" class=\"edge\">\n",
       "<title>TEE_CO2eq&#45;&gt;GE3_comp</title>\n",
       "<path fill=\"none\" stroke=\"#a9a9a9\" d=\"M242.5,-160.6038C242.5,-139.2642 242.5,-113 242.5,-113 242.5,-113 393.8109,-113 393.8109,-113\"/>\n",
       "<polygon fill=\"#a9a9a9\" stroke=\"#a9a9a9\" points=\"393.8109,-116.5001 403.8109,-113 393.8108,-109.5001 393.8109,-116.5001\"/>\n",
       "</g>\n",
       "<!-- TMT_CO2eq -->\n",
       "<g id=\"node3\" class=\"node\">\n",
       "<title>TMT_CO2eq</title>\n",
       "<polygon fill=\"#f4a261\" stroke=\"#eeeeee\" points=\"655,-214 362,-214 362,-161 655,-161 655,-214\"/>\n",
       "<text text-anchor=\"middle\" x=\"508.5\" y=\"-198.8\" font-family=\"roboto\" font-size=\"14.00\" fill=\"#eeeeee\">Emissions (CO2eq) (Manure management) </text>\n",
       "<text text-anchor=\"middle\" x=\"508.5\" y=\"-183.8\" font-family=\"roboto\" font-size=\"14.00\" fill=\"#eeeeee\"> (TMT_CO2eq) </text>\n",
       "<text text-anchor=\"middle\" x=\"508.5\" y=\"-168.8\" font-family=\"roboto\" font-size=\"14.00\" fill=\"#eeeeee\"> gigagrams (CO2eq)</text>\n",
       "</g>\n",
       "<!-- TMT_CO2eq&#45;&gt;GE3_comp -->\n",
       "<g id=\"edge3\" class=\"edge\">\n",
       "<title>TMT_CO2eq&#45;&gt;GE3_comp</title>\n",
       "<path fill=\"none\" stroke=\"#a9a9a9\" d=\"M529.5,-160.6947C529.5,-160.6947 529.5,-135.0658 529.5,-135.0658\"/>\n",
       "<polygon fill=\"#a9a9a9\" stroke=\"#a9a9a9\" points=\"533.0001,-135.0657 529.5,-125.0658 526.0001,-135.0658 533.0001,-135.0657\"/>\n",
       "</g>\n",
       "<!-- TMA_CO2eq -->\n",
       "<g id=\"node4\" class=\"node\">\n",
       "<title>TMA_CO2eq</title>\n",
       "<polygon fill=\"#f4a261\" stroke=\"#eeeeee\" points=\"930,-214 673,-214 673,-161 930,-161 930,-214\"/>\n",
       "<text text-anchor=\"middle\" x=\"801.5\" y=\"-198.8\" font-family=\"roboto\" font-size=\"14.00\" fill=\"#eeeeee\">Emissions (CO2eq) (Manure applied) </text>\n",
       "<text text-anchor=\"middle\" x=\"801.5\" y=\"-183.8\" font-family=\"roboto\" font-size=\"14.00\" fill=\"#eeeeee\"> (TMA_CO2eq) </text>\n",
       "<text text-anchor=\"middle\" x=\"801.5\" y=\"-168.8\" font-family=\"roboto\" font-size=\"14.00\" fill=\"#eeeeee\"> gigagrams (CO2eq)</text>\n",
       "</g>\n",
       "<!-- TMA_CO2eq&#45;&gt;GE3_comp -->\n",
       "<g id=\"edge4\" class=\"edge\">\n",
       "<title>TMA_CO2eq&#45;&gt;GE3_comp</title>\n",
       "<path fill=\"none\" stroke=\"#a9a9a9\" d=\"M801.5,-160.6947C801.5,-160.6947 801.5,-135.0658 801.5,-135.0658\"/>\n",
       "<polygon fill=\"#a9a9a9\" stroke=\"#a9a9a9\" points=\"805.0001,-135.0657 801.5,-125.0658 798.0001,-135.0658 805.0001,-135.0657\"/>\n",
       "</g>\n",
       "<!-- TMP_CO2eq -->\n",
       "<g id=\"node5\" class=\"node\">\n",
       "<title>TMP_CO2eq</title>\n",
       "<polygon fill=\"#f4a261\" stroke=\"#eeeeee\" points=\"1224.5,-214 948.5,-214 948.5,-161 1224.5,-161 1224.5,-214\"/>\n",
       "<text text-anchor=\"middle\" x=\"1086.5\" y=\"-198.8\" font-family=\"roboto\" font-size=\"14.00\" fill=\"#eeeeee\">Emissions (CO2eq) (Manure on pasture) </text>\n",
       "<text text-anchor=\"middle\" x=\"1086.5\" y=\"-183.8\" font-family=\"roboto\" font-size=\"14.00\" fill=\"#eeeeee\"> (TMP_CO2eq) </text>\n",
       "<text text-anchor=\"middle\" x=\"1086.5\" y=\"-168.8\" font-family=\"roboto\" font-size=\"14.00\" fill=\"#eeeeee\"> gigagrams (CO2eq)</text>\n",
       "</g>\n",
       "<!-- TMP_CO2eq&#45;&gt;GE3_comp -->\n",
       "<g id=\"edge5\" class=\"edge\">\n",
       "<title>TMP_CO2eq&#45;&gt;GE3_comp</title>\n",
       "<path fill=\"none\" stroke=\"#a9a9a9\" d=\"M1073.75,-160.6947C1073.75,-160.6947 1073.75,-135.0658 1073.75,-135.0658\"/>\n",
       "<polygon fill=\"#a9a9a9\" stroke=\"#a9a9a9\" points=\"1077.2501,-135.0657 1073.75,-125.0658 1070.2501,-135.0658 1077.2501,-135.0657\"/>\n",
       "</g>\n",
       "<!-- FE_CO2eq -->\n",
       "<g id=\"node6\" class=\"node\">\n",
       "<title>FE_CO2eq</title>\n",
       "<polygon fill=\"#f4a261\" stroke=\"#eeeeee\" points=\"1522,-214 1243,-214 1243,-161 1522,-161 1522,-214\"/>\n",
       "<text text-anchor=\"middle\" x=\"1382.5\" y=\"-198.8\" font-family=\"roboto\" font-size=\"14.00\" fill=\"#eeeeee\">Emissions (CO2eq) (Synthetic fertilizers) </text>\n",
       "<text text-anchor=\"middle\" x=\"1382.5\" y=\"-183.8\" font-family=\"roboto\" font-size=\"14.00\" fill=\"#eeeeee\"> (FE_CO2eq) </text>\n",
       "<text text-anchor=\"middle\" x=\"1382.5\" y=\"-168.8\" font-family=\"roboto\" font-size=\"14.00\" fill=\"#eeeeee\"> gigagrams (CO2eq)</text>\n",
       "</g>\n",
       "<!-- FE_CO2eq&#45;&gt;GE3_comp -->\n",
       "<g id=\"edge6\" class=\"edge\">\n",
       "<title>FE_CO2eq&#45;&gt;GE3_comp</title>\n",
       "<path fill=\"none\" stroke=\"#a9a9a9\" d=\"M1382.5,-160.6038C1382.5,-139.2642 1382.5,-113 1382.5,-113 1382.5,-113 1209.0668,-113 1209.0668,-113\"/>\n",
       "<polygon fill=\"#a9a9a9\" stroke=\"#a9a9a9\" points=\"1209.0668,-109.5001 1199.0668,-113 1209.0668,-116.5001 1209.0668,-109.5001\"/>\n",
       "</g>\n",
       "<!-- OEi -->\n",
       "<g id=\"node7\" class=\"node\">\n",
       "<title>OEi</title>\n",
       "<polygon fill=\"#e76f51\" stroke=\"#eeeeee\" points=\"1725,-214 1540,-214 1540,-161 1725,-161 1725,-214\"/>\n",
       "<text text-anchor=\"middle\" x=\"1632.5\" y=\"-198.8\" font-family=\"roboto\" font-size=\"14.00\" fill=\"#eeeeee\">Vector of other emissions </text>\n",
       "<text text-anchor=\"middle\" x=\"1632.5\" y=\"-183.8\" font-family=\"roboto\" font-size=\"14.00\" fill=\"#eeeeee\"> (OEi) </text>\n",
       "<text text-anchor=\"middle\" x=\"1632.5\" y=\"-168.8\" font-family=\"roboto\" font-size=\"14.00\" fill=\"#eeeeee\"> gigagrams (CO2eq)</text>\n",
       "</g>\n",
       "<!-- OEi&#45;&gt;GE3_comp -->\n",
       "<g id=\"edge7\" class=\"edge\">\n",
       "<title>OEi&#45;&gt;GE3_comp</title>\n",
       "<path fill=\"none\" stroke=\"#a9a9a9\" d=\"M1632.5,-160.605C1632.5,-135.2127 1632.5,-101 1632.5,-101 1632.5,-101 1209.05,-101 1209.05,-101\"/>\n",
       "<polygon fill=\"#a9a9a9\" stroke=\"#a9a9a9\" points=\"1209.05,-97.5001 1199.05,-101 1209.05,-104.5001 1209.05,-97.5001\"/>\n",
       "</g>\n",
       "<!-- GE3 -->\n",
       "<g id=\"node8\" class=\"node\">\n",
       "<title>GE3</title>\n",
       "<polygon fill=\"#2a9d8f\" stroke=\"#eeeeee\" points=\"987,-53 616,-53 616,0 987,0 987,-53\"/>\n",
       "<text text-anchor=\"middle\" x=\"801.5\" y=\"-37.8\" font-family=\"roboto\" font-size=\"14.00\" fill=\"#eeeeee\">Ratio of non&#45;CO2 emissions in agriculture to population </text>\n",
       "<text text-anchor=\"middle\" x=\"801.5\" y=\"-22.8\" font-family=\"roboto\" font-size=\"14.00\" fill=\"#eeeeee\"> (GE3) </text>\n",
       "<text text-anchor=\"middle\" x=\"801.5\" y=\"-7.8\" font-family=\"roboto\" font-size=\"14.00\" fill=\"#eeeeee\"> gigagrams (CO2eq) / capita</text>\n",
       "</g>\n",
       "<!-- GE3_comp&#45;&gt;GE3 -->\n",
       "<g id=\"edge8\" class=\"edge\">\n",
       "<title>GE3_comp&#45;&gt;GE3</title>\n",
       "<path fill=\"none\" stroke=\"#a9a9a9\" d=\"M801.5,-88.7333C801.5,-88.7333 801.5,-63.2477 801.5,-63.2477\"/>\n",
       "<polygon fill=\"#a9a9a9\" stroke=\"#a9a9a9\" points=\"805.0001,-63.2476 801.5,-53.2477 798.0001,-63.2477 805.0001,-63.2476\"/>\n",
       "</g>\n",
       "</g>\n",
       "</svg>\n"
      ],
      "text/plain": [
       "<graphviz.dot.Digraph at 0x7f5d4eebabd0>"
      ]
     },
     "execution_count": 41,
     "metadata": {},
     "output_type": "execute_result"
    }
   ],
   "source": [
    "GE3_nodes = {'P': {'type': 'input', 'unit': 'population', 'name': 'Total population'},\n",
    "             'TEE_CO2eq': {'type': 'variable',\n",
    "                           'unit': 'gigagrams (CO2eq)',\n",
    "                           'name': 'Emissions (CO2eq) (Enteric)'},\n",
    "             'TMT_CO2eq': {'type': 'variable',\n",
    "                           'unit': 'gigagrams (CO2eq)',\n",
    "                           'name': 'Emissions (CO2eq) (Manure management)'},\n",
    "             'TMA_CO2eq': {'type': 'variable',\n",
    "                           'unit': 'gigagrams (CO2eq)',\n",
    "                           'name': 'Emissions (CO2eq) (Manure applied)'},\n",
    "             'TMP_CO2eq': {'type': 'variable',\n",
    "                           'unit': 'gigagrams (CO2eq)',\n",
    "                           'name': 'Emissions (CO2eq) (Manure on pasture)'},\n",
    "             'FE_CO2eq': {'type': 'variable',\n",
    "                          'unit': 'gigagrams (CO2eq)',\n",
    "                          'name': 'Emissions (CO2eq) (Synthetic fertilizers)'},\n",
    "             'OEi': {'type': 'input',\n",
    "                     'unit': 'gigagrams (CO2eq)',\n",
    "                     'name': 'Vector of other emissions'},\n",
    "             'GE3': {'type': 'output',\n",
    "                     'unit': 'gigagrams (CO2eq) / capita',\n",
    "                     'name': 'Ratio of non-CO2 emissions in agriculture to population',\n",
    "                     'computation': lambda OEi, TEE_CO2eq, TMT_CO2eq, TMP_CO2eq, TMA_CO2eq, FE_CO2eq, P, **kwargs: (OEi + (TEE_CO2eq + TMT_CO2eq + TMP_CO2eq + TMA_CO2eq + FE_CO2eq).groupby(level=['Area', 'Year']).sum())/ P * 1e3}}\n",
    "\n",
    "\n",
    "GraphModel(GE3_nodes).draw()"
   ]
  },
  {
   "cell_type": "code",
   "execution_count": 43,
   "metadata": {
    "ExecuteTime": {
     "end_time": "2021-02-09T02:38:46.985738Z",
     "start_time": "2021-02-09T02:38:46.911762Z"
    }
   },
   "outputs": [],
   "source": [
    "nodes = concatenate_graph_specs([#GE3_nodes, \n",
    "                                 TEE_CO2eq_nodes, TMA_CO2eq_nodes, TMT_CO2eq_nodes, TMP_CO2eq_nodes, FE_CO2eq_nodes])\n",
    "\n",
    "Model = GraphModel(nodes)#.draw()"
   ]
  },
  {
   "cell_type": "code",
   "execution_count": 44,
   "metadata": {
    "ExecuteTime": {
     "end_time": "2021-02-09T02:38:49.261106Z",
     "start_time": "2021-02-09T02:38:49.256811Z"
    }
   },
   "outputs": [],
   "source": [
    "#Model.draw()"
   ]
  },
  {
   "cell_type": "code",
   "execution_count": 45,
   "metadata": {
    "ExecuteTime": {
     "end_time": "2021-02-09T02:38:51.330986Z",
     "start_time": "2021-02-09T02:38:50.623673Z"
    }
   },
   "outputs": [
    {
     "name": "stdout",
     "output_type": "stream",
     "text": [
      "Checking computations:\n",
      "E_Ti r2: 0.9999918933374128 | E_Ti corr: 0.9999972009258037\n",
      "E_TCH4i r2: 0.9999999999814085 | E_TCH4i corr: 0.9999999999907349\n",
      "TEE_CO2eq r2: 1.0 | TEE_CO2eq corr: 1.0\n",
      "TMA_CO2eq r2: 0.9999929200658959 | TMA_CO2eq corr: 0.9999996994033535\n",
      "TMT_CO2eq r2: 0.9999974557592491 | TMT_CO2eq corr: 0.9999989231823128\n",
      "TMP_CO2eq r2: 0.9999968227004328 | TMP_CO2eq corr: 0.9999986115524314\n",
      "FE_CO2eq r2: 0.9999878268614328 | FE_CO2eq corr: 0.9999941597487292\n"
     ]
    }
   ],
   "source": [
    "X, y = get_X_y_from_data(Model, data_dict)\n",
    "\n",
    "check_model(Model, X, y)"
   ]
  },
  {
   "cell_type": "code",
   "execution_count": null,
   "metadata": {},
   "outputs": [],
   "source": []
  }
 ],
 "metadata": {
  "kernelspec": {
   "display_name": "Python 3",
   "language": "python",
   "name": "python3"
  },
  "language_info": {
   "codemirror_mode": {
    "name": "ipython",
    "version": 3
   },
   "file_extension": ".py",
   "mimetype": "text/x-python",
   "name": "python",
   "nbconvert_exporter": "python",
   "pygments_lexer": "ipython3",
   "version": "3.7.7"
  }
 },
 "nbformat": 4,
 "nbformat_minor": 4
}
