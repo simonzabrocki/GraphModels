{
 "cells": [
  {
   "cell_type": "code",
   "execution_count": 5,
   "metadata": {
    "ExecuteTime": {
     "end_time": "2021-03-08T08:50:20.962020Z",
     "start_time": "2021-03-08T08:50:18.771181Z"
    },
    "code_folding": []
   },
   "outputs": [],
   "source": [
    "from graphmodels.graphmodel import GraphModel, concatenate_graph_specs\n",
    "from graphmodels.validation import score_model, plot_diagnostic, plot_baseline_vs_computation\n",
    "import pandas as pd\n",
    "import plotly.express as px\n",
    "from sklearn.metrics import r2_score\n",
    "from database import select_dataset\n",
    "from models.Hermen.model_GE3 import GE3_models\n",
    "\n",
    "from graphmodels.utils import df_to_data_dict, get_X_y_from_data"
   ]
  },
  {
   "cell_type": "markdown",
   "metadata": {},
   "source": [
    "# Newer"
   ]
  },
  {
   "cell_type": "code",
   "execution_count": 6,
   "metadata": {
    "ExecuteTime": {
     "end_time": "2021-03-08T08:50:21.248734Z",
     "start_time": "2021-03-08T08:50:20.963457Z"
    }
   },
   "outputs": [],
   "source": [
    "pop = select_dataset('population')\n",
    "#emissions = select_dataset('emissions')"
   ]
  },
  {
   "cell_type": "code",
   "execution_count": 7,
   "metadata": {
    "ExecuteTime": {
     "end_time": "2021-03-08T08:50:24.320658Z",
     "start_time": "2021-03-08T08:50:21.252310Z"
    }
   },
   "outputs": [
    {
     "name": "stderr",
     "output_type": "stream",
     "text": [
      "/home/simon/anaconda3/lib/python3.7/site-packages/IPython/core/interactiveshell.py:3146: DtypeWarning: Columns (4,7) have mixed types.Specify dtype option on import or set low_memory=False.\n",
      "  interactivity=interactivity, compiler=compiler, result=result)\n"
     ]
    }
   ],
   "source": [
    "emissions = pd.read_csv('models/Hermen/data/GY_GE_GU_GM_GP_GT.csv')"
   ]
  },
  {
   "cell_type": "code",
   "execution_count": 8,
   "metadata": {
    "ExecuteTime": {
     "end_time": "2021-03-08T08:50:24.730924Z",
     "start_time": "2021-03-08T08:50:24.323601Z"
    }
   },
   "outputs": [],
   "source": [
    "model_df = pd.concat([emissions, pop])"
   ]
  },
  {
   "cell_type": "code",
   "execution_count": 9,
   "metadata": {
    "ExecuteTime": {
     "end_time": "2021-03-08T08:50:25.341058Z",
     "start_time": "2021-03-08T08:50:24.733052Z"
    }
   },
   "outputs": [],
   "source": [
    "model_df = model_df[~model_df.Item.isin(['All Animals'])]"
   ]
  },
  {
   "cell_type": "code",
   "execution_count": 10,
   "metadata": {
    "ExecuteTime": {
     "end_time": "2021-03-08T08:50:25.348965Z",
     "start_time": "2021-03-08T08:50:25.342408Z"
    }
   },
   "outputs": [],
   "source": [
    "from graphmodels.utils import df_to_data_dict\n",
    "def get_X_y_from_data(model, data_dict):\n",
    "    '''TO CLEAN UP'''\n",
    "    X = {key: data_dict[key] for key in model.inputs_() + model.parameters_()}\n",
    "    y = {key: data_dict[key] for key in model.variables_() + model.outputs_() if key in data_dict}\n",
    "    return X, y\n",
    "\n",
    "\n",
    "def df_to_dict(df):\n",
    "    X = {}\n",
    "    for code in df.columns:\n",
    "        X[code] = df[code]#.fillna(0)\n",
    "    return X\n",
    "\n",
    "\n",
    "def fill_missing_values(df):\n",
    "    return df\n",
    "#     return df.groupby(level='ISO').fillna(method='ffill')\\\n",
    "#              .groupby(level='ISO').fillna(method='bfill')\n",
    "\n",
    "\n",
    "def df_to_data_dict(df, itemized):\n",
    "    data_dict = {}\n",
    "\n",
    "    non_item_df = df[~df.Variable.isin(itemized)].pivot(\n",
    "        index=['ISO', 'Year'], columns='Variable', values='Value')\n",
    "    non_item_df = fill_missing_values(non_item_df)\n",
    "    item_df = df[df.Variable.isin(itemized)].pivot(\n",
    "        index=['ISO', 'Year', 'Item'], columns='Variable', values='Value')\n",
    "\n",
    "    data_dict.update(df_to_dict(non_item_df))\n",
    "    data_dict.update(df_to_dict(item_df))\n",
    "\n",
    "    return data_dict\n"
   ]
  },
  {
   "cell_type": "code",
   "execution_count": 11,
   "metadata": {
    "ExecuteTime": {
     "end_time": "2021-03-08T08:50:27.502688Z",
     "start_time": "2021-03-08T08:50:25.351146Z"
    }
   },
   "outputs": [],
   "source": [
    "itemized = ['TAi', 'EF_EEi', 'EECH4', 'TEE_CO2eq',\n",
    "       'M_ASi', 'EF_ASi', 'E_ASi', 'TMA_CO2eq', 'M_Ti', 'EF_CH4Ti',\n",
    "       'EF_Ti', 'E_TCH4i', 'E_Ti', 'TMT_CO2eq', 'M_LPi', 'EF_Li', 'E_Li',\n",
    "       'TMP_CO2eq', 'TMi', 'MM_ASi', 'MM_LPi', 'MM_Ti', 'MYi',]\n",
    "\n",
    "data_dict = df_to_data_dict(model_df, itemized)"
   ]
  },
  {
   "cell_type": "code",
   "execution_count": 12,
   "metadata": {
    "ExecuteTime": {
     "end_time": "2021-03-08T08:50:29.414551Z",
     "start_time": "2021-03-08T08:50:27.503914Z"
    }
   },
   "outputs": [
    {
     "name": "stdout",
     "output_type": "stream",
     "text": [
      "TMi_model\n",
      "TMi\n",
      "    r2  correlation          rmse Variable\n",
      "0  1.0          1.0  1.016920e-15      TMi\n",
      "\n",
      "M_xi_model\n",
      "M_Ti\n",
      "M_LPi\n",
      "M_ASi\n",
      "    r2  correlation          rmse Variable\n",
      "0  1.0          1.0  3.249331e-16     M_Ti\n",
      "1  1.0          1.0  3.635216e-16    M_LPi\n",
      "2  1.0          1.0  2.520746e-16    M_ASi\n",
      "\n",
      "TMP_CO2eq_model\n",
      "TMP_CO2eq\n",
      "         r2  correlation       rmse   Variable\n",
      "0  0.999997     0.999999  17.092812  TMP_CO2eq\n",
      "\n",
      "TMT_CO2eq_model\n",
      "E_Ti\n",
      "E_TCH4i\n",
      "TMT_CO2eq\n",
      "         r2  correlation          rmse   Variable\n",
      "0  0.999992     0.999997  2.619308e-05       E_Ti\n",
      "1  1.000000     1.000000  1.297824e-08    E_TCH4i\n",
      "2  0.999997     0.999999  2.517425e+00  TMT_CO2eq\n",
      "\n",
      "TMA_CO2eq_model\n",
      "TMA_CO2eq\n",
      "         r2  correlation      rmse   Variable\n",
      "0  0.999993          1.0  1.136032  TMA_CO2eq\n",
      "\n",
      "TEE_CO2eq_model\n",
      "TEE_CO2eq\n",
      "    r2  correlation          rmse   Variable\n",
      "0  1.0          1.0  4.353519e-10  TEE_CO2eq\n",
      "\n",
      "FE_CO2eq_model\n",
      "FE_CO2eq\n",
      "         r2  correlation         rmse  Variable\n",
      "0  0.999987     0.999994  2382.058109  FE_CO2eq\n",
      "\n",
      "GE3_partial_model\n",
      "Empty DataFrame\n",
      "Columns: []\n",
      "Index: []\n",
      "\n",
      "GE3_model\n",
      "TEE_CO2eq\n",
      "TMT_CO2eq\n",
      "TMA_CO2eq\n",
      "TMP_CO2eq\n",
      "FE_CO2eq\n",
      "M_ASi\n",
      "M_Ti\n",
      "E_Ti\n",
      "E_TCH4i\n",
      "M_LPi\n",
      "TMi\n",
      "          r2  correlation          rmse   Variable\n",
      "0   1.000000     1.000000  4.353519e-10  TEE_CO2eq\n",
      "1   0.999997     0.999999  2.517425e+00  TMT_CO2eq\n",
      "2   0.999993     1.000000  1.136032e+00  TMA_CO2eq\n",
      "3   0.999997     0.999999  1.709281e+01  TMP_CO2eq\n",
      "4   0.999987     0.999994  2.382058e+03   FE_CO2eq\n",
      "5   1.000000     1.000000  2.719008e-16      M_ASi\n",
      "6   1.000000     1.000000  3.387310e-16       M_Ti\n",
      "7   0.999992     0.999997  2.619308e-05       E_Ti\n",
      "8   1.000000     1.000000  1.297824e-08    E_TCH4i\n",
      "9   1.000000     1.000000  5.795602e-16      M_LPi\n",
      "10  1.000000     1.000000  1.016920e-15        TMi\n",
      "\n"
     ]
    }
   ],
   "source": [
    "res = []\n",
    "for model_name, model in GE3_models.items():\n",
    "    print(model_name)\n",
    "    X, y = get_X_y_from_data(model, data_dict)\n",
    "    print(score_model(model, X, y))\n",
    "    print()"
   ]
  },
  {
   "cell_type": "code",
   "execution_count": 15,
   "metadata": {},
   "outputs": [
    {
     "data": {
      "image/svg+xml": [
       "<?xml version=\"1.0\" encoding=\"UTF-8\" standalone=\"no\"?>\n",
       "<!DOCTYPE svg PUBLIC \"-//W3C//DTD SVG 1.1//EN\"\n",
       " \"http://www.w3.org/Graphics/SVG/1.1/DTD/svg11.dtd\">\n",
       "<!-- Generated by graphviz version 2.40.1 (20161225.0304)\n",
       " -->\n",
       "<!-- Title: %3 Pages: 1 -->\n",
       "<svg width=\"2106pt\" height=\"900pt\"\n",
       " viewBox=\"0.00 0.00 2105.50 900.00\" xmlns=\"http://www.w3.org/2000/svg\" xmlns:xlink=\"http://www.w3.org/1999/xlink\">\n",
       "<g id=\"graph0\" class=\"graph\" transform=\"scale(1 1) rotate(0) translate(4 896)\">\n",
       "<title>%3</title>\n",
       "<polygon fill=\"#ffffff\" stroke=\"transparent\" points=\"-4,4 -4,-896 2101.5,-896 2101.5,4 -4,4\"/>\n",
       "<!-- Pop -->\n",
       "<g id=\"node1\" class=\"node\">\n",
       "<title>Pop</title>\n",
       "<polygon fill=\"#e76f51\" stroke=\"#eeeeee\" points=\"615,-214 492,-214 492,-161 615,-161 615,-214\"/>\n",
       "<text text-anchor=\"middle\" x=\"553.5\" y=\"-198.8\" font-family=\"roboto\" font-size=\"14.00\" fill=\"#eeeeee\">Total population </text>\n",
       "<text text-anchor=\"middle\" x=\"553.5\" y=\"-183.8\" font-family=\"roboto\" font-size=\"14.00\" fill=\"#eeeeee\"> (Pop) </text>\n",
       "<text text-anchor=\"middle\" x=\"553.5\" y=\"-168.8\" font-family=\"roboto\" font-size=\"14.00\" fill=\"#eeeeee\"> 1000 persons</text>\n",
       "</g>\n",
       "<!-- GE3_comp -->\n",
       "<g id=\"node14\" class=\"node\">\n",
       "<title>GE3_comp</title>\n",
       "<polygon fill=\"none\" stroke=\"#a9a9a9\" points=\"1404,-125 583,-125 583,-89 1404,-89 1404,-125\"/>\n",
       "<text text-anchor=\"middle\" x=\"993.5\" y=\"-103.3\" font-family=\"roboto\" font-size=\"14.00\" fill=\"#000000\">(OEi + (TEE_CO2eq + TMT_CO2eq + TMP_CO2eq + TMA_CO2eq + FE_CO2eq).groupby(level=[&#39;ISO&#39;, &#39;Year&#39;]).sum()) / (Pop * 1e3)</text>\n",
       "</g>\n",
       "<!-- Pop&#45;&gt;GE3_comp -->\n",
       "<g id=\"edge1\" class=\"edge\">\n",
       "<title>Pop&#45;&gt;GE3_comp</title>\n",
       "<path fill=\"none\" stroke=\"#a9a9a9\" d=\"M599,-160.6947C599,-160.6947 599,-135.0658 599,-135.0658\"/>\n",
       "<polygon fill=\"#a9a9a9\" stroke=\"#a9a9a9\" points=\"602.5001,-135.0657 599,-125.0658 595.5001,-135.0658 602.5001,-135.0657\"/>\n",
       "</g>\n",
       "<!-- TEE_CO2eq -->\n",
       "<g id=\"node2\" class=\"node\">\n",
       "<title>TEE_CO2eq</title>\n",
       "<polygon fill=\"#f4a261\" stroke=\"#eeeeee\" points=\"354.5,-303 152.5,-303 152.5,-250 354.5,-250 354.5,-303\"/>\n",
       "<text text-anchor=\"middle\" x=\"253.5\" y=\"-287.8\" font-family=\"roboto\" font-size=\"14.00\" fill=\"#eeeeee\">Emissions (CO2eq) (Enteric) </text>\n",
       "<text text-anchor=\"middle\" x=\"253.5\" y=\"-272.8\" font-family=\"roboto\" font-size=\"14.00\" fill=\"#eeeeee\"> (TEE_CO2eq) </text>\n",
       "<text text-anchor=\"middle\" x=\"253.5\" y=\"-257.8\" font-family=\"roboto\" font-size=\"14.00\" fill=\"#eeeeee\"> gigagrams (CO2eq)</text>\n",
       "</g>\n",
       "<!-- TEE_CO2eq&#45;&gt;GE3_comp -->\n",
       "<g id=\"edge2\" class=\"edge\">\n",
       "<title>TEE_CO2eq&#45;&gt;GE3_comp</title>\n",
       "<path fill=\"none\" stroke=\"#a9a9a9\" d=\"M354.6958,-254C470.2513,-254 643.5,-254 643.5,-254 643.5,-254 643.5,-135.0251 643.5,-135.0251\"/>\n",
       "<polygon fill=\"#a9a9a9\" stroke=\"#a9a9a9\" points=\"647.0001,-135.0251 643.5,-125.0251 640.0001,-135.0251 647.0001,-135.0251\"/>\n",
       "</g>\n",
       "<!-- TEE_CO2eq_comp -->\n",
       "<g id=\"node3\" class=\"node\">\n",
       "<title>TEE_CO2eq_comp</title>\n",
       "<polygon fill=\"none\" stroke=\"#a9a9a9\" points=\"320,-803 69,-803 69,-767 320,-767 320,-803\"/>\n",
       "<text text-anchor=\"middle\" x=\"194.5\" y=\"-781.3\" font-family=\"roboto\" font-size=\"14.00\" fill=\"#000000\">kg_to_Gg * GWPCH4 * (TAi * EF_EEi)</text>\n",
       "</g>\n",
       "<!-- TEE_CO2eq_comp&#45;&gt;TEE_CO2eq -->\n",
       "<g id=\"edge3\" class=\"edge\">\n",
       "<title>TEE_CO2eq_comp&#45;&gt;TEE_CO2eq</title>\n",
       "<path fill=\"none\" stroke=\"#a9a9a9\" d=\"M188.5,-766.9022C188.5,-766.9022 188.5,-313.0787 188.5,-313.0787\"/>\n",
       "<polygon fill=\"#a9a9a9\" stroke=\"#a9a9a9\" points=\"192.0001,-313.0787 188.5,-303.0787 185.0001,-313.0788 192.0001,-313.0787\"/>\n",
       "</g>\n",
       "<!-- TMT_CO2eq -->\n",
       "<g id=\"node4\" class=\"node\">\n",
       "<title>TMT_CO2eq</title>\n",
       "<polygon fill=\"#f4a261\" stroke=\"#eeeeee\" points=\"965,-214 672,-214 672,-161 965,-161 965,-214\"/>\n",
       "<text text-anchor=\"middle\" x=\"818.5\" y=\"-198.8\" font-family=\"roboto\" font-size=\"14.00\" fill=\"#eeeeee\">Emissions (CO2eq) (Manure management) </text>\n",
       "<text text-anchor=\"middle\" x=\"818.5\" y=\"-183.8\" font-family=\"roboto\" font-size=\"14.00\" fill=\"#eeeeee\"> (TMT_CO2eq) </text>\n",
       "<text text-anchor=\"middle\" x=\"818.5\" y=\"-168.8\" font-family=\"roboto\" font-size=\"14.00\" fill=\"#eeeeee\"> gigagrams (CO2eq)</text>\n",
       "</g>\n",
       "<!-- TMT_CO2eq&#45;&gt;GE3_comp -->\n",
       "<g id=\"edge4\" class=\"edge\">\n",
       "<title>TMT_CO2eq&#45;&gt;GE3_comp</title>\n",
       "<path fill=\"none\" stroke=\"#a9a9a9\" d=\"M818.5,-160.6947C818.5,-160.6947 818.5,-135.0658 818.5,-135.0658\"/>\n",
       "<polygon fill=\"#a9a9a9\" stroke=\"#a9a9a9\" points=\"822.0001,-135.0657 818.5,-125.0658 815.0001,-135.0658 822.0001,-135.0657\"/>\n",
       "</g>\n",
       "<!-- TMT_CO2eq_comp -->\n",
       "<g id=\"node5\" class=\"node\">\n",
       "<title>TMT_CO2eq_comp</title>\n",
       "<polygon fill=\"none\" stroke=\"#a9a9a9\" points=\"750.5,-294.5 490.5,-294.5 490.5,-258.5 750.5,-258.5 750.5,-294.5\"/>\n",
       "<text text-anchor=\"middle\" x=\"620.5\" y=\"-272.8\" font-family=\"roboto\" font-size=\"14.00\" fill=\"#000000\">E_Ti * GWPN2O + E_TCH4i * GWPCH4</text>\n",
       "</g>\n",
       "<!-- TMT_CO2eq_comp&#45;&gt;TMT_CO2eq -->\n",
       "<g id=\"edge5\" class=\"edge\">\n",
       "<title>TMT_CO2eq_comp&#45;&gt;TMT_CO2eq</title>\n",
       "<path fill=\"none\" stroke=\"#a9a9a9\" d=\"M711.25,-258.4895C711.25,-258.4895 711.25,-224.267 711.25,-224.267\"/>\n",
       "<polygon fill=\"#a9a9a9\" stroke=\"#a9a9a9\" points=\"714.7501,-224.267 711.25,-214.267 707.7501,-224.2671 714.7501,-224.267\"/>\n",
       "</g>\n",
       "<!-- TMA_CO2eq -->\n",
       "<g id=\"node6\" class=\"node\">\n",
       "<title>TMA_CO2eq</title>\n",
       "<polygon fill=\"#f4a261\" stroke=\"#eeeeee\" points=\"1063,-303 806,-303 806,-250 1063,-250 1063,-303\"/>\n",
       "<text text-anchor=\"middle\" x=\"934.5\" y=\"-287.8\" font-family=\"roboto\" font-size=\"14.00\" fill=\"#eeeeee\">Emissions (CO2eq) (Manure applied) </text>\n",
       "<text text-anchor=\"middle\" x=\"934.5\" y=\"-272.8\" font-family=\"roboto\" font-size=\"14.00\" fill=\"#eeeeee\"> (TMA_CO2eq) </text>\n",
       "<text text-anchor=\"middle\" x=\"934.5\" y=\"-257.8\" font-family=\"roboto\" font-size=\"14.00\" fill=\"#eeeeee\"> gigagrams (CO2eq)</text>\n",
       "</g>\n",
       "<!-- TMA_CO2eq&#45;&gt;GE3_comp -->\n",
       "<g id=\"edge6\" class=\"edge\">\n",
       "<title>TMA_CO2eq&#45;&gt;GE3_comp</title>\n",
       "<path fill=\"none\" stroke=\"#a9a9a9\" d=\"M1014,-249.6422C1014,-249.6422 1014,-135.3737 1014,-135.3737\"/>\n",
       "<polygon fill=\"#a9a9a9\" stroke=\"#a9a9a9\" points=\"1017.5001,-135.3736 1014,-125.3737 1010.5001,-135.3737 1017.5001,-135.3736\"/>\n",
       "</g>\n",
       "<!-- TMA_CO2eq_comp -->\n",
       "<g id=\"node7\" class=\"node\">\n",
       "<title>TMA_CO2eq_comp</title>\n",
       "<polygon fill=\"none\" stroke=\"#a9a9a9\" points=\"1221.5,-464 841.5,-464 841.5,-428 1221.5,-428 1221.5,-464\"/>\n",
       "<text text-anchor=\"middle\" x=\"1031.5\" y=\"-442.3\" font-family=\"roboto\" font-size=\"14.00\" fill=\"#000000\">GWPN2O * N2ON_to_NO2 * kg_to_Gg * (EF_ASi * M_ASi)</text>\n",
       "</g>\n",
       "<!-- TMA_CO2eq_comp&#45;&gt;TMA_CO2eq -->\n",
       "<g id=\"edge7\" class=\"edge\">\n",
       "<title>TMA_CO2eq_comp&#45;&gt;TMA_CO2eq</title>\n",
       "<path fill=\"none\" stroke=\"#a9a9a9\" d=\"M902,-427.8605C902,-427.8605 902,-313.095 902,-313.095\"/>\n",
       "<polygon fill=\"#a9a9a9\" stroke=\"#a9a9a9\" points=\"905.5001,-313.095 902,-303.095 898.5001,-313.0951 905.5001,-313.095\"/>\n",
       "</g>\n",
       "<!-- TMP_CO2eq -->\n",
       "<g id=\"node8\" class=\"node\">\n",
       "<title>TMP_CO2eq</title>\n",
       "<polygon fill=\"#f4a261\" stroke=\"#eeeeee\" points=\"1238.5,-392 962.5,-392 962.5,-339 1238.5,-339 1238.5,-392\"/>\n",
       "<text text-anchor=\"middle\" x=\"1100.5\" y=\"-376.8\" font-family=\"roboto\" font-size=\"14.00\" fill=\"#eeeeee\">Emissions (CO2eq) (Manure on pasture) </text>\n",
       "<text text-anchor=\"middle\" x=\"1100.5\" y=\"-361.8\" font-family=\"roboto\" font-size=\"14.00\" fill=\"#eeeeee\"> (TMP_CO2eq) </text>\n",
       "<text text-anchor=\"middle\" x=\"1100.5\" y=\"-346.8\" font-family=\"roboto\" font-size=\"14.00\" fill=\"#eeeeee\"> gigagrams (CO2eq)</text>\n",
       "</g>\n",
       "<!-- TMP_CO2eq&#45;&gt;GE3_comp -->\n",
       "<g id=\"edge8\" class=\"edge\">\n",
       "<title>TMP_CO2eq&#45;&gt;GE3_comp</title>\n",
       "<path fill=\"none\" stroke=\"#a9a9a9\" d=\"M1091.5,-338.8096C1091.5,-338.8096 1091.5,-135.2931 1091.5,-135.2931\"/>\n",
       "<polygon fill=\"#a9a9a9\" stroke=\"#a9a9a9\" points=\"1095.0001,-135.2931 1091.5,-125.2931 1088.0001,-135.2931 1095.0001,-135.2931\"/>\n",
       "</g>\n",
       "<!-- TMP_CO2eq_comp -->\n",
       "<g id=\"node9\" class=\"node\">\n",
       "<title>TMP_CO2eq_comp</title>\n",
       "<polygon fill=\"none\" stroke=\"#a9a9a9\" points=\"1786,-464 1417,-464 1417,-428 1786,-428 1786,-464\"/>\n",
       "<text text-anchor=\"middle\" x=\"1601.5\" y=\"-442.3\" font-family=\"roboto\" font-size=\"14.00\" fill=\"#000000\">kg_to_Gg * N2ON_to_NO2 * GWPN2O * (M_LPi * EF_Li)</text>\n",
       "</g>\n",
       "<!-- TMP_CO2eq_comp&#45;&gt;TMP_CO2eq -->\n",
       "<g id=\"edge9\" class=\"edge\">\n",
       "<title>TMP_CO2eq_comp&#45;&gt;TMP_CO2eq</title>\n",
       "<path fill=\"none\" stroke=\"#a9a9a9\" d=\"M1416.8966,-440C1324.8201,-440 1232.8333,-440 1232.8333,-440 1232.8333,-440 1232.8333,-402.3962 1232.8333,-402.3962\"/>\n",
       "<polygon fill=\"#a9a9a9\" stroke=\"#a9a9a9\" points=\"1236.3334,-402.3962 1232.8333,-392.3962 1229.3334,-402.3962 1236.3334,-402.3962\"/>\n",
       "</g>\n",
       "<!-- FE_CO2eq -->\n",
       "<g id=\"node10\" class=\"node\">\n",
       "<title>FE_CO2eq</title>\n",
       "<polygon fill=\"#f4a261\" stroke=\"#eeeeee\" points=\"1399,-214 1120,-214 1120,-161 1399,-161 1399,-214\"/>\n",
       "<text text-anchor=\"middle\" x=\"1259.5\" y=\"-198.8\" font-family=\"roboto\" font-size=\"14.00\" fill=\"#eeeeee\">Emissions (CO2eq) (Synthetic fertilizers) </text>\n",
       "<text text-anchor=\"middle\" x=\"1259.5\" y=\"-183.8\" font-family=\"roboto\" font-size=\"14.00\" fill=\"#eeeeee\"> (FE_CO2eq) </text>\n",
       "<text text-anchor=\"middle\" x=\"1259.5\" y=\"-168.8\" font-family=\"roboto\" font-size=\"14.00\" fill=\"#eeeeee\"> gigagrams (CO2eq)</text>\n",
       "</g>\n",
       "<!-- FE_CO2eq&#45;&gt;GE3_comp -->\n",
       "<g id=\"edge10\" class=\"edge\">\n",
       "<title>FE_CO2eq&#45;&gt;GE3_comp</title>\n",
       "<path fill=\"none\" stroke=\"#a9a9a9\" d=\"M1259.5,-160.6947C1259.5,-160.6947 1259.5,-135.0658 1259.5,-135.0658\"/>\n",
       "<polygon fill=\"#a9a9a9\" stroke=\"#a9a9a9\" points=\"1263.0001,-135.0657 1259.5,-125.0658 1256.0001,-135.0658 1263.0001,-135.0657\"/>\n",
       "</g>\n",
       "<!-- FE_CO2eq_comp -->\n",
       "<g id=\"node11\" class=\"node\">\n",
       "<title>FE_CO2eq_comp</title>\n",
       "<polygon fill=\"none\" stroke=\"#a9a9a9\" points=\"1615.5,-294.5 1259.5,-294.5 1259.5,-258.5 1615.5,-258.5 1615.5,-294.5\"/>\n",
       "<text text-anchor=\"middle\" x=\"1437.5\" y=\"-272.8\" font-family=\"roboto\" font-size=\"14.00\" fill=\"#000000\">GWPN2O * N2ON_to_NO2 * kg_to_Gg * (EF_F * IN_F)</text>\n",
       "</g>\n",
       "<!-- FE_CO2eq_comp&#45;&gt;FE_CO2eq -->\n",
       "<g id=\"edge11\" class=\"edge\">\n",
       "<title>FE_CO2eq_comp&#45;&gt;FE_CO2eq</title>\n",
       "<path fill=\"none\" stroke=\"#a9a9a9\" d=\"M1329.25,-258.4895C1329.25,-258.4895 1329.25,-224.267 1329.25,-224.267\"/>\n",
       "<polygon fill=\"#a9a9a9\" stroke=\"#a9a9a9\" points=\"1332.7501,-224.267 1329.25,-214.267 1325.7501,-224.2671 1332.7501,-224.267\"/>\n",
       "</g>\n",
       "<!-- OEi -->\n",
       "<g id=\"node12\" class=\"node\">\n",
       "<title>OEi</title>\n",
       "<polygon fill=\"#e76f51\" stroke=\"#eeeeee\" points=\"1602,-214 1417,-214 1417,-161 1602,-161 1602,-214\"/>\n",
       "<text text-anchor=\"middle\" x=\"1509.5\" y=\"-198.8\" font-family=\"roboto\" font-size=\"14.00\" fill=\"#eeeeee\">Vector of other emissions </text>\n",
       "<text text-anchor=\"middle\" x=\"1509.5\" y=\"-183.8\" font-family=\"roboto\" font-size=\"14.00\" fill=\"#eeeeee\"> (OEi) </text>\n",
       "<text text-anchor=\"middle\" x=\"1509.5\" y=\"-168.8\" font-family=\"roboto\" font-size=\"14.00\" fill=\"#eeeeee\"> gigagrams (CO2eq)</text>\n",
       "</g>\n",
       "<!-- OEi&#45;&gt;GE3_comp -->\n",
       "<g id=\"edge12\" class=\"edge\">\n",
       "<title>OEi&#45;&gt;GE3_comp</title>\n",
       "<path fill=\"none\" stroke=\"#a9a9a9\" d=\"M1509.5,-160.6947C1509.5,-137.2772 1509.5,-107 1509.5,-107 1509.5,-107 1414.1463,-107 1414.1463,-107\"/>\n",
       "<polygon fill=\"#a9a9a9\" stroke=\"#a9a9a9\" points=\"1414.1463,-103.5001 1404.1463,-107 1414.1463,-110.5001 1414.1463,-103.5001\"/>\n",
       "</g>\n",
       "<!-- GE3 -->\n",
       "<g id=\"node13\" class=\"node\">\n",
       "<title>GE3</title>\n",
       "<polygon fill=\"#2a9d8f\" stroke=\"#eeeeee\" points=\"1179,-53 808,-53 808,0 1179,0 1179,-53\"/>\n",
       "<text text-anchor=\"middle\" x=\"993.5\" y=\"-37.8\" font-family=\"roboto\" font-size=\"14.00\" fill=\"#eeeeee\">Ratio of non&#45;CO2 emissions in agriculture to population </text>\n",
       "<text text-anchor=\"middle\" x=\"993.5\" y=\"-22.8\" font-family=\"roboto\" font-size=\"14.00\" fill=\"#eeeeee\"> (GE3) </text>\n",
       "<text text-anchor=\"middle\" x=\"993.5\" y=\"-7.8\" font-family=\"roboto\" font-size=\"14.00\" fill=\"#eeeeee\"> gigagrams (CO2eq) / capita</text>\n",
       "</g>\n",
       "<!-- GE3_comp&#45;&gt;GE3 -->\n",
       "<g id=\"edge13\" class=\"edge\">\n",
       "<title>GE3_comp&#45;&gt;GE3</title>\n",
       "<path fill=\"none\" stroke=\"#a9a9a9\" d=\"M993.5,-88.7333C993.5,-88.7333 993.5,-63.2477 993.5,-63.2477\"/>\n",
       "<polygon fill=\"#a9a9a9\" stroke=\"#a9a9a9\" points=\"997.0001,-63.2476 993.5,-53.2477 990.0001,-63.2477 997.0001,-63.2476\"/>\n",
       "</g>\n",
       "<!-- EF_EEi -->\n",
       "<g id=\"node15\" class=\"node\">\n",
       "<title>EF_EEi</title>\n",
       "<polygon fill=\"#e76f51\" stroke=\"#eeeeee\" points=\"283,-892 0,-892 0,-839 283,-839 283,-892\"/>\n",
       "<text text-anchor=\"middle\" x=\"141.5\" y=\"-876.8\" font-family=\"roboto\" font-size=\"14.00\" fill=\"#eeeeee\">Implied emission factor for CH4 (Enteric) </text>\n",
       "<text text-anchor=\"middle\" x=\"141.5\" y=\"-861.8\" font-family=\"roboto\" font-size=\"14.00\" fill=\"#eeeeee\"> (EF_EEi) </text>\n",
       "<text text-anchor=\"middle\" x=\"141.5\" y=\"-846.8\" font-family=\"roboto\" font-size=\"14.00\" fill=\"#eeeeee\"> kg CH4 / head</text>\n",
       "</g>\n",
       "<!-- EF_EEi&#45;&gt;TEE_CO2eq_comp -->\n",
       "<g id=\"edge14\" class=\"edge\">\n",
       "<title>EF_EEi&#45;&gt;TEE_CO2eq_comp</title>\n",
       "<path fill=\"none\" stroke=\"#a9a9a9\" d=\"M176,-838.6947C176,-838.6947 176,-813.0658 176,-813.0658\"/>\n",
       "<polygon fill=\"#a9a9a9\" stroke=\"#a9a9a9\" points=\"179.5001,-813.0657 176,-803.0658 172.5001,-813.0658 179.5001,-813.0657\"/>\n",
       "</g>\n",
       "<!-- TAi -->\n",
       "<g id=\"node16\" class=\"node\">\n",
       "<title>TAi</title>\n",
       "<polygon fill=\"#e76f51\" stroke=\"#eeeeee\" points=\"863.5,-892 693.5,-892 693.5,-839 863.5,-839 863.5,-892\"/>\n",
       "<text text-anchor=\"middle\" x=\"778.5\" y=\"-876.8\" font-family=\"roboto\" font-size=\"14.00\" fill=\"#eeeeee\">Total animal population </text>\n",
       "<text text-anchor=\"middle\" x=\"778.5\" y=\"-861.8\" font-family=\"roboto\" font-size=\"14.00\" fill=\"#eeeeee\"> (TAi) </text>\n",
       "<text text-anchor=\"middle\" x=\"778.5\" y=\"-846.8\" font-family=\"roboto\" font-size=\"14.00\" fill=\"#eeeeee\"> head</text>\n",
       "</g>\n",
       "<!-- TAi&#45;&gt;TEE_CO2eq_comp -->\n",
       "<g id=\"edge15\" class=\"edge\">\n",
       "<title>TAi&#45;&gt;TEE_CO2eq_comp</title>\n",
       "<path fill=\"none\" stroke=\"#a9a9a9\" d=\"M699.1667,-838.8434C699.1667,-829.3662 699.1667,-821 699.1667,-821 699.1667,-821 310.75,-821 310.75,-821 310.75,-821 310.75,-813.4218 310.75,-813.4218\"/>\n",
       "<polygon fill=\"#a9a9a9\" stroke=\"#a9a9a9\" points=\"314.2501,-813.4218 310.75,-803.4218 307.2501,-813.4219 314.2501,-813.4218\"/>\n",
       "</g>\n",
       "<!-- E_TCH4i_comp -->\n",
       "<g id=\"node27\" class=\"node\">\n",
       "<title>E_TCH4i_comp</title>\n",
       "<polygon fill=\"none\" stroke=\"#a9a9a9\" points=\"587,-803 390,-803 390,-767 587,-767 587,-803\"/>\n",
       "<text text-anchor=\"middle\" x=\"488.5\" y=\"-781.3\" font-family=\"roboto\" font-size=\"14.00\" fill=\"#000000\">kg_to_Gg * (EF_CH4Ti * TAi)</text>\n",
       "</g>\n",
       "<!-- TAi&#45;&gt;E_TCH4i_comp -->\n",
       "<g id=\"edge16\" class=\"edge\">\n",
       "<title>TAi&#45;&gt;E_TCH4i_comp</title>\n",
       "<path fill=\"none\" stroke=\"#a9a9a9\" d=\"M704.8333,-838.6038C704.8333,-817.2642 704.8333,-791 704.8333,-791 704.8333,-791 597.1707,-791 597.1707,-791\"/>\n",
       "<polygon fill=\"#a9a9a9\" stroke=\"#a9a9a9\" points=\"597.1707,-787.5001 587.1707,-791 597.1707,-794.5001 597.1707,-787.5001\"/>\n",
       "</g>\n",
       "<!-- TMi_comp -->\n",
       "<g id=\"node34\" class=\"node\">\n",
       "<title>TMi_comp</title>\n",
       "<polygon fill=\"none\" stroke=\"#a9a9a9\" points=\"1035,-803 960,-803 960,-767 1035,-767 1035,-803\"/>\n",
       "<text text-anchor=\"middle\" x=\"997.5\" y=\"-781.3\" font-family=\"roboto\" font-size=\"14.00\" fill=\"#000000\">TAi * MYi</text>\n",
       "</g>\n",
       "<!-- TAi&#45;&gt;TMi_comp -->\n",
       "<g id=\"edge17\" class=\"edge\">\n",
       "<title>TAi&#45;&gt;TMi_comp</title>\n",
       "<path fill=\"none\" stroke=\"#a9a9a9\" d=\"M853.25,-838.605C853.25,-813.2127 853.25,-779 853.25,-779 853.25,-779 949.9766,-779 949.9766,-779\"/>\n",
       "<polygon fill=\"#a9a9a9\" stroke=\"#a9a9a9\" points=\"949.9766,-782.5001 959.9766,-779 949.9765,-775.5001 949.9766,-782.5001\"/>\n",
       "</g>\n",
       "<!-- M_ASi -->\n",
       "<g id=\"node17\" class=\"node\">\n",
       "<title>M_ASi</title>\n",
       "<polygon fill=\"#f4a261\" stroke=\"#eeeeee\" points=\"1464,-553 1219,-553 1219,-500 1464,-500 1464,-553\"/>\n",
       "<text text-anchor=\"middle\" x=\"1341.5\" y=\"-537.8\" font-family=\"roboto\" font-size=\"14.00\" fill=\"#eeeeee\">Manure applied to soils (N content) </text>\n",
       "<text text-anchor=\"middle\" x=\"1341.5\" y=\"-522.8\" font-family=\"roboto\" font-size=\"14.00\" fill=\"#eeeeee\"> (M_ASi) </text>\n",
       "<text text-anchor=\"middle\" x=\"1341.5\" y=\"-507.8\" font-family=\"roboto\" font-size=\"14.00\" fill=\"#eeeeee\"> kgN</text>\n",
       "</g>\n",
       "<!-- M_ASi&#45;&gt;TMA_CO2eq_comp -->\n",
       "<g id=\"edge18\" class=\"edge\">\n",
       "<title>M_ASi&#45;&gt;TMA_CO2eq_comp</title>\n",
       "<path fill=\"none\" stroke=\"#a9a9a9\" d=\"M1227.1667,-499.6038C1227.1667,-478.2642 1227.1667,-452 1227.1667,-452 1227.1667,-452 1226.6022,-452 1226.6022,-452\"/>\n",
       "<polygon fill=\"#a9a9a9\" stroke=\"#a9a9a9\" points=\"1231.5218,-448.5002 1221.5218,-452 1231.5217,-455.5002 1231.5218,-448.5002\"/>\n",
       "</g>\n",
       "<!-- M_ASi_comp -->\n",
       "<g id=\"node18\" class=\"node\">\n",
       "<title>M_ASi_comp</title>\n",
       "<polygon fill=\"none\" stroke=\"#a9a9a9\" points=\"1367.5,-633.5 1259.5,-633.5 1259.5,-597.5 1367.5,-597.5 1367.5,-633.5\"/>\n",
       "<text text-anchor=\"middle\" x=\"1313.5\" y=\"-611.8\" font-family=\"roboto\" font-size=\"14.00\" fill=\"#000000\">MM_ASi * TMi</text>\n",
       "</g>\n",
       "<!-- M_ASi_comp&#45;&gt;M_ASi -->\n",
       "<g id=\"edge19\" class=\"edge\">\n",
       "<title>M_ASi_comp&#45;&gt;M_ASi</title>\n",
       "<path fill=\"none\" stroke=\"#a9a9a9\" d=\"M1313.5,-597.4895C1313.5,-597.4895 1313.5,-563.267 1313.5,-563.267\"/>\n",
       "<polygon fill=\"#a9a9a9\" stroke=\"#a9a9a9\" points=\"1317.0001,-563.267 1313.5,-553.267 1310.0001,-563.2671 1317.0001,-563.267\"/>\n",
       "</g>\n",
       "<!-- EF_ASi -->\n",
       "<g id=\"node19\" class=\"node\">\n",
       "<title>EF_ASi</title>\n",
       "<polygon fill=\"#e9c46a\" stroke=\"#eeeeee\" points=\"1200.5,-553 862.5,-553 862.5,-500 1200.5,-500 1200.5,-553\"/>\n",
       "<text text-anchor=\"middle\" x=\"1031.5\" y=\"-537.8\" font-family=\"roboto\" font-size=\"14.00\" fill=\"#eeeeee\">Implied emission factor for N2O (Manure applied) </text>\n",
       "<text text-anchor=\"middle\" x=\"1031.5\" y=\"-522.8\" font-family=\"roboto\" font-size=\"14.00\" fill=\"#eeeeee\"> (EF_ASi) </text>\n",
       "<text text-anchor=\"middle\" x=\"1031.5\" y=\"-507.8\" font-family=\"roboto\" font-size=\"14.00\" fill=\"#eeeeee\"> kg N2O&#45;N/kg N</text>\n",
       "</g>\n",
       "<!-- EF_ASi&#45;&gt;TMA_CO2eq_comp -->\n",
       "<g id=\"edge20\" class=\"edge\">\n",
       "<title>EF_ASi&#45;&gt;TMA_CO2eq_comp</title>\n",
       "<path fill=\"none\" stroke=\"#a9a9a9\" d=\"M1031.5,-499.6947C1031.5,-499.6947 1031.5,-474.0658 1031.5,-474.0658\"/>\n",
       "<polygon fill=\"#a9a9a9\" stroke=\"#a9a9a9\" points=\"1035.0001,-474.0657 1031.5,-464.0658 1028.0001,-474.0658 1035.0001,-474.0657\"/>\n",
       "</g>\n",
       "<!-- M_Ti -->\n",
       "<g id=\"node20\" class=\"node\">\n",
       "<title>M_Ti</title>\n",
       "<polygon fill=\"#f4a261\" stroke=\"#eeeeee\" points=\"844,-553 653,-553 653,-500 844,-500 844,-553\"/>\n",
       "<text text-anchor=\"middle\" x=\"748.5\" y=\"-537.8\" font-family=\"roboto\" font-size=\"14.00\" fill=\"#eeeeee\">Manure treated (N content) </text>\n",
       "<text text-anchor=\"middle\" x=\"748.5\" y=\"-522.8\" font-family=\"roboto\" font-size=\"14.00\" fill=\"#eeeeee\"> (M_Ti) </text>\n",
       "<text text-anchor=\"middle\" x=\"748.5\" y=\"-507.8\" font-family=\"roboto\" font-size=\"14.00\" fill=\"#eeeeee\"> kgN</text>\n",
       "</g>\n",
       "<!-- E_Ti_comp -->\n",
       "<g id=\"node25\" class=\"node\">\n",
       "<title>E_Ti_comp</title>\n",
       "<polygon fill=\"none\" stroke=\"#a9a9a9\" points=\"764.5,-464 476.5,-464 476.5,-428 764.5,-428 764.5,-464\"/>\n",
       "<text text-anchor=\"middle\" x=\"620.5\" y=\"-442.3\" font-family=\"roboto\" font-size=\"14.00\" fill=\"#000000\">N2ON_to_NO2 * kg_to_Gg * (EF_Ti * M_Ti)</text>\n",
       "</g>\n",
       "<!-- M_Ti&#45;&gt;E_Ti_comp -->\n",
       "<g id=\"edge21\" class=\"edge\">\n",
       "<title>M_Ti&#45;&gt;E_Ti_comp</title>\n",
       "<path fill=\"none\" stroke=\"#a9a9a9\" d=\"M708.75,-499.6947C708.75,-499.6947 708.75,-474.0658 708.75,-474.0658\"/>\n",
       "<polygon fill=\"#a9a9a9\" stroke=\"#a9a9a9\" points=\"712.2501,-474.0657 708.75,-464.0658 705.2501,-474.0658 712.2501,-474.0657\"/>\n",
       "</g>\n",
       "<!-- M_Ti_comp -->\n",
       "<g id=\"node21\" class=\"node\">\n",
       "<title>M_Ti_comp</title>\n",
       "<polygon fill=\"none\" stroke=\"#a9a9a9\" points=\"825,-633.5 726,-633.5 726,-597.5 825,-597.5 825,-633.5\"/>\n",
       "<text text-anchor=\"middle\" x=\"775.5\" y=\"-611.8\" font-family=\"roboto\" font-size=\"14.00\" fill=\"#000000\">MM_Ti * TMi</text>\n",
       "</g>\n",
       "<!-- M_Ti_comp&#45;&gt;M_Ti -->\n",
       "<g id=\"edge22\" class=\"edge\">\n",
       "<title>M_Ti_comp&#45;&gt;M_Ti</title>\n",
       "<path fill=\"none\" stroke=\"#a9a9a9\" d=\"M775.5,-597.4895C775.5,-597.4895 775.5,-563.267 775.5,-563.267\"/>\n",
       "<polygon fill=\"#a9a9a9\" stroke=\"#a9a9a9\" points=\"779.0001,-563.267 775.5,-553.267 772.0001,-563.2671 779.0001,-563.267\"/>\n",
       "</g>\n",
       "<!-- EF_Ti -->\n",
       "<g id=\"node22\" class=\"node\">\n",
       "<title>EF_Ti</title>\n",
       "<polygon fill=\"#e9c46a\" stroke=\"#eeeeee\" points=\"634.5,-553 260.5,-553 260.5,-500 634.5,-500 634.5,-553\"/>\n",
       "<text text-anchor=\"middle\" x=\"447.5\" y=\"-537.8\" font-family=\"roboto\" font-size=\"14.00\" fill=\"#eeeeee\">Implied emission factor for N2O (Manure management) </text>\n",
       "<text text-anchor=\"middle\" x=\"447.5\" y=\"-522.8\" font-family=\"roboto\" font-size=\"14.00\" fill=\"#eeeeee\"> (EF_Ti) </text>\n",
       "<text text-anchor=\"middle\" x=\"447.5\" y=\"-507.8\" font-family=\"roboto\" font-size=\"14.00\" fill=\"#eeeeee\"> kg N2O&#45;N/kg N</text>\n",
       "</g>\n",
       "<!-- EF_Ti&#45;&gt;E_Ti_comp -->\n",
       "<g id=\"edge23\" class=\"edge\">\n",
       "<title>EF_Ti&#45;&gt;E_Ti_comp</title>\n",
       "<path fill=\"none\" stroke=\"#a9a9a9\" d=\"M555.5,-499.6947C555.5,-499.6947 555.5,-474.0658 555.5,-474.0658\"/>\n",
       "<polygon fill=\"#a9a9a9\" stroke=\"#a9a9a9\" points=\"559.0001,-474.0657 555.5,-464.0658 552.0001,-474.0658 559.0001,-474.0657\"/>\n",
       "</g>\n",
       "<!-- EF_CH4Ti -->\n",
       "<g id=\"node23\" class=\"node\">\n",
       "<title>EF_CH4Ti</title>\n",
       "<polygon fill=\"#e9c46a\" stroke=\"#eeeeee\" points=\"675.5,-892 301.5,-892 301.5,-839 675.5,-839 675.5,-892\"/>\n",
       "<text text-anchor=\"middle\" x=\"488.5\" y=\"-876.8\" font-family=\"roboto\" font-size=\"14.00\" fill=\"#eeeeee\">Implied emission factor for CH4 (Manure management) </text>\n",
       "<text text-anchor=\"middle\" x=\"488.5\" y=\"-861.8\" font-family=\"roboto\" font-size=\"14.00\" fill=\"#eeeeee\"> (EF_CH4Ti) </text>\n",
       "<text text-anchor=\"middle\" x=\"488.5\" y=\"-846.8\" font-family=\"roboto\" font-size=\"14.00\" fill=\"#eeeeee\"> kg/head</text>\n",
       "</g>\n",
       "<!-- EF_CH4Ti&#45;&gt;E_TCH4i_comp -->\n",
       "<g id=\"edge24\" class=\"edge\">\n",
       "<title>EF_CH4Ti&#45;&gt;E_TCH4i_comp</title>\n",
       "<path fill=\"none\" stroke=\"#a9a9a9\" d=\"M488.5,-838.6947C488.5,-838.6947 488.5,-813.0658 488.5,-813.0658\"/>\n",
       "<polygon fill=\"#a9a9a9\" stroke=\"#a9a9a9\" points=\"492.0001,-813.0657 488.5,-803.0658 485.0001,-813.0658 492.0001,-813.0657\"/>\n",
       "</g>\n",
       "<!-- E_Ti -->\n",
       "<g id=\"node24\" class=\"node\">\n",
       "<title>E_Ti</title>\n",
       "<polygon fill=\"#f4a261\" stroke=\"#eeeeee\" points=\"759.5,-392 481.5,-392 481.5,-339 759.5,-339 759.5,-392\"/>\n",
       "<text text-anchor=\"middle\" x=\"620.5\" y=\"-376.8\" font-family=\"roboto\" font-size=\"14.00\" fill=\"#eeeeee\">Emissions (N2O) (Manure management) </text>\n",
       "<text text-anchor=\"middle\" x=\"620.5\" y=\"-361.8\" font-family=\"roboto\" font-size=\"14.00\" fill=\"#eeeeee\"> (E_Ti) </text>\n",
       "<text text-anchor=\"middle\" x=\"620.5\" y=\"-346.8\" font-family=\"roboto\" font-size=\"14.00\" fill=\"#eeeeee\"> gigagrams</text>\n",
       "</g>\n",
       "<!-- E_Ti&#45;&gt;TMT_CO2eq_comp -->\n",
       "<g id=\"edge25\" class=\"edge\">\n",
       "<title>E_Ti&#45;&gt;TMT_CO2eq_comp</title>\n",
       "<path fill=\"none\" stroke=\"#a9a9a9\" d=\"M663.8333,-338.7971C663.8333,-338.7971 663.8333,-304.7236 663.8333,-304.7236\"/>\n",
       "<polygon fill=\"#a9a9a9\" stroke=\"#a9a9a9\" points=\"667.3334,-304.7235 663.8333,-294.7236 660.3334,-304.7236 667.3334,-304.7235\"/>\n",
       "</g>\n",
       "<!-- E_Ti_comp&#45;&gt;E_Ti -->\n",
       "<g id=\"edge26\" class=\"edge\">\n",
       "<title>E_Ti_comp&#45;&gt;E_Ti</title>\n",
       "<path fill=\"none\" stroke=\"#a9a9a9\" d=\"M620.5,-427.7333C620.5,-427.7333 620.5,-402.2477 620.5,-402.2477\"/>\n",
       "<polygon fill=\"#a9a9a9\" stroke=\"#a9a9a9\" points=\"624.0001,-402.2476 620.5,-392.2477 617.0001,-402.2477 624.0001,-402.2476\"/>\n",
       "</g>\n",
       "<!-- E_TCH4i -->\n",
       "<g id=\"node26\" class=\"node\">\n",
       "<title>E_TCH4i</title>\n",
       "<polygon fill=\"#f4a261\" stroke=\"#eeeeee\" points=\"545.5,-642 267.5,-642 267.5,-589 545.5,-589 545.5,-642\"/>\n",
       "<text text-anchor=\"middle\" x=\"406.5\" y=\"-626.8\" font-family=\"roboto\" font-size=\"14.00\" fill=\"#eeeeee\">Emissions (CH4) (Manure management) </text>\n",
       "<text text-anchor=\"middle\" x=\"406.5\" y=\"-611.8\" font-family=\"roboto\" font-size=\"14.00\" fill=\"#eeeeee\"> (E_TCH4i) </text>\n",
       "<text text-anchor=\"middle\" x=\"406.5\" y=\"-596.8\" font-family=\"roboto\" font-size=\"14.00\" fill=\"#eeeeee\"> gigagrams</text>\n",
       "</g>\n",
       "<!-- E_TCH4i&#45;&gt;TMT_CO2eq_comp -->\n",
       "<g id=\"edge27\" class=\"edge\">\n",
       "<title>E_TCH4i&#45;&gt;TMT_CO2eq_comp</title>\n",
       "<path fill=\"none\" stroke=\"#a9a9a9\" d=\"M267.1709,-615C242.4963,-615 224.5,-615 224.5,-615 224.5,-615 224.5,-321 224.5,-321 224.5,-321 577.1667,-321 577.1667,-321 577.1667,-321 577.1667,-304.5999 577.1667,-304.5999\"/>\n",
       "<polygon fill=\"#a9a9a9\" stroke=\"#a9a9a9\" points=\"580.6668,-304.5998 577.1667,-294.5999 573.6668,-304.5999 580.6668,-304.5998\"/>\n",
       "</g>\n",
       "<!-- E_TCH4i_comp&#45;&gt;E_TCH4i -->\n",
       "<g id=\"edge28\" class=\"edge\">\n",
       "<title>E_TCH4i_comp&#45;&gt;E_TCH4i</title>\n",
       "<path fill=\"none\" stroke=\"#a9a9a9\" d=\"M467.75,-766.8605C467.75,-766.8605 467.75,-652.095 467.75,-652.095\"/>\n",
       "<polygon fill=\"#a9a9a9\" stroke=\"#a9a9a9\" points=\"471.2501,-652.095 467.75,-642.095 464.2501,-652.0951 471.2501,-652.095\"/>\n",
       "</g>\n",
       "<!-- M_LPi -->\n",
       "<g id=\"node28\" class=\"node\">\n",
       "<title>M_LPi</title>\n",
       "<polygon fill=\"#f4a261\" stroke=\"#eeeeee\" points=\"1721,-553 1482,-553 1482,-500 1721,-500 1721,-553\"/>\n",
       "<text text-anchor=\"middle\" x=\"1601.5\" y=\"-537.8\" font-family=\"roboto\" font-size=\"14.00\" fill=\"#eeeeee\">Manure left on pasture (N content) </text>\n",
       "<text text-anchor=\"middle\" x=\"1601.5\" y=\"-522.8\" font-family=\"roboto\" font-size=\"14.00\" fill=\"#eeeeee\"> (M_LPi) </text>\n",
       "<text text-anchor=\"middle\" x=\"1601.5\" y=\"-507.8\" font-family=\"roboto\" font-size=\"14.00\" fill=\"#eeeeee\"> kg</text>\n",
       "</g>\n",
       "<!-- M_LPi&#45;&gt;TMP_CO2eq_comp -->\n",
       "<g id=\"edge29\" class=\"edge\">\n",
       "<title>M_LPi&#45;&gt;TMP_CO2eq_comp</title>\n",
       "<path fill=\"none\" stroke=\"#a9a9a9\" d=\"M1601.5,-499.6947C1601.5,-499.6947 1601.5,-474.0658 1601.5,-474.0658\"/>\n",
       "<polygon fill=\"#a9a9a9\" stroke=\"#a9a9a9\" points=\"1605.0001,-474.0657 1601.5,-464.0658 1598.0001,-474.0658 1605.0001,-474.0657\"/>\n",
       "</g>\n",
       "<!-- M_LPi_comp -->\n",
       "<g id=\"node29\" class=\"node\">\n",
       "<title>M_LPi_comp</title>\n",
       "<polygon fill=\"none\" stroke=\"#a9a9a9\" points=\"1624,-633.5 1517,-633.5 1517,-597.5 1624,-597.5 1624,-633.5\"/>\n",
       "<text text-anchor=\"middle\" x=\"1570.5\" y=\"-611.8\" font-family=\"roboto\" font-size=\"14.00\" fill=\"#000000\">MM_LPi * TMi</text>\n",
       "</g>\n",
       "<!-- M_LPi_comp&#45;&gt;M_LPi -->\n",
       "<g id=\"edge30\" class=\"edge\">\n",
       "<title>M_LPi_comp&#45;&gt;M_LPi</title>\n",
       "<path fill=\"none\" stroke=\"#a9a9a9\" d=\"M1570.5,-597.4895C1570.5,-597.4895 1570.5,-563.267 1570.5,-563.267\"/>\n",
       "<polygon fill=\"#a9a9a9\" stroke=\"#a9a9a9\" points=\"1574.0001,-563.267 1570.5,-553.267 1567.0001,-563.2671 1574.0001,-563.267\"/>\n",
       "</g>\n",
       "<!-- EF_Li -->\n",
       "<g id=\"node30\" class=\"node\">\n",
       "<title>EF_Li</title>\n",
       "<polygon fill=\"#e9c46a\" stroke=\"#eeeeee\" points=\"2097.5,-553 1739.5,-553 1739.5,-500 2097.5,-500 2097.5,-553\"/>\n",
       "<text text-anchor=\"middle\" x=\"1918.5\" y=\"-537.8\" font-family=\"roboto\" font-size=\"14.00\" fill=\"#eeeeee\">Implied emission factor for N2O (Manure on pasture) </text>\n",
       "<text text-anchor=\"middle\" x=\"1918.5\" y=\"-522.8\" font-family=\"roboto\" font-size=\"14.00\" fill=\"#eeeeee\"> (EF_Li) </text>\n",
       "<text text-anchor=\"middle\" x=\"1918.5\" y=\"-507.8\" font-family=\"roboto\" font-size=\"14.00\" fill=\"#eeeeee\"> kg N2O&#45;N/kg N</text>\n",
       "</g>\n",
       "<!-- EF_Li&#45;&gt;TMP_CO2eq_comp -->\n",
       "<g id=\"edge31\" class=\"edge\">\n",
       "<title>EF_Li&#45;&gt;TMP_CO2eq_comp</title>\n",
       "<path fill=\"none\" stroke=\"#a9a9a9\" d=\"M1762.75,-499.6947C1762.75,-499.6947 1762.75,-474.0658 1762.75,-474.0658\"/>\n",
       "<polygon fill=\"#a9a9a9\" stroke=\"#a9a9a9\" points=\"1766.2501,-474.0657 1762.75,-464.0658 1759.2501,-474.0658 1766.2501,-474.0657\"/>\n",
       "</g>\n",
       "<!-- IN_F -->\n",
       "<g id=\"node31\" class=\"node\">\n",
       "<title>IN_F</title>\n",
       "<polygon fill=\"#e76f51\" stroke=\"#eeeeee\" points=\"1829.5,-392 1635.5,-392 1635.5,-339 1829.5,-339 1829.5,-392\"/>\n",
       "<text text-anchor=\"middle\" x=\"1732.5\" y=\"-376.8\" font-family=\"roboto\" font-size=\"14.00\" fill=\"#eeeeee\">Agricultural Use in nutrients </text>\n",
       "<text text-anchor=\"middle\" x=\"1732.5\" y=\"-361.8\" font-family=\"roboto\" font-size=\"14.00\" fill=\"#eeeeee\"> (IN_F) </text>\n",
       "<text text-anchor=\"middle\" x=\"1732.5\" y=\"-346.8\" font-family=\"roboto\" font-size=\"14.00\" fill=\"#eeeeee\"> kg</text>\n",
       "</g>\n",
       "<!-- IN_F&#45;&gt;FE_CO2eq_comp -->\n",
       "<g id=\"edge32\" class=\"edge\">\n",
       "<title>IN_F&#45;&gt;FE_CO2eq_comp</title>\n",
       "<path fill=\"none\" stroke=\"#a9a9a9\" d=\"M1732.5,-338.647C1732.5,-312.2843 1732.5,-276 1732.5,-276 1732.5,-276 1625.9082,-276 1625.9082,-276\"/>\n",
       "<polygon fill=\"#a9a9a9\" stroke=\"#a9a9a9\" points=\"1625.9082,-272.5001 1615.9082,-276 1625.9082,-279.5001 1625.9082,-272.5001\"/>\n",
       "</g>\n",
       "<!-- EF_F -->\n",
       "<g id=\"node32\" class=\"node\">\n",
       "<title>EF_F</title>\n",
       "<polygon fill=\"#e9c46a\" stroke=\"#eeeeee\" points=\"1618,-392 1257,-392 1257,-339 1618,-339 1618,-392\"/>\n",
       "<text text-anchor=\"middle\" x=\"1437.5\" y=\"-376.8\" font-family=\"roboto\" font-size=\"14.00\" fill=\"#eeeeee\">Implied emission factor for N2O (Synthetic fertilizers) </text>\n",
       "<text text-anchor=\"middle\" x=\"1437.5\" y=\"-361.8\" font-family=\"roboto\" font-size=\"14.00\" fill=\"#eeeeee\"> (EF_F) </text>\n",
       "<text text-anchor=\"middle\" x=\"1437.5\" y=\"-346.8\" font-family=\"roboto\" font-size=\"14.00\" fill=\"#eeeeee\"> kg N2O&#45;N/kg N</text>\n",
       "</g>\n",
       "<!-- EF_F&#45;&gt;FE_CO2eq_comp -->\n",
       "<g id=\"edge33\" class=\"edge\">\n",
       "<title>EF_F&#45;&gt;FE_CO2eq_comp</title>\n",
       "<path fill=\"none\" stroke=\"#a9a9a9\" d=\"M1437.5,-338.7971C1437.5,-338.7971 1437.5,-304.7236 1437.5,-304.7236\"/>\n",
       "<polygon fill=\"#a9a9a9\" stroke=\"#a9a9a9\" points=\"1441.0001,-304.7235 1437.5,-294.7236 1434.0001,-304.7236 1441.0001,-304.7235\"/>\n",
       "</g>\n",
       "<!-- TMi -->\n",
       "<g id=\"node33\" class=\"node\">\n",
       "<title>TMi</title>\n",
       "<polygon fill=\"#f4a261\" stroke=\"#eeeeee\" points=\"1148,-731 969,-731 969,-678 1148,-678 1148,-731\"/>\n",
       "<text text-anchor=\"middle\" x=\"1058.5\" y=\"-715.8\" font-family=\"roboto\" font-size=\"14.00\" fill=\"#eeeeee\">Total Manure (N content) </text>\n",
       "<text text-anchor=\"middle\" x=\"1058.5\" y=\"-700.8\" font-family=\"roboto\" font-size=\"14.00\" fill=\"#eeeeee\"> (TMi) </text>\n",
       "<text text-anchor=\"middle\" x=\"1058.5\" y=\"-685.8\" font-family=\"roboto\" font-size=\"14.00\" fill=\"#eeeeee\"> kgN</text>\n",
       "</g>\n",
       "<!-- TMi&#45;&gt;M_ASi_comp -->\n",
       "<g id=\"edge34\" class=\"edge\">\n",
       "<title>TMi&#45;&gt;M_ASi_comp</title>\n",
       "<path fill=\"none\" stroke=\"#a9a9a9\" d=\"M1103.25,-677.8979C1103.25,-649.6403 1103.25,-609 1103.25,-609 1103.25,-609 1249.3554,-609 1249.3554,-609\"/>\n",
       "<polygon fill=\"#a9a9a9\" stroke=\"#a9a9a9\" points=\"1249.3554,-612.5001 1259.3554,-609 1249.3554,-605.5001 1249.3554,-612.5001\"/>\n",
       "</g>\n",
       "<!-- TMi&#45;&gt;M_Ti_comp -->\n",
       "<g id=\"edge35\" class=\"edge\">\n",
       "<title>TMi&#45;&gt;M_Ti_comp</title>\n",
       "<path fill=\"none\" stroke=\"#a9a9a9\" d=\"M1058.5,-677.6205C1058.5,-653.2107 1058.5,-621 1058.5,-621 1058.5,-621 835.1187,-621 835.1187,-621\"/>\n",
       "<polygon fill=\"#a9a9a9\" stroke=\"#a9a9a9\" points=\"835.1187,-617.5001 825.1187,-621 835.1186,-624.5001 835.1187,-617.5001\"/>\n",
       "</g>\n",
       "<!-- TMi&#45;&gt;M_LPi_comp -->\n",
       "<g id=\"edge36\" class=\"edge\">\n",
       "<title>TMi&#45;&gt;M_LPi_comp</title>\n",
       "<path fill=\"none\" stroke=\"#a9a9a9\" d=\"M1013.75,-677.8434C1013.75,-668.3662 1013.75,-660 1013.75,-660 1013.75,-660 1552.6667,-660 1552.6667,-660 1552.6667,-660 1552.6667,-643.5999 1552.6667,-643.5999\"/>\n",
       "<polygon fill=\"#a9a9a9\" stroke=\"#a9a9a9\" points=\"1556.1668,-643.5998 1552.6667,-633.5999 1549.1668,-643.5999 1556.1668,-643.5998\"/>\n",
       "</g>\n",
       "<!-- TMi_comp&#45;&gt;TMi -->\n",
       "<g id=\"edge37\" class=\"edge\">\n",
       "<title>TMi_comp&#45;&gt;TMi</title>\n",
       "<path fill=\"none\" stroke=\"#a9a9a9\" d=\"M1002,-766.7333C1002,-766.7333 1002,-741.2477 1002,-741.2477\"/>\n",
       "<polygon fill=\"#a9a9a9\" stroke=\"#a9a9a9\" points=\"1005.5001,-741.2476 1002,-731.2477 998.5001,-741.2477 1005.5001,-741.2476\"/>\n",
       "</g>\n",
       "<!-- MM_ASi -->\n",
       "<g id=\"node35\" class=\"node\">\n",
       "<title>MM_ASi</title>\n",
       "<polygon fill=\"#e76f51\" stroke=\"#eeeeee\" points=\"1405.5,-731 1221.5,-731 1221.5,-678 1405.5,-678 1405.5,-731\"/>\n",
       "<text text-anchor=\"middle\" x=\"1313.5\" y=\"-715.8\" font-family=\"roboto\" font-size=\"14.00\" fill=\"#eeeeee\">% Manure applied to soils </text>\n",
       "<text text-anchor=\"middle\" x=\"1313.5\" y=\"-700.8\" font-family=\"roboto\" font-size=\"14.00\" fill=\"#eeeeee\"> (MM_ASi) </text>\n",
       "<text text-anchor=\"middle\" x=\"1313.5\" y=\"-685.8\" font-family=\"roboto\" font-size=\"14.00\" fill=\"#eeeeee\"> 1</text>\n",
       "</g>\n",
       "<!-- MM_ASi&#45;&gt;M_ASi_comp -->\n",
       "<g id=\"edge38\" class=\"edge\">\n",
       "<title>MM_ASi&#45;&gt;M_ASi_comp</title>\n",
       "<path fill=\"none\" stroke=\"#a9a9a9\" d=\"M1313.5,-677.7971C1313.5,-677.7971 1313.5,-643.7236 1313.5,-643.7236\"/>\n",
       "<polygon fill=\"#a9a9a9\" stroke=\"#a9a9a9\" points=\"1317.0001,-643.7235 1313.5,-633.7236 1310.0001,-643.7236 1317.0001,-643.7235\"/>\n",
       "</g>\n",
       "<!-- MM_LPi -->\n",
       "<g id=\"node36\" class=\"node\">\n",
       "<title>MM_LPi</title>\n",
       "<polygon fill=\"#e76f51\" stroke=\"#eeeeee\" points=\"1659,-731 1482,-731 1482,-678 1659,-678 1659,-731\"/>\n",
       "<text text-anchor=\"middle\" x=\"1570.5\" y=\"-715.8\" font-family=\"roboto\" font-size=\"14.00\" fill=\"#eeeeee\">% Manure left on pasture </text>\n",
       "<text text-anchor=\"middle\" x=\"1570.5\" y=\"-700.8\" font-family=\"roboto\" font-size=\"14.00\" fill=\"#eeeeee\"> (MM_LPi) </text>\n",
       "<text text-anchor=\"middle\" x=\"1570.5\" y=\"-685.8\" font-family=\"roboto\" font-size=\"14.00\" fill=\"#eeeeee\"> 1</text>\n",
       "</g>\n",
       "<!-- MM_LPi&#45;&gt;M_LPi_comp -->\n",
       "<g id=\"edge39\" class=\"edge\">\n",
       "<title>MM_LPi&#45;&gt;M_LPi_comp</title>\n",
       "<path fill=\"none\" stroke=\"#a9a9a9\" d=\"M1588.3333,-677.7971C1588.3333,-677.7971 1588.3333,-643.7236 1588.3333,-643.7236\"/>\n",
       "<polygon fill=\"#a9a9a9\" stroke=\"#a9a9a9\" points=\"1591.8334,-643.7235 1588.3333,-633.7236 1584.8334,-643.7236 1591.8334,-643.7235\"/>\n",
       "</g>\n",
       "<!-- MM_Ti -->\n",
       "<g id=\"node37\" class=\"node\">\n",
       "<title>MM_Ti</title>\n",
       "<polygon fill=\"#e76f51\" stroke=\"#eeeeee\" points=\"840.5,-731 710.5,-731 710.5,-678 840.5,-678 840.5,-731\"/>\n",
       "<text text-anchor=\"middle\" x=\"775.5\" y=\"-715.8\" font-family=\"roboto\" font-size=\"14.00\" fill=\"#eeeeee\">% Manure treated </text>\n",
       "<text text-anchor=\"middle\" x=\"775.5\" y=\"-700.8\" font-family=\"roboto\" font-size=\"14.00\" fill=\"#eeeeee\"> (MM_Ti) </text>\n",
       "<text text-anchor=\"middle\" x=\"775.5\" y=\"-685.8\" font-family=\"roboto\" font-size=\"14.00\" fill=\"#eeeeee\"> 1</text>\n",
       "</g>\n",
       "<!-- MM_Ti&#45;&gt;M_Ti_comp -->\n",
       "<g id=\"edge40\" class=\"edge\">\n",
       "<title>MM_Ti&#45;&gt;M_Ti_comp</title>\n",
       "<path fill=\"none\" stroke=\"#a9a9a9\" d=\"M775.5,-677.7971C775.5,-677.7971 775.5,-643.7236 775.5,-643.7236\"/>\n",
       "<polygon fill=\"#a9a9a9\" stroke=\"#a9a9a9\" points=\"779.0001,-643.7235 775.5,-633.7236 772.0001,-643.7236 779.0001,-643.7235\"/>\n",
       "</g>\n",
       "<!-- MYi -->\n",
       "<g id=\"node38\" class=\"node\">\n",
       "<title>MYi</title>\n",
       "<polygon fill=\"#e76f51\" stroke=\"#eeeeee\" points=\"1052,-892 943,-892 943,-839 1052,-839 1052,-892\"/>\n",
       "<text text-anchor=\"middle\" x=\"997.5\" y=\"-876.8\" font-family=\"roboto\" font-size=\"14.00\" fill=\"#eeeeee\">Manure yields </text>\n",
       "<text text-anchor=\"middle\" x=\"997.5\" y=\"-861.8\" font-family=\"roboto\" font-size=\"14.00\" fill=\"#eeeeee\"> (MYi) </text>\n",
       "<text text-anchor=\"middle\" x=\"997.5\" y=\"-846.8\" font-family=\"roboto\" font-size=\"14.00\" fill=\"#eeeeee\"> kgN/head</text>\n",
       "</g>\n",
       "<!-- MYi&#45;&gt;TMi_comp -->\n",
       "<g id=\"edge41\" class=\"edge\">\n",
       "<title>MYi&#45;&gt;TMi_comp</title>\n",
       "<path fill=\"none\" stroke=\"#a9a9a9\" d=\"M997.5,-838.6947C997.5,-838.6947 997.5,-813.0658 997.5,-813.0658\"/>\n",
       "<polygon fill=\"#a9a9a9\" stroke=\"#a9a9a9\" points=\"1001.0001,-813.0657 997.5,-803.0658 994.0001,-813.0658 1001.0001,-813.0657\"/>\n",
       "</g>\n",
       "</g>\n",
       "</svg>\n"
      ],
      "text/plain": [
       "<graphviz.dot.Digraph at 0x7fc8403f53d0>"
      ]
     },
     "execution_count": 15,
     "metadata": {},
     "output_type": "execute_result"
    }
   ],
   "source": [
    "GE3_models['GE3_model'].draw()"
   ]
  },
  {
   "cell_type": "markdown",
   "metadata": {},
   "source": [
    " # Livestock"
   ]
  },
  {
   "cell_type": "code",
   "execution_count": 9,
   "metadata": {
    "ExecuteTime": {
     "end_time": "2021-03-08T08:50:30.582560Z",
     "start_time": "2021-03-08T08:50:30.091179Z"
    },
    "scrolled": true
   },
   "outputs": [
    {
     "name": "stderr",
     "output_type": "stream",
     "text": [
      "/home/simon/anaconda3/lib/python3.7/site-packages/IPython/core/interactiveshell.py:3146: DtypeWarning: Columns (7,8) have mixed types.Specify dtype option on import or set low_memory=False.\n",
      "  interactivity=interactivity, compiler=compiler, result=result)\n"
     ]
    }
   ],
   "source": [
    "#livestock_df = select_dataset('livestock')\n",
    "livestock_df = pd.read_csv('models/Hermen/data/QL.csv')#.rename(columns={'Element': 'Description', 'GGI_code': 'Variable'})"
   ]
  },
  {
   "cell_type": "code",
   "execution_count": 10,
   "metadata": {
    "ExecuteTime": {
     "end_time": "2021-03-08T08:50:30.667787Z",
     "start_time": "2021-03-08T08:50:30.584618Z"
    }
   },
   "outputs": [
    {
     "data": {
      "text/plain": [
       "array(['FPi', 'ANPi', 'AYi', 'PTTAi'], dtype=object)"
      ]
     },
     "execution_count": 10,
     "metadata": {},
     "output_type": "execute_result"
    }
   ],
   "source": [
    "itemized = livestock_df.dropna(subset=['emi_item']).Variable.unique()\n",
    "itemized"
   ]
  },
  {
   "cell_type": "code",
   "execution_count": 11,
   "metadata": {
    "ExecuteTime": {
     "end_time": "2021-03-08T08:50:31.693182Z",
     "start_time": "2021-03-08T08:50:31.648356Z"
    }
   },
   "outputs": [],
   "source": [
    "a = livestock_df.query(\"Variable == 'PTTAi'\").pivot(index=['ISO', 'Year', 'emi_item'], columns='Variable', values='Value')"
   ]
  },
  {
   "cell_type": "code",
   "execution_count": 12,
   "metadata": {
    "ExecuteTime": {
     "end_time": "2021-03-08T08:50:32.276986Z",
     "start_time": "2021-03-08T08:50:32.089909Z"
    }
   },
   "outputs": [],
   "source": [
    "b = livestock_df.query(\"Variable == 'FPi'\").pivot(index=['ISO', 'Year', 'Item'], columns='Variable', values='Value')"
   ]
  },
  {
   "cell_type": "code",
   "execution_count": 13,
   "metadata": {
    "ExecuteTime": {
     "end_time": "2021-03-08T08:50:32.695163Z",
     "start_time": "2021-03-08T08:50:32.448185Z"
    },
    "scrolled": true
   },
   "outputs": [
    {
     "data": {
      "text/html": [
       "<div>\n",
       "<style scoped>\n",
       "    .dataframe tbody tr th:only-of-type {\n",
       "        vertical-align: middle;\n",
       "    }\n",
       "\n",
       "    .dataframe tbody tr th {\n",
       "        vertical-align: top;\n",
       "    }\n",
       "\n",
       "    .dataframe thead th {\n",
       "        text-align: right;\n",
       "    }\n",
       "</style>\n",
       "<table border=\"1\" class=\"dataframe\">\n",
       "  <thead>\n",
       "    <tr style=\"text-align: right;\">\n",
       "      <th></th>\n",
       "      <th></th>\n",
       "      <th></th>\n",
       "      <th>Variable</th>\n",
       "      <th>FPi</th>\n",
       "    </tr>\n",
       "    <tr>\n",
       "      <th>ISO</th>\n",
       "      <th>Year</th>\n",
       "      <th>Item</th>\n",
       "      <th>emi_item</th>\n",
       "      <th></th>\n",
       "    </tr>\n",
       "  </thead>\n",
       "  <tbody>\n",
       "    <tr>\n",
       "      <th rowspan=\"5\" valign=\"top\">AFG</th>\n",
       "      <th rowspan=\"5\" valign=\"top\">1961</th>\n",
       "      <th>Beef and Buffalo Meat</th>\n",
       "      <th>Cattle, non-dairy</th>\n",
       "      <td>43000.0</td>\n",
       "    </tr>\n",
       "    <tr>\n",
       "      <th>Eggs Primary</th>\n",
       "      <th>Chickens, layers</th>\n",
       "      <td>10000.0</td>\n",
       "    </tr>\n",
       "    <tr>\n",
       "      <th>Eggs, hen, in shell</th>\n",
       "      <th>Chickens, layers</th>\n",
       "      <td>10000.0</td>\n",
       "    </tr>\n",
       "    <tr>\n",
       "      <th>Hides, cattle, fresh</th>\n",
       "      <th>NaN</th>\n",
       "      <td>7200.0</td>\n",
       "    </tr>\n",
       "    <tr>\n",
       "      <th>Meat, Poultry</th>\n",
       "      <th>Poultry Birds</th>\n",
       "      <td>5600.0</td>\n",
       "    </tr>\n",
       "    <tr>\n",
       "      <th>...</th>\n",
       "      <th>...</th>\n",
       "      <th>...</th>\n",
       "      <th>...</th>\n",
       "      <td>...</td>\n",
       "    </tr>\n",
       "    <tr>\n",
       "      <th rowspan=\"5\" valign=\"top\">ZWE</th>\n",
       "      <th rowspan=\"5\" valign=\"top\">2019</th>\n",
       "      <th>Offals, sheep,edible</th>\n",
       "      <th>NaN</th>\n",
       "      <td>78.0</td>\n",
       "    </tr>\n",
       "    <tr>\n",
       "      <th>Sheep and Goat Meat</th>\n",
       "      <th>Sheep and Goats</th>\n",
       "      <td>25268.0</td>\n",
       "    </tr>\n",
       "    <tr>\n",
       "      <th>Skins, goat, fresh</th>\n",
       "      <th>NaN</th>\n",
       "      <td>4122.0</td>\n",
       "    </tr>\n",
       "    <tr>\n",
       "      <th>Skins, sheep, fresh</th>\n",
       "      <th>NaN</th>\n",
       "      <td>62.0</td>\n",
       "    </tr>\n",
       "    <tr>\n",
       "      <th>Wool, greasy</th>\n",
       "      <th>NaN</th>\n",
       "      <td>3287.0</td>\n",
       "    </tr>\n",
       "  </tbody>\n",
       "</table>\n",
       "<p>259066 rows × 1 columns</p>\n",
       "</div>"
      ],
      "text/plain": [
       "Variable                                              FPi\n",
       "ISO Year Item                  emi_item                  \n",
       "AFG 1961 Beef and Buffalo Meat Cattle, non-dairy  43000.0\n",
       "         Eggs Primary          Chickens, layers   10000.0\n",
       "         Eggs, hen, in shell   Chickens, layers   10000.0\n",
       "         Hides, cattle, fresh  NaN                 7200.0\n",
       "         Meat, Poultry         Poultry Birds       5600.0\n",
       "...                                                   ...\n",
       "ZWE 2019 Offals, sheep,edible  NaN                   78.0\n",
       "         Sheep and Goat Meat   Sheep and Goats    25268.0\n",
       "         Skins, goat, fresh    NaN                 4122.0\n",
       "         Skins, sheep, fresh   NaN                   62.0\n",
       "         Wool, greasy          NaN                 3287.0\n",
       "\n",
       "[259066 rows x 1 columns]"
      ]
     },
     "execution_count": 13,
     "metadata": {},
     "output_type": "execute_result"
    }
   ],
   "source": [
    "livestock_df.query(\"Variable == 'FPi'\").pivot(index=['ISO', 'Year', 'Item', 'emi_item'], columns='Variable', values='Value')"
   ]
  },
  {
   "cell_type": "code",
   "execution_count": 14,
   "metadata": {
    "ExecuteTime": {
     "end_time": "2021-03-08T08:50:33.479350Z",
     "start_time": "2021-03-08T08:50:33.377271Z"
    }
   },
   "outputs": [
    {
     "data": {
      "text/html": [
       "<div>\n",
       "<style scoped>\n",
       "    .dataframe tbody tr th:only-of-type {\n",
       "        vertical-align: middle;\n",
       "    }\n",
       "\n",
       "    .dataframe tbody tr th {\n",
       "        vertical-align: top;\n",
       "    }\n",
       "\n",
       "    .dataframe thead th {\n",
       "        text-align: right;\n",
       "    }\n",
       "</style>\n",
       "<table border=\"1\" class=\"dataframe\">\n",
       "  <thead>\n",
       "    <tr style=\"text-align: right;\">\n",
       "      <th></th>\n",
       "      <th></th>\n",
       "      <th>Variable</th>\n",
       "      <th>AYi</th>\n",
       "    </tr>\n",
       "    <tr>\n",
       "      <th>ISO</th>\n",
       "      <th>Year</th>\n",
       "      <th>Item</th>\n",
       "      <th></th>\n",
       "    </tr>\n",
       "  </thead>\n",
       "  <tbody>\n",
       "    <tr>\n",
       "      <th rowspan=\"5\" valign=\"top\">AFG</th>\n",
       "      <th rowspan=\"5\" valign=\"top\">1961</th>\n",
       "      <th>Beef and Buffalo Meat</th>\n",
       "      <td>0.119400</td>\n",
       "    </tr>\n",
       "    <tr>\n",
       "      <th>Meat, Poultry</th>\n",
       "      <td>0.000800</td>\n",
       "    </tr>\n",
       "    <tr>\n",
       "      <th>Meat, camel</th>\n",
       "      <td>0.180000</td>\n",
       "    </tr>\n",
       "    <tr>\n",
       "      <th>Meat, cattle</th>\n",
       "      <td>0.119400</td>\n",
       "    </tr>\n",
       "    <tr>\n",
       "      <th>Meat, chicken</th>\n",
       "      <td>0.000800</td>\n",
       "    </tr>\n",
       "    <tr>\n",
       "      <th>...</th>\n",
       "      <th>...</th>\n",
       "      <th>...</th>\n",
       "      <td>...</td>\n",
       "    </tr>\n",
       "    <tr>\n",
       "      <th rowspan=\"5\" valign=\"top\">ZWE</th>\n",
       "      <th rowspan=\"5\" valign=\"top\">2019</th>\n",
       "      <th>Meat, goat</th>\n",
       "      <td>0.012000</td>\n",
       "    </tr>\n",
       "    <tr>\n",
       "      <th>Meat, pig</th>\n",
       "      <td>0.054900</td>\n",
       "    </tr>\n",
       "    <tr>\n",
       "      <th>Meat, sheep</th>\n",
       "      <td>0.014000</td>\n",
       "    </tr>\n",
       "    <tr>\n",
       "      <th>Meat, turkey</th>\n",
       "      <td>0.003968</td>\n",
       "    </tr>\n",
       "    <tr>\n",
       "      <th>Sheep and Goat Meat</th>\n",
       "      <td>0.012000</td>\n",
       "    </tr>\n",
       "  </tbody>\n",
       "</table>\n",
       "<p>100779 rows × 1 columns</p>\n",
       "</div>"
      ],
      "text/plain": [
       "Variable                             AYi\n",
       "ISO Year Item                           \n",
       "AFG 1961 Beef and Buffalo Meat  0.119400\n",
       "         Meat, Poultry          0.000800\n",
       "         Meat, camel            0.180000\n",
       "         Meat, cattle           0.119400\n",
       "         Meat, chicken          0.000800\n",
       "...                                  ...\n",
       "ZWE 2019 Meat, goat             0.012000\n",
       "         Meat, pig              0.054900\n",
       "         Meat, sheep            0.014000\n",
       "         Meat, turkey           0.003968\n",
       "         Sheep and Goat Meat    0.012000\n",
       "\n",
       "[100779 rows x 1 columns]"
      ]
     },
     "execution_count": 14,
     "metadata": {},
     "output_type": "execute_result"
    }
   ],
   "source": [
    "livestock_df.query(\"Variable == 'AYi'\").pivot(index=['ISO', 'Year', 'Item'], columns='Variable', values='Value')"
   ]
  },
  {
   "cell_type": "code",
   "execution_count": null,
   "metadata": {},
   "outputs": [],
   "source": [
    "b = livestock_df.query(\"Variable == 'FPi'\").groupby(['ISO', 'Year', 'emi_item', 'Variable'])['Value'].sum().reset_index().pivot(index=['ISO', 'Year', 'emi_item'], columns='Variable', values='Value')"
   ]
  },
  {
   "cell_type": "code",
   "execution_count": null,
   "metadata": {
    "ExecuteTime": {
     "end_time": "2021-03-08T07:50:10.780420Z",
     "start_time": "2021-03-08T07:50:10.767062Z"
    }
   },
   "outputs": [],
   "source": [
    "def get_X_y_from_data(model, data_dict):\n",
    "    '''TO CLEAN UP'''\n",
    "    X = {key: data_dict[key] for key in model.inputs_() + model.parameters_()}\n",
    "    y = {key: data_dict[key] for key in model.variables_() + model.outputs_() if key in data_dict}\n",
    "    return X, y\n",
    "\n",
    "\n",
    "def df_to_dict(df):\n",
    "    X = {}\n",
    "    for code in df.columns:\n",
    "        X[code] = df[code].fillna(0)\n",
    "    return X\n",
    "\n",
    "\n",
    "def fill_missing_values(df):\n",
    "    return df\n",
    "#     return df.groupby(level='ISO').fillna(method='ffill')\\\n",
    "#              .groupby(level='ISO').fillna(method='bfill')\n",
    "\n",
    "\n",
    "def df_to_data_dict(df, itemized):\n",
    "    data_dict = {}\n",
    "\n",
    "    non_item_df = df[~df.Variable.isin(itemized)].pivot(\n",
    "        index=['ISO', 'Year'], columns='Variable', values='Value')\n",
    "    non_item_df = fill_missing_values(non_item_df)\n",
    "    item_df = df[df.Variable.isin(itemized)].pivot(\n",
    "        index=['ISO', 'Year','Item', 'emi_item'], columns='Variable', values='Value')\n",
    "\n",
    "    data_dict.update(df_to_dict(non_item_df))\n",
    "    data_dict.update(df_to_dict(item_df))\n",
    "\n",
    "    return data_dict\n"
   ]
  },
  {
   "cell_type": "code",
   "execution_count": null,
   "metadata": {
    "ExecuteTime": {
     "end_time": "2021-03-08T07:51:33.390529Z",
     "start_time": "2021-03-08T07:51:33.381875Z"
    }
   },
   "outputs": [],
   "source": [
    "TAi_nodes = {'FPi': {'type': 'input',\n",
    "                     'unit': 'tonnes',\n",
    "                     'name': 'Production'},\n",
    "             'AYi': {'type': 'input',\n",
    "                     'unit': 'tonnes/head',\n",
    "                     'name': 'Vector of animal yields'},\n",
    "             'ANPi': {'type': 'variable',\n",
    "                      'unit': 'head',\n",
    "                      'name': 'Vector animals needed for production',\n",
    "                      'computation': lambda FPi, AYi, **kwargs: FPi / AYi\n",
    "                      },\n",
    "             'PTTAi': {'type': 'parameter',\n",
    "                       'unit': '1',\n",
    "                       'name': 'vector production-to-total animals ratio',\n",
    "                       },\n",
    "             'TAi': {'type': 'output',\n",
    "                     'unit': 'head',\n",
    "                     'name': 'Vector total animal population',\n",
    "                     'computation': lambda ANPi, PTTAi, **kwargs: PTTAi * ANPi.groupby(level=['ISO', 'Year', 'emi_item']).sum().rename_axis(index={\"emi_item\": 'Item'})\n",
    "                     },\n",
    "             }\n"
   ]
  },
  {
   "cell_type": "code",
   "execution_count": null,
   "metadata": {
    "ExecuteTime": {
     "end_time": "2021-03-08T07:55:17.644574Z",
     "start_time": "2021-03-08T07:55:17.623470Z"
    }
   },
   "outputs": [],
   "source": [
    "TAi_model = GraphModel(TAi_nodes)"
   ]
  },
  {
   "cell_type": "code",
   "execution_count": null,
   "metadata": {
    "ExecuteTime": {
     "end_time": "2021-03-08T07:55:20.852178Z",
     "start_time": "2021-03-08T07:55:20.738687Z"
    }
   },
   "outputs": [],
   "source": [
    "TAi_model.draw()"
   ]
  },
  {
   "cell_type": "code",
   "execution_count": null,
   "metadata": {
    "ExecuteTime": {
     "end_time": "2021-03-08T07:51:54.107995Z",
     "start_time": "2021-03-08T07:51:53.504593Z"
    }
   },
   "outputs": [],
   "source": [
    "data_dict = df_to_data_dict(livestock_df, itemized)"
   ]
  },
  {
   "cell_type": "code",
   "execution_count": null,
   "metadata": {
    "ExecuteTime": {
     "end_time": "2021-03-08T07:51:57.799704Z",
     "start_time": "2021-03-08T07:51:54.111329Z"
    }
   },
   "outputs": [],
   "source": [
    "X, y = get_X_y_from_data(TAi_model, data_dict)\n",
    "\n",
    "res = TAi_model.run(X)\n",
    "\n",
    "print(score_model(TAi_model, X, y))\n"
   ]
  },
  {
   "cell_type": "code",
   "execution_count": null,
   "metadata": {
    "ExecuteTime": {
     "end_time": "2021-03-08T07:53:09.049966Z",
     "start_time": "2021-03-08T07:53:09.031197Z"
    }
   },
   "outputs": [],
   "source": [
    "res['ANPi'].dropna()"
   ]
  },
  {
   "cell_type": "code",
   "execution_count": null,
   "metadata": {
    "ExecuteTime": {
     "end_time": "2021-03-08T07:53:27.767762Z",
     "start_time": "2021-03-08T07:53:27.750970Z"
    }
   },
   "outputs": [],
   "source": [
    "data_dict['PTTAi']"
   ]
  },
  {
   "cell_type": "code",
   "execution_count": null,
   "metadata": {
    "ExecuteTime": {
     "end_time": "2021-03-08T07:52:28.642474Z",
     "start_time": "2021-03-08T07:52:28.595905Z"
    }
   },
   "outputs": [],
   "source": [
    "res"
   ]
  },
  {
   "cell_type": "code",
   "execution_count": null,
   "metadata": {
    "ExecuteTime": {
     "end_time": "2021-03-08T07:51:23.836073Z",
     "start_time": "2021-03-08T07:51:23.829663Z"
    }
   },
   "outputs": [],
   "source": [
    "f"
   ]
  },
  {
   "cell_type": "code",
   "execution_count": null,
   "metadata": {
    "ExecuteTime": {
     "end_time": "2021-03-08T07:26:39.084363Z",
     "start_time": "2021-03-08T07:26:37.468382Z"
    }
   },
   "outputs": [],
   "source": [
    "X, y = get_X_y_from_data(model, data_dict)\n",
    "#%time res = model.run(X)\n",
    "print(score_model(model, X, y))\n"
   ]
  },
  {
   "cell_type": "code",
   "execution_count": null,
   "metadata": {
    "ExecuteTime": {
     "end_time": "2021-03-08T07:26:39.284384Z",
     "start_time": "2021-03-08T07:26:39.088237Z"
    },
    "scrolled": false
   },
   "outputs": [],
   "source": [
    "res = []\n",
    "for model_name, model in GE3_models.items():\n",
    "    print(model_name)\n",
    "    X, y = get_X_y_from_data(model, data_dict)\n",
    "    #%time res = model.run(X)\n",
    "    print(score_model(model, X, y))\n",
    "\n",
    "    print()\n"
   ]
  },
  {
   "cell_type": "code",
   "execution_count": null,
   "metadata": {},
   "outputs": [],
   "source": []
  }
 ],
 "metadata": {
  "kernelspec": {
   "display_name": "Python 3",
   "language": "python",
   "name": "python3"
  },
  "language_info": {
   "codemirror_mode": {
    "name": "ipython",
    "version": 3
   },
   "file_extension": ".py",
   "mimetype": "text/x-python",
   "name": "python",
   "nbconvert_exporter": "python",
   "pygments_lexer": "ipython3",
   "version": "3.7.7"
  }
 },
 "nbformat": 4,
 "nbformat_minor": 4
}
