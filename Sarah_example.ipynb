{
 "cells": [
  {
   "cell_type": "code",
   "execution_count": 1,
   "metadata": {
    "ExecuteTime": {
     "end_time": "2020-12-10T03:43:36.280765Z",
     "start_time": "2020-12-10T03:43:35.722261Z"
    }
   },
   "outputs": [],
   "source": [
    "from graphmodels.utils import parse_parameter_json\n",
    "from models.Sarah.WaterModel import WaterModel"
   ]
  },
  {
   "cell_type": "code",
   "execution_count": 2,
   "metadata": {
    "ExecuteTime": {
     "end_time": "2020-12-10T03:43:36.290763Z",
     "start_time": "2020-12-10T03:43:36.282604Z"
    }
   },
   "outputs": [],
   "source": [
    "parameters = parse_parameter_json('models/Sarah/parameter_water.json')\n",
    "inputs = {'ET':0, 'A':0, 'WSE': 0.85, 'ASF': 3, 'BF': 6}"
   ]
  },
  {
   "cell_type": "code",
   "execution_count": 3,
   "metadata": {
    "ExecuteTime": {
     "end_time": "2020-12-10T03:43:36.323612Z",
     "start_time": "2020-12-10T03:43:36.293908Z"
    }
   },
   "outputs": [],
   "source": [
    "results = WaterModel.run(inputs, parameters)"
   ]
  },
  {
   "cell_type": "code",
   "execution_count": 5,
   "metadata": {
    "ExecuteTime": {
     "end_time": "2020-12-10T03:45:09.591922Z",
     "start_time": "2020-12-10T03:45:09.508051Z"
    },
    "scrolled": false
   },
   "outputs": [
    {
     "data": {
      "text/plain": [
       "'plots/sarah_water_model.pdf'"
      ]
     },
     "execution_count": 5,
     "metadata": {},
     "output_type": "execute_result"
    }
   ],
   "source": [
    "plot = WaterModel.draw_computation(inputs=inputs, parameters=parameters)\n",
    "plot.render('plots/sarah_water_model')  "
   ]
  }
 ],
 "metadata": {
  "kernelspec": {
   "display_name": "Python 3",
   "language": "python",
   "name": "python3"
  },
  "language_info": {
   "codemirror_mode": {
    "name": "ipython",
    "version": 3
   },
   "file_extension": ".py",
   "mimetype": "text/x-python",
   "name": "python",
   "nbconvert_exporter": "python",
   "pygments_lexer": "ipython3",
   "version": "3.7.7"
  }
 },
 "nbformat": 4,
 "nbformat_minor": 4
}
