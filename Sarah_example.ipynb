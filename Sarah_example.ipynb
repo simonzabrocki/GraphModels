{
 "cells": [
  {
   "cell_type": "code",
   "execution_count": 1,
   "metadata": {
    "ExecuteTime": {
     "end_time": "2020-12-22T03:22:45.627885Z",
     "start_time": "2020-12-22T03:22:45.161531Z"
    }
   },
   "outputs": [],
   "source": [
    "from graphmodels.utils import parse_parameter_json\n",
    "from models.Sarah.WaterModel import WaterModel"
   ]
  },
  {
   "cell_type": "code",
   "execution_count": 2,
   "metadata": {
    "ExecuteTime": {
     "end_time": "2020-12-22T03:22:45.640287Z",
     "start_time": "2020-12-22T03:22:45.629870Z"
    }
   },
   "outputs": [],
   "source": [
    "parameters = parse_parameter_json('models/Sarah/parameter_water.json')\n",
    "inputs = {'ET':0, 'A':0, 'WSE': 0.85, 'ASF': 3, 'BF': 6}\n",
    "\n",
    "inputs_parameters = parameters.copy()\n",
    "inputs_parameters.update(inputs)"
   ]
  },
  {
   "cell_type": "code",
   "execution_count": 3,
   "metadata": {
    "ExecuteTime": {
     "end_time": "2020-12-22T03:22:45.656723Z",
     "start_time": "2020-12-22T03:22:45.642110Z"
    }
   },
   "outputs": [],
   "source": [
    "results = WaterModel.run(inputs_parameters)"
   ]
  },
  {
   "cell_type": "code",
   "execution_count": 4,
   "metadata": {
    "ExecuteTime": {
     "end_time": "2020-12-22T03:29:56.448678Z",
     "start_time": "2020-12-22T03:29:51.801559Z"
    }
   },
   "outputs": [
    {
     "name": "stdout",
     "output_type": "stream",
     "text": [
      "572 µs ± 56.7 µs per loop (mean ± std. dev. of 7 runs, 1000 loops each)\n"
     ]
    }
   ],
   "source": [
    "%timeit WaterModel.run(inputs_parameters)"
   ]
  }
 ],
 "metadata": {
  "kernelspec": {
   "display_name": "Python 3",
   "language": "python",
   "name": "python3"
  },
  "language_info": {
   "codemirror_mode": {
    "name": "ipython",
    "version": 3
   },
   "file_extension": ".py",
   "mimetype": "text/x-python",
   "name": "python",
   "nbconvert_exporter": "python",
   "pygments_lexer": "ipython3",
   "version": "3.7.7"
  }
 },
 "nbformat": 4,
 "nbformat_minor": 4
}
