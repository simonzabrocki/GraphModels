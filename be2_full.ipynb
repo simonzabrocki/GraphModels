{
 "cells": [
  {
   "cell_type": "code",
   "execution_count": 54,
   "metadata": {
    "ExecuteTime": {
     "end_time": "2021-01-07T04:05:35.643748Z",
     "start_time": "2021-01-07T04:05:33.870290Z"
    }
   },
   "outputs": [],
   "source": [
    "import pandas as pd\n",
    "from models.Hermen.model_BE2 import model_BE2\n",
    "\n",
    "\n",
    "FBS = pd.read_csv('models/Hermen/data/FBS.csv')\n",
    "QC = pd.read_csv('models/Hermen/data/QC.csv').rename(columns={'FBS_item': 'Item'})\n",
    "RL = pd.read_csv('models/Hermen/data/RL.csv').dropna(subset=['GGI_code'])\n",
    "\n",
    "QC = QC.groupby(['Item', 'GGI_code', 'Year', 'Area']).mean().reset_index()"
   ]
  },
  {
   "cell_type": "code",
   "execution_count": 55,
   "metadata": {
    "ExecuteTime": {
     "end_time": "2021-01-07T04:05:35.649270Z",
     "start_time": "2021-01-07T04:05:35.645492Z"
    },
    "code_folding": []
   },
   "outputs": [],
   "source": [
    "# Aux functions, to improve\n",
    "def pivot(df):\n",
    "    return df.pivot(index=['Item'], columns='GGI_code', values='Value')\n",
    "\n",
    "\n",
    "def select_country_year(df, country, year):\n",
    "    return df[(df.Area==country) & (df.Year == year)].reset_index(drop=True)\n",
    "\n",
    "\n",
    "def df_to_dict(df):\n",
    "    X = {}\n",
    "    for code in df.columns:\n",
    "        X[code] = df[code]\n",
    "    return X"
   ]
  },
  {
   "cell_type": "code",
   "execution_count": 61,
   "metadata": {
    "ExecuteTime": {
     "end_time": "2021-01-07T04:06:20.070194Z",
     "start_time": "2021-01-07T04:06:19.971429Z"
    }
   },
   "outputs": [],
   "source": [
    "year = 2018\n",
    "country = 'Germany'\n",
    "\n",
    "FBS_country_year = select_country_year(FBS, country, year)\n",
    "QC_country_year = select_country_year(QC, country, year)\n",
    "RL_country_year = select_country_year(RL, country, year)"
   ]
  },
  {
   "cell_type": "code",
   "execution_count": 62,
   "metadata": {
    "ExecuteTime": {
     "end_time": "2021-01-07T04:06:20.161629Z",
     "start_time": "2021-01-07T04:06:20.153847Z"
    }
   },
   "outputs": [],
   "source": [
    "crop_group = FBS_country_year[FBS_country_year['group'] == 'crop'].Item"
   ]
  },
  {
   "cell_type": "code",
   "execution_count": 63,
   "metadata": {
    "ExecuteTime": {
     "end_time": "2021-01-07T04:06:20.354724Z",
     "start_time": "2021-01-07T04:06:20.347797Z"
    }
   },
   "outputs": [],
   "source": [
    "def FBS_QC_RL_to_X(FBS, QC, RL):\n",
    "    \n",
    "    X = {}\n",
    "    \n",
    "    FBS = df_to_dict(pivot(FBS))\n",
    "    QC = df_to_dict(pivot(QC))\n",
    "    RL = dict(zip(RL.GGI_code, RL.Value))\n",
    "    \n",
    "    print(RL.keys())\n",
    "    for dictionnary in [FBS, QC, RL]:\n",
    "        X.update(dictionnary)\n",
    "        \n",
    "        \n",
    "    X['P'] = X['P'].dropna()\n",
    "    return X"
   ]
  },
  {
   "cell_type": "code",
   "execution_count": 64,
   "metadata": {
    "ExecuteTime": {
     "end_time": "2021-01-07T04:06:20.575464Z",
     "start_time": "2021-01-07T04:06:20.555162Z"
    }
   },
   "outputs": [
    {
     "name": "stdout",
     "output_type": "stream",
     "text": [
      "dict_keys(['TLA', 'CL_t_minus_1', 'IL_t_minus_1', 'FL_t_minus_1'])\n"
     ]
    }
   ],
   "source": [
    "X = FBS_QC_RL_to_X(FBS_country_year, QC_country_year, RL_country_year)\n",
    "\n",
    "\n",
    "# TO be added in a dataframe\n",
    "X['FCRi'] = pd.Series([25, 6.4, 3.003, 2.3, 0.7, 15], index=['Bovine Meat', 'Pigmeat', 'Poultry Meat', 'Eggs', 'Milk - Excluding Butter', 'Meat, Other'])\n",
    "\n",
    "\n",
    "# Define policy inputs\n",
    "\n",
    "X['FWPPi'] = 0\n",
    "X['FWCRi'] = 0\n",
    "X['CRfd'] = 2\n",
    "X['CD_corr'] = 3\n",
    "X['R_rate'] = 0\n",
    "\n",
    "\n",
    "# Can be fixed by policy or not\n",
    "X['FMi'] = X['FDi'].loc[crop_group] / X['FDi'].sum()\n",
    "X['TCLD_baseline'] = X['TCLDi'].sum()\n"
   ]
  },
  {
   "cell_type": "code",
   "execution_count": 65,
   "metadata": {
    "ExecuteTime": {
     "end_time": "2021-01-07T04:06:20.900798Z",
     "start_time": "2021-01-07T04:06:20.871922Z"
    }
   },
   "outputs": [],
   "source": [
    "res = model_BE2.run(X)"
   ]
  },
  {
   "cell_type": "code",
   "execution_count": 66,
   "metadata": {
    "ExecuteTime": {
     "end_time": "2021-01-07T04:06:24.469604Z",
     "start_time": "2021-01-07T04:06:24.463423Z"
    }
   },
   "outputs": [
    {
     "data": {
      "text/plain": [
       "32.68361096800046"
      ]
     },
     "execution_count": 66,
     "metadata": {},
     "output_type": "execute_result"
    }
   ],
   "source": [
    "res['BE2']"
   ]
  }
 ],
 "metadata": {
  "kernelspec": {
   "display_name": "Python 3",
   "language": "python",
   "name": "python3"
  },
  "language_info": {
   "codemirror_mode": {
    "name": "ipython",
    "version": 3
   },
   "file_extension": ".py",
   "mimetype": "text/x-python",
   "name": "python",
   "nbconvert_exporter": "python",
   "pygments_lexer": "ipython3",
   "version": "3.7.7"
  }
 },
 "nbformat": 4,
 "nbformat_minor": 4
}
