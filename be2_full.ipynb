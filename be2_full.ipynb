{
 "cells": [
  {
   "cell_type": "code",
   "execution_count": 3,
   "metadata": {
    "ExecuteTime": {
     "end_time": "2021-01-12T09:45:52.016420Z",
     "start_time": "2021-01-12T09:45:49.745343Z"
    }
   },
   "outputs": [],
   "source": [
    "import pandas as pd\n",
    "from models.Hermen.model_BE2 import model_BE2, FDTi_model\n",
    "import numpy as np\n",
    "\n",
    "FBS = pd.read_csv('models/Hermen/data/FBS.csv')\n",
    "QC = pd.read_csv('models/Hermen/data/QC.csv').drop(columns=['FBS_item']).rename(columns={'FBS_item': 'Item'})\n",
    "RL = pd.read_csv('models/Hermen/data/RL.csv').dropna(subset=['GGI_code'])\n",
    "\n",
    "QC = QC.groupby(['Item', 'GGI_code', 'Year', 'Area']).mean().reset_index()"
   ]
  },
  {
   "cell_type": "code",
   "execution_count": 4,
   "metadata": {
    "ExecuteTime": {
     "end_time": "2021-01-12T09:45:52.035683Z",
     "start_time": "2021-01-12T09:45:52.018105Z"
    }
   },
   "outputs": [
    {
     "data": {
      "text/plain": [
       "Item        Land with temporary fallow\n",
       "Element                           Area\n",
       "Year                              2002\n",
       "Unit                           1000 ha\n",
       "Value                              536\n",
       "GGI_code                  IL_t_minus_1\n",
       "Name: Burkina Faso, dtype: object"
      ]
     },
     "execution_count": 4,
     "metadata": {},
     "output_type": "execute_result"
    }
   ],
   "source": [
    "RL[RL.GGI_code == 'IL_t_minus_1'].set_index('Area').loc['Burkina Faso']"
   ]
  },
  {
   "cell_type": "code",
   "execution_count": 5,
   "metadata": {
    "ExecuteTime": {
     "end_time": "2021-01-12T09:45:52.057139Z",
     "start_time": "2021-01-12T09:45:52.038790Z"
    },
    "code_folding": []
   },
   "outputs": [],
   "source": [
    "# Aux functions, to improve. The idea is to run the model on the full database at once rather than spliiting all the stuff. Perharps using dataframe around\n",
    "def pivot(df):\n",
    "    return df.pivot(index=['Item'], columns='GGI_code', values='Value')\n",
    "\n",
    "\n",
    "def select_country_year(df, country, year):\n",
    "    return df[(df.Area==country) & (df.Year == year)].reset_index(drop=True)\n",
    "\n",
    "\n",
    "def df_to_dict(df):\n",
    "    X = {}\n",
    "    for code in df.columns:\n",
    "        X[code] = df[code].fillna(0)\n",
    "    return X\n",
    "\n",
    "def FBS_QC_RL_to_X(FBS, QC, RL):\n",
    "    \n",
    "    \n",
    "    X = {}\n",
    "    \n",
    "    FBS_dict = df_to_dict(pivot(FBS))\n",
    "    QC_dict = df_to_dict(pivot(QC))\n",
    "    RL_dict = dict(zip(RL.GGI_code, RL.Value))\n",
    "    \n",
    "    for dictionnary in [FBS_dict, QC_dict, RL_dict]:\n",
    "        X.update(dictionnary)\n",
    "        \n",
    "    crop_group = FBS.dropna()[FBS.dropna()['group'] == 'crop'].Item.unique()\n",
    "    animal_group = FBS.dropna()[FBS.dropna()['group'] == 'animal'].Item.unique()\n",
    "\n",
    "        \n",
    "    # Stuff to clean up !!!\n",
    "    X['P'] =X['P'].loc['Population']\n",
    "    \n",
    "    X['crop_group'] = crop_group\n",
    "    X['animal_group'] = animal_group\n",
    "\n",
    "    X['FMi'] = X['FDi'].loc[crop_group] / X['FDi'].sum()\n",
    "    X['TCLD_baseline'] = X['TCLDi'].sum()\n",
    "    \n",
    "    X['FCRi'] = pd.Series([25, 6.4, 3.003, 2.3, 0.7, 15], index=['Bovine Meat', 'Pigmeat', 'Poultry Meat', 'Eggs', 'Milk - Excluding Butter', 'Meat, Other'])\n",
    "\n",
    "    return X\n",
    "\n",
    "def prepare_data_country_year(country, year, FBS=FBS, QC=QC, RL=RL):\n",
    "    \n",
    "\n",
    "    FBS_country_year = select_country_year(FBS, country, year)\n",
    "    QC_country_year = select_country_year(QC, country, year)\n",
    "    RL_country_year = select_country_year(RL, country, year)\n",
    "    \n",
    "    return FBS_QC_RL_to_X(FBS_country_year, QC_country_year, RL_country_year)"
   ]
  },
  {
   "cell_type": "code",
   "execution_count": 10,
   "metadata": {
    "ExecuteTime": {
     "end_time": "2021-01-12T09:46:03.515543Z",
     "start_time": "2021-01-12T09:46:03.366377Z"
    }
   },
   "outputs": [],
   "source": [
    "year = 2017\n",
    "country = 'Germany'\n",
    "\n",
    "X = prepare_data_country_year(country, year)\n",
    "\n",
    "\n",
    "X['FWPPi'] = 1\n",
    "X['FWCRi'] = 0\n",
    "X['CRfd'] = 1\n",
    "X['CD_corr'] = 1\n",
    "X['R_rate'] = 0\n",
    "\n",
    "X['FDi_baseline'] = X['FDi']\n",
    "res = FDTi_model.run(X)"
   ]
  },
  {
   "cell_type": "code",
   "execution_count": 11,
   "metadata": {
    "ExecuteTime": {
     "end_time": "2021-01-12T09:46:03.697272Z",
     "start_time": "2021-01-12T09:46:03.675314Z"
    }
   },
   "outputs": [
    {
     "name": "stdout",
     "output_type": "stream",
     "text": [
      "32.684546469359134\n"
     ]
    }
   ],
   "source": [
    "res = model_BE2.run(X)\n",
    "print(res['BE2'])"
   ]
  },
  {
   "cell_type": "code",
   "execution_count": 12,
   "metadata": {
    "ExecuteTime": {
     "end_time": "2021-01-12T07:53:19.138499Z",
     "start_time": "2021-01-12T07:53:19.131873Z"
    }
   },
   "outputs": [
    {
     "data": {
      "text/plain": [
       "0.03714782926829269"
      ]
     },
     "execution_count": 12,
     "metadata": {},
     "output_type": "execute_result"
    }
   ],
   "source": [
    "res['FDTi'].loc['Bovine Meat']"
   ]
  },
  {
   "cell_type": "code",
   "execution_count": 50,
   "metadata": {
    "ExecuteTime": {
     "end_time": "2021-01-12T03:08:49.562359Z",
     "start_time": "2021-01-12T03:08:37.012120Z"
    }
   },
   "outputs": [
    {
     "name": "stdout",
     "output_type": "stream",
     "text": [
      "15.7 ms ± 822 µs per loop (mean ± std. dev. of 7 runs, 100 loops each)\n"
     ]
    }
   ],
   "source": [
    "%timeit res = model_BE2.run(X)\n"
   ]
  },
  {
   "cell_type": "code",
   "execution_count": 42,
   "metadata": {
    "ExecuteTime": {
     "end_time": "2021-01-12T02:49:35.488706Z",
     "start_time": "2021-01-12T02:49:35.482279Z"
    }
   },
   "outputs": [
    {
     "data": {
      "text/plain": [
       "113.84733929078779"
      ]
     },
     "execution_count": 42,
     "metadata": {},
     "output_type": "execute_result"
    }
   ],
   "source": [
    "res['FDTi'].loc['Vegetables, Other']"
   ]
  },
  {
   "cell_type": "code",
   "execution_count": 49,
   "metadata": {
    "ExecuteTime": {
     "end_time": "2021-01-12T02:55:27.647791Z",
     "start_time": "2021-01-12T02:55:27.640698Z"
    }
   },
   "outputs": [
    {
     "data": {
      "text/plain": [
       "2057.27"
      ]
     },
     "execution_count": 49,
     "metadata": {},
     "output_type": "execute_result"
    }
   ],
   "source": [
    "res['FL_t']"
   ]
  },
  {
   "cell_type": "code",
   "execution_count": 48,
   "metadata": {
    "ExecuteTime": {
     "end_time": "2021-01-12T02:52:16.407014Z",
     "start_time": "2021-01-12T02:52:16.400423Z"
    }
   },
   "outputs": [
    {
     "data": {
      "text/plain": [
       "-34.0488711217933"
      ]
     },
     "execution_count": 48,
     "metadata": {},
     "output_type": "execute_result"
    }
   ],
   "source": [
    "res['chCL']"
   ]
  },
  {
   "cell_type": "code",
   "execution_count": 75,
   "metadata": {
    "ExecuteTime": {
     "end_time": "2021-01-11T06:01:18.130615Z",
     "start_time": "2021-01-11T06:01:18.120500Z"
    }
   },
   "outputs": [
    {
     "data": {
      "text/plain": [
       "Item\n",
       "Meat                       109.984106\n",
       "Bovine Meat                  0.029831\n",
       "Mutton & Goat Meat           0.001362\n",
       "Pigmeat                     20.843850\n",
       "Poultry Meat               114.569834\n",
       "Meat, Other                 23.982486\n",
       "Animal fats                 65.072125\n",
       "Butter, Ghee                 0.505303\n",
       "Cream                        0.077732\n",
       "Fats, Animals, Raw           6.760316\n",
       "Eggs                        14.668495\n",
       "Milk - Excluding Butter    339.822798\n",
       "Fish, Seafood                3.343917\n",
       "Freshwater Fish              0.039672\n",
       "Demersal Fish                0.000000\n",
       "Pelagic Fish                 0.000000\n",
       "Marine Fish, Other           0.000000\n",
       "Infant food                  0.000000\n",
       "dtype: float64"
      ]
     },
     "execution_count": 75,
     "metadata": {},
     "output_type": "execute_result"
    }
   ],
   "source": [
    "res['FDTi_animal'].dropna()"
   ]
  },
  {
   "cell_type": "code",
   "execution_count": 64,
   "metadata": {
    "ExecuteTime": {
     "end_time": "2021-01-11T05:56:58.285269Z",
     "start_time": "2021-01-11T05:56:58.219709Z"
    }
   },
   "outputs": [
    {
     "data": {
      "image/svg+xml": [
       "<?xml version=\"1.0\" encoding=\"UTF-8\" standalone=\"no\"?>\n",
       "<!DOCTYPE svg PUBLIC \"-//W3C//DTD SVG 1.1//EN\"\n",
       " \"http://www.w3.org/Graphics/SVG/1.1/DTD/svg11.dtd\">\n",
       "<!-- Generated by graphviz version 2.40.1 (20161225.0304)\n",
       " -->\n",
       "<!-- Title: %3 Pages: 1 -->\n",
       "<svg width=\"1367pt\" height=\"1360pt\"\n",
       " viewBox=\"0.00 0.00 1366.50 1360.00\" xmlns=\"http://www.w3.org/2000/svg\" xmlns:xlink=\"http://www.w3.org/1999/xlink\">\n",
       "<g id=\"graph0\" class=\"graph\" transform=\"scale(1 1) rotate(0) translate(4 1356)\">\n",
       "<title>%3</title>\n",
       "<polygon fill=\"#ffffff\" stroke=\"transparent\" points=\"-4,4 -4,-1356 1362.5,-1356 1362.5,4 -4,4\"/>\n",
       "<!-- TLA -->\n",
       "<g id=\"node1\" class=\"node\">\n",
       "<title>TLA</title>\n",
       "<polygon fill=\"#e76f51\" stroke=\"#eeeeee\" points=\"113,-184 0,-184 0,-146 113,-146 113,-184\"/>\n",
       "<text text-anchor=\"middle\" x=\"56.5\" y=\"-168.8\" font-family=\"roboto\" font-size=\"14.00\" fill=\"#eeeeee\">Total land area </text>\n",
       "<text text-anchor=\"middle\" x=\"56.5\" y=\"-153.8\" font-family=\"roboto\" font-size=\"14.00\" fill=\"#eeeeee\"> (TLA)</text>\n",
       "</g>\n",
       "<!-- BE2_comp -->\n",
       "<g id=\"node12\" class=\"node\">\n",
       "<title>BE2_comp</title>\n",
       "<polygon fill=\"none\" stroke=\"#a9a9a9\" points=\"396,-110 253,-110 253,-74 396,-74 396,-110\"/>\n",
       "<text text-anchor=\"middle\" x=\"324.5\" y=\"-88.3\" font-family=\"roboto\" font-size=\"14.00\" fill=\"#000000\">100 * (FL_RF / TLA)</text>\n",
       "</g>\n",
       "<!-- TLA&#45;&gt;BE2_comp -->\n",
       "<g id=\"edge1\" class=\"edge\">\n",
       "<title>TLA&#45;&gt;BE2_comp</title>\n",
       "<path fill=\"none\" stroke=\"#a9a9a9\" d=\"M56.5,-145.8201C56.5,-124.1915 56.5,-92 56.5,-92 56.5,-92 242.6809,-92 242.6809,-92\"/>\n",
       "<polygon fill=\"#a9a9a9\" stroke=\"#a9a9a9\" points=\"242.681,-95.5001 252.6809,-92 242.6809,-88.5001 242.681,-95.5001\"/>\n",
       "</g>\n",
       "<!-- FL_t -->\n",
       "<g id=\"node2\" class=\"node\">\n",
       "<title>FL_t</title>\n",
       "<polygon fill=\"#2a9d8f\" stroke=\"#eeeeee\" points=\"651,-330 520,-330 520,-292 651,-292 651,-330\"/>\n",
       "<text text-anchor=\"middle\" x=\"585.5\" y=\"-314.8\" font-family=\"roboto\" font-size=\"14.00\" fill=\"#eeeeee\">Forest land stock </text>\n",
       "<text text-anchor=\"middle\" x=\"585.5\" y=\"-299.8\" font-family=\"roboto\" font-size=\"14.00\" fill=\"#eeeeee\"> (FL_t)</text>\n",
       "</g>\n",
       "<!-- FL_RF_comp -->\n",
       "<g id=\"node8\" class=\"node\">\n",
       "<title>FL_RF_comp</title>\n",
       "<polygon fill=\"none\" stroke=\"#a9a9a9\" points=\"635,-256 536,-256 536,-220 635,-220 635,-256\"/>\n",
       "<text text-anchor=\"middle\" x=\"585.5\" y=\"-234.3\" font-family=\"roboto\" font-size=\"14.00\" fill=\"#000000\">FL + RF_land</text>\n",
       "</g>\n",
       "<!-- FL_t&#45;&gt;FL_RF_comp -->\n",
       "<g id=\"edge2\" class=\"edge\">\n",
       "<title>FL_t&#45;&gt;FL_RF_comp</title>\n",
       "<path fill=\"none\" stroke=\"#a9a9a9\" d=\"M585.5,-291.8201C585.5,-291.8201 585.5,-266.2973 585.5,-266.2973\"/>\n",
       "<polygon fill=\"#a9a9a9\" stroke=\"#a9a9a9\" points=\"589.0001,-266.2973 585.5,-256.2973 582.0001,-266.2974 589.0001,-266.2973\"/>\n",
       "</g>\n",
       "<!-- IL_t -->\n",
       "<g id=\"node3\" class=\"node\">\n",
       "<title>IL_t</title>\n",
       "<polygon fill=\"#2a9d8f\" stroke=\"#eeeeee\" points=\"373,-476 234,-476 234,-438 373,-438 373,-476\"/>\n",
       "<text text-anchor=\"middle\" x=\"303.5\" y=\"-460.8\" font-family=\"roboto\" font-size=\"14.00\" fill=\"#eeeeee\">Inactive land stock </text>\n",
       "<text text-anchor=\"middle\" x=\"303.5\" y=\"-445.8\" font-family=\"roboto\" font-size=\"14.00\" fill=\"#eeeeee\"> (IL_t)</text>\n",
       "</g>\n",
       "<!-- RF_land_comp -->\n",
       "<g id=\"node6\" class=\"node\">\n",
       "<title>RF_land_comp</title>\n",
       "<polygon fill=\"none\" stroke=\"#a9a9a9\" points=\"424.5,-402 332.5,-402 332.5,-366 424.5,-366 424.5,-402\"/>\n",
       "<text text-anchor=\"middle\" x=\"378.5\" y=\"-380.3\" font-family=\"roboto\" font-size=\"14.00\" fill=\"#000000\">R_rate * IL_t</text>\n",
       "</g>\n",
       "<!-- IL_t&#45;&gt;RF_land_comp -->\n",
       "<g id=\"edge3\" class=\"edge\">\n",
       "<title>IL_t&#45;&gt;RF_land_comp</title>\n",
       "<path fill=\"none\" stroke=\"#a9a9a9\" d=\"M346,-437.8201C346,-437.8201 346,-412.2973 346,-412.2973\"/>\n",
       "<polygon fill=\"#a9a9a9\" stroke=\"#a9a9a9\" points=\"349.5001,-412.2973 346,-402.2973 342.5001,-412.2974 349.5001,-412.2973\"/>\n",
       "</g>\n",
       "<!-- IL_RF_comp -->\n",
       "<g id=\"node10\" class=\"node\">\n",
       "<title>IL_RF_comp</title>\n",
       "<polygon fill=\"none\" stroke=\"#a9a9a9\" points=\"347,-256 246,-256 246,-220 347,-220 347,-256\"/>\n",
       "<text text-anchor=\"middle\" x=\"296.5\" y=\"-234.3\" font-family=\"roboto\" font-size=\"14.00\" fill=\"#000000\">IL_t &#45; RF_land</text>\n",
       "</g>\n",
       "<!-- IL_t&#45;&gt;IL_RF_comp -->\n",
       "<g id=\"edge4\" class=\"edge\">\n",
       "<title>IL_t&#45;&gt;IL_RF_comp</title>\n",
       "<path fill=\"none\" stroke=\"#a9a9a9\" d=\"M285.25,-437.9483C285.25,-437.9483 285.25,-266.2344 285.25,-266.2344\"/>\n",
       "<polygon fill=\"#a9a9a9\" stroke=\"#a9a9a9\" points=\"288.7501,-266.2343 285.25,-256.2344 281.7501,-266.2344 288.7501,-266.2343\"/>\n",
       "</g>\n",
       "<!-- FL_t_comp -->\n",
       "<g id=\"node20\" class=\"node\">\n",
       "<title>FL_t_comp</title>\n",
       "<polygon fill=\"none\" stroke=\"#a9a9a9\" points=\"728,-402 443,-402 443,-366 728,-366 728,-402\"/>\n",
       "<text text-anchor=\"middle\" x=\"585.5\" y=\"-380.3\" font-family=\"roboto\" font-size=\"14.00\" fill=\"#000000\">FL_computation(chCL, FL_t_minus_1, IL_t)</text>\n",
       "</g>\n",
       "<!-- IL_t&#45;&gt;FL_t_comp -->\n",
       "<g id=\"edge5\" class=\"edge\">\n",
       "<title>IL_t&#45;&gt;FL_t_comp</title>\n",
       "<path fill=\"none\" stroke=\"#a9a9a9\" d=\"M359.5,-437.6331C359.5,-428.6809 359.5,-420 359.5,-420 359.5,-420 492.5,-420 492.5,-420 492.5,-420 492.5,-412.4218 492.5,-412.4218\"/>\n",
       "<polygon fill=\"#a9a9a9\" stroke=\"#a9a9a9\" points=\"496.0001,-412.4218 492.5,-402.4218 489.0001,-412.4219 496.0001,-412.4218\"/>\n",
       "</g>\n",
       "<!-- R_rate -->\n",
       "<g id=\"node4\" class=\"node\">\n",
       "<title>R_rate</title>\n",
       "<polygon fill=\"#e9c46a\" stroke=\"#eeeeee\" points=\"542,-476 391,-476 391,-438 542,-438 542,-476\"/>\n",
       "<text text-anchor=\"middle\" x=\"466.5\" y=\"-460.8\" font-family=\"roboto\" font-size=\"14.00\" fill=\"#eeeeee\">Rate of reforestation </text>\n",
       "<text text-anchor=\"middle\" x=\"466.5\" y=\"-445.8\" font-family=\"roboto\" font-size=\"14.00\" fill=\"#eeeeee\"> (R_rate)</text>\n",
       "</g>\n",
       "<!-- R_rate&#45;&gt;RF_land_comp -->\n",
       "<g id=\"edge6\" class=\"edge\">\n",
       "<title>R_rate&#45;&gt;RF_land_comp</title>\n",
       "<path fill=\"none\" stroke=\"#a9a9a9\" d=\"M407.75,-437.8201C407.75,-437.8201 407.75,-412.2973 407.75,-412.2973\"/>\n",
       "<polygon fill=\"#a9a9a9\" stroke=\"#a9a9a9\" points=\"411.2501,-412.2973 407.75,-402.2973 404.2501,-412.2974 411.2501,-412.2973\"/>\n",
       "</g>\n",
       "<!-- RF_land -->\n",
       "<g id=\"node5\" class=\"node\">\n",
       "<title>RF_land</title>\n",
       "<polygon fill=\"#f4a261\" stroke=\"#eeeeee\" points=\"478.5,-330 324.5,-330 324.5,-292 478.5,-292 478.5,-330\"/>\n",
       "<text text-anchor=\"middle\" x=\"401.5\" y=\"-314.8\" font-family=\"roboto\" font-size=\"14.00\" fill=\"#eeeeee\">Reforestation of land </text>\n",
       "<text text-anchor=\"middle\" x=\"401.5\" y=\"-299.8\" font-family=\"roboto\" font-size=\"14.00\" fill=\"#eeeeee\"> (RF_land)</text>\n",
       "</g>\n",
       "<!-- RF_land&#45;&gt;FL_RF_comp -->\n",
       "<g id=\"edge7\" class=\"edge\">\n",
       "<title>RF_land&#45;&gt;FL_RF_comp</title>\n",
       "<path fill=\"none\" stroke=\"#a9a9a9\" d=\"M463.5,-291.8201C463.5,-270.1915 463.5,-238 463.5,-238 463.5,-238 525.8779,-238 525.8779,-238\"/>\n",
       "<polygon fill=\"#a9a9a9\" stroke=\"#a9a9a9\" points=\"525.878,-241.5001 535.8779,-238 525.8779,-234.5001 525.878,-241.5001\"/>\n",
       "</g>\n",
       "<!-- RF_land&#45;&gt;IL_RF_comp -->\n",
       "<g id=\"edge8\" class=\"edge\">\n",
       "<title>RF_land&#45;&gt;IL_RF_comp</title>\n",
       "<path fill=\"none\" stroke=\"#a9a9a9\" d=\"M335.75,-291.8201C335.75,-291.8201 335.75,-266.2973 335.75,-266.2973\"/>\n",
       "<polygon fill=\"#a9a9a9\" stroke=\"#a9a9a9\" points=\"339.2501,-266.2973 335.75,-256.2973 332.2501,-266.2974 339.2501,-266.2973\"/>\n",
       "</g>\n",
       "<!-- RF_land_comp&#45;&gt;RF_land -->\n",
       "<g id=\"edge9\" class=\"edge\">\n",
       "<title>RF_land_comp&#45;&gt;RF_land</title>\n",
       "<path fill=\"none\" stroke=\"#a9a9a9\" d=\"M378.5,-365.9551C378.5,-365.9551 378.5,-340.1128 378.5,-340.1128\"/>\n",
       "<polygon fill=\"#a9a9a9\" stroke=\"#a9a9a9\" points=\"382.0001,-340.1128 378.5,-330.1128 375.0001,-340.1129 382.0001,-340.1128\"/>\n",
       "</g>\n",
       "<!-- FL_RF -->\n",
       "<g id=\"node7\" class=\"node\">\n",
       "<title>FL_RF</title>\n",
       "<polygon fill=\"#f4a261\" stroke=\"#eeeeee\" points=\"738.5,-184 448.5,-184 448.5,-146 738.5,-146 738.5,-184\"/>\n",
       "<text text-anchor=\"middle\" x=\"593.5\" y=\"-168.8\" font-family=\"roboto\" font-size=\"14.00\" fill=\"#eeeeee\">Forest land stock after reforestation policy </text>\n",
       "<text text-anchor=\"middle\" x=\"593.5\" y=\"-153.8\" font-family=\"roboto\" font-size=\"14.00\" fill=\"#eeeeee\"> (FL_RF)</text>\n",
       "</g>\n",
       "<!-- FL_RF&#45;&gt;BE2_comp -->\n",
       "<g id=\"edge10\" class=\"edge\">\n",
       "<title>FL_RF&#45;&gt;BE2_comp</title>\n",
       "<path fill=\"none\" stroke=\"#a9a9a9\" d=\"M595.25,-145.8201C595.25,-124.1915 595.25,-92 595.25,-92 595.25,-92 406.3452,-92 406.3452,-92\"/>\n",
       "<polygon fill=\"#a9a9a9\" stroke=\"#a9a9a9\" points=\"406.3452,-88.5001 396.3452,-92 406.3452,-95.5001 406.3452,-88.5001\"/>\n",
       "</g>\n",
       "<!-- FL_RF_comp&#45;&gt;FL_RF -->\n",
       "<g id=\"edge11\" class=\"edge\">\n",
       "<title>FL_RF_comp&#45;&gt;FL_RF</title>\n",
       "<path fill=\"none\" stroke=\"#a9a9a9\" d=\"M585.5,-219.9551C585.5,-219.9551 585.5,-194.1128 585.5,-194.1128\"/>\n",
       "<polygon fill=\"#a9a9a9\" stroke=\"#a9a9a9\" points=\"589.0001,-194.1128 585.5,-184.1128 582.0001,-194.1129 589.0001,-194.1128\"/>\n",
       "</g>\n",
       "<!-- IL_RF -->\n",
       "<g id=\"node9\" class=\"node\">\n",
       "<title>IL_RF</title>\n",
       "<polygon fill=\"#f4a261\" stroke=\"#eeeeee\" points=\"430,-184 131,-184 131,-146 430,-146 430,-184\"/>\n",
       "<text text-anchor=\"middle\" x=\"280.5\" y=\"-168.8\" font-family=\"roboto\" font-size=\"14.00\" fill=\"#eeeeee\">Inactive land stock after reforestation policy </text>\n",
       "<text text-anchor=\"middle\" x=\"280.5\" y=\"-153.8\" font-family=\"roboto\" font-size=\"14.00\" fill=\"#eeeeee\"> (IL_RF)</text>\n",
       "</g>\n",
       "<!-- IL_RF_comp&#45;&gt;IL_RF -->\n",
       "<g id=\"edge12\" class=\"edge\">\n",
       "<title>IL_RF_comp&#45;&gt;IL_RF</title>\n",
       "<path fill=\"none\" stroke=\"#a9a9a9\" d=\"M296.5,-219.9551C296.5,-219.9551 296.5,-194.1128 296.5,-194.1128\"/>\n",
       "<polygon fill=\"#a9a9a9\" stroke=\"#a9a9a9\" points=\"300.0001,-194.1128 296.5,-184.1128 293.0001,-194.1129 300.0001,-194.1128\"/>\n",
       "</g>\n",
       "<!-- BE2 -->\n",
       "<g id=\"node11\" class=\"node\">\n",
       "<title>BE2</title>\n",
       "<polygon fill=\"#2a9d8f\" stroke=\"#eeeeee\" points=\"452,-38 197,-38 197,0 452,0 452,-38\"/>\n",
       "<text text-anchor=\"middle\" x=\"324.5\" y=\"-22.8\" font-family=\"roboto\" font-size=\"14.00\" fill=\"#eeeeee\">Share of forest area to total land area </text>\n",
       "<text text-anchor=\"middle\" x=\"324.5\" y=\"-7.8\" font-family=\"roboto\" font-size=\"14.00\" fill=\"#eeeeee\"> (BE2)</text>\n",
       "</g>\n",
       "<!-- BE2_comp&#45;&gt;BE2 -->\n",
       "<g id=\"edge13\" class=\"edge\">\n",
       "<title>BE2_comp&#45;&gt;BE2</title>\n",
       "<path fill=\"none\" stroke=\"#a9a9a9\" d=\"M324.5,-73.9551C324.5,-73.9551 324.5,-48.1128 324.5,-48.1128\"/>\n",
       "<polygon fill=\"#a9a9a9\" stroke=\"#a9a9a9\" points=\"328.0001,-48.1128 324.5,-38.1128 321.0001,-48.1129 328.0001,-48.1128\"/>\n",
       "</g>\n",
       "<!-- chCL -->\n",
       "<g id=\"node13\" class=\"node\">\n",
       "<title>chCL</title>\n",
       "<polygon fill=\"#2a9d8f\" stroke=\"#eeeeee\" points=\"641.5,-622 499.5,-622 499.5,-584 641.5,-584 641.5,-622\"/>\n",
       "<text text-anchor=\"middle\" x=\"570.5\" y=\"-606.8\" font-family=\"roboto\" font-size=\"14.00\" fill=\"#eeeeee\">Change in cropland </text>\n",
       "<text text-anchor=\"middle\" x=\"570.5\" y=\"-591.8\" font-family=\"roboto\" font-size=\"14.00\" fill=\"#eeeeee\"> (chCL)</text>\n",
       "</g>\n",
       "<!-- CL_t_comp -->\n",
       "<g id=\"node18\" class=\"node\">\n",
       "<title>CL_t_comp</title>\n",
       "<polygon fill=\"none\" stroke=\"#a9a9a9\" points=\"832.5,-548 680.5,-548 680.5,-512 832.5,-512 832.5,-548\"/>\n",
       "<text text-anchor=\"middle\" x=\"756.5\" y=\"-526.3\" font-family=\"roboto\" font-size=\"14.00\" fill=\"#000000\">CL_t_minus_1 + chCL</text>\n",
       "</g>\n",
       "<!-- chCL&#45;&gt;CL_t_comp -->\n",
       "<g id=\"edge14\" class=\"edge\">\n",
       "<title>chCL&#45;&gt;CL_t_comp</title>\n",
       "<path fill=\"none\" stroke=\"#a9a9a9\" d=\"M641.6747,-603C666.7184,-603 688.75,-603 688.75,-603 688.75,-603 688.75,-558.0449 688.75,-558.0449\"/>\n",
       "<polygon fill=\"#a9a9a9\" stroke=\"#a9a9a9\" points=\"692.2501,-558.0449 688.75,-548.0449 685.2501,-558.045 692.2501,-558.0449\"/>\n",
       "</g>\n",
       "<!-- IL_t_comp -->\n",
       "<g id=\"node19\" class=\"node\">\n",
       "<title>IL_t_comp</title>\n",
       "<polygon fill=\"none\" stroke=\"#a9a9a9\" points=\"487.5,-548 231.5,-548 231.5,-512 487.5,-512 487.5,-548\"/>\n",
       "<text text-anchor=\"middle\" x=\"359.5\" y=\"-526.3\" font-family=\"roboto\" font-size=\"14.00\" fill=\"#000000\">IL_computation(chCL, CL_t_minus_1) </text>\n",
       "</g>\n",
       "<!-- chCL&#45;&gt;IL_t_comp -->\n",
       "<g id=\"edge15\" class=\"edge\">\n",
       "<title>chCL&#45;&gt;IL_t_comp</title>\n",
       "<path fill=\"none\" stroke=\"#a9a9a9\" d=\"M520.75,-583.8201C520.75,-562.1915 520.75,-530 520.75,-530 520.75,-530 497.7295,-530 497.7295,-530\"/>\n",
       "<polygon fill=\"#a9a9a9\" stroke=\"#a9a9a9\" points=\"497.7296,-526.5001 487.7295,-530 497.7295,-533.5001 497.7296,-526.5001\"/>\n",
       "</g>\n",
       "<!-- chCL&#45;&gt;FL_t_comp -->\n",
       "<g id=\"edge16\" class=\"edge\">\n",
       "<title>chCL&#45;&gt;FL_t_comp</title>\n",
       "<path fill=\"none\" stroke=\"#a9a9a9\" d=\"M570.5,-583.9483C570.5,-583.9483 570.5,-412.2344 570.5,-412.2344\"/>\n",
       "<polygon fill=\"#a9a9a9\" stroke=\"#a9a9a9\" points=\"574.0001,-412.2343 570.5,-402.2344 567.0001,-412.2344 574.0001,-412.2343\"/>\n",
       "</g>\n",
       "<!-- CL_t_minus_1 -->\n",
       "<g id=\"node14\" class=\"node\">\n",
       "<title>CL_t_minus_1</title>\n",
       "<polygon fill=\"#e76f51\" stroke=\"#eeeeee\" points=\"816,-622 697,-622 697,-584 816,-584 816,-622\"/>\n",
       "<text text-anchor=\"middle\" x=\"756.5\" y=\"-606.8\" font-family=\"roboto\" font-size=\"14.00\" fill=\"#eeeeee\">Cropland t&#45;1 </text>\n",
       "<text text-anchor=\"middle\" x=\"756.5\" y=\"-591.8\" font-family=\"roboto\" font-size=\"14.00\" fill=\"#eeeeee\"> (CL_t_minus_1)</text>\n",
       "</g>\n",
       "<!-- CL_t_minus_1&#45;&gt;CL_t_comp -->\n",
       "<g id=\"edge17\" class=\"edge\">\n",
       "<title>CL_t_minus_1&#45;&gt;CL_t_comp</title>\n",
       "<path fill=\"none\" stroke=\"#a9a9a9\" d=\"M756.5,-583.8201C756.5,-583.8201 756.5,-558.2973 756.5,-558.2973\"/>\n",
       "<polygon fill=\"#a9a9a9\" stroke=\"#a9a9a9\" points=\"760.0001,-558.2973 756.5,-548.2973 753.0001,-558.2974 760.0001,-558.2973\"/>\n",
       "</g>\n",
       "<!-- IL_t_minus_1 -->\n",
       "<g id=\"node15\" class=\"node\">\n",
       "<title>IL_t_minus_1</title>\n",
       "<polygon fill=\"#e76f51\" stroke=\"#eeeeee\" points=\"419.5,-622 299.5,-622 299.5,-584 419.5,-584 419.5,-622\"/>\n",
       "<text text-anchor=\"middle\" x=\"359.5\" y=\"-606.8\" font-family=\"roboto\" font-size=\"14.00\" fill=\"#eeeeee\">Inactive land t&#45;1 </text>\n",
       "<text text-anchor=\"middle\" x=\"359.5\" y=\"-591.8\" font-family=\"roboto\" font-size=\"14.00\" fill=\"#eeeeee\"> (IL_t_minus_1)</text>\n",
       "</g>\n",
       "<!-- IL_t_minus_1&#45;&gt;IL_t_comp -->\n",
       "<g id=\"edge18\" class=\"edge\">\n",
       "<title>IL_t_minus_1&#45;&gt;IL_t_comp</title>\n",
       "<path fill=\"none\" stroke=\"#a9a9a9\" d=\"M359.5,-583.8201C359.5,-583.8201 359.5,-558.2973 359.5,-558.2973\"/>\n",
       "<polygon fill=\"#a9a9a9\" stroke=\"#a9a9a9\" points=\"363.0001,-558.2973 359.5,-548.2973 356.0001,-558.2974 363.0001,-558.2973\"/>\n",
       "</g>\n",
       "<!-- FL_t_minus_1 -->\n",
       "<g id=\"node16\" class=\"node\">\n",
       "<title>FL_t_minus_1</title>\n",
       "<polygon fill=\"#e76f51\" stroke=\"#eeeeee\" points=\"718,-476 599,-476 599,-438 718,-438 718,-476\"/>\n",
       "<text text-anchor=\"middle\" x=\"658.5\" y=\"-460.8\" font-family=\"roboto\" font-size=\"14.00\" fill=\"#eeeeee\">Forest land t&#45;1 </text>\n",
       "<text text-anchor=\"middle\" x=\"658.5\" y=\"-445.8\" font-family=\"roboto\" font-size=\"14.00\" fill=\"#eeeeee\"> (FL_t_minus_1)</text>\n",
       "</g>\n",
       "<!-- FL_t_minus_1&#45;&gt;FL_t_comp -->\n",
       "<g id=\"edge19\" class=\"edge\">\n",
       "<title>FL_t_minus_1&#45;&gt;FL_t_comp</title>\n",
       "<path fill=\"none\" stroke=\"#a9a9a9\" d=\"M658.5,-437.8201C658.5,-437.8201 658.5,-412.2973 658.5,-412.2973\"/>\n",
       "<polygon fill=\"#a9a9a9\" stroke=\"#a9a9a9\" points=\"662.0001,-412.2973 658.5,-402.2973 655.0001,-412.2974 662.0001,-412.2973\"/>\n",
       "</g>\n",
       "<!-- CL_t -->\n",
       "<g id=\"node17\" class=\"node\">\n",
       "<title>CL_t</title>\n",
       "<polygon fill=\"#2a9d8f\" stroke=\"#eeeeee\" points=\"852.5,-476 736.5,-476 736.5,-438 852.5,-438 852.5,-476\"/>\n",
       "<text text-anchor=\"middle\" x=\"794.5\" y=\"-460.8\" font-family=\"roboto\" font-size=\"14.00\" fill=\"#eeeeee\">Cropland stock </text>\n",
       "<text text-anchor=\"middle\" x=\"794.5\" y=\"-445.8\" font-family=\"roboto\" font-size=\"14.00\" fill=\"#eeeeee\"> (CL_t)</text>\n",
       "</g>\n",
       "<!-- CL_t_comp&#45;&gt;CL_t -->\n",
       "<g id=\"edge20\" class=\"edge\">\n",
       "<title>CL_t_comp&#45;&gt;CL_t</title>\n",
       "<path fill=\"none\" stroke=\"#a9a9a9\" d=\"M784.5,-511.9551C784.5,-511.9551 784.5,-486.1128 784.5,-486.1128\"/>\n",
       "<polygon fill=\"#a9a9a9\" stroke=\"#a9a9a9\" points=\"788.0001,-486.1128 784.5,-476.1128 781.0001,-486.1129 788.0001,-486.1128\"/>\n",
       "</g>\n",
       "<!-- IL_t_comp&#45;&gt;IL_t -->\n",
       "<g id=\"edge21\" class=\"edge\">\n",
       "<title>IL_t_comp&#45;&gt;IL_t</title>\n",
       "<path fill=\"none\" stroke=\"#a9a9a9\" d=\"M303.5,-511.9551C303.5,-511.9551 303.5,-486.1128 303.5,-486.1128\"/>\n",
       "<polygon fill=\"#a9a9a9\" stroke=\"#a9a9a9\" points=\"307.0001,-486.1128 303.5,-476.1128 300.0001,-486.1129 307.0001,-486.1128\"/>\n",
       "</g>\n",
       "<!-- FL_t_comp&#45;&gt;FL_t -->\n",
       "<g id=\"edge22\" class=\"edge\">\n",
       "<title>FL_t_comp&#45;&gt;FL_t</title>\n",
       "<path fill=\"none\" stroke=\"#a9a9a9\" d=\"M585.5,-365.9551C585.5,-365.9551 585.5,-340.1128 585.5,-340.1128\"/>\n",
       "<polygon fill=\"#a9a9a9\" stroke=\"#a9a9a9\" points=\"589.0001,-340.1128 585.5,-330.1128 582.0001,-340.1129 589.0001,-340.1128\"/>\n",
       "</g>\n",
       "<!-- FDTi_crops -->\n",
       "<g id=\"node21\" class=\"node\">\n",
       "<title>FDTi_crops</title>\n",
       "<polygon fill=\"#f4a261\" stroke=\"#eeeeee\" points=\"1110.5,-914 820.5,-914 820.5,-876 1110.5,-876 1110.5,-914\"/>\n",
       "<text text-anchor=\"middle\" x=\"965.5\" y=\"-898.8\" font-family=\"roboto\" font-size=\"14.00\" fill=\"#eeeeee\">Total food demand per food group (crops) </text>\n",
       "<text text-anchor=\"middle\" x=\"965.5\" y=\"-883.8\" font-family=\"roboto\" font-size=\"14.00\" fill=\"#eeeeee\"> (FDTi_crops)</text>\n",
       "</g>\n",
       "<!-- TCLD_comp -->\n",
       "<g id=\"node26\" class=\"node\">\n",
       "<title>TCLD_comp</title>\n",
       "<polygon fill=\"none\" stroke=\"#a9a9a9\" points=\"793.5,-840 569.5,-840 569.5,-804 793.5,-804 793.5,-840\"/>\n",
       "<text text-anchor=\"middle\" x=\"681.5\" y=\"-818.3\" font-family=\"roboto\" font-size=\"14.00\" fill=\"#000000\">sum(FDTi_crops / CYi) * CD_corr</text>\n",
       "</g>\n",
       "<!-- FDTi_crops&#45;&gt;TCLD_comp -->\n",
       "<g id=\"edge23\" class=\"edge\">\n",
       "<title>FDTi_crops&#45;&gt;TCLD_comp</title>\n",
       "<path fill=\"none\" stroke=\"#a9a9a9\" d=\"M826.5,-875.8201C826.5,-854.1915 826.5,-822 826.5,-822 826.5,-822 803.5973,-822 803.5973,-822\"/>\n",
       "<polygon fill=\"#a9a9a9\" stroke=\"#a9a9a9\" points=\"803.5973,-818.5001 793.5973,-822 803.5972,-825.5001 803.5973,-818.5001\"/>\n",
       "</g>\n",
       "<!-- FDTi_comp -->\n",
       "<g id=\"node35\" class=\"node\">\n",
       "<title>FDTi_comp</title>\n",
       "<polygon fill=\"none\" stroke=\"#a9a9a9\" points=\"1227,-840 948,-840 948,-804 1227,-804 1227,-840\"/>\n",
       "<text text-anchor=\"middle\" x=\"1087.5\" y=\"-818.3\" font-family=\"roboto\" font-size=\"14.00\" fill=\"#000000\">concatenate FDTi_crops and FDTi_animal</text>\n",
       "</g>\n",
       "<!-- FDTi_crops&#45;&gt;FDTi_comp -->\n",
       "<g id=\"edge24\" class=\"edge\">\n",
       "<title>FDTi_crops&#45;&gt;FDTi_comp</title>\n",
       "<path fill=\"none\" stroke=\"#a9a9a9\" d=\"M1029.25,-875.8201C1029.25,-875.8201 1029.25,-850.2973 1029.25,-850.2973\"/>\n",
       "<polygon fill=\"#a9a9a9\" stroke=\"#a9a9a9\" points=\"1032.7501,-850.2973 1029.25,-840.2973 1025.7501,-850.2974 1032.7501,-850.2973\"/>\n",
       "</g>\n",
       "<!-- CYi -->\n",
       "<g id=\"node22\" class=\"node\">\n",
       "<title>CYi</title>\n",
       "<polygon fill=\"#e76f51\" stroke=\"#eeeeee\" points=\"542,-914 363,-914 363,-876 542,-876 542,-914\"/>\n",
       "<text text-anchor=\"middle\" x=\"452.5\" y=\"-898.8\" font-family=\"roboto\" font-size=\"14.00\" fill=\"#eeeeee\">Crop yields per crop type </text>\n",
       "<text text-anchor=\"middle\" x=\"452.5\" y=\"-883.8\" font-family=\"roboto\" font-size=\"14.00\" fill=\"#eeeeee\"> (CYi)</text>\n",
       "</g>\n",
       "<!-- CYi&#45;&gt;TCLD_comp -->\n",
       "<g id=\"edge25\" class=\"edge\">\n",
       "<title>CYi&#45;&gt;TCLD_comp</title>\n",
       "<path fill=\"none\" stroke=\"#a9a9a9\" d=\"M452.5,-875.8201C452.5,-854.1915 452.5,-822 452.5,-822 452.5,-822 559.348,-822 559.348,-822\"/>\n",
       "<polygon fill=\"#a9a9a9\" stroke=\"#a9a9a9\" points=\"559.348,-825.5001 569.348,-822 559.348,-818.5001 559.348,-825.5001\"/>\n",
       "</g>\n",
       "<!-- TCLD_baseline -->\n",
       "<g id=\"node23\" class=\"node\">\n",
       "<title>TCLD_baseline</title>\n",
       "<polygon fill=\"#e76f51\" stroke=\"#eeeeee\" points=\"579.5,-768 341.5,-768 341.5,-730 579.5,-730 579.5,-768\"/>\n",
       "<text text-anchor=\"middle\" x=\"460.5\" y=\"-752.8\" font-family=\"roboto\" font-size=\"14.00\" fill=\"#eeeeee\">Total crop land demand (baseline) </text>\n",
       "<text text-anchor=\"middle\" x=\"460.5\" y=\"-737.8\" font-family=\"roboto\" font-size=\"14.00\" fill=\"#eeeeee\"> (TCLD_baseline)</text>\n",
       "</g>\n",
       "<!-- chCL_comp -->\n",
       "<g id=\"node27\" class=\"node\">\n",
       "<title>chCL_comp</title>\n",
       "<polygon fill=\"none\" stroke=\"#a9a9a9\" points=\"644.5,-694 496.5,-694 496.5,-658 644.5,-658 644.5,-694\"/>\n",
       "<text text-anchor=\"middle\" x=\"570.5\" y=\"-672.3\" font-family=\"roboto\" font-size=\"14.00\" fill=\"#000000\">TCLD&#45;TCLD_baseline</text>\n",
       "</g>\n",
       "<!-- TCLD_baseline&#45;&gt;chCL_comp -->\n",
       "<g id=\"edge26\" class=\"edge\">\n",
       "<title>TCLD_baseline&#45;&gt;chCL_comp</title>\n",
       "<path fill=\"none\" stroke=\"#a9a9a9\" d=\"M538,-729.8201C538,-729.8201 538,-704.2973 538,-704.2973\"/>\n",
       "<polygon fill=\"#a9a9a9\" stroke=\"#a9a9a9\" points=\"541.5001,-704.2973 538,-694.2973 534.5001,-704.2974 541.5001,-704.2973\"/>\n",
       "</g>\n",
       "<!-- CD_corr -->\n",
       "<g id=\"node24\" class=\"node\">\n",
       "<title>CD_corr</title>\n",
       "<polygon fill=\"#e9c46a\" stroke=\"#eeeeee\" points=\"802.5,-914 560.5,-914 560.5,-876 802.5,-876 802.5,-914\"/>\n",
       "<text text-anchor=\"middle\" x=\"681.5\" y=\"-898.8\" font-family=\"roboto\" font-size=\"14.00\" fill=\"#eeeeee\">Correction parameter crop demand </text>\n",
       "<text text-anchor=\"middle\" x=\"681.5\" y=\"-883.8\" font-family=\"roboto\" font-size=\"14.00\" fill=\"#eeeeee\"> (CD_corr)</text>\n",
       "</g>\n",
       "<!-- CD_corr&#45;&gt;TCLD_comp -->\n",
       "<g id=\"edge27\" class=\"edge\">\n",
       "<title>CD_corr&#45;&gt;TCLD_comp</title>\n",
       "<path fill=\"none\" stroke=\"#a9a9a9\" d=\"M681.5,-875.8201C681.5,-875.8201 681.5,-850.2973 681.5,-850.2973\"/>\n",
       "<polygon fill=\"#a9a9a9\" stroke=\"#a9a9a9\" points=\"685.0001,-850.2973 681.5,-840.2973 678.0001,-850.2974 685.0001,-850.2973\"/>\n",
       "</g>\n",
       "<!-- TCLD -->\n",
       "<g id=\"node25\" class=\"node\">\n",
       "<title>TCLD</title>\n",
       "<polygon fill=\"#f4a261\" stroke=\"#eeeeee\" points=\"765,-768 598,-768 598,-730 765,-730 765,-768\"/>\n",
       "<text text-anchor=\"middle\" x=\"681.5\" y=\"-752.8\" font-family=\"roboto\" font-size=\"14.00\" fill=\"#eeeeee\">Total cropland demand </text>\n",
       "<text text-anchor=\"middle\" x=\"681.5\" y=\"-737.8\" font-family=\"roboto\" font-size=\"14.00\" fill=\"#eeeeee\"> (TCLD)</text>\n",
       "</g>\n",
       "<!-- TCLD&#45;&gt;chCL_comp -->\n",
       "<g id=\"edge28\" class=\"edge\">\n",
       "<title>TCLD&#45;&gt;chCL_comp</title>\n",
       "<path fill=\"none\" stroke=\"#a9a9a9\" d=\"M621.25,-729.8201C621.25,-729.8201 621.25,-704.2973 621.25,-704.2973\"/>\n",
       "<polygon fill=\"#a9a9a9\" stroke=\"#a9a9a9\" points=\"624.7501,-704.2973 621.25,-694.2973 617.7501,-704.2974 624.7501,-704.2973\"/>\n",
       "</g>\n",
       "<!-- TCLD_comp&#45;&gt;TCLD -->\n",
       "<g id=\"edge29\" class=\"edge\">\n",
       "<title>TCLD_comp&#45;&gt;TCLD</title>\n",
       "<path fill=\"none\" stroke=\"#a9a9a9\" d=\"M681.5,-803.9551C681.5,-803.9551 681.5,-778.1128 681.5,-778.1128\"/>\n",
       "<polygon fill=\"#a9a9a9\" stroke=\"#a9a9a9\" points=\"685.0001,-778.1128 681.5,-768.1128 678.0001,-778.1129 685.0001,-778.1128\"/>\n",
       "</g>\n",
       "<!-- chCL_comp&#45;&gt;chCL -->\n",
       "<g id=\"edge30\" class=\"edge\">\n",
       "<title>chCL_comp&#45;&gt;chCL</title>\n",
       "<path fill=\"none\" stroke=\"#a9a9a9\" d=\"M570.5,-657.9551C570.5,-657.9551 570.5,-632.1128 570.5,-632.1128\"/>\n",
       "<polygon fill=\"#a9a9a9\" stroke=\"#a9a9a9\" points=\"574.0001,-632.1128 570.5,-622.1128 567.0001,-632.1129 574.0001,-632.1128\"/>\n",
       "</g>\n",
       "<!-- food_balance_sheet -->\n",
       "<g id=\"node28\" class=\"node\">\n",
       "<title>food_balance_sheet</title>\n",
       "<polygon fill=\"#e76f51\" stroke=\"#eeeeee\" points=\"860,-1352 649,-1352 649,-1314 860,-1314 860,-1352\"/>\n",
       "<text text-anchor=\"middle\" x=\"754.5\" y=\"-1336.8\" font-family=\"roboto\" font-size=\"14.00\" fill=\"#eeeeee\">All inputs (animals and crops) </text>\n",
       "<text text-anchor=\"middle\" x=\"754.5\" y=\"-1321.8\" font-family=\"roboto\" font-size=\"14.00\" fill=\"#eeeeee\"> (food_balance_sheet)</text>\n",
       "</g>\n",
       "<!-- FDTi_animal_comp -->\n",
       "<g id=\"node30\" class=\"node\">\n",
       "<title>FDTi_animal_comp</title>\n",
       "<polygon fill=\"none\" stroke=\"#a9a9a9\" points=\"1111,-1278 956,-1278 956,-1242 1111,-1242 1111,-1278\"/>\n",
       "<text text-anchor=\"middle\" x=\"1033.5\" y=\"-1256.3\" font-family=\"roboto\" font-size=\"14.00\" fill=\"#000000\">compute FDTi_animal</text>\n",
       "</g>\n",
       "<!-- food_balance_sheet&#45;&gt;FDTi_animal_comp -->\n",
       "<g id=\"edge31\" class=\"edge\">\n",
       "<title>food_balance_sheet&#45;&gt;FDTi_animal_comp</title>\n",
       "<path fill=\"none\" stroke=\"#a9a9a9\" d=\"M821.5,-1313.8201C821.5,-1292.1915 821.5,-1260 821.5,-1260 821.5,-1260 945.7628,-1260 945.7628,-1260\"/>\n",
       "<polygon fill=\"#a9a9a9\" stroke=\"#a9a9a9\" points=\"945.7629,-1263.5001 955.7628,-1260 945.7628,-1256.5001 945.7629,-1263.5001\"/>\n",
       "</g>\n",
       "<!-- FDi_crops_comp -->\n",
       "<g id=\"node32\" class=\"node\">\n",
       "<title>FDi_crops_comp</title>\n",
       "<polygon fill=\"none\" stroke=\"#a9a9a9\" points=\"989.5,-1132 849.5,-1132 849.5,-1096 989.5,-1096 989.5,-1132\"/>\n",
       "<text text-anchor=\"middle\" x=\"919.5\" y=\"-1110.3\" font-family=\"roboto\" font-size=\"14.00\" fill=\"#000000\">compute FDi_crops</text>\n",
       "</g>\n",
       "<!-- food_balance_sheet&#45;&gt;FDi_crops_comp -->\n",
       "<g id=\"edge32\" class=\"edge\">\n",
       "<title>food_balance_sheet&#45;&gt;FDi_crops_comp</title>\n",
       "<path fill=\"none\" stroke=\"#a9a9a9\" d=\"M763.75,-1313.9483C763.75,-1260.6669 763.75,-1114 763.75,-1114 763.75,-1114 839.3707,-1114 839.3707,-1114\"/>\n",
       "<polygon fill=\"#a9a9a9\" stroke=\"#a9a9a9\" points=\"839.3707,-1117.5001 849.3707,-1114 839.3706,-1110.5001 839.3707,-1117.5001\"/>\n",
       "</g>\n",
       "<!-- FDTi_crops_comp -->\n",
       "<g id=\"node33\" class=\"node\">\n",
       "<title>FDTi_crops_comp</title>\n",
       "<polygon fill=\"none\" stroke=\"#a9a9a9\" points=\"1004,-986 855,-986 855,-950 1004,-950 1004,-986\"/>\n",
       "<text text-anchor=\"middle\" x=\"929.5\" y=\"-964.3\" font-family=\"roboto\" font-size=\"14.00\" fill=\"#000000\">compute FDTi_crops</text>\n",
       "</g>\n",
       "<!-- food_balance_sheet&#45;&gt;FDTi_crops_comp -->\n",
       "<g id=\"edge33\" class=\"edge\">\n",
       "<title>food_balance_sheet&#45;&gt;FDTi_crops_comp</title>\n",
       "<path fill=\"none\" stroke=\"#a9a9a9\" d=\"M696.75,-1313.8899C696.75,-1238.7884 696.75,-968 696.75,-968 696.75,-968 844.8961,-968 844.8961,-968\"/>\n",
       "<polygon fill=\"#a9a9a9\" stroke=\"#a9a9a9\" points=\"844.8961,-971.5001 854.8961,-968 844.896,-964.5001 844.8961,-971.5001\"/>\n",
       "</g>\n",
       "<!-- FDTi_animal -->\n",
       "<g id=\"node29\" class=\"node\">\n",
       "<title>FDTi_animal</title>\n",
       "<polygon fill=\"#f4a261\" stroke=\"#eeeeee\" points=\"1358.5,-1206 1054.5,-1206 1054.5,-1168 1358.5,-1168 1358.5,-1206\"/>\n",
       "<text text-anchor=\"middle\" x=\"1206.5\" y=\"-1190.8\" font-family=\"roboto\" font-size=\"14.00\" fill=\"#eeeeee\">Total food demand per food group (animals) </text>\n",
       "<text text-anchor=\"middle\" x=\"1206.5\" y=\"-1175.8\" font-family=\"roboto\" font-size=\"14.00\" fill=\"#eeeeee\"> (FDTi_animal)</text>\n",
       "</g>\n",
       "<!-- FDTi_animal&#45;&gt;FDi_crops_comp -->\n",
       "<g id=\"edge34\" class=\"edge\">\n",
       "<title>FDTi_animal&#45;&gt;FDi_crops_comp</title>\n",
       "<path fill=\"none\" stroke=\"#a9a9a9\" d=\"M1084.5,-1167.8201C1084.5,-1146.1915 1084.5,-1114 1084.5,-1114 1084.5,-1114 999.9535,-1114 999.9535,-1114\"/>\n",
       "<polygon fill=\"#a9a9a9\" stroke=\"#a9a9a9\" points=\"999.9535,-1110.5001 989.9535,-1114 999.9534,-1117.5001 999.9535,-1110.5001\"/>\n",
       "</g>\n",
       "<!-- FDTi_animal&#45;&gt;FDTi_comp -->\n",
       "<g id=\"edge35\" class=\"edge\">\n",
       "<title>FDTi_animal&#45;&gt;FDTi_comp</title>\n",
       "<path fill=\"none\" stroke=\"#a9a9a9\" d=\"M1170.75,-1167.8899C1170.75,-1167.8899 1170.75,-850.0537 1170.75,-850.0537\"/>\n",
       "<polygon fill=\"#a9a9a9\" stroke=\"#a9a9a9\" points=\"1174.2501,-850.0536 1170.75,-840.0537 1167.2501,-850.0537 1174.2501,-850.0536\"/>\n",
       "</g>\n",
       "<!-- FDTi_animal_comp&#45;&gt;FDTi_animal -->\n",
       "<g id=\"edge36\" class=\"edge\">\n",
       "<title>FDTi_animal_comp&#45;&gt;FDTi_animal</title>\n",
       "<path fill=\"none\" stroke=\"#a9a9a9\" d=\"M1082.75,-1241.9551C1082.75,-1241.9551 1082.75,-1216.1128 1082.75,-1216.1128\"/>\n",
       "<polygon fill=\"#a9a9a9\" stroke=\"#a9a9a9\" points=\"1086.2501,-1216.1128 1082.75,-1206.1128 1079.2501,-1216.1129 1086.2501,-1216.1128\"/>\n",
       "</g>\n",
       "<!-- FDi_crops -->\n",
       "<g id=\"node31\" class=\"node\">\n",
       "<title>FDi_crops</title>\n",
       "<polygon fill=\"#f4a261\" stroke=\"#eeeeee\" points=\"1114.5,-1060 744.5,-1060 744.5,-1022 1114.5,-1022 1114.5,-1060\"/>\n",
       "<text text-anchor=\"middle\" x=\"929.5\" y=\"-1044.8\" font-family=\"roboto\" font-size=\"14.00\" fill=\"#eeeeee\">Total domestic food production per food group (crops) </text>\n",
       "<text text-anchor=\"middle\" x=\"929.5\" y=\"-1029.8\" font-family=\"roboto\" font-size=\"14.00\" fill=\"#eeeeee\"> (FDi_crops)</text>\n",
       "</g>\n",
       "<!-- FDi_crops&#45;&gt;FDTi_crops_comp -->\n",
       "<g id=\"edge37\" class=\"edge\">\n",
       "<title>FDi_crops&#45;&gt;FDTi_crops_comp</title>\n",
       "<path fill=\"none\" stroke=\"#a9a9a9\" d=\"M929.5,-1021.8201C929.5,-1021.8201 929.5,-996.2973 929.5,-996.2973\"/>\n",
       "<polygon fill=\"#a9a9a9\" stroke=\"#a9a9a9\" points=\"933.0001,-996.2973 929.5,-986.2973 926.0001,-996.2974 933.0001,-996.2973\"/>\n",
       "</g>\n",
       "<!-- FDi_crops_comp&#45;&gt;FDi_crops -->\n",
       "<g id=\"edge38\" class=\"edge\">\n",
       "<title>FDi_crops_comp&#45;&gt;FDi_crops</title>\n",
       "<path fill=\"none\" stroke=\"#a9a9a9\" d=\"M919.5,-1095.9551C919.5,-1095.9551 919.5,-1070.1128 919.5,-1070.1128\"/>\n",
       "<polygon fill=\"#a9a9a9\" stroke=\"#a9a9a9\" points=\"923.0001,-1070.1128 919.5,-1060.1128 916.0001,-1070.1129 923.0001,-1070.1128\"/>\n",
       "</g>\n",
       "<!-- FDTi_crops_comp&#45;&gt;FDTi_crops -->\n",
       "<g id=\"edge39\" class=\"edge\">\n",
       "<title>FDTi_crops_comp&#45;&gt;FDTi_crops</title>\n",
       "<path fill=\"none\" stroke=\"#a9a9a9\" d=\"M929.5,-949.9551C929.5,-949.9551 929.5,-924.1128 929.5,-924.1128\"/>\n",
       "<polygon fill=\"#a9a9a9\" stroke=\"#a9a9a9\" points=\"933.0001,-924.1128 929.5,-914.1128 926.0001,-924.1129 933.0001,-924.1128\"/>\n",
       "</g>\n",
       "<!-- FDTi -->\n",
       "<g id=\"node34\" class=\"node\">\n",
       "<title>FDTi</title>\n",
       "<polygon fill=\"#2a9d8f\" stroke=\"#eeeeee\" points=\"1207,-768 968,-768 968,-730 1207,-730 1207,-768\"/>\n",
       "<text text-anchor=\"middle\" x=\"1087.5\" y=\"-752.8\" font-family=\"roboto\" font-size=\"14.00\" fill=\"#eeeeee\">Total food demand per food group </text>\n",
       "<text text-anchor=\"middle\" x=\"1087.5\" y=\"-737.8\" font-family=\"roboto\" font-size=\"14.00\" fill=\"#eeeeee\"> (FDTi)</text>\n",
       "</g>\n",
       "<!-- FDTi_comp&#45;&gt;FDTi -->\n",
       "<g id=\"edge40\" class=\"edge\">\n",
       "<title>FDTi_comp&#45;&gt;FDTi</title>\n",
       "<path fill=\"none\" stroke=\"#a9a9a9\" d=\"M1087.5,-803.9551C1087.5,-803.9551 1087.5,-778.1128 1087.5,-778.1128\"/>\n",
       "<polygon fill=\"#a9a9a9\" stroke=\"#a9a9a9\" points=\"1091.0001,-778.1128 1087.5,-768.1128 1084.0001,-778.1129 1091.0001,-778.1128\"/>\n",
       "</g>\n",
       "<!-- CRfd -->\n",
       "<g id=\"node36\" class=\"node\">\n",
       "<title>CRfd</title>\n",
       "<polygon fill=\"#e9c46a\" stroke=\"#eeeeee\" points=\"1036,-1206 783,-1206 783,-1168 1036,-1168 1036,-1206\"/>\n",
       "<text text-anchor=\"middle\" x=\"909.5\" y=\"-1190.8\" font-family=\"roboto\" font-size=\"14.00\" fill=\"#eeeeee\">Feed/forage distribution (correction) </text>\n",
       "<text text-anchor=\"middle\" x=\"909.5\" y=\"-1175.8\" font-family=\"roboto\" font-size=\"14.00\" fill=\"#eeeeee\"> (CRfd)</text>\n",
       "</g>\n",
       "<!-- CRfd&#45;&gt;FDi_crops_comp -->\n",
       "<g id=\"edge41\" class=\"edge\">\n",
       "<title>CRfd&#45;&gt;FDi_crops_comp</title>\n",
       "<path fill=\"none\" stroke=\"#a9a9a9\" d=\"M919.5,-1167.8201C919.5,-1167.8201 919.5,-1142.2973 919.5,-1142.2973\"/>\n",
       "<polygon fill=\"#a9a9a9\" stroke=\"#a9a9a9\" points=\"923.0001,-1142.2973 919.5,-1132.2973 916.0001,-1142.2974 923.0001,-1142.2973\"/>\n",
       "</g>\n",
       "</g>\n",
       "</svg>\n"
      ],
      "text/plain": [
       "<graphviz.dot.Digraph at 0x7fe459c2e950>"
      ]
     },
     "execution_count": 64,
     "metadata": {},
     "output_type": "execute_result"
    }
   ],
   "source": [
    "model_BE2.draw()"
   ]
  },
  {
   "cell_type": "code",
   "execution_count": 85,
   "metadata": {
    "ExecuteTime": {
     "end_time": "2021-01-11T06:55:55.668311Z",
     "start_time": "2021-01-11T06:55:55.662342Z"
    }
   },
   "outputs": [
    {
     "data": {
      "text/plain": [
       "7043213.884530529"
      ]
     },
     "execution_count": 85,
     "metadata": {},
     "output_type": "execute_result"
    }
   ],
   "source": [
    "res['TCLD']"
   ]
  },
  {
   "cell_type": "code",
   "execution_count": 87,
   "metadata": {
    "ExecuteTime": {
     "end_time": "2021-01-11T07:45:15.918841Z",
     "start_time": "2021-01-11T07:45:15.910319Z"
    }
   },
   "outputs": [
    {
     "data": {
      "text/plain": [
       "-442.11323625544554"
      ]
     },
     "execution_count": 87,
     "metadata": {},
     "output_type": "execute_result"
    }
   ],
   "source": [
    "res['FDTi'].dropna().loc['Wheat and products']"
   ]
  },
  {
   "cell_type": "code",
   "execution_count": 7,
   "metadata": {
    "ExecuteTime": {
     "end_time": "2021-01-07T06:23:42.325295Z",
     "start_time": "2021-01-07T06:23:30.423091Z"
    }
   },
   "outputs": [
    {
     "name": "stdout",
     "output_type": "stream",
     "text": [
      "14.6 ms ± 92.2 µs per loop (mean ± std. dev. of 7 runs, 100 loops each)\n"
     ]
    }
   ],
   "source": [
    "%timeit res = model_BE2.run(X)"
   ]
  },
  {
   "cell_type": "code",
   "execution_count": 24,
   "metadata": {
    "ExecuteTime": {
     "end_time": "2021-01-07T06:33:05.970687Z",
     "start_time": "2021-01-07T06:33:05.966298Z"
    }
   },
   "outputs": [],
   "source": [
    "def get_result_for_country_year(country, year):\n",
    "    X = prepare_data_country_year(country, year)\n",
    "    X['FWPPi'] = 0\n",
    "    X['FWCRi'] = 0\n",
    "    X['CRfd'] = 2\n",
    "    X['CD_corr'] = 3\n",
    "    X['R_rate'] = 0\n",
    "    return model_BE2.run(X)"
   ]
  },
  {
   "cell_type": "code",
   "execution_count": 23,
   "metadata": {
    "ExecuteTime": {
     "end_time": "2021-01-07T06:33:05.963637Z",
     "start_time": "2021-01-07T06:32:37.804081Z"
    },
    "scrolled": false
   },
   "outputs": [
    {
     "name": "stdout",
     "output_type": "stream",
     "text": [
      "Afghanistan: done\n",
      "Albania: done\n",
      "Algeria: done\n",
      "Angola: 'IL_t_minus_1'\n",
      "Antigua and Barbuda: 'IL_t_minus_1'\n",
      "Argentina: done\n",
      "Armenia: done\n",
      "Australia: 'IL_t_minus_1'\n",
      "Austria: done\n",
      "Azerbaijan: done\n",
      "Bahamas: 'IL_t_minus_1'\n",
      "Bangladesh: done\n",
      "Barbados: 'IL_t_minus_1'\n",
      "Belarus: 'IL_t_minus_1'\n",
      "Belgium: done\n",
      "Belgium-Luxembourg: 'P'\n",
      "Belize: 'IL_t_minus_1'\n",
      "Benin: 'IL_t_minus_1'\n",
      "Bolivia (Plurinational State of): done\n",
      "Bosnia and Herzegovina: done\n",
      "Botswana: done\n",
      "Brazil: 'IL_t_minus_1'\n",
      "Bulgaria: done\n",
      "Burkina Faso: 'IL_t_minus_1'\n",
      "Cabo Verde: 'IL_t_minus_1'\n",
      "Cambodia: 'IL_t_minus_1'\n",
      "Cameroon: 'IL_t_minus_1'\n",
      "Canada: done\n",
      "Central African Republic: 'IL_t_minus_1'\n",
      "Chad: 'IL_t_minus_1'\n",
      "Chile: 'IL_t_minus_1'\n",
      "China, Hong Kong SAR: 'IL_t_minus_1'\n",
      "China, Macao SAR: 'IL_t_minus_1'\n",
      "China, mainland: 'IL_t_minus_1'\n",
      "China, Taiwan Province of: 'IL_t_minus_1'\n",
      "Colombia: done\n",
      "Comoros: 'P'\n",
      "Congo: 'IL_t_minus_1'\n",
      "Costa Rica: done\n",
      "Côte d'Ivoire: 'IL_t_minus_1'\n",
      "Croatia: done\n",
      "Cuba: done\n",
      "Cyprus: done\n",
      "Czechia: done\n",
      "Czechoslovakia: 'P'\n",
      "Democratic People's Republic of Korea: 'IL_t_minus_1'\n",
      "Denmark: done\n",
      "Djibouti: 'IL_t_minus_1'\n",
      "Dominica: 'IL_t_minus_1'\n",
      "Dominican Republic: 'IL_t_minus_1'\n",
      "Ecuador: done\n",
      "Egypt: 'IL_t_minus_1'\n",
      "El Salvador: done\n",
      "Estonia: done\n",
      "Eswatini: 'IL_t_minus_1'\n",
      "Ethiopia: done\n",
      "Ethiopia PDR: 'P'\n",
      "Fiji: 'IL_t_minus_1'\n",
      "Finland: done\n",
      "France: done\n",
      "French Polynesia: 'IL_t_minus_1'\n",
      "Gabon: 'IL_t_minus_1'\n",
      "Gambia: 'IL_t_minus_1'\n",
      "Georgia: done\n",
      "Germany: done\n",
      "Ghana: 'IL_t_minus_1'\n",
      "Greece: done\n",
      "Grenada: 'IL_t_minus_1'\n",
      "Guatemala: done\n",
      "Guinea: 'IL_t_minus_1'\n",
      "Guinea-Bissau: 'IL_t_minus_1'\n",
      "Guyana: 'IL_t_minus_1'\n",
      "Haiti: 'IL_t_minus_1'\n",
      "Honduras: 'IL_t_minus_1'\n",
      "Hungary: done\n",
      "Iceland: done\n",
      "India: done\n",
      "Indonesia: 'IL_t_minus_1'\n",
      "Iran (Islamic Republic of): done\n",
      "Iraq: done\n",
      "Ireland: 'IL_t_minus_1'\n",
      "Israel: done\n",
      "Italy: done\n",
      "Jamaica: 'IL_t_minus_1'\n",
      "Japan: 'IL_t_minus_1'\n",
      "Jordan: done\n",
      "Kazakhstan: done\n",
      "Kenya: 'IL_t_minus_1'\n",
      "Kiribati: 'IL_t_minus_1'\n",
      "Kuwait: 'IL_t_minus_1'\n",
      "Kyrgyzstan: done\n",
      "Lao People's Democratic Republic: 'IL_t_minus_1'\n",
      "Latvia: done\n",
      "Lebanon: done\n",
      "Lesotho: done\n",
      "Liberia: 'IL_t_minus_1'\n",
      "Lithuania: done\n",
      "Luxembourg: done\n",
      "Madagascar: 'IL_t_minus_1'\n",
      "Malawi: 'IL_t_minus_1'\n",
      "Malaysia: done\n",
      "Maldives: 'IL_t_minus_1'\n",
      "Mali: done\n",
      "Malta: done\n",
      "Mauritania: 'IL_t_minus_1'\n",
      "Mauritius: 'IL_t_minus_1'\n",
      "Mexico: done\n",
      "Mongolia: done\n",
      "Montenegro: 'IL_t_minus_1'\n",
      "Morocco: done\n",
      "Mozambique: 'IL_t_minus_1'\n",
      "Myanmar: done\n",
      "Namibia: 'IL_t_minus_1'\n",
      "Nepal: 'IL_t_minus_1'\n",
      "Netherlands: done\n",
      "Netherlands Antilles (former): 'P'\n",
      "New Caledonia: done\n",
      "New Zealand: 'IL_t_minus_1'\n",
      "Nicaragua: done\n",
      "Niger: 'IL_t_minus_1'\n",
      "Nigeria: 'IL_t_minus_1'\n",
      "North Macedonia: done\n",
      "Norway: done\n",
      "Oman: 'IL_t_minus_1'\n",
      "Pakistan: done\n",
      "Panama: done\n",
      "Papua New Guinea: 'IL_t_minus_1'\n",
      "Paraguay: 'IL_t_minus_1'\n",
      "Peru: done\n",
      "Philippines: 'IL_t_minus_1'\n",
      "Poland: done\n",
      "Portugal: done\n",
      "Republic of Korea: 'IL_t_minus_1'\n",
      "Republic of Moldova: done\n",
      "Romania: done\n",
      "Russian Federation: done\n",
      "Rwanda: 'IL_t_minus_1'\n",
      "Saint Kitts and Nevis: 'IL_t_minus_1'\n",
      "Saint Lucia: 'IL_t_minus_1'\n",
      "Saint Vincent and the Grenadines: 'IL_t_minus_1'\n",
      "Samoa: 'IL_t_minus_1'\n",
      "Sao Tome and Principe: 'IL_t_minus_1'\n",
      "Saudi Arabia: 'IL_t_minus_1'\n",
      "Senegal: done\n",
      "Serbia: done\n",
      "Serbia and Montenegro: 'P'\n",
      "Seychelles: 'P'\n",
      "Sierra Leone: 'IL_t_minus_1'\n",
      "Slovakia: done\n",
      "Slovenia: 'IL_t_minus_1'\n",
      "Solomon Islands: 'IL_t_minus_1'\n",
      "South Africa: 'IL_t_minus_1'\n",
      "Spain: done\n",
      "Sri Lanka: 'IL_t_minus_1'\n",
      "Sudan: done\n",
      "Sudan (former): 'P'\n",
      "Suriname: 'IL_t_minus_1'\n",
      "Sweden: done\n",
      "Switzerland: done\n",
      "Tajikistan: done\n",
      "Thailand: 'IL_t_minus_1'\n",
      "Timor-Leste: 'IL_t_minus_1'\n",
      "Togo: 'IL_t_minus_1'\n",
      "Trinidad and Tobago: 'IL_t_minus_1'\n",
      "Tunisia: done\n",
      "Turkey: done\n",
      "Turkmenistan: 'IL_t_minus_1'\n",
      "Uganda: 'IL_t_minus_1'\n",
      "Ukraine: done\n",
      "United Arab Emirates: done\n",
      "United Kingdom of Great Britain and Northern Ireland: done\n",
      "United Republic of Tanzania: 'IL_t_minus_1'\n",
      "United States of America: done\n",
      "Uruguay: done\n",
      "USSR: 'P'\n",
      "Uzbekistan: done\n",
      "Vanuatu: 'IL_t_minus_1'\n",
      "Venezuela (Bolivarian Republic of): 'IL_t_minus_1'\n",
      "Viet Nam: 'IL_t_minus_1'\n",
      "Yemen: done\n",
      "Yugoslav SFR: 'P'\n",
      "Zambia: 'IL_t_minus_1'\n",
      "Zimbabwe: 'IL_t_minus_1'\n"
     ]
    }
   ],
   "source": [
    "results = {}\n",
    "year = 2016\n",
    "for country in FBS.Area.unique():\n",
    "    print(country,end=': ')\n",
    "    try:\n",
    "        results[country]  = get_result_for_country_year(country, year)\n",
    "        print('done')\n",
    "    except Exception as e:\n",
    "        print(e)\n",
    "        results[country] = np.nan"
   ]
  },
  {
   "cell_type": "code",
   "execution_count": 16,
   "metadata": {
    "ExecuteTime": {
     "end_time": "2021-01-07T06:27:30.195761Z",
     "start_time": "2021-01-07T06:27:30.189631Z"
    }
   },
   "outputs": [
    {
     "data": {
      "text/plain": [
       "40.00353577371048"
      ]
     },
     "execution_count": 16,
     "metadata": {},
     "output_type": "execute_result"
    }
   ],
   "source": [
    "results['Slovakia']['BE2']"
   ]
  }
 ],
 "metadata": {
  "kernelspec": {
   "display_name": "Python 3",
   "language": "python",
   "name": "python3"
  },
  "language_info": {
   "codemirror_mode": {
    "name": "ipython",
    "version": 3
   },
   "file_extension": ".py",
   "mimetype": "text/x-python",
   "name": "python",
   "nbconvert_exporter": "python",
   "pygments_lexer": "ipython3",
   "version": "3.7.7"
  }
 },
 "nbformat": 4,
 "nbformat_minor": 4
}
