{
 "cells": [
  {
   "cell_type": "code",
   "execution_count": null,
   "metadata": {
    "ExecuteTime": {
     "start_time": "2020-12-22T03:18:33.644Z"
    }
   },
   "outputs": [],
   "source": [
    "from graphmodels.utils import parse_parameter_json\n",
    "from models.Hermen.LandUseModel import LandUseModel"
   ]
  },
  {
   "cell_type": "code",
   "execution_count": null,
   "metadata": {
    "ExecuteTime": {
     "end_time": "2020-12-22T02:35:43.402858Z",
     "start_time": "2020-12-22T02:35:43.382353Z"
    }
   },
   "outputs": [],
   "source": [
    "parameters = parse_parameter_json(\"models/Hermen/LandUse_parameters.json\")"
   ]
  },
  {
   "cell_type": "code",
   "execution_count": null,
   "metadata": {
    "ExecuteTime": {
     "end_time": "2020-12-22T02:36:01.689089Z",
     "start_time": "2020-12-22T02:36:01.665691Z"
    }
   },
   "outputs": [],
   "source": [
    "results = LandUseModel.run(parameters)"
   ]
  },
  {
   "cell_type": "code",
   "execution_count": null,
   "metadata": {
    "ExecuteTime": {
     "end_time": "2020-12-22T02:36:22.142067Z",
     "start_time": "2020-12-22T02:36:21.992301Z"
    }
   },
   "outputs": [],
   "source": [
    "LandUseModel.draw()"
   ]
  }
 ],
 "metadata": {
  "kernelspec": {
   "display_name": "Python 3",
   "language": "python",
   "name": "python3"
  },
  "language_info": {
   "codemirror_mode": {
    "name": "ipython",
    "version": 3
   },
   "file_extension": ".py",
   "mimetype": "text/x-python",
   "name": "python",
   "nbconvert_exporter": "python",
   "pygments_lexer": "ipython3",
   "version": "3.7.7"
  }
 },
 "nbformat": 4,
 "nbformat_minor": 4
}
