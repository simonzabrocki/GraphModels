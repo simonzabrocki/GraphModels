{
 "cells": [
  {
   "cell_type": "code",
   "execution_count": 1,
   "metadata": {
    "ExecuteTime": {
     "end_time": "2020-12-07T03:33:39.242132Z",
     "start_time": "2020-12-07T03:33:38.850136Z"
    }
   },
   "outputs": [],
   "source": [
    "import pandas as pd\n",
    "import json"
   ]
  },
  {
   "cell_type": "code",
   "execution_count": 2,
   "metadata": {
    "ExecuteTime": {
     "end_time": "2020-12-07T03:33:39.251517Z",
     "start_time": "2020-12-07T03:33:39.243542Z"
    }
   },
   "outputs": [],
   "source": [
    "df = pd.read_csv('models/Hermen/parameters/raw/food input.csv')\n",
    "\n",
    "# food_input = {\n",
    "#     'name': 'Food balance',\n",
    "#     'Description': 'FAO Food Balance sheet (2017)',\n",
    "#     'link': 'http://www.fao.org/faostat/en/#data/FBS',\n",
    "#     'data': df.to_dict('records')\n",
    "# }"
   ]
  },
  {
   "cell_type": "code",
   "execution_count": null,
   "metadata": {
    "ExecuteTime": {
     "end_time": "2020-12-04T02:36:37.654203Z",
     "start_time": "2020-12-04T02:36:37.613449Z"
    }
   },
   "outputs": [],
   "source": [
    "food_supply_quantity = {\n",
    "    'source': 'http://www.fao.org/faostat/en/#data/FBS',\n",
    "    'name': 'food supply ',\n",
    "    'unit': 'kg/capita/year',\n",
    "    'id': 'FDKG2017_i',\n",
    "    'data': df[['Item', 'Food supply quantity (kg/capita/yr)']].set_index('Item')['Food supply quantity (kg/capita/yr)'].to_dict()\n",
    "}\n",
    "food_supply = {\n",
    "    'source': 'http://www.fao.org/faostat/en/#data/FBS',\n",
    "    'name': 'food supply quantity',\n",
    "    'unit': 'kcal/capita/day',\n",
    "    'id': 'FDKC2017_i',\n",
    "    'data': df[['Item', 'Food supply (Kcal/capita/day)']].set_index('Item')['Food supply (Kcal/capita/day)'].to_dict()\n",
    "}\n",
    "\n",
    "production = {\n",
    "    'source': 'http://www.fao.org/faostat/en/#data/FBS',\n",
    "    'name': 'production',\n",
    "    'id': 'FPi',\n",
    "    'unit': '1000 t',\n",
    "    'data':df[['Item', 'Production']].set_index('Item')['Production'].to_dict()\n",
    "}\n",
    "\n",
    "food = {\n",
    "    'source': 'http://www.fao.org/faostat/en/#data/FBS',\n",
    "    'name': 'seed demand',\n",
    "    'id': 'SDi',\n",
    "    'unit': '1000 t',\n",
    "    'data': df[['Item', 'Food']].set_index('Item')['Food'].to_dict()\n",
    "}\n",
    "\n",
    "seed = {\n",
    "    'source': 'http://www.fao.org/faostat/en/#data/FBS',\n",
    "    'name': 'non-food demand',\n",
    "    'unit': '1000 t',\n",
    "    'id': 'NFDi',\n",
    "    'data': df[['Item', 'Seed']].set_index('Item')['Seed'].to_dict()\n",
    "}\n",
    "\n",
    "non_food = {\n",
    "    'source': 'http://www.fao.org/faostat/en/#data/FBS',\n",
    "    'id': 'AFDi2017',\n",
    "    'name': 'total animal feed demand',\n",
    "    'unit': '1000 t',\n",
    "    'data': df[['Item', 'non-food use']].set_index('Item')['non-food use'].to_dict()\n",
    "}\n",
    "\n",
    "feed = {\n",
    "    'source': 'http://www.fao.org/faostat/en/#data/FBS',\n",
    "    'id': 'FDi2017',\n",
    "    'name': 'feed demand',\n",
    "    'unit': '1000 t',\n",
    "    'data': df[['Item', 'Feed']].set_index('Item')['Feed'].to_dict()\n",
    "}\n",
    "\n",
    "Processed = {\n",
    "    'source': 'http://www.fao.org/faostat/en/#data/FBS',\n",
    "    'id': 'PDi',\n",
    "    'name': 'processed demand',\n",
    "    'unit': '1000 t',\n",
    "    'data': df[['Item', 'Processed']].set_index('Item')['Processed'].to_dict()\n",
    "}\n",
    "\n",
    "Residuals = {\n",
    "    'source': 'http://www.fao.org/faostat/en/#data/FBS',\n",
    "    'id': 'RDi',\n",
    "    'name': 'residual demand',\n",
    "    'unit': '1000 t',\n",
    "    'data': df[['Item', 'Residuals']].set_index('Item')['Residuals'].to_dict()\n",
    "}\n",
    "\n",
    "Imports = {\n",
    "    'source': 'http://www.fao.org/faostat/en/#data/FBS',\n",
    "    'id': 'FIi',\n",
    "    'name': 'food imports',\n",
    "    'unit': '1000 t',\n",
    "    'data': df[['Item', 'Imports']].set_index('Item')['Imports'].to_dict()\n",
    "}\n",
    "\n",
    "Exports = {\n",
    "    'source': 'http://www.fao.org/faostat/en/#data/FBS',\n",
    "    'id': 'FEi',\n",
    "    'name': 'food exports',\n",
    "    'unit': '1000 t',\n",
    "    'data': df[['Item', 'Exports']].set_index('Item')['Exports'].to_dict()\n",
    "}\n",
    "\n",
    "Losses = {\n",
    "    'source': 'http://www.fao.org/faostat/en/#data/FBS',\n",
    "    'id': 'FLO2017i',\n",
    "    'name': 'food losses',\n",
    "    'unit': '1000 t',\n",
    "    'data': df[['Item', 'Losses']].set_index('Item')['Losses'].to_dict()\n",
    "}\n",
    "Stock = {\n",
    "    'source': 'http://www.fao.org/faostat/en/#data/FBS',\n",
    "    'id': 'SVi',\n",
    "    'name': 'stock variation',\n",
    "    'unit': '1000 t',\n",
    "    'data': df[['Item', 'Stock variation']].set_index('Item')['Stock variation'].to_dict()\n",
    "}\n",
    "\n",
    "waste_policy = {\n",
    "    'source': 'http://www.fao.org/faostat/en/#data/FBS',\n",
    "    'id': 'FWPPi',\n",
    "    'name': 'food waste reduction policy',\n",
    "    'unit': '%',\n",
    "    'data': df[['Item', 'waste-policy prod (%)']].set_index('Item')['waste-policy prod (%)'].to_dict()\n",
    "}\n",
    "\n",
    "\n",
    "waste_consumer = {\n",
    "    'source': 'http://www.fao.org/faostat/en/#data/FBS',\n",
    "    'id': 'FWCRi',\n",
    "    'name': 'waste reduction policy consumption',\n",
    "    'unit': 'kcal/capita/day',\n",
    "    'data': df[['Item','waste reduction policy consumers  (kcal/cap/day)']].set_index('Item')['waste reduction policy consumers  (kcal/cap/day)'].to_dict()\n",
    "}"
   ]
  },
  {
   "cell_type": "code",
   "execution_count": null,
   "metadata": {
    "ExecuteTime": {
     "end_time": "2020-12-04T02:36:38.591393Z",
     "start_time": "2020-12-04T02:36:38.585729Z"
    }
   },
   "outputs": [],
   "source": [
    "food = [food_supply_quantity,\n",
    "        food_supply,\n",
    "        production,\n",
    "        food,\n",
    "        seed,\n",
    "        non_food,\n",
    "        feed,\n",
    "        Processed,\n",
    "        Residuals,\n",
    "        Imports,\n",
    "        Exports,\n",
    "        Losses,\n",
    "        Stock,\n",
    "        waste_policy,\n",
    "        waste_consumer]"
   ]
  },
  {
   "cell_type": "code",
   "execution_count": null,
   "metadata": {
    "ExecuteTime": {
     "end_time": "2020-12-04T02:43:42.056415Z",
     "start_time": "2020-12-04T02:43:42.051753Z"
    }
   },
   "outputs": [],
   "source": [
    "formated = {}\n",
    "for dic in food:\n",
    "    formated[dic['id']] = dic"
   ]
  },
  {
   "cell_type": "code",
   "execution_count": null,
   "metadata": {
    "ExecuteTime": {
     "end_time": "2020-12-04T02:43:42.427115Z",
     "start_time": "2020-12-04T02:43:42.400410Z"
    }
   },
   "outputs": [],
   "source": [
    "formated"
   ]
  },
  {
   "cell_type": "code",
   "execution_count": null,
   "metadata": {
    "ExecuteTime": {
     "end_time": "2020-12-04T02:43:46.151323Z",
     "start_time": "2020-12-04T02:43:46.143115Z"
    }
   },
   "outputs": [],
   "source": [
    "with open('food_balance.json', 'w') as f:\n",
    "    json.dump(formated, f, sort_keys=True, indent=4)"
   ]
  },
  {
   "cell_type": "code",
   "execution_count": null,
   "metadata": {
    "ExecuteTime": {
     "end_time": "2020-12-04T02:44:14.020310Z",
     "start_time": "2020-12-04T02:44:14.014769Z"
    }
   },
   "outputs": [],
   "source": [
    "with open('food_balance.json', 'r') as f:\n",
    "    data = json.load(f)"
   ]
  },
  {
   "cell_type": "code",
   "execution_count": null,
   "metadata": {},
   "outputs": [],
   "source": []
  },
  {
   "cell_type": "code",
   "execution_count": null,
   "metadata": {
    "ExecuteTime": {
     "end_time": "2020-12-04T03:11:00.990707Z",
     "start_time": "2020-12-04T03:11:00.905684Z"
    }
   },
   "outputs": [],
   "source": [
    "with pd.ExcelWriter('example.xlsx') as writer:\n",
    "    for parameter, dic in data.items():\n",
    "        series = pd.Series(dic['data'])\n",
    "        series.to_excel(writer, sheet_name=parameter, header=False)\n",
    "        meta_series = pd.DataFrame([dic['name'], dic['id'], dic['source'], dic['unit'], 2017])\n",
    "        meta_series.index = ['name', 'id', 'source', 'unit', 'year']\n",
    "        meta_series.to_excel(writer, sheet_name=f'{parameter}_meta', header=False)"
   ]
  },
  {
   "cell_type": "code",
   "execution_count": 1,
   "metadata": {
    "ExecuteTime": {
     "end_time": "2020-12-08T01:17:13.491668Z",
     "start_time": "2020-12-08T01:17:13.433488Z"
    }
   },
   "outputs": [
    {
     "ename": "NameError",
     "evalue": "name 'pd' is not defined",
     "output_type": "error",
     "traceback": [
      "\u001b[0;31m---------------------------------------------------------------------------\u001b[0m",
      "\u001b[0;31mNameError\u001b[0m                                 Traceback (most recent call last)",
      "\u001b[0;32m<ipython-input-1-aa549b5b6c7c>\u001b[0m in \u001b[0;36m<module>\u001b[0;34m\u001b[0m\n\u001b[0;32m----> 1\u001b[0;31m \u001b[0mxl\u001b[0m \u001b[0;34m=\u001b[0m \u001b[0mpd\u001b[0m\u001b[0;34m.\u001b[0m\u001b[0mExcelFile\u001b[0m\u001b[0;34m(\u001b[0m\u001b[0;34m\"example.xlsx\"\u001b[0m\u001b[0;34m)\u001b[0m\u001b[0;34m\u001b[0m\u001b[0;34m\u001b[0m\u001b[0m\n\u001b[0m\u001b[1;32m      2\u001b[0m \u001b[0mparameters\u001b[0m \u001b[0;34m=\u001b[0m \u001b[0;34m[\u001b[0m\u001b[0msheet\u001b[0m \u001b[0;32mfor\u001b[0m \u001b[0msheet\u001b[0m \u001b[0;32min\u001b[0m \u001b[0mxl\u001b[0m\u001b[0;34m.\u001b[0m\u001b[0msheet_names\u001b[0m \u001b[0;32mif\u001b[0m \u001b[0;34m'meta'\u001b[0m \u001b[0;32mnot\u001b[0m \u001b[0;32min\u001b[0m \u001b[0msheet\u001b[0m\u001b[0;34m]\u001b[0m\u001b[0;34m\u001b[0m\u001b[0;34m\u001b[0m\u001b[0m\n\u001b[1;32m      3\u001b[0m \u001b[0mdata_bis\u001b[0m \u001b[0;34m=\u001b[0m \u001b[0;34m{\u001b[0m\u001b[0;34m}\u001b[0m\u001b[0;34m\u001b[0m\u001b[0;34m\u001b[0m\u001b[0m\n\u001b[1;32m      4\u001b[0m \u001b[0;32mfor\u001b[0m \u001b[0mparam\u001b[0m \u001b[0;32min\u001b[0m \u001b[0mparameters\u001b[0m\u001b[0;34m:\u001b[0m\u001b[0;34m\u001b[0m\u001b[0;34m\u001b[0m\u001b[0m\n\u001b[1;32m      5\u001b[0m     \u001b[0mprint\u001b[0m\u001b[0;34m(\u001b[0m\u001b[0mparam\u001b[0m\u001b[0;34m)\u001b[0m\u001b[0;34m\u001b[0m\u001b[0;34m\u001b[0m\u001b[0m\n",
      "\u001b[0;31mNameError\u001b[0m: name 'pd' is not defined"
     ]
    }
   ],
   "source": [
    "xl = pd.ExcelFile(\"example.xlsx\")\n",
    "parameters = [sheet for sheet in xl.sheet_names if 'meta' not in sheet]\n",
    "data_bis = {}\n",
    "for param in parameters:\n",
    "    data_bis[param] = {}\n",
    "    data_bis[param]['data'] = xl.parse(param, header=None, index_col=0)[1].to_dict()\n",
    "    meta_params = xl.parse(f'{param}_meta', header=None, index_col=0)[1].to_dict()\n",
    "    data_bis[param].update(meta_params)"
   ]
  },
  {
   "cell_type": "code",
   "execution_count": null,
   "metadata": {
    "ExecuteTime": {
     "end_time": "2020-12-04T03:11:01.313194Z",
     "start_time": "2020-12-04T03:11:01.301162Z"
    }
   },
   "outputs": [],
   "source": [
    "data_bis['TEST']"
   ]
  },
  {
   "cell_type": "code",
   "execution_count": null,
   "metadata": {},
   "outputs": [],
   "source": []
  }
 ],
 "metadata": {
  "kernelspec": {
   "display_name": "Python 3",
   "language": "python",
   "name": "python3"
  },
  "language_info": {
   "codemirror_mode": {
    "name": "ipython",
    "version": 3
   },
   "file_extension": ".py",
   "mimetype": "text/x-python",
   "name": "python",
   "nbconvert_exporter": "python",
   "pygments_lexer": "ipython3",
   "version": "3.7.7"
  }
 },
 "nbformat": 4,
 "nbformat_minor": 4
}
