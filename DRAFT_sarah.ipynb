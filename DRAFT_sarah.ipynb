{
 "cells": [
  {
   "cell_type": "code",
   "execution_count": 24,
   "metadata": {
    "ExecuteTime": {
     "end_time": "2020-12-10T02:13:37.782323Z",
     "start_time": "2020-12-10T02:13:37.777113Z"
    }
   },
   "outputs": [],
   "source": [
    "from graphmodels.utils import parse_parameter_json\n",
    "from graphmodels.graphmodel import GraphModel\n",
    "from models.Sarah.model_agricultural_water import AgriculturalWaterNodes\n",
    "from models.Sarah.model_freshwater_available import FreshwaterAvailableNodes\n",
    "from models.Sarah.model_municipal_water import MunicipalWaterNodes"
   ]
  },
  {
   "cell_type": "code",
   "execution_count": 25,
   "metadata": {
    "ExecuteTime": {
     "end_time": "2020-12-10T02:13:37.987429Z",
     "start_time": "2020-12-10T02:13:37.977788Z"
    },
    "code_folding": [
     0
    ]
   },
   "outputs": [],
   "source": [
    "# More efficient function\n",
    "from functools import partial, reduce\n",
    "\n",
    "def compose(*functions):\n",
    "    return reduce(lambda f, g: lambda x: f(g(X=x)), functions, lambda x: x)\n",
    "\n",
    "def node_function(node, X):\n",
    "    X = X.copy()\n",
    "    function, out_node = node['formula'], node['out']\n",
    "    X[out_node] = function(X)\n",
    "    return X\n",
    "\n",
    "def model_function(G):\n",
    "    '''The function computed by the model'''\n",
    "    functions_list = [partial(node_function, node=G.nodes[node_id]) for node_id in G.node_ordering[::-1]]\n",
    "    return compose(*functions_list)\n",
    "    return functions_list\n",
    "\n"
   ]
  },
  {
   "cell_type": "code",
   "execution_count": 26,
   "metadata": {
    "ExecuteTime": {
     "end_time": "2020-12-10T02:13:38.179804Z",
     "start_time": "2020-12-10T02:13:38.171082Z"
    }
   },
   "outputs": [],
   "source": [
    "WaterModelNodes = AgriculturalWaterNodes + FreshwaterAvailableNodes + MunicipalWaterNodes\n",
    "\n",
    "WaterModel = GraphModel(WaterModelNodes)\n",
    "WaterModel_function = model_function(WaterModel)"
   ]
  },
  {
   "cell_type": "code",
   "execution_count": 27,
   "metadata": {
    "ExecuteTime": {
     "end_time": "2020-12-10T02:13:38.613954Z",
     "start_time": "2020-12-10T02:13:38.602910Z"
    }
   },
   "outputs": [],
   "source": [
    "parameters = parse_parameter_json('models/Sarah/parameter_water.json')\n",
    "inputs = {'PLIR': 0, 'PSPIR': 1, 'PSIR': 0,\n",
    "          'ET':0, 'A':0, 'WSE': 0.85, 'ASF': 3, 'BF': 6}\n",
    "\n",
    "X = parameters.copy()\n",
    "X.update(inputs)\n",
    "\n",
    "results = WaterModel_function(X)"
   ]
  },
  {
   "cell_type": "code",
   "execution_count": 28,
   "metadata": {
    "ExecuteTime": {
     "end_time": "2020-12-10T02:13:40.126073Z",
     "start_time": "2020-12-10T02:13:40.112487Z"
    }
   },
   "outputs": [
    {
     "data": {
      "text/plain": [
       "{'AGVA': 5374740677.76024,\n",
       " 'AIR': 101400,\n",
       " 'ARice': 0,\n",
       " 'ASCAPEX': 27400000,\n",
       " 'ASE': 0.7333,\n",
       " 'ASOPEX': 0.35,\n",
       " 'ASTC': 3000,\n",
       " 'BMCAPEX': 10700000,\n",
       " 'BME': 0.85,\n",
       " 'BMOPEX': 0.58,\n",
       " 'BMTC': 10950,\n",
       " 'CI': 1,\n",
       " 'DW': 200000,\n",
       " 'EFR': 46100000000,\n",
       " 'ERWR': 98000000000,\n",
       " 'ETa': 445,\n",
       " 'ETo': 835,\n",
       " 'GDPC': 14457.61,\n",
       " 'GW': 6000000000,\n",
       " 'IGVA': 36229461921.5353,\n",
       " 'IWU': 3358000000,\n",
       " 'KC': Fruits               0.767267\n",
       " Maize                1.200000\n",
       " Pasture permanent    0.625000\n",
       " Potatoes             0.952000\n",
       " Pulses               0.634000\n",
       " Rapeseed             0.533333\n",
       " Sugar beet           0.751667\n",
       " Sunflower            0.350000\n",
       " Vegetables           0.850000\n",
       " dtype: float64,\n",
       " 'LWU': 0,\n",
       " 'Overlap': 6000000000,\n",
       " 'P': 1.5,\n",
       " 'Pop': 9787966,\n",
       " 'SGVA': 77210620672.9018,\n",
       " 'SW': 6000000000,\n",
       " 'TC': 4500000,\n",
       " 'TW': 200000,\n",
       " 'UAB1': 0.947,\n",
       " 'Upop': 0.71,\n",
       " 'WRR': 0.63,\n",
       " 'PLIR': 0,\n",
       " 'PSPIR': 1,\n",
       " 'PSIR': 0,\n",
       " 'ET': 0,\n",
       " 'A': 0,\n",
       " 'WSE': 0.85,\n",
       " 'ASF': 3,\n",
       " 'BF': 6,\n",
       " 'BMTW': 55845.0,\n",
       " 'BMIC': 43090100.0,\n",
       " 'ASTW': 6599.7,\n",
       " 'ASIC': 29709895.0,\n",
       " 'PIC': 72799995.0,\n",
       " 'TTC': 62444.7,\n",
       " 'TTW': 62444700.0,\n",
       " 'TNCW': 400000,\n",
       " 'S': 0.0,\n",
       " 'IRWR': 6000000000.0,\n",
       " 'TRF': 104000000000.0,\n",
       " 'TFA': 104000400000.0,\n",
       " 'MWUD': 72.36415453767154,\n",
       " 'MWU': 708297884.2334747,\n",
       " 'MWC': 602053201.5984535,\n",
       " 'UW': 404802511.1587522,\n",
       " 'UTW': 342357811.1587522,\n",
       " 'WUEs': 109.0086846107972,\n",
       " 'WUEi': 10.788999976633502,\n",
       " 'Ai': 0.022533333333333332,\n",
       " 'Cr': 0.9914292959175048,\n",
       " 'ETc': Fruits                640.667667\n",
       " Maize                1002.000000\n",
       " Pasture permanent     521.875000\n",
       " Potatoes              794.920000\n",
       " Pulses                529.390000\n",
       " Rapeseed              445.333333\n",
       " Sugar beet            627.641667\n",
       " Sunflower             292.250000\n",
       " Vegetables            709.750000\n",
       " dtype: float64,\n",
       " 'ICU': Fruits               195.667667\n",
       " Maize                557.000000\n",
       " Pasture permanent     76.875000\n",
       " Potatoes             349.920000\n",
       " Pulses                84.390000\n",
       " Rapeseed               0.333333\n",
       " Sugar beet           182.641667\n",
       " Sunflower           -152.750000\n",
       " Vegetables           264.750000\n",
       " dtype: float64,\n",
       " 'IWR': 158065125.40000004,\n",
       " 'IWW': 250897024.4444445,\n",
       " 'AWU': 250897024.4444445,\n",
       " 'WUEa': 0.18360246388427226,\n",
       " 'TWW': 4317194908.677919,\n",
       " 'Natural EW2': 7.456295179063764,\n",
       " 'EW2': 7.456243667881257,\n",
       " 'Ps': 0.1640643749509056,\n",
       " 'Pi': 0.7778198740228619,\n",
       " 'Pa': 0.058115751026232496,\n",
       " 'EW 1': 26.287010502627474}"
      ]
     },
     "execution_count": 28,
     "metadata": {},
     "output_type": "execute_result"
    }
   ],
   "source": [
    "results"
   ]
  }
 ],
 "metadata": {
  "kernelspec": {
   "display_name": "Python 3",
   "language": "python",
   "name": "python3"
  },
  "language_info": {
   "codemirror_mode": {
    "name": "ipython",
    "version": 3
   },
   "file_extension": ".py",
   "mimetype": "text/x-python",
   "name": "python",
   "nbconvert_exporter": "python",
   "pygments_lexer": "ipython3",
   "version": "3.7.7"
  }
 },
 "nbformat": 4,
 "nbformat_minor": 4
}
