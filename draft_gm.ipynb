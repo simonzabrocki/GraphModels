{
 "cells": [
  {
   "cell_type": "code",
   "execution_count": 1,
   "metadata": {
    "ExecuteTime": {
     "end_time": "2021-05-14T02:20:09.891708Z",
     "start_time": "2021-05-14T02:20:08.391069Z"
    }
   },
   "outputs": [],
   "source": [
    "from ggmodel_dev.models.greengrowth import GGGM"
   ]
  },
  {
   "cell_type": "code",
   "execution_count": 2,
   "metadata": {
    "ExecuteTime": {
     "end_time": "2021-05-14T02:20:09.898624Z",
     "start_time": "2021-05-14T02:20:09.892995Z"
    }
   },
   "outputs": [],
   "source": [
    "from ggmodel_dev.models.utils import all_model_properties_df, all_model_dictionary"
   ]
  },
  {
   "cell_type": "code",
   "execution_count": 3,
   "metadata": {
    "ExecuteTime": {
     "end_time": "2021-05-14T02:20:10.611139Z",
     "start_time": "2021-05-14T02:20:10.580755Z"
    }
   },
   "outputs": [
    {
     "data": {
      "text/html": [
       "<div>\n",
       "<style scoped>\n",
       "    .dataframe tbody tr th:only-of-type {\n",
       "        vertical-align: middle;\n",
       "    }\n",
       "\n",
       "    .dataframe tbody tr th {\n",
       "        vertical-align: top;\n",
       "    }\n",
       "\n",
       "    .dataframe thead th {\n",
       "        text-align: right;\n",
       "    }\n",
       "</style>\n",
       "<table border=\"1\" class=\"dataframe\">\n",
       "  <thead>\n",
       "    <tr style=\"text-align: right;\">\n",
       "      <th></th>\n",
       "      <th>model</th>\n",
       "      <th>description</th>\n",
       "      <th>display_name</th>\n",
       "      <th>model</th>\n",
       "      <th>model_group</th>\n",
       "      <th>indicator</th>\n",
       "      <th>status</th>\n",
       "    </tr>\n",
       "  </thead>\n",
       "  <tbody>\n",
       "    <tr>\n",
       "      <th>0</th>\n",
       "      <td>BE2_model</td>\n",
       "      <td>Land use change is a consequence of changes in...</td>\n",
       "      <td>Change in Land Use</td>\n",
       "      <td>BE2_model</td>\n",
       "      <td>Landuse</td>\n",
       "      <td>BE2</td>\n",
       "      <td>✔️</td>\n",
       "    </tr>\n",
       "    <tr>\n",
       "      <th>1</th>\n",
       "      <td>BE3_model</td>\n",
       "      <td>The change in above group biomass is calculate...</td>\n",
       "      <td>Change in above group Biomass</td>\n",
       "      <td>BE3_model</td>\n",
       "      <td>Landuse</td>\n",
       "      <td>BE3</td>\n",
       "      <td>🚧</td>\n",
       "    </tr>\n",
       "    <tr>\n",
       "      <th>2</th>\n",
       "      <td>SL1_model</td>\n",
       "      <td>The nutrient balance consist of nutrient in- a...</td>\n",
       "      <td>Nutrient Balance</td>\n",
       "      <td>SL1_model</td>\n",
       "      <td>Landuse</td>\n",
       "      <td>BE3</td>\n",
       "      <td>🚧</td>\n",
       "    </tr>\n",
       "    <tr>\n",
       "      <th>3</th>\n",
       "      <td>GE3_model</td>\n",
       "      <td>This model calculates the different agricultur...</td>\n",
       "      <td>Agricultural Non-CO2 Emissions</td>\n",
       "      <td>GE3_model</td>\n",
       "      <td>Landuse</td>\n",
       "      <td>GE3</td>\n",
       "      <td>🚧</td>\n",
       "    </tr>\n",
       "    <tr>\n",
       "      <th>4</th>\n",
       "      <td>EW1_partial_model</td>\n",
       "      <td>Total water use efficiency is dependent by the...</td>\n",
       "      <td>Water Use Efficiency</td>\n",
       "      <td>EW1_partial_model</td>\n",
       "      <td>Water</td>\n",
       "      <td>EW1</td>\n",
       "      <td>✔️</td>\n",
       "    </tr>\n",
       "    <tr>\n",
       "      <th>5</th>\n",
       "      <td>EW2_partial_model</td>\n",
       "      <td>A country’s total freshwater availability incl...</td>\n",
       "      <td>Freshwater Availability</td>\n",
       "      <td>EW2_Partial_model</td>\n",
       "      <td>Water</td>\n",
       "      <td>EW2</td>\n",
       "      <td>✔️</td>\n",
       "    </tr>\n",
       "    <tr>\n",
       "      <th>6</th>\n",
       "      <td>EW_model</td>\n",
       "      <td>This model calculates the water use efficiency...</td>\n",
       "      <td>Efficient Water</td>\n",
       "      <td>EW_model</td>\n",
       "      <td>Water</td>\n",
       "      <td>EW</td>\n",
       "      <td>✔️</td>\n",
       "    </tr>\n",
       "    <tr>\n",
       "      <th>7</th>\n",
       "      <td>IWW_model</td>\n",
       "      <td>This sub-model calculates the agricultural wat...</td>\n",
       "      <td>Agricultural Water Withdrawal</td>\n",
       "      <td>IWW_model</td>\n",
       "      <td>Water</td>\n",
       "      <td>EW</td>\n",
       "      <td>✔️</td>\n",
       "    </tr>\n",
       "    <tr>\n",
       "      <th>8</th>\n",
       "      <td>MWU_model</td>\n",
       "      <td>Municipal water withdrawal is calculated by th...</td>\n",
       "      <td>Municipal Water Use</td>\n",
       "      <td>MWU_model</td>\n",
       "      <td>Water</td>\n",
       "      <td>EW</td>\n",
       "      <td>✔️</td>\n",
       "    </tr>\n",
       "    <tr>\n",
       "      <th>9</th>\n",
       "      <td>GGGM_model</td>\n",
       "      <td>This model is the global green growth model. I...</td>\n",
       "      <td>Green Growth Model</td>\n",
       "      <td>GGGM_model</td>\n",
       "      <td>Green Growth</td>\n",
       "      <td>GGI</td>\n",
       "      <td>🚧</td>\n",
       "    </tr>\n",
       "  </tbody>\n",
       "</table>\n",
       "</div>"
      ],
      "text/plain": [
       "               model                                        description  \\\n",
       "0          BE2_model  Land use change is a consequence of changes in...   \n",
       "1          BE3_model  The change in above group biomass is calculate...   \n",
       "2          SL1_model  The nutrient balance consist of nutrient in- a...   \n",
       "3          GE3_model  This model calculates the different agricultur...   \n",
       "4  EW1_partial_model  Total water use efficiency is dependent by the...   \n",
       "5  EW2_partial_model  A country’s total freshwater availability incl...   \n",
       "6           EW_model  This model calculates the water use efficiency...   \n",
       "7          IWW_model  This sub-model calculates the agricultural wat...   \n",
       "8          MWU_model  Municipal water withdrawal is calculated by th...   \n",
       "9         GGGM_model  This model is the global green growth model. I...   \n",
       "\n",
       "                     display_name              model   model_group indicator  \\\n",
       "0              Change in Land Use          BE2_model       Landuse       BE2   \n",
       "1   Change in above group Biomass          BE3_model       Landuse       BE3   \n",
       "2                Nutrient Balance          SL1_model       Landuse       BE3   \n",
       "3  Agricultural Non-CO2 Emissions          GE3_model       Landuse       GE3   \n",
       "4            Water Use Efficiency  EW1_partial_model         Water       EW1   \n",
       "5         Freshwater Availability  EW2_Partial_model         Water       EW2   \n",
       "6                 Efficient Water           EW_model         Water        EW   \n",
       "7   Agricultural Water Withdrawal         IWW_model          Water        EW   \n",
       "8             Municipal Water Use          MWU_model         Water        EW   \n",
       "9              Green Growth Model         GGGM_model  Green Growth       GGI   \n",
       "\n",
       "  status  \n",
       "0     ✔️  \n",
       "1      🚧  \n",
       "2      🚧  \n",
       "3      🚧  \n",
       "4     ✔️  \n",
       "5     ✔️  \n",
       "6     ✔️  \n",
       "7     ✔️  \n",
       "8     ✔️  \n",
       "9      🚧  "
      ]
     },
     "execution_count": 3,
     "metadata": {},
     "output_type": "execute_result"
    }
   ],
   "source": [
    "all_model_properties_df"
   ]
  },
  {
   "cell_type": "code",
   "execution_count": 4,
   "metadata": {
    "ExecuteTime": {
     "end_time": "2021-05-14T02:20:10.978658Z",
     "start_time": "2021-05-14T02:20:10.970470Z"
    }
   },
   "outputs": [
    {
     "data": {
      "text/plain": [
       "{'TCLDi_model': <ggmodel_dev.graphmodel.GraphModel at 0x7f48b0432710>,\n",
       " 'TCLDi_partial_model': <ggmodel_dev.graphmodel.GraphModel at 0x7f48b0432710>,\n",
       " 'FPi_model': <ggmodel_dev.graphmodel.GraphModel at 0x7f48af9b13d0>,\n",
       " 'IL_FL_model': <ggmodel_dev.graphmodel.GraphModel at 0x7f48b3ee9750>,\n",
       " 'BE2_partial_model': <ggmodel_dev.graphmodel.GraphModel at 0x7f48af9ff910>,\n",
       " 'BE2_model': <ggmodel_dev.graphmodel.GraphModel at 0x7f48afa20f50>,\n",
       " 'BE3_model': <ggmodel_dev.graphmodel.GraphModel at 0x7f48afa2a190>,\n",
       " 'SL1_model': <ggmodel_dev.graphmodel.GraphModel at 0x7f48afa2a750>,\n",
       " 'TMi_model': <ggmodel_dev.graphmodel.GraphModel at 0x7f48afa0d410>,\n",
       " 'TAi_model': <ggmodel_dev.graphmodel.GraphModel at 0x7f48afa0d150>,\n",
       " 'M_xi_model': <ggmodel_dev.graphmodel.GraphModel at 0x7f48af99d890>,\n",
       " 'TMP_CO2eq_model': <ggmodel_dev.graphmodel.GraphModel at 0x7f48af99d550>,\n",
       " 'TMT_CO2eq_model': <ggmodel_dev.graphmodel.GraphModel at 0x7f48af9a71d0>,\n",
       " 'TMA_CO2eq_model': <ggmodel_dev.graphmodel.GraphModel at 0x7f48af9a7f90>,\n",
       " 'TEE_CO2eq_model': <ggmodel_dev.graphmodel.GraphModel at 0x7f48af9a7110>,\n",
       " 'FE_CO2eq_model': <ggmodel_dev.graphmodel.GraphModel at 0x7f48af9ade50>,\n",
       " 'GE3_partial_model': <ggmodel_dev.graphmodel.GraphModel at 0x7f48af9aded0>,\n",
       " 'GE3_model': <ggmodel_dev.graphmodel.GraphModel at 0x7f48af9ada90>,\n",
       " 'IWW_model': <ggmodel_dev.graphmodel.GraphModel at 0x7f48af9db990>,\n",
       " 'EW1_partial_model': <ggmodel_dev.graphmodel.GraphModel at 0x7f48af9ba610>,\n",
       " 'EW2_partial_model': <ggmodel_dev.graphmodel.GraphModel at 0x7f48af9ebfd0>,\n",
       " 'EW1_model': <ggmodel_dev.graphmodel.GraphModel at 0x7f48af9c8150>,\n",
       " 'EW2_model': <ggmodel_dev.graphmodel.GraphModel at 0x7f48af9c8350>,\n",
       " 'EW_model': <ggmodel_dev.graphmodel.GraphModel at 0x7f48af9c89d0>,\n",
       " 'GGGM_model': <ggmodel_dev.graphmodel.GraphModel at 0x7f48afd45050>}"
      ]
     },
     "execution_count": 4,
     "metadata": {},
     "output_type": "execute_result"
    }
   ],
   "source": [
    "all_model_dictionary"
   ]
  },
  {
   "cell_type": "code",
   "execution_count": null,
   "metadata": {},
   "outputs": [],
   "source": []
  }
 ],
 "metadata": {
  "kernelspec": {
   "display_name": "Python 3",
   "language": "python",
   "name": "python3"
  },
  "language_info": {
   "codemirror_mode": {
    "name": "ipython",
    "version": 3
   },
   "file_extension": ".py",
   "mimetype": "text/x-python",
   "name": "python",
   "nbconvert_exporter": "python",
   "pygments_lexer": "ipython3",
   "version": "3.7.7"
  }
 },
 "nbformat": 4,
 "nbformat_minor": 4
}
