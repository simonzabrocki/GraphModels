{
 "cells": [
  {
   "cell_type": "code",
   "execution_count": null,
   "metadata": {
    "ExecuteTime": {
     "end_time": "2021-05-14T02:13:44.521576Z",
     "start_time": "2021-05-14T02:13:43.082784Z"
    }
   },
   "outputs": [],
   "source": [
    "from ggmodel_dev.models.greengrowth import GGGM"
   ]
  },
  {
   "cell_type": "code",
   "execution_count": null,
   "metadata": {
    "ExecuteTime": {
     "end_time": "2021-05-14T02:13:44.529768Z",
     "start_time": "2021-05-14T02:13:44.523134Z"
    }
   },
   "outputs": [],
   "source": [
    "from ggmodel_dev.models.utils import all_model_properties_df"
   ]
  },
  {
   "cell_type": "code",
   "execution_count": null,
   "metadata": {
    "ExecuteTime": {
     "end_time": "2021-05-14T02:13:47.723978Z",
     "start_time": "2021-05-14T02:13:47.691869Z"
    }
   },
   "outputs": [],
   "source": [
    "all_model_properties_df"
   ]
  },
  {
   "cell_type": "code",
   "execution_count": null,
   "metadata": {
    "ExecuteTime": {
     "end_time": "2021-05-14T02:11:46.265717Z",
     "start_time": "2021-05-14T02:11:46.253993Z"
    }
   },
   "outputs": [],
   "source": [
    "all_model_properties"
   ]
  },
  {
   "cell_type": "code",
   "execution_count": null,
   "metadata": {},
   "outputs": [],
   "source": []
  }
 ],
 "metadata": {
  "kernelspec": {
   "display_name": "Python 3",
   "language": "python",
   "name": "python3"
  },
  "language_info": {
   "codemirror_mode": {
    "name": "ipython",
    "version": 3
   },
   "file_extension": ".py",
   "mimetype": "text/x-python",
   "name": "python",
   "nbconvert_exporter": "python",
   "pygments_lexer": "ipython3",
   "version": "3.7.7"
  }
 },
 "nbformat": 4,
 "nbformat_minor": 4
}
