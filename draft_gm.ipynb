{
 "cells": [
  {
   "cell_type": "code",
   "execution_count": 1,
   "metadata": {
    "ExecuteTime": {
     "end_time": "2021-05-03T01:57:09.091811Z",
     "start_time": "2021-05-03T01:57:09.086727Z"
    }
   },
   "outputs": [],
   "source": [
    "from ggmodel_dev.models.water import EW\n",
    "from ggmodel_dev.models.landuse import BE2, GE3, SL1_BE3"
   ]
  },
  {
   "cell_type": "code",
   "execution_count": 2,
   "metadata": {
    "ExecuteTime": {
     "end_time": "2021-05-03T01:57:16.474756Z",
     "start_time": "2021-05-03T01:57:16.467287Z"
    }
   },
   "outputs": [
    {
     "output_type": "execute_result",
     "data": {
      "text/plain": [
       "{'TMi_model': <ggmodel_dev.graphmodel.GraphModel at 0x7f646e50e610>,\n",
       " 'TAi_model': <ggmodel_dev.graphmodel.GraphModel at 0x7f646e4edd50>,\n",
       " 'M_xi_model': <ggmodel_dev.graphmodel.GraphModel at 0x7f646e4d1c50>,\n",
       " 'TMP_CO2eq_model': <ggmodel_dev.graphmodel.GraphModel at 0x7f646e4d13d0>,\n",
       " 'TMT_CO2eq_model': <ggmodel_dev.graphmodel.GraphModel at 0x7f646e498f50>,\n",
       " 'TMA_CO2eq_model': <ggmodel_dev.graphmodel.GraphModel at 0x7f646e498e10>,\n",
       " 'TEE_CO2eq_model': <ggmodel_dev.graphmodel.GraphModel at 0x7f646e498390>,\n",
       " 'FE_CO2eq_model': <ggmodel_dev.graphmodel.GraphModel at 0x7f646e498fd0>,\n",
       " 'GE3_partial_model': <ggmodel_dev.graphmodel.GraphModel at 0x7f646e4a6f90>,\n",
       " 'GE3_model': <ggmodel_dev.graphmodel.GraphModel at 0x7f646e4a6cd0>}"
      ]
     },
     "metadata": {},
     "execution_count": 2
    }
   ],
   "source": [
    "GE3.model_dictionnary"
   ]
  },
  {
   "cell_type": "code",
   "execution_count": 3,
   "metadata": {
    "ExecuteTime": {
     "end_time": "2021-05-03T01:57:22.294240Z",
     "start_time": "2021-05-03T01:57:22.287967Z"
    }
   },
   "outputs": [
    {
     "output_type": "execute_result",
     "data": {
      "text/plain": [
       "{'GE3_model': {'description': 'This model calculates the different agricultural non-CO2 emissions using emission factors. To compare the different greenhouse gasses, they are converted to their respective CO2-equivalent using their global-warming potential in relative to CO2. From the total animal populations that are calculated in the food demand (FDTi) model, methane (CH4) emissions from enteric fermentation are computed. The total animal stocks are also used to compute the total manure that is produced per animal. Total manure production is used to compute the CH4 and nitrous oxide (N2O) emissions from manure that is treated, left on the pasture, and applied to the soils. In addition, N2O emissions from fertilizer use and other CH4 and N2O emissions that are not yet included are added. After summing, all the emissions are divided by total population to compute the GE3 indicator:  the ratio of non-CO2 emissions in agriculture to population.',\n",
       "  'display_name': 'Agricultural Non-CO2 Emissions',\n",
       "  'model': 'GE3_model',\n",
       "  'model_group': 'AFOLU',\n",
       "  'status': '✔️'}}"
      ]
     },
     "metadata": {},
     "execution_count": 3
    }
   ],
   "source": [
    "GE3.model_properties"
   ]
  },
  {
   "cell_type": "code",
   "execution_count": null,
   "metadata": {},
   "outputs": [],
   "source": []
  }
 ],
 "metadata": {
  "kernelspec": {
   "display_name": "Python 3",
   "language": "python",
   "name": "python3"
  },
  "language_info": {
   "codemirror_mode": {
    "name": "ipython",
    "version": 3
   },
   "file_extension": ".py",
   "mimetype": "text/x-python",
   "name": "python",
   "nbconvert_exporter": "python",
   "pygments_lexer": "ipython3",
   "version": "3.7.7"
  }
 },
 "nbformat": 4,
 "nbformat_minor": 4
}