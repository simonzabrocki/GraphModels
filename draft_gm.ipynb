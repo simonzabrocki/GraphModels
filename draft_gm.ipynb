{
 "cells": [
  {
   "cell_type": "code",
   "execution_count": 1,
   "metadata": {},
   "outputs": [],
   "source": [
    "from models.water import EW\n",
    "from models.landuse import BE2, GE3, SL1_BE3\n",
    "from models.FULL import model_dictionnary\n",
    "\n",
    "from graphmodels.graphmodel import GraphModel, merge_models"
   ]
  },
  {
   "cell_type": "code",
   "execution_count": 2,
   "metadata": {},
   "outputs": [],
   "source": [
    "EW1_nodes = {'IWU': {'type': 'input',\n",
    "                     'name': 'Industrial Water Withdrawal',\n",
    "                     'unit': '1e9 m3/year'},\n",
    "             'MWU': {'type': 'input',\n",
    "                     'name': 'Municipal Water Withdrawal',\n",
    "                     'unit': '1e9 m3/year'},\n",
    "             'MW': {'type': 'input',\n",
    "                     'name': 'Municipal Water Withdrawal',\n",
    "                     'unit': '1e9 m3/year'},\n",
    "             'AWU': {'type': 'input',\n",
    "                     'name': 'Agricultural Water Withdrawal',\n",
    "                     'unit': '1e9 m3/year'},\n",
    "             'TWW': {'type': 'variable',\n",
    "                     'name': 'Total Water Withdrawal',\n",
    "                     'unit': '1e9 m3/year',\n",
    "                     'computation': lambda AWU, IWU, MWU, **kwargs: AWU + IWU + MWU\n",
    "                     },\n",
    "             'AGVA': {'type': 'parameter',\n",
    "                      'name': 'Agricultural Gross Value Added',\n",
    "                      'unit': '$'},\n",
    "             'IGVA': {'type': 'parameter',\n",
    "                      'name': 'Industrial Gross Value Added',\n",
    "                      'unit': '$'},\n",
    "             'SGVA': {'type': 'parameter',\n",
    "                      'name': 'Service Sector Gross Value Added',\n",
    "                      'unit': '$'},\n",
    "             'EW1': {'type': 'output',\n",
    "                     'name': 'Water Use Efficiency',\n",
    "                     'unit': '$/(m3/year)',\n",
    "                     'computation': lambda TWW, IGVA, SGVA, AGVA, **kwargs: (IGVA + SGVA + AGVA) / (TWW * 1e9)\n",
    "                     }\n",
    "            }\n",
    "\n",
    "EW1_model = GraphModel(EW1_nodes)"
   ]
  },
  {
   "cell_type": "code",
   "execution_count": null,
   "metadata": {},
   "outputs": [],
   "source": []
  }
 ],
 "metadata": {
  "kernelspec": {
   "display_name": "Python 3",
   "language": "python",
   "name": "python3"
  },
  "language_info": {
   "codemirror_mode": {
    "name": "ipython",
    "version": 3
   },
   "file_extension": ".py",
   "mimetype": "text/x-python",
   "name": "python",
   "nbconvert_exporter": "python",
   "pygments_lexer": "ipython3",
   "version": "3.7.7"
  }
 },
 "nbformat": 4,
 "nbformat_minor": 4
}